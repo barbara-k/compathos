{
 "cells": [
  {
   "cell_type": "markdown",
   "metadata": {
    "id": "xySgSosu0FOO"
   },
   "source": [
    "# Imports"
   ]
  },
  {
   "cell_type": "code",
   "execution_count": 2,
   "metadata": {},
   "outputs": [],
   "source": [
    "fig_num = 0"
   ]
  },
  {
   "cell_type": "code",
   "execution_count": 3,
   "metadata": {
    "id": "zk5M6g4B0G0R"
   },
   "outputs": [],
   "source": [
    "import pandas as pd\n",
    "pd.set_option(\"max_colwidth\", 160)\n",
    "pd.set_option(\"display.max_columns\", None)\n",
    "\n",
    "import numpy as np\n",
    "\n",
    "import warnings\n",
    "warnings.filterwarnings('ignore')\n",
    "\n",
    "import matplotlib.pyplot as plt\n",
    "import seaborn as sns\n",
    "sns.set_theme(style=\"whitegrid\")\n",
    "plt.style.use(\"seaborn-talk\")\n",
    "\n",
    "\n",
    "\n",
    "def load_data(file_path, indx = True, indx_col = 0):\n",
    "  '''Parameters:\n",
    "  file_path: path to your excel or csv file with data,\n",
    "\n",
    "  indx: boolean - whether there is index column in your file (usually it is the first column) --> *by default it is set to True\n",
    "  \n",
    "  indx_col: int - if your file has an index column, specify column number here --> *by default it is equal to 0 (first column)\n",
    "  '''\n",
    "  if indx == True and file_path.endswith(\".xlsx\"):\n",
    "    data = pd.read_excel(file_path, index_col = indx_col)\n",
    "  elif indx == False and file_path.endswith(\".xlsx\"):\n",
    "    data = pd.read_excel(file_path)\n",
    "\n",
    "  elif indx == True and file_path.endswith(\".csv\"):\n",
    "    data = pd.read_csv(file_path, index_col = indx_col)\n",
    "  elif indx == False and file_path.endswith(\".csv\"):\n",
    "    data = pd.read_csv(file_path)\n",
    "  return data\n"
   ]
  },
  {
   "cell_type": "code",
   "execution_count": 18,
   "metadata": {
    "id": "W2Nf4FBJ1uX7"
   },
   "outputs": [],
   "source": [
    "def lemmatization(dataframe, text_column):\n",
    "  '''Parameters:\n",
    "  dataframe: dataframe with your data,\n",
    "  \n",
    "  text_column: column of a dataframe where text is located\n",
    "  '''\n",
    "  df = dataframe.copy()\n",
    "  lemmas = []\n",
    "  for doc in nlp.pipe(df[text_column].apply(str)):\n",
    "    lemmas.append(\" \".join([token.lemma_ for token in doc if (not token.is_punct and not token.is_stop and not token.like_num and len(token) > 1) ]))\n",
    "  df[text_column+\"_lemmatized\"] = lemmas\n",
    "  return df\n",
    "\n",
    "\n",
    "# this function by analogy to ENG debates for polarity / valence measures\n",
    "def get_valence_scores(data, content_lemmatized_column, affective_database, db_words = \"Word\"):\n",
    "  '''Parameters: \n",
    "  dataframe: dataframe with your data,\n",
    "\n",
    "  content_lemmatized_column: str - name of a column in dataframe where word-lemmas are listed, \n",
    "  \n",
    "  affective_database_path: str - path to a file with affective database, \n",
    "  \n",
    "  db_words: str - name of a column in affective database where words are listed, \n",
    "  '''  \n",
    "  dataframe = data.copy()\n",
    "  #affective_database = load_data(affective_database_path)\n",
    "\n",
    "  emotion_values = [\"Valence_standardized\"]\n",
    "  used_cols = [db_words] + emotion_values\n",
    "\n",
    "  affective_database_valence = affective_database[used_cols]\n",
    "  affective_database_valence.set_index(db_words, inplace=True)\n",
    "  affective_database_valence_words = affective_database[db_words].tolist()\n",
    "\n",
    "  neg_valence_scores = []\n",
    "  pos_valence_scores = []\n",
    "\n",
    "  overall_scores_pos = []\n",
    "  overall_scores_neg = []\n",
    "  overall_scores = []\n",
    "\n",
    "  for row in dataframe[content_lemmatized_column]:\n",
    "    words_emo = row.split()\n",
    "    if len(row) > 0:\n",
    "      scores = affective_database_valence.loc[words_emo]\n",
    "\n",
    "      neg_score = scores.where(scores[\"Valence_standardized\"].round(1) < -0.5).count()[0]\n",
    "      neg_valence_scores.append(neg_score)\n",
    "\n",
    "      pos_score = scores.where(scores[\"Valence_standardized\"].round(1) > 1).count()[0]\n",
    "      pos_valence_scores.append(pos_score)\n",
    "\n",
    "      neg_score2 = abs(scores.where(scores[\"Valence_standardized\"] < -0.5).mean()[0])\n",
    "      if not (neg_score2 >= 0 and neg_score2 <= 4):\n",
    "        neg_score2 = 0\n",
    "\n",
    "      pos_score2 = scores.where(scores[\"Valence_standardized\"] > 1).mean()[0]\n",
    "      if not (pos_score2 >= 0 and pos_score2 <= 4):\n",
    "        pos_score2 = 0\n",
    "\n",
    "      overall_scores_pos.append(pos_score2)\n",
    "      overall_scores_neg.append(neg_score2)\n",
    "      if pos_score2 > neg_score2:\n",
    "        overall_scores.append(pos_score2)\n",
    "      elif pos_score2 < neg_score2:\n",
    "        overall_scores.append(neg_score2 * -1)\n",
    "      elif pos_score2 == neg_score2:\n",
    "        overall_scores.append(0)\n",
    "\n",
    "    else:\n",
    "      neg_score=pos_score=polarity_score=score_overall = np.NaN\n",
    "      overall_scores.append(score_overall)\n",
    "      overall_scores_pos.append(score_overall)\n",
    "      overall_scores_neg.append(score_overall)\n",
    "      neg_valence_scores.append(neg_score)\n",
    "      pos_valence_scores.append(pos_score)\n",
    "\n",
    "  dataframe[\"content_valence_score\"] = overall_scores\n",
    "  dataframe[\"content_valence_score_pos\"] = overall_scores_pos\n",
    "  dataframe[\"content_valence_score_neg\"] = overall_scores_neg\n",
    "  dataframe[\"content_valence_negative\"] = neg_valence_scores\n",
    "  dataframe[\"content_valence_positive\"] = pos_valence_scores\n",
    "  return dataframe  \n"
   ]
  },
  {
   "cell_type": "code",
   "execution_count": 3,
   "metadata": {},
   "outputs": [
    {
     "name": "stdout",
     "output_type": "stream",
     "text": [
      "[+] Download and installation successful\n",
      "You can now load the package via spacy.load('pl_core_news_md')\n"
     ]
    },
    {
     "name": "stderr",
     "output_type": "stream",
     "text": [
      "\n",
      "[notice] A new release of pip available: 22.2.2 -> 22.3.1\n",
      "[notice] To update, run: python.exe -m pip install --upgrade pip\n"
     ]
    }
   ],
   "source": [
    "!python -m spacy download pl_core_news_md --quiet\n"
   ]
  },
  {
   "cell_type": "code",
   "execution_count": 4,
   "metadata": {
    "colab": {
     "base_uri": "https://localhost:8080/"
    },
    "id": "Ui0pNlQz1n_f",
    "outputId": "6708ee1b-a64b-4cfc-c311-14cac6ee96e7"
   },
   "outputs": [],
   "source": [
    "\n",
    "import spacy\n",
    "\n",
    "# load SPACY model\n",
    "nlp = spacy.load('pl_core_news_md')"
   ]
  },
  {
   "cell_type": "code",
   "execution_count": 5,
   "metadata": {
    "id": "Poi4Sk_s5bAK"
   },
   "outputs": [],
   "source": [
    "def clean_text(df, text_column):\n",
    "  import re\n",
    "  new_texts = []\n",
    "  for text in df[text_column]:\n",
    "    text_list = str(text).lower().split(\" \")\n",
    "    new_string_list = []\n",
    "    for word in text_list:\n",
    "      if 'http' in word:\n",
    "        word = \"url\"\n",
    "      elif ('@' in word) and (len(word) > 1):\n",
    "        word = \"user\"\n",
    "      if (len(word) > 1) and not (word.isnumeric()):\n",
    "        new_string_list.append(word)\n",
    "    new_string = \" \".join(new_string_list)\n",
    "    new_string = re.sub(\"\\d+\", \" \", new_string)\n",
    "    new_string = new_string.replace('\\n', ' ')\n",
    "    new_string = new_string.replace('\\r', ' ')\n",
    "    new_string = new_string.strip()\n",
    "    new_texts.append(new_string)\n",
    "  df[text_column] = new_texts\n",
    "  return df"
   ]
  },
  {
   "cell_type": "markdown",
   "metadata": {
    "id": "pUr40Blb0JjL"
   },
   "source": [
    "# Merge single datasets"
   ]
  },
  {
   "cell_type": "code",
   "execution_count": 148,
   "metadata": {},
   "outputs": [
    {
     "data": {
      "text/plain": [
       "(205701, 21)"
      ]
     },
     "execution_count": 148,
     "metadata": {},
     "output_type": "execute_result"
    }
   ],
   "source": [
    "df1 = pd.read_csv(r\"C:\\Users\\user1\\Downloads\\gazeta2_cln.csv\", index_col=0)\n",
    "df1.shape"
   ]
  },
  {
   "cell_type": "code",
   "execution_count": 149,
   "metadata": {},
   "outputs": [
    {
     "data": {
      "text/plain": [
       "(647289, 22)"
      ]
     },
     "execution_count": 149,
     "metadata": {},
     "output_type": "execute_result"
    }
   ],
   "source": [
    "df2 = pd.read_csv(r\"C:\\Users\\user1\\Downloads\\interia2_cln.csv\", index_col=0)\n",
    "df2.shape"
   ]
  },
  {
   "cell_type": "code",
   "execution_count": 197,
   "metadata": {},
   "outputs": [
    {
     "data": {
      "text/plain": [
       "(1599878, 22)"
      ]
     },
     "execution_count": 197,
     "metadata": {},
     "output_type": "execute_result"
    }
   ],
   "source": [
    "df3 = pd.read_csv(r\"C:\\Users\\user1\\Downloads\\interia1_cln.csv\", index_col=0)\n",
    "df3.shape"
   ]
  },
  {
   "cell_type": "code",
   "execution_count": 1,
   "metadata": {},
   "outputs": [],
   "source": [
    "df = pd.concat( [df1, df2, df3], axis=0, ignore_index=True )\n",
    "df.head(2)"
   ]
  },
  {
   "cell_type": "code",
   "execution_count": 214,
   "metadata": {},
   "outputs": [
    {
     "data": {
      "text/plain": [
       "(2452868, 24)"
      ]
     },
     "execution_count": 214,
     "metadata": {},
     "output_type": "execute_result"
    }
   ],
   "source": [
    "df = df_all.reset_index(drop=True)\n",
    "df.to_csv(r\"C:\\Users\\user1\\Downloads\\wnpid_all.csv\")\n",
    "df.shape"
   ]
  },
  {
   "cell_type": "code",
   "execution_count": 263,
   "metadata": {},
   "outputs": [
    {
     "data": {
      "text/plain": [
       "3     628300\n",
       "6     396646\n",
       "7     386781\n",
       "5     319533\n",
       "10    223087\n",
       "8     218733\n",
       "9     209304\n",
       "11     67698\n",
       "1       1500\n",
       "2       1286\n",
       "Name: month, dtype: int64"
      ]
     },
     "execution_count": 263,
     "metadata": {},
     "output_type": "execute_result"
    }
   ],
   "source": [
    "df['month'].value_counts()"
   ]
  },
  {
   "cell_type": "markdown",
   "metadata": {
    "id": "WCYAcUwB0_cp"
   },
   "source": [
    "# Data single"
   ]
  },
  {
   "cell_type": "code",
   "execution_count": 6,
   "metadata": {
    "colab": {
     "base_uri": "https://localhost:8080/"
    },
    "id": "4GXtaDGgz3Tb",
    "outputId": "4ca1024b-f626-4d2c-d7b4-f7f57e10217a"
   },
   "outputs": [
    {
     "data": {
      "text/plain": [
       "(3041841, 8)"
      ]
     },
     "execution_count": 6,
     "metadata": {},
     "output_type": "execute_result"
    }
   ],
   "source": [
    "df = pd.read_csv(r\"C:\\Users\\user1\\Downloads\\interia1.csv\", index_col=0)\n",
    "df.shape"
   ]
  },
  {
   "cell_type": "code",
   "execution_count": 8,
   "metadata": {},
   "outputs": [
    {
     "data": {
      "text/plain": [
       "(2452007, 8)"
      ]
     },
     "execution_count": 8,
     "metadata": {},
     "output_type": "execute_result"
    }
   ],
   "source": [
    "df = df.drop_duplicates(['content'])\n",
    "df.shape"
   ]
  },
  {
   "cell_type": "code",
   "execution_count": 9,
   "metadata": {
    "colab": {
     "base_uri": "https://localhost:8080/"
    },
    "id": "xtV7o-6vDE8B",
    "outputId": "90d0081e-3bf9-4dd2-d3a3-93fbcfc3b571"
   },
   "outputs": [
    {
     "data": {
      "text/plain": [
       "3     733426\n",
       "6     455743\n",
       "5     364219\n",
       "7     286624\n",
       "8       6210\n",
       "9       4854\n",
       "10      1601\n",
       "Name: month, dtype: int64"
      ]
     },
     "execution_count": 9,
     "metadata": {},
     "output_type": "execute_result"
    }
   ],
   "source": [
    "df['month'] = pd.to_datetime(df.datetime).dt.month\n",
    "df = df[df.month.isin([1, 2, 3, 5, 6, 7, 8, 9, 10, 11])]\n",
    "#df['month'] = np.where(df['month'].isin([5, 6]), 6, df['month'])\n",
    "df['month'].value_counts()"
   ]
  },
  {
   "cell_type": "code",
   "execution_count": 10,
   "metadata": {},
   "outputs": [
    {
     "data": {
      "text/plain": [
       "(1852677, 9)"
      ]
     },
     "execution_count": 10,
     "metadata": {},
     "output_type": "execute_result"
    }
   ],
   "source": [
    "df.shape"
   ]
  },
  {
   "cell_type": "code",
   "execution_count": 11,
   "metadata": {},
   "outputs": [
    {
     "data": {
      "text/plain": [
       "(1769872, 9)"
      ]
     },
     "execution_count": 11,
     "metadata": {},
     "output_type": "execute_result"
    }
   ],
   "source": [
    "df['content'] = df['content'].apply(str)\n",
    "df = df[df.content.str.split().map(len) > 2]\n",
    "df.shape"
   ]
  },
  {
   "cell_type": "code",
   "execution_count": 12,
   "metadata": {},
   "outputs": [
    {
     "data": {
      "text/plain": [
       "(1752708, 9)"
      ]
     },
     "execution_count": 12,
     "metadata": {},
     "output_type": "execute_result"
    }
   ],
   "source": [
    "df = clean_text(df, 'content')\n",
    "df = df[df.content.str.split().map(len) > 2]\n",
    "df.shape"
   ]
  },
  {
   "cell_type": "code",
   "execution_count": 13,
   "metadata": {},
   "outputs": [
    {
     "data": {
      "text/plain": [
       "(1733609, 9)"
      ]
     },
     "execution_count": 13,
     "metadata": {},
     "output_type": "execute_result"
    }
   ],
   "source": [
    "df = df.drop_duplicates(['content'])\n",
    "df.shape"
   ]
  },
  {
   "cell_type": "code",
   "execution_count": 15,
   "metadata": {},
   "outputs": [],
   "source": [
    "##\n",
    "\n",
    "df.iloc[:, 5:].to_csv(r\"C:\\Users\\user1\\Downloads\\interia1_cln.csv\")"
   ]
  },
  {
   "cell_type": "code",
   "execution_count": 2,
   "metadata": {
    "colab": {
     "base_uri": "https://localhost:8080/",
     "height": 580
    },
    "id": "u1cbxHoe6rNb",
    "outputId": "077e7e7c-06ca-4949-d02a-cc5a1c6e4d22"
   },
   "outputs": [],
   "source": [
    "df = lemmatization(df, 'content')"
   ]
  },
  {
   "cell_type": "code",
   "execution_count": 23,
   "metadata": {},
   "outputs": [],
   "source": [
    "##\n",
    "\n",
    "df.iloc[:, 5:].to_csv(r\"C:\\Users\\user1\\Downloads\\interia1_cln.csv\")"
   ]
  },
  {
   "cell_type": "code",
   "execution_count": 151,
   "metadata": {},
   "outputs": [
    {
     "name": "stdout",
     "output_type": "stream",
     "text": [
      "(10806, 4)\n"
     ]
    },
    {
     "data": {
      "text/html": [
       "<div>\n",
       "<style scoped>\n",
       "    .dataframe tbody tr th:only-of-type {\n",
       "        vertical-align: middle;\n",
       "    }\n",
       "\n",
       "    .dataframe tbody tr th {\n",
       "        vertical-align: top;\n",
       "    }\n",
       "\n",
       "    .dataframe thead th {\n",
       "        text-align: right;\n",
       "    }\n",
       "</style>\n",
       "<table border=\"1\" class=\"dataframe\">\n",
       "  <thead>\n",
       "    <tr style=\"text-align: right;\">\n",
       "      <th></th>\n",
       "      <th>Word</th>\n",
       "      <th>Database</th>\n",
       "      <th>Valence</th>\n",
       "      <th>Valence_standardized</th>\n",
       "    </tr>\n",
       "  </thead>\n",
       "  <tbody>\n",
       "    <tr>\n",
       "      <th>0</th>\n",
       "      <td>Maczkowy</td>\n",
       "      <td>Sentimenti</td>\n",
       "      <td>0.566481</td>\n",
       "      <td>0.419659</td>\n",
       "    </tr>\n",
       "    <tr>\n",
       "      <th>1</th>\n",
       "      <td>abderyta</td>\n",
       "      <td>Sentimenti</td>\n",
       "      <td>0.402546</td>\n",
       "      <td>-0.553951</td>\n",
       "    </tr>\n",
       "  </tbody>\n",
       "</table>\n",
       "</div>"
      ],
      "text/plain": [
       "       Word    Database   Valence  Valence_standardized\n",
       "0  Maczkowy  Sentimenti  0.566481              0.419659\n",
       "1  abderyta  Sentimenti  0.402546             -0.553951"
      ]
     },
     "execution_count": 151,
     "metadata": {},
     "output_type": "execute_result"
    }
   ],
   "source": [
    "affdb = load_data(r\"C:\\Users\\user1\\Downloads\\valence_db.xlsx\")\n",
    "print(affdb.shape)\n",
    "affdb.head(2)"
   ]
  },
  {
   "cell_type": "code",
   "execution_count": 152,
   "metadata": {},
   "outputs": [
    {
     "data": {
      "text/plain": [
       "(4960, 4)"
      ]
     },
     "execution_count": 152,
     "metadata": {},
     "output_type": "execute_result"
    }
   ],
   "source": [
    "affdb2 = affdb[ (affdb.Valence_standardized < -0.5) | (affdb.Valence_standardized > 1) ]\n",
    "affdb2.shape"
   ]
  },
  {
   "cell_type": "code",
   "execution_count": 153,
   "metadata": {},
   "outputs": [
    {
     "data": {
      "text/plain": [
       "array(['abderyta', 'aberracyjny', 'absmak', 'absurd', 'absurdalny'],\n",
       "      dtype=object)"
      ]
     },
     "execution_count": 153,
     "metadata": {},
     "output_type": "execute_result"
    }
   ],
   "source": [
    "affdb2['Word'] = affdb2['Word'].str.lower()\n",
    "aff_words = affdb2['Word'].values\n",
    "aff_words[:5]"
   ]
  },
  {
   "cell_type": "code",
   "execution_count": 27,
   "metadata": {},
   "outputs": [
    {
     "data": {
      "text/plain": [
       "523    nieszczęśliwy miłość gej\n",
       "524                         gej\n",
       "525               pobić partner\n",
       "Name: valence_words, dtype: object"
      ]
     },
     "execution_count": 27,
     "metadata": {},
     "output_type": "execute_result"
    }
   ],
   "source": [
    "#emotive_words = [word for word in lemmas_list if word in affective_database_valence_words]\n",
    "\n",
    "df['valence_words'] = df['content_lemmatized'].apply(lambda x: \" \".join( [w for w in str(x).split() if w in aff_words] ))\n",
    "df['valence_words'].iloc[500:503]"
   ]
  },
  {
   "cell_type": "code",
   "execution_count": 28,
   "metadata": {},
   "outputs": [
    {
     "data": {
      "text/plain": [
       "(1599878, 11)"
      ]
     },
     "execution_count": 28,
     "metadata": {},
     "output_type": "execute_result"
    }
   ],
   "source": [
    "df = df[df.content_lemmatized.str.split().map(len) > 2]\n",
    "df.shape"
   ]
  },
  {
   "cell_type": "code",
   "execution_count": 31,
   "metadata": {},
   "outputs": [],
   "source": [
    "##\n",
    "\n",
    "df.iloc[:, 5:].to_csv(r\"C:\\Users\\user1\\Downloads\\interia1_cln.csv\")"
   ]
  },
  {
   "cell_type": "code",
   "execution_count": 154,
   "metadata": {},
   "outputs": [
    {
     "data": {
      "text/html": [
       "<div>\n",
       "<style scoped>\n",
       "    .dataframe tbody tr th:only-of-type {\n",
       "        vertical-align: middle;\n",
       "    }\n",
       "\n",
       "    .dataframe tbody tr th {\n",
       "        vertical-align: top;\n",
       "    }\n",
       "\n",
       "    .dataframe thead th {\n",
       "        text-align: right;\n",
       "    }\n",
       "</style>\n",
       "<table border=\"1\" class=\"dataframe\">\n",
       "  <thead>\n",
       "    <tr style=\"text-align: right;\">\n",
       "      <th></th>\n",
       "      <th>Database</th>\n",
       "      <th>Valence</th>\n",
       "      <th>Valence_standardized</th>\n",
       "    </tr>\n",
       "    <tr>\n",
       "      <th>Word</th>\n",
       "      <th></th>\n",
       "      <th></th>\n",
       "      <th></th>\n",
       "    </tr>\n",
       "  </thead>\n",
       "  <tbody>\n",
       "    <tr>\n",
       "      <th>adopcja</th>\n",
       "      <td>Sentimenti</td>\n",
       "      <td>0.829397</td>\n",
       "      <td>1.98111</td>\n",
       "    </tr>\n",
       "    <tr>\n",
       "      <th>akademicki</th>\n",
       "      <td>Sentimenti</td>\n",
       "      <td>0.666014</td>\n",
       "      <td>1.01078</td>\n",
       "    </tr>\n",
       "  </tbody>\n",
       "</table>\n",
       "</div>"
      ],
      "text/plain": [
       "              Database   Valence  Valence_standardized\n",
       "Word                                                  \n",
       "adopcja     Sentimenti  0.829397               1.98111\n",
       "akademicki  Sentimenti  0.666014               1.01078"
      ]
     },
     "execution_count": 154,
     "metadata": {},
     "output_type": "execute_result"
    }
   ],
   "source": [
    "neg_words = set(affdb[ (affdb.Valence_standardized < -0.5) ]['Word'].values)\n",
    "pos_words = set(affdb[ (affdb.Valence_standardized > 1) ]['Word'].values)\n",
    "\n",
    "neg_affdb = affdb[ (affdb.Valence_standardized < -0.5)].set_index('Word')\n",
    "pos_affdb = affdb[ (affdb.Valence_standardized > 1) ].set_index('Word')\n",
    "pos_affdb.head(2)"
   ]
  },
  {
   "cell_type": "code",
   "execution_count": 252,
   "metadata": {},
   "outputs": [
    {
     "data": {
      "text/plain": [
       "((196854, 24), (2256014, 24))"
      ]
     },
     "execution_count": 252,
     "metadata": {},
     "output_type": "execute_result"
    }
   ],
   "source": [
    "#df_null_val = df[df['valence_words'].isna()]\n",
    "#df_full_val = df[ ~(df['valence_words'].isna())]\n",
    "\n",
    "df_null_val = df_all[df_all['valence_words'] == 'nan']\n",
    "df_full_val = df_all[df_all['valence_words'] != 'nan']\n",
    "\n",
    "df_null_val.shape, df_full_val.shape"
   ]
  },
  {
   "cell_type": "code",
   "execution_count": 256,
   "metadata": {
    "id": "-NZNhthw9XaP"
   },
   "outputs": [],
   "source": [
    "# 1st method --  faster to compute\n",
    "\n",
    "\n",
    "df_full_val['valence_words'] = df_full_val['valence_words'].apply(str)\n",
    "df_null_val['valence_words'] = df_null_val['valence_words'].apply(str)\n",
    "\n",
    "#df_full_val['neg_valence_words'] = df_full_val['valence_words'].apply(lambda x: \" \".join( set(str(x).split()).intersection(neg_words) ))\n",
    "#df_full_val['pos_valence_words'] = df_full_val['valence_words'].apply(lambda x: \" \".join( set(str(x).split()).intersection(pos_words) ))\n",
    "df_full_val['neg_valence_words'] = df_full_val['valence_words'].apply(lambda x: \" \".join( [w for w in str(x).split() if w in neg_words]) )\n",
    "df_full_val['pos_valence_words'] = df_full_val['valence_words'].apply(lambda x: \" \".join( [w for w in str(x).split() if w in pos_words]) )\n",
    "\n",
    "\n",
    "df_full_val['content_valence_negative'] = df_full_val['neg_valence_words'].str.split().map(len)\n",
    "df_full_val['content_valence_positive'] = df_full_val['pos_valence_words'].str.split().map(len)\n",
    "df_full_val['content_valence_negative'] = np.where(df_full_val.valence_words.str.split().map(len) > 0, df_full_val['content_valence_negative'], np.nan)\n",
    "df_full_val['content_valence_positive'] = np.where(df_full_val.valence_words.str.split().map(len) > 0, df_full_val['content_valence_positive'], np.nan)\n",
    "\n",
    "\n",
    "df_full_val['content_valence_score_neg'] = df_full_val.neg_valence_words.apply(lambda x: np.abs(neg_affdb.loc[ str(x).split() ]['Valence_standardized'].mean()))\n",
    "df_full_val['content_valence_score_pos'] = df_full_val.pos_valence_words.apply(lambda x: np.abs(pos_affdb.loc[ str(x).split() ]['Valence_standardized'].mean()))\n",
    "df_full_val['content_valence_score_neg'] = df_full_val['content_valence_score_neg'].fillna(0)\n",
    "df_full_val['content_valence_score_pos'] = df_full_val['content_valence_score_pos'].fillna(0)\n",
    "\n",
    "df_full_val['content_valence_score'] = np.where(df_full_val['content_valence_score_neg'] > df_full_val['content_valence_score_pos'], df_full_val['content_valence_score_neg']*-1, 0)\n",
    "df_full_val['content_valence_score'] = np.where(df_full_val['content_valence_score_neg'] < df_full_val['content_valence_score_pos'], df_full_val['content_valence_score_pos'], df_full_val['content_valence_score'])\n"
   ]
  },
  {
   "cell_type": "code",
   "execution_count": 31,
   "metadata": {
    "colab": {
     "base_uri": "https://localhost:8080/"
    },
    "id": "NDgJXOoO1ALQ",
    "outputId": "99ad2848-1e5e-46bf-fc6d-21199debc385"
   },
   "outputs": [
    {
     "name": "stdout",
     "output_type": "stream",
     "text": [
      "valence_words\n"
     ]
    },
    {
     "data": {
      "text/html": [
       "<div>\n",
       "<style scoped>\n",
       "    .dataframe tbody tr th:only-of-type {\n",
       "        vertical-align: middle;\n",
       "    }\n",
       "\n",
       "    .dataframe tbody tr th {\n",
       "        vertical-align: top;\n",
       "    }\n",
       "\n",
       "    .dataframe thead th {\n",
       "        text-align: right;\n",
       "    }\n",
       "</style>\n",
       "<table border=\"1\" class=\"dataframe\">\n",
       "  <thead>\n",
       "    <tr style=\"text-align: right;\">\n",
       "      <th></th>\n",
       "      <th>nestedReplies</th>\n",
       "      <th>votesRank</th>\n",
       "      <th>votesCount</th>\n",
       "      <th>replies</th>\n",
       "      <th>author</th>\n",
       "      <th>id</th>\n",
       "      <th>parentId</th>\n",
       "      <th>content</th>\n",
       "      <th>timestamp</th>\n",
       "      <th>month</th>\n",
       "      <th>content_lemmatized</th>\n",
       "      <th>valence_words</th>\n",
       "      <th>content_valence_score</th>\n",
       "      <th>content_valence_score_pos</th>\n",
       "      <th>content_valence_score_neg</th>\n",
       "      <th>content_valence_negative</th>\n",
       "      <th>content_valence_positive</th>\n",
       "    </tr>\n",
       "  </thead>\n",
       "  <tbody>\n",
       "    <tr>\n",
       "      <th>1370</th>\n",
       "      <td>0</td>\n",
       "      <td>4</td>\n",
       "      <td>4</td>\n",
       "      <td>0</td>\n",
       "      <td>mawik_net</td>\n",
       "      <td>59304307</td>\n",
       "      <td>59304103</td>\n",
       "      <td>user ze względu na pandemię strach było jechać do włoch lub grecji gdyby był wybór, to na pewno nie byłby bałtyk. lipcu było zimno.</td>\n",
       "      <td>2020-11-17 18:27:57</td>\n",
       "      <td>11</td>\n",
       "      <td>user wzgląd pandemia strach jechać włochy grecja wybór pewno być by Bałtyk lipiec zimno</td>\n",
       "      <td>strach włochy zimno</td>\n",
       "      <td>-1.256616</td>\n",
       "      <td>1.121130</td>\n",
       "      <td>1.256616</td>\n",
       "      <td>2</td>\n",
       "      <td>1</td>\n",
       "    </tr>\n",
       "    <tr>\n",
       "      <th>1371</th>\n",
       "      <td>0</td>\n",
       "      <td>3</td>\n",
       "      <td>3</td>\n",
       "      <td>0</td>\n",
       "      <td>eselk</td>\n",
       "      <td>59304524</td>\n",
       "      <td>59304103</td>\n",
       "      <td>user samo mówią, że nie jadają maku, między gorzowem, szczecinem latem nie ma jak zatankować.</td>\n",
       "      <td>2020-11-17 18:42:55</td>\n",
       "      <td>11</td>\n",
       "      <td>user samo mówić jadać mak gorzowo szczecinem lato zatankować</td>\n",
       "      <td>lato</td>\n",
       "      <td>1.944089</td>\n",
       "      <td>1.944089</td>\n",
       "      <td>0.000000</td>\n",
       "      <td>0</td>\n",
       "      <td>1</td>\n",
       "    </tr>\n",
       "    <tr>\n",
       "      <th>1372</th>\n",
       "      <td>0</td>\n",
       "      <td>3</td>\n",
       "      <td>3</td>\n",
       "      <td>0</td>\n",
       "      <td>ladychapel</td>\n",
       "      <td>59304157</td>\n",
       "      <td>0</td>\n",
       "      <td>jezeli baltyk to tylko neringa, gdzie kilometr na prawo kilometr na lewo nikogo innego</td>\n",
       "      <td>2020-11-17 18:13:22</td>\n",
       "      <td>11</td>\n",
       "      <td>baltyk neringa kilometr prawo kilometra lewo nikt inny</td>\n",
       "      <td>lewo nikt</td>\n",
       "      <td>-1.636472</td>\n",
       "      <td>0.000000</td>\n",
       "      <td>1.636472</td>\n",
       "      <td>2</td>\n",
       "      <td>0</td>\n",
       "    </tr>\n",
       "  </tbody>\n",
       "</table>\n",
       "</div>"
      ],
      "text/plain": [
       "      nestedReplies  votesRank  votesCount  replies      author        id  \\\n",
       "1370              0          4           4        0   mawik_net  59304307   \n",
       "1371              0          3           3        0       eselk  59304524   \n",
       "1372              0          3           3        0  ladychapel  59304157   \n",
       "\n",
       "      parentId  \\\n",
       "1370  59304103   \n",
       "1371  59304103   \n",
       "1372         0   \n",
       "\n",
       "                                                                                                                                  content  \\\n",
       "1370  user ze względu na pandemię strach było jechać do włoch lub grecji gdyby był wybór, to na pewno nie byłby bałtyk. lipcu było zimno.   \n",
       "1371                                        user samo mówią, że nie jadają maku, między gorzowem, szczecinem latem nie ma jak zatankować.   \n",
       "1372                                               jezeli baltyk to tylko neringa, gdzie kilometr na prawo kilometr na lewo nikogo innego   \n",
       "\n",
       "                timestamp  month  \\\n",
       "1370  2020-11-17 18:27:57     11   \n",
       "1371  2020-11-17 18:42:55     11   \n",
       "1372  2020-11-17 18:13:22     11   \n",
       "\n",
       "                                                                           content_lemmatized  \\\n",
       "1370  user wzgląd pandemia strach jechać włochy grecja wybór pewno być by Bałtyk lipiec zimno   \n",
       "1371                             user samo mówić jadać mak gorzowo szczecinem lato zatankować   \n",
       "1372                                   baltyk neringa kilometr prawo kilometra lewo nikt inny   \n",
       "\n",
       "            valence_words  content_valence_score  content_valence_score_pos  \\\n",
       "1370  strach włochy zimno              -1.256616                   1.121130   \n",
       "1371                 lato               1.944089                   1.944089   \n",
       "1372            lewo nikt              -1.636472                   0.000000   \n",
       "\n",
       "      content_valence_score_neg  content_valence_negative  \\\n",
       "1370                   1.256616                         2   \n",
       "1371                   0.000000                         0   \n",
       "1372                   1.636472                         2   \n",
       "\n",
       "      content_valence_positive  \n",
       "1370                         1  \n",
       "1371                         1  \n",
       "1372                         0  "
      ]
     },
     "execution_count": 31,
     "metadata": {},
     "output_type": "execute_result"
    }
   ],
   "source": [
    "# 2nd method: with a dedicated function -- slower bc of the \"for loop\"\n",
    "\n",
    "\n",
    "cols_literal2 = {'valence_words'} \n",
    "\n",
    "for col in cols_literal2:\n",
    "  print(col)\n",
    "  df_full_val = get_valence_scores(df_full_val, content_lemmatized_column = col, \n",
    "                        affective_database = affdb2)\n",
    "\n",
    "df_full_val.head(3)"
   ]
  },
  {
   "cell_type": "code",
   "execution_count": 259,
   "metadata": {},
   "outputs": [
    {
     "data": {
      "text/plain": [
       "(2452868, 24)"
      ]
     },
     "execution_count": 259,
     "metadata": {},
     "output_type": "execute_result"
    }
   ],
   "source": [
    "df = pd.concat( [df_full_val, df_null_val], axis=0 )\n",
    "df.shape"
   ]
  },
  {
   "cell_type": "code",
   "execution_count": 313,
   "metadata": {
    "colab": {
     "base_uri": "https://localhost:8080/"
    },
    "id": "z00ZtWnv-s_3",
    "outputId": "35ee4135-822c-434e-fe66-575cb4721dcf"
   },
   "outputs": [
    {
     "data": {
      "text/plain": [
       "(2452868, 24)"
      ]
     },
     "execution_count": 313,
     "metadata": {},
     "output_type": "execute_result"
    }
   ],
   "source": [
    "df = df.reset_index(drop=True)\n",
    "df.shape"
   ]
  },
  {
   "cell_type": "code",
   "execution_count": 315,
   "metadata": {
    "id": "irmLMi7qEgUZ"
   },
   "outputs": [],
   "source": [
    "df['neg_percent'] = (df.content_valence_negative / df.content_lemmatized.str.split().map(len)) * 100\n",
    "df['pos_percent'] = (df.content_valence_positive / df.content_lemmatized.str.split().map(len)) * 100"
   ]
  },
  {
   "cell_type": "code",
   "execution_count": 316,
   "metadata": {
    "colab": {
     "base_uri": "https://localhost:8080/",
     "height": 300
    },
    "id": "Mb6NXsKFHfg8",
    "outputId": "55d49482-96f9-4014-f25a-8b440f6259bf"
   },
   "outputs": [
    {
     "data": {
      "text/html": [
       "<div>\n",
       "<style scoped>\n",
       "    .dataframe tbody tr th:only-of-type {\n",
       "        vertical-align: middle;\n",
       "    }\n",
       "\n",
       "    .dataframe tbody tr th {\n",
       "        vertical-align: top;\n",
       "    }\n",
       "\n",
       "    .dataframe thead th {\n",
       "        text-align: right;\n",
       "    }\n",
       "</style>\n",
       "<table border=\"1\" class=\"dataframe\">\n",
       "  <thead>\n",
       "    <tr style=\"text-align: right;\">\n",
       "      <th></th>\n",
       "      <th>neg_percent</th>\n",
       "      <th>pos_percent</th>\n",
       "    </tr>\n",
       "  </thead>\n",
       "  <tbody>\n",
       "    <tr>\n",
       "      <th>count</th>\n",
       "      <td>1835419.000</td>\n",
       "      <td>1835419.000</td>\n",
       "    </tr>\n",
       "    <tr>\n",
       "      <th>mean</th>\n",
       "      <td>11.103</td>\n",
       "      <td>10.569</td>\n",
       "    </tr>\n",
       "    <tr>\n",
       "      <th>std</th>\n",
       "      <td>11.037</td>\n",
       "      <td>10.868</td>\n",
       "    </tr>\n",
       "    <tr>\n",
       "      <th>min</th>\n",
       "      <td>0.000</td>\n",
       "      <td>0.000</td>\n",
       "    </tr>\n",
       "    <tr>\n",
       "      <th>25%</th>\n",
       "      <td>0.000</td>\n",
       "      <td>0.000</td>\n",
       "    </tr>\n",
       "    <tr>\n",
       "      <th>50%</th>\n",
       "      <td>9.091</td>\n",
       "      <td>8.333</td>\n",
       "    </tr>\n",
       "    <tr>\n",
       "      <th>75%</th>\n",
       "      <td>16.667</td>\n",
       "      <td>16.667</td>\n",
       "    </tr>\n",
       "    <tr>\n",
       "      <th>max</th>\n",
       "      <td>100.000</td>\n",
       "      <td>100.000</td>\n",
       "    </tr>\n",
       "  </tbody>\n",
       "</table>\n",
       "</div>"
      ],
      "text/plain": [
       "       neg_percent  pos_percent\n",
       "count  1835419.000  1835419.000\n",
       "mean        11.103       10.569\n",
       "std         11.037       10.868\n",
       "min          0.000        0.000\n",
       "25%          0.000        0.000\n",
       "50%          9.091        8.333\n",
       "75%         16.667       16.667\n",
       "max        100.000      100.000"
      ]
     },
     "execution_count": 316,
     "metadata": {},
     "output_type": "execute_result"
    }
   ],
   "source": [
    "df.loc[:, ['neg_percent', 'pos_percent']].describe().round(3)"
   ]
  },
  {
   "cell_type": "code",
   "execution_count": 268,
   "metadata": {
    "colab": {
     "base_uri": "https://localhost:8080/",
     "height": 237
    },
    "id": "JZz5St-oEWlr",
    "outputId": "f008e0c9-a359-4410-e68f-8f0359ee8e98"
   },
   "outputs": [
    {
     "data": {
      "text/html": [
       "<div>\n",
       "<style scoped>\n",
       "    .dataframe tbody tr th:only-of-type {\n",
       "        vertical-align: middle;\n",
       "    }\n",
       "\n",
       "    .dataframe tbody tr th {\n",
       "        vertical-align: top;\n",
       "    }\n",
       "\n",
       "    .dataframe thead th {\n",
       "        text-align: right;\n",
       "    }\n",
       "</style>\n",
       "<table border=\"1\" class=\"dataframe\">\n",
       "  <thead>\n",
       "    <tr style=\"text-align: right;\">\n",
       "      <th></th>\n",
       "      <th>pos_percent</th>\n",
       "      <th>neg_percent</th>\n",
       "      <th>content_valence_score_pos</th>\n",
       "      <th>content_valence_score_neg</th>\n",
       "    </tr>\n",
       "    <tr>\n",
       "      <th>month</th>\n",
       "      <th></th>\n",
       "      <th></th>\n",
       "      <th></th>\n",
       "      <th></th>\n",
       "    </tr>\n",
       "  </thead>\n",
       "  <tbody>\n",
       "    <tr>\n",
       "      <th>1</th>\n",
       "      <td>9.359413</td>\n",
       "      <td>12.080457</td>\n",
       "      <td>1.000722</td>\n",
       "      <td>1.142976</td>\n",
       "    </tr>\n",
       "    <tr>\n",
       "      <th>2</th>\n",
       "      <td>9.858131</td>\n",
       "      <td>13.159801</td>\n",
       "      <td>1.013896</td>\n",
       "      <td>1.169615</td>\n",
       "    </tr>\n",
       "    <tr>\n",
       "      <th>3</th>\n",
       "      <td>8.430677</td>\n",
       "      <td>9.313789</td>\n",
       "      <td>0.736084</td>\n",
       "      <td>0.779956</td>\n",
       "    </tr>\n",
       "    <tr>\n",
       "      <th>5</th>\n",
       "      <td>8.198359</td>\n",
       "      <td>8.477688</td>\n",
       "      <td>0.752868</td>\n",
       "      <td>0.736647</td>\n",
       "    </tr>\n",
       "    <tr>\n",
       "      <th>6</th>\n",
       "      <td>8.157385</td>\n",
       "      <td>7.788242</td>\n",
       "      <td>0.746694</td>\n",
       "      <td>0.667642</td>\n",
       "    </tr>\n",
       "    <tr>\n",
       "      <th>7</th>\n",
       "      <td>8.882049</td>\n",
       "      <td>8.551185</td>\n",
       "      <td>0.824045</td>\n",
       "      <td>0.754341</td>\n",
       "    </tr>\n",
       "    <tr>\n",
       "      <th>8</th>\n",
       "      <td>10.598550</td>\n",
       "      <td>11.628228</td>\n",
       "      <td>1.002443</td>\n",
       "      <td>1.024599</td>\n",
       "    </tr>\n",
       "    <tr>\n",
       "      <th>9</th>\n",
       "      <td>10.447130</td>\n",
       "      <td>11.956535</td>\n",
       "      <td>0.996122</td>\n",
       "      <td>1.041797</td>\n",
       "    </tr>\n",
       "    <tr>\n",
       "      <th>10</th>\n",
       "      <td>10.379787</td>\n",
       "      <td>11.988601</td>\n",
       "      <td>0.999556</td>\n",
       "      <td>1.055360</td>\n",
       "    </tr>\n",
       "    <tr>\n",
       "      <th>11</th>\n",
       "      <td>9.914497</td>\n",
       "      <td>10.756622</td>\n",
       "      <td>1.017434</td>\n",
       "      <td>0.990604</td>\n",
       "    </tr>\n",
       "  </tbody>\n",
       "</table>\n",
       "</div>"
      ],
      "text/plain": [
       "       pos_percent  neg_percent  content_valence_score_pos  \\\n",
       "month                                                        \n",
       "1         9.359413    12.080457                   1.000722   \n",
       "2         9.858131    13.159801                   1.013896   \n",
       "3         8.430677     9.313789                   0.736084   \n",
       "5         8.198359     8.477688                   0.752868   \n",
       "6         8.157385     7.788242                   0.746694   \n",
       "7         8.882049     8.551185                   0.824045   \n",
       "8        10.598550    11.628228                   1.002443   \n",
       "9        10.447130    11.956535                   0.996122   \n",
       "10       10.379787    11.988601                   0.999556   \n",
       "11        9.914497    10.756622                   1.017434   \n",
       "\n",
       "       content_valence_score_neg  \n",
       "month                             \n",
       "1                       1.142976  \n",
       "2                       1.169615  \n",
       "3                       0.779956  \n",
       "5                       0.736647  \n",
       "6                       0.667642  \n",
       "7                       0.754341  \n",
       "8                       1.024599  \n",
       "9                       1.041797  \n",
       "10                      1.055360  \n",
       "11                      0.990604  "
      ]
     },
     "execution_count": 268,
     "metadata": {},
     "output_type": "execute_result"
    }
   ],
   "source": [
    "df.groupby(['month'])[['pos_percent', 'neg_percent', 'content_valence_score_pos',  'content_valence_score_neg']].mean()"
   ]
  },
  {
   "cell_type": "code",
   "execution_count": 317,
   "metadata": {
    "id": "TOHFDdWxJwMj"
   },
   "outputs": [],
   "source": [
    "df['content_valence_score_neg'] = df['content_valence_score_neg']*10\n",
    "df['content_valence_score_pos'] = df['content_valence_score_pos']*10"
   ]
  },
  {
   "attachments": {
    "image-20221110-103729.png": {
     "image/png": "[encoded data removed]"
    }
   },
   "cell_type": "markdown",
   "metadata": {},
   "source": [
    "![image-20221110-103729.png](attachment:image-20221110-103729.png)"
   ]
  },
  {
   "cell_type": "code",
   "execution_count": 271,
   "metadata": {
    "id": "vkwxcVh8CKQ8"
   },
   "outputs": [],
   "source": [
    "sond_dob = {\n",
    "    1:24, 2:25, \n",
    "    3:30, 5:22, 6:24,\n",
    "    7:27, 8:26, 9:22, 10:25, 11:14}\n",
    "sond_zla = {\n",
    "    1:35, 2:39,\n",
    "    3:30, 5:42, 6:42.5,    \n",
    "    7:40, 8:36, 9:41, 10:39, 11:45}"
   ]
  },
  {
   "cell_type": "code",
   "execution_count": 58,
   "metadata": {
    "id": "BTk17yrmFCrx"
   },
   "outputs": [],
   "source": [
    "df['month_resp_dob'] = df['month'].map(sond_dob)\n",
    "\n",
    "df['month_resp_zla'] = df['month'].map(sond_zla)"
   ]
  },
  {
   "cell_type": "code",
   "execution_count": 59,
   "metadata": {},
   "outputs": [],
   "source": [
    "df['month_resp'] = df['month_resp_dob'] - df['month_resp_zla']"
   ]
  },
  {
   "cell_type": "code",
   "execution_count": 60,
   "metadata": {
    "colab": {
     "base_uri": "https://localhost:8080/",
     "height": 300
    },
    "id": "y96TPxH4FdSc",
    "outputId": "7074d848-cdd7-4d55-c2fc-55b49a30d008"
   },
   "outputs": [
    {
     "data": {
      "text/html": [
       "<div>\n",
       "<style scoped>\n",
       "    .dataframe tbody tr th:only-of-type {\n",
       "        vertical-align: middle;\n",
       "    }\n",
       "\n",
       "    .dataframe tbody tr th {\n",
       "        vertical-align: top;\n",
       "    }\n",
       "\n",
       "    .dataframe thead th {\n",
       "        text-align: right;\n",
       "    }\n",
       "</style>\n",
       "<table border=\"1\" class=\"dataframe\">\n",
       "  <thead>\n",
       "    <tr style=\"text-align: right;\">\n",
       "      <th></th>\n",
       "      <th>month_resp_dob</th>\n",
       "      <th>month_resp_zla</th>\n",
       "      <th>month_resp</th>\n",
       "    </tr>\n",
       "    <tr>\n",
       "      <th>month</th>\n",
       "      <th></th>\n",
       "      <th></th>\n",
       "      <th></th>\n",
       "    </tr>\n",
       "  </thead>\n",
       "  <tbody>\n",
       "    <tr>\n",
       "      <th>3</th>\n",
       "      <td>30.0</td>\n",
       "      <td>30.0</td>\n",
       "      <td>0.0</td>\n",
       "    </tr>\n",
       "    <tr>\n",
       "      <th>5</th>\n",
       "      <td>22.0</td>\n",
       "      <td>42.0</td>\n",
       "      <td>-20.0</td>\n",
       "    </tr>\n",
       "    <tr>\n",
       "      <th>6</th>\n",
       "      <td>24.0</td>\n",
       "      <td>42.5</td>\n",
       "      <td>-18.5</td>\n",
       "    </tr>\n",
       "    <tr>\n",
       "      <th>7</th>\n",
       "      <td>27.0</td>\n",
       "      <td>40.0</td>\n",
       "      <td>-13.0</td>\n",
       "    </tr>\n",
       "    <tr>\n",
       "      <th>8</th>\n",
       "      <td>26.0</td>\n",
       "      <td>36.0</td>\n",
       "      <td>-10.0</td>\n",
       "    </tr>\n",
       "    <tr>\n",
       "      <th>9</th>\n",
       "      <td>22.0</td>\n",
       "      <td>41.0</td>\n",
       "      <td>-19.0</td>\n",
       "    </tr>\n",
       "    <tr>\n",
       "      <th>10</th>\n",
       "      <td>25.0</td>\n",
       "      <td>39.0</td>\n",
       "      <td>-14.0</td>\n",
       "    </tr>\n",
       "  </tbody>\n",
       "</table>\n",
       "</div>"
      ],
      "text/plain": [
       "       month_resp_dob  month_resp_zla  month_resp\n",
       "month                                            \n",
       "3                30.0            30.0         0.0\n",
       "5                22.0            42.0       -20.0\n",
       "6                24.0            42.5       -18.5\n",
       "7                27.0            40.0       -13.0\n",
       "8                26.0            36.0       -10.0\n",
       "9                22.0            41.0       -19.0\n",
       "10               25.0            39.0       -14.0"
      ]
     },
     "execution_count": 60,
     "metadata": {},
     "output_type": "execute_result"
    }
   ],
   "source": [
    "df.groupby(['month'])[['month_resp_dob', 'month_resp_zla', 'month_resp']].mean()"
   ]
  },
  {
   "cell_type": "code",
   "execution_count": 61,
   "metadata": {},
   "outputs": [
    {
     "data": {
      "text/html": [
       "<div>\n",
       "<style scoped>\n",
       "    .dataframe tbody tr th:only-of-type {\n",
       "        vertical-align: middle;\n",
       "    }\n",
       "\n",
       "    .dataframe tbody tr th {\n",
       "        vertical-align: top;\n",
       "    }\n",
       "\n",
       "    .dataframe thead th {\n",
       "        text-align: right;\n",
       "    }\n",
       "</style>\n",
       "<table border=\"1\" class=\"dataframe\">\n",
       "  <thead>\n",
       "    <tr style=\"text-align: right;\">\n",
       "      <th></th>\n",
       "      <th>month_resp_dob</th>\n",
       "      <th>month_resp_zla</th>\n",
       "      <th>month_resp</th>\n",
       "    </tr>\n",
       "    <tr>\n",
       "      <th>month</th>\n",
       "      <th></th>\n",
       "      <th></th>\n",
       "      <th></th>\n",
       "    </tr>\n",
       "  </thead>\n",
       "  <tbody>\n",
       "    <tr>\n",
       "      <th>3</th>\n",
       "      <td>30.0</td>\n",
       "      <td>30.0</td>\n",
       "      <td>-1.0</td>\n",
       "    </tr>\n",
       "    <tr>\n",
       "      <th>5</th>\n",
       "      <td>22.0</td>\n",
       "      <td>42.0</td>\n",
       "      <td>-20.0</td>\n",
       "    </tr>\n",
       "    <tr>\n",
       "      <th>6</th>\n",
       "      <td>24.0</td>\n",
       "      <td>42.5</td>\n",
       "      <td>-18.5</td>\n",
       "    </tr>\n",
       "    <tr>\n",
       "      <th>7</th>\n",
       "      <td>27.0</td>\n",
       "      <td>40.0</td>\n",
       "      <td>-13.0</td>\n",
       "    </tr>\n",
       "    <tr>\n",
       "      <th>8</th>\n",
       "      <td>26.0</td>\n",
       "      <td>36.0</td>\n",
       "      <td>-10.0</td>\n",
       "    </tr>\n",
       "    <tr>\n",
       "      <th>9</th>\n",
       "      <td>22.0</td>\n",
       "      <td>41.0</td>\n",
       "      <td>-19.0</td>\n",
       "    </tr>\n",
       "    <tr>\n",
       "      <th>10</th>\n",
       "      <td>25.0</td>\n",
       "      <td>39.0</td>\n",
       "      <td>-14.0</td>\n",
       "    </tr>\n",
       "  </tbody>\n",
       "</table>\n",
       "</div>"
      ],
      "text/plain": [
       "       month_resp_dob  month_resp_zla  month_resp\n",
       "month                                            \n",
       "3                30.0            30.0        -1.0\n",
       "5                22.0            42.0       -20.0\n",
       "6                24.0            42.5       -18.5\n",
       "7                27.0            40.0       -13.0\n",
       "8                26.0            36.0       -10.0\n",
       "9                22.0            41.0       -19.0\n",
       "10               25.0            39.0       -14.0"
      ]
     },
     "execution_count": 61,
     "metadata": {},
     "output_type": "execute_result"
    }
   ],
   "source": [
    "df['month_resp'] = np.where(df.month == 3, -1, df['month_resp'])\n",
    "df.groupby(['month'])[['month_resp_dob', 'month_resp_zla', 'month_resp']].mean()"
   ]
  },
  {
   "cell_type": "code",
   "execution_count": 318,
   "metadata": {},
   "outputs": [],
   "source": [
    "df['content_valence_score'] = df['content_valence_score']*10"
   ]
  },
  {
   "cell_type": "code",
   "execution_count": 273,
   "metadata": {},
   "outputs": [
    {
     "data": {
      "text/html": [
       "<div>\n",
       "<style scoped>\n",
       "    .dataframe tbody tr th:only-of-type {\n",
       "        vertical-align: middle;\n",
       "    }\n",
       "\n",
       "    .dataframe tbody tr th {\n",
       "        vertical-align: top;\n",
       "    }\n",
       "\n",
       "    .dataframe thead th {\n",
       "        text-align: right;\n",
       "    }\n",
       "</style>\n",
       "<table border=\"1\" class=\"dataframe\">\n",
       "  <thead>\n",
       "    <tr style=\"text-align: right;\">\n",
       "      <th></th>\n",
       "      <th>month</th>\n",
       "      <th>month_resp</th>\n",
       "      <th>content_valence_score</th>\n",
       "    </tr>\n",
       "  </thead>\n",
       "  <tbody>\n",
       "    <tr>\n",
       "      <th>0</th>\n",
       "      <td>1</td>\n",
       "      <td>-11.0</td>\n",
       "      <td>-2.029454</td>\n",
       "    </tr>\n",
       "    <tr>\n",
       "      <th>1</th>\n",
       "      <td>2</td>\n",
       "      <td>-14.0</td>\n",
       "      <td>-2.491996</td>\n",
       "    </tr>\n",
       "    <tr>\n",
       "      <th>2</th>\n",
       "      <td>3</td>\n",
       "      <td>-1.0</td>\n",
       "      <td>-0.794682</td>\n",
       "    </tr>\n",
       "    <tr>\n",
       "      <th>3</th>\n",
       "      <td>5</td>\n",
       "      <td>-20.0</td>\n",
       "      <td>0.060919</td>\n",
       "    </tr>\n",
       "    <tr>\n",
       "      <th>4</th>\n",
       "      <td>6</td>\n",
       "      <td>-18.5</td>\n",
       "      <td>1.066267</td>\n",
       "    </tr>\n",
       "    <tr>\n",
       "      <th>5</th>\n",
       "      <td>7</td>\n",
       "      <td>-13.0</td>\n",
       "      <td>0.870777</td>\n",
       "    </tr>\n",
       "    <tr>\n",
       "      <th>6</th>\n",
       "      <td>8</td>\n",
       "      <td>-10.0</td>\n",
       "      <td>-0.481356</td>\n",
       "    </tr>\n",
       "    <tr>\n",
       "      <th>7</th>\n",
       "      <td>9</td>\n",
       "      <td>-19.0</td>\n",
       "      <td>-0.866147</td>\n",
       "    </tr>\n",
       "    <tr>\n",
       "      <th>8</th>\n",
       "      <td>10</td>\n",
       "      <td>-14.0</td>\n",
       "      <td>-0.924634</td>\n",
       "    </tr>\n",
       "    <tr>\n",
       "      <th>9</th>\n",
       "      <td>11</td>\n",
       "      <td>-31.0</td>\n",
       "      <td>0.446932</td>\n",
       "    </tr>\n",
       "  </tbody>\n",
       "</table>\n",
       "</div>"
      ],
      "text/plain": [
       "   month  month_resp  content_valence_score\n",
       "0      1       -11.0              -2.029454\n",
       "1      2       -14.0              -2.491996\n",
       "2      3        -1.0              -0.794682\n",
       "3      5       -20.0               0.060919\n",
       "4      6       -18.5               1.066267\n",
       "5      7       -13.0               0.870777\n",
       "6      8       -10.0              -0.481356\n",
       "7      9       -19.0              -0.866147\n",
       "8     10       -14.0              -0.924634\n",
       "9     11       -31.0               0.446932"
      ]
     },
     "execution_count": 273,
     "metadata": {},
     "output_type": "execute_result"
    }
   ],
   "source": [
    "df.groupby(['month'], as_index=False)[['month_resp', 'content_valence_score']].mean()"
   ]
  },
  {
   "cell_type": "code",
   "execution_count": null,
   "metadata": {},
   "outputs": [],
   "source": [
    "df = pd.concat( [df1, df2, df], axis=0, ignore_index=True )"
   ]
  },
  {
   "cell_type": "code",
   "execution_count": 274,
   "metadata": {},
   "outputs": [
    {
     "data": {
      "text/plain": [
       "(2452868, 24)"
      ]
     },
     "execution_count": 274,
     "metadata": {},
     "output_type": "execute_result"
    }
   ],
   "source": [
    "df.shape"
   ]
  },
  {
   "cell_type": "markdown",
   "metadata": {
    "id": "_KKkZQFzY7k3"
   },
   "source": [
    "## Proportion valence"
   ]
  },
  {
   "cell_type": "code",
   "execution_count": 319,
   "metadata": {},
   "outputs": [],
   "source": [
    "df['valence_pos'] = np.where(df.content_valence_negative < df.content_valence_positive, 1, 0)\n",
    "df['valence_neg'] = np.where(df.content_valence_positive < df.content_valence_negative, 1, 0)"
   ]
  },
  {
   "cell_type": "code",
   "execution_count": 320,
   "metadata": {
    "colab": {
     "base_uri": "https://localhost:8080/",
     "height": 206
    },
    "id": "Re4_jPZxXt2W",
    "outputId": "29552a61-4cb3-4584-bdd6-e814820982b4"
   },
   "outputs": [
    {
     "data": {
      "text/html": [
       "<div>\n",
       "<style scoped>\n",
       "    .dataframe tbody tr th:only-of-type {\n",
       "        vertical-align: middle;\n",
       "    }\n",
       "\n",
       "    .dataframe tbody tr th {\n",
       "        vertical-align: top;\n",
       "    }\n",
       "\n",
       "    .dataframe thead th {\n",
       "        text-align: right;\n",
       "    }\n",
       "</style>\n",
       "<table border=\"1\" class=\"dataframe\">\n",
       "  <thead>\n",
       "    <tr style=\"text-align: right;\">\n",
       "      <th></th>\n",
       "      <th>month</th>\n",
       "      <th>valence_neg</th>\n",
       "      <th>valence_pos</th>\n",
       "    </tr>\n",
       "  </thead>\n",
       "  <tbody>\n",
       "    <tr>\n",
       "      <th>0</th>\n",
       "      <td>1</td>\n",
       "      <td>0.434667</td>\n",
       "      <td>0.280667</td>\n",
       "    </tr>\n",
       "    <tr>\n",
       "      <th>1</th>\n",
       "      <td>2</td>\n",
       "      <td>0.443235</td>\n",
       "      <td>0.271384</td>\n",
       "    </tr>\n",
       "    <tr>\n",
       "      <th>2</th>\n",
       "      <td>3</td>\n",
       "      <td>0.338396</td>\n",
       "      <td>0.290672</td>\n",
       "    </tr>\n",
       "    <tr>\n",
       "      <th>3</th>\n",
       "      <td>5</td>\n",
       "      <td>0.322849</td>\n",
       "      <td>0.303005</td>\n",
       "    </tr>\n",
       "    <tr>\n",
       "      <th>4</th>\n",
       "      <td>6</td>\n",
       "      <td>0.295999</td>\n",
       "      <td>0.314542</td>\n",
       "    </tr>\n",
       "    <tr>\n",
       "      <th>5</th>\n",
       "      <td>7</td>\n",
       "      <td>0.298399</td>\n",
       "      <td>0.315243</td>\n",
       "    </tr>\n",
       "    <tr>\n",
       "      <th>6</th>\n",
       "      <td>8</td>\n",
       "      <td>0.344004</td>\n",
       "      <td>0.303557</td>\n",
       "    </tr>\n",
       "    <tr>\n",
       "      <th>7</th>\n",
       "      <td>9</td>\n",
       "      <td>0.356448</td>\n",
       "      <td>0.292541</td>\n",
       "    </tr>\n",
       "    <tr>\n",
       "      <th>8</th>\n",
       "      <td>10</td>\n",
       "      <td>0.361016</td>\n",
       "      <td>0.291070</td>\n",
       "    </tr>\n",
       "    <tr>\n",
       "      <th>9</th>\n",
       "      <td>11</td>\n",
       "      <td>0.337248</td>\n",
       "      <td>0.301368</td>\n",
       "    </tr>\n",
       "  </tbody>\n",
       "</table>\n",
       "</div>"
      ],
      "text/plain": [
       "   month  valence_neg  valence_pos\n",
       "0      1     0.434667     0.280667\n",
       "1      2     0.443235     0.271384\n",
       "2      3     0.338396     0.290672\n",
       "3      5     0.322849     0.303005\n",
       "4      6     0.295999     0.314542\n",
       "5      7     0.298399     0.315243\n",
       "6      8     0.344004     0.303557\n",
       "7      9     0.356448     0.292541\n",
       "8     10     0.361016     0.291070\n",
       "9     11     0.337248     0.301368"
      ]
     },
     "execution_count": 320,
     "metadata": {},
     "output_type": "execute_result"
    }
   ],
   "source": [
    "df.groupby('month', as_index=False)[['valence_neg', 'valence_pos']].mean()"
   ]
  },
  {
   "cell_type": "code",
   "execution_count": 321,
   "metadata": {
    "colab": {
     "base_uri": "https://localhost:8080/"
    },
    "id": "rQj6csXVXt2X",
    "outputId": "f354597d-dece-4b35-9ee2-82963f1ae646"
   },
   "outputs": [
    {
     "data": {
      "text/plain": [
       "array([0.43466667, 0.28066667, 0.44323484, 0.27138414, 0.33839567,\n",
       "       0.29067165, 0.32284928, 0.3030047 , 0.29599946, 0.31454244,\n",
       "       0.29839884, 0.31524299, 0.34400388, 0.30355731, 0.35644804,\n",
       "       0.29254099, 0.36101611, 0.2910703 , 0.33724778, 0.30136784])"
      ]
     },
     "execution_count": 321,
     "metadata": {},
     "output_type": "execute_result"
    }
   ],
   "source": [
    "df.groupby('month', as_index=False)[['valence_neg', 'valence_pos']].mean().iloc[:, 1:].values.flatten()"
   ]
  },
  {
   "cell_type": "code",
   "execution_count": 279,
   "metadata": {},
   "outputs": [
    {
     "data": {
      "text/plain": [
       "[1, 2, 3, 5, 6, 7, 8, 9, 10, 11]"
      ]
     },
     "execution_count": 279,
     "metadata": {},
     "output_type": "execute_result"
    }
   ],
   "source": [
    "list(sond_dob.keys())"
   ]
  },
  {
   "cell_type": "code",
   "execution_count": 322,
   "metadata": {
    "id": "aGFRRmLQXt2X"
   },
   "outputs": [],
   "source": [
    "df[['prop_neg', 'prop_pos']] = np.nan\n",
    "\n",
    "props = df.groupby('month', as_index=False)[['valence_neg', 'valence_pos']].mean().iloc[:, 1:].values.flatten()\n",
    "i = 0    \n",
    "for m in list(sond_dob.keys()):\n",
    "  for v in ['valence_neg', 'valence_pos']:\n",
    "    ids = df[ (df['month'] == m) & (df[v] == 1) ].index\n",
    "    df.loc[ids, \"prop\"+str(v)[-4:]] = props[i] * 100\n",
    "    i += 1"
   ]
  },
  {
   "cell_type": "code",
   "execution_count": 325,
   "metadata": {
    "colab": {
     "base_uri": "https://localhost:8080/",
     "height": 206
    },
    "id": "IP3HUGx-Yl1w",
    "outputId": "72c1311c-6e25-4f7f-89b4-0313b1fc89c4"
   },
   "outputs": [
    {
     "data": {
      "text/html": [
       "<div>\n",
       "<style scoped>\n",
       "    .dataframe tbody tr th:only-of-type {\n",
       "        vertical-align: middle;\n",
       "    }\n",
       "\n",
       "    .dataframe tbody tr th {\n",
       "        vertical-align: top;\n",
       "    }\n",
       "\n",
       "    .dataframe thead th {\n",
       "        text-align: right;\n",
       "    }\n",
       "</style>\n",
       "<table border=\"1\" class=\"dataframe\">\n",
       "  <thead>\n",
       "    <tr style=\"text-align: right;\">\n",
       "      <th></th>\n",
       "      <th>month</th>\n",
       "      <th>month_resp_dob</th>\n",
       "      <th>prop_pos</th>\n",
       "    </tr>\n",
       "  </thead>\n",
       "  <tbody>\n",
       "    <tr>\n",
       "      <th>0</th>\n",
       "      <td>1</td>\n",
       "      <td>24.0</td>\n",
       "      <td>28.066667</td>\n",
       "    </tr>\n",
       "    <tr>\n",
       "      <th>1</th>\n",
       "      <td>2</td>\n",
       "      <td>25.0</td>\n",
       "      <td>27.138414</td>\n",
       "    </tr>\n",
       "    <tr>\n",
       "      <th>2</th>\n",
       "      <td>3</td>\n",
       "      <td>30.0</td>\n",
       "      <td>29.067165</td>\n",
       "    </tr>\n",
       "    <tr>\n",
       "      <th>3</th>\n",
       "      <td>5</td>\n",
       "      <td>22.0</td>\n",
       "      <td>30.300470</td>\n",
       "    </tr>\n",
       "    <tr>\n",
       "      <th>4</th>\n",
       "      <td>6</td>\n",
       "      <td>24.0</td>\n",
       "      <td>31.454244</td>\n",
       "    </tr>\n",
       "    <tr>\n",
       "      <th>5</th>\n",
       "      <td>7</td>\n",
       "      <td>27.0</td>\n",
       "      <td>31.524299</td>\n",
       "    </tr>\n",
       "    <tr>\n",
       "      <th>6</th>\n",
       "      <td>8</td>\n",
       "      <td>26.0</td>\n",
       "      <td>30.355731</td>\n",
       "    </tr>\n",
       "    <tr>\n",
       "      <th>7</th>\n",
       "      <td>9</td>\n",
       "      <td>22.0</td>\n",
       "      <td>29.254099</td>\n",
       "    </tr>\n",
       "    <tr>\n",
       "      <th>8</th>\n",
       "      <td>10</td>\n",
       "      <td>25.0</td>\n",
       "      <td>29.107030</td>\n",
       "    </tr>\n",
       "    <tr>\n",
       "      <th>9</th>\n",
       "      <td>11</td>\n",
       "      <td>14.0</td>\n",
       "      <td>30.136784</td>\n",
       "    </tr>\n",
       "  </tbody>\n",
       "</table>\n",
       "</div>"
      ],
      "text/plain": [
       "   month  month_resp_dob   prop_pos\n",
       "0      1            24.0  28.066667\n",
       "1      2            25.0  27.138414\n",
       "2      3            30.0  29.067165\n",
       "3      5            22.0  30.300470\n",
       "4      6            24.0  31.454244\n",
       "5      7            27.0  31.524299\n",
       "6      8            26.0  30.355731\n",
       "7      9            22.0  29.254099\n",
       "8     10            25.0  29.107030\n",
       "9     11            14.0  30.136784"
      ]
     },
     "execution_count": 325,
     "metadata": {},
     "output_type": "execute_result"
    }
   ],
   "source": [
    "df.groupby(['month'], as_index=False)[['month_resp_dob', 'prop_pos']].mean()"
   ]
  },
  {
   "cell_type": "code",
   "execution_count": 326,
   "metadata": {},
   "outputs": [
    {
     "data": {
      "image/png": "[encoded data removed]",
      "text/plain": [
       "<Figure size 720x432 with 1 Axes>"
      ]
     },
     "metadata": {},
     "output_type": "display_data"
    }
   ],
   "source": [
    "# full\n",
    "\n",
    "mon = df.groupby(['month'], as_index=False)[['month_resp_dob', 'prop_pos']].mean().iloc[:, 0].values\n",
    "one = df.groupby(['month'], as_index=False)[['month_resp_dob', 'prop_pos']].mean().iloc[:, 1].values\n",
    "two = df.groupby(['month'], as_index=False)[['month_resp_dob', 'prop_pos']].mean().iloc[:, 2].values\n",
    "\n",
    "sns.set_theme(style=\"whitegrid\")\n",
    "plt.style.use(\"seaborn-talk\")\n",
    "sns.set(font_scale=1.6, style='whitegrid')\n",
    "\n",
    "plt.figure(figsize = (10,6))\n",
    "ax = sns.lineplot(x = mon, y = two, color='black', linewidth = 3, label='valence')\n",
    "ax.bar(mon, one, color='g', label = 'survey')\n",
    "plt.xlabel('month')\n",
    "plt.ylabel('percent (%)')\n",
    "plt.xticks(np.arange(1, 12, 1))\n",
    "#plt.legend(loc= 4)\n",
    "ax.legend(loc='upper center', bbox_to_anchor=(0.5, 1.15), ncol=3, fancybox=True, shadow=True)\n",
    "\n",
    "#plt.savefig(f\"fig{fig_num}.png\")\n",
    "plt.show()\n",
    "fig_num += 1\n",
    "\n",
    "plt.show()"
   ]
  },
  {
   "cell_type": "code",
   "execution_count": 328,
   "metadata": {
    "colab": {
     "base_uri": "https://localhost:8080/",
     "height": 206
    },
    "id": "hHnl1uJCYnEt",
    "outputId": "d04a6c46-dc8f-4dcd-8b29-8abbfab45eaf"
   },
   "outputs": [
    {
     "data": {
      "text/html": [
       "<div>\n",
       "<style scoped>\n",
       "    .dataframe tbody tr th:only-of-type {\n",
       "        vertical-align: middle;\n",
       "    }\n",
       "\n",
       "    .dataframe tbody tr th {\n",
       "        vertical-align: top;\n",
       "    }\n",
       "\n",
       "    .dataframe thead th {\n",
       "        text-align: right;\n",
       "    }\n",
       "</style>\n",
       "<table border=\"1\" class=\"dataframe\">\n",
       "  <thead>\n",
       "    <tr style=\"text-align: right;\">\n",
       "      <th></th>\n",
       "      <th>month</th>\n",
       "      <th>month_resp_zla</th>\n",
       "      <th>prop_neg</th>\n",
       "    </tr>\n",
       "  </thead>\n",
       "  <tbody>\n",
       "    <tr>\n",
       "      <th>0</th>\n",
       "      <td>1</td>\n",
       "      <td>35.0</td>\n",
       "      <td>43.466667</td>\n",
       "    </tr>\n",
       "    <tr>\n",
       "      <th>1</th>\n",
       "      <td>2</td>\n",
       "      <td>39.0</td>\n",
       "      <td>44.323484</td>\n",
       "    </tr>\n",
       "    <tr>\n",
       "      <th>2</th>\n",
       "      <td>3</td>\n",
       "      <td>30.0</td>\n",
       "      <td>33.839567</td>\n",
       "    </tr>\n",
       "    <tr>\n",
       "      <th>3</th>\n",
       "      <td>5</td>\n",
       "      <td>42.0</td>\n",
       "      <td>32.284928</td>\n",
       "    </tr>\n",
       "    <tr>\n",
       "      <th>4</th>\n",
       "      <td>6</td>\n",
       "      <td>42.5</td>\n",
       "      <td>29.599946</td>\n",
       "    </tr>\n",
       "    <tr>\n",
       "      <th>5</th>\n",
       "      <td>7</td>\n",
       "      <td>40.0</td>\n",
       "      <td>29.839884</td>\n",
       "    </tr>\n",
       "    <tr>\n",
       "      <th>6</th>\n",
       "      <td>8</td>\n",
       "      <td>36.0</td>\n",
       "      <td>34.400388</td>\n",
       "    </tr>\n",
       "    <tr>\n",
       "      <th>7</th>\n",
       "      <td>9</td>\n",
       "      <td>41.0</td>\n",
       "      <td>35.644804</td>\n",
       "    </tr>\n",
       "    <tr>\n",
       "      <th>8</th>\n",
       "      <td>10</td>\n",
       "      <td>39.0</td>\n",
       "      <td>36.101611</td>\n",
       "    </tr>\n",
       "    <tr>\n",
       "      <th>9</th>\n",
       "      <td>11</td>\n",
       "      <td>45.0</td>\n",
       "      <td>33.724778</td>\n",
       "    </tr>\n",
       "  </tbody>\n",
       "</table>\n",
       "</div>"
      ],
      "text/plain": [
       "   month  month_resp_zla   prop_neg\n",
       "0      1            35.0  43.466667\n",
       "1      2            39.0  44.323484\n",
       "2      3            30.0  33.839567\n",
       "3      5            42.0  32.284928\n",
       "4      6            42.5  29.599946\n",
       "5      7            40.0  29.839884\n",
       "6      8            36.0  34.400388\n",
       "7      9            41.0  35.644804\n",
       "8     10            39.0  36.101611\n",
       "9     11            45.0  33.724778"
      ]
     },
     "execution_count": 328,
     "metadata": {},
     "output_type": "execute_result"
    }
   ],
   "source": [
    "df.groupby(['month'], as_index=False)[['month_resp_zla', 'prop_neg']].mean()"
   ]
  },
  {
   "cell_type": "code",
   "execution_count": 329,
   "metadata": {},
   "outputs": [
    {
     "data": {
      "image/png": "[encoded data removed]",
      "text/plain": [
       "<Figure size 720x432 with 1 Axes>"
      ]
     },
     "metadata": {},
     "output_type": "display_data"
    }
   ],
   "source": [
    "# full\n",
    "\n",
    "mon = df.groupby(['month'], as_index=False)[['month_resp_zla', 'prop_neg']].mean().iloc[:, 0].values\n",
    "one = df.groupby(['month'], as_index=False)[['month_resp_zla', 'prop_neg']].mean().iloc[:, 1].values\n",
    "two = df.groupby(['month'], as_index=False)[['month_resp_zla', 'prop_neg']].mean().iloc[:, 2].values\n",
    "\n",
    "sns.set_theme(style=\"whitegrid\")\n",
    "plt.style.use(\"seaborn-talk\")\n",
    "sns.set(font_scale=1.6, style='whitegrid')\n",
    "\n",
    "plt.figure(figsize = (10,6))\n",
    "ax = sns.lineplot(x = mon, y = two, color='black', linewidth = 3, label='valence')\n",
    "ax.bar(mon, one, color='red', label = 'survey')\n",
    "plt.xlabel('month')\n",
    "plt.xticks(np.arange(1, 12, 1))\n",
    "plt.ylabel('percent (%)')\n",
    "#plt.legend(loc= 4)\n",
    "ax.legend(loc='upper center', bbox_to_anchor=(0.5, 1.15), ncol=3, fancybox=True, shadow=True)\n",
    "\n",
    "#plt.savefig(f\"fig{fig_num}.png\")\n",
    "plt.show()\n",
    "fig_num += 1\n",
    "\n",
    "plt.show()"
   ]
  },
  {
   "cell_type": "markdown",
   "metadata": {},
   "source": [
    "# Other stats"
   ]
  },
  {
   "cell_type": "code",
   "execution_count": 79,
   "metadata": {},
   "outputs": [],
   "source": [
    "from scipy.stats import pearsonr\n",
    "from sklearn import metrics"
   ]
  },
  {
   "cell_type": "code",
   "execution_count": 330,
   "metadata": {},
   "outputs": [
    {
     "name": "stdout",
     "output_type": "stream",
     "text": [
      "(803039, 24)\n"
     ]
    }
   ],
   "source": [
    "df_n = df.dropna(subset=['prop_neg'], axis=0)\n",
    "print(df_n.shape)"
   ]
  },
  {
   "cell_type": "code",
   "execution_count": 331,
   "metadata": {},
   "outputs": [
    {
     "data": {
      "text/plain": [
       "6.88"
      ]
     },
     "execution_count": 331,
     "metadata": {},
     "output_type": "execute_result"
    }
   ],
   "source": [
    "metrics.mean_absolute_error(df_n.month_resp_zla.values, df_n.prop_neg.values).round(3) # full data\n",
    "# dupl 6.684\n",
    "# uniq 6.88"
   ]
  },
  {
   "cell_type": "code",
   "execution_count": 231,
   "metadata": {},
   "outputs": [
    {
     "data": {
      "text/plain": [
       "3.276"
      ]
     },
     "execution_count": 231,
     "metadata": {},
     "output_type": "execute_result"
    }
   ],
   "source": [
    "metrics.mean_absolute_error(df_n.month_resp_zla.values, df_n.prop_neg.values).round(3) # interia 2 uniq"
   ]
  },
  {
   "cell_type": "code",
   "execution_count": 301,
   "metadata": {},
   "outputs": [
    {
     "data": {
      "text/plain": [
       "4.127"
      ]
     },
     "execution_count": 301,
     "metadata": {},
     "output_type": "execute_result"
    }
   ],
   "source": [
    "metrics.mean_absolute_error(df_n.month_resp_zla.values, df_n.prop_neg.values).round(3) # interia 2 duplicates"
   ]
  },
  {
   "cell_type": "code",
   "execution_count": 332,
   "metadata": {},
   "outputs": [
    {
     "data": {
      "text/html": [
       "<div>\n",
       "<style scoped>\n",
       "    .dataframe tbody tr th:only-of-type {\n",
       "        vertical-align: middle;\n",
       "    }\n",
       "\n",
       "    .dataframe tbody tr th {\n",
       "        vertical-align: top;\n",
       "    }\n",
       "\n",
       "    .dataframe thead th {\n",
       "        text-align: right;\n",
       "    }\n",
       "</style>\n",
       "<table border=\"1\" class=\"dataframe\">\n",
       "  <thead>\n",
       "    <tr style=\"text-align: right;\">\n",
       "      <th></th>\n",
       "      <th>month</th>\n",
       "      <th>month_resp_zla</th>\n",
       "      <th>prop_neg</th>\n",
       "      <th>mae</th>\n",
       "    </tr>\n",
       "  </thead>\n",
       "  <tbody>\n",
       "    <tr>\n",
       "      <th>0</th>\n",
       "      <td>1</td>\n",
       "      <td>35.0</td>\n",
       "      <td>43.466667</td>\n",
       "      <td>8.466667</td>\n",
       "    </tr>\n",
       "    <tr>\n",
       "      <th>1</th>\n",
       "      <td>2</td>\n",
       "      <td>39.0</td>\n",
       "      <td>44.323484</td>\n",
       "      <td>5.323484</td>\n",
       "    </tr>\n",
       "    <tr>\n",
       "      <th>2</th>\n",
       "      <td>3</td>\n",
       "      <td>30.0</td>\n",
       "      <td>33.839567</td>\n",
       "      <td>3.839567</td>\n",
       "    </tr>\n",
       "    <tr>\n",
       "      <th>3</th>\n",
       "      <td>5</td>\n",
       "      <td>42.0</td>\n",
       "      <td>32.284928</td>\n",
       "      <td>9.715072</td>\n",
       "    </tr>\n",
       "    <tr>\n",
       "      <th>4</th>\n",
       "      <td>6</td>\n",
       "      <td>42.5</td>\n",
       "      <td>29.599946</td>\n",
       "      <td>12.900054</td>\n",
       "    </tr>\n",
       "    <tr>\n",
       "      <th>5</th>\n",
       "      <td>7</td>\n",
       "      <td>40.0</td>\n",
       "      <td>29.839884</td>\n",
       "      <td>10.160116</td>\n",
       "    </tr>\n",
       "    <tr>\n",
       "      <th>6</th>\n",
       "      <td>8</td>\n",
       "      <td>36.0</td>\n",
       "      <td>34.400388</td>\n",
       "      <td>1.599612</td>\n",
       "    </tr>\n",
       "    <tr>\n",
       "      <th>7</th>\n",
       "      <td>9</td>\n",
       "      <td>41.0</td>\n",
       "      <td>35.644804</td>\n",
       "      <td>5.355196</td>\n",
       "    </tr>\n",
       "    <tr>\n",
       "      <th>8</th>\n",
       "      <td>10</td>\n",
       "      <td>39.0</td>\n",
       "      <td>36.101611</td>\n",
       "      <td>2.898389</td>\n",
       "    </tr>\n",
       "    <tr>\n",
       "      <th>9</th>\n",
       "      <td>11</td>\n",
       "      <td>45.0</td>\n",
       "      <td>33.724778</td>\n",
       "      <td>11.275222</td>\n",
       "    </tr>\n",
       "  </tbody>\n",
       "</table>\n",
       "</div>"
      ],
      "text/plain": [
       "   month  month_resp_zla   prop_neg        mae\n",
       "0      1            35.0  43.466667   8.466667\n",
       "1      2            39.0  44.323484   5.323484\n",
       "2      3            30.0  33.839567   3.839567\n",
       "3      5            42.0  32.284928   9.715072\n",
       "4      6            42.5  29.599946  12.900054\n",
       "5      7            40.0  29.839884  10.160116\n",
       "6      8            36.0  34.400388   1.599612\n",
       "7      9            41.0  35.644804   5.355196\n",
       "8     10            39.0  36.101611   2.898389\n",
       "9     11            45.0  33.724778  11.275222"
      ]
     },
     "execution_count": 332,
     "metadata": {},
     "output_type": "execute_result"
    }
   ],
   "source": [
    "df_n['mae'] = np.abs(df_n['month_resp_zla'] - df_n['prop_neg'])\n",
    "df_n.groupby(['month'], as_index=False)[['month_resp_zla', 'prop_neg', 'mae']].mean()"
   ]
  },
  {
   "cell_type": "code",
   "execution_count": 333,
   "metadata": {},
   "outputs": [
    {
     "data": {
      "image/png": "[encoded data removed]",
      "text/plain": [
       "<Figure size 720x432 with 1 Axes>"
      ]
     },
     "metadata": {},
     "output_type": "display_data"
    }
   ],
   "source": [
    "# full\n",
    "\n",
    "mon = df_n.groupby(['month'], as_index=False)[['month_resp_zla', 'prop_neg', 'mae']].mean().iloc[:, 0].values\n",
    "one = df_n.groupby(['month'], as_index=False)[['month_resp_zla', 'prop_neg', 'mae']].mean().iloc[:, 1].values\n",
    "two = df_n.groupby(['month'], as_index=False)[['month_resp_zla', 'prop_neg', 'mae']].mean().iloc[:, 2].values\n",
    "mae_n = df_n.groupby(['month'], as_index=False)[['month_resp_zla', 'prop_neg', 'mae']].mean().iloc[:, 3].values\n",
    "\n",
    "sns.set_theme(style=\"whitegrid\")\n",
    "plt.style.use(\"seaborn-talk\")\n",
    "sns.set(font_scale=1.6, style='whitegrid')\n",
    "\n",
    "plt.figure(figsize = (10,6))\n",
    "ax = sns.lineplot(x = mon, y = two, color='black', linewidth = 3, label='valence')\n",
    "ax.bar(mon, one, color='red', label = 'survey')\n",
    "ax.plot(mon, mae_n, color='blue', label = 'MAE', linestyle = '--', linewidth = 3)\n",
    "\n",
    "plt.xlabel('month')\n",
    "plt.xticks(np.arange(1, 12, 1))\n",
    "plt.ylabel('percent (%)')\n",
    "plt.title('\\n')\n",
    "#plt.legend(loc= 4)\n",
    "ax.legend(loc='upper center', bbox_to_anchor=(0.5, 1.15), ncol=3, fancybox=True, shadow=True)\n",
    "\n",
    "plt.savefig(f\"fig{fig_num}.png\")\n",
    "plt.show()\n",
    "fig_num += 1\n",
    "\n",
    "plt.show()"
   ]
  },
  {
   "cell_type": "code",
   "execution_count": 334,
   "metadata": {},
   "outputs": [
    {
     "name": "stdout",
     "output_type": "stream",
     "text": [
      "(739875, 24)\n"
     ]
    }
   ],
   "source": [
    "df_p = df.dropna(subset=['prop_pos'], axis=0)\n",
    "print(df_p.shape)"
   ]
  },
  {
   "cell_type": "code",
   "execution_count": 335,
   "metadata": {},
   "outputs": [
    {
     "data": {
      "text/plain": [
       "5.119"
      ]
     },
     "execution_count": 335,
     "metadata": {},
     "output_type": "execute_result"
    }
   ],
   "source": [
    "metrics.mean_absolute_error(df_p.month_resp_dob.values, df_p.prop_pos.values).round(3) # full data\n",
    "# dupl 5.285\n",
    "# uniq 5.119"
   ]
  },
  {
   "cell_type": "code",
   "execution_count": 235,
   "metadata": {},
   "outputs": [
    {
     "data": {
      "text/plain": [
       "4.063"
      ]
     },
     "execution_count": 235,
     "metadata": {},
     "output_type": "execute_result"
    }
   ],
   "source": [
    "metrics.mean_absolute_error(df_p.month_resp_dob.values, df_p.prop_pos.values).round(3) # interia 2 uniq"
   ]
  },
  {
   "cell_type": "code",
   "execution_count": 305,
   "metadata": {},
   "outputs": [
    {
     "data": {
      "text/plain": [
       "5.43"
      ]
     },
     "execution_count": 305,
     "metadata": {},
     "output_type": "execute_result"
    }
   ],
   "source": [
    "metrics.mean_absolute_error(df_p.month_resp_dob.values, df_p.prop_pos.values).round(3) # interia 2 duplicates"
   ]
  },
  {
   "cell_type": "code",
   "execution_count": 336,
   "metadata": {},
   "outputs": [
    {
     "data": {
      "text/html": [
       "<div>\n",
       "<style scoped>\n",
       "    .dataframe tbody tr th:only-of-type {\n",
       "        vertical-align: middle;\n",
       "    }\n",
       "\n",
       "    .dataframe tbody tr th {\n",
       "        vertical-align: top;\n",
       "    }\n",
       "\n",
       "    .dataframe thead th {\n",
       "        text-align: right;\n",
       "    }\n",
       "</style>\n",
       "<table border=\"1\" class=\"dataframe\">\n",
       "  <thead>\n",
       "    <tr style=\"text-align: right;\">\n",
       "      <th></th>\n",
       "      <th>month</th>\n",
       "      <th>month_resp_dob</th>\n",
       "      <th>prop_pos</th>\n",
       "      <th>mae</th>\n",
       "    </tr>\n",
       "  </thead>\n",
       "  <tbody>\n",
       "    <tr>\n",
       "      <th>0</th>\n",
       "      <td>1</td>\n",
       "      <td>24.0</td>\n",
       "      <td>28.066667</td>\n",
       "      <td>4.066667</td>\n",
       "    </tr>\n",
       "    <tr>\n",
       "      <th>1</th>\n",
       "      <td>2</td>\n",
       "      <td>25.0</td>\n",
       "      <td>27.138414</td>\n",
       "      <td>2.138414</td>\n",
       "    </tr>\n",
       "    <tr>\n",
       "      <th>2</th>\n",
       "      <td>3</td>\n",
       "      <td>30.0</td>\n",
       "      <td>29.067165</td>\n",
       "      <td>0.932835</td>\n",
       "    </tr>\n",
       "    <tr>\n",
       "      <th>3</th>\n",
       "      <td>5</td>\n",
       "      <td>22.0</td>\n",
       "      <td>30.300470</td>\n",
       "      <td>8.300470</td>\n",
       "    </tr>\n",
       "    <tr>\n",
       "      <th>4</th>\n",
       "      <td>6</td>\n",
       "      <td>24.0</td>\n",
       "      <td>31.454244</td>\n",
       "      <td>7.454244</td>\n",
       "    </tr>\n",
       "    <tr>\n",
       "      <th>5</th>\n",
       "      <td>7</td>\n",
       "      <td>27.0</td>\n",
       "      <td>31.524299</td>\n",
       "      <td>4.524299</td>\n",
       "    </tr>\n",
       "    <tr>\n",
       "      <th>6</th>\n",
       "      <td>8</td>\n",
       "      <td>26.0</td>\n",
       "      <td>30.355731</td>\n",
       "      <td>4.355731</td>\n",
       "    </tr>\n",
       "    <tr>\n",
       "      <th>7</th>\n",
       "      <td>9</td>\n",
       "      <td>22.0</td>\n",
       "      <td>29.254099</td>\n",
       "      <td>7.254099</td>\n",
       "    </tr>\n",
       "    <tr>\n",
       "      <th>8</th>\n",
       "      <td>10</td>\n",
       "      <td>25.0</td>\n",
       "      <td>29.107030</td>\n",
       "      <td>4.107030</td>\n",
       "    </tr>\n",
       "    <tr>\n",
       "      <th>9</th>\n",
       "      <td>11</td>\n",
       "      <td>14.0</td>\n",
       "      <td>30.136784</td>\n",
       "      <td>16.136784</td>\n",
       "    </tr>\n",
       "  </tbody>\n",
       "</table>\n",
       "</div>"
      ],
      "text/plain": [
       "   month  month_resp_dob   prop_pos        mae\n",
       "0      1            24.0  28.066667   4.066667\n",
       "1      2            25.0  27.138414   2.138414\n",
       "2      3            30.0  29.067165   0.932835\n",
       "3      5            22.0  30.300470   8.300470\n",
       "4      6            24.0  31.454244   7.454244\n",
       "5      7            27.0  31.524299   4.524299\n",
       "6      8            26.0  30.355731   4.355731\n",
       "7      9            22.0  29.254099   7.254099\n",
       "8     10            25.0  29.107030   4.107030\n",
       "9     11            14.0  30.136784  16.136784"
      ]
     },
     "execution_count": 336,
     "metadata": {},
     "output_type": "execute_result"
    }
   ],
   "source": [
    "df_p['mae'] = np.abs(df_p['month_resp_dob'] - df_p['prop_pos'])\n",
    "df_p.groupby(['month'], as_index=False)[['month_resp_dob', 'prop_pos', 'mae']].mean()"
   ]
  },
  {
   "cell_type": "code",
   "execution_count": 337,
   "metadata": {},
   "outputs": [
    {
     "data": {
      "image/png": "[encoded data removed]",
      "text/plain": [
       "<Figure size 720x432 with 1 Axes>"
      ]
     },
     "metadata": {},
     "output_type": "display_data"
    }
   ],
   "source": [
    "# full\n",
    "\n",
    "mon = df_p.groupby(['month'], as_index=False)[['month_resp_dob', 'prop_pos', 'mae']].mean().iloc[:, 0].values\n",
    "one = df_p.groupby(['month'], as_index=False)[['month_resp_dob', 'prop_pos', 'mae']].mean().iloc[:, 1].values\n",
    "two = df_p.groupby(['month'], as_index=False)[['month_resp_dob', 'prop_pos', 'mae']].mean().iloc[:, 2].values\n",
    "mae_n = df_p.groupby(['month'], as_index=False)[['month_resp_dob', 'prop_pos', 'mae']].mean().iloc[:, 3].values\n",
    "\n",
    "sns.set_theme(style=\"whitegrid\")\n",
    "plt.style.use(\"seaborn-talk\")\n",
    "sns.set(font_scale=1.6, style='whitegrid')\n",
    "plt.figure(figsize = (10,6))\n",
    "\n",
    "ax = sns.lineplot(x = mon, y = two, color='black', linewidth = 3, label='valence')\n",
    "ax.bar(mon, one, color='g', label = 'survey')\n",
    "ax.plot(mon, mae_n, color='blue', label = 'MAE', linestyle = '--', linewidth = 3)\n",
    "\n",
    "plt.xlabel('month')\n",
    "plt.xticks(np.arange(1, 12, 1))\n",
    "plt.ylabel('percent (%)')\n",
    "plt.title('\\n')\n",
    "#plt.legend(loc= 4)\n",
    "ax.legend(loc='upper center', bbox_to_anchor=(0.5, 1.15), ncol=3, fancybox=True, shadow=True)\n",
    "\n",
    "plt.savefig(f\"fig{fig_num}.png\")\n",
    "plt.show()\n",
    "fig_num += 1\n",
    "\n",
    "plt.show()"
   ]
  },
  {
   "cell_type": "markdown",
   "metadata": {},
   "source": [
    "# Sentiment BERT-model"
   ]
  },
  {
   "cell_type": "code",
   "execution_count": 4,
   "metadata": {},
   "outputs": [],
   "source": [
    "from transformers import pipeline"
   ]
  },
  {
   "cell_type": "code",
   "execution_count": 5,
   "metadata": {},
   "outputs": [
    {
     "data": {
      "application/vnd.jupyter.widget-view+json": {
       "model_id": "ef90ea79c38b48babbff0fbf91ee9c25",
       "version_major": 2,
       "version_minor": 0
      },
      "text/plain": [
       "Downloading:   0%|          | 0.00/889 [00:00<?, ?B/s]"
      ]
     },
     "metadata": {},
     "output_type": "display_data"
    },
    {
     "data": {
      "application/vnd.jupyter.widget-view+json": {
       "model_id": "37d7387815e044558f9bc2c7c1c5c227",
       "version_major": 2,
       "version_minor": 0
      },
      "text/plain": [
       "Downloading:   0%|          | 0.00/529M [00:00<?, ?B/s]"
      ]
     },
     "metadata": {},
     "output_type": "display_data"
    },
    {
     "data": {
      "application/vnd.jupyter.widget-view+json": {
       "model_id": "6aaec67dabc44c52aa55537c5d5a2f03",
       "version_major": 2,
       "version_minor": 0
      },
      "text/plain": [
       "Downloading:   0%|          | 0.00/536 [00:00<?, ?B/s]"
      ]
     },
     "metadata": {},
     "output_type": "display_data"
    },
    {
     "data": {
      "application/vnd.jupyter.widget-view+json": {
       "model_id": "bd6a88d93e71484faaea7b05c34494c4",
       "version_major": 2,
       "version_minor": 0
      },
      "text/plain": [
       "Downloading:   0%|          | 0.00/1.44M [00:00<?, ?B/s]"
      ]
     },
     "metadata": {},
     "output_type": "display_data"
    },
    {
     "data": {
      "application/vnd.jupyter.widget-view+json": {
       "model_id": "81c8df601b41471d9fdbf33fabafdf94",
       "version_major": 2,
       "version_minor": 0
      },
      "text/plain": [
       "Downloading:   0%|          | 0.00/125 [00:00<?, ?B/s]"
      ]
     },
     "metadata": {},
     "output_type": "display_data"
    }
   ],
   "source": [
    "model_path = \"eevvgg/PaReS-sentimenTw-political-PL\"\n",
    "\n",
    "sentiment_task = pipeline(task = \"sentiment-analysis\", model = model_path, tokenizer = model_path)"
   ]
  },
  {
   "cell_type": "code",
   "execution_count": 6,
   "metadata": {},
   "outputs": [
    {
     "data": {
      "text/plain": [
       "(2452868, 24)"
      ]
     },
     "execution_count": 6,
     "metadata": {},
     "output_type": "execute_result"
    }
   ],
   "source": [
    "df = pd.read_csv(r\"C:\\Users\\user1\\Downloads\\wnpid_all.csv\", index_col=0)\n",
    "df.shape"
   ]
  },
  {
   "cell_type": "code",
   "execution_count": 13,
   "metadata": {},
   "outputs": [],
   "source": [
    "sequence = df.iloc[:100000].content.to_list()"
   ]
  },
  {
   "cell_type": "code",
   "execution_count": 16,
   "metadata": {},
   "outputs": [],
   "source": [
    "sequence = [s if len(str(s)) < 510 else str(s)[:510] for s in sequence]"
   ]
  },
  {
   "cell_type": "code",
   "execution_count": 17,
   "metadata": {},
   "outputs": [
    {
     "data": {
      "text/plain": [
       "['szczegolnie ma panowac czyli pałować) te zgraje frajerow podpuszczanych przez opozycje na ulicac zobaczymy tydzien lub dwa jakie wyniki beda zakazen poprzez wrzeszczacy sobie geby tłum',\n",
       " 'user sprawdziłaś tę wiadomość, czy tak sobie napisałaś aby napisać?<br> czy jeśli jakaś twoja kumpela, załóżmy, że jeszcze liceum powiedziałaby ci, że kk przekazał na szpitale miliard złotych to też niezwłocznie być się podzieliła taka informacja bez sprawdzenia?',\n",
       " 'user będzie bięcej czy chyba będzie więcej?<br> czy jeśli innych krajach scenariusze będą tragiczniejsze to będzie oznaczało, że naszym życiu śmierci decydowali jednak kompetentni fachowcy nie będziesz miał problemu napisaniem tym?',\n",
       " 'user dodał, mamy polski scenariusz epidemii, który jest chyba jeszcze bardziej tragiczny, niż ten początku epidemii we włoszech\"<br> to znaczy, że mamy czy chyba mamy?<br> no na czym polega ten chyba tragiczniejszy scenariusz?']"
      ]
     },
     "execution_count": 17,
     "metadata": {},
     "output_type": "execute_result"
    }
   ],
   "source": [
    "sequence[5005:5009]"
   ]
  },
  {
   "cell_type": "code",
   "execution_count": null,
   "metadata": {},
   "outputs": [],
   "source": [
    "result = sentiment_task(sequence)\n",
    "len(result)"
   ]
  },
  {
   "cell_type": "code",
   "execution_count": 3,
   "metadata": {},
   "outputs": [],
   "source": [
    "labels = [i['label'] for i in result]"
   ]
  },
  {
   "cell_type": "code",
   "execution_count": null,
   "metadata": {},
   "outputs": [],
   "source": [
    "df['sentimentBERT'] = labels"
   ]
  },
  {
   "cell_type": "code",
   "execution_count": null,
   "metadata": {},
   "outputs": [],
   "source": [
    " "
   ]
  },
  {
   "cell_type": "code",
   "execution_count": null,
   "metadata": {},
   "outputs": [],
   "source": [
    " "
   ]
  },
  {
   "cell_type": "code",
   "execution_count": null,
   "metadata": {},
   "outputs": [],
   "source": [
    " "
   ]
  }
 ],
 "metadata": {
  "colab": {
   "provenance": [],
   "toc_visible": true
  },
  "kernelspec": {
   "display_name": "Python 3 (ipykernel)",
   "language": "python",
   "name": "python3"
  },
  "language_info": {
   "codemirror_mode": {
    "name": "ipython",
    "version": 3
   },
   "file_extension": ".py",
   "mimetype": "text/x-python",
   "name": "python",
   "nbconvert_exporter": "python",
   "pygments_lexer": "ipython3",
   "version": "3.10.5"
  }
 },
 "nbformat": 4,
 "nbformat_minor": 1
}
