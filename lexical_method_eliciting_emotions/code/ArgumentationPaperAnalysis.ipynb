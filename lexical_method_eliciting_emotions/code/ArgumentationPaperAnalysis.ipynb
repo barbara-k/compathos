{
  "nbformat": 4,
  "nbformat_minor": 0,
  "metadata": {
    "colab": {
      "provenance": [],
      "collapsed_sections": [
        "qK_kuFeHYliG",
        "436lWjWUPcu0",
        "4bRVxMsFlKaj"
      ],
      "toc_visible": true
    },
    "kernelspec": {
      "name": "python3",
      "display_name": "Python 3"
    },
    "language_info": {
      "name": "python"
    }
  },
  "cells": [
    {
      "cell_type": "code",
      "execution_count": null,
      "metadata": {
        "id": "JgW-10kzcGyr"
      },
      "outputs": [],
      "source": [
        "import pandas as pd\n",
        "pd.set_option(\"max_colwidth\", 400)\n",
        "pd.set_option(\"display.max.columns\", None)\n",
        "\n",
        "import numpy as np\n",
        "\n",
        "import seaborn as sns\n",
        "import matplotlib.pyplot as plt\n",
        "sns.set_theme(style=\"whitegrid\")\n",
        "plt.style.use(\"seaborn-talk\")\n"
      ]
    },
    {
      "cell_type": "code",
      "source": [
        "def load_data(file_path, indx = True, indx_col = 0):\n",
        "  '''Parameters:\n",
        "  file_path: path to your excel or csv file with data,\n",
        "  indx: boolean - whether there is index column in your file (usually it is the first column) --> *by default it is set to True\n",
        "  indx_col: int - if your file has an index column, specify column number here --> *by default it is equal to 0 (first column)\n",
        "  '''\n",
        "  if indx == True and file_path.endswith(\".xlsx\"):\n",
        "    data = pd.read_excel(file_path, index_col = indx_col)\n",
        "  elif indx == False and file_path.endswith(\".xlsx\"):\n",
        "    data = pd.read_excel(file_path)\n",
        "\n",
        "  elif indx == True and file_path.endswith(\".csv\"):\n",
        "    data = pd.read_csv(file_path, index_col = indx_col)\n",
        "  elif indx == False and file_path.endswith(\".csv\"):\n",
        "    data = pd.read_csv(file_path)\n",
        "\n",
        "  return data"
      ],
      "metadata": {
        "id": "931WHms0d6uH"
      },
      "execution_count": null,
      "outputs": []
    },
    {
      "cell_type": "code",
      "source": [],
      "metadata": {
        "id": "J_bdPY1FibNr"
      },
      "execution_count": null,
      "outputs": []
    },
    {
      "cell_type": "code",
      "source": [
        "from google.colab import drive\n",
        "drive.mount('/content/drive')"
      ],
      "metadata": {
        "id": "yI0yzv-8ibiS",
        "outputId": "68344457-911d-4cd5-8a51-a4b0640d2a50",
        "colab": {
          "base_uri": "https://localhost:8080/"
        }
      },
      "execution_count": null,
      "outputs": [
        {
          "output_type": "stream",
          "name": "stdout",
          "text": [
            "Mounted at /content/drive\n"
          ]
        }
      ]
    },
    {
      "cell_type": "markdown",
      "source": [
        "#ITC corpus retrieve data"
      ],
      "metadata": {
        "id": "waCwFIZpVgNJ"
      }
    },
    {
      "cell_type": "code",
      "source": [
        "maps = glob.glob(\"/content/drive/MyDrive/Colab Notebooks/debates/us2016itc/*.json\")\n",
        "\n",
        "\n",
        "def conclusionPremiseDict(premises, conclusions):\n",
        "    pairs = {}\n",
        "    for i, x in enumerate(conclusions):\n",
        "        pairs[i] = {'conclusion':x, 'premises':[]}\n",
        "        id_to = x['fromID']\n",
        "        for p in premises:\n",
        "            if p['toID'] == id_to:\n",
        "                pairs[i]['premises'].append(p)                \n",
        "    return pairs\n",
        "\n",
        "def aduPairs(edgePairs, nodesById):\n",
        "    aduPair = []\n",
        "    for pair in edgePairs.values():\n",
        "        for p in pair['premises']:\n",
        "          aduPair.append([nodesById[pair['conclusion']['toID']]['text'], nodesById[p['fromID']]['text']])    \n",
        "    return aduPair\n",
        "\n",
        "def pairs(map):\n",
        "    with open(map) as f:\n",
        "        data = json.loads(f.read())\n",
        "    nodesById = {}\n",
        "    for _, node in enumerate(data['nodes']):\n",
        "        nodesById[node['nodeID']] = node\n",
        "        \n",
        "    premises = [x for x in data['edges'] if nodesById[x['fromID']]['type'] == 'I' and nodesById[x['toID']]['type'] == 'MA']\n",
        "\n",
        "    conclusions = [x for x in data['edges'] if nodesById[x['fromID']]['type'] == 'MA' and nodesById[x['toID']]['type'] == 'I']\n",
        "    edgePairs = conclusionPremiseDict(premises, conclusions)\n",
        "    adus = aduPairs(edgePairs, nodesById)\n",
        "    return adus, conclusions, premises, nodesById    \n",
        "\n",
        "truePairs = []\n",
        "conclusions = []\n",
        "premises = []\n",
        "nodesById = {}\n",
        "\n",
        "truePairs = []\n",
        "conclusions = []\n",
        "premises = []\n",
        "nodesById = {}\n",
        "\n",
        "map_number = []\n",
        "\n",
        "for i, m in enumerate(maps):\n",
        "    adus, c, p, n = pairs(m)\n",
        "    truePairs.extend(adus)\n",
        "    conclusions.extend(c)\n",
        "    premises.extend(p)\n",
        "    nodesById = {**nodesById, **n}\n",
        "    for num in range(len(adus)):\n",
        "      map_number.append(maps[i][-10:-5])\n",
        "\n"
      ],
      "metadata": {
        "id": "aBhpkL7TLUTF"
      },
      "execution_count": null,
      "outputs": []
    },
    {
      "cell_type": "code",
      "source": [
        "data = pd.DataFrame(truePairs)\n",
        "data.columns = [\"conclusion\", \"premises\"]\n",
        "data[\"map_ID\"] = map_number\n"
      ],
      "metadata": {
        "id": "AdHt1avdFjgG"
      },
      "execution_count": null,
      "outputs": []
    },
    {
      "cell_type": "code",
      "source": [
        "layers = load_data(\"/content/drive/MyDrive/Colab Notebooks/reddit_IAA/REDDIT_PATHOS_ETHOS_LOGOS_all.xlsx\")"
      ],
      "metadata": {
        "id": "NjgrEjVqSxN_"
      },
      "execution_count": null,
      "outputs": []
    },
    {
      "cell_type": "code",
      "source": [
        "premises_t = data.premises.unique()\n",
        "conclusion_t = data.conclusion.unique()\n",
        "\n",
        "\n",
        "cid = []\n",
        "pid = []\n",
        "tt1 = layers['original_Text'].tolist()\n",
        "tt2 = layers['text_I_left'].tolist()\n",
        "for i, t in enumerate(conclusion_t):\n",
        "  if (t in tt1) or (t in tt2):\n",
        "    cid.append(t)\n",
        "\n",
        "for i, t in enumerate(premises_t):\n",
        "  if (t in tt1) or (t in tt2):\n",
        "    pid.append(t)  \n",
        "\n",
        "\n",
        "cid = [c.lower() for c in cid]\n",
        "pid = [c.lower() for c in pid]"
      ],
      "metadata": {
        "id": "Rbf30WJAKwOm"
      },
      "execution_count": null,
      "outputs": []
    },
    {
      "cell_type": "code",
      "source": [
        "data['type_match'] = \"\" # whether social media text is a conclusion or a premise in an argument in the ITC corpus\n",
        "data['c_match'] = \"\" # if is is matched on conclusion, text of a social media text\n",
        "data['p_match'] = \"\" # if is is matched on premise, text of a social media text\n",
        "\n",
        "\n",
        "for t in cid:\n",
        "    for i in data.index:\n",
        "      if data.loc[i, 'conclusion'].lower() == t:\n",
        "        data.loc[i]['type_match'] = 'conclusion reddit'\n",
        "        data.loc[i]['c_match'] = t\n",
        "\n",
        "\n",
        "for t in pid:\n",
        "  for i in data.index:\n",
        "    if t in data.loc[i, 'premises'].lower():\n",
        "      data.loc[i]['type_match'] = 'premise reddit'\n",
        "      data.loc[i]['p_match'] = t\n",
        "\n"
      ],
      "metadata": {
        "id": "cPWHEYn4xcmg"
      },
      "execution_count": null,
      "outputs": []
    },
    {
      "cell_type": "code",
      "source": [
        "data.to_excel(\"/content/drive/MyDrive/Colab Notebooks/debates/us2016itc/file_itc.xlsx\")"
      ],
      "metadata": {
        "id": "O4g-EZC2yI3C"
      },
      "execution_count": null,
      "outputs": []
    },
    {
      "cell_type": "markdown",
      "source": [
        "#Add debate - politicians arguments text"
      ],
      "metadata": {
        "id": "HNB7-XRQ3pDP"
      }
    },
    {
      "cell_type": "code",
      "source": [
        "import json\n",
        "import glob\n",
        "\n",
        "d = glob.glob(\"/content/drive/MyDrive/Colab Notebooks/debates/US2016D1/*.json\")\n",
        "r = glob.glob(\"/content/drive/MyDrive/Colab Notebooks/debates/US2016R1/*.json\")\n",
        "g = glob.glob(\"/content/drive/MyDrive/Colab Notebooks/debates/US2016G1/*.json\")\n",
        "\n",
        "maps = d + r + g\n",
        "\n",
        "\n",
        "def conclusionPremiseDict(premises, conclusions):\n",
        "    pairs = {}\n",
        "    for i, x in enumerate(conclusions):\n",
        "        pairs[i] = {'conclusion':x, 'premises':[]}\n",
        "        id_to = x['fromID']\n",
        "        for p in premises:\n",
        "            if p['toID'] == id_to:\n",
        "                pairs[i]['premises'].append(p)                \n",
        "    return pairs\n",
        "\n",
        "\n",
        "def aduPairs(edgePairs, nodesById):\n",
        "    nodeid_list = []\n",
        "    conc_id = []\n",
        "    for pair in edgePairs.values():        \n",
        "        conc_id.append(str(nodesById[pair['conclusion']['toID']]['text']))\n",
        "\n",
        "    conc_id = set(conc_id)\n",
        "    for cid in conc_id:\n",
        "      premises_all = []\n",
        "      for pair in edgePairs.values():\n",
        "        if cid == str(nodesById[pair['conclusion']['toID']]['text']):\n",
        "          for p in pair['premises']:\n",
        "            premises_all.append(str(nodesById[p['fromID']]['text']))\n",
        "      if len(premises_all) != 0:\n",
        "        nodeid_list.append([cid, premises_all])\n",
        "    return nodeid_list\n",
        "\n",
        "\n",
        "\n",
        "def pairs(map):\n",
        "    with open(map) as f:\n",
        "        data = json.loads(f.read())\n",
        "    nodesById = {}\n",
        "    for _, node in enumerate(data['nodes']):\n",
        "        nodesById[node['nodeID']] = node\n",
        "        \n",
        "    premises = [x for x in data['edges'] if nodesById[x['fromID']]['type'] == 'I' and nodesById[x['toID']]['type'] == 'RA']\n",
        "\n",
        "    conclusions = [x for x in data['edges'] if nodesById[x['fromID']]['type'] == 'RA' and nodesById[x['toID']]['type'] == 'I']\n",
        "    edgePairs = conclusionPremiseDict(premises, conclusions)\n",
        "    adus = aduPairs(edgePairs, nodesById)\n",
        "    return adus, conclusions, premises, nodesById \n",
        "\n",
        "\n",
        "\n",
        "truePairs = []\n",
        "conclusions = []\n",
        "premises = []\n",
        "nodesById = {}\n",
        "\n",
        "map_number = []\n",
        "\n",
        "for i, m in enumerate(maps):\n",
        "    adus, c, p, n = pairs(m)\n",
        "    truePairs.extend(adus)\n",
        "    conclusions.extend(c)\n",
        "    premises.extend(p)\n",
        "    nodesById = {**nodesById, **n}\n",
        "    for num in range(len(adus)):\n",
        "      map_number.append(maps[i][-10:-5])    \n",
        "\n",
        "\n",
        "\n",
        "# premises are returned in list, but they can easily be joined (here they are joined by \" --- \", for example)\n",
        "# conclusions are in a standard text format\n",
        "\n",
        "df_text = pd.DataFrame(truePairs)\n",
        "df_text.columns = [\"conclusion\", \"premises\"]\n",
        "df_text['premises'] = df_text['premises'].apply(lambda x: \" --- \".join(x))\n",
        "df_text[\"map_ID\"] = map_number\n",
        "print(df_text.shape)\n",
        "df_text.tail()"
      ],
      "metadata": {
        "colab": {
          "base_uri": "https://localhost:8080/",
          "height": 302
        },
        "id": "zVs9rXEy3qiq",
        "outputId": "00162d36-5ce6-4f6a-9c98-9680d8790fe0"
      },
      "execution_count": null,
      "outputs": [
        {
          "output_type": "stream",
          "name": "stdout",
          "text": [
            "(1107, 3)\n"
          ]
        },
        {
          "output_type": "execute_result",
          "data": {
            "text/plain": [
              "                                                                                 conclusion  \\\n",
              "1102  CLINTON sure hopes people will get out and vote as though their future depended on it   \n",
              "1103                                    perhaps it was worse than pressing the wrong button   \n",
              "1104                                                              perhaps it was corruption   \n",
              "1105                                                        people are pouring into the USA   \n",
              "1106                            CLINTON certainly will support the outcome of this election   \n",
              "\n",
              "                                                                                  premises  \\\n",
              "1102                                           people's future does depend on the election   \n",
              "1103                                                             perhaps it was corruption   \n",
              "1104  these people that we were going to deport for good reason ended up becoming citizens   \n",
              "1105                                           the other day USA were deporting 800 people   \n",
              "1106                                                      CLINTON supports USA's democracy   \n",
              "\n",
              "     map_ID  \n",
              "1102  11321  \n",
              "1103  11321  \n",
              "1104  11321  \n",
              "1105  11321  \n",
              "1106  11321  "
            ],
            "text/html": [
              "\n",
              "  <div id=\"df-a1738130-d00e-4025-82eb-001ac54a4885\">\n",
              "    <div class=\"colab-df-container\">\n",
              "      <div>\n",
              "<style scoped>\n",
              "    .dataframe tbody tr th:only-of-type {\n",
              "        vertical-align: middle;\n",
              "    }\n",
              "\n",
              "    .dataframe tbody tr th {\n",
              "        vertical-align: top;\n",
              "    }\n",
              "\n",
              "    .dataframe thead th {\n",
              "        text-align: right;\n",
              "    }\n",
              "</style>\n",
              "<table border=\"1\" class=\"dataframe\">\n",
              "  <thead>\n",
              "    <tr style=\"text-align: right;\">\n",
              "      <th></th>\n",
              "      <th>conclusion</th>\n",
              "      <th>premises</th>\n",
              "      <th>map_ID</th>\n",
              "    </tr>\n",
              "  </thead>\n",
              "  <tbody>\n",
              "    <tr>\n",
              "      <th>1102</th>\n",
              "      <td>CLINTON sure hopes people will get out and vote as though their future depended on it</td>\n",
              "      <td>people's future does depend on the election</td>\n",
              "      <td>11321</td>\n",
              "    </tr>\n",
              "    <tr>\n",
              "      <th>1103</th>\n",
              "      <td>perhaps it was worse than pressing the wrong button</td>\n",
              "      <td>perhaps it was corruption</td>\n",
              "      <td>11321</td>\n",
              "    </tr>\n",
              "    <tr>\n",
              "      <th>1104</th>\n",
              "      <td>perhaps it was corruption</td>\n",
              "      <td>these people that we were going to deport for good reason ended up becoming citizens</td>\n",
              "      <td>11321</td>\n",
              "    </tr>\n",
              "    <tr>\n",
              "      <th>1105</th>\n",
              "      <td>people are pouring into the USA</td>\n",
              "      <td>the other day USA were deporting 800 people</td>\n",
              "      <td>11321</td>\n",
              "    </tr>\n",
              "    <tr>\n",
              "      <th>1106</th>\n",
              "      <td>CLINTON certainly will support the outcome of this election</td>\n",
              "      <td>CLINTON supports USA's democracy</td>\n",
              "      <td>11321</td>\n",
              "    </tr>\n",
              "  </tbody>\n",
              "</table>\n",
              "</div>\n",
              "      <button class=\"colab-df-convert\" onclick=\"convertToInteractive('df-a1738130-d00e-4025-82eb-001ac54a4885')\"\n",
              "              title=\"Convert this dataframe to an interactive table.\"\n",
              "              style=\"display:none;\">\n",
              "        \n",
              "  <svg xmlns=\"http://www.w3.org/2000/svg\" height=\"24px\"viewBox=\"0 0 24 24\"\n",
              "       width=\"24px\">\n",
              "    <path d=\"M0 0h24v24H0V0z\" fill=\"none\"/>\n",
              "    <path d=\"M18.56 5.44l.94 2.06.94-2.06 2.06-.94-2.06-.94-.94-2.06-.94 2.06-2.06.94zm-11 1L8.5 8.5l.94-2.06 2.06-.94-2.06-.94L8.5 2.5l-.94 2.06-2.06.94zm10 10l.94 2.06.94-2.06 2.06-.94-2.06-.94-.94-2.06-.94 2.06-2.06.94z\"/><path d=\"M17.41 7.96l-1.37-1.37c-.4-.4-.92-.59-1.43-.59-.52 0-1.04.2-1.43.59L10.3 9.45l-7.72 7.72c-.78.78-.78 2.05 0 2.83L4 21.41c.39.39.9.59 1.41.59.51 0 1.02-.2 1.41-.59l7.78-7.78 2.81-2.81c.8-.78.8-2.07 0-2.86zM5.41 20L4 18.59l7.72-7.72 1.47 1.35L5.41 20z\"/>\n",
              "  </svg>\n",
              "      </button>\n",
              "      \n",
              "  <style>\n",
              "    .colab-df-container {\n",
              "      display:flex;\n",
              "      flex-wrap:wrap;\n",
              "      gap: 12px;\n",
              "    }\n",
              "\n",
              "    .colab-df-convert {\n",
              "      background-color: #E8F0FE;\n",
              "      border: none;\n",
              "      border-radius: 50%;\n",
              "      cursor: pointer;\n",
              "      display: none;\n",
              "      fill: #1967D2;\n",
              "      height: 32px;\n",
              "      padding: 0 0 0 0;\n",
              "      width: 32px;\n",
              "    }\n",
              "\n",
              "    .colab-df-convert:hover {\n",
              "      background-color: #E2EBFA;\n",
              "      box-shadow: 0px 1px 2px rgba(60, 64, 67, 0.3), 0px 1px 3px 1px rgba(60, 64, 67, 0.15);\n",
              "      fill: #174EA6;\n",
              "    }\n",
              "\n",
              "    [theme=dark] .colab-df-convert {\n",
              "      background-color: #3B4455;\n",
              "      fill: #D2E3FC;\n",
              "    }\n",
              "\n",
              "    [theme=dark] .colab-df-convert:hover {\n",
              "      background-color: #434B5C;\n",
              "      box-shadow: 0px 1px 3px 1px rgba(0, 0, 0, 0.15);\n",
              "      filter: drop-shadow(0px 1px 2px rgba(0, 0, 0, 0.3));\n",
              "      fill: #FFFFFF;\n",
              "    }\n",
              "  </style>\n",
              "\n",
              "      <script>\n",
              "        const buttonEl =\n",
              "          document.querySelector('#df-a1738130-d00e-4025-82eb-001ac54a4885 button.colab-df-convert');\n",
              "        buttonEl.style.display =\n",
              "          google.colab.kernel.accessAllowed ? 'block' : 'none';\n",
              "\n",
              "        async function convertToInteractive(key) {\n",
              "          const element = document.querySelector('#df-a1738130-d00e-4025-82eb-001ac54a4885');\n",
              "          const dataTable =\n",
              "            await google.colab.kernel.invokeFunction('convertToInteractive',\n",
              "                                                     [key], {});\n",
              "          if (!dataTable) return;\n",
              "\n",
              "          const docLinkHtml = 'Like what you see? Visit the ' +\n",
              "            '<a target=\"_blank\" href=https://colab.research.google.com/notebooks/data_table.ipynb>data table notebook</a>'\n",
              "            + ' to learn more about interactive tables.';\n",
              "          element.innerHTML = '';\n",
              "          dataTable['output_type'] = 'display_data';\n",
              "          await google.colab.output.renderOutput(dataTable, element);\n",
              "          const docLink = document.createElement('div');\n",
              "          docLink.innerHTML = docLinkHtml;\n",
              "          element.appendChild(docLink);\n",
              "        }\n",
              "      </script>\n",
              "    </div>\n",
              "  </div>\n",
              "  "
            ]
          },
          "metadata": {},
          "execution_count": 57
        }
      ]
    },
    {
      "cell_type": "code",
      "source": [
        "ids_match_itc = []\n",
        "ids_match_corp_deb = []\n",
        "str_match = []\n",
        "\n",
        "for i1 in data.index:\n",
        "  for i2 in df_text.index:\n",
        "    if data.loc[i1, 'debate_claim'] in df_text.loc[i2, 'conclusion']:\n",
        "      ids_match_itc.append(i1)\n",
        "      ids_match_corp_deb.append(i2)\n",
        "      str_match.append('conclusion')\n",
        "    elif data.loc[i1, 'debate_claim'] in df_text.loc[i2, 'premises']:\n",
        "      ids_match_itc.append(i1)\n",
        "      ids_match_corp_deb.append(i2)\n",
        "      str_match.append('premises')\n"
      ],
      "metadata": {
        "id": "ussjsxX54pLe"
      },
      "execution_count": null,
      "outputs": []
    },
    {
      "cell_type": "code",
      "source": [
        "deb = np.concatenate([df_text.loc[ids_match_corp_deb], data.loc[ids_match_itc], pd.DataFrame(str_match, columns=['match_on'])], axis = 1)\n",
        "deb = pd.DataFrame(deb, columns = list(df_text.columns)+list(data.columns)+['match_on'])\n",
        "\n",
        "deb.drop_duplicates(['debate_claim','text_reddit'], inplace=True)"
      ],
      "metadata": {
        "id": "YcwGPu8Sjp7-"
      },
      "execution_count": null,
      "outputs": []
    },
    {
      "cell_type": "code",
      "source": [
        "deb.debate_claim.nunique()"
      ],
      "metadata": {
        "colab": {
          "base_uri": "https://localhost:8080/"
        },
        "id": "MQf6ECNs_r9D",
        "outputId": "06cfaf57-37a5-4e16-9af2-f8eeaef67e46"
      },
      "execution_count": null,
      "outputs": [
        {
          "output_type": "execute_result",
          "data": {
            "text/plain": [
              "68"
            ]
          },
          "metadata": {},
          "execution_count": 19
        }
      ]
    },
    {
      "cell_type": "code",
      "source": [
        "deb.reset_index(inplace=True, drop=True)"
      ],
      "metadata": {
        "id": "dB7EinU3Xh9b"
      },
      "execution_count": null,
      "outputs": []
    },
    {
      "cell_type": "code",
      "source": [
        "deb['debate_match'] = '' # whether a politician claim in a conclusion or a premise in ITC \n",
        "deb['debate_claim'] = '' # text of a politician claim \n",
        "\n",
        "\n",
        "for i2 in deb.index:\n",
        "    if deb.loc[i2, 'type_match'] == 'premise reddit':\n",
        "      deb.loc[i2, 'debate_match'] = 'conclusion deb'\n",
        "      deb.loc[i2, 'debate_claim'] = deb.loc[i2, 'conclusion']\n",
        "    \n",
        "    elif deb.loc[i2, 'type_match'] == 'conclusion reddit':\n",
        "      deb.loc[i2, 'debate_match'] = 'premise deb'\n",
        "      deb.loc[i2, 'debate_claim'] = deb.loc[i2, 'premises']\n",
        "\n"
      ],
      "metadata": {
        "id": "riWwulQuXxG9"
      },
      "execution_count": null,
      "outputs": []
    },
    {
      "cell_type": "markdown",
      "source": [
        "##Add multi-layers annotation"
      ],
      "metadata": {
        "id": "_CZO9GBUakKY"
      }
    },
    {
      "cell_type": "code",
      "source": [
        "df = load_data(\"/content/drive/MyDrive/Colab Notebooks/debates/us2016itc/file_itc.xlsx\")"
      ],
      "metadata": {
        "id": "jRjzrNKFOE39"
      },
      "execution_count": null,
      "outputs": []
    },
    {
      "cell_type": "code",
      "source": [
        "df['conclusion'] = df['conclusion'].str.lower()\n",
        "df['premises'] = df['premises'].str.lower()"
      ],
      "metadata": {
        "id": "JGQXIcg1VM7F"
      },
      "execution_count": null,
      "outputs": []
    },
    {
      "cell_type": "code",
      "source": [
        "# merge LEP annotation with itc corpus\n",
        "\n",
        "df1 = pd.merge(df, layers, left_on = 'p_match', right_on='text_I', how = 'inner') \n",
        "print(df1.shape)\n",
        "df1.dropna(subset=['p_match', 'text_I'], axis=0, inplace=True)\n",
        "\n",
        "\n",
        "df2 = pd.merge(df, layers, left_on = 'c_match', right_on='text_I', how = 'inner')\n",
        "df2.dropna(subset=['c_match', 'text_I'], axis=0, inplace=True)\n",
        "print(df2.shape)\n",
        "\n",
        "\n",
        "df3 = pd.merge(df, layers, left_on = 'p_match', right_on='Text_pat', how = 'inner')\n",
        "df3.dropna(subset=['p_match', 'Text_pat'], axis=0, inplace=True)\n",
        "print(df3.shape)\n",
        "\n",
        "\n",
        "df4 = pd.merge(df, layers, left_on = 'c_match', right_on='Text_pat', how = 'inner')\n",
        "df4.dropna(subset=['c_match', 'Text_pat'], axis=0, inplace=True)\n"
      ],
      "metadata": {
        "id": "S-FRv0o6kKQw"
      },
      "execution_count": null,
      "outputs": []
    },
    {
      "cell_type": "code",
      "source": [
        "df = pd.concat([df1, df2, df3, df4], axis = 0)"
      ],
      "metadata": {
        "id": "wLekqxCglZtK"
      },
      "execution_count": null,
      "outputs": []
    },
    {
      "cell_type": "code",
      "source": [
        "df.drop_duplicates(['Text_pat', 'Num_pat', 'premises'], inplace=True)\n",
        "df.sort_values(by = 'Num_pat', inplace=True)"
      ],
      "metadata": {
        "id": "DAHKWWZIng8Q"
      },
      "execution_count": null,
      "outputs": []
    },
    {
      "cell_type": "markdown",
      "source": [
        "#Add Reddit comments"
      ],
      "metadata": {
        "id": "G3Q_W9tueE_p"
      }
    },
    {
      "cell_type": "code",
      "source": [
        "layers.shape"
      ],
      "metadata": {
        "colab": {
          "base_uri": "https://localhost:8080/"
        },
        "id": "14NJQu_jkf4M",
        "outputId": "7a5c0502-af03-49c8-e9c5-797572cc82a5"
      },
      "execution_count": null,
      "outputs": [
        {
          "output_type": "execute_result",
          "data": {
            "text/plain": [
              "(4263, 51)"
            ]
          },
          "metadata": {},
          "execution_count": 45
        }
      ]
    },
    {
      "cell_type": "code",
      "source": [
        "df_num = df.Num_pat.tolist()\n",
        "df_num = set(df_num)\n",
        "len(df_num)"
      ],
      "metadata": {
        "colab": {
          "base_uri": "https://localhost:8080/"
        },
        "id": "8SiRrbpMkrPs",
        "outputId": "50120920-41ee-4873-fbd4-9d5ff89d4ae6"
      },
      "execution_count": null,
      "outputs": [
        {
          "output_type": "execute_result",
          "data": {
            "text/plain": [
              "151"
            ]
          },
          "metadata": {},
          "execution_count": 40
        }
      ]
    },
    {
      "cell_type": "code",
      "source": [
        "et_num = layers.Num_pat.tolist()\n",
        "et_num = set(et_num)\n",
        "len(et_num)"
      ],
      "metadata": {
        "colab": {
          "base_uri": "https://localhost:8080/"
        },
        "id": "kAIV5WcvlBGJ",
        "outputId": "fe4edfa4-21d5-4983-f602-f4008e658c69"
      },
      "execution_count": null,
      "outputs": [
        {
          "output_type": "execute_result",
          "data": {
            "text/plain": [
              "4263"
            ]
          },
          "metadata": {},
          "execution_count": 42
        }
      ]
    },
    {
      "cell_type": "code",
      "source": [
        "add_redit = []\n",
        "\n",
        "for n in df_num:\n",
        "  new_up = [n + i for i in range(10)] # add ids of the following 10 comments in the data\n",
        "  add_redit.extend(new_up)\n",
        "\n",
        "len(add_redit)"
      ],
      "metadata": {
        "colab": {
          "base_uri": "https://localhost:8080/"
        },
        "id": "l2GCZjSflH8w",
        "outputId": "11671e1c-32c2-4a07-e875-3d6eba6b959c"
      },
      "execution_count": null,
      "outputs": [
        {
          "output_type": "execute_result",
          "data": {
            "text/plain": [
              "1510"
            ]
          },
          "metadata": {},
          "execution_count": 108
        }
      ]
    },
    {
      "cell_type": "code",
      "source": [
        "new_redit = set(add_redit).intersection(et_num) # check whether those ids are indeed in the data\n",
        "len(new_redit)"
      ],
      "metadata": {
        "colab": {
          "base_uri": "https://localhost:8080/"
        },
        "id": "zpIFiNW0mXyv",
        "outputId": "4440fb84-4e45-4bbb-f278-a20e8959c3bd"
      },
      "execution_count": null,
      "outputs": [
        {
          "output_type": "execute_result",
          "data": {
            "text/plain": [
              "1198"
            ]
          },
          "metadata": {},
          "execution_count": 109
        }
      ]
    },
    {
      "cell_type": "code",
      "source": [
        "new_redit = [i for i in new_redit if i not in df_num]\n",
        "len(new_redit)"
      ],
      "metadata": {
        "colab": {
          "base_uri": "https://localhost:8080/"
        },
        "id": "8vDJt8SUmk1r",
        "outputId": "891f5c99-5a42-40aa-dbaa-2d76a2df48fd"
      },
      "execution_count": null,
      "outputs": [
        {
          "output_type": "execute_result",
          "data": {
            "text/plain": [
              "1047"
            ]
          },
          "metadata": {},
          "execution_count": 65
        }
      ]
    },
    {
      "cell_type": "code",
      "source": [
        "add_et = layers[layers.Num_pat.isin(new_redit)]\n",
        "add_et.shape"
      ],
      "metadata": {
        "colab": {
          "base_uri": "https://localhost:8080/"
        },
        "id": "2-lGcbP-ms1C",
        "outputId": "9de98ca9-971f-4438-fdd2-536aa712093d"
      },
      "execution_count": null,
      "outputs": [
        {
          "output_type": "execute_result",
          "data": {
            "text/plain": [
              "(1047, 51)"
            ]
          },
          "metadata": {},
          "execution_count": 93
        }
      ]
    },
    {
      "cell_type": "code",
      "source": [
        "col_et = [c for c in layers.columns if c in df.columns]\n",
        "len(col_et), len(layers.columns)"
      ],
      "metadata": {
        "colab": {
          "base_uri": "https://localhost:8080/"
        },
        "id": "tvkoRiNbpPHd",
        "outputId": "7a57c3d6-d390-4bfc-cf26-63b9218e5d5f"
      },
      "execution_count": null,
      "outputs": [
        {
          "output_type": "execute_result",
          "data": {
            "text/plain": [
              "(46, 51)"
            ]
          },
          "metadata": {},
          "execution_count": 94
        }
      ]
    },
    {
      "cell_type": "code",
      "source": [
        "add_et = add_et[col_et]\n",
        "add_et.shape"
      ],
      "metadata": {
        "colab": {
          "base_uri": "https://localhost:8080/"
        },
        "id": "ervAogHgppJW",
        "outputId": "dc792f56-7d6e-414c-f772-6cc6670c9ef4"
      },
      "execution_count": null,
      "outputs": [
        {
          "output_type": "execute_result",
          "data": {
            "text/plain": [
              "(1047, 46)"
            ]
          },
          "metadata": {},
          "execution_count": 95
        }
      ]
    },
    {
      "cell_type": "code",
      "source": [
        "col = [c for c in df.columns if c not in add_et.columns]"
      ],
      "metadata": {
        "id": "6BTPNfDVpyHC"
      },
      "execution_count": null,
      "outputs": []
    },
    {
      "cell_type": "code",
      "source": [
        "for c in col:\n",
        "  add_et[c] = np.nan\n",
        "\n",
        "add_et.shape"
      ],
      "metadata": {
        "colab": {
          "base_uri": "https://localhost:8080/"
        },
        "id": "zIZ8CjeFp7MQ",
        "outputId": "ecba06c1-e4b4-44e1-a84f-782fc8871d69"
      },
      "execution_count": null,
      "outputs": [
        {
          "output_type": "execute_result",
          "data": {
            "text/plain": [
              "(1047, 57)"
            ]
          },
          "metadata": {},
          "execution_count": 97
        }
      ]
    },
    {
      "cell_type": "code",
      "source": [
        "df.shape"
      ],
      "metadata": {
        "colab": {
          "base_uri": "https://localhost:8080/"
        },
        "id": "4WzyqZXHnoah",
        "outputId": "d82d2bc6-5820-4ef4-c75b-b3cbe38d32d0"
      },
      "execution_count": null,
      "outputs": [
        {
          "output_type": "execute_result",
          "data": {
            "text/plain": [
              "(152, 57)"
            ]
          },
          "metadata": {},
          "execution_count": 98
        }
      ]
    },
    {
      "cell_type": "code",
      "source": [
        "add_et = add_et[df.columns]\n",
        "add_et"
      ],
      "metadata": {
        "id": "bIYj9uekqFLn"
      },
      "execution_count": null,
      "outputs": []
    },
    {
      "cell_type": "code",
      "source": [
        "# add those new comments to the retrieved itc corpus\n",
        "\n",
        "df_add = pd.concat([df, add_et], axis = 0)\n",
        "df_add.sort_values(by = 'Num_pat', inplace=True)\n",
        "df_add.reset_index(inplace=True, drop = True)\n",
        "df_add.head()"
      ],
      "metadata": {
        "id": "CcIUaxAnqRDm"
      },
      "execution_count": null,
      "outputs": []
    },
    {
      "cell_type": "code",
      "source": [
        "df_add.shape"
      ],
      "metadata": {
        "colab": {
          "base_uri": "https://localhost:8080/"
        },
        "id": "siEB4UHbqobR",
        "outputId": "59f726a8-a849-4461-ad91-f9d67c5cfc75"
      },
      "execution_count": null,
      "outputs": [
        {
          "output_type": "execute_result",
          "data": {
            "text/plain": [
              "(1199, 57)"
            ]
          },
          "metadata": {},
          "execution_count": 103
        }
      ]
    },
    {
      "cell_type": "code",
      "source": [
        "df_add[['debate_match', 'debate_claim']] = df_add[['debate_match', 'debate_claim']].fillna(method = 'ffill', limit = 10)"
      ],
      "metadata": {
        "id": "y_YCUXdAr9C9"
      },
      "execution_count": null,
      "outputs": []
    },
    {
      "cell_type": "code",
      "source": [
        "df_add.to_excel(\"/content/drive/MyDrive/Colab Notebooks/debates/us2016itc/itc_US_processed_debate_arg_only.xlsx\")"
      ],
      "metadata": {
        "id": "KJzP5OKWqrc3"
      },
      "execution_count": null,
      "outputs": []
    },
    {
      "cell_type": "markdown",
      "source": [
        "#Results"
      ],
      "metadata": {
        "id": "1erN0stXslCV"
      }
    },
    {
      "cell_type": "markdown",
      "source": [
        "##Expressed emotios stats"
      ],
      "metadata": {
        "id": "qK_kuFeHYliG"
      }
    },
    {
      "cell_type": "code",
      "source": [
        "merged = load_data('/content/drive/MyDrive/Colab Notebooks/debates/us2016itc/itc_US_processed_debate_arg_only.xlsx')\n",
        "merged = merged[merged.debate != 'D1']\n",
        "merged.shape"
      ],
      "metadata": {
        "id": "-m0NwugmYoNV",
        "colab": {
          "base_uri": "https://localhost:8080/"
        },
        "outputId": "4e37c436-fc00-4faa-8b3b-c29409c25e31"
      },
      "execution_count": null,
      "outputs": [
        {
          "output_type": "execute_result",
          "data": {
            "text/plain": [
              "(482, 116)"
            ]
          },
          "metadata": {},
          "execution_count": 5
        }
      ]
    },
    {
      "cell_type": "code",
      "source": [
        "merged.head(1)"
      ],
      "metadata": {
        "colab": {
          "base_uri": "https://localhost:8080/",
          "height": 179
        },
        "id": "Rl608A7hYyL8",
        "outputId": "0cadd903-846c-4b00-9502-557ab4639f8c"
      },
      "execution_count": null,
      "outputs": [
        {
          "output_type": "execute_result",
          "data": {
            "text/plain": [
              "          Num debate   map_ID                      debate_claim  \\\n",
              "225.0  1552.0     R1  10828.0  in florida, they called bush jeb   \n",
              "\n",
              "                             conclusion        premises       text_reddit  \\\n",
              "225.0  in florida, they called bush jeb  bush earned it  They call me Jeb   \n",
              "\n",
              "                timestamp   Node_id  nodeset_id clean_text_reddit  \\\n",
              "225.0 2016-10-07 16:09:00  204623.0     10303.0  they call me jeb   \n",
              "\n",
              "      recognized_emotion recognised_sentiment  \\\n",
              "225.0           surprise             Negative   \n",
              "\n",
              "                                    conclusion_lemmatized  \\\n",
              "225.0  ['in', 'florida', '-PRON-', 'call', 'bush', 'jeb']   \n",
              "\n",
              "      conclusion_emotive_words  conclusion_joy  conclusion_anger  \\\n",
              "225.0                       []             NaN               NaN   \n",
              "\n",
              "       conclusion_sadness  conclusion_fear  conclusion_disgust  \\\n",
              "225.0                 NaN              NaN                 NaN   \n",
              "\n",
              "       conclusion_surprise  conclusion_trust  conclusion_anticipation  \\\n",
              "225.0                  NaN               NaN                      NaN   \n",
              "\n",
              "      conclusion_joy_individual conclusion_anger_individual  \\\n",
              "225.0                        []                          []   \n",
              "\n",
              "      conclusion_sadness_individual conclusion_fear_individual  \\\n",
              "225.0                            []                         []   \n",
              "\n",
              "      conclusion_disgust_individual conclusion_surprise_individual  \\\n",
              "225.0                            []                             []   \n",
              "\n",
              "      conclusion_trust_individual conclusion_anticipation_individual  \\\n",
              "225.0                          []                                 []   \n",
              "\n",
              "      conclusion_emotion_categories_NRC         premises_lemmatized  \\\n",
              "225.0                                []  ['bush', 'earn', '-PRON-']   \n",
              "\n",
              "      premises_emotive_words  premises_joy  premises_anger  premises_sadness  \\\n",
              "225.0               ['earn']           0.0             0.0               0.0   \n",
              "\n",
              "       premises_fear  premises_disgust  premises_surprise  premises_trust  \\\n",
              "225.0            0.0               0.0                0.0           0.562   \n",
              "\n",
              "       premises_anticipation premises_joy_individual  \\\n",
              "225.0                    0.0                   [0.0]   \n",
              "\n",
              "      premises_anger_individual premises_sadness_individual  \\\n",
              "225.0                     [0.0]                       [0.0]   \n",
              "\n",
              "      premises_fear_individual premises_disgust_individual  \\\n",
              "225.0                    [0.0]                       [0.0]   \n",
              "\n",
              "      premises_surprise_individual premises_trust_individual  \\\n",
              "225.0                        [0.0]                   [0.562]   \n",
              "\n",
              "      premises_anticipation_individual premises_emotion_categories_NRC  \\\n",
              "225.0                            [0.0]                    ['positive']   \n",
              "\n",
              "       CATEGORY_premises_anger  CATEGORY_premises_disgust  \\\n",
              "225.0                      0.0                        0.0   \n",
              "\n",
              "       CATEGORY_premises_fear  CATEGORY_premises_negative  \\\n",
              "225.0                     0.0                         0.0   \n",
              "\n",
              "       CATEGORY_premises_sadness  CATEGORY_premises_trust  \\\n",
              "225.0                        0.0                      0.0   \n",
              "\n",
              "       CATEGORY_premises_anticipation  CATEGORY_premises_surprise  \\\n",
              "225.0                             0.0                         0.0   \n",
              "\n",
              "       CATEGORY_premises_joy  CATEGORY_premises_positive  \\\n",
              "225.0                    0.0                         1.0   \n",
              "\n",
              "      premises_valence_words  premises_valence_negative  \\\n",
              "225.0               ['earn']                        0.0   \n",
              "\n",
              "       premises_valence_positive  premises_Negative_percentage  \\\n",
              "225.0                        1.0                           0.0   \n",
              "\n",
              "       premises_Positive_percentage  \\\n",
              "225.0                         0.333   \n",
              "\n",
              "                                         full_argument  \\\n",
              "225.0  in florida, they called bush jeb bush earned it   \n",
              "\n",
              "                                                           full_argument_lemmatized  \\\n",
              "225.0  ['in', 'florida', '-PRON-', 'call', 'bush', 'jeb', 'bush', 'earn', '-PRON-']   \n",
              "\n",
              "      full_argument_emotive_words  full_argument_joy  full_argument_anger  \\\n",
              "225.0                    ['earn']                0.0                  0.0   \n",
              "\n",
              "       full_argument_sadness  full_argument_fear  full_argument_disgust  \\\n",
              "225.0                    0.0                 0.0                    0.0   \n",
              "\n",
              "       full_argument_surprise  full_argument_trust  \\\n",
              "225.0                     0.0                0.562   \n",
              "\n",
              "       full_argument_anticipation full_argument_joy_individual  \\\n",
              "225.0                         0.0                        [0.0]   \n",
              "\n",
              "      full_argument_anger_individual full_argument_sadness_individual  \\\n",
              "225.0                          [0.0]                            [0.0]   \n",
              "\n",
              "      full_argument_fear_individual full_argument_disgust_individual  \\\n",
              "225.0                         [0.0]                            [0.0]   \n",
              "\n",
              "      full_argument_surprise_individual full_argument_trust_individual  \\\n",
              "225.0                             [0.0]                        [0.562]   \n",
              "\n",
              "      full_argument_anticipation_individual  \\\n",
              "225.0                                 [0.0]   \n",
              "\n",
              "      full_argument_emotion_categories_NRC  CATEGORY_full_argument_joy  \\\n",
              "225.0                         ['positive']                         0.0   \n",
              "\n",
              "       CATEGORY_full_argument_positive  CATEGORY_full_argument_trust  \\\n",
              "225.0                              1.0                           0.0   \n",
              "\n",
              "       CATEGORY_full_argument_anger  CATEGORY_full_argument_disgust  \\\n",
              "225.0                           0.0                             0.0   \n",
              "\n",
              "       CATEGORY_full_argument_fear  CATEGORY_full_argument_negative  \\\n",
              "225.0                          0.0                              0.0   \n",
              "\n",
              "       CATEGORY_full_argument_sadness  CATEGORY_full_argument_anticipation  \\\n",
              "225.0                             0.0                                  0.0   \n",
              "\n",
              "       CATEGORY_full_argument_surprise full_argument_valence_words  \\\n",
              "225.0                              0.0                    ['earn']   \n",
              "\n",
              "       full_argument_valence_negative  full_argument_valence_positive  \\\n",
              "225.0                             0.0                             1.0   \n",
              "\n",
              "       full_argument_Negative_percentage  full_argument_Positive_percentage  \\\n",
              "225.0                                0.0                              0.111   \n",
              "\n",
              "       CATEGORY_conclusion_trust  CATEGORY_conclusion_fear  \\\n",
              "225.0                        0.0                       0.0   \n",
              "\n",
              "       CATEGORY_conclusion_negative  CATEGORY_conclusion_sadness  \\\n",
              "225.0                           0.0                          0.0   \n",
              "\n",
              "       CATEGORY_conclusion_anger  CATEGORY_conclusion_surprise  \\\n",
              "225.0                        0.0                           0.0   \n",
              "\n",
              "       CATEGORY_conclusion_positive  CATEGORY_conclusion_disgust  \\\n",
              "225.0                           0.0                          0.0   \n",
              "\n",
              "       CATEGORY_conclusion_joy  CATEGORY_conclusion_anticipation  \\\n",
              "225.0                      0.0                               0.0   \n",
              "\n",
              "      conclusion_valence_words  conclusion_valence_negative  \\\n",
              "225.0                       []                          0.0   \n",
              "\n",
              "       conclusion_valence_positive  conclusion_Negative_percentage  \\\n",
              "225.0                          0.0                             0.0   \n",
              "\n",
              "       conclusion_Positive_percentage  \n",
              "225.0                             0.0  "
            ],
            "text/html": [
              "\n",
              "  <div id=\"df-c4cc35eb-6120-47a2-a605-3dc5e7c5b330\">\n",
              "    <div class=\"colab-df-container\">\n",
              "      <div>\n",
              "<style scoped>\n",
              "    .dataframe tbody tr th:only-of-type {\n",
              "        vertical-align: middle;\n",
              "    }\n",
              "\n",
              "    .dataframe tbody tr th {\n",
              "        vertical-align: top;\n",
              "    }\n",
              "\n",
              "    .dataframe thead th {\n",
              "        text-align: right;\n",
              "    }\n",
              "</style>\n",
              "<table border=\"1\" class=\"dataframe\">\n",
              "  <thead>\n",
              "    <tr style=\"text-align: right;\">\n",
              "      <th></th>\n",
              "      <th>Num</th>\n",
              "      <th>debate</th>\n",
              "      <th>map_ID</th>\n",
              "      <th>debate_claim</th>\n",
              "      <th>conclusion</th>\n",
              "      <th>premises</th>\n",
              "      <th>text_reddit</th>\n",
              "      <th>timestamp</th>\n",
              "      <th>Node_id</th>\n",
              "      <th>nodeset_id</th>\n",
              "      <th>clean_text_reddit</th>\n",
              "      <th>recognized_emotion</th>\n",
              "      <th>recognised_sentiment</th>\n",
              "      <th>conclusion_lemmatized</th>\n",
              "      <th>conclusion_emotive_words</th>\n",
              "      <th>conclusion_joy</th>\n",
              "      <th>conclusion_anger</th>\n",
              "      <th>conclusion_sadness</th>\n",
              "      <th>conclusion_fear</th>\n",
              "      <th>conclusion_disgust</th>\n",
              "      <th>conclusion_surprise</th>\n",
              "      <th>conclusion_trust</th>\n",
              "      <th>conclusion_anticipation</th>\n",
              "      <th>conclusion_joy_individual</th>\n",
              "      <th>conclusion_anger_individual</th>\n",
              "      <th>conclusion_sadness_individual</th>\n",
              "      <th>conclusion_fear_individual</th>\n",
              "      <th>conclusion_disgust_individual</th>\n",
              "      <th>conclusion_surprise_individual</th>\n",
              "      <th>conclusion_trust_individual</th>\n",
              "      <th>conclusion_anticipation_individual</th>\n",
              "      <th>conclusion_emotion_categories_NRC</th>\n",
              "      <th>premises_lemmatized</th>\n",
              "      <th>premises_emotive_words</th>\n",
              "      <th>premises_joy</th>\n",
              "      <th>premises_anger</th>\n",
              "      <th>premises_sadness</th>\n",
              "      <th>premises_fear</th>\n",
              "      <th>premises_disgust</th>\n",
              "      <th>premises_surprise</th>\n",
              "      <th>premises_trust</th>\n",
              "      <th>premises_anticipation</th>\n",
              "      <th>premises_joy_individual</th>\n",
              "      <th>premises_anger_individual</th>\n",
              "      <th>premises_sadness_individual</th>\n",
              "      <th>premises_fear_individual</th>\n",
              "      <th>premises_disgust_individual</th>\n",
              "      <th>premises_surprise_individual</th>\n",
              "      <th>premises_trust_individual</th>\n",
              "      <th>premises_anticipation_individual</th>\n",
              "      <th>premises_emotion_categories_NRC</th>\n",
              "      <th>CATEGORY_premises_anger</th>\n",
              "      <th>CATEGORY_premises_disgust</th>\n",
              "      <th>CATEGORY_premises_fear</th>\n",
              "      <th>CATEGORY_premises_negative</th>\n",
              "      <th>CATEGORY_premises_sadness</th>\n",
              "      <th>CATEGORY_premises_trust</th>\n",
              "      <th>CATEGORY_premises_anticipation</th>\n",
              "      <th>CATEGORY_premises_surprise</th>\n",
              "      <th>CATEGORY_premises_joy</th>\n",
              "      <th>CATEGORY_premises_positive</th>\n",
              "      <th>premises_valence_words</th>\n",
              "      <th>premises_valence_negative</th>\n",
              "      <th>premises_valence_positive</th>\n",
              "      <th>premises_Negative_percentage</th>\n",
              "      <th>premises_Positive_percentage</th>\n",
              "      <th>full_argument</th>\n",
              "      <th>full_argument_lemmatized</th>\n",
              "      <th>full_argument_emotive_words</th>\n",
              "      <th>full_argument_joy</th>\n",
              "      <th>full_argument_anger</th>\n",
              "      <th>full_argument_sadness</th>\n",
              "      <th>full_argument_fear</th>\n",
              "      <th>full_argument_disgust</th>\n",
              "      <th>full_argument_surprise</th>\n",
              "      <th>full_argument_trust</th>\n",
              "      <th>full_argument_anticipation</th>\n",
              "      <th>full_argument_joy_individual</th>\n",
              "      <th>full_argument_anger_individual</th>\n",
              "      <th>full_argument_sadness_individual</th>\n",
              "      <th>full_argument_fear_individual</th>\n",
              "      <th>full_argument_disgust_individual</th>\n",
              "      <th>full_argument_surprise_individual</th>\n",
              "      <th>full_argument_trust_individual</th>\n",
              "      <th>full_argument_anticipation_individual</th>\n",
              "      <th>full_argument_emotion_categories_NRC</th>\n",
              "      <th>CATEGORY_full_argument_joy</th>\n",
              "      <th>CATEGORY_full_argument_positive</th>\n",
              "      <th>CATEGORY_full_argument_trust</th>\n",
              "      <th>CATEGORY_full_argument_anger</th>\n",
              "      <th>CATEGORY_full_argument_disgust</th>\n",
              "      <th>CATEGORY_full_argument_fear</th>\n",
              "      <th>CATEGORY_full_argument_negative</th>\n",
              "      <th>CATEGORY_full_argument_sadness</th>\n",
              "      <th>CATEGORY_full_argument_anticipation</th>\n",
              "      <th>CATEGORY_full_argument_surprise</th>\n",
              "      <th>full_argument_valence_words</th>\n",
              "      <th>full_argument_valence_negative</th>\n",
              "      <th>full_argument_valence_positive</th>\n",
              "      <th>full_argument_Negative_percentage</th>\n",
              "      <th>full_argument_Positive_percentage</th>\n",
              "      <th>CATEGORY_conclusion_trust</th>\n",
              "      <th>CATEGORY_conclusion_fear</th>\n",
              "      <th>CATEGORY_conclusion_negative</th>\n",
              "      <th>CATEGORY_conclusion_sadness</th>\n",
              "      <th>CATEGORY_conclusion_anger</th>\n",
              "      <th>CATEGORY_conclusion_surprise</th>\n",
              "      <th>CATEGORY_conclusion_positive</th>\n",
              "      <th>CATEGORY_conclusion_disgust</th>\n",
              "      <th>CATEGORY_conclusion_joy</th>\n",
              "      <th>CATEGORY_conclusion_anticipation</th>\n",
              "      <th>conclusion_valence_words</th>\n",
              "      <th>conclusion_valence_negative</th>\n",
              "      <th>conclusion_valence_positive</th>\n",
              "      <th>conclusion_Negative_percentage</th>\n",
              "      <th>conclusion_Positive_percentage</th>\n",
              "    </tr>\n",
              "  </thead>\n",
              "  <tbody>\n",
              "    <tr>\n",
              "      <th>225.0</th>\n",
              "      <td>1552.0</td>\n",
              "      <td>R1</td>\n",
              "      <td>10828.0</td>\n",
              "      <td>in florida, they called bush jeb</td>\n",
              "      <td>in florida, they called bush jeb</td>\n",
              "      <td>bush earned it</td>\n",
              "      <td>They call me Jeb</td>\n",
              "      <td>2016-10-07 16:09:00</td>\n",
              "      <td>204623.0</td>\n",
              "      <td>10303.0</td>\n",
              "      <td>they call me jeb</td>\n",
              "      <td>surprise</td>\n",
              "      <td>Negative</td>\n",
              "      <td>['in', 'florida', '-PRON-', 'call', 'bush', 'jeb']</td>\n",
              "      <td>[]</td>\n",
              "      <td>NaN</td>\n",
              "      <td>NaN</td>\n",
              "      <td>NaN</td>\n",
              "      <td>NaN</td>\n",
              "      <td>NaN</td>\n",
              "      <td>NaN</td>\n",
              "      <td>NaN</td>\n",
              "      <td>NaN</td>\n",
              "      <td>[]</td>\n",
              "      <td>[]</td>\n",
              "      <td>[]</td>\n",
              "      <td>[]</td>\n",
              "      <td>[]</td>\n",
              "      <td>[]</td>\n",
              "      <td>[]</td>\n",
              "      <td>[]</td>\n",
              "      <td>[]</td>\n",
              "      <td>['bush', 'earn', '-PRON-']</td>\n",
              "      <td>['earn']</td>\n",
              "      <td>0.0</td>\n",
              "      <td>0.0</td>\n",
              "      <td>0.0</td>\n",
              "      <td>0.0</td>\n",
              "      <td>0.0</td>\n",
              "      <td>0.0</td>\n",
              "      <td>0.562</td>\n",
              "      <td>0.0</td>\n",
              "      <td>[0.0]</td>\n",
              "      <td>[0.0]</td>\n",
              "      <td>[0.0]</td>\n",
              "      <td>[0.0]</td>\n",
              "      <td>[0.0]</td>\n",
              "      <td>[0.0]</td>\n",
              "      <td>[0.562]</td>\n",
              "      <td>[0.0]</td>\n",
              "      <td>['positive']</td>\n",
              "      <td>0.0</td>\n",
              "      <td>0.0</td>\n",
              "      <td>0.0</td>\n",
              "      <td>0.0</td>\n",
              "      <td>0.0</td>\n",
              "      <td>0.0</td>\n",
              "      <td>0.0</td>\n",
              "      <td>0.0</td>\n",
              "      <td>0.0</td>\n",
              "      <td>1.0</td>\n",
              "      <td>['earn']</td>\n",
              "      <td>0.0</td>\n",
              "      <td>1.0</td>\n",
              "      <td>0.0</td>\n",
              "      <td>0.333</td>\n",
              "      <td>in florida, they called bush jeb bush earned it</td>\n",
              "      <td>['in', 'florida', '-PRON-', 'call', 'bush', 'jeb', 'bush', 'earn', '-PRON-']</td>\n",
              "      <td>['earn']</td>\n",
              "      <td>0.0</td>\n",
              "      <td>0.0</td>\n",
              "      <td>0.0</td>\n",
              "      <td>0.0</td>\n",
              "      <td>0.0</td>\n",
              "      <td>0.0</td>\n",
              "      <td>0.562</td>\n",
              "      <td>0.0</td>\n",
              "      <td>[0.0]</td>\n",
              "      <td>[0.0]</td>\n",
              "      <td>[0.0]</td>\n",
              "      <td>[0.0]</td>\n",
              "      <td>[0.0]</td>\n",
              "      <td>[0.0]</td>\n",
              "      <td>[0.562]</td>\n",
              "      <td>[0.0]</td>\n",
              "      <td>['positive']</td>\n",
              "      <td>0.0</td>\n",
              "      <td>1.0</td>\n",
              "      <td>0.0</td>\n",
              "      <td>0.0</td>\n",
              "      <td>0.0</td>\n",
              "      <td>0.0</td>\n",
              "      <td>0.0</td>\n",
              "      <td>0.0</td>\n",
              "      <td>0.0</td>\n",
              "      <td>0.0</td>\n",
              "      <td>['earn']</td>\n",
              "      <td>0.0</td>\n",
              "      <td>1.0</td>\n",
              "      <td>0.0</td>\n",
              "      <td>0.111</td>\n",
              "      <td>0.0</td>\n",
              "      <td>0.0</td>\n",
              "      <td>0.0</td>\n",
              "      <td>0.0</td>\n",
              "      <td>0.0</td>\n",
              "      <td>0.0</td>\n",
              "      <td>0.0</td>\n",
              "      <td>0.0</td>\n",
              "      <td>0.0</td>\n",
              "      <td>0.0</td>\n",
              "      <td>[]</td>\n",
              "      <td>0.0</td>\n",
              "      <td>0.0</td>\n",
              "      <td>0.0</td>\n",
              "      <td>0.0</td>\n",
              "    </tr>\n",
              "  </tbody>\n",
              "</table>\n",
              "</div>\n",
              "      <button class=\"colab-df-convert\" onclick=\"convertToInteractive('df-c4cc35eb-6120-47a2-a605-3dc5e7c5b330')\"\n",
              "              title=\"Convert this dataframe to an interactive table.\"\n",
              "              style=\"display:none;\">\n",
              "        \n",
              "  <svg xmlns=\"http://www.w3.org/2000/svg\" height=\"24px\"viewBox=\"0 0 24 24\"\n",
              "       width=\"24px\">\n",
              "    <path d=\"M0 0h24v24H0V0z\" fill=\"none\"/>\n",
              "    <path d=\"M18.56 5.44l.94 2.06.94-2.06 2.06-.94-2.06-.94-.94-2.06-.94 2.06-2.06.94zm-11 1L8.5 8.5l.94-2.06 2.06-.94-2.06-.94L8.5 2.5l-.94 2.06-2.06.94zm10 10l.94 2.06.94-2.06 2.06-.94-2.06-.94-.94-2.06-.94 2.06-2.06.94z\"/><path d=\"M17.41 7.96l-1.37-1.37c-.4-.4-.92-.59-1.43-.59-.52 0-1.04.2-1.43.59L10.3 9.45l-7.72 7.72c-.78.78-.78 2.05 0 2.83L4 21.41c.39.39.9.59 1.41.59.51 0 1.02-.2 1.41-.59l7.78-7.78 2.81-2.81c.8-.78.8-2.07 0-2.86zM5.41 20L4 18.59l7.72-7.72 1.47 1.35L5.41 20z\"/>\n",
              "  </svg>\n",
              "      </button>\n",
              "      \n",
              "  <style>\n",
              "    .colab-df-container {\n",
              "      display:flex;\n",
              "      flex-wrap:wrap;\n",
              "      gap: 12px;\n",
              "    }\n",
              "\n",
              "    .colab-df-convert {\n",
              "      background-color: #E8F0FE;\n",
              "      border: none;\n",
              "      border-radius: 50%;\n",
              "      cursor: pointer;\n",
              "      display: none;\n",
              "      fill: #1967D2;\n",
              "      height: 32px;\n",
              "      padding: 0 0 0 0;\n",
              "      width: 32px;\n",
              "    }\n",
              "\n",
              "    .colab-df-convert:hover {\n",
              "      background-color: #E2EBFA;\n",
              "      box-shadow: 0px 1px 2px rgba(60, 64, 67, 0.3), 0px 1px 3px 1px rgba(60, 64, 67, 0.15);\n",
              "      fill: #174EA6;\n",
              "    }\n",
              "\n",
              "    [theme=dark] .colab-df-convert {\n",
              "      background-color: #3B4455;\n",
              "      fill: #D2E3FC;\n",
              "    }\n",
              "\n",
              "    [theme=dark] .colab-df-convert:hover {\n",
              "      background-color: #434B5C;\n",
              "      box-shadow: 0px 1px 3px 1px rgba(0, 0, 0, 0.15);\n",
              "      filter: drop-shadow(0px 1px 2px rgba(0, 0, 0, 0.3));\n",
              "      fill: #FFFFFF;\n",
              "    }\n",
              "  </style>\n",
              "\n",
              "      <script>\n",
              "        const buttonEl =\n",
              "          document.querySelector('#df-c4cc35eb-6120-47a2-a605-3dc5e7c5b330 button.colab-df-convert');\n",
              "        buttonEl.style.display =\n",
              "          google.colab.kernel.accessAllowed ? 'block' : 'none';\n",
              "\n",
              "        async function convertToInteractive(key) {\n",
              "          const element = document.querySelector('#df-c4cc35eb-6120-47a2-a605-3dc5e7c5b330');\n",
              "          const dataTable =\n",
              "            await google.colab.kernel.invokeFunction('convertToInteractive',\n",
              "                                                     [key], {});\n",
              "          if (!dataTable) return;\n",
              "\n",
              "          const docLinkHtml = 'Like what you see? Visit the ' +\n",
              "            '<a target=\"_blank\" href=https://colab.research.google.com/notebooks/data_table.ipynb>data table notebook</a>'\n",
              "            + ' to learn more about interactive tables.';\n",
              "          element.innerHTML = '';\n",
              "          dataTable['output_type'] = 'display_data';\n",
              "          await google.colab.output.renderOutput(dataTable, element);\n",
              "          const docLink = document.createElement('div');\n",
              "          docLink.innerHTML = docLinkHtml;\n",
              "          element.appendChild(docLink);\n",
              "        }\n",
              "      </script>\n",
              "    </div>\n",
              "  </div>\n",
              "  "
            ]
          },
          "metadata": {},
          "execution_count": 6
        }
      ]
    },
    {
      "cell_type": "code",
      "source": [
        "merged.recognized_emotion.value_counts(normalize=True).round(4)*100"
      ],
      "metadata": {
        "colab": {
          "base_uri": "https://localhost:8080/"
        },
        "id": "N9y-eh4EZD7c",
        "outputId": "5a700ebf-f06f-4286-dfe1-20eae854bd0c"
      },
      "execution_count": null,
      "outputs": [
        {
          "output_type": "execute_result",
          "data": {
            "text/plain": [
              "surprise    68.67\n",
              "anger       13.49\n",
              "joy         12.24\n",
              "sadness      3.73\n",
              "fear         1.45\n",
              "disgust      0.41\n",
              "Name: recognized_emotion, dtype: float64"
            ]
          },
          "metadata": {},
          "execution_count": 9
        }
      ]
    },
    {
      "cell_type": "code",
      "source": [
        "merged.recognised_sentiment.value_counts(normalize=True).round(4)*100"
      ],
      "metadata": {
        "colab": {
          "base_uri": "https://localhost:8080/"
        },
        "id": "VzB2WWmFfWbb",
        "outputId": "6bd79217-7ab7-470b-c731-00d0c870d532"
      },
      "execution_count": null,
      "outputs": [
        {
          "output_type": "execute_result",
          "data": {
            "text/plain": [
              "Negative    56.02\n",
              "Neutral     36.10\n",
              "Positive     7.88\n",
              "Name: recognised_sentiment, dtype: float64"
            ]
          },
          "metadata": {},
          "execution_count": 29
        }
      ]
    },
    {
      "cell_type": "code",
      "source": [
        "sns.set(font_scale=1.5, style='whitegrid')\n",
        "pd.DataFrame(merged.recognised_sentiment.value_counts(normalize=True).round(4)*100).sort_values(by = 'recognised_sentiment').plot(kind='barh', \n",
        "                                                                                                                          color='grey', \n",
        "                                                                                                                          legend=False)\n",
        "plt.xlabel('Percentage')\n",
        "plt.show()"
      ],
      "metadata": {
        "colab": {
          "base_uri": "https://localhost:8080/",
          "height": 475
        },
        "id": "mr1FtAOcf1rV",
        "outputId": "fbb0e27b-9afd-4ff1-b168-072d37ad901c"
      },
      "execution_count": null,
      "outputs": [
        {
          "output_type": "display_data",
          "data": {
            "text/plain": [
              "<Figure size 748.8x514.8 with 1 Axes>"
            ],
            "image/png": "[encoded data removed]"
          },
          "metadata": {}
        }
      ]
    },
    {
      "cell_type": "code",
      "source": [
        "sns.set(font_scale=1.5, style='whitegrid')\n",
        "pd.DataFrame(merged.recognized_emotion.value_counts(normalize=True).round(4)*100).sort_values(by = 'recognized_emotion').plot(kind='barh', \n",
        "                                                                                                                          color='grey', \n",
        "                                                                                                                          legend=False)\n",
        "plt.xlabel('Percentage')\n",
        "plt.show()"
      ],
      "metadata": {
        "colab": {
          "base_uri": "https://localhost:8080/",
          "height": 475
        },
        "id": "mmJkE0lPeo5i",
        "outputId": "92ae3528-3e77-498b-93d7-0fca12348923"
      },
      "execution_count": null,
      "outputs": [
        {
          "output_type": "display_data",
          "data": {
            "text/plain": [
              "<Figure size 748.8x514.8 with 1 Axes>"
            ],
            "image/png": "[encoded data removed]"
          },
          "metadata": {}
        }
      ]
    },
    {
      "cell_type": "code",
      "source": [
        "sm1 = load_data(\"/content/drive/MyDrive/Colab Notebooks/debates/validation_samples/tweet_May_expressed_sentiment.xlsx\")\n",
        "sm1.sort_values(by = 'Data', inplace=True)\n",
        "sm1.shape"
      ],
      "metadata": {
        "colab": {
          "base_uri": "https://localhost:8080/"
        },
        "id": "sP3tGyszY4cf",
        "outputId": "7d432fac-c019-494d-c6c4-fcf064c92f5a"
      },
      "execution_count": null,
      "outputs": [
        {
          "output_type": "execute_result",
          "data": {
            "text/plain": [
              "(19073, 12)"
            ]
          },
          "metadata": {},
          "execution_count": 5
        }
      ]
    },
    {
      "cell_type": "code",
      "source": [
        "sm1.head(1)"
      ],
      "metadata": {
        "colab": {
          "base_uri": "https://localhost:8080/",
          "height": 179
        },
        "id": "QJOxIVHwY_Da",
        "outputId": "bf939883-69f0-454a-9fb6-2cf3408cfaab"
      },
      "execution_count": null,
      "outputs": [
        {
          "output_type": "execute_result",
          "data": {
            "text/plain": [
              "                       Data                      Tekst      clean_Tekst  \\\n",
              "17639.0 2020-05-06 20:30:05  @napalonywikary W wigilie  @user W wigilie   \n",
              "\n",
              "         predicted_emotion_PaREMO predicted_emotion_label_PaREMO  \\\n",
              "17639.0                       4.0                            joy   \n",
              "\n",
              "         sentiment_PaRes sentiment_label_PaRes  predicted_emotion_XLM_tuned  \\\n",
              "17639.0              1.0                   neu                          0.0   \n",
              "\n",
              "        predicted_emotion_label_XLM_tuned  predicted_emotion_PaREMO_2  \\\n",
              "17639.0                           neutral                         3.0   \n",
              "\n",
              "        predicted_emotion_label_PaREMO_2 expressed_emotion_PaREMO  \n",
              "17639.0                             fear                  neutral  "
            ],
            "text/html": [
              "\n",
              "  <div id=\"df-570a7ebc-8f8e-48a1-a4c7-ff6ec9ddbc5a\">\n",
              "    <div class=\"colab-df-container\">\n",
              "      <div>\n",
              "<style scoped>\n",
              "    .dataframe tbody tr th:only-of-type {\n",
              "        vertical-align: middle;\n",
              "    }\n",
              "\n",
              "    .dataframe tbody tr th {\n",
              "        vertical-align: top;\n",
              "    }\n",
              "\n",
              "    .dataframe thead th {\n",
              "        text-align: right;\n",
              "    }\n",
              "</style>\n",
              "<table border=\"1\" class=\"dataframe\">\n",
              "  <thead>\n",
              "    <tr style=\"text-align: right;\">\n",
              "      <th></th>\n",
              "      <th>Data</th>\n",
              "      <th>Tekst</th>\n",
              "      <th>clean_Tekst</th>\n",
              "      <th>predicted_emotion_PaREMO</th>\n",
              "      <th>predicted_emotion_label_PaREMO</th>\n",
              "      <th>sentiment_PaRes</th>\n",
              "      <th>sentiment_label_PaRes</th>\n",
              "      <th>predicted_emotion_XLM_tuned</th>\n",
              "      <th>predicted_emotion_label_XLM_tuned</th>\n",
              "      <th>predicted_emotion_PaREMO_2</th>\n",
              "      <th>predicted_emotion_label_PaREMO_2</th>\n",
              "      <th>expressed_emotion_PaREMO</th>\n",
              "    </tr>\n",
              "  </thead>\n",
              "  <tbody>\n",
              "    <tr>\n",
              "      <th>17639.0</th>\n",
              "      <td>2020-05-06 20:30:05</td>\n",
              "      <td>@napalonywikary W wigilie</td>\n",
              "      <td>@user W wigilie</td>\n",
              "      <td>4.0</td>\n",
              "      <td>joy</td>\n",
              "      <td>1.0</td>\n",
              "      <td>neu</td>\n",
              "      <td>0.0</td>\n",
              "      <td>neutral</td>\n",
              "      <td>3.0</td>\n",
              "      <td>fear</td>\n",
              "      <td>neutral</td>\n",
              "    </tr>\n",
              "  </tbody>\n",
              "</table>\n",
              "</div>\n",
              "      <button class=\"colab-df-convert\" onclick=\"convertToInteractive('df-570a7ebc-8f8e-48a1-a4c7-ff6ec9ddbc5a')\"\n",
              "              title=\"Convert this dataframe to an interactive table.\"\n",
              "              style=\"display:none;\">\n",
              "        \n",
              "  <svg xmlns=\"http://www.w3.org/2000/svg\" height=\"24px\"viewBox=\"0 0 24 24\"\n",
              "       width=\"24px\">\n",
              "    <path d=\"M0 0h24v24H0V0z\" fill=\"none\"/>\n",
              "    <path d=\"M18.56 5.44l.94 2.06.94-2.06 2.06-.94-2.06-.94-.94-2.06-.94 2.06-2.06.94zm-11 1L8.5 8.5l.94-2.06 2.06-.94-2.06-.94L8.5 2.5l-.94 2.06-2.06.94zm10 10l.94 2.06.94-2.06 2.06-.94-2.06-.94-.94-2.06-.94 2.06-2.06.94z\"/><path d=\"M17.41 7.96l-1.37-1.37c-.4-.4-.92-.59-1.43-.59-.52 0-1.04.2-1.43.59L10.3 9.45l-7.72 7.72c-.78.78-.78 2.05 0 2.83L4 21.41c.39.39.9.59 1.41.59.51 0 1.02-.2 1.41-.59l7.78-7.78 2.81-2.81c.8-.78.8-2.07 0-2.86zM5.41 20L4 18.59l7.72-7.72 1.47 1.35L5.41 20z\"/>\n",
              "  </svg>\n",
              "      </button>\n",
              "      \n",
              "  <style>\n",
              "    .colab-df-container {\n",
              "      display:flex;\n",
              "      flex-wrap:wrap;\n",
              "      gap: 12px;\n",
              "    }\n",
              "\n",
              "    .colab-df-convert {\n",
              "      background-color: #E8F0FE;\n",
              "      border: none;\n",
              "      border-radius: 50%;\n",
              "      cursor: pointer;\n",
              "      display: none;\n",
              "      fill: #1967D2;\n",
              "      height: 32px;\n",
              "      padding: 0 0 0 0;\n",
              "      width: 32px;\n",
              "    }\n",
              "\n",
              "    .colab-df-convert:hover {\n",
              "      background-color: #E2EBFA;\n",
              "      box-shadow: 0px 1px 2px rgba(60, 64, 67, 0.3), 0px 1px 3px 1px rgba(60, 64, 67, 0.15);\n",
              "      fill: #174EA6;\n",
              "    }\n",
              "\n",
              "    [theme=dark] .colab-df-convert {\n",
              "      background-color: #3B4455;\n",
              "      fill: #D2E3FC;\n",
              "    }\n",
              "\n",
              "    [theme=dark] .colab-df-convert:hover {\n",
              "      background-color: #434B5C;\n",
              "      box-shadow: 0px 1px 3px 1px rgba(0, 0, 0, 0.15);\n",
              "      filter: drop-shadow(0px 1px 2px rgba(0, 0, 0, 0.3));\n",
              "      fill: #FFFFFF;\n",
              "    }\n",
              "  </style>\n",
              "\n",
              "      <script>\n",
              "        const buttonEl =\n",
              "          document.querySelector('#df-570a7ebc-8f8e-48a1-a4c7-ff6ec9ddbc5a button.colab-df-convert');\n",
              "        buttonEl.style.display =\n",
              "          google.colab.kernel.accessAllowed ? 'block' : 'none';\n",
              "\n",
              "        async function convertToInteractive(key) {\n",
              "          const element = document.querySelector('#df-570a7ebc-8f8e-48a1-a4c7-ff6ec9ddbc5a');\n",
              "          const dataTable =\n",
              "            await google.colab.kernel.invokeFunction('convertToInteractive',\n",
              "                                                     [key], {});\n",
              "          if (!dataTable) return;\n",
              "\n",
              "          const docLinkHtml = 'Like what you see? Visit the ' +\n",
              "            '<a target=\"_blank\" href=https://colab.research.google.com/notebooks/data_table.ipynb>data table notebook</a>'\n",
              "            + ' to learn more about interactive tables.';\n",
              "          element.innerHTML = '';\n",
              "          dataTable['output_type'] = 'display_data';\n",
              "          await google.colab.output.renderOutput(dataTable, element);\n",
              "          const docLink = document.createElement('div');\n",
              "          docLink.innerHTML = docLinkHtml;\n",
              "          element.appendChild(docLink);\n",
              "        }\n",
              "      </script>\n",
              "    </div>\n",
              "  </div>\n",
              "  "
            ]
          },
          "metadata": {},
          "execution_count": 7
        }
      ]
    },
    {
      "cell_type": "code",
      "source": [
        "sm2 = load_data(\"/content/drive/MyDrive/Colab Notebooks/debates/validation_samples/tweet_Czerwiec_expressed_sentiment.xlsx\")\n",
        "sm2.sort_values(by = 'Data', inplace=True)"
      ],
      "metadata": {
        "id": "Gh4AGO2vY7N7"
      },
      "execution_count": null,
      "outputs": []
    },
    {
      "cell_type": "code",
      "source": [
        "sm2.sample(1)"
      ],
      "metadata": {
        "colab": {
          "base_uri": "https://localhost:8080/",
          "height": 197
        },
        "id": "p6Uls0ecZAoM",
        "outputId": "989b5892-5f65-4712-dbb2-8bf1ed2fdc3e"
      },
      "execution_count": null,
      "outputs": [
        {
          "output_type": "execute_result",
          "data": {
            "text/plain": [
              "                       Data  \\\n",
              "63172.0 2020-06-17 21:43:24   \n",
              "\n",
              "                                                                  Tekst  \\\n",
              "63172.0  Pytania to porazka. Nic ciekawego.. Szkoda. #DebataPrezydencka   \n",
              "\n",
              "                                         clean_Tekst  \\\n",
              "63172.0  pytania to porazka. nic ciekawego.. szkoda.   \n",
              "\n",
              "         predicted_emotion_PaREMO predicted_emotion_label_PaREMO  \\\n",
              "63172.0                       5.0                        sadness   \n",
              "\n",
              "         sentiment_PaRes sentiment_label_PaRes  predicted_emotion_XLM_tuned  \\\n",
              "63172.0              0.0                   neg                          2.0   \n",
              "\n",
              "        predicted_emotion_label_XLM_tuned  predicted_emotion_PaREMO_2  \\\n",
              "63172.0                           disgust                         5.0   \n",
              "\n",
              "        predicted_emotion_label_PaREMO_2  \n",
              "63172.0                          sadness  "
            ],
            "text/html": [
              "\n",
              "  <div id=\"df-341c1971-2b8b-4de0-ab9c-5f7465d0defe\">\n",
              "    <div class=\"colab-df-container\">\n",
              "      <div>\n",
              "<style scoped>\n",
              "    .dataframe tbody tr th:only-of-type {\n",
              "        vertical-align: middle;\n",
              "    }\n",
              "\n",
              "    .dataframe tbody tr th {\n",
              "        vertical-align: top;\n",
              "    }\n",
              "\n",
              "    .dataframe thead th {\n",
              "        text-align: right;\n",
              "    }\n",
              "</style>\n",
              "<table border=\"1\" class=\"dataframe\">\n",
              "  <thead>\n",
              "    <tr style=\"text-align: right;\">\n",
              "      <th></th>\n",
              "      <th>Data</th>\n",
              "      <th>Tekst</th>\n",
              "      <th>clean_Tekst</th>\n",
              "      <th>predicted_emotion_PaREMO</th>\n",
              "      <th>predicted_emotion_label_PaREMO</th>\n",
              "      <th>sentiment_PaRes</th>\n",
              "      <th>sentiment_label_PaRes</th>\n",
              "      <th>predicted_emotion_XLM_tuned</th>\n",
              "      <th>predicted_emotion_label_XLM_tuned</th>\n",
              "      <th>predicted_emotion_PaREMO_2</th>\n",
              "      <th>predicted_emotion_label_PaREMO_2</th>\n",
              "    </tr>\n",
              "  </thead>\n",
              "  <tbody>\n",
              "    <tr>\n",
              "      <th>63172.0</th>\n",
              "      <td>2020-06-17 21:43:24</td>\n",
              "      <td>Pytania to porazka. Nic ciekawego.. Szkoda. #DebataPrezydencka</td>\n",
              "      <td>pytania to porazka. nic ciekawego.. szkoda.</td>\n",
              "      <td>5.0</td>\n",
              "      <td>sadness</td>\n",
              "      <td>0.0</td>\n",
              "      <td>neg</td>\n",
              "      <td>2.0</td>\n",
              "      <td>disgust</td>\n",
              "      <td>5.0</td>\n",
              "      <td>sadness</td>\n",
              "    </tr>\n",
              "  </tbody>\n",
              "</table>\n",
              "</div>\n",
              "      <button class=\"colab-df-convert\" onclick=\"convertToInteractive('df-341c1971-2b8b-4de0-ab9c-5f7465d0defe')\"\n",
              "              title=\"Convert this dataframe to an interactive table.\"\n",
              "              style=\"display:none;\">\n",
              "        \n",
              "  <svg xmlns=\"http://www.w3.org/2000/svg\" height=\"24px\"viewBox=\"0 0 24 24\"\n",
              "       width=\"24px\">\n",
              "    <path d=\"M0 0h24v24H0V0z\" fill=\"none\"/>\n",
              "    <path d=\"M18.56 5.44l.94 2.06.94-2.06 2.06-.94-2.06-.94-.94-2.06-.94 2.06-2.06.94zm-11 1L8.5 8.5l.94-2.06 2.06-.94-2.06-.94L8.5 2.5l-.94 2.06-2.06.94zm10 10l.94 2.06.94-2.06 2.06-.94-2.06-.94-.94-2.06-.94 2.06-2.06.94z\"/><path d=\"M17.41 7.96l-1.37-1.37c-.4-.4-.92-.59-1.43-.59-.52 0-1.04.2-1.43.59L10.3 9.45l-7.72 7.72c-.78.78-.78 2.05 0 2.83L4 21.41c.39.39.9.59 1.41.59.51 0 1.02-.2 1.41-.59l7.78-7.78 2.81-2.81c.8-.78.8-2.07 0-2.86zM5.41 20L4 18.59l7.72-7.72 1.47 1.35L5.41 20z\"/>\n",
              "  </svg>\n",
              "      </button>\n",
              "      \n",
              "  <style>\n",
              "    .colab-df-container {\n",
              "      display:flex;\n",
              "      flex-wrap:wrap;\n",
              "      gap: 12px;\n",
              "    }\n",
              "\n",
              "    .colab-df-convert {\n",
              "      background-color: #E8F0FE;\n",
              "      border: none;\n",
              "      border-radius: 50%;\n",
              "      cursor: pointer;\n",
              "      display: none;\n",
              "      fill: #1967D2;\n",
              "      height: 32px;\n",
              "      padding: 0 0 0 0;\n",
              "      width: 32px;\n",
              "    }\n",
              "\n",
              "    .colab-df-convert:hover {\n",
              "      background-color: #E2EBFA;\n",
              "      box-shadow: 0px 1px 2px rgba(60, 64, 67, 0.3), 0px 1px 3px 1px rgba(60, 64, 67, 0.15);\n",
              "      fill: #174EA6;\n",
              "    }\n",
              "\n",
              "    [theme=dark] .colab-df-convert {\n",
              "      background-color: #3B4455;\n",
              "      fill: #D2E3FC;\n",
              "    }\n",
              "\n",
              "    [theme=dark] .colab-df-convert:hover {\n",
              "      background-color: #434B5C;\n",
              "      box-shadow: 0px 1px 3px 1px rgba(0, 0, 0, 0.15);\n",
              "      filter: drop-shadow(0px 1px 2px rgba(0, 0, 0, 0.3));\n",
              "      fill: #FFFFFF;\n",
              "    }\n",
              "  </style>\n",
              "\n",
              "      <script>\n",
              "        const buttonEl =\n",
              "          document.querySelector('#df-341c1971-2b8b-4de0-ab9c-5f7465d0defe button.colab-df-convert');\n",
              "        buttonEl.style.display =\n",
              "          google.colab.kernel.accessAllowed ? 'block' : 'none';\n",
              "\n",
              "        async function convertToInteractive(key) {\n",
              "          const element = document.querySelector('#df-341c1971-2b8b-4de0-ab9c-5f7465d0defe');\n",
              "          const dataTable =\n",
              "            await google.colab.kernel.invokeFunction('convertToInteractive',\n",
              "                                                     [key], {});\n",
              "          if (!dataTable) return;\n",
              "\n",
              "          const docLinkHtml = 'Like what you see? Visit the ' +\n",
              "            '<a target=\"_blank\" href=https://colab.research.google.com/notebooks/data_table.ipynb>data table notebook</a>'\n",
              "            + ' to learn more about interactive tables.';\n",
              "          element.innerHTML = '';\n",
              "          dataTable['output_type'] = 'display_data';\n",
              "          await google.colab.output.renderOutput(dataTable, element);\n",
              "          const docLink = document.createElement('div');\n",
              "          docLink.innerHTML = docLinkHtml;\n",
              "          element.appendChild(docLink);\n",
              "        }\n",
              "      </script>\n",
              "    </div>\n",
              "  </div>\n",
              "  "
            ]
          },
          "metadata": {},
          "execution_count": 8
        }
      ]
    },
    {
      "cell_type": "code",
      "source": [
        "sm1 = sm1[ (sm1.Data >= '2020-05-06 20:34:00') & (sm1.Data <= '2020-05-06 21:42:00') ]\n",
        "sm2 = sm2[ (sm2.Data >= '2020-06-17 21:03:00') & (sm2.Data <= '2020-06-17 22:18:00') ]\n",
        "sm2.shape, sm1.shape"
      ],
      "metadata": {
        "colab": {
          "base_uri": "https://localhost:8080/"
        },
        "id": "z8unvcIlZgUy",
        "outputId": "eba8786f-cf19-43ed-918f-194933f64a22"
      },
      "execution_count": null,
      "outputs": [
        {
          "output_type": "execute_result",
          "data": {
            "text/plain": [
              "((21948, 11), (12262, 12))"
            ]
          },
          "metadata": {},
          "execution_count": 10
        }
      ]
    },
    {
      "cell_type": "code",
      "source": [
        "len(\" \".join(sm1['Tekst'].values).split())"
      ],
      "metadata": {
        "colab": {
          "base_uri": "https://localhost:8080/"
        },
        "id": "oi17ceblZtec",
        "outputId": "fea6f6b6-4aef-4561-c654-e8feb29a7040"
      },
      "execution_count": null,
      "outputs": [
        {
          "output_type": "execute_result",
          "data": {
            "text/plain": [
              "150504"
            ]
          },
          "metadata": {},
          "execution_count": 12
        }
      ]
    },
    {
      "cell_type": "code",
      "source": [
        "len(\" \".join(sm2['Tekst'].values).split())"
      ],
      "metadata": {
        "colab": {
          "base_uri": "https://localhost:8080/"
        },
        "id": "IujykmODZ2ln",
        "outputId": "d6319a3e-ed8d-42e0-cff5-f29cf258d5e7"
      },
      "execution_count": null,
      "outputs": [
        {
          "output_type": "execute_result",
          "data": {
            "text/plain": [
              "270755"
            ]
          },
          "metadata": {},
          "execution_count": 13
        }
      ]
    },
    {
      "cell_type": "code",
      "source": [
        "smpl = pd.concat( [sm1[['predicted_emotion_label_PaREMO']], sm2[['predicted_emotion_label_PaREMO']]], axis=0, ignore_index=True )\n",
        "smpl['predicted_emotion_label_PaREMO'].value_counts(normalize=True).round(4)*100"
      ],
      "metadata": {
        "colab": {
          "base_uri": "https://localhost:8080/"
        },
        "id": "gNXPb5WCZVta",
        "outputId": "777852e5-8f82-44f4-ee2c-574a9eb38a0e"
      },
      "execution_count": null,
      "outputs": [
        {
          "output_type": "execute_result",
          "data": {
            "text/plain": [
              "surprise    46.49\n",
              "anger       22.52\n",
              "sadness     11.77\n",
              "joy         11.09\n",
              "fear         7.92\n",
              "disgust      0.21\n",
              "Name: predicted_emotion_label_PaREMO, dtype: float64"
            ]
          },
          "metadata": {},
          "execution_count": 14
        }
      ]
    },
    {
      "cell_type": "code",
      "source": [
        "smpl.columns = ['recognized_emotion']"
      ],
      "metadata": {
        "id": "o4yzL-debJNB"
      },
      "execution_count": null,
      "outputs": []
    },
    {
      "cell_type": "code",
      "source": [
        "sns.set(font_scale=1.5, style='whitegrid')\n",
        "pd.DataFrame(smpl.predicted_emotion_label_PaREMO.value_counts(normalize=True).round(4)*100).sort_values(by = 'predicted_emotion_label_PaREMO').plot(kind='barh', \n",
        "                                                                                                                          color='grey', \n",
        "                                                                                                                          legend=False)\n",
        "plt.xlabel('Percentage')\n",
        "plt.show()"
      ],
      "metadata": {
        "colab": {
          "base_uri": "https://localhost:8080/",
          "height": 475
        },
        "id": "gOgbH0hdeswA",
        "outputId": "025249cd-7846-4048-9dfe-86d2121a34a8"
      },
      "execution_count": null,
      "outputs": [
        {
          "output_type": "display_data",
          "data": {
            "text/plain": [
              "<Figure size 748.8x514.8 with 1 Axes>"
            ],
            "image/png": "[encoded data removed]"
          },
          "metadata": {}
        }
      ]
    },
    {
      "cell_type": "code",
      "source": [
        "smpl = pd.concat( [sm1[['sentiment_label_PaRes']], sm2[['sentiment_label_PaRes']]], axis=0, ignore_index=True )\n",
        "smpl.columns = ['recognised_sentiment']\n",
        "smpl['recognised_sentiment'].value_counts(normalize=True).round(4)*100"
      ],
      "metadata": {
        "colab": {
          "base_uri": "https://localhost:8080/"
        },
        "id": "Wp06CF6YfbrP",
        "outputId": "beb08e61-9633-4f73-bb1a-8ffd044f4c3e"
      },
      "execution_count": null,
      "outputs": [
        {
          "output_type": "execute_result",
          "data": {
            "text/plain": [
              "neg    60.03\n",
              "pos    20.36\n",
              "neu    19.61\n",
              "Name: recognised_sentiment, dtype: float64"
            ]
          },
          "metadata": {},
          "execution_count": 30
        }
      ]
    },
    {
      "cell_type": "code",
      "source": [
        "sns.set(font_scale=1.5, style='whitegrid')\n",
        "pd.DataFrame(smpl.recognised_sentiment.value_counts(normalize=True).round(4)*100).sort_values(by = 'recognised_sentiment').plot(kind='barh', \n",
        "                                                                                                                          color='grey', \n",
        "                                                                                                                          legend=False)\n",
        "plt.xlabel('Percentage')\n",
        "plt.show()"
      ],
      "metadata": {
        "colab": {
          "base_uri": "https://localhost:8080/",
          "height": 475
        },
        "id": "TBetI5YCfvlE",
        "outputId": "e08bfa35-e715-468d-8e4c-ea5244c42359"
      },
      "execution_count": null,
      "outputs": [
        {
          "output_type": "display_data",
          "data": {
            "text/plain": [
              "<Figure size 748.8x514.8 with 1 Axes>"
            ],
            "image/png": "[encoded data removed]"
          },
          "metadata": {}
        }
      ]
    },
    {
      "cell_type": "code",
      "source": [
        "sm = pd.concat( [smpl,  merged[['recognized_emotion']]], axis=0, ignore_index=True )\n",
        "sm['recognized_emotion'] = sm['recognized_emotion'].str.capitalize()\n",
        "sm.recognized_emotion.value_counts(normalize=True).round(4)*100"
      ],
      "metadata": {
        "colab": {
          "base_uri": "https://localhost:8080/"
        },
        "id": "VmX5uM8BZWvj",
        "outputId": "c05b5efb-e44b-4025-e21d-8e89672a10dc"
      },
      "execution_count": null,
      "outputs": [
        {
          "output_type": "execute_result",
          "data": {
            "text/plain": [
              "Surprise    68.67\n",
              "Anger       13.49\n",
              "Joy         12.24\n",
              "Sadness      3.73\n",
              "Fear         1.45\n",
              "Disgust      0.41\n",
              "Name: recognized_emotion, dtype: float64"
            ]
          },
          "metadata": {},
          "execution_count": 21
        }
      ]
    },
    {
      "cell_type": "code",
      "source": [
        "sns.set(font_scale=1.5, style='whitegrid')\n",
        "pd.DataFrame(sm.recognized_emotion.value_counts(normalize=True).round(4)*100).sort_values(by = 'recognized_emotion').plot(kind='barh', \n",
        "                                                                                                                          color='grey', \n",
        "                                                                                                                          legend=False)\n",
        "plt.xlabel('Percentage')\n",
        "plt.show()"
      ],
      "metadata": {
        "colab": {
          "base_uri": "https://localhost:8080/",
          "height": 475
        },
        "id": "VKXGNwp7ZWyc",
        "outputId": "5091c8d3-bfda-4929-ac96-f1b0657b2fb9"
      },
      "execution_count": null,
      "outputs": [
        {
          "output_type": "display_data",
          "data": {
            "text/plain": [
              "<Figure size 748.8x514.8 with 1 Axes>"
            ],
            "image/png": "[encoded data removed]"
          },
          "metadata": {}
        }
      ]
    },
    {
      "cell_type": "code",
      "source": [],
      "metadata": {
        "id": "5_k1qHGGZW1J"
      },
      "execution_count": null,
      "outputs": []
    },
    {
      "cell_type": "markdown",
      "source": [
        "##Preprocess"
      ],
      "metadata": {
        "id": "poKg_fCSznQD"
      }
    },
    {
      "cell_type": "code",
      "source": [
        "merged = load_data('/content/drive/MyDrive/Colab Notebooks/debates/us2016itc/itc_US_processed_debate_arg_only.xlsx')\n",
        "merged.shape"
      ],
      "metadata": {
        "colab": {
          "base_uri": "https://localhost:8080/"
        },
        "id": "3GTY7y_gSs22",
        "outputId": "d7bd56ff-e7b7-479d-d670-0d10b2696782"
      },
      "execution_count": null,
      "outputs": [
        {
          "output_type": "execute_result",
          "data": {
            "text/plain": [
              "(707, 116)"
            ]
          },
          "metadata": {},
          "execution_count": 7
        }
      ]
    },
    {
      "cell_type": "code",
      "source": [
        "merged.tail(1)"
      ],
      "metadata": {
        "colab": {
          "base_uri": "https://localhost:8080/",
          "height": 284
        },
        "id": "s8UIMwfX1y8J",
        "outputId": "0a0eece9-4d14-4c80-c816-a3fd50027f76"
      },
      "execution_count": null,
      "outputs": [
        {
          "output_type": "execute_result",
          "data": {
            "text/plain": [
              "          Num debate   map_ID  \\\n",
              "706.0  3861.0     G1  10675.0   \n",
              "\n",
              "                                                                     debate_claim  \\\n",
              "706.0  b-52s are old enough that one's father or grandfather could be flying them   \n",
              "\n",
              "                                        conclusion  \\\n",
              "706.0  usa are not keeping up with other countries   \n",
              "\n",
              "                                                                         premises  \\\n",
              "706.0  b-52s are old enough that one's father or grandfather could be flying them   \n",
              "\n",
              "                            text_reddit           timestamp   Node_id  \\\n",
              "706.0  Thats insulting to a 15 year old 2016-11-08 18:16:00  231664.0   \n",
              "\n",
              "       nodeset_id                 clean_text_reddit recognized_emotion  \\\n",
              "706.0     10592.0  thats insulting to a 15 year old           surprise   \n",
              "\n",
              "      recognised_sentiment  \\\n",
              "706.0             Negative   \n",
              "\n",
              "                                                conclusion_lemmatized  \\\n",
              "706.0  ['usa', 'be', 'not', 'keep', 'up', 'with', 'other', 'country']   \n",
              "\n",
              "      conclusion_emotive_words  conclusion_joy  conclusion_anger  \\\n",
              "706.0                       []             NaN               NaN   \n",
              "\n",
              "       conclusion_sadness  conclusion_fear  conclusion_disgust  \\\n",
              "706.0                 NaN              NaN                 NaN   \n",
              "\n",
              "       conclusion_surprise  conclusion_trust  conclusion_anticipation  \\\n",
              "706.0                  NaN               NaN                      NaN   \n",
              "\n",
              "      conclusion_joy_individual conclusion_anger_individual  \\\n",
              "706.0                        []                          []   \n",
              "\n",
              "      conclusion_sadness_individual conclusion_fear_individual  \\\n",
              "706.0                            []                         []   \n",
              "\n",
              "      conclusion_disgust_individual conclusion_surprise_individual  \\\n",
              "706.0                            []                             []   \n",
              "\n",
              "      conclusion_trust_individual conclusion_anticipation_individual  \\\n",
              "706.0                          []                                 []   \n",
              "\n",
              "      conclusion_emotion_categories_NRC  \\\n",
              "706.0                                []   \n",
              "\n",
              "                                                                                                 premises_lemmatized  \\\n",
              "706.0  ['b-52s', 'be', 'old', 'enough', 'that', \"'s\", 'father', 'or', 'grandfather', 'could', 'be', 'fly', '-PRON-']   \n",
              "\n",
              "          premises_emotive_words  premises_joy  premises_anger  \\\n",
              "706.0  ['father', 'grandfather']           0.0             0.0   \n",
              "\n",
              "       premises_sadness  premises_fear  premises_disgust  premises_surprise  \\\n",
              "706.0               0.0            0.0               0.0                0.0   \n",
              "\n",
              "       premises_trust  premises_anticipation premises_joy_individual  \\\n",
              "706.0           0.633                    0.0              [0.0, 0.0]   \n",
              "\n",
              "      premises_anger_individual premises_sadness_individual  \\\n",
              "706.0                [0.0, 0.0]                  [0.0, 0.0]   \n",
              "\n",
              "      premises_fear_individual premises_disgust_individual  \\\n",
              "706.0               [0.0, 0.0]                  [0.0, 0.0]   \n",
              "\n",
              "      premises_surprise_individual premises_trust_individual  \\\n",
              "706.0                   [0.0, 0.0]             [0.586, 0.68]   \n",
              "\n",
              "      premises_anticipation_individual premises_emotion_categories_NRC  \\\n",
              "706.0                       [0.0, 0.0]              ['trust', 'trust']   \n",
              "\n",
              "       CATEGORY_premises_anger  CATEGORY_premises_disgust  \\\n",
              "706.0                      0.0                        0.0   \n",
              "\n",
              "       CATEGORY_premises_fear  CATEGORY_premises_negative  \\\n",
              "706.0                     0.0                         0.0   \n",
              "\n",
              "       CATEGORY_premises_sadness  CATEGORY_premises_trust  \\\n",
              "706.0                        0.0                      2.0   \n",
              "\n",
              "       CATEGORY_premises_anticipation  CATEGORY_premises_surprise  \\\n",
              "706.0                             0.0                         0.0   \n",
              "\n",
              "       CATEGORY_premises_joy  CATEGORY_premises_positive  \\\n",
              "706.0                    0.0                         0.0   \n",
              "\n",
              "      premises_valence_words  premises_valence_negative  \\\n",
              "706.0      ['old', 'father']                        1.0   \n",
              "\n",
              "       premises_valence_positive  premises_Negative_percentage  \\\n",
              "706.0                        1.0                         0.077   \n",
              "\n",
              "       premises_Positive_percentage  \\\n",
              "706.0                         0.077   \n",
              "\n",
              "                                                                                                                full_argument  \\\n",
              "706.0  usa are not keeping up with other countries b-52s are old enough that one's father or grandfather could be flying them   \n",
              "\n",
              "                                                                                                                                                          full_argument_lemmatized  \\\n",
              "706.0  ['usa', 'be', 'not', 'keep', 'up', 'with', 'other', 'country', 'b-52s', 'be', 'old', 'enough', 'that', \"'s\", 'father', 'or', 'grandfather', 'could', 'be', 'fly', '-PRON-']   \n",
              "\n",
              "      full_argument_emotive_words  full_argument_joy  full_argument_anger  \\\n",
              "706.0   ['father', 'grandfather']                0.0                  0.0   \n",
              "\n",
              "       full_argument_sadness  full_argument_fear  full_argument_disgust  \\\n",
              "706.0                    0.0                 0.0                    0.0   \n",
              "\n",
              "       full_argument_surprise  full_argument_trust  \\\n",
              "706.0                     0.0                0.633   \n",
              "\n",
              "       full_argument_anticipation full_argument_joy_individual  \\\n",
              "706.0                         0.0                   [0.0, 0.0]   \n",
              "\n",
              "      full_argument_anger_individual full_argument_sadness_individual  \\\n",
              "706.0                     [0.0, 0.0]                       [0.0, 0.0]   \n",
              "\n",
              "      full_argument_fear_individual full_argument_disgust_individual  \\\n",
              "706.0                    [0.0, 0.0]                       [0.0, 0.0]   \n",
              "\n",
              "      full_argument_surprise_individual full_argument_trust_individual  \\\n",
              "706.0                        [0.0, 0.0]                  [0.586, 0.68]   \n",
              "\n",
              "      full_argument_anticipation_individual  \\\n",
              "706.0                            [0.0, 0.0]   \n",
              "\n",
              "      full_argument_emotion_categories_NRC  CATEGORY_full_argument_joy  \\\n",
              "706.0                   ['trust', 'trust']                         0.0   \n",
              "\n",
              "       CATEGORY_full_argument_positive  CATEGORY_full_argument_trust  \\\n",
              "706.0                              0.0                           2.0   \n",
              "\n",
              "       CATEGORY_full_argument_anger  CATEGORY_full_argument_disgust  \\\n",
              "706.0                           0.0                             0.0   \n",
              "\n",
              "       CATEGORY_full_argument_fear  CATEGORY_full_argument_negative  \\\n",
              "706.0                          0.0                              0.0   \n",
              "\n",
              "       CATEGORY_full_argument_sadness  CATEGORY_full_argument_anticipation  \\\n",
              "706.0                             0.0                                  0.0   \n",
              "\n",
              "       CATEGORY_full_argument_surprise full_argument_valence_words  \\\n",
              "706.0                              0.0           ['old', 'father']   \n",
              "\n",
              "       full_argument_valence_negative  full_argument_valence_positive  \\\n",
              "706.0                             1.0                             1.0   \n",
              "\n",
              "       full_argument_Negative_percentage  full_argument_Positive_percentage  \\\n",
              "706.0                              0.048                              0.048   \n",
              "\n",
              "       CATEGORY_conclusion_trust  CATEGORY_conclusion_fear  \\\n",
              "706.0                        0.0                       0.0   \n",
              "\n",
              "       CATEGORY_conclusion_negative  CATEGORY_conclusion_sadness  \\\n",
              "706.0                           0.0                          0.0   \n",
              "\n",
              "       CATEGORY_conclusion_anger  CATEGORY_conclusion_surprise  \\\n",
              "706.0                        0.0                           0.0   \n",
              "\n",
              "       CATEGORY_conclusion_positive  CATEGORY_conclusion_disgust  \\\n",
              "706.0                           0.0                          0.0   \n",
              "\n",
              "       CATEGORY_conclusion_joy  CATEGORY_conclusion_anticipation  \\\n",
              "706.0                      0.0                               0.0   \n",
              "\n",
              "      conclusion_valence_words  conclusion_valence_negative  \\\n",
              "706.0                       []                          0.0   \n",
              "\n",
              "       conclusion_valence_positive  conclusion_Negative_percentage  \\\n",
              "706.0                          0.0                             0.0   \n",
              "\n",
              "       conclusion_Positive_percentage  \n",
              "706.0                             0.0  "
            ],
            "text/html": [
              "\n",
              "  <div id=\"df-e1f078e8-a06c-4c36-b7b3-cdafac024a14\">\n",
              "    <div class=\"colab-df-container\">\n",
              "      <div>\n",
              "<style scoped>\n",
              "    .dataframe tbody tr th:only-of-type {\n",
              "        vertical-align: middle;\n",
              "    }\n",
              "\n",
              "    .dataframe tbody tr th {\n",
              "        vertical-align: top;\n",
              "    }\n",
              "\n",
              "    .dataframe thead th {\n",
              "        text-align: right;\n",
              "    }\n",
              "</style>\n",
              "<table border=\"1\" class=\"dataframe\">\n",
              "  <thead>\n",
              "    <tr style=\"text-align: right;\">\n",
              "      <th></th>\n",
              "      <th>Num</th>\n",
              "      <th>debate</th>\n",
              "      <th>map_ID</th>\n",
              "      <th>debate_claim</th>\n",
              "      <th>conclusion</th>\n",
              "      <th>premises</th>\n",
              "      <th>text_reddit</th>\n",
              "      <th>timestamp</th>\n",
              "      <th>Node_id</th>\n",
              "      <th>nodeset_id</th>\n",
              "      <th>clean_text_reddit</th>\n",
              "      <th>recognized_emotion</th>\n",
              "      <th>recognised_sentiment</th>\n",
              "      <th>conclusion_lemmatized</th>\n",
              "      <th>conclusion_emotive_words</th>\n",
              "      <th>conclusion_joy</th>\n",
              "      <th>conclusion_anger</th>\n",
              "      <th>conclusion_sadness</th>\n",
              "      <th>conclusion_fear</th>\n",
              "      <th>conclusion_disgust</th>\n",
              "      <th>conclusion_surprise</th>\n",
              "      <th>conclusion_trust</th>\n",
              "      <th>conclusion_anticipation</th>\n",
              "      <th>conclusion_joy_individual</th>\n",
              "      <th>conclusion_anger_individual</th>\n",
              "      <th>conclusion_sadness_individual</th>\n",
              "      <th>conclusion_fear_individual</th>\n",
              "      <th>conclusion_disgust_individual</th>\n",
              "      <th>conclusion_surprise_individual</th>\n",
              "      <th>conclusion_trust_individual</th>\n",
              "      <th>conclusion_anticipation_individual</th>\n",
              "      <th>conclusion_emotion_categories_NRC</th>\n",
              "      <th>premises_lemmatized</th>\n",
              "      <th>premises_emotive_words</th>\n",
              "      <th>premises_joy</th>\n",
              "      <th>premises_anger</th>\n",
              "      <th>premises_sadness</th>\n",
              "      <th>premises_fear</th>\n",
              "      <th>premises_disgust</th>\n",
              "      <th>premises_surprise</th>\n",
              "      <th>premises_trust</th>\n",
              "      <th>premises_anticipation</th>\n",
              "      <th>premises_joy_individual</th>\n",
              "      <th>premises_anger_individual</th>\n",
              "      <th>premises_sadness_individual</th>\n",
              "      <th>premises_fear_individual</th>\n",
              "      <th>premises_disgust_individual</th>\n",
              "      <th>premises_surprise_individual</th>\n",
              "      <th>premises_trust_individual</th>\n",
              "      <th>premises_anticipation_individual</th>\n",
              "      <th>premises_emotion_categories_NRC</th>\n",
              "      <th>CATEGORY_premises_anger</th>\n",
              "      <th>CATEGORY_premises_disgust</th>\n",
              "      <th>CATEGORY_premises_fear</th>\n",
              "      <th>CATEGORY_premises_negative</th>\n",
              "      <th>CATEGORY_premises_sadness</th>\n",
              "      <th>CATEGORY_premises_trust</th>\n",
              "      <th>CATEGORY_premises_anticipation</th>\n",
              "      <th>CATEGORY_premises_surprise</th>\n",
              "      <th>CATEGORY_premises_joy</th>\n",
              "      <th>CATEGORY_premises_positive</th>\n",
              "      <th>premises_valence_words</th>\n",
              "      <th>premises_valence_negative</th>\n",
              "      <th>premises_valence_positive</th>\n",
              "      <th>premises_Negative_percentage</th>\n",
              "      <th>premises_Positive_percentage</th>\n",
              "      <th>full_argument</th>\n",
              "      <th>full_argument_lemmatized</th>\n",
              "      <th>full_argument_emotive_words</th>\n",
              "      <th>full_argument_joy</th>\n",
              "      <th>full_argument_anger</th>\n",
              "      <th>full_argument_sadness</th>\n",
              "      <th>full_argument_fear</th>\n",
              "      <th>full_argument_disgust</th>\n",
              "      <th>full_argument_surprise</th>\n",
              "      <th>full_argument_trust</th>\n",
              "      <th>full_argument_anticipation</th>\n",
              "      <th>full_argument_joy_individual</th>\n",
              "      <th>full_argument_anger_individual</th>\n",
              "      <th>full_argument_sadness_individual</th>\n",
              "      <th>full_argument_fear_individual</th>\n",
              "      <th>full_argument_disgust_individual</th>\n",
              "      <th>full_argument_surprise_individual</th>\n",
              "      <th>full_argument_trust_individual</th>\n",
              "      <th>full_argument_anticipation_individual</th>\n",
              "      <th>full_argument_emotion_categories_NRC</th>\n",
              "      <th>CATEGORY_full_argument_joy</th>\n",
              "      <th>CATEGORY_full_argument_positive</th>\n",
              "      <th>CATEGORY_full_argument_trust</th>\n",
              "      <th>CATEGORY_full_argument_anger</th>\n",
              "      <th>CATEGORY_full_argument_disgust</th>\n",
              "      <th>CATEGORY_full_argument_fear</th>\n",
              "      <th>CATEGORY_full_argument_negative</th>\n",
              "      <th>CATEGORY_full_argument_sadness</th>\n",
              "      <th>CATEGORY_full_argument_anticipation</th>\n",
              "      <th>CATEGORY_full_argument_surprise</th>\n",
              "      <th>full_argument_valence_words</th>\n",
              "      <th>full_argument_valence_negative</th>\n",
              "      <th>full_argument_valence_positive</th>\n",
              "      <th>full_argument_Negative_percentage</th>\n",
              "      <th>full_argument_Positive_percentage</th>\n",
              "      <th>CATEGORY_conclusion_trust</th>\n",
              "      <th>CATEGORY_conclusion_fear</th>\n",
              "      <th>CATEGORY_conclusion_negative</th>\n",
              "      <th>CATEGORY_conclusion_sadness</th>\n",
              "      <th>CATEGORY_conclusion_anger</th>\n",
              "      <th>CATEGORY_conclusion_surprise</th>\n",
              "      <th>CATEGORY_conclusion_positive</th>\n",
              "      <th>CATEGORY_conclusion_disgust</th>\n",
              "      <th>CATEGORY_conclusion_joy</th>\n",
              "      <th>CATEGORY_conclusion_anticipation</th>\n",
              "      <th>conclusion_valence_words</th>\n",
              "      <th>conclusion_valence_negative</th>\n",
              "      <th>conclusion_valence_positive</th>\n",
              "      <th>conclusion_Negative_percentage</th>\n",
              "      <th>conclusion_Positive_percentage</th>\n",
              "    </tr>\n",
              "  </thead>\n",
              "  <tbody>\n",
              "    <tr>\n",
              "      <th>706.0</th>\n",
              "      <td>3861.0</td>\n",
              "      <td>G1</td>\n",
              "      <td>10675.0</td>\n",
              "      <td>b-52s are old enough that one's father or grandfather could be flying them</td>\n",
              "      <td>usa are not keeping up with other countries</td>\n",
              "      <td>b-52s are old enough that one's father or grandfather could be flying them</td>\n",
              "      <td>Thats insulting to a 15 year old</td>\n",
              "      <td>2016-11-08 18:16:00</td>\n",
              "      <td>231664.0</td>\n",
              "      <td>10592.0</td>\n",
              "      <td>thats insulting to a 15 year old</td>\n",
              "      <td>surprise</td>\n",
              "      <td>Negative</td>\n",
              "      <td>['usa', 'be', 'not', 'keep', 'up', 'with', 'other', 'country']</td>\n",
              "      <td>[]</td>\n",
              "      <td>NaN</td>\n",
              "      <td>NaN</td>\n",
              "      <td>NaN</td>\n",
              "      <td>NaN</td>\n",
              "      <td>NaN</td>\n",
              "      <td>NaN</td>\n",
              "      <td>NaN</td>\n",
              "      <td>NaN</td>\n",
              "      <td>[]</td>\n",
              "      <td>[]</td>\n",
              "      <td>[]</td>\n",
              "      <td>[]</td>\n",
              "      <td>[]</td>\n",
              "      <td>[]</td>\n",
              "      <td>[]</td>\n",
              "      <td>[]</td>\n",
              "      <td>[]</td>\n",
              "      <td>['b-52s', 'be', 'old', 'enough', 'that', \"'s\", 'father', 'or', 'grandfather', 'could', 'be', 'fly', '-PRON-']</td>\n",
              "      <td>['father', 'grandfather']</td>\n",
              "      <td>0.0</td>\n",
              "      <td>0.0</td>\n",
              "      <td>0.0</td>\n",
              "      <td>0.0</td>\n",
              "      <td>0.0</td>\n",
              "      <td>0.0</td>\n",
              "      <td>0.633</td>\n",
              "      <td>0.0</td>\n",
              "      <td>[0.0, 0.0]</td>\n",
              "      <td>[0.0, 0.0]</td>\n",
              "      <td>[0.0, 0.0]</td>\n",
              "      <td>[0.0, 0.0]</td>\n",
              "      <td>[0.0, 0.0]</td>\n",
              "      <td>[0.0, 0.0]</td>\n",
              "      <td>[0.586, 0.68]</td>\n",
              "      <td>[0.0, 0.0]</td>\n",
              "      <td>['trust', 'trust']</td>\n",
              "      <td>0.0</td>\n",
              "      <td>0.0</td>\n",
              "      <td>0.0</td>\n",
              "      <td>0.0</td>\n",
              "      <td>0.0</td>\n",
              "      <td>2.0</td>\n",
              "      <td>0.0</td>\n",
              "      <td>0.0</td>\n",
              "      <td>0.0</td>\n",
              "      <td>0.0</td>\n",
              "      <td>['old', 'father']</td>\n",
              "      <td>1.0</td>\n",
              "      <td>1.0</td>\n",
              "      <td>0.077</td>\n",
              "      <td>0.077</td>\n",
              "      <td>usa are not keeping up with other countries b-52s are old enough that one's father or grandfather could be flying them</td>\n",
              "      <td>['usa', 'be', 'not', 'keep', 'up', 'with', 'other', 'country', 'b-52s', 'be', 'old', 'enough', 'that', \"'s\", 'father', 'or', 'grandfather', 'could', 'be', 'fly', '-PRON-']</td>\n",
              "      <td>['father', 'grandfather']</td>\n",
              "      <td>0.0</td>\n",
              "      <td>0.0</td>\n",
              "      <td>0.0</td>\n",
              "      <td>0.0</td>\n",
              "      <td>0.0</td>\n",
              "      <td>0.0</td>\n",
              "      <td>0.633</td>\n",
              "      <td>0.0</td>\n",
              "      <td>[0.0, 0.0]</td>\n",
              "      <td>[0.0, 0.0]</td>\n",
              "      <td>[0.0, 0.0]</td>\n",
              "      <td>[0.0, 0.0]</td>\n",
              "      <td>[0.0, 0.0]</td>\n",
              "      <td>[0.0, 0.0]</td>\n",
              "      <td>[0.586, 0.68]</td>\n",
              "      <td>[0.0, 0.0]</td>\n",
              "      <td>['trust', 'trust']</td>\n",
              "      <td>0.0</td>\n",
              "      <td>0.0</td>\n",
              "      <td>2.0</td>\n",
              "      <td>0.0</td>\n",
              "      <td>0.0</td>\n",
              "      <td>0.0</td>\n",
              "      <td>0.0</td>\n",
              "      <td>0.0</td>\n",
              "      <td>0.0</td>\n",
              "      <td>0.0</td>\n",
              "      <td>['old', 'father']</td>\n",
              "      <td>1.0</td>\n",
              "      <td>1.0</td>\n",
              "      <td>0.048</td>\n",
              "      <td>0.048</td>\n",
              "      <td>0.0</td>\n",
              "      <td>0.0</td>\n",
              "      <td>0.0</td>\n",
              "      <td>0.0</td>\n",
              "      <td>0.0</td>\n",
              "      <td>0.0</td>\n",
              "      <td>0.0</td>\n",
              "      <td>0.0</td>\n",
              "      <td>0.0</td>\n",
              "      <td>0.0</td>\n",
              "      <td>[]</td>\n",
              "      <td>0.0</td>\n",
              "      <td>0.0</td>\n",
              "      <td>0.0</td>\n",
              "      <td>0.0</td>\n",
              "    </tr>\n",
              "  </tbody>\n",
              "</table>\n",
              "</div>\n",
              "      <button class=\"colab-df-convert\" onclick=\"convertToInteractive('df-e1f078e8-a06c-4c36-b7b3-cdafac024a14')\"\n",
              "              title=\"Convert this dataframe to an interactive table.\"\n",
              "              style=\"display:none;\">\n",
              "        \n",
              "  <svg xmlns=\"http://www.w3.org/2000/svg\" height=\"24px\"viewBox=\"0 0 24 24\"\n",
              "       width=\"24px\">\n",
              "    <path d=\"M0 0h24v24H0V0z\" fill=\"none\"/>\n",
              "    <path d=\"M18.56 5.44l.94 2.06.94-2.06 2.06-.94-2.06-.94-.94-2.06-.94 2.06-2.06.94zm-11 1L8.5 8.5l.94-2.06 2.06-.94-2.06-.94L8.5 2.5l-.94 2.06-2.06.94zm10 10l.94 2.06.94-2.06 2.06-.94-2.06-.94-.94-2.06-.94 2.06-2.06.94z\"/><path d=\"M17.41 7.96l-1.37-1.37c-.4-.4-.92-.59-1.43-.59-.52 0-1.04.2-1.43.59L10.3 9.45l-7.72 7.72c-.78.78-.78 2.05 0 2.83L4 21.41c.39.39.9.59 1.41.59.51 0 1.02-.2 1.41-.59l7.78-7.78 2.81-2.81c.8-.78.8-2.07 0-2.86zM5.41 20L4 18.59l7.72-7.72 1.47 1.35L5.41 20z\"/>\n",
              "  </svg>\n",
              "      </button>\n",
              "      \n",
              "  <style>\n",
              "    .colab-df-container {\n",
              "      display:flex;\n",
              "      flex-wrap:wrap;\n",
              "      gap: 12px;\n",
              "    }\n",
              "\n",
              "    .colab-df-convert {\n",
              "      background-color: #E8F0FE;\n",
              "      border: none;\n",
              "      border-radius: 50%;\n",
              "      cursor: pointer;\n",
              "      display: none;\n",
              "      fill: #1967D2;\n",
              "      height: 32px;\n",
              "      padding: 0 0 0 0;\n",
              "      width: 32px;\n",
              "    }\n",
              "\n",
              "    .colab-df-convert:hover {\n",
              "      background-color: #E2EBFA;\n",
              "      box-shadow: 0px 1px 2px rgba(60, 64, 67, 0.3), 0px 1px 3px 1px rgba(60, 64, 67, 0.15);\n",
              "      fill: #174EA6;\n",
              "    }\n",
              "\n",
              "    [theme=dark] .colab-df-convert {\n",
              "      background-color: #3B4455;\n",
              "      fill: #D2E3FC;\n",
              "    }\n",
              "\n",
              "    [theme=dark] .colab-df-convert:hover {\n",
              "      background-color: #434B5C;\n",
              "      box-shadow: 0px 1px 3px 1px rgba(0, 0, 0, 0.15);\n",
              "      filter: drop-shadow(0px 1px 2px rgba(0, 0, 0, 0.3));\n",
              "      fill: #FFFFFF;\n",
              "    }\n",
              "  </style>\n",
              "\n",
              "      <script>\n",
              "        const buttonEl =\n",
              "          document.querySelector('#df-e1f078e8-a06c-4c36-b7b3-cdafac024a14 button.colab-df-convert');\n",
              "        buttonEl.style.display =\n",
              "          google.colab.kernel.accessAllowed ? 'block' : 'none';\n",
              "\n",
              "        async function convertToInteractive(key) {\n",
              "          const element = document.querySelector('#df-e1f078e8-a06c-4c36-b7b3-cdafac024a14');\n",
              "          const dataTable =\n",
              "            await google.colab.kernel.invokeFunction('convertToInteractive',\n",
              "                                                     [key], {});\n",
              "          if (!dataTable) return;\n",
              "\n",
              "          const docLinkHtml = 'Like what you see? Visit the ' +\n",
              "            '<a target=\"_blank\" href=https://colab.research.google.com/notebooks/data_table.ipynb>data table notebook</a>'\n",
              "            + ' to learn more about interactive tables.';\n",
              "          element.innerHTML = '';\n",
              "          dataTable['output_type'] = 'display_data';\n",
              "          await google.colab.output.renderOutput(dataTable, element);\n",
              "          const docLink = document.createElement('div');\n",
              "          docLink.innerHTML = docLinkHtml;\n",
              "          element.appendChild(docLink);\n",
              "        }\n",
              "      </script>\n",
              "    </div>\n",
              "  </div>\n",
              "  "
            ]
          },
          "metadata": {},
          "execution_count": 4
        }
      ]
    },
    {
      "cell_type": "code",
      "source": [
        "# divide corpus into separate debate corpora\n",
        "ddeb = merged[merged.debate == 'D1']\n",
        "rdeb = merged[merged.debate == 'R1']\n",
        "gdeb = merged[merged.debate == 'G1']\n",
        "\n",
        "ddeb.shape, rdeb.shape, gdeb.shape"
      ],
      "metadata": {
        "colab": {
          "base_uri": "https://localhost:8080/"
        },
        "id": "uWu4o9sg2Bqy",
        "outputId": "6666ca7a-7218-46f9-dbd9-6569bf0c3ee5"
      },
      "execution_count": null,
      "outputs": [
        {
          "output_type": "execute_result",
          "data": {
            "text/plain": [
              "((225, 116), (314, 116), (168, 116))"
            ]
          },
          "metadata": {},
          "execution_count": 64
        }
      ]
    },
    {
      "cell_type": "code",
      "source": [
        "# calculate percentage of pos, neg and neutral sentiment for each politician claim - r1\n",
        "\n",
        "rdeb_grpd = pd.DataFrame(rdeb.groupby(\"debate_claim\", as_index=True)['recognized_emotion'].value_counts(normalize = True).round(2) * 100)\n",
        "rdeb_grpd.columns = ['_'.join(col) for col in rdeb_grpd.columns]\n",
        "rdeb_grpd = rdeb_grpd.reset_index()\n",
        "rdeb_grpd.columns = ['debate_claim', 'pathotic_response', 'percentage']\n",
        "rdeb_grpd.iloc[:2]"
      ],
      "metadata": {
        "colab": {
          "base_uri": "https://localhost:8080/",
          "height": 112
        },
        "id": "V9rEhuyOSjkh",
        "outputId": "f51a83aa-c0ae-452a-c04d-4ed02d7606d9"
      },
      "execution_count": null,
      "outputs": [
        {
          "output_type": "execute_result",
          "data": {
            "text/plain": [
              "                                                                      debate_claim  \\\n",
              "0  71 % of federal spending right now is on entitlements , and debt service , 71 %   \n",
              "1  71 % of federal spending right now is on entitlements , and debt service , 71 %   \n",
              "\n",
              "  pathotic_response  percentage  \n",
              "0          Negative        50.0  \n",
              "1           Neutral        50.0  "
            ],
            "text/html": [
              "\n",
              "  <div id=\"df-d18a40e0-0213-406e-abfe-65dfa43e9f72\">\n",
              "    <div class=\"colab-df-container\">\n",
              "      <div>\n",
              "<style scoped>\n",
              "    .dataframe tbody tr th:only-of-type {\n",
              "        vertical-align: middle;\n",
              "    }\n",
              "\n",
              "    .dataframe tbody tr th {\n",
              "        vertical-align: top;\n",
              "    }\n",
              "\n",
              "    .dataframe thead th {\n",
              "        text-align: right;\n",
              "    }\n",
              "</style>\n",
              "<table border=\"1\" class=\"dataframe\">\n",
              "  <thead>\n",
              "    <tr style=\"text-align: right;\">\n",
              "      <th></th>\n",
              "      <th>debate_claim</th>\n",
              "      <th>pathotic_response</th>\n",
              "      <th>percentage</th>\n",
              "    </tr>\n",
              "  </thead>\n",
              "  <tbody>\n",
              "    <tr>\n",
              "      <th>0</th>\n",
              "      <td>71 % of federal spending right now is on entitlements , and debt service , 71 %</td>\n",
              "      <td>Negative</td>\n",
              "      <td>50.0</td>\n",
              "    </tr>\n",
              "    <tr>\n",
              "      <th>1</th>\n",
              "      <td>71 % of federal spending right now is on entitlements , and debt service , 71 %</td>\n",
              "      <td>Neutral</td>\n",
              "      <td>50.0</td>\n",
              "    </tr>\n",
              "  </tbody>\n",
              "</table>\n",
              "</div>\n",
              "      <button class=\"colab-df-convert\" onclick=\"convertToInteractive('df-d18a40e0-0213-406e-abfe-65dfa43e9f72')\"\n",
              "              title=\"Convert this dataframe to an interactive table.\"\n",
              "              style=\"display:none;\">\n",
              "        \n",
              "  <svg xmlns=\"http://www.w3.org/2000/svg\" height=\"24px\"viewBox=\"0 0 24 24\"\n",
              "       width=\"24px\">\n",
              "    <path d=\"M0 0h24v24H0V0z\" fill=\"none\"/>\n",
              "    <path d=\"M18.56 5.44l.94 2.06.94-2.06 2.06-.94-2.06-.94-.94-2.06-.94 2.06-2.06.94zm-11 1L8.5 8.5l.94-2.06 2.06-.94-2.06-.94L8.5 2.5l-.94 2.06-2.06.94zm10 10l.94 2.06.94-2.06 2.06-.94-2.06-.94-.94-2.06-.94 2.06-2.06.94z\"/><path d=\"M17.41 7.96l-1.37-1.37c-.4-.4-.92-.59-1.43-.59-.52 0-1.04.2-1.43.59L10.3 9.45l-7.72 7.72c-.78.78-.78 2.05 0 2.83L4 21.41c.39.39.9.59 1.41.59.51 0 1.02-.2 1.41-.59l7.78-7.78 2.81-2.81c.8-.78.8-2.07 0-2.86zM5.41 20L4 18.59l7.72-7.72 1.47 1.35L5.41 20z\"/>\n",
              "  </svg>\n",
              "      </button>\n",
              "      \n",
              "  <style>\n",
              "    .colab-df-container {\n",
              "      display:flex;\n",
              "      flex-wrap:wrap;\n",
              "      gap: 12px;\n",
              "    }\n",
              "\n",
              "    .colab-df-convert {\n",
              "      background-color: #E8F0FE;\n",
              "      border: none;\n",
              "      border-radius: 50%;\n",
              "      cursor: pointer;\n",
              "      display: none;\n",
              "      fill: #1967D2;\n",
              "      height: 32px;\n",
              "      padding: 0 0 0 0;\n",
              "      width: 32px;\n",
              "    }\n",
              "\n",
              "    .colab-df-convert:hover {\n",
              "      background-color: #E2EBFA;\n",
              "      box-shadow: 0px 1px 2px rgba(60, 64, 67, 0.3), 0px 1px 3px 1px rgba(60, 64, 67, 0.15);\n",
              "      fill: #174EA6;\n",
              "    }\n",
              "\n",
              "    [theme=dark] .colab-df-convert {\n",
              "      background-color: #3B4455;\n",
              "      fill: #D2E3FC;\n",
              "    }\n",
              "\n",
              "    [theme=dark] .colab-df-convert:hover {\n",
              "      background-color: #434B5C;\n",
              "      box-shadow: 0px 1px 3px 1px rgba(0, 0, 0, 0.15);\n",
              "      filter: drop-shadow(0px 1px 2px rgba(0, 0, 0, 0.3));\n",
              "      fill: #FFFFFF;\n",
              "    }\n",
              "  </style>\n",
              "\n",
              "      <script>\n",
              "        const buttonEl =\n",
              "          document.querySelector('#df-d18a40e0-0213-406e-abfe-65dfa43e9f72 button.colab-df-convert');\n",
              "        buttonEl.style.display =\n",
              "          google.colab.kernel.accessAllowed ? 'block' : 'none';\n",
              "\n",
              "        async function convertToInteractive(key) {\n",
              "          const element = document.querySelector('#df-d18a40e0-0213-406e-abfe-65dfa43e9f72');\n",
              "          const dataTable =\n",
              "            await google.colab.kernel.invokeFunction('convertToInteractive',\n",
              "                                                     [key], {});\n",
              "          if (!dataTable) return;\n",
              "\n",
              "          const docLinkHtml = 'Like what you see? Visit the ' +\n",
              "            '<a target=\"_blank\" href=https://colab.research.google.com/notebooks/data_table.ipynb>data table notebook</a>'\n",
              "            + ' to learn more about interactive tables.';\n",
              "          element.innerHTML = '';\n",
              "          dataTable['output_type'] = 'display_data';\n",
              "          await google.colab.output.renderOutput(dataTable, element);\n",
              "          const docLink = document.createElement('div');\n",
              "          docLink.innerHTML = docLinkHtml;\n",
              "          element.appendChild(docLink);\n",
              "        }\n",
              "      </script>\n",
              "    </div>\n",
              "  </div>\n",
              "  "
            ]
          },
          "metadata": {},
          "execution_count": 65
        }
      ]
    },
    {
      "cell_type": "code",
      "source": [
        "# calculate percentage of pos, neg and neutral sentiment for each politician claim - g1\n",
        "\n",
        "gdeb_grpd = pd.DataFrame(gdeb.groupby(\"debate_claim\", as_index=True)['recognized_emotion'].value_counts(normalize = True).round(2) * 100)\n",
        "gdeb_grpd.columns = ['_'.join(col) for col in gdeb_grpd.columns]\n",
        "gdeb_grpd = gdeb_grpd.reset_index()\n",
        "gdeb_grpd.columns = ['debate_claim', 'pathotic_response', 'percentage']\n",
        "gdeb_grpd.iloc[:2]"
      ],
      "metadata": {
        "colab": {
          "base_uri": "https://localhost:8080/",
          "height": 112
        },
        "id": "cS1kmQnlStNh",
        "outputId": "7ea5efee-07eb-4e7c-a9fa-7ad7a10bd681"
      },
      "execution_count": null,
      "outputs": [
        {
          "output_type": "execute_result",
          "data": {
            "text/plain": [
              "                                                                 debate_claim  \\\n",
              "0  b-52s are old enough that one's father or grandfather could be flying them   \n",
              "1  b-52s are old enough that one's father or grandfather could be flying them   \n",
              "\n",
              "  pathotic_response  percentage  \n",
              "0          Negative        50.0  \n",
              "1           Neutral        30.0  "
            ],
            "text/html": [
              "\n",
              "  <div id=\"df-5616fb9e-8052-4a8f-9b7f-6087ecfc6093\">\n",
              "    <div class=\"colab-df-container\">\n",
              "      <div>\n",
              "<style scoped>\n",
              "    .dataframe tbody tr th:only-of-type {\n",
              "        vertical-align: middle;\n",
              "    }\n",
              "\n",
              "    .dataframe tbody tr th {\n",
              "        vertical-align: top;\n",
              "    }\n",
              "\n",
              "    .dataframe thead th {\n",
              "        text-align: right;\n",
              "    }\n",
              "</style>\n",
              "<table border=\"1\" class=\"dataframe\">\n",
              "  <thead>\n",
              "    <tr style=\"text-align: right;\">\n",
              "      <th></th>\n",
              "      <th>debate_claim</th>\n",
              "      <th>pathotic_response</th>\n",
              "      <th>percentage</th>\n",
              "    </tr>\n",
              "  </thead>\n",
              "  <tbody>\n",
              "    <tr>\n",
              "      <th>0</th>\n",
              "      <td>b-52s are old enough that one's father or grandfather could be flying them</td>\n",
              "      <td>Negative</td>\n",
              "      <td>50.0</td>\n",
              "    </tr>\n",
              "    <tr>\n",
              "      <th>1</th>\n",
              "      <td>b-52s are old enough that one's father or grandfather could be flying them</td>\n",
              "      <td>Neutral</td>\n",
              "      <td>30.0</td>\n",
              "    </tr>\n",
              "  </tbody>\n",
              "</table>\n",
              "</div>\n",
              "      <button class=\"colab-df-convert\" onclick=\"convertToInteractive('df-5616fb9e-8052-4a8f-9b7f-6087ecfc6093')\"\n",
              "              title=\"Convert this dataframe to an interactive table.\"\n",
              "              style=\"display:none;\">\n",
              "        \n",
              "  <svg xmlns=\"http://www.w3.org/2000/svg\" height=\"24px\"viewBox=\"0 0 24 24\"\n",
              "       width=\"24px\">\n",
              "    <path d=\"M0 0h24v24H0V0z\" fill=\"none\"/>\n",
              "    <path d=\"M18.56 5.44l.94 2.06.94-2.06 2.06-.94-2.06-.94-.94-2.06-.94 2.06-2.06.94zm-11 1L8.5 8.5l.94-2.06 2.06-.94-2.06-.94L8.5 2.5l-.94 2.06-2.06.94zm10 10l.94 2.06.94-2.06 2.06-.94-2.06-.94-.94-2.06-.94 2.06-2.06.94z\"/><path d=\"M17.41 7.96l-1.37-1.37c-.4-.4-.92-.59-1.43-.59-.52 0-1.04.2-1.43.59L10.3 9.45l-7.72 7.72c-.78.78-.78 2.05 0 2.83L4 21.41c.39.39.9.59 1.41.59.51 0 1.02-.2 1.41-.59l7.78-7.78 2.81-2.81c.8-.78.8-2.07 0-2.86zM5.41 20L4 18.59l7.72-7.72 1.47 1.35L5.41 20z\"/>\n",
              "  </svg>\n",
              "      </button>\n",
              "      \n",
              "  <style>\n",
              "    .colab-df-container {\n",
              "      display:flex;\n",
              "      flex-wrap:wrap;\n",
              "      gap: 12px;\n",
              "    }\n",
              "\n",
              "    .colab-df-convert {\n",
              "      background-color: #E8F0FE;\n",
              "      border: none;\n",
              "      border-radius: 50%;\n",
              "      cursor: pointer;\n",
              "      display: none;\n",
              "      fill: #1967D2;\n",
              "      height: 32px;\n",
              "      padding: 0 0 0 0;\n",
              "      width: 32px;\n",
              "    }\n",
              "\n",
              "    .colab-df-convert:hover {\n",
              "      background-color: #E2EBFA;\n",
              "      box-shadow: 0px 1px 2px rgba(60, 64, 67, 0.3), 0px 1px 3px 1px rgba(60, 64, 67, 0.15);\n",
              "      fill: #174EA6;\n",
              "    }\n",
              "\n",
              "    [theme=dark] .colab-df-convert {\n",
              "      background-color: #3B4455;\n",
              "      fill: #D2E3FC;\n",
              "    }\n",
              "\n",
              "    [theme=dark] .colab-df-convert:hover {\n",
              "      background-color: #434B5C;\n",
              "      box-shadow: 0px 1px 3px 1px rgba(0, 0, 0, 0.15);\n",
              "      filter: drop-shadow(0px 1px 2px rgba(0, 0, 0, 0.3));\n",
              "      fill: #FFFFFF;\n",
              "    }\n",
              "  </style>\n",
              "\n",
              "      <script>\n",
              "        const buttonEl =\n",
              "          document.querySelector('#df-5616fb9e-8052-4a8f-9b7f-6087ecfc6093 button.colab-df-convert');\n",
              "        buttonEl.style.display =\n",
              "          google.colab.kernel.accessAllowed ? 'block' : 'none';\n",
              "\n",
              "        async function convertToInteractive(key) {\n",
              "          const element = document.querySelector('#df-5616fb9e-8052-4a8f-9b7f-6087ecfc6093');\n",
              "          const dataTable =\n",
              "            await google.colab.kernel.invokeFunction('convertToInteractive',\n",
              "                                                     [key], {});\n",
              "          if (!dataTable) return;\n",
              "\n",
              "          const docLinkHtml = 'Like what you see? Visit the ' +\n",
              "            '<a target=\"_blank\" href=https://colab.research.google.com/notebooks/data_table.ipynb>data table notebook</a>'\n",
              "            + ' to learn more about interactive tables.';\n",
              "          element.innerHTML = '';\n",
              "          dataTable['output_type'] = 'display_data';\n",
              "          await google.colab.output.renderOutput(dataTable, element);\n",
              "          const docLink = document.createElement('div');\n",
              "          docLink.innerHTML = docLinkHtml;\n",
              "          element.appendChild(docLink);\n",
              "        }\n",
              "      </script>\n",
              "    </div>\n",
              "  </div>\n",
              "  "
            ]
          },
          "metadata": {},
          "execution_count": 66
        }
      ]
    },
    {
      "cell_type": "code",
      "source": [
        "# add the columns with calculated proportions to the original data \n",
        "\n",
        "rdeb_plot = rdeb.merge(rdeb_grpd, on = 'debate_claim', how = 'left')\n",
        "print(rdeb_plot.shape)\n",
        "rdeb_plot.drop_duplicates(['debate_claim','pathotic_response'], inplace=True)\n",
        "print(rdeb_plot.shape)\n",
        "\n",
        "rdeb_plot.reset_index(inplace = True, drop = True)"
      ],
      "metadata": {
        "colab": {
          "base_uri": "https://localhost:8080/"
        },
        "id": "lpenEKGiS_4a",
        "outputId": "71b9b46e-dbd6-4272-c550-79d51a2df176"
      },
      "execution_count": null,
      "outputs": [
        {
          "output_type": "stream",
          "name": "stdout",
          "text": [
            "(825, 118)\n",
            "(72, 118)\n"
          ]
        }
      ]
    },
    {
      "cell_type": "code",
      "source": [
        "gdeb_plot = gdeb.merge(gdeb_grpd, on = 'debate_claim', how = 'left')\n",
        "print(gdeb_plot.shape)\n",
        "gdeb_plot.drop_duplicates(['debate_claim','pathotic_response'], inplace=True)\n",
        "print(gdeb_plot.shape)\n",
        "\n",
        "gdeb_plot.reset_index(inplace = True, drop = True)"
      ],
      "metadata": {
        "colab": {
          "base_uri": "https://localhost:8080/"
        },
        "id": "CdjMeuAW49oQ",
        "outputId": "5f7c781a-6879-4397-8832-ed7f6dc5286e"
      },
      "execution_count": null,
      "outputs": [
        {
          "output_type": "stream",
          "name": "stdout",
          "text": [
            "(398, 118)\n",
            "(38, 118)\n"
          ]
        }
      ]
    },
    {
      "cell_type": "markdown",
      "source": [
        "##Correlation"
      ],
      "metadata": {
        "id": "N7Heuozzr6uJ"
      }
    },
    {
      "cell_type": "code",
      "source": [
        "eliciting_emo = ['conclusion_joy',\n",
        " 'conclusion_anger',\n",
        " 'conclusion_sadness',\n",
        " 'conclusion_fear',\n",
        " 'conclusion_disgust',\n",
        " 'conclusion_surprise',\n",
        " 'conclusion_trust', 'conclusion_anticipation', \n",
        " 'premises_joy',\n",
        " 'premises_anger',\n",
        " 'premises_sadness',\n",
        " 'premises_fear',\n",
        " 'premises_disgust',\n",
        " 'premises_surprise',\n",
        " 'premises_trust',\n",
        " 'premises_anticipation',\n",
        " 'full_argument_joy',\n",
        " 'full_argument_anger',\n",
        " 'full_argument_sadness',\n",
        " 'full_argument_fear',\n",
        " 'full_argument_disgust',\n",
        " 'full_argument_trust', 'full_argument_surprise', 'full_argument_anticipation']"
      ],
      "metadata": {
        "id": "nwXdvQ319qYC"
      },
      "execution_count": null,
      "outputs": []
    },
    {
      "cell_type": "code",
      "source": [
        "# apply logarithmic transformation to the proportions of eliciting emotions\n",
        "\n",
        "for c in eliciting_emo:\n",
        "  rdeb_plot[c] = rdeb_plot[c].apply(lambda x: np.log(x+1))\n",
        "  gdeb_plot[c] = gdeb_plot[c].apply(lambda x: np.log(x+1))"
      ],
      "metadata": {
        "id": "oe-OhMDkRait"
      },
      "execution_count": null,
      "outputs": []
    },
    {
      "cell_type": "code",
      "source": [
        "# apply logarithmic transformation to the proportions of expressed emotions\n",
        "\n",
        "rdeb_plot['percentage'] = rdeb_plot['percentage'].apply(lambda x: np.log(x+1))\n",
        "gdeb_plot['percentage'] = gdeb_plot['percentage'].apply(lambda x: np.log(x+1))"
      ],
      "metadata": {
        "id": "lTU1prMUmVE0"
      },
      "execution_count": null,
      "outputs": []
    },
    {
      "cell_type": "markdown",
      "source": [
        "####Emotions"
      ],
      "metadata": {
        "id": "iU1Hi1QUs_FK"
      }
    },
    {
      "cell_type": "code",
      "source": [
        "# define a set of expressed emotions / sentiment\n",
        "\n",
        "emo = ['surprise', 'fear', 'joy', 'anger', 'sadness', 'disgust'] \n",
        "# ['surprise', 'fear', 'joy', 'anger', 'sadness', 'disgust']    ['Positive', \"Negative\"]\n",
        "\n",
        "\n",
        "# define a debate data for calculation of correlation\n",
        "df = gdeb_plot.copy()  \n",
        "claims = df.debate_claim.unique() \n",
        "df = df.dropna(axis=0)"
      ],
      "metadata": {
        "id": "WuLA8DEfr8iw"
      },
      "execution_count": null,
      "outputs": []
    },
    {
      "cell_type": "code",
      "source": [
        "df.shape"
      ],
      "metadata": {
        "colab": {
          "base_uri": "https://localhost:8080/"
        },
        "id": "-08oE8SRidNv",
        "outputId": "7dcd199e-3deb-4b07-c252-3a35ccf25696"
      },
      "execution_count": null,
      "outputs": [
        {
          "output_type": "execute_result",
          "data": {
            "text/plain": [
              "(26, 118)"
            ]
          },
          "metadata": {},
          "execution_count": 23
        }
      ]
    },
    {
      "cell_type": "code",
      "source": [
        "from scipy.stats import pearsonr, pointbiserialr"
      ],
      "metadata": {
        "id": "7X8o_M_Fv8TJ"
      },
      "execution_count": null,
      "outputs": []
    },
    {
      "cell_type": "code",
      "source": [
        "one = []\n",
        "second = []\n",
        "corcof = []\n",
        "pvals = []\n",
        "\n",
        "\n",
        "for ex in emo:  \n",
        "  for el in eliciting_emo:    \n",
        "    epx_val = []\n",
        "    elic_val = []\n",
        "\n",
        "    # for the claim c, expressed category ex and eliciting category el retrieve the values for eliciting and expressed emotions\n",
        "    for c in claims:\n",
        "      emotions = df[df.debate_claim == c]['pathotic_response'].unique()\n",
        "      len_eliciting = len(df[(df.debate_claim == c) & (df.pathotic_response == ex) ])\n",
        "      if len_eliciting > 0:\n",
        "        eliciting = df[(df.debate_claim == c) & (df.pathotic_response == ex) ][el].iloc[0]\n",
        "        elic_val.append(eliciting)\n",
        "      else:\n",
        "        eliciting = 0\n",
        "\n",
        "\n",
        "      if ((ex in emotions) and (len_eliciting > 0)):\n",
        "        express_val = df[ (df.debate_claim == c) & (df.pathotic_response == ex) ]['percentage'].iloc[0]\n",
        "        epx_val.append(express_val)\n",
        "      elif ((ex not in emotions) and (len_eliciting > 0)):\n",
        "        epx_val.append(0)\n",
        "      else:\n",
        "        pass\n",
        "    # if for a given combination of el and ex there is more than 8 cases then calculate correlation (in order to be somehow reliable, not to take just 2 or 3 numbers )\n",
        "    if len(elic_val) > 8 and len(epx_val):\n",
        "\n",
        "      coef2, pval = pearsonr(elic_val, epx_val)\n",
        "      print(ex,  ' -- ', el)\n",
        "      if pval < 0.05:\n",
        "        print(epx_val, elic_val)\n",
        "      print(round(coef2, 2), round(pval, 3), \"\\n\")\n",
        "      if coef2 != np.nan:\n",
        "        corcof.append(round(coef2, 2))\n",
        "        pvals.append(round(pval, 3))\n",
        "        one.append(ex)\n",
        "        second.append(el)\n",
        "\n"
      ],
      "metadata": {
        "id": "LqQnETb2r8pA",
        "colab": {
          "base_uri": "https://localhost:8080/"
        },
        "outputId": "1d254c67-2b40-4898-d070-7e0431a31cc8"
      },
      "execution_count": null,
      "outputs": [
        {
          "output_type": "stream",
          "name": "stdout",
          "text": [
            "surprise  --  conclusion_joy\n",
            "-0.1 0.803 \n",
            "\n",
            "surprise  --  conclusion_anger\n",
            "-0.6 0.086 \n",
            "\n",
            "surprise  --  conclusion_sadness\n",
            "0.38 0.309 \n",
            "\n",
            "surprise  --  conclusion_fear\n",
            "[4.454347296253507, 4.51085950651685, 4.2626798770413155, 4.51085950651685, 4.394449154672439, 4.110873864173311, 3.9318256327243257, 3.9318256327243257, 4.2626798770413155] [0.0, 0.0, 0.0, 0.0, 0.0, 0.0, 0.21887043747560386, 0.3220834957137716, 0.0]\n",
            "-0.8 0.009 \n",
            "\n",
            "surprise  --  conclusion_disgust\n",
            "0.31 0.412 \n",
            "\n",
            "surprise  --  conclusion_surprise\n",
            "[4.454347296253507, 4.51085950651685, 4.2626798770413155, 4.51085950651685, 4.394449154672439, 4.110873864173311, 3.9318256327243257, 3.9318256327243257, 4.2626798770413155] [0.14863549328271244, 0.21026092335790889, 0.21026092335790889, 0.21026092335790889, 0.21993842581865586, 0.21993842581865586, 0.0, 0.0, 0.15186235320095828]\n",
            "0.77 0.016 \n",
            "\n",
            "surprise  --  conclusion_trust\n",
            "-0.32 0.397 \n",
            "\n",
            "surprise  --  conclusion_anticipation\n",
            "0.27 0.482 \n",
            "\n",
            "surprise  --  premises_joy\n",
            "-0.61 0.084 \n",
            "\n",
            "surprise  --  premises_anger\n",
            "-0.63 0.069 \n",
            "\n",
            "surprise  --  premises_sadness\n",
            "0.54 0.134 \n",
            "\n",
            "surprise  --  premises_fear\n",
            "-0.64 0.064 \n",
            "\n",
            "surprise  --  premises_disgust\n",
            "-0.25 0.517 \n",
            "\n",
            "surprise  --  premises_surprise\n",
            "0.58 0.103 \n",
            "\n",
            "surprise  --  premises_trust\n",
            "-0.08 0.832 \n",
            "\n",
            "surprise  --  premises_anticipation\n",
            "-0.0 0.998 \n",
            "\n",
            "surprise  --  full_argument_joy\n",
            "-0.36 0.337 \n",
            "\n",
            "surprise  --  full_argument_anger\n",
            "[4.454347296253507, 4.51085950651685, 4.2626798770413155, 4.51085950651685, 4.394449154672439, 4.110873864173311, 3.9318256327243257, 3.9318256327243257, 4.2626798770413155] [0.0, 0.0, 0.0, 0.0, 0.08965787270433852, 0.06062462181643484, 0.13453088753900208, 0.28412574828138, 0.0]\n",
            "-0.77 0.015 \n",
            "\n",
            "surprise  --  full_argument_sadness\n",
            "0.45 0.229 \n",
            "\n",
            "surprise  --  full_argument_fear\n",
            "[4.454347296253507, 4.51085950651685, 4.2626798770413155, 4.51085950651685, 4.394449154672439, 4.110873864173311, 3.9318256327243257, 3.9318256327243257, 4.2626798770413155] [0.0, 0.0, 0.0, 0.0, 0.0, 0.0836515740854334, 0.24470932288214145, 0.2053868298220267, 0.040825192900378955]\n",
            "-0.92 0.0 \n",
            "\n",
            "surprise  --  full_argument_disgust\n",
            "-0.16 0.686 \n",
            "\n",
            "surprise  --  full_argument_trust\n",
            "-0.32 0.399 \n",
            "\n",
            "surprise  --  full_argument_surprise\n",
            "[4.454347296253507, 4.51085950651685, 4.2626798770413155, 4.51085950651685, 4.394449154672439, 4.110873864173311, 3.9318256327243257, 3.9318256327243257, 4.2626798770413155] [0.12062343750549402, 0.21026092335790889, 0.21026092335790889, 0.21026092335790889, 0.33189031780929107, 0.11600367878165319, 0.0, 0.0, 0.07881118251761371]\n",
            "0.76 0.017 \n",
            "\n",
            "surprise  --  full_argument_anticipation\n",
            "0.25 0.515 \n",
            "\n"
          ]
        }
      ]
    },
    {
      "cell_type": "code",
      "source": [
        "# pearson r correlation - general df\n",
        "\n",
        "df_cor4 = pd.DataFrame({\"first_emotion\": one, \n",
        "                       \"second_emotion\": second, \n",
        "                       \"cor\": corcof, \n",
        "                       \"p_value\":pvals})\n",
        "\n",
        "df_cor4.head(2)"
      ],
      "metadata": {
        "id": "HWU_L_alr8rl",
        "colab": {
          "base_uri": "https://localhost:8080/",
          "height": 112
        },
        "outputId": "3fd8d1e8-5c23-4913-8689-d7c7aaa9431b"
      },
      "execution_count": null,
      "outputs": [
        {
          "output_type": "execute_result",
          "data": {
            "text/plain": [
              "  first_emotion    second_emotion  cor  p_value\n",
              "0      surprise    conclusion_joy -0.1    0.803\n",
              "1      surprise  conclusion_anger -0.6    0.086"
            ],
            "text/html": [
              "\n",
              "  <div id=\"df-2e7702db-c23d-4c5e-8fa3-48db500f3642\">\n",
              "    <div class=\"colab-df-container\">\n",
              "      <div>\n",
              "<style scoped>\n",
              "    .dataframe tbody tr th:only-of-type {\n",
              "        vertical-align: middle;\n",
              "    }\n",
              "\n",
              "    .dataframe tbody tr th {\n",
              "        vertical-align: top;\n",
              "    }\n",
              "\n",
              "    .dataframe thead th {\n",
              "        text-align: right;\n",
              "    }\n",
              "</style>\n",
              "<table border=\"1\" class=\"dataframe\">\n",
              "  <thead>\n",
              "    <tr style=\"text-align: right;\">\n",
              "      <th></th>\n",
              "      <th>first_emotion</th>\n",
              "      <th>second_emotion</th>\n",
              "      <th>cor</th>\n",
              "      <th>p_value</th>\n",
              "    </tr>\n",
              "  </thead>\n",
              "  <tbody>\n",
              "    <tr>\n",
              "      <th>0</th>\n",
              "      <td>surprise</td>\n",
              "      <td>conclusion_joy</td>\n",
              "      <td>-0.1</td>\n",
              "      <td>0.803</td>\n",
              "    </tr>\n",
              "    <tr>\n",
              "      <th>1</th>\n",
              "      <td>surprise</td>\n",
              "      <td>conclusion_anger</td>\n",
              "      <td>-0.6</td>\n",
              "      <td>0.086</td>\n",
              "    </tr>\n",
              "  </tbody>\n",
              "</table>\n",
              "</div>\n",
              "      <button class=\"colab-df-convert\" onclick=\"convertToInteractive('df-2e7702db-c23d-4c5e-8fa3-48db500f3642')\"\n",
              "              title=\"Convert this dataframe to an interactive table.\"\n",
              "              style=\"display:none;\">\n",
              "        \n",
              "  <svg xmlns=\"http://www.w3.org/2000/svg\" height=\"24px\"viewBox=\"0 0 24 24\"\n",
              "       width=\"24px\">\n",
              "    <path d=\"M0 0h24v24H0V0z\" fill=\"none\"/>\n",
              "    <path d=\"M18.56 5.44l.94 2.06.94-2.06 2.06-.94-2.06-.94-.94-2.06-.94 2.06-2.06.94zm-11 1L8.5 8.5l.94-2.06 2.06-.94-2.06-.94L8.5 2.5l-.94 2.06-2.06.94zm10 10l.94 2.06.94-2.06 2.06-.94-2.06-.94-.94-2.06-.94 2.06-2.06.94z\"/><path d=\"M17.41 7.96l-1.37-1.37c-.4-.4-.92-.59-1.43-.59-.52 0-1.04.2-1.43.59L10.3 9.45l-7.72 7.72c-.78.78-.78 2.05 0 2.83L4 21.41c.39.39.9.59 1.41.59.51 0 1.02-.2 1.41-.59l7.78-7.78 2.81-2.81c.8-.78.8-2.07 0-2.86zM5.41 20L4 18.59l7.72-7.72 1.47 1.35L5.41 20z\"/>\n",
              "  </svg>\n",
              "      </button>\n",
              "      \n",
              "  <style>\n",
              "    .colab-df-container {\n",
              "      display:flex;\n",
              "      flex-wrap:wrap;\n",
              "      gap: 12px;\n",
              "    }\n",
              "\n",
              "    .colab-df-convert {\n",
              "      background-color: #E8F0FE;\n",
              "      border: none;\n",
              "      border-radius: 50%;\n",
              "      cursor: pointer;\n",
              "      display: none;\n",
              "      fill: #1967D2;\n",
              "      height: 32px;\n",
              "      padding: 0 0 0 0;\n",
              "      width: 32px;\n",
              "    }\n",
              "\n",
              "    .colab-df-convert:hover {\n",
              "      background-color: #E2EBFA;\n",
              "      box-shadow: 0px 1px 2px rgba(60, 64, 67, 0.3), 0px 1px 3px 1px rgba(60, 64, 67, 0.15);\n",
              "      fill: #174EA6;\n",
              "    }\n",
              "\n",
              "    [theme=dark] .colab-df-convert {\n",
              "      background-color: #3B4455;\n",
              "      fill: #D2E3FC;\n",
              "    }\n",
              "\n",
              "    [theme=dark] .colab-df-convert:hover {\n",
              "      background-color: #434B5C;\n",
              "      box-shadow: 0px 1px 3px 1px rgba(0, 0, 0, 0.15);\n",
              "      filter: drop-shadow(0px 1px 2px rgba(0, 0, 0, 0.3));\n",
              "      fill: #FFFFFF;\n",
              "    }\n",
              "  </style>\n",
              "\n",
              "      <script>\n",
              "        const buttonEl =\n",
              "          document.querySelector('#df-2e7702db-c23d-4c5e-8fa3-48db500f3642 button.colab-df-convert');\n",
              "        buttonEl.style.display =\n",
              "          google.colab.kernel.accessAllowed ? 'block' : 'none';\n",
              "\n",
              "        async function convertToInteractive(key) {\n",
              "          const element = document.querySelector('#df-2e7702db-c23d-4c5e-8fa3-48db500f3642');\n",
              "          const dataTable =\n",
              "            await google.colab.kernel.invokeFunction('convertToInteractive',\n",
              "                                                     [key], {});\n",
              "          if (!dataTable) return;\n",
              "\n",
              "          const docLinkHtml = 'Like what you see? Visit the ' +\n",
              "            '<a target=\"_blank\" href=https://colab.research.google.com/notebooks/data_table.ipynb>data table notebook</a>'\n",
              "            + ' to learn more about interactive tables.';\n",
              "          element.innerHTML = '';\n",
              "          dataTable['output_type'] = 'display_data';\n",
              "          await google.colab.output.renderOutput(dataTable, element);\n",
              "          const docLink = document.createElement('div');\n",
              "          docLink.innerHTML = docLinkHtml;\n",
              "          element.appendChild(docLink);\n",
              "        }\n",
              "      </script>\n",
              "    </div>\n",
              "  </div>\n",
              "  "
            ]
          },
          "metadata": {},
          "execution_count": 25
        }
      ]
    },
    {
      "cell_type": "code",
      "source": [
        "df_cor4[df_cor4.p_value < 0.05] # R1 emotions after log transform"
      ],
      "metadata": {
        "colab": {
          "base_uri": "https://localhost:8080/",
          "height": 206
        },
        "outputId": "a255d443-3cd4-45f3-b78c-4d8b23fe89f4",
        "id": "CSe4skaANONr"
      },
      "execution_count": null,
      "outputs": [
        {
          "output_type": "execute_result",
          "data": {
            "text/plain": [
              "   first_emotion         second_emotion   cor  p_value\n",
              "2       surprise     conclusion_sadness -0.54    0.009\n",
              "4       surprise     conclusion_disgust -0.51    0.016\n",
              "18      surprise  full_argument_sadness -0.51    0.014\n",
              "20      surprise  full_argument_disgust -0.46    0.033\n",
              "81       sadness         premises_anger  0.77    0.016"
            ],
            "text/html": [
              "\n",
              "  <div id=\"df-3e9d9cfa-b44e-47bb-8905-97b557bbbabc\">\n",
              "    <div class=\"colab-df-container\">\n",
              "      <div>\n",
              "<style scoped>\n",
              "    .dataframe tbody tr th:only-of-type {\n",
              "        vertical-align: middle;\n",
              "    }\n",
              "\n",
              "    .dataframe tbody tr th {\n",
              "        vertical-align: top;\n",
              "    }\n",
              "\n",
              "    .dataframe thead th {\n",
              "        text-align: right;\n",
              "    }\n",
              "</style>\n",
              "<table border=\"1\" class=\"dataframe\">\n",
              "  <thead>\n",
              "    <tr style=\"text-align: right;\">\n",
              "      <th></th>\n",
              "      <th>first_emotion</th>\n",
              "      <th>second_emotion</th>\n",
              "      <th>cor</th>\n",
              "      <th>p_value</th>\n",
              "    </tr>\n",
              "  </thead>\n",
              "  <tbody>\n",
              "    <tr>\n",
              "      <th>2</th>\n",
              "      <td>surprise</td>\n",
              "      <td>conclusion_sadness</td>\n",
              "      <td>-0.54</td>\n",
              "      <td>0.009</td>\n",
              "    </tr>\n",
              "    <tr>\n",
              "      <th>4</th>\n",
              "      <td>surprise</td>\n",
              "      <td>conclusion_disgust</td>\n",
              "      <td>-0.51</td>\n",
              "      <td>0.016</td>\n",
              "    </tr>\n",
              "    <tr>\n",
              "      <th>18</th>\n",
              "      <td>surprise</td>\n",
              "      <td>full_argument_sadness</td>\n",
              "      <td>-0.51</td>\n",
              "      <td>0.014</td>\n",
              "    </tr>\n",
              "    <tr>\n",
              "      <th>20</th>\n",
              "      <td>surprise</td>\n",
              "      <td>full_argument_disgust</td>\n",
              "      <td>-0.46</td>\n",
              "      <td>0.033</td>\n",
              "    </tr>\n",
              "    <tr>\n",
              "      <th>81</th>\n",
              "      <td>sadness</td>\n",
              "      <td>premises_anger</td>\n",
              "      <td>0.77</td>\n",
              "      <td>0.016</td>\n",
              "    </tr>\n",
              "  </tbody>\n",
              "</table>\n",
              "</div>\n",
              "      <button class=\"colab-df-convert\" onclick=\"convertToInteractive('df-3e9d9cfa-b44e-47bb-8905-97b557bbbabc')\"\n",
              "              title=\"Convert this dataframe to an interactive table.\"\n",
              "              style=\"display:none;\">\n",
              "        \n",
              "  <svg xmlns=\"http://www.w3.org/2000/svg\" height=\"24px\"viewBox=\"0 0 24 24\"\n",
              "       width=\"24px\">\n",
              "    <path d=\"M0 0h24v24H0V0z\" fill=\"none\"/>\n",
              "    <path d=\"M18.56 5.44l.94 2.06.94-2.06 2.06-.94-2.06-.94-.94-2.06-.94 2.06-2.06.94zm-11 1L8.5 8.5l.94-2.06 2.06-.94-2.06-.94L8.5 2.5l-.94 2.06-2.06.94zm10 10l.94 2.06.94-2.06 2.06-.94-2.06-.94-.94-2.06-.94 2.06-2.06.94z\"/><path d=\"M17.41 7.96l-1.37-1.37c-.4-.4-.92-.59-1.43-.59-.52 0-1.04.2-1.43.59L10.3 9.45l-7.72 7.72c-.78.78-.78 2.05 0 2.83L4 21.41c.39.39.9.59 1.41.59.51 0 1.02-.2 1.41-.59l7.78-7.78 2.81-2.81c.8-.78.8-2.07 0-2.86zM5.41 20L4 18.59l7.72-7.72 1.47 1.35L5.41 20z\"/>\n",
              "  </svg>\n",
              "      </button>\n",
              "      \n",
              "  <style>\n",
              "    .colab-df-container {\n",
              "      display:flex;\n",
              "      flex-wrap:wrap;\n",
              "      gap: 12px;\n",
              "    }\n",
              "\n",
              "    .colab-df-convert {\n",
              "      background-color: #E8F0FE;\n",
              "      border: none;\n",
              "      border-radius: 50%;\n",
              "      cursor: pointer;\n",
              "      display: none;\n",
              "      fill: #1967D2;\n",
              "      height: 32px;\n",
              "      padding: 0 0 0 0;\n",
              "      width: 32px;\n",
              "    }\n",
              "\n",
              "    .colab-df-convert:hover {\n",
              "      background-color: #E2EBFA;\n",
              "      box-shadow: 0px 1px 2px rgba(60, 64, 67, 0.3), 0px 1px 3px 1px rgba(60, 64, 67, 0.15);\n",
              "      fill: #174EA6;\n",
              "    }\n",
              "\n",
              "    [theme=dark] .colab-df-convert {\n",
              "      background-color: #3B4455;\n",
              "      fill: #D2E3FC;\n",
              "    }\n",
              "\n",
              "    [theme=dark] .colab-df-convert:hover {\n",
              "      background-color: #434B5C;\n",
              "      box-shadow: 0px 1px 3px 1px rgba(0, 0, 0, 0.15);\n",
              "      filter: drop-shadow(0px 1px 2px rgba(0, 0, 0, 0.3));\n",
              "      fill: #FFFFFF;\n",
              "    }\n",
              "  </style>\n",
              "\n",
              "      <script>\n",
              "        const buttonEl =\n",
              "          document.querySelector('#df-3e9d9cfa-b44e-47bb-8905-97b557bbbabc button.colab-df-convert');\n",
              "        buttonEl.style.display =\n",
              "          google.colab.kernel.accessAllowed ? 'block' : 'none';\n",
              "\n",
              "        async function convertToInteractive(key) {\n",
              "          const element = document.querySelector('#df-3e9d9cfa-b44e-47bb-8905-97b557bbbabc');\n",
              "          const dataTable =\n",
              "            await google.colab.kernel.invokeFunction('convertToInteractive',\n",
              "                                                     [key], {});\n",
              "          if (!dataTable) return;\n",
              "\n",
              "          const docLinkHtml = 'Like what you see? Visit the ' +\n",
              "            '<a target=\"_blank\" href=https://colab.research.google.com/notebooks/data_table.ipynb>data table notebook</a>'\n",
              "            + ' to learn more about interactive tables.';\n",
              "          element.innerHTML = '';\n",
              "          dataTable['output_type'] = 'display_data';\n",
              "          await google.colab.output.renderOutput(dataTable, element);\n",
              "          const docLink = document.createElement('div');\n",
              "          docLink.innerHTML = docLinkHtml;\n",
              "          element.appendChild(docLink);\n",
              "        }\n",
              "      </script>\n",
              "    </div>\n",
              "  </div>\n",
              "  "
            ]
          },
          "metadata": {},
          "execution_count": 116
        }
      ]
    },
    {
      "cell_type": "code",
      "source": [
        "df_cor4[df_cor4.p_value < 0.05] # G1 emotions after log transform"
      ],
      "metadata": {
        "id": "pN8LzzFvNONs"
      },
      "execution_count": null,
      "outputs": []
    },
    {
      "cell_type": "markdown",
      "source": [
        "##Arg scheme match"
      ],
      "metadata": {
        "id": "NOfGg0UEei4P"
      }
    },
    {
      "cell_type": "code",
      "source": [
        "arg = load_data('/content/drive/MyDrive/Colab Notebooks/debates/Argument_schemes/agg_dummies_fleiss_all_maps.xlsx')\n",
        "print(arg.shape)\n",
        "arg.head(1)"
      ],
      "metadata": {
        "id": "ldssVl4vpiQv",
        "colab": {
          "base_uri": "https://localhost:8080/",
          "height": 422
        },
        "outputId": "3e007087-5c06-407a-8749-f6fac3d3c8f4"
      },
      "execution_count": null,
      "outputs": [
        {
          "output_type": "stream",
          "name": "stdout",
          "text": [
            "(529, 10)\n"
          ]
        },
        {
          "output_type": "execute_result",
          "data": {
            "text/plain": [
              "                                                            conclusion  \\\n",
              "0   I just went to a wedding of a friend of mine who happens to be gay   \n",
              "\n",
              "                                                                                                               premise  \\\n",
              "0  if somebody doesn't think the way KASICH does, it doesn't mean that KASICH can't care about them or can't love them   \n",
              "\n",
              "   scheme_name_Causal Slippery Slope  scheme_name_Danger Appeal  \\\n",
              "0                                  0                          0   \n",
              "\n",
              "   scheme_name_Default Inference  scheme_name_Fear Appeal  \\\n",
              "0                              0                        0   \n",
              "\n",
              "   scheme_name_Need For Help  scheme_name_Negative Consequences  \\\n",
              "0                          0                                  0   \n",
              "\n",
              "   scheme_name_Positive Consequences  scheme_name_Waste  \n",
              "0                                  5                  0  "
            ],
            "text/html": [
              "\n",
              "  <div id=\"df-ceb9b658-a923-498e-8128-0917753b25dd\">\n",
              "    <div class=\"colab-df-container\">\n",
              "      <div>\n",
              "<style scoped>\n",
              "    .dataframe tbody tr th:only-of-type {\n",
              "        vertical-align: middle;\n",
              "    }\n",
              "\n",
              "    .dataframe tbody tr th {\n",
              "        vertical-align: top;\n",
              "    }\n",
              "\n",
              "    .dataframe thead th {\n",
              "        text-align: right;\n",
              "    }\n",
              "</style>\n",
              "<table border=\"1\" class=\"dataframe\">\n",
              "  <thead>\n",
              "    <tr style=\"text-align: right;\">\n",
              "      <th></th>\n",
              "      <th>conclusion</th>\n",
              "      <th>premise</th>\n",
              "      <th>scheme_name_Causal Slippery Slope</th>\n",
              "      <th>scheme_name_Danger Appeal</th>\n",
              "      <th>scheme_name_Default Inference</th>\n",
              "      <th>scheme_name_Fear Appeal</th>\n",
              "      <th>scheme_name_Need For Help</th>\n",
              "      <th>scheme_name_Negative Consequences</th>\n",
              "      <th>scheme_name_Positive Consequences</th>\n",
              "      <th>scheme_name_Waste</th>\n",
              "    </tr>\n",
              "  </thead>\n",
              "  <tbody>\n",
              "    <tr>\n",
              "      <th>0</th>\n",
              "      <td>I just went to a wedding of a friend of mine who happens to be gay</td>\n",
              "      <td>if somebody doesn't think the way KASICH does, it doesn't mean that KASICH can't care about them or can't love them</td>\n",
              "      <td>0</td>\n",
              "      <td>0</td>\n",
              "      <td>0</td>\n",
              "      <td>0</td>\n",
              "      <td>0</td>\n",
              "      <td>0</td>\n",
              "      <td>5</td>\n",
              "      <td>0</td>\n",
              "    </tr>\n",
              "  </tbody>\n",
              "</table>\n",
              "</div>\n",
              "      <button class=\"colab-df-convert\" onclick=\"convertToInteractive('df-ceb9b658-a923-498e-8128-0917753b25dd')\"\n",
              "              title=\"Convert this dataframe to an interactive table.\"\n",
              "              style=\"display:none;\">\n",
              "        \n",
              "  <svg xmlns=\"http://www.w3.org/2000/svg\" height=\"24px\"viewBox=\"0 0 24 24\"\n",
              "       width=\"24px\">\n",
              "    <path d=\"M0 0h24v24H0V0z\" fill=\"none\"/>\n",
              "    <path d=\"M18.56 5.44l.94 2.06.94-2.06 2.06-.94-2.06-.94-.94-2.06-.94 2.06-2.06.94zm-11 1L8.5 8.5l.94-2.06 2.06-.94-2.06-.94L8.5 2.5l-.94 2.06-2.06.94zm10 10l.94 2.06.94-2.06 2.06-.94-2.06-.94-.94-2.06-.94 2.06-2.06.94z\"/><path d=\"M17.41 7.96l-1.37-1.37c-.4-.4-.92-.59-1.43-.59-.52 0-1.04.2-1.43.59L10.3 9.45l-7.72 7.72c-.78.78-.78 2.05 0 2.83L4 21.41c.39.39.9.59 1.41.59.51 0 1.02-.2 1.41-.59l7.78-7.78 2.81-2.81c.8-.78.8-2.07 0-2.86zM5.41 20L4 18.59l7.72-7.72 1.47 1.35L5.41 20z\"/>\n",
              "  </svg>\n",
              "      </button>\n",
              "      \n",
              "  <style>\n",
              "    .colab-df-container {\n",
              "      display:flex;\n",
              "      flex-wrap:wrap;\n",
              "      gap: 12px;\n",
              "    }\n",
              "\n",
              "    .colab-df-convert {\n",
              "      background-color: #E8F0FE;\n",
              "      border: none;\n",
              "      border-radius: 50%;\n",
              "      cursor: pointer;\n",
              "      display: none;\n",
              "      fill: #1967D2;\n",
              "      height: 32px;\n",
              "      padding: 0 0 0 0;\n",
              "      width: 32px;\n",
              "    }\n",
              "\n",
              "    .colab-df-convert:hover {\n",
              "      background-color: #E2EBFA;\n",
              "      box-shadow: 0px 1px 2px rgba(60, 64, 67, 0.3), 0px 1px 3px 1px rgba(60, 64, 67, 0.15);\n",
              "      fill: #174EA6;\n",
              "    }\n",
              "\n",
              "    [theme=dark] .colab-df-convert {\n",
              "      background-color: #3B4455;\n",
              "      fill: #D2E3FC;\n",
              "    }\n",
              "\n",
              "    [theme=dark] .colab-df-convert:hover {\n",
              "      background-color: #434B5C;\n",
              "      box-shadow: 0px 1px 3px 1px rgba(0, 0, 0, 0.15);\n",
              "      filter: drop-shadow(0px 1px 2px rgba(0, 0, 0, 0.3));\n",
              "      fill: #FFFFFF;\n",
              "    }\n",
              "  </style>\n",
              "\n",
              "      <script>\n",
              "        const buttonEl =\n",
              "          document.querySelector('#df-ceb9b658-a923-498e-8128-0917753b25dd button.colab-df-convert');\n",
              "        buttonEl.style.display =\n",
              "          google.colab.kernel.accessAllowed ? 'block' : 'none';\n",
              "\n",
              "        async function convertToInteractive(key) {\n",
              "          const element = document.querySelector('#df-ceb9b658-a923-498e-8128-0917753b25dd');\n",
              "          const dataTable =\n",
              "            await google.colab.kernel.invokeFunction('convertToInteractive',\n",
              "                                                     [key], {});\n",
              "          if (!dataTable) return;\n",
              "\n",
              "          const docLinkHtml = 'Like what you see? Visit the ' +\n",
              "            '<a target=\"_blank\" href=https://colab.research.google.com/notebooks/data_table.ipynb>data table notebook</a>'\n",
              "            + ' to learn more about interactive tables.';\n",
              "          element.innerHTML = '';\n",
              "          dataTable['output_type'] = 'display_data';\n",
              "          await google.colab.output.renderOutput(dataTable, element);\n",
              "          const docLink = document.createElement('div');\n",
              "          docLink.innerHTML = docLinkHtml;\n",
              "          element.appendChild(docLink);\n",
              "        }\n",
              "      </script>\n",
              "    </div>\n",
              "  </div>\n",
              "  "
            ]
          },
          "metadata": {},
          "execution_count": 27
        }
      ]
    },
    {
      "cell_type": "code",
      "source": [
        "schems = ['scheme_name_Causal Slippery Slope', 'scheme_name_Danger Appeal',\n",
        "       'scheme_name_Fear Appeal', 'scheme_name_Need For Help', 'scheme_name_Negative Consequences',\n",
        "       'scheme_name_Positive Consequences', 'scheme_name_Waste', 'scheme_name_Default Inference']"
      ],
      "metadata": {
        "id": "SoYWqAOf3gYG"
      },
      "execution_count": null,
      "outputs": []
    },
    {
      "cell_type": "code",
      "execution_count": null,
      "metadata": {
        "id": "3gdM7DgPuwLv"
      },
      "outputs": [],
      "source": [
        "# here !!\n",
        "arg = arg[['conclusion', 'premise', 'scheme_name_Causal Slippery Slope','scheme_name_Danger Appeal','scheme_name_Fear Appeal', 'scheme_name_Need For Help',\n",
        "       'scheme_name_Negative Consequences','scheme_name_Positive Consequences', 'scheme_name_Waste', 'scheme_name_Default Inference']]\n",
        "arg['schm'] = arg[schems].max(axis=1)\n",
        "\n",
        "for s in schems:\n",
        "  arg[s] = np.where(arg[s] == arg['schm'], 1, 0)\n",
        "\n",
        "arg = arg.iloc[:, :-1]\n",
        "#arg['scheme_name_Default Inference'] = np.where(arg[schems].sum(axis=1) == 2, 0, arg['scheme_name_Default Inference'])\n",
        "ids = np.where(arg[schems].sum(axis=1) > 1)\n",
        "maxs = arg.loc[ids].iloc[:, 2:].idxmax(axis=1).values\n",
        "for n, i in enumerate(ids):\n",
        "  arg.loc[i, schems] = 0\n",
        "  arg.loc[i, maxs[n]] = 1"
      ]
    },
    {
      "cell_type": "code",
      "source": [
        "arg[schems].sum(axis=1).value_counts()"
      ],
      "metadata": {
        "colab": {
          "base_uri": "https://localhost:8080/"
        },
        "id": "ZcOcAE2X3lwh",
        "outputId": "517122f6-596f-4a3b-abef-7c7d1dde4225"
      },
      "execution_count": null,
      "outputs": [
        {
          "output_type": "execute_result",
          "data": {
            "text/plain": [
              "1    529\n",
              "dtype: int64"
            ]
          },
          "metadata": {},
          "execution_count": 30
        }
      ]
    },
    {
      "cell_type": "code",
      "source": [
        "arg.columns = ['conclusion_schemes', 'premise_schemes', 'scheme_name_Causal Slippery Slope',\n",
        "               'scheme_name_Danger Appeal','scheme_name_Fear Appeal', 'scheme_name_Need For Help',\n",
        "       'scheme_name_Negative Consequences','scheme_name_Positive Consequences',\n",
        "        'scheme_name_Waste', 'scheme_name_Default Inference']"
      ],
      "metadata": {
        "id": "rU8xTi9AwHXy"
      },
      "execution_count": null,
      "outputs": []
    },
    {
      "cell_type": "code",
      "source": [
        "arg2 = load_data('/content/drive/MyDrive/Colab Notebooks/debates/Argument_schemes/all_annotated_schemes_3774.xlsx')\n",
        "print(arg2.shape)\n",
        "arg2.head(1)"
      ],
      "metadata": {
        "colab": {
          "base_uri": "https://localhost:8080/",
          "height": 353
        },
        "id": "2EK2l9UG8pKF",
        "outputId": "43176d9b-b757-4e8d-f293-cc70e1e275c0"
      },
      "execution_count": null,
      "outputs": [
        {
          "output_type": "stream",
          "name": "stdout",
          "text": [
            "(3774, 18)\n"
          ]
        },
        {
          "output_type": "execute_result",
          "data": {
            "text/plain": [
              "                                 conclusion  \\\n",
              "0.0  CLINTON has a very robust set of plans   \n",
              "\n",
              "                                                                                                                    premise  \\\n",
              "0.0  We also have to look at how we help families balance the responsibilities at home and the responsibilities at business   \n",
              "\n",
              "      map_ID            scheme_name  scheme_aifdb_ID  annotator_id  \\\n",
              "0.0  24867.0  Positive Consequences             27.0           2.0   \n",
              "\n",
              "     scheme_label  Causal Slippery Slope  Danger Appeal  Default Inference  \\\n",
              "0.0           1.0                    0.0            0.0                0.0   \n",
              "\n",
              "     Fear Appeal  Need For Help  Negative Consequences  Positive Consequences  \\\n",
              "0.0          0.0            0.0                    0.0                    1.0   \n",
              "\n",
              "     Waste      annotator  original_map_ID                                Link  \n",
              "0.0    0.0  Anna Kałdonek          10624.0  http://www.aifdb.org/argview/24867  "
            ],
            "text/html": [
              "\n",
              "  <div id=\"df-66fb8165-a5c9-4022-b762-7d0e9c4c4309\">\n",
              "    <div class=\"colab-df-container\">\n",
              "      <div>\n",
              "<style scoped>\n",
              "    .dataframe tbody tr th:only-of-type {\n",
              "        vertical-align: middle;\n",
              "    }\n",
              "\n",
              "    .dataframe tbody tr th {\n",
              "        vertical-align: top;\n",
              "    }\n",
              "\n",
              "    .dataframe thead th {\n",
              "        text-align: right;\n",
              "    }\n",
              "</style>\n",
              "<table border=\"1\" class=\"dataframe\">\n",
              "  <thead>\n",
              "    <tr style=\"text-align: right;\">\n",
              "      <th></th>\n",
              "      <th>conclusion</th>\n",
              "      <th>premise</th>\n",
              "      <th>map_ID</th>\n",
              "      <th>scheme_name</th>\n",
              "      <th>scheme_aifdb_ID</th>\n",
              "      <th>annotator_id</th>\n",
              "      <th>scheme_label</th>\n",
              "      <th>Causal Slippery Slope</th>\n",
              "      <th>Danger Appeal</th>\n",
              "      <th>Default Inference</th>\n",
              "      <th>Fear Appeal</th>\n",
              "      <th>Need For Help</th>\n",
              "      <th>Negative Consequences</th>\n",
              "      <th>Positive Consequences</th>\n",
              "      <th>Waste</th>\n",
              "      <th>annotator</th>\n",
              "      <th>original_map_ID</th>\n",
              "      <th>Link</th>\n",
              "    </tr>\n",
              "  </thead>\n",
              "  <tbody>\n",
              "    <tr>\n",
              "      <th>0.0</th>\n",
              "      <td>CLINTON has a very robust set of plans</td>\n",
              "      <td>We also have to look at how we help families balance the responsibilities at home and the responsibilities at business</td>\n",
              "      <td>24867.0</td>\n",
              "      <td>Positive Consequences</td>\n",
              "      <td>27.0</td>\n",
              "      <td>2.0</td>\n",
              "      <td>1.0</td>\n",
              "      <td>0.0</td>\n",
              "      <td>0.0</td>\n",
              "      <td>0.0</td>\n",
              "      <td>0.0</td>\n",
              "      <td>0.0</td>\n",
              "      <td>0.0</td>\n",
              "      <td>1.0</td>\n",
              "      <td>0.0</td>\n",
              "      <td>Anna Kałdonek</td>\n",
              "      <td>10624.0</td>\n",
              "      <td>http://www.aifdb.org/argview/24867</td>\n",
              "    </tr>\n",
              "  </tbody>\n",
              "</table>\n",
              "</div>\n",
              "      <button class=\"colab-df-convert\" onclick=\"convertToInteractive('df-66fb8165-a5c9-4022-b762-7d0e9c4c4309')\"\n",
              "              title=\"Convert this dataframe to an interactive table.\"\n",
              "              style=\"display:none;\">\n",
              "        \n",
              "  <svg xmlns=\"http://www.w3.org/2000/svg\" height=\"24px\"viewBox=\"0 0 24 24\"\n",
              "       width=\"24px\">\n",
              "    <path d=\"M0 0h24v24H0V0z\" fill=\"none\"/>\n",
              "    <path d=\"M18.56 5.44l.94 2.06.94-2.06 2.06-.94-2.06-.94-.94-2.06-.94 2.06-2.06.94zm-11 1L8.5 8.5l.94-2.06 2.06-.94-2.06-.94L8.5 2.5l-.94 2.06-2.06.94zm10 10l.94 2.06.94-2.06 2.06-.94-2.06-.94-.94-2.06-.94 2.06-2.06.94z\"/><path d=\"M17.41 7.96l-1.37-1.37c-.4-.4-.92-.59-1.43-.59-.52 0-1.04.2-1.43.59L10.3 9.45l-7.72 7.72c-.78.78-.78 2.05 0 2.83L4 21.41c.39.39.9.59 1.41.59.51 0 1.02-.2 1.41-.59l7.78-7.78 2.81-2.81c.8-.78.8-2.07 0-2.86zM5.41 20L4 18.59l7.72-7.72 1.47 1.35L5.41 20z\"/>\n",
              "  </svg>\n",
              "      </button>\n",
              "      \n",
              "  <style>\n",
              "    .colab-df-container {\n",
              "      display:flex;\n",
              "      flex-wrap:wrap;\n",
              "      gap: 12px;\n",
              "    }\n",
              "\n",
              "    .colab-df-convert {\n",
              "      background-color: #E8F0FE;\n",
              "      border: none;\n",
              "      border-radius: 50%;\n",
              "      cursor: pointer;\n",
              "      display: none;\n",
              "      fill: #1967D2;\n",
              "      height: 32px;\n",
              "      padding: 0 0 0 0;\n",
              "      width: 32px;\n",
              "    }\n",
              "\n",
              "    .colab-df-convert:hover {\n",
              "      background-color: #E2EBFA;\n",
              "      box-shadow: 0px 1px 2px rgba(60, 64, 67, 0.3), 0px 1px 3px 1px rgba(60, 64, 67, 0.15);\n",
              "      fill: #174EA6;\n",
              "    }\n",
              "\n",
              "    [theme=dark] .colab-df-convert {\n",
              "      background-color: #3B4455;\n",
              "      fill: #D2E3FC;\n",
              "    }\n",
              "\n",
              "    [theme=dark] .colab-df-convert:hover {\n",
              "      background-color: #434B5C;\n",
              "      box-shadow: 0px 1px 3px 1px rgba(0, 0, 0, 0.15);\n",
              "      filter: drop-shadow(0px 1px 2px rgba(0, 0, 0, 0.3));\n",
              "      fill: #FFFFFF;\n",
              "    }\n",
              "  </style>\n",
              "\n",
              "      <script>\n",
              "        const buttonEl =\n",
              "          document.querySelector('#df-66fb8165-a5c9-4022-b762-7d0e9c4c4309 button.colab-df-convert');\n",
              "        buttonEl.style.display =\n",
              "          google.colab.kernel.accessAllowed ? 'block' : 'none';\n",
              "\n",
              "        async function convertToInteractive(key) {\n",
              "          const element = document.querySelector('#df-66fb8165-a5c9-4022-b762-7d0e9c4c4309');\n",
              "          const dataTable =\n",
              "            await google.colab.kernel.invokeFunction('convertToInteractive',\n",
              "                                                     [key], {});\n",
              "          if (!dataTable) return;\n",
              "\n",
              "          const docLinkHtml = 'Like what you see? Visit the ' +\n",
              "            '<a target=\"_blank\" href=https://colab.research.google.com/notebooks/data_table.ipynb>data table notebook</a>'\n",
              "            + ' to learn more about interactive tables.';\n",
              "          element.innerHTML = '';\n",
              "          dataTable['output_type'] = 'display_data';\n",
              "          await google.colab.output.renderOutput(dataTable, element);\n",
              "          const docLink = document.createElement('div');\n",
              "          docLink.innerHTML = docLinkHtml;\n",
              "          element.appendChild(docLink);\n",
              "        }\n",
              "      </script>\n",
              "    </div>\n",
              "  </div>\n",
              "  "
            ]
          },
          "metadata": {},
          "execution_count": 32
        }
      ]
    },
    {
      "cell_type": "code",
      "source": [
        "arg.columns"
      ],
      "metadata": {
        "colab": {
          "base_uri": "https://localhost:8080/"
        },
        "id": "wbPfWCJO9eA-",
        "outputId": "9b130906-6259-494a-e49c-bd74607106d0"
      },
      "execution_count": null,
      "outputs": [
        {
          "output_type": "execute_result",
          "data": {
            "text/plain": [
              "Index(['conclusion_schemes', 'premise_schemes',\n",
              "       'scheme_name_Causal Slippery Slope', 'scheme_name_Danger Appeal',\n",
              "       'scheme_name_Fear Appeal', 'scheme_name_Need For Help',\n",
              "       'scheme_name_Negative Consequences',\n",
              "       'scheme_name_Positive Consequences', 'scheme_name_Waste',\n",
              "       'scheme_name_Default Inference'],\n",
              "      dtype='object')"
            ]
          },
          "metadata": {},
          "execution_count": 35
        }
      ]
    },
    {
      "cell_type": "code",
      "source": [
        "arg2 = arg2[['conclusion', 'premise', 'Causal Slippery Slope',\n",
        "       'Danger Appeal', 'Fear Appeal', 'Need For Help',\n",
        "       'Negative Consequences', 'Positive Consequences', 'Waste', 'Default Inference']]\n",
        "\n",
        "arg2.columns = arg.columns  "
      ],
      "metadata": {
        "id": "KRC_XYg988Ft"
      },
      "execution_count": null,
      "outputs": []
    },
    {
      "cell_type": "code",
      "source": [
        "# merged data annotated by all and data annotated by single annotators\n",
        "\n",
        "arg = pd.concat([arg, arg2], axis = 0)\n",
        "print(arg.shape)\n",
        "arg = arg.drop_duplicates(['conclusion_schemes', 'premise_schemes'], keep = 'first')\n",
        "arg.shape"
      ],
      "metadata": {
        "colab": {
          "base_uri": "https://localhost:8080/"
        },
        "id": "124uWgB6ziNY",
        "outputId": "56423327-3368-40a9-ae1a-78b431a032f3"
      },
      "execution_count": null,
      "outputs": [
        {
          "output_type": "stream",
          "name": "stdout",
          "text": [
            "(4303, 10)\n"
          ]
        },
        {
          "output_type": "execute_result",
          "data": {
            "text/plain": [
              "(1629, 10)"
            ]
          },
          "metadata": {},
          "execution_count": 37
        }
      ]
    },
    {
      "cell_type": "code",
      "source": [
        "arg.reset_index(drop=True, inplace=True)"
      ],
      "metadata": {
        "id": "1HKHQiRg_XGu"
      },
      "execution_count": null,
      "outputs": []
    },
    {
      "cell_type": "code",
      "source": [
        "arg[schems].sum(axis=1).value_counts()"
      ],
      "metadata": {
        "id": "ZC5QLcgIxgkA",
        "colab": {
          "base_uri": "https://localhost:8080/"
        },
        "outputId": "172d26c1-fc6b-4034-eab5-08c353c1f04d"
      },
      "execution_count": null,
      "outputs": [
        {
          "output_type": "execute_result",
          "data": {
            "text/plain": [
              "1.0    1629\n",
              "dtype: int64"
            ]
          },
          "metadata": {},
          "execution_count": 39
        }
      ]
    },
    {
      "cell_type": "code",
      "source": [
        "rdeb_grpd.shape"
      ],
      "metadata": {
        "colab": {
          "base_uri": "https://localhost:8080/"
        },
        "id": "ayDeclNqyHZk",
        "outputId": "113cc803-5101-4d30-c33e-7ebcc4be90e8"
      },
      "execution_count": null,
      "outputs": [
        {
          "output_type": "execute_result",
          "data": {
            "text/plain": [
              "(72, 3)"
            ]
          },
          "metadata": {},
          "execution_count": 69
        }
      ]
    },
    {
      "cell_type": "code",
      "source": [
        "rdeb_grpd.iloc[:2]"
      ],
      "metadata": {
        "colab": {
          "base_uri": "https://localhost:8080/",
          "height": 112
        },
        "id": "QEY9zwHJjM63",
        "outputId": "85b50071-d54b-4e5e-98f4-d6f90700e674"
      },
      "execution_count": null,
      "outputs": [
        {
          "output_type": "execute_result",
          "data": {
            "text/plain": [
              "                                                                      debate_claim  \\\n",
              "0  71 % of federal spending right now is on entitlements , and debt service , 71 %   \n",
              "1  71 % of federal spending right now is on entitlements , and debt service , 71 %   \n",
              "\n",
              "  pathotic_response  percentage  \n",
              "0          Negative        50.0  \n",
              "1           Neutral        50.0  "
            ],
            "text/html": [
              "\n",
              "  <div id=\"df-3d7fcdcf-ea7e-4734-b0d4-9750648bc3ec\">\n",
              "    <div class=\"colab-df-container\">\n",
              "      <div>\n",
              "<style scoped>\n",
              "    .dataframe tbody tr th:only-of-type {\n",
              "        vertical-align: middle;\n",
              "    }\n",
              "\n",
              "    .dataframe tbody tr th {\n",
              "        vertical-align: top;\n",
              "    }\n",
              "\n",
              "    .dataframe thead th {\n",
              "        text-align: right;\n",
              "    }\n",
              "</style>\n",
              "<table border=\"1\" class=\"dataframe\">\n",
              "  <thead>\n",
              "    <tr style=\"text-align: right;\">\n",
              "      <th></th>\n",
              "      <th>debate_claim</th>\n",
              "      <th>pathotic_response</th>\n",
              "      <th>percentage</th>\n",
              "    </tr>\n",
              "  </thead>\n",
              "  <tbody>\n",
              "    <tr>\n",
              "      <th>0</th>\n",
              "      <td>71 % of federal spending right now is on entitlements , and debt service , 71 %</td>\n",
              "      <td>Negative</td>\n",
              "      <td>50.0</td>\n",
              "    </tr>\n",
              "    <tr>\n",
              "      <th>1</th>\n",
              "      <td>71 % of federal spending right now is on entitlements , and debt service , 71 %</td>\n",
              "      <td>Neutral</td>\n",
              "      <td>50.0</td>\n",
              "    </tr>\n",
              "  </tbody>\n",
              "</table>\n",
              "</div>\n",
              "      <button class=\"colab-df-convert\" onclick=\"convertToInteractive('df-3d7fcdcf-ea7e-4734-b0d4-9750648bc3ec')\"\n",
              "              title=\"Convert this dataframe to an interactive table.\"\n",
              "              style=\"display:none;\">\n",
              "        \n",
              "  <svg xmlns=\"http://www.w3.org/2000/svg\" height=\"24px\"viewBox=\"0 0 24 24\"\n",
              "       width=\"24px\">\n",
              "    <path d=\"M0 0h24v24H0V0z\" fill=\"none\"/>\n",
              "    <path d=\"M18.56 5.44l.94 2.06.94-2.06 2.06-.94-2.06-.94-.94-2.06-.94 2.06-2.06.94zm-11 1L8.5 8.5l.94-2.06 2.06-.94-2.06-.94L8.5 2.5l-.94 2.06-2.06.94zm10 10l.94 2.06.94-2.06 2.06-.94-2.06-.94-.94-2.06-.94 2.06-2.06.94z\"/><path d=\"M17.41 7.96l-1.37-1.37c-.4-.4-.92-.59-1.43-.59-.52 0-1.04.2-1.43.59L10.3 9.45l-7.72 7.72c-.78.78-.78 2.05 0 2.83L4 21.41c.39.39.9.59 1.41.59.51 0 1.02-.2 1.41-.59l7.78-7.78 2.81-2.81c.8-.78.8-2.07 0-2.86zM5.41 20L4 18.59l7.72-7.72 1.47 1.35L5.41 20z\"/>\n",
              "  </svg>\n",
              "      </button>\n",
              "      \n",
              "  <style>\n",
              "    .colab-df-container {\n",
              "      display:flex;\n",
              "      flex-wrap:wrap;\n",
              "      gap: 12px;\n",
              "    }\n",
              "\n",
              "    .colab-df-convert {\n",
              "      background-color: #E8F0FE;\n",
              "      border: none;\n",
              "      border-radius: 50%;\n",
              "      cursor: pointer;\n",
              "      display: none;\n",
              "      fill: #1967D2;\n",
              "      height: 32px;\n",
              "      padding: 0 0 0 0;\n",
              "      width: 32px;\n",
              "    }\n",
              "\n",
              "    .colab-df-convert:hover {\n",
              "      background-color: #E2EBFA;\n",
              "      box-shadow: 0px 1px 2px rgba(60, 64, 67, 0.3), 0px 1px 3px 1px rgba(60, 64, 67, 0.15);\n",
              "      fill: #174EA6;\n",
              "    }\n",
              "\n",
              "    [theme=dark] .colab-df-convert {\n",
              "      background-color: #3B4455;\n",
              "      fill: #D2E3FC;\n",
              "    }\n",
              "\n",
              "    [theme=dark] .colab-df-convert:hover {\n",
              "      background-color: #434B5C;\n",
              "      box-shadow: 0px 1px 3px 1px rgba(0, 0, 0, 0.15);\n",
              "      filter: drop-shadow(0px 1px 2px rgba(0, 0, 0, 0.3));\n",
              "      fill: #FFFFFF;\n",
              "    }\n",
              "  </style>\n",
              "\n",
              "      <script>\n",
              "        const buttonEl =\n",
              "          document.querySelector('#df-3d7fcdcf-ea7e-4734-b0d4-9750648bc3ec button.colab-df-convert');\n",
              "        buttonEl.style.display =\n",
              "          google.colab.kernel.accessAllowed ? 'block' : 'none';\n",
              "\n",
              "        async function convertToInteractive(key) {\n",
              "          const element = document.querySelector('#df-3d7fcdcf-ea7e-4734-b0d4-9750648bc3ec');\n",
              "          const dataTable =\n",
              "            await google.colab.kernel.invokeFunction('convertToInteractive',\n",
              "                                                     [key], {});\n",
              "          if (!dataTable) return;\n",
              "\n",
              "          const docLinkHtml = 'Like what you see? Visit the ' +\n",
              "            '<a target=\"_blank\" href=https://colab.research.google.com/notebooks/data_table.ipynb>data table notebook</a>'\n",
              "            + ' to learn more about interactive tables.';\n",
              "          element.innerHTML = '';\n",
              "          dataTable['output_type'] = 'display_data';\n",
              "          await google.colab.output.renderOutput(dataTable, element);\n",
              "          const docLink = document.createElement('div');\n",
              "          docLink.innerHTML = docLinkHtml;\n",
              "          element.appendChild(docLink);\n",
              "        }\n",
              "      </script>\n",
              "    </div>\n",
              "  </div>\n",
              "  "
            ]
          },
          "metadata": {},
          "execution_count": 70
        }
      ]
    },
    {
      "cell_type": "code",
      "source": [
        "gdeb_grpd.iloc[:2]"
      ],
      "metadata": {
        "colab": {
          "base_uri": "https://localhost:8080/",
          "height": 112
        },
        "id": "3pubi36-jP9z",
        "outputId": "803eeff2-18c4-4055-b57c-f72cbeace679"
      },
      "execution_count": null,
      "outputs": [
        {
          "output_type": "execute_result",
          "data": {
            "text/plain": [
              "                                                                 debate_claim  \\\n",
              "0  b-52s are old enough that one's father or grandfather could be flying them   \n",
              "1  b-52s are old enough that one's father or grandfather could be flying them   \n",
              "\n",
              "  pathotic_response  percentage  \n",
              "0          Negative        50.0  \n",
              "1           Neutral        30.0  "
            ],
            "text/html": [
              "\n",
              "  <div id=\"df-a59df28a-d075-4c13-843c-78a4d317ba17\">\n",
              "    <div class=\"colab-df-container\">\n",
              "      <div>\n",
              "<style scoped>\n",
              "    .dataframe tbody tr th:only-of-type {\n",
              "        vertical-align: middle;\n",
              "    }\n",
              "\n",
              "    .dataframe tbody tr th {\n",
              "        vertical-align: top;\n",
              "    }\n",
              "\n",
              "    .dataframe thead th {\n",
              "        text-align: right;\n",
              "    }\n",
              "</style>\n",
              "<table border=\"1\" class=\"dataframe\">\n",
              "  <thead>\n",
              "    <tr style=\"text-align: right;\">\n",
              "      <th></th>\n",
              "      <th>debate_claim</th>\n",
              "      <th>pathotic_response</th>\n",
              "      <th>percentage</th>\n",
              "    </tr>\n",
              "  </thead>\n",
              "  <tbody>\n",
              "    <tr>\n",
              "      <th>0</th>\n",
              "      <td>b-52s are old enough that one's father or grandfather could be flying them</td>\n",
              "      <td>Negative</td>\n",
              "      <td>50.0</td>\n",
              "    </tr>\n",
              "    <tr>\n",
              "      <th>1</th>\n",
              "      <td>b-52s are old enough that one's father or grandfather could be flying them</td>\n",
              "      <td>Neutral</td>\n",
              "      <td>30.0</td>\n",
              "    </tr>\n",
              "  </tbody>\n",
              "</table>\n",
              "</div>\n",
              "      <button class=\"colab-df-convert\" onclick=\"convertToInteractive('df-a59df28a-d075-4c13-843c-78a4d317ba17')\"\n",
              "              title=\"Convert this dataframe to an interactive table.\"\n",
              "              style=\"display:none;\">\n",
              "        \n",
              "  <svg xmlns=\"http://www.w3.org/2000/svg\" height=\"24px\"viewBox=\"0 0 24 24\"\n",
              "       width=\"24px\">\n",
              "    <path d=\"M0 0h24v24H0V0z\" fill=\"none\"/>\n",
              "    <path d=\"M18.56 5.44l.94 2.06.94-2.06 2.06-.94-2.06-.94-.94-2.06-.94 2.06-2.06.94zm-11 1L8.5 8.5l.94-2.06 2.06-.94-2.06-.94L8.5 2.5l-.94 2.06-2.06.94zm10 10l.94 2.06.94-2.06 2.06-.94-2.06-.94-.94-2.06-.94 2.06-2.06.94z\"/><path d=\"M17.41 7.96l-1.37-1.37c-.4-.4-.92-.59-1.43-.59-.52 0-1.04.2-1.43.59L10.3 9.45l-7.72 7.72c-.78.78-.78 2.05 0 2.83L4 21.41c.39.39.9.59 1.41.59.51 0 1.02-.2 1.41-.59l7.78-7.78 2.81-2.81c.8-.78.8-2.07 0-2.86zM5.41 20L4 18.59l7.72-7.72 1.47 1.35L5.41 20z\"/>\n",
              "  </svg>\n",
              "      </button>\n",
              "      \n",
              "  <style>\n",
              "    .colab-df-container {\n",
              "      display:flex;\n",
              "      flex-wrap:wrap;\n",
              "      gap: 12px;\n",
              "    }\n",
              "\n",
              "    .colab-df-convert {\n",
              "      background-color: #E8F0FE;\n",
              "      border: none;\n",
              "      border-radius: 50%;\n",
              "      cursor: pointer;\n",
              "      display: none;\n",
              "      fill: #1967D2;\n",
              "      height: 32px;\n",
              "      padding: 0 0 0 0;\n",
              "      width: 32px;\n",
              "    }\n",
              "\n",
              "    .colab-df-convert:hover {\n",
              "      background-color: #E2EBFA;\n",
              "      box-shadow: 0px 1px 2px rgba(60, 64, 67, 0.3), 0px 1px 3px 1px rgba(60, 64, 67, 0.15);\n",
              "      fill: #174EA6;\n",
              "    }\n",
              "\n",
              "    [theme=dark] .colab-df-convert {\n",
              "      background-color: #3B4455;\n",
              "      fill: #D2E3FC;\n",
              "    }\n",
              "\n",
              "    [theme=dark] .colab-df-convert:hover {\n",
              "      background-color: #434B5C;\n",
              "      box-shadow: 0px 1px 3px 1px rgba(0, 0, 0, 0.15);\n",
              "      filter: drop-shadow(0px 1px 2px rgba(0, 0, 0, 0.3));\n",
              "      fill: #FFFFFF;\n",
              "    }\n",
              "  </style>\n",
              "\n",
              "      <script>\n",
              "        const buttonEl =\n",
              "          document.querySelector('#df-a59df28a-d075-4c13-843c-78a4d317ba17 button.colab-df-convert');\n",
              "        buttonEl.style.display =\n",
              "          google.colab.kernel.accessAllowed ? 'block' : 'none';\n",
              "\n",
              "        async function convertToInteractive(key) {\n",
              "          const element = document.querySelector('#df-a59df28a-d075-4c13-843c-78a4d317ba17');\n",
              "          const dataTable =\n",
              "            await google.colab.kernel.invokeFunction('convertToInteractive',\n",
              "                                                     [key], {});\n",
              "          if (!dataTable) return;\n",
              "\n",
              "          const docLinkHtml = 'Like what you see? Visit the ' +\n",
              "            '<a target=\"_blank\" href=https://colab.research.google.com/notebooks/data_table.ipynb>data table notebook</a>'\n",
              "            + ' to learn more about interactive tables.';\n",
              "          element.innerHTML = '';\n",
              "          dataTable['output_type'] = 'display_data';\n",
              "          await google.colab.output.renderOutput(dataTable, element);\n",
              "          const docLink = document.createElement('div');\n",
              "          docLink.innerHTML = docLinkHtml;\n",
              "          element.appendChild(docLink);\n",
              "        }\n",
              "      </script>\n",
              "    </div>\n",
              "  </div>\n",
              "  "
            ]
          },
          "metadata": {},
          "execution_count": 71
        }
      ]
    },
    {
      "cell_type": "code",
      "source": [
        "rdeb_grpd['percentage'].iloc[:2]"
      ],
      "metadata": {
        "colab": {
          "base_uri": "https://localhost:8080/"
        },
        "id": "otFmrq-3jKM_",
        "outputId": "ea19ba5d-a3aa-40f1-fd8e-9e046f6cde97"
      },
      "execution_count": null,
      "outputs": [
        {
          "output_type": "execute_result",
          "data": {
            "text/plain": [
              "0    50.0\n",
              "1    50.0\n",
              "Name: percentage, dtype: float64"
            ]
          },
          "metadata": {},
          "execution_count": 72
        }
      ]
    },
    {
      "cell_type": "code",
      "source": [
        "rdeb_grpd['percentage'] = rdeb_grpd['percentage'].apply(lambda x: np.log(x+1))\n",
        "gdeb_grpd['percentage'] = gdeb_grpd['percentage'].apply(lambda x: np.log(x+1))\n"
      ],
      "metadata": {
        "id": "vMIlepN516CR"
      },
      "execution_count": null,
      "outputs": []
    },
    {
      "cell_type": "code",
      "source": [
        "gdeb_grpd = gdeb_grpd.reset_index(drop=True)\n",
        "rdeb_grpd = rdeb_grpd.reset_index(drop=True)"
      ],
      "metadata": {
        "id": "msuxFtHpBXq6"
      },
      "execution_count": null,
      "outputs": []
    },
    {
      "cell_type": "code",
      "source": [
        "rdeb_grpd['percentage'].iloc[:2]"
      ],
      "metadata": {
        "colab": {
          "base_uri": "https://localhost:8080/"
        },
        "id": "9TiyZiJCjuA0",
        "outputId": "d45dac99-3735-4957-f00a-9520407d7848"
      },
      "execution_count": null,
      "outputs": [
        {
          "output_type": "execute_result",
          "data": {
            "text/plain": [
              "0    3.931826\n",
              "1    3.931826\n",
              "Name: percentage, dtype: float64"
            ]
          },
          "metadata": {},
          "execution_count": 75
        }
      ]
    },
    {
      "cell_type": "code",
      "source": [
        "# take only those annotated arg. schemes that are in a particular debate\n",
        "\n",
        "# change corpus df - gdeb_grpd / rdeb_grpd\n",
        "dd = gdeb_grpd \n",
        "\n",
        "id_arg = []\n",
        "id_deb = []\n",
        "for i in arg.index:\n",
        "  for i2 in dd.index:\n",
        "    if (arg.loc[i, 'conclusion_schemes'].strip().lower() in dd.loc[i2, 'debate_claim'].strip().lower()) or (arg.loc[i, 'premise_schemes'].strip().lower() in dd.loc[i2, 'debate_claim'].strip().lower()):\n",
        "      id_arg.append(i)\n",
        "      id_deb.append(i2)\n",
        "\n",
        "len(id_arg), len(id_deb), id_arg[:3]"
      ],
      "metadata": {
        "colab": {
          "base_uri": "https://localhost:8080/"
        },
        "id": "55W-n18vqA2Y",
        "outputId": "a289fb80-4cb4-4370-82e3-6ac8a8b66687"
      },
      "execution_count": null,
      "outputs": [
        {
          "output_type": "execute_result",
          "data": {
            "text/plain": [
              "(53, 53, [277, 277, 586])"
            ]
          },
          "metadata": {},
          "execution_count": 87
        }
      ]
    },
    {
      "cell_type": "code",
      "source": [
        "# merge itc corpus with data on annotated arg. schemes\n",
        "\n",
        "argmatched = arg.loc[id_arg]\n",
        "argmatched.reset_index(drop=True, inplace=True)\n",
        "\n",
        "debmatched = dd.loc[id_deb]\n",
        "debmatched.reset_index(drop=True, inplace=True)\n",
        "\n",
        "dfmatched = pd.concat([argmatched, debmatched], axis = 1)\n",
        "dfmatched.drop_duplicates(inplace=True)\n",
        "dfmatched.shape"
      ],
      "metadata": {
        "id": "_Zh2dz-uem3K",
        "colab": {
          "base_uri": "https://localhost:8080/"
        },
        "outputId": "092cc508-d777-4590-b5cb-d6005efc5519"
      },
      "execution_count": null,
      "outputs": [
        {
          "output_type": "execute_result",
          "data": {
            "text/plain": [
              "(53, 13)"
            ]
          },
          "metadata": {},
          "execution_count": 88
        }
      ]
    },
    {
      "cell_type": "code",
      "source": [
        "dfmatched[schems].describe()"
      ],
      "metadata": {
        "id": "yo2NqkyMUtfI",
        "colab": {
          "base_uri": "https://localhost:8080/",
          "height": 382
        },
        "outputId": "6c02b449-7539-4c17-8038-2b941051ef18"
      },
      "execution_count": null,
      "outputs": [
        {
          "output_type": "execute_result",
          "data": {
            "text/plain": [
              "       scheme_name_Causal Slippery Slope  scheme_name_Danger Appeal  \\\n",
              "count                               53.0                  53.000000   \n",
              "mean                                 0.0                   0.150943   \n",
              "std                                  0.0                   0.361420   \n",
              "min                                  0.0                   0.000000   \n",
              "25%                                  0.0                   0.000000   \n",
              "50%                                  0.0                   0.000000   \n",
              "75%                                  0.0                   0.000000   \n",
              "max                                  0.0                   1.000000   \n",
              "\n",
              "       scheme_name_Fear Appeal  scheme_name_Need For Help  \\\n",
              "count                     53.0                       53.0   \n",
              "mean                       0.0                        0.0   \n",
              "std                        0.0                        0.0   \n",
              "min                        0.0                        0.0   \n",
              "25%                        0.0                        0.0   \n",
              "50%                        0.0                        0.0   \n",
              "75%                        0.0                        0.0   \n",
              "max                        0.0                        0.0   \n",
              "\n",
              "       scheme_name_Negative Consequences  scheme_name_Positive Consequences  \\\n",
              "count                          53.000000                          53.000000   \n",
              "mean                            0.320755                           0.150943   \n",
              "std                             0.471233                           0.361420   \n",
              "min                             0.000000                           0.000000   \n",
              "25%                             0.000000                           0.000000   \n",
              "50%                             0.000000                           0.000000   \n",
              "75%                             1.000000                           0.000000   \n",
              "max                             1.000000                           1.000000   \n",
              "\n",
              "       scheme_name_Waste  scheme_name_Default Inference  \n",
              "count               53.0                      53.000000  \n",
              "mean                 0.0                       0.377358  \n",
              "std                  0.0                       0.489364  \n",
              "min                  0.0                       0.000000  \n",
              "25%                  0.0                       0.000000  \n",
              "50%                  0.0                       0.000000  \n",
              "75%                  0.0                       1.000000  \n",
              "max                  0.0                       1.000000  "
            ],
            "text/html": [
              "\n",
              "  <div id=\"df-49df3b3a-eabe-4b6a-81c7-e5f3409fc70d\">\n",
              "    <div class=\"colab-df-container\">\n",
              "      <div>\n",
              "<style scoped>\n",
              "    .dataframe tbody tr th:only-of-type {\n",
              "        vertical-align: middle;\n",
              "    }\n",
              "\n",
              "    .dataframe tbody tr th {\n",
              "        vertical-align: top;\n",
              "    }\n",
              "\n",
              "    .dataframe thead th {\n",
              "        text-align: right;\n",
              "    }\n",
              "</style>\n",
              "<table border=\"1\" class=\"dataframe\">\n",
              "  <thead>\n",
              "    <tr style=\"text-align: right;\">\n",
              "      <th></th>\n",
              "      <th>scheme_name_Causal Slippery Slope</th>\n",
              "      <th>scheme_name_Danger Appeal</th>\n",
              "      <th>scheme_name_Fear Appeal</th>\n",
              "      <th>scheme_name_Need For Help</th>\n",
              "      <th>scheme_name_Negative Consequences</th>\n",
              "      <th>scheme_name_Positive Consequences</th>\n",
              "      <th>scheme_name_Waste</th>\n",
              "      <th>scheme_name_Default Inference</th>\n",
              "    </tr>\n",
              "  </thead>\n",
              "  <tbody>\n",
              "    <tr>\n",
              "      <th>count</th>\n",
              "      <td>53.0</td>\n",
              "      <td>53.000000</td>\n",
              "      <td>53.0</td>\n",
              "      <td>53.0</td>\n",
              "      <td>53.000000</td>\n",
              "      <td>53.000000</td>\n",
              "      <td>53.0</td>\n",
              "      <td>53.000000</td>\n",
              "    </tr>\n",
              "    <tr>\n",
              "      <th>mean</th>\n",
              "      <td>0.0</td>\n",
              "      <td>0.150943</td>\n",
              "      <td>0.0</td>\n",
              "      <td>0.0</td>\n",
              "      <td>0.320755</td>\n",
              "      <td>0.150943</td>\n",
              "      <td>0.0</td>\n",
              "      <td>0.377358</td>\n",
              "    </tr>\n",
              "    <tr>\n",
              "      <th>std</th>\n",
              "      <td>0.0</td>\n",
              "      <td>0.361420</td>\n",
              "      <td>0.0</td>\n",
              "      <td>0.0</td>\n",
              "      <td>0.471233</td>\n",
              "      <td>0.361420</td>\n",
              "      <td>0.0</td>\n",
              "      <td>0.489364</td>\n",
              "    </tr>\n",
              "    <tr>\n",
              "      <th>min</th>\n",
              "      <td>0.0</td>\n",
              "      <td>0.000000</td>\n",
              "      <td>0.0</td>\n",
              "      <td>0.0</td>\n",
              "      <td>0.000000</td>\n",
              "      <td>0.000000</td>\n",
              "      <td>0.0</td>\n",
              "      <td>0.000000</td>\n",
              "    </tr>\n",
              "    <tr>\n",
              "      <th>25%</th>\n",
              "      <td>0.0</td>\n",
              "      <td>0.000000</td>\n",
              "      <td>0.0</td>\n",
              "      <td>0.0</td>\n",
              "      <td>0.000000</td>\n",
              "      <td>0.000000</td>\n",
              "      <td>0.0</td>\n",
              "      <td>0.000000</td>\n",
              "    </tr>\n",
              "    <tr>\n",
              "      <th>50%</th>\n",
              "      <td>0.0</td>\n",
              "      <td>0.000000</td>\n",
              "      <td>0.0</td>\n",
              "      <td>0.0</td>\n",
              "      <td>0.000000</td>\n",
              "      <td>0.000000</td>\n",
              "      <td>0.0</td>\n",
              "      <td>0.000000</td>\n",
              "    </tr>\n",
              "    <tr>\n",
              "      <th>75%</th>\n",
              "      <td>0.0</td>\n",
              "      <td>0.000000</td>\n",
              "      <td>0.0</td>\n",
              "      <td>0.0</td>\n",
              "      <td>1.000000</td>\n",
              "      <td>0.000000</td>\n",
              "      <td>0.0</td>\n",
              "      <td>1.000000</td>\n",
              "    </tr>\n",
              "    <tr>\n",
              "      <th>max</th>\n",
              "      <td>0.0</td>\n",
              "      <td>1.000000</td>\n",
              "      <td>0.0</td>\n",
              "      <td>0.0</td>\n",
              "      <td>1.000000</td>\n",
              "      <td>1.000000</td>\n",
              "      <td>0.0</td>\n",
              "      <td>1.000000</td>\n",
              "    </tr>\n",
              "  </tbody>\n",
              "</table>\n",
              "</div>\n",
              "      <button class=\"colab-df-convert\" onclick=\"convertToInteractive('df-49df3b3a-eabe-4b6a-81c7-e5f3409fc70d')\"\n",
              "              title=\"Convert this dataframe to an interactive table.\"\n",
              "              style=\"display:none;\">\n",
              "        \n",
              "  <svg xmlns=\"http://www.w3.org/2000/svg\" height=\"24px\"viewBox=\"0 0 24 24\"\n",
              "       width=\"24px\">\n",
              "    <path d=\"M0 0h24v24H0V0z\" fill=\"none\"/>\n",
              "    <path d=\"M18.56 5.44l.94 2.06.94-2.06 2.06-.94-2.06-.94-.94-2.06-.94 2.06-2.06.94zm-11 1L8.5 8.5l.94-2.06 2.06-.94-2.06-.94L8.5 2.5l-.94 2.06-2.06.94zm10 10l.94 2.06.94-2.06 2.06-.94-2.06-.94-.94-2.06-.94 2.06-2.06.94z\"/><path d=\"M17.41 7.96l-1.37-1.37c-.4-.4-.92-.59-1.43-.59-.52 0-1.04.2-1.43.59L10.3 9.45l-7.72 7.72c-.78.78-.78 2.05 0 2.83L4 21.41c.39.39.9.59 1.41.59.51 0 1.02-.2 1.41-.59l7.78-7.78 2.81-2.81c.8-.78.8-2.07 0-2.86zM5.41 20L4 18.59l7.72-7.72 1.47 1.35L5.41 20z\"/>\n",
              "  </svg>\n",
              "      </button>\n",
              "      \n",
              "  <style>\n",
              "    .colab-df-container {\n",
              "      display:flex;\n",
              "      flex-wrap:wrap;\n",
              "      gap: 12px;\n",
              "    }\n",
              "\n",
              "    .colab-df-convert {\n",
              "      background-color: #E8F0FE;\n",
              "      border: none;\n",
              "      border-radius: 50%;\n",
              "      cursor: pointer;\n",
              "      display: none;\n",
              "      fill: #1967D2;\n",
              "      height: 32px;\n",
              "      padding: 0 0 0 0;\n",
              "      width: 32px;\n",
              "    }\n",
              "\n",
              "    .colab-df-convert:hover {\n",
              "      background-color: #E2EBFA;\n",
              "      box-shadow: 0px 1px 2px rgba(60, 64, 67, 0.3), 0px 1px 3px 1px rgba(60, 64, 67, 0.15);\n",
              "      fill: #174EA6;\n",
              "    }\n",
              "\n",
              "    [theme=dark] .colab-df-convert {\n",
              "      background-color: #3B4455;\n",
              "      fill: #D2E3FC;\n",
              "    }\n",
              "\n",
              "    [theme=dark] .colab-df-convert:hover {\n",
              "      background-color: #434B5C;\n",
              "      box-shadow: 0px 1px 3px 1px rgba(0, 0, 0, 0.15);\n",
              "      filter: drop-shadow(0px 1px 2px rgba(0, 0, 0, 0.3));\n",
              "      fill: #FFFFFF;\n",
              "    }\n",
              "  </style>\n",
              "\n",
              "      <script>\n",
              "        const buttonEl =\n",
              "          document.querySelector('#df-49df3b3a-eabe-4b6a-81c7-e5f3409fc70d button.colab-df-convert');\n",
              "        buttonEl.style.display =\n",
              "          google.colab.kernel.accessAllowed ? 'block' : 'none';\n",
              "\n",
              "        async function convertToInteractive(key) {\n",
              "          const element = document.querySelector('#df-49df3b3a-eabe-4b6a-81c7-e5f3409fc70d');\n",
              "          const dataTable =\n",
              "            await google.colab.kernel.invokeFunction('convertToInteractive',\n",
              "                                                     [key], {});\n",
              "          if (!dataTable) return;\n",
              "\n",
              "          const docLinkHtml = 'Like what you see? Visit the ' +\n",
              "            '<a target=\"_blank\" href=https://colab.research.google.com/notebooks/data_table.ipynb>data table notebook</a>'\n",
              "            + ' to learn more about interactive tables.';\n",
              "          element.innerHTML = '';\n",
              "          dataTable['output_type'] = 'display_data';\n",
              "          await google.colab.output.renderOutput(dataTable, element);\n",
              "          const docLink = document.createElement('div');\n",
              "          docLink.innerHTML = docLinkHtml;\n",
              "          element.appendChild(docLink);\n",
              "        }\n",
              "      </script>\n",
              "    </div>\n",
              "  </div>\n",
              "  "
            ]
          },
          "metadata": {},
          "execution_count": 89
        }
      ]
    },
    {
      "cell_type": "markdown",
      "source": [
        "###Corr biserial"
      ],
      "metadata": {
        "id": "u0djIslIy5L-"
      }
    },
    {
      "cell_type": "code",
      "source": [
        "# mark 1 is scheme is present, 0 otherwise\n",
        "\n",
        "for s in schems:\n",
        "  dfmatched[s] = np.where(dfmatched[s] > 0, 1, 0)\n",
        "\n",
        "dfmatched[schems].head()"
      ],
      "metadata": {
        "colab": {
          "base_uri": "https://localhost:8080/",
          "height": 287
        },
        "id": "xat1qBtgUkc3",
        "outputId": "abcaff76-2c4d-472f-ae44-063dc495a4e3"
      },
      "execution_count": null,
      "outputs": [
        {
          "output_type": "execute_result",
          "data": {
            "text/plain": [
              "   scheme_name_Causal Slippery Slope  scheme_name_Danger Appeal  \\\n",
              "0                                  0                          0   \n",
              "1                                  0                          0   \n",
              "2                                  0                          0   \n",
              "3                                  0                          0   \n",
              "4                                  0                          0   \n",
              "\n",
              "   scheme_name_Fear Appeal  scheme_name_Need For Help  \\\n",
              "0                        0                          0   \n",
              "1                        0                          0   \n",
              "2                        0                          0   \n",
              "3                        0                          0   \n",
              "4                        0                          0   \n",
              "\n",
              "   scheme_name_Negative Consequences  scheme_name_Positive Consequences  \\\n",
              "0                                  1                                  0   \n",
              "1                                  1                                  0   \n",
              "2                                  0                                  0   \n",
              "3                                  0                                  0   \n",
              "4                                  0                                  0   \n",
              "\n",
              "   scheme_name_Waste  scheme_name_Default Inference  \n",
              "0                  0                              0  \n",
              "1                  0                              0  \n",
              "2                  0                              1  \n",
              "3                  0                              1  \n",
              "4                  0                              1  "
            ],
            "text/html": [
              "\n",
              "  <div id=\"df-2c4c9c52-b15a-47c7-8fea-44ef9d64bfe3\">\n",
              "    <div class=\"colab-df-container\">\n",
              "      <div>\n",
              "<style scoped>\n",
              "    .dataframe tbody tr th:only-of-type {\n",
              "        vertical-align: middle;\n",
              "    }\n",
              "\n",
              "    .dataframe tbody tr th {\n",
              "        vertical-align: top;\n",
              "    }\n",
              "\n",
              "    .dataframe thead th {\n",
              "        text-align: right;\n",
              "    }\n",
              "</style>\n",
              "<table border=\"1\" class=\"dataframe\">\n",
              "  <thead>\n",
              "    <tr style=\"text-align: right;\">\n",
              "      <th></th>\n",
              "      <th>scheme_name_Causal Slippery Slope</th>\n",
              "      <th>scheme_name_Danger Appeal</th>\n",
              "      <th>scheme_name_Fear Appeal</th>\n",
              "      <th>scheme_name_Need For Help</th>\n",
              "      <th>scheme_name_Negative Consequences</th>\n",
              "      <th>scheme_name_Positive Consequences</th>\n",
              "      <th>scheme_name_Waste</th>\n",
              "      <th>scheme_name_Default Inference</th>\n",
              "    </tr>\n",
              "  </thead>\n",
              "  <tbody>\n",
              "    <tr>\n",
              "      <th>0</th>\n",
              "      <td>0</td>\n",
              "      <td>0</td>\n",
              "      <td>0</td>\n",
              "      <td>0</td>\n",
              "      <td>1</td>\n",
              "      <td>0</td>\n",
              "      <td>0</td>\n",
              "      <td>0</td>\n",
              "    </tr>\n",
              "    <tr>\n",
              "      <th>1</th>\n",
              "      <td>0</td>\n",
              "      <td>0</td>\n",
              "      <td>0</td>\n",
              "      <td>0</td>\n",
              "      <td>1</td>\n",
              "      <td>0</td>\n",
              "      <td>0</td>\n",
              "      <td>0</td>\n",
              "    </tr>\n",
              "    <tr>\n",
              "      <th>2</th>\n",
              "      <td>0</td>\n",
              "      <td>0</td>\n",
              "      <td>0</td>\n",
              "      <td>0</td>\n",
              "      <td>0</td>\n",
              "      <td>0</td>\n",
              "      <td>0</td>\n",
              "      <td>1</td>\n",
              "    </tr>\n",
              "    <tr>\n",
              "      <th>3</th>\n",
              "      <td>0</td>\n",
              "      <td>0</td>\n",
              "      <td>0</td>\n",
              "      <td>0</td>\n",
              "      <td>0</td>\n",
              "      <td>0</td>\n",
              "      <td>0</td>\n",
              "      <td>1</td>\n",
              "    </tr>\n",
              "    <tr>\n",
              "      <th>4</th>\n",
              "      <td>0</td>\n",
              "      <td>0</td>\n",
              "      <td>0</td>\n",
              "      <td>0</td>\n",
              "      <td>0</td>\n",
              "      <td>0</td>\n",
              "      <td>0</td>\n",
              "      <td>1</td>\n",
              "    </tr>\n",
              "  </tbody>\n",
              "</table>\n",
              "</div>\n",
              "      <button class=\"colab-df-convert\" onclick=\"convertToInteractive('df-2c4c9c52-b15a-47c7-8fea-44ef9d64bfe3')\"\n",
              "              title=\"Convert this dataframe to an interactive table.\"\n",
              "              style=\"display:none;\">\n",
              "        \n",
              "  <svg xmlns=\"http://www.w3.org/2000/svg\" height=\"24px\"viewBox=\"0 0 24 24\"\n",
              "       width=\"24px\">\n",
              "    <path d=\"M0 0h24v24H0V0z\" fill=\"none\"/>\n",
              "    <path d=\"M18.56 5.44l.94 2.06.94-2.06 2.06-.94-2.06-.94-.94-2.06-.94 2.06-2.06.94zm-11 1L8.5 8.5l.94-2.06 2.06-.94-2.06-.94L8.5 2.5l-.94 2.06-2.06.94zm10 10l.94 2.06.94-2.06 2.06-.94-2.06-.94-.94-2.06-.94 2.06-2.06.94z\"/><path d=\"M17.41 7.96l-1.37-1.37c-.4-.4-.92-.59-1.43-.59-.52 0-1.04.2-1.43.59L10.3 9.45l-7.72 7.72c-.78.78-.78 2.05 0 2.83L4 21.41c.39.39.9.59 1.41.59.51 0 1.02-.2 1.41-.59l7.78-7.78 2.81-2.81c.8-.78.8-2.07 0-2.86zM5.41 20L4 18.59l7.72-7.72 1.47 1.35L5.41 20z\"/>\n",
              "  </svg>\n",
              "      </button>\n",
              "      \n",
              "  <style>\n",
              "    .colab-df-container {\n",
              "      display:flex;\n",
              "      flex-wrap:wrap;\n",
              "      gap: 12px;\n",
              "    }\n",
              "\n",
              "    .colab-df-convert {\n",
              "      background-color: #E8F0FE;\n",
              "      border: none;\n",
              "      border-radius: 50%;\n",
              "      cursor: pointer;\n",
              "      display: none;\n",
              "      fill: #1967D2;\n",
              "      height: 32px;\n",
              "      padding: 0 0 0 0;\n",
              "      width: 32px;\n",
              "    }\n",
              "\n",
              "    .colab-df-convert:hover {\n",
              "      background-color: #E2EBFA;\n",
              "      box-shadow: 0px 1px 2px rgba(60, 64, 67, 0.3), 0px 1px 3px 1px rgba(60, 64, 67, 0.15);\n",
              "      fill: #174EA6;\n",
              "    }\n",
              "\n",
              "    [theme=dark] .colab-df-convert {\n",
              "      background-color: #3B4455;\n",
              "      fill: #D2E3FC;\n",
              "    }\n",
              "\n",
              "    [theme=dark] .colab-df-convert:hover {\n",
              "      background-color: #434B5C;\n",
              "      box-shadow: 0px 1px 3px 1px rgba(0, 0, 0, 0.15);\n",
              "      filter: drop-shadow(0px 1px 2px rgba(0, 0, 0, 0.3));\n",
              "      fill: #FFFFFF;\n",
              "    }\n",
              "  </style>\n",
              "\n",
              "      <script>\n",
              "        const buttonEl =\n",
              "          document.querySelector('#df-2c4c9c52-b15a-47c7-8fea-44ef9d64bfe3 button.colab-df-convert');\n",
              "        buttonEl.style.display =\n",
              "          google.colab.kernel.accessAllowed ? 'block' : 'none';\n",
              "\n",
              "        async function convertToInteractive(key) {\n",
              "          const element = document.querySelector('#df-2c4c9c52-b15a-47c7-8fea-44ef9d64bfe3');\n",
              "          const dataTable =\n",
              "            await google.colab.kernel.invokeFunction('convertToInteractive',\n",
              "                                                     [key], {});\n",
              "          if (!dataTable) return;\n",
              "\n",
              "          const docLinkHtml = 'Like what you see? Visit the ' +\n",
              "            '<a target=\"_blank\" href=https://colab.research.google.com/notebooks/data_table.ipynb>data table notebook</a>'\n",
              "            + ' to learn more about interactive tables.';\n",
              "          element.innerHTML = '';\n",
              "          dataTable['output_type'] = 'display_data';\n",
              "          await google.colab.output.renderOutput(dataTable, element);\n",
              "          const docLink = document.createElement('div');\n",
              "          docLink.innerHTML = docLinkHtml;\n",
              "          element.appendChild(docLink);\n",
              "        }\n",
              "      </script>\n",
              "    </div>\n",
              "  </div>\n",
              "  "
            ]
          },
          "metadata": {},
          "execution_count": 90
        }
      ]
    },
    {
      "cell_type": "code",
      "source": [
        "dfmatched.pathotic_response.unique()"
      ],
      "metadata": {
        "colab": {
          "base_uri": "https://localhost:8080/"
        },
        "id": "keRwkm2yyzzU",
        "outputId": "28ae58d4-a430-4896-d59e-ac92bdd27d23"
      },
      "execution_count": null,
      "outputs": [
        {
          "output_type": "execute_result",
          "data": {
            "text/plain": [
              "array(['Negative', 'Neutral', 'Positive'], dtype=object)"
            ]
          },
          "metadata": {},
          "execution_count": 91
        }
      ]
    },
    {
      "cell_type": "code",
      "source": [
        "from scipy.stats import pointbiserialr"
      ],
      "metadata": {
        "id": "VdXBQ7ZUTaNg"
      },
      "execution_count": null,
      "outputs": []
    },
    {
      "cell_type": "markdown",
      "source": [
        "####**Emotions**"
      ],
      "metadata": {
        "id": "hYKs4vDbzamx"
      }
    },
    {
      "cell_type": "code",
      "source": [
        "coeffs_all = []\n",
        "p_val_all = []\n",
        "scheme_all = []\n",
        "emo_all = []\n",
        "\n",
        "# for scheme s and emotion e retrieve values and calculate correlation\n",
        "for s in schems:\n",
        "  print(s)  \n",
        "  for e in dfmatched.pathotic_response.unique():\n",
        "    print(e)\n",
        "    corr_df = dfmatched[dfmatched.pathotic_response == e]\n",
        "    sm_response_sentiment = corr_df['percentage'].apply(float).values\n",
        "    binary_scheme = corr_df[s].apply(int).values\n",
        "    if len(sm_response_sentiment) > 2:\n",
        "      scheme_all.append(s)\n",
        "      emo_all.append(e)\n",
        "      coefbi, bi_p = pointbiserialr(binary_scheme, sm_response_sentiment)\n",
        "      coeffs_all.append(round(coefbi, 2))\n",
        "      p_val_all.append(round(bi_p, 3))\n",
        "\n",
        "    if bi_p <= 0.05:\n",
        "      print(f'\\t {s} - {e} - coeff= {round(coefbi, 2)}:  p= {round(bi_p, 3)}\\t n samples: {len(sm_response_sentiment)} ')\n",
        "      print(len(corr_df))"
      ],
      "metadata": {
        "colab": {
          "base_uri": "https://localhost:8080/"
        },
        "id": "d351DRZXy6IU",
        "outputId": "9ac1dda5-f5ba-4227-ffb4-0f99f0d83f1f"
      },
      "execution_count": null,
      "outputs": [
        {
          "output_type": "stream",
          "name": "stdout",
          "text": [
            "scheme_name_Causal Slippery Slope\n",
            "surprise\n",
            "joy\n",
            "anger\n",
            "fear\n",
            "sadness\n",
            "disgust\n",
            "scheme_name_Danger Appeal\n",
            "surprise\n",
            "joy\n",
            "anger\n",
            "fear\n",
            "sadness\n",
            "disgust\n",
            "scheme_name_Fear Appeal\n",
            "surprise\n",
            "joy\n",
            "anger\n",
            "fear\n",
            "sadness\n",
            "disgust\n",
            "scheme_name_Need For Help\n",
            "surprise\n",
            "joy\n",
            "anger\n",
            "fear\n",
            "sadness\n",
            "disgust\n",
            "scheme_name_Negative Consequences\n",
            "surprise\n",
            "joy\n",
            "anger\n",
            "fear\n",
            "sadness\n",
            "disgust\n",
            "scheme_name_Positive Consequences\n",
            "surprise\n",
            "joy\n",
            "anger\n",
            "fear\n",
            "sadness\n",
            "disgust\n",
            "scheme_name_Waste\n",
            "surprise\n",
            "joy\n",
            "anger\n",
            "fear\n",
            "sadness\n",
            "disgust\n",
            "scheme_name_Default Inference\n",
            "surprise\n",
            "joy\n",
            "anger\n",
            "fear\n",
            "sadness\n",
            "disgust\n"
          ]
        },
        {
          "output_type": "stream",
          "name": "stderr",
          "text": [
            "/usr/local/lib/python3.8/dist-packages/scipy/stats/stats.py:4023: PearsonRConstantInputWarning: An input array is constant; the correlation coefficient is not defined.\n",
            "  warnings.warn(PearsonRConstantInputWarning())\n"
          ]
        }
      ]
    },
    {
      "cell_type": "code",
      "source": [
        "# R1\n",
        "\n",
        "df_cor_bi_emo = pd.DataFrame({\"scheme\": scheme_all, 'emotion': emo_all, \n",
        "                       \"cor\": coeffs_all, \n",
        "                       \"p_value\":p_val_all})\n",
        "\n",
        "df_cor_bi_emo[df_cor_bi_emo.p_value <= 0.05] # new"
      ],
      "metadata": {
        "colab": {
          "base_uri": "https://localhost:8080/",
          "height": 49
        },
        "id": "kAmc-cA8zd96",
        "outputId": "cdf0d025-df3b-4cca-fdfa-f535b5317ca9"
      },
      "execution_count": null,
      "outputs": [
        {
          "output_type": "execute_result",
          "data": {
            "text/plain": [
              "Empty DataFrame\n",
              "Columns: [scheme, emotion, cor, p_value]\n",
              "Index: []"
            ],
            "text/html": [
              "\n",
              "  <div id=\"df-34b364fe-17a2-4348-b385-af643127a588\">\n",
              "    <div class=\"colab-df-container\">\n",
              "      <div>\n",
              "<style scoped>\n",
              "    .dataframe tbody tr th:only-of-type {\n",
              "        vertical-align: middle;\n",
              "    }\n",
              "\n",
              "    .dataframe tbody tr th {\n",
              "        vertical-align: top;\n",
              "    }\n",
              "\n",
              "    .dataframe thead th {\n",
              "        text-align: right;\n",
              "    }\n",
              "</style>\n",
              "<table border=\"1\" class=\"dataframe\">\n",
              "  <thead>\n",
              "    <tr style=\"text-align: right;\">\n",
              "      <th></th>\n",
              "      <th>scheme</th>\n",
              "      <th>emotion</th>\n",
              "      <th>cor</th>\n",
              "      <th>p_value</th>\n",
              "    </tr>\n",
              "  </thead>\n",
              "  <tbody>\n",
              "  </tbody>\n",
              "</table>\n",
              "</div>\n",
              "      <button class=\"colab-df-convert\" onclick=\"convertToInteractive('df-34b364fe-17a2-4348-b385-af643127a588')\"\n",
              "              title=\"Convert this dataframe to an interactive table.\"\n",
              "              style=\"display:none;\">\n",
              "        \n",
              "  <svg xmlns=\"http://www.w3.org/2000/svg\" height=\"24px\"viewBox=\"0 0 24 24\"\n",
              "       width=\"24px\">\n",
              "    <path d=\"M0 0h24v24H0V0z\" fill=\"none\"/>\n",
              "    <path d=\"M18.56 5.44l.94 2.06.94-2.06 2.06-.94-2.06-.94-.94-2.06-.94 2.06-2.06.94zm-11 1L8.5 8.5l.94-2.06 2.06-.94-2.06-.94L8.5 2.5l-.94 2.06-2.06.94zm10 10l.94 2.06.94-2.06 2.06-.94-2.06-.94-.94-2.06-.94 2.06-2.06.94z\"/><path d=\"M17.41 7.96l-1.37-1.37c-.4-.4-.92-.59-1.43-.59-.52 0-1.04.2-1.43.59L10.3 9.45l-7.72 7.72c-.78.78-.78 2.05 0 2.83L4 21.41c.39.39.9.59 1.41.59.51 0 1.02-.2 1.41-.59l7.78-7.78 2.81-2.81c.8-.78.8-2.07 0-2.86zM5.41 20L4 18.59l7.72-7.72 1.47 1.35L5.41 20z\"/>\n",
              "  </svg>\n",
              "      </button>\n",
              "      \n",
              "  <style>\n",
              "    .colab-df-container {\n",
              "      display:flex;\n",
              "      flex-wrap:wrap;\n",
              "      gap: 12px;\n",
              "    }\n",
              "\n",
              "    .colab-df-convert {\n",
              "      background-color: #E8F0FE;\n",
              "      border: none;\n",
              "      border-radius: 50%;\n",
              "      cursor: pointer;\n",
              "      display: none;\n",
              "      fill: #1967D2;\n",
              "      height: 32px;\n",
              "      padding: 0 0 0 0;\n",
              "      width: 32px;\n",
              "    }\n",
              "\n",
              "    .colab-df-convert:hover {\n",
              "      background-color: #E2EBFA;\n",
              "      box-shadow: 0px 1px 2px rgba(60, 64, 67, 0.3), 0px 1px 3px 1px rgba(60, 64, 67, 0.15);\n",
              "      fill: #174EA6;\n",
              "    }\n",
              "\n",
              "    [theme=dark] .colab-df-convert {\n",
              "      background-color: #3B4455;\n",
              "      fill: #D2E3FC;\n",
              "    }\n",
              "\n",
              "    [theme=dark] .colab-df-convert:hover {\n",
              "      background-color: #434B5C;\n",
              "      box-shadow: 0px 1px 3px 1px rgba(0, 0, 0, 0.15);\n",
              "      filter: drop-shadow(0px 1px 2px rgba(0, 0, 0, 0.3));\n",
              "      fill: #FFFFFF;\n",
              "    }\n",
              "  </style>\n",
              "\n",
              "      <script>\n",
              "        const buttonEl =\n",
              "          document.querySelector('#df-34b364fe-17a2-4348-b385-af643127a588 button.colab-df-convert');\n",
              "        buttonEl.style.display =\n",
              "          google.colab.kernel.accessAllowed ? 'block' : 'none';\n",
              "\n",
              "        async function convertToInteractive(key) {\n",
              "          const element = document.querySelector('#df-34b364fe-17a2-4348-b385-af643127a588');\n",
              "          const dataTable =\n",
              "            await google.colab.kernel.invokeFunction('convertToInteractive',\n",
              "                                                     [key], {});\n",
              "          if (!dataTable) return;\n",
              "\n",
              "          const docLinkHtml = 'Like what you see? Visit the ' +\n",
              "            '<a target=\"_blank\" href=https://colab.research.google.com/notebooks/data_table.ipynb>data table notebook</a>'\n",
              "            + ' to learn more about interactive tables.';\n",
              "          element.innerHTML = '';\n",
              "          dataTable['output_type'] = 'display_data';\n",
              "          await google.colab.output.renderOutput(dataTable, element);\n",
              "          const docLink = document.createElement('div');\n",
              "          docLink.innerHTML = docLinkHtml;\n",
              "          element.appendChild(docLink);\n",
              "        }\n",
              "      </script>\n",
              "    </div>\n",
              "  </div>\n",
              "  "
            ]
          },
          "metadata": {},
          "execution_count": 63
        }
      ]
    },
    {
      "cell_type": "code",
      "source": [
        "# G1\n",
        "\n",
        "df_cor_bi_emo = pd.DataFrame({\"scheme\": scheme_all, 'emotion': emo_all, \n",
        "                       \"cor\": coeffs_all, \n",
        "                       \"p_value\":p_val_all})\n",
        "\n",
        "df_cor_bi_emo[df_cor_bi_emo.p_value <= 0.05]# new"
      ],
      "metadata": {
        "colab": {
          "base_uri": "https://localhost:8080/",
          "height": 112
        },
        "id": "z1udxXQVzl2_",
        "outputId": "4aee4fcb-3f37-457e-f25c-c01b1a975303"
      },
      "execution_count": null,
      "outputs": [
        {
          "output_type": "execute_result",
          "data": {
            "text/plain": [
              "                               scheme  emotion   cor  p_value\n",
              "21  scheme_name_Positive Consequences    anger -0.61    0.010\n",
              "30      scheme_name_Default Inference  sadness  0.88    0.047"
            ],
            "text/html": [
              "\n",
              "  <div id=\"df-07a6f94b-291c-4555-bce4-bb12be9f20c5\">\n",
              "    <div class=\"colab-df-container\">\n",
              "      <div>\n",
              "<style scoped>\n",
              "    .dataframe tbody tr th:only-of-type {\n",
              "        vertical-align: middle;\n",
              "    }\n",
              "\n",
              "    .dataframe tbody tr th {\n",
              "        vertical-align: top;\n",
              "    }\n",
              "\n",
              "    .dataframe thead th {\n",
              "        text-align: right;\n",
              "    }\n",
              "</style>\n",
              "<table border=\"1\" class=\"dataframe\">\n",
              "  <thead>\n",
              "    <tr style=\"text-align: right;\">\n",
              "      <th></th>\n",
              "      <th>scheme</th>\n",
              "      <th>emotion</th>\n",
              "      <th>cor</th>\n",
              "      <th>p_value</th>\n",
              "    </tr>\n",
              "  </thead>\n",
              "  <tbody>\n",
              "    <tr>\n",
              "      <th>21</th>\n",
              "      <td>scheme_name_Positive Consequences</td>\n",
              "      <td>anger</td>\n",
              "      <td>-0.61</td>\n",
              "      <td>0.010</td>\n",
              "    </tr>\n",
              "    <tr>\n",
              "      <th>30</th>\n",
              "      <td>scheme_name_Default Inference</td>\n",
              "      <td>sadness</td>\n",
              "      <td>0.88</td>\n",
              "      <td>0.047</td>\n",
              "    </tr>\n",
              "  </tbody>\n",
              "</table>\n",
              "</div>\n",
              "      <button class=\"colab-df-convert\" onclick=\"convertToInteractive('df-07a6f94b-291c-4555-bce4-bb12be9f20c5')\"\n",
              "              title=\"Convert this dataframe to an interactive table.\"\n",
              "              style=\"display:none;\">\n",
              "        \n",
              "  <svg xmlns=\"http://www.w3.org/2000/svg\" height=\"24px\"viewBox=\"0 0 24 24\"\n",
              "       width=\"24px\">\n",
              "    <path d=\"M0 0h24v24H0V0z\" fill=\"none\"/>\n",
              "    <path d=\"M18.56 5.44l.94 2.06.94-2.06 2.06-.94-2.06-.94-.94-2.06-.94 2.06-2.06.94zm-11 1L8.5 8.5l.94-2.06 2.06-.94-2.06-.94L8.5 2.5l-.94 2.06-2.06.94zm10 10l.94 2.06.94-2.06 2.06-.94-2.06-.94-.94-2.06-.94 2.06-2.06.94z\"/><path d=\"M17.41 7.96l-1.37-1.37c-.4-.4-.92-.59-1.43-.59-.52 0-1.04.2-1.43.59L10.3 9.45l-7.72 7.72c-.78.78-.78 2.05 0 2.83L4 21.41c.39.39.9.59 1.41.59.51 0 1.02-.2 1.41-.59l7.78-7.78 2.81-2.81c.8-.78.8-2.07 0-2.86zM5.41 20L4 18.59l7.72-7.72 1.47 1.35L5.41 20z\"/>\n",
              "  </svg>\n",
              "      </button>\n",
              "      \n",
              "  <style>\n",
              "    .colab-df-container {\n",
              "      display:flex;\n",
              "      flex-wrap:wrap;\n",
              "      gap: 12px;\n",
              "    }\n",
              "\n",
              "    .colab-df-convert {\n",
              "      background-color: #E8F0FE;\n",
              "      border: none;\n",
              "      border-radius: 50%;\n",
              "      cursor: pointer;\n",
              "      display: none;\n",
              "      fill: #1967D2;\n",
              "      height: 32px;\n",
              "      padding: 0 0 0 0;\n",
              "      width: 32px;\n",
              "    }\n",
              "\n",
              "    .colab-df-convert:hover {\n",
              "      background-color: #E2EBFA;\n",
              "      box-shadow: 0px 1px 2px rgba(60, 64, 67, 0.3), 0px 1px 3px 1px rgba(60, 64, 67, 0.15);\n",
              "      fill: #174EA6;\n",
              "    }\n",
              "\n",
              "    [theme=dark] .colab-df-convert {\n",
              "      background-color: #3B4455;\n",
              "      fill: #D2E3FC;\n",
              "    }\n",
              "\n",
              "    [theme=dark] .colab-df-convert:hover {\n",
              "      background-color: #434B5C;\n",
              "      box-shadow: 0px 1px 3px 1px rgba(0, 0, 0, 0.15);\n",
              "      filter: drop-shadow(0px 1px 2px rgba(0, 0, 0, 0.3));\n",
              "      fill: #FFFFFF;\n",
              "    }\n",
              "  </style>\n",
              "\n",
              "      <script>\n",
              "        const buttonEl =\n",
              "          document.querySelector('#df-07a6f94b-291c-4555-bce4-bb12be9f20c5 button.colab-df-convert');\n",
              "        buttonEl.style.display =\n",
              "          google.colab.kernel.accessAllowed ? 'block' : 'none';\n",
              "\n",
              "        async function convertToInteractive(key) {\n",
              "          const element = document.querySelector('#df-07a6f94b-291c-4555-bce4-bb12be9f20c5');\n",
              "          const dataTable =\n",
              "            await google.colab.kernel.invokeFunction('convertToInteractive',\n",
              "                                                     [key], {});\n",
              "          if (!dataTable) return;\n",
              "\n",
              "          const docLinkHtml = 'Like what you see? Visit the ' +\n",
              "            '<a target=\"_blank\" href=https://colab.research.google.com/notebooks/data_table.ipynb>data table notebook</a>'\n",
              "            + ' to learn more about interactive tables.';\n",
              "          element.innerHTML = '';\n",
              "          dataTable['output_type'] = 'display_data';\n",
              "          await google.colab.output.renderOutput(dataTable, element);\n",
              "          const docLink = document.createElement('div');\n",
              "          docLink.innerHTML = docLinkHtml;\n",
              "          element.appendChild(docLink);\n",
              "        }\n",
              "      </script>\n",
              "    </div>\n",
              "  </div>\n",
              "  "
            ]
          },
          "metadata": {},
          "execution_count": 54
        }
      ]
    },
    {
      "cell_type": "markdown",
      "source": [
        "####**Sentiment**"
      ],
      "metadata": {
        "id": "Ly2XfJVCzcfP"
      }
    },
    {
      "cell_type": "code",
      "source": [
        "corr_pos = dfmatched[dfmatched.pathotic_response == 'Positive']\n",
        "corr_pos.shape"
      ],
      "metadata": {
        "colab": {
          "base_uri": "https://localhost:8080/"
        },
        "id": "92E3qJT-U4Bd",
        "outputId": "d0171be4-90d6-4afb-faa4-7e7f0ce48076"
      },
      "execution_count": null,
      "outputs": [
        {
          "output_type": "execute_result",
          "data": {
            "text/plain": [
              "(10, 13)"
            ]
          },
          "metadata": {},
          "execution_count": 93
        }
      ]
    },
    {
      "cell_type": "code",
      "source": [
        "corr_neg = dfmatched[dfmatched.pathotic_response == 'Negative']\n",
        "corr_neg.shape"
      ],
      "metadata": {
        "colab": {
          "base_uri": "https://localhost:8080/"
        },
        "id": "eecdfhE0U4YC",
        "outputId": "0bd9a9ad-a11e-4b85-935d-95d5cd66145c"
      },
      "execution_count": null,
      "outputs": [
        {
          "output_type": "execute_result",
          "data": {
            "text/plain": [
              "(22, 13)"
            ]
          },
          "metadata": {},
          "execution_count": 94
        }
      ]
    },
    {
      "cell_type": "code",
      "source": [
        "coeffs_all = []\n",
        "p_val_all = []\n",
        "scheme_all = []\n",
        "\n",
        "# for scheme s and positive sentiment retrieve values and calculate correlation\n",
        "for s in schems:\n",
        "  print(s)\n",
        "  scheme_all.append(s)\n",
        "  sm_response_sentiment = corr_pos['percentage'].apply(float).values\n",
        "  binary_scheme = corr_pos[s].apply(int).values\n",
        "\n",
        "  coefbi, bi_p = pointbiserialr(binary_scheme, sm_response_sentiment)\n",
        "  coeffs_all.append(round(coefbi, 2))\n",
        "  p_val_all.append(round(bi_p, 3))\n",
        "\n",
        "  if bi_p <= 0.05:\n",
        "    print(f'\\t {s} - coeff: {coefbi}:  {round(bi_p, 3)}')"
      ],
      "metadata": {
        "id": "cPqm-z8pVC20",
        "colab": {
          "base_uri": "https://localhost:8080/"
        },
        "outputId": "a46e7034-0d0c-4278-83f5-e1ec3364e348"
      },
      "execution_count": null,
      "outputs": [
        {
          "output_type": "stream",
          "name": "stdout",
          "text": [
            "scheme_name_Causal Slippery Slope\n",
            "scheme_name_Danger Appeal\n",
            "scheme_name_Fear Appeal\n",
            "scheme_name_Need For Help\n",
            "scheme_name_Negative Consequences\n",
            "scheme_name_Positive Consequences\n",
            "scheme_name_Waste\n",
            "scheme_name_Default Inference\n"
          ]
        },
        {
          "output_type": "stream",
          "name": "stderr",
          "text": [
            "/usr/local/lib/python3.8/dist-packages/scipy/stats/stats.py:4023: PearsonRConstantInputWarning: An input array is constant; the correlation coefficient is not defined.\n",
            "  warnings.warn(PearsonRConstantInputWarning())\n"
          ]
        }
      ]
    },
    {
      "cell_type": "code",
      "source": [
        "# positive expressed sentiment R1 log transform\n",
        "\n",
        "df_cor_bi_pos = pd.DataFrame({\"scheme\": scheme_all, \n",
        "                       \"cor\": coeffs_all, \n",
        "                       \"p_value\":p_val_all})\n",
        "\n",
        "df_cor_bi_pos # one scheme_name_Fear Appeal  - expressed pos sentiment # new"
      ],
      "metadata": {
        "colab": {
          "base_uri": "https://localhost:8080/",
          "height": 300
        },
        "id": "rWLtKjk1VI-9",
        "outputId": "541d46f1-a1e5-4429-84c8-d41179686f69"
      },
      "execution_count": null,
      "outputs": [
        {
          "output_type": "execute_result",
          "data": {
            "text/plain": [
              "                              scheme   cor  p_value\n",
              "0  scheme_name_Causal Slippery Slope   NaN      NaN\n",
              "1          scheme_name_Danger Appeal   NaN      NaN\n",
              "2            scheme_name_Fear Appeal   NaN      NaN\n",
              "3          scheme_name_Need For Help   NaN      NaN\n",
              "4  scheme_name_Negative Consequences  0.16    0.525\n",
              "5  scheme_name_Positive Consequences -0.21    0.391\n",
              "6                  scheme_name_Waste   NaN      NaN\n",
              "7      scheme_name_Default Inference  0.07    0.784"
            ],
            "text/html": [
              "\n",
              "  <div id=\"df-2dc69678-07fb-4002-97fb-412982b1b040\">\n",
              "    <div class=\"colab-df-container\">\n",
              "      <div>\n",
              "<style scoped>\n",
              "    .dataframe tbody tr th:only-of-type {\n",
              "        vertical-align: middle;\n",
              "    }\n",
              "\n",
              "    .dataframe tbody tr th {\n",
              "        vertical-align: top;\n",
              "    }\n",
              "\n",
              "    .dataframe thead th {\n",
              "        text-align: right;\n",
              "    }\n",
              "</style>\n",
              "<table border=\"1\" class=\"dataframe\">\n",
              "  <thead>\n",
              "    <tr style=\"text-align: right;\">\n",
              "      <th></th>\n",
              "      <th>scheme</th>\n",
              "      <th>cor</th>\n",
              "      <th>p_value</th>\n",
              "    </tr>\n",
              "  </thead>\n",
              "  <tbody>\n",
              "    <tr>\n",
              "      <th>0</th>\n",
              "      <td>scheme_name_Causal Slippery Slope</td>\n",
              "      <td>NaN</td>\n",
              "      <td>NaN</td>\n",
              "    </tr>\n",
              "    <tr>\n",
              "      <th>1</th>\n",
              "      <td>scheme_name_Danger Appeal</td>\n",
              "      <td>NaN</td>\n",
              "      <td>NaN</td>\n",
              "    </tr>\n",
              "    <tr>\n",
              "      <th>2</th>\n",
              "      <td>scheme_name_Fear Appeal</td>\n",
              "      <td>NaN</td>\n",
              "      <td>NaN</td>\n",
              "    </tr>\n",
              "    <tr>\n",
              "      <th>3</th>\n",
              "      <td>scheme_name_Need For Help</td>\n",
              "      <td>NaN</td>\n",
              "      <td>NaN</td>\n",
              "    </tr>\n",
              "    <tr>\n",
              "      <th>4</th>\n",
              "      <td>scheme_name_Negative Consequences</td>\n",
              "      <td>0.16</td>\n",
              "      <td>0.525</td>\n",
              "    </tr>\n",
              "    <tr>\n",
              "      <th>5</th>\n",
              "      <td>scheme_name_Positive Consequences</td>\n",
              "      <td>-0.21</td>\n",
              "      <td>0.391</td>\n",
              "    </tr>\n",
              "    <tr>\n",
              "      <th>6</th>\n",
              "      <td>scheme_name_Waste</td>\n",
              "      <td>NaN</td>\n",
              "      <td>NaN</td>\n",
              "    </tr>\n",
              "    <tr>\n",
              "      <th>7</th>\n",
              "      <td>scheme_name_Default Inference</td>\n",
              "      <td>0.07</td>\n",
              "      <td>0.784</td>\n",
              "    </tr>\n",
              "  </tbody>\n",
              "</table>\n",
              "</div>\n",
              "      <button class=\"colab-df-convert\" onclick=\"convertToInteractive('df-2dc69678-07fb-4002-97fb-412982b1b040')\"\n",
              "              title=\"Convert this dataframe to an interactive table.\"\n",
              "              style=\"display:none;\">\n",
              "        \n",
              "  <svg xmlns=\"http://www.w3.org/2000/svg\" height=\"24px\"viewBox=\"0 0 24 24\"\n",
              "       width=\"24px\">\n",
              "    <path d=\"M0 0h24v24H0V0z\" fill=\"none\"/>\n",
              "    <path d=\"M18.56 5.44l.94 2.06.94-2.06 2.06-.94-2.06-.94-.94-2.06-.94 2.06-2.06.94zm-11 1L8.5 8.5l.94-2.06 2.06-.94-2.06-.94L8.5 2.5l-.94 2.06-2.06.94zm10 10l.94 2.06.94-2.06 2.06-.94-2.06-.94-.94-2.06-.94 2.06-2.06.94z\"/><path d=\"M17.41 7.96l-1.37-1.37c-.4-.4-.92-.59-1.43-.59-.52 0-1.04.2-1.43.59L10.3 9.45l-7.72 7.72c-.78.78-.78 2.05 0 2.83L4 21.41c.39.39.9.59 1.41.59.51 0 1.02-.2 1.41-.59l7.78-7.78 2.81-2.81c.8-.78.8-2.07 0-2.86zM5.41 20L4 18.59l7.72-7.72 1.47 1.35L5.41 20z\"/>\n",
              "  </svg>\n",
              "      </button>\n",
              "      \n",
              "  <style>\n",
              "    .colab-df-container {\n",
              "      display:flex;\n",
              "      flex-wrap:wrap;\n",
              "      gap: 12px;\n",
              "    }\n",
              "\n",
              "    .colab-df-convert {\n",
              "      background-color: #E8F0FE;\n",
              "      border: none;\n",
              "      border-radius: 50%;\n",
              "      cursor: pointer;\n",
              "      display: none;\n",
              "      fill: #1967D2;\n",
              "      height: 32px;\n",
              "      padding: 0 0 0 0;\n",
              "      width: 32px;\n",
              "    }\n",
              "\n",
              "    .colab-df-convert:hover {\n",
              "      background-color: #E2EBFA;\n",
              "      box-shadow: 0px 1px 2px rgba(60, 64, 67, 0.3), 0px 1px 3px 1px rgba(60, 64, 67, 0.15);\n",
              "      fill: #174EA6;\n",
              "    }\n",
              "\n",
              "    [theme=dark] .colab-df-convert {\n",
              "      background-color: #3B4455;\n",
              "      fill: #D2E3FC;\n",
              "    }\n",
              "\n",
              "    [theme=dark] .colab-df-convert:hover {\n",
              "      background-color: #434B5C;\n",
              "      box-shadow: 0px 1px 3px 1px rgba(0, 0, 0, 0.15);\n",
              "      filter: drop-shadow(0px 1px 2px rgba(0, 0, 0, 0.3));\n",
              "      fill: #FFFFFF;\n",
              "    }\n",
              "  </style>\n",
              "\n",
              "      <script>\n",
              "        const buttonEl =\n",
              "          document.querySelector('#df-2dc69678-07fb-4002-97fb-412982b1b040 button.colab-df-convert');\n",
              "        buttonEl.style.display =\n",
              "          google.colab.kernel.accessAllowed ? 'block' : 'none';\n",
              "\n",
              "        async function convertToInteractive(key) {\n",
              "          const element = document.querySelector('#df-2dc69678-07fb-4002-97fb-412982b1b040');\n",
              "          const dataTable =\n",
              "            await google.colab.kernel.invokeFunction('convertToInteractive',\n",
              "                                                     [key], {});\n",
              "          if (!dataTable) return;\n",
              "\n",
              "          const docLinkHtml = 'Like what you see? Visit the ' +\n",
              "            '<a target=\"_blank\" href=https://colab.research.google.com/notebooks/data_table.ipynb>data table notebook</a>'\n",
              "            + ' to learn more about interactive tables.';\n",
              "          element.innerHTML = '';\n",
              "          dataTable['output_type'] = 'display_data';\n",
              "          await google.colab.output.renderOutput(dataTable, element);\n",
              "          const docLink = document.createElement('div');\n",
              "          docLink.innerHTML = docLinkHtml;\n",
              "          element.appendChild(docLink);\n",
              "        }\n",
              "      </script>\n",
              "    </div>\n",
              "  </div>\n",
              "  "
            ]
          },
          "metadata": {},
          "execution_count": 84
        }
      ]
    },
    {
      "cell_type": "code",
      "source": [
        "# positive expressed sentiment G1 after log transform\n",
        "\n",
        "df_cor_bi_pos = pd.DataFrame({\"scheme\": scheme_all, \n",
        "                       \"cor\": coeffs_all, \n",
        "                       \"p_value\":p_val_all})\n",
        "\n",
        "df_cor_bi_pos # none # new"
      ],
      "metadata": {
        "colab": {
          "base_uri": "https://localhost:8080/",
          "height": 300
        },
        "outputId": "36f56cfb-90cb-4f1c-e11e-cb30af92e560",
        "id": "7b4YUTs71bQO"
      },
      "execution_count": null,
      "outputs": [
        {
          "output_type": "execute_result",
          "data": {
            "text/plain": [
              "                              scheme   cor  p_value\n",
              "0  scheme_name_Causal Slippery Slope   NaN      NaN\n",
              "1          scheme_name_Danger Appeal  0.38    0.286\n",
              "2            scheme_name_Fear Appeal   NaN      NaN\n",
              "3          scheme_name_Need For Help   NaN      NaN\n",
              "4  scheme_name_Negative Consequences  0.10    0.779\n",
              "5  scheme_name_Positive Consequences -0.25    0.486\n",
              "6                  scheme_name_Waste   NaN      NaN\n",
              "7      scheme_name_Default Inference -0.25    0.486"
            ],
            "text/html": [
              "\n",
              "  <div id=\"df-996dc218-8e9d-436e-846e-785c5f07f315\">\n",
              "    <div class=\"colab-df-container\">\n",
              "      <div>\n",
              "<style scoped>\n",
              "    .dataframe tbody tr th:only-of-type {\n",
              "        vertical-align: middle;\n",
              "    }\n",
              "\n",
              "    .dataframe tbody tr th {\n",
              "        vertical-align: top;\n",
              "    }\n",
              "\n",
              "    .dataframe thead th {\n",
              "        text-align: right;\n",
              "    }\n",
              "</style>\n",
              "<table border=\"1\" class=\"dataframe\">\n",
              "  <thead>\n",
              "    <tr style=\"text-align: right;\">\n",
              "      <th></th>\n",
              "      <th>scheme</th>\n",
              "      <th>cor</th>\n",
              "      <th>p_value</th>\n",
              "    </tr>\n",
              "  </thead>\n",
              "  <tbody>\n",
              "    <tr>\n",
              "      <th>0</th>\n",
              "      <td>scheme_name_Causal Slippery Slope</td>\n",
              "      <td>NaN</td>\n",
              "      <td>NaN</td>\n",
              "    </tr>\n",
              "    <tr>\n",
              "      <th>1</th>\n",
              "      <td>scheme_name_Danger Appeal</td>\n",
              "      <td>0.38</td>\n",
              "      <td>0.286</td>\n",
              "    </tr>\n",
              "    <tr>\n",
              "      <th>2</th>\n",
              "      <td>scheme_name_Fear Appeal</td>\n",
              "      <td>NaN</td>\n",
              "      <td>NaN</td>\n",
              "    </tr>\n",
              "    <tr>\n",
              "      <th>3</th>\n",
              "      <td>scheme_name_Need For Help</td>\n",
              "      <td>NaN</td>\n",
              "      <td>NaN</td>\n",
              "    </tr>\n",
              "    <tr>\n",
              "      <th>4</th>\n",
              "      <td>scheme_name_Negative Consequences</td>\n",
              "      <td>0.10</td>\n",
              "      <td>0.779</td>\n",
              "    </tr>\n",
              "    <tr>\n",
              "      <th>5</th>\n",
              "      <td>scheme_name_Positive Consequences</td>\n",
              "      <td>-0.25</td>\n",
              "      <td>0.486</td>\n",
              "    </tr>\n",
              "    <tr>\n",
              "      <th>6</th>\n",
              "      <td>scheme_name_Waste</td>\n",
              "      <td>NaN</td>\n",
              "      <td>NaN</td>\n",
              "    </tr>\n",
              "    <tr>\n",
              "      <th>7</th>\n",
              "      <td>scheme_name_Default Inference</td>\n",
              "      <td>-0.25</td>\n",
              "      <td>0.486</td>\n",
              "    </tr>\n",
              "  </tbody>\n",
              "</table>\n",
              "</div>\n",
              "      <button class=\"colab-df-convert\" onclick=\"convertToInteractive('df-996dc218-8e9d-436e-846e-785c5f07f315')\"\n",
              "              title=\"Convert this dataframe to an interactive table.\"\n",
              "              style=\"display:none;\">\n",
              "        \n",
              "  <svg xmlns=\"http://www.w3.org/2000/svg\" height=\"24px\"viewBox=\"0 0 24 24\"\n",
              "       width=\"24px\">\n",
              "    <path d=\"M0 0h24v24H0V0z\" fill=\"none\"/>\n",
              "    <path d=\"M18.56 5.44l.94 2.06.94-2.06 2.06-.94-2.06-.94-.94-2.06-.94 2.06-2.06.94zm-11 1L8.5 8.5l.94-2.06 2.06-.94-2.06-.94L8.5 2.5l-.94 2.06-2.06.94zm10 10l.94 2.06.94-2.06 2.06-.94-2.06-.94-.94-2.06-.94 2.06-2.06.94z\"/><path d=\"M17.41 7.96l-1.37-1.37c-.4-.4-.92-.59-1.43-.59-.52 0-1.04.2-1.43.59L10.3 9.45l-7.72 7.72c-.78.78-.78 2.05 0 2.83L4 21.41c.39.39.9.59 1.41.59.51 0 1.02-.2 1.41-.59l7.78-7.78 2.81-2.81c.8-.78.8-2.07 0-2.86zM5.41 20L4 18.59l7.72-7.72 1.47 1.35L5.41 20z\"/>\n",
              "  </svg>\n",
              "      </button>\n",
              "      \n",
              "  <style>\n",
              "    .colab-df-container {\n",
              "      display:flex;\n",
              "      flex-wrap:wrap;\n",
              "      gap: 12px;\n",
              "    }\n",
              "\n",
              "    .colab-df-convert {\n",
              "      background-color: #E8F0FE;\n",
              "      border: none;\n",
              "      border-radius: 50%;\n",
              "      cursor: pointer;\n",
              "      display: none;\n",
              "      fill: #1967D2;\n",
              "      height: 32px;\n",
              "      padding: 0 0 0 0;\n",
              "      width: 32px;\n",
              "    }\n",
              "\n",
              "    .colab-df-convert:hover {\n",
              "      background-color: #E2EBFA;\n",
              "      box-shadow: 0px 1px 2px rgba(60, 64, 67, 0.3), 0px 1px 3px 1px rgba(60, 64, 67, 0.15);\n",
              "      fill: #174EA6;\n",
              "    }\n",
              "\n",
              "    [theme=dark] .colab-df-convert {\n",
              "      background-color: #3B4455;\n",
              "      fill: #D2E3FC;\n",
              "    }\n",
              "\n",
              "    [theme=dark] .colab-df-convert:hover {\n",
              "      background-color: #434B5C;\n",
              "      box-shadow: 0px 1px 3px 1px rgba(0, 0, 0, 0.15);\n",
              "      filter: drop-shadow(0px 1px 2px rgba(0, 0, 0, 0.3));\n",
              "      fill: #FFFFFF;\n",
              "    }\n",
              "  </style>\n",
              "\n",
              "      <script>\n",
              "        const buttonEl =\n",
              "          document.querySelector('#df-996dc218-8e9d-436e-846e-785c5f07f315 button.colab-df-convert');\n",
              "        buttonEl.style.display =\n",
              "          google.colab.kernel.accessAllowed ? 'block' : 'none';\n",
              "\n",
              "        async function convertToInteractive(key) {\n",
              "          const element = document.querySelector('#df-996dc218-8e9d-436e-846e-785c5f07f315');\n",
              "          const dataTable =\n",
              "            await google.colab.kernel.invokeFunction('convertToInteractive',\n",
              "                                                     [key], {});\n",
              "          if (!dataTable) return;\n",
              "\n",
              "          const docLinkHtml = 'Like what you see? Visit the ' +\n",
              "            '<a target=\"_blank\" href=https://colab.research.google.com/notebooks/data_table.ipynb>data table notebook</a>'\n",
              "            + ' to learn more about interactive tables.';\n",
              "          element.innerHTML = '';\n",
              "          dataTable['output_type'] = 'display_data';\n",
              "          await google.colab.output.renderOutput(dataTable, element);\n",
              "          const docLink = document.createElement('div');\n",
              "          docLink.innerHTML = docLinkHtml;\n",
              "          element.appendChild(docLink);\n",
              "        }\n",
              "      </script>\n",
              "    </div>\n",
              "  </div>\n",
              "  "
            ]
          },
          "metadata": {},
          "execution_count": 96
        }
      ]
    },
    {
      "cell_type": "code",
      "source": [
        "coeffs_all = []\n",
        "p_val_all = []\n",
        "scheme_all = []\n",
        "\n",
        "# for scheme s and negative sentiment retrieve values and calculate correlation\n",
        "for s in schems:\n",
        "  print(s)\n",
        "  scheme_all.append(s)\n",
        "  sm_response_sentiment = corr_neg['percentage'].apply(float).values\n",
        "  binary_scheme = corr_neg[s].apply(int).values\n",
        "\n",
        "  coefbi, bi_p = pointbiserialr(binary_scheme, sm_response_sentiment)\n",
        "  coeffs_all.append(round(coefbi, 2))\n",
        "  p_val_all.append(round(bi_p, 3))\n",
        "\n",
        "  if bi_p <= 0.05:\n",
        "    print(f'\\t {s} - coeff: {coefbi}:  {round(bi_p, 3)}')"
      ],
      "metadata": {
        "id": "cjFC-bPNWILz",
        "colab": {
          "base_uri": "https://localhost:8080/"
        },
        "outputId": "0c76fae2-b666-434b-8ee5-ca25b0d10079"
      },
      "execution_count": null,
      "outputs": [
        {
          "output_type": "stream",
          "name": "stdout",
          "text": [
            "scheme_name_Causal Slippery Slope\n",
            "scheme_name_Danger Appeal\n",
            "scheme_name_Fear Appeal\n",
            "scheme_name_Need For Help\n",
            "scheme_name_Negative Consequences\n",
            "scheme_name_Positive Consequences\n",
            "scheme_name_Waste\n",
            "scheme_name_Default Inference\n"
          ]
        },
        {
          "output_type": "stream",
          "name": "stderr",
          "text": [
            "/usr/local/lib/python3.8/dist-packages/scipy/stats/stats.py:4023: PearsonRConstantInputWarning: An input array is constant; the correlation coefficient is not defined.\n",
            "  warnings.warn(PearsonRConstantInputWarning())\n"
          ]
        }
      ]
    },
    {
      "cell_type": "code",
      "source": [
        "# negative expressed sentiment R1\n",
        "\n",
        "df_cor_bi_neg = pd.DataFrame({\"scheme\": scheme_all, \n",
        "                       \"cor\": coeffs_all, \n",
        "                       \"p_value\":p_val_all})\n",
        "\n",
        "df_cor_bi_neg # none"
      ],
      "metadata": {
        "colab": {
          "base_uri": "https://localhost:8080/",
          "height": 300
        },
        "id": "_EsZMvz3WMLT",
        "outputId": "425a0fa5-7e68-4245-eb8d-ee301d657347"
      },
      "execution_count": null,
      "outputs": [
        {
          "output_type": "execute_result",
          "data": {
            "text/plain": [
              "                              scheme   cor  p_value\n",
              "0  scheme_name_Causal Slippery Slope   NaN      NaN\n",
              "1          scheme_name_Danger Appeal   NaN      NaN\n",
              "2            scheme_name_Fear Appeal   NaN      NaN\n",
              "3          scheme_name_Need For Help   NaN      NaN\n",
              "4  scheme_name_Negative Consequences -0.20    0.280\n",
              "5  scheme_name_Positive Consequences -0.06    0.763\n",
              "6                  scheme_name_Waste   NaN      NaN\n",
              "7      scheme_name_Default Inference  0.17    0.349"
            ],
            "text/html": [
              "\n",
              "  <div id=\"df-99fb3684-df5e-4dd4-bfda-a577ee4bcba1\">\n",
              "    <div class=\"colab-df-container\">\n",
              "      <div>\n",
              "<style scoped>\n",
              "    .dataframe tbody tr th:only-of-type {\n",
              "        vertical-align: middle;\n",
              "    }\n",
              "\n",
              "    .dataframe tbody tr th {\n",
              "        vertical-align: top;\n",
              "    }\n",
              "\n",
              "    .dataframe thead th {\n",
              "        text-align: right;\n",
              "    }\n",
              "</style>\n",
              "<table border=\"1\" class=\"dataframe\">\n",
              "  <thead>\n",
              "    <tr style=\"text-align: right;\">\n",
              "      <th></th>\n",
              "      <th>scheme</th>\n",
              "      <th>cor</th>\n",
              "      <th>p_value</th>\n",
              "    </tr>\n",
              "  </thead>\n",
              "  <tbody>\n",
              "    <tr>\n",
              "      <th>0</th>\n",
              "      <td>scheme_name_Causal Slippery Slope</td>\n",
              "      <td>NaN</td>\n",
              "      <td>NaN</td>\n",
              "    </tr>\n",
              "    <tr>\n",
              "      <th>1</th>\n",
              "      <td>scheme_name_Danger Appeal</td>\n",
              "      <td>NaN</td>\n",
              "      <td>NaN</td>\n",
              "    </tr>\n",
              "    <tr>\n",
              "      <th>2</th>\n",
              "      <td>scheme_name_Fear Appeal</td>\n",
              "      <td>NaN</td>\n",
              "      <td>NaN</td>\n",
              "    </tr>\n",
              "    <tr>\n",
              "      <th>3</th>\n",
              "      <td>scheme_name_Need For Help</td>\n",
              "      <td>NaN</td>\n",
              "      <td>NaN</td>\n",
              "    </tr>\n",
              "    <tr>\n",
              "      <th>4</th>\n",
              "      <td>scheme_name_Negative Consequences</td>\n",
              "      <td>-0.20</td>\n",
              "      <td>0.280</td>\n",
              "    </tr>\n",
              "    <tr>\n",
              "      <th>5</th>\n",
              "      <td>scheme_name_Positive Consequences</td>\n",
              "      <td>-0.06</td>\n",
              "      <td>0.763</td>\n",
              "    </tr>\n",
              "    <tr>\n",
              "      <th>6</th>\n",
              "      <td>scheme_name_Waste</td>\n",
              "      <td>NaN</td>\n",
              "      <td>NaN</td>\n",
              "    </tr>\n",
              "    <tr>\n",
              "      <th>7</th>\n",
              "      <td>scheme_name_Default Inference</td>\n",
              "      <td>0.17</td>\n",
              "      <td>0.349</td>\n",
              "    </tr>\n",
              "  </tbody>\n",
              "</table>\n",
              "</div>\n",
              "      <button class=\"colab-df-convert\" onclick=\"convertToInteractive('df-99fb3684-df5e-4dd4-bfda-a577ee4bcba1')\"\n",
              "              title=\"Convert this dataframe to an interactive table.\"\n",
              "              style=\"display:none;\">\n",
              "        \n",
              "  <svg xmlns=\"http://www.w3.org/2000/svg\" height=\"24px\"viewBox=\"0 0 24 24\"\n",
              "       width=\"24px\">\n",
              "    <path d=\"M0 0h24v24H0V0z\" fill=\"none\"/>\n",
              "    <path d=\"M18.56 5.44l.94 2.06.94-2.06 2.06-.94-2.06-.94-.94-2.06-.94 2.06-2.06.94zm-11 1L8.5 8.5l.94-2.06 2.06-.94-2.06-.94L8.5 2.5l-.94 2.06-2.06.94zm10 10l.94 2.06.94-2.06 2.06-.94-2.06-.94-.94-2.06-.94 2.06-2.06.94z\"/><path d=\"M17.41 7.96l-1.37-1.37c-.4-.4-.92-.59-1.43-.59-.52 0-1.04.2-1.43.59L10.3 9.45l-7.72 7.72c-.78.78-.78 2.05 0 2.83L4 21.41c.39.39.9.59 1.41.59.51 0 1.02-.2 1.41-.59l7.78-7.78 2.81-2.81c.8-.78.8-2.07 0-2.86zM5.41 20L4 18.59l7.72-7.72 1.47 1.35L5.41 20z\"/>\n",
              "  </svg>\n",
              "      </button>\n",
              "      \n",
              "  <style>\n",
              "    .colab-df-container {\n",
              "      display:flex;\n",
              "      flex-wrap:wrap;\n",
              "      gap: 12px;\n",
              "    }\n",
              "\n",
              "    .colab-df-convert {\n",
              "      background-color: #E8F0FE;\n",
              "      border: none;\n",
              "      border-radius: 50%;\n",
              "      cursor: pointer;\n",
              "      display: none;\n",
              "      fill: #1967D2;\n",
              "      height: 32px;\n",
              "      padding: 0 0 0 0;\n",
              "      width: 32px;\n",
              "    }\n",
              "\n",
              "    .colab-df-convert:hover {\n",
              "      background-color: #E2EBFA;\n",
              "      box-shadow: 0px 1px 2px rgba(60, 64, 67, 0.3), 0px 1px 3px 1px rgba(60, 64, 67, 0.15);\n",
              "      fill: #174EA6;\n",
              "    }\n",
              "\n",
              "    [theme=dark] .colab-df-convert {\n",
              "      background-color: #3B4455;\n",
              "      fill: #D2E3FC;\n",
              "    }\n",
              "\n",
              "    [theme=dark] .colab-df-convert:hover {\n",
              "      background-color: #434B5C;\n",
              "      box-shadow: 0px 1px 3px 1px rgba(0, 0, 0, 0.15);\n",
              "      filter: drop-shadow(0px 1px 2px rgba(0, 0, 0, 0.3));\n",
              "      fill: #FFFFFF;\n",
              "    }\n",
              "  </style>\n",
              "\n",
              "      <script>\n",
              "        const buttonEl =\n",
              "          document.querySelector('#df-99fb3684-df5e-4dd4-bfda-a577ee4bcba1 button.colab-df-convert');\n",
              "        buttonEl.style.display =\n",
              "          google.colab.kernel.accessAllowed ? 'block' : 'none';\n",
              "\n",
              "        async function convertToInteractive(key) {\n",
              "          const element = document.querySelector('#df-99fb3684-df5e-4dd4-bfda-a577ee4bcba1');\n",
              "          const dataTable =\n",
              "            await google.colab.kernel.invokeFunction('convertToInteractive',\n",
              "                                                     [key], {});\n",
              "          if (!dataTable) return;\n",
              "\n",
              "          const docLinkHtml = 'Like what you see? Visit the ' +\n",
              "            '<a target=\"_blank\" href=https://colab.research.google.com/notebooks/data_table.ipynb>data table notebook</a>'\n",
              "            + ' to learn more about interactive tables.';\n",
              "          element.innerHTML = '';\n",
              "          dataTable['output_type'] = 'display_data';\n",
              "          await google.colab.output.renderOutput(dataTable, element);\n",
              "          const docLink = document.createElement('div');\n",
              "          docLink.innerHTML = docLinkHtml;\n",
              "          element.appendChild(docLink);\n",
              "        }\n",
              "      </script>\n",
              "    </div>\n",
              "  </div>\n",
              "  "
            ]
          },
          "metadata": {},
          "execution_count": 86
        }
      ]
    },
    {
      "cell_type": "code",
      "source": [
        "# negative expressed sentiment G1\n",
        "\n",
        "df_cor_bi_neg = pd.DataFrame({\"scheme\": scheme_all, \n",
        "                       \"cor\": coeffs_all, \n",
        "                       \"p_value\":p_val_all})\n",
        "\n",
        "df_cor_bi_neg # none - one approaches scheme_name_Negative Consequences p = 0.087"
      ],
      "metadata": {
        "colab": {
          "base_uri": "https://localhost:8080/",
          "height": 300
        },
        "id": "m-KYEEm9teac",
        "outputId": "751984da-9630-4a19-d67c-8c85ca92de16"
      },
      "execution_count": null,
      "outputs": [
        {
          "output_type": "execute_result",
          "data": {
            "text/plain": [
              "                              scheme   cor  p_value\n",
              "0  scheme_name_Causal Slippery Slope   NaN      NaN\n",
              "1          scheme_name_Danger Appeal -0.19    0.397\n",
              "2            scheme_name_Fear Appeal   NaN      NaN\n",
              "3          scheme_name_Need For Help   NaN      NaN\n",
              "4  scheme_name_Negative Consequences  0.37    0.087\n",
              "5  scheme_name_Positive Consequences  0.09    0.694\n",
              "6                  scheme_name_Waste   NaN      NaN\n",
              "7      scheme_name_Default Inference -0.28    0.203"
            ],
            "text/html": [
              "\n",
              "  <div id=\"df-fe4268d9-9517-4f3f-a678-8d32123dd227\">\n",
              "    <div class=\"colab-df-container\">\n",
              "      <div>\n",
              "<style scoped>\n",
              "    .dataframe tbody tr th:only-of-type {\n",
              "        vertical-align: middle;\n",
              "    }\n",
              "\n",
              "    .dataframe tbody tr th {\n",
              "        vertical-align: top;\n",
              "    }\n",
              "\n",
              "    .dataframe thead th {\n",
              "        text-align: right;\n",
              "    }\n",
              "</style>\n",
              "<table border=\"1\" class=\"dataframe\">\n",
              "  <thead>\n",
              "    <tr style=\"text-align: right;\">\n",
              "      <th></th>\n",
              "      <th>scheme</th>\n",
              "      <th>cor</th>\n",
              "      <th>p_value</th>\n",
              "    </tr>\n",
              "  </thead>\n",
              "  <tbody>\n",
              "    <tr>\n",
              "      <th>0</th>\n",
              "      <td>scheme_name_Causal Slippery Slope</td>\n",
              "      <td>NaN</td>\n",
              "      <td>NaN</td>\n",
              "    </tr>\n",
              "    <tr>\n",
              "      <th>1</th>\n",
              "      <td>scheme_name_Danger Appeal</td>\n",
              "      <td>-0.19</td>\n",
              "      <td>0.397</td>\n",
              "    </tr>\n",
              "    <tr>\n",
              "      <th>2</th>\n",
              "      <td>scheme_name_Fear Appeal</td>\n",
              "      <td>NaN</td>\n",
              "      <td>NaN</td>\n",
              "    </tr>\n",
              "    <tr>\n",
              "      <th>3</th>\n",
              "      <td>scheme_name_Need For Help</td>\n",
              "      <td>NaN</td>\n",
              "      <td>NaN</td>\n",
              "    </tr>\n",
              "    <tr>\n",
              "      <th>4</th>\n",
              "      <td>scheme_name_Negative Consequences</td>\n",
              "      <td>0.37</td>\n",
              "      <td>0.087</td>\n",
              "    </tr>\n",
              "    <tr>\n",
              "      <th>5</th>\n",
              "      <td>scheme_name_Positive Consequences</td>\n",
              "      <td>0.09</td>\n",
              "      <td>0.694</td>\n",
              "    </tr>\n",
              "    <tr>\n",
              "      <th>6</th>\n",
              "      <td>scheme_name_Waste</td>\n",
              "      <td>NaN</td>\n",
              "      <td>NaN</td>\n",
              "    </tr>\n",
              "    <tr>\n",
              "      <th>7</th>\n",
              "      <td>scheme_name_Default Inference</td>\n",
              "      <td>-0.28</td>\n",
              "      <td>0.203</td>\n",
              "    </tr>\n",
              "  </tbody>\n",
              "</table>\n",
              "</div>\n",
              "      <button class=\"colab-df-convert\" onclick=\"convertToInteractive('df-fe4268d9-9517-4f3f-a678-8d32123dd227')\"\n",
              "              title=\"Convert this dataframe to an interactive table.\"\n",
              "              style=\"display:none;\">\n",
              "        \n",
              "  <svg xmlns=\"http://www.w3.org/2000/svg\" height=\"24px\"viewBox=\"0 0 24 24\"\n",
              "       width=\"24px\">\n",
              "    <path d=\"M0 0h24v24H0V0z\" fill=\"none\"/>\n",
              "    <path d=\"M18.56 5.44l.94 2.06.94-2.06 2.06-.94-2.06-.94-.94-2.06-.94 2.06-2.06.94zm-11 1L8.5 8.5l.94-2.06 2.06-.94-2.06-.94L8.5 2.5l-.94 2.06-2.06.94zm10 10l.94 2.06.94-2.06 2.06-.94-2.06-.94-.94-2.06-.94 2.06-2.06.94z\"/><path d=\"M17.41 7.96l-1.37-1.37c-.4-.4-.92-.59-1.43-.59-.52 0-1.04.2-1.43.59L10.3 9.45l-7.72 7.72c-.78.78-.78 2.05 0 2.83L4 21.41c.39.39.9.59 1.41.59.51 0 1.02-.2 1.41-.59l7.78-7.78 2.81-2.81c.8-.78.8-2.07 0-2.86zM5.41 20L4 18.59l7.72-7.72 1.47 1.35L5.41 20z\"/>\n",
              "  </svg>\n",
              "      </button>\n",
              "      \n",
              "  <style>\n",
              "    .colab-df-container {\n",
              "      display:flex;\n",
              "      flex-wrap:wrap;\n",
              "      gap: 12px;\n",
              "    }\n",
              "\n",
              "    .colab-df-convert {\n",
              "      background-color: #E8F0FE;\n",
              "      border: none;\n",
              "      border-radius: 50%;\n",
              "      cursor: pointer;\n",
              "      display: none;\n",
              "      fill: #1967D2;\n",
              "      height: 32px;\n",
              "      padding: 0 0 0 0;\n",
              "      width: 32px;\n",
              "    }\n",
              "\n",
              "    .colab-df-convert:hover {\n",
              "      background-color: #E2EBFA;\n",
              "      box-shadow: 0px 1px 2px rgba(60, 64, 67, 0.3), 0px 1px 3px 1px rgba(60, 64, 67, 0.15);\n",
              "      fill: #174EA6;\n",
              "    }\n",
              "\n",
              "    [theme=dark] .colab-df-convert {\n",
              "      background-color: #3B4455;\n",
              "      fill: #D2E3FC;\n",
              "    }\n",
              "\n",
              "    [theme=dark] .colab-df-convert:hover {\n",
              "      background-color: #434B5C;\n",
              "      box-shadow: 0px 1px 3px 1px rgba(0, 0, 0, 0.15);\n",
              "      filter: drop-shadow(0px 1px 2px rgba(0, 0, 0, 0.3));\n",
              "      fill: #FFFFFF;\n",
              "    }\n",
              "  </style>\n",
              "\n",
              "      <script>\n",
              "        const buttonEl =\n",
              "          document.querySelector('#df-fe4268d9-9517-4f3f-a678-8d32123dd227 button.colab-df-convert');\n",
              "        buttonEl.style.display =\n",
              "          google.colab.kernel.accessAllowed ? 'block' : 'none';\n",
              "\n",
              "        async function convertToInteractive(key) {\n",
              "          const element = document.querySelector('#df-fe4268d9-9517-4f3f-a678-8d32123dd227');\n",
              "          const dataTable =\n",
              "            await google.colab.kernel.invokeFunction('convertToInteractive',\n",
              "                                                     [key], {});\n",
              "          if (!dataTable) return;\n",
              "\n",
              "          const docLinkHtml = 'Like what you see? Visit the ' +\n",
              "            '<a target=\"_blank\" href=https://colab.research.google.com/notebooks/data_table.ipynb>data table notebook</a>'\n",
              "            + ' to learn more about interactive tables.';\n",
              "          element.innerHTML = '';\n",
              "          dataTable['output_type'] = 'display_data';\n",
              "          await google.colab.output.renderOutput(dataTable, element);\n",
              "          const docLink = document.createElement('div');\n",
              "          docLink.innerHTML = docLinkHtml;\n",
              "          element.appendChild(docLink);\n",
              "        }\n",
              "      </script>\n",
              "    </div>\n",
              "  </div>\n",
              "  "
            ]
          },
          "metadata": {},
          "execution_count": 98
        }
      ]
    },
    {
      "cell_type": "markdown",
      "source": [
        "#Polish corpora "
      ],
      "metadata": {
        "id": "Vn9uIY4Czmmt"
      }
    },
    {
      "cell_type": "markdown",
      "source": [
        "##debate"
      ],
      "metadata": {
        "id": "OedyQMa4oEc8"
      }
    },
    {
      "cell_type": "code",
      "source": [
        "# debata_2020_June_all_DATA\n",
        "# debata_2020_May_all_DATA\n",
        "\n",
        "d_path = \"/content/drive/MyDrive/Colab Notebooks/debates/debata_2020_May_all_DATA.xlsx\""
      ],
      "metadata": {
        "id": "Ioi7L_XEoEc8"
      },
      "execution_count": null,
      "outputs": []
    },
    {
      "cell_type": "code",
      "source": [
        "df = load_data(d_path)\n",
        "df['full_argument'] = df.conclusion + \" \" + df.premise\n",
        "df.shape"
      ],
      "metadata": {
        "colab": {
          "base_uri": "https://localhost:8080/"
        },
        "outputId": "a5241fa8-5dd4-4e40-d4fc-b51b2c0c04ff",
        "id": "DVOh09C5oEc9"
      },
      "execution_count": null,
      "outputs": [
        {
          "output_type": "execute_result",
          "data": {
            "text/plain": [
              "(153, 10)"
            ]
          },
          "metadata": {},
          "execution_count": 96
        }
      ]
    },
    {
      "cell_type": "code",
      "source": [
        "df.head(2)"
      ],
      "metadata": {
        "colab": {
          "base_uri": "https://localhost:8080/",
          "height": 486
        },
        "outputId": "af2cd5af-ae4e-4e1b-a228-90a09e151acc",
        "id": "HOTPb097oEc-"
      },
      "execution_count": null,
      "outputs": [
        {
          "output_type": "execute_result",
          "data": {
            "text/plain": [
              "                                                                                               conclusion  \\\n",
              "0.0  państwo nie będzie miało pieniędzy na utrzymanie lecznictwa, całego aparatu skarbowego i państwowego   \n",
              "1.0                                                                 powinniśmy czynnie zabiegać o reformę   \n",
              "\n",
              "                                       premise         speaker  \\\n",
              "0.0   przedsiębiorcy nie będą wpłacać podatków  Marek Jakubiak   \n",
              "1.0  przedsiębiorcy umierają na naszych oczach  Marek Jakubiak   \n",
              "\n",
              "                                                                                                                                                           text_full  \\\n",
              "0.0  Proszę państwa, to nie jest proste pytanie. To pytanie trzeba wprost zdefiniować: Czy damy radę? Oczywiście, że damy radę, my, przedsiębiorcy. Ja odnoszę wr...   \n",
              "1.0  Proszę państwa, to nie jest proste pytanie. To pytanie trzeba wprost zdefiniować: Czy damy radę? Oczywiście, że damy radę, my, przedsiębiorcy. Ja odnoszę wr...   \n",
              "\n",
              "                                                                                                                                                              text_L  \\\n",
              "0.0  Marek Jakubiak : państwo nie będzie miało pieniędzy na utrzymanie podstawowych swoich cech, a więc lecznictwa, a więc, yy, całego aparatu skarbowego i państ...   \n",
              "1.0                                                                                                           Marek Jakubiak : Powinniśmy czynnie zabiegać o reformę   \n",
              "\n",
              "                                                                                                        question  \\\n",
              "0.0  Jak wrócić do wysokiego tempa rozwoju z ostatnich lat? Czy to jest realne i w jakiej perspektywie czasowej?   \n",
              "1.0  Jak wrócić do wysokiego tempa rozwoju z ostatnich lat? Czy to jest realne i w jakiej perspektywie czasowej?   \n",
              "\n",
              "     question number     start       end  \\\n",
              "0.0              2.0  20:47:00  20:48:00   \n",
              "1.0              2.0  20:47:00  20:48:00   \n",
              "\n",
              "                                                                                                                                     full_argument  \n",
              "0.0  państwo nie będzie miało pieniędzy na utrzymanie lecznictwa, całego aparatu skarbowego i państwowego przedsiębiorcy nie będą wpłacać podatków  \n",
              "1.0                                                                powinniśmy czynnie zabiegać o reformę przedsiębiorcy umierają na naszych oczach  "
            ],
            "text/html": [
              "\n",
              "  <div id=\"df-f6a9c75e-f97b-4053-bdd9-d9068c3031b4\">\n",
              "    <div class=\"colab-df-container\">\n",
              "      <div>\n",
              "<style scoped>\n",
              "    .dataframe tbody tr th:only-of-type {\n",
              "        vertical-align: middle;\n",
              "    }\n",
              "\n",
              "    .dataframe tbody tr th {\n",
              "        vertical-align: top;\n",
              "    }\n",
              "\n",
              "    .dataframe thead th {\n",
              "        text-align: right;\n",
              "    }\n",
              "</style>\n",
              "<table border=\"1\" class=\"dataframe\">\n",
              "  <thead>\n",
              "    <tr style=\"text-align: right;\">\n",
              "      <th></th>\n",
              "      <th>conclusion</th>\n",
              "      <th>premise</th>\n",
              "      <th>speaker</th>\n",
              "      <th>text_full</th>\n",
              "      <th>text_L</th>\n",
              "      <th>question</th>\n",
              "      <th>question number</th>\n",
              "      <th>start</th>\n",
              "      <th>end</th>\n",
              "      <th>full_argument</th>\n",
              "    </tr>\n",
              "  </thead>\n",
              "  <tbody>\n",
              "    <tr>\n",
              "      <th>0.0</th>\n",
              "      <td>państwo nie będzie miało pieniędzy na utrzymanie lecznictwa, całego aparatu skarbowego i państwowego</td>\n",
              "      <td>przedsiębiorcy nie będą wpłacać podatków</td>\n",
              "      <td>Marek Jakubiak</td>\n",
              "      <td>Proszę państwa, to nie jest proste pytanie. To pytanie trzeba wprost zdefiniować: Czy damy radę? Oczywiście, że damy radę, my, przedsiębiorcy. Ja odnoszę wr...</td>\n",
              "      <td>Marek Jakubiak : państwo nie będzie miało pieniędzy na utrzymanie podstawowych swoich cech, a więc lecznictwa, a więc, yy, całego aparatu skarbowego i państ...</td>\n",
              "      <td>Jak wrócić do wysokiego tempa rozwoju z ostatnich lat? Czy to jest realne i w jakiej perspektywie czasowej?</td>\n",
              "      <td>2.0</td>\n",
              "      <td>20:47:00</td>\n",
              "      <td>20:48:00</td>\n",
              "      <td>państwo nie będzie miało pieniędzy na utrzymanie lecznictwa, całego aparatu skarbowego i państwowego przedsiębiorcy nie będą wpłacać podatków</td>\n",
              "    </tr>\n",
              "    <tr>\n",
              "      <th>1.0</th>\n",
              "      <td>powinniśmy czynnie zabiegać o reformę</td>\n",
              "      <td>przedsiębiorcy umierają na naszych oczach</td>\n",
              "      <td>Marek Jakubiak</td>\n",
              "      <td>Proszę państwa, to nie jest proste pytanie. To pytanie trzeba wprost zdefiniować: Czy damy radę? Oczywiście, że damy radę, my, przedsiębiorcy. Ja odnoszę wr...</td>\n",
              "      <td>Marek Jakubiak : Powinniśmy czynnie zabiegać o reformę</td>\n",
              "      <td>Jak wrócić do wysokiego tempa rozwoju z ostatnich lat? Czy to jest realne i w jakiej perspektywie czasowej?</td>\n",
              "      <td>2.0</td>\n",
              "      <td>20:47:00</td>\n",
              "      <td>20:48:00</td>\n",
              "      <td>powinniśmy czynnie zabiegać o reformę przedsiębiorcy umierają na naszych oczach</td>\n",
              "    </tr>\n",
              "  </tbody>\n",
              "</table>\n",
              "</div>\n",
              "      <button class=\"colab-df-convert\" onclick=\"convertToInteractive('df-f6a9c75e-f97b-4053-bdd9-d9068c3031b4')\"\n",
              "              title=\"Convert this dataframe to an interactive table.\"\n",
              "              style=\"display:none;\">\n",
              "        \n",
              "  <svg xmlns=\"http://www.w3.org/2000/svg\" height=\"24px\"viewBox=\"0 0 24 24\"\n",
              "       width=\"24px\">\n",
              "    <path d=\"M0 0h24v24H0V0z\" fill=\"none\"/>\n",
              "    <path d=\"M18.56 5.44l.94 2.06.94-2.06 2.06-.94-2.06-.94-.94-2.06-.94 2.06-2.06.94zm-11 1L8.5 8.5l.94-2.06 2.06-.94-2.06-.94L8.5 2.5l-.94 2.06-2.06.94zm10 10l.94 2.06.94-2.06 2.06-.94-2.06-.94-.94-2.06-.94 2.06-2.06.94z\"/><path d=\"M17.41 7.96l-1.37-1.37c-.4-.4-.92-.59-1.43-.59-.52 0-1.04.2-1.43.59L10.3 9.45l-7.72 7.72c-.78.78-.78 2.05 0 2.83L4 21.41c.39.39.9.59 1.41.59.51 0 1.02-.2 1.41-.59l7.78-7.78 2.81-2.81c.8-.78.8-2.07 0-2.86zM5.41 20L4 18.59l7.72-7.72 1.47 1.35L5.41 20z\"/>\n",
              "  </svg>\n",
              "      </button>\n",
              "      \n",
              "  <style>\n",
              "    .colab-df-container {\n",
              "      display:flex;\n",
              "      flex-wrap:wrap;\n",
              "      gap: 12px;\n",
              "    }\n",
              "\n",
              "    .colab-df-convert {\n",
              "      background-color: #E8F0FE;\n",
              "      border: none;\n",
              "      border-radius: 50%;\n",
              "      cursor: pointer;\n",
              "      display: none;\n",
              "      fill: #1967D2;\n",
              "      height: 32px;\n",
              "      padding: 0 0 0 0;\n",
              "      width: 32px;\n",
              "    }\n",
              "\n",
              "    .colab-df-convert:hover {\n",
              "      background-color: #E2EBFA;\n",
              "      box-shadow: 0px 1px 2px rgba(60, 64, 67, 0.3), 0px 1px 3px 1px rgba(60, 64, 67, 0.15);\n",
              "      fill: #174EA6;\n",
              "    }\n",
              "\n",
              "    [theme=dark] .colab-df-convert {\n",
              "      background-color: #3B4455;\n",
              "      fill: #D2E3FC;\n",
              "    }\n",
              "\n",
              "    [theme=dark] .colab-df-convert:hover {\n",
              "      background-color: #434B5C;\n",
              "      box-shadow: 0px 1px 3px 1px rgba(0, 0, 0, 0.15);\n",
              "      filter: drop-shadow(0px 1px 2px rgba(0, 0, 0, 0.3));\n",
              "      fill: #FFFFFF;\n",
              "    }\n",
              "  </style>\n",
              "\n",
              "      <script>\n",
              "        const buttonEl =\n",
              "          document.querySelector('#df-f6a9c75e-f97b-4053-bdd9-d9068c3031b4 button.colab-df-convert');\n",
              "        buttonEl.style.display =\n",
              "          google.colab.kernel.accessAllowed ? 'block' : 'none';\n",
              "\n",
              "        async function convertToInteractive(key) {\n",
              "          const element = document.querySelector('#df-f6a9c75e-f97b-4053-bdd9-d9068c3031b4');\n",
              "          const dataTable =\n",
              "            await google.colab.kernel.invokeFunction('convertToInteractive',\n",
              "                                                     [key], {});\n",
              "          if (!dataTable) return;\n",
              "\n",
              "          const docLinkHtml = 'Like what you see? Visit the ' +\n",
              "            '<a target=\"_blank\" href=https://colab.research.google.com/notebooks/data_table.ipynb>data table notebook</a>'\n",
              "            + ' to learn more about interactive tables.';\n",
              "          element.innerHTML = '';\n",
              "          dataTable['output_type'] = 'display_data';\n",
              "          await google.colab.output.renderOutput(dataTable, element);\n",
              "          const docLink = document.createElement('div');\n",
              "          docLink.innerHTML = docLinkHtml;\n",
              "          element.appendChild(docLink);\n",
              "        }\n",
              "      </script>\n",
              "    </div>\n",
              "  </div>\n",
              "  "
            ]
          },
          "metadata": {},
          "execution_count": 97
        }
      ]
    },
    {
      "cell_type": "code",
      "source": [
        "df[\"Time\"] = pd.to_datetime(df.start)"
      ],
      "metadata": {
        "id": "aY2CrSImoEc-"
      },
      "execution_count": null,
      "outputs": []
    },
    {
      "cell_type": "code",
      "source": [
        "cols = ['conclusion', 'premise', 'full_argument']\n",
        "for c in cols:\n",
        "  df = lemmatization(df, c)"
      ],
      "metadata": {
        "id": "m2CC8FJ5oEc_"
      },
      "execution_count": null,
      "outputs": []
    },
    {
      "cell_type": "markdown",
      "source": [
        "###lexical analysis"
      ],
      "metadata": {
        "id": "Lxgx8JxgoEc_"
      }
    },
    {
      "cell_type": "code",
      "source": [
        "valence_db_path = '/content/valence_db.xlsx'\n",
        "emotion_db_path = '/content/NAWL_db.xlsx'"
      ],
      "metadata": {
        "id": "mJvvG6QPoEc_"
      },
      "execution_count": null,
      "outputs": []
    },
    {
      "cell_type": "code",
      "source": [
        "affdb = load_data(valence_db_path)\n",
        "print(affdb.shape)\n",
        "\n",
        "affdb2 = affdb[ (affdb.Valence_standardized < -0.5) | (affdb.Valence_standardized > 1) ]\n",
        "aff_words = affdb2['Word'].values\n",
        "aff_words[:5]"
      ],
      "metadata": {
        "colab": {
          "base_uri": "https://localhost:8080/"
        },
        "outputId": "4db948e0-a234-40e8-c92a-3079ac7326bf",
        "id": "OuEq4u8woEc_"
      },
      "execution_count": null,
      "outputs": [
        {
          "output_type": "stream",
          "name": "stdout",
          "text": [
            "(10806, 4)\n"
          ]
        },
        {
          "output_type": "execute_result",
          "data": {
            "text/plain": [
              "array(['abderyta', 'aberracyjny', 'absmak', 'absurd', 'absurdalny'],\n",
              "      dtype=object)"
            ]
          },
          "metadata": {},
          "execution_count": 54
        }
      ]
    },
    {
      "cell_type": "code",
      "source": [
        "cols = ['conclusion', 'premise', 'full_argument']\n",
        "\n",
        "for c in cols:\n",
        "  df[c+'_valence_words'] = df[c+'_lemmatized'].apply(lambda x: \" \".join( [w for w in str(x).split() if w in aff_words] ))"
      ],
      "metadata": {
        "id": "gFkFNhCLoEdA"
      },
      "execution_count": null,
      "outputs": []
    },
    {
      "cell_type": "code",
      "source": [
        "cols = ['conclusion', 'premise', 'full_argument']\n",
        "for c in cols:\n",
        "  \n",
        "  df = get_valence_scores(df, lemmatized_column = c+'_valence_words', affective_database = affdb2, new_col_prefix = c)\n",
        "  \n",
        "  df = average_emotion(dataframe = df, emotive_words_column = c+'_valence_words', \n",
        "                       affective_database_path = emotion_db_path, \n",
        "                       db_words = 'Word', new_col_prefix = c)\n",
        "  \n",
        "  df = emotion_category(dataframe = df, emotive_words_column = c+'_valence_words', \n",
        "                        affective_database_path = emotion_db_path, \n",
        "                        new_col_prefix = c)\n",
        "  \n",
        "  df = count_categories(dataframe = df, emotion_categories_column = c+\"_emotion_categories\", \n",
        "                          affective_database_path = emotion_db_path, \n",
        "                          db_emotion_category = \"Class\", new_col_prefix = c)  \n",
        "  print(c)"
      ],
      "metadata": {
        "colab": {
          "base_uri": "https://localhost:8080/"
        },
        "outputId": "bd345fb7-d592-46f1-d34d-20ae6f683876",
        "id": "kjCviuvnoEdA"
      },
      "execution_count": null,
      "outputs": [
        {
          "output_type": "stream",
          "name": "stdout",
          "text": [
            "conclusion\n",
            "premise\n",
            "full_argument\n"
          ]
        }
      ]
    },
    {
      "cell_type": "code",
      "source": [
        "df.shape"
      ],
      "metadata": {
        "colab": {
          "base_uri": "https://localhost:8080/"
        },
        "outputId": "cc738e84-1d9c-4aa9-bfa4-65af6dd1939b",
        "id": "vI6ZBwMVoEdA"
      },
      "execution_count": null,
      "outputs": [
        {
          "output_type": "execute_result",
          "data": {
            "text/plain": [
              "(153, 68)"
            ]
          },
          "metadata": {},
          "execution_count": 57
        }
      ]
    },
    {
      "cell_type": "code",
      "source": [
        "df = df.drop(df.filter(regex='_nan').columns, axis=1)"
      ],
      "metadata": {
        "id": "YC9lMz8LoEdB"
      },
      "execution_count": null,
      "outputs": []
    },
    {
      "cell_type": "code",
      "source": [
        "df.filter(regex='_valence_score').columns"
      ],
      "metadata": {
        "colab": {
          "base_uri": "https://localhost:8080/"
        },
        "outputId": "2faa464c-4ce7-413f-cfeb-8e1ec18c53cf",
        "id": "q557L2WSoEdB"
      },
      "execution_count": null,
      "outputs": [
        {
          "output_type": "execute_result",
          "data": {
            "text/plain": [
              "Index(['conclusion_valence_score', 'premise_valence_score',\n",
              "       'full_argument_valence_score'],\n",
              "      dtype='object')"
            ]
          },
          "metadata": {},
          "execution_count": 59
        }
      ]
    },
    {
      "cell_type": "code",
      "source": [
        "cols = ['conclusion', 'premise', 'full_argument']\n",
        "\n",
        "for c in cols:\n",
        "  df[c+'_valence_score'] = (df[c+'_valence_positive_count'] + df[c+'_valence_negative_count']) / df[c+\"_lemmatized\"].str.split().map(len)"
      ],
      "metadata": {
        "id": "CcPuAmFuoEdB"
      },
      "execution_count": null,
      "outputs": []
    },
    {
      "cell_type": "code",
      "source": [
        "df.full_argument_valence_score"
      ],
      "metadata": {
        "colab": {
          "base_uri": "https://localhost:8080/"
        },
        "outputId": "be9cc65c-0262-4987-d444-ec8229773a86",
        "id": "IlqsPXEtoEdC"
      },
      "execution_count": null,
      "outputs": [
        {
          "output_type": "execute_result",
          "data": {
            "text/plain": [
              "0.0      0.166667\n",
              "1.0      0.250000\n",
              "2.0      0.333333\n",
              "3.0      0.050000\n",
              "4.0      0.172414\n",
              "           ...   \n",
              "218.0    0.400000\n",
              "219.0    0.166667\n",
              "220.0    0.400000\n",
              "222.0    0.102564\n",
              "223.0    0.187500\n",
              "Name: full_argument_valence_score, Length: 153, dtype: float64"
            ]
          },
          "metadata": {},
          "execution_count": 61
        }
      ]
    },
    {
      "cell_type": "code",
      "source": [
        "df.sample(2)"
      ],
      "metadata": {
        "colab": {
          "base_uri": "https://localhost:8080/",
          "height": 697
        },
        "outputId": "500a143f-1ea6-4c30-dc5c-e4e6f113628a",
        "id": "wmng4iceoEdC"
      },
      "execution_count": null,
      "outputs": [
        {
          "output_type": "execute_result",
          "data": {
            "text/plain": [
              "                                                                                                                 conclusion  \\\n",
              "219.0  my powinniśmy porozmawiać właśnie o emerytach, o osobach, które są w tej chwili w DPS-ach i są zostawione same sobie   \n",
              "43.0                                                         popatrzmy ile kosztowało euro przed koronawirusem, ile dzisiaj   \n",
              "\n",
              "                                                premise  \\\n",
              "219.0                   w DPS'ach są ogniska zachorowań   \n",
              "43.0   to giełda polska najbardziej traci ze wszystkich   \n",
              "\n",
              "                         speaker  \\\n",
              "219.0  Małgorzata Kidawa-Błońska   \n",
              "43.0            Stanisław Żółtek   \n",
              "\n",
              "                                                                                                                                                                  text  \\\n",
              "219.0  Jedna minuta, to za mało, żeby powiedzieć o polityce społecznej, jeżeli chcemy na ten temat na poważnie rozmawiać. Mówi pan o ustawach, które w najbliższym ...   \n",
              "43.0   Właśnie, utrzymanie aparatu skarbu. Oprócz... Całe lata tak było, że rozbudowany był aparat skarbowy, urzędnicy w kancelarii, w sejmie, w innych ministerstw...   \n",
              "\n",
              "                                                                                  text_L  \\\n",
              "219.0                              Małgorzata Kidawa-Błońska : tam są ogniska zachorowań   \n",
              "43.0   Stanisław Żółtek : Popatrzmy ile kosztowało euro przed koronawirusem, ile dzisiaj   \n",
              "\n",
              "                                                                                                                                                              question  \\\n",
              "219.0  Czy jeśli pan lub pani zostanie prezydentem i na biurko państwa trafi ustawa podwyższająca wiek emerytalny oraz druga, wprowadzająca małżeństwa homoseksualn...   \n",
              "43.0                                                       Jak wrócić do wysokiego tempa rozwoju z ostatnich lat? Czy to jest realne i w jakiej perspektywie czasowej?   \n",
              "\n",
              "       question number     start       end  \\\n",
              "219.0              5.0  21:25:00  21:27:00   \n",
              "43.0               2.0  20:48:00  20:49:00   \n",
              "\n",
              "                                                                                                                                              full_argument  \\\n",
              "219.0  my powinniśmy porozmawiać właśnie o emerytach, o osobach, które są w tej chwili w DPS-ach i są zostawione same sobie w DPS'ach są ogniska zachorowań   \n",
              "43.0                                        popatrzmy ile kosztowało euro przed koronawirusem, ile dzisiaj to giełda polska najbardziej traci ze wszystkich   \n",
              "\n",
              "                     Time  \\\n",
              "219.0 2022-12-30 21:25:00   \n",
              "43.0  2022-12-30 20:48:00   \n",
              "\n",
              "                                                conclusion_lemmatized  \\\n",
              "219.0  powinien być porozmawiać emeryte osoba chwila DPS zostawić sam   \n",
              "43.0                              popatrzć kosztować euro koronawirus   \n",
              "\n",
              "                premise_lemmatized  \\\n",
              "219.0     DPS'e ognisko zachorować   \n",
              "43.0   giełda Polska bardzo tracić   \n",
              "\n",
              "                                                                      full_argument_lemmatized  \\\n",
              "219.0  powinien być porozmawiać emeryte osoba chwila DPS zostawić sam DPS'e ognisko zachorować   \n",
              "43.0                           popatrzć kosztować euro koronawirus giełda Polska bardzo tracić   \n",
              "\n",
              "      conclusion_valence_words premise_valence_words  \\\n",
              "219.0               chwila sam                         \n",
              "43.0                                   Polska tracić   \n",
              "\n",
              "      full_argument_valence_words  conclusion_valence_score  \\\n",
              "219.0                  chwila sam                  0.222222   \n",
              "43.0                Polska tracić                       NaN   \n",
              "\n",
              "       conclusion_valence_positive_count  conclusion_valence_negative_count  \\\n",
              "219.0                                1.0                                1.0   \n",
              "43.0                                 NaN                                NaN   \n",
              "\n",
              "       conclusion_joy  conclusion_anger  conclusion_sadness  conclusion_fear  \\\n",
              "219.0             0.7               0.0                 0.0              0.0   \n",
              "43.0              NaN               NaN                 NaN              NaN   \n",
              "\n",
              "       conclusion_disgust  conclusion_valence  conclusion_arousal  \\\n",
              "219.0                 0.0               0.843               0.685   \n",
              "43.0                  NaN                 NaN                 NaN   \n",
              "\n",
              "      conclusion_emotion_categories  conclusion_CATEGORY_HAP  \\\n",
              "219.0                    [HAP, nan]                        1   \n",
              "43.0                             []                        0   \n",
              "\n",
              "       conclusion_CATEGORY_FEA  conclusion_CATEGORY_SAD  \\\n",
              "219.0                        0                        0   \n",
              "43.0                         0                        0   \n",
              "\n",
              "       conclusion_CATEGORY_ANG  conclusion_CATEGORY_DIS  \\\n",
              "219.0                        0                        0   \n",
              "43.0                         0                        0   \n",
              "\n",
              "       premise_valence_score  premise_valence_positive_count  \\\n",
              "219.0                    NaN                             NaN   \n",
              "43.0                     0.5                             1.0   \n",
              "\n",
              "       premise_valence_negative_count  premise_joy  premise_anger  \\\n",
              "219.0                             NaN          NaN            NaN   \n",
              "43.0                              1.0          0.0            0.0   \n",
              "\n",
              "       premise_sadness  premise_fear  premise_disgust  premise_valence  \\\n",
              "219.0              NaN           NaN              NaN              NaN   \n",
              "43.0               0.0         0.831              0.0            0.118   \n",
              "\n",
              "       premise_arousal premise_emotion_categories  premise_CATEGORY_ANG  \\\n",
              "219.0              NaN                         []                     0   \n",
              "43.0             0.585                 [nan, nan]                     0   \n",
              "\n",
              "       premise_CATEGORY_HAP  premise_CATEGORY_FEA  premise_CATEGORY_SAD  \\\n",
              "219.0                     0                     0                     0   \n",
              "43.0                      0                     0                     0   \n",
              "\n",
              "       premise_CATEGORY_DIS  full_argument_valence_score  \\\n",
              "219.0                     0                     0.166667   \n",
              "43.0                      0                     0.250000   \n",
              "\n",
              "       full_argument_valence_positive_count  \\\n",
              "219.0                                   1.0   \n",
              "43.0                                    1.0   \n",
              "\n",
              "       full_argument_valence_negative_count  full_argument_joy  \\\n",
              "219.0                                   1.0                0.7   \n",
              "43.0                                    1.0                0.0   \n",
              "\n",
              "       full_argument_anger  full_argument_sadness  full_argument_fear  \\\n",
              "219.0                  0.0                    0.0               0.000   \n",
              "43.0                   0.0                    0.0               0.831   \n",
              "\n",
              "       full_argument_disgust  full_argument_valence  full_argument_arousal  \\\n",
              "219.0                    0.0                  0.843                  0.685   \n",
              "43.0                     0.0                  0.118                  0.585   \n",
              "\n",
              "      full_argument_emotion_categories  full_argument_CATEGORY_HAP  \\\n",
              "219.0                       [HAP, nan]                           1   \n",
              "43.0                        [nan, nan]                           0   \n",
              "\n",
              "       full_argument_CATEGORY_ANG  full_argument_CATEGORY_FEA  \\\n",
              "219.0                           0                           0   \n",
              "43.0                            0                           0   \n",
              "\n",
              "       full_argument_CATEGORY_SAD  full_argument_CATEGORY_DIS  \n",
              "219.0                           0                           0  \n",
              "43.0                            0                           0  "
            ],
            "text/html": [
              "\n",
              "  <div id=\"df-3f021178-0e4d-4c3d-b455-fea89299b054\">\n",
              "    <div class=\"colab-df-container\">\n",
              "      <div>\n",
              "<style scoped>\n",
              "    .dataframe tbody tr th:only-of-type {\n",
              "        vertical-align: middle;\n",
              "    }\n",
              "\n",
              "    .dataframe tbody tr th {\n",
              "        vertical-align: top;\n",
              "    }\n",
              "\n",
              "    .dataframe thead th {\n",
              "        text-align: right;\n",
              "    }\n",
              "</style>\n",
              "<table border=\"1\" class=\"dataframe\">\n",
              "  <thead>\n",
              "    <tr style=\"text-align: right;\">\n",
              "      <th></th>\n",
              "      <th>conclusion</th>\n",
              "      <th>premise</th>\n",
              "      <th>speaker</th>\n",
              "      <th>text</th>\n",
              "      <th>text_L</th>\n",
              "      <th>question</th>\n",
              "      <th>question number</th>\n",
              "      <th>start</th>\n",
              "      <th>end</th>\n",
              "      <th>full_argument</th>\n",
              "      <th>Time</th>\n",
              "      <th>conclusion_lemmatized</th>\n",
              "      <th>premise_lemmatized</th>\n",
              "      <th>full_argument_lemmatized</th>\n",
              "      <th>conclusion_valence_words</th>\n",
              "      <th>premise_valence_words</th>\n",
              "      <th>full_argument_valence_words</th>\n",
              "      <th>conclusion_valence_score</th>\n",
              "      <th>conclusion_valence_positive_count</th>\n",
              "      <th>conclusion_valence_negative_count</th>\n",
              "      <th>conclusion_joy</th>\n",
              "      <th>conclusion_anger</th>\n",
              "      <th>conclusion_sadness</th>\n",
              "      <th>conclusion_fear</th>\n",
              "      <th>conclusion_disgust</th>\n",
              "      <th>conclusion_valence</th>\n",
              "      <th>conclusion_arousal</th>\n",
              "      <th>conclusion_emotion_categories</th>\n",
              "      <th>conclusion_CATEGORY_HAP</th>\n",
              "      <th>conclusion_CATEGORY_FEA</th>\n",
              "      <th>conclusion_CATEGORY_SAD</th>\n",
              "      <th>conclusion_CATEGORY_ANG</th>\n",
              "      <th>conclusion_CATEGORY_DIS</th>\n",
              "      <th>premise_valence_score</th>\n",
              "      <th>premise_valence_positive_count</th>\n",
              "      <th>premise_valence_negative_count</th>\n",
              "      <th>premise_joy</th>\n",
              "      <th>premise_anger</th>\n",
              "      <th>premise_sadness</th>\n",
              "      <th>premise_fear</th>\n",
              "      <th>premise_disgust</th>\n",
              "      <th>premise_valence</th>\n",
              "      <th>premise_arousal</th>\n",
              "      <th>premise_emotion_categories</th>\n",
              "      <th>premise_CATEGORY_ANG</th>\n",
              "      <th>premise_CATEGORY_HAP</th>\n",
              "      <th>premise_CATEGORY_FEA</th>\n",
              "      <th>premise_CATEGORY_SAD</th>\n",
              "      <th>premise_CATEGORY_DIS</th>\n",
              "      <th>full_argument_valence_score</th>\n",
              "      <th>full_argument_valence_positive_count</th>\n",
              "      <th>full_argument_valence_negative_count</th>\n",
              "      <th>full_argument_joy</th>\n",
              "      <th>full_argument_anger</th>\n",
              "      <th>full_argument_sadness</th>\n",
              "      <th>full_argument_fear</th>\n",
              "      <th>full_argument_disgust</th>\n",
              "      <th>full_argument_valence</th>\n",
              "      <th>full_argument_arousal</th>\n",
              "      <th>full_argument_emotion_categories</th>\n",
              "      <th>full_argument_CATEGORY_HAP</th>\n",
              "      <th>full_argument_CATEGORY_ANG</th>\n",
              "      <th>full_argument_CATEGORY_FEA</th>\n",
              "      <th>full_argument_CATEGORY_SAD</th>\n",
              "      <th>full_argument_CATEGORY_DIS</th>\n",
              "    </tr>\n",
              "  </thead>\n",
              "  <tbody>\n",
              "    <tr>\n",
              "      <th>219.0</th>\n",
              "      <td>my powinniśmy porozmawiać właśnie o emerytach, o osobach, które są w tej chwili w DPS-ach i są zostawione same sobie</td>\n",
              "      <td>w DPS'ach są ogniska zachorowań</td>\n",
              "      <td>Małgorzata Kidawa-Błońska</td>\n",
              "      <td>Jedna minuta, to za mało, żeby powiedzieć o polityce społecznej, jeżeli chcemy na ten temat na poważnie rozmawiać. Mówi pan o ustawach, które w najbliższym ...</td>\n",
              "      <td>Małgorzata Kidawa-Błońska : tam są ogniska zachorowań</td>\n",
              "      <td>Czy jeśli pan lub pani zostanie prezydentem i na biurko państwa trafi ustawa podwyższająca wiek emerytalny oraz druga, wprowadzająca małżeństwa homoseksualn...</td>\n",
              "      <td>5.0</td>\n",
              "      <td>21:25:00</td>\n",
              "      <td>21:27:00</td>\n",
              "      <td>my powinniśmy porozmawiać właśnie o emerytach, o osobach, które są w tej chwili w DPS-ach i są zostawione same sobie w DPS'ach są ogniska zachorowań</td>\n",
              "      <td>2022-12-30 21:25:00</td>\n",
              "      <td>powinien być porozmawiać emeryte osoba chwila DPS zostawić sam</td>\n",
              "      <td>DPS'e ognisko zachorować</td>\n",
              "      <td>powinien być porozmawiać emeryte osoba chwila DPS zostawić sam DPS'e ognisko zachorować</td>\n",
              "      <td>chwila sam</td>\n",
              "      <td></td>\n",
              "      <td>chwila sam</td>\n",
              "      <td>0.222222</td>\n",
              "      <td>1.0</td>\n",
              "      <td>1.0</td>\n",
              "      <td>0.7</td>\n",
              "      <td>0.0</td>\n",
              "      <td>0.0</td>\n",
              "      <td>0.0</td>\n",
              "      <td>0.0</td>\n",
              "      <td>0.843</td>\n",
              "      <td>0.685</td>\n",
              "      <td>[HAP, nan]</td>\n",
              "      <td>1</td>\n",
              "      <td>0</td>\n",
              "      <td>0</td>\n",
              "      <td>0</td>\n",
              "      <td>0</td>\n",
              "      <td>NaN</td>\n",
              "      <td>NaN</td>\n",
              "      <td>NaN</td>\n",
              "      <td>NaN</td>\n",
              "      <td>NaN</td>\n",
              "      <td>NaN</td>\n",
              "      <td>NaN</td>\n",
              "      <td>NaN</td>\n",
              "      <td>NaN</td>\n",
              "      <td>NaN</td>\n",
              "      <td>[]</td>\n",
              "      <td>0</td>\n",
              "      <td>0</td>\n",
              "      <td>0</td>\n",
              "      <td>0</td>\n",
              "      <td>0</td>\n",
              "      <td>0.166667</td>\n",
              "      <td>1.0</td>\n",
              "      <td>1.0</td>\n",
              "      <td>0.7</td>\n",
              "      <td>0.0</td>\n",
              "      <td>0.0</td>\n",
              "      <td>0.000</td>\n",
              "      <td>0.0</td>\n",
              "      <td>0.843</td>\n",
              "      <td>0.685</td>\n",
              "      <td>[HAP, nan]</td>\n",
              "      <td>1</td>\n",
              "      <td>0</td>\n",
              "      <td>0</td>\n",
              "      <td>0</td>\n",
              "      <td>0</td>\n",
              "    </tr>\n",
              "    <tr>\n",
              "      <th>43.0</th>\n",
              "      <td>popatrzmy ile kosztowało euro przed koronawirusem, ile dzisiaj</td>\n",
              "      <td>to giełda polska najbardziej traci ze wszystkich</td>\n",
              "      <td>Stanisław Żółtek</td>\n",
              "      <td>Właśnie, utrzymanie aparatu skarbu. Oprócz... Całe lata tak było, że rozbudowany był aparat skarbowy, urzędnicy w kancelarii, w sejmie, w innych ministerstw...</td>\n",
              "      <td>Stanisław Żółtek : Popatrzmy ile kosztowało euro przed koronawirusem, ile dzisiaj</td>\n",
              "      <td>Jak wrócić do wysokiego tempa rozwoju z ostatnich lat? Czy to jest realne i w jakiej perspektywie czasowej?</td>\n",
              "      <td>2.0</td>\n",
              "      <td>20:48:00</td>\n",
              "      <td>20:49:00</td>\n",
              "      <td>popatrzmy ile kosztowało euro przed koronawirusem, ile dzisiaj to giełda polska najbardziej traci ze wszystkich</td>\n",
              "      <td>2022-12-30 20:48:00</td>\n",
              "      <td>popatrzć kosztować euro koronawirus</td>\n",
              "      <td>giełda Polska bardzo tracić</td>\n",
              "      <td>popatrzć kosztować euro koronawirus giełda Polska bardzo tracić</td>\n",
              "      <td></td>\n",
              "      <td>Polska tracić</td>\n",
              "      <td>Polska tracić</td>\n",
              "      <td>NaN</td>\n",
              "      <td>NaN</td>\n",
              "      <td>NaN</td>\n",
              "      <td>NaN</td>\n",
              "      <td>NaN</td>\n",
              "      <td>NaN</td>\n",
              "      <td>NaN</td>\n",
              "      <td>NaN</td>\n",
              "      <td>NaN</td>\n",
              "      <td>NaN</td>\n",
              "      <td>[]</td>\n",
              "      <td>0</td>\n",
              "      <td>0</td>\n",
              "      <td>0</td>\n",
              "      <td>0</td>\n",
              "      <td>0</td>\n",
              "      <td>0.5</td>\n",
              "      <td>1.0</td>\n",
              "      <td>1.0</td>\n",
              "      <td>0.0</td>\n",
              "      <td>0.0</td>\n",
              "      <td>0.0</td>\n",
              "      <td>0.831</td>\n",
              "      <td>0.0</td>\n",
              "      <td>0.118</td>\n",
              "      <td>0.585</td>\n",
              "      <td>[nan, nan]</td>\n",
              "      <td>0</td>\n",
              "      <td>0</td>\n",
              "      <td>0</td>\n",
              "      <td>0</td>\n",
              "      <td>0</td>\n",
              "      <td>0.250000</td>\n",
              "      <td>1.0</td>\n",
              "      <td>1.0</td>\n",
              "      <td>0.0</td>\n",
              "      <td>0.0</td>\n",
              "      <td>0.0</td>\n",
              "      <td>0.831</td>\n",
              "      <td>0.0</td>\n",
              "      <td>0.118</td>\n",
              "      <td>0.585</td>\n",
              "      <td>[nan, nan]</td>\n",
              "      <td>0</td>\n",
              "      <td>0</td>\n",
              "      <td>0</td>\n",
              "      <td>0</td>\n",
              "      <td>0</td>\n",
              "    </tr>\n",
              "  </tbody>\n",
              "</table>\n",
              "</div>\n",
              "      <button class=\"colab-df-convert\" onclick=\"convertToInteractive('df-3f021178-0e4d-4c3d-b455-fea89299b054')\"\n",
              "              title=\"Convert this dataframe to an interactive table.\"\n",
              "              style=\"display:none;\">\n",
              "        \n",
              "  <svg xmlns=\"http://www.w3.org/2000/svg\" height=\"24px\"viewBox=\"0 0 24 24\"\n",
              "       width=\"24px\">\n",
              "    <path d=\"M0 0h24v24H0V0z\" fill=\"none\"/>\n",
              "    <path d=\"M18.56 5.44l.94 2.06.94-2.06 2.06-.94-2.06-.94-.94-2.06-.94 2.06-2.06.94zm-11 1L8.5 8.5l.94-2.06 2.06-.94-2.06-.94L8.5 2.5l-.94 2.06-2.06.94zm10 10l.94 2.06.94-2.06 2.06-.94-2.06-.94-.94-2.06-.94 2.06-2.06.94z\"/><path d=\"M17.41 7.96l-1.37-1.37c-.4-.4-.92-.59-1.43-.59-.52 0-1.04.2-1.43.59L10.3 9.45l-7.72 7.72c-.78.78-.78 2.05 0 2.83L4 21.41c.39.39.9.59 1.41.59.51 0 1.02-.2 1.41-.59l7.78-7.78 2.81-2.81c.8-.78.8-2.07 0-2.86zM5.41 20L4 18.59l7.72-7.72 1.47 1.35L5.41 20z\"/>\n",
              "  </svg>\n",
              "      </button>\n",
              "      \n",
              "  <style>\n",
              "    .colab-df-container {\n",
              "      display:flex;\n",
              "      flex-wrap:wrap;\n",
              "      gap: 12px;\n",
              "    }\n",
              "\n",
              "    .colab-df-convert {\n",
              "      background-color: #E8F0FE;\n",
              "      border: none;\n",
              "      border-radius: 50%;\n",
              "      cursor: pointer;\n",
              "      display: none;\n",
              "      fill: #1967D2;\n",
              "      height: 32px;\n",
              "      padding: 0 0 0 0;\n",
              "      width: 32px;\n",
              "    }\n",
              "\n",
              "    .colab-df-convert:hover {\n",
              "      background-color: #E2EBFA;\n",
              "      box-shadow: 0px 1px 2px rgba(60, 64, 67, 0.3), 0px 1px 3px 1px rgba(60, 64, 67, 0.15);\n",
              "      fill: #174EA6;\n",
              "    }\n",
              "\n",
              "    [theme=dark] .colab-df-convert {\n",
              "      background-color: #3B4455;\n",
              "      fill: #D2E3FC;\n",
              "    }\n",
              "\n",
              "    [theme=dark] .colab-df-convert:hover {\n",
              "      background-color: #434B5C;\n",
              "      box-shadow: 0px 1px 3px 1px rgba(0, 0, 0, 0.15);\n",
              "      filter: drop-shadow(0px 1px 2px rgba(0, 0, 0, 0.3));\n",
              "      fill: #FFFFFF;\n",
              "    }\n",
              "  </style>\n",
              "\n",
              "      <script>\n",
              "        const buttonEl =\n",
              "          document.querySelector('#df-3f021178-0e4d-4c3d-b455-fea89299b054 button.colab-df-convert');\n",
              "        buttonEl.style.display =\n",
              "          google.colab.kernel.accessAllowed ? 'block' : 'none';\n",
              "\n",
              "        async function convertToInteractive(key) {\n",
              "          const element = document.querySelector('#df-3f021178-0e4d-4c3d-b455-fea89299b054');\n",
              "          const dataTable =\n",
              "            await google.colab.kernel.invokeFunction('convertToInteractive',\n",
              "                                                     [key], {});\n",
              "          if (!dataTable) return;\n",
              "\n",
              "          const docLinkHtml = 'Like what you see? Visit the ' +\n",
              "            '<a target=\"_blank\" href=https://colab.research.google.com/notebooks/data_table.ipynb>data table notebook</a>'\n",
              "            + ' to learn more about interactive tables.';\n",
              "          element.innerHTML = '';\n",
              "          dataTable['output_type'] = 'display_data';\n",
              "          await google.colab.output.renderOutput(dataTable, element);\n",
              "          const docLink = document.createElement('div');\n",
              "          docLink.innerHTML = docLinkHtml;\n",
              "          element.appendChild(docLink);\n",
              "        }\n",
              "      </script>\n",
              "    </div>\n",
              "  </div>\n",
              "  "
            ]
          },
          "metadata": {},
          "execution_count": 62
        }
      ]
    },
    {
      "cell_type": "markdown",
      "source": [
        "##social media"
      ],
      "metadata": {
        "id": "dlMV796yn66U"
      }
    },
    {
      "cell_type": "code",
      "source": [
        "# tweet_Czerwiec_expressed_sentiment\n",
        "# tweet_May_expressed_sentiment\n",
        "\n",
        "social_media = load_data(\"/content/tweet_May_expressed_sentiment.xlsx\")\n",
        "social_media.sort_values(by = 'Data', inplace=True)\n",
        "social_media[\"Time\"] = social_media[\"Data\"].dt.time.apply(str)\n",
        "social_media.shape"
      ],
      "metadata": {
        "id": "_i-XZcoUn66V"
      },
      "execution_count": null,
      "outputs": []
    },
    {
      "cell_type": "code",
      "source": [
        "social_media = clean_text(social_media, 'Tekst')\n",
        "social_media.sample(3)"
      ],
      "metadata": {
        "id": "T2AlMZiLn66W"
      },
      "execution_count": null,
      "outputs": []
    },
    {
      "cell_type": "markdown",
      "source": [
        "###emotion detection - off-the-shelf BERT"
      ],
      "metadata": {
        "id": "YByh1c5an66W"
      }
    },
    {
      "cell_type": "markdown",
      "source": [
        "**chage to GPU**"
      ],
      "metadata": {
        "id": "sTSqu-Bvn66W"
      }
    },
    {
      "cell_type": "code",
      "source": [
        "!pip install transformers[sentencepiece]"
      ],
      "metadata": {
        "id": "wfxbAZKpn66W"
      },
      "execution_count": null,
      "outputs": []
    },
    {
      "cell_type": "code",
      "source": [
        "from transformers import pipeline"
      ],
      "metadata": {
        "id": "KZi3L5m2n66X"
      },
      "execution_count": null,
      "outputs": []
    },
    {
      "cell_type": "code",
      "source": [
        "model_path = \"eevvgg/PaReS-sentimenTw-political-PL\"\n",
        "\n",
        "sentiment_task = pipeline(task = \"text-classification\", model = model_path, tokenizer = model_path) #, device = 0"
      ],
      "metadata": {
        "id": "aOryWa7kn66X"
      },
      "execution_count": null,
      "outputs": []
    },
    {
      "cell_type": "code",
      "source": [
        "sequence = social_media.sample(3)['clean_Tekst'].tolist()\n",
        "sequence"
      ],
      "metadata": {
        "id": "xJP9t0fLn66X"
      },
      "execution_count": null,
      "outputs": []
    },
    {
      "cell_type": "code",
      "source": [
        "result = sentiment_task(sequence)\n",
        "result"
      ],
      "metadata": {
        "colab": {
          "base_uri": "https://localhost:8080/"
        },
        "outputId": "5bc18130-1261-4bce-8d23-045b90278532",
        "id": "MZJ0oioCn66Y"
      },
      "execution_count": null,
      "outputs": [
        {
          "output_type": "execute_result",
          "data": {
            "text/plain": [
              "[{'label': 'Negative', 'score': 0.9998693466186523},\n",
              " {'label': 'Negative', 'score': 0.9997542500495911},\n",
              " {'label': 'Negative', 'score': 0.9995895028114319}]"
            ]
          },
          "metadata": {},
          "execution_count": 32
        }
      ]
    },
    {
      "cell_type": "code",
      "source": [
        "labels = [i['label'] for i in result]\n",
        "labels"
      ],
      "metadata": {
        "colab": {
          "base_uri": "https://localhost:8080/"
        },
        "outputId": "1cb6c871-3dc6-4709-f67f-37a2153aa540",
        "id": "r1VBzKfsn66Y"
      },
      "execution_count": null,
      "outputs": [
        {
          "output_type": "execute_result",
          "data": {
            "text/plain": [
              "['Negative', 'Negative', 'Negative']"
            ]
          },
          "metadata": {},
          "execution_count": 33
        }
      ]
    },
    {
      "cell_type": "markdown",
      "source": [
        "###emotion detection - dataset"
      ],
      "metadata": {
        "id": "_tbs4M7cn66Z"
      }
    },
    {
      "cell_type": "markdown",
      "source": [
        "**chage to GPU**"
      ],
      "metadata": {
        "id": "QF7rhPkLn66a"
      }
    },
    {
      "cell_type": "code",
      "source": [
        "!pip install datasets --quiet"
      ],
      "metadata": {
        "colab": {
          "base_uri": "https://localhost:8080/"
        },
        "outputId": "cd7cc678-fa45-4c2d-b808-20a9ce1cc84a",
        "id": "G1TQqdh0n66a"
      },
      "execution_count": null,
      "outputs": [
        {
          "output_type": "stream",
          "name": "stdout",
          "text": [
            "\u001b[K     |████████████████████████████████| 452 kB 6.5 MB/s \n",
            "\u001b[K     |████████████████████████████████| 132 kB 71.6 MB/s \n",
            "\u001b[K     |████████████████████████████████| 213 kB 63.9 MB/s \n",
            "\u001b[K     |████████████████████████████████| 127 kB 68.0 MB/s \n",
            "\u001b[?25h"
          ]
        }
      ]
    },
    {
      "cell_type": "markdown",
      "source": [
        "####emotion (aka CARER) dataset"
      ],
      "metadata": {
        "id": "1m4tpyDnn66a"
      }
    },
    {
      "cell_type": "code",
      "source": [
        "from datasets import list_datasets, load_dataset\n",
        "# CARER dataset from: https://github.com/dair-ai/emotion_dataset\n",
        "# paper: https://aclanthology.org/D18-1404/\n",
        "\n",
        "dataset = load_dataset('SetFit/emotion', split='train+test+validation')"
      ],
      "metadata": {
        "colab": {
          "base_uri": "https://localhost:8080/",
          "height": 313,
          "referenced_widgets": [
            "0901d9a0a997400bbb2cd1085fd7f83b",
            "9fac95f534cc41798b47bcbacae8bda4",
            "13e9646275344769b1f82b065ebdf120",
            "06c1864eabae4df3b33af1fcf5de9978",
            "b9aa525071c24f7a9b9eec477d550ade",
            "f03ef663fdee45fe9116bbb3e470123c",
            "eaa358f86ff64ecbbc68496baa0ffbac",
            "54f806812e594c62ab8c3fdb83c971fa",
            "6b8aa5ef2a8d45d2b2887d69a49250a2",
            "6e8fc8b355b2400eb8b3398b21f15e5a",
            "1bfb9d874ab7426fa7c3efe33bd05bce",
            "b5fbc4d04f7a4e8ab042faa0e056445d",
            "777aa8692ff148848b0e0afa3bf34cfe",
            "38cc07326aa44df4b1293144f3282247",
            "9b6e2585940a455ca8910617818a4b91",
            "c2a6031d46e346afa9914bada3433cea",
            "4ca29011a4ac4e77a69b288969e20cf0",
            "86cdb7eb6a7e4d88aa21c3dd1dc464c4",
            "9dd7c1e8fa5542aeb1d51c773c9ce5b6",
            "a2b359628cca49a680f77da851387b80",
            "3bc7d0acf86145bebe9295b9564c2ec7",
            "dd44323021fa4cd384aebc7e648501a4",
            "a4c5bb642d664536a936a1576ecee56a",
            "67bde9d4f47a49b9a38b90f14e8a0fc8",
            "0163a77473344e21aa4290b79f91d57d",
            "f3bfd7d8e6234e729e1476db42b03f1b",
            "6858331777344bd9ba22b36f04ae4273",
            "e7d7bf6bf77e4b6f88d9c767bbd05bef",
            "6c2cf6b92c80435bb1f06656074f368a",
            "2efbe0af9f9c459e9e1a48c04ab084c4",
            "14a0fa0e3d074fd0bfc3b807a6cccacc",
            "3749fd610f0f4be38726a3f0f0425925",
            "33748a0b7deb48d29c5e5f0a7c0c527b",
            "35258c47ea6a4e0cad26e64828e0b1be",
            "48e388d3258f4d9b955b09158a287af7",
            "0623b29e9f334544aed4ea26a32ed774",
            "8d060e7e80f449d99035ad329c51de13",
            "17ab58900ea8496a8e6621a4ce14d0c9",
            "7e168d5f4a194452b771fcb06273f769",
            "cb423f23d81d43068fe64f2fa01fbafe",
            "09b21c8fce17426696df608f35a38d4d",
            "06262252bc5248c595c528284d1bf01c",
            "8d2a3d4c53cb483196e5bf202f558775",
            "e38412019aa046aaa553b03008462227",
            "7c9e24fb8f1046d690118e7e69eb0e3f",
            "f5dc53f176c9464cb1fce4f0f13c6302",
            "608c72ea1c134000aed90f836630d285",
            "93334139f9694211beb4a6e0cf84528c",
            "c30b15afe45f4ece809ff6f17a1066eb",
            "9e4243675a9f45af916d55f55e70c2c1",
            "8bce4fe6bc284631b6254f0e19a9e5a3",
            "2d5bf03dae7b4c43b244c90ec5f0e8c7",
            "8925b344575d46e1824451618c412844",
            "997bcc55e4be41d4a4a841f80f52f265",
            "fe5e760c5aa34ca0be2578d9f2355347",
            "7995b6b84de74350b11032921f459dd5",
            "0b17d99f557c4279916ac8cd6c6dda11",
            "39e8ff42e58e4999a9ac08cd775c3db2",
            "6e7d0fc1ea86465c994974e6369c1fb0",
            "5e34171a40354afbaaf5c861ec859190",
            "bc7f87bd9710404ab062bc6db000799f",
            "a5e90d5324c7428ca249adb4c76fabf9",
            "9138895001684c82bcf7dd14f45c8aed",
            "b6b787b0b3b14a5e9dc8a0f21130cceb",
            "0f579dccd05042a9859f9fa33148be22",
            "aca0efc8139547ef888c5b50a0d7762d",
            "bd41989c93d445a380210d9fc0ff161e",
            "99afbd0434414e05bb6828731aadd295",
            "f568ffd33c2f49c7bc425b175a2d19ad",
            "b59070b088134177a5e889ac5b952b5c",
            "db927491f80949bcb37360bc776278c4",
            "739d513c4db646d09fc8277e1203304d",
            "7e711ac37fc441cc83e1a2eac2ec0135",
            "37453139a27e4f37b2aaf29d368c29c9",
            "c6f80740ebd34ec4abacc7e2613fd3bf",
            "dfcfa1835dad4b8787a8a031ca61c473",
            "0de3e6122a694b3d8ea51a7ce73e5be4",
            "ffe2a78626b24ec2895bd30bbc66970c",
            "30b2014755e14837a5f3d39fcc41f14a",
            "b40f0e9a51174a25b9ec3813e9fd733b",
            "dac6395a0ac14a0c9e88099019b36591",
            "fcf71d56e1a64343b1ba10e1f7c20717",
            "54e95d427815458cbefa05f4bf5352ab",
            "f7b00f85ee6641d19086304bb555de24",
            "46137731b7174f2eb2323ddcf33260c6",
            "4ca5769f16674b55bdf38f44359b78a3",
            "a846def0776342b78b2241b4f8d936df",
            "5f5ecaddaf9142c788f33a7a67b76836",
            "b34a69862b24443e80c119bb42e023ab",
            "407ef7aad98c4d5786aebaac5d05ba4e",
            "dbcf93b2711c4541b0aa07587959e71f",
            "e99ff830e64a46c58635310210a84a2b",
            "6c1253268e614fecb628bede108d4f11",
            "a6378d092872445ca0d76b3f6121a8b8",
            "e7c1ea41d81147db804482a8efd45bdb",
            "5b8c672609de4c189e200e9b2cfd2252",
            "21663454a5334b4ea34d57d4a597b9bc",
            "838d400ade49473897d609ff0064b49a",
            "7fc85832d3ce4f1bbe47d573b6636294"
          ]
        },
        "outputId": "f605be6a-60c3-4de0-b79f-d8981c6d8f75",
        "id": "u3ZBY9snn66a"
      },
      "execution_count": null,
      "outputs": [
        {
          "output_type": "display_data",
          "data": {
            "text/plain": [
              "Downloading readme:   0%|          | 0.00/194 [00:00<?, ?B/s]"
            ],
            "application/vnd.jupyter.widget-view+json": {
              "version_major": 2,
              "version_minor": 0,
              "model_id": "0901d9a0a997400bbb2cd1085fd7f83b"
            }
          },
          "metadata": {}
        },
        {
          "output_type": "stream",
          "name": "stderr",
          "text": [
            "WARNING:datasets.builder:Using custom data configuration SetFit--emotion-e444b7640ce3116e\n"
          ]
        },
        {
          "output_type": "stream",
          "name": "stdout",
          "text": [
            "Downloading and preparing dataset json/SetFit--emotion to /root/.cache/huggingface/datasets/SetFit___json/SetFit--emotion-e444b7640ce3116e/0.0.0/0f7e3662623656454fcd2b650f34e886a7db4b9104504885bd462096cc7a9f51...\n"
          ]
        },
        {
          "output_type": "display_data",
          "data": {
            "text/plain": [
              "Downloading data files:   0%|          | 0/3 [00:00<?, ?it/s]"
            ],
            "application/vnd.jupyter.widget-view+json": {
              "version_major": 2,
              "version_minor": 0,
              "model_id": "b5fbc4d04f7a4e8ab042faa0e056445d"
            }
          },
          "metadata": {}
        },
        {
          "output_type": "display_data",
          "data": {
            "text/plain": [
              "Downloading data:   0%|          | 0.00/2.23M [00:00<?, ?B/s]"
            ],
            "application/vnd.jupyter.widget-view+json": {
              "version_major": 2,
              "version_minor": 0,
              "model_id": "a4c5bb642d664536a936a1576ecee56a"
            }
          },
          "metadata": {}
        },
        {
          "output_type": "display_data",
          "data": {
            "text/plain": [
              "Downloading data:   0%|          | 0.00/279k [00:00<?, ?B/s]"
            ],
            "application/vnd.jupyter.widget-view+json": {
              "version_major": 2,
              "version_minor": 0,
              "model_id": "35258c47ea6a4e0cad26e64828e0b1be"
            }
          },
          "metadata": {}
        },
        {
          "output_type": "display_data",
          "data": {
            "text/plain": [
              "Downloading data:   0%|          | 0.00/276k [00:00<?, ?B/s]"
            ],
            "application/vnd.jupyter.widget-view+json": {
              "version_major": 2,
              "version_minor": 0,
              "model_id": "7c9e24fb8f1046d690118e7e69eb0e3f"
            }
          },
          "metadata": {}
        },
        {
          "output_type": "display_data",
          "data": {
            "text/plain": [
              "Extracting data files:   0%|          | 0/3 [00:00<?, ?it/s]"
            ],
            "application/vnd.jupyter.widget-view+json": {
              "version_major": 2,
              "version_minor": 0,
              "model_id": "7995b6b84de74350b11032921f459dd5"
            }
          },
          "metadata": {}
        },
        {
          "output_type": "display_data",
          "data": {
            "text/plain": [
              "Generating train split: 0 examples [00:00, ? examples/s]"
            ],
            "application/vnd.jupyter.widget-view+json": {
              "version_major": 2,
              "version_minor": 0,
              "model_id": "bd41989c93d445a380210d9fc0ff161e"
            }
          },
          "metadata": {}
        },
        {
          "output_type": "display_data",
          "data": {
            "text/plain": [
              "Generating test split: 0 examples [00:00, ? examples/s]"
            ],
            "application/vnd.jupyter.widget-view+json": {
              "version_major": 2,
              "version_minor": 0,
              "model_id": "ffe2a78626b24ec2895bd30bbc66970c"
            }
          },
          "metadata": {}
        },
        {
          "output_type": "display_data",
          "data": {
            "text/plain": [
              "Generating validation split: 0 examples [00:00, ? examples/s]"
            ],
            "application/vnd.jupyter.widget-view+json": {
              "version_major": 2,
              "version_minor": 0,
              "model_id": "b34a69862b24443e80c119bb42e023ab"
            }
          },
          "metadata": {}
        },
        {
          "output_type": "stream",
          "name": "stdout",
          "text": [
            "Dataset json downloaded and prepared to /root/.cache/huggingface/datasets/SetFit___json/SetFit--emotion-e444b7640ce3116e/0.0.0/0f7e3662623656454fcd2b650f34e886a7db4b9104504885bd462096cc7a9f51. Subsequent calls will reuse this data.\n"
          ]
        }
      ]
    },
    {
      "cell_type": "code",
      "source": [
        "dataset"
      ],
      "metadata": {
        "colab": {
          "base_uri": "https://localhost:8080/"
        },
        "outputId": "16f37e0e-5f22-411b-d4ae-b58aaa94cda2",
        "id": "2eHCqXBSn66b"
      },
      "execution_count": null,
      "outputs": [
        {
          "output_type": "execute_result",
          "data": {
            "text/plain": [
              "Dataset({\n",
              "    features: ['text', 'label', 'label_text'],\n",
              "    num_rows: 20000\n",
              "})"
            ]
          },
          "metadata": {},
          "execution_count": 9
        }
      ]
    },
    {
      "cell_type": "code",
      "execution_count": null,
      "metadata": {
        "colab": {
          "base_uri": "https://localhost:8080/",
          "height": 206
        },
        "outputId": "42b094e5-b0bc-4502-9014-e45a5ea9027e",
        "id": "qyo-B88On66c"
      },
      "outputs": [
        {
          "output_type": "execute_result",
          "data": {
            "text/plain": [
              "                                                                                                           text  \\\n",
              "0                                                                                       i didnt feel humiliated   \n",
              "1  i can go from feeling so hopeless to so damned hopeful just from being around someone who cares and is awake   \n",
              "2                                                              im grabbing a minute to post i feel greedy wrong   \n",
              "3                  i am ever feeling nostalgic about the fireplace i will know that it is still on the property   \n",
              "4                                                                                          i am feeling grouchy   \n",
              "\n",
              "   label label_text  \n",
              "0      0    sadness  \n",
              "1      0    sadness  \n",
              "2      3      anger  \n",
              "3      2       love  \n",
              "4      3      anger  "
            ],
            "text/html": [
              "\n",
              "  <div id=\"df-a6994643-605e-439e-96c9-ac1c16df6e98\">\n",
              "    <div class=\"colab-df-container\">\n",
              "      <div>\n",
              "<style scoped>\n",
              "    .dataframe tbody tr th:only-of-type {\n",
              "        vertical-align: middle;\n",
              "    }\n",
              "\n",
              "    .dataframe tbody tr th {\n",
              "        vertical-align: top;\n",
              "    }\n",
              "\n",
              "    .dataframe thead th {\n",
              "        text-align: right;\n",
              "    }\n",
              "</style>\n",
              "<table border=\"1\" class=\"dataframe\">\n",
              "  <thead>\n",
              "    <tr style=\"text-align: right;\">\n",
              "      <th></th>\n",
              "      <th>text</th>\n",
              "      <th>label</th>\n",
              "      <th>label_text</th>\n",
              "    </tr>\n",
              "  </thead>\n",
              "  <tbody>\n",
              "    <tr>\n",
              "      <th>0</th>\n",
              "      <td>i didnt feel humiliated</td>\n",
              "      <td>0</td>\n",
              "      <td>sadness</td>\n",
              "    </tr>\n",
              "    <tr>\n",
              "      <th>1</th>\n",
              "      <td>i can go from feeling so hopeless to so damned hopeful just from being around someone who cares and is awake</td>\n",
              "      <td>0</td>\n",
              "      <td>sadness</td>\n",
              "    </tr>\n",
              "    <tr>\n",
              "      <th>2</th>\n",
              "      <td>im grabbing a minute to post i feel greedy wrong</td>\n",
              "      <td>3</td>\n",
              "      <td>anger</td>\n",
              "    </tr>\n",
              "    <tr>\n",
              "      <th>3</th>\n",
              "      <td>i am ever feeling nostalgic about the fireplace i will know that it is still on the property</td>\n",
              "      <td>2</td>\n",
              "      <td>love</td>\n",
              "    </tr>\n",
              "    <tr>\n",
              "      <th>4</th>\n",
              "      <td>i am feeling grouchy</td>\n",
              "      <td>3</td>\n",
              "      <td>anger</td>\n",
              "    </tr>\n",
              "  </tbody>\n",
              "</table>\n",
              "</div>\n",
              "      <button class=\"colab-df-convert\" onclick=\"convertToInteractive('df-a6994643-605e-439e-96c9-ac1c16df6e98')\"\n",
              "              title=\"Convert this dataframe to an interactive table.\"\n",
              "              style=\"display:none;\">\n",
              "        \n",
              "  <svg xmlns=\"http://www.w3.org/2000/svg\" height=\"24px\"viewBox=\"0 0 24 24\"\n",
              "       width=\"24px\">\n",
              "    <path d=\"M0 0h24v24H0V0z\" fill=\"none\"/>\n",
              "    <path d=\"M18.56 5.44l.94 2.06.94-2.06 2.06-.94-2.06-.94-.94-2.06-.94 2.06-2.06.94zm-11 1L8.5 8.5l.94-2.06 2.06-.94-2.06-.94L8.5 2.5l-.94 2.06-2.06.94zm10 10l.94 2.06.94-2.06 2.06-.94-2.06-.94-.94-2.06-.94 2.06-2.06.94z\"/><path d=\"M17.41 7.96l-1.37-1.37c-.4-.4-.92-.59-1.43-.59-.52 0-1.04.2-1.43.59L10.3 9.45l-7.72 7.72c-.78.78-.78 2.05 0 2.83L4 21.41c.39.39.9.59 1.41.59.51 0 1.02-.2 1.41-.59l7.78-7.78 2.81-2.81c.8-.78.8-2.07 0-2.86zM5.41 20L4 18.59l7.72-7.72 1.47 1.35L5.41 20z\"/>\n",
              "  </svg>\n",
              "      </button>\n",
              "      \n",
              "  <style>\n",
              "    .colab-df-container {\n",
              "      display:flex;\n",
              "      flex-wrap:wrap;\n",
              "      gap: 12px;\n",
              "    }\n",
              "\n",
              "    .colab-df-convert {\n",
              "      background-color: #E8F0FE;\n",
              "      border: none;\n",
              "      border-radius: 50%;\n",
              "      cursor: pointer;\n",
              "      display: none;\n",
              "      fill: #1967D2;\n",
              "      height: 32px;\n",
              "      padding: 0 0 0 0;\n",
              "      width: 32px;\n",
              "    }\n",
              "\n",
              "    .colab-df-convert:hover {\n",
              "      background-color: #E2EBFA;\n",
              "      box-shadow: 0px 1px 2px rgba(60, 64, 67, 0.3), 0px 1px 3px 1px rgba(60, 64, 67, 0.15);\n",
              "      fill: #174EA6;\n",
              "    }\n",
              "\n",
              "    [theme=dark] .colab-df-convert {\n",
              "      background-color: #3B4455;\n",
              "      fill: #D2E3FC;\n",
              "    }\n",
              "\n",
              "    [theme=dark] .colab-df-convert:hover {\n",
              "      background-color: #434B5C;\n",
              "      box-shadow: 0px 1px 3px 1px rgba(0, 0, 0, 0.15);\n",
              "      filter: drop-shadow(0px 1px 2px rgba(0, 0, 0, 0.3));\n",
              "      fill: #FFFFFF;\n",
              "    }\n",
              "  </style>\n",
              "\n",
              "      <script>\n",
              "        const buttonEl =\n",
              "          document.querySelector('#df-a6994643-605e-439e-96c9-ac1c16df6e98 button.colab-df-convert');\n",
              "        buttonEl.style.display =\n",
              "          google.colab.kernel.accessAllowed ? 'block' : 'none';\n",
              "\n",
              "        async function convertToInteractive(key) {\n",
              "          const element = document.querySelector('#df-a6994643-605e-439e-96c9-ac1c16df6e98');\n",
              "          const dataTable =\n",
              "            await google.colab.kernel.invokeFunction('convertToInteractive',\n",
              "                                                     [key], {});\n",
              "          if (!dataTable) return;\n",
              "\n",
              "          const docLinkHtml = 'Like what you see? Visit the ' +\n",
              "            '<a target=\"_blank\" href=https://colab.research.google.com/notebooks/data_table.ipynb>data table notebook</a>'\n",
              "            + ' to learn more about interactive tables.';\n",
              "          element.innerHTML = '';\n",
              "          dataTable['output_type'] = 'display_data';\n",
              "          await google.colab.output.renderOutput(dataTable, element);\n",
              "          const docLink = document.createElement('div');\n",
              "          docLink.innerHTML = docLinkHtml;\n",
              "          element.appendChild(docLink);\n",
              "        }\n",
              "      </script>\n",
              "    </div>\n",
              "  </div>\n",
              "  "
            ]
          },
          "metadata": {},
          "execution_count": 15
        }
      ],
      "source": [
        "map_emo = {0: 'sadness', 1: 'joy', 2: 'love', 3: 'anger', 4: 'fear', 5: 'surprise'}\n",
        "\n",
        "data_emotions = pd.DataFrame(dataset)\n",
        "\n",
        "data_emotions.head()"
      ]
    },
    {
      "cell_type": "code",
      "execution_count": null,
      "metadata": {
        "colab": {
          "base_uri": "https://localhost:8080/"
        },
        "outputId": "f6207f19-6a3d-4d86-9911-68def9018a31",
        "id": "1kImSpsWn66c"
      },
      "outputs": [
        {
          "output_type": "stream",
          "name": "stdout",
          "text": [
            "joy         6761\n",
            "sadness     5797\n",
            "anger       2709\n",
            "fear        2373\n",
            "love        1641\n",
            "surprise     719\n",
            "Name: label_text, dtype: int64\n"
          ]
        },
        {
          "output_type": "execute_result",
          "data": {
            "text/plain": [
              "(20000, 3)"
            ]
          },
          "metadata": {},
          "execution_count": 19
        }
      ],
      "source": [
        "print(data_emotions.label_text.value_counts())\n",
        "data_emotions.shape"
      ]
    },
    {
      "cell_type": "code",
      "source": [
        "data = data_emotions[data_emotions.label.isin([2, 3, 4, 5])]\n",
        "print(data.shape)\n",
        "\n",
        "for e in [0, 1]:\n",
        "  sample_d = data_emotions[data_emotions.label == e].sample(n = 4000, random_state = 3)\n",
        "  data = pd.concat([data, sample_d], axis=0)\n",
        "\n",
        "print(data.shape)"
      ],
      "metadata": {
        "colab": {
          "base_uri": "https://localhost:8080/"
        },
        "outputId": "aef023f9-d052-4982-8c90-3635223e5510",
        "id": "u8Uc3aBln66d"
      },
      "execution_count": null,
      "outputs": [
        {
          "output_type": "stream",
          "name": "stdout",
          "text": [
            "(7442, 3)\n",
            "(15442, 3)\n"
          ]
        }
      ]
    },
    {
      "cell_type": "code",
      "execution_count": null,
      "metadata": {
        "colab": {
          "base_uri": "https://localhost:8080/"
        },
        "outputId": "92a87eae-de8e-47fa-ffa5-a1c55ee79917",
        "id": "GJQr8CESn66d"
      },
      "outputs": [
        {
          "output_type": "execute_result",
          "data": {
            "text/plain": [
              "0    0.259034\n",
              "1    0.259034\n",
              "3    0.175431\n",
              "4    0.153672\n",
              "2    0.106269\n",
              "5    0.046561\n",
              "Name: label, dtype: float64"
            ]
          },
          "metadata": {},
          "execution_count": 22
        }
      ],
      "source": [
        "data.label.value_counts(normalize=True)"
      ]
    },
    {
      "cell_type": "code",
      "source": [
        "data = clean_text(data, 'text')\n",
        "data.sample(4)"
      ],
      "metadata": {
        "colab": {
          "base_uri": "https://localhost:8080/",
          "height": 288
        },
        "outputId": "0e9daf8a-8761-4a0a-857f-b38e79e83363",
        "id": "KO6EDRD8n66e"
      },
      "execution_count": null,
      "outputs": [
        {
          "output_type": "execute_result",
          "data": {
            "text/plain": [
              "                                                                                                                                                                 text  \\\n",
              "6757                               i eat biscuits crisps and ice cream all day yeah it tastes great but it makes me feel so groggy the following day take more photos   \n",
              "4400                                                            i also find that during those times when i feel victimized by his loss i dont feel him near me at all   \n",
              "4375                                                                                                          i forgot to feel sentimental about my line being pulled   \n",
              "2762  i feel that i know god is real and that he is loving if i feel that i have air tight reasons for such notions what kind of sense would it make to blame him ...   \n",
              "\n",
              "      label label_text  \\\n",
              "6757      0    sadness   \n",
              "4400      0    sadness   \n",
              "4375      0    sadness   \n",
              "2762      2       love   \n",
              "\n",
              "                                                                                                                                                           clean_text  \n",
              "6757                               i eat biscuits crisps and ice cream all day yeah it tastes great but it makes me feel so groggy the following day take more photos  \n",
              "4400                                                            i also find that during those times when i feel victimized by his loss i dont feel him near me at all  \n",
              "4375                                                                                                          i forgot to feel sentimental about my line being pulled  \n",
              "2762  i feel that i know god is real and that he is loving if i feel that i have air tight reasons for such notions what kind of sense would it make to blame him ...  "
            ],
            "text/html": [
              "\n",
              "  <div id=\"df-8202fd0a-d0e2-4e57-8769-e9b0344b60db\">\n",
              "    <div class=\"colab-df-container\">\n",
              "      <div>\n",
              "<style scoped>\n",
              "    .dataframe tbody tr th:only-of-type {\n",
              "        vertical-align: middle;\n",
              "    }\n",
              "\n",
              "    .dataframe tbody tr th {\n",
              "        vertical-align: top;\n",
              "    }\n",
              "\n",
              "    .dataframe thead th {\n",
              "        text-align: right;\n",
              "    }\n",
              "</style>\n",
              "<table border=\"1\" class=\"dataframe\">\n",
              "  <thead>\n",
              "    <tr style=\"text-align: right;\">\n",
              "      <th></th>\n",
              "      <th>text</th>\n",
              "      <th>label</th>\n",
              "      <th>label_text</th>\n",
              "      <th>clean_text</th>\n",
              "    </tr>\n",
              "  </thead>\n",
              "  <tbody>\n",
              "    <tr>\n",
              "      <th>6757</th>\n",
              "      <td>i eat biscuits crisps and ice cream all day yeah it tastes great but it makes me feel so groggy the following day take more photos</td>\n",
              "      <td>0</td>\n",
              "      <td>sadness</td>\n",
              "      <td>i eat biscuits crisps and ice cream all day yeah it tastes great but it makes me feel so groggy the following day take more photos</td>\n",
              "    </tr>\n",
              "    <tr>\n",
              "      <th>4400</th>\n",
              "      <td>i also find that during those times when i feel victimized by his loss i dont feel him near me at all</td>\n",
              "      <td>0</td>\n",
              "      <td>sadness</td>\n",
              "      <td>i also find that during those times when i feel victimized by his loss i dont feel him near me at all</td>\n",
              "    </tr>\n",
              "    <tr>\n",
              "      <th>4375</th>\n",
              "      <td>i forgot to feel sentimental about my line being pulled</td>\n",
              "      <td>0</td>\n",
              "      <td>sadness</td>\n",
              "      <td>i forgot to feel sentimental about my line being pulled</td>\n",
              "    </tr>\n",
              "    <tr>\n",
              "      <th>2762</th>\n",
              "      <td>i feel that i know god is real and that he is loving if i feel that i have air tight reasons for such notions what kind of sense would it make to blame him ...</td>\n",
              "      <td>2</td>\n",
              "      <td>love</td>\n",
              "      <td>i feel that i know god is real and that he is loving if i feel that i have air tight reasons for such notions what kind of sense would it make to blame him ...</td>\n",
              "    </tr>\n",
              "  </tbody>\n",
              "</table>\n",
              "</div>\n",
              "      <button class=\"colab-df-convert\" onclick=\"convertToInteractive('df-8202fd0a-d0e2-4e57-8769-e9b0344b60db')\"\n",
              "              title=\"Convert this dataframe to an interactive table.\"\n",
              "              style=\"display:none;\">\n",
              "        \n",
              "  <svg xmlns=\"http://www.w3.org/2000/svg\" height=\"24px\"viewBox=\"0 0 24 24\"\n",
              "       width=\"24px\">\n",
              "    <path d=\"M0 0h24v24H0V0z\" fill=\"none\"/>\n",
              "    <path d=\"M18.56 5.44l.94 2.06.94-2.06 2.06-.94-2.06-.94-.94-2.06-.94 2.06-2.06.94zm-11 1L8.5 8.5l.94-2.06 2.06-.94-2.06-.94L8.5 2.5l-.94 2.06-2.06.94zm10 10l.94 2.06.94-2.06 2.06-.94-2.06-.94-.94-2.06-.94 2.06-2.06.94z\"/><path d=\"M17.41 7.96l-1.37-1.37c-.4-.4-.92-.59-1.43-.59-.52 0-1.04.2-1.43.59L10.3 9.45l-7.72 7.72c-.78.78-.78 2.05 0 2.83L4 21.41c.39.39.9.59 1.41.59.51 0 1.02-.2 1.41-.59l7.78-7.78 2.81-2.81c.8-.78.8-2.07 0-2.86zM5.41 20L4 18.59l7.72-7.72 1.47 1.35L5.41 20z\"/>\n",
              "  </svg>\n",
              "      </button>\n",
              "      \n",
              "  <style>\n",
              "    .colab-df-container {\n",
              "      display:flex;\n",
              "      flex-wrap:wrap;\n",
              "      gap: 12px;\n",
              "    }\n",
              "\n",
              "    .colab-df-convert {\n",
              "      background-color: #E8F0FE;\n",
              "      border: none;\n",
              "      border-radius: 50%;\n",
              "      cursor: pointer;\n",
              "      display: none;\n",
              "      fill: #1967D2;\n",
              "      height: 32px;\n",
              "      padding: 0 0 0 0;\n",
              "      width: 32px;\n",
              "    }\n",
              "\n",
              "    .colab-df-convert:hover {\n",
              "      background-color: #E2EBFA;\n",
              "      box-shadow: 0px 1px 2px rgba(60, 64, 67, 0.3), 0px 1px 3px 1px rgba(60, 64, 67, 0.15);\n",
              "      fill: #174EA6;\n",
              "    }\n",
              "\n",
              "    [theme=dark] .colab-df-convert {\n",
              "      background-color: #3B4455;\n",
              "      fill: #D2E3FC;\n",
              "    }\n",
              "\n",
              "    [theme=dark] .colab-df-convert:hover {\n",
              "      background-color: #434B5C;\n",
              "      box-shadow: 0px 1px 3px 1px rgba(0, 0, 0, 0.15);\n",
              "      filter: drop-shadow(0px 1px 2px rgba(0, 0, 0, 0.3));\n",
              "      fill: #FFFFFF;\n",
              "    }\n",
              "  </style>\n",
              "\n",
              "      <script>\n",
              "        const buttonEl =\n",
              "          document.querySelector('#df-8202fd0a-d0e2-4e57-8769-e9b0344b60db button.colab-df-convert');\n",
              "        buttonEl.style.display =\n",
              "          google.colab.kernel.accessAllowed ? 'block' : 'none';\n",
              "\n",
              "        async function convertToInteractive(key) {\n",
              "          const element = document.querySelector('#df-8202fd0a-d0e2-4e57-8769-e9b0344b60db');\n",
              "          const dataTable =\n",
              "            await google.colab.kernel.invokeFunction('convertToInteractive',\n",
              "                                                     [key], {});\n",
              "          if (!dataTable) return;\n",
              "\n",
              "          const docLinkHtml = 'Like what you see? Visit the ' +\n",
              "            '<a target=\"_blank\" href=https://colab.research.google.com/notebooks/data_table.ipynb>data table notebook</a>'\n",
              "            + ' to learn more about interactive tables.';\n",
              "          element.innerHTML = '';\n",
              "          dataTable['output_type'] = 'display_data';\n",
              "          await google.colab.output.renderOutput(dataTable, element);\n",
              "          const docLink = document.createElement('div');\n",
              "          docLink.innerHTML = docLinkHtml;\n",
              "          element.appendChild(docLink);\n",
              "        }\n",
              "      </script>\n",
              "    </div>\n",
              "  </div>\n",
              "  "
            ]
          },
          "metadata": {},
          "execution_count": 17
        }
      ]
    },
    {
      "cell_type": "code",
      "source": [
        "x = data[\"clean_text\"].apply(str).values\n",
        "y = data[\"label\"].values\n",
        "\n",
        "from keras.utils import np_utils\n",
        "dummy_y = np_utils.to_categorical(y)\n",
        "dummy_y[:3]"
      ],
      "metadata": {
        "colab": {
          "base_uri": "https://localhost:8080/"
        },
        "outputId": "fc0296b5-224e-4de3-a4f0-750722355ebd",
        "id": "K4OyyKMjn66e"
      },
      "execution_count": null,
      "outputs": [
        {
          "output_type": "execute_result",
          "data": {
            "text/plain": [
              "array([[0., 0., 0., 1., 0., 0.],\n",
              "       [0., 0., 1., 0., 0., 0.],\n",
              "       [0., 0., 0., 1., 0., 0.]], dtype=float32)"
            ]
          },
          "metadata": {},
          "execution_count": 18
        }
      ]
    },
    {
      "cell_type": "markdown",
      "source": [
        "####emotion detection - keras model"
      ],
      "metadata": {
        "id": "4iNZypImn66f"
      }
    },
    {
      "cell_type": "code",
      "source": [
        "from sklearn.dummy import DummyClassifier\n",
        "from keras import layers\n",
        "from tensorflow.keras.layers import Dense\n",
        "from tensorflow.keras import optimizers\n",
        "from keras.models import Sequential\n",
        "import tensorflow as tf\n",
        "from tensorflow import keras\n",
        "\n",
        "\n",
        "!pip install laserembeddings\n",
        "!python -m laserembeddings download-models\n",
        "\n",
        "from laserembeddings import Laser\n",
        "laser = Laser()"
      ],
      "metadata": {
        "id": "seCoa_Fwn66f"
      },
      "execution_count": null,
      "outputs": []
    },
    {
      "cell_type": "code",
      "source": [
        "x_train, x_test, y_train, y_test = train_test_split(x, dummy_y, test_size = 0.1, random_state = 3)\n",
        "x_train, x_valid, y_train, y_valid = train_test_split(x_train, y_train, test_size=0.1, random_state=3)\n",
        "\n",
        "x_train.shape, x_valid.shape, x_test.shape"
      ],
      "metadata": {
        "colab": {
          "base_uri": "https://localhost:8080/"
        },
        "outputId": "4a42dab4-dd82-46a2-c21e-960bd270feab",
        "id": "ghRCQRYin66g"
      },
      "execution_count": null,
      "outputs": [
        {
          "output_type": "execute_result",
          "data": {
            "text/plain": [
              "((12507,), (1390,), (1545,))"
            ]
          },
          "metadata": {},
          "execution_count": 17
        }
      ]
    },
    {
      "cell_type": "code",
      "execution_count": null,
      "metadata": {
        "colab": {
          "base_uri": "https://localhost:8080/"
        },
        "outputId": "3a32193a-86a9-4632-9d02-9b636878576d",
        "id": "Bhnh34QMn66g"
      },
      "outputs": [
        {
          "output_type": "stream",
          "name": "stdout",
          "text": [
            "True\n"
          ]
        }
      ],
      "source": [
        "import torch\n",
        "print(torch.cuda.is_available())"
      ]
    },
    {
      "cell_type": "code",
      "execution_count": null,
      "metadata": {
        "colab": {
          "base_uri": "https://localhost:8080/"
        },
        "outputId": "2b54695b-4cc9-4356-d724-2ee88b3baac5",
        "id": "G9TMAizvn66g"
      },
      "outputs": [
        {
          "output_type": "execute_result",
          "data": {
            "text/plain": [
              "array([[ 5.8154238e-04, -1.9985469e-04,  3.2041061e-03, ...,\n",
              "         3.2274327e-03,  2.8668996e-02,  1.0433679e-03],\n",
              "       [ 1.8432209e-02,  1.0228404e-03,  4.6914322e-03, ...,\n",
              "         1.1913144e-02,  2.5950784e-02,  1.5143417e-02],\n",
              "       [ 2.6335601e-02, -3.0122725e-05,  8.6607197e-03, ...,\n",
              "         1.2546405e-02,  2.1096127e-02,  3.4918785e-02],\n",
              "       ...,\n",
              "       [ 3.9944355e-03,  5.8416281e-05,  1.4899232e-02, ...,\n",
              "         1.8063126e-02,  1.9699549e-02,  1.9503631e-02],\n",
              "       [ 8.7653482e-03, -1.2588182e-04,  7.8058955e-03, ...,\n",
              "         4.9890704e-03,  1.5383218e-02,  1.6973648e-02],\n",
              "       [ 2.3222335e-03, -1.5191943e-03, -1.9497273e-03, ...,\n",
              "        -1.3500733e-03,  3.0739546e-02,  1.5424415e-02]], dtype=float32)"
            ]
          },
          "metadata": {},
          "execution_count": 19
        }
      ],
      "source": [
        "x_train = laser.embed_sentences(x_train, lang='en')\n",
        "x_test = laser.embed_sentences(x_test, lang='en')\n",
        "x_valid = laser.embed_sentences(x_valid, lang='en')\n",
        "x_train"
      ]
    },
    {
      "cell_type": "code",
      "execution_count": null,
      "metadata": {
        "colab": {
          "base_uri": "https://localhost:8080/"
        },
        "outputId": "96865097-bf5d-45d6-e41f-a3f409649967",
        "id": "HT-3_P6cn66h"
      },
      "outputs": [
        {
          "output_type": "execute_result",
          "data": {
            "text/plain": [
              "0.08"
            ]
          },
          "metadata": {},
          "execution_count": 20
        }
      ],
      "source": [
        "dummy_cls_frq = DummyClassifier(strategy = \"stratified\", random_state = 3)\n",
        "dummy_cls_frq.fit(x_train, y_train)\n",
        "dummy_score_frq = dummy_cls_frq.score(x_test, y_test).round(2)\n",
        "dummy_score_frq"
      ]
    },
    {
      "cell_type": "code",
      "execution_count": null,
      "metadata": {
        "id": "vJdK5rEdn66h"
      },
      "outputs": [],
      "source": [
        "stopping = tf.keras.callbacks.EarlyStopping(\n",
        "    monitor = 'val_loss', verbose = 0, patience = 3\n",
        ")"
      ]
    },
    {
      "cell_type": "code",
      "source": [
        "model10 = Sequential()\n",
        "model10.add(Dense(1024, input_shape=(x_train.shape[1],), activation='relu'))\n",
        "model10.add(Dense(512, activation='relu')) \n",
        "model10.add(Dense(256, activation='relu')) \n",
        "model10.add(Dense(128, activation='relu'))\n",
        "model10.add(layers.Dropout(0.4))\n",
        "model10.add(Dense(6, activation='softmax'))\n",
        "\n",
        "\n",
        "model10.compile(loss='categorical_crossentropy', optimizer=optimizers.Adam(learning_rate=15e-5), \n",
        "               metrics=['accuracy', tf.keras.metrics.Recall(), tf.keras.metrics.Precision()])\n",
        "\n",
        "history10 = model10.fit(x_train, y_train, epochs=30, batch_size=64, validation_data=(x_valid, y_valid), \n",
        "                      verbose=1, callbacks=[stopping])"
      ],
      "metadata": {
        "colab": {
          "base_uri": "https://localhost:8080/"
        },
        "outputId": "9d1e45f1-a3ec-41f5-ca8a-8b33d0bfa781",
        "id": "bWnoHOQCn66i"
      },
      "execution_count": null,
      "outputs": [
        {
          "output_type": "stream",
          "name": "stdout",
          "text": [
            "Epoch 1/30\n",
            "196/196 [==============================] - 2s 7ms/step - loss: 1.6351 - accuracy: 0.3247 - recall: 0.0151 - precision: 0.6702 - val_loss: 1.4535 - val_accuracy: 0.4094 - val_recall: 0.0475 - val_precision: 0.8250\n",
            "Epoch 2/30\n",
            "196/196 [==============================] - 1s 5ms/step - loss: 1.3389 - accuracy: 0.4641 - recall: 0.1864 - precision: 0.6670 - val_loss: 1.2084 - val_accuracy: 0.5446 - val_recall: 0.2331 - val_precision: 0.7552\n",
            "Epoch 3/30\n",
            "196/196 [==============================] - 1s 5ms/step - loss: 1.1509 - accuracy: 0.5572 - recall: 0.3398 - precision: 0.6990 - val_loss: 1.0308 - val_accuracy: 0.6216 - val_recall: 0.4216 - val_precision: 0.7552\n",
            "Epoch 4/30\n",
            "196/196 [==============================] - 1s 5ms/step - loss: 1.0236 - accuracy: 0.6111 - recall: 0.4511 - precision: 0.7278 - val_loss: 0.9575 - val_accuracy: 0.6432 - val_recall: 0.5151 - val_precision: 0.7344\n",
            "Epoch 5/30\n",
            "196/196 [==============================] - 1s 5ms/step - loss: 0.9432 - accuracy: 0.6468 - recall: 0.5084 - precision: 0.7424 - val_loss: 0.9185 - val_accuracy: 0.6612 - val_recall: 0.5568 - val_precision: 0.7500\n",
            "Epoch 6/30\n",
            "196/196 [==============================] - 1s 5ms/step - loss: 0.8860 - accuracy: 0.6741 - recall: 0.5589 - precision: 0.7572 - val_loss: 0.9341 - val_accuracy: 0.6504 - val_recall: 0.5525 - val_precision: 0.7485\n",
            "Epoch 7/30\n",
            "196/196 [==============================] - 1s 5ms/step - loss: 0.8411 - accuracy: 0.6871 - recall: 0.5805 - precision: 0.7660 - val_loss: 0.9025 - val_accuracy: 0.6755 - val_recall: 0.5849 - val_precision: 0.7411\n",
            "Epoch 8/30\n",
            "196/196 [==============================] - 1s 5ms/step - loss: 0.8061 - accuracy: 0.7038 - recall: 0.6033 - precision: 0.7746 - val_loss: 0.9059 - val_accuracy: 0.6655 - val_recall: 0.5590 - val_precision: 0.7443\n",
            "Epoch 9/30\n",
            "196/196 [==============================] - 1s 5ms/step - loss: 0.7559 - accuracy: 0.7218 - recall: 0.6338 - precision: 0.7934 - val_loss: 0.9013 - val_accuracy: 0.6719 - val_recall: 0.5957 - val_precision: 0.7289\n",
            "Epoch 10/30\n",
            "196/196 [==============================] - 1s 5ms/step - loss: 0.7122 - accuracy: 0.7393 - recall: 0.6603 - precision: 0.8055 - val_loss: 0.9294 - val_accuracy: 0.6712 - val_recall: 0.6165 - val_precision: 0.7238\n",
            "Epoch 11/30\n",
            "196/196 [==============================] - 1s 5ms/step - loss: 0.6609 - accuracy: 0.7587 - recall: 0.6862 - precision: 0.8187 - val_loss: 0.8913 - val_accuracy: 0.6878 - val_recall: 0.6216 - val_precision: 0.7341\n",
            "Epoch 12/30\n",
            "196/196 [==============================] - 1s 5ms/step - loss: 0.6198 - accuracy: 0.7791 - recall: 0.7106 - precision: 0.8319 - val_loss: 0.9042 - val_accuracy: 0.6827 - val_recall: 0.6367 - val_precision: 0.7406\n",
            "Epoch 13/30\n",
            "196/196 [==============================] - 1s 6ms/step - loss: 0.5568 - accuracy: 0.8024 - recall: 0.7454 - precision: 0.8506 - val_loss: 0.8956 - val_accuracy: 0.6906 - val_recall: 0.6403 - val_precision: 0.7361\n",
            "Epoch 14/30\n",
            "196/196 [==============================] - 1s 5ms/step - loss: 0.4981 - accuracy: 0.8320 - recall: 0.7808 - precision: 0.8715 - val_loss: 0.9701 - val_accuracy: 0.6705 - val_recall: 0.6245 - val_precision: 0.7174\n"
          ]
        }
      ]
    },
    {
      "cell_type": "code",
      "source": [
        "plt.figure(figsize=(7.5,5.5))\n",
        "plt.plot(history10.history['accuracy'])\n",
        "plt.plot(history10.history['val_accuracy'])\n",
        "plt.title('Model training history')\n",
        "plt.ylabel('Accuracy')\n",
        "plt.xlabel('Epoch')\n",
        "plt.xticks(np.arange(0, len(history10.history.get(\"accuracy\"))+1, 3), \n",
        "           labels = [str(i+1) for i in np.arange(0, len(history10.history.get(\"accuracy\"))+1, 3)])\n",
        "plt.title('Model training history')\n",
        "plt.legend(['train', 'val'], loc='upper left')\n",
        "plt.show()"
      ],
      "metadata": {
        "colab": {
          "base_uri": "https://localhost:8080/",
          "height": 394
        },
        "outputId": "5afe8d79-c028-4cce-a097-c64c109c61ce",
        "id": "WP5EJwALn66j"
      },
      "execution_count": null,
      "outputs": [
        {
          "output_type": "display_data",
          "data": {
            "text/plain": [
              "<Figure size 540x396 with 1 Axes>"
            ],
            "image/png": "[encoded data removed]"
          },
          "metadata": {}
        }
      ]
    },
    {
      "cell_type": "code",
      "source": [
        "plt.figure(figsize=(7.5,5.5))\n",
        "plt.plot(history10.history['loss'])\n",
        "plt.plot(history10.history['val_loss'])\n",
        "plt.title('Model training history')\n",
        "plt.ylabel('Loss')\n",
        "plt.xlabel('Epoch')\n",
        "plt.xticks(np.arange(0, len(history10.history.get(\"loss\"))+1, 3), \n",
        "           labels = [str(i+1) for i in np.arange(0, len(history10.history.get(\"loss\"))+1, 3)])\n",
        "plt.title('Model training history')\n",
        "plt.legend(['train', 'val'], loc='upper right')\n",
        "plt.show()"
      ],
      "metadata": {
        "colab": {
          "base_uri": "https://localhost:8080/",
          "height": 394
        },
        "outputId": "b6ebbf39-4a4a-4df9-a1de-f1b15e88ec62",
        "id": "786Oj7hGn66j"
      },
      "execution_count": null,
      "outputs": [
        {
          "output_type": "display_data",
          "data": {
            "text/plain": [
              "<Figure size 540x396 with 1 Axes>"
            ],
            "image/png": "[encoded data removed]"
          },
          "metadata": {}
        }
      ]
    },
    {
      "cell_type": "code",
      "source": [
        "results10 = model10.predict(x = x_test, batch_size=64, verbose=0)\n",
        "predictions10 = np.argmax(results10, axis=1)\n",
        "\n",
        "y_test_labels = np.argmax(y_test, axis=1)\n",
        "print(metrics.classification_report(y_test_labels, predictions10, digits = 3)) "
      ],
      "metadata": {
        "colab": {
          "base_uri": "https://localhost:8080/"
        },
        "outputId": "160ab66c-b9cb-44dc-81d6-3a9d3dcd582a",
        "id": "V5r1J2wqn66k"
      },
      "execution_count": null,
      "outputs": [
        {
          "output_type": "stream",
          "name": "stdout",
          "text": [
            "              precision    recall  f1-score   support\n",
            "\n",
            "           0      0.764     0.557     0.645       400\n",
            "           1      0.633     0.775     0.697       383\n",
            "           2      0.514     0.457     0.484       162\n",
            "           3      0.655     0.587     0.619       281\n",
            "           4      0.574     0.745     0.648       239\n",
            "           5      0.564     0.550     0.557        80\n",
            "\n",
            "    accuracy                          0.635      1545\n",
            "   macro avg      0.617     0.612     0.608      1545\n",
            "weighted avg      0.646     0.635     0.632      1545\n",
            "\n"
          ]
        }
      ]
    },
    {
      "cell_type": "code",
      "source": [
        "# save keras model\n",
        "model10.save(\"/content/drive/MyDrive/Colab Notebooks/reddit_IAA/PaREMO_model.h5\")"
      ],
      "metadata": {
        "id": "XdA1RRYsn66k"
      },
      "execution_count": null,
      "outputs": []
    },
    {
      "cell_type": "code",
      "source": [
        "# load model for later use\n",
        "model10 = keras.models.load_model(\"/content/drive/MyDrive/Colab Notebooks/reddit_IAA/PaREMO_model.h5\")"
      ],
      "metadata": {
        "id": "RBaDfnU1n66k"
      },
      "execution_count": null,
      "outputs": []
    },
    {
      "cell_type": "code",
      "source": [
        "social_media.sample(3)"
      ],
      "metadata": {
        "colab": {
          "base_uri": "https://localhost:8080/",
          "height": 361
        },
        "outputId": "d7a55a09-355d-4046-e48b-ebd739329cb0",
        "id": "DEv0HKRXn66l"
      },
      "execution_count": null,
      "outputs": [
        {
          "output_type": "execute_result",
          "data": {
            "text/plain": [
              "                       Data  \\\n",
              "10497.0 2020-05-06 21:17:12   \n",
              "3709.0  2020-05-06 21:56:34   \n",
              "13441.0 2020-05-06 21:02:59   \n",
              "\n",
              "                                                                                                                                                                   Tekst  \\\n",
              "10497.0                                                        Pan Stanisław Żółtek mi się bardzo kojarzy z moim wujkiem Eustachym. Taki swój chłop.\\n#debataprezydencka   \n",
              "3709.0   @wsawoniewicz @RobertBiedron @przedwiosnie_ @__Lewica @wiosnabiedronia @Lewica_News @LewicowyHub Hołownia salkę katachetyczną\\n\\n\\n\\nHołownia nie ma wiele w...   \n",
              "13441.0                                                                                  Jak słucham @KosiniakKamysz to aż chciałbym zostać rolnikiem #debataprezydencka   \n",
              "\n",
              "        predicted_emotion_label_PaREMO sentiment_label_PaRes      Time  \\\n",
              "10497.0                            joy                   pos  21:17:12   \n",
              "3709.0                        surprise                   neg  21:56:34   \n",
              "13441.0                          anger                   neg  21:02:59   \n",
              "\n",
              "                                                                                                                             clean_Tekst  \n",
              "10497.0                         pan stanisław żółtek mi się bardzo kojarzy z moim wujkiem eustachym. taki swój chłop. #debataprezydencka  \n",
              "3709.0   @u @u @u @u @u @u @u hołownia salkę katachetyczną    hołownia nie ma wiele wspólnego z katechizmem.  aleście tam odrealnieni...  \n",
              "13441.0                                                               jak słucham @u to aż chciałbym zostać rolnikiem #debataprezydencka  "
            ],
            "text/html": [
              "\n",
              "  <div id=\"df-7b51c3d0-d98b-4d6e-8dd8-fc4194e8514c\">\n",
              "    <div class=\"colab-df-container\">\n",
              "      <div>\n",
              "<style scoped>\n",
              "    .dataframe tbody tr th:only-of-type {\n",
              "        vertical-align: middle;\n",
              "    }\n",
              "\n",
              "    .dataframe tbody tr th {\n",
              "        vertical-align: top;\n",
              "    }\n",
              "\n",
              "    .dataframe thead th {\n",
              "        text-align: right;\n",
              "    }\n",
              "</style>\n",
              "<table border=\"1\" class=\"dataframe\">\n",
              "  <thead>\n",
              "    <tr style=\"text-align: right;\">\n",
              "      <th></th>\n",
              "      <th>Data</th>\n",
              "      <th>Tekst</th>\n",
              "      <th>predicted_emotion_label_PaREMO</th>\n",
              "      <th>sentiment_label_PaRes</th>\n",
              "      <th>Time</th>\n",
              "      <th>clean_Tekst</th>\n",
              "    </tr>\n",
              "  </thead>\n",
              "  <tbody>\n",
              "    <tr>\n",
              "      <th>10497.0</th>\n",
              "      <td>2020-05-06 21:17:12</td>\n",
              "      <td>Pan Stanisław Żółtek mi się bardzo kojarzy z moim wujkiem Eustachym. Taki swój chłop.\\n#debataprezydencka</td>\n",
              "      <td>joy</td>\n",
              "      <td>pos</td>\n",
              "      <td>21:17:12</td>\n",
              "      <td>pan stanisław żółtek mi się bardzo kojarzy z moim wujkiem eustachym. taki swój chłop. #debataprezydencka</td>\n",
              "    </tr>\n",
              "    <tr>\n",
              "      <th>3709.0</th>\n",
              "      <td>2020-05-06 21:56:34</td>\n",
              "      <td>@wsawoniewicz @RobertBiedron @przedwiosnie_ @__Lewica @wiosnabiedronia @Lewica_News @LewicowyHub Hołownia salkę katachetyczną\\n\\n\\n\\nHołownia nie ma wiele w...</td>\n",
              "      <td>surprise</td>\n",
              "      <td>neg</td>\n",
              "      <td>21:56:34</td>\n",
              "      <td>@u @u @u @u @u @u @u hołownia salkę katachetyczną    hołownia nie ma wiele wspólnego z katechizmem.  aleście tam odrealnieni...</td>\n",
              "    </tr>\n",
              "    <tr>\n",
              "      <th>13441.0</th>\n",
              "      <td>2020-05-06 21:02:59</td>\n",
              "      <td>Jak słucham @KosiniakKamysz to aż chciałbym zostać rolnikiem #debataprezydencka</td>\n",
              "      <td>anger</td>\n",
              "      <td>neg</td>\n",
              "      <td>21:02:59</td>\n",
              "      <td>jak słucham @u to aż chciałbym zostać rolnikiem #debataprezydencka</td>\n",
              "    </tr>\n",
              "  </tbody>\n",
              "</table>\n",
              "</div>\n",
              "      <button class=\"colab-df-convert\" onclick=\"convertToInteractive('df-7b51c3d0-d98b-4d6e-8dd8-fc4194e8514c')\"\n",
              "              title=\"Convert this dataframe to an interactive table.\"\n",
              "              style=\"display:none;\">\n",
              "        \n",
              "  <svg xmlns=\"http://www.w3.org/2000/svg\" height=\"24px\"viewBox=\"0 0 24 24\"\n",
              "       width=\"24px\">\n",
              "    <path d=\"M0 0h24v24H0V0z\" fill=\"none\"/>\n",
              "    <path d=\"M18.56 5.44l.94 2.06.94-2.06 2.06-.94-2.06-.94-.94-2.06-.94 2.06-2.06.94zm-11 1L8.5 8.5l.94-2.06 2.06-.94-2.06-.94L8.5 2.5l-.94 2.06-2.06.94zm10 10l.94 2.06.94-2.06 2.06-.94-2.06-.94-.94-2.06-.94 2.06-2.06.94z\"/><path d=\"M17.41 7.96l-1.37-1.37c-.4-.4-.92-.59-1.43-.59-.52 0-1.04.2-1.43.59L10.3 9.45l-7.72 7.72c-.78.78-.78 2.05 0 2.83L4 21.41c.39.39.9.59 1.41.59.51 0 1.02-.2 1.41-.59l7.78-7.78 2.81-2.81c.8-.78.8-2.07 0-2.86zM5.41 20L4 18.59l7.72-7.72 1.47 1.35L5.41 20z\"/>\n",
              "  </svg>\n",
              "      </button>\n",
              "      \n",
              "  <style>\n",
              "    .colab-df-container {\n",
              "      display:flex;\n",
              "      flex-wrap:wrap;\n",
              "      gap: 12px;\n",
              "    }\n",
              "\n",
              "    .colab-df-convert {\n",
              "      background-color: #E8F0FE;\n",
              "      border: none;\n",
              "      border-radius: 50%;\n",
              "      cursor: pointer;\n",
              "      display: none;\n",
              "      fill: #1967D2;\n",
              "      height: 32px;\n",
              "      padding: 0 0 0 0;\n",
              "      width: 32px;\n",
              "    }\n",
              "\n",
              "    .colab-df-convert:hover {\n",
              "      background-color: #E2EBFA;\n",
              "      box-shadow: 0px 1px 2px rgba(60, 64, 67, 0.3), 0px 1px 3px 1px rgba(60, 64, 67, 0.15);\n",
              "      fill: #174EA6;\n",
              "    }\n",
              "\n",
              "    [theme=dark] .colab-df-convert {\n",
              "      background-color: #3B4455;\n",
              "      fill: #D2E3FC;\n",
              "    }\n",
              "\n",
              "    [theme=dark] .colab-df-convert:hover {\n",
              "      background-color: #434B5C;\n",
              "      box-shadow: 0px 1px 3px 1px rgba(0, 0, 0, 0.15);\n",
              "      filter: drop-shadow(0px 1px 2px rgba(0, 0, 0, 0.3));\n",
              "      fill: #FFFFFF;\n",
              "    }\n",
              "  </style>\n",
              "\n",
              "      <script>\n",
              "        const buttonEl =\n",
              "          document.querySelector('#df-7b51c3d0-d98b-4d6e-8dd8-fc4194e8514c button.colab-df-convert');\n",
              "        buttonEl.style.display =\n",
              "          google.colab.kernel.accessAllowed ? 'block' : 'none';\n",
              "\n",
              "        async function convertToInteractive(key) {\n",
              "          const element = document.querySelector('#df-7b51c3d0-d98b-4d6e-8dd8-fc4194e8514c');\n",
              "          const dataTable =\n",
              "            await google.colab.kernel.invokeFunction('convertToInteractive',\n",
              "                                                     [key], {});\n",
              "          if (!dataTable) return;\n",
              "\n",
              "          const docLinkHtml = 'Like what you see? Visit the ' +\n",
              "            '<a target=\"_blank\" href=https://colab.research.google.com/notebooks/data_table.ipynb>data table notebook</a>'\n",
              "            + ' to learn more about interactive tables.';\n",
              "          element.innerHTML = '';\n",
              "          dataTable['output_type'] = 'display_data';\n",
              "          await google.colab.output.renderOutput(dataTable, element);\n",
              "          const docLink = document.createElement('div');\n",
              "          docLink.innerHTML = docLinkHtml;\n",
              "          element.appendChild(docLink);\n",
              "        }\n",
              "      </script>\n",
              "    </div>\n",
              "  </div>\n",
              "  "
            ]
          },
          "metadata": {},
          "execution_count": 30
        }
      ]
    },
    {
      "cell_type": "code",
      "source": [
        "x = social_media.clean_Tekst.tolist()\n",
        "x[:2]"
      ],
      "metadata": {
        "colab": {
          "base_uri": "https://localhost:8080/"
        },
        "outputId": "6b5abd13-7455-4bf0-a59d-1704fd1a6b98",
        "id": "dX-k0Vhdn66l"
      },
      "execution_count": null,
      "outputs": [
        {
          "output_type": "execute_result",
          "data": {
            "text/plain": [
              "['@u w wigilie',\n",
              " '@u @u tylko do tego nadaje się to objawienie towarzyskie towarzysza jarosława: url']"
            ]
          },
          "metadata": {},
          "execution_count": 34
        }
      ]
    },
    {
      "cell_type": "code",
      "source": [
        "x = laser.embed_sentences(x, lang='pl')\n",
        "x[:2]"
      ],
      "metadata": {
        "colab": {
          "base_uri": "https://localhost:8080/"
        },
        "outputId": "b6031c33-1896-446f-8b7b-c92eedb4292a",
        "id": "75BWh1D4n66l"
      },
      "execution_count": null,
      "outputs": [
        {
          "output_type": "execute_result",
          "data": {
            "text/plain": [
              "array([[ 0.00511657,  0.00030736,  0.00237698, ...,  0.00740784,\n",
              "        -0.00511049,  0.00825961],\n",
              "       [ 0.01039652,  0.00765814,  0.00145784, ...,  0.04781285,\n",
              "         0.02050592,  0.02041662]], dtype=float32)"
            ]
          },
          "metadata": {},
          "execution_count": 35
        }
      ]
    },
    {
      "cell_type": "code",
      "source": [
        "result_pl = model10.predict(x = x, batch_size=64, verbose=0)\n",
        "labels_pl = np.argmax(result_pl, axis=1)\n",
        "result_pl[:3]"
      ],
      "metadata": {
        "colab": {
          "base_uri": "https://localhost:8080/"
        },
        "outputId": "008b2a58-d87d-42ae-9a23-f97d6714e4e4",
        "id": "sPWfH_50n66l"
      },
      "execution_count": null,
      "outputs": [
        {
          "output_type": "execute_result",
          "data": {
            "text/plain": [
              "array([[3.4088425e-02, 3.7957963e-01, 5.4175109e-01, 1.6622860e-02,\n",
              "        2.3311121e-02, 4.6469020e-03],\n",
              "       [6.0230973e-03, 9.8890531e-01, 2.9590288e-03, 7.8359887e-04,\n",
              "        2.4704519e-04, 1.0818898e-03],\n",
              "       [1.3126427e-01, 3.3764276e-01, 5.5965362e-03, 6.5520242e-02,\n",
              "        4.2155206e-01, 3.8424101e-02]], dtype=float32)"
            ]
          },
          "metadata": {},
          "execution_count": 36
        }
      ]
    },
    {
      "cell_type": "code",
      "source": [
        "labels_pl[:3]"
      ],
      "metadata": {
        "colab": {
          "base_uri": "https://localhost:8080/"
        },
        "outputId": "e9cb44d5-4f97-496a-8265-9a90acb26ce5",
        "id": "RYu1PyqMn66m"
      },
      "execution_count": null,
      "outputs": [
        {
          "output_type": "execute_result",
          "data": {
            "text/plain": [
              "array([2, 1, 4])"
            ]
          },
          "metadata": {},
          "execution_count": 37
        }
      ]
    },
    {
      "cell_type": "code",
      "source": [
        "social_media['emotion'] = labels_pl\n",
        "social_media['emotion'] = social_media['emotion'].map(map_emo)\n",
        "social_media['emotion'].value_counts()"
      ],
      "metadata": {
        "colab": {
          "base_uri": "https://localhost:8080/"
        },
        "outputId": "aa8a1250-e187-47f0-cbbe-86512c753297",
        "id": "VJrJ-IKen66m"
      },
      "execution_count": null,
      "outputs": [
        {
          "output_type": "execute_result",
          "data": {
            "text/plain": [
              "joy         8427\n",
              "fear        3740\n",
              "anger       3342\n",
              "sadness     3105\n",
              "surprise     253\n",
              "love         206\n",
              "Name: emotion, dtype: int64"
            ]
          },
          "metadata": {},
          "execution_count": 38
        }
      ]
    },
    {
      "cell_type": "code",
      "source": [
        "social_media.sample(4)"
      ],
      "metadata": {
        "colab": {
          "base_uri": "https://localhost:8080/",
          "height": 444
        },
        "outputId": "10b67330-81ea-4811-a5aa-cc070752d89f",
        "id": "d6P_xL8jn66m"
      },
      "execution_count": null,
      "outputs": [
        {
          "output_type": "execute_result",
          "data": {
            "text/plain": [
              "                       Data  \\\n",
              "4356.0  2020-05-06 21:51:00   \n",
              "9596.0  2020-05-06 21:21:14   \n",
              "15667.0 2020-05-06 20:50:29   \n",
              "10328.0 2020-05-06 21:18:10   \n",
              "\n",
              "                                                                                                                                                      Tekst  \\\n",
              "4356.0                                                                        @RobertKwit5 Niet waar! Głownia i Biedroń. Tak będzie w sondażach. Po Dudzie.   \n",
              "9596.0                                                                                         @LukaszBok Brak udziału ludzi zwiększa przewagę @AndrzejDuda   \n",
              "15667.0                          Jakubiak wygląda jak ojciec chrzestny, Tanajlo jak DJ Adamus a Żółtek wyglada jakby se strzelił 0.5L... #debataprezydencka   \n",
              "10328.0  Unia stoi na Francji i Niemczech, wiec bardzo logiczne wydaje się to, co mówiła Kidawa - Trójkąt Weimarski reaktywacja! #debataprezydencka #debata   \n",
              "\n",
              "        predicted_emotion_label_PaREMO sentiment_label_PaRes      Time  \\\n",
              "4356.0                        surprise                   neg  21:51:00   \n",
              "9596.0                        surprise                   neg  21:21:14   \n",
              "15667.0                       surprise                   neg  20:50:29   \n",
              "10328.0                       surprise                   neg  21:18:10   \n",
              "\n",
              "                                                                                                                                                clean_Tekst  \\\n",
              "4356.0                                                                                  @u niet waar! głownia i biedroń. tak będzie w sondażach. po dudzie.   \n",
              "9596.0                                                                                                           @u brak udziału ludzi zwiększa przewagę @u   \n",
              "15667.0                          jakubiak wygląda jak ojciec chrzestny, tanajlo jak dj adamus a żółtek wyglada jakby se strzelił  . l... #debataprezydencka   \n",
              "10328.0  unia stoi na francji i niemczech, wiec bardzo logiczne wydaje się to, co mówiła kidawa - trójkąt weimarski reaktywacja! #debataprezydencka #debata   \n",
              "\n",
              "          emotion  \n",
              "4356.0      anger  \n",
              "9596.0    sadness  \n",
              "15667.0  surprise  \n",
              "10328.0      fear  "
            ],
            "text/html": [
              "\n",
              "  <div id=\"df-4f92ebcb-11e1-47ff-a889-6b5e90f1e447\">\n",
              "    <div class=\"colab-df-container\">\n",
              "      <div>\n",
              "<style scoped>\n",
              "    .dataframe tbody tr th:only-of-type {\n",
              "        vertical-align: middle;\n",
              "    }\n",
              "\n",
              "    .dataframe tbody tr th {\n",
              "        vertical-align: top;\n",
              "    }\n",
              "\n",
              "    .dataframe thead th {\n",
              "        text-align: right;\n",
              "    }\n",
              "</style>\n",
              "<table border=\"1\" class=\"dataframe\">\n",
              "  <thead>\n",
              "    <tr style=\"text-align: right;\">\n",
              "      <th></th>\n",
              "      <th>Data</th>\n",
              "      <th>Tekst</th>\n",
              "      <th>predicted_emotion_label_PaREMO</th>\n",
              "      <th>sentiment_label_PaRes</th>\n",
              "      <th>Time</th>\n",
              "      <th>clean_Tekst</th>\n",
              "      <th>emotion</th>\n",
              "    </tr>\n",
              "  </thead>\n",
              "  <tbody>\n",
              "    <tr>\n",
              "      <th>4356.0</th>\n",
              "      <td>2020-05-06 21:51:00</td>\n",
              "      <td>@RobertKwit5 Niet waar! Głownia i Biedroń. Tak będzie w sondażach. Po Dudzie.</td>\n",
              "      <td>surprise</td>\n",
              "      <td>neg</td>\n",
              "      <td>21:51:00</td>\n",
              "      <td>@u niet waar! głownia i biedroń. tak będzie w sondażach. po dudzie.</td>\n",
              "      <td>anger</td>\n",
              "    </tr>\n",
              "    <tr>\n",
              "      <th>9596.0</th>\n",
              "      <td>2020-05-06 21:21:14</td>\n",
              "      <td>@LukaszBok Brak udziału ludzi zwiększa przewagę @AndrzejDuda</td>\n",
              "      <td>surprise</td>\n",
              "      <td>neg</td>\n",
              "      <td>21:21:14</td>\n",
              "      <td>@u brak udziału ludzi zwiększa przewagę @u</td>\n",
              "      <td>sadness</td>\n",
              "    </tr>\n",
              "    <tr>\n",
              "      <th>15667.0</th>\n",
              "      <td>2020-05-06 20:50:29</td>\n",
              "      <td>Jakubiak wygląda jak ojciec chrzestny, Tanajlo jak DJ Adamus a Żółtek wyglada jakby se strzelił 0.5L... #debataprezydencka</td>\n",
              "      <td>surprise</td>\n",
              "      <td>neg</td>\n",
              "      <td>20:50:29</td>\n",
              "      <td>jakubiak wygląda jak ojciec chrzestny, tanajlo jak dj adamus a żółtek wyglada jakby se strzelił  . l... #debataprezydencka</td>\n",
              "      <td>surprise</td>\n",
              "    </tr>\n",
              "    <tr>\n",
              "      <th>10328.0</th>\n",
              "      <td>2020-05-06 21:18:10</td>\n",
              "      <td>Unia stoi na Francji i Niemczech, wiec bardzo logiczne wydaje się to, co mówiła Kidawa - Trójkąt Weimarski reaktywacja! #debataprezydencka #debata</td>\n",
              "      <td>surprise</td>\n",
              "      <td>neg</td>\n",
              "      <td>21:18:10</td>\n",
              "      <td>unia stoi na francji i niemczech, wiec bardzo logiczne wydaje się to, co mówiła kidawa - trójkąt weimarski reaktywacja! #debataprezydencka #debata</td>\n",
              "      <td>fear</td>\n",
              "    </tr>\n",
              "  </tbody>\n",
              "</table>\n",
              "</div>\n",
              "      <button class=\"colab-df-convert\" onclick=\"convertToInteractive('df-4f92ebcb-11e1-47ff-a889-6b5e90f1e447')\"\n",
              "              title=\"Convert this dataframe to an interactive table.\"\n",
              "              style=\"display:none;\">\n",
              "        \n",
              "  <svg xmlns=\"http://www.w3.org/2000/svg\" height=\"24px\"viewBox=\"0 0 24 24\"\n",
              "       width=\"24px\">\n",
              "    <path d=\"M0 0h24v24H0V0z\" fill=\"none\"/>\n",
              "    <path d=\"M18.56 5.44l.94 2.06.94-2.06 2.06-.94-2.06-.94-.94-2.06-.94 2.06-2.06.94zm-11 1L8.5 8.5l.94-2.06 2.06-.94-2.06-.94L8.5 2.5l-.94 2.06-2.06.94zm10 10l.94 2.06.94-2.06 2.06-.94-2.06-.94-.94-2.06-.94 2.06-2.06.94z\"/><path d=\"M17.41 7.96l-1.37-1.37c-.4-.4-.92-.59-1.43-.59-.52 0-1.04.2-1.43.59L10.3 9.45l-7.72 7.72c-.78.78-.78 2.05 0 2.83L4 21.41c.39.39.9.59 1.41.59.51 0 1.02-.2 1.41-.59l7.78-7.78 2.81-2.81c.8-.78.8-2.07 0-2.86zM5.41 20L4 18.59l7.72-7.72 1.47 1.35L5.41 20z\"/>\n",
              "  </svg>\n",
              "      </button>\n",
              "      \n",
              "  <style>\n",
              "    .colab-df-container {\n",
              "      display:flex;\n",
              "      flex-wrap:wrap;\n",
              "      gap: 12px;\n",
              "    }\n",
              "\n",
              "    .colab-df-convert {\n",
              "      background-color: #E8F0FE;\n",
              "      border: none;\n",
              "      border-radius: 50%;\n",
              "      cursor: pointer;\n",
              "      display: none;\n",
              "      fill: #1967D2;\n",
              "      height: 32px;\n",
              "      padding: 0 0 0 0;\n",
              "      width: 32px;\n",
              "    }\n",
              "\n",
              "    .colab-df-convert:hover {\n",
              "      background-color: #E2EBFA;\n",
              "      box-shadow: 0px 1px 2px rgba(60, 64, 67, 0.3), 0px 1px 3px 1px rgba(60, 64, 67, 0.15);\n",
              "      fill: #174EA6;\n",
              "    }\n",
              "\n",
              "    [theme=dark] .colab-df-convert {\n",
              "      background-color: #3B4455;\n",
              "      fill: #D2E3FC;\n",
              "    }\n",
              "\n",
              "    [theme=dark] .colab-df-convert:hover {\n",
              "      background-color: #434B5C;\n",
              "      box-shadow: 0px 1px 3px 1px rgba(0, 0, 0, 0.15);\n",
              "      filter: drop-shadow(0px 1px 2px rgba(0, 0, 0, 0.3));\n",
              "      fill: #FFFFFF;\n",
              "    }\n",
              "  </style>\n",
              "\n",
              "      <script>\n",
              "        const buttonEl =\n",
              "          document.querySelector('#df-4f92ebcb-11e1-47ff-a889-6b5e90f1e447 button.colab-df-convert');\n",
              "        buttonEl.style.display =\n",
              "          google.colab.kernel.accessAllowed ? 'block' : 'none';\n",
              "\n",
              "        async function convertToInteractive(key) {\n",
              "          const element = document.querySelector('#df-4f92ebcb-11e1-47ff-a889-6b5e90f1e447');\n",
              "          const dataTable =\n",
              "            await google.colab.kernel.invokeFunction('convertToInteractive',\n",
              "                                                     [key], {});\n",
              "          if (!dataTable) return;\n",
              "\n",
              "          const docLinkHtml = 'Like what you see? Visit the ' +\n",
              "            '<a target=\"_blank\" href=https://colab.research.google.com/notebooks/data_table.ipynb>data table notebook</a>'\n",
              "            + ' to learn more about interactive tables.';\n",
              "          element.innerHTML = '';\n",
              "          dataTable['output_type'] = 'display_data';\n",
              "          await google.colab.output.renderOutput(dataTable, element);\n",
              "          const docLink = document.createElement('div');\n",
              "          docLink.innerHTML = docLinkHtml;\n",
              "          element.appendChild(docLink);\n",
              "        }\n",
              "      </script>\n",
              "    </div>\n",
              "  </div>\n",
              "  "
            ]
          },
          "metadata": {},
          "execution_count": 39
        }
      ]
    },
    {
      "cell_type": "markdown",
      "source": [
        "####emotion detection - fine-tune BERT"
      ],
      "metadata": {
        "id": "5FBScFtin66m"
      }
    },
    {
      "cell_type": "code",
      "source": [
        "int(dummy_y.shape[1])"
      ],
      "metadata": {
        "colab": {
          "base_uri": "https://localhost:8080/"
        },
        "outputId": "302b743e-8dbe-4c87-fc00-1b86c3912baf",
        "id": "KDV0yWBkn66n"
      },
      "execution_count": null,
      "outputs": [
        {
          "output_type": "execute_result",
          "data": {
            "text/plain": [
              "6"
            ]
          },
          "metadata": {},
          "execution_count": 22
        }
      ]
    },
    {
      "cell_type": "code",
      "source": [
        "!pip install transformers[sentencepiece] --q"
      ],
      "metadata": {
        "id": "xYXxSwQYn66n"
      },
      "execution_count": null,
      "outputs": []
    },
    {
      "cell_type": "code",
      "source": [
        "import tensorflow as tf\n",
        "from transformers import AutoTokenizer, TFAutoModelForSequenceClassification\n",
        "\n",
        "checkpoint = \"bert-base-multilingual-uncased\" \n",
        "\n",
        "tokenizer =  AutoTokenizer.from_pretrained(checkpoint)\n",
        "model = TFAutoModelForSequenceClassification.from_pretrained(checkpoint, num_labels = int(dummy_y.shape[1])) "
      ],
      "metadata": {
        "colab": {
          "base_uri": "https://localhost:8080/",
          "height": 266,
          "referenced_widgets": [
            "cd73f7a7c426475ea446ffa4aa1344a9",
            "76e42e05392d4de3bc2681ae2165abc8",
            "e22625330d2f4d9cb2da7b3dd300a544",
            "14d4ddff6eef4729bb6f18fa07b220e2",
            "675ebf04016a4248b9fe10a4f7d0781c",
            "e1620fb2d76241bd9e58c69ca5028358",
            "b86fad68831441e7bed02c68ca9de844",
            "a14809637a124092a21e3f8295dc69b0",
            "410178e8c8514a8a9b6523b0d10cde53",
            "3e919751703e413e907c465941fadd56",
            "1d5dccc4fdea4c65832f7644156ec070",
            "2bcdb625ef0b4aa789b2903b67618c7a",
            "da906771700047bd8d93eaae9afc30e1",
            "0cb371b81287404ea5039f538a27e490",
            "481a938b4492475d877f949eb950e720",
            "bee78971b81c4e0690e5970f76953369",
            "eccc0f65952040989eccc7d4adc185eb",
            "b673b797628d4dbca5900dc3040eb253",
            "f3bfed7023ec43728a842e43543944f6",
            "6843ed97547e43dd9b4e131395aa00f0",
            "050cd1fe2b8a46ce9a7accba166e8c34",
            "7884b8d61deb4d99818adafb93ccde6b",
            "df07a5f640d643b99c7d58546c55dd64",
            "957c16f1d61241ffab4610bc6b48924c",
            "9698f89dc61944a4a0857f9c0b8a7a7d",
            "48ae748a34e348c58a75d2a72faf6e65",
            "adb95073ff2e49d19f08a9ed6dab38c3",
            "a6b6417bfd46425aa61e7ddd51ca83f2",
            "609bd03a4a044ab580ce111bffacb3e7",
            "1cae67a44f104df89be4dff31e9abc5e",
            "0000fe954a654120b6de8e217ba101d8",
            "12682386098b40c99dd9ad83c5abb36c",
            "0d798deb223f4eeb9cd6cbc9def541b4",
            "f7857590a1de4a3fa21215d861e24c7d",
            "78ecd13397b849f08c822c0fae652a28",
            "0a85ee1755b24a8a9c7a897af6c9f7de",
            "467321ac197c40a592f6744fffeb0e30",
            "690daf7639cf4a4b848557384efe1092",
            "6553b7dc09fe4e24954f117886d0c882",
            "511a52fba3334b278663e16af2aee8ce",
            "7b64ffb52bd84a5d9374b87eddbec9dd",
            "d07be1b02f624e0e879849713894e656",
            "a6a0bb0308464c9aa98e58bf7a638bff",
            "4d41ad4b41e94536bf17776cbf04a728",
            "18f033f0741e4024a2f6a2c8820dc41b",
            "8b8fe7bc1e4948c3bc447b7e39116ee5",
            "3d7276ba332c496a8f0a0de2a94ff866",
            "c9f8c4963519482e9f7d7471adad1295",
            "86a6188a159e46609e8bc085707afc8c",
            "6c0695187c2a47e9ba6a33516d1951bd",
            "1e5969e9673d4198ad173379146c85a7",
            "f8b07bfaaf014fad9e68fc0c85bd42d3",
            "36d7355de43040c79aae450e2d211a2a",
            "023d1ec1cb454587972eed4eadf959e8",
            "9b0f98c951ad400faff5de6730585b36"
          ]
        },
        "outputId": "5c28c585-db1e-4daa-d266-f3581b3aca86",
        "id": "Kp6_q3xDn66n"
      },
      "execution_count": null,
      "outputs": [
        {
          "output_type": "display_data",
          "data": {
            "text/plain": [
              "Downloading:   0%|          | 0.00/28.0 [00:00<?, ?B/s]"
            ],
            "application/vnd.jupyter.widget-view+json": {
              "version_major": 2,
              "version_minor": 0,
              "model_id": "cd73f7a7c426475ea446ffa4aa1344a9"
            }
          },
          "metadata": {}
        },
        {
          "output_type": "display_data",
          "data": {
            "text/plain": [
              "Downloading:   0%|          | 0.00/625 [00:00<?, ?B/s]"
            ],
            "application/vnd.jupyter.widget-view+json": {
              "version_major": 2,
              "version_minor": 0,
              "model_id": "2bcdb625ef0b4aa789b2903b67618c7a"
            }
          },
          "metadata": {}
        },
        {
          "output_type": "display_data",
          "data": {
            "text/plain": [
              "Downloading:   0%|          | 0.00/872k [00:00<?, ?B/s]"
            ],
            "application/vnd.jupyter.widget-view+json": {
              "version_major": 2,
              "version_minor": 0,
              "model_id": "df07a5f640d643b99c7d58546c55dd64"
            }
          },
          "metadata": {}
        },
        {
          "output_type": "display_data",
          "data": {
            "text/plain": [
              "Downloading:   0%|          | 0.00/1.72M [00:00<?, ?B/s]"
            ],
            "application/vnd.jupyter.widget-view+json": {
              "version_major": 2,
              "version_minor": 0,
              "model_id": "f7857590a1de4a3fa21215d861e24c7d"
            }
          },
          "metadata": {}
        },
        {
          "output_type": "display_data",
          "data": {
            "text/plain": [
              "Downloading:   0%|          | 0.00/999M [00:00<?, ?B/s]"
            ],
            "application/vnd.jupyter.widget-view+json": {
              "version_major": 2,
              "version_minor": 0,
              "model_id": "18f033f0741e4024a2f6a2c8820dc41b"
            }
          },
          "metadata": {}
        },
        {
          "output_type": "stream",
          "name": "stderr",
          "text": [
            "All model checkpoint layers were used when initializing TFBertForSequenceClassification.\n",
            "\n",
            "Some layers of TFBertForSequenceClassification were not initialized from the model checkpoint at bert-base-multilingual-uncased and are newly initialized: ['classifier']\n",
            "You should probably TRAIN this model on a down-stream task to be able to use it for predictions and inference.\n"
          ]
        }
      ]
    },
    {
      "cell_type": "code",
      "source": [
        "model.config"
      ],
      "metadata": {
        "colab": {
          "base_uri": "https://localhost:8080/"
        },
        "outputId": "a07ed623-43eb-4817-c219-9a3203968430",
        "id": "FrUsR8Sxn66o"
      },
      "execution_count": null,
      "outputs": [
        {
          "output_type": "execute_result",
          "data": {
            "text/plain": [
              "BertConfig {\n",
              "  \"_name_or_path\": \"bert-base-multilingual-uncased\",\n",
              "  \"architectures\": [\n",
              "    \"BertForMaskedLM\"\n",
              "  ],\n",
              "  \"attention_probs_dropout_prob\": 0.1,\n",
              "  \"classifier_dropout\": null,\n",
              "  \"directionality\": \"bidi\",\n",
              "  \"hidden_act\": \"gelu\",\n",
              "  \"hidden_dropout_prob\": 0.1,\n",
              "  \"hidden_size\": 768,\n",
              "  \"id2label\": {\n",
              "    \"0\": \"LABEL_0\",\n",
              "    \"1\": \"LABEL_1\",\n",
              "    \"2\": \"LABEL_2\",\n",
              "    \"3\": \"LABEL_3\",\n",
              "    \"4\": \"LABEL_4\",\n",
              "    \"5\": \"LABEL_5\"\n",
              "  },\n",
              "  \"initializer_range\": 0.02,\n",
              "  \"intermediate_size\": 3072,\n",
              "  \"label2id\": {\n",
              "    \"LABEL_0\": 0,\n",
              "    \"LABEL_1\": 1,\n",
              "    \"LABEL_2\": 2,\n",
              "    \"LABEL_3\": 3,\n",
              "    \"LABEL_4\": 4,\n",
              "    \"LABEL_5\": 5\n",
              "  },\n",
              "  \"layer_norm_eps\": 1e-12,\n",
              "  \"max_position_embeddings\": 512,\n",
              "  \"model_type\": \"bert\",\n",
              "  \"num_attention_heads\": 12,\n",
              "  \"num_hidden_layers\": 12,\n",
              "  \"pad_token_id\": 0,\n",
              "  \"pooler_fc_size\": 768,\n",
              "  \"pooler_num_attention_heads\": 12,\n",
              "  \"pooler_num_fc_layers\": 3,\n",
              "  \"pooler_size_per_head\": 128,\n",
              "  \"pooler_type\": \"first_token_transform\",\n",
              "  \"position_embedding_type\": \"absolute\",\n",
              "  \"transformers_version\": \"4.25.1\",\n",
              "  \"type_vocab_size\": 2,\n",
              "  \"use_cache\": true,\n",
              "  \"vocab_size\": 105879\n",
              "}"
            ]
          },
          "metadata": {},
          "execution_count": 21
        }
      ]
    },
    {
      "cell_type": "code",
      "source": [
        "x_train, x_test, y_train, y_test = train_test_split(x, dummy_y, test_size = 0.15, random_state = 3)\n",
        "\n",
        "x_train.shape, x_test.shape"
      ],
      "metadata": {
        "colab": {
          "base_uri": "https://localhost:8080/"
        },
        "outputId": "de95942c-e9de-4869-ff0c-8b0e3022e30c",
        "id": "dUIKKfc7n66o"
      },
      "execution_count": null,
      "outputs": [
        {
          "output_type": "execute_result",
          "data": {
            "text/plain": [
              "((13125,), (2317,))"
            ]
          },
          "metadata": {},
          "execution_count": 29
        }
      ]
    },
    {
      "cell_type": "code",
      "source": [
        "x_train[:2]"
      ],
      "metadata": {
        "colab": {
          "base_uri": "https://localhost:8080/"
        },
        "outputId": "5771d4a6-56a4-4862-e25e-4c543c24db3b",
        "id": "nGMlELILn66o"
      },
      "execution_count": null,
      "outputs": [
        {
          "output_type": "execute_result",
          "data": {
            "text/plain": [
              "array(['i feel fairly calm',\n",
              "       'i feel vital full of energy every day and super positive'],\n",
              "      dtype=object)"
            ]
          },
          "metadata": {},
          "execution_count": 30
        }
      ]
    },
    {
      "cell_type": "code",
      "source": [
        "max_len = data.clean_text.str.split().map(len).max()\n",
        "max_len"
      ],
      "metadata": {
        "colab": {
          "base_uri": "https://localhost:8080/"
        },
        "outputId": "4305894d-02a0-4d69-843d-b231b2b66377",
        "id": "21xDRFcln66p"
      },
      "execution_count": null,
      "outputs": [
        {
          "output_type": "execute_result",
          "data": {
            "text/plain": [
              "64"
            ]
          },
          "metadata": {},
          "execution_count": 26
        }
      ]
    },
    {
      "cell_type": "code",
      "source": [
        "x_train = tokenizer(text = list(x_train),\n",
        "                    add_special_tokens=True, \n",
        "                    max_length = max_len, \n",
        "                    truncation = True, \n",
        "                    padding = 'max_length', \n",
        "                    return_tensors = 'tf', \n",
        "                    return_token_type_ids = False, \n",
        "                    return_attention_mask = True, \n",
        "                    )\n",
        "\n",
        "x_test = tokenizer(text = list(x_test), \n",
        "                    add_special_tokens=True, \n",
        "                    max_length = max_len, \n",
        "                    truncation = True, \n",
        "                    padding = 'max_length', \n",
        "                    return_tensors = 'tf', \n",
        "                    return_token_type_ids = False, \n",
        "                    return_attention_mask = True, \n",
        "                    )"
      ],
      "metadata": {
        "id": "v8Vkh2MXn66p"
      },
      "execution_count": null,
      "outputs": []
    },
    {
      "cell_type": "code",
      "source": [
        "x_train"
      ],
      "metadata": {
        "colab": {
          "base_uri": "https://localhost:8080/"
        },
        "outputId": "b8ccfb82-efc9-46c6-abe0-83722f41e1de",
        "id": "e4EJEPf4n66q"
      },
      "execution_count": null,
      "outputs": [
        {
          "output_type": "execute_result",
          "data": {
            "text/plain": [
              "{'input_ids': <tf.Tensor: shape=(13125, 64), dtype=int32, numpy=\n",
              "array([[  101,   151, 23333, ...,     0,     0,     0],\n",
              "       [  101,   151, 23333, ...,     0,     0,     0],\n",
              "       [  101,   151, 10345, ...,     0,     0,     0],\n",
              "       ...,\n",
              "       [  101,   151, 23333, ...,     0,     0,     0],\n",
              "       [  101,   151, 11821, ...,     0,     0,     0],\n",
              "       [  101, 10205, 35260, ...,     0,     0,     0]], dtype=int32)>, 'attention_mask': <tf.Tensor: shape=(13125, 64), dtype=int32, numpy=\n",
              "array([[1, 1, 1, ..., 0, 0, 0],\n",
              "       [1, 1, 1, ..., 0, 0, 0],\n",
              "       [1, 1, 1, ..., 0, 0, 0],\n",
              "       ...,\n",
              "       [1, 1, 1, ..., 0, 0, 0],\n",
              "       [1, 1, 1, ..., 0, 0, 0],\n",
              "       [1, 1, 1, ..., 0, 0, 0]], dtype=int32)>}"
            ]
          },
          "metadata": {},
          "execution_count": 34
        }
      ]
    },
    {
      "cell_type": "code",
      "source": [
        "model.layers"
      ],
      "metadata": {
        "colab": {
          "base_uri": "https://localhost:8080/"
        },
        "outputId": "0d6eb5b6-44b3-44c2-cf55-f06468224a9e",
        "id": "_B4ZZ0uMn66q"
      },
      "execution_count": null,
      "outputs": [
        {
          "output_type": "execute_result",
          "data": {
            "text/plain": [
              "[<transformers.models.bert.modeling_tf_bert.TFBertMainLayer at 0x7fe2e46ac910>,\n",
              " <keras.layers.regularization.dropout.Dropout at 0x7fe2d02aa550>,\n",
              " <keras.layers.core.dense.Dense at 0x7fe2d02aac40>]"
            ]
          },
          "metadata": {},
          "execution_count": 35
        }
      ]
    },
    {
      "cell_type": "code",
      "source": [
        "model.summary()"
      ],
      "metadata": {
        "colab": {
          "base_uri": "https://localhost:8080/"
        },
        "outputId": "6be1d9e0-fbb0-410c-a125-86656090dd3e",
        "id": "GorZWPR8n66q"
      },
      "execution_count": null,
      "outputs": [
        {
          "output_type": "stream",
          "name": "stdout",
          "text": [
            "Model: \"tf_bert_for_sequence_classification\"\n",
            "_________________________________________________________________\n",
            " Layer (type)                Output Shape              Param #   \n",
            "=================================================================\n",
            " bert (TFBertMainLayer)      multiple                  167356416 \n",
            "                                                                 \n",
            " dropout_37 (Dropout)        multiple                  0         \n",
            "                                                                 \n",
            " classifier (Dense)          multiple                  4614      \n",
            "                                                                 \n",
            "=================================================================\n",
            "Total params: 167,361,030\n",
            "Trainable params: 167,361,030\n",
            "Non-trainable params: 0\n",
            "_________________________________________________________________\n"
          ]
        }
      ]
    },
    {
      "cell_type": "code",
      "source": [
        "from tensorflow.keras.optimizers import Adam\n",
        "from tensorflow.keras.metrics import CategoricalAccuracy\n",
        "from tensorflow.keras.callbacks import EarlyStopping\n",
        "from tensorflow.keras.losses import CategoricalCrossentropy\n",
        "\n",
        "optimizer = Adam(learning_rate = 3e-5, decay = 1e-2, )\n",
        "loss = CategoricalCrossentropy(from_logits = True) \n",
        "metric = CategoricalAccuracy('accuracy')\n",
        "\n",
        "model.compile(loss = loss, optimizer = optimizer, metrics = metric)"
      ],
      "metadata": {
        "id": "qNU_m2U3n66q"
      },
      "execution_count": null,
      "outputs": []
    },
    {
      "cell_type": "code",
      "source": [
        "history = model.fit(x = {'input_ids': x_train['input_ids'], 'attention_mask': x_train['attention_mask']}, \n",
        "                    y = y_train, \n",
        "                    validation_data = ( {'input_ids': x_test['input_ids'], 'attention_mask': x_test['attention_mask']}, \n",
        "                                       y_test), \n",
        "                    epochs = 1, \n",
        "                    batch_size = 8, verbose = 1)"
      ],
      "metadata": {
        "colab": {
          "base_uri": "https://localhost:8080/"
        },
        "outputId": "e9a952c9-cb31-4b2b-fa87-c066220b6151",
        "id": "zoZBR_TQn66r"
      },
      "execution_count": null,
      "outputs": [
        {
          "output_type": "stream",
          "name": "stdout",
          "text": [
            "1641/1641 [==============================] - 331s 188ms/step - loss: 0.4553 - accuracy: 0.8523 - val_loss: 0.2366 - val_accuracy: 0.9202\n"
          ]
        }
      ]
    },
    {
      "cell_type": "code",
      "source": [
        "predicted = model.predict({'input_ids': x_test['input_ids'], 'attention_mask': x_test['attention_mask']})\n",
        "softmax_labels = tf.nn.softmax(predicted[0])\n",
        "labels_bert = np.argmax(softmax_labels, axis = -1)\n",
        "labels_bert[:3]"
      ],
      "metadata": {
        "colab": {
          "base_uri": "https://localhost:8080/"
        },
        "outputId": "9f6b5884-94a6-4f53-b6f6-0717aebe9145",
        "id": "FklwTIyMn66r"
      },
      "execution_count": null,
      "outputs": [
        {
          "output_type": "stream",
          "name": "stdout",
          "text": [
            "73/73 [==============================] - 13s 141ms/step\n"
          ]
        },
        {
          "output_type": "execute_result",
          "data": {
            "text/plain": [
              "array([4, 0, 1])"
            ]
          },
          "metadata": {},
          "execution_count": 41
        }
      ]
    },
    {
      "cell_type": "code",
      "source": [
        "predicted[:3]"
      ],
      "metadata": {
        "colab": {
          "base_uri": "https://localhost:8080/"
        },
        "outputId": "e6a73d32-af61-4e55-90cf-621b8df9468d",
        "id": "udoQsybJn66s"
      },
      "execution_count": null,
      "outputs": [
        {
          "output_type": "execute_result",
          "data": {
            "text/plain": [
              "(array([[-2.8345682e-02, -1.5518136e+00, -1.9618503e+00,  4.2511734e-01,\n",
              "          4.4837155e+00, -1.1730553e-01],\n",
              "        [ 4.5353174e+00, -5.3360045e-01, -1.2751302e+00, -1.1821263e+00,\n",
              "         -1.7217901e-01, -1.5852916e+00],\n",
              "        [-9.4194275e-01,  4.5152688e+00, -5.3920662e-01, -1.1763372e+00,\n",
              "         -1.4901637e+00, -8.3353740e-01],\n",
              "        ...,\n",
              "        [-3.6998424e-01, -1.0015520e+00, -1.8713619e+00, -4.1280335e-01,\n",
              "          4.4616089e+00,  3.0436808e-01],\n",
              "        [-1.3977872e+00,  4.2024531e+00,  6.6696334e-04, -1.4834522e+00,\n",
              "         -1.6447107e+00,  1.4668645e-01],\n",
              "        [-1.0223975e+00,  4.3575721e+00,  2.5367537e-01, -1.5895456e+00,\n",
              "         -2.0464709e+00, -7.2019356e-01]], dtype=float32),)"
            ]
          },
          "metadata": {},
          "execution_count": 42
        }
      ]
    },
    {
      "cell_type": "code",
      "source": [
        "y_test[:3]"
      ],
      "metadata": {
        "colab": {
          "base_uri": "https://localhost:8080/"
        },
        "outputId": "6d023b5c-eaa2-4efe-891e-4270d4886905",
        "id": "EfuBbY9ln66s"
      },
      "execution_count": null,
      "outputs": [
        {
          "output_type": "execute_result",
          "data": {
            "text/plain": [
              "array([[0., 0., 0., 0., 1., 0.],\n",
              "       [1., 0., 0., 0., 0., 0.],\n",
              "       [0., 1., 0., 0., 0., 0.]], dtype=float32)"
            ]
          },
          "metadata": {},
          "execution_count": 44
        }
      ]
    },
    {
      "cell_type": "code",
      "source": [
        "map_emo"
      ],
      "metadata": {
        "colab": {
          "base_uri": "https://localhost:8080/"
        },
        "outputId": "362f8f9a-1382-4c2b-a9ed-b79d815441af",
        "id": "4pPbZON0n66s"
      },
      "execution_count": null,
      "outputs": [
        {
          "output_type": "execute_result",
          "data": {
            "text/plain": [
              "{0: 'sadness', 1: 'joy', 2: 'love', 3: 'anger', 4: 'fear', 5: 'surprise'}"
            ]
          },
          "metadata": {},
          "execution_count": 43
        }
      ]
    },
    {
      "cell_type": "code",
      "source": [
        "print(metrics.classification_report(np.argmax(y_test, axis = -1), labels_bert, digits=3)) "
      ],
      "metadata": {
        "colab": {
          "base_uri": "https://localhost:8080/"
        },
        "outputId": "90c482b9-e84e-4ef9-e9fc-9c34f0bc8127",
        "id": "lm-t72H1n66t"
      },
      "execution_count": null,
      "outputs": [
        {
          "output_type": "stream",
          "name": "stdout",
          "text": [
            "              precision    recall  f1-score   support\n",
            "\n",
            "           0      0.936     0.954     0.945       586\n",
            "           1      0.966     0.891     0.927       599\n",
            "           2      0.825     0.948     0.882       229\n",
            "           3      0.961     0.906     0.933       435\n",
            "           4      0.881     0.938     0.908       354\n",
            "           5      0.821     0.842     0.831       114\n",
            "\n",
            "    accuracy                          0.920      2317\n",
            "   macro avg      0.898     0.913     0.904      2317\n",
            "weighted avg      0.923     0.920     0.921      2317\n",
            "\n"
          ]
        }
      ]
    },
    {
      "cell_type": "code",
      "source": [
        "sequence = social_media.sample(10).clean_Tekst.tolist()\n",
        "sequence"
      ],
      "metadata": {
        "colab": {
          "base_uri": "https://localhost:8080/"
        },
        "outputId": "d507a463-1cd0-4006-dcbb-8f4d0fe22b17",
        "id": "aSMsErdun66t"
      },
      "execution_count": null,
      "outputs": [
        {
          "output_type": "execute_result",
          "data": {
            "text/plain": [
              "['dziwny ten zegar #debataprezydencka',\n",
              " '@u @u prędzej kosmici wylądują przed sejmem niż ta pacynka zostanie prezydentem url',\n",
              " 'ty biedroń,jeśli ratownik zarabia poniżej url chyba pracuje na  /  etatu. #debataprezydencka',\n",
              " 'buraku. pan andrzej to pan prezydent! wyjątkowa kanalia jesteś buraku! #debataprezydencka url',\n",
              " '@u @u @u @u @u @u mnie to nie dziwi',\n",
              " '#debataprezydencka potrzebne są pieniądze obrotowe - to dobry pomysł pani mkb',\n",
              " '#wyboryprezydenckie  #debataprezydencka pani kidawa. \" trzeba przywrócić honor i godność oficerom \" ale tylko byłym sb, ub, lwp itp. url',\n",
              " '@u #debataprezydencka potrzebujemy poważnej polityki zagranicznej, musimy rozmawiać jako partnerzy i sojusznicy. kiedy zostanę prezydentem, zaproszę do polski przywódców trójkąta weimarskiego.  #prawdziwaprezydent',\n",
              " 'napewno rzad czy to tusk zaspal',\n",
              " 'kandydaci na prezydenta rp zaprezentowali swoje pomysły na gospodarkę podczas debaty w tvp #wybory  #debataprezydencka url o gospodarkę wgospodarce.pl kandydaci na prezydenta rp zaprezentowali swoje pomysły na gospodarkę podczas debaty w tvp']"
            ]
          },
          "metadata": {},
          "execution_count": 49
        }
      ]
    },
    {
      "cell_type": "code",
      "source": [
        "sequence_embed = tokenizer(text = sequence,\n",
        "                    add_special_tokens=True, \n",
        "                    max_length = max_len, \n",
        "                    truncation = True, \n",
        "                    padding = 'max_length', \n",
        "                    return_tensors = 'tf', \n",
        "                    return_token_type_ids = False, \n",
        "                    return_attention_mask = True, \n",
        "                    )"
      ],
      "metadata": {
        "id": "GAWXo9ZEn66t"
      },
      "execution_count": null,
      "outputs": []
    },
    {
      "cell_type": "code",
      "source": [
        "predicted2 = model.predict({'input_ids': sequence_embed['input_ids'], 'attention_mask': sequence_embed['attention_mask']})\n",
        "softmax_labels2 = tf.nn.softmax(predicted2[0])\n",
        "labels = np.argmax(softmax_labels2, axis = -1)\n",
        "labels"
      ],
      "metadata": {
        "colab": {
          "base_uri": "https://localhost:8080/"
        },
        "outputId": "15a72f18-f6c8-40ff-8f81-cc374e8ce6aa",
        "id": "85yhg3Ogn66u"
      },
      "execution_count": null,
      "outputs": [
        {
          "output_type": "stream",
          "name": "stdout",
          "text": [
            "1/1 [==============================] - 0s 95ms/step\n"
          ]
        },
        {
          "output_type": "execute_result",
          "data": {
            "text/plain": [
              "array([1, 1, 3, 1, 0, 1, 1, 1, 0, 1])"
            ]
          },
          "metadata": {},
          "execution_count": 51
        }
      ]
    },
    {
      "cell_type": "code",
      "source": [
        "new_df = pd.DataFrame({'text':sequence, 'emotion':labels})\n",
        "new_df['emotion'] = new_df['emotion'].map(map_emo)\n",
        "new_df"
      ],
      "metadata": {
        "colab": {
          "base_uri": "https://localhost:8080/",
          "height": 442
        },
        "outputId": "921b0410-badd-4f72-d07e-ec1f7cf9fd0c",
        "id": "0HJXWonRn66u"
      },
      "execution_count": null,
      "outputs": [
        {
          "output_type": "execute_result",
          "data": {
            "text/plain": [
              "                                                                                                                                                              text  \\\n",
              "0                                                                                                                              dziwny ten zegar #debataprezydencka   \n",
              "1                                                                              @u @u prędzej kosmici wylądują przed sejmem niż ta pacynka zostanie prezydentem url   \n",
              "2                                                                     ty biedroń,jeśli ratownik zarabia poniżej url chyba pracuje na  /  etatu. #debataprezydencka   \n",
              "3                                                                    buraku. pan andrzej to pan prezydent! wyjątkowa kanalia jesteś buraku! #debataprezydencka url   \n",
              "4                                                                                                                              @u @u @u @u @u @u mnie to nie dziwi   \n",
              "5                                                                                    #debataprezydencka potrzebne są pieniądze obrotowe - to dobry pomysł pani mkb   \n",
              "6                         #wyboryprezydenckie  #debataprezydencka pani kidawa. \" trzeba przywrócić honor i godność oficerom \" ale tylko byłym sb, ub, lwp itp. url   \n",
              "7  @u #debataprezydencka potrzebujemy poważnej polityki zagranicznej, musimy rozmawiać jako partnerzy i sojusznicy. kiedy zostanę prezydentem, zaproszę do pols...   \n",
              "8                                                                                                                                  napewno rzad czy to tusk zaspal   \n",
              "9  kandydaci na prezydenta rp zaprezentowali swoje pomysły na gospodarkę podczas debaty w tvp #wybory  #debataprezydencka url o gospodarkę wgospodarce.pl kandy...   \n",
              "\n",
              "   emotion  \n",
              "0      joy  \n",
              "1      joy  \n",
              "2    anger  \n",
              "3      joy  \n",
              "4  sadness  \n",
              "5      joy  \n",
              "6      joy  \n",
              "7      joy  \n",
              "8  sadness  \n",
              "9      joy  "
            ],
            "text/html": [
              "\n",
              "  <div id=\"df-d5edc195-c51a-440e-a712-fe027f1dbe4d\">\n",
              "    <div class=\"colab-df-container\">\n",
              "      <div>\n",
              "<style scoped>\n",
              "    .dataframe tbody tr th:only-of-type {\n",
              "        vertical-align: middle;\n",
              "    }\n",
              "\n",
              "    .dataframe tbody tr th {\n",
              "        vertical-align: top;\n",
              "    }\n",
              "\n",
              "    .dataframe thead th {\n",
              "        text-align: right;\n",
              "    }\n",
              "</style>\n",
              "<table border=\"1\" class=\"dataframe\">\n",
              "  <thead>\n",
              "    <tr style=\"text-align: right;\">\n",
              "      <th></th>\n",
              "      <th>text</th>\n",
              "      <th>emotion</th>\n",
              "    </tr>\n",
              "  </thead>\n",
              "  <tbody>\n",
              "    <tr>\n",
              "      <th>0</th>\n",
              "      <td>dziwny ten zegar #debataprezydencka</td>\n",
              "      <td>joy</td>\n",
              "    </tr>\n",
              "    <tr>\n",
              "      <th>1</th>\n",
              "      <td>@u @u prędzej kosmici wylądują przed sejmem niż ta pacynka zostanie prezydentem url</td>\n",
              "      <td>joy</td>\n",
              "    </tr>\n",
              "    <tr>\n",
              "      <th>2</th>\n",
              "      <td>ty biedroń,jeśli ratownik zarabia poniżej url chyba pracuje na  /  etatu. #debataprezydencka</td>\n",
              "      <td>anger</td>\n",
              "    </tr>\n",
              "    <tr>\n",
              "      <th>3</th>\n",
              "      <td>buraku. pan andrzej to pan prezydent! wyjątkowa kanalia jesteś buraku! #debataprezydencka url</td>\n",
              "      <td>joy</td>\n",
              "    </tr>\n",
              "    <tr>\n",
              "      <th>4</th>\n",
              "      <td>@u @u @u @u @u @u mnie to nie dziwi</td>\n",
              "      <td>sadness</td>\n",
              "    </tr>\n",
              "    <tr>\n",
              "      <th>5</th>\n",
              "      <td>#debataprezydencka potrzebne są pieniądze obrotowe - to dobry pomysł pani mkb</td>\n",
              "      <td>joy</td>\n",
              "    </tr>\n",
              "    <tr>\n",
              "      <th>6</th>\n",
              "      <td>#wyboryprezydenckie  #debataprezydencka pani kidawa. \" trzeba przywrócić honor i godność oficerom \" ale tylko byłym sb, ub, lwp itp. url</td>\n",
              "      <td>joy</td>\n",
              "    </tr>\n",
              "    <tr>\n",
              "      <th>7</th>\n",
              "      <td>@u #debataprezydencka potrzebujemy poważnej polityki zagranicznej, musimy rozmawiać jako partnerzy i sojusznicy. kiedy zostanę prezydentem, zaproszę do pols...</td>\n",
              "      <td>joy</td>\n",
              "    </tr>\n",
              "    <tr>\n",
              "      <th>8</th>\n",
              "      <td>napewno rzad czy to tusk zaspal</td>\n",
              "      <td>sadness</td>\n",
              "    </tr>\n",
              "    <tr>\n",
              "      <th>9</th>\n",
              "      <td>kandydaci na prezydenta rp zaprezentowali swoje pomysły na gospodarkę podczas debaty w tvp #wybory  #debataprezydencka url o gospodarkę wgospodarce.pl kandy...</td>\n",
              "      <td>joy</td>\n",
              "    </tr>\n",
              "  </tbody>\n",
              "</table>\n",
              "</div>\n",
              "      <button class=\"colab-df-convert\" onclick=\"convertToInteractive('df-d5edc195-c51a-440e-a712-fe027f1dbe4d')\"\n",
              "              title=\"Convert this dataframe to an interactive table.\"\n",
              "              style=\"display:none;\">\n",
              "        \n",
              "  <svg xmlns=\"http://www.w3.org/2000/svg\" height=\"24px\"viewBox=\"0 0 24 24\"\n",
              "       width=\"24px\">\n",
              "    <path d=\"M0 0h24v24H0V0z\" fill=\"none\"/>\n",
              "    <path d=\"M18.56 5.44l.94 2.06.94-2.06 2.06-.94-2.06-.94-.94-2.06-.94 2.06-2.06.94zm-11 1L8.5 8.5l.94-2.06 2.06-.94-2.06-.94L8.5 2.5l-.94 2.06-2.06.94zm10 10l.94 2.06.94-2.06 2.06-.94-2.06-.94-.94-2.06-.94 2.06-2.06.94z\"/><path d=\"M17.41 7.96l-1.37-1.37c-.4-.4-.92-.59-1.43-.59-.52 0-1.04.2-1.43.59L10.3 9.45l-7.72 7.72c-.78.78-.78 2.05 0 2.83L4 21.41c.39.39.9.59 1.41.59.51 0 1.02-.2 1.41-.59l7.78-7.78 2.81-2.81c.8-.78.8-2.07 0-2.86zM5.41 20L4 18.59l7.72-7.72 1.47 1.35L5.41 20z\"/>\n",
              "  </svg>\n",
              "      </button>\n",
              "      \n",
              "  <style>\n",
              "    .colab-df-container {\n",
              "      display:flex;\n",
              "      flex-wrap:wrap;\n",
              "      gap: 12px;\n",
              "    }\n",
              "\n",
              "    .colab-df-convert {\n",
              "      background-color: #E8F0FE;\n",
              "      border: none;\n",
              "      border-radius: 50%;\n",
              "      cursor: pointer;\n",
              "      display: none;\n",
              "      fill: #1967D2;\n",
              "      height: 32px;\n",
              "      padding: 0 0 0 0;\n",
              "      width: 32px;\n",
              "    }\n",
              "\n",
              "    .colab-df-convert:hover {\n",
              "      background-color: #E2EBFA;\n",
              "      box-shadow: 0px 1px 2px rgba(60, 64, 67, 0.3), 0px 1px 3px 1px rgba(60, 64, 67, 0.15);\n",
              "      fill: #174EA6;\n",
              "    }\n",
              "\n",
              "    [theme=dark] .colab-df-convert {\n",
              "      background-color: #3B4455;\n",
              "      fill: #D2E3FC;\n",
              "    }\n",
              "\n",
              "    [theme=dark] .colab-df-convert:hover {\n",
              "      background-color: #434B5C;\n",
              "      box-shadow: 0px 1px 3px 1px rgba(0, 0, 0, 0.15);\n",
              "      filter: drop-shadow(0px 1px 2px rgba(0, 0, 0, 0.3));\n",
              "      fill: #FFFFFF;\n",
              "    }\n",
              "  </style>\n",
              "\n",
              "      <script>\n",
              "        const buttonEl =\n",
              "          document.querySelector('#df-d5edc195-c51a-440e-a712-fe027f1dbe4d button.colab-df-convert');\n",
              "        buttonEl.style.display =\n",
              "          google.colab.kernel.accessAllowed ? 'block' : 'none';\n",
              "\n",
              "        async function convertToInteractive(key) {\n",
              "          const element = document.querySelector('#df-d5edc195-c51a-440e-a712-fe027f1dbe4d');\n",
              "          const dataTable =\n",
              "            await google.colab.kernel.invokeFunction('convertToInteractive',\n",
              "                                                     [key], {});\n",
              "          if (!dataTable) return;\n",
              "\n",
              "          const docLinkHtml = 'Like what you see? Visit the ' +\n",
              "            '<a target=\"_blank\" href=https://colab.research.google.com/notebooks/data_table.ipynb>data table notebook</a>'\n",
              "            + ' to learn more about interactive tables.';\n",
              "          element.innerHTML = '';\n",
              "          dataTable['output_type'] = 'display_data';\n",
              "          await google.colab.output.renderOutput(dataTable, element);\n",
              "          const docLink = document.createElement('div');\n",
              "          docLink.innerHTML = docLinkHtml;\n",
              "          element.appendChild(docLink);\n",
              "        }\n",
              "      </script>\n",
              "    </div>\n",
              "  </div>\n",
              "  "
            ]
          },
          "metadata": {},
          "execution_count": 52
        }
      ]
    },
    {
      "cell_type": "code",
      "source": [],
      "metadata": {
        "id": "SFvBnPy7n66v"
      },
      "execution_count": null,
      "outputs": []
    },
    {
      "cell_type": "markdown",
      "source": [
        "##join data"
      ],
      "metadata": {
        "id": "jv-CCvIfot0y"
      }
    },
    {
      "cell_type": "code",
      "source": [
        "def process_reactions(dataframe_social_media, dataframe_debate, analysis_type = \"sentiment\"):\n",
        "  \"\"\"\n",
        "  time shift = -1min;\n",
        "  \n",
        "  dataframe_social_media: data with social media reactions (comments), \n",
        "\n",
        "  dataframe_debate: data with debate arguments, \n",
        "  \n",
        "  analysis_type: 'sentiment' or 'emotions', \n",
        "\n",
        "  \"\"\"\n",
        "  sm_data = dataframe_social_media.copy()\n",
        "  deb_data = dataframe_debate.copy()\n",
        "\n",
        "  sm_data.sort_values(by = 'Data', inplace=True)\n",
        "\n",
        "  deb_data[\"Time\"] = pd.to_datetime(deb_data.start)\n",
        "  deb_data.sort_values(by = \"Time\", inplace=True)\n",
        "\n",
        "  df_plot = deb_data.set_index(\"Time\").resample(\"1T\").mean().fillna(0)\n",
        "  df_plot.reset_index(inplace=True)\n",
        "  df_plot[\"Time\"] = df_plot[\"Time\"].dt.time.apply(str)\n",
        "\n",
        "  if analysis_type == \"emotion\":\n",
        "    df_plots_counts_normalized = pd.DataFrame(sm_data.set_index(\"Data\").shift(periods=-1, \n",
        "                                                                              freq=\"T\", \n",
        "                                                                              axis=0).resample(\"1T\")[\"emotion\"].value_counts(normalize=True)) * 100\n",
        "    df_plots_counts_normalized.columns = ['_'.join(col) for col in df_plots_counts_normalized.columns]\n",
        "    df_plots_counts_normalized = df_plots_counts_normalized.reset_index()\n",
        "    df_plots_counts_normalized.columns = ['Data', 'emotion', 'mean']\n",
        "\n",
        "    df_plots_counts_normalized.sort_values(by = ['Data', 'emotion'], inplace=True)\n",
        "    df_plots_counts_normalized[\"Time\"] = df_plots_counts_normalized[\"Data\"].dt.time.apply(str)\n",
        "\n",
        "    # merge social media and debate data\n",
        "    df_plot_join = pd.merge(df_plots_counts_normalized, df_plot, on = \"Time\", how = \"left\")\n",
        "\n",
        "    # additionally we can take only selected columns\n",
        "    #emotions = ['Anger', 'Sadness', 'Fear', 'Disgust', 'Happiness']\n",
        "    #cols = [c for c in df_plot_join.columns for i, n in enumerate(emotions) if emotions[i] in c] \n",
        "\n",
        "\n",
        "  else:\n",
        "    df_plots_counts_normalized = pd.DataFrame(sm_data.set_index(\"Data\").shift(periods=-1, \n",
        "                                                                              freq=\"T\", \n",
        "                                                                              axis=0).resample(\"1T\")[\"sentiment_label_PaRes\"].value_counts(normalize=True)) * 100\n",
        "    df_plots_counts_normalized.columns = ['_'.join(col) for col in df_plots_counts_normalized.columns]\n",
        "    df_plots_counts_normalized = df_plots_counts_normalized.reset_index()\n",
        "    df_plots_counts_normalized.columns = ['Data', 'sentiment_label_PaRes', 'mean']\n",
        "\n",
        "    df_plots_counts_normalized.sort_values(by = ['Data', 'sentiment_label_PaRes'], inplace=True)\n",
        "    df_plots_counts_normalized[\"Time\"] = df_plots_counts_normalized[\"Data\"].dt.time.apply(str)\n",
        "    \n",
        "    # merge social media and debate data\n",
        "    df_plot_join = pd.merge(df_plots_counts_normalized, df_plot, on = \"Time\", how = \"left\")\n",
        "\n",
        "  return df_plot_join"
      ],
      "metadata": {
        "id": "VOt77coAot0z"
      },
      "execution_count": null,
      "outputs": []
    },
    {
      "cell_type": "code",
      "source": [
        "df_corr_pl_processed = process_reactions(dataframe_social_media = social_media, \n",
        "                                        dataframe_debate = df, \n",
        "                                        analysis_type = 'emotion') # sentiment  emotion\n",
        "\n",
        "# take data only from the time of the live debate\n",
        "may_data = df_corr_pl_processed[ (df_corr_pl_processed.Data >= '2020-05-06 20:34:00') & (df_corr_pl_processed.Data <= '2020-05-06 21:42:00') ]\n",
        "june_data = df_corr_pl_processed[ (df_corr_pl_processed.Data >= '2020-06-17 21:03:00') & (df_corr_pl_processed.Data <= '2020-06-17 22:18:00') ]\n",
        "\n",
        "\n",
        "df_corr_pl_processed = may_data \n",
        "print(df_corr_pl_processed.shape, '\\n')\n",
        "df_corr_pl_processed.head(3)"
      ],
      "metadata": {
        "colab": {
          "base_uri": "https://localhost:8080/",
          "height": 364
        },
        "outputId": "6678c892-3251-431d-9d27-220dbe64fa96",
        "id": "2uMDEHH5ot00"
      },
      "execution_count": null,
      "outputs": [
        {
          "output_type": "stream",
          "name": "stdout",
          "text": [
            "(395, 50) \n",
            "\n"
          ]
        },
        {
          "output_type": "execute_result",
          "data": {
            "text/plain": [
              "                  Data emotion       mean      Time  question number  \\\n",
              "26 2020-05-06 20:34:00   anger  16.129032  20:34:00              1.0   \n",
              "27 2020-05-06 20:34:00    fear  32.258065  20:34:00              1.0   \n",
              "28 2020-05-06 20:34:00     joy  38.709677  20:34:00              1.0   \n",
              "\n",
              "    conclusion_valence_score  conclusion_valence_positive_count  \\\n",
              "26                  0.267857                           0.333333   \n",
              "27                  0.267857                           0.333333   \n",
              "28                  0.267857                           0.333333   \n",
              "\n",
              "    conclusion_valence_negative_count  conclusion_joy  conclusion_anger  \\\n",
              "26                           1.333333        0.252333               0.1   \n",
              "27                           1.333333        0.252333               0.1   \n",
              "28                           1.333333        0.252333               0.1   \n",
              "\n",
              "    conclusion_sadness  conclusion_fear  conclusion_disgust  \\\n",
              "26               0.199              0.0            0.075667   \n",
              "27               0.199              0.0            0.075667   \n",
              "28               0.199              0.0            0.075667   \n",
              "\n",
              "    conclusion_valence  conclusion_arousal  conclusion_CATEGORY_HAP  \\\n",
              "26               0.472            0.557333                      0.0   \n",
              "27               0.472            0.557333                      0.0   \n",
              "28               0.472            0.557333                      0.0   \n",
              "\n",
              "    conclusion_CATEGORY_FEA  conclusion_CATEGORY_SAD  conclusion_CATEGORY_ANG  \\\n",
              "26                      0.0                 0.333333                 0.333333   \n",
              "27                      0.0                 0.333333                 0.333333   \n",
              "28                      0.0                 0.333333                 0.333333   \n",
              "\n",
              "    conclusion_CATEGORY_DIS  premise_valence_score  \\\n",
              "26                      0.0                  0.275   \n",
              "27                      0.0                  0.275   \n",
              "28                      0.0                  0.275   \n",
              "\n",
              "    premise_valence_positive_count  premise_valence_negative_count  \\\n",
              "26                             1.0                        0.333333   \n",
              "27                             1.0                        0.333333   \n",
              "28                             1.0                        0.333333   \n",
              "\n",
              "    premise_joy  premise_anger  premise_sadness  premise_fear  \\\n",
              "26          0.0            0.0            0.597           0.0   \n",
              "27          0.0            0.0            0.597           0.0   \n",
              "28          0.0            0.0            0.597           0.0   \n",
              "\n",
              "    premise_disgust  premise_valence  premise_arousal  premise_CATEGORY_ANG  \\\n",
              "26              0.0             0.29            0.524                   0.0   \n",
              "27              0.0             0.29            0.524                   0.0   \n",
              "28              0.0             0.29            0.524                   0.0   \n",
              "\n",
              "    premise_CATEGORY_HAP  premise_CATEGORY_FEA  premise_CATEGORY_SAD  \\\n",
              "26                   0.0                   0.0              0.333333   \n",
              "27                   0.0                   0.0              0.333333   \n",
              "28                   0.0                   0.0              0.333333   \n",
              "\n",
              "    premise_CATEGORY_DIS  full_argument_valence_score  \\\n",
              "26                   0.0                     0.259259   \n",
              "27                   0.0                     0.259259   \n",
              "28                   0.0                     0.259259   \n",
              "\n",
              "    full_argument_valence_positive_count  \\\n",
              "26                              1.333333   \n",
              "27                              1.333333   \n",
              "28                              1.333333   \n",
              "\n",
              "    full_argument_valence_negative_count  full_argument_joy  \\\n",
              "26                              1.666667           0.126333   \n",
              "27                              1.666667           0.126333   \n",
              "28                              1.666667           0.126333   \n",
              "\n",
              "    full_argument_anger  full_argument_sadness  full_argument_fear  \\\n",
              "26                  0.1               0.298667                 0.0   \n",
              "27                  0.1               0.298667                 0.0   \n",
              "28                  0.1               0.298667                 0.0   \n",
              "\n",
              "    full_argument_disgust  full_argument_valence  full_argument_arousal  \\\n",
              "26               0.075667               0.383667               0.538667   \n",
              "27               0.075667               0.383667               0.538667   \n",
              "28               0.075667               0.383667               0.538667   \n",
              "\n",
              "    full_argument_CATEGORY_HAP  full_argument_CATEGORY_ANG  \\\n",
              "26                         0.0                    0.333333   \n",
              "27                         0.0                    0.333333   \n",
              "28                         0.0                    0.333333   \n",
              "\n",
              "    full_argument_CATEGORY_FEA  full_argument_CATEGORY_SAD  \\\n",
              "26                         0.0                    0.666667   \n",
              "27                         0.0                    0.666667   \n",
              "28                         0.0                    0.666667   \n",
              "\n",
              "    full_argument_CATEGORY_DIS  \n",
              "26                         0.0  \n",
              "27                         0.0  \n",
              "28                         0.0  "
            ],
            "text/html": [
              "\n",
              "  <div id=\"df-e88ee2da-6703-44c0-89d1-3a36aa8be5f5\">\n",
              "    <div class=\"colab-df-container\">\n",
              "      <div>\n",
              "<style scoped>\n",
              "    .dataframe tbody tr th:only-of-type {\n",
              "        vertical-align: middle;\n",
              "    }\n",
              "\n",
              "    .dataframe tbody tr th {\n",
              "        vertical-align: top;\n",
              "    }\n",
              "\n",
              "    .dataframe thead th {\n",
              "        text-align: right;\n",
              "    }\n",
              "</style>\n",
              "<table border=\"1\" class=\"dataframe\">\n",
              "  <thead>\n",
              "    <tr style=\"text-align: right;\">\n",
              "      <th></th>\n",
              "      <th>Data</th>\n",
              "      <th>emotion</th>\n",
              "      <th>mean</th>\n",
              "      <th>Time</th>\n",
              "      <th>question number</th>\n",
              "      <th>conclusion_valence_score</th>\n",
              "      <th>conclusion_valence_positive_count</th>\n",
              "      <th>conclusion_valence_negative_count</th>\n",
              "      <th>conclusion_joy</th>\n",
              "      <th>conclusion_anger</th>\n",
              "      <th>conclusion_sadness</th>\n",
              "      <th>conclusion_fear</th>\n",
              "      <th>conclusion_disgust</th>\n",
              "      <th>conclusion_valence</th>\n",
              "      <th>conclusion_arousal</th>\n",
              "      <th>conclusion_CATEGORY_HAP</th>\n",
              "      <th>conclusion_CATEGORY_FEA</th>\n",
              "      <th>conclusion_CATEGORY_SAD</th>\n",
              "      <th>conclusion_CATEGORY_ANG</th>\n",
              "      <th>conclusion_CATEGORY_DIS</th>\n",
              "      <th>premise_valence_score</th>\n",
              "      <th>premise_valence_positive_count</th>\n",
              "      <th>premise_valence_negative_count</th>\n",
              "      <th>premise_joy</th>\n",
              "      <th>premise_anger</th>\n",
              "      <th>premise_sadness</th>\n",
              "      <th>premise_fear</th>\n",
              "      <th>premise_disgust</th>\n",
              "      <th>premise_valence</th>\n",
              "      <th>premise_arousal</th>\n",
              "      <th>premise_CATEGORY_ANG</th>\n",
              "      <th>premise_CATEGORY_HAP</th>\n",
              "      <th>premise_CATEGORY_FEA</th>\n",
              "      <th>premise_CATEGORY_SAD</th>\n",
              "      <th>premise_CATEGORY_DIS</th>\n",
              "      <th>full_argument_valence_score</th>\n",
              "      <th>full_argument_valence_positive_count</th>\n",
              "      <th>full_argument_valence_negative_count</th>\n",
              "      <th>full_argument_joy</th>\n",
              "      <th>full_argument_anger</th>\n",
              "      <th>full_argument_sadness</th>\n",
              "      <th>full_argument_fear</th>\n",
              "      <th>full_argument_disgust</th>\n",
              "      <th>full_argument_valence</th>\n",
              "      <th>full_argument_arousal</th>\n",
              "      <th>full_argument_CATEGORY_HAP</th>\n",
              "      <th>full_argument_CATEGORY_ANG</th>\n",
              "      <th>full_argument_CATEGORY_FEA</th>\n",
              "      <th>full_argument_CATEGORY_SAD</th>\n",
              "      <th>full_argument_CATEGORY_DIS</th>\n",
              "    </tr>\n",
              "  </thead>\n",
              "  <tbody>\n",
              "    <tr>\n",
              "      <th>26</th>\n",
              "      <td>2020-05-06 20:34:00</td>\n",
              "      <td>anger</td>\n",
              "      <td>16.129032</td>\n",
              "      <td>20:34:00</td>\n",
              "      <td>1.0</td>\n",
              "      <td>0.267857</td>\n",
              "      <td>0.333333</td>\n",
              "      <td>1.333333</td>\n",
              "      <td>0.252333</td>\n",
              "      <td>0.1</td>\n",
              "      <td>0.199</td>\n",
              "      <td>0.0</td>\n",
              "      <td>0.075667</td>\n",
              "      <td>0.472</td>\n",
              "      <td>0.557333</td>\n",
              "      <td>0.0</td>\n",
              "      <td>0.0</td>\n",
              "      <td>0.333333</td>\n",
              "      <td>0.333333</td>\n",
              "      <td>0.0</td>\n",
              "      <td>0.275</td>\n",
              "      <td>1.0</td>\n",
              "      <td>0.333333</td>\n",
              "      <td>0.0</td>\n",
              "      <td>0.0</td>\n",
              "      <td>0.597</td>\n",
              "      <td>0.0</td>\n",
              "      <td>0.0</td>\n",
              "      <td>0.29</td>\n",
              "      <td>0.524</td>\n",
              "      <td>0.0</td>\n",
              "      <td>0.0</td>\n",
              "      <td>0.0</td>\n",
              "      <td>0.333333</td>\n",
              "      <td>0.0</td>\n",
              "      <td>0.259259</td>\n",
              "      <td>1.333333</td>\n",
              "      <td>1.666667</td>\n",
              "      <td>0.126333</td>\n",
              "      <td>0.1</td>\n",
              "      <td>0.298667</td>\n",
              "      <td>0.0</td>\n",
              "      <td>0.075667</td>\n",
              "      <td>0.383667</td>\n",
              "      <td>0.538667</td>\n",
              "      <td>0.0</td>\n",
              "      <td>0.333333</td>\n",
              "      <td>0.0</td>\n",
              "      <td>0.666667</td>\n",
              "      <td>0.0</td>\n",
              "    </tr>\n",
              "    <tr>\n",
              "      <th>27</th>\n",
              "      <td>2020-05-06 20:34:00</td>\n",
              "      <td>fear</td>\n",
              "      <td>32.258065</td>\n",
              "      <td>20:34:00</td>\n",
              "      <td>1.0</td>\n",
              "      <td>0.267857</td>\n",
              "      <td>0.333333</td>\n",
              "      <td>1.333333</td>\n",
              "      <td>0.252333</td>\n",
              "      <td>0.1</td>\n",
              "      <td>0.199</td>\n",
              "      <td>0.0</td>\n",
              "      <td>0.075667</td>\n",
              "      <td>0.472</td>\n",
              "      <td>0.557333</td>\n",
              "      <td>0.0</td>\n",
              "      <td>0.0</td>\n",
              "      <td>0.333333</td>\n",
              "      <td>0.333333</td>\n",
              "      <td>0.0</td>\n",
              "      <td>0.275</td>\n",
              "      <td>1.0</td>\n",
              "      <td>0.333333</td>\n",
              "      <td>0.0</td>\n",
              "      <td>0.0</td>\n",
              "      <td>0.597</td>\n",
              "      <td>0.0</td>\n",
              "      <td>0.0</td>\n",
              "      <td>0.29</td>\n",
              "      <td>0.524</td>\n",
              "      <td>0.0</td>\n",
              "      <td>0.0</td>\n",
              "      <td>0.0</td>\n",
              "      <td>0.333333</td>\n",
              "      <td>0.0</td>\n",
              "      <td>0.259259</td>\n",
              "      <td>1.333333</td>\n",
              "      <td>1.666667</td>\n",
              "      <td>0.126333</td>\n",
              "      <td>0.1</td>\n",
              "      <td>0.298667</td>\n",
              "      <td>0.0</td>\n",
              "      <td>0.075667</td>\n",
              "      <td>0.383667</td>\n",
              "      <td>0.538667</td>\n",
              "      <td>0.0</td>\n",
              "      <td>0.333333</td>\n",
              "      <td>0.0</td>\n",
              "      <td>0.666667</td>\n",
              "      <td>0.0</td>\n",
              "    </tr>\n",
              "    <tr>\n",
              "      <th>28</th>\n",
              "      <td>2020-05-06 20:34:00</td>\n",
              "      <td>joy</td>\n",
              "      <td>38.709677</td>\n",
              "      <td>20:34:00</td>\n",
              "      <td>1.0</td>\n",
              "      <td>0.267857</td>\n",
              "      <td>0.333333</td>\n",
              "      <td>1.333333</td>\n",
              "      <td>0.252333</td>\n",
              "      <td>0.1</td>\n",
              "      <td>0.199</td>\n",
              "      <td>0.0</td>\n",
              "      <td>0.075667</td>\n",
              "      <td>0.472</td>\n",
              "      <td>0.557333</td>\n",
              "      <td>0.0</td>\n",
              "      <td>0.0</td>\n",
              "      <td>0.333333</td>\n",
              "      <td>0.333333</td>\n",
              "      <td>0.0</td>\n",
              "      <td>0.275</td>\n",
              "      <td>1.0</td>\n",
              "      <td>0.333333</td>\n",
              "      <td>0.0</td>\n",
              "      <td>0.0</td>\n",
              "      <td>0.597</td>\n",
              "      <td>0.0</td>\n",
              "      <td>0.0</td>\n",
              "      <td>0.29</td>\n",
              "      <td>0.524</td>\n",
              "      <td>0.0</td>\n",
              "      <td>0.0</td>\n",
              "      <td>0.0</td>\n",
              "      <td>0.333333</td>\n",
              "      <td>0.0</td>\n",
              "      <td>0.259259</td>\n",
              "      <td>1.333333</td>\n",
              "      <td>1.666667</td>\n",
              "      <td>0.126333</td>\n",
              "      <td>0.1</td>\n",
              "      <td>0.298667</td>\n",
              "      <td>0.0</td>\n",
              "      <td>0.075667</td>\n",
              "      <td>0.383667</td>\n",
              "      <td>0.538667</td>\n",
              "      <td>0.0</td>\n",
              "      <td>0.333333</td>\n",
              "      <td>0.0</td>\n",
              "      <td>0.666667</td>\n",
              "      <td>0.0</td>\n",
              "    </tr>\n",
              "  </tbody>\n",
              "</table>\n",
              "</div>\n",
              "      <button class=\"colab-df-convert\" onclick=\"convertToInteractive('df-e88ee2da-6703-44c0-89d1-3a36aa8be5f5')\"\n",
              "              title=\"Convert this dataframe to an interactive table.\"\n",
              "              style=\"display:none;\">\n",
              "        \n",
              "  <svg xmlns=\"http://www.w3.org/2000/svg\" height=\"24px\"viewBox=\"0 0 24 24\"\n",
              "       width=\"24px\">\n",
              "    <path d=\"M0 0h24v24H0V0z\" fill=\"none\"/>\n",
              "    <path d=\"M18.56 5.44l.94 2.06.94-2.06 2.06-.94-2.06-.94-.94-2.06-.94 2.06-2.06.94zm-11 1L8.5 8.5l.94-2.06 2.06-.94-2.06-.94L8.5 2.5l-.94 2.06-2.06.94zm10 10l.94 2.06.94-2.06 2.06-.94-2.06-.94-.94-2.06-.94 2.06-2.06.94z\"/><path d=\"M17.41 7.96l-1.37-1.37c-.4-.4-.92-.59-1.43-.59-.52 0-1.04.2-1.43.59L10.3 9.45l-7.72 7.72c-.78.78-.78 2.05 0 2.83L4 21.41c.39.39.9.59 1.41.59.51 0 1.02-.2 1.41-.59l7.78-7.78 2.81-2.81c.8-.78.8-2.07 0-2.86zM5.41 20L4 18.59l7.72-7.72 1.47 1.35L5.41 20z\"/>\n",
              "  </svg>\n",
              "      </button>\n",
              "      \n",
              "  <style>\n",
              "    .colab-df-container {\n",
              "      display:flex;\n",
              "      flex-wrap:wrap;\n",
              "      gap: 12px;\n",
              "    }\n",
              "\n",
              "    .colab-df-convert {\n",
              "      background-color: #E8F0FE;\n",
              "      border: none;\n",
              "      border-radius: 50%;\n",
              "      cursor: pointer;\n",
              "      display: none;\n",
              "      fill: #1967D2;\n",
              "      height: 32px;\n",
              "      padding: 0 0 0 0;\n",
              "      width: 32px;\n",
              "    }\n",
              "\n",
              "    .colab-df-convert:hover {\n",
              "      background-color: #E2EBFA;\n",
              "      box-shadow: 0px 1px 2px rgba(60, 64, 67, 0.3), 0px 1px 3px 1px rgba(60, 64, 67, 0.15);\n",
              "      fill: #174EA6;\n",
              "    }\n",
              "\n",
              "    [theme=dark] .colab-df-convert {\n",
              "      background-color: #3B4455;\n",
              "      fill: #D2E3FC;\n",
              "    }\n",
              "\n",
              "    [theme=dark] .colab-df-convert:hover {\n",
              "      background-color: #434B5C;\n",
              "      box-shadow: 0px 1px 3px 1px rgba(0, 0, 0, 0.15);\n",
              "      filter: drop-shadow(0px 1px 2px rgba(0, 0, 0, 0.3));\n",
              "      fill: #FFFFFF;\n",
              "    }\n",
              "  </style>\n",
              "\n",
              "      <script>\n",
              "        const buttonEl =\n",
              "          document.querySelector('#df-e88ee2da-6703-44c0-89d1-3a36aa8be5f5 button.colab-df-convert');\n",
              "        buttonEl.style.display =\n",
              "          google.colab.kernel.accessAllowed ? 'block' : 'none';\n",
              "\n",
              "        async function convertToInteractive(key) {\n",
              "          const element = document.querySelector('#df-e88ee2da-6703-44c0-89d1-3a36aa8be5f5');\n",
              "          const dataTable =\n",
              "            await google.colab.kernel.invokeFunction('convertToInteractive',\n",
              "                                                     [key], {});\n",
              "          if (!dataTable) return;\n",
              "\n",
              "          const docLinkHtml = 'Like what you see? Visit the ' +\n",
              "            '<a target=\"_blank\" href=https://colab.research.google.com/notebooks/data_table.ipynb>data table notebook</a>'\n",
              "            + ' to learn more about interactive tables.';\n",
              "          element.innerHTML = '';\n",
              "          dataTable['output_type'] = 'display_data';\n",
              "          await google.colab.output.renderOutput(dataTable, element);\n",
              "          const docLink = document.createElement('div');\n",
              "          docLink.innerHTML = docLinkHtml;\n",
              "          element.appendChild(docLink);\n",
              "        }\n",
              "      </script>\n",
              "    </div>\n",
              "  </div>\n",
              "  "
            ]
          },
          "metadata": {},
          "execution_count": 76
        }
      ]
    },
    {
      "cell_type": "code",
      "source": [
        "df_corr_pl_processed = df_corr_pl_processed.reset_index(drop=True)"
      ],
      "metadata": {
        "id": "IAHbiMAwot01"
      },
      "execution_count": null,
      "outputs": []
    },
    {
      "cell_type": "code",
      "source": [
        "# simple filter forcols with numerical values\n",
        "df_corr_pl_processed.describe().columns"
      ],
      "metadata": {
        "id": "Co0DUHpDot02"
      },
      "execution_count": null,
      "outputs": []
    },
    {
      "cell_type": "markdown",
      "source": [
        "##correlation"
      ],
      "metadata": {
        "id": "PNzhOxQrot02"
      }
    },
    {
      "cell_type": "code",
      "source": [
        "eliciting_emo = df_corr_pl_processed.describe().columns"
      ],
      "metadata": {
        "id": "Q7YLCPq7ot02"
      },
      "execution_count": null,
      "outputs": []
    },
    {
      "cell_type": "code",
      "source": [
        "# optional:  apply logarithmic transformation to the calculated proportions of emotions\n",
        "\n",
        "df_corr_pl_processed['mean'] = df_corr_pl_processed['mean'].apply(lambda x: np.log(x+1))\n",
        "\n",
        "for c in eliciting_emo:\n",
        "  df_corr_pl_processed[c] = df_corr_pl_processed[c].apply(lambda x: np.log((x+1))"
      ],
      "metadata": {
        "id": "4EtKBBQEot02"
      },
      "execution_count": null,
      "outputs": []
    },
    {
      "cell_type": "code",
      "source": [
        "emo = df_corr_pl_processed.emotion.unique()\n",
        "emo"
      ],
      "metadata": {
        "colab": {
          "base_uri": "https://localhost:8080/"
        },
        "outputId": "360b3a5c-3c56-4555-d1e1-c48d00786516",
        "id": "8TDtx3A5ot03"
      },
      "execution_count": null,
      "outputs": [
        {
          "output_type": "execute_result",
          "data": {
            "text/plain": [
              "array(['anger', 'fear', 'joy', 'love', 'sadness', 'surprise'],\n",
              "      dtype=object)"
            ]
          },
          "metadata": {},
          "execution_count": 79
        }
      ]
    },
    {
      "cell_type": "code",
      "source": [
        "df_corr_pl_processed[(df_corr_pl_processed[['full_argument_valence_positive_count', \n",
        "                                            'full_argument_valence_negative_count', \n",
        "                                            'full_argument_valence']].any(axis=1))].shape"
      ],
      "metadata": {
        "colab": {
          "base_uri": "https://localhost:8080/"
        },
        "outputId": "302fb7ef-dbd6-4474-f1b3-b2283ab37193",
        "id": "iNzjG0gHot03"
      },
      "execution_count": null,
      "outputs": [
        {
          "output_type": "execute_result",
          "data": {
            "text/plain": [
              "(321, 50)"
            ]
          },
          "metadata": {},
          "execution_count": 81
        }
      ]
    },
    {
      "cell_type": "code",
      "source": [
        "df_corr_pl_processed.shape"
      ],
      "metadata": {
        "colab": {
          "base_uri": "https://localhost:8080/"
        },
        "outputId": "182bf8f7-656d-47a6-cc80-67302d022a47",
        "id": "yRyqMXnTot04"
      },
      "execution_count": null,
      "outputs": [
        {
          "output_type": "execute_result",
          "data": {
            "text/plain": [
              "(395, 50)"
            ]
          },
          "metadata": {},
          "execution_count": 82
        }
      ]
    },
    {
      "cell_type": "markdown",
      "source": [
        "###calculate coefficients"
      ],
      "metadata": {
        "id": "-UnvsY-3ot04"
      }
    },
    {
      "cell_type": "code",
      "source": [
        "from scipy.stats import pearsonr, spearmanr"
      ],
      "metadata": {
        "id": "reYVhxI6ot04"
      },
      "execution_count": null,
      "outputs": []
    },
    {
      "cell_type": "code",
      "source": [
        "one = []\n",
        "second = []\n",
        "corcof = []\n",
        "pvals = []\n",
        "\n",
        "for e_exp in emo:\n",
        "  df_cor = df_corr_pl_processed[ (df_corr_pl_processed.emotion == e_exp) & \\\n",
        "                                (df_corr_pl_processed[['full_argument_valence_positive_count', \n",
        "                                                       'full_argument_valence_negative_count', \n",
        "                                                       'full_argument_valence']].any(axis=1)) ]\n",
        "  for e_el in eliciting_emo:\n",
        "    sample_exp = df_cor['mean'].values\n",
        "    sample_elicit = df_cor[e_el].values\n",
        "    print(f\"Exp: {e_exp} - El: {e_el} \")\n",
        "    coef, pval = pearsonr(sample_exp, sample_elicit)\n",
        "    coef_spear, pval_spear = spearmanr(sample_exp, sample_elicit)\n",
        "    print('Spearman ', round(coef_spear, 2), round(pval_spear, 3))\n",
        "    print('Pearson ', round(coef, 2), round(pval, 3))\n",
        "    if pval <= 0.05:\n",
        "      print(\"\\nH0 could be rejected !! \\n\")\n",
        "    print(\"\\n\")\n",
        "    one.append(e_exp)\n",
        "    second.append(e_el)\n",
        "    corcof.append(round(coef, 3))\n",
        "    pvals.append(round(pval, 3))\n"
      ],
      "metadata": {
        "id": "0YXwXTFrot04"
      },
      "execution_count": null,
      "outputs": []
    },
    {
      "cell_type": "code",
      "source": [
        "df_res = pd.DataFrame({\"first_emotion\": second, \n",
        "                       \"second_emotion\": one, \n",
        "                       \"cor\": corcof, \n",
        "                       \"p_value\":pvals})\n",
        "df_res.head(2)"
      ],
      "metadata": {
        "id": "knQad5cWot05"
      },
      "execution_count": null,
      "outputs": []
    },
    {
      "cell_type": "code",
      "source": [
        "df_res[df_res.p_value <= 0.05].sort_values(by = 'first_emotion') "
      ],
      "metadata": {
        "id": "XFHKro7tot06"
      },
      "execution_count": null,
      "outputs": []
    },
    {
      "cell_type": "markdown",
      "source": [
        "###plots"
      ],
      "metadata": {
        "id": "zwS6yC2bot06"
      }
    },
    {
      "cell_type": "code",
      "source": [
        "df_plot = df_res[df_res.p_value <= 0.05].sort_values(by='first_emotion').reset_index(drop=True)"
      ],
      "metadata": {
        "id": "TvshmXBoot07"
      },
      "execution_count": null,
      "outputs": []
    },
    {
      "cell_type": "markdown",
      "source": [
        "###lineplot"
      ],
      "metadata": {
        "id": "6ZZgzlFFot07"
      }
    },
    {
      "cell_type": "markdown",
      "source": [
        "####rolling average"
      ],
      "metadata": {
        "id": "GQ-CrcB-ot07"
      }
    },
    {
      "cell_type": "code",
      "source": [
        "ids = [2,3,4,6,7,8,9,10] # select emotions"
      ],
      "metadata": {
        "id": "_5kztOq5ot08"
      },
      "execution_count": null,
      "outputs": []
    },
    {
      "cell_type": "code",
      "source": [
        "# https://pandas.pydata.org/docs/reference/api/pandas.DataFrame.rolling.html\n",
        "# Moving average (with window = 3)\n",
        "\n",
        "for i in ids:\n",
        "  expr = df_plot.loc[i, 'second_emotion']\n",
        "  elicit = df_plot.loc[i, 'first_emotion']\n",
        "\n",
        "  data = df_corr_pl_processed[ (df_corr_pl_processed.emotion == expr) &\\\n",
        "                            (df_corr_pl_processed[['full_argument_valence_positive_count', 'full_argument_valence_negative_count', 'full_argument_valence']].any(axis=1))]\n",
        "\n",
        "  data['exp'] = (data['mean'] / data['mean'].mean())\n",
        "  data['eliciting'] = (data[elicit] / data[elicit].mean())\n",
        "  data2 = data[['Time', 'exp', 'eliciting']].rolling(3).mean().iloc[2:]\n",
        "\n",
        "  print('EX:', expr, \" EL:\", elicit, \"coeff: \", df_plot.loc[i, 'cor'])\n",
        "  plt.figure(figsize=(14, 7))\n",
        "  plt.plot(data.loc[data2.index, 'Time'], data2['exp'], color='red', label='expressed')\n",
        "  plt.plot(data.loc[data2.index, 'Time'], data2['eliciting'], color='black', label = 'eliciting')\n",
        "  plt.xticks(rotation=90, fontsize=10)\n",
        "  plt.legend(loc='best')\n",
        "  plt.show()\n",
        "  print('\\n\\n')"
      ],
      "metadata": {
        "id": "VHZXbrdtot08"
      },
      "execution_count": null,
      "outputs": []
    },
    {
      "cell_type": "markdown",
      "source": [
        "###barplot"
      ],
      "metadata": {
        "id": "5fdiqcLUot09"
      }
    },
    {
      "cell_type": "markdown",
      "source": [
        "####normal "
      ],
      "metadata": {
        "id": "tsnxd7lFot09"
      }
    },
    {
      "cell_type": "code",
      "source": [
        "for i in ids:\n",
        "  expr = df_plot.loc[i, 'second_emotion']\n",
        "  elicit = df_plot.loc[i, 'first_emotion']\n",
        "\n",
        "  data = df_corr_pl_processed[ (df_corr_pl_processed.emotion == expr) &\\\n",
        "                            (df_corr_pl_processed[['full_argument_valence']].any(axis=1))]\n",
        "\n",
        "  data['exp'] = (data['mean'] / data['mean'].mean())\n",
        "  data['eliciting'] = (data[elicit] / data[elicit].mean())\n",
        "\n",
        "  print('EX:', expr, \" EL:\", elicit, \"coeff: \", df_plot.loc[i, 'cor'])\n",
        "  plt.figure(figsize=(12, 6))\n",
        "  plt.bar(data['Time'], data['exp'], color='red', label='expressed', alpha=0.8)\n",
        "  plt.plot(data['Time'], data['eliciting'], color='black', label = 'eliciting', linewidth=2.5)\n",
        "  plt.xticks(rotation=90, fontsize=10)\n",
        "  plt.legend(loc='best')\n",
        "  #plt.ylabel('')\n",
        "  plt.show()\n",
        "\n",
        "  print('\\n\\n')"
      ],
      "metadata": {
        "id": "u0GkC6tlot09"
      },
      "execution_count": null,
      "outputs": []
    },
    {
      "cell_type": "markdown",
      "source": [
        "####rolling average"
      ],
      "metadata": {
        "id": "QPnZCJzeot0-"
      }
    },
    {
      "cell_type": "code",
      "source": [
        "# barplot with rolling average (3)\n",
        "\n",
        "for i in ids:\n",
        "  expr = df_plot.loc[i, 'second_emotion']\n",
        "  elicit = df_plot.loc[i, 'first_emotion']\n",
        "\n",
        "  data = df_corr_pl_processed[ (df_corr_pl_processed.emotion == expr) &\\\n",
        "                            (df_corr_pl_processed[['full_argument_valence']].any(axis=1))]\n",
        "\n",
        "  data['exp'] = (data['mean'] / data['mean'].mean())\n",
        "  data['eliciting'] = (data[elicit] / data[elicit].mean())\n",
        "  data2 = data[['Time', 'exp', 'eliciting']].rolling(3).mean().iloc[2:]\n",
        "\n",
        "  print('EX:', expr, \" EL:\", elicit, \"coeff: \", df_plot.loc[i, 'cor'])\n",
        "\n",
        "  plt.figure(figsize=(12, 6))\n",
        "  plt.bar(data.loc[data2.index, 'Time'], data2['exp'], color='red', label='expressed', alpha=0.8)\n",
        "  plt.plot(data.loc[data2.index, 'Time'], data2['eliciting'], color='black', label = 'eliciting', linewidth=2.5)\n",
        "  plt.xticks(rotation=90, fontsize=10)\n",
        "  plt.legend(loc='best')\n",
        "  plt.show()\n",
        "  print('\\n\\n')"
      ],
      "metadata": {
        "id": "msYtsbLRot0-"
      },
      "execution_count": null,
      "outputs": []
    },
    {
      "cell_type": "code",
      "source": [],
      "metadata": {
        "id": "6MEj-Ex-ot0-"
      },
      "execution_count": null,
      "outputs": []
    },
    {
      "cell_type": "markdown",
      "source": [
        "##Add arg schemes"
      ],
      "metadata": {
        "id": "OdxM16mYpgGF"
      }
    },
    {
      "cell_type": "code",
      "source": [
        "arg = load_data('/content/drive/MyDrive/Colab Notebooks/debates/Argument_schemes/agg_dummies_fleiss_all_maps.xlsx')\n",
        "print(arg.shape)\n",
        "arg.head(1)"
      ],
      "metadata": {
        "id": "LjSN7wi7zuOu",
        "colab": {
          "base_uri": "https://localhost:8080/",
          "height": 422
        },
        "outputId": "55a94cd5-b634-4bd0-837f-4fc8cebb2b26"
      },
      "execution_count": null,
      "outputs": [
        {
          "output_type": "stream",
          "name": "stdout",
          "text": [
            "(529, 10)\n"
          ]
        },
        {
          "output_type": "execute_result",
          "data": {
            "text/plain": [
              "                                                            conclusion  \\\n",
              "0   I just went to a wedding of a friend of mine who happens to be gay   \n",
              "\n",
              "                                                                                                               premise  \\\n",
              "0  if somebody doesn't think the way KASICH does, it doesn't mean that KASICH can't care about them or can't love them   \n",
              "\n",
              "   scheme_name_Causal Slippery Slope  scheme_name_Danger Appeal  \\\n",
              "0                                  0                          0   \n",
              "\n",
              "   scheme_name_Default Inference  scheme_name_Fear Appeal  \\\n",
              "0                              0                        0   \n",
              "\n",
              "   scheme_name_Need For Help  scheme_name_Negative Consequences  \\\n",
              "0                          0                                  0   \n",
              "\n",
              "   scheme_name_Positive Consequences  scheme_name_Waste  \n",
              "0                                  5                  0  "
            ],
            "text/html": [
              "\n",
              "  <div id=\"df-e16f57a0-9c25-4b75-9050-7397c5fae836\">\n",
              "    <div class=\"colab-df-container\">\n",
              "      <div>\n",
              "<style scoped>\n",
              "    .dataframe tbody tr th:only-of-type {\n",
              "        vertical-align: middle;\n",
              "    }\n",
              "\n",
              "    .dataframe tbody tr th {\n",
              "        vertical-align: top;\n",
              "    }\n",
              "\n",
              "    .dataframe thead th {\n",
              "        text-align: right;\n",
              "    }\n",
              "</style>\n",
              "<table border=\"1\" class=\"dataframe\">\n",
              "  <thead>\n",
              "    <tr style=\"text-align: right;\">\n",
              "      <th></th>\n",
              "      <th>conclusion</th>\n",
              "      <th>premise</th>\n",
              "      <th>scheme_name_Causal Slippery Slope</th>\n",
              "      <th>scheme_name_Danger Appeal</th>\n",
              "      <th>scheme_name_Default Inference</th>\n",
              "      <th>scheme_name_Fear Appeal</th>\n",
              "      <th>scheme_name_Need For Help</th>\n",
              "      <th>scheme_name_Negative Consequences</th>\n",
              "      <th>scheme_name_Positive Consequences</th>\n",
              "      <th>scheme_name_Waste</th>\n",
              "    </tr>\n",
              "  </thead>\n",
              "  <tbody>\n",
              "    <tr>\n",
              "      <th>0</th>\n",
              "      <td>I just went to a wedding of a friend of mine who happens to be gay</td>\n",
              "      <td>if somebody doesn't think the way KASICH does, it doesn't mean that KASICH can't care about them or can't love them</td>\n",
              "      <td>0</td>\n",
              "      <td>0</td>\n",
              "      <td>0</td>\n",
              "      <td>0</td>\n",
              "      <td>0</td>\n",
              "      <td>0</td>\n",
              "      <td>5</td>\n",
              "      <td>0</td>\n",
              "    </tr>\n",
              "  </tbody>\n",
              "</table>\n",
              "</div>\n",
              "      <button class=\"colab-df-convert\" onclick=\"convertToInteractive('df-e16f57a0-9c25-4b75-9050-7397c5fae836')\"\n",
              "              title=\"Convert this dataframe to an interactive table.\"\n",
              "              style=\"display:none;\">\n",
              "        \n",
              "  <svg xmlns=\"http://www.w3.org/2000/svg\" height=\"24px\"viewBox=\"0 0 24 24\"\n",
              "       width=\"24px\">\n",
              "    <path d=\"M0 0h24v24H0V0z\" fill=\"none\"/>\n",
              "    <path d=\"M18.56 5.44l.94 2.06.94-2.06 2.06-.94-2.06-.94-.94-2.06-.94 2.06-2.06.94zm-11 1L8.5 8.5l.94-2.06 2.06-.94-2.06-.94L8.5 2.5l-.94 2.06-2.06.94zm10 10l.94 2.06.94-2.06 2.06-.94-2.06-.94-.94-2.06-.94 2.06-2.06.94z\"/><path d=\"M17.41 7.96l-1.37-1.37c-.4-.4-.92-.59-1.43-.59-.52 0-1.04.2-1.43.59L10.3 9.45l-7.72 7.72c-.78.78-.78 2.05 0 2.83L4 21.41c.39.39.9.59 1.41.59.51 0 1.02-.2 1.41-.59l7.78-7.78 2.81-2.81c.8-.78.8-2.07 0-2.86zM5.41 20L4 18.59l7.72-7.72 1.47 1.35L5.41 20z\"/>\n",
              "  </svg>\n",
              "      </button>\n",
              "      \n",
              "  <style>\n",
              "    .colab-df-container {\n",
              "      display:flex;\n",
              "      flex-wrap:wrap;\n",
              "      gap: 12px;\n",
              "    }\n",
              "\n",
              "    .colab-df-convert {\n",
              "      background-color: #E8F0FE;\n",
              "      border: none;\n",
              "      border-radius: 50%;\n",
              "      cursor: pointer;\n",
              "      display: none;\n",
              "      fill: #1967D2;\n",
              "      height: 32px;\n",
              "      padding: 0 0 0 0;\n",
              "      width: 32px;\n",
              "    }\n",
              "\n",
              "    .colab-df-convert:hover {\n",
              "      background-color: #E2EBFA;\n",
              "      box-shadow: 0px 1px 2px rgba(60, 64, 67, 0.3), 0px 1px 3px 1px rgba(60, 64, 67, 0.15);\n",
              "      fill: #174EA6;\n",
              "    }\n",
              "\n",
              "    [theme=dark] .colab-df-convert {\n",
              "      background-color: #3B4455;\n",
              "      fill: #D2E3FC;\n",
              "    }\n",
              "\n",
              "    [theme=dark] .colab-df-convert:hover {\n",
              "      background-color: #434B5C;\n",
              "      box-shadow: 0px 1px 3px 1px rgba(0, 0, 0, 0.15);\n",
              "      filter: drop-shadow(0px 1px 2px rgba(0, 0, 0, 0.3));\n",
              "      fill: #FFFFFF;\n",
              "    }\n",
              "  </style>\n",
              "\n",
              "      <script>\n",
              "        const buttonEl =\n",
              "          document.querySelector('#df-e16f57a0-9c25-4b75-9050-7397c5fae836 button.colab-df-convert');\n",
              "        buttonEl.style.display =\n",
              "          google.colab.kernel.accessAllowed ? 'block' : 'none';\n",
              "\n",
              "        async function convertToInteractive(key) {\n",
              "          const element = document.querySelector('#df-e16f57a0-9c25-4b75-9050-7397c5fae836');\n",
              "          const dataTable =\n",
              "            await google.colab.kernel.invokeFunction('convertToInteractive',\n",
              "                                                     [key], {});\n",
              "          if (!dataTable) return;\n",
              "\n",
              "          const docLinkHtml = 'Like what you see? Visit the ' +\n",
              "            '<a target=\"_blank\" href=https://colab.research.google.com/notebooks/data_table.ipynb>data table notebook</a>'\n",
              "            + ' to learn more about interactive tables.';\n",
              "          element.innerHTML = '';\n",
              "          dataTable['output_type'] = 'display_data';\n",
              "          await google.colab.output.renderOutput(dataTable, element);\n",
              "          const docLink = document.createElement('div');\n",
              "          docLink.innerHTML = docLinkHtml;\n",
              "          element.appendChild(docLink);\n",
              "        }\n",
              "      </script>\n",
              "    </div>\n",
              "  </div>\n",
              "  "
            ]
          },
          "metadata": {},
          "execution_count": 14
        }
      ]
    },
    {
      "cell_type": "code",
      "execution_count": null,
      "metadata": {
        "id": "fE2gnDR-8g-d"
      },
      "outputs": [],
      "source": [
        "schems = ['scheme_name_Causal Slippery Slope', 'scheme_name_Danger Appeal',\n",
        "       'scheme_name_Fear Appeal', 'scheme_name_Need For Help', 'scheme_name_Negative Consequences',\n",
        "       'scheme_name_Positive Consequences', 'scheme_name_Waste', 'scheme_name_Default Inference']"
      ]
    },
    {
      "cell_type": "code",
      "execution_count": null,
      "metadata": {
        "id": "GdszzIBibAEI"
      },
      "outputs": [],
      "source": [
        "# here !!\n",
        "arg = arg[['conclusion', 'premise', 'scheme_name_Causal Slippery Slope','scheme_name_Danger Appeal','scheme_name_Fear Appeal', 'scheme_name_Need For Help',\n",
        "       'scheme_name_Negative Consequences','scheme_name_Positive Consequences', 'scheme_name_Waste', 'scheme_name_Default Inference']]\n",
        "arg['schm'] = arg[schems].max(axis=1)\n",
        "\n",
        "for s in schems:\n",
        "  arg[s] = np.where(arg[s] == arg['schm'], 1, 0)\n",
        "\n",
        "arg = arg.iloc[:, :-1]\n",
        "#arg['scheme_name_Default Inference'] = np.where(arg[schems].sum(axis=1) == 2, 0, arg['scheme_name_Default Inference'])\n",
        "ids = np.where(arg[schems].sum(axis=1) > 1)\n",
        "maxs = arg.loc[ids].iloc[:, 2:].idxmax(axis=1).values\n",
        "for n, i in enumerate(ids):\n",
        "  arg.loc[i, schems] = 0\n",
        "  arg.loc[i, maxs[n]] = 1"
      ]
    },
    {
      "cell_type": "code",
      "source": [
        "arg[schems].sum(axis=1).value_counts()"
      ],
      "metadata": {
        "colab": {
          "base_uri": "https://localhost:8080/"
        },
        "id": "rHyOodC37AoA",
        "outputId": "cde901a2-4bc8-4c43-d16a-c93e87c43ec0"
      },
      "execution_count": null,
      "outputs": [
        {
          "output_type": "execute_result",
          "data": {
            "text/plain": [
              "1    529\n",
              "dtype: int64"
            ]
          },
          "metadata": {},
          "execution_count": 17
        }
      ]
    },
    {
      "cell_type": "code",
      "source": [
        "arg.columns = ['conclusion_schemes', 'premise_schemes', 'scheme_name_Causal Slippery Slope',\n",
        "       'scheme_name_Danger Appeal', 'scheme_name_Default Inference',\n",
        "       'scheme_name_Fear Appeal', 'scheme_name_Need For Help',\n",
        "       'scheme_name_Negative Consequences', 'scheme_name_Positive Consequences', 'scheme_name_Waste']"
      ],
      "metadata": {
        "id": "KfbN3oMxzuOu"
      },
      "execution_count": null,
      "outputs": []
    },
    {
      "cell_type": "code",
      "source": [
        "arg2 = load_data('/content/drive/MyDrive/Colab Notebooks/debates/Argument_schemes/all_annotated_schemes_3774.xlsx')\n",
        "print(arg2.shape)"
      ],
      "metadata": {
        "colab": {
          "base_uri": "https://localhost:8080/"
        },
        "id": "GXCFwjSqV9ga",
        "outputId": "790b5330-02df-4d6f-a2be-335fe17b12ee"
      },
      "execution_count": null,
      "outputs": [
        {
          "output_type": "stream",
          "name": "stdout",
          "text": [
            "(3774, 18)\n"
          ]
        }
      ]
    },
    {
      "cell_type": "code",
      "source": [
        "arg2 = arg2[['conclusion', 'premise', 'Causal Slippery Slope',\n",
        "       'Danger Appeal', 'Default Inference', 'Fear Appeal', 'Need For Help',\n",
        "       'Negative Consequences', 'Positive Consequences', 'Waste']]\n",
        "\n",
        "arg2.columns = arg.columns  "
      ],
      "metadata": {
        "id": "FwMlQLllzuOv"
      },
      "execution_count": null,
      "outputs": []
    },
    {
      "cell_type": "code",
      "source": [
        "arg = pd.concat([arg, arg2], axis = 0)\n",
        "print(arg.shape)\n",
        "arg = arg.drop_duplicates(['conclusion_schemes', 'premise_schemes'], keep = 'first')\n",
        "arg.shape"
      ],
      "metadata": {
        "colab": {
          "base_uri": "https://localhost:8080/"
        },
        "outputId": "4849d2b0-3ec1-4c70-f07c-2d54ba3f293c",
        "id": "kvcnP-qSzuOv"
      },
      "execution_count": null,
      "outputs": [
        {
          "output_type": "stream",
          "name": "stdout",
          "text": [
            "(4303, 10)\n"
          ]
        },
        {
          "output_type": "execute_result",
          "data": {
            "text/plain": [
              "(1629, 10)"
            ]
          },
          "metadata": {},
          "execution_count": 22
        }
      ]
    },
    {
      "cell_type": "code",
      "source": [
        "arg.reset_index(drop=True, inplace=True)"
      ],
      "metadata": {
        "id": "6jBBjR-bzuOv"
      },
      "execution_count": null,
      "outputs": []
    },
    {
      "cell_type": "code",
      "source": [
        "df = df.reset_index(drop=True)"
      ],
      "metadata": {
        "id": "4PRSczvh-P3C"
      },
      "execution_count": null,
      "outputs": []
    },
    {
      "cell_type": "code",
      "source": [
        "id_arg = []\n",
        "id_deb = []\n",
        "for i in arg.index:\n",
        "  for i2 in df.index:\n",
        "    if (arg.loc[i, 'conclusion_schemes'].lower().strip() in df.loc[i2, 'full_argument'].lower()) and (arg.loc[i, 'premise_schemes'].lower().strip() in df.loc[i2, 'full_argument'].lower()):\n",
        "      id_arg.append(i)\n",
        "      id_deb.append(i2)\n",
        "\n",
        "len(id_arg), len(id_deb)"
      ],
      "metadata": {
        "id": "60_uPn_1ctjn",
        "colab": {
          "base_uri": "https://localhost:8080/"
        },
        "outputId": "78c10f04-e3ec-42b5-9580-00ed9eb3b9cb"
      },
      "execution_count": null,
      "outputs": [
        {
          "output_type": "execute_result",
          "data": {
            "text/plain": [
              "(207, 207)"
            ]
          },
          "metadata": {},
          "execution_count": 161
        }
      ]
    },
    {
      "cell_type": "code",
      "source": [
        "argmatched = arg.loc[id_arg]\n",
        "argmatched.reset_index(drop=True, inplace=True)\n",
        "\n",
        "debmatched = df.loc[id_deb]\n",
        "debmatched.reset_index(drop=True, inplace=True)\n",
        "\n",
        "dfmatched = pd.concat([argmatched, debmatched], axis = 1)"
      ],
      "metadata": {
        "id": "xwo-5tZgqy_2"
      },
      "execution_count": null,
      "outputs": []
    },
    {
      "cell_type": "code",
      "source": [
        "dfmatched = dfmatched.reset_index(drop=True)\n",
        "dfmatched.shape"
      ],
      "metadata": {
        "colab": {
          "base_uri": "https://localhost:8080/"
        },
        "id": "bHByk2VUwYik",
        "outputId": "229cbae3-11fd-4ab1-9852-c6fd87ebf3c2"
      },
      "execution_count": null,
      "outputs": [
        {
          "output_type": "execute_result",
          "data": {
            "text/plain": [
              "(207, 123)"
            ]
          },
          "metadata": {},
          "execution_count": 163
        }
      ]
    },
    {
      "cell_type": "code",
      "source": [
        "dfmatched = dfmatched.drop_duplicates()\n",
        "dfmatched.shape"
      ],
      "metadata": {
        "id": "1qduGzzN1mR_",
        "colab": {
          "base_uri": "https://localhost:8080/"
        },
        "outputId": "eaea1aa8-dd4e-4a35-f431-76cbdaf57b21"
      },
      "execution_count": null,
      "outputs": [
        {
          "output_type": "execute_result",
          "data": {
            "text/plain": [
              "(207, 123)"
            ]
          },
          "metadata": {},
          "execution_count": 164
        }
      ]
    },
    {
      "cell_type": "code",
      "source": [
        "dfm = dfmatched.copy()\n",
        "dfm.shape"
      ],
      "metadata": {
        "colab": {
          "base_uri": "https://localhost:8080/"
        },
        "id": "uuh7Lhh-sIzp",
        "outputId": "34c9af63-d02c-4cf4-d462-82460801710a"
      },
      "execution_count": null,
      "outputs": [
        {
          "output_type": "execute_result",
          "data": {
            "text/plain": [
              "(207, 123)"
            ]
          },
          "metadata": {},
          "execution_count": 165
        }
      ]
    },
    {
      "cell_type": "code",
      "source": [
        "dfm.sample(1)"
      ],
      "metadata": {
        "id": "0fWnS216-wNA",
        "colab": {
          "base_uri": "https://localhost:8080/",
          "height": 717
        },
        "outputId": "4338900e-d0ea-4145-bc26-eea7f43baedb"
      },
      "execution_count": null,
      "outputs": [
        {
          "output_type": "execute_result",
          "data": {
            "text/plain": [
              "                                                                                                                     conclusion_schemes  \\\n",
              "145  to pokazuje, że te dwie główne partie wspierają integrację europejską poza obszarami, o których się dyskutuje w świecie publicznym   \n",
              "\n",
              "                               premise_schemes  \\\n",
              "145  Platforma Obywatelska tego nie kontestuje   \n",
              "\n",
              "     scheme_name_Causal Slippery Slope  scheme_name_Danger Appeal  \\\n",
              "145                                0.0                        1.0   \n",
              "\n",
              "     scheme_name_Fear Appeal  scheme_name_Need For Help  \\\n",
              "145                      0.0                        0.0   \n",
              "\n",
              "     scheme_name_Negative Consequences  scheme_name_Positive Consequences  \\\n",
              "145                                0.0                                0.0   \n",
              "\n",
              "     scheme_name_Waste  scheme_name_Default Inference  \\\n",
              "145                0.0                            0.0   \n",
              "\n",
              "                                                                                                                             conclusion  \\\n",
              "145  to pokazuje, że te dwie główne partie wspierają integrację europejską poza obszarami, o których się dyskutuje w świecie publicznym   \n",
              "\n",
              "                                                                                                                                                                                                                                                                     premise  \\\n",
              "145  Platforma Obywatelska tego nie kontestuje prezydent Andrzej Duda chwalił się, że to jego list sprawił, że ten nowy instrument zadłużania całej Unii Europejskiej jest tworzony stworzenia nowego instrumentu, którego euro Karaczi chcieli przez lata i nigdy nie mieli   \n",
              "\n",
              "                                                                                                                                                          conclusion_lemmatized  \\\n",
              "145  ['to', 'pokazywać', 'że', 'te', 'dwa', 'główny', 'partia', 'wspierać', 'integracja', 'europejski', 'poza', 'obszar', 'których', 'się', 'dyskutować', 'świat', 'publiczny']   \n",
              "\n",
              "                                                                                                                                                                                                                                                                                                                                                            premise_lemmatized  \\\n",
              "145  ['platforma', 'obywatelski', 'tego', 'nie', 'kontestować', 'prezydent', 'andrzej', 'duda', 'chwalić', 'się', 'że', 'to', 'on', 'lista', 'sprawić', 'że', 'ten', 'nowy', 'instrument', 'zadłużania', 'cały', 'unia', 'europejski', 'jest', 'tworzony', 'stworzenie', 'nowy', 'instrument', 'którego', 'euro', 'karaczi', 'chcieć', 'przez', 'rok', 'nigdy', 'nie', 'mieć']   \n",
              "\n",
              "                                                                                                                                                                                                                                                                                                                                                                                                 full_argument  \\\n",
              "145  to pokazuje, że te dwie główne partie wspierają integrację europejską poza obszarami, o których się dyskutuje w świecie publicznymPlatforma Obywatelska tego nie kontestuje prezydent Andrzej Duda chwalił się, że to jego list sprawił, że ten nowy instrument zadłużania całej Unii Europejskiej jest tworzony stworzenia nowego instrumentu, którego euro Karaczi chcieli przez lata i nigdy nie mieli   \n",
              "\n",
              "                                                                                                                                                                                                                                                                                                                                                                                            full_argument_lemmatized  \\\n",
              "145  ['to', 'pokazywać', 'że', 'te', 'dwa', 'główny', 'partia', 'wspierać', 'integracja', 'europejski', 'poza', 'obszar', 'których', 'się', 'dyskutować', 'świat', 'publicznymplatforma', 'obywatelski', 'tego', 'nie', 'kontestować', 'prezydent', 'andrzej', 'duda', 'chwalić', 'się', 'że', 'to', 'on', 'lista', 'sprawić', 'że', 'ten', 'nowy', 'instrument', 'zadłużania', 'cały', 'unia', 'europejski', 'je...   \n",
              "\n",
              "             speaker  \\\n",
              "145  Krzysztof Bosak   \n",
              "\n",
              "                                                                                                                                                                                                                                                                                                                                                                                                                text  \\\n",
              "145  W mojej ocenie to nie jest pytanie o gospodarkę, to pytanie o politykę zagraniczną, dlatego że pogłębianie integracji europejskiej, któremu jestem przeciwny, jest pytaniem o dalsze kierunki naszej polityki zagranicznej. Jeżeli chcemy porozmawiać o aspektach gospodarczych polityki europejskiej, to dużo istotniejszym aktualnym i rzeczywistym tematem do dyskusji jest obecny projekt zadłużania Uni...   \n",
              "\n",
              "                                                                                                                                                   text_L  \\\n",
              "145  Krzysztof Bosak : To pokazuje, że te dwie główne partie wspierają integrację europejską poza obszarami, o których się dyskutuje w świecie publicznym   \n",
              "\n",
              "                                                                         question  \\\n",
              "145  Euro czy złoty. Czy i ewentualnie, kiedy Polska powinna przyjąć walutę euro?   \n",
              "\n",
              "     question number     start       end  mean_neg  mean_pos  mean_neu  \\\n",
              "145              4.0  21:43:00  21:44:00       0.0      50.0      50.0   \n",
              "\n",
              "                                                 conclusion_emotive_words  \\\n",
              "145  ['pokazywać', 'partia', 'wspierać', 'obszar', 'dyskutować', 'świat']   \n",
              "\n",
              "     conclusion_Happiness  conclusion_Anger  conclusion_Sadness  \\\n",
              "145               0.44001               0.0             0.04718   \n",
              "\n",
              "     conclusion_Fear  conclusion_Disgust  conclusion_Valence  \\\n",
              "145              0.0                 0.0             0.66834   \n",
              "\n",
              "     conclusion_Arousal  \\\n",
              "145             0.40301   \n",
              "\n",
              "                               conclusion_Happiness_individual_values  \\\n",
              "145  [0.43548387, 0.22144397, 0.79057074, 0.0, 0.50918114, 0.6833747]   \n",
              "\n",
              "    conclusion_Anger_individual_values   conclusion_Sadness_individual_values  \\\n",
              "145     [0.0, 0.0, 0.0, 0.0, 0.0, 0.0]  [0.0, 0.0, 0.0, 0.28309914, 0.0, 0.0]   \n",
              "\n",
              "    conclusion_Fear_individual_values conclusion_Disgust_individual_values  \\\n",
              "145    [0.0, 0.0, 0.0, 0.0, 0.0, 0.0]       [0.0, 0.0, 0.0, 0.0, 0.0, 0.0]   \n",
              "\n",
              "                                    conclusion_Valence_individual_values  \\\n",
              "145  [0.61566484, 0.6050692, 0.8888889, 0.4213436, 0.6520947, 0.8269581]   \n",
              "\n",
              "                                     conclusion_Arousal_individual_values  \\\n",
              "145  [0.28164557, 0.331729, 0.5727848, 0.26673713, 0.53797466, 0.4272152]   \n",
              "\n",
              "          conclusion_emotion_categories  conclusion_CATEGORY_nan  \\\n",
              "145  [nan, nan, 'HAP', 'SAD', nan, nan]                      4.0   \n",
              "\n",
              "     conclusion_CATEGORY_HAP  conclusion_CATEGORY_SAD  \\\n",
              "145                      1.0                      1.0   \n",
              "\n",
              "     conclusion_CATEGORY_FEA  conclusion_CATEGORY_ANG  \\\n",
              "145                      0.0                      0.0   \n",
              "\n",
              "     conclusion_CATEGORY_DIS  conclusion_CATEGORY_NEU  \\\n",
              "145                      0.0                      0.0   \n",
              "\n",
              "                                          premise_emotive_words  \\\n",
              "145  ['prezydent', 'chwalić', 'lista', 'cały', 'chcieć', 'rok']   \n",
              "\n",
              "     premise_Happiness  premise_Anger  premise_Sadness  premise_Fear  \\\n",
              "145            0.36578        0.05249              0.0           0.0   \n",
              "\n",
              "     premise_Disgust  premise_Valence  premise_Arousal  \\\n",
              "145              0.0          0.64327          0.39567   \n",
              "\n",
              "                                 premise_Happiness_individual_values  \\\n",
              "145  [0.0, 0.60645163, 0.2527957, 0.5465192, 0.58064514, 0.20826553]   \n",
              "\n",
              "           premise_Anger_individual_values premise_Sadness_individual_values  \\\n",
              "145  [0.31496063, 0.0, 0.0, 0.0, 0.0, 0.0]    [0.0, 0.0, 0.0, 0.0, 0.0, 0.0]   \n",
              "\n",
              "     premise_Fear_individual_values premise_Disgust_individual_values  \\\n",
              "145  [0.0, 0.0, 0.0, 0.0, 0.0, 0.0]    [0.0, 0.0, 0.0, 0.0, 0.0, 0.0]   \n",
              "\n",
              "                                         premise_Valence_individual_values  \\\n",
              "145  [0.52459013, 0.7395264, 0.5474078, 0.72002405, 0.78142077, 0.5466222]   \n",
              "\n",
              "                                     premise_Arousal_individual_values  \\\n",
              "145  [0.221519, 0.528481, 0.29837638, 0.5252488, 0.5506329, 0.2497596]   \n",
              "\n",
              "           premise_emotion_categories  premise_CATEGORY_nan  \\\n",
              "145  [nan, nan, nan, 'HAP', nan, nan]                   5.0   \n",
              "\n",
              "     premise_CATEGORY_FEA  premise_CATEGORY_HAP  premise_CATEGORY_ANG  \\\n",
              "145                   0.0                   1.0                   0.0   \n",
              "\n",
              "     premise_CATEGORY_DIS  premise_CATEGORY_SAD  premise_CATEGORY_NEU  \\\n",
              "145                   0.0                   0.0                   0.0   \n",
              "\n",
              "                                                                                                        full_argument_emotive_words  \\\n",
              "145  ['pokazywać', 'partia', 'wspierać', 'obszar', 'dyskutować', 'świat', 'prezydent', 'chwalić', 'lista', 'cały', 'chcieć', 'rok']   \n",
              "\n",
              "     full_argument_Happiness  full_argument_Anger  full_argument_Sadness  \\\n",
              "145                  0.40289              0.02625                0.02359   \n",
              "\n",
              "     full_argument_Fear  full_argument_Disgust  full_argument_Valence  \\\n",
              "145                 0.0                    0.0                 0.6558   \n",
              "\n",
              "     full_argument_Arousal  \\\n",
              "145                0.39934   \n",
              "\n",
              "                                                                                           full_argument_Happiness_individual_values  \\\n",
              "145  [0.43548387, 0.22144397, 0.79057074, 0.0, 0.50918114, 0.6833747, 0.0, 0.60645163, 0.2527957, 0.5465192, 0.58064514, 0.20826553]   \n",
              "\n",
              "                                   full_argument_Anger_individual_values  \\\n",
              "145  [0.0, 0.0, 0.0, 0.0, 0.0, 0.0, 0.31496063, 0.0, 0.0, 0.0, 0.0, 0.0]   \n",
              "\n",
              "                                 full_argument_Sadness_individual_values  \\\n",
              "145  [0.0, 0.0, 0.0, 0.28309914, 0.0, 0.0, 0.0, 0.0, 0.0, 0.0, 0.0, 0.0]   \n",
              "\n",
              "                             full_argument_Fear_individual_values  \\\n",
              "145  [0.0, 0.0, 0.0, 0.0, 0.0, 0.0, 0.0, 0.0, 0.0, 0.0, 0.0, 0.0]   \n",
              "\n",
              "                          full_argument_Disgust_individual_values  \\\n",
              "145  [0.0, 0.0, 0.0, 0.0, 0.0, 0.0, 0.0, 0.0, 0.0, 0.0, 0.0, 0.0]   \n",
              "\n",
              "                                                                                                      full_argument_Valence_individual_values  \\\n",
              "145  [0.61566484, 0.6050692, 0.8888889, 0.4213436, 0.6520947, 0.8269581, 0.52459013, 0.7395264, 0.5474078, 0.72002405, 0.78142077, 0.5466222]   \n",
              "\n",
              "                                                                                                   full_argument_Arousal_individual_values  \\\n",
              "145  [0.28164557, 0.331729, 0.5727848, 0.26673713, 0.53797466, 0.4272152, 0.221519, 0.528481, 0.29837638, 0.5252488, 0.5506329, 0.2497596]   \n",
              "\n",
              "                                       full_argument_emotion_categories  \\\n",
              "145  [nan, nan, 'HAP', 'SAD', nan, nan, nan, nan, nan, 'HAP', nan, nan]   \n",
              "\n",
              "     full_argument_CATEGORY_nan  full_argument_CATEGORY_FEA  \\\n",
              "145                         9.0                         0.0   \n",
              "\n",
              "     full_argument_CATEGORY_HAP  full_argument_CATEGORY_ANG  \\\n",
              "145                         2.0                         0.0   \n",
              "\n",
              "     full_argument_CATEGORY_SAD  full_argument_CATEGORY_DIS  \\\n",
              "145                         1.0                         0.0   \n",
              "\n",
              "     full_argument_CATEGORY_NEU  conclusion_valence_score  \\\n",
              "145                         0.0                  0.654146   \n",
              "\n",
              "     conclusion_valence_negative  conclusion_valence_positive  \\\n",
              "145                          0.0                          2.0   \n",
              "\n",
              "     conclusion_Valence_negative_standardized  \\\n",
              "145                                       0.0   \n",
              "\n",
              "     conclusion_Valence_positive_standardized  \\\n",
              "145                                  1.479898   \n",
              "\n",
              "     conclusion_Valence_standardized  conclusion_Negative_percentage  \\\n",
              "145                         0.654146                             0.0   \n",
              "\n",
              "     conclusion_Positive_percentage  \\\n",
              "145                           0.118   \n",
              "\n",
              "                                                           conclusion_valence_words  \\\n",
              "145  ['pokazywać', 'główny', 'partia', 'wspierać', 'obszar', 'dyskutować', 'świat']   \n",
              "\n",
              "     premise_valence_score  premise_valence_negative  \\\n",
              "145               0.434122                       2.0   \n",
              "\n",
              "     premise_valence_positive  premise_Valence_negative_standardized  \\\n",
              "145                       2.0                               0.781883   \n",
              "\n",
              "     premise_Valence_positive_standardized  premise_Valence_standardized  \\\n",
              "145                               1.231651                      0.434122   \n",
              "\n",
              "     premise_Negative_percentage  premise_Positive_percentage  \\\n",
              "145                        0.054                        0.054   \n",
              "\n",
              "                                                                                                                                                premise_valence_words  \\\n",
              "145  ['platforma', 'obywatelski', 'nie', 'prezydent', 'chwalić', 'lista', 'nowy', 'instrument', 'cały', 'nowy', 'instrument', 'euro', 'chcieć', 'rok', 'nie', 'mieć']   \n",
              "\n",
              "     full_argument_valence_score  full_argument_valence_negative  \\\n",
              "145                     0.515795                             2.0   \n",
              "\n",
              "     full_argument_valence_positive  \\\n",
              "145                             4.0   \n",
              "\n",
              "     full_argument_Valence_negative_standardized  \\\n",
              "145                                     0.781883   \n",
              "\n",
              "     full_argument_Valence_positive_standardized  \\\n",
              "145                                     1.355774   \n",
              "\n",
              "     full_argument_Valence_standardized  full_argument_Negative_percentage  \\\n",
              "145                            0.515795                              0.038   \n",
              "\n",
              "     full_argument_Positive_percentage  \\\n",
              "145                              0.075   \n",
              "\n",
              "                                                                                                                                                                                                           full_argument_valence_words  \\\n",
              "145  ['pokazywać', 'główny', 'partia', 'wspierać', 'obszar', 'dyskutować', 'świat', 'obywatelski', 'nie', 'prezydent', 'chwalić', 'lista', 'nowy', 'instrument', 'cały', 'nowy', 'instrument', 'euro', 'chcieć', 'rok', 'nie', 'mieć']   \n",
              "\n",
              "                   Time  \n",
              "145 2022-12-11 21:43:00  "
            ],
            "text/html": [
              "\n",
              "  <div id=\"df-0a5632b4-b779-494d-8b65-23a2be31e60e\">\n",
              "    <div class=\"colab-df-container\">\n",
              "      <div>\n",
              "<style scoped>\n",
              "    .dataframe tbody tr th:only-of-type {\n",
              "        vertical-align: middle;\n",
              "    }\n",
              "\n",
              "    .dataframe tbody tr th {\n",
              "        vertical-align: top;\n",
              "    }\n",
              "\n",
              "    .dataframe thead th {\n",
              "        text-align: right;\n",
              "    }\n",
              "</style>\n",
              "<table border=\"1\" class=\"dataframe\">\n",
              "  <thead>\n",
              "    <tr style=\"text-align: right;\">\n",
              "      <th></th>\n",
              "      <th>conclusion_schemes</th>\n",
              "      <th>premise_schemes</th>\n",
              "      <th>scheme_name_Causal Slippery Slope</th>\n",
              "      <th>scheme_name_Danger Appeal</th>\n",
              "      <th>scheme_name_Fear Appeal</th>\n",
              "      <th>scheme_name_Need For Help</th>\n",
              "      <th>scheme_name_Negative Consequences</th>\n",
              "      <th>scheme_name_Positive Consequences</th>\n",
              "      <th>scheme_name_Waste</th>\n",
              "      <th>scheme_name_Default Inference</th>\n",
              "      <th>conclusion</th>\n",
              "      <th>premise</th>\n",
              "      <th>conclusion_lemmatized</th>\n",
              "      <th>premise_lemmatized</th>\n",
              "      <th>full_argument</th>\n",
              "      <th>full_argument_lemmatized</th>\n",
              "      <th>speaker</th>\n",
              "      <th>text</th>\n",
              "      <th>text_L</th>\n",
              "      <th>question</th>\n",
              "      <th>question number</th>\n",
              "      <th>start</th>\n",
              "      <th>end</th>\n",
              "      <th>mean_neg</th>\n",
              "      <th>mean_pos</th>\n",
              "      <th>mean_neu</th>\n",
              "      <th>conclusion_emotive_words</th>\n",
              "      <th>conclusion_Happiness</th>\n",
              "      <th>conclusion_Anger</th>\n",
              "      <th>conclusion_Sadness</th>\n",
              "      <th>conclusion_Fear</th>\n",
              "      <th>conclusion_Disgust</th>\n",
              "      <th>conclusion_Valence</th>\n",
              "      <th>conclusion_Arousal</th>\n",
              "      <th>conclusion_Happiness_individual_values</th>\n",
              "      <th>conclusion_Anger_individual_values</th>\n",
              "      <th>conclusion_Sadness_individual_values</th>\n",
              "      <th>conclusion_Fear_individual_values</th>\n",
              "      <th>conclusion_Disgust_individual_values</th>\n",
              "      <th>conclusion_Valence_individual_values</th>\n",
              "      <th>conclusion_Arousal_individual_values</th>\n",
              "      <th>conclusion_emotion_categories</th>\n",
              "      <th>conclusion_CATEGORY_nan</th>\n",
              "      <th>conclusion_CATEGORY_HAP</th>\n",
              "      <th>conclusion_CATEGORY_SAD</th>\n",
              "      <th>conclusion_CATEGORY_FEA</th>\n",
              "      <th>conclusion_CATEGORY_ANG</th>\n",
              "      <th>conclusion_CATEGORY_DIS</th>\n",
              "      <th>conclusion_CATEGORY_NEU</th>\n",
              "      <th>premise_emotive_words</th>\n",
              "      <th>premise_Happiness</th>\n",
              "      <th>premise_Anger</th>\n",
              "      <th>premise_Sadness</th>\n",
              "      <th>premise_Fear</th>\n",
              "      <th>premise_Disgust</th>\n",
              "      <th>premise_Valence</th>\n",
              "      <th>premise_Arousal</th>\n",
              "      <th>premise_Happiness_individual_values</th>\n",
              "      <th>premise_Anger_individual_values</th>\n",
              "      <th>premise_Sadness_individual_values</th>\n",
              "      <th>premise_Fear_individual_values</th>\n",
              "      <th>premise_Disgust_individual_values</th>\n",
              "      <th>premise_Valence_individual_values</th>\n",
              "      <th>premise_Arousal_individual_values</th>\n",
              "      <th>premise_emotion_categories</th>\n",
              "      <th>premise_CATEGORY_nan</th>\n",
              "      <th>premise_CATEGORY_FEA</th>\n",
              "      <th>premise_CATEGORY_HAP</th>\n",
              "      <th>premise_CATEGORY_ANG</th>\n",
              "      <th>premise_CATEGORY_DIS</th>\n",
              "      <th>premise_CATEGORY_SAD</th>\n",
              "      <th>premise_CATEGORY_NEU</th>\n",
              "      <th>full_argument_emotive_words</th>\n",
              "      <th>full_argument_Happiness</th>\n",
              "      <th>full_argument_Anger</th>\n",
              "      <th>full_argument_Sadness</th>\n",
              "      <th>full_argument_Fear</th>\n",
              "      <th>full_argument_Disgust</th>\n",
              "      <th>full_argument_Valence</th>\n",
              "      <th>full_argument_Arousal</th>\n",
              "      <th>full_argument_Happiness_individual_values</th>\n",
              "      <th>full_argument_Anger_individual_values</th>\n",
              "      <th>full_argument_Sadness_individual_values</th>\n",
              "      <th>full_argument_Fear_individual_values</th>\n",
              "      <th>full_argument_Disgust_individual_values</th>\n",
              "      <th>full_argument_Valence_individual_values</th>\n",
              "      <th>full_argument_Arousal_individual_values</th>\n",
              "      <th>full_argument_emotion_categories</th>\n",
              "      <th>full_argument_CATEGORY_nan</th>\n",
              "      <th>full_argument_CATEGORY_FEA</th>\n",
              "      <th>full_argument_CATEGORY_HAP</th>\n",
              "      <th>full_argument_CATEGORY_ANG</th>\n",
              "      <th>full_argument_CATEGORY_SAD</th>\n",
              "      <th>full_argument_CATEGORY_DIS</th>\n",
              "      <th>full_argument_CATEGORY_NEU</th>\n",
              "      <th>conclusion_valence_score</th>\n",
              "      <th>conclusion_valence_negative</th>\n",
              "      <th>conclusion_valence_positive</th>\n",
              "      <th>conclusion_Valence_negative_standardized</th>\n",
              "      <th>conclusion_Valence_positive_standardized</th>\n",
              "      <th>conclusion_Valence_standardized</th>\n",
              "      <th>conclusion_Negative_percentage</th>\n",
              "      <th>conclusion_Positive_percentage</th>\n",
              "      <th>conclusion_valence_words</th>\n",
              "      <th>premise_valence_score</th>\n",
              "      <th>premise_valence_negative</th>\n",
              "      <th>premise_valence_positive</th>\n",
              "      <th>premise_Valence_negative_standardized</th>\n",
              "      <th>premise_Valence_positive_standardized</th>\n",
              "      <th>premise_Valence_standardized</th>\n",
              "      <th>premise_Negative_percentage</th>\n",
              "      <th>premise_Positive_percentage</th>\n",
              "      <th>premise_valence_words</th>\n",
              "      <th>full_argument_valence_score</th>\n",
              "      <th>full_argument_valence_negative</th>\n",
              "      <th>full_argument_valence_positive</th>\n",
              "      <th>full_argument_Valence_negative_standardized</th>\n",
              "      <th>full_argument_Valence_positive_standardized</th>\n",
              "      <th>full_argument_Valence_standardized</th>\n",
              "      <th>full_argument_Negative_percentage</th>\n",
              "      <th>full_argument_Positive_percentage</th>\n",
              "      <th>full_argument_valence_words</th>\n",
              "      <th>Time</th>\n",
              "    </tr>\n",
              "  </thead>\n",
              "  <tbody>\n",
              "    <tr>\n",
              "      <th>145</th>\n",
              "      <td>to pokazuje, że te dwie główne partie wspierają integrację europejską poza obszarami, o których się dyskutuje w świecie publicznym</td>\n",
              "      <td>Platforma Obywatelska tego nie kontestuje</td>\n",
              "      <td>0.0</td>\n",
              "      <td>1.0</td>\n",
              "      <td>0.0</td>\n",
              "      <td>0.0</td>\n",
              "      <td>0.0</td>\n",
              "      <td>0.0</td>\n",
              "      <td>0.0</td>\n",
              "      <td>0.0</td>\n",
              "      <td>to pokazuje, że te dwie główne partie wspierają integrację europejską poza obszarami, o których się dyskutuje w świecie publicznym</td>\n",
              "      <td>Platforma Obywatelska tego nie kontestuje prezydent Andrzej Duda chwalił się, że to jego list sprawił, że ten nowy instrument zadłużania całej Unii Europejskiej jest tworzony stworzenia nowego instrumentu, którego euro Karaczi chcieli przez lata i nigdy nie mieli</td>\n",
              "      <td>['to', 'pokazywać', 'że', 'te', 'dwa', 'główny', 'partia', 'wspierać', 'integracja', 'europejski', 'poza', 'obszar', 'których', 'się', 'dyskutować', 'świat', 'publiczny']</td>\n",
              "      <td>['platforma', 'obywatelski', 'tego', 'nie', 'kontestować', 'prezydent', 'andrzej', 'duda', 'chwalić', 'się', 'że', 'to', 'on', 'lista', 'sprawić', 'że', 'ten', 'nowy', 'instrument', 'zadłużania', 'cały', 'unia', 'europejski', 'jest', 'tworzony', 'stworzenie', 'nowy', 'instrument', 'którego', 'euro', 'karaczi', 'chcieć', 'przez', 'rok', 'nigdy', 'nie', 'mieć']</td>\n",
              "      <td>to pokazuje, że te dwie główne partie wspierają integrację europejską poza obszarami, o których się dyskutuje w świecie publicznymPlatforma Obywatelska tego nie kontestuje prezydent Andrzej Duda chwalił się, że to jego list sprawił, że ten nowy instrument zadłużania całej Unii Europejskiej jest tworzony stworzenia nowego instrumentu, którego euro Karaczi chcieli przez lata i nigdy nie mieli</td>\n",
              "      <td>['to', 'pokazywać', 'że', 'te', 'dwa', 'główny', 'partia', 'wspierać', 'integracja', 'europejski', 'poza', 'obszar', 'których', 'się', 'dyskutować', 'świat', 'publicznymplatforma', 'obywatelski', 'tego', 'nie', 'kontestować', 'prezydent', 'andrzej', 'duda', 'chwalić', 'się', 'że', 'to', 'on', 'lista', 'sprawić', 'że', 'ten', 'nowy', 'instrument', 'zadłużania', 'cały', 'unia', 'europejski', 'je...</td>\n",
              "      <td>Krzysztof Bosak</td>\n",
              "      <td>W mojej ocenie to nie jest pytanie o gospodarkę, to pytanie o politykę zagraniczną, dlatego że pogłębianie integracji europejskiej, któremu jestem przeciwny, jest pytaniem o dalsze kierunki naszej polityki zagranicznej. Jeżeli chcemy porozmawiać o aspektach gospodarczych polityki europejskiej, to dużo istotniejszym aktualnym i rzeczywistym tematem do dyskusji jest obecny projekt zadłużania Uni...</td>\n",
              "      <td>Krzysztof Bosak : To pokazuje, że te dwie główne partie wspierają integrację europejską poza obszarami, o których się dyskutuje w świecie publicznym</td>\n",
              "      <td>Euro czy złoty. Czy i ewentualnie, kiedy Polska powinna przyjąć walutę euro?</td>\n",
              "      <td>4.0</td>\n",
              "      <td>21:43:00</td>\n",
              "      <td>21:44:00</td>\n",
              "      <td>0.0</td>\n",
              "      <td>50.0</td>\n",
              "      <td>50.0</td>\n",
              "      <td>['pokazywać', 'partia', 'wspierać', 'obszar', 'dyskutować', 'świat']</td>\n",
              "      <td>0.44001</td>\n",
              "      <td>0.0</td>\n",
              "      <td>0.04718</td>\n",
              "      <td>0.0</td>\n",
              "      <td>0.0</td>\n",
              "      <td>0.66834</td>\n",
              "      <td>0.40301</td>\n",
              "      <td>[0.43548387, 0.22144397, 0.79057074, 0.0, 0.50918114, 0.6833747]</td>\n",
              "      <td>[0.0, 0.0, 0.0, 0.0, 0.0, 0.0]</td>\n",
              "      <td>[0.0, 0.0, 0.0, 0.28309914, 0.0, 0.0]</td>\n",
              "      <td>[0.0, 0.0, 0.0, 0.0, 0.0, 0.0]</td>\n",
              "      <td>[0.0, 0.0, 0.0, 0.0, 0.0, 0.0]</td>\n",
              "      <td>[0.61566484, 0.6050692, 0.8888889, 0.4213436, 0.6520947, 0.8269581]</td>\n",
              "      <td>[0.28164557, 0.331729, 0.5727848, 0.26673713, 0.53797466, 0.4272152]</td>\n",
              "      <td>[nan, nan, 'HAP', 'SAD', nan, nan]</td>\n",
              "      <td>4.0</td>\n",
              "      <td>1.0</td>\n",
              "      <td>1.0</td>\n",
              "      <td>0.0</td>\n",
              "      <td>0.0</td>\n",
              "      <td>0.0</td>\n",
              "      <td>0.0</td>\n",
              "      <td>['prezydent', 'chwalić', 'lista', 'cały', 'chcieć', 'rok']</td>\n",
              "      <td>0.36578</td>\n",
              "      <td>0.05249</td>\n",
              "      <td>0.0</td>\n",
              "      <td>0.0</td>\n",
              "      <td>0.0</td>\n",
              "      <td>0.64327</td>\n",
              "      <td>0.39567</td>\n",
              "      <td>[0.0, 0.60645163, 0.2527957, 0.5465192, 0.58064514, 0.20826553]</td>\n",
              "      <td>[0.31496063, 0.0, 0.0, 0.0, 0.0, 0.0]</td>\n",
              "      <td>[0.0, 0.0, 0.0, 0.0, 0.0, 0.0]</td>\n",
              "      <td>[0.0, 0.0, 0.0, 0.0, 0.0, 0.0]</td>\n",
              "      <td>[0.0, 0.0, 0.0, 0.0, 0.0, 0.0]</td>\n",
              "      <td>[0.52459013, 0.7395264, 0.5474078, 0.72002405, 0.78142077, 0.5466222]</td>\n",
              "      <td>[0.221519, 0.528481, 0.29837638, 0.5252488, 0.5506329, 0.2497596]</td>\n",
              "      <td>[nan, nan, nan, 'HAP', nan, nan]</td>\n",
              "      <td>5.0</td>\n",
              "      <td>0.0</td>\n",
              "      <td>1.0</td>\n",
              "      <td>0.0</td>\n",
              "      <td>0.0</td>\n",
              "      <td>0.0</td>\n",
              "      <td>0.0</td>\n",
              "      <td>['pokazywać', 'partia', 'wspierać', 'obszar', 'dyskutować', 'świat', 'prezydent', 'chwalić', 'lista', 'cały', 'chcieć', 'rok']</td>\n",
              "      <td>0.40289</td>\n",
              "      <td>0.02625</td>\n",
              "      <td>0.02359</td>\n",
              "      <td>0.0</td>\n",
              "      <td>0.0</td>\n",
              "      <td>0.6558</td>\n",
              "      <td>0.39934</td>\n",
              "      <td>[0.43548387, 0.22144397, 0.79057074, 0.0, 0.50918114, 0.6833747, 0.0, 0.60645163, 0.2527957, 0.5465192, 0.58064514, 0.20826553]</td>\n",
              "      <td>[0.0, 0.0, 0.0, 0.0, 0.0, 0.0, 0.31496063, 0.0, 0.0, 0.0, 0.0, 0.0]</td>\n",
              "      <td>[0.0, 0.0, 0.0, 0.28309914, 0.0, 0.0, 0.0, 0.0, 0.0, 0.0, 0.0, 0.0]</td>\n",
              "      <td>[0.0, 0.0, 0.0, 0.0, 0.0, 0.0, 0.0, 0.0, 0.0, 0.0, 0.0, 0.0]</td>\n",
              "      <td>[0.0, 0.0, 0.0, 0.0, 0.0, 0.0, 0.0, 0.0, 0.0, 0.0, 0.0, 0.0]</td>\n",
              "      <td>[0.61566484, 0.6050692, 0.8888889, 0.4213436, 0.6520947, 0.8269581, 0.52459013, 0.7395264, 0.5474078, 0.72002405, 0.78142077, 0.5466222]</td>\n",
              "      <td>[0.28164557, 0.331729, 0.5727848, 0.26673713, 0.53797466, 0.4272152, 0.221519, 0.528481, 0.29837638, 0.5252488, 0.5506329, 0.2497596]</td>\n",
              "      <td>[nan, nan, 'HAP', 'SAD', nan, nan, nan, nan, nan, 'HAP', nan, nan]</td>\n",
              "      <td>9.0</td>\n",
              "      <td>0.0</td>\n",
              "      <td>2.0</td>\n",
              "      <td>0.0</td>\n",
              "      <td>1.0</td>\n",
              "      <td>0.0</td>\n",
              "      <td>0.0</td>\n",
              "      <td>0.654146</td>\n",
              "      <td>0.0</td>\n",
              "      <td>2.0</td>\n",
              "      <td>0.0</td>\n",
              "      <td>1.479898</td>\n",
              "      <td>0.654146</td>\n",
              "      <td>0.0</td>\n",
              "      <td>0.118</td>\n",
              "      <td>['pokazywać', 'główny', 'partia', 'wspierać', 'obszar', 'dyskutować', 'świat']</td>\n",
              "      <td>0.434122</td>\n",
              "      <td>2.0</td>\n",
              "      <td>2.0</td>\n",
              "      <td>0.781883</td>\n",
              "      <td>1.231651</td>\n",
              "      <td>0.434122</td>\n",
              "      <td>0.054</td>\n",
              "      <td>0.054</td>\n",
              "      <td>['platforma', 'obywatelski', 'nie', 'prezydent', 'chwalić', 'lista', 'nowy', 'instrument', 'cały', 'nowy', 'instrument', 'euro', 'chcieć', 'rok', 'nie', 'mieć']</td>\n",
              "      <td>0.515795</td>\n",
              "      <td>2.0</td>\n",
              "      <td>4.0</td>\n",
              "      <td>0.781883</td>\n",
              "      <td>1.355774</td>\n",
              "      <td>0.515795</td>\n",
              "      <td>0.038</td>\n",
              "      <td>0.075</td>\n",
              "      <td>['pokazywać', 'główny', 'partia', 'wspierać', 'obszar', 'dyskutować', 'świat', 'obywatelski', 'nie', 'prezydent', 'chwalić', 'lista', 'nowy', 'instrument', 'cały', 'nowy', 'instrument', 'euro', 'chcieć', 'rok', 'nie', 'mieć']</td>\n",
              "      <td>2022-12-11 21:43:00</td>\n",
              "    </tr>\n",
              "  </tbody>\n",
              "</table>\n",
              "</div>\n",
              "      <button class=\"colab-df-convert\" onclick=\"convertToInteractive('df-0a5632b4-b779-494d-8b65-23a2be31e60e')\"\n",
              "              title=\"Convert this dataframe to an interactive table.\"\n",
              "              style=\"display:none;\">\n",
              "        \n",
              "  <svg xmlns=\"http://www.w3.org/2000/svg\" height=\"24px\"viewBox=\"0 0 24 24\"\n",
              "       width=\"24px\">\n",
              "    <path d=\"M0 0h24v24H0V0z\" fill=\"none\"/>\n",
              "    <path d=\"M18.56 5.44l.94 2.06.94-2.06 2.06-.94-2.06-.94-.94-2.06-.94 2.06-2.06.94zm-11 1L8.5 8.5l.94-2.06 2.06-.94-2.06-.94L8.5 2.5l-.94 2.06-2.06.94zm10 10l.94 2.06.94-2.06 2.06-.94-2.06-.94-.94-2.06-.94 2.06-2.06.94z\"/><path d=\"M17.41 7.96l-1.37-1.37c-.4-.4-.92-.59-1.43-.59-.52 0-1.04.2-1.43.59L10.3 9.45l-7.72 7.72c-.78.78-.78 2.05 0 2.83L4 21.41c.39.39.9.59 1.41.59.51 0 1.02-.2 1.41-.59l7.78-7.78 2.81-2.81c.8-.78.8-2.07 0-2.86zM5.41 20L4 18.59l7.72-7.72 1.47 1.35L5.41 20z\"/>\n",
              "  </svg>\n",
              "      </button>\n",
              "      \n",
              "  <style>\n",
              "    .colab-df-container {\n",
              "      display:flex;\n",
              "      flex-wrap:wrap;\n",
              "      gap: 12px;\n",
              "    }\n",
              "\n",
              "    .colab-df-convert {\n",
              "      background-color: #E8F0FE;\n",
              "      border: none;\n",
              "      border-radius: 50%;\n",
              "      cursor: pointer;\n",
              "      display: none;\n",
              "      fill: #1967D2;\n",
              "      height: 32px;\n",
              "      padding: 0 0 0 0;\n",
              "      width: 32px;\n",
              "    }\n",
              "\n",
              "    .colab-df-convert:hover {\n",
              "      background-color: #E2EBFA;\n",
              "      box-shadow: 0px 1px 2px rgba(60, 64, 67, 0.3), 0px 1px 3px 1px rgba(60, 64, 67, 0.15);\n",
              "      fill: #174EA6;\n",
              "    }\n",
              "\n",
              "    [theme=dark] .colab-df-convert {\n",
              "      background-color: #3B4455;\n",
              "      fill: #D2E3FC;\n",
              "    }\n",
              "\n",
              "    [theme=dark] .colab-df-convert:hover {\n",
              "      background-color: #434B5C;\n",
              "      box-shadow: 0px 1px 3px 1px rgba(0, 0, 0, 0.15);\n",
              "      filter: drop-shadow(0px 1px 2px rgba(0, 0, 0, 0.3));\n",
              "      fill: #FFFFFF;\n",
              "    }\n",
              "  </style>\n",
              "\n",
              "      <script>\n",
              "        const buttonEl =\n",
              "          document.querySelector('#df-0a5632b4-b779-494d-8b65-23a2be31e60e button.colab-df-convert');\n",
              "        buttonEl.style.display =\n",
              "          google.colab.kernel.accessAllowed ? 'block' : 'none';\n",
              "\n",
              "        async function convertToInteractive(key) {\n",
              "          const element = document.querySelector('#df-0a5632b4-b779-494d-8b65-23a2be31e60e');\n",
              "          const dataTable =\n",
              "            await google.colab.kernel.invokeFunction('convertToInteractive',\n",
              "                                                     [key], {});\n",
              "          if (!dataTable) return;\n",
              "\n",
              "          const docLinkHtml = 'Like what you see? Visit the ' +\n",
              "            '<a target=\"_blank\" href=https://colab.research.google.com/notebooks/data_table.ipynb>data table notebook</a>'\n",
              "            + ' to learn more about interactive tables.';\n",
              "          element.innerHTML = '';\n",
              "          dataTable['output_type'] = 'display_data';\n",
              "          await google.colab.output.renderOutput(dataTable, element);\n",
              "          const docLink = document.createElement('div');\n",
              "          docLink.innerHTML = docLinkHtml;\n",
              "          element.appendChild(docLink);\n",
              "        }\n",
              "      </script>\n",
              "    </div>\n",
              "  </div>\n",
              "  "
            ]
          },
          "metadata": {},
          "execution_count": 166
        }
      ]
    },
    {
      "cell_type": "code",
      "source": [
        "dfm_uniq = dfm.groupby(['conclusion', 'premise'], as_index = False)[schems].sum() \n",
        "dfm_uniq.shape"
      ],
      "metadata": {
        "colab": {
          "base_uri": "https://localhost:8080/"
        },
        "id": "rxzbT-G_wW2H",
        "outputId": "e026e421-a8f3-4636-fdb8-d96b724dd14a"
      },
      "execution_count": null,
      "outputs": [
        {
          "output_type": "execute_result",
          "data": {
            "text/plain": [
              "(147, 10)"
            ]
          },
          "metadata": {},
          "execution_count": 167
        }
      ]
    },
    {
      "cell_type": "code",
      "source": [
        "dfm_uniq.tail(2)"
      ],
      "metadata": {
        "id": "DANTuWqVwzuu",
        "colab": {
          "base_uri": "https://localhost:8080/",
          "height": 488
        },
        "outputId": "2f0bc5e1-700a-4b42-9c0d-cb571c03911d"
      },
      "execution_count": null,
      "outputs": [
        {
          "output_type": "execute_result",
          "data": {
            "text/plain": [
              "                                                                           conclusion  \\\n",
              "145  środki będą sprawiały, że w końcu będziemy mieli rozwiązane te wszystkie kwestie   \n",
              "146          żaden z imigrantów nie ma prawa do zasiłków, socjali ani darmowych usług   \n",
              "\n",
              "                                                                                                                                        premise  \\\n",
              "145               to są realne środki, które powinny trafić do Polski na budowę tanich mieszkań, na wynajem dwa miliony paneli fotowoltaicznych   \n",
              "146  brak dostępu do zasiłków, socjali i darmowych usług spowoduje, że nie będą tu się się pchały darmozjady i ci, którzy chcą na zasiłkach żyć   \n",
              "\n",
              "     scheme_name_Causal Slippery Slope  scheme_name_Danger Appeal  \\\n",
              "145                                0.0                        0.0   \n",
              "146                                0.0                        0.0   \n",
              "\n",
              "     scheme_name_Fear Appeal  scheme_name_Need For Help  \\\n",
              "145                      0.0                        0.0   \n",
              "146                      0.0                        0.0   \n",
              "\n",
              "     scheme_name_Negative Consequences  scheme_name_Positive Consequences  \\\n",
              "145                                0.0                                1.0   \n",
              "146                                0.0                                1.0   \n",
              "\n",
              "     scheme_name_Waste  scheme_name_Default Inference  \n",
              "145                0.0                            0.0  \n",
              "146                0.0                            0.0  "
            ],
            "text/html": [
              "\n",
              "  <div id=\"df-c7c77fc1-36cf-41c0-9d0f-73a3be9b8cfa\">\n",
              "    <div class=\"colab-df-container\">\n",
              "      <div>\n",
              "<style scoped>\n",
              "    .dataframe tbody tr th:only-of-type {\n",
              "        vertical-align: middle;\n",
              "    }\n",
              "\n",
              "    .dataframe tbody tr th {\n",
              "        vertical-align: top;\n",
              "    }\n",
              "\n",
              "    .dataframe thead th {\n",
              "        text-align: right;\n",
              "    }\n",
              "</style>\n",
              "<table border=\"1\" class=\"dataframe\">\n",
              "  <thead>\n",
              "    <tr style=\"text-align: right;\">\n",
              "      <th></th>\n",
              "      <th>conclusion</th>\n",
              "      <th>premise</th>\n",
              "      <th>scheme_name_Causal Slippery Slope</th>\n",
              "      <th>scheme_name_Danger Appeal</th>\n",
              "      <th>scheme_name_Fear Appeal</th>\n",
              "      <th>scheme_name_Need For Help</th>\n",
              "      <th>scheme_name_Negative Consequences</th>\n",
              "      <th>scheme_name_Positive Consequences</th>\n",
              "      <th>scheme_name_Waste</th>\n",
              "      <th>scheme_name_Default Inference</th>\n",
              "    </tr>\n",
              "  </thead>\n",
              "  <tbody>\n",
              "    <tr>\n",
              "      <th>145</th>\n",
              "      <td>środki będą sprawiały, że w końcu będziemy mieli rozwiązane te wszystkie kwestie</td>\n",
              "      <td>to są realne środki, które powinny trafić do Polski na budowę tanich mieszkań, na wynajem dwa miliony paneli fotowoltaicznych</td>\n",
              "      <td>0.0</td>\n",
              "      <td>0.0</td>\n",
              "      <td>0.0</td>\n",
              "      <td>0.0</td>\n",
              "      <td>0.0</td>\n",
              "      <td>1.0</td>\n",
              "      <td>0.0</td>\n",
              "      <td>0.0</td>\n",
              "    </tr>\n",
              "    <tr>\n",
              "      <th>146</th>\n",
              "      <td>żaden z imigrantów nie ma prawa do zasiłków, socjali ani darmowych usług</td>\n",
              "      <td>brak dostępu do zasiłków, socjali i darmowych usług spowoduje, że nie będą tu się się pchały darmozjady i ci, którzy chcą na zasiłkach żyć</td>\n",
              "      <td>0.0</td>\n",
              "      <td>0.0</td>\n",
              "      <td>0.0</td>\n",
              "      <td>0.0</td>\n",
              "      <td>0.0</td>\n",
              "      <td>1.0</td>\n",
              "      <td>0.0</td>\n",
              "      <td>0.0</td>\n",
              "    </tr>\n",
              "  </tbody>\n",
              "</table>\n",
              "</div>\n",
              "      <button class=\"colab-df-convert\" onclick=\"convertToInteractive('df-c7c77fc1-36cf-41c0-9d0f-73a3be9b8cfa')\"\n",
              "              title=\"Convert this dataframe to an interactive table.\"\n",
              "              style=\"display:none;\">\n",
              "        \n",
              "  <svg xmlns=\"http://www.w3.org/2000/svg\" height=\"24px\"viewBox=\"0 0 24 24\"\n",
              "       width=\"24px\">\n",
              "    <path d=\"M0 0h24v24H0V0z\" fill=\"none\"/>\n",
              "    <path d=\"M18.56 5.44l.94 2.06.94-2.06 2.06-.94-2.06-.94-.94-2.06-.94 2.06-2.06.94zm-11 1L8.5 8.5l.94-2.06 2.06-.94-2.06-.94L8.5 2.5l-.94 2.06-2.06.94zm10 10l.94 2.06.94-2.06 2.06-.94-2.06-.94-.94-2.06-.94 2.06-2.06.94z\"/><path d=\"M17.41 7.96l-1.37-1.37c-.4-.4-.92-.59-1.43-.59-.52 0-1.04.2-1.43.59L10.3 9.45l-7.72 7.72c-.78.78-.78 2.05 0 2.83L4 21.41c.39.39.9.59 1.41.59.51 0 1.02-.2 1.41-.59l7.78-7.78 2.81-2.81c.8-.78.8-2.07 0-2.86zM5.41 20L4 18.59l7.72-7.72 1.47 1.35L5.41 20z\"/>\n",
              "  </svg>\n",
              "      </button>\n",
              "      \n",
              "  <style>\n",
              "    .colab-df-container {\n",
              "      display:flex;\n",
              "      flex-wrap:wrap;\n",
              "      gap: 12px;\n",
              "    }\n",
              "\n",
              "    .colab-df-convert {\n",
              "      background-color: #E8F0FE;\n",
              "      border: none;\n",
              "      border-radius: 50%;\n",
              "      cursor: pointer;\n",
              "      display: none;\n",
              "      fill: #1967D2;\n",
              "      height: 32px;\n",
              "      padding: 0 0 0 0;\n",
              "      width: 32px;\n",
              "    }\n",
              "\n",
              "    .colab-df-convert:hover {\n",
              "      background-color: #E2EBFA;\n",
              "      box-shadow: 0px 1px 2px rgba(60, 64, 67, 0.3), 0px 1px 3px 1px rgba(60, 64, 67, 0.15);\n",
              "      fill: #174EA6;\n",
              "    }\n",
              "\n",
              "    [theme=dark] .colab-df-convert {\n",
              "      background-color: #3B4455;\n",
              "      fill: #D2E3FC;\n",
              "    }\n",
              "\n",
              "    [theme=dark] .colab-df-convert:hover {\n",
              "      background-color: #434B5C;\n",
              "      box-shadow: 0px 1px 3px 1px rgba(0, 0, 0, 0.15);\n",
              "      filter: drop-shadow(0px 1px 2px rgba(0, 0, 0, 0.3));\n",
              "      fill: #FFFFFF;\n",
              "    }\n",
              "  </style>\n",
              "\n",
              "      <script>\n",
              "        const buttonEl =\n",
              "          document.querySelector('#df-c7c77fc1-36cf-41c0-9d0f-73a3be9b8cfa button.colab-df-convert');\n",
              "        buttonEl.style.display =\n",
              "          google.colab.kernel.accessAllowed ? 'block' : 'none';\n",
              "\n",
              "        async function convertToInteractive(key) {\n",
              "          const element = document.querySelector('#df-c7c77fc1-36cf-41c0-9d0f-73a3be9b8cfa');\n",
              "          const dataTable =\n",
              "            await google.colab.kernel.invokeFunction('convertToInteractive',\n",
              "                                                     [key], {});\n",
              "          if (!dataTable) return;\n",
              "\n",
              "          const docLinkHtml = 'Like what you see? Visit the ' +\n",
              "            '<a target=\"_blank\" href=https://colab.research.google.com/notebooks/data_table.ipynb>data table notebook</a>'\n",
              "            + ' to learn more about interactive tables.';\n",
              "          element.innerHTML = '';\n",
              "          dataTable['output_type'] = 'display_data';\n",
              "          await google.colab.output.renderOutput(dataTable, element);\n",
              "          const docLink = document.createElement('div');\n",
              "          docLink.innerHTML = docLinkHtml;\n",
              "          element.appendChild(docLink);\n",
              "        }\n",
              "      </script>\n",
              "    </div>\n",
              "  </div>\n",
              "  "
            ]
          },
          "metadata": {},
          "execution_count": 168
        }
      ]
    },
    {
      "cell_type": "code",
      "source": [
        "df = df.merge(dfm_uniq, on = ['conclusion', 'premise'], how = 'left')"
      ],
      "metadata": {
        "id": "SmJuQXdptc3X"
      },
      "execution_count": null,
      "outputs": []
    },
    {
      "cell_type": "code",
      "source": [
        "df.shape"
      ],
      "metadata": {
        "colab": {
          "base_uri": "https://localhost:8080/"
        },
        "id": "RHxGXMWZHMXy",
        "outputId": "aa071a05-9d8b-4f1a-8a5f-748870cd2abd"
      },
      "execution_count": null,
      "outputs": [
        {
          "output_type": "execute_result",
          "data": {
            "text/plain": [
              "(150, 121)"
            ]
          },
          "metadata": {},
          "execution_count": 170
        }
      ]
    },
    {
      "cell_type": "code",
      "source": [
        "df[schems].describe()"
      ],
      "metadata": {
        "id": "EfT-91fxVG4M",
        "colab": {
          "base_uri": "https://localhost:8080/",
          "height": 382
        },
        "outputId": "0a55ad55-f3d7-4de5-a773-9f13b5cdd6c3"
      },
      "execution_count": null,
      "outputs": [
        {
          "output_type": "execute_result",
          "data": {
            "text/plain": [
              "       scheme_name_Causal Slippery Slope  scheme_name_Danger Appeal  \\\n",
              "count                         148.000000                 148.000000   \n",
              "mean                            0.013514                   0.074324   \n",
              "std                             0.115852                   0.310611   \n",
              "min                             0.000000                   0.000000   \n",
              "25%                             0.000000                   0.000000   \n",
              "50%                             0.000000                   0.000000   \n",
              "75%                             0.000000                   0.000000   \n",
              "max                             1.000000                   2.000000   \n",
              "\n",
              "       scheme_name_Fear Appeal  scheme_name_Need For Help  \\\n",
              "count               148.000000                 148.000000   \n",
              "mean                  0.027027                   0.135135   \n",
              "std                   0.259407                   0.475933   \n",
              "min                   0.000000                   0.000000   \n",
              "25%                   0.000000                   0.000000   \n",
              "50%                   0.000000                   0.000000   \n",
              "75%                   0.000000                   0.000000   \n",
              "max                   3.000000                   3.000000   \n",
              "\n",
              "       scheme_name_Negative Consequences  scheme_name_Positive Consequences  \\\n",
              "count                         148.000000                         148.000000   \n",
              "mean                            0.202703                           0.385135   \n",
              "std                             0.627699                           0.704926   \n",
              "min                             0.000000                           0.000000   \n",
              "25%                             0.000000                           0.000000   \n",
              "50%                             0.000000                           0.000000   \n",
              "75%                             0.000000                           1.000000   \n",
              "max                             6.000000                           4.000000   \n",
              "\n",
              "       scheme_name_Waste  scheme_name_Default Inference  \n",
              "count              148.0                     148.000000  \n",
              "mean                 0.0                       0.574324  \n",
              "std                  0.0                       0.710382  \n",
              "min                  0.0                       0.000000  \n",
              "25%                  0.0                       0.000000  \n",
              "50%                  0.0                       0.000000  \n",
              "75%                  0.0                       1.000000  \n",
              "max                  0.0                       3.000000  "
            ],
            "text/html": [
              "\n",
              "  <div id=\"df-c092322e-2105-474c-b5a5-39858c27bf0b\">\n",
              "    <div class=\"colab-df-container\">\n",
              "      <div>\n",
              "<style scoped>\n",
              "    .dataframe tbody tr th:only-of-type {\n",
              "        vertical-align: middle;\n",
              "    }\n",
              "\n",
              "    .dataframe tbody tr th {\n",
              "        vertical-align: top;\n",
              "    }\n",
              "\n",
              "    .dataframe thead th {\n",
              "        text-align: right;\n",
              "    }\n",
              "</style>\n",
              "<table border=\"1\" class=\"dataframe\">\n",
              "  <thead>\n",
              "    <tr style=\"text-align: right;\">\n",
              "      <th></th>\n",
              "      <th>scheme_name_Causal Slippery Slope</th>\n",
              "      <th>scheme_name_Danger Appeal</th>\n",
              "      <th>scheme_name_Fear Appeal</th>\n",
              "      <th>scheme_name_Need For Help</th>\n",
              "      <th>scheme_name_Negative Consequences</th>\n",
              "      <th>scheme_name_Positive Consequences</th>\n",
              "      <th>scheme_name_Waste</th>\n",
              "      <th>scheme_name_Default Inference</th>\n",
              "    </tr>\n",
              "  </thead>\n",
              "  <tbody>\n",
              "    <tr>\n",
              "      <th>count</th>\n",
              "      <td>148.000000</td>\n",
              "      <td>148.000000</td>\n",
              "      <td>148.000000</td>\n",
              "      <td>148.000000</td>\n",
              "      <td>148.000000</td>\n",
              "      <td>148.000000</td>\n",
              "      <td>148.0</td>\n",
              "      <td>148.000000</td>\n",
              "    </tr>\n",
              "    <tr>\n",
              "      <th>mean</th>\n",
              "      <td>0.013514</td>\n",
              "      <td>0.074324</td>\n",
              "      <td>0.027027</td>\n",
              "      <td>0.135135</td>\n",
              "      <td>0.202703</td>\n",
              "      <td>0.385135</td>\n",
              "      <td>0.0</td>\n",
              "      <td>0.574324</td>\n",
              "    </tr>\n",
              "    <tr>\n",
              "      <th>std</th>\n",
              "      <td>0.115852</td>\n",
              "      <td>0.310611</td>\n",
              "      <td>0.259407</td>\n",
              "      <td>0.475933</td>\n",
              "      <td>0.627699</td>\n",
              "      <td>0.704926</td>\n",
              "      <td>0.0</td>\n",
              "      <td>0.710382</td>\n",
              "    </tr>\n",
              "    <tr>\n",
              "      <th>min</th>\n",
              "      <td>0.000000</td>\n",
              "      <td>0.000000</td>\n",
              "      <td>0.000000</td>\n",
              "      <td>0.000000</td>\n",
              "      <td>0.000000</td>\n",
              "      <td>0.000000</td>\n",
              "      <td>0.0</td>\n",
              "      <td>0.000000</td>\n",
              "    </tr>\n",
              "    <tr>\n",
              "      <th>25%</th>\n",
              "      <td>0.000000</td>\n",
              "      <td>0.000000</td>\n",
              "      <td>0.000000</td>\n",
              "      <td>0.000000</td>\n",
              "      <td>0.000000</td>\n",
              "      <td>0.000000</td>\n",
              "      <td>0.0</td>\n",
              "      <td>0.000000</td>\n",
              "    </tr>\n",
              "    <tr>\n",
              "      <th>50%</th>\n",
              "      <td>0.000000</td>\n",
              "      <td>0.000000</td>\n",
              "      <td>0.000000</td>\n",
              "      <td>0.000000</td>\n",
              "      <td>0.000000</td>\n",
              "      <td>0.000000</td>\n",
              "      <td>0.0</td>\n",
              "      <td>0.000000</td>\n",
              "    </tr>\n",
              "    <tr>\n",
              "      <th>75%</th>\n",
              "      <td>0.000000</td>\n",
              "      <td>0.000000</td>\n",
              "      <td>0.000000</td>\n",
              "      <td>0.000000</td>\n",
              "      <td>0.000000</td>\n",
              "      <td>1.000000</td>\n",
              "      <td>0.0</td>\n",
              "      <td>1.000000</td>\n",
              "    </tr>\n",
              "    <tr>\n",
              "      <th>max</th>\n",
              "      <td>1.000000</td>\n",
              "      <td>2.000000</td>\n",
              "      <td>3.000000</td>\n",
              "      <td>3.000000</td>\n",
              "      <td>6.000000</td>\n",
              "      <td>4.000000</td>\n",
              "      <td>0.0</td>\n",
              "      <td>3.000000</td>\n",
              "    </tr>\n",
              "  </tbody>\n",
              "</table>\n",
              "</div>\n",
              "      <button class=\"colab-df-convert\" onclick=\"convertToInteractive('df-c092322e-2105-474c-b5a5-39858c27bf0b')\"\n",
              "              title=\"Convert this dataframe to an interactive table.\"\n",
              "              style=\"display:none;\">\n",
              "        \n",
              "  <svg xmlns=\"http://www.w3.org/2000/svg\" height=\"24px\"viewBox=\"0 0 24 24\"\n",
              "       width=\"24px\">\n",
              "    <path d=\"M0 0h24v24H0V0z\" fill=\"none\"/>\n",
              "    <path d=\"M18.56 5.44l.94 2.06.94-2.06 2.06-.94-2.06-.94-.94-2.06-.94 2.06-2.06.94zm-11 1L8.5 8.5l.94-2.06 2.06-.94-2.06-.94L8.5 2.5l-.94 2.06-2.06.94zm10 10l.94 2.06.94-2.06 2.06-.94-2.06-.94-.94-2.06-.94 2.06-2.06.94z\"/><path d=\"M17.41 7.96l-1.37-1.37c-.4-.4-.92-.59-1.43-.59-.52 0-1.04.2-1.43.59L10.3 9.45l-7.72 7.72c-.78.78-.78 2.05 0 2.83L4 21.41c.39.39.9.59 1.41.59.51 0 1.02-.2 1.41-.59l7.78-7.78 2.81-2.81c.8-.78.8-2.07 0-2.86zM5.41 20L4 18.59l7.72-7.72 1.47 1.35L5.41 20z\"/>\n",
              "  </svg>\n",
              "      </button>\n",
              "      \n",
              "  <style>\n",
              "    .colab-df-container {\n",
              "      display:flex;\n",
              "      flex-wrap:wrap;\n",
              "      gap: 12px;\n",
              "    }\n",
              "\n",
              "    .colab-df-convert {\n",
              "      background-color: #E8F0FE;\n",
              "      border: none;\n",
              "      border-radius: 50%;\n",
              "      cursor: pointer;\n",
              "      display: none;\n",
              "      fill: #1967D2;\n",
              "      height: 32px;\n",
              "      padding: 0 0 0 0;\n",
              "      width: 32px;\n",
              "    }\n",
              "\n",
              "    .colab-df-convert:hover {\n",
              "      background-color: #E2EBFA;\n",
              "      box-shadow: 0px 1px 2px rgba(60, 64, 67, 0.3), 0px 1px 3px 1px rgba(60, 64, 67, 0.15);\n",
              "      fill: #174EA6;\n",
              "    }\n",
              "\n",
              "    [theme=dark] .colab-df-convert {\n",
              "      background-color: #3B4455;\n",
              "      fill: #D2E3FC;\n",
              "    }\n",
              "\n",
              "    [theme=dark] .colab-df-convert:hover {\n",
              "      background-color: #434B5C;\n",
              "      box-shadow: 0px 1px 3px 1px rgba(0, 0, 0, 0.15);\n",
              "      filter: drop-shadow(0px 1px 2px rgba(0, 0, 0, 0.3));\n",
              "      fill: #FFFFFF;\n",
              "    }\n",
              "  </style>\n",
              "\n",
              "      <script>\n",
              "        const buttonEl =\n",
              "          document.querySelector('#df-c092322e-2105-474c-b5a5-39858c27bf0b button.colab-df-convert');\n",
              "        buttonEl.style.display =\n",
              "          google.colab.kernel.accessAllowed ? 'block' : 'none';\n",
              "\n",
              "        async function convertToInteractive(key) {\n",
              "          const element = document.querySelector('#df-c092322e-2105-474c-b5a5-39858c27bf0b');\n",
              "          const dataTable =\n",
              "            await google.colab.kernel.invokeFunction('convertToInteractive',\n",
              "                                                     [key], {});\n",
              "          if (!dataTable) return;\n",
              "\n",
              "          const docLinkHtml = 'Like what you see? Visit the ' +\n",
              "            '<a target=\"_blank\" href=https://colab.research.google.com/notebooks/data_table.ipynb>data table notebook</a>'\n",
              "            + ' to learn more about interactive tables.';\n",
              "          element.innerHTML = '';\n",
              "          dataTable['output_type'] = 'display_data';\n",
              "          await google.colab.output.renderOutput(dataTable, element);\n",
              "          const docLink = document.createElement('div');\n",
              "          docLink.innerHTML = docLinkHtml;\n",
              "          element.appendChild(docLink);\n",
              "        }\n",
              "      </script>\n",
              "    </div>\n",
              "  </div>\n",
              "  "
            ]
          },
          "metadata": {},
          "execution_count": 171
        }
      ]
    },
    {
      "cell_type": "code",
      "source": [
        "df = df[df[schems].any(axis=1)]"
      ],
      "metadata": {
        "id": "qlHdd-ln_kS1"
      },
      "execution_count": null,
      "outputs": []
    },
    {
      "cell_type": "code",
      "source": [
        "df.start.nunique()"
      ],
      "metadata": {
        "colab": {
          "base_uri": "https://localhost:8080/"
        },
        "id": "PIkmvMndrKax",
        "outputId": "57c72b23-5d99-43b7-d739-93f11c799b45"
      },
      "execution_count": null,
      "outputs": [
        {
          "output_type": "execute_result",
          "data": {
            "text/plain": [
              "60"
            ]
          },
          "metadata": {},
          "execution_count": 173
        }
      ]
    },
    {
      "cell_type": "markdown",
      "source": [
        "####Process reactions"
      ],
      "metadata": {
        "id": "RhEBmEULMEwL"
      }
    },
    {
      "cell_type": "markdown",
      "source": [
        "**Emotion analysis**"
      ],
      "metadata": {
        "id": "eA4dT12gaiBF"
      }
    },
    {
      "cell_type": "code",
      "source": [
        "# change date and take only time of a debate\n",
        "# May:  (df_corr_pl_processed.Data >= '2020-05-06 20:34:00') & (df_corr_pl_processed.Data <= '2020-05-06 21:42:00')\n",
        "# June:  (df_corr_pl_processed.Data >= '2020-06-17 21:03:00') & (df_corr_pl_processed.Data <= '2020-06-17 22:18:00') \n",
        "\n",
        "\n",
        "df_corr_pl_processed = process_reactions_nobase_both(dataframe_social_media = social_media, \n",
        "                                        dataframe_debate = df, \n",
        "                                        analysis_type = 'emotion') # sentiment  emotion\n",
        "\n",
        "may_data = df_corr_pl_processed[ (df_corr_pl_processed.Data >= '2020-05-06 20:34:00') & (df_corr_pl_processed.Data <= '2020-05-06 21:42:00') ]\n",
        "june_data = df_corr_pl_processed[ (df_corr_pl_processed.Data >= '2020-06-17 21:03:00') & (df_corr_pl_processed.Data <= '2020-06-17 22:18:00') ]\n",
        "\n",
        "\n",
        "df_corr_pl_processed = june_data # june_data may_data\n",
        "print(df_corr_pl_processed.shape, '\\n')\n",
        "df_corr_pl_processed.head(3)"
      ],
      "metadata": {
        "colab": {
          "base_uri": "https://localhost:8080/",
          "height": 364
        },
        "id": "cc34Ke6laE-8",
        "outputId": "94d63f88-8ba2-4534-df18-eb3562693f21"
      },
      "execution_count": null,
      "outputs": [
        {
          "output_type": "stream",
          "name": "stdout",
          "text": [
            "(413, 82) \n",
            "\n"
          ]
        },
        {
          "output_type": "execute_result",
          "data": {
            "text/plain": [
              "                  Data predicted_emotion_label_PaREMO       mean      Time  \\\n",
              "21 2020-06-17 21:03:00                          anger  34.857143  21:03:00   \n",
              "22 2020-06-17 21:03:00                        disgust   0.571429  21:03:00   \n",
              "23 2020-06-17 21:03:00                           fear  11.428571  21:03:00   \n",
              "\n",
              "    question number   mean_neg   mean_pos   mean_neu  conclusion_Happiness  \\\n",
              "21              1.0  33.333333  33.333333  33.333333               0.28984   \n",
              "22              1.0  33.333333  33.333333  33.333333               0.28984   \n",
              "23              1.0  33.333333  33.333333  33.333333               0.28984   \n",
              "\n",
              "    conclusion_Anger  conclusion_Sadness  conclusion_Fear  conclusion_Disgust  \\\n",
              "21           0.03937                 0.0         0.089045                 0.0   \n",
              "22           0.03937                 0.0         0.089045                 0.0   \n",
              "23           0.03937                 0.0         0.089045                 0.0   \n",
              "\n",
              "    conclusion_Valence  conclusion_Arousal  conclusion_CATEGORY_nan  \\\n",
              "21            0.623395             0.40467                 1.333333   \n",
              "22            0.623395             0.40467                 1.333333   \n",
              "23            0.623395             0.40467                 1.333333   \n",
              "\n",
              "    conclusion_CATEGORY_HAP  conclusion_CATEGORY_SAD  conclusion_CATEGORY_FEA  \\\n",
              "21                      0.0                      0.0                 0.333333   \n",
              "22                      0.0                      0.0                 0.333333   \n",
              "23                      0.0                      0.0                 0.333333   \n",
              "\n",
              "    conclusion_CATEGORY_ANG  conclusion_CATEGORY_DIS  conclusion_CATEGORY_NEU  \\\n",
              "21                      0.0                      0.0                      0.0   \n",
              "22                      0.0                      0.0                      0.0   \n",
              "23                      0.0                      0.0                      0.0   \n",
              "\n",
              "    premise_Happiness  premise_Anger  premise_Sadness  premise_Fear  \\\n",
              "21           0.226667       0.020473              0.0       0.07582   \n",
              "22           0.226667       0.020473              0.0       0.07582   \n",
              "23           0.226667       0.020473              0.0       0.07582   \n",
              "\n",
              "    premise_Disgust  premise_Valence  premise_Arousal  premise_CATEGORY_nan  \\\n",
              "21         0.045313         0.580707         0.413097                   3.0   \n",
              "22         0.045313         0.580707         0.413097                   3.0   \n",
              "23         0.045313         0.580707         0.413097                   3.0   \n",
              "\n",
              "    premise_CATEGORY_FEA  premise_CATEGORY_HAP  premise_CATEGORY_ANG  \\\n",
              "21                   0.0                   0.0                   0.0   \n",
              "22                   0.0                   0.0                   0.0   \n",
              "23                   0.0                   0.0                   0.0   \n",
              "\n",
              "    premise_CATEGORY_DIS  premise_CATEGORY_SAD  premise_CATEGORY_NEU  \\\n",
              "21                   0.0                   0.0                   0.0   \n",
              "22                   0.0                   0.0                   0.0   \n",
              "23                   0.0                   0.0                   0.0   \n",
              "\n",
              "    full_argument_Happiness  full_argument_Anger  full_argument_Sadness  \\\n",
              "21                 0.234103             0.032057                    0.0   \n",
              "22                 0.234103             0.032057                    0.0   \n",
              "23                 0.234103             0.032057                    0.0   \n",
              "\n",
              "    full_argument_Fear  full_argument_Disgust  full_argument_Valence  \\\n",
              "21            0.066417                0.03776               0.587107   \n",
              "22            0.066417                0.03776               0.587107   \n",
              "23            0.066417                0.03776               0.587107   \n",
              "\n",
              "    full_argument_Arousal  full_argument_CATEGORY_nan  \\\n",
              "21               0.391063                    4.333333   \n",
              "22               0.391063                    4.333333   \n",
              "23               0.391063                    4.333333   \n",
              "\n",
              "    full_argument_CATEGORY_FEA  full_argument_CATEGORY_HAP  \\\n",
              "21                    0.333333                         0.0   \n",
              "22                    0.333333                         0.0   \n",
              "23                    0.333333                         0.0   \n",
              "\n",
              "    full_argument_CATEGORY_ANG  full_argument_CATEGORY_SAD  \\\n",
              "21                         0.0                         0.0   \n",
              "22                         0.0                         0.0   \n",
              "23                         0.0                         0.0   \n",
              "\n",
              "    full_argument_CATEGORY_DIS  full_argument_CATEGORY_NEU  \\\n",
              "21                         0.0                         0.0   \n",
              "22                         0.0                         0.0   \n",
              "23                         0.0                         0.0   \n",
              "\n",
              "    conclusion_valence_score  conclusion_valence_negative  \\\n",
              "21                     0.514                          0.0   \n",
              "22                     0.514                          0.0   \n",
              "23                     0.514                          0.0   \n",
              "\n",
              "    conclusion_valence_positive  conclusion_Valence_negative_standardized  \\\n",
              "21                          0.5                                       0.0   \n",
              "22                          0.5                                       0.0   \n",
              "23                          0.5                                       0.0   \n",
              "\n",
              "    conclusion_Valence_positive_standardized  conclusion_Valence_standardized  \\\n",
              "21                                  0.772884                            0.514   \n",
              "22                                  0.772884                            0.514   \n",
              "23                                  0.772884                            0.514   \n",
              "\n",
              "    conclusion_Negative_percentage  conclusion_Positive_percentage  \\\n",
              "21                             0.0                          0.0335   \n",
              "22                             0.0                          0.0335   \n",
              "23                             0.0                          0.0335   \n",
              "\n",
              "    premise_valence_score  premise_valence_negative  premise_valence_positive  \\\n",
              "21               0.436148                       1.0                  0.666667   \n",
              "22               0.436148                       1.0                  0.666667   \n",
              "23               0.436148                       1.0                  0.666667   \n",
              "\n",
              "    premise_Valence_negative_standardized  \\\n",
              "21                               0.297596   \n",
              "22                               0.297596   \n",
              "23                               0.297596   \n",
              "\n",
              "    premise_Valence_positive_standardized  premise_Valence_standardized  \\\n",
              "21                               1.023432                      0.436148   \n",
              "22                               1.023432                      0.436148   \n",
              "23                               1.023432                      0.436148   \n",
              "\n",
              "    premise_Negative_percentage  premise_Positive_percentage  \\\n",
              "21                     0.038333                        0.043   \n",
              "22                     0.038333                        0.043   \n",
              "23                     0.038333                        0.043   \n",
              "\n",
              "    full_argument_valence_score  full_argument_valence_negative  \\\n",
              "21                     0.491677                             1.0   \n",
              "22                     0.491677                             1.0   \n",
              "23                     0.491677                             1.0   \n",
              "\n",
              "    full_argument_valence_positive  \\\n",
              "21                             1.0   \n",
              "22                             1.0   \n",
              "23                             1.0   \n",
              "\n",
              "    full_argument_Valence_negative_standardized  \\\n",
              "21                                     0.297596   \n",
              "22                                     0.297596   \n",
              "23                                     0.297596   \n",
              "\n",
              "    full_argument_Valence_positive_standardized  \\\n",
              "21                                       1.0427   \n",
              "22                                       1.0427   \n",
              "23                                       1.0427   \n",
              "\n",
              "    full_argument_Valence_standardized  full_argument_Negative_percentage  \\\n",
              "21                            0.491677                           0.024333   \n",
              "22                            0.491677                           0.024333   \n",
              "23                            0.491677                           0.024333   \n",
              "\n",
              "    full_argument_Positive_percentage  scheme_name_Causal Slippery Slope  \\\n",
              "21                           0.028333                                0.0   \n",
              "22                           0.028333                                0.0   \n",
              "23                           0.028333                                0.0   \n",
              "\n",
              "    scheme_name_Danger Appeal  scheme_name_Fear Appeal  \\\n",
              "21                        0.0                      0.0   \n",
              "22                        0.0                      0.0   \n",
              "23                        0.0                      0.0   \n",
              "\n",
              "    scheme_name_Need For Help  scheme_name_Negative Consequences  \\\n",
              "21                        0.0                                0.0   \n",
              "22                        0.0                                0.0   \n",
              "23                        0.0                                0.0   \n",
              "\n",
              "    scheme_name_Positive Consequences  scheme_name_Waste  \\\n",
              "21                           0.333333                0.0   \n",
              "22                           0.333333                0.0   \n",
              "23                           0.333333                0.0   \n",
              "\n",
              "    scheme_name_Default Inference  \n",
              "21                       0.666667  \n",
              "22                       0.666667  \n",
              "23                       0.666667  "
            ],
            "text/html": [
              "\n",
              "  <div id=\"df-90961253-806a-49fc-8872-a799be63b29c\">\n",
              "    <div class=\"colab-df-container\">\n",
              "      <div>\n",
              "<style scoped>\n",
              "    .dataframe tbody tr th:only-of-type {\n",
              "        vertical-align: middle;\n",
              "    }\n",
              "\n",
              "    .dataframe tbody tr th {\n",
              "        vertical-align: top;\n",
              "    }\n",
              "\n",
              "    .dataframe thead th {\n",
              "        text-align: right;\n",
              "    }\n",
              "</style>\n",
              "<table border=\"1\" class=\"dataframe\">\n",
              "  <thead>\n",
              "    <tr style=\"text-align: right;\">\n",
              "      <th></th>\n",
              "      <th>Data</th>\n",
              "      <th>predicted_emotion_label_PaREMO</th>\n",
              "      <th>mean</th>\n",
              "      <th>Time</th>\n",
              "      <th>question number</th>\n",
              "      <th>mean_neg</th>\n",
              "      <th>mean_pos</th>\n",
              "      <th>mean_neu</th>\n",
              "      <th>conclusion_Happiness</th>\n",
              "      <th>conclusion_Anger</th>\n",
              "      <th>conclusion_Sadness</th>\n",
              "      <th>conclusion_Fear</th>\n",
              "      <th>conclusion_Disgust</th>\n",
              "      <th>conclusion_Valence</th>\n",
              "      <th>conclusion_Arousal</th>\n",
              "      <th>conclusion_CATEGORY_nan</th>\n",
              "      <th>conclusion_CATEGORY_HAP</th>\n",
              "      <th>conclusion_CATEGORY_SAD</th>\n",
              "      <th>conclusion_CATEGORY_FEA</th>\n",
              "      <th>conclusion_CATEGORY_ANG</th>\n",
              "      <th>conclusion_CATEGORY_DIS</th>\n",
              "      <th>conclusion_CATEGORY_NEU</th>\n",
              "      <th>premise_Happiness</th>\n",
              "      <th>premise_Anger</th>\n",
              "      <th>premise_Sadness</th>\n",
              "      <th>premise_Fear</th>\n",
              "      <th>premise_Disgust</th>\n",
              "      <th>premise_Valence</th>\n",
              "      <th>premise_Arousal</th>\n",
              "      <th>premise_CATEGORY_nan</th>\n",
              "      <th>premise_CATEGORY_FEA</th>\n",
              "      <th>premise_CATEGORY_HAP</th>\n",
              "      <th>premise_CATEGORY_ANG</th>\n",
              "      <th>premise_CATEGORY_DIS</th>\n",
              "      <th>premise_CATEGORY_SAD</th>\n",
              "      <th>premise_CATEGORY_NEU</th>\n",
              "      <th>full_argument_Happiness</th>\n",
              "      <th>full_argument_Anger</th>\n",
              "      <th>full_argument_Sadness</th>\n",
              "      <th>full_argument_Fear</th>\n",
              "      <th>full_argument_Disgust</th>\n",
              "      <th>full_argument_Valence</th>\n",
              "      <th>full_argument_Arousal</th>\n",
              "      <th>full_argument_CATEGORY_nan</th>\n",
              "      <th>full_argument_CATEGORY_FEA</th>\n",
              "      <th>full_argument_CATEGORY_HAP</th>\n",
              "      <th>full_argument_CATEGORY_ANG</th>\n",
              "      <th>full_argument_CATEGORY_SAD</th>\n",
              "      <th>full_argument_CATEGORY_DIS</th>\n",
              "      <th>full_argument_CATEGORY_NEU</th>\n",
              "      <th>conclusion_valence_score</th>\n",
              "      <th>conclusion_valence_negative</th>\n",
              "      <th>conclusion_valence_positive</th>\n",
              "      <th>conclusion_Valence_negative_standardized</th>\n",
              "      <th>conclusion_Valence_positive_standardized</th>\n",
              "      <th>conclusion_Valence_standardized</th>\n",
              "      <th>conclusion_Negative_percentage</th>\n",
              "      <th>conclusion_Positive_percentage</th>\n",
              "      <th>premise_valence_score</th>\n",
              "      <th>premise_valence_negative</th>\n",
              "      <th>premise_valence_positive</th>\n",
              "      <th>premise_Valence_negative_standardized</th>\n",
              "      <th>premise_Valence_positive_standardized</th>\n",
              "      <th>premise_Valence_standardized</th>\n",
              "      <th>premise_Negative_percentage</th>\n",
              "      <th>premise_Positive_percentage</th>\n",
              "      <th>full_argument_valence_score</th>\n",
              "      <th>full_argument_valence_negative</th>\n",
              "      <th>full_argument_valence_positive</th>\n",
              "      <th>full_argument_Valence_negative_standardized</th>\n",
              "      <th>full_argument_Valence_positive_standardized</th>\n",
              "      <th>full_argument_Valence_standardized</th>\n",
              "      <th>full_argument_Negative_percentage</th>\n",
              "      <th>full_argument_Positive_percentage</th>\n",
              "      <th>scheme_name_Causal Slippery Slope</th>\n",
              "      <th>scheme_name_Danger Appeal</th>\n",
              "      <th>scheme_name_Fear Appeal</th>\n",
              "      <th>scheme_name_Need For Help</th>\n",
              "      <th>scheme_name_Negative Consequences</th>\n",
              "      <th>scheme_name_Positive Consequences</th>\n",
              "      <th>scheme_name_Waste</th>\n",
              "      <th>scheme_name_Default Inference</th>\n",
              "    </tr>\n",
              "  </thead>\n",
              "  <tbody>\n",
              "    <tr>\n",
              "      <th>21</th>\n",
              "      <td>2020-06-17 21:03:00</td>\n",
              "      <td>anger</td>\n",
              "      <td>34.857143</td>\n",
              "      <td>21:03:00</td>\n",
              "      <td>1.0</td>\n",
              "      <td>33.333333</td>\n",
              "      <td>33.333333</td>\n",
              "      <td>33.333333</td>\n",
              "      <td>0.28984</td>\n",
              "      <td>0.03937</td>\n",
              "      <td>0.0</td>\n",
              "      <td>0.089045</td>\n",
              "      <td>0.0</td>\n",
              "      <td>0.623395</td>\n",
              "      <td>0.40467</td>\n",
              "      <td>1.333333</td>\n",
              "      <td>0.0</td>\n",
              "      <td>0.0</td>\n",
              "      <td>0.333333</td>\n",
              "      <td>0.0</td>\n",
              "      <td>0.0</td>\n",
              "      <td>0.0</td>\n",
              "      <td>0.226667</td>\n",
              "      <td>0.020473</td>\n",
              "      <td>0.0</td>\n",
              "      <td>0.07582</td>\n",
              "      <td>0.045313</td>\n",
              "      <td>0.580707</td>\n",
              "      <td>0.413097</td>\n",
              "      <td>3.0</td>\n",
              "      <td>0.0</td>\n",
              "      <td>0.0</td>\n",
              "      <td>0.0</td>\n",
              "      <td>0.0</td>\n",
              "      <td>0.0</td>\n",
              "      <td>0.0</td>\n",
              "      <td>0.234103</td>\n",
              "      <td>0.032057</td>\n",
              "      <td>0.0</td>\n",
              "      <td>0.066417</td>\n",
              "      <td>0.03776</td>\n",
              "      <td>0.587107</td>\n",
              "      <td>0.391063</td>\n",
              "      <td>4.333333</td>\n",
              "      <td>0.333333</td>\n",
              "      <td>0.0</td>\n",
              "      <td>0.0</td>\n",
              "      <td>0.0</td>\n",
              "      <td>0.0</td>\n",
              "      <td>0.0</td>\n",
              "      <td>0.514</td>\n",
              "      <td>0.0</td>\n",
              "      <td>0.5</td>\n",
              "      <td>0.0</td>\n",
              "      <td>0.772884</td>\n",
              "      <td>0.514</td>\n",
              "      <td>0.0</td>\n",
              "      <td>0.0335</td>\n",
              "      <td>0.436148</td>\n",
              "      <td>1.0</td>\n",
              "      <td>0.666667</td>\n",
              "      <td>0.297596</td>\n",
              "      <td>1.023432</td>\n",
              "      <td>0.436148</td>\n",
              "      <td>0.038333</td>\n",
              "      <td>0.043</td>\n",
              "      <td>0.491677</td>\n",
              "      <td>1.0</td>\n",
              "      <td>1.0</td>\n",
              "      <td>0.297596</td>\n",
              "      <td>1.0427</td>\n",
              "      <td>0.491677</td>\n",
              "      <td>0.024333</td>\n",
              "      <td>0.028333</td>\n",
              "      <td>0.0</td>\n",
              "      <td>0.0</td>\n",
              "      <td>0.0</td>\n",
              "      <td>0.0</td>\n",
              "      <td>0.0</td>\n",
              "      <td>0.333333</td>\n",
              "      <td>0.0</td>\n",
              "      <td>0.666667</td>\n",
              "    </tr>\n",
              "    <tr>\n",
              "      <th>22</th>\n",
              "      <td>2020-06-17 21:03:00</td>\n",
              "      <td>disgust</td>\n",
              "      <td>0.571429</td>\n",
              "      <td>21:03:00</td>\n",
              "      <td>1.0</td>\n",
              "      <td>33.333333</td>\n",
              "      <td>33.333333</td>\n",
              "      <td>33.333333</td>\n",
              "      <td>0.28984</td>\n",
              "      <td>0.03937</td>\n",
              "      <td>0.0</td>\n",
              "      <td>0.089045</td>\n",
              "      <td>0.0</td>\n",
              "      <td>0.623395</td>\n",
              "      <td>0.40467</td>\n",
              "      <td>1.333333</td>\n",
              "      <td>0.0</td>\n",
              "      <td>0.0</td>\n",
              "      <td>0.333333</td>\n",
              "      <td>0.0</td>\n",
              "      <td>0.0</td>\n",
              "      <td>0.0</td>\n",
              "      <td>0.226667</td>\n",
              "      <td>0.020473</td>\n",
              "      <td>0.0</td>\n",
              "      <td>0.07582</td>\n",
              "      <td>0.045313</td>\n",
              "      <td>0.580707</td>\n",
              "      <td>0.413097</td>\n",
              "      <td>3.0</td>\n",
              "      <td>0.0</td>\n",
              "      <td>0.0</td>\n",
              "      <td>0.0</td>\n",
              "      <td>0.0</td>\n",
              "      <td>0.0</td>\n",
              "      <td>0.0</td>\n",
              "      <td>0.234103</td>\n",
              "      <td>0.032057</td>\n",
              "      <td>0.0</td>\n",
              "      <td>0.066417</td>\n",
              "      <td>0.03776</td>\n",
              "      <td>0.587107</td>\n",
              "      <td>0.391063</td>\n",
              "      <td>4.333333</td>\n",
              "      <td>0.333333</td>\n",
              "      <td>0.0</td>\n",
              "      <td>0.0</td>\n",
              "      <td>0.0</td>\n",
              "      <td>0.0</td>\n",
              "      <td>0.0</td>\n",
              "      <td>0.514</td>\n",
              "      <td>0.0</td>\n",
              "      <td>0.5</td>\n",
              "      <td>0.0</td>\n",
              "      <td>0.772884</td>\n",
              "      <td>0.514</td>\n",
              "      <td>0.0</td>\n",
              "      <td>0.0335</td>\n",
              "      <td>0.436148</td>\n",
              "      <td>1.0</td>\n",
              "      <td>0.666667</td>\n",
              "      <td>0.297596</td>\n",
              "      <td>1.023432</td>\n",
              "      <td>0.436148</td>\n",
              "      <td>0.038333</td>\n",
              "      <td>0.043</td>\n",
              "      <td>0.491677</td>\n",
              "      <td>1.0</td>\n",
              "      <td>1.0</td>\n",
              "      <td>0.297596</td>\n",
              "      <td>1.0427</td>\n",
              "      <td>0.491677</td>\n",
              "      <td>0.024333</td>\n",
              "      <td>0.028333</td>\n",
              "      <td>0.0</td>\n",
              "      <td>0.0</td>\n",
              "      <td>0.0</td>\n",
              "      <td>0.0</td>\n",
              "      <td>0.0</td>\n",
              "      <td>0.333333</td>\n",
              "      <td>0.0</td>\n",
              "      <td>0.666667</td>\n",
              "    </tr>\n",
              "    <tr>\n",
              "      <th>23</th>\n",
              "      <td>2020-06-17 21:03:00</td>\n",
              "      <td>fear</td>\n",
              "      <td>11.428571</td>\n",
              "      <td>21:03:00</td>\n",
              "      <td>1.0</td>\n",
              "      <td>33.333333</td>\n",
              "      <td>33.333333</td>\n",
              "      <td>33.333333</td>\n",
              "      <td>0.28984</td>\n",
              "      <td>0.03937</td>\n",
              "      <td>0.0</td>\n",
              "      <td>0.089045</td>\n",
              "      <td>0.0</td>\n",
              "      <td>0.623395</td>\n",
              "      <td>0.40467</td>\n",
              "      <td>1.333333</td>\n",
              "      <td>0.0</td>\n",
              "      <td>0.0</td>\n",
              "      <td>0.333333</td>\n",
              "      <td>0.0</td>\n",
              "      <td>0.0</td>\n",
              "      <td>0.0</td>\n",
              "      <td>0.226667</td>\n",
              "      <td>0.020473</td>\n",
              "      <td>0.0</td>\n",
              "      <td>0.07582</td>\n",
              "      <td>0.045313</td>\n",
              "      <td>0.580707</td>\n",
              "      <td>0.413097</td>\n",
              "      <td>3.0</td>\n",
              "      <td>0.0</td>\n",
              "      <td>0.0</td>\n",
              "      <td>0.0</td>\n",
              "      <td>0.0</td>\n",
              "      <td>0.0</td>\n",
              "      <td>0.0</td>\n",
              "      <td>0.234103</td>\n",
              "      <td>0.032057</td>\n",
              "      <td>0.0</td>\n",
              "      <td>0.066417</td>\n",
              "      <td>0.03776</td>\n",
              "      <td>0.587107</td>\n",
              "      <td>0.391063</td>\n",
              "      <td>4.333333</td>\n",
              "      <td>0.333333</td>\n",
              "      <td>0.0</td>\n",
              "      <td>0.0</td>\n",
              "      <td>0.0</td>\n",
              "      <td>0.0</td>\n",
              "      <td>0.0</td>\n",
              "      <td>0.514</td>\n",
              "      <td>0.0</td>\n",
              "      <td>0.5</td>\n",
              "      <td>0.0</td>\n",
              "      <td>0.772884</td>\n",
              "      <td>0.514</td>\n",
              "      <td>0.0</td>\n",
              "      <td>0.0335</td>\n",
              "      <td>0.436148</td>\n",
              "      <td>1.0</td>\n",
              "      <td>0.666667</td>\n",
              "      <td>0.297596</td>\n",
              "      <td>1.023432</td>\n",
              "      <td>0.436148</td>\n",
              "      <td>0.038333</td>\n",
              "      <td>0.043</td>\n",
              "      <td>0.491677</td>\n",
              "      <td>1.0</td>\n",
              "      <td>1.0</td>\n",
              "      <td>0.297596</td>\n",
              "      <td>1.0427</td>\n",
              "      <td>0.491677</td>\n",
              "      <td>0.024333</td>\n",
              "      <td>0.028333</td>\n",
              "      <td>0.0</td>\n",
              "      <td>0.0</td>\n",
              "      <td>0.0</td>\n",
              "      <td>0.0</td>\n",
              "      <td>0.0</td>\n",
              "      <td>0.333333</td>\n",
              "      <td>0.0</td>\n",
              "      <td>0.666667</td>\n",
              "    </tr>\n",
              "  </tbody>\n",
              "</table>\n",
              "</div>\n",
              "      <button class=\"colab-df-convert\" onclick=\"convertToInteractive('df-90961253-806a-49fc-8872-a799be63b29c')\"\n",
              "              title=\"Convert this dataframe to an interactive table.\"\n",
              "              style=\"display:none;\">\n",
              "        \n",
              "  <svg xmlns=\"http://www.w3.org/2000/svg\" height=\"24px\"viewBox=\"0 0 24 24\"\n",
              "       width=\"24px\">\n",
              "    <path d=\"M0 0h24v24H0V0z\" fill=\"none\"/>\n",
              "    <path d=\"M18.56 5.44l.94 2.06.94-2.06 2.06-.94-2.06-.94-.94-2.06-.94 2.06-2.06.94zm-11 1L8.5 8.5l.94-2.06 2.06-.94-2.06-.94L8.5 2.5l-.94 2.06-2.06.94zm10 10l.94 2.06.94-2.06 2.06-.94-2.06-.94-.94-2.06-.94 2.06-2.06.94z\"/><path d=\"M17.41 7.96l-1.37-1.37c-.4-.4-.92-.59-1.43-.59-.52 0-1.04.2-1.43.59L10.3 9.45l-7.72 7.72c-.78.78-.78 2.05 0 2.83L4 21.41c.39.39.9.59 1.41.59.51 0 1.02-.2 1.41-.59l7.78-7.78 2.81-2.81c.8-.78.8-2.07 0-2.86zM5.41 20L4 18.59l7.72-7.72 1.47 1.35L5.41 20z\"/>\n",
              "  </svg>\n",
              "      </button>\n",
              "      \n",
              "  <style>\n",
              "    .colab-df-container {\n",
              "      display:flex;\n",
              "      flex-wrap:wrap;\n",
              "      gap: 12px;\n",
              "    }\n",
              "\n",
              "    .colab-df-convert {\n",
              "      background-color: #E8F0FE;\n",
              "      border: none;\n",
              "      border-radius: 50%;\n",
              "      cursor: pointer;\n",
              "      display: none;\n",
              "      fill: #1967D2;\n",
              "      height: 32px;\n",
              "      padding: 0 0 0 0;\n",
              "      width: 32px;\n",
              "    }\n",
              "\n",
              "    .colab-df-convert:hover {\n",
              "      background-color: #E2EBFA;\n",
              "      box-shadow: 0px 1px 2px rgba(60, 64, 67, 0.3), 0px 1px 3px 1px rgba(60, 64, 67, 0.15);\n",
              "      fill: #174EA6;\n",
              "    }\n",
              "\n",
              "    [theme=dark] .colab-df-convert {\n",
              "      background-color: #3B4455;\n",
              "      fill: #D2E3FC;\n",
              "    }\n",
              "\n",
              "    [theme=dark] .colab-df-convert:hover {\n",
              "      background-color: #434B5C;\n",
              "      box-shadow: 0px 1px 3px 1px rgba(0, 0, 0, 0.15);\n",
              "      filter: drop-shadow(0px 1px 2px rgba(0, 0, 0, 0.3));\n",
              "      fill: #FFFFFF;\n",
              "    }\n",
              "  </style>\n",
              "\n",
              "      <script>\n",
              "        const buttonEl =\n",
              "          document.querySelector('#df-90961253-806a-49fc-8872-a799be63b29c button.colab-df-convert');\n",
              "        buttonEl.style.display =\n",
              "          google.colab.kernel.accessAllowed ? 'block' : 'none';\n",
              "\n",
              "        async function convertToInteractive(key) {\n",
              "          const element = document.querySelector('#df-90961253-806a-49fc-8872-a799be63b29c');\n",
              "          const dataTable =\n",
              "            await google.colab.kernel.invokeFunction('convertToInteractive',\n",
              "                                                     [key], {});\n",
              "          if (!dataTable) return;\n",
              "\n",
              "          const docLinkHtml = 'Like what you see? Visit the ' +\n",
              "            '<a target=\"_blank\" href=https://colab.research.google.com/notebooks/data_table.ipynb>data table notebook</a>'\n",
              "            + ' to learn more about interactive tables.';\n",
              "          element.innerHTML = '';\n",
              "          dataTable['output_type'] = 'display_data';\n",
              "          await google.colab.output.renderOutput(dataTable, element);\n",
              "          const docLink = document.createElement('div');\n",
              "          docLink.innerHTML = docLinkHtml;\n",
              "          element.appendChild(docLink);\n",
              "        }\n",
              "      </script>\n",
              "    </div>\n",
              "  </div>\n",
              "  "
            ]
          },
          "metadata": {},
          "execution_count": 187
        }
      ]
    },
    {
      "cell_type": "code",
      "source": [
        "schems"
      ],
      "metadata": {
        "colab": {
          "base_uri": "https://localhost:8080/"
        },
        "id": "LBz1_fem9V2T",
        "outputId": "63683d25-1d43-4b3b-dd67-78f3118fc16f"
      },
      "execution_count": null,
      "outputs": [
        {
          "output_type": "execute_result",
          "data": {
            "text/plain": [
              "['scheme_name_Causal Slippery Slope',\n",
              " 'scheme_name_Danger Appeal',\n",
              " 'scheme_name_Fear Appeal',\n",
              " 'scheme_name_Need For Help',\n",
              " 'scheme_name_Negative Consequences',\n",
              " 'scheme_name_Positive Consequences',\n",
              " 'scheme_name_Waste',\n",
              " 'scheme_name_Default Inference']"
            ]
          },
          "metadata": {},
          "execution_count": 129
        }
      ]
    },
    {
      "cell_type": "code",
      "source": [
        "df_corr_pl_processed = df_corr_pl_processed[df_corr_pl_processed[schems].any(axis=1)]\n",
        "df_corr_pl_processed.shape"
      ],
      "metadata": {
        "colab": {
          "base_uri": "https://localhost:8080/"
        },
        "id": "3UJeyhS19UGI",
        "outputId": "2221bd29-087d-4152-9ce3-aaa7e9403ce7"
      },
      "execution_count": null,
      "outputs": [
        {
          "output_type": "execute_result",
          "data": {
            "text/plain": [
              "(322, 82)"
            ]
          },
          "metadata": {},
          "execution_count": 188
        }
      ]
    },
    {
      "cell_type": "markdown",
      "source": [
        "####Biserial correlation scheme - social media response"
      ],
      "metadata": {
        "id": "4PY1eymjIivh"
      }
    },
    {
      "cell_type": "code",
      "source": [
        "df_corr_pl_processed['mean'] = df_corr_pl_processed['mean'].apply(lambda x: np.log(x+1))"
      ],
      "metadata": {
        "id": "A6tlYgdwxgv8"
      },
      "execution_count": null,
      "outputs": []
    },
    {
      "cell_type": "code",
      "source": [
        "for s in schems:\n",
        "  df_corr_pl_processed[s] = np.where(df_corr_pl_processed[s] > 0, 1, 0)"
      ],
      "metadata": {
        "id": "Lm9ZMIuZJEg3"
      },
      "execution_count": null,
      "outputs": []
    },
    {
      "cell_type": "code",
      "source": [
        "df_corr_pl_processed[schems].head(3)"
      ],
      "metadata": {
        "colab": {
          "base_uri": "https://localhost:8080/",
          "height": 225
        },
        "id": "2LEagr2j9kPU",
        "outputId": "adb7dafc-bfb2-4612-a5bd-e43571d8aa5f"
      },
      "execution_count": null,
      "outputs": [
        {
          "output_type": "execute_result",
          "data": {
            "text/plain": [
              "    scheme_name_Causal Slippery Slope  scheme_name_Danger Appeal  \\\n",
              "21                                  0                          0   \n",
              "22                                  0                          0   \n",
              "23                                  0                          0   \n",
              "\n",
              "    scheme_name_Fear Appeal  scheme_name_Need For Help  \\\n",
              "21                        0                          0   \n",
              "22                        0                          0   \n",
              "23                        0                          0   \n",
              "\n",
              "    scheme_name_Negative Consequences  scheme_name_Positive Consequences  \\\n",
              "21                                  0                                  1   \n",
              "22                                  0                                  1   \n",
              "23                                  0                                  1   \n",
              "\n",
              "    scheme_name_Waste  scheme_name_Default Inference  \n",
              "21                  0                              1  \n",
              "22                  0                              1  \n",
              "23                  0                              1  "
            ],
            "text/html": [
              "\n",
              "  <div id=\"df-c7509ed6-e916-47e5-b1ac-ae6d3554ec37\">\n",
              "    <div class=\"colab-df-container\">\n",
              "      <div>\n",
              "<style scoped>\n",
              "    .dataframe tbody tr th:only-of-type {\n",
              "        vertical-align: middle;\n",
              "    }\n",
              "\n",
              "    .dataframe tbody tr th {\n",
              "        vertical-align: top;\n",
              "    }\n",
              "\n",
              "    .dataframe thead th {\n",
              "        text-align: right;\n",
              "    }\n",
              "</style>\n",
              "<table border=\"1\" class=\"dataframe\">\n",
              "  <thead>\n",
              "    <tr style=\"text-align: right;\">\n",
              "      <th></th>\n",
              "      <th>scheme_name_Causal Slippery Slope</th>\n",
              "      <th>scheme_name_Danger Appeal</th>\n",
              "      <th>scheme_name_Fear Appeal</th>\n",
              "      <th>scheme_name_Need For Help</th>\n",
              "      <th>scheme_name_Negative Consequences</th>\n",
              "      <th>scheme_name_Positive Consequences</th>\n",
              "      <th>scheme_name_Waste</th>\n",
              "      <th>scheme_name_Default Inference</th>\n",
              "    </tr>\n",
              "  </thead>\n",
              "  <tbody>\n",
              "    <tr>\n",
              "      <th>21</th>\n",
              "      <td>0</td>\n",
              "      <td>0</td>\n",
              "      <td>0</td>\n",
              "      <td>0</td>\n",
              "      <td>0</td>\n",
              "      <td>1</td>\n",
              "      <td>0</td>\n",
              "      <td>1</td>\n",
              "    </tr>\n",
              "    <tr>\n",
              "      <th>22</th>\n",
              "      <td>0</td>\n",
              "      <td>0</td>\n",
              "      <td>0</td>\n",
              "      <td>0</td>\n",
              "      <td>0</td>\n",
              "      <td>1</td>\n",
              "      <td>0</td>\n",
              "      <td>1</td>\n",
              "    </tr>\n",
              "    <tr>\n",
              "      <th>23</th>\n",
              "      <td>0</td>\n",
              "      <td>0</td>\n",
              "      <td>0</td>\n",
              "      <td>0</td>\n",
              "      <td>0</td>\n",
              "      <td>1</td>\n",
              "      <td>0</td>\n",
              "      <td>1</td>\n",
              "    </tr>\n",
              "  </tbody>\n",
              "</table>\n",
              "</div>\n",
              "      <button class=\"colab-df-convert\" onclick=\"convertToInteractive('df-c7509ed6-e916-47e5-b1ac-ae6d3554ec37')\"\n",
              "              title=\"Convert this dataframe to an interactive table.\"\n",
              "              style=\"display:none;\">\n",
              "        \n",
              "  <svg xmlns=\"http://www.w3.org/2000/svg\" height=\"24px\"viewBox=\"0 0 24 24\"\n",
              "       width=\"24px\">\n",
              "    <path d=\"M0 0h24v24H0V0z\" fill=\"none\"/>\n",
              "    <path d=\"M18.56 5.44l.94 2.06.94-2.06 2.06-.94-2.06-.94-.94-2.06-.94 2.06-2.06.94zm-11 1L8.5 8.5l.94-2.06 2.06-.94-2.06-.94L8.5 2.5l-.94 2.06-2.06.94zm10 10l.94 2.06.94-2.06 2.06-.94-2.06-.94-.94-2.06-.94 2.06-2.06.94z\"/><path d=\"M17.41 7.96l-1.37-1.37c-.4-.4-.92-.59-1.43-.59-.52 0-1.04.2-1.43.59L10.3 9.45l-7.72 7.72c-.78.78-.78 2.05 0 2.83L4 21.41c.39.39.9.59 1.41.59.51 0 1.02-.2 1.41-.59l7.78-7.78 2.81-2.81c.8-.78.8-2.07 0-2.86zM5.41 20L4 18.59l7.72-7.72 1.47 1.35L5.41 20z\"/>\n",
              "  </svg>\n",
              "      </button>\n",
              "      \n",
              "  <style>\n",
              "    .colab-df-container {\n",
              "      display:flex;\n",
              "      flex-wrap:wrap;\n",
              "      gap: 12px;\n",
              "    }\n",
              "\n",
              "    .colab-df-convert {\n",
              "      background-color: #E8F0FE;\n",
              "      border: none;\n",
              "      border-radius: 50%;\n",
              "      cursor: pointer;\n",
              "      display: none;\n",
              "      fill: #1967D2;\n",
              "      height: 32px;\n",
              "      padding: 0 0 0 0;\n",
              "      width: 32px;\n",
              "    }\n",
              "\n",
              "    .colab-df-convert:hover {\n",
              "      background-color: #E2EBFA;\n",
              "      box-shadow: 0px 1px 2px rgba(60, 64, 67, 0.3), 0px 1px 3px 1px rgba(60, 64, 67, 0.15);\n",
              "      fill: #174EA6;\n",
              "    }\n",
              "\n",
              "    [theme=dark] .colab-df-convert {\n",
              "      background-color: #3B4455;\n",
              "      fill: #D2E3FC;\n",
              "    }\n",
              "\n",
              "    [theme=dark] .colab-df-convert:hover {\n",
              "      background-color: #434B5C;\n",
              "      box-shadow: 0px 1px 3px 1px rgba(0, 0, 0, 0.15);\n",
              "      filter: drop-shadow(0px 1px 2px rgba(0, 0, 0, 0.3));\n",
              "      fill: #FFFFFF;\n",
              "    }\n",
              "  </style>\n",
              "\n",
              "      <script>\n",
              "        const buttonEl =\n",
              "          document.querySelector('#df-c7509ed6-e916-47e5-b1ac-ae6d3554ec37 button.colab-df-convert');\n",
              "        buttonEl.style.display =\n",
              "          google.colab.kernel.accessAllowed ? 'block' : 'none';\n",
              "\n",
              "        async function convertToInteractive(key) {\n",
              "          const element = document.querySelector('#df-c7509ed6-e916-47e5-b1ac-ae6d3554ec37');\n",
              "          const dataTable =\n",
              "            await google.colab.kernel.invokeFunction('convertToInteractive',\n",
              "                                                     [key], {});\n",
              "          if (!dataTable) return;\n",
              "\n",
              "          const docLinkHtml = 'Like what you see? Visit the ' +\n",
              "            '<a target=\"_blank\" href=https://colab.research.google.com/notebooks/data_table.ipynb>data table notebook</a>'\n",
              "            + ' to learn more about interactive tables.';\n",
              "          element.innerHTML = '';\n",
              "          dataTable['output_type'] = 'display_data';\n",
              "          await google.colab.output.renderOutput(dataTable, element);\n",
              "          const docLink = document.createElement('div');\n",
              "          docLink.innerHTML = docLinkHtml;\n",
              "          element.appendChild(docLink);\n",
              "        }\n",
              "      </script>\n",
              "    </div>\n",
              "  </div>\n",
              "  "
            ]
          },
          "metadata": {},
          "execution_count": 191
        }
      ]
    },
    {
      "cell_type": "code",
      "source": [
        "df_corr_pl_processed[schems].describe()"
      ],
      "metadata": {
        "colab": {
          "base_uri": "https://localhost:8080/",
          "height": 382
        },
        "id": "zcRYDG8M9kgd",
        "outputId": "1d5ec7d1-d928-4eac-bf8f-a67147c32494"
      },
      "execution_count": null,
      "outputs": [
        {
          "output_type": "execute_result",
          "data": {
            "text/plain": [
              "       scheme_name_Causal Slippery Slope  scheme_name_Danger Appeal  \\\n",
              "count                         322.000000                 322.000000   \n",
              "mean                            0.031056                   0.114907   \n",
              "std                             0.173739                   0.319406   \n",
              "min                             0.000000                   0.000000   \n",
              "25%                             0.000000                   0.000000   \n",
              "50%                             0.000000                   0.000000   \n",
              "75%                             0.000000                   0.000000   \n",
              "max                             1.000000                   1.000000   \n",
              "\n",
              "       scheme_name_Fear Appeal  scheme_name_Need For Help  \\\n",
              "count               322.000000                 322.000000   \n",
              "mean                  0.031056                   0.201863   \n",
              "std                   0.173739                   0.402015   \n",
              "min                   0.000000                   0.000000   \n",
              "25%                   0.000000                   0.000000   \n",
              "50%                   0.000000                   0.000000   \n",
              "75%                   0.000000                   0.000000   \n",
              "max                   1.000000                   1.000000   \n",
              "\n",
              "       scheme_name_Negative Consequences  scheme_name_Positive Consequences  \\\n",
              "count                         322.000000                         322.000000   \n",
              "mean                            0.329193                           0.521739   \n",
              "std                             0.470651                           0.500305   \n",
              "min                             0.000000                           0.000000   \n",
              "25%                             0.000000                           0.000000   \n",
              "50%                             0.000000                           1.000000   \n",
              "75%                             1.000000                           1.000000   \n",
              "max                             1.000000                           1.000000   \n",
              "\n",
              "       scheme_name_Waste  scheme_name_Default Inference  \n",
              "count              322.0                     322.000000  \n",
              "mean                 0.0                       0.658385  \n",
              "std                  0.0                       0.474989  \n",
              "min                  0.0                       0.000000  \n",
              "25%                  0.0                       0.000000  \n",
              "50%                  0.0                       1.000000  \n",
              "75%                  0.0                       1.000000  \n",
              "max                  0.0                       1.000000  "
            ],
            "text/html": [
              "\n",
              "  <div id=\"df-ed5e48ef-7d53-4fbc-9516-fddc47f94290\">\n",
              "    <div class=\"colab-df-container\">\n",
              "      <div>\n",
              "<style scoped>\n",
              "    .dataframe tbody tr th:only-of-type {\n",
              "        vertical-align: middle;\n",
              "    }\n",
              "\n",
              "    .dataframe tbody tr th {\n",
              "        vertical-align: top;\n",
              "    }\n",
              "\n",
              "    .dataframe thead th {\n",
              "        text-align: right;\n",
              "    }\n",
              "</style>\n",
              "<table border=\"1\" class=\"dataframe\">\n",
              "  <thead>\n",
              "    <tr style=\"text-align: right;\">\n",
              "      <th></th>\n",
              "      <th>scheme_name_Causal Slippery Slope</th>\n",
              "      <th>scheme_name_Danger Appeal</th>\n",
              "      <th>scheme_name_Fear Appeal</th>\n",
              "      <th>scheme_name_Need For Help</th>\n",
              "      <th>scheme_name_Negative Consequences</th>\n",
              "      <th>scheme_name_Positive Consequences</th>\n",
              "      <th>scheme_name_Waste</th>\n",
              "      <th>scheme_name_Default Inference</th>\n",
              "    </tr>\n",
              "  </thead>\n",
              "  <tbody>\n",
              "    <tr>\n",
              "      <th>count</th>\n",
              "      <td>322.000000</td>\n",
              "      <td>322.000000</td>\n",
              "      <td>322.000000</td>\n",
              "      <td>322.000000</td>\n",
              "      <td>322.000000</td>\n",
              "      <td>322.000000</td>\n",
              "      <td>322.0</td>\n",
              "      <td>322.000000</td>\n",
              "    </tr>\n",
              "    <tr>\n",
              "      <th>mean</th>\n",
              "      <td>0.031056</td>\n",
              "      <td>0.114907</td>\n",
              "      <td>0.031056</td>\n",
              "      <td>0.201863</td>\n",
              "      <td>0.329193</td>\n",
              "      <td>0.521739</td>\n",
              "      <td>0.0</td>\n",
              "      <td>0.658385</td>\n",
              "    </tr>\n",
              "    <tr>\n",
              "      <th>std</th>\n",
              "      <td>0.173739</td>\n",
              "      <td>0.319406</td>\n",
              "      <td>0.173739</td>\n",
              "      <td>0.402015</td>\n",
              "      <td>0.470651</td>\n",
              "      <td>0.500305</td>\n",
              "      <td>0.0</td>\n",
              "      <td>0.474989</td>\n",
              "    </tr>\n",
              "    <tr>\n",
              "      <th>min</th>\n",
              "      <td>0.000000</td>\n",
              "      <td>0.000000</td>\n",
              "      <td>0.000000</td>\n",
              "      <td>0.000000</td>\n",
              "      <td>0.000000</td>\n",
              "      <td>0.000000</td>\n",
              "      <td>0.0</td>\n",
              "      <td>0.000000</td>\n",
              "    </tr>\n",
              "    <tr>\n",
              "      <th>25%</th>\n",
              "      <td>0.000000</td>\n",
              "      <td>0.000000</td>\n",
              "      <td>0.000000</td>\n",
              "      <td>0.000000</td>\n",
              "      <td>0.000000</td>\n",
              "      <td>0.000000</td>\n",
              "      <td>0.0</td>\n",
              "      <td>0.000000</td>\n",
              "    </tr>\n",
              "    <tr>\n",
              "      <th>50%</th>\n",
              "      <td>0.000000</td>\n",
              "      <td>0.000000</td>\n",
              "      <td>0.000000</td>\n",
              "      <td>0.000000</td>\n",
              "      <td>0.000000</td>\n",
              "      <td>1.000000</td>\n",
              "      <td>0.0</td>\n",
              "      <td>1.000000</td>\n",
              "    </tr>\n",
              "    <tr>\n",
              "      <th>75%</th>\n",
              "      <td>0.000000</td>\n",
              "      <td>0.000000</td>\n",
              "      <td>0.000000</td>\n",
              "      <td>0.000000</td>\n",
              "      <td>1.000000</td>\n",
              "      <td>1.000000</td>\n",
              "      <td>0.0</td>\n",
              "      <td>1.000000</td>\n",
              "    </tr>\n",
              "    <tr>\n",
              "      <th>max</th>\n",
              "      <td>1.000000</td>\n",
              "      <td>1.000000</td>\n",
              "      <td>1.000000</td>\n",
              "      <td>1.000000</td>\n",
              "      <td>1.000000</td>\n",
              "      <td>1.000000</td>\n",
              "      <td>0.0</td>\n",
              "      <td>1.000000</td>\n",
              "    </tr>\n",
              "  </tbody>\n",
              "</table>\n",
              "</div>\n",
              "      <button class=\"colab-df-convert\" onclick=\"convertToInteractive('df-ed5e48ef-7d53-4fbc-9516-fddc47f94290')\"\n",
              "              title=\"Convert this dataframe to an interactive table.\"\n",
              "              style=\"display:none;\">\n",
              "        \n",
              "  <svg xmlns=\"http://www.w3.org/2000/svg\" height=\"24px\"viewBox=\"0 0 24 24\"\n",
              "       width=\"24px\">\n",
              "    <path d=\"M0 0h24v24H0V0z\" fill=\"none\"/>\n",
              "    <path d=\"M18.56 5.44l.94 2.06.94-2.06 2.06-.94-2.06-.94-.94-2.06-.94 2.06-2.06.94zm-11 1L8.5 8.5l.94-2.06 2.06-.94-2.06-.94L8.5 2.5l-.94 2.06-2.06.94zm10 10l.94 2.06.94-2.06 2.06-.94-2.06-.94-.94-2.06-.94 2.06-2.06.94z\"/><path d=\"M17.41 7.96l-1.37-1.37c-.4-.4-.92-.59-1.43-.59-.52 0-1.04.2-1.43.59L10.3 9.45l-7.72 7.72c-.78.78-.78 2.05 0 2.83L4 21.41c.39.39.9.59 1.41.59.51 0 1.02-.2 1.41-.59l7.78-7.78 2.81-2.81c.8-.78.8-2.07 0-2.86zM5.41 20L4 18.59l7.72-7.72 1.47 1.35L5.41 20z\"/>\n",
              "  </svg>\n",
              "      </button>\n",
              "      \n",
              "  <style>\n",
              "    .colab-df-container {\n",
              "      display:flex;\n",
              "      flex-wrap:wrap;\n",
              "      gap: 12px;\n",
              "    }\n",
              "\n",
              "    .colab-df-convert {\n",
              "      background-color: #E8F0FE;\n",
              "      border: none;\n",
              "      border-radius: 50%;\n",
              "      cursor: pointer;\n",
              "      display: none;\n",
              "      fill: #1967D2;\n",
              "      height: 32px;\n",
              "      padding: 0 0 0 0;\n",
              "      width: 32px;\n",
              "    }\n",
              "\n",
              "    .colab-df-convert:hover {\n",
              "      background-color: #E2EBFA;\n",
              "      box-shadow: 0px 1px 2px rgba(60, 64, 67, 0.3), 0px 1px 3px 1px rgba(60, 64, 67, 0.15);\n",
              "      fill: #174EA6;\n",
              "    }\n",
              "\n",
              "    [theme=dark] .colab-df-convert {\n",
              "      background-color: #3B4455;\n",
              "      fill: #D2E3FC;\n",
              "    }\n",
              "\n",
              "    [theme=dark] .colab-df-convert:hover {\n",
              "      background-color: #434B5C;\n",
              "      box-shadow: 0px 1px 3px 1px rgba(0, 0, 0, 0.15);\n",
              "      filter: drop-shadow(0px 1px 2px rgba(0, 0, 0, 0.3));\n",
              "      fill: #FFFFFF;\n",
              "    }\n",
              "  </style>\n",
              "\n",
              "      <script>\n",
              "        const buttonEl =\n",
              "          document.querySelector('#df-ed5e48ef-7d53-4fbc-9516-fddc47f94290 button.colab-df-convert');\n",
              "        buttonEl.style.display =\n",
              "          google.colab.kernel.accessAllowed ? 'block' : 'none';\n",
              "\n",
              "        async function convertToInteractive(key) {\n",
              "          const element = document.querySelector('#df-ed5e48ef-7d53-4fbc-9516-fddc47f94290');\n",
              "          const dataTable =\n",
              "            await google.colab.kernel.invokeFunction('convertToInteractive',\n",
              "                                                     [key], {});\n",
              "          if (!dataTable) return;\n",
              "\n",
              "          const docLinkHtml = 'Like what you see? Visit the ' +\n",
              "            '<a target=\"_blank\" href=https://colab.research.google.com/notebooks/data_table.ipynb>data table notebook</a>'\n",
              "            + ' to learn more about interactive tables.';\n",
              "          element.innerHTML = '';\n",
              "          dataTable['output_type'] = 'display_data';\n",
              "          await google.colab.output.renderOutput(dataTable, element);\n",
              "          const docLink = document.createElement('div');\n",
              "          docLink.innerHTML = docLinkHtml;\n",
              "          element.appendChild(docLink);\n",
              "        }\n",
              "      </script>\n",
              "    </div>\n",
              "  </div>\n",
              "  "
            ]
          },
          "metadata": {},
          "execution_count": 192
        }
      ]
    },
    {
      "cell_type": "code",
      "source": [
        "df_corr_pl_processed = df_corr_pl_processed.reset_index(drop=True)"
      ],
      "metadata": {
        "id": "ptQgUUwhdC6r"
      },
      "execution_count": null,
      "outputs": []
    },
    {
      "cell_type": "markdown",
      "source": [
        "####**Corr with positive sentiment**"
      ],
      "metadata": {
        "id": "C1bnUGMQJA_w"
      }
    },
    {
      "cell_type": "code",
      "source": [
        "corr_pos = df_corr_pl_processed[df_corr_pl_processed.sentiment_label_PaRes == 'pos']\n",
        "corr_pos = corr_pos.dropna(subset = ['mean'])\n",
        "corr_pos.shape"
      ],
      "metadata": {
        "colab": {
          "base_uri": "https://localhost:8080/"
        },
        "id": "LYokOCCWJHrm",
        "outputId": "269b9233-f99c-4c9b-b7cf-76130ec69cba"
      },
      "execution_count": null,
      "outputs": [
        {
          "output_type": "execute_result",
          "data": {
            "text/plain": [
              "(60, 82)"
            ]
          },
          "metadata": {},
          "execution_count": 181
        }
      ]
    },
    {
      "cell_type": "code",
      "source": [
        "coeffs_all = []\n",
        "p_val_all = []\n",
        "\n",
        "for s in schems:\n",
        "  print(s)\n",
        "  sm_response_sentiment = corr_pos['mean'].apply(float).values\n",
        "  binary_scheme = corr_pos[s].apply(int).values\n",
        "\n",
        "  coefbi, bi_p = pointbiserialr(binary_scheme, sm_response_sentiment)\n",
        "  coeffs_all.append(round(coefbi, 2))\n",
        "  p_val_all.append(round(bi_p, 3))\n",
        "\n",
        "  if bi_p <= 0.05:\n",
        "    print(f'{s} \\t - coeff: {coefbi}:  {round(bi_p, 3)}')"
      ],
      "metadata": {
        "id": "sv_O93uIJH4V",
        "colab": {
          "base_uri": "https://localhost:8080/"
        },
        "outputId": "dcb95676-f2d8-4d7b-8ca1-1880452ebf06"
      },
      "execution_count": null,
      "outputs": [
        {
          "output_type": "stream",
          "name": "stdout",
          "text": [
            "scheme_name_Causal Slippery Slope\n",
            "scheme_name_Danger Appeal\n",
            "scheme_name_Fear Appeal\n",
            "scheme_name_Need For Help\n",
            "scheme_name_Negative Consequences\n",
            "scheme_name_Positive Consequences\n",
            "scheme_name_Waste\n",
            "scheme_name_Default Inference\n"
          ]
        },
        {
          "output_type": "stream",
          "name": "stderr",
          "text": [
            "/usr/local/lib/python3.8/dist-packages/scipy/stats/stats.py:4023: PearsonRConstantInputWarning: An input array is constant; the correlation coefficient is not defined.\n",
            "  warnings.warn(PearsonRConstantInputWarning())\n"
          ]
        }
      ]
    },
    {
      "cell_type": "code",
      "source": [
        "df_cor_bi_pos = pd.DataFrame({\"scheme\": schems, \n",
        "                       \"cor\": coeffs_all, \n",
        "                       \"p_value\":p_val_all})\n",
        "\n",
        "df_cor_bi_pos[df_cor_bi_pos.p_value <= 0.05] # may log new"
      ],
      "metadata": {
        "colab": {
          "base_uri": "https://localhost:8080/",
          "height": 81
        },
        "id": "WQ1VihC--C_X",
        "outputId": "78ed5f86-6cf1-437e-da79-205b5b613918"
      },
      "execution_count": null,
      "outputs": [
        {
          "output_type": "execute_result",
          "data": {
            "text/plain": [
              "                              scheme   cor  p_value\n",
              "4  scheme_name_Negative Consequences  0.28    0.037"
            ],
            "text/html": [
              "\n",
              "  <div id=\"df-35ed2b1d-8c78-4599-9170-08bcef74c012\">\n",
              "    <div class=\"colab-df-container\">\n",
              "      <div>\n",
              "<style scoped>\n",
              "    .dataframe tbody tr th:only-of-type {\n",
              "        vertical-align: middle;\n",
              "    }\n",
              "\n",
              "    .dataframe tbody tr th {\n",
              "        vertical-align: top;\n",
              "    }\n",
              "\n",
              "    .dataframe thead th {\n",
              "        text-align: right;\n",
              "    }\n",
              "</style>\n",
              "<table border=\"1\" class=\"dataframe\">\n",
              "  <thead>\n",
              "    <tr style=\"text-align: right;\">\n",
              "      <th></th>\n",
              "      <th>scheme</th>\n",
              "      <th>cor</th>\n",
              "      <th>p_value</th>\n",
              "    </tr>\n",
              "  </thead>\n",
              "  <tbody>\n",
              "    <tr>\n",
              "      <th>4</th>\n",
              "      <td>scheme_name_Negative Consequences</td>\n",
              "      <td>0.28</td>\n",
              "      <td>0.037</td>\n",
              "    </tr>\n",
              "  </tbody>\n",
              "</table>\n",
              "</div>\n",
              "      <button class=\"colab-df-convert\" onclick=\"convertToInteractive('df-35ed2b1d-8c78-4599-9170-08bcef74c012')\"\n",
              "              title=\"Convert this dataframe to an interactive table.\"\n",
              "              style=\"display:none;\">\n",
              "        \n",
              "  <svg xmlns=\"http://www.w3.org/2000/svg\" height=\"24px\"viewBox=\"0 0 24 24\"\n",
              "       width=\"24px\">\n",
              "    <path d=\"M0 0h24v24H0V0z\" fill=\"none\"/>\n",
              "    <path d=\"M18.56 5.44l.94 2.06.94-2.06 2.06-.94-2.06-.94-.94-2.06-.94 2.06-2.06.94zm-11 1L8.5 8.5l.94-2.06 2.06-.94-2.06-.94L8.5 2.5l-.94 2.06-2.06.94zm10 10l.94 2.06.94-2.06 2.06-.94-2.06-.94-.94-2.06-.94 2.06-2.06.94z\"/><path d=\"M17.41 7.96l-1.37-1.37c-.4-.4-.92-.59-1.43-.59-.52 0-1.04.2-1.43.59L10.3 9.45l-7.72 7.72c-.78.78-.78 2.05 0 2.83L4 21.41c.39.39.9.59 1.41.59.51 0 1.02-.2 1.41-.59l7.78-7.78 2.81-2.81c.8-.78.8-2.07 0-2.86zM5.41 20L4 18.59l7.72-7.72 1.47 1.35L5.41 20z\"/>\n",
              "  </svg>\n",
              "      </button>\n",
              "      \n",
              "  <style>\n",
              "    .colab-df-container {\n",
              "      display:flex;\n",
              "      flex-wrap:wrap;\n",
              "      gap: 12px;\n",
              "    }\n",
              "\n",
              "    .colab-df-convert {\n",
              "      background-color: #E8F0FE;\n",
              "      border: none;\n",
              "      border-radius: 50%;\n",
              "      cursor: pointer;\n",
              "      display: none;\n",
              "      fill: #1967D2;\n",
              "      height: 32px;\n",
              "      padding: 0 0 0 0;\n",
              "      width: 32px;\n",
              "    }\n",
              "\n",
              "    .colab-df-convert:hover {\n",
              "      background-color: #E2EBFA;\n",
              "      box-shadow: 0px 1px 2px rgba(60, 64, 67, 0.3), 0px 1px 3px 1px rgba(60, 64, 67, 0.15);\n",
              "      fill: #174EA6;\n",
              "    }\n",
              "\n",
              "    [theme=dark] .colab-df-convert {\n",
              "      background-color: #3B4455;\n",
              "      fill: #D2E3FC;\n",
              "    }\n",
              "\n",
              "    [theme=dark] .colab-df-convert:hover {\n",
              "      background-color: #434B5C;\n",
              "      box-shadow: 0px 1px 3px 1px rgba(0, 0, 0, 0.15);\n",
              "      filter: drop-shadow(0px 1px 2px rgba(0, 0, 0, 0.3));\n",
              "      fill: #FFFFFF;\n",
              "    }\n",
              "  </style>\n",
              "\n",
              "      <script>\n",
              "        const buttonEl =\n",
              "          document.querySelector('#df-35ed2b1d-8c78-4599-9170-08bcef74c012 button.colab-df-convert');\n",
              "        buttonEl.style.display =\n",
              "          google.colab.kernel.accessAllowed ? 'block' : 'none';\n",
              "\n",
              "        async function convertToInteractive(key) {\n",
              "          const element = document.querySelector('#df-35ed2b1d-8c78-4599-9170-08bcef74c012');\n",
              "          const dataTable =\n",
              "            await google.colab.kernel.invokeFunction('convertToInteractive',\n",
              "                                                     [key], {});\n",
              "          if (!dataTable) return;\n",
              "\n",
              "          const docLinkHtml = 'Like what you see? Visit the ' +\n",
              "            '<a target=\"_blank\" href=https://colab.research.google.com/notebooks/data_table.ipynb>data table notebook</a>'\n",
              "            + ' to learn more about interactive tables.';\n",
              "          element.innerHTML = '';\n",
              "          dataTable['output_type'] = 'display_data';\n",
              "          await google.colab.output.renderOutput(dataTable, element);\n",
              "          const docLink = document.createElement('div');\n",
              "          docLink.innerHTML = docLinkHtml;\n",
              "          element.appendChild(docLink);\n",
              "        }\n",
              "      </script>\n",
              "    </div>\n",
              "  </div>\n",
              "  "
            ]
          },
          "metadata": {},
          "execution_count": 152
        }
      ]
    },
    {
      "cell_type": "code",
      "source": [
        "df_cor_bi_pos = pd.DataFrame({\"scheme\": schems, \n",
        "                       \"cor\": coeffs_all, \n",
        "                       \"p_value\":p_val_all})\n",
        "\n",
        "df_cor_bi_pos[df_cor_bi_pos.p_value <= 0.05] # june log new"
      ],
      "metadata": {
        "colab": {
          "base_uri": "https://localhost:8080/",
          "height": 49
        },
        "id": "NLUwKJmY40oV",
        "outputId": "6e51d02d-4281-41a4-b8ed-6c5c441e8e1b"
      },
      "execution_count": null,
      "outputs": [
        {
          "output_type": "execute_result",
          "data": {
            "text/plain": [
              "Empty DataFrame\n",
              "Columns: [scheme, cor, p_value]\n",
              "Index: []"
            ],
            "text/html": [
              "\n",
              "  <div id=\"df-45ae1d03-28bb-4bea-a2a5-3e86748d58c7\">\n",
              "    <div class=\"colab-df-container\">\n",
              "      <div>\n",
              "<style scoped>\n",
              "    .dataframe tbody tr th:only-of-type {\n",
              "        vertical-align: middle;\n",
              "    }\n",
              "\n",
              "    .dataframe tbody tr th {\n",
              "        vertical-align: top;\n",
              "    }\n",
              "\n",
              "    .dataframe thead th {\n",
              "        text-align: right;\n",
              "    }\n",
              "</style>\n",
              "<table border=\"1\" class=\"dataframe\">\n",
              "  <thead>\n",
              "    <tr style=\"text-align: right;\">\n",
              "      <th></th>\n",
              "      <th>scheme</th>\n",
              "      <th>cor</th>\n",
              "      <th>p_value</th>\n",
              "    </tr>\n",
              "  </thead>\n",
              "  <tbody>\n",
              "  </tbody>\n",
              "</table>\n",
              "</div>\n",
              "      <button class=\"colab-df-convert\" onclick=\"convertToInteractive('df-45ae1d03-28bb-4bea-a2a5-3e86748d58c7')\"\n",
              "              title=\"Convert this dataframe to an interactive table.\"\n",
              "              style=\"display:none;\">\n",
              "        \n",
              "  <svg xmlns=\"http://www.w3.org/2000/svg\" height=\"24px\"viewBox=\"0 0 24 24\"\n",
              "       width=\"24px\">\n",
              "    <path d=\"M0 0h24v24H0V0z\" fill=\"none\"/>\n",
              "    <path d=\"M18.56 5.44l.94 2.06.94-2.06 2.06-.94-2.06-.94-.94-2.06-.94 2.06-2.06.94zm-11 1L8.5 8.5l.94-2.06 2.06-.94-2.06-.94L8.5 2.5l-.94 2.06-2.06.94zm10 10l.94 2.06.94-2.06 2.06-.94-2.06-.94-.94-2.06-.94 2.06-2.06.94z\"/><path d=\"M17.41 7.96l-1.37-1.37c-.4-.4-.92-.59-1.43-.59-.52 0-1.04.2-1.43.59L10.3 9.45l-7.72 7.72c-.78.78-.78 2.05 0 2.83L4 21.41c.39.39.9.59 1.41.59.51 0 1.02-.2 1.41-.59l7.78-7.78 2.81-2.81c.8-.78.8-2.07 0-2.86zM5.41 20L4 18.59l7.72-7.72 1.47 1.35L5.41 20z\"/>\n",
              "  </svg>\n",
              "      </button>\n",
              "      \n",
              "  <style>\n",
              "    .colab-df-container {\n",
              "      display:flex;\n",
              "      flex-wrap:wrap;\n",
              "      gap: 12px;\n",
              "    }\n",
              "\n",
              "    .colab-df-convert {\n",
              "      background-color: #E8F0FE;\n",
              "      border: none;\n",
              "      border-radius: 50%;\n",
              "      cursor: pointer;\n",
              "      display: none;\n",
              "      fill: #1967D2;\n",
              "      height: 32px;\n",
              "      padding: 0 0 0 0;\n",
              "      width: 32px;\n",
              "    }\n",
              "\n",
              "    .colab-df-convert:hover {\n",
              "      background-color: #E2EBFA;\n",
              "      box-shadow: 0px 1px 2px rgba(60, 64, 67, 0.3), 0px 1px 3px 1px rgba(60, 64, 67, 0.15);\n",
              "      fill: #174EA6;\n",
              "    }\n",
              "\n",
              "    [theme=dark] .colab-df-convert {\n",
              "      background-color: #3B4455;\n",
              "      fill: #D2E3FC;\n",
              "    }\n",
              "\n",
              "    [theme=dark] .colab-df-convert:hover {\n",
              "      background-color: #434B5C;\n",
              "      box-shadow: 0px 1px 3px 1px rgba(0, 0, 0, 0.15);\n",
              "      filter: drop-shadow(0px 1px 2px rgba(0, 0, 0, 0.3));\n",
              "      fill: #FFFFFF;\n",
              "    }\n",
              "  </style>\n",
              "\n",
              "      <script>\n",
              "        const buttonEl =\n",
              "          document.querySelector('#df-45ae1d03-28bb-4bea-a2a5-3e86748d58c7 button.colab-df-convert');\n",
              "        buttonEl.style.display =\n",
              "          google.colab.kernel.accessAllowed ? 'block' : 'none';\n",
              "\n",
              "        async function convertToInteractive(key) {\n",
              "          const element = document.querySelector('#df-45ae1d03-28bb-4bea-a2a5-3e86748d58c7');\n",
              "          const dataTable =\n",
              "            await google.colab.kernel.invokeFunction('convertToInteractive',\n",
              "                                                     [key], {});\n",
              "          if (!dataTable) return;\n",
              "\n",
              "          const docLinkHtml = 'Like what you see? Visit the ' +\n",
              "            '<a target=\"_blank\" href=https://colab.research.google.com/notebooks/data_table.ipynb>data table notebook</a>'\n",
              "            + ' to learn more about interactive tables.';\n",
              "          element.innerHTML = '';\n",
              "          dataTable['output_type'] = 'display_data';\n",
              "          await google.colab.output.renderOutput(dataTable, element);\n",
              "          const docLink = document.createElement('div');\n",
              "          docLink.innerHTML = docLinkHtml;\n",
              "          element.appendChild(docLink);\n",
              "        }\n",
              "      </script>\n",
              "    </div>\n",
              "  </div>\n",
              "  "
            ]
          },
          "metadata": {},
          "execution_count": 183
        }
      ]
    },
    {
      "cell_type": "markdown",
      "source": [
        "####**Corr with negative sentiment**"
      ],
      "metadata": {
        "id": "_ZqlHdhAJGNq"
      }
    },
    {
      "cell_type": "code",
      "source": [
        "corr_neg = df_corr_pl_processed[df_corr_pl_processed.sentiment_label_PaRes == 'neg']\n",
        "corr_neg = corr_neg.dropna(subset = ['mean'])\n",
        "\n",
        "corr_neg.shape"
      ],
      "metadata": {
        "colab": {
          "base_uri": "https://localhost:8080/"
        },
        "id": "644RkRwnI6Nv",
        "outputId": "227470cf-cb10-41ce-fbd2-d1fe98b9d9c2"
      },
      "execution_count": null,
      "outputs": [
        {
          "output_type": "execute_result",
          "data": {
            "text/plain": [
              "(60, 82)"
            ]
          },
          "metadata": {},
          "execution_count": 184
        }
      ]
    },
    {
      "cell_type": "code",
      "source": [
        "coeffs_all = []\n",
        "p_val_all = []\n",
        "\n",
        "for s in schems:\n",
        "  print(s)\n",
        "  sm_response_sentiment = corr_neg['mean'].apply(float).values\n",
        "  binary_scheme = corr_neg[s].apply(int).values\n",
        "\n",
        "  coefbi, bi_p = pointbiserialr(binary_scheme, sm_response_sentiment)\n",
        "  coeffs_all.append(round(coefbi, 2))\n",
        "  p_val_all.append(round(bi_p, 4))\n",
        "\n",
        "  if bi_p <= 0.05:\n",
        "    print(f'\\t{s} - coeff: {coefbi}:  {round(bi_p, 4)} \\t n samples {len(sm_response_sentiment)} ')"
      ],
      "metadata": {
        "id": "JTvr_d-SJ0mu",
        "colab": {
          "base_uri": "https://localhost:8080/"
        },
        "outputId": "ba062058-2851-4714-f0ef-37070c0ba944"
      },
      "execution_count": null,
      "outputs": [
        {
          "output_type": "stream",
          "name": "stdout",
          "text": [
            "scheme_name_Causal Slippery Slope\n",
            "scheme_name_Danger Appeal\n",
            "scheme_name_Fear Appeal\n",
            "scheme_name_Need For Help\n",
            "scheme_name_Negative Consequences\n",
            "scheme_name_Positive Consequences\n",
            "scheme_name_Waste\n",
            "scheme_name_Default Inference\n"
          ]
        },
        {
          "output_type": "stream",
          "name": "stderr",
          "text": [
            "/usr/local/lib/python3.8/dist-packages/scipy/stats/stats.py:4023: PearsonRConstantInputWarning: An input array is constant; the correlation coefficient is not defined.\n",
            "  warnings.warn(PearsonRConstantInputWarning())\n"
          ]
        }
      ]
    },
    {
      "cell_type": "code",
      "source": [
        "df_cor_bi_neg = pd.DataFrame({\"scheme\": schems, \n",
        "                       \"cor\": coeffs_all, \n",
        "                       \"p_value\":p_val_all})\n",
        "\n",
        "df_cor_bi_neg[df_cor_bi_neg.p_value <= 0.05] # may log new"
      ],
      "metadata": {
        "colab": {
          "base_uri": "https://localhost:8080/",
          "height": 49
        },
        "id": "KuD6v2Oc-F7g",
        "outputId": "bfc2b854-7b9d-4788-9306-c8477af553e4"
      },
      "execution_count": null,
      "outputs": [
        {
          "output_type": "execute_result",
          "data": {
            "text/plain": [
              "Empty DataFrame\n",
              "Columns: [scheme, cor, p_value]\n",
              "Index: []"
            ],
            "text/html": [
              "\n",
              "  <div id=\"df-21f5e80f-5273-4430-9620-ec1544d7b449\">\n",
              "    <div class=\"colab-df-container\">\n",
              "      <div>\n",
              "<style scoped>\n",
              "    .dataframe tbody tr th:only-of-type {\n",
              "        vertical-align: middle;\n",
              "    }\n",
              "\n",
              "    .dataframe tbody tr th {\n",
              "        vertical-align: top;\n",
              "    }\n",
              "\n",
              "    .dataframe thead th {\n",
              "        text-align: right;\n",
              "    }\n",
              "</style>\n",
              "<table border=\"1\" class=\"dataframe\">\n",
              "  <thead>\n",
              "    <tr style=\"text-align: right;\">\n",
              "      <th></th>\n",
              "      <th>scheme</th>\n",
              "      <th>cor</th>\n",
              "      <th>p_value</th>\n",
              "    </tr>\n",
              "  </thead>\n",
              "  <tbody>\n",
              "  </tbody>\n",
              "</table>\n",
              "</div>\n",
              "      <button class=\"colab-df-convert\" onclick=\"convertToInteractive('df-21f5e80f-5273-4430-9620-ec1544d7b449')\"\n",
              "              title=\"Convert this dataframe to an interactive table.\"\n",
              "              style=\"display:none;\">\n",
              "        \n",
              "  <svg xmlns=\"http://www.w3.org/2000/svg\" height=\"24px\"viewBox=\"0 0 24 24\"\n",
              "       width=\"24px\">\n",
              "    <path d=\"M0 0h24v24H0V0z\" fill=\"none\"/>\n",
              "    <path d=\"M18.56 5.44l.94 2.06.94-2.06 2.06-.94-2.06-.94-.94-2.06-.94 2.06-2.06.94zm-11 1L8.5 8.5l.94-2.06 2.06-.94-2.06-.94L8.5 2.5l-.94 2.06-2.06.94zm10 10l.94 2.06.94-2.06 2.06-.94-2.06-.94-.94-2.06-.94 2.06-2.06.94z\"/><path d=\"M17.41 7.96l-1.37-1.37c-.4-.4-.92-.59-1.43-.59-.52 0-1.04.2-1.43.59L10.3 9.45l-7.72 7.72c-.78.78-.78 2.05 0 2.83L4 21.41c.39.39.9.59 1.41.59.51 0 1.02-.2 1.41-.59l7.78-7.78 2.81-2.81c.8-.78.8-2.07 0-2.86zM5.41 20L4 18.59l7.72-7.72 1.47 1.35L5.41 20z\"/>\n",
              "  </svg>\n",
              "      </button>\n",
              "      \n",
              "  <style>\n",
              "    .colab-df-container {\n",
              "      display:flex;\n",
              "      flex-wrap:wrap;\n",
              "      gap: 12px;\n",
              "    }\n",
              "\n",
              "    .colab-df-convert {\n",
              "      background-color: #E8F0FE;\n",
              "      border: none;\n",
              "      border-radius: 50%;\n",
              "      cursor: pointer;\n",
              "      display: none;\n",
              "      fill: #1967D2;\n",
              "      height: 32px;\n",
              "      padding: 0 0 0 0;\n",
              "      width: 32px;\n",
              "    }\n",
              "\n",
              "    .colab-df-convert:hover {\n",
              "      background-color: #E2EBFA;\n",
              "      box-shadow: 0px 1px 2px rgba(60, 64, 67, 0.3), 0px 1px 3px 1px rgba(60, 64, 67, 0.15);\n",
              "      fill: #174EA6;\n",
              "    }\n",
              "\n",
              "    [theme=dark] .colab-df-convert {\n",
              "      background-color: #3B4455;\n",
              "      fill: #D2E3FC;\n",
              "    }\n",
              "\n",
              "    [theme=dark] .colab-df-convert:hover {\n",
              "      background-color: #434B5C;\n",
              "      box-shadow: 0px 1px 3px 1px rgba(0, 0, 0, 0.15);\n",
              "      filter: drop-shadow(0px 1px 2px rgba(0, 0, 0, 0.3));\n",
              "      fill: #FFFFFF;\n",
              "    }\n",
              "  </style>\n",
              "\n",
              "      <script>\n",
              "        const buttonEl =\n",
              "          document.querySelector('#df-21f5e80f-5273-4430-9620-ec1544d7b449 button.colab-df-convert');\n",
              "        buttonEl.style.display =\n",
              "          google.colab.kernel.accessAllowed ? 'block' : 'none';\n",
              "\n",
              "        async function convertToInteractive(key) {\n",
              "          const element = document.querySelector('#df-21f5e80f-5273-4430-9620-ec1544d7b449');\n",
              "          const dataTable =\n",
              "            await google.colab.kernel.invokeFunction('convertToInteractive',\n",
              "                                                     [key], {});\n",
              "          if (!dataTable) return;\n",
              "\n",
              "          const docLinkHtml = 'Like what you see? Visit the ' +\n",
              "            '<a target=\"_blank\" href=https://colab.research.google.com/notebooks/data_table.ipynb>data table notebook</a>'\n",
              "            + ' to learn more about interactive tables.';\n",
              "          element.innerHTML = '';\n",
              "          dataTable['output_type'] = 'display_data';\n",
              "          await google.colab.output.renderOutput(dataTable, element);\n",
              "          const docLink = document.createElement('div');\n",
              "          docLink.innerHTML = docLinkHtml;\n",
              "          element.appendChild(docLink);\n",
              "        }\n",
              "      </script>\n",
              "    </div>\n",
              "  </div>\n",
              "  "
            ]
          },
          "metadata": {},
          "execution_count": 155
        }
      ]
    },
    {
      "cell_type": "code",
      "source": [
        "df_cor_bi_neg = pd.DataFrame({\"scheme\": schems, \n",
        "                       \"cor\": coeffs_all, \n",
        "                       \"p_value\":p_val_all})\n",
        "\n",
        "df_cor_bi_neg[df_cor_bi_neg.p_value <= 0.05] # june log new"
      ],
      "metadata": {
        "colab": {
          "base_uri": "https://localhost:8080/",
          "height": 49
        },
        "id": "iHP-fWdXz9co",
        "outputId": "ecfe3931-6563-44ff-ecbc-3244672f7a2c"
      },
      "execution_count": null,
      "outputs": [
        {
          "output_type": "execute_result",
          "data": {
            "text/plain": [
              "Empty DataFrame\n",
              "Columns: [scheme, cor, p_value]\n",
              "Index: []"
            ],
            "text/html": [
              "\n",
              "  <div id=\"df-27b1e257-1bcb-4c81-a979-55499b416923\">\n",
              "    <div class=\"colab-df-container\">\n",
              "      <div>\n",
              "<style scoped>\n",
              "    .dataframe tbody tr th:only-of-type {\n",
              "        vertical-align: middle;\n",
              "    }\n",
              "\n",
              "    .dataframe tbody tr th {\n",
              "        vertical-align: top;\n",
              "    }\n",
              "\n",
              "    .dataframe thead th {\n",
              "        text-align: right;\n",
              "    }\n",
              "</style>\n",
              "<table border=\"1\" class=\"dataframe\">\n",
              "  <thead>\n",
              "    <tr style=\"text-align: right;\">\n",
              "      <th></th>\n",
              "      <th>scheme</th>\n",
              "      <th>cor</th>\n",
              "      <th>p_value</th>\n",
              "    </tr>\n",
              "  </thead>\n",
              "  <tbody>\n",
              "  </tbody>\n",
              "</table>\n",
              "</div>\n",
              "      <button class=\"colab-df-convert\" onclick=\"convertToInteractive('df-27b1e257-1bcb-4c81-a979-55499b416923')\"\n",
              "              title=\"Convert this dataframe to an interactive table.\"\n",
              "              style=\"display:none;\">\n",
              "        \n",
              "  <svg xmlns=\"http://www.w3.org/2000/svg\" height=\"24px\"viewBox=\"0 0 24 24\"\n",
              "       width=\"24px\">\n",
              "    <path d=\"M0 0h24v24H0V0z\" fill=\"none\"/>\n",
              "    <path d=\"M18.56 5.44l.94 2.06.94-2.06 2.06-.94-2.06-.94-.94-2.06-.94 2.06-2.06.94zm-11 1L8.5 8.5l.94-2.06 2.06-.94-2.06-.94L8.5 2.5l-.94 2.06-2.06.94zm10 10l.94 2.06.94-2.06 2.06-.94-2.06-.94-.94-2.06-.94 2.06-2.06.94z\"/><path d=\"M17.41 7.96l-1.37-1.37c-.4-.4-.92-.59-1.43-.59-.52 0-1.04.2-1.43.59L10.3 9.45l-7.72 7.72c-.78.78-.78 2.05 0 2.83L4 21.41c.39.39.9.59 1.41.59.51 0 1.02-.2 1.41-.59l7.78-7.78 2.81-2.81c.8-.78.8-2.07 0-2.86zM5.41 20L4 18.59l7.72-7.72 1.47 1.35L5.41 20z\"/>\n",
              "  </svg>\n",
              "      </button>\n",
              "      \n",
              "  <style>\n",
              "    .colab-df-container {\n",
              "      display:flex;\n",
              "      flex-wrap:wrap;\n",
              "      gap: 12px;\n",
              "    }\n",
              "\n",
              "    .colab-df-convert {\n",
              "      background-color: #E8F0FE;\n",
              "      border: none;\n",
              "      border-radius: 50%;\n",
              "      cursor: pointer;\n",
              "      display: none;\n",
              "      fill: #1967D2;\n",
              "      height: 32px;\n",
              "      padding: 0 0 0 0;\n",
              "      width: 32px;\n",
              "    }\n",
              "\n",
              "    .colab-df-convert:hover {\n",
              "      background-color: #E2EBFA;\n",
              "      box-shadow: 0px 1px 2px rgba(60, 64, 67, 0.3), 0px 1px 3px 1px rgba(60, 64, 67, 0.15);\n",
              "      fill: #174EA6;\n",
              "    }\n",
              "\n",
              "    [theme=dark] .colab-df-convert {\n",
              "      background-color: #3B4455;\n",
              "      fill: #D2E3FC;\n",
              "    }\n",
              "\n",
              "    [theme=dark] .colab-df-convert:hover {\n",
              "      background-color: #434B5C;\n",
              "      box-shadow: 0px 1px 3px 1px rgba(0, 0, 0, 0.15);\n",
              "      filter: drop-shadow(0px 1px 2px rgba(0, 0, 0, 0.3));\n",
              "      fill: #FFFFFF;\n",
              "    }\n",
              "  </style>\n",
              "\n",
              "      <script>\n",
              "        const buttonEl =\n",
              "          document.querySelector('#df-27b1e257-1bcb-4c81-a979-55499b416923 button.colab-df-convert');\n",
              "        buttonEl.style.display =\n",
              "          google.colab.kernel.accessAllowed ? 'block' : 'none';\n",
              "\n",
              "        async function convertToInteractive(key) {\n",
              "          const element = document.querySelector('#df-27b1e257-1bcb-4c81-a979-55499b416923');\n",
              "          const dataTable =\n",
              "            await google.colab.kernel.invokeFunction('convertToInteractive',\n",
              "                                                     [key], {});\n",
              "          if (!dataTable) return;\n",
              "\n",
              "          const docLinkHtml = 'Like what you see? Visit the ' +\n",
              "            '<a target=\"_blank\" href=https://colab.research.google.com/notebooks/data_table.ipynb>data table notebook</a>'\n",
              "            + ' to learn more about interactive tables.';\n",
              "          element.innerHTML = '';\n",
              "          dataTable['output_type'] = 'display_data';\n",
              "          await google.colab.output.renderOutput(dataTable, element);\n",
              "          const docLink = document.createElement('div');\n",
              "          docLink.innerHTML = docLinkHtml;\n",
              "          element.appendChild(docLink);\n",
              "        }\n",
              "      </script>\n",
              "    </div>\n",
              "  </div>\n",
              "  "
            ]
          },
          "metadata": {},
          "execution_count": 186
        }
      ]
    },
    {
      "cell_type": "markdown",
      "source": [
        "####**Corr emotions expressed**"
      ],
      "metadata": {
        "id": "WhC2Co6MMqSP"
      }
    },
    {
      "cell_type": "code",
      "source": [
        "df_corr_pl_processed.predicted_emotion_label_PaREMO.unique()"
      ],
      "metadata": {
        "colab": {
          "base_uri": "https://localhost:8080/"
        },
        "id": "AieRWhveNI5I",
        "outputId": "b879b6bd-bb0c-4798-8393-a04adefbfd93"
      },
      "execution_count": null,
      "outputs": [
        {
          "output_type": "execute_result",
          "data": {
            "text/plain": [
              "array(['anger', 'disgust', 'fear', 'joy', 'sadness', 'surprise'],\n",
              "      dtype=object)"
            ]
          },
          "metadata": {},
          "execution_count": 194
        }
      ]
    },
    {
      "cell_type": "code",
      "source": [
        "from scipy.stats import pearsonr, pointbiserialr"
      ],
      "metadata": {
        "id": "znAG4mjO6C-S"
      },
      "execution_count": null,
      "outputs": []
    },
    {
      "cell_type": "code",
      "source": [
        "coeffs_all = []\n",
        "p_val_all = []\n",
        "schems_all = []\n",
        "emo_all = []\n",
        "\n",
        "for s in schems:\n",
        "  print(s)\n",
        "  for e in df_corr_pl_processed.predicted_emotion_label_PaREMO.unique():\n",
        "    print('\\t', e)\n",
        "    schems_all.append(s)\n",
        "    emo_all.append(e)\n",
        "    corr_emo = df_corr_pl_processed[df_corr_pl_processed.predicted_emotion_label_PaREMO == e].dropna()  \n",
        "    sm_response_sentiment = corr_emo['mean'].apply(float).values\n",
        "    binary_scheme = corr_emo[s].apply(int).values\n",
        "\n",
        "    coefbi, bi_p = pointbiserialr(binary_scheme, sm_response_sentiment)\n",
        "    coeffs_all.append(round(coefbi, 2))\n",
        "    p_val_all.append(round(bi_p, 4))\n",
        "\n",
        "    if bi_p <= 0.05:\n",
        "      print(f'{s} - {e} \\t coeff: {coefbi}:  {round(bi_p, 4)}\\t n samples: {len(binary_scheme)} ')"
      ],
      "metadata": {
        "colab": {
          "base_uri": "https://localhost:8080/"
        },
        "id": "ofhZLKoSNCUA",
        "outputId": "5faf41b5-62d8-4d92-db2d-52cea3b31f08"
      },
      "execution_count": null,
      "outputs": [
        {
          "output_type": "stream",
          "name": "stdout",
          "text": [
            "scheme_name_Causal Slippery Slope\n",
            "\t anger\n",
            "\t disgust\n",
            "\t fear\n",
            "\t joy\n",
            "\t sadness\n",
            "\t surprise\n",
            "scheme_name_Danger Appeal\n",
            "\t anger\n",
            "\t disgust\n",
            "\t fear\n",
            "\t joy\n",
            "\t sadness\n",
            "\t surprise\n",
            "scheme_name_Fear Appeal\n",
            "\t anger\n",
            "\t disgust\n",
            "\t fear\n",
            "\t joy\n",
            "\t sadness\n",
            "\t surprise\n",
            "scheme_name_Need For Help\n",
            "\t anger\n",
            "scheme_name_Need For Help - anger \t coeff: -0.2581631444016556:  0.0464\t n samples: 60 \n",
            "\t disgust\n",
            "\t fear\n",
            "\t joy\n",
            "\t sadness\n",
            "\t surprise\n",
            "scheme_name_Negative Consequences\n",
            "\t anger\n",
            "\t disgust\n",
            "\t fear\n"
          ]
        },
        {
          "output_type": "stream",
          "name": "stderr",
          "text": [
            "/usr/local/lib/python3.8/dist-packages/scipy/stats/stats.py:4023: PearsonRConstantInputWarning: An input array is constant; the correlation coefficient is not defined.\n",
            "  warnings.warn(PearsonRConstantInputWarning())\n"
          ]
        },
        {
          "output_type": "stream",
          "name": "stdout",
          "text": [
            "\t joy\n",
            "\t sadness\n",
            "\t surprise\n",
            "scheme_name_Positive Consequences\n",
            "\t anger\n",
            "\t disgust\n",
            "\t fear\n",
            "\t joy\n",
            "\t sadness\n",
            "\t surprise\n",
            "scheme_name_Waste\n",
            "\t anger\n",
            "\t disgust\n",
            "\t fear\n",
            "\t joy\n",
            "\t sadness\n",
            "\t surprise\n",
            "scheme_name_Default Inference\n",
            "\t anger\n",
            "\t disgust\n",
            "scheme_name_Default Inference - disgust \t coeff: -0.483235384167369:  0.0227\t n samples: 22 \n",
            "\t fear\n",
            "\t joy\n",
            "\t sadness\n",
            "\t surprise\n"
          ]
        }
      ]
    },
    {
      "cell_type": "code",
      "source": [
        "df_cor_bi_emo = pd.DataFrame({\"scheme\": schems_all, 'emotion_response_sm': emo_all, \n",
        "                       \"cor\": coeffs_all, \n",
        "                       \"p_value\":p_val_all})\n",
        "\n",
        "df_cor_bi_emo[df_cor_bi_emo.p_value <= 0.05] # may log new"
      ],
      "metadata": {
        "colab": {
          "base_uri": "https://localhost:8080/",
          "height": 143
        },
        "id": "d1U-R88p9wp2",
        "outputId": "c7bdb7b5-6008-4e60-dbc1-43eb56496e95"
      },
      "execution_count": null,
      "outputs": [
        {
          "output_type": "execute_result",
          "data": {
            "text/plain": [
              "                               scheme emotion_response_sm   cor  p_value\n",
              "20          scheme_name_Need For Help                fear -0.33   0.0135\n",
              "23          scheme_name_Need For Help            surprise  0.32   0.0168\n",
              "29  scheme_name_Negative Consequences            surprise -0.33   0.0129"
            ],
            "text/html": [
              "\n",
              "  <div id=\"df-3c35a33b-5de7-4e44-b09a-7e5f0a7c2b73\">\n",
              "    <div class=\"colab-df-container\">\n",
              "      <div>\n",
              "<style scoped>\n",
              "    .dataframe tbody tr th:only-of-type {\n",
              "        vertical-align: middle;\n",
              "    }\n",
              "\n",
              "    .dataframe tbody tr th {\n",
              "        vertical-align: top;\n",
              "    }\n",
              "\n",
              "    .dataframe thead th {\n",
              "        text-align: right;\n",
              "    }\n",
              "</style>\n",
              "<table border=\"1\" class=\"dataframe\">\n",
              "  <thead>\n",
              "    <tr style=\"text-align: right;\">\n",
              "      <th></th>\n",
              "      <th>scheme</th>\n",
              "      <th>emotion_response_sm</th>\n",
              "      <th>cor</th>\n",
              "      <th>p_value</th>\n",
              "    </tr>\n",
              "  </thead>\n",
              "  <tbody>\n",
              "    <tr>\n",
              "      <th>20</th>\n",
              "      <td>scheme_name_Need For Help</td>\n",
              "      <td>fear</td>\n",
              "      <td>-0.33</td>\n",
              "      <td>0.0135</td>\n",
              "    </tr>\n",
              "    <tr>\n",
              "      <th>23</th>\n",
              "      <td>scheme_name_Need For Help</td>\n",
              "      <td>surprise</td>\n",
              "      <td>0.32</td>\n",
              "      <td>0.0168</td>\n",
              "    </tr>\n",
              "    <tr>\n",
              "      <th>29</th>\n",
              "      <td>scheme_name_Negative Consequences</td>\n",
              "      <td>surprise</td>\n",
              "      <td>-0.33</td>\n",
              "      <td>0.0129</td>\n",
              "    </tr>\n",
              "  </tbody>\n",
              "</table>\n",
              "</div>\n",
              "      <button class=\"colab-df-convert\" onclick=\"convertToInteractive('df-3c35a33b-5de7-4e44-b09a-7e5f0a7c2b73')\"\n",
              "              title=\"Convert this dataframe to an interactive table.\"\n",
              "              style=\"display:none;\">\n",
              "        \n",
              "  <svg xmlns=\"http://www.w3.org/2000/svg\" height=\"24px\"viewBox=\"0 0 24 24\"\n",
              "       width=\"24px\">\n",
              "    <path d=\"M0 0h24v24H0V0z\" fill=\"none\"/>\n",
              "    <path d=\"M18.56 5.44l.94 2.06.94-2.06 2.06-.94-2.06-.94-.94-2.06-.94 2.06-2.06.94zm-11 1L8.5 8.5l.94-2.06 2.06-.94-2.06-.94L8.5 2.5l-.94 2.06-2.06.94zm10 10l.94 2.06.94-2.06 2.06-.94-2.06-.94-.94-2.06-.94 2.06-2.06.94z\"/><path d=\"M17.41 7.96l-1.37-1.37c-.4-.4-.92-.59-1.43-.59-.52 0-1.04.2-1.43.59L10.3 9.45l-7.72 7.72c-.78.78-.78 2.05 0 2.83L4 21.41c.39.39.9.59 1.41.59.51 0 1.02-.2 1.41-.59l7.78-7.78 2.81-2.81c.8-.78.8-2.07 0-2.86zM5.41 20L4 18.59l7.72-7.72 1.47 1.35L5.41 20z\"/>\n",
              "  </svg>\n",
              "      </button>\n",
              "      \n",
              "  <style>\n",
              "    .colab-df-container {\n",
              "      display:flex;\n",
              "      flex-wrap:wrap;\n",
              "      gap: 12px;\n",
              "    }\n",
              "\n",
              "    .colab-df-convert {\n",
              "      background-color: #E8F0FE;\n",
              "      border: none;\n",
              "      border-radius: 50%;\n",
              "      cursor: pointer;\n",
              "      display: none;\n",
              "      fill: #1967D2;\n",
              "      height: 32px;\n",
              "      padding: 0 0 0 0;\n",
              "      width: 32px;\n",
              "    }\n",
              "\n",
              "    .colab-df-convert:hover {\n",
              "      background-color: #E2EBFA;\n",
              "      box-shadow: 0px 1px 2px rgba(60, 64, 67, 0.3), 0px 1px 3px 1px rgba(60, 64, 67, 0.15);\n",
              "      fill: #174EA6;\n",
              "    }\n",
              "\n",
              "    [theme=dark] .colab-df-convert {\n",
              "      background-color: #3B4455;\n",
              "      fill: #D2E3FC;\n",
              "    }\n",
              "\n",
              "    [theme=dark] .colab-df-convert:hover {\n",
              "      background-color: #434B5C;\n",
              "      box-shadow: 0px 1px 3px 1px rgba(0, 0, 0, 0.15);\n",
              "      filter: drop-shadow(0px 1px 2px rgba(0, 0, 0, 0.3));\n",
              "      fill: #FFFFFF;\n",
              "    }\n",
              "  </style>\n",
              "\n",
              "      <script>\n",
              "        const buttonEl =\n",
              "          document.querySelector('#df-3c35a33b-5de7-4e44-b09a-7e5f0a7c2b73 button.colab-df-convert');\n",
              "        buttonEl.style.display =\n",
              "          google.colab.kernel.accessAllowed ? 'block' : 'none';\n",
              "\n",
              "        async function convertToInteractive(key) {\n",
              "          const element = document.querySelector('#df-3c35a33b-5de7-4e44-b09a-7e5f0a7c2b73');\n",
              "          const dataTable =\n",
              "            await google.colab.kernel.invokeFunction('convertToInteractive',\n",
              "                                                     [key], {});\n",
              "          if (!dataTable) return;\n",
              "\n",
              "          const docLinkHtml = 'Like what you see? Visit the ' +\n",
              "            '<a target=\"_blank\" href=https://colab.research.google.com/notebooks/data_table.ipynb>data table notebook</a>'\n",
              "            + ' to learn more about interactive tables.';\n",
              "          element.innerHTML = '';\n",
              "          dataTable['output_type'] = 'display_data';\n",
              "          await google.colab.output.renderOutput(dataTable, element);\n",
              "          const docLink = document.createElement('div');\n",
              "          docLink.innerHTML = docLinkHtml;\n",
              "          element.appendChild(docLink);\n",
              "        }\n",
              "      </script>\n",
              "    </div>\n",
              "  </div>\n",
              "  "
            ]
          },
          "metadata": {},
          "execution_count": 141
        }
      ]
    },
    {
      "cell_type": "code",
      "source": [
        "df_cor_bi_emo = pd.DataFrame({\"scheme\": schems_all, 'emotion_response_sm': emo_all, \n",
        "                       \"cor\": coeffs_all, \n",
        "                       \"p_value\":p_val_all})\n",
        "\n",
        "df_cor_bi_emo[df_cor_bi_emo.p_value <= 0.05] # june log new"
      ],
      "metadata": {
        "colab": {
          "base_uri": "https://localhost:8080/",
          "height": 112
        },
        "id": "vQdYQJgf_-I2",
        "outputId": "f14317ee-627a-48a8-8d60-e84ac1e3c018"
      },
      "execution_count": null,
      "outputs": [
        {
          "output_type": "execute_result",
          "data": {
            "text/plain": [
              "                           scheme emotion_response_sm   cor  p_value\n",
              "18      scheme_name_Need For Help               anger -0.26   0.0464\n",
              "43  scheme_name_Default Inference             disgust -0.48   0.0227"
            ],
            "text/html": [
              "\n",
              "  <div id=\"df-33209c70-af88-476b-a0e3-59404e909655\">\n",
              "    <div class=\"colab-df-container\">\n",
              "      <div>\n",
              "<style scoped>\n",
              "    .dataframe tbody tr th:only-of-type {\n",
              "        vertical-align: middle;\n",
              "    }\n",
              "\n",
              "    .dataframe tbody tr th {\n",
              "        vertical-align: top;\n",
              "    }\n",
              "\n",
              "    .dataframe thead th {\n",
              "        text-align: right;\n",
              "    }\n",
              "</style>\n",
              "<table border=\"1\" class=\"dataframe\">\n",
              "  <thead>\n",
              "    <tr style=\"text-align: right;\">\n",
              "      <th></th>\n",
              "      <th>scheme</th>\n",
              "      <th>emotion_response_sm</th>\n",
              "      <th>cor</th>\n",
              "      <th>p_value</th>\n",
              "    </tr>\n",
              "  </thead>\n",
              "  <tbody>\n",
              "    <tr>\n",
              "      <th>18</th>\n",
              "      <td>scheme_name_Need For Help</td>\n",
              "      <td>anger</td>\n",
              "      <td>-0.26</td>\n",
              "      <td>0.0464</td>\n",
              "    </tr>\n",
              "    <tr>\n",
              "      <th>43</th>\n",
              "      <td>scheme_name_Default Inference</td>\n",
              "      <td>disgust</td>\n",
              "      <td>-0.48</td>\n",
              "      <td>0.0227</td>\n",
              "    </tr>\n",
              "  </tbody>\n",
              "</table>\n",
              "</div>\n",
              "      <button class=\"colab-df-convert\" onclick=\"convertToInteractive('df-33209c70-af88-476b-a0e3-59404e909655')\"\n",
              "              title=\"Convert this dataframe to an interactive table.\"\n",
              "              style=\"display:none;\">\n",
              "        \n",
              "  <svg xmlns=\"http://www.w3.org/2000/svg\" height=\"24px\"viewBox=\"0 0 24 24\"\n",
              "       width=\"24px\">\n",
              "    <path d=\"M0 0h24v24H0V0z\" fill=\"none\"/>\n",
              "    <path d=\"M18.56 5.44l.94 2.06.94-2.06 2.06-.94-2.06-.94-.94-2.06-.94 2.06-2.06.94zm-11 1L8.5 8.5l.94-2.06 2.06-.94-2.06-.94L8.5 2.5l-.94 2.06-2.06.94zm10 10l.94 2.06.94-2.06 2.06-.94-2.06-.94-.94-2.06-.94 2.06-2.06.94z\"/><path d=\"M17.41 7.96l-1.37-1.37c-.4-.4-.92-.59-1.43-.59-.52 0-1.04.2-1.43.59L10.3 9.45l-7.72 7.72c-.78.78-.78 2.05 0 2.83L4 21.41c.39.39.9.59 1.41.59.51 0 1.02-.2 1.41-.59l7.78-7.78 2.81-2.81c.8-.78.8-2.07 0-2.86zM5.41 20L4 18.59l7.72-7.72 1.47 1.35L5.41 20z\"/>\n",
              "  </svg>\n",
              "      </button>\n",
              "      \n",
              "  <style>\n",
              "    .colab-df-container {\n",
              "      display:flex;\n",
              "      flex-wrap:wrap;\n",
              "      gap: 12px;\n",
              "    }\n",
              "\n",
              "    .colab-df-convert {\n",
              "      background-color: #E8F0FE;\n",
              "      border: none;\n",
              "      border-radius: 50%;\n",
              "      cursor: pointer;\n",
              "      display: none;\n",
              "      fill: #1967D2;\n",
              "      height: 32px;\n",
              "      padding: 0 0 0 0;\n",
              "      width: 32px;\n",
              "    }\n",
              "\n",
              "    .colab-df-convert:hover {\n",
              "      background-color: #E2EBFA;\n",
              "      box-shadow: 0px 1px 2px rgba(60, 64, 67, 0.3), 0px 1px 3px 1px rgba(60, 64, 67, 0.15);\n",
              "      fill: #174EA6;\n",
              "    }\n",
              "\n",
              "    [theme=dark] .colab-df-convert {\n",
              "      background-color: #3B4455;\n",
              "      fill: #D2E3FC;\n",
              "    }\n",
              "\n",
              "    [theme=dark] .colab-df-convert:hover {\n",
              "      background-color: #434B5C;\n",
              "      box-shadow: 0px 1px 3px 1px rgba(0, 0, 0, 0.15);\n",
              "      filter: drop-shadow(0px 1px 2px rgba(0, 0, 0, 0.3));\n",
              "      fill: #FFFFFF;\n",
              "    }\n",
              "  </style>\n",
              "\n",
              "      <script>\n",
              "        const buttonEl =\n",
              "          document.querySelector('#df-33209c70-af88-476b-a0e3-59404e909655 button.colab-df-convert');\n",
              "        buttonEl.style.display =\n",
              "          google.colab.kernel.accessAllowed ? 'block' : 'none';\n",
              "\n",
              "        async function convertToInteractive(key) {\n",
              "          const element = document.querySelector('#df-33209c70-af88-476b-a0e3-59404e909655');\n",
              "          const dataTable =\n",
              "            await google.colab.kernel.invokeFunction('convertToInteractive',\n",
              "                                                     [key], {});\n",
              "          if (!dataTable) return;\n",
              "\n",
              "          const docLinkHtml = 'Like what you see? Visit the ' +\n",
              "            '<a target=\"_blank\" href=https://colab.research.google.com/notebooks/data_table.ipynb>data table notebook</a>'\n",
              "            + ' to learn more about interactive tables.';\n",
              "          element.innerHTML = '';\n",
              "          dataTable['output_type'] = 'display_data';\n",
              "          await google.colab.output.renderOutput(dataTable, element);\n",
              "          const docLink = document.createElement('div');\n",
              "          docLink.innerHTML = docLinkHtml;\n",
              "          element.appendChild(docLink);\n",
              "        }\n",
              "      </script>\n",
              "    </div>\n",
              "  </div>\n",
              "  "
            ]
          },
          "metadata": {},
          "execution_count": 196
        }
      ]
    },
    {
      "cell_type": "markdown",
      "source": [
        "#data"
      ],
      "metadata": {
        "id": "kR8uY2qZLpbN"
      }
    },
    {
      "cell_type": "markdown",
      "source": [
        "##join data"
      ],
      "metadata": {
        "id": "436lWjWUPcu0"
      }
    },
    {
      "cell_type": "code",
      "source": [
        "def process_reactions(dataframe_social_media, dataframe_debate, analysis_type = \"sentiment\"):\n",
        "  \"\"\"\n",
        "  time shift = -1min;\n",
        "  \n",
        "  dataframe_social_media: data with social media reactions (comments), \n",
        "\n",
        "  dataframe_debate: data with debate arguments, \n",
        "  \n",
        "  analysis_type: 'sentiment' or 'emotions', \n",
        "\n",
        "  \"\"\"\n",
        "  sm_data = dataframe_social_media.copy()\n",
        "  deb_data = dataframe_debate.copy()\n",
        "\n",
        "  sm_data.sort_values(by = 'Data', inplace=True)\n",
        "\n",
        "  deb_data[\"Time\"] = pd.to_datetime(deb_data.start)\n",
        "  deb_data.sort_values(by = \"Time\", inplace=True)\n",
        "\n",
        "  df_plot = deb_data.set_index(\"Time\").resample(\"1T\").mean().fillna(0)\n",
        "  df_plot.reset_index(inplace=True)\n",
        "  df_plot[\"Time\"] = df_plot[\"Time\"].dt.time.apply(str)\n",
        "\n",
        "  if analysis_type == \"emotion\":\n",
        "    df_plots_counts_normalized = pd.DataFrame(sm_data.set_index(\"Data\").shift(periods=-1, \n",
        "                                                                              freq=\"T\", \n",
        "                                                                              axis=0).resample(\"1T\")[\"emotion\"].value_counts(normalize=True)) * 100\n",
        "    df_plots_counts_normalized.columns = ['_'.join(col) for col in df_plots_counts_normalized.columns]\n",
        "    df_plots_counts_normalized = df_plots_counts_normalized.reset_index()\n",
        "    df_plots_counts_normalized.columns = ['Data', 'emotion', 'mean']\n",
        "\n",
        "    df_plots_counts_normalized.sort_values(by = ['Data', 'emotion'], inplace=True)\n",
        "    df_plots_counts_normalized[\"Time\"] = df_plots_counts_normalized[\"Data\"].dt.time.apply(str)\n",
        "\n",
        "    # merge social media and debate data\n",
        "    df_plot_join = pd.merge(df_plots_counts_normalized, df_plot, on = \"Time\", how = \"left\")\n",
        "\n",
        "    # additionally we can take only selected columns\n",
        "    #emotions = ['Anger', 'Sadness', 'Fear', 'Disgust', 'Happiness']\n",
        "    #cols = [c for c in df_plot_join.columns for i, n in enumerate(emotions) if emotions[i] in c] \n",
        "\n",
        "\n",
        "  else:\n",
        "    df_plots_counts_normalized = pd.DataFrame(sm_data.set_index(\"Data\").shift(periods=-1, \n",
        "                                                                              freq=\"T\", \n",
        "                                                                              axis=0).resample(\"1T\")[\"sentiment_label_PaRes\"].value_counts(normalize=True)) * 100\n",
        "    df_plots_counts_normalized.columns = ['_'.join(col) for col in df_plots_counts_normalized.columns]\n",
        "    df_plots_counts_normalized = df_plots_counts_normalized.reset_index()\n",
        "    df_plots_counts_normalized.columns = ['Data', 'sentiment_label_PaRes', 'mean']\n",
        "\n",
        "    df_plots_counts_normalized.sort_values(by = ['Data', 'sentiment_label_PaRes'], inplace=True)\n",
        "    df_plots_counts_normalized[\"Time\"] = df_plots_counts_normalized[\"Data\"].dt.time.apply(str)\n",
        "    \n",
        "    # merge social media and debate data\n",
        "    df_plot_join = pd.merge(df_plots_counts_normalized, df_plot, on = \"Time\", how = \"left\")\n",
        "\n",
        "  return df_plot_join"
      ],
      "metadata": {
        "id": "x7DCQYXGPHLV"
      },
      "execution_count": null,
      "outputs": []
    },
    {
      "cell_type": "code",
      "source": [
        "df_corr_pl_processed = process_reactions(dataframe_social_media = social_media, \n",
        "                                        dataframe_debate = df, \n",
        "                                        analysis_type = 'emotion') # sentiment  emotion\n",
        "\n",
        "# take data only from the time of the live debate\n",
        "may_data = df_corr_pl_processed[ (df_corr_pl_processed.Data >= '2020-05-06 20:34:00') & (df_corr_pl_processed.Data <= '2020-05-06 21:42:00') ]\n",
        "june_data = df_corr_pl_processed[ (df_corr_pl_processed.Data >= '2020-06-17 21:03:00') & (df_corr_pl_processed.Data <= '2020-06-17 22:18:00') ]\n",
        "\n",
        "\n",
        "df_corr_pl_processed = may_data \n",
        "print(df_corr_pl_processed.shape, '\\n')\n",
        "df_corr_pl_processed.head(3)"
      ],
      "metadata": {
        "colab": {
          "base_uri": "https://localhost:8080/",
          "height": 364
        },
        "id": "gjjMqr9VO-r0",
        "outputId": "6678c892-3251-431d-9d27-220dbe64fa96"
      },
      "execution_count": null,
      "outputs": [
        {
          "output_type": "stream",
          "name": "stdout",
          "text": [
            "(395, 50) \n",
            "\n"
          ]
        },
        {
          "output_type": "execute_result",
          "data": {
            "text/plain": [
              "                  Data emotion       mean      Time  question number  \\\n",
              "26 2020-05-06 20:34:00   anger  16.129032  20:34:00              1.0   \n",
              "27 2020-05-06 20:34:00    fear  32.258065  20:34:00              1.0   \n",
              "28 2020-05-06 20:34:00     joy  38.709677  20:34:00              1.0   \n",
              "\n",
              "    conclusion_valence_score  conclusion_valence_positive_count  \\\n",
              "26                  0.267857                           0.333333   \n",
              "27                  0.267857                           0.333333   \n",
              "28                  0.267857                           0.333333   \n",
              "\n",
              "    conclusion_valence_negative_count  conclusion_joy  conclusion_anger  \\\n",
              "26                           1.333333        0.252333               0.1   \n",
              "27                           1.333333        0.252333               0.1   \n",
              "28                           1.333333        0.252333               0.1   \n",
              "\n",
              "    conclusion_sadness  conclusion_fear  conclusion_disgust  \\\n",
              "26               0.199              0.0            0.075667   \n",
              "27               0.199              0.0            0.075667   \n",
              "28               0.199              0.0            0.075667   \n",
              "\n",
              "    conclusion_valence  conclusion_arousal  conclusion_CATEGORY_HAP  \\\n",
              "26               0.472            0.557333                      0.0   \n",
              "27               0.472            0.557333                      0.0   \n",
              "28               0.472            0.557333                      0.0   \n",
              "\n",
              "    conclusion_CATEGORY_FEA  conclusion_CATEGORY_SAD  conclusion_CATEGORY_ANG  \\\n",
              "26                      0.0                 0.333333                 0.333333   \n",
              "27                      0.0                 0.333333                 0.333333   \n",
              "28                      0.0                 0.333333                 0.333333   \n",
              "\n",
              "    conclusion_CATEGORY_DIS  premise_valence_score  \\\n",
              "26                      0.0                  0.275   \n",
              "27                      0.0                  0.275   \n",
              "28                      0.0                  0.275   \n",
              "\n",
              "    premise_valence_positive_count  premise_valence_negative_count  \\\n",
              "26                             1.0                        0.333333   \n",
              "27                             1.0                        0.333333   \n",
              "28                             1.0                        0.333333   \n",
              "\n",
              "    premise_joy  premise_anger  premise_sadness  premise_fear  \\\n",
              "26          0.0            0.0            0.597           0.0   \n",
              "27          0.0            0.0            0.597           0.0   \n",
              "28          0.0            0.0            0.597           0.0   \n",
              "\n",
              "    premise_disgust  premise_valence  premise_arousal  premise_CATEGORY_ANG  \\\n",
              "26              0.0             0.29            0.524                   0.0   \n",
              "27              0.0             0.29            0.524                   0.0   \n",
              "28              0.0             0.29            0.524                   0.0   \n",
              "\n",
              "    premise_CATEGORY_HAP  premise_CATEGORY_FEA  premise_CATEGORY_SAD  \\\n",
              "26                   0.0                   0.0              0.333333   \n",
              "27                   0.0                   0.0              0.333333   \n",
              "28                   0.0                   0.0              0.333333   \n",
              "\n",
              "    premise_CATEGORY_DIS  full_argument_valence_score  \\\n",
              "26                   0.0                     0.259259   \n",
              "27                   0.0                     0.259259   \n",
              "28                   0.0                     0.259259   \n",
              "\n",
              "    full_argument_valence_positive_count  \\\n",
              "26                              1.333333   \n",
              "27                              1.333333   \n",
              "28                              1.333333   \n",
              "\n",
              "    full_argument_valence_negative_count  full_argument_joy  \\\n",
              "26                              1.666667           0.126333   \n",
              "27                              1.666667           0.126333   \n",
              "28                              1.666667           0.126333   \n",
              "\n",
              "    full_argument_anger  full_argument_sadness  full_argument_fear  \\\n",
              "26                  0.1               0.298667                 0.0   \n",
              "27                  0.1               0.298667                 0.0   \n",
              "28                  0.1               0.298667                 0.0   \n",
              "\n",
              "    full_argument_disgust  full_argument_valence  full_argument_arousal  \\\n",
              "26               0.075667               0.383667               0.538667   \n",
              "27               0.075667               0.383667               0.538667   \n",
              "28               0.075667               0.383667               0.538667   \n",
              "\n",
              "    full_argument_CATEGORY_HAP  full_argument_CATEGORY_ANG  \\\n",
              "26                         0.0                    0.333333   \n",
              "27                         0.0                    0.333333   \n",
              "28                         0.0                    0.333333   \n",
              "\n",
              "    full_argument_CATEGORY_FEA  full_argument_CATEGORY_SAD  \\\n",
              "26                         0.0                    0.666667   \n",
              "27                         0.0                    0.666667   \n",
              "28                         0.0                    0.666667   \n",
              "\n",
              "    full_argument_CATEGORY_DIS  \n",
              "26                         0.0  \n",
              "27                         0.0  \n",
              "28                         0.0  "
            ],
            "text/html": [
              "\n",
              "  <div id=\"df-e88ee2da-6703-44c0-89d1-3a36aa8be5f5\">\n",
              "    <div class=\"colab-df-container\">\n",
              "      <div>\n",
              "<style scoped>\n",
              "    .dataframe tbody tr th:only-of-type {\n",
              "        vertical-align: middle;\n",
              "    }\n",
              "\n",
              "    .dataframe tbody tr th {\n",
              "        vertical-align: top;\n",
              "    }\n",
              "\n",
              "    .dataframe thead th {\n",
              "        text-align: right;\n",
              "    }\n",
              "</style>\n",
              "<table border=\"1\" class=\"dataframe\">\n",
              "  <thead>\n",
              "    <tr style=\"text-align: right;\">\n",
              "      <th></th>\n",
              "      <th>Data</th>\n",
              "      <th>emotion</th>\n",
              "      <th>mean</th>\n",
              "      <th>Time</th>\n",
              "      <th>question number</th>\n",
              "      <th>conclusion_valence_score</th>\n",
              "      <th>conclusion_valence_positive_count</th>\n",
              "      <th>conclusion_valence_negative_count</th>\n",
              "      <th>conclusion_joy</th>\n",
              "      <th>conclusion_anger</th>\n",
              "      <th>conclusion_sadness</th>\n",
              "      <th>conclusion_fear</th>\n",
              "      <th>conclusion_disgust</th>\n",
              "      <th>conclusion_valence</th>\n",
              "      <th>conclusion_arousal</th>\n",
              "      <th>conclusion_CATEGORY_HAP</th>\n",
              "      <th>conclusion_CATEGORY_FEA</th>\n",
              "      <th>conclusion_CATEGORY_SAD</th>\n",
              "      <th>conclusion_CATEGORY_ANG</th>\n",
              "      <th>conclusion_CATEGORY_DIS</th>\n",
              "      <th>premise_valence_score</th>\n",
              "      <th>premise_valence_positive_count</th>\n",
              "      <th>premise_valence_negative_count</th>\n",
              "      <th>premise_joy</th>\n",
              "      <th>premise_anger</th>\n",
              "      <th>premise_sadness</th>\n",
              "      <th>premise_fear</th>\n",
              "      <th>premise_disgust</th>\n",
              "      <th>premise_valence</th>\n",
              "      <th>premise_arousal</th>\n",
              "      <th>premise_CATEGORY_ANG</th>\n",
              "      <th>premise_CATEGORY_HAP</th>\n",
              "      <th>premise_CATEGORY_FEA</th>\n",
              "      <th>premise_CATEGORY_SAD</th>\n",
              "      <th>premise_CATEGORY_DIS</th>\n",
              "      <th>full_argument_valence_score</th>\n",
              "      <th>full_argument_valence_positive_count</th>\n",
              "      <th>full_argument_valence_negative_count</th>\n",
              "      <th>full_argument_joy</th>\n",
              "      <th>full_argument_anger</th>\n",
              "      <th>full_argument_sadness</th>\n",
              "      <th>full_argument_fear</th>\n",
              "      <th>full_argument_disgust</th>\n",
              "      <th>full_argument_valence</th>\n",
              "      <th>full_argument_arousal</th>\n",
              "      <th>full_argument_CATEGORY_HAP</th>\n",
              "      <th>full_argument_CATEGORY_ANG</th>\n",
              "      <th>full_argument_CATEGORY_FEA</th>\n",
              "      <th>full_argument_CATEGORY_SAD</th>\n",
              "      <th>full_argument_CATEGORY_DIS</th>\n",
              "    </tr>\n",
              "  </thead>\n",
              "  <tbody>\n",
              "    <tr>\n",
              "      <th>26</th>\n",
              "      <td>2020-05-06 20:34:00</td>\n",
              "      <td>anger</td>\n",
              "      <td>16.129032</td>\n",
              "      <td>20:34:00</td>\n",
              "      <td>1.0</td>\n",
              "      <td>0.267857</td>\n",
              "      <td>0.333333</td>\n",
              "      <td>1.333333</td>\n",
              "      <td>0.252333</td>\n",
              "      <td>0.1</td>\n",
              "      <td>0.199</td>\n",
              "      <td>0.0</td>\n",
              "      <td>0.075667</td>\n",
              "      <td>0.472</td>\n",
              "      <td>0.557333</td>\n",
              "      <td>0.0</td>\n",
              "      <td>0.0</td>\n",
              "      <td>0.333333</td>\n",
              "      <td>0.333333</td>\n",
              "      <td>0.0</td>\n",
              "      <td>0.275</td>\n",
              "      <td>1.0</td>\n",
              "      <td>0.333333</td>\n",
              "      <td>0.0</td>\n",
              "      <td>0.0</td>\n",
              "      <td>0.597</td>\n",
              "      <td>0.0</td>\n",
              "      <td>0.0</td>\n",
              "      <td>0.29</td>\n",
              "      <td>0.524</td>\n",
              "      <td>0.0</td>\n",
              "      <td>0.0</td>\n",
              "      <td>0.0</td>\n",
              "      <td>0.333333</td>\n",
              "      <td>0.0</td>\n",
              "      <td>0.259259</td>\n",
              "      <td>1.333333</td>\n",
              "      <td>1.666667</td>\n",
              "      <td>0.126333</td>\n",
              "      <td>0.1</td>\n",
              "      <td>0.298667</td>\n",
              "      <td>0.0</td>\n",
              "      <td>0.075667</td>\n",
              "      <td>0.383667</td>\n",
              "      <td>0.538667</td>\n",
              "      <td>0.0</td>\n",
              "      <td>0.333333</td>\n",
              "      <td>0.0</td>\n",
              "      <td>0.666667</td>\n",
              "      <td>0.0</td>\n",
              "    </tr>\n",
              "    <tr>\n",
              "      <th>27</th>\n",
              "      <td>2020-05-06 20:34:00</td>\n",
              "      <td>fear</td>\n",
              "      <td>32.258065</td>\n",
              "      <td>20:34:00</td>\n",
              "      <td>1.0</td>\n",
              "      <td>0.267857</td>\n",
              "      <td>0.333333</td>\n",
              "      <td>1.333333</td>\n",
              "      <td>0.252333</td>\n",
              "      <td>0.1</td>\n",
              "      <td>0.199</td>\n",
              "      <td>0.0</td>\n",
              "      <td>0.075667</td>\n",
              "      <td>0.472</td>\n",
              "      <td>0.557333</td>\n",
              "      <td>0.0</td>\n",
              "      <td>0.0</td>\n",
              "      <td>0.333333</td>\n",
              "      <td>0.333333</td>\n",
              "      <td>0.0</td>\n",
              "      <td>0.275</td>\n",
              "      <td>1.0</td>\n",
              "      <td>0.333333</td>\n",
              "      <td>0.0</td>\n",
              "      <td>0.0</td>\n",
              "      <td>0.597</td>\n",
              "      <td>0.0</td>\n",
              "      <td>0.0</td>\n",
              "      <td>0.29</td>\n",
              "      <td>0.524</td>\n",
              "      <td>0.0</td>\n",
              "      <td>0.0</td>\n",
              "      <td>0.0</td>\n",
              "      <td>0.333333</td>\n",
              "      <td>0.0</td>\n",
              "      <td>0.259259</td>\n",
              "      <td>1.333333</td>\n",
              "      <td>1.666667</td>\n",
              "      <td>0.126333</td>\n",
              "      <td>0.1</td>\n",
              "      <td>0.298667</td>\n",
              "      <td>0.0</td>\n",
              "      <td>0.075667</td>\n",
              "      <td>0.383667</td>\n",
              "      <td>0.538667</td>\n",
              "      <td>0.0</td>\n",
              "      <td>0.333333</td>\n",
              "      <td>0.0</td>\n",
              "      <td>0.666667</td>\n",
              "      <td>0.0</td>\n",
              "    </tr>\n",
              "    <tr>\n",
              "      <th>28</th>\n",
              "      <td>2020-05-06 20:34:00</td>\n",
              "      <td>joy</td>\n",
              "      <td>38.709677</td>\n",
              "      <td>20:34:00</td>\n",
              "      <td>1.0</td>\n",
              "      <td>0.267857</td>\n",
              "      <td>0.333333</td>\n",
              "      <td>1.333333</td>\n",
              "      <td>0.252333</td>\n",
              "      <td>0.1</td>\n",
              "      <td>0.199</td>\n",
              "      <td>0.0</td>\n",
              "      <td>0.075667</td>\n",
              "      <td>0.472</td>\n",
              "      <td>0.557333</td>\n",
              "      <td>0.0</td>\n",
              "      <td>0.0</td>\n",
              "      <td>0.333333</td>\n",
              "      <td>0.333333</td>\n",
              "      <td>0.0</td>\n",
              "      <td>0.275</td>\n",
              "      <td>1.0</td>\n",
              "      <td>0.333333</td>\n",
              "      <td>0.0</td>\n",
              "      <td>0.0</td>\n",
              "      <td>0.597</td>\n",
              "      <td>0.0</td>\n",
              "      <td>0.0</td>\n",
              "      <td>0.29</td>\n",
              "      <td>0.524</td>\n",
              "      <td>0.0</td>\n",
              "      <td>0.0</td>\n",
              "      <td>0.0</td>\n",
              "      <td>0.333333</td>\n",
              "      <td>0.0</td>\n",
              "      <td>0.259259</td>\n",
              "      <td>1.333333</td>\n",
              "      <td>1.666667</td>\n",
              "      <td>0.126333</td>\n",
              "      <td>0.1</td>\n",
              "      <td>0.298667</td>\n",
              "      <td>0.0</td>\n",
              "      <td>0.075667</td>\n",
              "      <td>0.383667</td>\n",
              "      <td>0.538667</td>\n",
              "      <td>0.0</td>\n",
              "      <td>0.333333</td>\n",
              "      <td>0.0</td>\n",
              "      <td>0.666667</td>\n",
              "      <td>0.0</td>\n",
              "    </tr>\n",
              "  </tbody>\n",
              "</table>\n",
              "</div>\n",
              "      <button class=\"colab-df-convert\" onclick=\"convertToInteractive('df-e88ee2da-6703-44c0-89d1-3a36aa8be5f5')\"\n",
              "              title=\"Convert this dataframe to an interactive table.\"\n",
              "              style=\"display:none;\">\n",
              "        \n",
              "  <svg xmlns=\"http://www.w3.org/2000/svg\" height=\"24px\"viewBox=\"0 0 24 24\"\n",
              "       width=\"24px\">\n",
              "    <path d=\"M0 0h24v24H0V0z\" fill=\"none\"/>\n",
              "    <path d=\"M18.56 5.44l.94 2.06.94-2.06 2.06-.94-2.06-.94-.94-2.06-.94 2.06-2.06.94zm-11 1L8.5 8.5l.94-2.06 2.06-.94-2.06-.94L8.5 2.5l-.94 2.06-2.06.94zm10 10l.94 2.06.94-2.06 2.06-.94-2.06-.94-.94-2.06-.94 2.06-2.06.94z\"/><path d=\"M17.41 7.96l-1.37-1.37c-.4-.4-.92-.59-1.43-.59-.52 0-1.04.2-1.43.59L10.3 9.45l-7.72 7.72c-.78.78-.78 2.05 0 2.83L4 21.41c.39.39.9.59 1.41.59.51 0 1.02-.2 1.41-.59l7.78-7.78 2.81-2.81c.8-.78.8-2.07 0-2.86zM5.41 20L4 18.59l7.72-7.72 1.47 1.35L5.41 20z\"/>\n",
              "  </svg>\n",
              "      </button>\n",
              "      \n",
              "  <style>\n",
              "    .colab-df-container {\n",
              "      display:flex;\n",
              "      flex-wrap:wrap;\n",
              "      gap: 12px;\n",
              "    }\n",
              "\n",
              "    .colab-df-convert {\n",
              "      background-color: #E8F0FE;\n",
              "      border: none;\n",
              "      border-radius: 50%;\n",
              "      cursor: pointer;\n",
              "      display: none;\n",
              "      fill: #1967D2;\n",
              "      height: 32px;\n",
              "      padding: 0 0 0 0;\n",
              "      width: 32px;\n",
              "    }\n",
              "\n",
              "    .colab-df-convert:hover {\n",
              "      background-color: #E2EBFA;\n",
              "      box-shadow: 0px 1px 2px rgba(60, 64, 67, 0.3), 0px 1px 3px 1px rgba(60, 64, 67, 0.15);\n",
              "      fill: #174EA6;\n",
              "    }\n",
              "\n",
              "    [theme=dark] .colab-df-convert {\n",
              "      background-color: #3B4455;\n",
              "      fill: #D2E3FC;\n",
              "    }\n",
              "\n",
              "    [theme=dark] .colab-df-convert:hover {\n",
              "      background-color: #434B5C;\n",
              "      box-shadow: 0px 1px 3px 1px rgba(0, 0, 0, 0.15);\n",
              "      filter: drop-shadow(0px 1px 2px rgba(0, 0, 0, 0.3));\n",
              "      fill: #FFFFFF;\n",
              "    }\n",
              "  </style>\n",
              "\n",
              "      <script>\n",
              "        const buttonEl =\n",
              "          document.querySelector('#df-e88ee2da-6703-44c0-89d1-3a36aa8be5f5 button.colab-df-convert');\n",
              "        buttonEl.style.display =\n",
              "          google.colab.kernel.accessAllowed ? 'block' : 'none';\n",
              "\n",
              "        async function convertToInteractive(key) {\n",
              "          const element = document.querySelector('#df-e88ee2da-6703-44c0-89d1-3a36aa8be5f5');\n",
              "          const dataTable =\n",
              "            await google.colab.kernel.invokeFunction('convertToInteractive',\n",
              "                                                     [key], {});\n",
              "          if (!dataTable) return;\n",
              "\n",
              "          const docLinkHtml = 'Like what you see? Visit the ' +\n",
              "            '<a target=\"_blank\" href=https://colab.research.google.com/notebooks/data_table.ipynb>data table notebook</a>'\n",
              "            + ' to learn more about interactive tables.';\n",
              "          element.innerHTML = '';\n",
              "          dataTable['output_type'] = 'display_data';\n",
              "          await google.colab.output.renderOutput(dataTable, element);\n",
              "          const docLink = document.createElement('div');\n",
              "          docLink.innerHTML = docLinkHtml;\n",
              "          element.appendChild(docLink);\n",
              "        }\n",
              "      </script>\n",
              "    </div>\n",
              "  </div>\n",
              "  "
            ]
          },
          "metadata": {},
          "execution_count": 76
        }
      ]
    },
    {
      "cell_type": "code",
      "source": [
        "df_corr_pl_processed = df_corr_pl_processed.reset_index(drop=True)"
      ],
      "metadata": {
        "id": "CM_eFR20X9jH"
      },
      "execution_count": null,
      "outputs": []
    },
    {
      "cell_type": "code",
      "source": [
        "# simple filter forcols with numerical values\n",
        "df_corr_pl_processed.describe().columns"
      ],
      "metadata": {
        "id": "FZAah8OkZnrW"
      },
      "execution_count": null,
      "outputs": []
    },
    {
      "cell_type": "markdown",
      "source": [
        "##correlation"
      ],
      "metadata": {
        "id": "4bRVxMsFlKaj"
      }
    },
    {
      "cell_type": "code",
      "source": [
        "eliciting_emo = df_corr_pl_processed.describe().columns"
      ],
      "metadata": {
        "id": "UMCn2sV0lKaj"
      },
      "execution_count": null,
      "outputs": []
    },
    {
      "cell_type": "code",
      "source": [
        "# optional:  apply logarithmic transformation to the calculated proportions of emotions\n",
        "\n",
        "df_corr_pl_processed['mean'] = df_corr_pl_processed['mean'].apply(lambda x: np.log(x+1))\n",
        "\n",
        "for c in eliciting_emo:\n",
        "  df_corr_pl_processed[c] = df_corr_pl_processed[c].apply(lambda x: np.log((x+1))"
      ],
      "metadata": {
        "id": "RqQnxaihZ73U"
      },
      "execution_count": null,
      "outputs": []
    },
    {
      "cell_type": "code",
      "source": [
        "emo = df_corr_pl_processed.emotion.unique()\n",
        "emo"
      ],
      "metadata": {
        "colab": {
          "base_uri": "https://localhost:8080/"
        },
        "id": "3zyQDUAqZ_uE",
        "outputId": "360b3a5c-3c56-4555-d1e1-c48d00786516"
      },
      "execution_count": null,
      "outputs": [
        {
          "output_type": "execute_result",
          "data": {
            "text/plain": [
              "array(['anger', 'fear', 'joy', 'love', 'sadness', 'surprise'],\n",
              "      dtype=object)"
            ]
          },
          "metadata": {},
          "execution_count": 79
        }
      ]
    },
    {
      "cell_type": "code",
      "source": [
        "df_corr_pl_processed[(df_corr_pl_processed[['full_argument_valence_positive_count', \n",
        "                                            'full_argument_valence_negative_count', \n",
        "                                            'full_argument_valence']].any(axis=1))].shape"
      ],
      "metadata": {
        "colab": {
          "base_uri": "https://localhost:8080/"
        },
        "id": "zFx8K5tlbOWX",
        "outputId": "302fb7ef-dbd6-4474-f1b3-b2283ab37193"
      },
      "execution_count": null,
      "outputs": [
        {
          "output_type": "execute_result",
          "data": {
            "text/plain": [
              "(321, 50)"
            ]
          },
          "metadata": {},
          "execution_count": 81
        }
      ]
    },
    {
      "cell_type": "code",
      "source": [
        "df_corr_pl_processed.shape"
      ],
      "metadata": {
        "colab": {
          "base_uri": "https://localhost:8080/"
        },
        "id": "aKkjQiu4bRKF",
        "outputId": "182bf8f7-656d-47a6-cc80-67302d022a47"
      },
      "execution_count": null,
      "outputs": [
        {
          "output_type": "execute_result",
          "data": {
            "text/plain": [
              "(395, 50)"
            ]
          },
          "metadata": {},
          "execution_count": 82
        }
      ]
    },
    {
      "cell_type": "markdown",
      "source": [
        "###calculate coefficients"
      ],
      "metadata": {
        "id": "Xrs2S50iwfZG"
      }
    },
    {
      "cell_type": "code",
      "source": [
        "from scipy.stats import pearsonr, spearmanr"
      ],
      "metadata": {
        "id": "kC-OA_quaLpl"
      },
      "execution_count": null,
      "outputs": []
    },
    {
      "cell_type": "code",
      "source": [
        "one = []\n",
        "second = []\n",
        "corcof = []\n",
        "pvals = []\n",
        "\n",
        "for e_exp in emo:\n",
        "  df_cor = df_corr_pl_processed[ (df_corr_pl_processed.emotion == e_exp) & \\\n",
        "                                (df_corr_pl_processed[['full_argument_valence_positive_count', \n",
        "                                                       'full_argument_valence_negative_count', \n",
        "                                                       'full_argument_valence']].any(axis=1)) ]\n",
        "  for e_el in eliciting_emo:\n",
        "    sample_exp = df_cor['mean'].values\n",
        "    sample_elicit = df_cor[e_el].values\n",
        "    print(f\"Exp: {e_exp} - El: {e_el} \")\n",
        "    coef, pval = pearsonr(sample_exp, sample_elicit)\n",
        "    coef_spear, pval_spear = spearmanr(sample_exp, sample_elicit)\n",
        "    print('Spearman ', round(coef_spear, 2), round(pval_spear, 3))\n",
        "    print('Pearson ', round(coef, 2), round(pval, 3))\n",
        "    if pval <= 0.05:\n",
        "      print(\"\\nH0 could be rejected !! \\n\")\n",
        "    print(\"\\n\")\n",
        "    one.append(e_exp)\n",
        "    second.append(e_el)\n",
        "    corcof.append(round(coef, 3))\n",
        "    pvals.append(round(pval, 3))\n"
      ],
      "metadata": {
        "id": "F3ihKKuWaQCU"
      },
      "execution_count": null,
      "outputs": []
    },
    {
      "cell_type": "code",
      "source": [
        "df_res = pd.DataFrame({\"first_emotion\": second, \n",
        "                       \"second_emotion\": one, \n",
        "                       \"cor\": corcof, \n",
        "                       \"p_value\":pvals})\n",
        "df_res.head(2)"
      ],
      "metadata": {
        "id": "-C3MCFXAdF4m"
      },
      "execution_count": null,
      "outputs": []
    },
    {
      "cell_type": "code",
      "source": [
        "df_res[df_res.p_value <= 0.05].sort_values(by = 'first_emotion') "
      ],
      "metadata": {
        "id": "uZrJjppBNsam"
      },
      "execution_count": null,
      "outputs": []
    },
    {
      "cell_type": "markdown",
      "source": [
        "###plots"
      ],
      "metadata": {
        "id": "jfnhdtW9wmYj"
      }
    },
    {
      "cell_type": "code",
      "source": [
        "df_plot = df_res[df_res.p_value <= 0.05].sort_values(by='first_emotion').reset_index(drop=True)"
      ],
      "metadata": {
        "id": "mh20ncfswzwM"
      },
      "execution_count": null,
      "outputs": []
    },
    {
      "cell_type": "markdown",
      "source": [
        "###lineplot"
      ],
      "metadata": {
        "id": "gvhPzRzXTvoa"
      }
    },
    {
      "cell_type": "markdown",
      "source": [
        "####rolling average"
      ],
      "metadata": {
        "id": "-0dzs3rrhjfc"
      }
    },
    {
      "cell_type": "code",
      "source": [
        "ids = [2,3,4,6,7,8,9,10] # select emotions"
      ],
      "metadata": {
        "id": "7P1LkrejFMOu"
      },
      "execution_count": null,
      "outputs": []
    },
    {
      "cell_type": "code",
      "source": [
        "# https://pandas.pydata.org/docs/reference/api/pandas.DataFrame.rolling.html\n",
        "# Moving average (with window = 3)\n",
        "\n",
        "for i in ids:\n",
        "  expr = df_plot.loc[i, 'second_emotion']\n",
        "  elicit = df_plot.loc[i, 'first_emotion']\n",
        "\n",
        "  data = df_corr_pl_processed[ (df_corr_pl_processed.emotion == expr) &\\\n",
        "                            (df_corr_pl_processed[['full_argument_valence_positive_count', 'full_argument_valence_negative_count', 'full_argument_valence']].any(axis=1))]\n",
        "\n",
        "  data['exp'] = (data['mean'] / data['mean'].mean())\n",
        "  data['eliciting'] = (data[elicit] / data[elicit].mean())\n",
        "  data2 = data[['Time', 'exp', 'eliciting']].rolling(3).mean().iloc[2:]\n",
        "\n",
        "  print('EX:', expr, \" EL:\", elicit, \"coeff: \", df_plot.loc[i, 'cor'])\n",
        "  plt.figure(figsize=(14, 7))\n",
        "  plt.plot(data.loc[data2.index, 'Time'], data2['exp'], color='red', label='expressed')\n",
        "  plt.plot(data.loc[data2.index, 'Time'], data2['eliciting'], color='black', label = 'eliciting')\n",
        "  plt.xticks(rotation=90, fontsize=10)\n",
        "  plt.legend(loc='best')\n",
        "  plt.show()\n",
        "  print('\\n\\n')"
      ],
      "metadata": {
        "id": "5X5I-nq_GyyM"
      },
      "execution_count": null,
      "outputs": []
    },
    {
      "cell_type": "markdown",
      "source": [
        "###barplot"
      ],
      "metadata": {
        "id": "a1vREmD5TsEi"
      }
    },
    {
      "cell_type": "markdown",
      "source": [
        "####normal "
      ],
      "metadata": {
        "id": "1wLuDOp5hsHQ"
      }
    },
    {
      "cell_type": "code",
      "source": [
        "for i in ids:\n",
        "  expr = df_plot.loc[i, 'second_emotion']\n",
        "  elicit = df_plot.loc[i, 'first_emotion']\n",
        "\n",
        "  data = df_corr_pl_processed[ (df_corr_pl_processed.emotion == expr) &\\\n",
        "                            (df_corr_pl_processed[['full_argument_valence']].any(axis=1))]\n",
        "\n",
        "  data['exp'] = (data['mean'] / data['mean'].mean())\n",
        "  data['eliciting'] = (data[elicit] / data[elicit].mean())\n",
        "\n",
        "  print('EX:', expr, \" EL:\", elicit, \"coeff: \", df_plot.loc[i, 'cor'])\n",
        "  plt.figure(figsize=(12, 6))\n",
        "  plt.bar(data['Time'], data['exp'], color='red', label='expressed', alpha=0.8)\n",
        "  plt.plot(data['Time'], data['eliciting'], color='black', label = 'eliciting', linewidth=2.5)\n",
        "  plt.xticks(rotation=90, fontsize=10)\n",
        "  plt.legend(loc='best')\n",
        "  #plt.ylabel('')\n",
        "  plt.show()\n",
        "\n",
        "  print('\\n\\n')"
      ],
      "metadata": {
        "id": "w1FX9zXT2n90"
      },
      "execution_count": null,
      "outputs": []
    },
    {
      "cell_type": "markdown",
      "source": [
        "####rolling average"
      ],
      "metadata": {
        "id": "uItRZnsnhv6o"
      }
    },
    {
      "cell_type": "code",
      "source": [
        "# barplot with rolling average (3)\n",
        "\n",
        "for i in ids:\n",
        "  expr = df_plot.loc[i, 'second_emotion']\n",
        "  elicit = df_plot.loc[i, 'first_emotion']\n",
        "\n",
        "  data = df_corr_pl_processed[ (df_corr_pl_processed.emotion == expr) &\\\n",
        "                            (df_corr_pl_processed[['full_argument_valence']].any(axis=1))]\n",
        "\n",
        "  data['exp'] = (data['mean'] / data['mean'].mean())\n",
        "  data['eliciting'] = (data[elicit] / data[elicit].mean())\n",
        "  data2 = data[['Time', 'exp', 'eliciting']].rolling(3).mean().iloc[2:]\n",
        "\n",
        "  print('EX:', expr, \" EL:\", elicit, \"coeff: \", df_plot.loc[i, 'cor'])\n",
        "\n",
        "  plt.figure(figsize=(12, 6))\n",
        "  plt.bar(data.loc[data2.index, 'Time'], data2['exp'], color='red', label='expressed', alpha=0.8)\n",
        "  plt.plot(data.loc[data2.index, 'Time'], data2['eliciting'], color='black', label = 'eliciting', linewidth=2.5)\n",
        "  plt.xticks(rotation=90, fontsize=10)\n",
        "  plt.legend(loc='best')\n",
        "  plt.show()\n",
        "  print('\\n\\n')"
      ],
      "metadata": {
        "id": "ZTbg43tuINER"
      },
      "execution_count": null,
      "outputs": []
    },
    {
      "cell_type": "code",
      "source": [],
      "metadata": {
        "id": "crwAnb0w0EmV"
      },
      "execution_count": null,
      "outputs": []
    }
  ]
}
