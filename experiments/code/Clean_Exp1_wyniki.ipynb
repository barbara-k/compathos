{
  "nbformat": 4,
  "nbformat_minor": 0,
  "metadata": {
    "colab": {
      "provenance": [],
      "collapsed_sections": [
        "Ur8Vuu5cd63C"
      ],
      "toc_visible": true
    },
    "kernelspec": {
      "name": "python3",
      "display_name": "Python 3"
    },
    "language_info": {
      "name": "python"
    }
  },
  "cells": [
    {
      "cell_type": "markdown",
      "metadata": {
        "id": "Uvdp9GrQHHCo"
      },
      "source": [
        "#imp"
      ]
    },
    {
      "cell_type": "code",
      "execution_count": null,
      "metadata": {
        "id": "TodXuiKqZr3G"
      },
      "outputs": [],
      "source": [
        "import pandas as pd\n",
        "pd.set_option(\"max_colwidth\", 160)\n",
        "pd.set_option(\"display.max_columns\", None)\n",
        "\n",
        "import numpy as np\n",
        "from sklearn import metrics\n",
        "\n",
        "import warnings\n",
        "warnings.filterwarnings('ignore')\n",
        "\n",
        "import matplotlib.pyplot as plt\n",
        "import seaborn as sns\n",
        "sns.set_theme(style=\"whitegrid\")\n",
        "plt.style.use(\"seaborn-talk\")\n",
        "\n",
        "\n",
        "\n",
        "def load_data(file_path, indx = True, indx_col = 0):\n",
        "  '''Parameters:\n",
        "  file_path: path to your excel or csv file with data,\n",
        "\n",
        "  indx: boolean - whether there is index column in your file (usually it is the first column) --> *by default it is set to True\n",
        "\n",
        "  indx_col: int - if your file has an index column, specify column number here --> *by default it is equal to 0 (first column)\n",
        "  '''\n",
        "  if indx == True and file_path.endswith(\".xlsx\"):\n",
        "    data = pd.read_excel(file_path, index_col = indx_col)\n",
        "  elif indx == False and file_path.endswith(\".xlsx\"):\n",
        "    data = pd.read_excel(file_path)\n",
        "\n",
        "  elif indx == True and file_path.endswith(\".csv\"):\n",
        "    data = pd.read_csv(file_path, index_col = indx_col)\n",
        "  elif indx == False and file_path.endswith(\".csv\"):\n",
        "    data = pd.read_csv(file_path)\n",
        "  return data\n"
      ]
    },
    {
      "cell_type": "code",
      "source": [
        "from statsmodels.stats.multicomp import pairwise_tukeyhsd"
      ],
      "metadata": {
        "id": "0E9-yPmgJSbi"
      },
      "execution_count": null,
      "outputs": []
    },
    {
      "cell_type": "code",
      "source": [
        "import statsmodels.api as sm\n",
        "from statsmodels.formula.api import ols\n",
        "from scipy.stats import kruskal"
      ],
      "metadata": {
        "id": "SFMeOwwzaCFw"
      },
      "execution_count": null,
      "outputs": []
    },
    {
      "cell_type": "code",
      "execution_count": null,
      "metadata": {
        "id": "LBpHe-Fq8hjJ"
      },
      "outputs": [],
      "source": [
        "from statistics import mean, stdev\n",
        "from math import sqrt\n",
        "from sklearn import metrics\n",
        "\n",
        "def cohend(d1, d2):\n",
        " # calculate the size of samples\n",
        " n1, n2 = len(d1), len(d2)\n",
        " # calculate the variance of the samples\n",
        " s1, s2 = np.var(d1, ddof=1), np.var(d2, ddof=1)\n",
        " # calculate the pooled standard deviation\n",
        " s = np.sqrt(((n1 - 1) * s1 + (n2 - 1) * s2) / (n1 + n2 - 2))\n",
        " # calculate the means of the samples\n",
        " u1, u2 = np.mean(d1), np.mean(d2)\n",
        " # calculate the effect size\n",
        " return (u1 - u2) / s"
      ]
    },
    {
      "cell_type": "code",
      "source": [
        "#!pip install scipy --upgrade\n",
        "from scipy.stats import ttest_rel, ttest_ind, mannwhitneyu, wilcoxon"
      ],
      "metadata": {
        "id": "2fpbctYBm8_3"
      },
      "execution_count": null,
      "outputs": []
    },
    {
      "cell_type": "markdown",
      "metadata": {
        "id": "9MMgUe1mtTHE"
      },
      "source": [
        "#load data"
      ]
    },
    {
      "cell_type": "code",
      "source": [
        "df = load_data('/content/res1_up.csv', indx=False) # exp1_processed_data = res1_up\n",
        "df.shape"
      ],
      "metadata": {
        "colab": {
          "base_uri": "https://localhost:8080/"
        },
        "id": "Y5wiaQO7kmBx",
        "outputId": "fd7fa2cb-8602-4a39-fa83-e8d098f67b21"
      },
      "execution_count": null,
      "outputs": [
        {
          "output_type": "execute_result",
          "data": {
            "text/plain": [
              "(395, 20)"
            ]
          },
          "metadata": {},
          "execution_count": 6
        }
      ]
    },
    {
      "cell_type": "code",
      "source": [
        "df.head()"
      ],
      "metadata": {
        "id": "VAcVBdpEr-oR",
        "colab": {
          "base_uri": "https://localhost:8080/",
          "height": 270
        },
        "outputId": "ab1f688b-3ba8-4621-9b05-8d534191815e"
      },
      "execution_count": null,
      "outputs": [
        {
          "output_type": "execute_result",
          "data": {
            "text/plain": [
              "     kod  komunikat  bon  płeć  wiek  tryb  rok  waznosc  Nastroj1  Nastroj2  \\\n",
              "0  OER01          0    1     1    19     1    1        4         3         3   \n",
              "1  EMJ05          0    1     1    20     1    1        1         3         3   \n",
              "2  MAP06          0    1     1    19     1    1        1         3         2   \n",
              "3  AGK04          0    1     1    20     1    1        3         4         4   \n",
              "4  PJZ05          0    1     1    19     1    1        3         4         4   \n",
              "\n",
              "   indeks_przychylności  wynik_ogólny  nastroj_diff  Nastroj1_mapped  \\\n",
              "0                   4.0        4.0000             0                1   \n",
              "1                   4.0        2.3750             0                1   \n",
              "2                   3.5        4.0625            -1                1   \n",
              "3                   4.0        3.6250             0                2   \n",
              "4                   4.0        3.8750             0                2   \n",
              "\n",
              "   Nastroj1_komunikat_congruence  Nastroj1_3cat  Nastroj2_3cat  waznosc_3cat  \n",
              "0                              0            0.0            0.0           1.0  \n",
              "1                              0            0.0            0.0           2.0  \n",
              "2                              0            0.0            2.0           2.0  \n",
              "3                              1            1.0            1.0           0.0  \n",
              "4                              1            1.0            1.0           0.0  "
            ],
            "text/html": [
              "\n",
              "  <div id=\"df-bb4e6a18-0ab7-49fa-a6e3-4aaeace165c2\">\n",
              "    <div class=\"colab-df-container\">\n",
              "      <div>\n",
              "<style scoped>\n",
              "    .dataframe tbody tr th:only-of-type {\n",
              "        vertical-align: middle;\n",
              "    }\n",
              "\n",
              "    .dataframe tbody tr th {\n",
              "        vertical-align: top;\n",
              "    }\n",
              "\n",
              "    .dataframe thead th {\n",
              "        text-align: right;\n",
              "    }\n",
              "</style>\n",
              "<table border=\"1\" class=\"dataframe\">\n",
              "  <thead>\n",
              "    <tr style=\"text-align: right;\">\n",
              "      <th></th>\n",
              "      <th>kod</th>\n",
              "      <th>komunikat</th>\n",
              "      <th>bon</th>\n",
              "      <th>płeć</th>\n",
              "      <th>wiek</th>\n",
              "      <th>tryb</th>\n",
              "      <th>rok</th>\n",
              "      <th>waznosc</th>\n",
              "      <th>Nastroj1</th>\n",
              "      <th>Nastroj2</th>\n",
              "      <th>indeks_przychylności</th>\n",
              "      <th>wynik_ogólny</th>\n",
              "      <th>nastroj_diff</th>\n",
              "      <th>Nastroj1_mapped</th>\n",
              "      <th>Nastroj1_komunikat_congruence</th>\n",
              "      <th>Nastroj1_3cat</th>\n",
              "      <th>Nastroj2_3cat</th>\n",
              "      <th>waznosc_3cat</th>\n",
              "    </tr>\n",
              "  </thead>\n",
              "  <tbody>\n",
              "    <tr>\n",
              "      <th>0</th>\n",
              "      <td>OER01</td>\n",
              "      <td>0</td>\n",
              "      <td>1</td>\n",
              "      <td>1</td>\n",
              "      <td>19</td>\n",
              "      <td>1</td>\n",
              "      <td>1</td>\n",
              "      <td>4</td>\n",
              "      <td>3</td>\n",
              "      <td>3</td>\n",
              "      <td>4.0</td>\n",
              "      <td>4.0000</td>\n",
              "      <td>0</td>\n",
              "      <td>1</td>\n",
              "      <td>0</td>\n",
              "      <td>0.0</td>\n",
              "      <td>0.0</td>\n",
              "      <td>1.0</td>\n",
              "    </tr>\n",
              "    <tr>\n",
              "      <th>1</th>\n",
              "      <td>EMJ05</td>\n",
              "      <td>0</td>\n",
              "      <td>1</td>\n",
              "      <td>1</td>\n",
              "      <td>20</td>\n",
              "      <td>1</td>\n",
              "      <td>1</td>\n",
              "      <td>1</td>\n",
              "      <td>3</td>\n",
              "      <td>3</td>\n",
              "      <td>4.0</td>\n",
              "      <td>2.3750</td>\n",
              "      <td>0</td>\n",
              "      <td>1</td>\n",
              "      <td>0</td>\n",
              "      <td>0.0</td>\n",
              "      <td>0.0</td>\n",
              "      <td>2.0</td>\n",
              "    </tr>\n",
              "    <tr>\n",
              "      <th>2</th>\n",
              "      <td>MAP06</td>\n",
              "      <td>0</td>\n",
              "      <td>1</td>\n",
              "      <td>1</td>\n",
              "      <td>19</td>\n",
              "      <td>1</td>\n",
              "      <td>1</td>\n",
              "      <td>1</td>\n",
              "      <td>3</td>\n",
              "      <td>2</td>\n",
              "      <td>3.5</td>\n",
              "      <td>4.0625</td>\n",
              "      <td>-1</td>\n",
              "      <td>1</td>\n",
              "      <td>0</td>\n",
              "      <td>0.0</td>\n",
              "      <td>2.0</td>\n",
              "      <td>2.0</td>\n",
              "    </tr>\n",
              "    <tr>\n",
              "      <th>3</th>\n",
              "      <td>AGK04</td>\n",
              "      <td>0</td>\n",
              "      <td>1</td>\n",
              "      <td>1</td>\n",
              "      <td>20</td>\n",
              "      <td>1</td>\n",
              "      <td>1</td>\n",
              "      <td>3</td>\n",
              "      <td>4</td>\n",
              "      <td>4</td>\n",
              "      <td>4.0</td>\n",
              "      <td>3.6250</td>\n",
              "      <td>0</td>\n",
              "      <td>2</td>\n",
              "      <td>1</td>\n",
              "      <td>1.0</td>\n",
              "      <td>1.0</td>\n",
              "      <td>0.0</td>\n",
              "    </tr>\n",
              "    <tr>\n",
              "      <th>4</th>\n",
              "      <td>PJZ05</td>\n",
              "      <td>0</td>\n",
              "      <td>1</td>\n",
              "      <td>1</td>\n",
              "      <td>19</td>\n",
              "      <td>1</td>\n",
              "      <td>1</td>\n",
              "      <td>3</td>\n",
              "      <td>4</td>\n",
              "      <td>4</td>\n",
              "      <td>4.0</td>\n",
              "      <td>3.8750</td>\n",
              "      <td>0</td>\n",
              "      <td>2</td>\n",
              "      <td>1</td>\n",
              "      <td>1.0</td>\n",
              "      <td>1.0</td>\n",
              "      <td>0.0</td>\n",
              "    </tr>\n",
              "  </tbody>\n",
              "</table>\n",
              "</div>\n",
              "      <button class=\"colab-df-convert\" onclick=\"convertToInteractive('df-bb4e6a18-0ab7-49fa-a6e3-4aaeace165c2')\"\n",
              "              title=\"Convert this dataframe to an interactive table.\"\n",
              "              style=\"display:none;\">\n",
              "        \n",
              "  <svg xmlns=\"http://www.w3.org/2000/svg\" height=\"24px\"viewBox=\"0 0 24 24\"\n",
              "       width=\"24px\">\n",
              "    <path d=\"M0 0h24v24H0V0z\" fill=\"none\"/>\n",
              "    <path d=\"M18.56 5.44l.94 2.06.94-2.06 2.06-.94-2.06-.94-.94-2.06-.94 2.06-2.06.94zm-11 1L8.5 8.5l.94-2.06 2.06-.94-2.06-.94L8.5 2.5l-.94 2.06-2.06.94zm10 10l.94 2.06.94-2.06 2.06-.94-2.06-.94-.94-2.06-.94 2.06-2.06.94z\"/><path d=\"M17.41 7.96l-1.37-1.37c-.4-.4-.92-.59-1.43-.59-.52 0-1.04.2-1.43.59L10.3 9.45l-7.72 7.72c-.78.78-.78 2.05 0 2.83L4 21.41c.39.39.9.59 1.41.59.51 0 1.02-.2 1.41-.59l7.78-7.78 2.81-2.81c.8-.78.8-2.07 0-2.86zM5.41 20L4 18.59l7.72-7.72 1.47 1.35L5.41 20z\"/>\n",
              "  </svg>\n",
              "      </button>\n",
              "      \n",
              "  <style>\n",
              "    .colab-df-container {\n",
              "      display:flex;\n",
              "      flex-wrap:wrap;\n",
              "      gap: 12px;\n",
              "    }\n",
              "\n",
              "    .colab-df-convert {\n",
              "      background-color: #E8F0FE;\n",
              "      border: none;\n",
              "      border-radius: 50%;\n",
              "      cursor: pointer;\n",
              "      display: none;\n",
              "      fill: #1967D2;\n",
              "      height: 32px;\n",
              "      padding: 0 0 0 0;\n",
              "      width: 32px;\n",
              "    }\n",
              "\n",
              "    .colab-df-convert:hover {\n",
              "      background-color: #E2EBFA;\n",
              "      box-shadow: 0px 1px 2px rgba(60, 64, 67, 0.3), 0px 1px 3px 1px rgba(60, 64, 67, 0.15);\n",
              "      fill: #174EA6;\n",
              "    }\n",
              "\n",
              "    [theme=dark] .colab-df-convert {\n",
              "      background-color: #3B4455;\n",
              "      fill: #D2E3FC;\n",
              "    }\n",
              "\n",
              "    [theme=dark] .colab-df-convert:hover {\n",
              "      background-color: #434B5C;\n",
              "      box-shadow: 0px 1px 3px 1px rgba(0, 0, 0, 0.15);\n",
              "      filter: drop-shadow(0px 1px 2px rgba(0, 0, 0, 0.3));\n",
              "      fill: #FFFFFF;\n",
              "    }\n",
              "  </style>\n",
              "\n",
              "      <script>\n",
              "        const buttonEl =\n",
              "          document.querySelector('#df-bb4e6a18-0ab7-49fa-a6e3-4aaeace165c2 button.colab-df-convert');\n",
              "        buttonEl.style.display =\n",
              "          google.colab.kernel.accessAllowed ? 'block' : 'none';\n",
              "\n",
              "        async function convertToInteractive(key) {\n",
              "          const element = document.querySelector('#df-bb4e6a18-0ab7-49fa-a6e3-4aaeace165c2');\n",
              "          const dataTable =\n",
              "            await google.colab.kernel.invokeFunction('convertToInteractive',\n",
              "                                                     [key], {});\n",
              "          if (!dataTable) return;\n",
              "\n",
              "          const docLinkHtml = 'Like what you see? Visit the ' +\n",
              "            '<a target=\"_blank\" href=https://colab.research.google.com/notebooks/data_table.ipynb>data table notebook</a>'\n",
              "            + ' to learn more about interactive tables.';\n",
              "          element.innerHTML = '';\n",
              "          dataTable['output_type'] = 'display_data';\n",
              "          await google.colab.output.renderOutput(dataTable, element);\n",
              "          const docLink = document.createElement('div');\n",
              "          docLink.innerHTML = docLinkHtml;\n",
              "          element.appendChild(docLink);\n",
              "        }\n",
              "      </script>\n",
              "    </div>\n",
              "  </div>\n",
              "  "
            ]
          },
          "metadata": {},
          "execution_count": 16
        }
      ]
    },
    {
      "cell_type": "code",
      "source": [
        "df = df[['kod', 'komunikat', 'bon', 'płeć', 'wiek', 'tryb', 'rok', 'waznosc',\n",
        "       'Nastroj1', 'Nastroj2', 'indeks_przychylności', 'wynik_ogólny',\n",
        "       'nastroj_diff', 'Nastroj1_mapped',\n",
        "       'Nastroj1_komunikat_congruence', 'Nastroj1_3cat', 'Nastroj2_3cat', 'waznosc_3cat']]"
      ],
      "metadata": {
        "id": "nAA1UBfGeT0j"
      },
      "execution_count": null,
      "outputs": []
    },
    {
      "cell_type": "code",
      "source": [
        "df.to_csv('exp1_processed_data.csv', index=False)"
      ],
      "metadata": {
        "id": "gXpy-_Qjehvf"
      },
      "execution_count": null,
      "outputs": []
    },
    {
      "cell_type": "markdown",
      "source": [
        "##preprocessing"
      ],
      "metadata": {
        "id": "9hKo4NnJTMzr"
      }
    },
    {
      "cell_type": "code",
      "source": [
        "df = df.dropna(axis=1)"
      ],
      "metadata": {
        "id": "zTqcD3GAkZtB"
      },
      "execution_count": null,
      "outputs": []
    },
    {
      "cell_type": "code",
      "source": [
        "kods = ['KJA09', 'XX60', 'XX72', 'X204']"
      ],
      "metadata": {
        "id": "XafBxbTNtfml"
      },
      "execution_count": null,
      "outputs": []
    },
    {
      "cell_type": "code",
      "source": [
        "df = df[ ~(df['kod osoby'].isin(kods) ) ]\n",
        "df.shape"
      ],
      "metadata": {
        "colab": {
          "base_uri": "https://localhost:8080/"
        },
        "id": "1myf-MMltobA",
        "outputId": "7ea3630e-ef40-4414-bd5c-ddf6a135e440"
      },
      "execution_count": null,
      "outputs": [
        {
          "output_type": "execute_result",
          "data": {
            "text/plain": [
              "(395, 21)"
            ]
          },
          "metadata": {},
          "execution_count": 8
        }
      ]
    },
    {
      "cell_type": "code",
      "source": [
        "df.describe()"
      ],
      "metadata": {
        "colab": {
          "base_uri": "https://localhost:8080/",
          "height": 364
        },
        "id": "oZcMEl_ITgZ_",
        "outputId": "e6cea666-97cf-4cae-92e4-5f3252afdc89"
      },
      "execution_count": null,
      "outputs": [
        {
          "output_type": "execute_result",
          "data": {
            "text/plain": [
              "              bon        wiek  rokstudiów     waznosc    Nastroj1    Nastroj2  \\\n",
              "count  395.000000  395.000000  395.000000  395.000000  395.000000  395.000000   \n",
              "mean     0.496203   23.435443    2.481013    3.387342    3.063291    2.982278   \n",
              "std      0.500620    6.403343    1.501782    1.278221    0.996718    0.996028   \n",
              "min      0.000000   18.000000    1.000000    1.000000    1.000000    1.000000   \n",
              "25%      0.000000   20.000000    1.000000    2.000000    2.000000    2.000000   \n",
              "50%      0.000000   22.000000    1.000000    4.000000    3.000000    3.000000   \n",
              "75%      1.000000   24.000000    4.000000    4.000000    4.000000    4.000000   \n",
              "max      1.000000   99.000000    4.000000    5.000000    5.000000    5.000000   \n",
              "\n",
              "             PAS1        PAS2        PAS3        PAS4        PAS5        PAS6  \\\n",
              "count  395.000000  395.000000  395.000000  395.000000  395.000000  395.000000   \n",
              "mean     3.693671    3.427848    3.556962    2.716456    2.863291    3.078481   \n",
              "std      1.094442    1.263198    1.237597    1.117742    0.985450    1.267083   \n",
              "min      1.000000    1.000000    1.000000    1.000000    1.000000    1.000000   \n",
              "25%      3.000000    2.000000    3.000000    2.000000    2.000000    2.000000   \n",
              "50%      4.000000    4.000000    4.000000    3.000000    3.000000    3.000000   \n",
              "75%      5.000000    4.000000    5.000000    3.000000    3.000000    4.000000   \n",
              "max      5.000000    5.000000    5.000000    5.000000    5.000000    5.000000   \n",
              "\n",
              "             PAS7        PAS8        PAS9  indeks_przychylności  wynik_ogólny  \n",
              "count  395.000000  395.000000  395.000000            395.000000    395.000000  \n",
              "mean     2.691139    3.473418    3.293671              3.193671      3.277139  \n",
              "std      1.304346    1.018198    1.153162              1.209558      0.893248  \n",
              "min      1.000000    1.000000    1.000000              1.000000      1.120000  \n",
              "25%      2.000000    3.000000    2.000000              2.000000      2.620000  \n",
              "50%      2.000000    4.000000    3.000000              3.500000      3.380000  \n",
              "75%      4.000000    4.000000    4.000000              4.000000      4.000000  \n",
              "max      5.000000    5.000000    5.000000              5.000000      5.000000  "
            ],
            "text/html": [
              "\n",
              "  <div id=\"df-8978da58-f36b-4cb4-99b1-83df26ef30ec\">\n",
              "    <div class=\"colab-df-container\">\n",
              "      <div>\n",
              "<style scoped>\n",
              "    .dataframe tbody tr th:only-of-type {\n",
              "        vertical-align: middle;\n",
              "    }\n",
              "\n",
              "    .dataframe tbody tr th {\n",
              "        vertical-align: top;\n",
              "    }\n",
              "\n",
              "    .dataframe thead th {\n",
              "        text-align: right;\n",
              "    }\n",
              "</style>\n",
              "<table border=\"1\" class=\"dataframe\">\n",
              "  <thead>\n",
              "    <tr style=\"text-align: right;\">\n",
              "      <th></th>\n",
              "      <th>bon</th>\n",
              "      <th>wiek</th>\n",
              "      <th>rokstudiów</th>\n",
              "      <th>waznosc</th>\n",
              "      <th>Nastroj1</th>\n",
              "      <th>Nastroj2</th>\n",
              "      <th>PAS1</th>\n",
              "      <th>PAS2</th>\n",
              "      <th>PAS3</th>\n",
              "      <th>PAS4</th>\n",
              "      <th>PAS5</th>\n",
              "      <th>PAS6</th>\n",
              "      <th>PAS7</th>\n",
              "      <th>PAS8</th>\n",
              "      <th>PAS9</th>\n",
              "      <th>indeks_przychylności</th>\n",
              "      <th>wynik_ogólny</th>\n",
              "    </tr>\n",
              "  </thead>\n",
              "  <tbody>\n",
              "    <tr>\n",
              "      <th>count</th>\n",
              "      <td>395.000000</td>\n",
              "      <td>395.000000</td>\n",
              "      <td>395.000000</td>\n",
              "      <td>395.000000</td>\n",
              "      <td>395.000000</td>\n",
              "      <td>395.000000</td>\n",
              "      <td>395.000000</td>\n",
              "      <td>395.000000</td>\n",
              "      <td>395.000000</td>\n",
              "      <td>395.000000</td>\n",
              "      <td>395.000000</td>\n",
              "      <td>395.000000</td>\n",
              "      <td>395.000000</td>\n",
              "      <td>395.000000</td>\n",
              "      <td>395.000000</td>\n",
              "      <td>395.000000</td>\n",
              "      <td>395.000000</td>\n",
              "    </tr>\n",
              "    <tr>\n",
              "      <th>mean</th>\n",
              "      <td>0.496203</td>\n",
              "      <td>23.435443</td>\n",
              "      <td>2.481013</td>\n",
              "      <td>3.387342</td>\n",
              "      <td>3.063291</td>\n",
              "      <td>2.982278</td>\n",
              "      <td>3.693671</td>\n",
              "      <td>3.427848</td>\n",
              "      <td>3.556962</td>\n",
              "      <td>2.716456</td>\n",
              "      <td>2.863291</td>\n",
              "      <td>3.078481</td>\n",
              "      <td>2.691139</td>\n",
              "      <td>3.473418</td>\n",
              "      <td>3.293671</td>\n",
              "      <td>3.193671</td>\n",
              "      <td>3.277139</td>\n",
              "    </tr>\n",
              "    <tr>\n",
              "      <th>std</th>\n",
              "      <td>0.500620</td>\n",
              "      <td>6.403343</td>\n",
              "      <td>1.501782</td>\n",
              "      <td>1.278221</td>\n",
              "      <td>0.996718</td>\n",
              "      <td>0.996028</td>\n",
              "      <td>1.094442</td>\n",
              "      <td>1.263198</td>\n",
              "      <td>1.237597</td>\n",
              "      <td>1.117742</td>\n",
              "      <td>0.985450</td>\n",
              "      <td>1.267083</td>\n",
              "      <td>1.304346</td>\n",
              "      <td>1.018198</td>\n",
              "      <td>1.153162</td>\n",
              "      <td>1.209558</td>\n",
              "      <td>0.893248</td>\n",
              "    </tr>\n",
              "    <tr>\n",
              "      <th>min</th>\n",
              "      <td>0.000000</td>\n",
              "      <td>18.000000</td>\n",
              "      <td>1.000000</td>\n",
              "      <td>1.000000</td>\n",
              "      <td>1.000000</td>\n",
              "      <td>1.000000</td>\n",
              "      <td>1.000000</td>\n",
              "      <td>1.000000</td>\n",
              "      <td>1.000000</td>\n",
              "      <td>1.000000</td>\n",
              "      <td>1.000000</td>\n",
              "      <td>1.000000</td>\n",
              "      <td>1.000000</td>\n",
              "      <td>1.000000</td>\n",
              "      <td>1.000000</td>\n",
              "      <td>1.000000</td>\n",
              "      <td>1.120000</td>\n",
              "    </tr>\n",
              "    <tr>\n",
              "      <th>25%</th>\n",
              "      <td>0.000000</td>\n",
              "      <td>20.000000</td>\n",
              "      <td>1.000000</td>\n",
              "      <td>2.000000</td>\n",
              "      <td>2.000000</td>\n",
              "      <td>2.000000</td>\n",
              "      <td>3.000000</td>\n",
              "      <td>2.000000</td>\n",
              "      <td>3.000000</td>\n",
              "      <td>2.000000</td>\n",
              "      <td>2.000000</td>\n",
              "      <td>2.000000</td>\n",
              "      <td>2.000000</td>\n",
              "      <td>3.000000</td>\n",
              "      <td>2.000000</td>\n",
              "      <td>2.000000</td>\n",
              "      <td>2.620000</td>\n",
              "    </tr>\n",
              "    <tr>\n",
              "      <th>50%</th>\n",
              "      <td>0.000000</td>\n",
              "      <td>22.000000</td>\n",
              "      <td>1.000000</td>\n",
              "      <td>4.000000</td>\n",
              "      <td>3.000000</td>\n",
              "      <td>3.000000</td>\n",
              "      <td>4.000000</td>\n",
              "      <td>4.000000</td>\n",
              "      <td>4.000000</td>\n",
              "      <td>3.000000</td>\n",
              "      <td>3.000000</td>\n",
              "      <td>3.000000</td>\n",
              "      <td>2.000000</td>\n",
              "      <td>4.000000</td>\n",
              "      <td>3.000000</td>\n",
              "      <td>3.500000</td>\n",
              "      <td>3.380000</td>\n",
              "    </tr>\n",
              "    <tr>\n",
              "      <th>75%</th>\n",
              "      <td>1.000000</td>\n",
              "      <td>24.000000</td>\n",
              "      <td>4.000000</td>\n",
              "      <td>4.000000</td>\n",
              "      <td>4.000000</td>\n",
              "      <td>4.000000</td>\n",
              "      <td>5.000000</td>\n",
              "      <td>4.000000</td>\n",
              "      <td>5.000000</td>\n",
              "      <td>3.000000</td>\n",
              "      <td>3.000000</td>\n",
              "      <td>4.000000</td>\n",
              "      <td>4.000000</td>\n",
              "      <td>4.000000</td>\n",
              "      <td>4.000000</td>\n",
              "      <td>4.000000</td>\n",
              "      <td>4.000000</td>\n",
              "    </tr>\n",
              "    <tr>\n",
              "      <th>max</th>\n",
              "      <td>1.000000</td>\n",
              "      <td>99.000000</td>\n",
              "      <td>4.000000</td>\n",
              "      <td>5.000000</td>\n",
              "      <td>5.000000</td>\n",
              "      <td>5.000000</td>\n",
              "      <td>5.000000</td>\n",
              "      <td>5.000000</td>\n",
              "      <td>5.000000</td>\n",
              "      <td>5.000000</td>\n",
              "      <td>5.000000</td>\n",
              "      <td>5.000000</td>\n",
              "      <td>5.000000</td>\n",
              "      <td>5.000000</td>\n",
              "      <td>5.000000</td>\n",
              "      <td>5.000000</td>\n",
              "      <td>5.000000</td>\n",
              "    </tr>\n",
              "  </tbody>\n",
              "</table>\n",
              "</div>\n",
              "      <button class=\"colab-df-convert\" onclick=\"convertToInteractive('df-8978da58-f36b-4cb4-99b1-83df26ef30ec')\"\n",
              "              title=\"Convert this dataframe to an interactive table.\"\n",
              "              style=\"display:none;\">\n",
              "        \n",
              "  <svg xmlns=\"http://www.w3.org/2000/svg\" height=\"24px\"viewBox=\"0 0 24 24\"\n",
              "       width=\"24px\">\n",
              "    <path d=\"M0 0h24v24H0V0z\" fill=\"none\"/>\n",
              "    <path d=\"M18.56 5.44l.94 2.06.94-2.06 2.06-.94-2.06-.94-.94-2.06-.94 2.06-2.06.94zm-11 1L8.5 8.5l.94-2.06 2.06-.94-2.06-.94L8.5 2.5l-.94 2.06-2.06.94zm10 10l.94 2.06.94-2.06 2.06-.94-2.06-.94-.94-2.06-.94 2.06-2.06.94z\"/><path d=\"M17.41 7.96l-1.37-1.37c-.4-.4-.92-.59-1.43-.59-.52 0-1.04.2-1.43.59L10.3 9.45l-7.72 7.72c-.78.78-.78 2.05 0 2.83L4 21.41c.39.39.9.59 1.41.59.51 0 1.02-.2 1.41-.59l7.78-7.78 2.81-2.81c.8-.78.8-2.07 0-2.86zM5.41 20L4 18.59l7.72-7.72 1.47 1.35L5.41 20z\"/>\n",
              "  </svg>\n",
              "      </button>\n",
              "      \n",
              "  <style>\n",
              "    .colab-df-container {\n",
              "      display:flex;\n",
              "      flex-wrap:wrap;\n",
              "      gap: 12px;\n",
              "    }\n",
              "\n",
              "    .colab-df-convert {\n",
              "      background-color: #E8F0FE;\n",
              "      border: none;\n",
              "      border-radius: 50%;\n",
              "      cursor: pointer;\n",
              "      display: none;\n",
              "      fill: #1967D2;\n",
              "      height: 32px;\n",
              "      padding: 0 0 0 0;\n",
              "      width: 32px;\n",
              "    }\n",
              "\n",
              "    .colab-df-convert:hover {\n",
              "      background-color: #E2EBFA;\n",
              "      box-shadow: 0px 1px 2px rgba(60, 64, 67, 0.3), 0px 1px 3px 1px rgba(60, 64, 67, 0.15);\n",
              "      fill: #174EA6;\n",
              "    }\n",
              "\n",
              "    [theme=dark] .colab-df-convert {\n",
              "      background-color: #3B4455;\n",
              "      fill: #D2E3FC;\n",
              "    }\n",
              "\n",
              "    [theme=dark] .colab-df-convert:hover {\n",
              "      background-color: #434B5C;\n",
              "      box-shadow: 0px 1px 3px 1px rgba(0, 0, 0, 0.15);\n",
              "      filter: drop-shadow(0px 1px 2px rgba(0, 0, 0, 0.3));\n",
              "      fill: #FFFFFF;\n",
              "    }\n",
              "  </style>\n",
              "\n",
              "      <script>\n",
              "        const buttonEl =\n",
              "          document.querySelector('#df-8978da58-f36b-4cb4-99b1-83df26ef30ec button.colab-df-convert');\n",
              "        buttonEl.style.display =\n",
              "          google.colab.kernel.accessAllowed ? 'block' : 'none';\n",
              "\n",
              "        async function convertToInteractive(key) {\n",
              "          const element = document.querySelector('#df-8978da58-f36b-4cb4-99b1-83df26ef30ec');\n",
              "          const dataTable =\n",
              "            await google.colab.kernel.invokeFunction('convertToInteractive',\n",
              "                                                     [key], {});\n",
              "          if (!dataTable) return;\n",
              "\n",
              "          const docLinkHtml = 'Like what you see? Visit the ' +\n",
              "            '<a target=\"_blank\" href=https://colab.research.google.com/notebooks/data_table.ipynb>data table notebook</a>'\n",
              "            + ' to learn more about interactive tables.';\n",
              "          element.innerHTML = '';\n",
              "          dataTable['output_type'] = 'display_data';\n",
              "          await google.colab.output.renderOutput(dataTable, element);\n",
              "          const docLink = document.createElement('div');\n",
              "          docLink.innerHTML = docLinkHtml;\n",
              "          element.appendChild(docLink);\n",
              "        }\n",
              "      </script>\n",
              "    </div>\n",
              "  </div>\n",
              "  "
            ]
          },
          "metadata": {},
          "execution_count": 17
        }
      ]
    },
    {
      "cell_type": "code",
      "source": [
        "df['nastroj_diff'] = df['Nastroj 2'] - df['Nastroj 1']"
      ],
      "metadata": {
        "id": "OmQrExQ-NXn-"
      },
      "execution_count": null,
      "outputs": []
    },
    {
      "cell_type": "code",
      "source": [
        "df.columns = ['kod', 'komunikat', 'bon', 'plec', 'wiek', 'tryb',\n",
        "       'rokstudiów', 'waznosc', 'Nastroj1', 'Nastroj2',\n",
        "       'PAS1', 'PAS2', 'PAS3', 'PAS4', 'PAS5', 'PAS6', 'PAS7', 'PAS8',\n",
        "       'PAS9', 'indeks_przychylności', 'wynik_ogólny']"
      ],
      "metadata": {
        "id": "mBdz0vJFkmgG"
      },
      "execution_count": null,
      "outputs": []
    },
    {
      "cell_type": "code",
      "source": [
        "df['typ komunikatu'] = df['typ komunikatu'].str.strip()"
      ],
      "metadata": {
        "id": "NwREIJLxu_IK"
      },
      "execution_count": null,
      "outputs": []
    },
    {
      "cell_type": "code",
      "source": [
        "df['typ komunikatu'] = df['typ komunikatu'].map({'neutralny':0, 'negatywny':2, 'pozytywny':1})\n",
        "df['płeć'] = df['płeć'].map({'k':1, 'm':2, 'inna':3, 'wnp':0})\n",
        "df['tryb studiów'] = df['tryb studiów'].map({\"S\":1, \"NS\":2})"
      ],
      "metadata": {
        "id": "Hbc-SqFZktSm"
      },
      "execution_count": null,
      "outputs": []
    },
    {
      "cell_type": "code",
      "source": [
        "df.wynik_ogólny = df.wynik_ogólny.round(2)"
      ],
      "metadata": {
        "id": "YZGQnGweUcXz"
      },
      "execution_count": null,
      "outputs": []
    },
    {
      "cell_type": "code",
      "source": [
        "df.wiek.describe().round(1)"
      ],
      "metadata": {
        "colab": {
          "base_uri": "https://localhost:8080/"
        },
        "id": "Vt1cnsaNougw",
        "outputId": "af82752d-a59b-49ef-b338-06dd6b11d5bf"
      },
      "execution_count": null,
      "outputs": [
        {
          "output_type": "execute_result",
          "data": {
            "text/plain": [
              "count    399.0\n",
              "mean      23.7\n",
              "std        7.5\n",
              "min       18.0\n",
              "25%       20.0\n",
              "50%       22.0\n",
              "75%       24.0\n",
              "max       99.0\n",
              "Name: wiek, dtype: float64"
            ]
          },
          "metadata": {},
          "execution_count": 40
        }
      ]
    },
    {
      "cell_type": "code",
      "source": [
        "df.loc[df.wiek == 99, 'wiek']"
      ],
      "metadata": {
        "id": "PkdaO04uoo5R"
      },
      "execution_count": null,
      "outputs": []
    },
    {
      "cell_type": "code",
      "source": [
        "df.loc[df.wiek == 99, 'wiek'] = 24"
      ],
      "metadata": {
        "id": "QTx9Obvho0zU"
      },
      "execution_count": null,
      "outputs": []
    },
    {
      "cell_type": "code",
      "source": [
        "df[df['rok studiów'] == 1]['osobista waznosc egzaminu'].describe().round(1)"
      ],
      "metadata": {
        "colab": {
          "base_uri": "https://localhost:8080/"
        },
        "id": "OdK9jKOw7cKn",
        "outputId": "990f3f9b-00b8-4d6e-9be0-669542a5e72d"
      },
      "execution_count": null,
      "outputs": [
        {
          "output_type": "execute_result",
          "data": {
            "text/plain": [
              "count    203.0\n",
              "mean       3.6\n",
              "std        6.8\n",
              "min        1.0\n",
              "25%        2.0\n",
              "50%        3.0\n",
              "75%        4.0\n",
              "max       99.0\n",
              "Name: osobista waznosc egzaminu, dtype: float64"
            ]
          },
          "metadata": {},
          "execution_count": 46
        }
      ]
    },
    {
      "cell_type": "code",
      "source": [
        "df.loc[df['osobista waznosc egzaminu'] == 99, 'osobista waznosc egzaminu'] = 3"
      ],
      "metadata": {
        "id": "UAAGJTUao2Zu"
      },
      "execution_count": null,
      "outputs": []
    },
    {
      "cell_type": "code",
      "source": [
        "df['Nastroj1_3cat'] = df.Nastroj1.map({3:0, 1:2, 2:2}).fillna(1)\n",
        "df['Nastroj2_3cat'] = df.Nastroj2.map({3:0, 1:2, 2:2}).fillna(1)\n",
        "\n",
        "df['waznosc_3cat'] = df.waznosc.map({3:0, 1:2, 2:2}).fillna(1)"
      ],
      "metadata": {
        "id": "5yyriU0kkwsd"
      },
      "execution_count": null,
      "outputs": []
    },
    {
      "cell_type": "code",
      "source": [
        "df.to_csv('res1_up.csv', index= False)"
      ],
      "metadata": {
        "id": "oZMf3E3fo508"
      },
      "execution_count": null,
      "outputs": []
    },
    {
      "cell_type": "code",
      "source": [
        "df['Nastroj1_mapped'] = df.Nastroj1.map({3:1, 1:0, 2:0, 5:2, 4:2}) # im wyzsza wartosc tym bardziej pozytywny neg (0) - neu (1) - pos (2)\n",
        "df['komunikat_mapped'] = df.komunikat.map({0:1, 1:2, 2:0})\n",
        "\n",
        "df['Nastroj1_komunikat_congruence'] = df['Nastroj1_mapped'] - df['komunikat_mapped']\n",
        "df['Nastroj1_komunikat_congruence'].value_counts()"
      ],
      "metadata": {
        "colab": {
          "base_uri": "https://localhost:8080/"
        },
        "id": "3-buCwnno1Ks",
        "outputId": "3951acdb-10bb-490f-c13c-29c2e864653a"
      },
      "execution_count": null,
      "outputs": [
        {
          "output_type": "execute_result",
          "data": {
            "text/plain": [
              " 0    145\n",
              " 1     84\n",
              "-1     74\n",
              " 2     52\n",
              "-2     40\n",
              "Name: Nastroj1_komunikat_congruence, dtype: int64"
            ]
          },
          "metadata": {},
          "execution_count": 9
        }
      ]
    },
    {
      "cell_type": "markdown",
      "source": [
        "#Article analyses"
      ],
      "metadata": {
        "id": "4TO8FwX2pj7i"
      }
    },
    {
      "cell_type": "markdown",
      "source": [
        "##PAS score - dep variable"
      ],
      "metadata": {
        "id": "-Z3Dtz0mTwWc"
      }
    },
    {
      "cell_type": "code",
      "source": [
        "df['Nastroj1_3cat_komunikat'] = df.Nastroj1_3cat.map({0:'neutral', 1:'good', 2:'bad'}) + \"_\" +\\\n",
        "                                 df.komunikat.map({0:'neutral', 1:'positive', 2:'negative'})\n",
        "\n",
        "df['Nastroj1_3cat_komunikat'].value_counts()"
      ],
      "metadata": {
        "colab": {
          "base_uri": "https://localhost:8080/"
        },
        "id": "ocd-yT2IweWc",
        "outputId": "fc6cb5ee-9d2d-48f2-d537-43674ccf9dfb"
      },
      "execution_count": null,
      "outputs": [
        {
          "output_type": "execute_result",
          "data": {
            "text/plain": [
              "neutral_neutral     58\n",
              "good_negative       52\n",
              "good_positive       51\n",
              "neutral_negative    45\n",
              "bad_positive        40\n",
              "neutral_positive    40\n",
              "good_neutral        39\n",
              "bad_negative        36\n",
              "bad_neutral         34\n",
              "Name: Nastroj1_3cat_komunikat, dtype: int64"
            ]
          },
          "metadata": {},
          "execution_count": 50
        }
      ]
    },
    {
      "cell_type": "code",
      "source": [
        "df.groupby(['Nastroj1_3cat_komunikat'])['Nastroj1', 'Nastroj2',\n",
        "                                           'nastroj_diff', 'wynik_ogólny'].mean().round(2).reset_index().sort_values(by ='wynik_ogólny')#.to_excel('/content/drive/MyDrive/temporal.xlsx')"
      ],
      "metadata": {
        "colab": {
          "base_uri": "https://localhost:8080/",
          "height": 331
        },
        "id": "MyDg3vC2wg-d",
        "outputId": "949ff1a0-7eec-4996-f6a2-2d0bd497b363"
      },
      "execution_count": null,
      "outputs": [
        {
          "output_type": "execute_result",
          "data": {
            "text/plain": [
              "  Nastroj1_3cat_komunikat  Nastroj1  Nastroj2  nastroj_diff  wynik_ogólny\n",
              "1             bad_neutral      1.65      1.85          0.21          2.81\n",
              "0            bad_negative      1.83      1.94          0.11          2.96\n",
              "6        neutral_negative      3.00      2.64         -0.36          3.13\n",
              "3           good_negative      4.15      3.33         -0.83          3.29\n",
              "2            bad_positive      1.78      2.65          0.88          3.32\n",
              "4            good_neutral      4.10      3.74         -0.36          3.34\n",
              "5           good_positive      4.16      3.92         -0.24          3.39\n",
              "7         neutral_neutral      3.00      3.02          0.02          3.47\n",
              "8        neutral_positive      3.00      3.15          0.15          3.56"
            ],
            "text/html": [
              "\n",
              "  <div id=\"df-6449d11c-03a7-47a9-88b1-cf59d5f0f610\">\n",
              "    <div class=\"colab-df-container\">\n",
              "      <div>\n",
              "<style scoped>\n",
              "    .dataframe tbody tr th:only-of-type {\n",
              "        vertical-align: middle;\n",
              "    }\n",
              "\n",
              "    .dataframe tbody tr th {\n",
              "        vertical-align: top;\n",
              "    }\n",
              "\n",
              "    .dataframe thead th {\n",
              "        text-align: right;\n",
              "    }\n",
              "</style>\n",
              "<table border=\"1\" class=\"dataframe\">\n",
              "  <thead>\n",
              "    <tr style=\"text-align: right;\">\n",
              "      <th></th>\n",
              "      <th>Nastroj1_3cat_komunikat</th>\n",
              "      <th>Nastroj1</th>\n",
              "      <th>Nastroj2</th>\n",
              "      <th>nastroj_diff</th>\n",
              "      <th>wynik_ogólny</th>\n",
              "    </tr>\n",
              "  </thead>\n",
              "  <tbody>\n",
              "    <tr>\n",
              "      <th>1</th>\n",
              "      <td>bad_neutral</td>\n",
              "      <td>1.65</td>\n",
              "      <td>1.85</td>\n",
              "      <td>0.21</td>\n",
              "      <td>2.81</td>\n",
              "    </tr>\n",
              "    <tr>\n",
              "      <th>0</th>\n",
              "      <td>bad_negative</td>\n",
              "      <td>1.83</td>\n",
              "      <td>1.94</td>\n",
              "      <td>0.11</td>\n",
              "      <td>2.96</td>\n",
              "    </tr>\n",
              "    <tr>\n",
              "      <th>6</th>\n",
              "      <td>neutral_negative</td>\n",
              "      <td>3.00</td>\n",
              "      <td>2.64</td>\n",
              "      <td>-0.36</td>\n",
              "      <td>3.13</td>\n",
              "    </tr>\n",
              "    <tr>\n",
              "      <th>3</th>\n",
              "      <td>good_negative</td>\n",
              "      <td>4.15</td>\n",
              "      <td>3.33</td>\n",
              "      <td>-0.83</td>\n",
              "      <td>3.29</td>\n",
              "    </tr>\n",
              "    <tr>\n",
              "      <th>2</th>\n",
              "      <td>bad_positive</td>\n",
              "      <td>1.78</td>\n",
              "      <td>2.65</td>\n",
              "      <td>0.88</td>\n",
              "      <td>3.32</td>\n",
              "    </tr>\n",
              "    <tr>\n",
              "      <th>4</th>\n",
              "      <td>good_neutral</td>\n",
              "      <td>4.10</td>\n",
              "      <td>3.74</td>\n",
              "      <td>-0.36</td>\n",
              "      <td>3.34</td>\n",
              "    </tr>\n",
              "    <tr>\n",
              "      <th>5</th>\n",
              "      <td>good_positive</td>\n",
              "      <td>4.16</td>\n",
              "      <td>3.92</td>\n",
              "      <td>-0.24</td>\n",
              "      <td>3.39</td>\n",
              "    </tr>\n",
              "    <tr>\n",
              "      <th>7</th>\n",
              "      <td>neutral_neutral</td>\n",
              "      <td>3.00</td>\n",
              "      <td>3.02</td>\n",
              "      <td>0.02</td>\n",
              "      <td>3.47</td>\n",
              "    </tr>\n",
              "    <tr>\n",
              "      <th>8</th>\n",
              "      <td>neutral_positive</td>\n",
              "      <td>3.00</td>\n",
              "      <td>3.15</td>\n",
              "      <td>0.15</td>\n",
              "      <td>3.56</td>\n",
              "    </tr>\n",
              "  </tbody>\n",
              "</table>\n",
              "</div>\n",
              "      <button class=\"colab-df-convert\" onclick=\"convertToInteractive('df-6449d11c-03a7-47a9-88b1-cf59d5f0f610')\"\n",
              "              title=\"Convert this dataframe to an interactive table.\"\n",
              "              style=\"display:none;\">\n",
              "        \n",
              "  <svg xmlns=\"http://www.w3.org/2000/svg\" height=\"24px\"viewBox=\"0 0 24 24\"\n",
              "       width=\"24px\">\n",
              "    <path d=\"M0 0h24v24H0V0z\" fill=\"none\"/>\n",
              "    <path d=\"M18.56 5.44l.94 2.06.94-2.06 2.06-.94-2.06-.94-.94-2.06-.94 2.06-2.06.94zm-11 1L8.5 8.5l.94-2.06 2.06-.94-2.06-.94L8.5 2.5l-.94 2.06-2.06.94zm10 10l.94 2.06.94-2.06 2.06-.94-2.06-.94-.94-2.06-.94 2.06-2.06.94z\"/><path d=\"M17.41 7.96l-1.37-1.37c-.4-.4-.92-.59-1.43-.59-.52 0-1.04.2-1.43.59L10.3 9.45l-7.72 7.72c-.78.78-.78 2.05 0 2.83L4 21.41c.39.39.9.59 1.41.59.51 0 1.02-.2 1.41-.59l7.78-7.78 2.81-2.81c.8-.78.8-2.07 0-2.86zM5.41 20L4 18.59l7.72-7.72 1.47 1.35L5.41 20z\"/>\n",
              "  </svg>\n",
              "      </button>\n",
              "      \n",
              "  <style>\n",
              "    .colab-df-container {\n",
              "      display:flex;\n",
              "      flex-wrap:wrap;\n",
              "      gap: 12px;\n",
              "    }\n",
              "\n",
              "    .colab-df-convert {\n",
              "      background-color: #E8F0FE;\n",
              "      border: none;\n",
              "      border-radius: 50%;\n",
              "      cursor: pointer;\n",
              "      display: none;\n",
              "      fill: #1967D2;\n",
              "      height: 32px;\n",
              "      padding: 0 0 0 0;\n",
              "      width: 32px;\n",
              "    }\n",
              "\n",
              "    .colab-df-convert:hover {\n",
              "      background-color: #E2EBFA;\n",
              "      box-shadow: 0px 1px 2px rgba(60, 64, 67, 0.3), 0px 1px 3px 1px rgba(60, 64, 67, 0.15);\n",
              "      fill: #174EA6;\n",
              "    }\n",
              "\n",
              "    [theme=dark] .colab-df-convert {\n",
              "      background-color: #3B4455;\n",
              "      fill: #D2E3FC;\n",
              "    }\n",
              "\n",
              "    [theme=dark] .colab-df-convert:hover {\n",
              "      background-color: #434B5C;\n",
              "      box-shadow: 0px 1px 3px 1px rgba(0, 0, 0, 0.15);\n",
              "      filter: drop-shadow(0px 1px 2px rgba(0, 0, 0, 0.3));\n",
              "      fill: #FFFFFF;\n",
              "    }\n",
              "  </style>\n",
              "\n",
              "      <script>\n",
              "        const buttonEl =\n",
              "          document.querySelector('#df-6449d11c-03a7-47a9-88b1-cf59d5f0f610 button.colab-df-convert');\n",
              "        buttonEl.style.display =\n",
              "          google.colab.kernel.accessAllowed ? 'block' : 'none';\n",
              "\n",
              "        async function convertToInteractive(key) {\n",
              "          const element = document.querySelector('#df-6449d11c-03a7-47a9-88b1-cf59d5f0f610');\n",
              "          const dataTable =\n",
              "            await google.colab.kernel.invokeFunction('convertToInteractive',\n",
              "                                                     [key], {});\n",
              "          if (!dataTable) return;\n",
              "\n",
              "          const docLinkHtml = 'Like what you see? Visit the ' +\n",
              "            '<a target=\"_blank\" href=https://colab.research.google.com/notebooks/data_table.ipynb>data table notebook</a>'\n",
              "            + ' to learn more about interactive tables.';\n",
              "          element.innerHTML = '';\n",
              "          dataTable['output_type'] = 'display_data';\n",
              "          await google.colab.output.renderOutput(dataTable, element);\n",
              "          const docLink = document.createElement('div');\n",
              "          docLink.innerHTML = docLinkHtml;\n",
              "          element.appendChild(docLink);\n",
              "        }\n",
              "      </script>\n",
              "    </div>\n",
              "  </div>\n",
              "  "
            ]
          },
          "metadata": {},
          "execution_count": 51
        }
      ]
    },
    {
      "cell_type": "code",
      "source": [
        "df['Nastroj2_3cat_komunikat'] = df.Nastroj2_3cat.map({0:'neutral', 1:'good', 2:'bad'}) + \"_\" +\\\n",
        "                                 df.komunikat.map({0:'neutral', 1:'positive', 2:'negative'})\n",
        "\n",
        "df['Nastroj2_3cat_komunikat'].value_counts()"
      ],
      "metadata": {
        "colab": {
          "base_uri": "https://localhost:8080/"
        },
        "id": "digtC7vrvTLH",
        "outputId": "c947fa60-7424-4b67-bda4-cab8de9d324f"
      },
      "execution_count": null,
      "outputs": [
        {
          "output_type": "execute_result",
          "data": {
            "text/plain": [
              "bad_negative        60\n",
              "neutral_neutral     58\n",
              "good_positive       57\n",
              "neutral_positive    52\n",
              "neutral_negative    44\n",
              "good_neutral        37\n",
              "bad_neutral         36\n",
              "good_negative       29\n",
              "bad_positive        22\n",
              "Name: Nastroj2_3cat_komunikat, dtype: int64"
            ]
          },
          "metadata": {},
          "execution_count": 43
        }
      ]
    },
    {
      "cell_type": "code",
      "source": [
        "df.groupby(['Nastroj2_3cat_komunikat'])['Nastroj1', 'Nastroj2',\n",
        "                                           'nastroj_diff', 'wynik_ogólny'].mean().round(2).reset_index().sort_values(by ='wynik_ogólny')#.to_excel('/content/drive/MyDrive/temporal.xlsx')"
      ],
      "metadata": {
        "colab": {
          "base_uri": "https://localhost:8080/",
          "height": 331
        },
        "id": "MuVnBCy_vdZU",
        "outputId": "5fc403f0-6080-4837-e5f0-cb60da49152d"
      },
      "execution_count": null,
      "outputs": [
        {
          "output_type": "execute_result",
          "data": {
            "text/plain": [
              "  Nastroj2_3cat_komunikat  Nastroj1  Nastroj2  nastroj_diff  wynik_ogólny\n",
              "2            bad_positive      2.23      1.73         -0.50          2.59\n",
              "0            bad_negative      2.68      1.78         -0.90          2.66\n",
              "1             bad_neutral      1.92      1.67         -0.25          2.86\n",
              "4            good_neutral      3.78      4.05          0.27          3.41\n",
              "7         neutral_neutral      3.12      3.00         -0.12          3.42\n",
              "8        neutral_positive      2.71      3.00          0.29          3.42\n",
              "6        neutral_negative      3.09      3.00         -0.09          3.43\n",
              "3           good_negative      4.14      4.24          0.10          3.75\n",
              "5           good_positive      3.74      4.18          0.44          3.75"
            ],
            "text/html": [
              "\n",
              "  <div id=\"df-3cb6f186-08fe-4232-88d6-12915da981e1\">\n",
              "    <div class=\"colab-df-container\">\n",
              "      <div>\n",
              "<style scoped>\n",
              "    .dataframe tbody tr th:only-of-type {\n",
              "        vertical-align: middle;\n",
              "    }\n",
              "\n",
              "    .dataframe tbody tr th {\n",
              "        vertical-align: top;\n",
              "    }\n",
              "\n",
              "    .dataframe thead th {\n",
              "        text-align: right;\n",
              "    }\n",
              "</style>\n",
              "<table border=\"1\" class=\"dataframe\">\n",
              "  <thead>\n",
              "    <tr style=\"text-align: right;\">\n",
              "      <th></th>\n",
              "      <th>Nastroj2_3cat_komunikat</th>\n",
              "      <th>Nastroj1</th>\n",
              "      <th>Nastroj2</th>\n",
              "      <th>nastroj_diff</th>\n",
              "      <th>wynik_ogólny</th>\n",
              "    </tr>\n",
              "  </thead>\n",
              "  <tbody>\n",
              "    <tr>\n",
              "      <th>2</th>\n",
              "      <td>bad_positive</td>\n",
              "      <td>2.23</td>\n",
              "      <td>1.73</td>\n",
              "      <td>-0.50</td>\n",
              "      <td>2.59</td>\n",
              "    </tr>\n",
              "    <tr>\n",
              "      <th>0</th>\n",
              "      <td>bad_negative</td>\n",
              "      <td>2.68</td>\n",
              "      <td>1.78</td>\n",
              "      <td>-0.90</td>\n",
              "      <td>2.66</td>\n",
              "    </tr>\n",
              "    <tr>\n",
              "      <th>1</th>\n",
              "      <td>bad_neutral</td>\n",
              "      <td>1.92</td>\n",
              "      <td>1.67</td>\n",
              "      <td>-0.25</td>\n",
              "      <td>2.86</td>\n",
              "    </tr>\n",
              "    <tr>\n",
              "      <th>4</th>\n",
              "      <td>good_neutral</td>\n",
              "      <td>3.78</td>\n",
              "      <td>4.05</td>\n",
              "      <td>0.27</td>\n",
              "      <td>3.41</td>\n",
              "    </tr>\n",
              "    <tr>\n",
              "      <th>7</th>\n",
              "      <td>neutral_neutral</td>\n",
              "      <td>3.12</td>\n",
              "      <td>3.00</td>\n",
              "      <td>-0.12</td>\n",
              "      <td>3.42</td>\n",
              "    </tr>\n",
              "    <tr>\n",
              "      <th>8</th>\n",
              "      <td>neutral_positive</td>\n",
              "      <td>2.71</td>\n",
              "      <td>3.00</td>\n",
              "      <td>0.29</td>\n",
              "      <td>3.42</td>\n",
              "    </tr>\n",
              "    <tr>\n",
              "      <th>6</th>\n",
              "      <td>neutral_negative</td>\n",
              "      <td>3.09</td>\n",
              "      <td>3.00</td>\n",
              "      <td>-0.09</td>\n",
              "      <td>3.43</td>\n",
              "    </tr>\n",
              "    <tr>\n",
              "      <th>3</th>\n",
              "      <td>good_negative</td>\n",
              "      <td>4.14</td>\n",
              "      <td>4.24</td>\n",
              "      <td>0.10</td>\n",
              "      <td>3.75</td>\n",
              "    </tr>\n",
              "    <tr>\n",
              "      <th>5</th>\n",
              "      <td>good_positive</td>\n",
              "      <td>3.74</td>\n",
              "      <td>4.18</td>\n",
              "      <td>0.44</td>\n",
              "      <td>3.75</td>\n",
              "    </tr>\n",
              "  </tbody>\n",
              "</table>\n",
              "</div>\n",
              "      <button class=\"colab-df-convert\" onclick=\"convertToInteractive('df-3cb6f186-08fe-4232-88d6-12915da981e1')\"\n",
              "              title=\"Convert this dataframe to an interactive table.\"\n",
              "              style=\"display:none;\">\n",
              "        \n",
              "  <svg xmlns=\"http://www.w3.org/2000/svg\" height=\"24px\"viewBox=\"0 0 24 24\"\n",
              "       width=\"24px\">\n",
              "    <path d=\"M0 0h24v24H0V0z\" fill=\"none\"/>\n",
              "    <path d=\"M18.56 5.44l.94 2.06.94-2.06 2.06-.94-2.06-.94-.94-2.06-.94 2.06-2.06.94zm-11 1L8.5 8.5l.94-2.06 2.06-.94-2.06-.94L8.5 2.5l-.94 2.06-2.06.94zm10 10l.94 2.06.94-2.06 2.06-.94-2.06-.94-.94-2.06-.94 2.06-2.06.94z\"/><path d=\"M17.41 7.96l-1.37-1.37c-.4-.4-.92-.59-1.43-.59-.52 0-1.04.2-1.43.59L10.3 9.45l-7.72 7.72c-.78.78-.78 2.05 0 2.83L4 21.41c.39.39.9.59 1.41.59.51 0 1.02-.2 1.41-.59l7.78-7.78 2.81-2.81c.8-.78.8-2.07 0-2.86zM5.41 20L4 18.59l7.72-7.72 1.47 1.35L5.41 20z\"/>\n",
              "  </svg>\n",
              "      </button>\n",
              "      \n",
              "  <style>\n",
              "    .colab-df-container {\n",
              "      display:flex;\n",
              "      flex-wrap:wrap;\n",
              "      gap: 12px;\n",
              "    }\n",
              "\n",
              "    .colab-df-convert {\n",
              "      background-color: #E8F0FE;\n",
              "      border: none;\n",
              "      border-radius: 50%;\n",
              "      cursor: pointer;\n",
              "      display: none;\n",
              "      fill: #1967D2;\n",
              "      height: 32px;\n",
              "      padding: 0 0 0 0;\n",
              "      width: 32px;\n",
              "    }\n",
              "\n",
              "    .colab-df-convert:hover {\n",
              "      background-color: #E2EBFA;\n",
              "      box-shadow: 0px 1px 2px rgba(60, 64, 67, 0.3), 0px 1px 3px 1px rgba(60, 64, 67, 0.15);\n",
              "      fill: #174EA6;\n",
              "    }\n",
              "\n",
              "    [theme=dark] .colab-df-convert {\n",
              "      background-color: #3B4455;\n",
              "      fill: #D2E3FC;\n",
              "    }\n",
              "\n",
              "    [theme=dark] .colab-df-convert:hover {\n",
              "      background-color: #434B5C;\n",
              "      box-shadow: 0px 1px 3px 1px rgba(0, 0, 0, 0.15);\n",
              "      filter: drop-shadow(0px 1px 2px rgba(0, 0, 0, 0.3));\n",
              "      fill: #FFFFFF;\n",
              "    }\n",
              "  </style>\n",
              "\n",
              "      <script>\n",
              "        const buttonEl =\n",
              "          document.querySelector('#df-3cb6f186-08fe-4232-88d6-12915da981e1 button.colab-df-convert');\n",
              "        buttonEl.style.display =\n",
              "          google.colab.kernel.accessAllowed ? 'block' : 'none';\n",
              "\n",
              "        async function convertToInteractive(key) {\n",
              "          const element = document.querySelector('#df-3cb6f186-08fe-4232-88d6-12915da981e1');\n",
              "          const dataTable =\n",
              "            await google.colab.kernel.invokeFunction('convertToInteractive',\n",
              "                                                     [key], {});\n",
              "          if (!dataTable) return;\n",
              "\n",
              "          const docLinkHtml = 'Like what you see? Visit the ' +\n",
              "            '<a target=\"_blank\" href=https://colab.research.google.com/notebooks/data_table.ipynb>data table notebook</a>'\n",
              "            + ' to learn more about interactive tables.';\n",
              "          element.innerHTML = '';\n",
              "          dataTable['output_type'] = 'display_data';\n",
              "          await google.colab.output.renderOutput(dataTable, element);\n",
              "          const docLink = document.createElement('div');\n",
              "          docLink.innerHTML = docLinkHtml;\n",
              "          element.appendChild(docLink);\n",
              "        }\n",
              "      </script>\n",
              "    </div>\n",
              "  </div>\n",
              "  "
            ]
          },
          "metadata": {},
          "execution_count": 44
        }
      ]
    },
    {
      "cell_type": "code",
      "source": [
        "df['Nastroj1_3cat_waznosc_3cat'] = df.Nastroj1_3cat.map({0:'moderate', 1:'good', 2:'bad'}) +\"-\" +\\\n",
        "                                df.waznosc_3cat.map({0:'medium', 1:'high', 2:'low'})\n",
        "\n",
        "df['Nastroj1_3cat_waznosc_3cat'].value_counts()"
      ],
      "metadata": {
        "colab": {
          "base_uri": "https://localhost:8080/"
        },
        "outputId": "24d0064e-7705-4fec-9774-7dad347db029",
        "id": "MY61pBe-PreC"
      },
      "execution_count": null,
      "outputs": [
        {
          "output_type": "execute_result",
          "data": {
            "text/plain": [
              "moderate-high      76\n",
              "good-high          69\n",
              "bad-high           54\n",
              "good-medium        38\n",
              "moderate-low       36\n",
              "good-low           35\n",
              "moderate-medium    31\n",
              "bad-low            31\n",
              "bad-medium         25\n",
              "Name: Nastroj1_3cat_waznosc_3cat, dtype: int64"
            ]
          },
          "metadata": {},
          "execution_count": 75
        }
      ]
    },
    {
      "cell_type": "code",
      "source": [
        "for dep in {'wynik_ogólny'}:\n",
        "  print(dep)\n",
        "  model = ols(f\"\"\"{dep} ~ C(komunikat)+C(Nastroj1_3cat)+C(Nastroj2_3cat)+C(waznosc_3cat)+\\\n",
        "                  C(Nastroj1_3cat):C(komunikat)+ C(Nastroj2_3cat):C(komunikat) +\\\n",
        "                  C(Nastroj1_3cat):C(waznosc_3cat)+ C(Nastroj2_3cat):C(waznosc_3cat)+\\\n",
        "                  C(komunikat):C(Nastroj1_3cat):C(waznosc_3cat)+\\\n",
        "                  C(komunikat):C(Nastroj2_3cat):C(waznosc_3cat)\"\"\",\n",
        "              data = df).fit()\n",
        "\n",
        "  print(sm.stats.anova_lm(model, typ=2).round(4))\n",
        "  print(model.summary())\n",
        "  print('\\n ********************************')"
      ],
      "metadata": {
        "colab": {
          "base_uri": "https://localhost:8080/"
        },
        "id": "gj0ux4knwjA0",
        "outputId": "09ae80b1-29bc-46b0-b60c-4dbf69f6f335"
      },
      "execution_count": null,
      "outputs": [
        {
          "output_type": "stream",
          "name": "stdout",
          "text": [
            "wynik_ogólny\n",
            "                                                 sum_sq     df        F  \\\n",
            "C(komunikat)                                     1.0471    2.0   0.9567   \n",
            "C(Nastroj1_3cat)                                 5.0352    2.0   4.6006   \n",
            "C(Nastroj2_3cat)                                41.9308    2.0  38.3117   \n",
            "C(waznosc_3cat)                                 28.3772    2.0  25.9279   \n",
            "C(Nastroj1_3cat):C(komunikat)                    6.4830    4.0   2.9617   \n",
            "C(Nastroj2_3cat):C(komunikat)                    5.8941    4.0   2.6927   \n",
            "C(Nastroj1_3cat):C(waznosc_3cat)                 5.3788    4.0   2.4573   \n",
            "C(Nastroj2_3cat):C(waznosc_3cat)                 1.0528    4.0   0.4810   \n",
            "C(komunikat):C(Nastroj1_3cat):C(waznosc_3cat)    8.7835   12.0   1.3376   \n",
            "C(komunikat):C(Nastroj2_3cat):C(waznosc_3cat)    5.2824    8.0   1.2066   \n",
            "Residual                                       191.5314  350.0      NaN   \n",
            "\n",
            "                                               PR(>F)  \n",
            "C(komunikat)                                   0.3852  \n",
            "C(Nastroj1_3cat)                               0.0107  \n",
            "C(Nastroj2_3cat)                               0.0000  \n",
            "C(waznosc_3cat)                                0.0000  \n",
            "C(Nastroj1_3cat):C(komunikat)                  0.0199  \n",
            "C(Nastroj2_3cat):C(komunikat)                  0.0309  \n",
            "C(Nastroj1_3cat):C(waznosc_3cat)               0.0454  \n",
            "C(Nastroj2_3cat):C(waznosc_3cat)               0.7497  \n",
            "C(komunikat):C(Nastroj1_3cat):C(waznosc_3cat)  0.1951  \n",
            "C(komunikat):C(Nastroj2_3cat):C(waznosc_3cat)  0.2940  \n",
            "Residual                                          NaN  \n",
            "                            OLS Regression Results                            \n",
            "==============================================================================\n",
            "Dep. Variable:           wynik_ogólny   R-squared:                       0.391\n",
            "Model:                            OLS   Adj. R-squared:                  0.314\n",
            "Method:                 Least Squares   F-statistic:                     5.099\n",
            "Date:                Tue, 27 Jun 2023   Prob (F-statistic):           6.57e-19\n",
            "Time:                        07:31:28   Log-Likelihood:                -417.52\n",
            "No. Observations:                 395   AIC:                             925.0\n",
            "Df Residuals:                     350   BIC:                             1104.\n",
            "Df Model:                          44                                         \n",
            "Covariance Type:            nonrobust                                         \n",
            "====================================================================================================================================\n",
            "                                                                       coef    std err          t      P>|t|      [0.025      0.975]\n",
            "------------------------------------------------------------------------------------------------------------------------------------\n",
            "Intercept                                                            3.2334      0.215     15.005      0.000       2.810       3.657\n",
            "C(komunikat)[T.1]                                                    0.1180      0.336      0.351      0.725      -0.542       0.778\n",
            "C(komunikat)[T.2]                                                    0.0804      0.440      0.183      0.855      -0.785       0.946\n",
            "C(Nastroj1_3cat)[T.1.0]                                              0.0310      0.322      0.096      0.923      -0.602       0.664\n",
            "C(Nastroj1_3cat)[T.2.0]                                              0.2507      0.438      0.573      0.567      -0.610       1.111\n",
            "C(Nastroj2_3cat)[T.1.0]                                              0.3119      0.328      0.951      0.342      -0.333       0.957\n",
            "C(Nastroj2_3cat)[T.2.0]                                             -0.3276      0.434     -0.754      0.451      -1.182       0.527\n",
            "C(waznosc_3cat)[T.1.0]                                               0.4823      0.260      1.857      0.064      -0.029       0.993\n",
            "C(waznosc_3cat)[T.2.0]                                              -0.1344      0.303     -0.443      0.658      -0.731       0.462\n",
            "C(Nastroj1_3cat)[T.1.0]:C(komunikat)[T.1]                           -0.0725      0.492     -0.147      0.883      -1.040       0.895\n",
            "C(Nastroj1_3cat)[T.2.0]:C(komunikat)[T.1]                           -0.6503      0.597     -1.088      0.277      -1.825       0.525\n",
            "C(Nastroj1_3cat)[T.1.0]:C(komunikat)[T.2]                            0.7356      0.703      1.046      0.296      -0.647       2.118\n",
            "C(Nastroj1_3cat)[T.2.0]:C(komunikat)[T.2]                            0.9941      0.598      1.663      0.097      -0.182       2.170\n",
            "C(Nastroj2_3cat)[T.1.0]:C(komunikat)[T.1]                           -0.0664      0.486     -0.137      0.891      -1.023       0.890\n",
            "C(Nastroj2_3cat)[T.2.0]:C(komunikat)[T.1]                            0.0633      0.654      0.097      0.923      -1.224       1.350\n",
            "C(Nastroj2_3cat)[T.1.0]:C(komunikat)[T.2]                           -0.8219      0.813     -1.011      0.313      -2.421       0.777\n",
            "C(Nastroj2_3cat)[T.2.0]:C(komunikat)[T.2]                           -1.0341      0.632     -1.635      0.103      -2.278       0.210\n",
            "C(Nastroj1_3cat)[T.1.0]:C(waznosc_3cat)[T.1.0]                      -0.3356      0.416     -0.806      0.421      -1.154       0.483\n",
            "C(Nastroj1_3cat)[T.2.0]:C(waznosc_3cat)[T.1.0]                      -0.8976      0.535     -1.679      0.094      -1.949       0.154\n",
            "C(Nastroj1_3cat)[T.1.0]:C(waznosc_3cat)[T.2.0]                      -0.8122      0.861     -0.943      0.346      -2.506       0.882\n",
            "C(Nastroj1_3cat)[T.2.0]:C(waznosc_3cat)[T.2.0]                      -2.0216      0.894     -2.261      0.024      -3.780      -0.263\n",
            "C(Nastroj2_3cat)[T.1.0]:C(waznosc_3cat)[T.1.0]                      -0.3274      0.421     -0.777      0.438      -1.156       0.501\n",
            "C(Nastroj2_3cat)[T.2.0]:C(waznosc_3cat)[T.1.0]                       0.1128      0.532      0.212      0.832      -0.934       1.160\n",
            "C(Nastroj2_3cat)[T.1.0]:C(waznosc_3cat)[T.2.0]                       0.4017      0.837      0.480      0.632      -1.244       2.048\n",
            "C(Nastroj2_3cat)[T.2.0]:C(waznosc_3cat)[T.2.0]                       1.2911      0.884      1.460      0.145      -0.448       3.030\n",
            "C(komunikat)[T.1]:C(Nastroj1_3cat)[0.0]:C(waznosc_3cat)[T.1.0]      -0.0411      0.421     -0.098      0.922      -0.869       0.787\n",
            "C(komunikat)[T.2]:C(Nastroj1_3cat)[0.0]:C(waznosc_3cat)[T.1.0]      -0.1909      0.488     -0.391      0.696      -1.150       0.768\n",
            "C(komunikat)[T.1]:C(Nastroj1_3cat)[1.0]:C(waznosc_3cat)[T.1.0]      -0.3615      0.604     -0.599      0.550      -1.549       0.826\n",
            "C(komunikat)[T.2]:C(Nastroj1_3cat)[1.0]:C(waznosc_3cat)[T.1.0]      -0.6732      0.823     -0.818      0.414      -2.291       0.945\n",
            "C(komunikat)[T.1]:C(Nastroj1_3cat)[2.0]:C(waznosc_3cat)[T.1.0]       1.6467      0.675      2.439      0.015       0.319       2.974\n",
            "C(komunikat)[T.2]:C(Nastroj1_3cat)[2.0]:C(waznosc_3cat)[T.1.0]      -0.4402      0.753     -0.584      0.559      -1.922       1.041\n",
            "C(komunikat)[T.1]:C(Nastroj1_3cat)[0.0]:C(waznosc_3cat)[T.2.0]      -0.0083      0.457     -0.018      0.986      -0.908       0.892\n",
            "C(komunikat)[T.2]:C(Nastroj1_3cat)[0.0]:C(waznosc_3cat)[T.2.0]      -0.1877      0.570     -0.330      0.742      -1.308       0.932\n",
            "C(komunikat)[T.1]:C(Nastroj1_3cat)[1.0]:C(waznosc_3cat)[T.2.0]       0.1844      1.009      0.183      0.855      -1.800       2.169\n",
            "C(komunikat)[T.2]:C(Nastroj1_3cat)[1.0]:C(waznosc_3cat)[T.2.0]      -0.5306      1.167     -0.455      0.650      -2.826       1.765\n",
            "C(komunikat)[T.1]:C(Nastroj1_3cat)[2.0]:C(waznosc_3cat)[T.2.0]       2.1973      1.017      2.162      0.031       0.198       4.197\n",
            "C(komunikat)[T.2]:C(Nastroj1_3cat)[2.0]:C(waznosc_3cat)[T.2.0]       0.4140      1.108      0.374      0.709      -1.766       2.594\n",
            "C(komunikat)[T.1]:C(Nastroj2_3cat)[T.1.0]:C(waznosc_3cat)[T.1.0]     0.9410      0.608      1.549      0.122      -0.254       2.136\n",
            "C(komunikat)[T.2]:C(Nastroj2_3cat)[T.1.0]:C(waznosc_3cat)[T.1.0]     1.2835      0.896      1.432      0.153      -0.479       3.046\n",
            "C(komunikat)[T.1]:C(Nastroj2_3cat)[T.2.0]:C(waznosc_3cat)[T.1.0]    -0.8182      0.786     -1.041      0.299      -2.364       0.727\n",
            "C(komunikat)[T.2]:C(Nastroj2_3cat)[T.2.0]:C(waznosc_3cat)[T.1.0]     0.4280      0.732      0.584      0.559      -1.012       1.868\n",
            "C(komunikat)[T.1]:C(Nastroj2_3cat)[T.1.0]:C(waznosc_3cat)[T.2.0]    -0.1042      0.974     -0.107      0.915      -2.020       1.811\n",
            "C(komunikat)[T.2]:C(Nastroj2_3cat)[T.1.0]:C(waznosc_3cat)[T.2.0]     0.9818      1.195      0.822      0.412      -1.368       3.331\n",
            "C(komunikat)[T.1]:C(Nastroj2_3cat)[T.2.0]:C(waznosc_3cat)[T.2.0]    -1.7724      1.059     -1.674      0.095      -3.854       0.310\n",
            "C(komunikat)[T.2]:C(Nastroj2_3cat)[T.2.0]:C(waznosc_3cat)[T.2.0]    -0.5514      1.056     -0.522      0.602      -2.629       1.526\n",
            "==============================================================================\n",
            "Omnibus:                        4.563   Durbin-Watson:                   2.089\n",
            "Prob(Omnibus):                  0.102   Jarque-Bera (JB):                4.378\n",
            "Skew:                          -0.254   Prob(JB):                        0.112\n",
            "Kurtosis:                       3.093   Cond. No.                         109.\n",
            "==============================================================================\n",
            "\n",
            "Notes:\n",
            "[1] Standard Errors assume that the covariance matrix of the errors is correctly specified.\n",
            "\n",
            " ********************************\n"
          ]
        }
      ]
    },
    {
      "cell_type": "code",
      "source": [
        "df.Nastroj2_3cat.unique()"
      ],
      "metadata": {
        "colab": {
          "base_uri": "https://localhost:8080/"
        },
        "id": "Iw6CqTjJkGqL",
        "outputId": "f1f7ea15-57ed-423b-9f29-dd43f27f74a2"
      },
      "execution_count": null,
      "outputs": [
        {
          "output_type": "execute_result",
          "data": {
            "text/plain": [
              "array([0., 2., 1.])"
            ]
          },
          "metadata": {},
          "execution_count": 79
        }
      ]
    },
    {
      "cell_type": "code",
      "source": [
        "for c in {'wynik_ogólny'}:\n",
        "  print(c)\n",
        "  tukey = pairwise_tukeyhsd(endog = df[c],\n",
        "                          groups = df['Nastroj1_3cat_komunikat'],\n",
        "                          alpha=0.05)\n",
        "  print(tukey)"
      ],
      "metadata": {
        "colab": {
          "base_uri": "https://localhost:8080/"
        },
        "outputId": "7c869b2e-79fd-4f82-aa11-f2e21afcaf18",
        "id": "G8AYtekJSM9p"
      },
      "execution_count": null,
      "outputs": [
        {
          "output_type": "stream",
          "name": "stdout",
          "text": [
            "wynik_ogólny\n",
            "          Multiple Comparison of Means - Tukey HSD, FWER=0.05          \n",
            "=======================================================================\n",
            "     group1           group2      meandiff p-adj   lower  upper  reject\n",
            "-----------------------------------------------------------------------\n",
            "    bad_negative      bad_neutral  -0.1475 0.9987 -0.8009 0.5059  False\n",
            "    bad_negative     bad_positive   0.3616 0.6841 -0.2661 0.9893  False\n",
            "    bad_negative    good_negative   0.3291 0.7259 -0.2633 0.9215  False\n",
            "    bad_negative     good_neutral   0.3779  0.637 -0.2536 1.0094  False\n",
            "    bad_negative    good_positive   0.4279 0.3792 -0.1669 1.0227  False\n",
            "    bad_negative neutral_negative   0.1729 0.9938  -0.438 0.7839  False\n",
            "    bad_negative  neutral_neutral   0.5123  0.132 -0.0674 1.0921  False\n",
            "    bad_negative neutral_positive   0.6007 0.0731  -0.027 1.2284  False\n",
            "     bad_neutral     bad_positive   0.5091 0.2392 -0.1282 1.1464  False\n",
            "     bad_neutral    good_negative   0.4765 0.2516 -0.1261 1.0791  False\n",
            "     bad_neutral     good_neutral   0.5254 0.2088 -0.1157 1.1665  False\n",
            "     bad_neutral    good_positive   0.5754 0.0768 -0.0296 1.1803  False\n",
            "     bad_neutral neutral_negative   0.3204 0.7992 -0.3005 0.9412  False\n",
            "     bad_neutral  neutral_neutral   0.6598 0.0158  0.0696   1.25   True\n",
            "     bad_neutral neutral_positive   0.7482 0.0086  0.1108 1.3855   True\n",
            "    bad_positive    good_negative  -0.0326    1.0 -0.6072 0.5421  False\n",
            "    bad_positive     good_neutral   0.0163    1.0 -0.5986 0.6312  False\n",
            "    bad_positive    good_positive   0.0663    1.0 -0.5108 0.6433  False\n",
            "    bad_positive neutral_negative  -0.1887 0.9865 -0.7825  0.405  False\n",
            "    bad_positive  neutral_neutral   0.1507 0.9957 -0.4109 0.7123  False\n",
            "    bad_positive neutral_positive   0.2391 0.9517 -0.3719   0.85  False\n",
            "   good_negative     good_neutral   0.0489    1.0 -0.5299 0.6277  False\n",
            "   good_negative    good_positive   0.0988 0.9997 -0.4396 0.6373  False\n",
            "   good_negative neutral_negative  -0.1561 0.9941 -0.7124 0.4002  False\n",
            "   good_negative  neutral_neutral   0.1833 0.9747 -0.3385 0.7051  False\n",
            "   good_negative neutral_positive   0.2716 0.8668  -0.303 0.8463  False\n",
            "    good_neutral    good_positive     0.05    1.0 -0.5312 0.6312  False\n",
            "    good_neutral neutral_negative   -0.205 0.9781 -0.8028 0.3927  False\n",
            "    good_neutral  neutral_neutral   0.1344 0.9982 -0.4314 0.7002  False\n",
            "    good_neutral neutral_positive   0.2228 0.9694 -0.3921 0.8376  False\n",
            "   good_positive neutral_negative   -0.255 0.8884 -0.8138 0.3038  False\n",
            "   good_positive  neutral_neutral   0.0844 0.9999 -0.4401 0.6089  False\n",
            "   good_positive neutral_positive   0.1728 0.9909 -0.4043 0.7499  False\n",
            "neutral_negative  neutral_neutral   0.3394 0.5788 -0.2034 0.8822  False\n",
            "neutral_negative neutral_positive   0.4278 0.3772  -0.166 1.0215  False\n",
            " neutral_neutral neutral_positive   0.0884 0.9999 -0.4732 0.6499  False\n",
            "-----------------------------------------------------------------------\n"
          ]
        }
      ]
    },
    {
      "cell_type": "code",
      "source": [
        "df.groupby(['Nastroj1_3cat_komunikat'])['Nastroj1', 'Nastroj2',\n",
        "                                           'nastroj_diff'].mean().round(2).reset_index().sort_values(by ='Nastroj2')#.to_excel('/content/drive/MyDrive/temporal.xlsx')"
      ],
      "metadata": {
        "colab": {
          "base_uri": "https://localhost:8080/",
          "height": 331
        },
        "outputId": "5accc6d3-6c77-45f8-abdd-a2ae7cbcaab9",
        "id": "ZIQkQEGLQaTD"
      },
      "execution_count": null,
      "outputs": [
        {
          "output_type": "execute_result",
          "data": {
            "text/plain": [
              "  Nastroj1_3cat_komunikat  Nastroj1  Nastroj2  nastroj_diff\n",
              "1             bad_neutral      1.65      1.85          0.21\n",
              "0            bad_negative      1.83      1.94          0.11\n",
              "6        neutral_negative      3.00      2.64         -0.36\n",
              "2            bad_positive      1.78      2.65          0.88\n",
              "7         neutral_neutral      3.00      3.02          0.02\n",
              "8        neutral_positive      3.00      3.15          0.15\n",
              "3           good_negative      4.15      3.33         -0.83\n",
              "4            good_neutral      4.10      3.74         -0.36\n",
              "5           good_positive      4.16      3.92         -0.24"
            ],
            "text/html": [
              "\n",
              "  <div id=\"df-de49945b-8b5a-48b2-b069-9754e5984502\">\n",
              "    <div class=\"colab-df-container\">\n",
              "      <div>\n",
              "<style scoped>\n",
              "    .dataframe tbody tr th:only-of-type {\n",
              "        vertical-align: middle;\n",
              "    }\n",
              "\n",
              "    .dataframe tbody tr th {\n",
              "        vertical-align: top;\n",
              "    }\n",
              "\n",
              "    .dataframe thead th {\n",
              "        text-align: right;\n",
              "    }\n",
              "</style>\n",
              "<table border=\"1\" class=\"dataframe\">\n",
              "  <thead>\n",
              "    <tr style=\"text-align: right;\">\n",
              "      <th></th>\n",
              "      <th>Nastroj1_3cat_komunikat</th>\n",
              "      <th>Nastroj1</th>\n",
              "      <th>Nastroj2</th>\n",
              "      <th>nastroj_diff</th>\n",
              "    </tr>\n",
              "  </thead>\n",
              "  <tbody>\n",
              "    <tr>\n",
              "      <th>1</th>\n",
              "      <td>bad_neutral</td>\n",
              "      <td>1.65</td>\n",
              "      <td>1.85</td>\n",
              "      <td>0.21</td>\n",
              "    </tr>\n",
              "    <tr>\n",
              "      <th>0</th>\n",
              "      <td>bad_negative</td>\n",
              "      <td>1.83</td>\n",
              "      <td>1.94</td>\n",
              "      <td>0.11</td>\n",
              "    </tr>\n",
              "    <tr>\n",
              "      <th>6</th>\n",
              "      <td>neutral_negative</td>\n",
              "      <td>3.00</td>\n",
              "      <td>2.64</td>\n",
              "      <td>-0.36</td>\n",
              "    </tr>\n",
              "    <tr>\n",
              "      <th>2</th>\n",
              "      <td>bad_positive</td>\n",
              "      <td>1.78</td>\n",
              "      <td>2.65</td>\n",
              "      <td>0.88</td>\n",
              "    </tr>\n",
              "    <tr>\n",
              "      <th>7</th>\n",
              "      <td>neutral_neutral</td>\n",
              "      <td>3.00</td>\n",
              "      <td>3.02</td>\n",
              "      <td>0.02</td>\n",
              "    </tr>\n",
              "    <tr>\n",
              "      <th>8</th>\n",
              "      <td>neutral_positive</td>\n",
              "      <td>3.00</td>\n",
              "      <td>3.15</td>\n",
              "      <td>0.15</td>\n",
              "    </tr>\n",
              "    <tr>\n",
              "      <th>3</th>\n",
              "      <td>good_negative</td>\n",
              "      <td>4.15</td>\n",
              "      <td>3.33</td>\n",
              "      <td>-0.83</td>\n",
              "    </tr>\n",
              "    <tr>\n",
              "      <th>4</th>\n",
              "      <td>good_neutral</td>\n",
              "      <td>4.10</td>\n",
              "      <td>3.74</td>\n",
              "      <td>-0.36</td>\n",
              "    </tr>\n",
              "    <tr>\n",
              "      <th>5</th>\n",
              "      <td>good_positive</td>\n",
              "      <td>4.16</td>\n",
              "      <td>3.92</td>\n",
              "      <td>-0.24</td>\n",
              "    </tr>\n",
              "  </tbody>\n",
              "</table>\n",
              "</div>\n",
              "      <button class=\"colab-df-convert\" onclick=\"convertToInteractive('df-de49945b-8b5a-48b2-b069-9754e5984502')\"\n",
              "              title=\"Convert this dataframe to an interactive table.\"\n",
              "              style=\"display:none;\">\n",
              "        \n",
              "  <svg xmlns=\"http://www.w3.org/2000/svg\" height=\"24px\"viewBox=\"0 0 24 24\"\n",
              "       width=\"24px\">\n",
              "    <path d=\"M0 0h24v24H0V0z\" fill=\"none\"/>\n",
              "    <path d=\"M18.56 5.44l.94 2.06.94-2.06 2.06-.94-2.06-.94-.94-2.06-.94 2.06-2.06.94zm-11 1L8.5 8.5l.94-2.06 2.06-.94-2.06-.94L8.5 2.5l-.94 2.06-2.06.94zm10 10l.94 2.06.94-2.06 2.06-.94-2.06-.94-.94-2.06-.94 2.06-2.06.94z\"/><path d=\"M17.41 7.96l-1.37-1.37c-.4-.4-.92-.59-1.43-.59-.52 0-1.04.2-1.43.59L10.3 9.45l-7.72 7.72c-.78.78-.78 2.05 0 2.83L4 21.41c.39.39.9.59 1.41.59.51 0 1.02-.2 1.41-.59l7.78-7.78 2.81-2.81c.8-.78.8-2.07 0-2.86zM5.41 20L4 18.59l7.72-7.72 1.47 1.35L5.41 20z\"/>\n",
              "  </svg>\n",
              "      </button>\n",
              "      \n",
              "  <style>\n",
              "    .colab-df-container {\n",
              "      display:flex;\n",
              "      flex-wrap:wrap;\n",
              "      gap: 12px;\n",
              "    }\n",
              "\n",
              "    .colab-df-convert {\n",
              "      background-color: #E8F0FE;\n",
              "      border: none;\n",
              "      border-radius: 50%;\n",
              "      cursor: pointer;\n",
              "      display: none;\n",
              "      fill: #1967D2;\n",
              "      height: 32px;\n",
              "      padding: 0 0 0 0;\n",
              "      width: 32px;\n",
              "    }\n",
              "\n",
              "    .colab-df-convert:hover {\n",
              "      background-color: #E2EBFA;\n",
              "      box-shadow: 0px 1px 2px rgba(60, 64, 67, 0.3), 0px 1px 3px 1px rgba(60, 64, 67, 0.15);\n",
              "      fill: #174EA6;\n",
              "    }\n",
              "\n",
              "    [theme=dark] .colab-df-convert {\n",
              "      background-color: #3B4455;\n",
              "      fill: #D2E3FC;\n",
              "    }\n",
              "\n",
              "    [theme=dark] .colab-df-convert:hover {\n",
              "      background-color: #434B5C;\n",
              "      box-shadow: 0px 1px 3px 1px rgba(0, 0, 0, 0.15);\n",
              "      filter: drop-shadow(0px 1px 2px rgba(0, 0, 0, 0.3));\n",
              "      fill: #FFFFFF;\n",
              "    }\n",
              "  </style>\n",
              "\n",
              "      <script>\n",
              "        const buttonEl =\n",
              "          document.querySelector('#df-de49945b-8b5a-48b2-b069-9754e5984502 button.colab-df-convert');\n",
              "        buttonEl.style.display =\n",
              "          google.colab.kernel.accessAllowed ? 'block' : 'none';\n",
              "\n",
              "        async function convertToInteractive(key) {\n",
              "          const element = document.querySelector('#df-de49945b-8b5a-48b2-b069-9754e5984502');\n",
              "          const dataTable =\n",
              "            await google.colab.kernel.invokeFunction('convertToInteractive',\n",
              "                                                     [key], {});\n",
              "          if (!dataTable) return;\n",
              "\n",
              "          const docLinkHtml = 'Like what you see? Visit the ' +\n",
              "            '<a target=\"_blank\" href=https://colab.research.google.com/notebooks/data_table.ipynb>data table notebook</a>'\n",
              "            + ' to learn more about interactive tables.';\n",
              "          element.innerHTML = '';\n",
              "          dataTable['output_type'] = 'display_data';\n",
              "          await google.colab.output.renderOutput(dataTable, element);\n",
              "          const docLink = document.createElement('div');\n",
              "          docLink.innerHTML = docLinkHtml;\n",
              "          element.appendChild(docLink);\n",
              "        }\n",
              "      </script>\n",
              "    </div>\n",
              "  </div>\n",
              "  "
            ]
          },
          "metadata": {},
          "execution_count": 85
        }
      ]
    },
    {
      "cell_type": "code",
      "source": [
        "for c in {'wynik_ogólny'}:\n",
        "  print(c)\n",
        "  tukey = pairwise_tukeyhsd(endog = df[c],\n",
        "                          groups = df['Nastroj2_3cat_komunikat'],\n",
        "                          alpha=0.05)\n",
        "  print(tukey)"
      ],
      "metadata": {
        "colab": {
          "base_uri": "https://localhost:8080/"
        },
        "outputId": "a09b174d-ba6d-4cf4-d232-c6c56e33c7d8",
        "id": "qLoJSK1DQpFK"
      },
      "execution_count": null,
      "outputs": [
        {
          "output_type": "stream",
          "name": "stdout",
          "text": [
            "wynik_ogólny\n",
            "          Multiple Comparison of Means - Tukey HSD, FWER=0.05          \n",
            "=======================================================================\n",
            "     group1           group2      meandiff p-adj   lower  upper  reject\n",
            "-----------------------------------------------------------------------\n",
            "    bad_negative      bad_neutral   0.2094 0.9497 -0.3219 0.7407  False\n",
            "    bad_negative     bad_positive  -0.0615    1.0 -0.6896 0.5667  False\n",
            "    bad_negative    good_negative   1.0905    0.0  0.5205 1.6605   True\n",
            "    bad_negative     good_neutral   0.7553 0.0003  0.2285 1.2821   True\n",
            "    bad_negative    good_positive   1.0915    0.0  0.6254 1.5577   True\n",
            "    bad_negative neutral_negative   0.7738 0.0001  0.2735  1.274   True\n",
            "    bad_negative  neutral_neutral   0.7607    0.0  0.2967 1.2248   True\n",
            "    bad_negative neutral_positive   0.7619    0.0  0.2844 1.2394   True\n",
            "     bad_neutral     bad_positive  -0.2708 0.9474 -0.9529 0.4112  False\n",
            "     bad_neutral    good_negative   0.8811 0.0005  0.2522   1.51   True\n",
            "     bad_neutral     good_neutral   0.5459 0.0952 -0.0441 1.1359  False\n",
            "     bad_neutral    good_positive   0.8821    0.0  0.3456 1.4187   True\n",
            "     bad_neutral neutral_negative   0.5644 0.0516  -0.002 1.1308  False\n",
            "     bad_neutral  neutral_neutral   0.5514 0.0375  0.0166 1.0861   True\n",
            "     bad_neutral neutral_positive   0.5525 0.0452  0.0061 1.0989   True\n",
            "    bad_positive    good_negative   1.1519    0.0  0.4394 1.8645   True\n",
            "    bad_positive     good_neutral   0.8167 0.0062  0.1382 1.4952   True\n",
            "    bad_positive    good_positive    1.153    0.0  0.5204 1.7855   True\n",
            "    bad_positive neutral_negative   0.8352 0.0029  0.1771 1.4933   True\n",
            "    bad_positive  neutral_neutral   0.8222 0.0019  0.1911 1.4533   True\n",
            "    bad_positive neutral_positive   0.8233 0.0024  0.1823 1.4643   True\n",
            "   good_negative     good_neutral  -0.3352 0.7627 -0.9603 0.2898  False\n",
            "   good_negative    good_positive    0.001    1.0 -0.5738 0.5759  False\n",
            "   good_negative neutral_negative  -0.3167 0.7827 -0.9195 0.2861  False\n",
            "   good_negative  neutral_neutral  -0.3297 0.6858 -0.9029 0.2434  False\n",
            "   good_negative neutral_positive  -0.3286 0.7117 -0.9127 0.2555  False\n",
            "    good_neutral    good_positive   0.3362 0.5644 -0.1958 0.8683  False\n",
            "    good_neutral neutral_negative   0.0185    1.0 -0.5437 0.5807  False\n",
            "    good_neutral  neutral_neutral   0.0055    1.0 -0.5248 0.5357  False\n",
            "    good_neutral neutral_positive   0.0066    1.0 -0.5355 0.5486  False\n",
            "   good_positive neutral_negative  -0.3177 0.5725 -0.8235  0.188  False\n",
            "   good_positive  neutral_neutral  -0.3308 0.4109 -0.8008 0.1393  False\n",
            "   good_positive neutral_positive  -0.3296 0.4559 -0.8129 0.1537  False\n",
            "neutral_negative  neutral_neutral   -0.013    1.0 -0.5169 0.4908  False\n",
            "neutral_negative neutral_positive  -0.0119    1.0 -0.5282 0.5043  False\n",
            " neutral_neutral neutral_positive   0.0011    1.0 -0.4802 0.4824  False\n",
            "-----------------------------------------------------------------------\n"
          ]
        }
      ]
    },
    {
      "cell_type": "code",
      "source": [
        "tt = pd.DataFrame(data=tukey._results_table.data[1:], columns=tukey._results_table.data[0])\n",
        "tt.head()"
      ],
      "metadata": {
        "colab": {
          "base_uri": "https://localhost:8080/",
          "height": 206
        },
        "outputId": "d8708c2b-8319-4679-c026-c70752fddb4f",
        "id": "mq-u4aZ8QaTV"
      },
      "execution_count": null,
      "outputs": [
        {
          "output_type": "execute_result",
          "data": {
            "text/plain": [
              "         group1         group2  meandiff   p-adj   lower   upper  reject\n",
              "0  bad_negative    bad_neutral    0.1258  0.9982 -0.4055  0.6571   False\n",
              "1  bad_negative   bad_positive   -0.7639  0.0001 -1.2743 -0.2535    True\n",
              "2  bad_negative  good_negative   -0.5620  0.0093 -1.0436 -0.0803    True\n",
              "3  bad_negative   good_neutral   -0.8697  0.0000 -1.3831 -0.3562    True\n",
              "4  bad_negative  good_positive   -0.7565  0.0001 -1.2401 -0.2729    True"
            ],
            "text/html": [
              "\n",
              "  <div id=\"df-2f5730fa-d6c7-4129-90a9-48dfdeaafc54\">\n",
              "    <div class=\"colab-df-container\">\n",
              "      <div>\n",
              "<style scoped>\n",
              "    .dataframe tbody tr th:only-of-type {\n",
              "        vertical-align: middle;\n",
              "    }\n",
              "\n",
              "    .dataframe tbody tr th {\n",
              "        vertical-align: top;\n",
              "    }\n",
              "\n",
              "    .dataframe thead th {\n",
              "        text-align: right;\n",
              "    }\n",
              "</style>\n",
              "<table border=\"1\" class=\"dataframe\">\n",
              "  <thead>\n",
              "    <tr style=\"text-align: right;\">\n",
              "      <th></th>\n",
              "      <th>group1</th>\n",
              "      <th>group2</th>\n",
              "      <th>meandiff</th>\n",
              "      <th>p-adj</th>\n",
              "      <th>lower</th>\n",
              "      <th>upper</th>\n",
              "      <th>reject</th>\n",
              "    </tr>\n",
              "  </thead>\n",
              "  <tbody>\n",
              "    <tr>\n",
              "      <th>0</th>\n",
              "      <td>bad_negative</td>\n",
              "      <td>bad_neutral</td>\n",
              "      <td>0.1258</td>\n",
              "      <td>0.9982</td>\n",
              "      <td>-0.4055</td>\n",
              "      <td>0.6571</td>\n",
              "      <td>False</td>\n",
              "    </tr>\n",
              "    <tr>\n",
              "      <th>1</th>\n",
              "      <td>bad_negative</td>\n",
              "      <td>bad_positive</td>\n",
              "      <td>-0.7639</td>\n",
              "      <td>0.0001</td>\n",
              "      <td>-1.2743</td>\n",
              "      <td>-0.2535</td>\n",
              "      <td>True</td>\n",
              "    </tr>\n",
              "    <tr>\n",
              "      <th>2</th>\n",
              "      <td>bad_negative</td>\n",
              "      <td>good_negative</td>\n",
              "      <td>-0.5620</td>\n",
              "      <td>0.0093</td>\n",
              "      <td>-1.0436</td>\n",
              "      <td>-0.0803</td>\n",
              "      <td>True</td>\n",
              "    </tr>\n",
              "    <tr>\n",
              "      <th>3</th>\n",
              "      <td>bad_negative</td>\n",
              "      <td>good_neutral</td>\n",
              "      <td>-0.8697</td>\n",
              "      <td>0.0000</td>\n",
              "      <td>-1.3831</td>\n",
              "      <td>-0.3562</td>\n",
              "      <td>True</td>\n",
              "    </tr>\n",
              "    <tr>\n",
              "      <th>4</th>\n",
              "      <td>bad_negative</td>\n",
              "      <td>good_positive</td>\n",
              "      <td>-0.7565</td>\n",
              "      <td>0.0001</td>\n",
              "      <td>-1.2401</td>\n",
              "      <td>-0.2729</td>\n",
              "      <td>True</td>\n",
              "    </tr>\n",
              "  </tbody>\n",
              "</table>\n",
              "</div>\n",
              "      <button class=\"colab-df-convert\" onclick=\"convertToInteractive('df-2f5730fa-d6c7-4129-90a9-48dfdeaafc54')\"\n",
              "              title=\"Convert this dataframe to an interactive table.\"\n",
              "              style=\"display:none;\">\n",
              "        \n",
              "  <svg xmlns=\"http://www.w3.org/2000/svg\" height=\"24px\"viewBox=\"0 0 24 24\"\n",
              "       width=\"24px\">\n",
              "    <path d=\"M0 0h24v24H0V0z\" fill=\"none\"/>\n",
              "    <path d=\"M18.56 5.44l.94 2.06.94-2.06 2.06-.94-2.06-.94-.94-2.06-.94 2.06-2.06.94zm-11 1L8.5 8.5l.94-2.06 2.06-.94-2.06-.94L8.5 2.5l-.94 2.06-2.06.94zm10 10l.94 2.06.94-2.06 2.06-.94-2.06-.94-.94-2.06-.94 2.06-2.06.94z\"/><path d=\"M17.41 7.96l-1.37-1.37c-.4-.4-.92-.59-1.43-.59-.52 0-1.04.2-1.43.59L10.3 9.45l-7.72 7.72c-.78.78-.78 2.05 0 2.83L4 21.41c.39.39.9.59 1.41.59.51 0 1.02-.2 1.41-.59l7.78-7.78 2.81-2.81c.8-.78.8-2.07 0-2.86zM5.41 20L4 18.59l7.72-7.72 1.47 1.35L5.41 20z\"/>\n",
              "  </svg>\n",
              "      </button>\n",
              "      \n",
              "  <style>\n",
              "    .colab-df-container {\n",
              "      display:flex;\n",
              "      flex-wrap:wrap;\n",
              "      gap: 12px;\n",
              "    }\n",
              "\n",
              "    .colab-df-convert {\n",
              "      background-color: #E8F0FE;\n",
              "      border: none;\n",
              "      border-radius: 50%;\n",
              "      cursor: pointer;\n",
              "      display: none;\n",
              "      fill: #1967D2;\n",
              "      height: 32px;\n",
              "      padding: 0 0 0 0;\n",
              "      width: 32px;\n",
              "    }\n",
              "\n",
              "    .colab-df-convert:hover {\n",
              "      background-color: #E2EBFA;\n",
              "      box-shadow: 0px 1px 2px rgba(60, 64, 67, 0.3), 0px 1px 3px 1px rgba(60, 64, 67, 0.15);\n",
              "      fill: #174EA6;\n",
              "    }\n",
              "\n",
              "    [theme=dark] .colab-df-convert {\n",
              "      background-color: #3B4455;\n",
              "      fill: #D2E3FC;\n",
              "    }\n",
              "\n",
              "    [theme=dark] .colab-df-convert:hover {\n",
              "      background-color: #434B5C;\n",
              "      box-shadow: 0px 1px 3px 1px rgba(0, 0, 0, 0.15);\n",
              "      filter: drop-shadow(0px 1px 2px rgba(0, 0, 0, 0.3));\n",
              "      fill: #FFFFFF;\n",
              "    }\n",
              "  </style>\n",
              "\n",
              "      <script>\n",
              "        const buttonEl =\n",
              "          document.querySelector('#df-2f5730fa-d6c7-4129-90a9-48dfdeaafc54 button.colab-df-convert');\n",
              "        buttonEl.style.display =\n",
              "          google.colab.kernel.accessAllowed ? 'block' : 'none';\n",
              "\n",
              "        async function convertToInteractive(key) {\n",
              "          const element = document.querySelector('#df-2f5730fa-d6c7-4129-90a9-48dfdeaafc54');\n",
              "          const dataTable =\n",
              "            await google.colab.kernel.invokeFunction('convertToInteractive',\n",
              "                                                     [key], {});\n",
              "          if (!dataTable) return;\n",
              "\n",
              "          const docLinkHtml = 'Like what you see? Visit the ' +\n",
              "            '<a target=\"_blank\" href=https://colab.research.google.com/notebooks/data_table.ipynb>data table notebook</a>'\n",
              "            + ' to learn more about interactive tables.';\n",
              "          element.innerHTML = '';\n",
              "          dataTable['output_type'] = 'display_data';\n",
              "          await google.colab.output.renderOutput(dataTable, element);\n",
              "          const docLink = document.createElement('div');\n",
              "          docLink.innerHTML = docLinkHtml;\n",
              "          element.appendChild(docLink);\n",
              "        }\n",
              "      </script>\n",
              "    </div>\n",
              "  </div>\n",
              "  "
            ]
          },
          "metadata": {},
          "execution_count": 83
        }
      ]
    },
    {
      "cell_type": "code",
      "source": [
        "tt[tt.reject == True].to_excel('/content/drive/MyDrive/temporal.xlsx')"
      ],
      "metadata": {
        "id": "1FKqFBCZQaTV"
      },
      "execution_count": null,
      "outputs": []
    },
    {
      "cell_type": "code",
      "source": [
        "df.groupby(['Nastroj1_3cat_waznosc_3cat'])['wynik_ogólny'].mean().round(2).reset_index()#.to_excel('/content/drive/MyDrive/temporal.xlsx')"
      ],
      "metadata": {
        "colab": {
          "base_uri": "https://localhost:8080/",
          "height": 331
        },
        "outputId": "8f2ffd50-2bca-4279-a9c2-d081edbcf1f1",
        "id": "WyU3IKtkP0Ow"
      },
      "execution_count": null,
      "outputs": [
        {
          "output_type": "execute_result",
          "data": {
            "text/plain": [
              "  Nastroj1_3cat_waznosc_3cat  wynik_ogólny\n",
              "0                   bad_high          3.35\n",
              "1                    bad_low          2.43\n",
              "2                 bad_medium          3.15\n",
              "3                  good_high          3.45\n",
              "4                   good_low          2.99\n",
              "5                good_medium          3.46\n",
              "6               neutral_high          3.65\n",
              "7                neutral_low          3.06\n",
              "8             neutral_medium          3.16"
            ],
            "text/html": [
              "\n",
              "  <div id=\"df-c5053d08-d77a-4203-b98f-c8fdb235f372\">\n",
              "    <div class=\"colab-df-container\">\n",
              "      <div>\n",
              "<style scoped>\n",
              "    .dataframe tbody tr th:only-of-type {\n",
              "        vertical-align: middle;\n",
              "    }\n",
              "\n",
              "    .dataframe tbody tr th {\n",
              "        vertical-align: top;\n",
              "    }\n",
              "\n",
              "    .dataframe thead th {\n",
              "        text-align: right;\n",
              "    }\n",
              "</style>\n",
              "<table border=\"1\" class=\"dataframe\">\n",
              "  <thead>\n",
              "    <tr style=\"text-align: right;\">\n",
              "      <th></th>\n",
              "      <th>Nastroj1_3cat_waznosc_3cat</th>\n",
              "      <th>wynik_ogólny</th>\n",
              "    </tr>\n",
              "  </thead>\n",
              "  <tbody>\n",
              "    <tr>\n",
              "      <th>0</th>\n",
              "      <td>bad_high</td>\n",
              "      <td>3.35</td>\n",
              "    </tr>\n",
              "    <tr>\n",
              "      <th>1</th>\n",
              "      <td>bad_low</td>\n",
              "      <td>2.43</td>\n",
              "    </tr>\n",
              "    <tr>\n",
              "      <th>2</th>\n",
              "      <td>bad_medium</td>\n",
              "      <td>3.15</td>\n",
              "    </tr>\n",
              "    <tr>\n",
              "      <th>3</th>\n",
              "      <td>good_high</td>\n",
              "      <td>3.45</td>\n",
              "    </tr>\n",
              "    <tr>\n",
              "      <th>4</th>\n",
              "      <td>good_low</td>\n",
              "      <td>2.99</td>\n",
              "    </tr>\n",
              "    <tr>\n",
              "      <th>5</th>\n",
              "      <td>good_medium</td>\n",
              "      <td>3.46</td>\n",
              "    </tr>\n",
              "    <tr>\n",
              "      <th>6</th>\n",
              "      <td>neutral_high</td>\n",
              "      <td>3.65</td>\n",
              "    </tr>\n",
              "    <tr>\n",
              "      <th>7</th>\n",
              "      <td>neutral_low</td>\n",
              "      <td>3.06</td>\n",
              "    </tr>\n",
              "    <tr>\n",
              "      <th>8</th>\n",
              "      <td>neutral_medium</td>\n",
              "      <td>3.16</td>\n",
              "    </tr>\n",
              "  </tbody>\n",
              "</table>\n",
              "</div>\n",
              "      <button class=\"colab-df-convert\" onclick=\"convertToInteractive('df-c5053d08-d77a-4203-b98f-c8fdb235f372')\"\n",
              "              title=\"Convert this dataframe to an interactive table.\"\n",
              "              style=\"display:none;\">\n",
              "        \n",
              "  <svg xmlns=\"http://www.w3.org/2000/svg\" height=\"24px\"viewBox=\"0 0 24 24\"\n",
              "       width=\"24px\">\n",
              "    <path d=\"M0 0h24v24H0V0z\" fill=\"none\"/>\n",
              "    <path d=\"M18.56 5.44l.94 2.06.94-2.06 2.06-.94-2.06-.94-.94-2.06-.94 2.06-2.06.94zm-11 1L8.5 8.5l.94-2.06 2.06-.94-2.06-.94L8.5 2.5l-.94 2.06-2.06.94zm10 10l.94 2.06.94-2.06 2.06-.94-2.06-.94-.94-2.06-.94 2.06-2.06.94z\"/><path d=\"M17.41 7.96l-1.37-1.37c-.4-.4-.92-.59-1.43-.59-.52 0-1.04.2-1.43.59L10.3 9.45l-7.72 7.72c-.78.78-.78 2.05 0 2.83L4 21.41c.39.39.9.59 1.41.59.51 0 1.02-.2 1.41-.59l7.78-7.78 2.81-2.81c.8-.78.8-2.07 0-2.86zM5.41 20L4 18.59l7.72-7.72 1.47 1.35L5.41 20z\"/>\n",
              "  </svg>\n",
              "      </button>\n",
              "      \n",
              "  <style>\n",
              "    .colab-df-container {\n",
              "      display:flex;\n",
              "      flex-wrap:wrap;\n",
              "      gap: 12px;\n",
              "    }\n",
              "\n",
              "    .colab-df-convert {\n",
              "      background-color: #E8F0FE;\n",
              "      border: none;\n",
              "      border-radius: 50%;\n",
              "      cursor: pointer;\n",
              "      display: none;\n",
              "      fill: #1967D2;\n",
              "      height: 32px;\n",
              "      padding: 0 0 0 0;\n",
              "      width: 32px;\n",
              "    }\n",
              "\n",
              "    .colab-df-convert:hover {\n",
              "      background-color: #E2EBFA;\n",
              "      box-shadow: 0px 1px 2px rgba(60, 64, 67, 0.3), 0px 1px 3px 1px rgba(60, 64, 67, 0.15);\n",
              "      fill: #174EA6;\n",
              "    }\n",
              "\n",
              "    [theme=dark] .colab-df-convert {\n",
              "      background-color: #3B4455;\n",
              "      fill: #D2E3FC;\n",
              "    }\n",
              "\n",
              "    [theme=dark] .colab-df-convert:hover {\n",
              "      background-color: #434B5C;\n",
              "      box-shadow: 0px 1px 3px 1px rgba(0, 0, 0, 0.15);\n",
              "      filter: drop-shadow(0px 1px 2px rgba(0, 0, 0, 0.3));\n",
              "      fill: #FFFFFF;\n",
              "    }\n",
              "  </style>\n",
              "\n",
              "      <script>\n",
              "        const buttonEl =\n",
              "          document.querySelector('#df-c5053d08-d77a-4203-b98f-c8fdb235f372 button.colab-df-convert');\n",
              "        buttonEl.style.display =\n",
              "          google.colab.kernel.accessAllowed ? 'block' : 'none';\n",
              "\n",
              "        async function convertToInteractive(key) {\n",
              "          const element = document.querySelector('#df-c5053d08-d77a-4203-b98f-c8fdb235f372');\n",
              "          const dataTable =\n",
              "            await google.colab.kernel.invokeFunction('convertToInteractive',\n",
              "                                                     [key], {});\n",
              "          if (!dataTable) return;\n",
              "\n",
              "          const docLinkHtml = 'Like what you see? Visit the ' +\n",
              "            '<a target=\"_blank\" href=https://colab.research.google.com/notebooks/data_table.ipynb>data table notebook</a>'\n",
              "            + ' to learn more about interactive tables.';\n",
              "          element.innerHTML = '';\n",
              "          dataTable['output_type'] = 'display_data';\n",
              "          await google.colab.output.renderOutput(dataTable, element);\n",
              "          const docLink = document.createElement('div');\n",
              "          docLink.innerHTML = docLinkHtml;\n",
              "          element.appendChild(docLink);\n",
              "        }\n",
              "      </script>\n",
              "    </div>\n",
              "  </div>\n",
              "  "
            ]
          },
          "metadata": {},
          "execution_count": 57
        }
      ]
    },
    {
      "cell_type": "code",
      "source": [
        "for c in {'wynik_ogólny'}:\n",
        "  print(c)\n",
        "  tukey = pairwise_tukeyhsd(endog = df[c],\n",
        "                          groups = df['Nastroj1_3cat_waznosc_3cat'],\n",
        "                          alpha=0.05)\n",
        "  print(tukey)"
      ],
      "metadata": {
        "colab": {
          "base_uri": "https://localhost:8080/"
        },
        "outputId": "84c87898-1620-4453-f3c9-449e89393309",
        "id": "kt4PBewdP0Oy"
      },
      "execution_count": null,
      "outputs": [
        {
          "output_type": "stream",
          "name": "stdout",
          "text": [
            "wynik_ogólny\n",
            "       Multiple Comparison of Means - Tukey HSD, FWER=0.05        \n",
            "==================================================================\n",
            "   group1        group2     meandiff p-adj   lower   upper  reject\n",
            "------------------------------------------------------------------\n",
            "    bad_high        bad_low  -0.9207 0.0001 -1.5114   -0.33   True\n",
            "    bad_high     bad_medium  -0.2067 0.9842 -0.8409  0.4275  False\n",
            "    bad_high      good_high    0.096 0.9994 -0.3803  0.5723  False\n",
            "    bad_high       good_low  -0.3667 0.5369 -0.9356  0.2022  False\n",
            "    bad_high    good_medium   0.1096 0.9995 -0.4455  0.6648  False\n",
            "    bad_high   neutral_high   0.2922 0.5768 -0.1744  0.7588  False\n",
            "    bad_high    neutral_low  -0.2969 0.7811  -0.861  0.2672  False\n",
            "    bad_high neutral_medium  -0.1969 0.9817 -0.7877  0.3938  False\n",
            "     bad_low     bad_medium    0.714 0.0443  0.0093  1.4187   True\n",
            "     bad_low      good_high   1.0167    0.0  0.4499  1.5836   True\n",
            "     bad_low       good_low    0.554 0.1611 -0.0926  1.2006  False\n",
            "     bad_low    good_medium   1.0303    0.0  0.3959  1.6648   True\n",
            "     bad_low   neutral_high   1.2129    0.0  0.6542  1.7716   True\n",
            "     bad_low    neutral_low   0.6238 0.0647 -0.0185  1.2662  False\n",
            "     bad_low neutral_medium   0.7238 0.0217  0.0579  1.3897   True\n",
            "  bad_medium      good_high   0.3027 0.8345 -0.3093  0.9147  False\n",
            "  bad_medium       good_low    -0.16 0.9984 -0.8465  0.5265  False\n",
            "  bad_medium    good_medium   0.3163 0.8725 -0.3588  0.9914  False\n",
            "  bad_medium   neutral_high   0.4989 0.2008 -0.1056  1.1033  False\n",
            "  bad_medium    neutral_low  -0.0902    1.0 -0.7727  0.5923  False\n",
            "  bad_medium neutral_medium   0.0098    1.0  -0.695  0.7145  False\n",
            "   good_high       good_low  -0.4627 0.1686 -1.0067  0.0814  False\n",
            "   good_high    good_medium   0.0136    1.0  -0.516  0.5432  False\n",
            "   good_high   neutral_high   0.1962  0.896 -0.2397  0.6321  False\n",
            "   good_high    neutral_low  -0.3929 0.3607 -0.9319  0.1461  False\n",
            "   good_high neutral_medium  -0.2929 0.7979 -0.8598  0.2739  False\n",
            "    good_low    good_medium   0.4763 0.2765 -0.1379  1.0905  False\n",
            "    good_low   neutral_high   0.6589 0.0045  0.1233  1.1944   True\n",
            "    good_low    neutral_low   0.0698    1.0 -0.5525  0.6921  False\n",
            "    good_low neutral_medium   0.1698 0.9963 -0.4768  0.8163  False\n",
            " good_medium   neutral_high   0.1826  0.975 -0.3383  0.7034  False\n",
            " good_medium    neutral_low  -0.4065 0.4887 -1.0163  0.2032  False\n",
            " good_medium neutral_medium  -0.3066 0.8518  -0.941  0.3279  False\n",
            "neutral_high    neutral_low  -0.5891  0.017 -1.1195 -0.0587   True\n",
            "neutral_high neutral_medium  -0.4891 0.1405 -1.0478  0.0696  False\n",
            " neutral_low neutral_medium      0.1 0.9999 -0.5424  0.7423  False\n",
            "------------------------------------------------------------------\n"
          ]
        }
      ]
    },
    {
      "cell_type": "code",
      "source": [
        "df[df.Nastroj2_3cat.astype('int') == 0].groupby('waznosc_3cat').wynik_ogólny.mean().round(3).sort_values()# neu"
      ],
      "metadata": {
        "colab": {
          "base_uri": "https://localhost:8080/"
        },
        "id": "AjlwuWv7kDtq",
        "outputId": "4953aef2-db89-4f2e-b7d9-62771283837d"
      },
      "execution_count": null,
      "outputs": [
        {
          "output_type": "execute_result",
          "data": {
            "text/plain": [
              "waznosc_3cat\n",
              "2.0    2.980\n",
              "0.0    3.300\n",
              "1.0    3.681\n",
              "Name: wynik_ogólny, dtype: float64"
            ]
          },
          "metadata": {},
          "execution_count": 38
        }
      ]
    },
    {
      "cell_type": "code",
      "source": [
        "df[df.komunikat == 0].groupby('waznosc_3cat').wynik_ogólny.mean().round(3).sort_values()# neu"
      ],
      "metadata": {
        "colab": {
          "base_uri": "https://localhost:8080/"
        },
        "id": "keuT-EPoj-ay",
        "outputId": "0593e843-9b30-41ad-97aa-63a81a10d2d3"
      },
      "execution_count": null,
      "outputs": [
        {
          "output_type": "execute_result",
          "data": {
            "text/plain": [
              "waznosc_3cat\n",
              "2.0    2.892\n",
              "0.0    3.317\n",
              "1.0    3.391\n",
              "Name: wynik_ogólny, dtype: float64"
            ]
          },
          "metadata": {},
          "execution_count": 30
        }
      ]
    },
    {
      "cell_type": "code",
      "source": [
        "df[df.Nastroj2_3cat.astype('int') == 1].groupby('waznosc_3cat').wynik_ogólny.mean().round(3).sort_values()# neu"
      ],
      "metadata": {
        "colab": {
          "base_uri": "https://localhost:8080/"
        },
        "id": "mbDLneaVkXTy",
        "outputId": "608e2209-3aed-414f-aceb-87e9853c2146"
      },
      "execution_count": null,
      "outputs": [
        {
          "output_type": "execute_result",
          "data": {
            "text/plain": [
              "waznosc_3cat\n",
              "2.0    3.261\n",
              "0.0    3.551\n",
              "1.0    3.903\n",
              "Name: wynik_ogólny, dtype: float64"
            ]
          },
          "metadata": {},
          "execution_count": 39
        }
      ]
    },
    {
      "cell_type": "code",
      "source": [
        "df[df.komunikat == 1].groupby('waznosc_3cat').wynik_ogólny.mean().round(3).sort_values()# pos"
      ],
      "metadata": {
        "colab": {
          "base_uri": "https://localhost:8080/"
        },
        "id": "m9i7OiwogCbv",
        "outputId": "932660d8-f065-4ee6-fe28-cc11d7b4ed4a"
      },
      "execution_count": null,
      "outputs": [
        {
          "output_type": "execute_result",
          "data": {
            "text/plain": [
              "waznosc_3cat\n",
              "2.0    2.907\n",
              "0.0    3.334\n",
              "1.0    3.893\n",
              "Name: wynik_ogólny, dtype: float64"
            ]
          },
          "metadata": {},
          "execution_count": 28
        }
      ]
    },
    {
      "cell_type": "code",
      "source": [
        "df[df.Nastroj2_3cat.astype('int') == 2].groupby('waznosc_3cat').wynik_ogólny.mean().round(3).sort_values()# neu"
      ],
      "metadata": {
        "colab": {
          "base_uri": "https://localhost:8080/"
        },
        "id": "KTuWT_e9kZKy",
        "outputId": "378a69ed-efcb-47d4-9a08-4425241e4488"
      },
      "execution_count": null,
      "outputs": [
        {
          "output_type": "execute_result",
          "data": {
            "text/plain": [
              "waznosc_3cat\n",
              "2.0    2.320\n",
              "0.0    2.828\n",
              "1.0    2.871\n",
              "Name: wynik_ogólny, dtype: float64"
            ]
          },
          "metadata": {},
          "execution_count": 40
        }
      ]
    },
    {
      "cell_type": "code",
      "source": [
        "df[df.komunikat == 2].groupby('waznosc_3cat').wynik_ogólny.mean().round(3).sort_values() # neg"
      ],
      "metadata": {
        "colab": {
          "base_uri": "https://localhost:8080/"
        },
        "id": "JaXtxAS1jSGr",
        "outputId": "d8a15aa8-3fc7-41dd-92e1-b650260a3206"
      },
      "execution_count": null,
      "outputs": [
        {
          "output_type": "execute_result",
          "data": {
            "text/plain": [
              "waznosc_3cat\n",
              "2.0    2.719\n",
              "0.0    3.148\n",
              "1.0    3.331\n",
              "Name: wynik_ogólny, dtype: float64"
            ]
          },
          "metadata": {},
          "execution_count": 29
        }
      ]
    },
    {
      "cell_type": "code",
      "source": [
        "df.groupby('komunikat').wynik_ogólny.mean().round(3).sort_values()"
      ],
      "metadata": {
        "colab": {
          "base_uri": "https://localhost:8080/"
        },
        "id": "qHstfqwkiqv5",
        "outputId": "2f9c8303-95a4-446a-98b6-ff82d4f8afbe"
      },
      "execution_count": null,
      "outputs": [
        {
          "output_type": "execute_result",
          "data": {
            "text/plain": [
              "komunikat\n",
              "2    3.149\n",
              "0    3.263\n",
              "1    3.422\n",
              "Name: wynik_ogólny, dtype: float64"
            ]
          },
          "metadata": {},
          "execution_count": 27
        }
      ]
    },
    {
      "cell_type": "code",
      "source": [
        "df.groupby('waznosc_3cat_komunikat').wynik_ogólny.mean().round(3).sort_values()"
      ],
      "metadata": {
        "colab": {
          "base_uri": "https://localhost:8080/"
        },
        "id": "4ko3B5S5iKMM",
        "outputId": "467ec724-b27b-4372-a042-5da0901835d9"
      },
      "execution_count": null,
      "outputs": [
        {
          "output_type": "execute_result",
          "data": {
            "text/plain": [
              "waznosc_3cat_komunikat\n",
              "high_negative      2.719\n",
              "high_neutral       2.892\n",
              "high_positive      2.907\n",
              "medium_negative    3.148\n",
              "medium_neutral     3.317\n",
              "low_negative       3.331\n",
              "medium_positive    3.334\n",
              "low_neutral        3.391\n",
              "low_positive       3.893\n",
              "Name: wynik_ogólny, dtype: float64"
            ]
          },
          "metadata": {},
          "execution_count": 25
        }
      ]
    },
    {
      "cell_type": "code",
      "source": [
        "df[df.komunikat != 0].groupby('waznosc_3cat_komunikat').wynik_ogólny.mean().round(3).sort_values()"
      ],
      "metadata": {
        "colab": {
          "base_uri": "https://localhost:8080/"
        },
        "id": "ojIiRku3gPF_",
        "outputId": "36ab31a2-7b53-4dee-a7dd-40e12190d2be"
      },
      "execution_count": null,
      "outputs": [
        {
          "output_type": "execute_result",
          "data": {
            "text/plain": [
              "waznosc_3cat_komunikat\n",
              "high_negative      2.719\n",
              "high_positive      2.907\n",
              "medium_negative    3.148\n",
              "low_negative       3.331\n",
              "medium_positive    3.334\n",
              "low_positive       3.893\n",
              "Name: wynik_ogólny, dtype: float64"
            ]
          },
          "metadata": {},
          "execution_count": 24
        }
      ]
    },
    {
      "cell_type": "code",
      "source": [
        "df.groupby(['Nastroj1_3cat'])['Nastroj1', 'Nastroj2',\n",
        "                                           'nastroj_diff', 'wynik_ogólny'].mean().round(2).reset_index().sort_values(by ='wynik_ogólny')#.to_excel('/content/drive/MyDrive/temporal.xlsx')"
      ],
      "metadata": {
        "colab": {
          "base_uri": "https://localhost:8080/",
          "height": 143
        },
        "id": "hzlqXh1Nf8W0",
        "outputId": "fbaf9cb9-98b2-4fb6-87a4-214713d12fa1"
      },
      "execution_count": null,
      "outputs": [
        {
          "output_type": "execute_result",
          "data": {
            "text/plain": [
              "   Nastroj1_3cat  Nastroj1  Nastroj2  nastroj_diff  wynik_ogólny\n",
              "2            2.0      1.75      2.17          0.42          3.05\n",
              "1            1.0      4.14      3.65         -0.49          3.34\n",
              "0            0.0      3.00      2.94         -0.06          3.39"
            ],
            "text/html": [
              "\n",
              "  <div id=\"df-5408f822-8ae1-4bda-8e82-c7f47c0421a4\">\n",
              "    <div class=\"colab-df-container\">\n",
              "      <div>\n",
              "<style scoped>\n",
              "    .dataframe tbody tr th:only-of-type {\n",
              "        vertical-align: middle;\n",
              "    }\n",
              "\n",
              "    .dataframe tbody tr th {\n",
              "        vertical-align: top;\n",
              "    }\n",
              "\n",
              "    .dataframe thead th {\n",
              "        text-align: right;\n",
              "    }\n",
              "</style>\n",
              "<table border=\"1\" class=\"dataframe\">\n",
              "  <thead>\n",
              "    <tr style=\"text-align: right;\">\n",
              "      <th></th>\n",
              "      <th>Nastroj1_3cat</th>\n",
              "      <th>Nastroj1</th>\n",
              "      <th>Nastroj2</th>\n",
              "      <th>nastroj_diff</th>\n",
              "      <th>wynik_ogólny</th>\n",
              "    </tr>\n",
              "  </thead>\n",
              "  <tbody>\n",
              "    <tr>\n",
              "      <th>2</th>\n",
              "      <td>2.0</td>\n",
              "      <td>1.75</td>\n",
              "      <td>2.17</td>\n",
              "      <td>0.42</td>\n",
              "      <td>3.05</td>\n",
              "    </tr>\n",
              "    <tr>\n",
              "      <th>1</th>\n",
              "      <td>1.0</td>\n",
              "      <td>4.14</td>\n",
              "      <td>3.65</td>\n",
              "      <td>-0.49</td>\n",
              "      <td>3.34</td>\n",
              "    </tr>\n",
              "    <tr>\n",
              "      <th>0</th>\n",
              "      <td>0.0</td>\n",
              "      <td>3.00</td>\n",
              "      <td>2.94</td>\n",
              "      <td>-0.06</td>\n",
              "      <td>3.39</td>\n",
              "    </tr>\n",
              "  </tbody>\n",
              "</table>\n",
              "</div>\n",
              "      <button class=\"colab-df-convert\" onclick=\"convertToInteractive('df-5408f822-8ae1-4bda-8e82-c7f47c0421a4')\"\n",
              "              title=\"Convert this dataframe to an interactive table.\"\n",
              "              style=\"display:none;\">\n",
              "        \n",
              "  <svg xmlns=\"http://www.w3.org/2000/svg\" height=\"24px\"viewBox=\"0 0 24 24\"\n",
              "       width=\"24px\">\n",
              "    <path d=\"M0 0h24v24H0V0z\" fill=\"none\"/>\n",
              "    <path d=\"M18.56 5.44l.94 2.06.94-2.06 2.06-.94-2.06-.94-.94-2.06-.94 2.06-2.06.94zm-11 1L8.5 8.5l.94-2.06 2.06-.94-2.06-.94L8.5 2.5l-.94 2.06-2.06.94zm10 10l.94 2.06.94-2.06 2.06-.94-2.06-.94-.94-2.06-.94 2.06-2.06.94z\"/><path d=\"M17.41 7.96l-1.37-1.37c-.4-.4-.92-.59-1.43-.59-.52 0-1.04.2-1.43.59L10.3 9.45l-7.72 7.72c-.78.78-.78 2.05 0 2.83L4 21.41c.39.39.9.59 1.41.59.51 0 1.02-.2 1.41-.59l7.78-7.78 2.81-2.81c.8-.78.8-2.07 0-2.86zM5.41 20L4 18.59l7.72-7.72 1.47 1.35L5.41 20z\"/>\n",
              "  </svg>\n",
              "      </button>\n",
              "      \n",
              "  <style>\n",
              "    .colab-df-container {\n",
              "      display:flex;\n",
              "      flex-wrap:wrap;\n",
              "      gap: 12px;\n",
              "    }\n",
              "\n",
              "    .colab-df-convert {\n",
              "      background-color: #E8F0FE;\n",
              "      border: none;\n",
              "      border-radius: 50%;\n",
              "      cursor: pointer;\n",
              "      display: none;\n",
              "      fill: #1967D2;\n",
              "      height: 32px;\n",
              "      padding: 0 0 0 0;\n",
              "      width: 32px;\n",
              "    }\n",
              "\n",
              "    .colab-df-convert:hover {\n",
              "      background-color: #E2EBFA;\n",
              "      box-shadow: 0px 1px 2px rgba(60, 64, 67, 0.3), 0px 1px 3px 1px rgba(60, 64, 67, 0.15);\n",
              "      fill: #174EA6;\n",
              "    }\n",
              "\n",
              "    [theme=dark] .colab-df-convert {\n",
              "      background-color: #3B4455;\n",
              "      fill: #D2E3FC;\n",
              "    }\n",
              "\n",
              "    [theme=dark] .colab-df-convert:hover {\n",
              "      background-color: #434B5C;\n",
              "      box-shadow: 0px 1px 3px 1px rgba(0, 0, 0, 0.15);\n",
              "      filter: drop-shadow(0px 1px 2px rgba(0, 0, 0, 0.3));\n",
              "      fill: #FFFFFF;\n",
              "    }\n",
              "  </style>\n",
              "\n",
              "      <script>\n",
              "        const buttonEl =\n",
              "          document.querySelector('#df-5408f822-8ae1-4bda-8e82-c7f47c0421a4 button.colab-df-convert');\n",
              "        buttonEl.style.display =\n",
              "          google.colab.kernel.accessAllowed ? 'block' : 'none';\n",
              "\n",
              "        async function convertToInteractive(key) {\n",
              "          const element = document.querySelector('#df-5408f822-8ae1-4bda-8e82-c7f47c0421a4');\n",
              "          const dataTable =\n",
              "            await google.colab.kernel.invokeFunction('convertToInteractive',\n",
              "                                                     [key], {});\n",
              "          if (!dataTable) return;\n",
              "\n",
              "          const docLinkHtml = 'Like what you see? Visit the ' +\n",
              "            '<a target=\"_blank\" href=https://colab.research.google.com/notebooks/data_table.ipynb>data table notebook</a>'\n",
              "            + ' to learn more about interactive tables.';\n",
              "          element.innerHTML = '';\n",
              "          dataTable['output_type'] = 'display_data';\n",
              "          await google.colab.output.renderOutput(dataTable, element);\n",
              "          const docLink = document.createElement('div');\n",
              "          docLink.innerHTML = docLinkHtml;\n",
              "          element.appendChild(docLink);\n",
              "        }\n",
              "      </script>\n",
              "    </div>\n",
              "  </div>\n",
              "  "
            ]
          },
          "metadata": {},
          "execution_count": 11
        }
      ]
    },
    {
      "cell_type": "code",
      "source": [
        "for c in {'wynik_ogólny'}:\n",
        "  print(c)\n",
        "  tukey = pairwise_tukeyhsd(endog = df[c],\n",
        "                          groups = df['Nastroj1_3cat'],\n",
        "                          alpha=0.05)\n",
        "  #display results\n",
        "  print(tukey)"
      ],
      "metadata": {
        "colab": {
          "base_uri": "https://localhost:8080/"
        },
        "id": "zSQD0S3-gX0N",
        "outputId": "e2863d81-d154-4267-eff4-0cd549c52a94"
      },
      "execution_count": null,
      "outputs": [
        {
          "output_type": "stream",
          "name": "stdout",
          "text": [
            "wynik_ogólny\n",
            "Multiple Comparison of Means - Tukey HSD, FWER=0.05 \n",
            "====================================================\n",
            "group1 group2 meandiff p-adj   lower   upper  reject\n",
            "----------------------------------------------------\n",
            "   0.0    1.0  -0.0523 0.8717 -0.2985   0.194  False\n",
            "   0.0    2.0  -0.3443 0.0064  -0.608 -0.0807   True\n",
            "   1.0    2.0  -0.2921  0.026 -0.5561  -0.028   True\n",
            "----------------------------------------------------\n"
          ]
        }
      ]
    },
    {
      "cell_type": "code",
      "source": [
        "df.groupby(['Nastroj2_3cat'])['Nastroj1', 'Nastroj2',\n",
        "                                           'nastroj_diff', 'wynik_ogólny'].mean().round(2).reset_index().sort_values(by ='wynik_ogólny')#.to_excel('/content/drive/MyDrive/temporal.xlsx')"
      ],
      "metadata": {
        "colab": {
          "base_uri": "https://localhost:8080/",
          "height": 143
        },
        "id": "CVyJD-Nnf89N",
        "outputId": "cd42298e-4107-40e5-e804-94acf5f500e3"
      },
      "execution_count": null,
      "outputs": [
        {
          "output_type": "execute_result",
          "data": {
            "text/plain": [
              "   Nastroj2_3cat  Nastroj1  Nastroj2  nastroj_diff  wynik_ogólny\n",
              "2            2.0      2.36      1.74         -0.63          2.71\n",
              "0            0.0      2.97      3.00          0.03          3.42\n",
              "1            1.0      3.85      4.15          0.31          3.65"
            ],
            "text/html": [
              "\n",
              "  <div id=\"df-55915cfe-edb8-435a-84a4-89a9f2f34925\">\n",
              "    <div class=\"colab-df-container\">\n",
              "      <div>\n",
              "<style scoped>\n",
              "    .dataframe tbody tr th:only-of-type {\n",
              "        vertical-align: middle;\n",
              "    }\n",
              "\n",
              "    .dataframe tbody tr th {\n",
              "        vertical-align: top;\n",
              "    }\n",
              "\n",
              "    .dataframe thead th {\n",
              "        text-align: right;\n",
              "    }\n",
              "</style>\n",
              "<table border=\"1\" class=\"dataframe\">\n",
              "  <thead>\n",
              "    <tr style=\"text-align: right;\">\n",
              "      <th></th>\n",
              "      <th>Nastroj2_3cat</th>\n",
              "      <th>Nastroj1</th>\n",
              "      <th>Nastroj2</th>\n",
              "      <th>nastroj_diff</th>\n",
              "      <th>wynik_ogólny</th>\n",
              "    </tr>\n",
              "  </thead>\n",
              "  <tbody>\n",
              "    <tr>\n",
              "      <th>2</th>\n",
              "      <td>2.0</td>\n",
              "      <td>2.36</td>\n",
              "      <td>1.74</td>\n",
              "      <td>-0.63</td>\n",
              "      <td>2.71</td>\n",
              "    </tr>\n",
              "    <tr>\n",
              "      <th>0</th>\n",
              "      <td>0.0</td>\n",
              "      <td>2.97</td>\n",
              "      <td>3.00</td>\n",
              "      <td>0.03</td>\n",
              "      <td>3.42</td>\n",
              "    </tr>\n",
              "    <tr>\n",
              "      <th>1</th>\n",
              "      <td>1.0</td>\n",
              "      <td>3.85</td>\n",
              "      <td>4.15</td>\n",
              "      <td>0.31</td>\n",
              "      <td>3.65</td>\n",
              "    </tr>\n",
              "  </tbody>\n",
              "</table>\n",
              "</div>\n",
              "      <button class=\"colab-df-convert\" onclick=\"convertToInteractive('df-55915cfe-edb8-435a-84a4-89a9f2f34925')\"\n",
              "              title=\"Convert this dataframe to an interactive table.\"\n",
              "              style=\"display:none;\">\n",
              "        \n",
              "  <svg xmlns=\"http://www.w3.org/2000/svg\" height=\"24px\"viewBox=\"0 0 24 24\"\n",
              "       width=\"24px\">\n",
              "    <path d=\"M0 0h24v24H0V0z\" fill=\"none\"/>\n",
              "    <path d=\"M18.56 5.44l.94 2.06.94-2.06 2.06-.94-2.06-.94-.94-2.06-.94 2.06-2.06.94zm-11 1L8.5 8.5l.94-2.06 2.06-.94-2.06-.94L8.5 2.5l-.94 2.06-2.06.94zm10 10l.94 2.06.94-2.06 2.06-.94-2.06-.94-.94-2.06-.94 2.06-2.06.94z\"/><path d=\"M17.41 7.96l-1.37-1.37c-.4-.4-.92-.59-1.43-.59-.52 0-1.04.2-1.43.59L10.3 9.45l-7.72 7.72c-.78.78-.78 2.05 0 2.83L4 21.41c.39.39.9.59 1.41.59.51 0 1.02-.2 1.41-.59l7.78-7.78 2.81-2.81c.8-.78.8-2.07 0-2.86zM5.41 20L4 18.59l7.72-7.72 1.47 1.35L5.41 20z\"/>\n",
              "  </svg>\n",
              "      </button>\n",
              "      \n",
              "  <style>\n",
              "    .colab-df-container {\n",
              "      display:flex;\n",
              "      flex-wrap:wrap;\n",
              "      gap: 12px;\n",
              "    }\n",
              "\n",
              "    .colab-df-convert {\n",
              "      background-color: #E8F0FE;\n",
              "      border: none;\n",
              "      border-radius: 50%;\n",
              "      cursor: pointer;\n",
              "      display: none;\n",
              "      fill: #1967D2;\n",
              "      height: 32px;\n",
              "      padding: 0 0 0 0;\n",
              "      width: 32px;\n",
              "    }\n",
              "\n",
              "    .colab-df-convert:hover {\n",
              "      background-color: #E2EBFA;\n",
              "      box-shadow: 0px 1px 2px rgba(60, 64, 67, 0.3), 0px 1px 3px 1px rgba(60, 64, 67, 0.15);\n",
              "      fill: #174EA6;\n",
              "    }\n",
              "\n",
              "    [theme=dark] .colab-df-convert {\n",
              "      background-color: #3B4455;\n",
              "      fill: #D2E3FC;\n",
              "    }\n",
              "\n",
              "    [theme=dark] .colab-df-convert:hover {\n",
              "      background-color: #434B5C;\n",
              "      box-shadow: 0px 1px 3px 1px rgba(0, 0, 0, 0.15);\n",
              "      filter: drop-shadow(0px 1px 2px rgba(0, 0, 0, 0.3));\n",
              "      fill: #FFFFFF;\n",
              "    }\n",
              "  </style>\n",
              "\n",
              "      <script>\n",
              "        const buttonEl =\n",
              "          document.querySelector('#df-55915cfe-edb8-435a-84a4-89a9f2f34925 button.colab-df-convert');\n",
              "        buttonEl.style.display =\n",
              "          google.colab.kernel.accessAllowed ? 'block' : 'none';\n",
              "\n",
              "        async function convertToInteractive(key) {\n",
              "          const element = document.querySelector('#df-55915cfe-edb8-435a-84a4-89a9f2f34925');\n",
              "          const dataTable =\n",
              "            await google.colab.kernel.invokeFunction('convertToInteractive',\n",
              "                                                     [key], {});\n",
              "          if (!dataTable) return;\n",
              "\n",
              "          const docLinkHtml = 'Like what you see? Visit the ' +\n",
              "            '<a target=\"_blank\" href=https://colab.research.google.com/notebooks/data_table.ipynb>data table notebook</a>'\n",
              "            + ' to learn more about interactive tables.';\n",
              "          element.innerHTML = '';\n",
              "          dataTable['output_type'] = 'display_data';\n",
              "          await google.colab.output.renderOutput(dataTable, element);\n",
              "          const docLink = document.createElement('div');\n",
              "          docLink.innerHTML = docLinkHtml;\n",
              "          element.appendChild(docLink);\n",
              "        }\n",
              "      </script>\n",
              "    </div>\n",
              "  </div>\n",
              "  "
            ]
          },
          "metadata": {},
          "execution_count": 10
        }
      ]
    },
    {
      "cell_type": "code",
      "source": [
        "for c in {'wynik_ogólny'}:\n",
        "  print(c)\n",
        "  tukey = pairwise_tukeyhsd(endog = df[c],\n",
        "                          groups = df['Nastroj2_3cat'],\n",
        "                          alpha=0.05)\n",
        "  #display results\n",
        "  print(tukey)"
      ],
      "metadata": {
        "colab": {
          "base_uri": "https://localhost:8080/"
        },
        "id": "Zfq4ZTmTgQwA",
        "outputId": "9aed9b52-4def-483b-c2d5-74e85050530e"
      },
      "execution_count": null,
      "outputs": [
        {
          "output_type": "stream",
          "name": "stdout",
          "text": [
            "wynik_ogólny\n",
            "Multiple Comparison of Means - Tukey HSD, FWER=0.05 \n",
            "====================================================\n",
            "group1 group2 meandiff p-adj   lower   upper  reject\n",
            "----------------------------------------------------\n",
            "   0.0    1.0   0.2253 0.0564 -0.0047  0.4553  False\n",
            "   0.0    2.0  -0.7124    0.0 -0.9451 -0.4797   True\n",
            "   1.0    2.0  -0.9377    0.0 -1.1828 -0.6926   True\n",
            "----------------------------------------------------\n"
          ]
        }
      ]
    },
    {
      "cell_type": "code",
      "source": [
        "df.groupby(['waznosc_3cat'])['Nastroj1', 'Nastroj2',\n",
        "                                           'nastroj_diff', 'wynik_ogólny'].mean().round(2).reset_index().sort_values(by ='wynik_ogólny')#.to_excel('/content/drive/MyDrive/temporal.xlsx')"
      ],
      "metadata": {
        "colab": {
          "base_uri": "https://localhost:8080/",
          "height": 143
        },
        "id": "G3X3Q-yBf8el",
        "outputId": "dd462707-a075-4b95-c1bd-e39b8c105b57"
      },
      "execution_count": null,
      "outputs": [
        {
          "output_type": "execute_result",
          "data": {
            "text/plain": [
              "   waznosc_3cat  Nastroj1  Nastroj2  nastroj_diff  wynik_ogólny\n",
              "2           2.0      3.02      2.91         -0.11          2.84\n",
              "0           0.0      3.15      3.15          0.00          3.28\n",
              "1           1.0      3.05      2.94         -0.11          3.50"
            ],
            "text/html": [
              "\n",
              "  <div id=\"df-80cd54ea-316f-41b9-b20f-273dd7953835\">\n",
              "    <div class=\"colab-df-container\">\n",
              "      <div>\n",
              "<style scoped>\n",
              "    .dataframe tbody tr th:only-of-type {\n",
              "        vertical-align: middle;\n",
              "    }\n",
              "\n",
              "    .dataframe tbody tr th {\n",
              "        vertical-align: top;\n",
              "    }\n",
              "\n",
              "    .dataframe thead th {\n",
              "        text-align: right;\n",
              "    }\n",
              "</style>\n",
              "<table border=\"1\" class=\"dataframe\">\n",
              "  <thead>\n",
              "    <tr style=\"text-align: right;\">\n",
              "      <th></th>\n",
              "      <th>waznosc_3cat</th>\n",
              "      <th>Nastroj1</th>\n",
              "      <th>Nastroj2</th>\n",
              "      <th>nastroj_diff</th>\n",
              "      <th>wynik_ogólny</th>\n",
              "    </tr>\n",
              "  </thead>\n",
              "  <tbody>\n",
              "    <tr>\n",
              "      <th>2</th>\n",
              "      <td>2.0</td>\n",
              "      <td>3.02</td>\n",
              "      <td>2.91</td>\n",
              "      <td>-0.11</td>\n",
              "      <td>2.84</td>\n",
              "    </tr>\n",
              "    <tr>\n",
              "      <th>0</th>\n",
              "      <td>0.0</td>\n",
              "      <td>3.15</td>\n",
              "      <td>3.15</td>\n",
              "      <td>0.00</td>\n",
              "      <td>3.28</td>\n",
              "    </tr>\n",
              "    <tr>\n",
              "      <th>1</th>\n",
              "      <td>1.0</td>\n",
              "      <td>3.05</td>\n",
              "      <td>2.94</td>\n",
              "      <td>-0.11</td>\n",
              "      <td>3.50</td>\n",
              "    </tr>\n",
              "  </tbody>\n",
              "</table>\n",
              "</div>\n",
              "      <button class=\"colab-df-convert\" onclick=\"convertToInteractive('df-80cd54ea-316f-41b9-b20f-273dd7953835')\"\n",
              "              title=\"Convert this dataframe to an interactive table.\"\n",
              "              style=\"display:none;\">\n",
              "        \n",
              "  <svg xmlns=\"http://www.w3.org/2000/svg\" height=\"24px\"viewBox=\"0 0 24 24\"\n",
              "       width=\"24px\">\n",
              "    <path d=\"M0 0h24v24H0V0z\" fill=\"none\"/>\n",
              "    <path d=\"M18.56 5.44l.94 2.06.94-2.06 2.06-.94-2.06-.94-.94-2.06-.94 2.06-2.06.94zm-11 1L8.5 8.5l.94-2.06 2.06-.94-2.06-.94L8.5 2.5l-.94 2.06-2.06.94zm10 10l.94 2.06.94-2.06 2.06-.94-2.06-.94-.94-2.06-.94 2.06-2.06.94z\"/><path d=\"M17.41 7.96l-1.37-1.37c-.4-.4-.92-.59-1.43-.59-.52 0-1.04.2-1.43.59L10.3 9.45l-7.72 7.72c-.78.78-.78 2.05 0 2.83L4 21.41c.39.39.9.59 1.41.59.51 0 1.02-.2 1.41-.59l7.78-7.78 2.81-2.81c.8-.78.8-2.07 0-2.86zM5.41 20L4 18.59l7.72-7.72 1.47 1.35L5.41 20z\"/>\n",
              "  </svg>\n",
              "      </button>\n",
              "      \n",
              "  <style>\n",
              "    .colab-df-container {\n",
              "      display:flex;\n",
              "      flex-wrap:wrap;\n",
              "      gap: 12px;\n",
              "    }\n",
              "\n",
              "    .colab-df-convert {\n",
              "      background-color: #E8F0FE;\n",
              "      border: none;\n",
              "      border-radius: 50%;\n",
              "      cursor: pointer;\n",
              "      display: none;\n",
              "      fill: #1967D2;\n",
              "      height: 32px;\n",
              "      padding: 0 0 0 0;\n",
              "      width: 32px;\n",
              "    }\n",
              "\n",
              "    .colab-df-convert:hover {\n",
              "      background-color: #E2EBFA;\n",
              "      box-shadow: 0px 1px 2px rgba(60, 64, 67, 0.3), 0px 1px 3px 1px rgba(60, 64, 67, 0.15);\n",
              "      fill: #174EA6;\n",
              "    }\n",
              "\n",
              "    [theme=dark] .colab-df-convert {\n",
              "      background-color: #3B4455;\n",
              "      fill: #D2E3FC;\n",
              "    }\n",
              "\n",
              "    [theme=dark] .colab-df-convert:hover {\n",
              "      background-color: #434B5C;\n",
              "      box-shadow: 0px 1px 3px 1px rgba(0, 0, 0, 0.15);\n",
              "      filter: drop-shadow(0px 1px 2px rgba(0, 0, 0, 0.3));\n",
              "      fill: #FFFFFF;\n",
              "    }\n",
              "  </style>\n",
              "\n",
              "      <script>\n",
              "        const buttonEl =\n",
              "          document.querySelector('#df-80cd54ea-316f-41b9-b20f-273dd7953835 button.colab-df-convert');\n",
              "        buttonEl.style.display =\n",
              "          google.colab.kernel.accessAllowed ? 'block' : 'none';\n",
              "\n",
              "        async function convertToInteractive(key) {\n",
              "          const element = document.querySelector('#df-80cd54ea-316f-41b9-b20f-273dd7953835');\n",
              "          const dataTable =\n",
              "            await google.colab.kernel.invokeFunction('convertToInteractive',\n",
              "                                                     [key], {});\n",
              "          if (!dataTable) return;\n",
              "\n",
              "          const docLinkHtml = 'Like what you see? Visit the ' +\n",
              "            '<a target=\"_blank\" href=https://colab.research.google.com/notebooks/data_table.ipynb>data table notebook</a>'\n",
              "            + ' to learn more about interactive tables.';\n",
              "          element.innerHTML = '';\n",
              "          dataTable['output_type'] = 'display_data';\n",
              "          await google.colab.output.renderOutput(dataTable, element);\n",
              "          const docLink = document.createElement('div');\n",
              "          docLink.innerHTML = docLinkHtml;\n",
              "          element.appendChild(docLink);\n",
              "        }\n",
              "      </script>\n",
              "    </div>\n",
              "  </div>\n",
              "  "
            ]
          },
          "metadata": {},
          "execution_count": 9
        }
      ]
    },
    {
      "cell_type": "code",
      "source": [
        "for c in {'wynik_ogólny'}:\n",
        "  print(c)\n",
        "  tukey = pairwise_tukeyhsd(endog = df[c],\n",
        "                          groups = df['waznosc_3cat'],\n",
        "                          alpha=0.05)\n",
        "  #display results\n",
        "  print(tukey)"
      ],
      "metadata": {
        "colab": {
          "base_uri": "https://localhost:8080/"
        },
        "id": "uiZCcQlhgRZq",
        "outputId": "469ffa36-f84f-446b-97c2-4c1bc7c7cd08"
      },
      "execution_count": null,
      "outputs": [
        {
          "output_type": "stream",
          "name": "stdout",
          "text": [
            "wynik_ogólny\n",
            "Multiple Comparison of Means - Tukey HSD, FWER=0.05 \n",
            "====================================================\n",
            "group1 group2 meandiff p-adj   lower   upper  reject\n",
            "----------------------------------------------------\n",
            "   0.0    1.0   0.2205 0.0986 -0.0307  0.4717  False\n",
            "   0.0    2.0  -0.4348 0.0012 -0.7218 -0.1479   True\n",
            "   1.0    2.0  -0.6553    0.0 -0.8997 -0.4109   True\n",
            "----------------------------------------------------\n"
          ]
        }
      ]
    },
    {
      "cell_type": "markdown",
      "source": [
        "###plot mood + involvement"
      ],
      "metadata": {
        "id": "y0K62quWVU4w"
      }
    },
    {
      "cell_type": "code",
      "source": [
        "g = sns.catplot(kind = 'box', data = df.sort_values(by = ['Nastroj1_3cat_waznosc_3cat']),\n",
        "                y = 'Nastroj1_3cat_waznosc_3cat', x = 'wynik_ogólny', hue = 'Nastroj1_3cat_waznosc_3cat',\n",
        "            aspect=1.4, height=5.8, dodge=False, legend=False,\n",
        "                palette = ['r', 'b', 'purple', 'g', 'gold', 'grey', 'orange', 'magenta', 'darkred'])\n",
        "\n",
        "\n",
        "g.set(xticks=[1,2,3,4,5], xlabel = 'PAS score', ylabel = 'Mood-pretest + personal importance')\n",
        "plt.show()"
      ],
      "metadata": {
        "colab": {
          "base_uri": "https://localhost:8080/",
          "height": 578
        },
        "outputId": "47165288-51be-4f91-8b3c-76825abd0eda",
        "id": "0e7vvCp4VZ67"
      },
      "execution_count": null,
      "outputs": [
        {
          "output_type": "display_data",
          "data": {
            "text/plain": [
              "<Figure size 812x580 with 1 Axes>"
            ],
            "image/png": "[encoded data removed]"
          },
          "metadata": {}
        }
      ]
    },
    {
      "cell_type": "code",
      "source": [
        "df['Nastroj2_3cat_waznosc_3cat'] = df.Nastroj2_3cat +\"-\" +\\\n",
        "                                df.waznosc_3cat.map({0:'medium', 1:'high', 2:'low'})\n",
        "\n",
        "df['Nastroj2_3cat_waznosc_3cat'].value_counts()"
      ],
      "metadata": {
        "colab": {
          "base_uri": "https://localhost:8080/"
        },
        "outputId": "291a676c-d151-496c-ee8c-64cf0bea9d18",
        "id": "lZBJfLu0VZ7T"
      },
      "execution_count": null,
      "outputs": [
        {
          "output_type": "execute_result",
          "data": {
            "text/plain": [
              "moderate-high      83\n",
              "bad-high           60\n",
              "good-high          56\n",
              "moderate-low       41\n",
              "good-medium        39\n",
              "bad-low            33\n",
              "moderate-medium    30\n",
              "good-low           28\n",
              "bad-medium         25\n",
              "Name: Nastroj2_3cat_waznosc_3cat, dtype: int64"
            ]
          },
          "metadata": {},
          "execution_count": 80
        }
      ]
    },
    {
      "cell_type": "code",
      "source": [
        "for c in {'wynik_ogólny'}:\n",
        "  print(c)\n",
        "  tukey = pairwise_tukeyhsd(endog = df[c],\n",
        "                          groups = df['Nastroj2_3cat_waznosc_3cat'],\n",
        "                          alpha=0.05)\n",
        "  #display results\n",
        "  print(tukey)"
      ],
      "metadata": {
        "colab": {
          "base_uri": "https://localhost:8080/"
        },
        "outputId": "e337c15d-3769-4573-db03-b13a7115f000",
        "id": "5L9xydYBVZ7T"
      },
      "execution_count": null,
      "outputs": [
        {
          "output_type": "stream",
          "name": "stdout",
          "text": [
            "wynik_ogólny\n",
            "        Multiple Comparison of Means - Tukey HSD, FWER=0.05         \n",
            "====================================================================\n",
            "    group1         group2     meandiff p-adj   lower   upper  reject\n",
            "--------------------------------------------------------------------\n",
            "     bad-high         bad-low  -0.5508 0.0278 -1.0693 -0.0322   True\n",
            "     bad-high      bad-medium  -0.0433    1.0 -0.6129  0.5263  False\n",
            "     bad-high       good-high   1.0321    0.0  0.5875  1.4767   True\n",
            "     bad-high        good-low   0.3903 0.3925 -0.1573   0.938  False\n",
            "     bad-high     good-medium   0.6804 0.0007  0.1883  1.1726   True\n",
            "     bad-high   moderate-high   0.8099    0.0  0.4044  1.2154   True\n",
            "     bad-high    moderate-low   0.1093 0.9987 -0.3755  0.5942  False\n",
            "     bad-high moderate-medium   0.4292 0.2341 -0.1059  0.9642  False\n",
            "      bad-low      bad-medium   0.5074 0.2376  -0.127  1.1419  False\n",
            "      bad-low       good-high   1.5828    0.0  1.0577  2.1079   True\n",
            "      bad-low        good-low   0.9411 0.0001  0.3263  1.5559   True\n",
            "      bad-low     good-medium   1.2312    0.0  0.6653  1.7972   True\n",
            "      bad-low   moderate-high   1.3606    0.0  0.8682  1.8531   True\n",
            "      bad-low    moderate-low   0.6601 0.0081  0.1005  1.2197   True\n",
            "      bad-low moderate-medium   0.9799    0.0  0.3763  1.5835   True\n",
            "   bad-medium       good-high   1.0754    0.0  0.4999  1.6509   True\n",
            "   bad-medium        good-low   0.4337 0.5061 -0.2247  1.0921  False\n",
            "   bad-medium     good-medium   0.7238  0.008  0.1107  1.3368   True\n",
            "   bad-medium   moderate-high   0.8532 0.0001  0.3073  1.3991   True\n",
            "   bad-medium    moderate-low   0.1527 0.9972 -0.4545  0.7598  False\n",
            "   bad-medium moderate-medium   0.4725 0.3601 -0.1755  1.1205  False\n",
            "    good-high        good-low  -0.6417 0.0102 -1.1956 -0.0879   True\n",
            "    good-high     good-medium  -0.3516  0.409 -0.8507  0.1474  False\n",
            "    good-high   moderate-high  -0.2222 0.7615  -0.636  0.1916  False\n",
            "    good-high    moderate-low  -0.9227    0.0 -1.4145 -0.4309   True\n",
            "    good-high moderate-medium  -0.6029 0.0165 -1.1443 -0.0615   True\n",
            "     good-low     good-medium   0.2901 0.8423 -0.3026  0.8828  False\n",
            "     good-low   moderate-high   0.4196 0.2338 -0.1034  0.9425  False\n",
            "     good-low    moderate-low   -0.281 0.8579 -0.8676  0.3056  False\n",
            "     good-low moderate-medium   0.0388    1.0 -0.5899  0.6676  False\n",
            "  good-medium   moderate-high   0.1294 0.9944 -0.3351   0.594  False\n",
            "  good-medium    moderate-low  -0.5711 0.0265 -1.1063 -0.0359   True\n",
            "  good-medium moderate-medium  -0.2513 0.9157 -0.8324  0.3298  False\n",
            "moderate-high    moderate-low  -0.7005 0.0001 -1.1573 -0.2438   True\n",
            "moderate-high moderate-medium  -0.3807 0.3267 -0.8904   0.129  False\n",
            " moderate-low moderate-medium   0.3198 0.7242 -0.2551  0.8947  False\n",
            "--------------------------------------------------------------------\n"
          ]
        }
      ]
    },
    {
      "cell_type": "markdown",
      "source": [
        "##Nastroj posttest - dep variable"
      ],
      "metadata": {
        "id": "BiJwR_jxRvKm"
      }
    },
    {
      "cell_type": "code",
      "source": [
        "for dep in {'Nastroj2_3cat'}:\n",
        "  print(dep)\n",
        "  model = ols(f\"\"\"{dep} ~ C(Nastroj1_3cat)+C(komunikat)+C(Nastroj1_3cat):C(komunikat)\"\"\",\n",
        "              data = df).fit()\n",
        "\n",
        "  print(sm.stats.anova_lm(model, typ=2).round(4))\n",
        "  print(model.summary())\n",
        "  print('\\n ********************************')"
      ],
      "metadata": {
        "colab": {
          "base_uri": "https://localhost:8080/"
        },
        "id": "dtBWZTB_v3tX",
        "outputId": "2597f4b4-0fa9-43a8-c519-e816242f6557"
      },
      "execution_count": null,
      "outputs": [
        {
          "output_type": "stream",
          "name": "stdout",
          "text": [
            "Nastroj2_3cat\n",
            "                                 sum_sq     df        F  PR(>F)\n",
            "C(Nastroj1_3cat)                48.9952    2.0  48.3021  0.0000\n",
            "C(komunikat)                     9.7391    2.0   9.6013  0.0001\n",
            "C(Nastroj1_3cat):C(komunikat)   14.7454    4.0   7.2684  0.0000\n",
            "Residual                       195.7697  386.0      NaN     NaN\n",
            "                            OLS Regression Results                            \n",
            "==============================================================================\n",
            "Dep. Variable:          Nastroj2_3cat   R-squared:                       0.271\n",
            "Model:                            OLS   Adj. R-squared:                  0.256\n",
            "Method:                 Least Squares   F-statistic:                     17.98\n",
            "Date:                Tue, 27 Jun 2023   Prob (F-statistic):           7.30e-23\n",
            "Time:                        12:08:11   Log-Likelihood:                -421.85\n",
            "No. Observations:                 395   AIC:                             861.7\n",
            "Df Residuals:                     386   BIC:                             897.5\n",
            "Df Model:                           8                                         \n",
            "Covariance Type:            nonrobust                                         \n",
            "=============================================================================================================\n",
            "                                                coef    std err          t      P>|t|      [0.025      0.975]\n",
            "-------------------------------------------------------------------------------------------------------------\n",
            "Intercept                                     0.3276      0.094      3.503      0.001       0.144       0.511\n",
            "C(Nastroj1_3cat)[T.1.0]                       0.4416      0.147      2.995      0.003       0.152       0.732\n",
            "C(Nastroj1_3cat)[T.2.0]                       1.4371      0.154      9.343      0.000       1.135       1.740\n",
            "C(komunikat)[T.1]                             0.1974      0.146      1.349      0.178      -0.090       0.485\n",
            "C(komunikat)[T.2]                             0.4280      0.141      3.025      0.003       0.150       0.706\n",
            "C(Nastroj1_3cat)[T.1.0]:C(komunikat)[T.1]    -0.0843      0.211     -0.400      0.689      -0.498       0.330\n",
            "C(Nastroj1_3cat)[T.2.0]:C(komunikat)[T.1]    -1.0871      0.221     -4.910      0.000      -1.522      -0.652\n",
            "C(Nastroj1_3cat)[T.1.0]:C(komunikat)[T.2]    -0.1203      0.207     -0.582      0.561      -0.527       0.286\n",
            "C(Nastroj1_3cat)[T.2.0]:C(komunikat)[T.2]    -0.5538      0.221     -2.501      0.013      -0.989      -0.118\n",
            "==============================================================================\n",
            "Omnibus:                        2.054   Durbin-Watson:                   1.859\n",
            "Prob(Omnibus):                  0.358   Jarque-Bera (JB):                2.119\n",
            "Skew:                           0.147   Prob(JB):                        0.347\n",
            "Kurtosis:                       2.795   Cond. No.                         13.2\n",
            "==============================================================================\n",
            "\n",
            "Notes:\n",
            "[1] Standard Errors assume that the covariance matrix of the errors is correctly specified.\n",
            "\n",
            " ********************************\n"
          ]
        }
      ]
    },
    {
      "cell_type": "code",
      "source": [
        "df.groupby(['Nastroj1_3cat_komunikat'])['Nastroj1', 'Nastroj2',\n",
        "                                           'nastroj_diff'].mean().round(2).reset_index().sort_values(by ='Nastroj2')#.to_excel('/content/drive/MyDrive/temporal.xlsx')"
      ],
      "metadata": {
        "colab": {
          "base_uri": "https://localhost:8080/",
          "height": 331
        },
        "id": "HvXmDU2EwXxQ",
        "outputId": "5accc6d3-6c77-45f8-abdd-a2ae7cbcaab9"
      },
      "execution_count": null,
      "outputs": [
        {
          "output_type": "execute_result",
          "data": {
            "text/plain": [
              "  Nastroj1_3cat_komunikat  Nastroj1  Nastroj2  nastroj_diff\n",
              "1             bad_neutral      1.65      1.85          0.21\n",
              "0            bad_negative      1.83      1.94          0.11\n",
              "6        neutral_negative      3.00      2.64         -0.36\n",
              "2            bad_positive      1.78      2.65          0.88\n",
              "7         neutral_neutral      3.00      3.02          0.02\n",
              "8        neutral_positive      3.00      3.15          0.15\n",
              "3           good_negative      4.15      3.33         -0.83\n",
              "4            good_neutral      4.10      3.74         -0.36\n",
              "5           good_positive      4.16      3.92         -0.24"
            ],
            "text/html": [
              "\n",
              "  <div id=\"df-de49945b-8b5a-48b2-b069-9754e5984502\">\n",
              "    <div class=\"colab-df-container\">\n",
              "      <div>\n",
              "<style scoped>\n",
              "    .dataframe tbody tr th:only-of-type {\n",
              "        vertical-align: middle;\n",
              "    }\n",
              "\n",
              "    .dataframe tbody tr th {\n",
              "        vertical-align: top;\n",
              "    }\n",
              "\n",
              "    .dataframe thead th {\n",
              "        text-align: right;\n",
              "    }\n",
              "</style>\n",
              "<table border=\"1\" class=\"dataframe\">\n",
              "  <thead>\n",
              "    <tr style=\"text-align: right;\">\n",
              "      <th></th>\n",
              "      <th>Nastroj1_3cat_komunikat</th>\n",
              "      <th>Nastroj1</th>\n",
              "      <th>Nastroj2</th>\n",
              "      <th>nastroj_diff</th>\n",
              "    </tr>\n",
              "  </thead>\n",
              "  <tbody>\n",
              "    <tr>\n",
              "      <th>1</th>\n",
              "      <td>bad_neutral</td>\n",
              "      <td>1.65</td>\n",
              "      <td>1.85</td>\n",
              "      <td>0.21</td>\n",
              "    </tr>\n",
              "    <tr>\n",
              "      <th>0</th>\n",
              "      <td>bad_negative</td>\n",
              "      <td>1.83</td>\n",
              "      <td>1.94</td>\n",
              "      <td>0.11</td>\n",
              "    </tr>\n",
              "    <tr>\n",
              "      <th>6</th>\n",
              "      <td>neutral_negative</td>\n",
              "      <td>3.00</td>\n",
              "      <td>2.64</td>\n",
              "      <td>-0.36</td>\n",
              "    </tr>\n",
              "    <tr>\n",
              "      <th>2</th>\n",
              "      <td>bad_positive</td>\n",
              "      <td>1.78</td>\n",
              "      <td>2.65</td>\n",
              "      <td>0.88</td>\n",
              "    </tr>\n",
              "    <tr>\n",
              "      <th>7</th>\n",
              "      <td>neutral_neutral</td>\n",
              "      <td>3.00</td>\n",
              "      <td>3.02</td>\n",
              "      <td>0.02</td>\n",
              "    </tr>\n",
              "    <tr>\n",
              "      <th>8</th>\n",
              "      <td>neutral_positive</td>\n",
              "      <td>3.00</td>\n",
              "      <td>3.15</td>\n",
              "      <td>0.15</td>\n",
              "    </tr>\n",
              "    <tr>\n",
              "      <th>3</th>\n",
              "      <td>good_negative</td>\n",
              "      <td>4.15</td>\n",
              "      <td>3.33</td>\n",
              "      <td>-0.83</td>\n",
              "    </tr>\n",
              "    <tr>\n",
              "      <th>4</th>\n",
              "      <td>good_neutral</td>\n",
              "      <td>4.10</td>\n",
              "      <td>3.74</td>\n",
              "      <td>-0.36</td>\n",
              "    </tr>\n",
              "    <tr>\n",
              "      <th>5</th>\n",
              "      <td>good_positive</td>\n",
              "      <td>4.16</td>\n",
              "      <td>3.92</td>\n",
              "      <td>-0.24</td>\n",
              "    </tr>\n",
              "  </tbody>\n",
              "</table>\n",
              "</div>\n",
              "      <button class=\"colab-df-convert\" onclick=\"convertToInteractive('df-de49945b-8b5a-48b2-b069-9754e5984502')\"\n",
              "              title=\"Convert this dataframe to an interactive table.\"\n",
              "              style=\"display:none;\">\n",
              "        \n",
              "  <svg xmlns=\"http://www.w3.org/2000/svg\" height=\"24px\"viewBox=\"0 0 24 24\"\n",
              "       width=\"24px\">\n",
              "    <path d=\"M0 0h24v24H0V0z\" fill=\"none\"/>\n",
              "    <path d=\"M18.56 5.44l.94 2.06.94-2.06 2.06-.94-2.06-.94-.94-2.06-.94 2.06-2.06.94zm-11 1L8.5 8.5l.94-2.06 2.06-.94-2.06-.94L8.5 2.5l-.94 2.06-2.06.94zm10 10l.94 2.06.94-2.06 2.06-.94-2.06-.94-.94-2.06-.94 2.06-2.06.94z\"/><path d=\"M17.41 7.96l-1.37-1.37c-.4-.4-.92-.59-1.43-.59-.52 0-1.04.2-1.43.59L10.3 9.45l-7.72 7.72c-.78.78-.78 2.05 0 2.83L4 21.41c.39.39.9.59 1.41.59.51 0 1.02-.2 1.41-.59l7.78-7.78 2.81-2.81c.8-.78.8-2.07 0-2.86zM5.41 20L4 18.59l7.72-7.72 1.47 1.35L5.41 20z\"/>\n",
              "  </svg>\n",
              "      </button>\n",
              "      \n",
              "  <style>\n",
              "    .colab-df-container {\n",
              "      display:flex;\n",
              "      flex-wrap:wrap;\n",
              "      gap: 12px;\n",
              "    }\n",
              "\n",
              "    .colab-df-convert {\n",
              "      background-color: #E8F0FE;\n",
              "      border: none;\n",
              "      border-radius: 50%;\n",
              "      cursor: pointer;\n",
              "      display: none;\n",
              "      fill: #1967D2;\n",
              "      height: 32px;\n",
              "      padding: 0 0 0 0;\n",
              "      width: 32px;\n",
              "    }\n",
              "\n",
              "    .colab-df-convert:hover {\n",
              "      background-color: #E2EBFA;\n",
              "      box-shadow: 0px 1px 2px rgba(60, 64, 67, 0.3), 0px 1px 3px 1px rgba(60, 64, 67, 0.15);\n",
              "      fill: #174EA6;\n",
              "    }\n",
              "\n",
              "    [theme=dark] .colab-df-convert {\n",
              "      background-color: #3B4455;\n",
              "      fill: #D2E3FC;\n",
              "    }\n",
              "\n",
              "    [theme=dark] .colab-df-convert:hover {\n",
              "      background-color: #434B5C;\n",
              "      box-shadow: 0px 1px 3px 1px rgba(0, 0, 0, 0.15);\n",
              "      filter: drop-shadow(0px 1px 2px rgba(0, 0, 0, 0.3));\n",
              "      fill: #FFFFFF;\n",
              "    }\n",
              "  </style>\n",
              "\n",
              "      <script>\n",
              "        const buttonEl =\n",
              "          document.querySelector('#df-de49945b-8b5a-48b2-b069-9754e5984502 button.colab-df-convert');\n",
              "        buttonEl.style.display =\n",
              "          google.colab.kernel.accessAllowed ? 'block' : 'none';\n",
              "\n",
              "        async function convertToInteractive(key) {\n",
              "          const element = document.querySelector('#df-de49945b-8b5a-48b2-b069-9754e5984502');\n",
              "          const dataTable =\n",
              "            await google.colab.kernel.invokeFunction('convertToInteractive',\n",
              "                                                     [key], {});\n",
              "          if (!dataTable) return;\n",
              "\n",
              "          const docLinkHtml = 'Like what you see? Visit the ' +\n",
              "            '<a target=\"_blank\" href=https://colab.research.google.com/notebooks/data_table.ipynb>data table notebook</a>'\n",
              "            + ' to learn more about interactive tables.';\n",
              "          element.innerHTML = '';\n",
              "          dataTable['output_type'] = 'display_data';\n",
              "          await google.colab.output.renderOutput(dataTable, element);\n",
              "          const docLink = document.createElement('div');\n",
              "          docLink.innerHTML = docLinkHtml;\n",
              "          element.appendChild(docLink);\n",
              "        }\n",
              "      </script>\n",
              "    </div>\n",
              "  </div>\n",
              "  "
            ]
          },
          "metadata": {},
          "execution_count": 85
        }
      ]
    },
    {
      "cell_type": "code",
      "source": [
        "for c in {'Nastroj2_3cat'}:\n",
        "  print(c)\n",
        "  tukey = pairwise_tukeyhsd(endog = df[c],\n",
        "                          groups = df['Nastroj1_3cat_komunikat'],\n",
        "                          alpha=0.05)\n",
        "  print(tukey)"
      ],
      "metadata": {
        "colab": {
          "base_uri": "https://localhost:8080/"
        },
        "id": "2p8iUvpDwT--",
        "outputId": "a9010c53-0044-453f-a7f5-823ae4e4c788"
      },
      "execution_count": null,
      "outputs": [
        {
          "output_type": "stream",
          "name": "stdout",
          "text": [
            "Nastroj2_3cat\n",
            "          Multiple Comparison of Means - Tukey HSD, FWER=0.05           \n",
            "========================================================================\n",
            "     group1           group2      meandiff p-adj   lower   upper  reject\n",
            "------------------------------------------------------------------------\n",
            "    bad_negative      bad_neutral   0.1258 0.9982 -0.4055  0.6571  False\n",
            "    bad_negative     bad_positive  -0.7639 0.0001 -1.2743 -0.2535   True\n",
            "    bad_negative    good_negative   -0.562 0.0093 -1.0436 -0.0803   True\n",
            "    bad_negative     good_neutral  -0.8697    0.0 -1.3831 -0.3562   True\n",
            "    bad_negative    good_positive  -0.7565 0.0001 -1.2401 -0.2729   True\n",
            "    bad_negative neutral_negative  -0.8833    0.0 -1.3801 -0.3866   True\n",
            "    bad_negative  neutral_neutral  -1.3113    0.0 -1.7827 -0.8399   True\n",
            "    bad_negative neutral_positive  -1.1139    0.0 -1.6243 -0.6035   True\n",
            "     bad_neutral     bad_positive  -0.8897    0.0 -1.4079 -0.3715   True\n",
            "     bad_neutral    good_negative  -0.6878 0.0005 -1.1778 -0.1978   True\n",
            "     bad_neutral     good_neutral  -0.9955    0.0 -1.5167 -0.4742   True\n",
            "     bad_neutral    good_positive  -0.8824    0.0 -1.3742 -0.3905   True\n",
            "     bad_neutral neutral_negative  -1.0092    0.0  -1.514 -0.5043   True\n",
            "     bad_neutral  neutral_neutral  -1.4371    0.0  -1.917 -0.9573   True\n",
            "     bad_neutral neutral_positive  -1.2397    0.0 -1.7579 -0.7215   True\n",
            "    bad_positive    good_negative   0.2019 0.9159 -0.2653  0.6691  False\n",
            "    bad_positive     good_neutral  -0.1058 0.9992 -0.6057  0.3942  False\n",
            "    bad_positive    good_positive   0.0074    1.0 -0.4619  0.4766  False\n",
            "    bad_positive neutral_negative  -0.1194 0.9975 -0.6022  0.3633  False\n",
            "    bad_positive  neutral_neutral  -0.5474 0.0065  -1.004 -0.0908   True\n",
            "    bad_positive neutral_positive    -0.35 0.4091 -0.8468  0.1468  False\n",
            "   good_negative     good_neutral  -0.3077 0.5166 -0.7783  0.1629  False\n",
            "   good_negative    good_positive  -0.1946 0.9026 -0.6324  0.2432  False\n",
            "   good_negative neutral_negative  -0.3214 0.3971 -0.7737  0.1309  False\n",
            "   good_negative  neutral_neutral  -0.7493    0.0 -1.1736 -0.3251   True\n",
            "   good_negative neutral_positive  -0.5519 0.0079 -1.0191 -0.0847   True\n",
            "    good_neutral    good_positive   0.1131 0.9981 -0.3594  0.5857  False\n",
            "    good_neutral neutral_negative  -0.0137    1.0 -0.4997  0.4724  False\n",
            "    good_neutral  neutral_neutral  -0.4416 0.0712 -0.9017  0.0184  False\n",
            "    good_neutral neutral_positive  -0.2442 0.8438 -0.7442  0.2557  False\n",
            "   good_positive neutral_negative  -0.1268 0.9943 -0.5812  0.3276  False\n",
            "   good_positive  neutral_neutral  -0.5548 0.0019 -0.9812 -0.1283   True\n",
            "   good_positive neutral_positive  -0.3574 0.3003 -0.8266  0.1119  False\n",
            "neutral_negative  neutral_neutral   -0.428 0.0655 -0.8693  0.0134  False\n",
            "neutral_negative neutral_positive  -0.2306 0.8599 -0.7133  0.2522  False\n",
            " neutral_neutral neutral_positive   0.1974 0.9157 -0.2592   0.654  False\n",
            "------------------------------------------------------------------------\n"
          ]
        }
      ]
    },
    {
      "cell_type": "code",
      "source": [
        "tt = pd.DataFrame(data=tukey._results_table.data[1:], columns=tukey._results_table.data[0])\n",
        "tt.head()"
      ],
      "metadata": {
        "colab": {
          "base_uri": "https://localhost:8080/",
          "height": 206
        },
        "outputId": "d8708c2b-8319-4679-c026-c70752fddb4f",
        "id": "VmhMPArI-yfd"
      },
      "execution_count": null,
      "outputs": [
        {
          "output_type": "execute_result",
          "data": {
            "text/plain": [
              "         group1         group2  meandiff   p-adj   lower   upper  reject\n",
              "0  bad_negative    bad_neutral    0.1258  0.9982 -0.4055  0.6571   False\n",
              "1  bad_negative   bad_positive   -0.7639  0.0001 -1.2743 -0.2535    True\n",
              "2  bad_negative  good_negative   -0.5620  0.0093 -1.0436 -0.0803    True\n",
              "3  bad_negative   good_neutral   -0.8697  0.0000 -1.3831 -0.3562    True\n",
              "4  bad_negative  good_positive   -0.7565  0.0001 -1.2401 -0.2729    True"
            ],
            "text/html": [
              "\n",
              "  <div id=\"df-2f5730fa-d6c7-4129-90a9-48dfdeaafc54\">\n",
              "    <div class=\"colab-df-container\">\n",
              "      <div>\n",
              "<style scoped>\n",
              "    .dataframe tbody tr th:only-of-type {\n",
              "        vertical-align: middle;\n",
              "    }\n",
              "\n",
              "    .dataframe tbody tr th {\n",
              "        vertical-align: top;\n",
              "    }\n",
              "\n",
              "    .dataframe thead th {\n",
              "        text-align: right;\n",
              "    }\n",
              "</style>\n",
              "<table border=\"1\" class=\"dataframe\">\n",
              "  <thead>\n",
              "    <tr style=\"text-align: right;\">\n",
              "      <th></th>\n",
              "      <th>group1</th>\n",
              "      <th>group2</th>\n",
              "      <th>meandiff</th>\n",
              "      <th>p-adj</th>\n",
              "      <th>lower</th>\n",
              "      <th>upper</th>\n",
              "      <th>reject</th>\n",
              "    </tr>\n",
              "  </thead>\n",
              "  <tbody>\n",
              "    <tr>\n",
              "      <th>0</th>\n",
              "      <td>bad_negative</td>\n",
              "      <td>bad_neutral</td>\n",
              "      <td>0.1258</td>\n",
              "      <td>0.9982</td>\n",
              "      <td>-0.4055</td>\n",
              "      <td>0.6571</td>\n",
              "      <td>False</td>\n",
              "    </tr>\n",
              "    <tr>\n",
              "      <th>1</th>\n",
              "      <td>bad_negative</td>\n",
              "      <td>bad_positive</td>\n",
              "      <td>-0.7639</td>\n",
              "      <td>0.0001</td>\n",
              "      <td>-1.2743</td>\n",
              "      <td>-0.2535</td>\n",
              "      <td>True</td>\n",
              "    </tr>\n",
              "    <tr>\n",
              "      <th>2</th>\n",
              "      <td>bad_negative</td>\n",
              "      <td>good_negative</td>\n",
              "      <td>-0.5620</td>\n",
              "      <td>0.0093</td>\n",
              "      <td>-1.0436</td>\n",
              "      <td>-0.0803</td>\n",
              "      <td>True</td>\n",
              "    </tr>\n",
              "    <tr>\n",
              "      <th>3</th>\n",
              "      <td>bad_negative</td>\n",
              "      <td>good_neutral</td>\n",
              "      <td>-0.8697</td>\n",
              "      <td>0.0000</td>\n",
              "      <td>-1.3831</td>\n",
              "      <td>-0.3562</td>\n",
              "      <td>True</td>\n",
              "    </tr>\n",
              "    <tr>\n",
              "      <th>4</th>\n",
              "      <td>bad_negative</td>\n",
              "      <td>good_positive</td>\n",
              "      <td>-0.7565</td>\n",
              "      <td>0.0001</td>\n",
              "      <td>-1.2401</td>\n",
              "      <td>-0.2729</td>\n",
              "      <td>True</td>\n",
              "    </tr>\n",
              "  </tbody>\n",
              "</table>\n",
              "</div>\n",
              "      <button class=\"colab-df-convert\" onclick=\"convertToInteractive('df-2f5730fa-d6c7-4129-90a9-48dfdeaafc54')\"\n",
              "              title=\"Convert this dataframe to an interactive table.\"\n",
              "              style=\"display:none;\">\n",
              "        \n",
              "  <svg xmlns=\"http://www.w3.org/2000/svg\" height=\"24px\"viewBox=\"0 0 24 24\"\n",
              "       width=\"24px\">\n",
              "    <path d=\"M0 0h24v24H0V0z\" fill=\"none\"/>\n",
              "    <path d=\"M18.56 5.44l.94 2.06.94-2.06 2.06-.94-2.06-.94-.94-2.06-.94 2.06-2.06.94zm-11 1L8.5 8.5l.94-2.06 2.06-.94-2.06-.94L8.5 2.5l-.94 2.06-2.06.94zm10 10l.94 2.06.94-2.06 2.06-.94-2.06-.94-.94-2.06-.94 2.06-2.06.94z\"/><path d=\"M17.41 7.96l-1.37-1.37c-.4-.4-.92-.59-1.43-.59-.52 0-1.04.2-1.43.59L10.3 9.45l-7.72 7.72c-.78.78-.78 2.05 0 2.83L4 21.41c.39.39.9.59 1.41.59.51 0 1.02-.2 1.41-.59l7.78-7.78 2.81-2.81c.8-.78.8-2.07 0-2.86zM5.41 20L4 18.59l7.72-7.72 1.47 1.35L5.41 20z\"/>\n",
              "  </svg>\n",
              "      </button>\n",
              "      \n",
              "  <style>\n",
              "    .colab-df-container {\n",
              "      display:flex;\n",
              "      flex-wrap:wrap;\n",
              "      gap: 12px;\n",
              "    }\n",
              "\n",
              "    .colab-df-convert {\n",
              "      background-color: #E8F0FE;\n",
              "      border: none;\n",
              "      border-radius: 50%;\n",
              "      cursor: pointer;\n",
              "      display: none;\n",
              "      fill: #1967D2;\n",
              "      height: 32px;\n",
              "      padding: 0 0 0 0;\n",
              "      width: 32px;\n",
              "    }\n",
              "\n",
              "    .colab-df-convert:hover {\n",
              "      background-color: #E2EBFA;\n",
              "      box-shadow: 0px 1px 2px rgba(60, 64, 67, 0.3), 0px 1px 3px 1px rgba(60, 64, 67, 0.15);\n",
              "      fill: #174EA6;\n",
              "    }\n",
              "\n",
              "    [theme=dark] .colab-df-convert {\n",
              "      background-color: #3B4455;\n",
              "      fill: #D2E3FC;\n",
              "    }\n",
              "\n",
              "    [theme=dark] .colab-df-convert:hover {\n",
              "      background-color: #434B5C;\n",
              "      box-shadow: 0px 1px 3px 1px rgba(0, 0, 0, 0.15);\n",
              "      filter: drop-shadow(0px 1px 2px rgba(0, 0, 0, 0.3));\n",
              "      fill: #FFFFFF;\n",
              "    }\n",
              "  </style>\n",
              "\n",
              "      <script>\n",
              "        const buttonEl =\n",
              "          document.querySelector('#df-2f5730fa-d6c7-4129-90a9-48dfdeaafc54 button.colab-df-convert');\n",
              "        buttonEl.style.display =\n",
              "          google.colab.kernel.accessAllowed ? 'block' : 'none';\n",
              "\n",
              "        async function convertToInteractive(key) {\n",
              "          const element = document.querySelector('#df-2f5730fa-d6c7-4129-90a9-48dfdeaafc54');\n",
              "          const dataTable =\n",
              "            await google.colab.kernel.invokeFunction('convertToInteractive',\n",
              "                                                     [key], {});\n",
              "          if (!dataTable) return;\n",
              "\n",
              "          const docLinkHtml = 'Like what you see? Visit the ' +\n",
              "            '<a target=\"_blank\" href=https://colab.research.google.com/notebooks/data_table.ipynb>data table notebook</a>'\n",
              "            + ' to learn more about interactive tables.';\n",
              "          element.innerHTML = '';\n",
              "          dataTable['output_type'] = 'display_data';\n",
              "          await google.colab.output.renderOutput(dataTable, element);\n",
              "          const docLink = document.createElement('div');\n",
              "          docLink.innerHTML = docLinkHtml;\n",
              "          element.appendChild(docLink);\n",
              "        }\n",
              "      </script>\n",
              "    </div>\n",
              "  </div>\n",
              "  "
            ]
          },
          "metadata": {},
          "execution_count": 83
        }
      ]
    },
    {
      "cell_type": "code",
      "source": [
        "tt[tt.reject == True].to_excel('/content/drive/MyDrive/temporal.xlsx')"
      ],
      "metadata": {
        "id": "r0l7hhKI-yff"
      },
      "execution_count": null,
      "outputs": []
    },
    {
      "cell_type": "markdown",
      "source": [
        "##Nastroj"
      ],
      "metadata": {
        "id": "abXSXhWAT6Li"
      }
    },
    {
      "cell_type": "code",
      "source": [
        "# pos\n",
        "\n",
        "for d in cc:\n",
        "  dprzed = p3_pos[d[0]].values\n",
        "  dpo = p3_pos[d[1]].values\n",
        "  print(d)\n",
        "\n",
        "  value, p = ttest_rel(dpo, dprzed, alternative='greater') # , alternative='greater'\n",
        "  #if round(p*2 , 2) < 0.05:\n",
        "  if round(p , 2) < 0.05:\n",
        "    print(\"reject H0\")\n",
        "    cd = cohend(dpo, dprzed)\n",
        "    cd = round(cd, 2)\n",
        "    print('t: ', value.round(3), 'p-value: ', p.round(4), 'effect size: ', cd, \"\\n\")\n",
        "  else:\n",
        "    print(\"do NOT reject H0\")\n",
        "    print(value, p.round(4), \"\\n\")"
      ],
      "metadata": {
        "colab": {
          "base_uri": "https://localhost:8080/"
        },
        "outputId": "d65bc8d2-ff38-4b3f-e61a-45501c0496e0",
        "id": "sfe-1MFsUAMC"
      },
      "execution_count": null,
      "outputs": [
        {
          "output_type": "stream",
          "name": "stdout",
          "text": [
            "('Nastroj1', 'Nastroj2')\n",
            "reject H0\n",
            "t:  2.852 p-value:  0.0025 effect size:  0.22 \n",
            "\n"
          ]
        }
      ]
    },
    {
      "cell_type": "code",
      "source": [
        "# neg\n",
        "\n",
        "for d in cc:\n",
        "  dprzed = p3_neg[d[0]].values\n",
        "  dpo = p3_neg[d[1]].values\n",
        "  print(d)\n",
        "\n",
        "  value, p = ttest_rel(dpo, dprzed, alternative='less')\n",
        "  #if round(p*2 , 2) < 0.05:\n",
        "  if round(p , 2) < 0.05:\n",
        "    print(\"reject H0\")\n",
        "    cd = cohend(dpo, dprzed)\n",
        "    cd = round(cd, 2)\n",
        "    print('t: ', value.round(3), 'p-value: ', p.round(4), 'effect size: ', cd, \"\\n\")\n",
        "  else:\n",
        "    print(\"do NOT reject H0\")\n",
        "    print(value, p.round(4), \"\\n\")"
      ],
      "metadata": {
        "colab": {
          "base_uri": "https://localhost:8080/"
        },
        "outputId": "bf4c7f24-15c9-4b1c-ab08-65cf203933ab",
        "id": "jt_cm4ZRUAMa"
      },
      "execution_count": null,
      "outputs": [
        {
          "output_type": "stream",
          "name": "stdout",
          "text": [
            "('Nastroj1', 'Nastroj2')\n",
            "reject H0\n",
            "t:  -5.472 p-value:  0.0 effect size:  -0.41 \n",
            "\n"
          ]
        }
      ]
    },
    {
      "cell_type": "code",
      "source": [
        "# neu\n",
        "\n",
        "for d in cc:\n",
        "  dprzed = p3_neu[d[0]].values\n",
        "  dpo = p3_neu[d[1]].values\n",
        "  print(d)\n",
        "\n",
        "\n",
        "  value, p = ttest_rel(dpo, dprzed)\n",
        "  #if round(p*2 , 2) < 0.05:\n",
        "  if round(p , 2) < 0.05:\n",
        "    print(\"reject H0\")\n",
        "    cd = cohend(dpo, dprzed)\n",
        "    cd = round(cd, 2)\n",
        "    print('t: ', value.round(3), 'p-value: ', p.round(4), 'effect size: ', cd, \"\\n\")\n",
        "  else:\n",
        "    print(\"do NOT reject H0\")\n",
        "    print(value, p.round(4), \"\\n\")"
      ],
      "metadata": {
        "colab": {
          "base_uri": "https://localhost:8080/"
        },
        "outputId": "a9fe52e4-5367-47e4-ddaf-b1466ad744a7",
        "id": "CbOONkmQUHAd"
      },
      "execution_count": null,
      "outputs": [
        {
          "output_type": "stream",
          "name": "stdout",
          "text": [
            "('Nastroj1', 'Nastroj2')\n",
            "do NOT reject H0\n",
            "-0.847615811384459 0.3982 \n",
            "\n"
          ]
        }
      ]
    },
    {
      "cell_type": "code",
      "source": [
        "for d in {'wynik_ogólny'}:\n",
        "  p1 = p3_neu[d].values\n",
        "  p2 = p3_neg[d].values\n",
        "  p3 = p3_pos[d].values\n",
        "\n",
        "  print(d, '\\n')\n",
        "\n",
        "  value, p = ttest_ind(p1, p2) # , alternative='greater'\n",
        "  print('neu - neg ')\n",
        "\n",
        "  if round(p*3 , 2) < 0.05:\n",
        "  #if round(p , 2) < 0.05:\n",
        "    print(\"reject H0\")\n",
        "    cd = cohend(p1, p2)\n",
        "    cd = round(cd, 2)\n",
        "    print('t: ', value.round(3), 'p-value: ', p.round(4), 'effect size: ', cd, \"\\n\")\n",
        "  else:\n",
        "    print(\"do NOT reject H0\")\n",
        "    print(value, p.round(4), \"\\n\")\n",
        "\n",
        "\n",
        "  value, p = ttest_ind(p1, p3) # , alternative='greater'\n",
        "  print('neu - pos ')\n",
        "\n",
        "  if round(p*3 , 2) < 0.05:\n",
        "  #if round(p , 2) < 0.05:\n",
        "    print(\"reject H0\")\n",
        "    cd = cohend(p1, p3)\n",
        "    cd = round(cd, 2)\n",
        "    print('t: ', value.round(3), 'p-value: ', p.round(4), 'effect size: ', cd, \"\\n\")\n",
        "  else:\n",
        "    print(\"do NOT reject H0\")\n",
        "    print(value, p.round(4), \"\\n\")\n",
        "\n",
        "\n",
        "  value, p = ttest_ind(p2, p3) # , alternative='greater'\n",
        "  print('neg - pos ')\n",
        "\n",
        "  if round(p*3 , 2) < 0.05:\n",
        "  #if round(p , 2) < 0.05:\n",
        "    print(\"reject H0\")\n",
        "    cd = cohend(p2, p3)\n",
        "    cd = round(cd, 2)\n",
        "    print('t: ', value.round(3), 'p-value: ', p.round(4), 'effect size: ', cd, \"\\n\")\n",
        "  else:\n",
        "    print(\"do NOT reject H0\")\n",
        "    print(value, p.round(4), \"\\n\")"
      ],
      "metadata": {
        "colab": {
          "base_uri": "https://localhost:8080/"
        },
        "id": "iOkz_VjW8It4",
        "outputId": "4396ec6f-0559-4da8-f1b2-3cc1ad57a2d2"
      },
      "execution_count": null,
      "outputs": [
        {
          "output_type": "stream",
          "name": "stdout",
          "text": [
            "wynik_ogólny \n",
            "\n",
            "neu - neg \n",
            "do NOT reject H0\n",
            "1.0553027231434542 0.2923 \n",
            "\n",
            "neu - pos \n",
            "do NOT reject H0\n",
            "-1.4623852304790266 0.1448 \n",
            "\n",
            "neg - pos \n",
            "reject H0\n",
            "t:  -2.451 p-value:  0.0149 effect size:  -0.3 \n",
            "\n"
          ]
        }
      ]
    },
    {
      "cell_type": "code",
      "source": [
        "for d in {'Nastroj2_3cat'}:\n",
        "  p1 = p3_neu[d].values\n",
        "  p2 = p3_neg[d].values\n",
        "  p3 = p3_pos[d].values\n",
        "\n",
        "  print(d, '\\n')\n",
        "\n",
        "  value, p = ttest_ind(p1, p2) # , alternative='greater'\n",
        "  print('neu - neg ')\n",
        "\n",
        "  if round(p*3 , 2) < 0.05:\n",
        "  #if round(p , 2) < 0.05:\n",
        "    print(\"reject H0\")\n",
        "    cd = cohend(p1, p2)\n",
        "    cd = round(cd, 2)\n",
        "    print('t: ', value.round(3), 'p-value: ', p.round(4), 'effect size: ', cd, \"\\n\")\n",
        "  else:\n",
        "    print(\"do NOT reject H0\")\n",
        "    print(value, p.round(4), \"\\n\")\n",
        "\n",
        "\n",
        "  value, p = ttest_ind(p1, p3) # , alternative='greater'\n",
        "  print('neu - pos ')\n",
        "\n",
        "  if round(p*3 , 2) < 0.05:\n",
        "  #if round(p , 2) < 0.05:\n",
        "    print(\"reject H0\")\n",
        "    cd = cohend(p1, p3)\n",
        "    cd = round(cd, 2)\n",
        "    print('t: ', value.round(3), 'p-value: ', p.round(4), 'effect size: ', cd, \"\\n\")\n",
        "  else:\n",
        "    print(\"do NOT reject H0\")\n",
        "    print(value, p.round(4), \"\\n\")\n",
        "\n",
        "\n",
        "  value, p = ttest_ind(p2, p3) # , alternative='greater'\n",
        "  print('neg - pos ')\n",
        "\n",
        "  if round(p*3 , 2) < 0.05:\n",
        "  #if round(p , 2) < 0.05:\n",
        "    print(\"reject H0\")\n",
        "    cd = cohend(p2, p3)\n",
        "    cd = round(cd, 2)\n",
        "    print('t: ', value.round(3), 'p-value: ', p.round(4), 'effect size: ', cd, \"\\n\")\n",
        "  else:\n",
        "    print(\"do NOT reject H0\")\n",
        "    print(value, p.round(4), \"\\n\")"
      ],
      "metadata": {
        "colab": {
          "base_uri": "https://localhost:8080/"
        },
        "id": "orDxsZ160qGD",
        "outputId": "fa996c44-0085-4fff-fff7-80ff8b7a67e2"
      },
      "execution_count": null,
      "outputs": [
        {
          "output_type": "stream",
          "name": "stdout",
          "text": [
            "Nastroj2_3cat \n",
            "\n",
            "neu - neg \n",
            "reject H0\n",
            "t:  -2.733 p-value:  0.0067 effect size:  -0.34 \n",
            "\n",
            "neu - pos \n",
            "do NOT reject H0\n",
            "0.635148406938338 0.5259 \n",
            "\n",
            "neg - pos \n",
            "reject H0\n",
            "t:  3.531 p-value:  0.0005 effect size:  0.43 \n",
            "\n"
          ]
        }
      ]
    },
    {
      "cell_type": "code",
      "source": [
        "for d in {'nastroj_diff'}:\n",
        "  p1 = p3_neu[d].values\n",
        "  p2 = p3_neg[d].values\n",
        "  p3 = p3_pos[d].values\n",
        "\n",
        "  print(d, '\\n')\n",
        "\n",
        "  value, p = ttest_ind(p1, p2) # , alternative='greater'\n",
        "  print('neu - neg ')\n",
        "\n",
        "  if round(p*3 , 2) < 0.05:\n",
        "  #if round(p , 2) < 0.05:\n",
        "    print(\"reject H0\")\n",
        "    cd = cohend(p1, p2)\n",
        "    cd = round(cd, 2)\n",
        "    print('t: ', value.round(3), 'p-value: ', p.round(4), 'effect size: ', cd, \"\\n\")\n",
        "  else:\n",
        "    print(\"do NOT reject H0\")\n",
        "    print(value, p.round(4), \"\\n\")\n",
        "\n",
        "\n",
        "  value, p = ttest_ind(p1, p3) # , alternative='greater'\n",
        "  print('neu - pos ')\n",
        "\n",
        "  if round(p*3 , 2) < 0.05:\n",
        "  #if round(p , 2) < 0.05:\n",
        "    print(\"reject H0\")\n",
        "    cd = cohend(p1, p3)\n",
        "    cd = round(cd, 2)\n",
        "    print('t: ', value.round(3), 'p-value: ', p.round(4), 'effect size: ', cd, \"\\n\")\n",
        "  else:\n",
        "    print(\"do NOT reject H0\")\n",
        "    print(value, p.round(4), \"\\n\")\n",
        "\n",
        "\n",
        "  value, p = ttest_ind(p2, p3) # , alternative='greater'\n",
        "  print('neg - pos ')\n",
        "\n",
        "  if round(p*3 , 2) < 0.05:\n",
        "  #if round(p , 2) < 0.05:\n",
        "    print(\"reject H0\")\n",
        "    cd = cohend(p2, p3)\n",
        "    cd = round(cd, 2)\n",
        "    print('t: ', value.round(3), 'p-value: ', p.round(4), 'effect size: ', cd, \"\\n\")\n",
        "  else:\n",
        "    print(\"do NOT reject H0\")\n",
        "    print(value, p.round(4), \"\\n\")"
      ],
      "metadata": {
        "colab": {
          "base_uri": "https://localhost:8080/"
        },
        "id": "ZB0YqfipyXiz",
        "outputId": "668093d1-98e3-4694-955f-aa9aa8406549"
      },
      "execution_count": null,
      "outputs": [
        {
          "output_type": "stream",
          "name": "stdout",
          "text": [
            "nastroj_diff \n",
            "\n",
            "neu - neg \n",
            "reject H0\n",
            "t:  3.948 p-value:  0.0001 effect size:  0.49 \n",
            "\n",
            "neu - pos \n",
            "reject H0\n",
            "t:  -2.825 p-value:  0.0051 effect size:  -0.35 \n",
            "\n",
            "neg - pos \n",
            "reject H0\n",
            "t:  -5.862 p-value:  0.0 effect size:  -0.72 \n",
            "\n"
          ]
        }
      ]
    },
    {
      "cell_type": "code",
      "source": [
        "for c in {'nastroj_diff'}:\n",
        "  print(c)\n",
        "  tukey = pairwise_tukeyhsd(endog = df[c],\n",
        "                          groups = df['komunikat'],\n",
        "                          alpha=0.05)\n",
        "  #display results\n",
        "  print(tukey)"
      ],
      "metadata": {
        "colab": {
          "base_uri": "https://localhost:8080/"
        },
        "id": "F7DHUdIMaWt9",
        "outputId": "6a96c1e2-aee1-405d-bc8e-ab682726ba54"
      },
      "execution_count": null,
      "outputs": [
        {
          "output_type": "stream",
          "name": "stdout",
          "text": [
            "nastroj_diff\n",
            "Multiple Comparison of Means - Tukey HSD, FWER=0.05 \n",
            "====================================================\n",
            "group1 group2 meandiff p-adj   lower   upper  reject\n",
            "----------------------------------------------------\n",
            "     0      1   0.2672 0.0201  0.0338  0.5005   True\n",
            "     0      2  -0.3677 0.0007 -0.6002 -0.1353   True\n",
            "     1      2  -0.6349    0.0 -0.8674 -0.4025   True\n",
            "----------------------------------------------------\n"
          ]
        }
      ]
    },
    {
      "cell_type": "code",
      "source": [],
      "metadata": {
        "id": "WBsY8So8T7z0"
      },
      "execution_count": null,
      "outputs": []
    },
    {
      "cell_type": "code",
      "source": [],
      "metadata": {
        "id": "nmf8XVgQ-tF6"
      },
      "execution_count": null,
      "outputs": []
    },
    {
      "cell_type": "markdown",
      "source": [
        "##additional for article"
      ],
      "metadata": {
        "id": "bo-U9qe1R9Xt"
      }
    },
    {
      "cell_type": "code",
      "source": [
        "for c in {'wynik_ogólny'}:\n",
        "  print(c)\n",
        "  tukey = pairwise_tukeyhsd(endog = df[c],\n",
        "                          groups = df['waznosc_3cat'],\n",
        "                          alpha=0.05)\n",
        "  print(tukey)"
      ],
      "metadata": {
        "colab": {
          "base_uri": "https://localhost:8080/"
        },
        "id": "Iaz-fZgxr4Rb",
        "outputId": "e5921084-3d0c-4c36-fe47-21239f7c056d"
      },
      "execution_count": null,
      "outputs": [
        {
          "output_type": "stream",
          "name": "stdout",
          "text": [
            "wynik_ogólny\n",
            "Multiple Comparison of Means - Tukey HSD, FWER=0.05 \n",
            "====================================================\n",
            "group1 group2 meandiff p-adj   lower   upper  reject\n",
            "----------------------------------------------------\n",
            "   0.0    1.0   0.2205 0.0986 -0.0307  0.4717  False\n",
            "   0.0    2.0  -0.4348 0.0012 -0.7218 -0.1479   True\n",
            "   1.0    2.0  -0.6553    0.0 -0.8997 -0.4109   True\n",
            "----------------------------------------------------\n"
          ]
        }
      ]
    },
    {
      "cell_type": "code",
      "source": [
        "for c in {'wynik_ogólny'}:\n",
        "  print(c)\n",
        "  tukey = pairwise_tukeyhsd(endog = df[c],\n",
        "                          groups = df['Nastroj1_3cat'],\n",
        "                          alpha=0.05)\n",
        "  print(tukey)"
      ],
      "metadata": {
        "colab": {
          "base_uri": "https://localhost:8080/"
        },
        "id": "8HXlLxL2ryQZ",
        "outputId": "9416c349-d7e3-4680-a57d-5daae663a8ca"
      },
      "execution_count": null,
      "outputs": [
        {
          "output_type": "stream",
          "name": "stdout",
          "text": [
            "wynik_ogólny\n",
            "Multiple Comparison of Means - Tukey HSD, FWER=0.05 \n",
            "====================================================\n",
            "group1 group2 meandiff p-adj   lower   upper  reject\n",
            "----------------------------------------------------\n",
            "   0.0    1.0  -0.0523 0.8717 -0.2985   0.194  False\n",
            "   0.0    2.0  -0.3443 0.0064  -0.608 -0.0807   True\n",
            "   1.0    2.0  -0.2921  0.026 -0.5561  -0.028   True\n",
            "----------------------------------------------------\n"
          ]
        }
      ]
    },
    {
      "cell_type": "code",
      "source": [
        "for c in {'wynik_ogólny'}:\n",
        "  print(c)\n",
        "  tukey = pairwise_tukeyhsd(endog = df[c],\n",
        "                          groups = df['Nastroj2_3cat'],\n",
        "                          alpha=0.05)\n",
        "  print(tukey)"
      ],
      "metadata": {
        "colab": {
          "base_uri": "https://localhost:8080/"
        },
        "id": "FeJ7APBvr3Ag",
        "outputId": "2e9742a7-e294-4825-dadc-91a79693bd57"
      },
      "execution_count": null,
      "outputs": [
        {
          "output_type": "stream",
          "name": "stdout",
          "text": [
            "wynik_ogólny\n",
            "Multiple Comparison of Means - Tukey HSD, FWER=0.05 \n",
            "====================================================\n",
            "group1 group2 meandiff p-adj   lower   upper  reject\n",
            "----------------------------------------------------\n",
            "   0.0    1.0   0.2253 0.0564 -0.0047  0.4553  False\n",
            "   0.0    2.0  -0.7124    0.0 -0.9451 -0.4797   True\n",
            "   1.0    2.0  -0.9377    0.0 -1.1828 -0.6926   True\n",
            "----------------------------------------------------\n"
          ]
        }
      ]
    },
    {
      "cell_type": "code",
      "source": [
        "tt = pd.DataFrame(data=tukey._results_table.data[1:], columns=tukey._results_table.data[0])\n",
        "tt.head()"
      ],
      "metadata": {
        "colab": {
          "base_uri": "https://localhost:8080/",
          "height": 206
        },
        "id": "YAqKH_yU2SMy",
        "outputId": "32fa8ecf-fd92-45d4-9629-e29555332964"
      },
      "execution_count": null,
      "outputs": [
        {
          "output_type": "execute_result",
          "data": {
            "text/plain": [
              "     group1       group2  meandiff   p-adj   lower   upper  reject\n",
              "0  bad_high      bad_low   -0.9207  0.0001 -1.5114 -0.3300    True\n",
              "1  bad_high   bad_medium   -0.2067  0.9842 -0.8409  0.4275   False\n",
              "2  bad_high    good_high    0.0960  0.9994 -0.3803  0.5723   False\n",
              "3  bad_high     good_low   -0.3667  0.5369 -0.9356  0.2022   False\n",
              "4  bad_high  good_medium    0.1096  0.9995 -0.4455  0.6648   False"
            ],
            "text/html": [
              "\n",
              "  <div id=\"df-80f4017e-bd17-4e7b-a3a8-2b862afbcfc3\">\n",
              "    <div class=\"colab-df-container\">\n",
              "      <div>\n",
              "<style scoped>\n",
              "    .dataframe tbody tr th:only-of-type {\n",
              "        vertical-align: middle;\n",
              "    }\n",
              "\n",
              "    .dataframe tbody tr th {\n",
              "        vertical-align: top;\n",
              "    }\n",
              "\n",
              "    .dataframe thead th {\n",
              "        text-align: right;\n",
              "    }\n",
              "</style>\n",
              "<table border=\"1\" class=\"dataframe\">\n",
              "  <thead>\n",
              "    <tr style=\"text-align: right;\">\n",
              "      <th></th>\n",
              "      <th>group1</th>\n",
              "      <th>group2</th>\n",
              "      <th>meandiff</th>\n",
              "      <th>p-adj</th>\n",
              "      <th>lower</th>\n",
              "      <th>upper</th>\n",
              "      <th>reject</th>\n",
              "    </tr>\n",
              "  </thead>\n",
              "  <tbody>\n",
              "    <tr>\n",
              "      <th>0</th>\n",
              "      <td>bad_high</td>\n",
              "      <td>bad_low</td>\n",
              "      <td>-0.9207</td>\n",
              "      <td>0.0001</td>\n",
              "      <td>-1.5114</td>\n",
              "      <td>-0.3300</td>\n",
              "      <td>True</td>\n",
              "    </tr>\n",
              "    <tr>\n",
              "      <th>1</th>\n",
              "      <td>bad_high</td>\n",
              "      <td>bad_medium</td>\n",
              "      <td>-0.2067</td>\n",
              "      <td>0.9842</td>\n",
              "      <td>-0.8409</td>\n",
              "      <td>0.4275</td>\n",
              "      <td>False</td>\n",
              "    </tr>\n",
              "    <tr>\n",
              "      <th>2</th>\n",
              "      <td>bad_high</td>\n",
              "      <td>good_high</td>\n",
              "      <td>0.0960</td>\n",
              "      <td>0.9994</td>\n",
              "      <td>-0.3803</td>\n",
              "      <td>0.5723</td>\n",
              "      <td>False</td>\n",
              "    </tr>\n",
              "    <tr>\n",
              "      <th>3</th>\n",
              "      <td>bad_high</td>\n",
              "      <td>good_low</td>\n",
              "      <td>-0.3667</td>\n",
              "      <td>0.5369</td>\n",
              "      <td>-0.9356</td>\n",
              "      <td>0.2022</td>\n",
              "      <td>False</td>\n",
              "    </tr>\n",
              "    <tr>\n",
              "      <th>4</th>\n",
              "      <td>bad_high</td>\n",
              "      <td>good_medium</td>\n",
              "      <td>0.1096</td>\n",
              "      <td>0.9995</td>\n",
              "      <td>-0.4455</td>\n",
              "      <td>0.6648</td>\n",
              "      <td>False</td>\n",
              "    </tr>\n",
              "  </tbody>\n",
              "</table>\n",
              "</div>\n",
              "      <button class=\"colab-df-convert\" onclick=\"convertToInteractive('df-80f4017e-bd17-4e7b-a3a8-2b862afbcfc3')\"\n",
              "              title=\"Convert this dataframe to an interactive table.\"\n",
              "              style=\"display:none;\">\n",
              "        \n",
              "  <svg xmlns=\"http://www.w3.org/2000/svg\" height=\"24px\"viewBox=\"0 0 24 24\"\n",
              "       width=\"24px\">\n",
              "    <path d=\"M0 0h24v24H0V0z\" fill=\"none\"/>\n",
              "    <path d=\"M18.56 5.44l.94 2.06.94-2.06 2.06-.94-2.06-.94-.94-2.06-.94 2.06-2.06.94zm-11 1L8.5 8.5l.94-2.06 2.06-.94-2.06-.94L8.5 2.5l-.94 2.06-2.06.94zm10 10l.94 2.06.94-2.06 2.06-.94-2.06-.94-.94-2.06-.94 2.06-2.06.94z\"/><path d=\"M17.41 7.96l-1.37-1.37c-.4-.4-.92-.59-1.43-.59-.52 0-1.04.2-1.43.59L10.3 9.45l-7.72 7.72c-.78.78-.78 2.05 0 2.83L4 21.41c.39.39.9.59 1.41.59.51 0 1.02-.2 1.41-.59l7.78-7.78 2.81-2.81c.8-.78.8-2.07 0-2.86zM5.41 20L4 18.59l7.72-7.72 1.47 1.35L5.41 20z\"/>\n",
              "  </svg>\n",
              "      </button>\n",
              "      \n",
              "  <style>\n",
              "    .colab-df-container {\n",
              "      display:flex;\n",
              "      flex-wrap:wrap;\n",
              "      gap: 12px;\n",
              "    }\n",
              "\n",
              "    .colab-df-convert {\n",
              "      background-color: #E8F0FE;\n",
              "      border: none;\n",
              "      border-radius: 50%;\n",
              "      cursor: pointer;\n",
              "      display: none;\n",
              "      fill: #1967D2;\n",
              "      height: 32px;\n",
              "      padding: 0 0 0 0;\n",
              "      width: 32px;\n",
              "    }\n",
              "\n",
              "    .colab-df-convert:hover {\n",
              "      background-color: #E2EBFA;\n",
              "      box-shadow: 0px 1px 2px rgba(60, 64, 67, 0.3), 0px 1px 3px 1px rgba(60, 64, 67, 0.15);\n",
              "      fill: #174EA6;\n",
              "    }\n",
              "\n",
              "    [theme=dark] .colab-df-convert {\n",
              "      background-color: #3B4455;\n",
              "      fill: #D2E3FC;\n",
              "    }\n",
              "\n",
              "    [theme=dark] .colab-df-convert:hover {\n",
              "      background-color: #434B5C;\n",
              "      box-shadow: 0px 1px 3px 1px rgba(0, 0, 0, 0.15);\n",
              "      filter: drop-shadow(0px 1px 2px rgba(0, 0, 0, 0.3));\n",
              "      fill: #FFFFFF;\n",
              "    }\n",
              "  </style>\n",
              "\n",
              "      <script>\n",
              "        const buttonEl =\n",
              "          document.querySelector('#df-80f4017e-bd17-4e7b-a3a8-2b862afbcfc3 button.colab-df-convert');\n",
              "        buttonEl.style.display =\n",
              "          google.colab.kernel.accessAllowed ? 'block' : 'none';\n",
              "\n",
              "        async function convertToInteractive(key) {\n",
              "          const element = document.querySelector('#df-80f4017e-bd17-4e7b-a3a8-2b862afbcfc3');\n",
              "          const dataTable =\n",
              "            await google.colab.kernel.invokeFunction('convertToInteractive',\n",
              "                                                     [key], {});\n",
              "          if (!dataTable) return;\n",
              "\n",
              "          const docLinkHtml = 'Like what you see? Visit the ' +\n",
              "            '<a target=\"_blank\" href=https://colab.research.google.com/notebooks/data_table.ipynb>data table notebook</a>'\n",
              "            + ' to learn more about interactive tables.';\n",
              "          element.innerHTML = '';\n",
              "          dataTable['output_type'] = 'display_data';\n",
              "          await google.colab.output.renderOutput(dataTable, element);\n",
              "          const docLink = document.createElement('div');\n",
              "          docLink.innerHTML = docLinkHtml;\n",
              "          element.appendChild(docLink);\n",
              "        }\n",
              "      </script>\n",
              "    </div>\n",
              "  </div>\n",
              "  "
            ]
          },
          "metadata": {},
          "execution_count": 55
        }
      ]
    },
    {
      "cell_type": "code",
      "source": [
        "tt[tt.reject == True].to_excel('/content/drive/MyDrive/temporal.xlsx')"
      ],
      "metadata": {
        "id": "vAvhW9hV1omj"
      },
      "execution_count": null,
      "outputs": []
    },
    {
      "cell_type": "code",
      "source": [
        "g = sns.catplot(kind = 'box', data = df.sort_values(by = ['Nastroj1_3cat_waznosc_3cat']),\n",
        "                y = 'Nastroj1_3cat_waznosc_3cat', x = 'wynik_ogólny', hue = 'Nastroj1_3cat_waznosc_3cat',\n",
        "            aspect=1.4, height=5.8, dodge=False, legend=False,\n",
        "                palette = ['r', 'b', 'purple', 'g', 'gold', 'grey', 'orange', 'magenta', 'darkred'])\n",
        "\n",
        "\n",
        "g.set(xticks=[1,2,3,4,5], xlabel = 'PAS score', ylabel = 'Mood-pretest + personal importance')\n",
        "plt.show()"
      ],
      "metadata": {
        "colab": {
          "base_uri": "https://localhost:8080/",
          "height": 578
        },
        "id": "qYdaoyf89Hdw",
        "outputId": "47165288-51be-4f91-8b3c-76825abd0eda"
      },
      "execution_count": null,
      "outputs": [
        {
          "output_type": "display_data",
          "data": {
            "text/plain": [
              "<Figure size 812x580 with 1 Axes>"
            ],
            "image/png": "[encoded data removed]"
          },
          "metadata": {}
        }
      ]
    },
    {
      "cell_type": "code",
      "source": [
        "df['Nastroj2_3cat_waznosc_3cat'] = df.Nastroj2_3cat +\"-\" +\\\n",
        "                                df.waznosc_3cat.map({0:'medium', 1:'high', 2:'low'})\n",
        "\n",
        "df['Nastroj2_3cat_waznosc_3cat'].value_counts()"
      ],
      "metadata": {
        "colab": {
          "base_uri": "https://localhost:8080/"
        },
        "id": "u1EBwYHG9x9l",
        "outputId": "291a676c-d151-496c-ee8c-64cf0bea9d18"
      },
      "execution_count": null,
      "outputs": [
        {
          "output_type": "execute_result",
          "data": {
            "text/plain": [
              "moderate-high      83\n",
              "bad-high           60\n",
              "good-high          56\n",
              "moderate-low       41\n",
              "good-medium        39\n",
              "bad-low            33\n",
              "moderate-medium    30\n",
              "good-low           28\n",
              "bad-medium         25\n",
              "Name: Nastroj2_3cat_waznosc_3cat, dtype: int64"
            ]
          },
          "metadata": {},
          "execution_count": 80
        }
      ]
    },
    {
      "cell_type": "code",
      "source": [
        "for c in {'wynik_ogólny'}:\n",
        "  print(c)\n",
        "  tukey = pairwise_tukeyhsd(endog = df[c],\n",
        "                          groups = df['Nastroj2_3cat_waznosc_3cat'],\n",
        "                          alpha=0.05)\n",
        "  #display results\n",
        "  print(tukey)"
      ],
      "metadata": {
        "colab": {
          "base_uri": "https://localhost:8080/"
        },
        "id": "81aH_OS-KnZA",
        "outputId": "e337c15d-3769-4573-db03-b13a7115f000"
      },
      "execution_count": null,
      "outputs": [
        {
          "output_type": "stream",
          "name": "stdout",
          "text": [
            "wynik_ogólny\n",
            "        Multiple Comparison of Means - Tukey HSD, FWER=0.05         \n",
            "====================================================================\n",
            "    group1         group2     meandiff p-adj   lower   upper  reject\n",
            "--------------------------------------------------------------------\n",
            "     bad-high         bad-low  -0.5508 0.0278 -1.0693 -0.0322   True\n",
            "     bad-high      bad-medium  -0.0433    1.0 -0.6129  0.5263  False\n",
            "     bad-high       good-high   1.0321    0.0  0.5875  1.4767   True\n",
            "     bad-high        good-low   0.3903 0.3925 -0.1573   0.938  False\n",
            "     bad-high     good-medium   0.6804 0.0007  0.1883  1.1726   True\n",
            "     bad-high   moderate-high   0.8099    0.0  0.4044  1.2154   True\n",
            "     bad-high    moderate-low   0.1093 0.9987 -0.3755  0.5942  False\n",
            "     bad-high moderate-medium   0.4292 0.2341 -0.1059  0.9642  False\n",
            "      bad-low      bad-medium   0.5074 0.2376  -0.127  1.1419  False\n",
            "      bad-low       good-high   1.5828    0.0  1.0577  2.1079   True\n",
            "      bad-low        good-low   0.9411 0.0001  0.3263  1.5559   True\n",
            "      bad-low     good-medium   1.2312    0.0  0.6653  1.7972   True\n",
            "      bad-low   moderate-high   1.3606    0.0  0.8682  1.8531   True\n",
            "      bad-low    moderate-low   0.6601 0.0081  0.1005  1.2197   True\n",
            "      bad-low moderate-medium   0.9799    0.0  0.3763  1.5835   True\n",
            "   bad-medium       good-high   1.0754    0.0  0.4999  1.6509   True\n",
            "   bad-medium        good-low   0.4337 0.5061 -0.2247  1.0921  False\n",
            "   bad-medium     good-medium   0.7238  0.008  0.1107  1.3368   True\n",
            "   bad-medium   moderate-high   0.8532 0.0001  0.3073  1.3991   True\n",
            "   bad-medium    moderate-low   0.1527 0.9972 -0.4545  0.7598  False\n",
            "   bad-medium moderate-medium   0.4725 0.3601 -0.1755  1.1205  False\n",
            "    good-high        good-low  -0.6417 0.0102 -1.1956 -0.0879   True\n",
            "    good-high     good-medium  -0.3516  0.409 -0.8507  0.1474  False\n",
            "    good-high   moderate-high  -0.2222 0.7615  -0.636  0.1916  False\n",
            "    good-high    moderate-low  -0.9227    0.0 -1.4145 -0.4309   True\n",
            "    good-high moderate-medium  -0.6029 0.0165 -1.1443 -0.0615   True\n",
            "     good-low     good-medium   0.2901 0.8423 -0.3026  0.8828  False\n",
            "     good-low   moderate-high   0.4196 0.2338 -0.1034  0.9425  False\n",
            "     good-low    moderate-low   -0.281 0.8579 -0.8676  0.3056  False\n",
            "     good-low moderate-medium   0.0388    1.0 -0.5899  0.6676  False\n",
            "  good-medium   moderate-high   0.1294 0.9944 -0.3351   0.594  False\n",
            "  good-medium    moderate-low  -0.5711 0.0265 -1.1063 -0.0359   True\n",
            "  good-medium moderate-medium  -0.2513 0.9157 -0.8324  0.3298  False\n",
            "moderate-high    moderate-low  -0.7005 0.0001 -1.1573 -0.2438   True\n",
            "moderate-high moderate-medium  -0.3807 0.3267 -0.8904   0.129  False\n",
            " moderate-low moderate-medium   0.3198 0.7242 -0.2551  0.8947  False\n",
            "--------------------------------------------------------------------\n"
          ]
        }
      ]
    },
    {
      "cell_type": "code",
      "source": [
        "g = sns.catplot(kind = 'box', data = df.sort_values(by = ['Nastroj2_3cat_waznosc_3cat']),\n",
        "                y = 'Nastroj2_3cat_waznosc_3cat', x = 'wynik_ogólny', hue = 'Nastroj2_3cat_waznosc_3cat',\n",
        "            aspect=1.4, height=5.8, dodge=False, legend=False,\n",
        "                palette = ['darkred', 'r', 'r', 'darkgreen', 'g', 'g', 'darkorange', 'gold', 'gold'])\n",
        "\n",
        "\n",
        "g.set(xticks=[1,2,3,4,5], xlabel = 'PAS score', ylabel = 'Mood-posttest + personal importance')\n",
        "plt.show()"
      ],
      "metadata": {
        "colab": {
          "base_uri": "https://localhost:8080/",
          "height": 578
        },
        "id": "hA7gtxMbJ_z6",
        "outputId": "bcf08b3f-7836-437c-ef80-814e1bf2110a"
      },
      "execution_count": null,
      "outputs": [
        {
          "output_type": "display_data",
          "data": {
            "text/plain": [
              "<Figure size 812x580 with 1 Axes>"
            ],
            "image/png": "[encoded data removed]"
          },
          "metadata": {}
        }
      ]
    },
    {
      "cell_type": "code",
      "source": [
        "g = sns.catplot(kind = 'box', data = df.sort_values(by = ['Nastroj2_3cat_waznosc_3cat']),\n",
        "                y = 'Nastroj2_3cat_waznosc_3cat', x = 'wynik_ogólny', hue = 'Nastroj2_3cat_waznosc_3cat',\n",
        "            aspect=1.4, height=5.8, dodge=False, legend=False,\n",
        "                palette = ['r', 'b', 'purple', 'g', 'gold', 'grey', 'orange', 'magenta', 'darkred'])\n",
        "\n",
        "\n",
        "g.set(xticks=[1,2,3,4,5], xlabel = 'PAS score', ylabel = 'Mood-posttest + personal importance')\n",
        "plt.show()"
      ],
      "metadata": {
        "colab": {
          "base_uri": "https://localhost:8080/",
          "height": 578
        },
        "id": "8uGQbwmL93Nz",
        "outputId": "897948b0-9f95-4625-a13f-fbd076cb1ffc"
      },
      "execution_count": null,
      "outputs": [
        {
          "output_type": "display_data",
          "data": {
            "text/plain": [
              "<Figure size 812x580 with 1 Axes>"
            ],
            "image/png": "[encoded data removed]"
          },
          "metadata": {}
        }
      ]
    },
    {
      "cell_type": "code",
      "source": [
        "df['Nastroj2_3cat'] = df.Nastroj2_3cat.map({0:'moderate', 1:'good', 2:'bad'})"
      ],
      "metadata": {
        "id": "A_X9vao91byK"
      },
      "execution_count": null,
      "outputs": []
    },
    {
      "cell_type": "code",
      "source": [
        "g = sns.catplot(kind = 'box', data = df.sort_values(by = ['wynik_ogólny']),\n",
        "                y = 'Nastroj2_3cat', x = 'wynik_ogólny', hue = 'Nastroj2_3cat',\n",
        "            palette = ['magenta', 'g', 'gold'], aspect=1.4,\n",
        "                height=5.2, dodge=False, legend=False)\n",
        "g.set(xticks=[1,2,3,4,5], xlabel = 'PAS score', ylabel = 'Mood-posttest')\n",
        "plt.show()"
      ],
      "metadata": {
        "colab": {
          "base_uri": "https://localhost:8080/",
          "height": 518
        },
        "id": "XKGyEeFS0OX7",
        "outputId": "465da10b-9d98-49bc-f6ea-66b86fccf351"
      },
      "execution_count": null,
      "outputs": [
        {
          "output_type": "display_data",
          "data": {
            "text/plain": [
              "<Figure size 728x520 with 1 Axes>"
            ],
            "image/png": "[encoded data removed]"
          },
          "metadata": {}
        }
      ]
    },
    {
      "cell_type": "code",
      "source": [
        "df['Nastroj1_3cat_komunikat'] = df.Nastroj1_3cat.map({0:'moderate', 1:'good', 2:'bad'}) + \"-\" +\\\n",
        "                                 df.komunikat.map({0:'neutral', 1:'positive', 2:'negative'})\n",
        "\n",
        "df['Nastroj1_3cat_komunikat'].value_counts()"
      ],
      "metadata": {
        "colab": {
          "base_uri": "https://localhost:8080/"
        },
        "id": "WB9oAY7G2O9a",
        "outputId": "6c327044-7f47-4f68-8132-b54dd2f71349"
      },
      "execution_count": null,
      "outputs": [
        {
          "output_type": "execute_result",
          "data": {
            "text/plain": [
              "moderate-neutral     58\n",
              "good-negative        52\n",
              "good-positive        51\n",
              "moderate-negative    45\n",
              "bad-positive         40\n",
              "moderate-positive    40\n",
              "good-neutral         39\n",
              "bad-negative         36\n",
              "bad-neutral          34\n",
              "Name: Nastroj1_3cat_komunikat, dtype: int64"
            ]
          },
          "metadata": {},
          "execution_count": 59
        }
      ]
    },
    {
      "cell_type": "code",
      "source": [
        "g = sns.catplot(kind = 'box', data = df.sort_values(by = ['Nastroj1_3cat_komunikat']),\n",
        "                y = 'Nastroj1_3cat_komunikat', x = 'wynik_ogólny', hue = 'Nastroj1_3cat_komunikat',\n",
        "             aspect=1.4, height=5.8, dodge=False, legend=False,\n",
        "                palette = ['r', 'b', 'purple', 'g', 'gold', 'grey', 'orange', 'magenta', 'darkred'])\n",
        "g.set(xticks=[1,2,3,4,5], xlabel = 'PAS score', ylabel = 'Mood-pretest + stimulus')\n",
        "plt.show()"
      ],
      "metadata": {
        "colab": {
          "base_uri": "https://localhost:8080/",
          "height": 578
        },
        "id": "cHTx_VQV2RYo",
        "outputId": "51e26cf8-6fee-40fe-d9cf-bad7400955cd"
      },
      "execution_count": null,
      "outputs": [
        {
          "output_type": "display_data",
          "data": {
            "text/plain": [
              "<Figure size 812x580 with 1 Axes>"
            ],
            "image/png": "[encoded data removed]"
          },
          "metadata": {}
        }
      ]
    },
    {
      "cell_type": "code",
      "source": [
        "df['Nastroj2_3cat_komunikat'] = df.Nastroj2_3cat + \"-\" +\\\n",
        "                                 df.komunikat.map({0:'neutral', 1:'positive', 2:'negative'})\n",
        "\n",
        "df['Nastroj2_3cat_komunikat'].value_counts()"
      ],
      "metadata": {
        "colab": {
          "base_uri": "https://localhost:8080/"
        },
        "id": "LSOef_4L8S8V",
        "outputId": "c53b3d11-1c8b-438c-bab6-5c9f2de4ec44"
      },
      "execution_count": null,
      "outputs": [
        {
          "output_type": "execute_result",
          "data": {
            "text/plain": [
              "bad-negative         60\n",
              "moderate-neutral     58\n",
              "good-positive        57\n",
              "moderate-positive    52\n",
              "moderate-negative    44\n",
              "good-neutral         37\n",
              "bad-neutral          36\n",
              "good-negative        29\n",
              "bad-positive         22\n",
              "Name: Nastroj2_3cat_komunikat, dtype: int64"
            ]
          },
          "metadata": {},
          "execution_count": 69
        }
      ]
    },
    {
      "cell_type": "code",
      "source": [
        "g = sns.catplot(kind = 'box', data = df.sort_values(by = ['Nastroj2_3cat_komunikat']),\n",
        "                y = 'Nastroj2_3cat_komunikat', x = 'wynik_ogólny', hue = 'Nastroj2_3cat_komunikat',\n",
        "             aspect=1.4, height=5.8, dodge=False, legend=False,\n",
        "                palette = ['r', 'b', 'purple', 'g', 'gold', 'grey', 'orange', 'magenta', 'darkred'])\n",
        "g.set(xticks=[1,2,3,4,5], xlabel = 'PAS score', ylabel = 'Mood-posttest + stimulus')\n",
        "plt.show()"
      ],
      "metadata": {
        "colab": {
          "base_uri": "https://localhost:8080/",
          "height": 578
        },
        "id": "OjqZoMgb8apv",
        "outputId": "5d2ffbfe-dfb0-41b9-ad3a-22498f203a17"
      },
      "execution_count": null,
      "outputs": [
        {
          "output_type": "display_data",
          "data": {
            "text/plain": [
              "<Figure size 812x580 with 1 Axes>"
            ],
            "image/png": "[encoded data removed]"
          },
          "metadata": {}
        }
      ]
    },
    {
      "cell_type": "code",
      "source": [
        "df.groupby(['Nastroj1_3cat_waznosc_3cat'])['wynik_ogólny'].mean().round(2).reset_index()#.to_excel('/content/drive/MyDrive/temporal.xlsx')"
      ],
      "metadata": {
        "colab": {
          "base_uri": "https://localhost:8080/",
          "height": 331
        },
        "id": "5DdHiiSX4_rG",
        "outputId": "8f2ffd50-2bca-4279-a9c2-d081edbcf1f1"
      },
      "execution_count": null,
      "outputs": [
        {
          "output_type": "execute_result",
          "data": {
            "text/plain": [
              "  Nastroj1_3cat_waznosc_3cat  wynik_ogólny\n",
              "0                   bad_high          3.35\n",
              "1                    bad_low          2.43\n",
              "2                 bad_medium          3.15\n",
              "3                  good_high          3.45\n",
              "4                   good_low          2.99\n",
              "5                good_medium          3.46\n",
              "6               neutral_high          3.65\n",
              "7                neutral_low          3.06\n",
              "8             neutral_medium          3.16"
            ],
            "text/html": [
              "\n",
              "  <div id=\"df-c5053d08-d77a-4203-b98f-c8fdb235f372\">\n",
              "    <div class=\"colab-df-container\">\n",
              "      <div>\n",
              "<style scoped>\n",
              "    .dataframe tbody tr th:only-of-type {\n",
              "        vertical-align: middle;\n",
              "    }\n",
              "\n",
              "    .dataframe tbody tr th {\n",
              "        vertical-align: top;\n",
              "    }\n",
              "\n",
              "    .dataframe thead th {\n",
              "        text-align: right;\n",
              "    }\n",
              "</style>\n",
              "<table border=\"1\" class=\"dataframe\">\n",
              "  <thead>\n",
              "    <tr style=\"text-align: right;\">\n",
              "      <th></th>\n",
              "      <th>Nastroj1_3cat_waznosc_3cat</th>\n",
              "      <th>wynik_ogólny</th>\n",
              "    </tr>\n",
              "  </thead>\n",
              "  <tbody>\n",
              "    <tr>\n",
              "      <th>0</th>\n",
              "      <td>bad_high</td>\n",
              "      <td>3.35</td>\n",
              "    </tr>\n",
              "    <tr>\n",
              "      <th>1</th>\n",
              "      <td>bad_low</td>\n",
              "      <td>2.43</td>\n",
              "    </tr>\n",
              "    <tr>\n",
              "      <th>2</th>\n",
              "      <td>bad_medium</td>\n",
              "      <td>3.15</td>\n",
              "    </tr>\n",
              "    <tr>\n",
              "      <th>3</th>\n",
              "      <td>good_high</td>\n",
              "      <td>3.45</td>\n",
              "    </tr>\n",
              "    <tr>\n",
              "      <th>4</th>\n",
              "      <td>good_low</td>\n",
              "      <td>2.99</td>\n",
              "    </tr>\n",
              "    <tr>\n",
              "      <th>5</th>\n",
              "      <td>good_medium</td>\n",
              "      <td>3.46</td>\n",
              "    </tr>\n",
              "    <tr>\n",
              "      <th>6</th>\n",
              "      <td>neutral_high</td>\n",
              "      <td>3.65</td>\n",
              "    </tr>\n",
              "    <tr>\n",
              "      <th>7</th>\n",
              "      <td>neutral_low</td>\n",
              "      <td>3.06</td>\n",
              "    </tr>\n",
              "    <tr>\n",
              "      <th>8</th>\n",
              "      <td>neutral_medium</td>\n",
              "      <td>3.16</td>\n",
              "    </tr>\n",
              "  </tbody>\n",
              "</table>\n",
              "</div>\n",
              "      <button class=\"colab-df-convert\" onclick=\"convertToInteractive('df-c5053d08-d77a-4203-b98f-c8fdb235f372')\"\n",
              "              title=\"Convert this dataframe to an interactive table.\"\n",
              "              style=\"display:none;\">\n",
              "        \n",
              "  <svg xmlns=\"http://www.w3.org/2000/svg\" height=\"24px\"viewBox=\"0 0 24 24\"\n",
              "       width=\"24px\">\n",
              "    <path d=\"M0 0h24v24H0V0z\" fill=\"none\"/>\n",
              "    <path d=\"M18.56 5.44l.94 2.06.94-2.06 2.06-.94-2.06-.94-.94-2.06-.94 2.06-2.06.94zm-11 1L8.5 8.5l.94-2.06 2.06-.94-2.06-.94L8.5 2.5l-.94 2.06-2.06.94zm10 10l.94 2.06.94-2.06 2.06-.94-2.06-.94-.94-2.06-.94 2.06-2.06.94z\"/><path d=\"M17.41 7.96l-1.37-1.37c-.4-.4-.92-.59-1.43-.59-.52 0-1.04.2-1.43.59L10.3 9.45l-7.72 7.72c-.78.78-.78 2.05 0 2.83L4 21.41c.39.39.9.59 1.41.59.51 0 1.02-.2 1.41-.59l7.78-7.78 2.81-2.81c.8-.78.8-2.07 0-2.86zM5.41 20L4 18.59l7.72-7.72 1.47 1.35L5.41 20z\"/>\n",
              "  </svg>\n",
              "      </button>\n",
              "      \n",
              "  <style>\n",
              "    .colab-df-container {\n",
              "      display:flex;\n",
              "      flex-wrap:wrap;\n",
              "      gap: 12px;\n",
              "    }\n",
              "\n",
              "    .colab-df-convert {\n",
              "      background-color: #E8F0FE;\n",
              "      border: none;\n",
              "      border-radius: 50%;\n",
              "      cursor: pointer;\n",
              "      display: none;\n",
              "      fill: #1967D2;\n",
              "      height: 32px;\n",
              "      padding: 0 0 0 0;\n",
              "      width: 32px;\n",
              "    }\n",
              "\n",
              "    .colab-df-convert:hover {\n",
              "      background-color: #E2EBFA;\n",
              "      box-shadow: 0px 1px 2px rgba(60, 64, 67, 0.3), 0px 1px 3px 1px rgba(60, 64, 67, 0.15);\n",
              "      fill: #174EA6;\n",
              "    }\n",
              "\n",
              "    [theme=dark] .colab-df-convert {\n",
              "      background-color: #3B4455;\n",
              "      fill: #D2E3FC;\n",
              "    }\n",
              "\n",
              "    [theme=dark] .colab-df-convert:hover {\n",
              "      background-color: #434B5C;\n",
              "      box-shadow: 0px 1px 3px 1px rgba(0, 0, 0, 0.15);\n",
              "      filter: drop-shadow(0px 1px 2px rgba(0, 0, 0, 0.3));\n",
              "      fill: #FFFFFF;\n",
              "    }\n",
              "  </style>\n",
              "\n",
              "      <script>\n",
              "        const buttonEl =\n",
              "          document.querySelector('#df-c5053d08-d77a-4203-b98f-c8fdb235f372 button.colab-df-convert');\n",
              "        buttonEl.style.display =\n",
              "          google.colab.kernel.accessAllowed ? 'block' : 'none';\n",
              "\n",
              "        async function convertToInteractive(key) {\n",
              "          const element = document.querySelector('#df-c5053d08-d77a-4203-b98f-c8fdb235f372');\n",
              "          const dataTable =\n",
              "            await google.colab.kernel.invokeFunction('convertToInteractive',\n",
              "                                                     [key], {});\n",
              "          if (!dataTable) return;\n",
              "\n",
              "          const docLinkHtml = 'Like what you see? Visit the ' +\n",
              "            '<a target=\"_blank\" href=https://colab.research.google.com/notebooks/data_table.ipynb>data table notebook</a>'\n",
              "            + ' to learn more about interactive tables.';\n",
              "          element.innerHTML = '';\n",
              "          dataTable['output_type'] = 'display_data';\n",
              "          await google.colab.output.renderOutput(dataTable, element);\n",
              "          const docLink = document.createElement('div');\n",
              "          docLink.innerHTML = docLinkHtml;\n",
              "          element.appendChild(docLink);\n",
              "        }\n",
              "      </script>\n",
              "    </div>\n",
              "  </div>\n",
              "  "
            ]
          },
          "metadata": {},
          "execution_count": 57
        }
      ]
    },
    {
      "cell_type": "code",
      "source": [
        "df['waznosc_3cat_komunikat'] = df.waznosc_3cat.map({0:'medium', 1:'low', 2:'high'}) + \"_\" +\\\n",
        "                                 df.komunikat.map({0:'neutral', 1:'positive', 2:'negative'})\n",
        "\n",
        "df['waznosc_3cat_komunikat'].value_counts()"
      ],
      "metadata": {
        "colab": {
          "base_uri": "https://localhost:8080/"
        },
        "id": "tJWgDGs1d8nO",
        "outputId": "b88c440a-3bdf-449c-f3d6-6e7610f1ffd9"
      },
      "execution_count": null,
      "outputs": [
        {
          "output_type": "execute_result",
          "data": {
            "text/plain": [
              "low_negative       76\n",
              "low_neutral        71\n",
              "low_positive       52\n",
              "high_positive      41\n",
              "medium_positive    38\n",
              "high_negative      32\n",
              "medium_neutral     31\n",
              "high_neutral       29\n",
              "medium_negative    25\n",
              "Name: waznosc_3cat_komunikat, dtype: int64"
            ]
          },
          "metadata": {},
          "execution_count": 211
        }
      ]
    },
    {
      "cell_type": "code",
      "source": [
        "for c in {'wynik_ogólny'}:\n",
        "  print(c)\n",
        "  tukey = pairwise_tukeyhsd(endog = df[c],\n",
        "                          groups = df['waznosc_3cat_komunikat'],\n",
        "                          alpha=0.05)\n",
        "  print(tukey)"
      ],
      "metadata": {
        "colab": {
          "base_uri": "https://localhost:8080/"
        },
        "id": "JJwvQwC3pIJi",
        "outputId": "13d234d1-0e49-48f8-d829-4fd4f263fd42"
      },
      "execution_count": null,
      "outputs": [
        {
          "output_type": "stream",
          "name": "stdout",
          "text": [
            "wynik_ogólny\n",
            "         Multiple Comparison of Means - Tukey HSD, FWER=0.05          \n",
            "======================================================================\n",
            "     group1          group2     meandiff p-adj   lower   upper  reject\n",
            "----------------------------------------------------------------------\n",
            "  high_negative    high_neutral   0.1735 0.9967 -0.4991  0.8461  False\n",
            "  high_negative   high_positive   0.1883 0.9899 -0.4305   0.807  False\n",
            "  high_negative    low_negative   0.6118 0.0177   0.059  1.1646   True\n",
            "  high_negative     low_neutral   0.6721 0.0062  0.1136  1.2306   True\n",
            "  high_negative    low_positive   1.1743    0.0  0.5849  1.7637   True\n",
            "  high_negative medium_negative   0.4288 0.6072 -0.2715   1.129  False\n",
            "  high_negative  medium_neutral   0.5978 0.1127 -0.0633  1.2589  False\n",
            "  high_negative medium_positive   0.6151 0.0612 -0.0143  1.2445  False\n",
            "   high_neutral   high_positive   0.0148    1.0 -0.6217  0.6513  False\n",
            "   high_neutral    low_negative   0.4384 0.2934 -0.1342  1.0109  False\n",
            "   high_neutral     low_neutral   0.4986 0.1546 -0.0795  1.0767  False\n",
            "   high_neutral    low_positive   1.0008    0.0  0.3928  1.6088   True\n",
            "   high_neutral medium_negative   0.2553 0.9722 -0.4607  0.9712  False\n",
            "   high_neutral  medium_neutral   0.4243 0.5772 -0.2534   1.102  False\n",
            "   high_neutral medium_positive   0.4416 0.4544 -0.2052  1.0885  False\n",
            "  high_positive    low_negative   0.4236 0.1902 -0.0847  0.9319  False\n",
            "  high_positive     low_neutral   0.4838 0.0841 -0.0307  0.9984  False\n",
            "  high_positive    low_positive    0.986    0.0  0.4381  1.5339   True\n",
            "  high_positive medium_negative   0.2405 0.9699 -0.4252  0.9061  False\n",
            "  high_positive  medium_neutral   0.4095 0.5121 -0.2148  1.0339  False\n",
            "  high_positive medium_positive   0.4269 0.3729 -0.1638  1.0176  False\n",
            "   low_negative     low_neutral   0.0603    1.0 -0.3727  0.4932  False\n",
            "   low_negative    low_positive   0.5624 0.0071  0.0903  1.0345   True\n",
            "   low_negative medium_negative  -0.1831 0.9902 -0.7879  0.4217  False\n",
            "   low_negative  medium_neutral  -0.0141    1.0 -0.5731   0.545  False\n",
            "   low_negative medium_positive   0.0033    1.0 -0.5179  0.5245  False\n",
            "    low_neutral    low_positive   0.5022 0.0316  0.0234   0.981   True\n",
            "    low_neutral medium_negative  -0.2433  0.946 -0.8534  0.3667  False\n",
            "    low_neutral  medium_neutral  -0.0743    1.0  -0.639  0.4904  False\n",
            "    low_neutral medium_positive   -0.057    1.0 -0.5842  0.4703  False\n",
            "   low_positive medium_negative  -0.7455 0.0092  -1.384 -0.1071   True\n",
            "   low_positive  medium_neutral  -0.5765 0.0662 -1.1717  0.0187  False\n",
            "   low_positive medium_positive  -0.5591 0.0506  -1.119  0.0007  False\n",
            "medium_negative  medium_neutral    0.169  0.998 -0.5361  0.8742  False\n",
            "medium_negative medium_positive   0.1864 0.9948 -0.4892  0.8619  False\n",
            " medium_neutral medium_positive   0.0173    1.0 -0.6175  0.6522  False\n",
            "----------------------------------------------------------------------\n"
          ]
        }
      ]
    },
    {
      "cell_type": "code",
      "source": [
        "for c in {'wynik_ogólny'}:\n",
        "  print(c)\n",
        "  tukey = pairwise_tukeyhsd(endog = df[c],\n",
        "                          groups = df['waznosc_3cat'],\n",
        "                          alpha=0.05)\n",
        "  print(tukey)"
      ],
      "metadata": {
        "colab": {
          "base_uri": "https://localhost:8080/"
        },
        "id": "o9ENZelqeMbx",
        "outputId": "5ae437e0-1648-46d6-ce7c-8b830c620aba"
      },
      "execution_count": null,
      "outputs": [
        {
          "output_type": "stream",
          "name": "stdout",
          "text": [
            "wynik_ogólny\n",
            "Multiple Comparison of Means - Tukey HSD, FWER=0.05 \n",
            "====================================================\n",
            "group1 group2 meandiff p-adj   lower   upper  reject\n",
            "----------------------------------------------------\n",
            "   0.0    1.0   0.2205 0.0986 -0.0307  0.4717  False\n",
            "   0.0    2.0  -0.4348 0.0012 -0.7218 -0.1479   True\n",
            "   1.0    2.0  -0.6553    0.0 -0.8997 -0.4109   True\n",
            "----------------------------------------------------\n"
          ]
        }
      ]
    },
    {
      "cell_type": "code",
      "source": [
        "for c in {'wynik_ogólny'}:\n",
        "  print(c)\n",
        "  tukey = pairwise_tukeyhsd(endog = df[c],\n",
        "                          groups = df['komunikat'],\n",
        "                          alpha=0.05)\n",
        "  print(tukey)"
      ],
      "metadata": {
        "colab": {
          "base_uri": "https://localhost:8080/"
        },
        "id": "OustS9k4fpna",
        "outputId": "f23eedf1-994a-485e-a0bd-28d85e6900ff"
      },
      "execution_count": null,
      "outputs": [
        {
          "output_type": "stream",
          "name": "stdout",
          "text": [
            "wynik_ogólny\n",
            "Multiple Comparison of Means - Tukey HSD, FWER=0.05\n",
            "===================================================\n",
            "group1 group2 meandiff p-adj   lower  upper  reject\n",
            "---------------------------------------------------\n",
            "     0      1   0.1594 0.3155 -0.0989 0.4176  False\n",
            "     0      2  -0.1139  0.551 -0.3712 0.1433  False\n",
            "     1      2  -0.2733 0.0343 -0.5305 -0.016   True\n",
            "---------------------------------------------------\n"
          ]
        }
      ]
    }
  ]
}