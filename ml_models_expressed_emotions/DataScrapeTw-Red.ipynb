{
  "nbformat": 4,
  "nbformat_minor": 0,
  "metadata": {
    "colab": {
      "provenance": [],
      "collapsed_sections": [
        "TDMmCBpS7-nb"
      ],
      "toc_visible": true
    },
    "kernelspec": {
      "name": "python3",
      "display_name": "Python 3"
    },
    "language_info": {
      "name": "python"
    }
  },
  "cells": [
    {
      "cell_type": "code",
      "execution_count": null,
      "metadata": {
        "id": "IhVmFyQRKg7y"
      },
      "outputs": [],
      "source": [
        "import pandas as pd\n",
        "import numpy as np"
      ]
    },
    {
      "cell_type": "code",
      "source": [
        "!pip install tweepy\n",
        "# https://datascienceparichay.com/article/python-get-data-from-twitter-api-v2/\n",
        "# https://developer.twitter.com/en/docs/twitter-api/tweets/search/migrate\n",
        "# https://developer.twitter.com/en/docs/api-reference-index\n"
      ],
      "metadata": {
        "id": "yRGj1-MfKjFD"
      },
      "execution_count": null,
      "outputs": []
    },
    {
      "cell_type": "code",
      "source": [
        "!pip3 install tweepy --upgrade\n",
        "!pip3 install oauthlib --upgrade\n",
        "!pip3 install requests --upgrade\n",
        "!pip3 install urllib3 --upgrade\n"
      ],
      "metadata": {
        "id": "0UC6ls_jH8AX"
      },
      "execution_count": null,
      "outputs": []
    },
    {
      "cell_type": "code",
      "source": [
        "from tweepy import Client"
      ],
      "metadata": {
        "id": "Uw90h7XBL2k6"
      },
      "execution_count": null,
      "outputs": []
    },
    {
      "cell_type": "code",
      "source": [
        "'''                 Academic Account Application Approved\n",
        "\n",
        "Client ID\n",
        "\n",
        "Client secret\n",
        "\n",
        "NAME\n",
        "\n",
        "APP ID\n",
        "\n",
        "\n",
        "API key\n",
        "\n",
        "\n",
        "Key Secret\n",
        "\n",
        "\n",
        "Bearer token\n",
        "\n",
        "Access token\n",
        "'''"
      ],
      "metadata": {
        "id": "ix3j6jD59kxU"
      },
      "execution_count": null,
      "outputs": []
    },
    {
      "cell_type": "code",
      "source": [
        "import tweepy\n",
        "\n",
        "# your bearer token\n",
        "MY_BEARER_TOKEN = \" \"\n",
        "# this gives academic access from Konrad\n",
        "\n",
        "# create your client \n",
        "client = tweepy.Client(bearer_token=MY_BEARER_TOKEN)"
      ],
      "metadata": {
        "id": "or_PRgcnKjaI"
      },
      "execution_count": null,
      "outputs": []
    },
    {
      "cell_type": "code",
      "source": [
        "def clean_text(df, text_column):\n",
        "  import re\n",
        "  new_texts = []\n",
        "  for text in df[text_column]:\n",
        "    text = str(text).lower().replace(\"\\n\", \" \") # new lines\n",
        "    text = re.sub(r\"(http|https):\\/\\/([\\w\\d\\.]+)(\\/?)(.*)\", \" \", str(text)) #  urls\n",
        "    text = re.sub(r\"(www).([\\w\\d\\.]+)(\\/?)(.*)\", \" \", text) #  urls\n",
        "    text = re.sub(r\"(@)([A-Za-z0-9._-]+)\", \" \", text) #  @\n",
        "    text = re.sub(r\"(#)([A-Za-z0-9._-]+)\", \" \", text)\n",
        "    text = text.strip()\n",
        "    text = re.sub(r'\\s\\s+', ' ', text) \n",
        "    new_texts.append(text)\n",
        "  df[\"clean_\"+text_column] = new_texts\n",
        "  return df"
      ],
      "metadata": {
        "id": "3b98oQfO2Jma"
      },
      "execution_count": null,
      "outputs": []
    },
    {
      "cell_type": "markdown",
      "source": [
        "##Twython - alt to tweepy"
      ],
      "metadata": {
        "id": "QkvcMad68O0K"
      }
    },
    {
      "cell_type": "code",
      "source": [
        "!pip install twython\n",
        "# https://stackabuse.com/accessing-the-twitter-api-with-python/\n",
        "# https://buildmedia.readthedocs.org/media/pdf/twython/latest/twython.pdf"
      ],
      "metadata": {
        "id": "yb0mgEMC8QKp"
      },
      "execution_count": null,
      "outputs": []
    },
    {
      "cell_type": "code",
      "source": [
        "# Import the Twython class\n",
        "from twython import Twython\n",
        "import json"
      ],
      "metadata": {
        "id": "X6A0Wx6L8WbD"
      },
      "execution_count": null,
      "outputs": []
    },
    {
      "cell_type": "code",
      "source": [
        "# Load credentials from json file\n",
        "with open(\"twitter_credentials.json\", \"r\") as file:\n",
        "    creds = json.load(file)\n",
        "\n",
        "# Instantiate an object\n",
        "python_tweets = Twython(creds['CONSUMER_KEY'], creds['CONSUMER_SECRET'])"
      ],
      "metadata": {
        "id": "Tuh07FVl9vNF"
      },
      "execution_count": null,
      "outputs": []
    },
    {
      "cell_type": "code",
      "source": [
        "# Instantiate an object\n",
        "python_tweets = Twython(creds['CONSUMER_KEY'], creds['CONSUMER_SECRET'])\n",
        "APP_KEY = ' '\n",
        "ACCESS_TOKEN = ' '\n",
        "\n",
        "python_tweets = Twython(APP_KEY, access_token=ACCESS_TOKEN)\n",
        "\n",
        "# Create our query\n",
        "query = {'q': 'learn python',\n",
        "        'result_type': 'popular',\n",
        "        'count': 100,\n",
        "        'lang': 'en',\n",
        "        }"
      ],
      "metadata": {
        "id": "TlIFyuF28Rx4"
      },
      "execution_count": null,
      "outputs": []
    },
    {
      "cell_type": "code",
      "source": [
        "import pandas as pd\n",
        "\n",
        "# Search tweets\n",
        "dict_ = {'user': [], 'date': [], 'text': [], 'favorite_count': []}\n",
        "\n",
        "for status in python_tweets.search(**query)['statuses']:\n",
        "    dict_['user'].append(status['user']['screen_name'])\n",
        "    dict_['date'].append(status['created_at'])\n",
        "    dict_['text'].append(status['text'])\n",
        "    dict_['favorite_count'].append(status['favorite_count'])\n",
        "\n",
        "# Structure data in a pandas DataFrame for easier manipulation\n",
        "df = pd.DataFrame(dict_)\n",
        "df.sort_values(by='favorite_count', inplace=True, ascending=False)\n",
        "df.head(5)"
      ],
      "metadata": {
        "id": "yfmWQhGz8R2f"
      },
      "execution_count": null,
      "outputs": []
    },
    {
      "cell_type": "code",
      "source": [
        "from twython import TwythonStreamer\n",
        "import csv\n",
        "\n",
        "# Filter out unwanted data\n",
        "def process_tweet(tweet):\n",
        "    d = {}\n",
        "    d['hashtags'] = [hashtag['text'] for hashtag in tweet['entities']['hashtags']]\n",
        "    d['text'] = tweet['text']\n",
        "    d['user'] = tweet['user']['screen_name']\n",
        "    d['user_loc'] = tweet['user']['location']\n",
        "    return d\n",
        "    \n",
        "    \n",
        "# Create a class that inherits TwythonStreamer\n",
        "class MyStreamer(TwythonStreamer):     \n",
        "\n",
        "    # Received data\n",
        "    def on_success(self, data):\n",
        "\n",
        "        # Only collect tweets in English\n",
        "        if data['lang'] == 'en':\n",
        "            tweet_data = process_tweet(data)\n",
        "            self.save_to_csv(tweet_data)\n",
        "\n",
        "    # Problem with the API\n",
        "    def on_error(self, status_code, data):\n",
        "        print(status_code, data)\n",
        "        self.disconnect()\n",
        "        \n",
        "    # Save each tweet to csv file\n",
        "    def save_to_csv(self, tweet):\n",
        "        with open(r'saved_tweets.csv', 'a') as file:\n",
        "            writer = csv.writer(file)\n",
        "            writer.writerow(list(tweet.values()))"
      ],
      "metadata": {
        "id": "TE5fo1Th8wvT"
      },
      "execution_count": null,
      "outputs": []
    },
    {
      "cell_type": "code",
      "source": [],
      "metadata": {
        "id": "tuS_rdM98R6i"
      },
      "execution_count": null,
      "outputs": []
    },
    {
      "cell_type": "code",
      "source": [],
      "metadata": {
        "id": "hDlhKFYn8R91"
      },
      "execution_count": null,
      "outputs": []
    },
    {
      "cell_type": "code",
      "source": [],
      "metadata": {
        "id": "su4Y3o7-8SCB"
      },
      "execution_count": null,
      "outputs": []
    },
    {
      "cell_type": "markdown",
      "source": [
        "#Covid vax dataset"
      ],
      "metadata": {
        "id": "11TYogOxU1JD"
      }
    },
    {
      "cell_type": "markdown",
      "source": [
        "##Load previous data"
      ],
      "metadata": {
        "id": "TDMmCBpS7-nb"
      }
    },
    {
      "cell_type": "code",
      "source": [
        "tweets_df_all = pd.read_excel('/content/drive/MyDrive/Colab Notebooks/reddit_IAA/tweets_CovidVaccine.xlsx', index_col = 0)\n",
        "tweets_df_all.shape"
      ],
      "metadata": {
        "colab": {
          "base_uri": "https://localhost:8080/"
        },
        "id": "x60lvjQrsG_M",
        "outputId": "6f15d28c-36d2-41a5-d736-a73f403abf1c"
      },
      "execution_count": null,
      "outputs": [
        {
          "output_type": "execute_result",
          "data": {
            "text/plain": [
              "(1591, 6)"
            ]
          },
          "metadata": {},
          "execution_count": 2
        }
      ]
    },
    {
      "cell_type": "code",
      "source": [
        "tweets_df_all = tweets_df_all[ ~(tweets_df_all.text.str.startswith(\"RT\")) ]"
      ],
      "metadata": {
        "id": "BqAEsQ9KGeLs"
      },
      "execution_count": null,
      "outputs": []
    },
    {
      "cell_type": "code",
      "source": [
        "tweets_df_all.tail(2)"
      ],
      "metadata": {
        "colab": {
          "base_uri": "https://localhost:8080/",
          "height": 191
        },
        "id": "qCBXLgHUuPQn",
        "outputId": "e8ddefcc-320a-4391-fd18-5bf04c16cb05"
      },
      "execution_count": null,
      "outputs": [
        {
          "output_type": "execute_result",
          "data": {
            "text/plain": [
              "                                                     text  conversation_id  \\\n",
              "1614.0  @noname2020202 @JillSaidIt @catparkerphoto @Re...     1.562213e+18   \n",
              "1615.0                   @WesternU - do the right thing 👆     1.562098e+18   \n",
              "\n",
              "                                           public_metrics      username  \\\n",
              "1614.0  {'retweet_count': 0, 'reply_count': 0, 'like_c...   phillipsj70   \n",
              "1615.0  {'retweet_count': 1, 'reply_count': 0, 'like_c...  cdnpolipolls   \n",
              "\n",
              "                      date                                             text_R  \n",
              "1614.0 2022-08-24 15:11:54  @phillipsj70 : @noname2020202 @JillSaidIt @cat...  \n",
              "1615.0 2022-08-24 15:20:02   @cdnpolipolls : @WesternU - do the right thing 👆  "
            ],
            "text/html": [
              "\n",
              "  <div id=\"df-dd4308b4-8201-4d4d-8c6f-2ef0100542db\">\n",
              "    <div class=\"colab-df-container\">\n",
              "      <div>\n",
              "<style scoped>\n",
              "    .dataframe tbody tr th:only-of-type {\n",
              "        vertical-align: middle;\n",
              "    }\n",
              "\n",
              "    .dataframe tbody tr th {\n",
              "        vertical-align: top;\n",
              "    }\n",
              "\n",
              "    .dataframe thead th {\n",
              "        text-align: right;\n",
              "    }\n",
              "</style>\n",
              "<table border=\"1\" class=\"dataframe\">\n",
              "  <thead>\n",
              "    <tr style=\"text-align: right;\">\n",
              "      <th></th>\n",
              "      <th>text</th>\n",
              "      <th>conversation_id</th>\n",
              "      <th>public_metrics</th>\n",
              "      <th>username</th>\n",
              "      <th>date</th>\n",
              "      <th>text_R</th>\n",
              "    </tr>\n",
              "  </thead>\n",
              "  <tbody>\n",
              "    <tr>\n",
              "      <th>1614.0</th>\n",
              "      <td>@noname2020202 @JillSaidIt @catparkerphoto @Re...</td>\n",
              "      <td>1.562213e+18</td>\n",
              "      <td>{'retweet_count': 0, 'reply_count': 0, 'like_c...</td>\n",
              "      <td>phillipsj70</td>\n",
              "      <td>2022-08-24 15:11:54</td>\n",
              "      <td>@phillipsj70 : @noname2020202 @JillSaidIt @cat...</td>\n",
              "    </tr>\n",
              "    <tr>\n",
              "      <th>1615.0</th>\n",
              "      <td>@WesternU - do the right thing 👆</td>\n",
              "      <td>1.562098e+18</td>\n",
              "      <td>{'retweet_count': 1, 'reply_count': 0, 'like_c...</td>\n",
              "      <td>cdnpolipolls</td>\n",
              "      <td>2022-08-24 15:20:02</td>\n",
              "      <td>@cdnpolipolls : @WesternU - do the right thing 👆</td>\n",
              "    </tr>\n",
              "  </tbody>\n",
              "</table>\n",
              "</div>\n",
              "      <button class=\"colab-df-convert\" onclick=\"convertToInteractive('df-dd4308b4-8201-4d4d-8c6f-2ef0100542db')\"\n",
              "              title=\"Convert this dataframe to an interactive table.\"\n",
              "              style=\"display:none;\">\n",
              "        \n",
              "  <svg xmlns=\"http://www.w3.org/2000/svg\" height=\"24px\"viewBox=\"0 0 24 24\"\n",
              "       width=\"24px\">\n",
              "    <path d=\"M0 0h24v24H0V0z\" fill=\"none\"/>\n",
              "    <path d=\"M18.56 5.44l.94 2.06.94-2.06 2.06-.94-2.06-.94-.94-2.06-.94 2.06-2.06.94zm-11 1L8.5 8.5l.94-2.06 2.06-.94-2.06-.94L8.5 2.5l-.94 2.06-2.06.94zm10 10l.94 2.06.94-2.06 2.06-.94-2.06-.94-.94-2.06-.94 2.06-2.06.94z\"/><path d=\"M17.41 7.96l-1.37-1.37c-.4-.4-.92-.59-1.43-.59-.52 0-1.04.2-1.43.59L10.3 9.45l-7.72 7.72c-.78.78-.78 2.05 0 2.83L4 21.41c.39.39.9.59 1.41.59.51 0 1.02-.2 1.41-.59l7.78-7.78 2.81-2.81c.8-.78.8-2.07 0-2.86zM5.41 20L4 18.59l7.72-7.72 1.47 1.35L5.41 20z\"/>\n",
              "  </svg>\n",
              "      </button>\n",
              "      \n",
              "  <style>\n",
              "    .colab-df-container {\n",
              "      display:flex;\n",
              "      flex-wrap:wrap;\n",
              "      gap: 12px;\n",
              "    }\n",
              "\n",
              "    .colab-df-convert {\n",
              "      background-color: #E8F0FE;\n",
              "      border: none;\n",
              "      border-radius: 50%;\n",
              "      cursor: pointer;\n",
              "      display: none;\n",
              "      fill: #1967D2;\n",
              "      height: 32px;\n",
              "      padding: 0 0 0 0;\n",
              "      width: 32px;\n",
              "    }\n",
              "\n",
              "    .colab-df-convert:hover {\n",
              "      background-color: #E2EBFA;\n",
              "      box-shadow: 0px 1px 2px rgba(60, 64, 67, 0.3), 0px 1px 3px 1px rgba(60, 64, 67, 0.15);\n",
              "      fill: #174EA6;\n",
              "    }\n",
              "\n",
              "    [theme=dark] .colab-df-convert {\n",
              "      background-color: #3B4455;\n",
              "      fill: #D2E3FC;\n",
              "    }\n",
              "\n",
              "    [theme=dark] .colab-df-convert:hover {\n",
              "      background-color: #434B5C;\n",
              "      box-shadow: 0px 1px 3px 1px rgba(0, 0, 0, 0.15);\n",
              "      filter: drop-shadow(0px 1px 2px rgba(0, 0, 0, 0.3));\n",
              "      fill: #FFFFFF;\n",
              "    }\n",
              "  </style>\n",
              "\n",
              "      <script>\n",
              "        const buttonEl =\n",
              "          document.querySelector('#df-dd4308b4-8201-4d4d-8c6f-2ef0100542db button.colab-df-convert');\n",
              "        buttonEl.style.display =\n",
              "          google.colab.kernel.accessAllowed ? 'block' : 'none';\n",
              "\n",
              "        async function convertToInteractive(key) {\n",
              "          const element = document.querySelector('#df-dd4308b4-8201-4d4d-8c6f-2ef0100542db');\n",
              "          const dataTable =\n",
              "            await google.colab.kernel.invokeFunction('convertToInteractive',\n",
              "                                                     [key], {});\n",
              "          if (!dataTable) return;\n",
              "\n",
              "          const docLinkHtml = 'Like what you see? Visit the ' +\n",
              "            '<a target=\"_blank\" href=https://colab.research.google.com/notebooks/data_table.ipynb>data table notebook</a>'\n",
              "            + ' to learn more about interactive tables.';\n",
              "          element.innerHTML = '';\n",
              "          dataTable['output_type'] = 'display_data';\n",
              "          await google.colab.output.renderOutput(dataTable, element);\n",
              "          const docLink = document.createElement('div');\n",
              "          docLink.innerHTML = docLinkHtml;\n",
              "          element.appendChild(docLink);\n",
              "        }\n",
              "      </script>\n",
              "    </div>\n",
              "  </div>\n",
              "  "
            ]
          },
          "metadata": {},
          "execution_count": 3
        }
      ]
    },
    {
      "cell_type": "code",
      "source": [
        "tweets_df_all = tweets_df_all.sort_values(by = ['conversation_id', 'date', 'text'])\n",
        "tweets_df_all = tweets_df_all.reset_index(drop=True)\n",
        "tweets_df_all.tail()"
      ],
      "metadata": {
        "id": "rjer8el1-lTF",
        "colab": {
          "base_uri": "https://localhost:8080/",
          "height": 337
        },
        "outputId": "f64b2799-80ec-475b-e05c-736a0926688e"
      },
      "execution_count": null,
      "outputs": [
        {
          "output_type": "execute_result",
          "data": {
            "text/plain": [
              "                                                   text  conversation_id  \\\n",
              "1586      @CharityFeb how much is the CDC paying you? 😛     1.562223e+18   \n",
              "1587  @narstyfakker nooooooooo!!!! i'm so sorry. are...     1.562223e+18   \n",
              "1588  @sarahksojourner feeling fine is great! cough ...     1.562223e+18   \n",
              "1589  @fucklongcovid I think the hospital is one of ...     1.562223e+18   \n",
              "1590  @narstyfakker oh, i meant exactly what you're ...     1.562223e+18   \n",
              "\n",
              "                                         public_metrics       username  \\\n",
              "1586  {'retweet_count': 0, 'reply_count': 0, 'like_c...  fucklongcovid   \n",
              "1587  {'retweet_count': 0, 'reply_count': 1, 'like_c...  fucklongcovid   \n",
              "1588  {'retweet_count': 0, 'reply_count': 0, 'like_c...  fucklongcovid   \n",
              "1589  {'retweet_count': 0, 'reply_count': 1, 'like_c...   narstyfakker   \n",
              "1590  {'retweet_count': 0, 'reply_count': 0, 'like_c...  fucklongcovid   \n",
              "\n",
              "                    date                                             text_R  \n",
              "1586 2022-08-24 13:53:02  @fucklongcovid : @CharityFeb how much is the C...  \n",
              "1587 2022-08-24 14:01:16  @fucklongcovid : @narstyfakker nooooooooo!!!! ...  \n",
              "1588 2022-08-24 14:04:01  @fucklongcovid : @sarahksojourner feeling fine...  \n",
              "1589 2022-08-24 14:10:35  @narstyfakker : @fucklongcovid I think the hos...  \n",
              "1590 2022-08-24 14:13:43  @fucklongcovid : @narstyfakker oh, i meant exa...  "
            ],
            "text/html": [
              "\n",
              "  <div id=\"df-64027d3e-2d3e-4fe1-b2d1-7e29cd6ecfbc\">\n",
              "    <div class=\"colab-df-container\">\n",
              "      <div>\n",
              "<style scoped>\n",
              "    .dataframe tbody tr th:only-of-type {\n",
              "        vertical-align: middle;\n",
              "    }\n",
              "\n",
              "    .dataframe tbody tr th {\n",
              "        vertical-align: top;\n",
              "    }\n",
              "\n",
              "    .dataframe thead th {\n",
              "        text-align: right;\n",
              "    }\n",
              "</style>\n",
              "<table border=\"1\" class=\"dataframe\">\n",
              "  <thead>\n",
              "    <tr style=\"text-align: right;\">\n",
              "      <th></th>\n",
              "      <th>text</th>\n",
              "      <th>conversation_id</th>\n",
              "      <th>public_metrics</th>\n",
              "      <th>username</th>\n",
              "      <th>date</th>\n",
              "      <th>text_R</th>\n",
              "    </tr>\n",
              "  </thead>\n",
              "  <tbody>\n",
              "    <tr>\n",
              "      <th>1586</th>\n",
              "      <td>@CharityFeb how much is the CDC paying you? 😛</td>\n",
              "      <td>1.562223e+18</td>\n",
              "      <td>{'retweet_count': 0, 'reply_count': 0, 'like_c...</td>\n",
              "      <td>fucklongcovid</td>\n",
              "      <td>2022-08-24 13:53:02</td>\n",
              "      <td>@fucklongcovid : @CharityFeb how much is the C...</td>\n",
              "    </tr>\n",
              "    <tr>\n",
              "      <th>1587</th>\n",
              "      <td>@narstyfakker nooooooooo!!!! i'm so sorry. are...</td>\n",
              "      <td>1.562223e+18</td>\n",
              "      <td>{'retweet_count': 0, 'reply_count': 1, 'like_c...</td>\n",
              "      <td>fucklongcovid</td>\n",
              "      <td>2022-08-24 14:01:16</td>\n",
              "      <td>@fucklongcovid : @narstyfakker nooooooooo!!!! ...</td>\n",
              "    </tr>\n",
              "    <tr>\n",
              "      <th>1588</th>\n",
              "      <td>@sarahksojourner feeling fine is great! cough ...</td>\n",
              "      <td>1.562223e+18</td>\n",
              "      <td>{'retweet_count': 0, 'reply_count': 0, 'like_c...</td>\n",
              "      <td>fucklongcovid</td>\n",
              "      <td>2022-08-24 14:04:01</td>\n",
              "      <td>@fucklongcovid : @sarahksojourner feeling fine...</td>\n",
              "    </tr>\n",
              "    <tr>\n",
              "      <th>1589</th>\n",
              "      <td>@fucklongcovid I think the hospital is one of ...</td>\n",
              "      <td>1.562223e+18</td>\n",
              "      <td>{'retweet_count': 0, 'reply_count': 1, 'like_c...</td>\n",
              "      <td>narstyfakker</td>\n",
              "      <td>2022-08-24 14:10:35</td>\n",
              "      <td>@narstyfakker : @fucklongcovid I think the hos...</td>\n",
              "    </tr>\n",
              "    <tr>\n",
              "      <th>1590</th>\n",
              "      <td>@narstyfakker oh, i meant exactly what you're ...</td>\n",
              "      <td>1.562223e+18</td>\n",
              "      <td>{'retweet_count': 0, 'reply_count': 0, 'like_c...</td>\n",
              "      <td>fucklongcovid</td>\n",
              "      <td>2022-08-24 14:13:43</td>\n",
              "      <td>@fucklongcovid : @narstyfakker oh, i meant exa...</td>\n",
              "    </tr>\n",
              "  </tbody>\n",
              "</table>\n",
              "</div>\n",
              "      <button class=\"colab-df-convert\" onclick=\"convertToInteractive('df-64027d3e-2d3e-4fe1-b2d1-7e29cd6ecfbc')\"\n",
              "              title=\"Convert this dataframe to an interactive table.\"\n",
              "              style=\"display:none;\">\n",
              "        \n",
              "  <svg xmlns=\"http://www.w3.org/2000/svg\" height=\"24px\"viewBox=\"0 0 24 24\"\n",
              "       width=\"24px\">\n",
              "    <path d=\"M0 0h24v24H0V0z\" fill=\"none\"/>\n",
              "    <path d=\"M18.56 5.44l.94 2.06.94-2.06 2.06-.94-2.06-.94-.94-2.06-.94 2.06-2.06.94zm-11 1L8.5 8.5l.94-2.06 2.06-.94-2.06-.94L8.5 2.5l-.94 2.06-2.06.94zm10 10l.94 2.06.94-2.06 2.06-.94-2.06-.94-.94-2.06-.94 2.06-2.06.94z\"/><path d=\"M17.41 7.96l-1.37-1.37c-.4-.4-.92-.59-1.43-.59-.52 0-1.04.2-1.43.59L10.3 9.45l-7.72 7.72c-.78.78-.78 2.05 0 2.83L4 21.41c.39.39.9.59 1.41.59.51 0 1.02-.2 1.41-.59l7.78-7.78 2.81-2.81c.8-.78.8-2.07 0-2.86zM5.41 20L4 18.59l7.72-7.72 1.47 1.35L5.41 20z\"/>\n",
              "  </svg>\n",
              "      </button>\n",
              "      \n",
              "  <style>\n",
              "    .colab-df-container {\n",
              "      display:flex;\n",
              "      flex-wrap:wrap;\n",
              "      gap: 12px;\n",
              "    }\n",
              "\n",
              "    .colab-df-convert {\n",
              "      background-color: #E8F0FE;\n",
              "      border: none;\n",
              "      border-radius: 50%;\n",
              "      cursor: pointer;\n",
              "      display: none;\n",
              "      fill: #1967D2;\n",
              "      height: 32px;\n",
              "      padding: 0 0 0 0;\n",
              "      width: 32px;\n",
              "    }\n",
              "\n",
              "    .colab-df-convert:hover {\n",
              "      background-color: #E2EBFA;\n",
              "      box-shadow: 0px 1px 2px rgba(60, 64, 67, 0.3), 0px 1px 3px 1px rgba(60, 64, 67, 0.15);\n",
              "      fill: #174EA6;\n",
              "    }\n",
              "\n",
              "    [theme=dark] .colab-df-convert {\n",
              "      background-color: #3B4455;\n",
              "      fill: #D2E3FC;\n",
              "    }\n",
              "\n",
              "    [theme=dark] .colab-df-convert:hover {\n",
              "      background-color: #434B5C;\n",
              "      box-shadow: 0px 1px 3px 1px rgba(0, 0, 0, 0.15);\n",
              "      filter: drop-shadow(0px 1px 2px rgba(0, 0, 0, 0.3));\n",
              "      fill: #FFFFFF;\n",
              "    }\n",
              "  </style>\n",
              "\n",
              "      <script>\n",
              "        const buttonEl =\n",
              "          document.querySelector('#df-64027d3e-2d3e-4fe1-b2d1-7e29cd6ecfbc button.colab-df-convert');\n",
              "        buttonEl.style.display =\n",
              "          google.colab.kernel.accessAllowed ? 'block' : 'none';\n",
              "\n",
              "        async function convertToInteractive(key) {\n",
              "          const element = document.querySelector('#df-64027d3e-2d3e-4fe1-b2d1-7e29cd6ecfbc');\n",
              "          const dataTable =\n",
              "            await google.colab.kernel.invokeFunction('convertToInteractive',\n",
              "                                                     [key], {});\n",
              "          if (!dataTable) return;\n",
              "\n",
              "          const docLinkHtml = 'Like what you see? Visit the ' +\n",
              "            '<a target=\"_blank\" href=https://colab.research.google.com/notebooks/data_table.ipynb>data table notebook</a>'\n",
              "            + ' to learn more about interactive tables.';\n",
              "          element.innerHTML = '';\n",
              "          dataTable['output_type'] = 'display_data';\n",
              "          await google.colab.output.renderOutput(dataTable, element);\n",
              "          const docLink = document.createElement('div');\n",
              "          docLink.innerHTML = docLinkHtml;\n",
              "          element.appendChild(docLink);\n",
              "        }\n",
              "      </script>\n",
              "    </div>\n",
              "  </div>\n",
              "  "
            ]
          },
          "metadata": {},
          "execution_count": 4
        }
      ]
    },
    {
      "cell_type": "code",
      "source": [
        "tweets_df_all = clean_text(tweets_df_all, 'text')\n",
        "print(tweets_df_all.shape)"
      ],
      "metadata": {
        "colab": {
          "base_uri": "https://localhost:8080/"
        },
        "id": "yaxClP-XHykA",
        "outputId": "38451067-0405-4616-dd47-6a142cd19268"
      },
      "execution_count": null,
      "outputs": [
        {
          "output_type": "stream",
          "name": "stdout",
          "text": [
            "(1591, 7)\n"
          ]
        }
      ]
    },
    {
      "cell_type": "code",
      "source": [
        "tweets_df_all.drop_duplicates('clean_text').shape"
      ],
      "metadata": {
        "colab": {
          "base_uri": "https://localhost:8080/"
        },
        "id": "_e40z31nvLyW",
        "outputId": "867ecaf1-85b2-4f3a-cbab-b2fde6a17f94"
      },
      "execution_count": null,
      "outputs": [
        {
          "output_type": "execute_result",
          "data": {
            "text/plain": [
              "(1591, 7)"
            ]
          },
          "metadata": {},
          "execution_count": 680
        }
      ]
    },
    {
      "cell_type": "code",
      "source": [
        "tweets_df_all = tweets_df_all.drop_duplicates('clean_text')"
      ],
      "metadata": {
        "id": "MJVx2whwH0kQ"
      },
      "execution_count": null,
      "outputs": []
    },
    {
      "cell_type": "code",
      "source": [
        "tweets_df_all['text_R'] = '@' + tweets_df_all.username + ' : ' + tweets_df_all.text\n",
        "tweets_df_all['text_R']"
      ],
      "metadata": {
        "id": "Ose6tvvt8dbc"
      },
      "execution_count": null,
      "outputs": []
    },
    {
      "cell_type": "code",
      "source": [
        "tweets_df_all.head(2)"
      ],
      "metadata": {
        "colab": {
          "base_uri": "https://localhost:8080/",
          "height": 191
        },
        "id": "SC1L2S2rIDEJ",
        "outputId": "3f01e0df-07aa-4ce3-e457-9074a97dc9c3"
      },
      "execution_count": null,
      "outputs": [
        {
          "output_type": "execute_result",
          "data": {
            "text/plain": [
              "                                                text  conversation_id  \\\n",
              "0  @ThePurrrple @MAGAThassell @The_VerminatorD @M...     1.559359e+18   \n",
              "1  @ThePurrrple @MAGAThassell @The_VerminatorD @M...     1.559359e+18   \n",
              "\n",
              "                                      public_metrics   username  \\\n",
              "0  {'retweet_count': 0, 'reply_count': 1, 'like_c...  marsons80   \n",
              "1  {'retweet_count': 0, 'reply_count': 0, 'like_c...  marsons80   \n",
              "\n",
              "                 date                                             text_R  \n",
              "0 2022-08-17 21:02:29  @marsons80 : @ThePurrrple @MAGAThassell @The_V...  \n",
              "1 2022-08-17 21:04:21  @marsons80 : @ThePurrrple @MAGAThassell @The_V...  "
            ],
            "text/html": [
              "\n",
              "  <div id=\"df-bde30675-0611-4ed6-b41d-60b0547e1438\">\n",
              "    <div class=\"colab-df-container\">\n",
              "      <div>\n",
              "<style scoped>\n",
              "    .dataframe tbody tr th:only-of-type {\n",
              "        vertical-align: middle;\n",
              "    }\n",
              "\n",
              "    .dataframe tbody tr th {\n",
              "        vertical-align: top;\n",
              "    }\n",
              "\n",
              "    .dataframe thead th {\n",
              "        text-align: right;\n",
              "    }\n",
              "</style>\n",
              "<table border=\"1\" class=\"dataframe\">\n",
              "  <thead>\n",
              "    <tr style=\"text-align: right;\">\n",
              "      <th></th>\n",
              "      <th>text</th>\n",
              "      <th>conversation_id</th>\n",
              "      <th>public_metrics</th>\n",
              "      <th>username</th>\n",
              "      <th>date</th>\n",
              "      <th>text_R</th>\n",
              "    </tr>\n",
              "  </thead>\n",
              "  <tbody>\n",
              "    <tr>\n",
              "      <th>0</th>\n",
              "      <td>@ThePurrrple @MAGAThassell @The_VerminatorD @M...</td>\n",
              "      <td>1.559359e+18</td>\n",
              "      <td>{'retweet_count': 0, 'reply_count': 1, 'like_c...</td>\n",
              "      <td>marsons80</td>\n",
              "      <td>2022-08-17 21:02:29</td>\n",
              "      <td>@marsons80 : @ThePurrrple @MAGAThassell @The_V...</td>\n",
              "    </tr>\n",
              "    <tr>\n",
              "      <th>1</th>\n",
              "      <td>@ThePurrrple @MAGAThassell @The_VerminatorD @M...</td>\n",
              "      <td>1.559359e+18</td>\n",
              "      <td>{'retweet_count': 0, 'reply_count': 0, 'like_c...</td>\n",
              "      <td>marsons80</td>\n",
              "      <td>2022-08-17 21:04:21</td>\n",
              "      <td>@marsons80 : @ThePurrrple @MAGAThassell @The_V...</td>\n",
              "    </tr>\n",
              "  </tbody>\n",
              "</table>\n",
              "</div>\n",
              "      <button class=\"colab-df-convert\" onclick=\"convertToInteractive('df-bde30675-0611-4ed6-b41d-60b0547e1438')\"\n",
              "              title=\"Convert this dataframe to an interactive table.\"\n",
              "              style=\"display:none;\">\n",
              "        \n",
              "  <svg xmlns=\"http://www.w3.org/2000/svg\" height=\"24px\"viewBox=\"0 0 24 24\"\n",
              "       width=\"24px\">\n",
              "    <path d=\"M0 0h24v24H0V0z\" fill=\"none\"/>\n",
              "    <path d=\"M18.56 5.44l.94 2.06.94-2.06 2.06-.94-2.06-.94-.94-2.06-.94 2.06-2.06.94zm-11 1L8.5 8.5l.94-2.06 2.06-.94-2.06-.94L8.5 2.5l-.94 2.06-2.06.94zm10 10l.94 2.06.94-2.06 2.06-.94-2.06-.94-.94-2.06-.94 2.06-2.06.94z\"/><path d=\"M17.41 7.96l-1.37-1.37c-.4-.4-.92-.59-1.43-.59-.52 0-1.04.2-1.43.59L10.3 9.45l-7.72 7.72c-.78.78-.78 2.05 0 2.83L4 21.41c.39.39.9.59 1.41.59.51 0 1.02-.2 1.41-.59l7.78-7.78 2.81-2.81c.8-.78.8-2.07 0-2.86zM5.41 20L4 18.59l7.72-7.72 1.47 1.35L5.41 20z\"/>\n",
              "  </svg>\n",
              "      </button>\n",
              "      \n",
              "  <style>\n",
              "    .colab-df-container {\n",
              "      display:flex;\n",
              "      flex-wrap:wrap;\n",
              "      gap: 12px;\n",
              "    }\n",
              "\n",
              "    .colab-df-convert {\n",
              "      background-color: #E8F0FE;\n",
              "      border: none;\n",
              "      border-radius: 50%;\n",
              "      cursor: pointer;\n",
              "      display: none;\n",
              "      fill: #1967D2;\n",
              "      height: 32px;\n",
              "      padding: 0 0 0 0;\n",
              "      width: 32px;\n",
              "    }\n",
              "\n",
              "    .colab-df-convert:hover {\n",
              "      background-color: #E2EBFA;\n",
              "      box-shadow: 0px 1px 2px rgba(60, 64, 67, 0.3), 0px 1px 3px 1px rgba(60, 64, 67, 0.15);\n",
              "      fill: #174EA6;\n",
              "    }\n",
              "\n",
              "    [theme=dark] .colab-df-convert {\n",
              "      background-color: #3B4455;\n",
              "      fill: #D2E3FC;\n",
              "    }\n",
              "\n",
              "    [theme=dark] .colab-df-convert:hover {\n",
              "      background-color: #434B5C;\n",
              "      box-shadow: 0px 1px 3px 1px rgba(0, 0, 0, 0.15);\n",
              "      filter: drop-shadow(0px 1px 2px rgba(0, 0, 0, 0.3));\n",
              "      fill: #FFFFFF;\n",
              "    }\n",
              "  </style>\n",
              "\n",
              "      <script>\n",
              "        const buttonEl =\n",
              "          document.querySelector('#df-bde30675-0611-4ed6-b41d-60b0547e1438 button.colab-df-convert');\n",
              "        buttonEl.style.display =\n",
              "          google.colab.kernel.accessAllowed ? 'block' : 'none';\n",
              "\n",
              "        async function convertToInteractive(key) {\n",
              "          const element = document.querySelector('#df-bde30675-0611-4ed6-b41d-60b0547e1438');\n",
              "          const dataTable =\n",
              "            await google.colab.kernel.invokeFunction('convertToInteractive',\n",
              "                                                     [key], {});\n",
              "          if (!dataTable) return;\n",
              "\n",
              "          const docLinkHtml = 'Like what you see? Visit the ' +\n",
              "            '<a target=\"_blank\" href=https://colab.research.google.com/notebooks/data_table.ipynb>data table notebook</a>'\n",
              "            + ' to learn more about interactive tables.';\n",
              "          element.innerHTML = '';\n",
              "          dataTable['output_type'] = 'display_data';\n",
              "          await google.colab.output.renderOutput(dataTable, element);\n",
              "          const docLink = document.createElement('div');\n",
              "          docLink.innerHTML = docLinkHtml;\n",
              "          element.appendChild(docLink);\n",
              "        }\n",
              "      </script>\n",
              "    </div>\n",
              "  </div>\n",
              "  "
            ]
          },
          "metadata": {},
          "execution_count": 5
        }
      ]
    },
    {
      "cell_type": "code",
      "source": [
        "tweets_df_all.to_excel('/content/drive/MyDrive/Colab Notebooks/reddit_IAA/tweets_CovidVaccine.xlsx')"
      ],
      "metadata": {
        "id": "OJC-CXpgoUaX"
      },
      "execution_count": null,
      "outputs": []
    },
    {
      "cell_type": "code",
      "source": [
        "text = \" \\n\".join(tweets_df_all.text_R.values)\n",
        "text"
      ],
      "metadata": {
        "colab": {
          "base_uri": "https://localhost:8080/",
          "height": 140
        },
        "id": "BbCY-uxN8OwE",
        "outputId": "0d0dec23-3424-43bd-ec82-66c99600a4a8"
      },
      "execution_count": null,
      "outputs": [
        {
          "output_type": "execute_result",
          "data": {
            "text/plain": [
              "'@marsons80 : @ThePurrrple @MAGAThassell @The_VerminatorD @MattHopkins_au Its not a vaccine. \\n@marsons80 : @ThePurrrple @MAGAThassell @The_VerminatorD @MattHopkins_au Oh and make sure to keep on taking them boosters, can never be to safe. \\n@BourgaultGilles : @DevineSpeak @yates_brit @catfish8888 @MattHopkins_au When you use antivax bullshit has excuse not get vax, you are antivax. 🤷\\u200d♂️ \\n@ThePurrrple : @marsons80 @MAGAThassell @The_VerminatorD @MattHopkins_au Yes, it is,no matter what your Lord and Master Fox News tells you. \\n@GENERALBUNGTM : @used2bnormal @brutaaay @MattHopkins_au He helped develop it over 30 years ago, he has nothing to do with the current vaccines. \\n@GENERALBUNGTM : @canadianpork22 @ConnorD0428 @MattHopkins_au It literally says primary vaccination with 1 and 2 boosters, so yes it does. \\n@canadianpork22 : @GENERALBUNGTM @ConnorD0428 @MattHopkins_au Um, they are now offering 5th shots to the general public and have bought enough for at least 10 per Canadian.\\nYou\\'re NEVER fully vaccinated when the term boosters comes after it. \\n@GENERALBUNGTM : @canadianpork22 @ConnorD0428 @MattHopkins_au Where? Never heard of the 5th shot and I haven’t even got the 4th because it’s not being pushed or really necessary with omicron. Fully vaccinated is the first two shots and everything after that is just boosters. So my point stands. \\n@canadianpork22 : @GENERALBUNGTM @ConnorD0428 @MattHopkins_au Well, they\\'ve been giving 5th doses to LTC for months already and now...https://t.co/xwUC7Cbl3Q \\n@canadianpork22 : @GENERALBUNGTM @ConnorD0428 @MattHopkins_au Do you think after your 10th you get a free donut again? \\n@GENERALBUNGTM : @canadianpork22 @ConnorD0428 @MattHopkins_au Lol do you even read the links you post? Says Aug 29 they can get their 5th shot, in Quebec. \\n@GENERALBUNGTM : @canadianpork22 @ConnorD0428 @MattHopkins_au Yes \\n@canadianpork22 : @GENERALBUNGTM @ConnorD0428 @MattHopkins_au Do you even bother to comprehend?\\n5th shots have been given to LTC for months and now Quebec will be offering to anyone.\\nYou said you haven\\'t heard of 5th shots. I show you, and you\\'re still debating me. \\nLol \\n@canadianpork22 : @GENERALBUNGTM @ConnorD0428 @MattHopkins_au Enjoy it. \\n@GENERALBUNGTM : @canadianpork22 @ConnorD0428 @MattHopkins_au I know because I live in Alberta. Quebec is ridiculous. \\n@Leftychris2 : @ConnorD0428 @MattHopkins_au Hey Connor\\n\\nYou ok?\\n\\nYou\\'re very quiet after the buffoon comment\\n\\nAny thoughts on the links and quotes about PCR? Making sense? \\n@spencerdenham : @BourgaultGilles @Perseph31450988 @aus_drew @MattHopkins_au OMG your lack of understand is incredible, this is why I get annoyed as a scientist! Please go look up infection vector and maybe consider then the difference between Ebola, blood infects people and how does blood get out the body? And then covid, person sneezing passes virus on! \\n@spencerdenham : @BourgaultGilles @Perseph31450988 @aus_drew @MattHopkins_au Oh and please name a few more? Let’s look at the virus H1N1(Spanish flu)  killed 50million in 1918. Killed 200k people in 2009 and 44 deaths in 2021, a four year low!! Hmmmm millions to less than 100.. yeah definitely deadlier 🤣🤣. Did you do science or maths at school? \\n@DevineSpeak : @BourgaultGilles @yates_brit @catfish8888 @MattHopkins_au Being against one sports team doesn\\'t make you anti-sport....? Use your logical thinking skills, I know they are in there somewhere 🤷\\u200d♂️🤷\\u200d♂️ \\n@ConnorD0428 : @Leftychris2 @MattHopkins_au Huh, I\\'m really living rent free in your head LMFAO.\\n\\nAll the links you posted line up with what I told you. You\\'re grasping at straws. \\n@Leftychris2 : @ConnorD0428 @MattHopkins_au No they don\\'t\\nThey totally match my point\\n\\nPCR finds fragments and not whole virus so ALL positive results are not proof of current infection\\n\\nWhich results in PCR exaggerating the reach of covid by countong them all as current \\n\\nPlease explain to me how that wrong \\n@Leftychris2 : @ConnorD0428 @MattHopkins_au You seemed to be saying that false positives are the ones that cannot prove current infection\\n\\nThat\\'s totally wrong \\n@ConnorD0428 : @Leftychris2 @MattHopkins_au You\\'re wrong because of very simple statistics that your tiny brain seems incapable of understanding. The vast majority of the time a positive test result indicates an active infection. In a SMALL percent of the time, it does not. As I\\'ve been saying this entire time. \\n@ConnorD0428 : @Leftychris2 @MattHopkins_au Still living rent free in your head and you\\'re desperate af \\n@Leftychris2 : @ConnorD0428 @MattHopkins_au Show your working.\\n\\nHow ever can PCR find and prove live current infection?\\n\\nWhen it finds only fragments\\n\\nI\\'ve provided sources that explain it cannot find current infection.\\n\\nWhere\\'s your link that it can \\n@Leftychris2 : @ConnorD0428 @MattHopkins_au Doesn\\'t explain how PCR alone proves current live infection\\n\\n(Or can you quote the bit or screenshot)\\n\\nEven using CT values is a proxy\\n\\nIt\\'s always finding fragments \\n@Leftychris2 : @ConnorD0428 @MattHopkins_au Connor\\n\\nI\\'ve taught PCR at A level Biology\\n\\nI understand it\\n\\nI know what it can and cannot find\\n\\nDo you? \\n@Leftychris2 : @ConnorD0428 @MattHopkins_au Is this wrong?\\n\\n\"The only test for live virus is viral culture. PCR and lateral flow tests do not distinguish live virus. No test of infection or infectiousness is currently available for routine use.\"\\n\\nhttps://t.co/Hx2wWVAavq \\n@Leftychris2 : @ConnorD0428 @MattHopkins_au How the feck is that worked out? \\n@ConnorD0428 : @Leftychris2 @MattHopkins_au Yep, better than you do, apparently. Five minutes of research proved you wrong lol. RNA shedding doesn\\'t occur for all cases of the virus. The rate is very low (3% or so), and PCRs are sensitive to viral load. They\\'re very sophisticated tests. You\\'re simply wrong. \\n@Leftychris2 : @ConnorD0428 @MattHopkins_au Did you just call the bmj a right wing conspiracy theory post? \\n@Leftychris2 : @ConnorD0428 @MattHopkins_au Plus\\nThose numbers and claims fail completely to account for asymptomatic PCR positive cases \\n@ConnorD0428 : @Leftychris2 @MattHopkins_au Also, PCR alone isn\\'t the only thing used to declare an infection lol \\n@Leftychris2 : @ConnorD0428 @MattHopkins_au No replication competent viruses were recovered??\\n\\nHow did they test that? \\n@ConnorD0428 : @Leftychris2 @MattHopkins_au LMFAO You\\'re proven wrong so naturally it\\'s \"how could they figure that out!\" \\n@ConnorD0428 : @Leftychris2 @MattHopkins_au Try reading the study. You\\'re wrong. Have a good one. \\n@ConnorD0428 : @Leftychris2 @MattHopkins_au Nope. https://t.co/h8GqfztXS6 \\n@Leftychris2 : @ConnorD0428 @MattHopkins_au Ah\\nThat study use viral culture to prove live virus\\n\\nSo\\n\\nThat maintains my point that PCR alone cannot ever prove live reproductive virus\\n\\nReally good try though 😊 \\n@Leftychris2 : @ConnorD0428 @MattHopkins_au Read it now, it was confusing as I thought it the same one as your initial share, then realized it a different study.\\n\\nAnd study use viral culture to prove live virus\\n\\nThat maintains my point that PCR alone cannot ever prove live reproductive virus\\n\\nReally good try though 😊 \\n@ConnorD0428 : @Leftychris2 @MattHopkins_au Except that they compared results with the pcr tests....which in turn were proven accurate. You absolute imbecile. Here\\'s another source for you! Only 13% continued positive tests after 19 days.\\n\\nhttps://t.co/99hO2PFivO https://t.co/ForWBa8CpA \\n@Leftychris2 : @ConnorD0428 @MattHopkins_au Again\\nO thought the screen grab was from the first PCR explainer share you sent.\\n\\nYour reverting to mocking isn\\'t a quality you know.\\n\\nRespectful dialogue is possible \\n@ConnorD0428 : @Leftychris2 @MattHopkins_au They compared it to PCR, which proved it accurate. Also wtf do you mean different study? I literally linked to the same study as the screenshot.\\n\\nEither way there are a dozen other studies that prove the same thing. I\\'ve linked another. We\\'re done here. Never teach again. \\n@ConnorD0428 : @Leftychris2 @MattHopkins_au Christ I hope you were lying about being a teacher or professor. If not I feel terrible for your past students. \\n@Leftychris2 : @ConnorD0428 @MattHopkins_au Hang on\\n\\n\"no replication-competent viruses were recovered.\"\\n\\nSo\\n\\nTell me again please how was live current infectious virus proven? \\n@ConnorD0428 : @Leftychris2 @MattHopkins_au Because it proved...that after the time period...it\\'s extremely unlikely...for a PCR test...to test positive...because the proteins...are gone.\\n\\nIs this really this hard for you to follow? \\n@Leftychris2 : @ConnorD0428 @MattHopkins_au Also hang on-\\n\\n\"We calculated viral RNA shedding resolution probability using the Kaplan-Meier estimator \"\\n\\nSounds like proxy, guess, model work to me.\\n\\nSo tell me again\\n\\nHow can PCR alone prove current live reproductive virus?? \\n@ConnorD0428 : @Leftychris2 @MattHopkins_au Holy christ all you know how to do is grasp at straws. We\\'re done, I\\'m not wasting more time talking to a brick wall. \\n@Leftychris2 : @ConnorD0428 @MattHopkins_au That would make sense if they did find reproductive virus at some point too though?\\n\\nSo how ever did they prove live reproductive virus at all ever? \\n@Leftychris2 : @ConnorD0428 @MattHopkins_au Thanks for the reveal\\n\\nNoted \\n@BourgaultGilles : @spencerdenham @Perseph31450988 @aus_drew @MattHopkins_au Ebola vector is body fluid not just blood... btw you don\\'t talk about Spanish Flu. 🤷\\u200d♂️ \\n@BourgaultGilles : @spencerdenham @Perseph31450988 @aus_drew @MattHopkins_au While those 3 virus are H1N1 they are not the same. Spanish Flu was a avian mutation while 2009 was a swine mutation. Both where harmless to human until mutation.\\n\\nhttps://t.co/B2s7WkKD82 \\n@spencerdenham : @BourgaultGilles @Perseph31450988 @aus_drew @MattHopkins_au I did comment about Spanish flu, H1N1! And Ebola is not spread like in the case of a cold through droplets in the air. It is direct contact with bodily fluids and the clue to which bodily fluid is most likely to infect is in its name ‘Hemorrhagic fever’. \\n@spencerdenham : @BourgaultGilles @Perseph31450988 @aus_drew @MattHopkins_au And what virus did the 2009 H1N1 have its origins in??? \\n@BourgaultGilles : @DevineSpeak @yates_brit @catfish8888 @MattHopkins_au It more, there is a new team, and you say that you dislike it by using anti-sport argument. \\n@BourgaultGilles : @spencerdenham @Perseph31450988 @aus_drew @MattHopkins_au We talking about virus do mutate to become more deadly. \\n@BourgaultGilles : @spencerdenham @Perseph31450988 @aus_drew @MattHopkins_au 1500BC, flu virus. They all from that virus. \\n@spencerdenham : @BourgaultGilles @Perseph31450988 @aus_drew @MattHopkins_au Well covid hasn’t so that destroys your theory!! \\n@spencerdenham : @BourgaultGilles @Perseph31450988 @aus_drew @MattHopkins_au 1918 Spanish flu virus which mutated infected pigs and became…swine flu. You’ve learnt something now about mutagens.. welcome to the lesson! \\n@BourgaultGilles : @spencerdenham @Perseph31450988 @aus_drew @MattHopkins_au Beta and Delta was more deadly that Alpha. 🤷\\u200d♂️ \\n@BourgaultGilles : @spencerdenham @Perseph31450988 @aus_drew @MattHopkins_au No, it is not Spanish flu who mutate in pig. It is the original H1N1 who was in pig but was benin to human who mutate then kill human. \\n@spencerdenham : @BourgaultGilles @Perseph31450988 @aus_drew @MattHopkins_au Nope.. you’re wrong. Go do some research!!! \\n@BourgaultGilles : @spencerdenham @Perseph31450988 @aus_drew @MattHopkins_au Why I have to research your answer? The burden is on you, are you one of those lazy Karen? \\n@spencerdenham : @BourgaultGilles @Perseph31450988 @aus_drew @MattHopkins_au Because it might actually teach you something. As a scientist I know how to do research, maybe you should try👍 \\n@DevineSpeak : @BourgaultGilles @yates_brit @catfish8888 @MattHopkins_au I really thought you\\'d get the analogy....🤦\\u200d♀️ Ok, so how do you explain the vaccine injured being called antivax when they have the audacity to request assistance for their injuries? Yes it happened, just read the articles about the Silent No More petition to Parliament. \\n@wendyreierson : @Fledglinggood @MattHopkins_au My children were born in the 70’s and I have their vaccine records.  We kept them on their baby books. \\n@Fledglinggood : @wendyreierson @MattHopkins_au We didn’t have blue books or parental copies in Australia until 1996. Perhaps some people opted for written records, however most will rely on information which may not be available or hard to find. \\n@Fledglinggood : @wendyreierson @MattHopkins_au If the find the records, you can have them added to your Medicare immunisation report. It can be much easier to get a comprehensive antibody report. Cover everything in one go… as immunisation could be given in multiple locations, such as schools, GP clinics, pharmacy. \\n@Fledglinggood : @wendyreierson @MattHopkins_au I have a suspicion that I wasn’t given many immunisations. Anyway, my antibody report didn’t raise any concerns in 2002. \\n@Fledglinggood : @wendyreierson @MattHopkins_au I don’t remember having chicken pox, but I do remember having the measles. The virus itself. I don’t remember whether I got vaccinated or not. \\n@Fledglinggood : @wendyreierson @MattHopkins_au They had this attitude my parents, that if you didn’t make it for some reason, it’s nature way of removing a fault. I don’t know if I agree with it… but they put you to the test and then say “All my kids survive” as if they have this kind of power. \\n@Fledglinggood : @wendyreierson @MattHopkins_au When I was sick I still had to go to school and if complained or looked a bit too unwell, he still took me to work. You had to be ear death to be considered sick. They are hard people sometimes. They don’t want us to get too pampered or comfortable. \\n@Fledglinggood : @wendyreierson @MattHopkins_au Now they are complaining about people. You can’t have your cake and eat it too. Who was the number one defender of climate and Earth in the olden days? He this Khan. He killed a lot of people. I’m not afraid of the truth. Don’t play games.. what’s the go? \\n@BourgaultGilles : @DevineSpeak @yates_brit @catfish8888 @MattHopkins_au For be vaccine injured, you need be vaccinated. 🤷\\u200d♂️ \\n@drajm : Where we are at with #covid, where we are going, and how we are getting there are all not ok.\\n\\nWe need a vaccines PLUS strategy. Agile vaccines. Clean air, masks &amp; good antiviral access.\\n\\nAnything less gives us more disease, disability, &amp; deaths, esp for the vulnerable groups. \\n@Naylor007 : @drajm I\\'m starting to feel a little broken by the failure of Gov/people to undertake basic protections for themselves &amp; others (either by way of ignorance, or selfishness). It\\'s really starting to feel like we\\'ve just given up. Taking the \\'what will be, will be approach\\'. \\n@AlexAlDaly : @Naylor007 @drajm No, people are waking up that it was all hype and fear. There was no pandemic! Surely you can see that for yourself 2 plus years on! \\n@AlexAlDaly : @SusieRoxStar @drajm @AlboMP @AnnastaciaMP @MarkMcGowanMP @YvetteDAth @AustralianLabor Good to see that there are still fools who believe there’s a ‘pandemic’ because they were told there is. Wake up! \\n@SusieRoxStar : @AlexAlDaly @drajm @AlboMP @AnnastaciaMP @MarkMcGowanMP @YvetteDAth @AustralianLabor I have spent a lot of time in hospitals over the past 4 months. The death and disablement from Covid is real. So many families ripped apart.  Sit down you buffoon. \\n@AmandaWilks9 : @DrRanj So glad I had my vaccines \\n@AmandaWilks9 : @MrD_ESC @DrRanj I’ve had 3 vaccines and very recently contracted Covid for the first time… so glad I was vaccinated. Definitely not a conspiracy - why would we cause so much from financial deficit globally? \\n@hillpatt : @Kevin40383097 @DrRanj The same itchy skin \\n@martinjay94 : @JayEdwardsuk @DrRanj How do you know it’s the vaccination that’s causing it, rather than Covid itself? \\n@MrD_ESC : @AmandaWilks9 @DrRanj But how do you know the vaccine helped?? Omicron is very mild for the vast majority of people? The vaccine has no immunity after just a few months. Again not a conspiracy but also not the necessity it’s been made into. \\n@gkarver : @TommyRocker260 @DrRanj Here’s some data out of Washington state.  Do you have a peer reviewed study to share that shows they don’t prevent hospitalization and death? Or do you just share baseless statements?\\n\\nhttps://t.co/iI0Jy6fiC1 \\n@martinjay94 : @JayEdwardsuk Do they test daily? If not how do you know this. \\n@martinjay94 : @JayEdwardsuk How many people are we talking whose bad fits and clots? \\n@martinjay94 : @JayEdwardsuk Many, but you know all their testing routines and none apparently had Covid. Interesting. \\n@martinjay94 : @JayEdwardsuk I don\\'t believe you, I don\\'t know anyone whose had adverse reactions due to the vaccines, but you know \"many\". And none of these have had COVID, even though 70% have had COVID. \\n@martinjay94 : @JayEdwardsuk You\\'re the one whose been tweeting a doctor about vaccines, even though you have no background in medical and basing it on hear say. Well done champ. \\n@JayEdwardsuk : @martinjay94 That\\'s your opinion!! Champ \\n@martinjay94 : @JayEdwardsuk I mean it\\'s a fact. You are tweeting a Doctor, and you have no medical background. \\n@gkarver : @TommyRocker260 @DrRanj Ok, so official government hospitalization data is not valid enough for you to show that the vaccines prevent death and hospitalization, but YELP! reviews (sorry, VAERS) is to be more trusted? Are those considered peer reviewed?  Those numbers are pure hyperbole. \\n@TommyRocker260 : @gkarver @DrRanj Sooo, the governments own figures are pure hyperbole 🤔..Oh wait.....does that mean the CDC are the conspiracy theorists now. 🤦\\nStay boosted my friend. \\n@gkarver : @TommyRocker260 @DrRanj It’s basically YELP! for the CDC. You don’t think the FDA and CDC would have stepped in already if they felt these claims were valid and worrisome? I’m guessing you gave the vaccines 1 ⭐️ and a negative review. Stay ignorant my friend. https://t.co/n0S87KUt3g \\n@TommyRocker260 : @gkarver @DrRanj ....And it was at this point that Tommy realised he was dealing with a complete and utter moron. 🤦🤦🤦 \\n@gkarver : @TommyRocker260 @DrRanj I’m still waiting for any concrete, factual information from you. You don’t have any, do you? \\n@DrRanj : @gkarver @TommyRocker260 Of course they don’t! \\n@Kevin40383097 : @hillpatt @DrRanj Honestly it doesn\\'t go away. I wake up 10+ times a night because of how itchy my back is. Is yours all over or back and neck? \\n@grs_67 : @DHSCgovuk I\\'ve finally succumbed to the virus, first time I\\'ve had #Covid had all the jabs and booster, not that it matters as I know many people who have had it with the jabs\\n\\nCurrently no worse than a head cold, I guess it\\'ll help build up the antibodies 😁 \\n@myownmind17 : @DHSCgovuk In summary, the unvaccinated make up 25% of the UK population yet have only a 4% mortality rate per hundred thousand person-years. The boosted compose 50% of the population but have a 86% mortality rate.\" \\n@adamdeaverit : @myownmind17 @DHSCgovuk Nice made up stats. \\n@myownmind17 : @adamdeaverit @DHSCgovuk Latest data set table 9 , its all there all the deaths from covid a few weeks after the jab ,weeks 3 and 4 after are interesting all age groups have a n increase in those weeks https://t.co/gbfp9Go4Sn \\n@myownmind17 : @adamdeaverit @DHSCgovuk you look yet Adam manage to see the true data \\n@PeterCattermol3 : @grs_67 @DHSCgovuk Poor chap, get well soon \\n@adamdeaverit : @myownmind17 @DHSCgovuk So complete conjecture and bullshit ok. \\n@AtomsDNA : @DHSCgovuk COVID deaths.  England 744. Scotland 15. Wales 35. N Ireland 8 Total UK = 802 COVID/SARS deaths in the last 7 days. https://t.co/uJagCrzlkd \\n@AtomsDNA : @GraphicsGrs @DHSCgovuk You\\'re telepathic ... https://t.co/iy6rpntPjL \\n@grs_67 : @AtomsDNA @GraphicsGrs @DHSCgovuk Yeah didnt realise I\\'d posted it on my other account, well spotted 👍 \\n@grs_67 : @PeterCattermol3 @DHSCgovuk Cheers 👍 \\n@myownmind17 : @adamdeaverit @DHSCgovuk I love the lack of intelligence people posses .\\nIt\\'s a big boys playground adam .\\nDisprove me mate it\\'s easy isn\\'t it 🤣🤣 \\n@adamdeaverit : @myownmind17 @DHSCgovuk Funny from someone that obviously failed math due to not understanding fractions. \\n@myownmind17 : @adamdeaverit @DHSCgovuk Maths not math.\\nProve me wrong come on get off your x box and prove me wrong \\n@adamdeaverit : @myownmind17 @DHSCgovuk So above 80 less the 2% are unvaccinated but account for about 9% of the deaths with 60+ its 12% of the deaths attributed to the 2%. \\n@myownmind17 : @adamdeaverit @DHSCgovuk 1300 deaths in 2.8 mill equals 1 in 2153 deaths\\n103 deaths in 140,000 equals 1 in 1,359 \\nIn that age group so may be doing a bit .\\nVaccinating 1 person may save 1.8 lives \\nThen do the same in other age groups and see if there is much benefit and there isn\\'t really especially \\n@DonJeffries : Researching my expose book on #Covid book. EVERY search engine now censors alternative information on the subject. Anyone have ideas for other search engines I may be unaware of? Thanks. #freespeech \\n@CGravesMassGuy : @ToxicEgoDAE @DonJeffries Yeah, but with that kinda thing, you may not even know what you may be opening. I get what you\\'re saying. \\n@DonJeffries : @MrBlingBling007 I haven\\'t tried Yandex in a while. Thanks! \\n@DonJeffries : @RHuddon I\\'ve tried it. It blocks information, too. Thanks. \\n@DonJeffries : @JasonAnthonySt2 That\\'s pretty much every company now lol. \\n@ToxicEgoDAE : @CGravesMassGuy @DonJeffries Like Silk Road for example wasn’t just about drugs they also had books you can’t get in the book stores right. \\n\\nBecause the government said “they are illegal” doesn’t mean they actually were \\n@CGravesMassGuy : @ToxicEgoDAE @DonJeffries By illegal, I was referring to the torture/snuff/children type shit. \\n@OmniSentient : @DonJeffries Try https://t.co/1B4w9vviKh if you haven’t already. \\n@DonJeffries : @OmniSentient Now that one looks promising. Thanks! \\n@OhyeahIdid : @covid_parent @Galileo62303273 They’re shits already packed so might as well send them to quarantine camp 😝😝 \\n@Galileo62303273 : @OhyeahIdid @covid_parent Gross and funny. \\n@ADALoc8or : @covid_parent @Galileo62303273 Is that a statement or a question? 🤔 \\n@ADALoc8or : @covid_parent As a petrified Covid parent, unless you’re kids are in their 40s or 50s, you’re worrying about nothing, but I’m sure that’s not the situation in your case. 🤔 \\n@PERE74192336 : @ADALoc8or @covid_parent Satire \\n@PERE74192336 : @redstar01010 @covid_parent Neeee-haaawwwww \\n@ADALoc8or : @PERE74192336 @covid_parent I can never tell anymore 🤣\\U0001fae0🤭 \\n@PERE74192336 : @ADALoc8or @covid_parent 😅 \\n@wencam6 : @covid_parent Jesus christ you are one messed up individual.  I\\'m soooo glad you stay home. \\n@GenerallyBrock : @covid_parent The cause of the unvaxxinated is the anti-vaxxers.\\nProve me wrong. \\n@Lady44391431 : Why is anyone asking #Gates about #vaccines He IS NOT a #doctor nor any #knowledge on #Immunology He is a dumbass with a shit ton of #money who is looking to carry out a #WEF #agenda #NoVaccines #unvaccinated #VaccineSideEffects https://t.co/s3lCMwkKE1 \\n@gkarver : @Lady44391431 Lol. So do you believe what the vast majority of doctors, scientists, virologists, epidemiologists, immunologists, etc recommend or not?? \\n@ShaunORourke5 : 6.9 million cases and 79K deaths in Florida...and counting. #covid #Florida https://t.co/R82uaAfEKE \\n@lastlineshow : @ShaunORourke5 My girl &amp; I after 2 years finally got Covid over a month ago. I didn’t get it bad but it was still way worse then any cold I’ve ever had and had me out of work for a week &amp; my fiancé legit almost had to go to the hospital &amp; almost lost her job. We never wanna get that shit again \\n@ShaunORourke5 : @lastlineshow It hits everyone different. Some get no symptoms, and some get wrecked. I am glad you both came out on the other side of it ok. \\n@lastlineshow : @ShaunORourke5 Yea I’ve had my mom and sis hospitalized and legit almost lost my mom but have had some family members that showed zero outward symptoms as well. Covid is some Crazy shit. Appreciate that, we still got a multi week persistent cough goin but otherwise where in the clear. \\n@MonkeyAnomalous : SHEEP KEEP CLAPPING!\\n\\n#SADS #SuddenDeath #suddendeaths2022\\n#Biden #fauci #covid #Covid_19 #covid19 #vaccine #VaccineSideEffects #VaccineDeaths #VaccineMandate #vaccineregret #VaccinePassport #VaccineSideEffects #Pfizer #Moderna #mRNA #Gates #wef #KlausSchwab #TheGreatReset #CDC https://t.co/f5CUydoPqk \\n@AlphaGi88956176 : @MonkeyAnomalous Retweet For Humanity\\'s Sake!\\nHello Fellow #Truthseekers.These #Globalist maniacs in the #WEF #Cabal keep telling us their \"plan\" for us. Here, #KlausSchwab\\'s psychopathic #Depopulation Adviser #YuvalNoahHarari, invokes \"Useless Eaters\"\\nto rationalize continued #Vaccine #Genocide. https://t.co/uJW4BiWFXV \\n@MonkeyAnomalous : The #vaccine does nothing? \\n\\nThe vaccine makes you \"grateful\" and \"thankful\". This is a very mean and ungrateful world and if it takes the \"vaccine\" to make people \"thankful\", then it is totally worth it. Also, get boosted. 29 times. And be thankful if you get #covid #Covid_19 \\n@SarahBurssty : yall like \"covid vaccine is destroying me 🤒\" i have gotten like 3 phizer shots and have felt nothing every time, your bodies are just weak 😏 \\n@That1MuteFrog : @SarahBurssty bbursty thats because your arms are made of bedrock &gt;:( \\n@SarahBurssty : @That1MuteFrog 💪💪💪💪💪💪 \\n@That1MuteFrog : @SarahBurssty hacker 👎👎👎👎👎 \\n@soulreap3r9601 : @SarahBurssty i legitimately was knocked out of action for 3 days after my second shot it sucked so much \\n@SarahBurssty : @soulreap3r9601 my bad that might have been my fault \\n@Fem_Bneko : @SarahBurssty I got myocarditis after my second shot it wasn\\'t fatal but it hurt like hell, I just unlucky tho \\n@soulreap3r9601 : @SarahBurssty meanie😡 \\n@SarahBurssty : @Fem_Bneko unfortunately, after a quick google that seems like a small risk among all shots :&lt; \\n@amwequine : Framing it as “lack of trust”, “misunderstanding the Constitution” or “cognitive dissonance” is obscuring the OBVIOUS. #Morrison wanted full #CoerciveControl of gov and used cover of #covid to do it. Once he had template, he had full power to do whatever he wanted. #auspol 1/4 https://t.co/im13fiv3af \\n@amwequine : Just like an abusive spouse, who says “But I never hit her”, #Morrison set everything up so he DIDNT HAVE TO! It was a fall back plan, so that his bullying of ministers couldn’t have unexpected nasty repercussions. HE KNEW he had the power, that was THE POINT! #auspol #DARVO 2/4 \\n@amwequine : After return of Barnaby #Joyce as Nats leader, #Morrison’s bullying became less effective for controlling the Resources portfolio, for… reasons🤷\\u200d♀️. So Morrison DID ‘hit’ Keith Pitt, but true to form, is being allowed to deny/obfuscate/distract with semantic argument #auspol 3/4 \\n@ben_wyndham : @amwequine Where\\'s 4/4? Edge of seat. \\n@amwequine : The MSM needs to get their collective head around the idea that taking #Morrison’s arguments in good faith permits his #CoerciveControl of *the media*, allows him to #DARVO the electorate. Journos wondering how we got here need to know that THEY enabled every step. #auspol 4/4 \\n@amwequine : @ben_wyndham Whoops! I thought I’d accidentally deleted the thread, and figured I was never getting that 20mins of my life back. Have done my best to recreate it, but the first 4/4 was obviously better 😜 \\n@colinfry666 : Australia has had 10* days reporting over 100 #COVID deaths. EIGHT of those days have been in the last 4 weeks. #CovidIsNotOver\\n\\n*Ignoring the anomalous 347 reported 1 April\\n\\nThanks to @BigBadDenis and @covidliveau for their stats.\\n#COVID19Aus\\n\\nSource: https://t.co/VnKGihJqwW https://t.co/LtmJoSX0Ro \\n@misguidedjenni : @colinfry666 @BigBadDenis @covidliveau Yet it\\'s being totally ignored. \\n@colinfry666 : @misguidedjenni @BigBadDenis @covidliveau Yep! Nobody even mumbling hollow condolences at press conferences anymore \\n@deadlabrador1 : Alex Jones has a message for Donald Trump.. #trump #AlexJones #stoptheshots #covid #vaccine https://t.co/TaYIcjw0t7 \\n@deadlabrador1 : @BezmenovsGhost @hephaistos_ai It\\'s muted by default, look in the top right hand corner and it should be visible when you are hovering over it. \\n@fordmb1 : @deadlabrador1 Who is #AlexJones \\n@Artec7793 : @deadlabrador1 @DrNoMask Well.....it\\'s good theater anyway. And the Oscar goes to... \\n@clark_judy : @deadlabrador1 Too bad!  MAGA! \\n@UNOFFENSIVEMAN : @deadlabrador1 GOD JESUS CHRIST MIGHTILY BLESS YOU FOR THIS, ALEX!!!!!!!!!!!!!!!!!!!!!!!!!!!!!!!!!!!!!!!!!!!!!!!!!!!!!!!!!!!!!!!!!!!!!!!!!!!!!!!!!!!!!!!!!!!!!!!!!!!!!!!!!!!!!!!!!!!!!!!!!!!!!!!!!!!!!!!!!!!!!!!!!!!!!!!!!!!!!!!!!!!!!!!!!!!!!!!!!!!!!!!!!!!!!!!!!!!!!!!!!!!!!!!!!!!!!!!!!!!!!!!!!!!!!! https://t.co/rZn6QRKHPV \\n@UNOFFENSIVEMAN : @clark_judy @deadlabrador1 THAT DEPOP SHOT IS TOO BAD!!!!!!!!!!!!!!!!!!!!!!!!!!!!!!!!!!!!!!!!!!!!!!!!!!!!!!!!!!!!!!!!!!!!!!!!!!!!!!!!!!!!!!!!!!!!!!!!!!!!!!!!!!!!!!!!!!!!!!!! \\n@UNOFFENSIVEMAN : @fordmb1 @deadlabrador1 THE MAN WHO TOLD THE TRUTH \\n@UNOFFENSIVEMAN : @Artec7793 @deadlabrador1 @DrNoMask - THE DEPOP SHOT THAT TRUMP TOLD CANDACE\\n\\n\"NOBODY DIED FROM\"\\n\\n!!!!!!!!!!!!!!!!!!!!!!!!!!!!!!!!!!!!!!!! https://t.co/bGnJYzjq55 \\n@deadlabrador1 : @clark_judy Yeah if you dismiss it then really it is you having double standards to be fair because everyone else is being held accountable and he is not an exemption \\n@deadlabrador1 : @Artec7793 @DrNoMask He is right though \\n@derby_kira : @deadlabrador1 Oooh now it’s Trumps fault? Lol this dude is crazy. Hasn’t he learned his lesson? Also, Trumps admin didn’t handle the way they pushed the vaccine. Trump spoke against WEF to their faces. Wake up. Alex Jones?? Come on man! 😂😂😂 \\n@derby_kira : @deadlabrador1 I just realized he called him the real president. 🤦🏻\\u200d♀️ \\n@ShannonRavenhi1 : @deadlabrador1 He\\'s right. Again. \\n@Artec7793 : @deadlabrador1 @DrNoMask partly right. \\n@deadlabrador1 : @Artec7793 @DrNoMask Yeah well it\\'s good not to agree over everything is it but we are still on the same side :P \\n@deadlabrador1 : @ShannonRavenhi1 Yeah he is doing the right thing I believe :) \\n@Artec7793 : @deadlabrador1 @DrNoMask Of course, mate. Total agreement on everything would be very boring . \\n@deadlabrador1 : @derby_kira Nah I agree with Alex to be honest Trump is proud of the shots how can he not see the death? I\\'ve only heard lame excuses for it so far and mental Qanon theories \\n@deadlabrador1 : @Artec7793 @DrNoMask So true man :) \\n@derby_kira : @deadlabrador1 I don’t know if you hear how ridiculous you sound, but you just agreed with someone who was sued for his conspiracy theories and lost. Good luck to you, stop drinking the blue aid. 😂🤦🏻\\u200d♀️ WOWWWWWW \\n@deadlabrador1 : @derby_kira Haha okay :) \\n@derby_kira : @deadlabrador1 Eh it’s fine we don’t agree. No big deal. Have a good day. 🙂🤙🏼 \\n@deadlabrador1 : @derby_kira Aww bless and the same to you :) \\n@gofast36 : @derby_kira @deadlabrador1 Kira, he initially complimented Trump, &amp; said that he\\'s been a supporter of his. However, Trump continues to strongly advocate for a poison Vaccine that\\'s killing huge numbers of people. That\\'s the one thing that Alex Jones is calling him out for, &amp; he\\'s absolutely right to do so \\n@deadlabrador1 : @gofast36 @derby_kira Amen Brother \\n@derby_kira : @gofast36 @deadlabrador1 Right. I saw that. Didn’t he do a video a long time ago screaming how he wished he’d never met trump? I just thought about that now. Lol Anyone remember that? I thought he was messing around but he was heated. \\n@deadlabrador1 : @derby_kira @gofast36 Yeah because Trump totally shit on Infowars really. \\n@derby_kira : @deadlabrador1 @gofast36 I’m not too familiar with info wars. I guess I should stay where I’m more educated. 😂 I’ve had small observations on him so I’m gonna take your word for it. 😉🙂 \\n@deadlabrador1 : @derby_kira @gofast36 Nooo don\\'t take anyone\\'s word for anything anymore what if I was lying, it\\'s a slippery slope \\n@deadlabrador1 : @evan_barnes76 Yeah that is just messed up lol I saw that earlier on the Alex Jones show \\n@derby_kira : @deadlabrador1 @gofast36 Lol. This is true. Well thanks for the lead. 😉😂 \\n@deadlabrador1 : @derby_kira @gofast36 No problem :) \\n@deadlabrador1 : @UNOFFENSIVEMAN @fordmb1 About the vaccine? \\n@UNOFFENSIVEMAN : @deadlabrador1 @fordmb1 Exactly. And many other things \\n@marxdeane : Seem to recall that the federal public servants were ordered not to appear before the inquiry into the #RubyPrincess.\\nSo who signed off on the passengers disembarking and spreading #COVID far and wide?\\n#Morrisongate \\n#MorrisonMustGo \\n#Auspol https://t.co/Axos3VAm6L \\n@KeithGeorgeBra1 : @marxdeane Wasn’t the mass disembarking of the Ruby Princess due to the fact that Alex Hawke’s In-laws were on board , prompting Hawke to call them Border Force Supreme Leader Spud Dutton, to get them off ASAP. Hmmmmmmmm \\n@LuckyOZBloke : @KeithGeorgeBra1 @marxdeane Alex Hawke’s in-laws on the Ruby Princess = baseless conspiracy theory\\nBret Walker SC, who conducted a Royal Commission like inquiry into the Ruby Princess fiasco, produced a very comprehensive report (which I’ve read), which correctly laid the blame for the fiasco on NSW Health \\n@KeithGeorgeBra1 : @LuckyOZBloke @marxdeane But aren’t Border Force , Customs and the AFP responsible for our borders , airport and shipping passenger terminals ? \\n@LuckyOZBloke : @KeithGeorgeBra1 @marxdeane Federal Health Dept had delegated to NSW Health all relevant quarantine powers under the BioSecurity Act with respect to cruise ships docking in Sydney\\nRuby Princess fiasco was entirely the fault of NSW Health \\n@LawBeatInd : In #SupremeCourt Justice Chandrachud’s bench is told that  CBDT had accused the makers of Dolo-650 tablet distributing freebies of about ₹1,000 crore to doctors. He says “Its not music to my ears. That is what I had when I got #Covid 3 weeks ago!” \\n@adv_007 : @LawBeatInd @DrRahulGhule11 request your take on \\n@DrRahulGhule11 : @adv_007 @LawBeatInd Wrong did by dolo 650 owners \\n@AnnaWhateley : For folk who have been primary carer for a child with #covid, did you mask for the week? And did you come down with it too, if initially negative? Child is 9. \\n\\nThis is not a proper medical survey, just me asking my people in a way that they can be honest but anonymous. \\n@astred : @AnnaWhateley Kid +/ Dad -, both wore masks. Dad stayed -. Mum (me) stayed in different location, due to high risk at the time. \\n@AnnaWhateley : @astred And you hadn’t already got it, just a bit late? I’m not sure if I’m doomed anyway - having shared food and drink etc \\n@chaotic_kat : @AnnaWhateley Answered on behalf of my spouse, who stayed negative the 12 days my child and I tested positive. We both wore masks when in shared spaces, ate outside, slept in seperate rooms with doors closed + HEPAs running + open windows. HEPAs running in shared spaces through daytime. \\n@chaotic_kat : @AnnaWhateley We all the slept in same room the night before we tested positive. Kiddo and dad played together indoors in the morning, before I decided to test. \\n\\nExposure levels (i.e. how\\'s much virus you are exposed to) affect risk of infection and how sick you could get. All is not lost. \\n@chaotic_kat : @AnnaWhateley We followed the instructions &amp; guidance linked on https://t.co/yFwfsQiaPe for how to isolate in a shared living space. \\n@AnnaWhateley : @chaotic_kat Thank you so much! I’ve had two positive kids without sharing further than that,, but they were teenagers.. totally different as they could reliably mask. I’ll check out the web site too 🙏 \\n@AnnaWhateley : Also excuse the typo and omg did I mention my 9yo has covid?!?! 😭😵\\u200d💫 \\n@MelissaGijsbers : @AnnaWhateley I masked when they came into communal areas. Kept windows open &amp; cleaned anything they touched. Kids isolated in their room &amp; we have a separate bathroom &amp; toilet just for covid positive ppl. No one else got covid! If we couldn\\'t open windows, would have done more masking \\n@MelissaGijsbers : @AnnaWhateley Sending hugs to the kid &amp; the rest of the family \\n@MelissaGijsbers : @AnnaWhateley I left food outside the bedroom door, knocked &amp; left, then they opened the door (masked) to pick it up. Minimal contact. Wasn\\'t easy to do. Poor kid has it again now, but doesn\\'t live at home any more (I\\'m still dropping off food &amp; meds) \\n@BlindGrlMusings : @AnnaWhateley ah please take care. sending loads of love.\\nhoping for a smooth recovery \\n@AnnaWhateley : @MelissaGijsbers Thanks Melissa. Her age makes it tricky… was much easier with teens. But so grateful for all our in house entertainment \\n@AnnaWhateley : @MelissaGijsbers Awww, you’re lovely. I hope my other two don’t get it again too \\n@AnnaWhateley : @BlindGrlMusings Thank you xx \\n@urhein : @AnnaWhateley Contracted it, but didn\\'t really do any attempts to avoid it. So no isolation (was off the table for a 5yo, anyway), no masks, and we played &amp; cuddled a lot.\\n\\n(Appreciate that risk &amp; risk tolerance varies and understand that approach isn\\'t for everyone) \\n@AnnaWhateley : @urhein Totally understand. At 5 I probably would have been similar?? \\n@astred : @AnnaWhateley No kid was the only one to get it. I was in hospital overnight, kid was a bit tired day I went to hospital, tested + next day. Husband shared two little rooms with kid for 10 days. Both masked, windows open and air purifiers on. Only kid had it. No coughing tho, just sniffles \\n@AnnaWhateley : @astred What an epic time 😩💖 \\n@ewaeramsey : @AnnaWhateley 8yo came into our room and slept between us for two hours, got up, said he didn’t want to go to school so I RATed him and he was positive. I figured the infection horse had bolted, so we didn’t mask. 10yo he shares a room tested positive the next day, adults didn’t get it 🤷\\u200d♀️ \\n@AnnaWhateley : @ewaeramsey 😵\\u200d💫😵\\u200d💫😵\\u200d💫 \\n@ewaeramsey : @AnnaWhateley I ended up getting it a few weeks later from somewhere else, and my husband didn’t get it from me then either, despite sharing a room. It seems very random. Wishing you good immunity and hoping your 9yo isn’t too poorly 🤞 \\n@ksimpsonbooks : @AnnaWhateley Going through this at the moment. Kept kid 1 in a separate room. She masked to leave the room e.g. for bathroom, we masked if we went in. I still got it but I wonder if I caught it before I knew she had it. My mum lives in another house and caught it from her before symptoms. \\n@ksimpsonbooks : @AnnaWhateley Kid 2 caught it from me or kid 1 despite the same procedure and now my partner is the only one negative. We\\'ve turned his room into iso room and the rest of us are sharing Covid house. \\n@urhein : @AnnaWhateley To be honest, for me it was more like \"alright, let\\'s get this over with\", so I personally wouldn\\'t have done anything differently if she was 9. But I\\'m low-risk and wasn\\'t really worried, anyway, so ymmv. \\n@ksimpsonbooks : @AnnaWhateley Sorry your kid has covid. 😭😭😭 \\n@AnnaWhateley : @ksimpsonbooks Ah you’ve really been through the tag game. I shared a car for two hours with my son when he then tested positive. Also shared two hours home again with masks on and still didn’t get it?! But he was older and keeps himself quite contained. 9yo does not. She also can’t isolate 🤷\\u200d♀️ \\n@astred : @AnnaWhateley Yeah it was super shit - I stayed in a hotel for 10 days and did post op recovery alone. Booooo \\n@ksimpsonbooks : @AnnaWhateley It\\'s such a tricky one. We decided it was worth it to at least try. I would try again next time. \\n@beyondbeeton : @AnnaWhateley Didn’t mask, but avoided direct contact, ventilated house. 1 out of 2 parents got covid. \\n@belindamgrant : @AnnaWhateley So sorry Anna \\n@AnnaWhateley : @urhein I’m high risk, ish, it’s complicated. \\n@AnnaWhateley : @astred That’s just so horrible! It’s bad enough with people.. 🥺 \\n@AnnaWhateley : @belindamgrant We’ve been lucky so far I guess \\n@sandybarker : @AnnaWhateley Sorry there\\'s covid in your family \\n@beyondbeeton : @AnnaWhateley The parent who ate half of a chicken nugget after the covid kid had eaten the first half (the day before + test) did not get covid \\n@AnnaWhateley : @sandybarker We’ve been so lucky really, I just hope her jabs keep her safe now \\n@AnnaWhateley : @beyondbeeton Ahhhhhh thank you! I’ve been cursing myself for finishing what was, admittedly, a lovely danish 😅 \\n@Josh_B_Rosner : @AnnaWhateley @sandybarker My 9 yo &amp; my husband both had it a couple of weeks ago. I didn’t wear a mask in the house, was around them both - in fact, child lay on my chest coughing and spluttering for 3 days - and didn’t get it. Somehow. \\n@beyondbeeton : @AnnaWhateley Danishes *are* lovely! What will be, will be…in our house the parent who did bedtime (with a closed door) is the one who got it. I feel like ventilation is key. There was no parent-parent transmission either. \\n@AnnaWhateley : @Josh_B_Rosner @sandybarker Wow, that must have been rough 😔 \\n@Josh_B_Rosner : @AnnaWhateley @sandybarker Relatively mild and passes quickly for Miss 9. Husband another story. Hope your 9yo’s passes quickly! \\n@urhein : @AnnaWhateley 🤞🏼 wishing you the best, Anna \\n@Finnattentive : @AnnaWhateley Hope she gets better soon! Both my girls have had it now. 🙁 \\n@AnnaWhateley : @Finnattentive Thanks. Yeah this makes 3/3 now for the kids. Strangely covid free adults - so far \\n@Finnattentive : @AnnaWhateley I haven\\'t had it and I hope I won\\'t for a long time. The girls are back to school now so we\\'ll see. \\n@drhelenedwards : @AnnaWhateley So sorry to hear...we isolated 13 yr old in room. Opened all windows all day. Kept all internal doors shut. All Wore masks in shared zone/bathroom. I Glen20d doors etc after he went to bathroom. I went in a few times a day to check him, take food etc Nobody else got it \\n@kmjgardiner : @AnnaWhateley Sorry the little one is crook! Hope it\\'s not too horrible. Xx \\n@drhelenedwards : @AnnaWhateley Also, he home schooled the day before &amp; sat near me all day unmasked. He vomited all over his room that night, so clearly infectious. So early exposure but still didn\\'t get it thank you to 4x vax \\n@AnnaWhateley : @drhelenedwards I’m glad you stayed clear. My teens were happy to isolate, but poor 9yo just won’t cope emotionally so I’ll be masks and doors open today I think. \\n@AnnaWhateley : @kmjgardiner Thanks Kelly. I’m glad we have books - maybe time to count and see if we make a formal library? 1000? \\n@kmjgardiner : @AnnaWhateley Excellent project. Will also require a major methodology discussion. Alphabetical? \\n@AnnaWhateley : @kmjgardiner Many bookshelves, each with their own system. Mostly by genre or audience, but some clearly run by their own magical system - oh the possibilities! \\n@kmjgardiner : @AnnaWhateley Fabulous! \\n@drhelenedwards : @AnnaWhateley it\\'s much harder with a young one. Fingers crossed for you all. Ventilation is important too, so open windows if you can \\n@AnnaWhateley : @drhelenedwards Yeah it’s double jumpers on and hoping for good sunshine today. \\n@AVintenAuthor : It’s got me again 😭 #covid https://t.co/0Op5B27buL \\n@PERE74192336 : North Kanada\\'s Eastern Province of Quebec will offer 5th dose of #COVID-19 vaccine to all adults as of Aug. 29.\\n\\nHurry up and get yours!\\n\\nhttps://t.co/MA3V0lcPld \\n@KristinaJulia2 : Scientific Study Shows COVID Lockdowns Caused 20-Fold More Deaths | Republican Post #Covid  https://t.co/Wc2P1GqH0d \\n@tmddyan2 : @KristinaJulia2 I said right off the bat.. Im betting there will be an uptick in suicide and other deaths as a result of this.. I wanted to be really wrong \\n@KristinaJulia2 : @tmddyan2 Well you were right, it’s been the worst time in my life. Next to cancer &amp; 9/11. \\n@tmddyan2 : @KristinaJulia2 I really hate that I was.. we lost my Father in law April of 2021 to cancer.. he was given 6 months when my son was 6 months old.. he made it till my son was 9.. I really hope things get better.. for you especially.. and for everyone \\n@KristinaJulia2 : @tmddyan2 Aww, very sorry to hear that. Covid was bad when it first got here &amp; I get they panicked but that went on way too long. \\n@tmddyan2 : @KristinaJulia2 yeah I had a baby day before lockdowns.. i was a hormonal mess... it just sucked all round \\n@KristinaJulia2 : @tmddyan2 Ooooo, I would not like that! \\n@tmddyan2 : @KristinaJulia2 yeah.. was a little bit of hell \\n@tmddyan2 : @KristinaJulia2 having my baby was fantastic.. the hormone overload not so much.. Id have been fine had the sh*t not hit the fan lol.. \\n@KristinaJulia2 : @tmddyan2 Can’t even imagine! \\n@KristinaJulia2 : @tmddyan2 Childbirth in general looks scary! \\n@tmddyan2 : @KristinaJulia2 Id rather give birth than be sick lol.. had all 3 of em at home.. \\n@KristinaJulia2 : @tmddyan2 Oh God, every time I see a scene on TV of that I cringe. Looks super painful! \\n@tmddyan2 : @KristinaJulia2 ignore tv.. its NOT like that at all.. thats hyped up..looks worse than it actually is.. yes its hard work.. but not like that.. everyone is different.  id rather be in labor than have a cold.. hands down \\n@KristinaJulia2 : @tmddyan2 Well it’s too late for me anyway but that’s good know ❤️🙏❤️ \\n@Daltmann10 : Please contact me if you know anyone prepared to help us as a ‘control’ for our #Longcovid analysis. We’re short of blood test volunteers who ‘made a full recovery within 4 weeks of #covid infection.’ Please RT https://t.co/zQabU16P1w \\n@stephanie200586 : @Daltmann10 Retweeted. Unfortunately, I cannot be a control... I still have persistent symptoms 7 weeks post-infection :( \\n@AndrewG76201347 : @stephanie200586 @Daltmann10 Rest, rest, and rest. Convalesce like a Victorian lady. This will give you the best chance of recovery. \\n@BaronMunc : @Daltmann10 @LeahBra_numbers I’ll bet. \\n@ZoeSumra : @Daltmann10 I can join the control group. I wasn\\'t in 100% good health before getting COVID in January 2022 but was back to that not-100% baseline in under four weeks. \\n@Daltmann10 : @ZoeSumra Yes please \\n@ZoeSumra : @Daltmann10 Great. I\\'ve followed you so you could DM me the details of what you need...? \\n@MoKaStHa : @Daltmann10 @kimisgubbed Yikes I REALLY hope I\\'ll be eligible for this in 16 days. Things APPEAR fine - even after first walk today, including a small hill. But there\\'s this constant sense of an unwilling game of Russian Roulette playing out. \\n@kimisgubbed : @MoKaStHa @Daltmann10 🤞🤞🤞 \\n@2wheelerwidow : @Daltmann10 I can help had covid x 1 in April 2022 recovered and back at work in 2 weeks I am a Nurse \\n@Daltmann10 : @2wheelerwidow Please email us at:\\nAltmannLongCovidStudy@imperial.ac.uk \\n@RenoeTheNinja : @robertabrownst1 @Wayner665 I got lucky that I was able to get a medical exemption and my employers were very cool with it. \\n@RenoeTheNinja : @ildfluer @Wayner665 There is zero proof that they contracted it from someone unvaccinated though. You know considering those who got jabbed spread it just as much as those not. \\n\\nBut keep living in denial rube. \\n@RenoeTheNinja : @ildfluer @Wayner665 Not true at all. But carry on with your idiocy. It\\'s rather amusing. \\n@robertabrownst1 : @RenoeTheNinja @Wayner665 Are you in WA state? \\n@RenoeTheNinja : @robertabrownst1 @Wayner665 Yeah but I\\'m also not working in a hospital. That and where I work is now requiring the jab for new employees. Just got lucky. \\n@SafetyMentalst : @SafetyMentalst  \\n\\n#rt #COVIDisAirborne \\n\\nThe sun will rise again soon\\nAs I look up at a bright moon\\nGlad from #Covid I am immune\\nTo live and enjoy another noon\\nSo nice ice cream on my spoon\\nFor Someone else release a Balloon\\n#CovidIsNotOver  #rtItBot 🤠💝 https://t.co/563yEXvx7c \\n@JeffBurritt : When does the FBI raid his home for evidence of the biggest health fraud in history? #Fauci  #covid #vaccine https://t.co/TiVgRMbzf1 \\n@HugoOrt95578374 : @JeffBurritt wow, that\\'s interesting,\\n\\nEXCEPT COVID ISN\\'T INFLUENZA, THEY ARE COMPLETELY DIFFERENT TYPES OF DESEASES.\\n\\nanother one who never paid attention in school..... \\n@den0us : @HugoOrt95578374 @JeffBurritt Those who don\\'t pay attention in school are usually the most intelligent. \\n@Ghost_ProtocolV : @HugoOrt95578374 @JeffBurritt Completely different??  Have you even bothered to compare and contrast the symptoms of the 2? \\n@HugoOrt95578374 : @Ghost_ProtocolV @JeffBurritt just because they share symptoms doesn\\'t make them the same.  Influenza is a upper respiratory virus, COVID affects the Renal and Cardiovascular systems along with pulmonary systems, and they are completely different types of virus. \\n@HugoOrt95578374 : @Ghost_ProtocolV @JeffBurritt here if you need clarification, the flu virus is in fact part of its own family of virus and only contains influenza virus, and COVID is coronavirus, a completely different species of virus https://t.co/AMFOknx119 \\n@Kogz : @JeffBurritt Hopefully soon! https://t.co/ebALtjuv8v \\n@Ghost_ProtocolV : @HugoOrt95578374 @JeffBurritt Fair enough since you got so much knowledge does a vaccinated person and a person who had covid have the same level of protection? \\n@HugoOrt95578374 : @Ghost_ProtocolV @JeffBurritt for the original strains from last year, yes that was true, but the newer stains bypass immunity both from vaccines and from prior infections, because a significant number of people never quarantined or got vaccinted fast enough to prevent that from happening, also basic science \\n@HugoOrt95578374 : @den0us @JeffBurritt something only an ignorant person would say. https://t.co/D1P5y2gCzC \\n@den0us : @HugoOrt95578374 @JeffBurritt Ignorance is believing that education is the same as intelligence \\n@HugoOrt95578374 : @den0us @JeffBurritt so, without education intelligence is wasted, can\\'t be intelligent unless you LEARN and are willing to learn. \\n@HugoOrt95578374 : @den0us @JeffBurritt I didn\\'t learn that influenza and COVID were two different virus from a school, I was educated in the basics of biology and desease, so I looked it up, anyone can do it. \\n@Ghost_ProtocolV : @HugoOrt95578374 @JeffBurritt Which are the old strains and which ones are the new strains? 🤔 If the new strains bypass both the vaccine and natural immunity technically most should drop dead right? \\n@souljah_se7en : @JeffBurritt The stuff they would find. Even going back to the 80s. \\n@souljah_se7en : @HugoOrt95578374 @JeffBurritt I think it has much to do about your immune system and how it handles the disease after you contract it Einstein. \\n@souljah_se7en : @HugoOrt95578374 @den0us @JeffBurritt There is such a thing as miseducation and without intelligence you won’t know if your miseducated. \\n@den0us : @HugoOrt95578374 @JeffBurritt So you originally say \"someone didn\\'t listen ins school\" as an insult. Then go on to say that you didn\\'t learn about Covid etc from school. Proving my exact point.\\n\\nhttps://t.co/iSxTWGTK5D \\n@den0us : @souljah_se7en @HugoOrt95578374 @JeffBurritt Exactly this \\n@DanLol68120692 : @HugoOrt95578374 @JeffBurritt Still advocating for shots that have unequivocally failed to deliver on their promises, whilst denying the reality of innate immunity.. You can boost yourself into the afterlife for all I care, my man. lol \\n@HugoOrt95578374 : @DanLol68120692 @JeffBurritt I\\'m sorry what were you lying?\\n\\nhttps://t.co/9RYdOhuKMW \\n@HugoOrt95578374 : @DanLol68120692 @JeffBurritt notice it\\'s a university of MINNESOTA (conservative state) Using a study made from LONDON..... \\n@MrsSmanwar : Is there any single person that you know or you yourself that has not had covid yet? #wonderhowmany #COVID19 #covid \\n@Silver6pence : @EdnaKrabapple1 @geolechat @MrsSmanwar Ventilation has been the one thing I’ve had at school but my new classroom does not have the best ventilation, sadly. \\n@BigBruce1972 : @MrsSmanwar Not yet, or my daughter. Wife and son have. I am still careful. \\n@lisabear1974 : @MrsSmanwar My husband \\n@geolechat : @Silver6pence @EdnaKrabapple1 @MrsSmanwar It\\'s ultra important to ventilate. 30+ people in an enclosed space is only going to end up in bad news without it.\\n\\nHope that gets sorted for you \\n@RuthieCox1001 : @MrsSmanwar Me🙋🏼\\u200d♀️ my whole family had it at Christmas so I was exposed to it. I\\'m due my booster and went on a plane last week, thought I\\'m bound to catch it, eating out, international travel etc... nothing. Could have had it with no symptoms but I\\'ll never know. \\n@RuthieCox1001 : @TaTruthful @MrsSmanwar Exactly the same here, I haven\\'t hidden away, not overly cautious, was in a very busy Gatwick airport last week, I thought uh oh my turn soon, yet nothing. \\n@TaTruthful : @RuthieCox1001 @MrsSmanwar I’ve been to Spain, a long haul 9 hour flight, musicals, pubs, the underground. Worked with children. I’ve worn a mask intermittently but haven’t for the last 5/6 months. I test weekly to visit my nan so it’s not like I’ve been asymptomatic either. 🤷🏽\\u200d♀️ I’m sure my time will come! \\n@MrD_ESC : @MrsSmanwar Loads. Mostly unvaccinated or not boostered. \\n\\nAnd then I’ve had it twice 😂 despite having vaccines and boosters. \\n@mla_sudhakar : Covid numbers in Karnataka:\\n▪️New cases in State: 2,329\\n▪️New cases in B\\'lore: 1,606\\n▪️Positivity rate: 7.78%\\n▪️Discharges: 1,782 (B\\'lore-1,071)\\n▪️Deaths: 4\\n▪️Active cases in State: 9,307\\n▪️Active cases in B\\'lore: 6,534\\n▪️Tests: 29,904\\n#COVID19 #COVID \\n@EddieBearCat001 : Me and mummy having a nap together I stay real close to her make sure she’s ok 😻😻😻😻 #CatsOfTwitter #CatsOnTwitter #Covid #CatsLover https://t.co/9u28m2ApiG \\n@merryme300 : @EddieBearCat001 How is she feeling? \\n@EddieBearCat001 : @merryme300 A little better, very breathless when doing anything, fatigue is bad xx \\n@merryme300 : @EddieBearCat001 Try to rest as much as possible x \\n@BiharHealthDept : #BiharFightsCorona \\nUpdate of the day. \\n➡️136 more #COVID19 +ve cases have been reported so far on 18th August  2022. \\n\\n➡️Taking total count of Active cases in Bihar to 760\\nThe break up is as follows.\\n#BiharHealthDept #COVID \\n@IPRD_Bihar https://t.co/tb20hm0bzp \\n@covid_parent : I can\\'t believe I have to say this, but testing fish, crabs, and shrimp for #COVID should have started in March 2020. \\n\\nhttps://t.co/bqtNeg9x5Z \\n@heatherbacon03 : @MessiahWoke @1kimmar @covid_parent Sounds good. One day we will split a bottle of a diet spritzer and take turns hugging my emotional support buddy doll while we discuss why people can’t find world peace when we did. People should be like us. I’ll host, but vaccine card and mask required! 😇 \\n@MessiahWoke : @heatherbacon03 @1kimmar @covid_parent I always double mask my face and single mask my anus.  Even in the shower.  You bring the spritzer, I\\'ll bring the roasted crickets \\n@heatherbacon03 : @MessiahWoke @1kimmar @covid_parent You are just speaking dirty to me… oh stop. 🤗 \\n@SkovsgardD : @covid_parent @CdnFreedomGirl You’re joking right? \\n@CdnFreedomGirl : @SkovsgardD @covid_parent Covid parent would never joke about such serious subjects as testing seafood for covid. He wants to keep us safe from shrimps that kill grandmas \\n@Ash_Of_Gov : @MessiahWoke @Itsaquestionof1 @covid_parent You’re absolutely right they are part of a fringe minority, often misogynistic and racist.  Ban them to the depths of fiery hell. \\n@Itsaquestionof1 : @Ash_Of_Gov @MessiahWoke @covid_parent If we just melt their polar ice caps they won’t be able to drift into Canada. \\n\\nDid you know they don’t even use #ArriveCan !? \\n@anantmasih : @covid_parent Why aren’t we testing the mosquitoes???? \\n@covid_parent : @anantmasih The night is young. \\n@smAshomAsh : @covid_parent Hear that @plecothoughts @beastrons @BeastronicAqua ? \\n@GenerallyBrock : @covid_parent We must not forget about testing this important family of sea creatures who have to face the added threat of contracting Sea Monkeypox. That kind of thing will wipe the endearing smiles off of this happy looking family unit as fast as you can say \"just put on the f****g mask!\" https://t.co/1e4TFw0B84 \\n@MarkTheregan : @covid_parent It is frustrating and yes - tiresome - when you have to spell things out for people... SMH... \\n@MarkTheregan : @Itsaquestionof1 @covid_parent Intolerance is the only tolerance that will not be tolerated, except with vaccine compliance... \\n@MarkTheregan : @GenerallyBrock @covid_parent I would assume Sea monkeypox was included in the WHO\\'s highest alert level, but I would like to see it in writing... \\n@MarkTheregan : @JayneCo26033825 @covid_parent We didn\\'t know then what we know now. The science is constantly evolving! \\n@GenerallyBrock : @MarkTheregan @covid_parent Same.  If it\\'s in writing then it looks like \\'science\\'.  Only WHO science counts. \\n@plecothoughts : @smAshomAsh @covid_parent @beastrons @BeastronicAqua Nope. I got spikes, so it doesn\\'t matter. \\n@beastrons : @smAshomAsh @covid_parent @plecothoughts @BeastronicAqua We have stink waves, nothing gets through. \\n@Itsaquestionof1 : @MessiahWoke @Ash_Of_Gov @covid_parent 🙏 \\n@AVintenAuthor : I need a book to get through #covid - any recommendations that are like this one? I loved it ❤️ 🐝 #BookRecommendations #BeeKeeperOfAleppo https://t.co/1zad3Why9r \\n@ShabnamChaudhri : @AVintenAuthor Not read it, but Where the crawdads sing is good. Be well x \\n@AVintenAuthor : @ShabnamChaudhri I’ve read that, it was lovely. Thank you x \\n@LynnetteJones10 : @AVintenAuthor A thousand splendid suns \\n@AVintenAuthor : @LynnetteJones10 Another excellent suggestion! Read it x \\n@SyossetLibrary : @AVintenAuthor Perhaps French Braid by Anne Tyler, quite well written and enjoyable #askalibrarian \\n@AVintenAuthor : @SyossetLibrary Thank you! X \\n@tarynperky : A week back in school and youngest already got the #VID #Covid #CovidIsNotOver 😭 https://t.co/WcUfSCkqnm \\n@OldKerry : @tarynperky I hope your kid doesn\\'t get too sick and you\\'re able to avoid getting it yourself. \\n@HCTIWS_14 : @tarynperky Stop testing. \\n@LJohn814 : @tarynperky ☹️ oh that’s no good… well I hope he has very minimal symptoms and recovers quickly! And I hope you stay healthy! ☺️ \\n@tarynperky : @LJohn814 Thank u!! I have him quarantining in his room 🤞🤞 \\n@tarynperky : @HCTIWS_14 I don’t have to again for school.. but u have to send the first one \\n@tarynperky : @OldKerry Thanks!!🤞🤞and toes crossed \\n@HCTIWS_14 : @tarynperky You have to send it to the school? Isn\\'t that a violation of your HIPPA rights? \\n@STwohands : @HCTIWS_14 @tarynperky No, self disclosure is not regulated by HIPPA (sic) \\n@HCTIWS_14 : @STwohands @tarynperky Well, I wouldn\\'t self report, let alone self test. \\n@STwohands : @HCTIWS_14 @tarynperky Well the post you\\'re replying to is a self test. \\n@HCTIWS_14 : @STwohands @tarynperky Says who? \\n@STwohands : @HCTIWS_14 @tarynperky Are you really that dumb? https://t.co/Ud01WVlNWd \\n@CarolineLucas : If education were measured by courage &amp; determination shown in the face of #Covid disruption, then students  this year would pass with flying colours. I hope all those in #Brighton &amp; #Hove got the results they were hoping for today @BHASVIC @varndean @BrightonMETcoll  #resultsday \\n@spannergeek : @CarolineLucas @BHASVIC @varndean @BrightonMETcoll Caroline, the #LabourParty are very reticent on saying how they would right the fiscal wrongs done to #ExcludedUK. If you had the opportunity, what would your solution be? \\n@Lammergier10 : @CarolineLucas @BHASVIC @varndean @BrightonMETcoll Please, just become Prime Minister already; may be unconstitutional, but...please, find a way. \\n@neutralinterest : @Lammergier10 @CarolineLucas @BHASVIC @varndean @BrightonMETcoll Why? She is incompetent. Brighton is a weed infested city because of the Greens, the town centre is smelly and filthy and Brighton has the worst recycling in the UK. The cycle lanes have had a huge amount of money spent while we have parks which are not maintained. \\n@neutralinterest : @CarolineLucas @BHASVIC @varndean @BrightonMETcoll The Greens are incompetent. Brighton is a weed infested city because of the Greens, the town centre is smelly and filthy and Brighton has the worst recycling in the UK. The cycle lanes have had a huge amount of money spent while we have parks which are not maintained. \\n@neutralinterest : @spannergeek @CarolineLucas @BHASVIC @varndean @BrightonMETcoll She\\'s waiting for someone to do something so she can jump on their bandwagon was usual. \\n@neutralinterest : @CarolineLucas @BHASVIC @varndean @BrightonMETcoll What did you do to help, nothing as usual! You made sure that the parks and streets which would have given them some time away from poky places they are living in are weed infested causing rats and mosquitos. \\n@spannergeek : @neutralinterest @CarolineLucas @BHASVIC @varndean @BrightonMETcoll She\\'ll have a long fucking wait. Nobody wants to commit to give 3m people the money they should have got. #LabourParty know it will blow a hole in their costed plans, so will continue to exclude #ExcludedUK. \\n@Lammergier10 : @neutralinterest @CarolineLucas @BHASVIC @varndean @BrightonMETcoll Oh well, if everyone isn\\'t onboard then its a non starter... \\n@GhastEald : Just got my #monkeypoxvaccine!\\n💉\\n@ILoveLGBTTravel @nycgo @ILoveGayNYC #Vaccine #Monkeypox #AllInNYC #Vaccines #VaccinesWork #VaccinesSaveLives #NewYorkCity #iloveny #ww #tt #ttot #travel #medicine #MonkeypoxVirus https://t.co/mMTC5vjCUL \\n@Dj_Sunami : @GhastEald @ILoveLGBTTravel @nycgo @ILoveGayNYC How u feeling bruh? Does it make u fatigued like the Covid vax seemed to do for many? - or just sore arm? \\n@GhastEald : @Dj_Sunami @ILoveLGBTTravel @nycgo @ILoveGayNYC I was very slightly dizzy for about 15 minutes. That’s it. Then I walked from 14th street to 57th cuz the weather is nice. No other problems to report. Although I’d kill for some coffee right about now. \\n@Dj_Sunami : @GhastEald @ILoveLGBTTravel @nycgo @ILoveGayNYC Would totally buy u some if I was there!! I need to really get out of this state and come visit u!! Miss u ((hugs)) \\n@GhastEald : @Dj_Sunami @ILoveLGBTTravel @nycgo @ILoveGayNYC And let’s keep it at the coffee. They REALLY hiked up cocktail prices here. Oof. \\n@catladyactivist : Since #Covid, I have SEVERE aversion/sensitivity to sound. I meet criteria for both hyperacusis &amp; misophonia. Today has been a living hell of endless barking, lawn equipment, beep trucks, screaming kids. I feel utterly disoriented.\\n\\nAnyone going through similar w/ #LongCovid ?? \\n@earthgranola : @catladyactivist Yes, I have a friend who is experiencing this. Hers comes with a flash of anger. Odd but there is a correlation. She couldn’t taste or smell with her Covid infection \\n@DFortais : @earthgranola @catladyactivist That describes me plus I cannot take being in the sun or heat anymore.  It has been over 90 for weeks on end and I have to hide indoors or feel like my skin is on fire and feel ill. \\n@SassyIsMe1961 : @catladyactivist Some days yes loud sounds really bother me. It’s the excruciating daily headaches that are wearing me down. But my list of problems is long. Two damaged heart valves, anaphylaxis are the worst of things. #LongCovid \\n@catladyactivist : @earthgranola Sound triggering anger/rage is usually misophonia. \\n@cutejewelryst : @catladyactivist My headache disorders do similar. It\\'s definitely a neurological thing. Noise, light, certain smells give me stabbing pain or pounding headaches. My sister always had misophonia, and we didn\\'t know-I spent my childhood knowing she wanted to strangle me for \"breathing loud\" 🤯 \\n@earthgranola : @DFortais @catladyactivist I’ll have to ask her about that. She has mentioned it’s been hot as of late. Covid is an odd virus. I fully believe these things are related \\n@cutejewelryst : @catladyactivist It was such a relief to learn a few years ago that it was a real disorder that some people have. \\n@catladyactivist : @cutejewelryst As new information emerges about misophonia, it\\'s becoming clear that it affects a lot more people than previously thought. It\\'s very real and not uncommon. I don\\'t think humans (or any creatures) were made to absorb the amount of noise that it in most of our modern environments. \\n@earthgranola : @catladyactivist She’s always had that slightly, but it’s gone through the roof since her infection. Used to be people eating ect, now it’s anything that is loud. Very disorienting for her \\n@catladyactivist : @earthgranola Yes! Disorienting is a good word. It literally shuts me down to all other things except that noise and I am capable of absolutely nothing but self-defense until it stops. \\n@cutejewelryst : @catladyactivist 💯 We had construction on the adjoining townhouse during the height of the pandemic, everything from jackhammers to guys hammering all day long. 3 months of very loud stuff. I was miserable, headaches all the time...the cats were miserable...My husband was the only one unaffected \\n@cutejewelryst : @catladyactivist I don\\'t understand how construction workers live like that. None were even wearing noise cancelling headphones etc. \\n@earthgranola : @catladyactivist That’s her. It’s become so bothersome she’ll stay up late (3 am) getting things done. There is minimal ‘noise violence’ as she calls it. \\n@catladyactivist : @earthgranola Noise violence is SPOT ON. Feels like an assault on the senses. I get up before the sun does to have peace and stabilize before it all begins. \\n@catladyactivist : @SassyIsMe1961 What this virus does to people is horrifying. And we still don\\'t know the full scope of it. Meanwhile, they\\'re just letting it rip. \\n@SassyIsMe1961 : @catladyactivist We long Covids have been over looked from the get go. \\n@LaurieMeberg : @catladyactivist @earthgranola I find also people who talk loudly and almost never stop to take a breath. Their presence becomes triggering too. \\nNeed lots of margin to decompress after the fact. \\n@earthgranola : @catladyactivist Px touch has become very bothersome too. She can’t stand being touched or accidentally bumped. It’s an odd feeling/pain. Have you experienced this? \\n@catladyactivist : @earthgranola I\\'ve always had a serious aversion to being touched. Even my cats rubbing  against my legs makes me crazy. My husband playfully, very gently patted my butt one day and I jumped so violently (reflex to touch) that I blew a disc in my back out. I cannot do surprise touch at ALL. \\n@earthgranola : @catladyactivist Dang, that is quite a reflex. She’s like you being touch adverse, but nothing to the degree she is now.  It’s as if a sensory overload. She even tested to see if she was on the spectrum. Was a solid no. Something changed after Covid. \\n@earthgranola : @LaurieMeberg @catladyactivist Interesting. That would be difficult to avoid. \\n@KaiaMindelen : @catladyactivist Leaf blowers cause my inner abdominal/ torso parts to feel like they are having a massive &amp; continuous earthquake. \\n@catladyactivist : @KaiaMindelen I can deeply relate! \\n@TheExtraFiles : @catladyactivist Tonight I had to take meds, wear ice hat..no light and headphones.\\nThe worst for me is barking and kids bickering..many sounds are horrible with my constant headaches that usually turn into daily migraines mixed with nausea and vertigo. I feel the sound all over me. Hate it! \\n@TheExtraFiles : @catladyactivist When I was younger I use to tell my family their voices would make my back hurt.. I had pneumonia pretty badly when I was a toddler..I think I had issues from then.\\nNow I feel a lot in my chest.\\nThe sound and light issues have been w/ me since March 2020. \\n@TheExtraFiles : @catladyactivist It has gotten better than it was.. but still struggle.\\nHope yours diminish over time. \\n@catladyactivist : @TheExtraFiles Hard relate. I have 7 dogs &amp; an illegal breeder in my immediate area. The barking can be brutal. Hours at a time. Loud for anyone\\'s perception so excruciating for me. I literally feel their barks. It\\'s like being hit repeatedly w/electricity. After a while I get dizzy, nauseated. \\n@TheExtraFiles : @catladyactivist Exactly. People think I\\'m crazy when I say how much it gets to me..but I know others get it.. Im so sorry cuz that\\'s a lot of barking!! I only have 4 pups. \\n@elisaasile6 : @GaiaBessieEfp Poi arrivo io che con la pressione bassa rischio di svenire ogni volta che mi alzo che diamine \\n@GaiaBessieEfp : @elisaasile6 E qui potrei raccontare di quando, svenendo per la pressione bassa, ho sbattuto la testa su una statua. Altro che corpo libero post covid HAHAHS \\n@mjuniorx : e ela fala q tá a duas semanas assim. E pq nao foi no médico? \\n@opaidaguerreira : @mjuniorx pq médico é pra otário, já existe a hidroxicloroquina e a automedicação pra esses casos \\n@mjuniorx : @opaidaguerreira ela é antibozo... hahahahah \\n@opaidaguerreira : @mjuniorx mas ainda assim, uma postura completamente errada... \\n@perrucho_uy : @Soy_TanYo Yo lavo las barandas todos los martes antes de ir a SI SI \\n@Soy_TanYo : @perrucho_uy No entendí \\U0001f972 \\n@perrucho_uy : @Soy_TanYo No sé qué más hacer contigo \\n@__Aleteando__ : @Soy_TanYo Espero que esté bien tu mami. \\n@Soy_TanYo : @__Aleteando__ Está dolorida pero bien, gracias Ale 🥰 \\n@Soy_TanYo : @perrucho_uy Quereme así \\n@perrucho_uy : @Soy_TanYo Es muy difícil \\n@Soy_TanYo : @perrucho_uy Querer es poder \\n@__Aleteando__ : @Soy_TanYo 💜 \\n@JRlPPY : Its niggas with zero shame bro \\n@MichaelDrvke : @JRlPPY Facts! Did you see the video of the dude who went to McDonald\\'s and Burger King with Monkey Pox? Had no shame at all! Shits wild! \\n@JRlPPY : @MichaelDrvke Yes bro that shit piss me off fr, i seen a nigga at the gym wit it tryna wipe the equipment off 🙃🙃🙃 \\n@MichaelDrvke : @JRlPPY Bro what?!? At the gym!?! Nah man they going too far now, that\\'s crazy!! \\n@lingsBOSS_ : @G_corin me with chocolate, coca-cola, hot honey chips and a bunch of other stuff. been over a year and a half now \\n@G_corin : @lingsBOSS_ Sheesh!!! \\n@ArcturusRx : @ArcturusRx Reports Durability Data Against Omicron Variants, Including BA.5, at Six-Month Timepoint Following Booster with ARCT-154 COVID-19 Vaccine\\nhttps://t.co/FiiW6EGvRz \\n\\n#SelfamplifyingmRNA #mRNA  #Omicron #BA5 #ClinicalTrials #Covid19 #Vaccines #Innovation $ARCT \\n@myrabatchelder : Read this thread. The impact of @CDCDirector and team changing medical guidance about #COVID quarantine length and contagiousness based on @Delta Airlines CEO request is horrific. And has likely resulted in the spread of COVID that has led to people dying and others w/ #LongCOVID https://t.co/oG4mvrF7cf \\n@myrabatchelder : Here\\'s the letter Delta CEO sent to CDC Director Dr Walensky asking them to shorten isolation guidance from 10 days to 5 days. \\nhttps://t.co/iZRXAxayxf\\n\\nAnd news article showing that a few days later CDC changed guidance to 5 days. https://t.co/25xlM5yN1X \\n@myrabatchelder : Walensky and CDC aren\\'t acting alone. Many of the decisions about #COVID guidance are likely coming from the White House. \\n@TheLemurGuy : @myrabatchelder Frankly I hope that this is the case... that is who we elected to lead, or am I missing something? \\n@mskathleenquinn : @TheLemurGuy @myrabatchelder The White House, for partisan re-election purposes, should not be asking the CDC to lead the public to believe falsities such as that “breakthrough” infections of vaccinated people or Paxlovid rebound is “rare”, downplay the risks to children from classroom transmission, etc. \\n@mskathleenquinn : @TheLemurGuy @myrabatchelder 2/The White House should not be pressuring the CDC to issue guidelines that return workers back into the workplace while they remain infected with Covid or dropping mask requirements on planes due to lobbying from airline execs and donors. \\n@mskathleenquinn : @TheLemurGuy @myrabatchelder 3/Covid strategy should be arrived at by democratic political discussion. It’s the CDC’s job to provide accurate, scientific information about the hazards of Covid and the measures needed to contain it — and let the public decide how it wants to proceed. That’s not happening. \\n@TheLemurGuy : @mskathleenquinn @myrabatchelder To be fair, the WH didn\\'t lift the airline mask requirement. A federal judge did. One appointed by the party that is now out of power. \\n\\nMy guess is the WH decided fighting it up to the very conservative SCOTUS was not worth it, because they\\'d likely lose when they got there. \\n@TheLemurGuy : @mskathleenquinn @myrabatchelder To your other point~ we already had 2.5 years of democratic discussion about Covid. The result is our current policy, which is \\'back to normal\\' most places, an expression of the will of the majority. May or may not be the smart move, but that is democracy in action. \\n@MarkedByCovid : @myrabatchelder That\\'s why we need a FULL accounting of the decisions made that resulted in the deaths of our loved ones.\\n\\nDemand a comprehensive investigation with us: https://t.co/L2jTMPWGLC \\n@mskathleenquinn : @TheLemurGuy @myrabatchelder You’re right and what I should have said regarding Delta’s pressure to get guidance changed was regarding return-to-work guidance.  I am going to take issue with the notion we’ve had democratic debate regarding Covid. To put it mildly, in 2020 the public was led to believe that&gt; \\n@mskathleenquinn : @TheLemurGuy @myrabatchelder 2&gt;dealing with Covid would mean a short period of altering routines, that Covid was seasonal and soon to disappear or transform into the sniffles, and that vaccines that prevented transmission were within reach by the end of the year. The public was never presented with a &gt; \\n@mskathleenquinn : @TheLemurGuy @myrabatchelder 3/clear distinction between investing in an all-out effort to control community transmission or “learning to live with virus”. The entire debate was pre-dismissed as “too late” and the public was never consulted. The public was encouraged to drop masks and other protections etc&gt; \\n@mskathleenquinn : @TheLemurGuy @myrabatchelder 4/Really, it would be a very long tweet thread to re-hash every critical turning point over the past 2.5 years whereby people who always thought infection prevention was ridiculous and unattainable led the people into accepting infection as “inevitable”. Contrast this with&gt; \\n@mskathleenquinn : @TheLemurGuy @myrabatchelder 5/the very transparent, informed discussion in New Zealand about Covid policy. I don’t think such a discussion is impossible in the US  and could be begun at any time. In fact, as Covid disables more and more people I expect, absent sterilising vaccines, that debate  will arrive. \\n@mskathleenquinn : @TheLemurGuy @myrabatchelder 6/The public was and is asked to simply ”trust” in leaders and scientists promising herd immunity, vaccines that mean no more need for masks, Covid is “over”, Covid is like the flu, soon we’ll have 0 deaths (despite no infection prevention). That’s not democratic decision making. \\n@Shelli_Rosen : @myrabatchelder It’s an ill-conceived strategy to prevent backlash against Dems for being the party of covid restrictions to undercut attempts by R’s to exploit the issue. That they also undermine science, their credibility, truth, people’s lives &amp; public health is mere collateral damage. \\n@myrabatchelder : @Shelli_Rosen It\\'s a ridiculous strategy when most Democrats support COVID prevention efforts! \\n\\nDemocrats seem to forget voters are living through the pandemic and many have lost loved ones, are struggling with #LongCOVID, and are being forced into unsafe workplaces. \\n@TheLemurGuy : @mskathleenquinn @myrabatchelder Isn’t a simpler explanation just that politicians are reacting to what they perceive as the will of their constituents? Majority wanted pre-pandemic normal back and a political party against restoring that is going to be out of work after the next election. \\n@Francophile_66 : @myrabatchelder Get the feeling she isn\\'t offering much resistance though, with all her treacly bs about children making fun of others for wearing a mask. Notice she and Ja seem to be working remotely. She herself lives in a bubble and seems to make no effort to really serve the public. \\n@TheLemurGuy : @mskathleenquinn @myrabatchelder To take it to an even more basic equation: the number of people who still want restrictions is low enough that politicians do not need to care about their take to win. That’s reality. Again, not saying that is right or wrong but it’s where we are regardless of how we got there. \\n@myrabatchelder : @Francophile_66 True. See thread below. https://t.co/EbcsECSKG6 \\n@TheLemurGuy : @mskathleenquinn @myrabatchelder I’ll also say I’d much rather have the current crew in charge than Trump. Biden will at least do some things. GOP would be doing literally nothing right now. I dunno, maybe I’m a make lemonade when you have lemons kind of guy. \\n@mskathleenquinn : @TheLemurGuy @myrabatchelder You’ve made many interesting points to which I will overall say that it is actually very hard to determine the answers, especially once you realize how extremely varied and fragmented America is, and that all of us (including politicians) form our ideas via media. Having worked&gt; \\n@mskathleenquinn : @TheLemurGuy @myrabatchelder 2/years in Big Influence media,  I can tell you as you already know what the publlc believes or thinks is a very dynamic thing, with a lot of fog blowing in both directions. On some specific points you raise, the intense human desire to return to a pre-pandemic life is not the&gt; \\n@mskathleenquinn : @TheLemurGuy @myrabatchelder 3&gt;same as wanting the removal of protections. Hundreds of millions of Americans never wanted anyone in their family to get Covid. You really can’t discount the impact on people being told they didn’t need protections when they actually did. \\n@mskathleenquinn : @TheLemurGuy @myrabatchelder 4&gt;Finally, it is hard to predict what initiatives GOP would back if they saw it to their political advantage. We already saw the willingness to massively fund vax development, and then to make populist promises to fund and distribute Regeneron. I would argue, in fact, that&gt; \\n@mskathleenquinn : @TheLemurGuy @myrabatchelder 5/we watched the Biden Admin shamefully drag its feet on continuing to fund new vax researh and treatments precisely because Operation Warp Speed was a Trump ”success” and because Ron DeSantis pushed loudly for treatments.  There are a million reasons not to want the GOP&gt; \\n@mskathleenquinn : @TheLemurGuy @myrabatchelder 6&gt;in power, but the sensitiviety to populist clamor and a perhaps better understanding of the havoc Covid is creating economically is… interesting. The blue techno-elite who turned tail on Covid, in fear of the GOP and for their own blinkered privilege, has behaved abominably. \\n@myrabatchelder : So the US has really just given up and is saying we have to accept hundreds of thousands more people dying from #COVID, millions more becoming disabled by #LongCOVID, and those of us at higher risk just have to stay at home for forever? That\\'s the effing plan?!?! \\n@eyesontheflies : @myrabatchelder I can\\'t say for sure but I have a feeling people aren\\'t going to stand for another round of this shit. Esp young people. I wouldn\\'t be surprised if  school and work walkouts start up. \\nThere\\'s gotta be something we can do to make it clear we\\'re not okay with being expendable \\n@myrabatchelder : Calling my electeds &amp; demanding they take action. I refuse to accept the rest of my life I will be trapped in my home because our government refuses to do their fucking job and take action. There are TONS of policies that can be put in place to help stop community transmission. \\n@myrabatchelder : I encourage everyone out there to call and email their electeds! Those of us that want to stay alive and not keep getting infected and reinfected by COVID need to speak out! \\n\\nIf I lived in MA, I would go protest outside Walensky and Jha\\'s house. We need more direct action! \\n@myrabatchelder : Find your electeds at https://t.co/P397QLDc4F \\n@ebshred : @myrabatchelder @KristeKline What does one do when millions of Americans remain adverse to vaccinations? They can’t be forced to do the right thing for themselves, family and friends. \\n\\nUnfortunately, it’s the way it is….. \\n@myrabatchelder : @ebshred @KristeKline Vaccines are great but they were never enough on their own!\\n\\nWe need #SwissCheeseModel with multiple levels of prevention - mask mandates and free masks, improved ventilation and filtration, and more. #VaccinesPLUS approach! \\n@Annalisa840917 : @myrabatchelder @ebshred @KristeKline It’s a crime against humanity that the covid relief funds weren’t fully used (!!!) and they didn’t prioritize using those funds to improve indoor air quality. Are electeds choosing “thoughts and prayers” in place of actually DOING anything?! \\n@pjhn22 : @myrabatchelder @Annalisa840917 Not my petition but sharing. Fire cdc director! \\nhttps://t.co/MUQVIfonqC \\n@Annalisa840917 : @pjhn22 @myrabatchelder Fire @CDCDirector and don’t hire another one who takes policy requests from @Delta and other corporate interests. We NEED BETTER. #COVID19 is a mass disabling event. \\n@Annalisa840917 : @myrabatchelder Today I’m emailing the Senators who I feel are most likely to actually care about the ongoing #covid19 pandemic, the intersectional nature of it, &amp; the dark money groups behind the manufactured anti-mask sentiment. So far I have written to @SenSanders, @SenWarren, @SenWhitehouse \\n@HygieneJones : @myrabatchelder Are you kidding me? Do you know how to read. Nobody needs to die..there are so many simple solutions that gov ignored.  Study after study shows that just washing your nose was 100% effective in all the studies. Probably not 100% IRL but damn close. https://t.co/5p5bG1KaGP \\n@HygieneJones : @myrabatchelder Just because public health is too dumb(CDC admitted this yesterday) doesn\\'t mean you have to be also. https://t.co/TNw4KOFj1T\\nInfection starts in the nose... address it in the nose. So listening to idiots in gov &amp; public health.  https://t.co/g841yRsYMJ \\n@JennyOrosel : @ebshred @myrabatchelder @KristeKline The new variants have a huge amount of immune escape. Its no longer the \"pandemic of the unvaccinated\". \\n@linfzh : @myrabatchelder It’s not about giving up. It’s about accepting reality. COVID is not going away no matter what we do. And we aren’t gonna mask forever. Accept it or keep living in denial. It’s your choice \\n@cookie25fammv : @linfzh @myrabatchelder You are wrong.  You\\'re the one who has given up.  If you won\\'t try to do any mitigation, then you fully accept the flight cancellations, supply chain shortages, intermittent school/daycare closures that go with uncontrolled disease spread.  It\\'s your new normal. \\n@cookie25fammv : @HygieneJones @myrabatchelder Unless it enters your body through your eyes. \\n@ebshred : @JennyOrosel @myrabatchelder @KristeKline That is true…. \\n@SanityorVanity : @eyesontheflies @myrabatchelder In theory, it sounds plausible. But in my experience, it takes a whole lot for people to decide they\\'re going to walk out of school or work. It\\'s the kind of thing that\\'s rare here. Americans are likely to put up with a whole lot of unfairness until they finally get fed up enough \\n@aniceknight0031 : @myrabatchelder Not exactly. We\\'ve decided a coherent pandemic response is expensive, bad for the stock market and elites can afford good drugs...so we\\'re going to play \"let\\'s pretend\" and let society\\'s most vulnerable and poorest shoulder the burden of it - just like we do with everything else. \\n@SusieRoxStar : @myrabatchelder This is Australia’s plan, too. The leaders are letting people die. \\n@ebshred : @myrabatchelder @KristeKline I agree. I have to say when the Covid virus first hit, it was the Delta variant. Then it mutated. It mutated bc it had no problem finding hosts as it it infected those who were (&amp; still remain?) unvaxxed. In the Swiss Cheese Model, that seems like a big hole that kept lining up. \\n@eyesontheflies : @SanityorVanity @myrabatchelder I agree. I just feel like things are reaching a boiling point. Maybe it\\'s just me trying to hold onto whatever hope I have left but something feels different this time around. \\n@doescomputing : @cookie25fammv @linfzh @myrabatchelder Needs nuance. All medical interventions should be proven effective. Somehow with C19 this precedence changed and was no longer true for the most prominent “mitigations” like mask mandates.\\n\\nHalf-assed policies that can’t be fully supported are ineffective and fuel mistrust. \\n@cookie25fammv : @doescomputing @linfzh @myrabatchelder A lot can be done without \"mandates\".  Public education regarding everything from handling stds to wearing seat belts have had an impact.  Over the decades, the public opinion regarding impaired driving has changed in this country. \\n@people_NOTcorps : @aniceknight0031 @myrabatchelder And not just the poorest, but the vast majority, the middle class, and all but the top income bracket. The most craven, sociopathic, self centered group, who is also prone to bullying, let\\'s let them survive, and everyone else, we don\\'t care. Cannon fodder equivalent for the rich \\n@doescomputing : @cookie25fammv @linfzh @myrabatchelder Agreed, and this is where public health messaging failed miserably. Doing it right requires nuance and taking the time and effort to build trust. Instead experts opted for the short-sighted lazy all-or-nothing policy to shame and coerce compliance, which fueled mistrust in PH. 😑 \\n@cookie25fammv : @doescomputing @linfzh @myrabatchelder I\\'ve felt for awhile that the CDC does not really understand human behavior. \\n@aniceknight0031 : @people_NOTcorps @myrabatchelder in accuracy I should point out that most of the middle class people I know are getting paxlovid which the world health organization has endorsed. treatment with it runs about $500 - pretty trivial for most people with jobs, utterly unattainable for people in developing countries \\n@PoliticalAvengr : MSNBC - Bayer Mass Murder Exposed (HIV Contaminated Vaccine) https://t.co/rGEMRA1wyM #Vaccines #Unvaxxed #unvaccinated #populationcontrol \\n@GaryGoodson17 : @PoliticalAvengr Worse than rats. Even rats don\\'t kill each other for no reason. \\n@sonjaschiffers : When you’re supposed to travel to #Mestia &amp; finally do the Mestia-Ushguli hike, but instead test positive for #Covid in the morning 😭. It’s my first, wish me luck 🤕.\\n\\nThe photo below, taken in #Ushguli in 2015, shows what I’m missing out on. #beautyofsakartvelo 💚 https://t.co/4rP0ISK6dA \\n@alscriv : @sonjaschiffers Dang so sorry. It\\'s everywhere here now. I\\'ve just come through this BA.5 variant. Ruined alot of my Georgia plans too. Solidarity \\n@sonjaschiffers : @alscriv Thank you for those warm words and hope you recovered fully 🙏 \\n@alscriv : @sonjaschiffers Yes thanks. I\\'m mostly better apart from a nasty lingering cough.\\n\\nIf like me it\\'s your first time with Covid my tip is to rest a lot (more than you think you need) and don\\'t be surprised if you feel a bit \"drunk\" or light headed at around day 4-6. \\n@TogetherWeMask : A commenter on FB can’t believe that someone can get #COVID19 multiple times. This mask-user believes that an immunocompromised person must be taking unnecessary risks to get it 4X. On the other hand, some think once you had #COVID, you won’t get it again. Can we talk about this? https://t.co/qXwzjeJtDJ \\n@MsJulieSLam : @TogetherWeMask @AnciraBecky @KaitlinSundling @DrTamargo @TheWHN @endCOVID19 @MarkedByCovid @PPEtoheros @hood_medicine @PeoplesCDC I know over a dozen who had COVID multiple times. That\\'s why I #MaskUp even though I had it once and I am vaccinated 3X. Immunity from previous infection is unreliable because the virus mutates. You just never know. \\n@scott_squires : @TogetherWeMask @AnciraBecky @MsJulieSLam @KaitlinSundling @DrTamargo @TheWHN @endCOVID19 @MarkedByCovid @PPEtoheros @hood_medicine @PeoplesCDC Another failure of @CDCgov is not making any of that clear. Media coverage has been sparse. \\n\\nhttps://t.co/wCq09mEzus \\n@ProfessorIgnima : @TogetherWeMask @KaraKittenson @AnciraBecky @MsJulieSLam @KaitlinSundling @DrTamargo @TheWHN @endCOVID19 @MarkedByCovid @PPEtoheros @hood_medicine @PeoplesCDC keep fighting the good fight! can’t be easy when this has become consensus 😡 https://t.co/6S2YFsvRf1 \\n@TogetherWeMask : @jessemariexo_ @DrMarjorieRobe1 @AnciraBecky @MsJulieSLam @KaitlinSundling @DrTamargo @TheWHN @endCOVID19 @MarkedByCovid @PPEtoheros @hood_medicine @PeoplesCDC Dr. Fauci didn\\'t say that. He had to take double-courses of Paxlovid. And see what happened Biden\\'s home, Dr. Jill Biden tests positive too. They should take care. \\n@TogetherWeMask : @jessemariexo_ @DrMarjorieRobe1 @AnciraBecky @MsJulieSLam @KaitlinSundling @DrTamargo @TheWHN @endCOVID19 @MarkedByCovid @PPEtoheros @hood_medicine @PeoplesCDC Also, we need to stop reading certain paper, if you know what I mean. \\n@jessemariexo_ : @TogetherWeMask @DrMarjorieRobe1 @AnciraBecky @MsJulieSLam @KaitlinSundling @DrTamargo @TheWHN @endCOVID19 @MarkedByCovid @PPEtoheros @hood_medicine @PeoplesCDC Oh of course, that as well. It was found on a Facebook feed. Social media in itself is also something we need to limit \\n@KaitlinSundling : @TogetherWeMask @AnciraBecky @MsJulieSLam @DrTamargo @TheWHN @endCOVID19 @MarkedByCovid @PPEtoheros @hood_medicine @PeoplesCDC Yes - you can be reinfected, multiple times. Especially with current immune evasive variants - there is no “guaranteed protected” period after infection either. #MaskUp #CovidIsNotOver \\n@DrTamargo : @jessemariexo_ @TogetherWeMask @DrMarjorieRobe1 @AnciraBecky @MsJulieSLam @KaitlinSundling @TheWHN @endCOVID19 @MarkedByCovid @PPEtoheros @hood_medicine @PeoplesCDC NY Post is a far right paper.  So I’d expect such a ridiculous analysis. \\n@rey_purple : @scott_squires @TogetherWeMask @AnciraBecky @MsJulieSLam @KaitlinSundling @DrTamargo @TheWHN @endCOVID19 @MarkedByCovid @PPEtoheros @hood_medicine @PeoplesCDC @CDCgov I don’t want it again and again and again. This is all very frustrating. \\n@scott_squires : @rey_purple @TogetherWeMask @AnciraBecky @MsJulieSLam @KaitlinSundling @DrTamargo @TheWHN @endCOVID19 @MarkedByCovid @PPEtoheros @hood_medicine @PeoplesCDC @CDCgov Unfortunately good masking and avoid risky Covid situations are the only real option. Since it’s only 1 masking due to @cdcgov, it’s going to be difficult. \\n@Comm_in_Care : @ProfessorIgnima @TogetherWeMask @KaraKittenson @AnciraBecky @MsJulieSLam @KaitlinSundling @DrTamargo @TheWHN @endCOVID19 @MarkedByCovid @PPEtoheros @hood_medicine @PeoplesCDC 💯 Excellent evidence-based studies on #masking by @MackayIM.  🔶Pls read @CDCDirector.\\n\\n#COVIDisAirborne #epitwitter #SciComm #teachertwitter #MedTwitter #NurseTwitter #lawtwitter #MedEd #IDTwitter #MaskUp #DEI #gp \\n\\n@JuliaRaifman @pwhickey @RobinCogan @NACCHOalerts @dgurdasani1 https://t.co/WtE208EObI \\n@rey_purple : @scott_squires @TogetherWeMask @AnciraBecky @MsJulieSLam @KaitlinSundling @DrTamargo @TheWHN @endCOVID19 @MarkedByCovid @PPEtoheros @hood_medicine @PeoplesCDC @CDCgov This is very hard to do for families with school aged children. The government has abandoned any Covid mitigation in schools. \\n@MsJulieSLam : @TogetherWeMask @AnciraBecky @KaitlinSundling @DrTamargo @TheWHN @endCOVID19 @MarkedByCovid @PPEtoheros @hood_medicine @PeoplesCDC Our #LongCovid crisis is the culmination of our administration\\'s constant reduction/removal of masks &amp; misleading policies on quarantine and testing. @CDCgov @Potus Not just tired, we are angry about the perpetual health threat you are responsible for. \\nhttps://t.co/kSLLynogkV \\n@MsJulieSLam : @ModernDarkAge @TogetherWeMask @AnciraBecky @KaitlinSundling @DrTamargo @TheWHN @endCOVID19 @MarkedByCovid @PPEtoheros @hood_medicine @PeoplesCDC @CDCgov @POTUS sharing your frustration. want to scream at them. \\n@Metathea11 : @MsJulieSLam @ModernDarkAge @TogetherWeMask @AnciraBecky @KaitlinSundling @DrTamargo @TheWHN @endCOVID19 @MarkedByCovid @PPEtoheros @hood_medicine @PeoplesCDC @CDCgov @POTUS We need more resilience from Americans \\n@ModernDarkAge : @Metathea11 @MsJulieSLam @TogetherWeMask @AnciraBecky @KaitlinSundling @DrTamargo @TheWHN @endCOVID19 @MarkedByCovid @PPEtoheros @hood_medicine @PeoplesCDC @CDCgov @POTUS They never tried. How the fuck are they tired? \\n@Metathea11 : @ModernDarkAge @MsJulieSLam @TogetherWeMask @AnciraBecky @KaitlinSundling @DrTamargo @TheWHN @endCOVID19 @MarkedByCovid @PPEtoheros @hood_medicine @PeoplesCDC @CDCgov @POTUS They never tried because of lack of resilience and solidarity.\\n\\nThey are tried because of lack of resilience and solidarity. \\n@ModernDarkAge : @Metathea11 @MsJulieSLam @TogetherWeMask @AnciraBecky @KaitlinSundling @DrTamargo @TheWHN @endCOVID19 @MarkedByCovid @PPEtoheros @hood_medicine @PeoplesCDC @CDCgov @POTUS Those of us left, who are trying, are spread thin. It was there but they didn\\'t want to see it. \\n@Metathea11 : @ModernDarkAge @MsJulieSLam @TogetherWeMask @AnciraBecky @KaitlinSundling @DrTamargo @TheWHN @endCOVID19 @MarkedByCovid @PPEtoheros @hood_medicine @PeoplesCDC @CDCgov @POTUS America is trapped in Amber.\\n\\nIncapable of seeing or understanding novel phenomena.\\n\\nWe have to pierce the Amber \\n@MsJulieSLam : @Metathea11 @ModernDarkAge @TogetherWeMask @AnciraBecky @KaitlinSundling @DrTamargo @TheWHN @endCOVID19 @MarkedByCovid @PPEtoheros @hood_medicine @PeoplesCDC @CDCgov @POTUS Divisiveness and individualism are not the kind of American value we want for our children! We need to solve a problem by working together. It\\'s toxic to see Public Health (@CDCgov) promoting individualism, marginalizing the vulnerable community, ignoring mass sickness &amp; deaths. \\n@Metathea11 : @MsJulieSLam @ModernDarkAge @TogetherWeMask @AnciraBecky @KaitlinSundling @DrTamargo @TheWHN @endCOVID19 @MarkedByCovid @PPEtoheros @hood_medicine @PeoplesCDC @CDCgov @POTUS It’s not just the CDC. It’s the entire right wing, and citizens of the Republican Party. Half of the country.\\n\\nMore or less \\n@MsJulieSLam : @Comm_in_Care @ProfessorIgnima @TogetherWeMask @KaraKittenson @AnciraBecky @KaitlinSundling @DrTamargo @TheWHN @endCOVID19 @MarkedByCovid @PPEtoheros @hood_medicine @PeoplesCDC @MackayIM @CDCDirector @JuliaRaifman @pwhickey @RobinCogan @NACCHOalerts @dgurdasani1 Excellent! \\n@MsJulieSLam : @KaitlinSundling @TogetherWeMask @AnciraBecky @DrTamargo @TheWHN @endCOVID19 @MarkedByCovid @PPEtoheros @hood_medicine @PeoplesCDC My nephrologist said you can get any Coronavirus again. One Long Hauler said the new strain is milder than what she got in 2020. Another one just got it and got very sick. Because Covid is so unpredictable, I will #MaskUp to protect my organs. Once is more than enough! \\n@ConnHealthITeam : 7-day #COVID positivity rate down to 9.88%. Details:   https://t.co/wGdtBfaave via @ConnHealthITeam \\n@titostiles : I was trying to warn people about this in 2020. #covid https://t.co/GZHEAHtKsk \\n@seidlersburner : @titostiles What\\'re we gonna do about it? Pharmaceuticals and shrinks like we\\'ve always done? I don\\'t think I\\'ve had covid but I\\'m the only one I know. \\n@seidlersburner : @titostiles Actually that\\'s a lie, I just forgot about it. Not a good sign! \\n@titostiles : @seidlersburner I think the NIH is putting a lot of resources into what, if anything, can be done. I used to work in the ME field. I can tell you this isnt exactly new, just more prevalent since covid so I think the dramatic increase in funding and attention will end up helping a lot of people. \\n@LeftwardSwing : Ok, I\\'m officially pissed off at the Biden administration. This is going to kill people.\\nIt\\'s recklessly disgusting. This can\\'t be allowed to happen. \\n#Covid https://t.co/TYa8rkzFpb \\n@EndoceneHunter : @LeftwardSwing As Biden funds healthcare, wages, pensions and weapons supplies in Ukraine.\\n\\nFor Nazis. \\n\\nWhile sacrificing Americans of all ages to death and lifetime disability. \\n\\nCan’t make it up. \\n@LeftwardSwing : @EndoceneHunter Both sides are screwing us royally \\n@kiml8 : @lazybeachgrl Oh no. I’m so sorry! She should know better! \\n@lazybeachgrl : @kiml8 you would think so...my mom is 80 &amp; he\\'s 91. They are vaxx\\'d and boosted, but still... \\n@kiml8 : @lazybeachgrl I get it. They should of been more careful. Idk why they weren’t. \\n@kesselman_sarah : @rareisnotsecret @angryhacademic These are low level silencing tactics.\\nAnyone who can\\'t see grey areas isn\\'t worth another thought. One bad conversation taught me, well. I can\\'t forget how condescending people were to the hesitant. It\\'s the same with the injured. Fk em. \\n@rareisnotsecret : @kesselman_sarah @angryhacademic Although You shouldn\\'t do this cause it ads more fuel to the fire anyone who comes at me with that condescending shit and then blocks me I automatically take screenshots and repost everything you said. You don\\'t throw stones and then hide your hands. \\n@kesselman_sarah : @rareisnotsecret @angryhacademic I think that\\'s the guy who called me a wh*** out of the side of his mouth. \\n\\nA quick view of his timeline - 16 hours of hate, 8 hours quiet, back to the same in the morning.\\n\\nYou are so obviously too intelligent for that. \\n@rareisnotsecret : @kesselman_sarah @angryhacademic I saw that convo and I actually felt quite bad he thought that of you. Like how would he even know you\\'re a woman if you have a Cat as a profile picture (But then again people think I\\'m a woman cause I\\'m using a female video game character) \\n@kesselman_sarah : @rareisnotsecret @angryhacademic I didn\\'t care. In the Twitterverse, that\\'s mild.\\nHe\\'s not here to learn anything or even engage with anyone, I don\\'t think. \\n\\nAFAIK Sarah is a common woman\\'s name, his guess was accurate. \\n@rareisnotsecret : @kesselman_sarah @angryhacademic This type of stuff is what makes me believe in the dead internet theory that in some way we have more bots than humans running around on these sites \\n@deMOSThenes0000 : @angryhacademic So you admit there\\'s little research, meaning your own claims are equally as unfounded as saying they\\'re founded. \\n\\nGlad to see you\\'re at least closer to reality. \\n@angryhacademic : @deMOSThenes0000 there is little research, and much of the research that is being done is yet to be published. but i have seen the data, know the methods, and collaborate with the scientists and clinicians, so know far more than the average internet joe \\n@deMOSThenes0000 : @angryhacademic We\\'ve argued many times before about your language. You should be saying \"because there isn\\'t research, I can\\'t say what\\'s probable or that reality should cater to this, but I still feel we need to explore this\". \\n\\nAlso, you have not seen unpublished data you don\\'t work on. \\n@angryhacademic : @deMOSThenes0000 ermmm...yes i have. it\\'s called collaborating. #TeamClots discuss what we\\'ve all been up to frequently and share things between ourselves. i\\'ve shared with them unpublished data too\\n\\nyou probably should stop arguing with a scientist about science \\n@deMOSThenes0000 : @angryhacademic I\\'m a scientist. You should stop thinking you\\'re the God of how science works cuz every time I see your posts you have zero ability to take fault for poor language and it happens over and over \\n@angryhacademic : @deMOSThenes0000 \"you should stop thinking you\\'re the God of how science works\" says person on internet who keeps telling me why i\\'m wrong with seemingly zero expertise or lived experience WRT what i\\'m tweeting about...🤔 \\n@deMOSThenes0000 : @angryhacademic Lol \"with seemingly zero experience\" - an assumption you can never prove. I don\\'t tell you you\\'re not who you say to disprove you.\\n\\nI just disprove you. \\n@angryhacademic : @deMOSThenes0000 👍🏻👍🏻👍🏻 https://t.co/kDOboMADu1 \\n@realtimaier : @angryhacademic Possibly.  There is a small percentage within the pre-announced range +/- that will be negatively affected by the vaccines. \\nOutside of this range, studies have shown that vaccines have not had any qualitative effect on attributing to symptoms. \\n@GENERALBUNGTM : @angryhacademic The thing is, you don’t know if you got ill out of nowhere like people have from the beginning of time, or if the vaccine actually did it. \\n@JJYS0913 : @angryhacademic They are thousands of people who now have severe side effects like myocarditis when no heart problems existed before the vaccine. \\n@CVinjured : @angryhacademic Thank you . \\n@keepindonfree : @angryhacademic @ogletwirl As someone with pre-existing immune system defect, I am grateful that you speak up about this. I shouldn\\'t be dependent on leaky vaccines that harm people with normal immune system in order to live. \\n@andreabarrett__ : @keepindonfree @angryhacademic @ogletwirl This is why Monoclonal Antibodies (MAbs) which double as preventatives and treatments are the way to go. Works independently of immune system status &amp; we don\\'t need others to take too, for us to have solid protection. \\n@keepindonfree : @andreabarrett__ @angryhacademic @ogletwirl Thank you for the information! \\n@shivvy888 : @angryhacademic Or maybe you should talk to the millions of people that have been bereaved by COVID. Or are living with the absolutely devastating affects of Long COVID - caused by the virus pre jab. Vile narrative you’re spreading. Don’t want the jab - don’t get it, pretty simple. \\n@Peter_Julian : @angryhacademic @doctorasadkhan Harriet. Do you have any credible research on comparative data. Eg- if you took 100k ppl who got covid, what were outcomes for those who were unvaxxed? Of those vaxxed what was the outcome? And of those vaxxed how many had attributable vaxx damage ? \\n@angryhacademic : @andreabarrett__ @keepindonfree @ogletwirl Some vax injured folk i know have reacted very badly to mAbs too \\n@andreabarrett__ : @angryhacademic @keepindonfree @ogletwirl Did these people have MAbs before or after vax? Curious, maybe injury increase susceptibility to further side effects. I have a history of anaphylaxis w/ any MAbs so always get them in hospital setting. Still find MAbs worth it but understand everything weighing up risks! \\n@angryhacademic : @Peter_Julian @doctorasadkhan Im not going to go digging but its reliably found that all vax side effects are riskier with covid. All covid outcomes are worse unvaxd. Recent analysis showed about 1 % of people went to hospital post vax. Non hospital side effect counts imo = unreliable atm \\n@angryhacademic : @andreabarrett__ @keepindonfree @ogletwirl They were already injured by the vax, and it made all their chronic post vax symptoms worse iirc. \\n\\nAgree its personal risk but in this case there was no indication theyd react so bad and no listed side effect like that. So hard to make risk judgements 😪 \\n@angryhacademic : @realtimaier Possibly what? \\nListening to patients? \\nBiomedical research? \\nImproved vaccine safety?\\nTreating patients? \\n\\nI dont see any of these that justify \"possibly\" as an answer. \\n@angryhacademic : @GENERALBUNGTM I know i got ill from the vaccine. We dont get hypercoagulable (resulting in pulmonary emboli), mcas, pots, neuropathy, ME in 12 hrs coincidentally\\n\\nTherell be strong data published about this in the next year or 2 so withhold your judgement until youve seen the evidence i have \\n@andreabarrett__ : @angryhacademic @keepindonfree @ogletwirl Sorry to hear. I agree that more effective documenting of patient experiences is urgently needed- we can only make decisions accurately to extent data is available. My heart goes out to all those experiencing iatrogenic injuries &amp; medical gaslighting. \\n@Peter_Julian : @angryhacademic @doctorasadkhan I suspect that like a lot of issues to do with covid and long covid, we will learn more over the coming decades. In the meantime, it would seem sensible to avoid repeated infections via vaxx and simpler measures. Cheers 👍 \\n@realtimaier : @angryhacademic Harriet, here are a few studies you asked for:\\n\\n1. Thai Vaccine Adverse Effects\\n\\n“Cardiovascular Effects of the BNT162b2 mRNA COVID-19 Vaccine in Adolescents” \\n\\nhttps://t.co/s3qwWfULZb\\n\\n1/🧵 \\n@angryhacademic : @realtimaier I research vaccine injuries, i know what research is out there and most the published stuff misses the long covid type reactions some of us are experiencing. #TeamClots and a few other folk are doing great work but its not enough \\n@angryhacademic : @realtimaier If you are not actively involved in the vax long covid research then im sorry to say the chances are that youre highly uninformed on the topic \\n@realtimaier : @angryhacademic 2. “Incidence, risk factors, natural history, and hypothesised mechanisms of myocarditis and pericarditis following covid-19 vaccination: living evidence syntheses and review”\\n\\n👉 There are 88 references used in this review, MAJORITY with study links👈\\n\\nhttps://t.co/xPtzwlFzWA\\n2/ \\n@realtimaier : @angryhacademic 3.  Vaccine adverse effects, a German transparent report from Paul-Ehrlich-Institut.\\n\\n“Safe\\xadty of COVID-19 Vac\\xadcines”\\n\\nhttps://t.co/6S7OTG6vRR\\n3/ \\n@realtimaier : @angryhacademic 4. From Paul-Ehrlich-Institut, “COVID-19 Vac\\xadcine Janssen – Pos\\xadsi\\xadble Re\\xadla\\xadtion to very rare Cas\\xades of un\\xadusu\\xadal Blood Clots in Com\\xadbi\\xadna\\xadtion with a re\\xadduced Platelet Count”\\n\\nhttps://t.co/vSY67ffr0o\\n4/ \\n@realtimaier : @angryhacademic 5. From European Medicines Agency organised an extraordinary meeting in the context of the evaluation of a safety of COVID-19 Vaccine relating to cases of thromboembolic events.\\n5/\\n https://t.co/bgCVwMUIW2 \\n@realtimaier : @angryhacademic Paul-Ehrlich-Institut,\\nGermany, is a reporting Portal for Suspected Cases of Adverse Effects or vaccination complications, in a temporal relationship with the COVID-19 vaccination.\\n\\nConfidence in the vaccination is essential to get benefits of the vaccine\\n6/ \\n@angryhacademic : @realtimaier you\\'re welcome to stop mansplaining whenever you like... if you think im not aware of all this, you\\'re mistaken. \\n\\nhttps://t.co/biRvhQa7wT \\n@realtimaier : @angryhacademic Further methodologically robust investigations / studies are necessary, the only way to gain reliable insights into possible causes of Long COVID &amp; Post-COVID-19 reactions related to as POST-VAC SYNDROME after COVID-19 vaccination, WHICH HAS VERY SIMILAR SYMPTOMS to LONG COVID\\n7/ \\n@realtimaier : @angryhacademic I am sorry that I am upsetting you. I am only trying to support you with your condition.\\n\\nAgain,\\n\\n👉 Post-Vac Syndrome has very similar symptoms to Long COVID. 👈 \\n@GENERALBUNGTM : @angryhacademic There is already data. Even in Canada there have been about 10 thousand reports of serious adverse reactions but that’s out of 88 million doses. That’s 0.001%. \\n@angryhacademic : @GENERALBUNGTM i research vaccine reactions, do you? \\n\\nhave you seen the unpublished data? are you involved in the biomedical research of long COVID type vaccine reactions? \\n\\ndoes the fact that such reactions might be rare mean they shouldnt be taken seriously? \\n@MinMinHugs : @realtimaier @angryhacademic Unless it happens to you or a loved one, you have NO IDEA. \\n@MinMinHugs : @Peter_Julian @angryhacademic @doctorasadkhan As far as outcomes, in my county of 1 million people, of those who were vaxxed vs unvaxxed, the death rate is almost at 50/50. Vaxxed only winning out by 9 people. It seems it\\'s a flip of the coin either way. \\n@Dem4FreeSpeech : @angryhacademic YES!!!!!!!! \\n@justa_prick : @realtimaier @angryhacademic Has the research you are pointing to tried to determine who is vulnerable to problems following vaccines? Screening the vulnerable would do a lot for confidence in public health. \\n@kesselman_sarah : @realtimaier @angryhacademic After the fact research, thanks anyway. \\n@srfdva : @angryhacademic @teo27carpediem My spidey sense says you really have not been researching covid vaccine effectiveness at all, and publishing this seems contrary to ethics for any fellow @lunduniversity @NHSuk #ConspiracyTheories #LundUniveristy #NHS #vaccine \\n@angryhacademic : @srfdva @teo27carpediem @lunduniversity @NHSuk your spidey senses are wrong. i help run a site of the UKHSA SIREN study. you can see my name in the supplementary material in these papers under the SIREN study group:\\nhttps://t.co/Ip0Mfwhf38\\n\\nhttps://t.co/J9y22GfnWp\\n\\nMy Lund uni affiliation is unrelated to my COVID work \\n@Kogz : @angryhacademic Agreed! :) https://t.co/D4BmGySo1R \\n@GENERALBUNGTM : @angryhacademic They should when they happen, yes. \\n@Irene73723559 : @shivvy888 @angryhacademic Not when it\\'s mandatory and they told you it\\'s SAFE. I\\'ve been vaccinated with 2 Pfizer last year, I did it because all the doctors told me nothing could happen to me except flue symptom. I had the worst year, I lost my health, I spent so much money, no answers and no help. \\n@Irene73723559 : @shivvy888 @angryhacademic Long COVID effect are they same side effects of vaccines injuries. I\\'ve been doing research to try to cure myself and recent publications shows it is the same mechanism, so by cure one we know how to cure the other one. All my friends and family got COVID, me included, and \\n@Irene73723559 : @shivvy888 @angryhacademic And all had nothing more than a flue. But between all my friends and family me and another friend got Pfizer reactions we are still living with. No help from the government, no help from the doctors. Perhaps it gov should \\'ve adjust the vaccine by age and gender. Young women are \\n@Irene73723559 : @shivvy888 @angryhacademic The one suffering the most adverse reactions from vaccines. And young women were the one less likely to die from COVID-19. \\n@Peter_Julian : @MinMinHugs @angryhacademic @doctorasadkhan Hi Mindy. Do you have any reliable data to support your statement? Also the issue now is often about being debilitated by long covid. In uk, our statistics service estimates 2mill ppl are debilitated by this. Some are losing jobs and homes. You don’t want this 👍 \\n@sef_lopod : @angryhacademic I\\'m very pro-vax but anti-vax for *me* - as were my doctors from early childhood when it was already obvious I\\'m extremely atopic. Hence also uninsurable. Risks include:\\n* immediate allergic reaction to a vaccine ingredient.\\n* autoimmunity from accidentally pattern-matching self. \\n@sef_lopod : @angryhacademic I\\'m remaining in hiding because I *do* know the risks. NB an assassin may still get me if I need treatment or an engineer visit. Right now there\\'s not much worthwhile treatment available for anyone. But if they finally deal with the CoViD injured the vax-injured should jump in. \\n@mand1jay : @Peter_Julian @angryhacademic @doctorasadkhan It\\'s the jabbed who are getting repeated infections \\n@Peter_Julian : @mand1jay @angryhacademic @doctorasadkhan Mand. A few points. 1. You share no data to support your view 2. Being jabbed doesn’t stop you getting infected, it reduces chance of you dying ( surprised u don’t know this). 3 Most uk adults vaxxed means at best your point is just maths , see https://t.co/qszN38dHb4 \\n@Dem4FreeSpeech : @realtimaier @angryhacademic You are so lucky that you still believe this. When it happens to someone you love you will understand. \\n@Dem4FreeSpeech : @justa_prick @realtimaier @angryhacademic Exactly. We have a family history of reactions to vaccines going back to 1940. But we don’t know why. They can’t study what they don’t want to understand. I don’t get it. Some people can’t do penicillin. So they found alternatives. We can’t do some vax. Study is. \\n@Dem4FreeSpeech : @teo27carpediem @angryhacademic It’s cruel. No one calls MADD moms anti-alchohol. They just want no one else to suffer. (Mothers against drunk drivers) \\n@Dem4FreeSpeech : @sef_lopod @angryhacademic Yes people like us exist. I don’t get why we are such a threat. It’s just weird. Some people can’t tolerate penicillin. They get sympathy not condescending skepticism . \\n@Dem4FreeSpeech : @JJYS0913 @angryhacademic I tried to read what you said and Twitter blocked it.\\n\\nHey CDC what if I want to stay informed about what my fellow citizens and consumers think? How dare you censor? You are missing important signals. This is evil and patronizing and Orwellian. \\n@Dem4FreeSpeech : @shivvy888 @angryhacademic Yeah or me whose mom survived covid in May 2020 but died from shot in Jan 2021. My friend who dropped dead a few weeks after 2nd shot at age 61 . No heart issues found til after 1st shot. Better research would have let her know not to get the 2nd shot injury denial killed her. \\n@Dem4FreeSpeech : @shivvy888 @angryhacademic So both covid and shots without enough research are harmful and have caused pain. That Covid can kill does or make it okay to be careless about vaccine safety or ignore issues and not try to reduce vax injury. We need to reduce Covid death and vax injury. \\n@Dem4FreeSpeech : @Irene73723559 @shivvy888 @angryhacademic So sorry. Some people can’t handle the gray situation that vaccines can kill and covid can kill. Both are true. Why is this so hard to grasp? Why can’t we help vax injury victims and study them and reduce it. \\n@Dem4FreeSpeech : @Irene73723559 @shivvy888 @angryhacademic If people things vax reactions are so rare than why don’t they accept liabilty for them? Put their $ where there Twitter sarcasm is. Even vax makers won’t take liabilty \\n@realtimaier : @Dem4FreeSpeech @justa_prick @angryhacademic Yes, this is known as “Post-Vac(cination) Syndrome” \\nFurther robust investigations / studies are necessary into possible causes of #LongCovid and Post-COVID-19 reactions related to as\\n\\n👉 POST-VAC SYNDROME after COVID-19 vaccination, WHICH HAS VERY SIMILAR SYMPTOMS to LONG COVID \\n@shivvy888 : @Irene73723559 @angryhacademic Yeah okay Irene. https://t.co/9rCZXK7eG3 \\n@tommy_edwin1212 : Progress, I hope anyway.  #Covid https://t.co/MHlVxz8Eqn \\n@MarieMyungOkLee : Is this the diff between NYC hustle culture and LA laid backness? Every cup of espresso I\\'ve had has been incredibly bland! I thought the 1st one was an anomaly (I tested for #COvid it\\'s not that!) \\n@kirstin_chen : @MarieMyungOkLee and all this time i thought it was my daily meditation practice! \\n@JoshForNY : @MarieMyungOkLee Maybe you’re just going to the wrong cafe. Visit Cafe de Leche in Eagle Rock. \\n@Noodoggy : @JoshForNY @MarieMyungOkLee and for the best Thai food hit Thai Eagle Rox \\n@JoshForNY : @Noodoggy @MarieMyungOkLee And if you want the best pastrami, then visit the Oinkster on Colorado Blvd. #EagleRocks \\n@MarieMyungOkLee : @kirstin_chen lol at least we are consistent!! \\n@tntradiolive : My how things do change - often as the wind changes direction. Cue Mr Fauci ... \\n\\n#Fauci #vaccines \\nhttps://t.co/K9RHyG4kZC \\n@GaryGoodson17 : @tntradiolive Fauci- a weathervane who creates his own wind. \\n@Kaceyla73 : Took a #Covid test and still negative. Just touch of sniffles.  \\nHaving chicken noodle soup for dinner. \\n@anitaelizar : @Kaceyla73 Feel better soon Kacey! \\n@Kaceyla73 : @anitaelizar Very minor so hope it’s just allergies! \\n@SpectatorOz : MAGAZINE LEAD:\\n\\nRowan Dean writes that there is a far bigger story than ScoMo\\'s portfolios, and that is the grotesque abuse and misuse of democratic power during #Covid, by all levels of government, who treated ordinary citizens with contempt and disdain.\\n\\nhttps://t.co/wRF1RdGCfw \\n@wuckster : @SpectatorOz Did Scomo pay himself 5 salaries or more ... who would know ... how much did the Hillsongers reap \\n@Bedorah5 : @wuckster @SpectatorOz Oh, howzabout the Qld Labor Premier who nominated herself as the Olympics minister putting her mates on the committee?  How much will she get for that? \\n@wuckster : @Bedorah5 @SpectatorOz Albo wants to govern like Anna - that’s a problem \\n@wuckster : @Bedorah5 @SpectatorOz The gov needs a huge enema \\n@Bedorah5 : @wuckster @SpectatorOz That’s a huge problem! \\n@ItIsAboutPeople : Where are you all at? You have some apologizing to do.\\n\\nHonestly, I hope you reap what you sowed. You deserve all of it.\\n\\n#CDC #Covid #Vaccine https://t.co/OJnj3My0Ch \\n@Kogz : @ItIsAboutPeople The truth will prevail! https://t.co/ebALtjuv8v \\n@ItIsAboutPeople : @Kogz Interesting \\n@Kogz : @ItIsAboutPeople I thought so. \\n@ItIsAboutPeople : @Kogz It\\'s all coming out. \\n@jsark983 : Did anyone who went to @defcon NOT get #covid ? I got luck it wasn’t bad! #DEFCON30 #pentesting #hacking #infosec #CyberSecurity \\n@ch0wn35 : @jsark983 @DefconParrot @defcon Not I, 4th negative test 4 days later. Masked and distanced as I could. \\n@ch0wn35 : @jsark983 @DefconParrot @defcon *7 days later \\n@joeklein : @jsark983 @defcon No COVID here. I wore a training/running mask, from the time I left home, till the time I entered my room, around Vegas, till I returned home. \\n@jsark983 : @joeklein @defcon Was gonna get a 4th shot beforehand, now I may not need one haha \\n@joeklein : @jsark983 @defcon I took the epidemiology strike team (Surveillance &amp; Investigation) training from Medical Reserve Corps in 2009, based on a Renderman presentation at DefCon 17. https://t.co/nrzYH2uvH9 Decided I did not want to be a zombie, due to politics, be it COVID or anything. \\n@Razzies : @jsark983 @DefconParrot @defcon I didn\\'t even get Con Crud - which makes this the second time in all my con years that I haven\\'t gotten sick after #Defcon \\n@jsark983 : @Razzies @DefconParrot @defcon Never heard of con crud. I like it haha \\n@42onBMW : @ch0wn35 @jsark983 @DefconParrot @defcon So distanced… we didn’t get to even meet #stillsad \\U0001f979 \\n@ch0wn35 : @42onBMW @jsark983 @DefconParrot @defcon One day soon! If I\\'m in CA we will have a meet up. \\n@JP__75 : We built a #covid quarantine facility in Mickleham for $580 million.. \\n\\nIt’s barley been used and costing taxpayers $78 million a year to keep open.\\n\\nMeanwhile, Victorians are having medical emergencies &amp; been carted into tents in hospital car parks.\\n\\n#sackdanandrews https://t.co/FpMlcfYEMb \\n@iBlatant : @Takin_Thepis_s @JP__75 @PoliBard Define socialism \\n@stringbeen69 : @JP__75 @MarilynMerrifi5 You do know we built it as an insurance policy against future pandemics?We used to have a facility here until Kennett sold it off. It’s prudent, it may not be needed now, but if we’d had it 2 yrs ago, it would’ve been a godsend. What was Guy’s idea - let it rip and kill 1,000s. \\n@newb_chris : @JP__75 So wear a mask mate! Stop clogging up the hospitals with Covid cases, that is why the tents are there. Stop making stories as well! Remember all the liberals will do is make the rich richer and make the poor poorer \\n@newb_chris : @JP__75 @MarilynMerrifi5 Barely been used is the same thing mate! Your telling lies again! Your mate, the liar from the shire, built it via one of his several portfolios \\n@JP__75 : @newb_chris What am I making up champ? \\n@bucky1610 : @newb_chris @JP__75 @MarilynMerrifi5 Lolz go back under Dans desk will ya.. \\n@FedUpMermaid : @JP__75 Also had a vax factory built to churn out more deadly mRNA vaxxes. There\\'s that rail loop which will cost somewhere around 200 billion. Essentials like hospitals are deliberately left to fall apart. Dan\\'s an evil cnt. \\n@JP__75 : @FedUpMermaid You forgot the $1 billion to not build a road. \\n@FedUpMermaid : @JP__75 Can\\'t believe there ppl who defend that demon. \\n@MarilynMerrifi5 : @stringbeen69 @JP__75 Absolutely. Get sick of LNP types can\\'t see the big picture \\n@JP__75 : @MarilynMerrifi5 @stringbeen69 Who’s an LNP type? I get sick of Dan apologists that just assume anyone that criticises your overlord must be a Guy or ScoMo fanboy. \\n@chdyctt : @JP__75 And this.......follow the money... https://t.co/qbZsjFv9Fp \\n@MarilynMerrifi5 : @JP__75 @stringbeen69 You\\'ve been super negative for the past 2 years and I get sick of #sackdanandrews types never being able to see a single positive thing he\\'s done.  It\\'s so easy to just knock and be a hater and you\\'re tweets tell me you\\'re very much one of those \\n@MarilynMerrifi5 : @bucky1610 @newb_chris @JP__75 And I\\'ll polish his shoes while I\\'m there \\n@MarilynMerrifi5 : @JP__75 Well does this mean the Feds didn\\'t do due diligence and built it purely cos Dan asked for. But that fits Scumbo didn\\'t have an original positive idea the whole time and stole from the premiers- especially Dan \\n@DawnieBrowning : @chdyctt @JP__75 Noooooo!? \\n@chdyctt : @DawnieBrowning @JP__75 So much stench around Dan. \\n@DawnieBrowning : @chdyctt @JP__75 So corrupt that people don\\'t know where to start. \\n@Zahrasharaf9 : @MarilynMerrifi5 @JP__75 @stringbeen69 Your dear leader is so lucky to have a follower like you. \\n Have you looked at characteristic of cults?\\nIt may help you. \\n@MarilynMerrifi5 : @Zahrasharaf9 @JP__75 @stringbeen69 🤣🤣🤣🤣😂. Once you\\'ve left yours come and talk to me. Poor blossom \\n@Zahrasharaf9 : @MarilynMerrifi5 @JP__75 @stringbeen69 Interestingly what you are doing is projecting which also is a characteristic of being in a cult. \\n@stringbeen69 : @JP__75 @MarilynMerrifi5 So, you want to sack Andrews, but you’re not a Guy fan, so who are you voting for?? Pretty much got to be one or the other unless you know of a third party popping up as a contender in the next 100 days! \\n@MarilynMerrifi5 : @Zahrasharaf9 @JP__75 @stringbeen69 Ooh who has studied psychology 101. 🤣🤣🤣 \\n@MarilynMerrifi5 : @stringbeen69 @JP__75 Absolutely and if you re a Guy fan you\\'re actually a \\n#MurdochGutterMedia fan cos we know little Matty would know an original idea if he fell over it \\n@JP__75 : @stringbeen69 @MarilynMerrifi5 I’m not a Guy fan.. I’ll be voting to vote Dan out.. not to vote Guy in. Understand? Dan has destroyed the state and can’t be rewarded with another 4 years.. just like ScoMo didn’t deserve another 4 years.\\n\\nIt’s not that hard to understand. \\n@Lisbeth2026 : @JP__75 @LisanatLisa Methinks those concentration camps, err …”quarantine centres” are  yet to be put to the use for which they are intended. \\n@Lisbeth2026 : @iBlatant @Takin_Thepis_s @JP__75 @PoliBard State control \\n@stringbeen69 : @JP__75 @MarilynMerrifi5 So, no preferences to anyone…just an anarchy vote? Interesting choice. It is hard to understand, to vote someone out, you DO need to vote someone in, that’s sort of how it works. \\n@JP__75 : @stringbeen69 @MarilynMerrifi5 You don’t get it, do you? Anyone but Dan. If that means I have to vote for Guy, then so be it. It doesn’t mean I like Guy.. it just means I hate Dan.\\n\\nOne thing is for sure, ALP &amp; Greens will be last. \\n@MarilynMerrifi5 : @JP__75 @stringbeen69 I\\'m interested. Apart from debt- which has already been justified by experts - how has he ruined the state? Don\\'t quote lying Murdoch bs. And please don\\'t mention playgrounds. I could list all of the things that have made us no.1 state in country but I think you enjoy your hate \\n@MarilynMerrifi5 : @stringbeen69 @JP__75 Yes there\\'s a blanket don\\'t like Dan but don\\'t support Guy so are we going to have UAP with other minority preferences? But noone is saying this \\n@MarilynMerrifi5 : @JP__75 @stringbeen69 Sadly I think you\\'re definitely stuck in a right wing conservative groove and can\\'t see progress \\n@JP__75 : @MarilynMerrifi5 @stringbeen69 What sort of progress are you talking about?\\n\\nGenerational debt?\\nMental health crisis?\\nEmergency response times crisis?\\nHealthcare system crisis?\\n\\nOr is it the progress in polluting our children’s brains with woke ideologies? \\n@iBlatant : @Lisbeth2026 @Takin_Thepis_s @JP__75 @PoliBard Absolute monarchies are socialist according to you then I guess \\n@stringbeen69 : @JP__75 @MarilynMerrifi5 The woke card, can’t believe it took so many tweets! You guys make me laugh!!! \\n@JP__75 : @stringbeen69 @MarilynMerrifi5 There were 4 other points that you totally ignored because you can’t defend them..\\n\\nwOke maKe mE LaUgH \\n@MarilynMerrifi5 : @JP__75 @stringbeen69 It would be great if you guys actually had facts &amp; not glib cliches that you just trot out. If you care to look at each of those issues you\\'ll see that the govt is putting or has put things in place to deal with them. But no no you just go on and no with \\n#MurdochGutterMedia bs \\n@stringbeen69 : @JP__75 @MarilynMerrifi5 Just go back to sleep little blossom, you’re safer there away from the realities of the world. Good luck with Guy 😂😂😂😂 \\n@MarilynMerrifi5 : @JP__75 @stringbeen69 Mental health - opening new mental health centres, mental health workers in every school\\nResponse times - 2nd fastest in country\\nGenerational debt - fabulous infrastructure that will last years, scientific development, \\nBut you know all this. You just love to hate and spout bs \\n@MarilynMerrifi5 : @stringbeen69 @JP__75 The trouble is if they get That Guy, so do we 😡😡 \\n@JP__75 : @stringbeen69 @MarilynMerrifi5 Bro, put on your N95 😷 and go get another booster💉….  Dan said that will give you the best protection from you covidchondria. \\n@Zahrasharaf9 : @MarilynMerrifi5 @JP__75 @stringbeen69 Not you? \\n@wuckster : @JP__75 @sackdanandrews Same as Wellcamp lol in Qld meanwhile the chook has spent god knows what on the social media popularity campaigns they are all parasites on the payroll \\n@ShortSqueezed1 : Define irony \\n\\nWhen you write an article based on a study about how #ivermectin failed to help #covid patients avoid hospitalization.\\n\\nNow look closely\\n\\nDid you catch it ?\\n\\nI highlighted it for you.\\n\\nhttps://t.co/UjBUtfSLL4 https://t.co/OeEPvO7KFD \\n@OtcStudent123 : @ShortSqueezed1 This is dangerous misinformation. You say most of which, without any evidence, I took the time to read the actual study. Only 52 percent of the individuals were actually vaccinated, and of the 1333 only 333 had a “major” event. 134 were vacced, 199 weren’t. A 12 percent \\n@OtcStudent123 : @ShortSqueezed1 Difference. See the study results here https://t.co/Z9cjoV3jed \\n@OtcStudent123 : @ShortSqueezed1 In addition, EVERY single patient was obese by medical standards and the average BMI Was 30 which is 5 points, minimally, above average. The funny part about data is it doesn’t lie, you just have to be intelligent enough to interpret it \\n@OtcStudent123 : @ShortSqueezed1 So, only 25 percent were hospitalized, not the amount you made it seem. And in general, only half the people on the study were vacced, and between the two, there were 60+more hospitalizations for unvaccinated, and all were obese which is the #1 risk factor to hospitalization \\n@ShortSqueezed1 : @OtcStudent123 I didn\\'t write the article but i see you are new here so let me ask you a question, How can a vaccinated person be hospitalized. \\n@OtcStudent123 : @ShortSqueezed1 Of course a person vaccinated can get it, the CDC walked her comments back, said 90 percent, which the data confers. Again you are ignoring blatant statistics https://t.co/UjjA80vkla \\n@OtcStudent123 : @ShortSqueezed1 I’m sorry, you’re lack of regard for education and research based science creates an inability for you to work with reality. Thus, this argument and our society are doomed \\n@ShortSqueezed1 : @OtcStudent123 Its ok to be upset because they lied to you, i didn\\'t say it, he did, data and statistics and comments seems to trigger people for some reason. \\n@OtcStudent123 : @ShortSqueezed1 Trump literally stole nuclear secrets man wtf, Biden had to lie because assholes who buy into trumps shit like you also don’t believe in science because they lack the ability to comprehend \\n@ShortSqueezed1 : @OtcStudent123 So you think i\\'m a trump supporter, i know you\\'re new here, haha. https://t.co/RqQxFuKLUu \\n@DrEricDing : For those desperately grasping at straws that #COVID is over… then don’t look at these UK 🇬🇧 kids hospitalization data. #CovidIsNotOver 👇\\n\\nPlease #DontlookUp. https://t.co/025yXOIXWL \\n@LolaTep : @DrEricDing I just saw your tweet as I am watching news that cruise lines have relaxed all Covid rules, even allowing unvaccinated on board.\\nPretty sure non of them will be masking.\\nCruise lines not even required now to report cases.🤬 \\n@GoaTranceNET : @DrEricDing In the Netherlands 900/month covid deaths \\n@simon_gordon_ : @DrEricDing Dude, the uk has a particular problem, they delayed child vaccines, they delayed or don’t allow child boosters, they haven’t allowed vaccinations for under 5s, so the government is responsible for ongoing problems. Here in the USA it’s parents fault for not vaccinating boosting \\n@sandkiz : @ramie911 @DrEricDing Covid is distinctly an older person\\'s illness in terms of death risk. https://t.co/vYd9GbdhPh \\n@sandkiz : @DrEricDing @LTSmash420 Hospitalization cases are at best a half-story medical statistic. \\nWhat is the DEATH RATE amongst children who are hospitalized with covid? In other words, their SURVIVAL RATE?🤔 \\n@sandkiz : @GoaTranceNET @DrEricDing With Covid or because of Covid?\\nCurrent death rate is very close to predicted annual rate expected (info from Dutch gov). https://t.co/mVTG3wsvvV \\n@sandkiz : @simon_gordon_ @DrEricDing Covid truly targets the elderly in terms of resulting death. These are current Covid death stats from Dutch gov: https://t.co/8aSmkWTbwk \\n@sandkiz : @LolaTep @DrEricDing Tragic because Covid still strikes the elderly most severely.\\nThis Dutch graph shows this clearly. https://t.co/4Jw2casRc0 \\n@GoaTranceNET : @sandkiz @DrEricDing Acc to Dutch national statistic board acc to Dutch national health registries https://t.co/g7Y2RertPG \\n@GoaTranceNET : @sandkiz @DrEricDing This is happening in an environment where there are no measures in place: no masks, no testing, no quarantine nothing whatsoever, a free for all and nobody cares about anybody. \\n@GoaTranceNET : @sandkiz @DrEricDing The US situation acc 2 CDC https://t.co/pek2IMul8K \\n@sandkiz : @GoaTranceNET @DrEricDing One should NEVER use the range \"50 years and older\" when discussing death rates due to Covid.\\nIn ZERO countries that have released age-related deaths to Covid do 50 year-olds die at the same rate as 80 year-olds.\\n(You might want to ask yourself why this false bundling occurs.) \\n@Dolores_McKeen : Today I hand over @CASUpdate presidency to @DrLucieFilteau It’s been quite a 2yr term #covid ⬇️EpiCaths I have learned much, am incredibly proud 🙏🏻 to have led an amazing grp of🇨🇦#anesthesiologists, a highly complex specialized field of medicine that is often #UnderRecognized👀👏🏻 https://t.co/Smqs9Dlrb5 \\n@DrLucieFilteau : @Dolores_McKeen @CASUpdate Looks like: TAG, I’m it! 🤣 https://t.co/mZv9uHjMJ8 \\n@sleepyandnumb : @Dolores_McKeen @CASUpdate @DrLucieFilteau Bravo, Delores! Thank you for your wise, stable &amp; compassionate leadership during the pandemic. What a flippin’ rollercoaster !🎢 \\n@MndpSingh7 : @Dolores_McKeen @ON_Anesthesia @GLSilvermanMD @colinjmccartney @drlauraduggan @VarshneyMD @MMottiar @DrFadiTO @YesSrICanBougie @ChrisCutMD @RohitKumarRKV Thanks for your contribution to @CASUpdate and the profession. Privileged to have the opportunity to work with you and learn from you. 🙏🏽 \\n@Dolores_McKeen : @DrLucieFilteau @CASUpdate You are indeed! Look forward to see all the great things you will lead. https://t.co/X156R8gJbe \\n@ronmree : @Dolores_McKeen @ubc_anes @LGHhaiti @cjyar @julietsayshello @TrinaMonte @PeterRoseAnesth @Agent99rp @MacdonellSu @DrRayTang @dgriesdale @antonchau1 @djyoungmd @Ad12Andre @hamedumedaly Thank you for your leadership Dolores! \\n@Dolores_McKeen : @ronmree @ubc_anes @LGHhaiti @cjyar @julietsayshello @TrinaMonte @PeterRoseAnesth @Agent99rp @MacdonellSu @DrRayTang @dgriesdale @antonchau1 @djyoungmd @Ad12Andre @hamedumedaly 👍🏻Ron. And thx you for all you do for the specialty! 👏🏻 \\n@Dolores_McKeen : @MndpSingh7 @ON_Anesthesia @GLSilvermanMD @colinjmccartney @drlauraduggan @VarshneyMD @MMottiar @DrFadiTO @YesSrICanBougie @ChrisCutMD @RohitKumarRKV @CASUpdate It is I who learned from you. Privilege to research advocate &amp; coauthor w you!  #PhysicianSheilding #covid #UnprecedentedTimes \\n@Dolores_McKeen : @sleepyandnumb @CASUpdate @DrLucieFilteau Pleasure to advocate for &amp; support passionate, incredibly competent #Anesthesiologists such as yourself. So proud to have follow you grow thru residency &amp; become the amazing clinician you are ❤️💯 Just sayin. You can give me &amp; mine an anesthetic ANY day! @CASUpdate @DalAnesthesia \\n@bmacaulay2000 : @Dolores_McKeen @CAS_OBSection @ValZaph @antonchau1 @LorrainechowMD @OBsleepmerchant @AnaSjaus @hilarykatem @DrTriciaDoyle @LesleyBau Great work Dolores!  Enjoy having slightly less on your crazy full plate 😂 \\n@Dolores_McKeen : @bmacaulay2000 @CAS_OBSection @ValZaph @antonchau1 @LorrainechowMD @OBsleepmerchant @AnaSjaus @hilarykatem @DrTriciaDoyle @LesleyBau Thx Brucie. You are so missed my friend &amp; ex-work hubby. Hi to all the @IWKHealth gang from me! \\n@LesleyBau : @Dolores_McKeen @CASUpdate @DrLucieFilteau Thank you for your fantastic leadership @Dolores_McKeen ! \\n@AnaSjaus : @Dolores_McKeen @CASUpdate @DrLucieFilteau Masterclass leadership in challenging times: pandemic advocacy, the changing landscape of anesthesia workforce, increasing visibility of our profession and many other examples of support and mentorship …  many thanks @Dolores_McKeen ❤️more greatness to come @DrLucieFilteau \\n@ottawaheartrob : @Dolores_McKeen @CASUpdate @DrLucieFilteau A steady hand on the tiller during stormy times, doc. \\n\\nYour leadership is appreciated \\n@Dolores_McKeen : @ottawaheartrob @CASUpdate @DrLucieFilteau Thx Robert. High praise from a very respected colleague 🙏🏻👍🏻 \\n@colinjmccartney : @Dolores_McKeen @CASUpdate @DrLucieFilteau Thanks for all of your leadership Dolores \\n@Dolores_McKeen : @colinjmccartney @CASUpdate @DrLucieFilteau Thx Colin. Back ‘atcha! Best of luck on the big move to Sunnybrooke! \\n@Dolores_McKeen : @AnaSjaus @CASUpdate @DrLucieFilteau Kind words from an equally amazing colleague, leader, researcher &amp; importantly, a valued friend ❤️🙏🏻 \\n@RohitKumarRKV : @Dolores_McKeen @CASUpdate @DrLucieFilteau Thank you for your leadership and service.  It is an incredible amount of work and your commitment and continued presence throughout your presidency was evident. Looking forward to seeing you at next year’s CAS! \\n@Dolores_McKeen : @LesleyBau @CASUpdate @DrLucieFilteau Thx Lesley. So proud to be part of your fellowship &amp; now colleague. The #Anesth future is bright w young 🌟 like you entering the profession! \\n@MMottiar : @Dolores_McKeen @CASUpdate @DrLucieFilteau Thank you @Dolores_McKeen! It has been a real pleasure working with you! \\n@sleepyandnumb : @Dolores_McKeen @CASUpdate @DrLucieFilteau @DalAnesthesia Thank you😘 Even better to stay off the table 🤣 \\n@SarooSharda_MD : @Dolores_McKeen @CASUpdate @DrLucieFilteau What a great drawing! Thank you for all your work and leadership and congrats to @DrLucieFilteau as she steps in! \\n@Dolores_McKeen : @SarooSharda_MD @CASUpdate @DrLucieFilteau Thx Saroo!! Ha.. It represents so many elements of my term.. #COVID #HHR #SurgicalBacklog #CRNA position statement.. and of course I got a screen shot sent to me.. sipping a Corona during a town hall virtual meeting!!  Won’t live the down for a while! \\n@SarooSharda_MD : @Dolores_McKeen @CASUpdate @DrLucieFilteau At least it’s a good beer choice! https://t.co/pBjqQic23z \\n@Agent99rp : @Dolores_McKeen @CAS_EnviroSus @cas_neuro @CAS_OBSection @CAS_CVT @CASresidents @CAS_RegAnes @PedsAnesthesia @DebraThomsonCAS @cas_mack @CAS_IEF @CARFUpdate @CJA_Journal Dolores, such a pleasure having you at the helm of the CAS during some trying times. You are a skilled leader in many domains. Hard to believe Lucie is next- 2 women I very much admire as consecutive CAS Presidents! https://t.co/VCidmbyDxj \\n@Dolores_McKeen : @AnaSjaus @CASUpdate @DrLucieFilteau Such kind words from an amazing leader, clinician &amp; researcher herself. You are missed my friend. D \\n@AnaSjaus : @Dolores_McKeen @CASUpdate @DrLucieFilteau Ah❤️, I may type something too sentimental for this app … miss you too D, proud to be a friend. \\n@catladyactivist : Hey #COVID cautious folks...\\n\\nNon-optional home appliance repair estimate situation. Appliance is in the basement. Since I do not run central air am I good just sealing door and opening basement &amp; main floor windows? Basement door goes directly outside so that helps. \\n@smaragdhi : @catladyactivist I believe so. Make sure there\\'s no route air in the basement can come up to the house. \\n@stargazing90 : @catladyactivist So he entered and leaves through the basement? If so I wouldn’t def say yes. I’d probably still wear an N95 for an hour or so because I’m paranoid, but that’s me \\n@beccaimahere : @stargazing90 @catladyactivist Two guys came to the house to give an estimate. Warned to wear a mask over here. Had two N95’s for ‘em. Put them on like good dudes no problem. If they go home and share that issue with their fam, friends, office, I feel as though it’s free advertisement. So be it. \\n@stargazing90 : @beccaimahere @catladyactivist Def..I assumed she would have them N95 \\n@cutejewelryst : @catladyactivist If you can get fans in two windows (one in front,one in back) it will circulate more. We had the AC people come in through the back door but we left the windows open for a few hours iirc. But still mask ofc. \\n@69L46 : @catladyactivist I would try to have a fan blowing out the open basement door to the outside, and another blowing into the basement from the 1st floor. Then open 1st-floor windows, except for those on the same side of the house or downwind from the basement exhaust.\\n\\nAnd keep range/bath fans off. \\n@69L46 : @catladyactivist The idea is to have a well-defined air-flow pattern. However, if the appliance uses natural gas, you should use explosion-proof fans if possible. If not rated Class I Div I, then AC induction or brushless DC are non-sparking, but can get hot. \\n@69L46 : @catladyactivist You could put the fan in the doorway, and then use garbage bags and duct tape to cover the open areas in the door frame. Maybe add some vertical slits to make them easy to tear apart if emergency egress is needed. \\n@Prof_NickTalley : Bad news. Neurological &amp; psychiatric risk trajectories after #SARSCoV2 infection: an analysis of 2-year retrospective cohort studies including 1\\u2008284\\u2008437 patients: increased risk of psychotic disorder, cognitive deficit, dementia, epilepsy persisted #COVID https://t.co/ZASuU5VCQI \\n@DrKimLoo : @Prof_NickTalley We are swamped in General Practice with Covid and our burden of chronic disease patients. An exhausted work force in the health care sector for years to come. \\n@LizSturgiss : @Prof_NickTalley @DrKimLoo The TriNetX electronic health records dataset has Australian data, do you know where it comes from? \\n@DrSuziNielsen : @LizSturgiss @Prof_NickTalley @DrKimLoo Good question, following \\n@LizSturgiss : @DrSuziNielsen @Prof_NickTalley @DrKimLoo Hi @TriNetX - do you have information on what type of Australian data is part of your database? \\n@TommyJohn00 : My metastatic cancer patient on immunotherapy but refuses to get vaccinated, ended up in hospital with #COVID. I asked why didn\\'t you get vaxxed? Well it was mild. But you ended up in hospital on antivirals!! Yeah but I\\'m fine now, it was mild. Cognitive dissonance 🤷🏽\\u200d♂️ \\n@DrCraigGedye : @TommyJohn00 The responsibility of getting health communications right is beautifully illustrated here - a cheap vaccine that is vastly more effective (on average) than an expensive monoclonal antibody. Health literacy is a huge challenge! \\n@TommyJohn00 : @DrCraigGedye But is Bill Gates in the monoclonal? I have given up arguing with these people \\n@DrCraigGedye : @TommyJohn00 I thought he wore glasses, not a monocle? \\n@jasonandrade : @TommyJohn00 Is it because they ended up in hospital because they were identified as vulnerable (and similarly, given antivirals for the same reason) but because their experience was mild - they can\\'t connect one thing to the other ? \\n@TommyJohn00 : @jasonandrade No they were very sick. But not sick enough to need a vaccine. \\n@jasonandrade : @TommyJohn00 I am with you then.  Complete cognitive dissonance. \\n\\nThere are stories of nurses reporting (in 2021) anti-vaxxers who have reached a terminal state in hospital who are then asking to be vaccinated and unfortunately it is far too late. \\n@DavidDavisMLC : Shocking! 4 #Labor voting cross benchers vote AGAINST a Royal Commission into #COVID mismanagement. #Andrews &amp; his botched #pandemic response: #Hotel #Quarantine 801 deaths, #Andrews amnesia, school &amp; playground, border closures. Really? Ratnam Hayes Meddick Maxwell #springst \\n@SEComForum : @TaniaMaxwellMP @DavidDavisMLC Thanks for explaining @TaniaMaxwellMP - so what are you going to do, to get a RC ? 🤷🏼\\u200d♂️ \\n@PatriciaJonger2 : @DavidDavisMLC I remember two of those names.....Ratnam and Meddick, for supporting the Pandemic Bill. All gone in November! \\n@Goffel73 : @Statindobvious Lol, ok dipshit https://t.co/deSmstlKbH \\n@Statindobvious : @Goffel73 What\\'s your point, rainbow needle? \\n@chdyctt : @Troy81195695 @TaniaMaxwellMP @SEComForum @DavidDavisMLC Maybe she\\'s expecting a subpoena \\n@anna_conticello : @PatriciaJonger2 @DavidDavisMLC You missed Fiona Patten. \\n@JFreddy44 : @DavidDavisMLC Labor don’t want a RC into pandemic management as it will expose Andrews and Palace Chook \\n@Rodmugford : @DavidDavisMLC This is why you will lose again. Acting like children. \\n@Rodmugford : @Statindobvious @Goffel73 Most corrupt. That was the Libs and nat coalition  they got defeated so be happy \\n@Rodmugford : @Willygc13Will @DavidDavisMLC Arrested?  What for ? \\n@Rodmugford : @JFreddy44 @DavidDavisMLC John how old are you?  Palace chook?  Grow up. \\n@Rodmugford : @MScotchman @DavidDavisMLC You are dreaming. \\n@JFreddy44 : @Rodmugford @DavidDavisMLC I can call her whatever I want now go away \\n@JFreddy44 : @Rodmugford @DavidDavisMLC 😂😂😂😂😂😂 \\n@Rodmugford : @JFreddy44 @DavidDavisMLC You think that is mature? # \\n@PatriciaJonger2 : @anna_conticello @DavidDavisMLC And the Transport guy, can\\'t even remember his name. But I will! He clinched it when Adem threw the spanner in the works and Danistan needed that one last vote..... \\n@Willygc13Will : @Rodmugford @DavidDavisMLC Oh you’re funny \\n@anna_conticello : @PatriciaJonger2 @DavidDavisMLC Barton , not sure of the spelling of the taxi guy \\n@iamguidodavid : NCR weekly positivity rate decreased to 15.3% as of Aug 17, from 17.2% as of August 10. The one week growth rate was -8% while the reproduction number as of Aug 14 was 1.01. Healthcare utilization went up from 36% to 40% while ICU occupancy went up from 33% to 36%. #Covid @dzbb https://t.co/tf9GZ9jx8U \\n@XtineDollosa : @iamguidodavid @dzbb @gmanews @cnnphilippines @UNTVNewsRescue @inquirerdotnet @dzrhnews @News5PH @smninews @PhilstarNews @ManilaTimesNEWS @ANCALERTS No. of cases appear to be moving on a downward trend, but ICU &amp; HCU are going up. What’s the analysis or take on this? Are the age groups and their comorbids, if they have any, considered as significant factors of the increase? Waning vaxx effectiveness, too? Ty so much po. \\n@iamguidodavid : @XtineDollosa @dzbb @gmanews @cnnphilippines @UNTVNewsRescue @inquirerdotnet @dzrhnews @News5PH @smninews @PhilstarNews @ManilaTimesNEWS @ANCALERTS As mentioned by @white_bite , HCUR is a lagging indicator, meaning that what we are seeing is a delayed effect of the rise in cases/infections. \\n@white_bite : @iamguidodavid @XtineDollosa @dzbb @gmanews @cnnphilippines @UNTVNewsRescue @inquirerdotnet @dzrhnews @News5PH @smninews @PhilstarNews @ManilaTimesNEWS @ANCALERTS One thing I\\'ve noticed though is that the lags have taken a bit longer now. Don\\'t know if I\\'m right. \\n@RyanZeque : @iamguidodavid @dzbb @gmanews @cnnphilippines @UNTVNewsRescue @inquirerdotnet @dzrhnews @News5PH @smninews @PhilstarNews @ManilaTimesNEWS @ANCALERTS doc any confirmation about second case of monkeypox? \\n@RyanZeque : @iamguidodavid @dzbb @gmanews @cnnphilippines @UNTVNewsRescue @inquirerdotnet @dzrhnews @News5PH @smninews @PhilstarNews @ManilaTimesNEWS @ANCALERTS but that is legit doc so it means second case so far in philippines? \\n@iamguidodavid : @RyanZeque We will have to wait for the official announcement :) \\n@RyanZeque : @iamguidodavid @dzbb @gmanews @cnnphilippines @UNTVNewsRescue @inquirerdotnet @dzrhnews @News5PH @smninews @PhilstarNews @ManilaTimesNEWS @ANCALERTS sir anong website, at facebook page ang pwede kung i follow to get daily covid update sa davao city or lgu? \\n@RickAnt4 : @iamguidodavid @dzbb @gmanews @cnnphilippines @UNTVNewsRescue @inquirerdotnet @dzrhnews @News5PH @smninews @PhilstarNews @ManilaTimesNEWS @ANCALERTS Hi doc, is this a good sign that cases have already peaked in NCR? Thanks doc! \\n@iamguidodavid : @RickAnt4 @dzbb @gmanews @cnnphilippines @UNTVNewsRescue @inquirerdotnet @dzrhnews @News5PH @smninews @PhilstarNews @ManilaTimesNEWS @ANCALERTS Yes, cases have peaked but level of infections is still significant at this time. \\n@blackoutpete : Seems as if #covid did *not* in fact become out of control at #edfringe the way everyone predicted. Hmmmm. Maybe it’s on its way out. \\n@TwoHamlet : @blackoutpete I think it’s more likely that people simply aren’t testing and that lots of people have mild or asymptomatic cases that are going unnoticed. 😬 \\n@MegUndressed : @TwoHamlet @blackoutpete I’ve heard of a few cases and some runs closing because of it. ☹️ \\n@blackoutpete : @MegUndressed @TwoHamlet But out of 3500 shows, a small % relatively. \\n@blackoutpete : @1124pebbles 😭 \\n@katemccabesays : @blackoutpete I contracted it for the first time ever during my brief stay. Booooo. \\n@blackoutpete : @katemccabesays Boo!!! Zero stars! \\n@blackoutpete : And of course someone I know there just got Covid \\n@laughingmonsta : @blackoutpete issue is - its probably more out of hand than you realise but because theres no testing and no legal requirement anymore to isolate - then people will be walking around with it! - No Testing = \"No cases\" \\n@blackoutpete : @laughingmonsta But surely there are records about if the cases are rising or falling in the city of Edinburgh for the first two weeks of August, no? \\n@laughingmonsta : @blackoutpete Not if no testing is taking place. Also would mean that anyone with would still have to report it (which they don\\'t) - so unless people do all Test &amp; Report then there are no stats! \\n@blackoutpete : @laughingmonsta So for the past two years they have been no reports about the cove cases in Edinburgh? That seems so strange. I seem to recall checking them a few months ago. \\n@blackoutpete : @laughingmonsta Ah. They do seem to be trending down. https://t.co/3mxa13QbTU \\n@laughingmonsta : @blackoutpete The legal requirements in UK for testing etc all changes about 6months ago - which would suggest at least on \\'Paper\\' that its declining \\n@bulletpfunicorn : @blackoutpete It’s raging through #edfringe https://t.co/PFqeZNa4lO \\n@blackoutpete : @bulletpfunicorn No! Dang! So sorry. Get well soon. ❤️ \\n@rizkyjuliadi : Kondisi saya sudah lebih baik dibanding kemarin, anak sulung baru sore tadi demam, namun istri saya @ulfarinzani, perlu dirawat. Si bungsu, hanya serak dan batuk sedikit. \\n@rizkyjuliadi : Semoga keadaan kami semua menjadi lebih baik, dan cepat pulih. \\n@rizkyjuliadi : @derry_why Aamiin nuhun kang derr \\n@mnassa10 : @gufronsp @rizkyjuliadi gws jul \\n@ghazaligheza : @rizkyjuliadi Aamiin. Semoga cepet sembuh semua jul. 🤲 \\n@rizkyjuliadi : @gufronsp Aamiin nuhun aa upon \\n@rizkyjuliadi : @mnassa10 @gufronsp Aamiin nuhun abang aca \\n@rizkyjuliadi : @ghazaligheza Aamiin nuhun bang geja \\n@rizkyjuliadi : @retsaanugrah Aamiin ca, nuhun. Insya allah disalamin ya. \\n@rizkyjuliadi : @gabbyaskd Aamiin ya allah. Makasih geebs, sehat sehat juga. \\n@rizkyjuliadi : @dinardink Aamiin, nuhun om Dinar \\n@jodyvance : Given what the industry has already suffered through - I wish the @bcgeu would consider making a massive caveat for restaurants when it comes to liquor distribution. That’s where the $$ is made … millions of workers rely on industry jobs. @BCRFA #restaurants #covid #inflation \\n@TrigoBruno : @jodyvance @bcgeu @BCRFA thats a terrible idea. restaurants/hospitality businesses are some of the worst offenders when it comes to works rights! \\n@BradDirks : @jodyvance @bcgeu @BCRFA I wholeheartedly agree! My son works in Vancouver at a popular restaurant, &amp; relies on his earning &amp; tips to live &amp; pay rent!!! When union workers have the luxury/privilege of job action, they should make sure other workers aren\\'t negatively affected. The optics are brutal 👎 \\n@ShibbyJames21 : @jodyvance @bcgeu @BCRFA The restaurants are fine the LDB already set up a 3rd party delivery system for them \\n@CanKellyJ : @BradDirks @HamelHeather @jodyvance @bcgeu @BCRFA A raise that is less than inflation amounts to a wage cut, or a loss of purchasing power \\n@KyleDaoust_ : @jodyvance @bcgeu @BCRFA Businesses are struggling, sure, but what about the workers? Do you forget why they’re striking in the first place? If the government had come forward with a fair offer this very limited job action wouldn’t be happening. \\n@VincyBrit2010 : @WDaveWatt1 @jodyvance @bcgeu @BCRFA Bonuses are nice but they don’t help when doing overtime, help w/ pension contributions, etc. Workers are better off getting “bonus money” added into wages. \\n@HamelHeather : @BradDirks @jodyvance @bcgeu @BCRFA I said \"what amounts to a pay cut\".  Wage increases that don\\'t keep up with inflation mean workers fall further behind. #COLA \\n@bwilliams6009 : @jodyvance @bcgeu @BCRFA They dont care about anybody but themselves, its called the union mindset. \\n@HamelHeather : @BradDirks @CanKellyJ @jodyvance @bcgeu @BCRFA You can equate it that way, but why don\\'t you ask a wildfire fighter, a corrections officer, a social worker, or the LDB workers (who were called essential without the pandemic pay, andbring in needed $$ to prov for health care/ed) if they are in a yacht or drowning? \\n@GrahamPudek : @jodyvance @bcgeu @BCRFA Yes. I don’t know why the @bcgeu is not being considerate of these small business who also have many hard workers who are being negatively impacted by their selfish actions towards them. It’s not fair to punish those not responsible or directly involved in this dispute. \\n@GrahamDun : @BradDirks @jodyvance @bcgeu @BCRFA Union workers include nurses and other healthcare professionals. Do we not owe them a raise? Do we now owe them more than criticism? \\n@BradDirks : @GrahamDun @jodyvance @bcgeu @BCRFA Graham, I\\'m well aware that nurses are union members. My sister-in-law is a nurse. British Columbians like me can support wage increases for union workers, and still disagree with this job action that hurts those at the bottom trying to earn a living to pay tuition, rent, etc. \\n@GrahamDun : @BradDirks @jodyvance @bcgeu @BCRFA Agreed. I wanted to highlight nurses because they are our backbone to healthcare and our government is leaving them behind. Look to see what NFLD is doing as a province for nurses. @BCNDP is in denial. \\n@HamelHeather : @BradDirks @CanKellyJ @jodyvance @bcgeu @BCRFA Yes benefits are ok, but we have a long way to go. These folks aren\\'t millionaires. Some get much less than they would in priv sector, other provs, or feds. How about no wildfire fighters next yr b/c all go elsewhere? Vehicle inspectors, soc workers, prob ofcrs? Emp can/shld pay. \\n@BradDirks : @HamelHeather @CanKellyJ @jodyvance @bcgeu @BCRFA I’m very familiar with all those talking points, sound bytes &amp; whataboutisms. As an entrepreneur who’s been self employed since 1994, I’m familiar with the vast differences between the public &amp; private sectors. I fully understand the unity of union employees. It’s nothing new. \\n@Sheremetaverse : @HamelHeather @jodyvance @bcgeu @BCRFA This answer perfectly illustrates our Union movement. If we’re not happy, fuck everyone else. I support the restaurant industry. As a result of your actions, I do not support you. And i guarantee I’m not alone. \\n@HamelHeather : @Sheremetaverse @jodyvance @bcgeu @BCRFA Well these folks are paid to care about you, kids in care, prisons, wildfires, vehicle inspections, sales tax, etc. Too bad you don\\'t think they deserve a fair wage increase the province can afford. \\n@HamelHeather : @BradDirks @CanKellyJ @jodyvance @bcgeu @BCRFA You call them talking points, I call them real life for thousands of your neighbours.  But then again, you would know that since you are such a big union supporter. \\n@HamelHeather : @BradDirks @CanKellyJ @jodyvance @bcgeu @BCRFA you don\\'t get them so they shouldn\\'t? What do you get that they don\\'t? Why attack the worker for negotiating benefits? They had to give up other thgs to get them.  Employer still has HUGE piece of pie. They could stop job action with a fair offer. Ask yr MLA. BTW they get COLA. \\n@BradDirks : @HamelHeather @CanKellyJ @jodyvance @bcgeu @BCRFA It’s possible to care about &amp; support unions overall, and still disagree sometimes with job action tactics that hurt small businesses &amp; their employees. As a server, my son &amp; thousands of workers like him are negatively impacted, and it’s “real life” for them just as much. \\n@BradDirks : @darilynnbutler @jodyvance @bcgeu @BCRFA Well said Darilynn. Restaurants and their staff who rely on earnings &amp; tips to pay rent, save for tuition, buy groceries, raise a family, and most with no job security, benefits, dental coverage, paid vacation time or pensions! \\n@JudyCMPhipps : @jodyvance @bcgeu @BCRFA I wish the government would come to the table and make a meaningful offer to our members and then perhaps restaurants would not be in this situation. Email your MLA’s asking for the same! \\n@stenberg_jane : @jodyvance @bcgeu @BCRFA I agree, Jody. This is not winning any public support and is totally dumping on the restaurant industry. They just look like bullies bullying the forever victims. \\n@ziggerman007 : @PDiespecker @jodyvance @bcgeu @BCRFA The best bargaining chip is one that makes the other side take notice.  This will get lots of air time.  I don\\'t agree with the tactic, I\\'m just pointing out that it is one. \\n@shiploader1 : @bwilliams6009 @jodyvance @bcgeu @BCRFA What an ignorant statement. Union workers want to raise everyone’s working conditions, benefits and the ability to earn a decent living. My unions motto is “An injury to one is an injury to all” \\n@shiploader1 : @jodyvance @bcgeu @BCRFA Just curious isn’t it the government imposing the limits? Pretty sure it’s not the union trying to create hardship on restaurant owners. Just remember how the govt imposed and changed rules during Covid pandemic \\n@moodyangela : @jodyvance @bcgeu @BCRFA Restaurants were fighting against covid protections from the start\\n\\nMost didn’t adapt or create a safer environment for staff and customers\\n\\nAnd instead of supporting covid zero, and any attempt to end the pandemic, they fought against it for short term gain \\n@moodyangela : @jodyvance @bcgeu @BCRFA They also received public money to help with the pandemic, but pushing back to normal and doing absolutely nothing to adapt, and even putting people at risk for low wages, that’s why they’re struggling\\n\\nOur whole economy is a corrupt mess that puts profits over people \\n@moodyangela : @jodyvance @bcgeu @BCRFA We have too many restaurants as it is\\n\\nThe wages are low, and they just create waste\\n\\nWe need to rethink our economy and lifestyles \\n@lcooke1916 : @jodyvance @bcgeu @BCRFA Union folks don’t understand the entrepreneurial spirit &amp; risk of small business owners. That’s why they are in a union. \\n@moodyangela : @jodyvance @HamelHeather @bcgeu @BCRFA They were the first industry to reopen, without protections, and cases skyrocketed after\\n\\nThey must have lobbied hard to get gov to claim sitting at a table, eating and talking, won’t spread the virus\\n\\nThey’re unlivable jobs, and many require tourism and outside labour to exist \\n@moodyangela : @jodyvance @HamelHeather @bcgeu @BCRFA We need livable jobs and less consumption\\n\\nFewer restaurants, and an economy based on GPI, not GDP \\n@moodyangela : @kammornanchor @jodyvance @bcgeu @BCRFA The underpaid staff they laid off yo save money even when they received publicly paid benefits?\\n\\nThe same restaurants who did nothing to adapt and protect staff and customers, and then lobbied govs to allow them to reopen prematurely without needing to make it safer? \\n@moodyangela : @BradDirks @darilynnbutler @jodyvance @bcgeu @BCRFA Maybe it’s time to create better jobs that people can live on\\n\\nInstead of demonizing decent union jobs, maybe question why you are supporting these low wage jobs that don’t offer benefits, including dental, and wages high enough to live on?\\n\\nWe have way too many low wage jobs \\n@moodyangela : @BradDirks @jodyvance @bcgeu @BCRFA You’re mad at union workers because your son is exploited by a private company for low wages and no benefits?\\n\\nHaving the bare minimum should not be considered a luxury\\n\\nMaybe ask why we have so many unlivable jobs with no benefits? Everyone should have livable wages and benefits \\n@moodyangela : @JudyCMPhipps @jodyvance @bcgeu @BCRFA No one should receive less than what politicians give themselves\\n\\nBCNDP gave themselves a retroactive 10% raise\\n\\nOffered &lt;3% for public employees\\n\\n&lt;6% for min wage\\n\\n0 for disabled people\\n\\nAnd their excessive salaries are more than enough to live on even with high inflation \\n@moodyangela : @jodyvance @therockdawg @bcgeu @BCRFA Why is saving restaurants, unlivable, low wage jobs, in the public’s interest?\\n\\nRestaurant owners are upper class, and their employees are paid unlivable wages which customers supplement through tipping\\n\\nRestaurants need to adapt and improve\\n\\n Pubs/clubs will be worse off \\n@moodyangela : @jodyvance @therockdawg @bcgeu @BCRFA Why are so many people in government so concerned about restaurants?\\n\\nDo restaurant owners donate a lot of money? \\n@moodyangela : @jodyvance @therockdawg @bcgeu @BCRFA Imagine if government was as concerned about individuals surviving as they are businesses\\n\\nDisabled people are still forced into poverty, dying in heat waves and unable to afford to eat, but rich restaurant owners might lose profits temporarily?\\n\\nImplement a GLBI \\n@moodyangela : @jodyvance @therockdawg @bcgeu @BCRFA Business owners can access the same supports everyone else does, if the business is struggling, they can get EI\\n\\nWhy are rich restaurant owners so much more special than everyone else?\\n\\nIt’s really weird how much govs in BC support restaurants while people are dying from poverty \\n@moodyangela : @VincyBrit2010 @WDaveWatt1 @jodyvance @bcgeu @BCRFA And the outsourced maximus employees get none of it\\n\\nGood way for the government to cheap out even more \\n@moodyangela : @KyleDaoust_ @jodyvance @bcgeu @BCRFA It’s weird how much govs in BC are concerned about restaurants, the rich owners, but they dgaf about the underpaid employees who work precarious hours and have no benefits\\n\\nMin wage is unlivable in BC, and these businesses lobbied gov to reduce labour laws and reopen mid pandemic \\n@moodyangela : @KyleDaoust_ @jodyvance @bcgeu @BCRFA They’re also hiring foreign workers claiming it’s a labour shortage, when in reality it’s a wage shortage\\n\\nAnd they claimed we needed more tourism or they wouldn’t have enough customers\\n\\nTo be sustainable they need foreign workers and outside customers?\\n\\nWe need fewer restaurants \\n@moodyangela : @KyleDaoust_ @jodyvance @bcgeu @BCRFA They lobbied hard to remove covid protections\\n\\nhttps://t.co/9u53btfLNJ \\n@moodyangela : @ShibbyJames21 @jodyvance @bcgeu @BCRFA And lowered costs, and lobbied to reopen prematurely\\n\\nAnd they received public funding to do nothing, while laid off staff struggled to live, and staff they employ struggle to live on unlivable wages\\n\\nAnd they lobbied for foreign workers, to keep wages low https://t.co/NU11wLVFcL \\n@moodyangela : @ShibbyJames21 @jodyvance @bcgeu @BCRFA Don’t want to pay wages that are fair and livable in the region?\\n\\nJust whine to government and exploit foreign workers for lower wages and worse working conditions\\n\\nhttps://t.co/xipujG7t2L \\n@moodyangela : @TrigoBruno @jodyvance @bcgeu @BCRFA BCRFA lobbies hard to keep conditions crappy and wages low\\n\\nThey laid off, and sacrificed staff in early pandemic, and now whine about a labour shortage\\n\\nSomehow they need foreign workers to work for the low wages, and they need tourists to profit?\\n\\nhttps://t.co/9u53btfLNJ \\n@moodyangela : @TrigoBruno @jodyvance @bcgeu @BCRFA Sounds like we have too many restaurants, and the industry is unsustainable\\n\\nThey lobbied to have less than min wage wages, split shifts, no lunch breaks even for 7+ hours, min shifts of 2 hours instead of 4\\n\\nAnd gov lets them exploit workers to save money \\n@moodyangela : @GrahamPudek @jodyvance @bcgeu @BCRFA What small businesses? Small businesses are those with &lt;100 employees, it doesn’t mean they’re barely surviving. The owners are rich and workers are exploited\\n\\nMaybe these businesses should support the union workers and push to resolve things quickly so it doesn’t impact them \\n@moodyangela : @shplak @jodyvance @bcgeu @BCRFA Because they’re fighting for fair wages for employees?\\n\\nAnd an industry known for exploiting staff for low wages and crappy conditions, who lobby governments heavily, is somehow the victim?\\n\\nRestaurants serve food, it’s not reducing the sale of butter or flour \\n@moodyangela : @lcooke1916 @jodyvance @bcgeu @BCRFA Restaurants are the most exploitative industry here\\n\\nThey pay min wage for crappy conditions, no benefits, precarious Hours, and refuse to raise wages even when min wage is unlivable and instead lobby gov to reduce labour laws and increase foreign workers \\n@moodyangela : @shiploader1 @jodyvance @bcgeu @BCRFA They’re trying yo create anger towards the union\\n\\nRestaurants are for food, alcohol is an add on\\n\\nThey will be fine with a temporary shortage of alcohol\\n\\nThey just want to rile people up to coddle this exploitation industry even further\\n\\nRich restaurant owners over poor employees \\n@moodyangela : @stenberg_jane @jodyvance @bcgeu @BCRFA That’s exactly how gov is trying to frame it because of how profitable the restaurant industry is\\n\\nRich owners whine about being oppressed while their min wage workers struggle to pay rent \\n@jodyvance : @moodyangela @HamelHeather @bcgeu @BCRFA You have clearly not owned nor operated a restaurant — or been FOH or BOH. \\n@jodyvance : @suz2772 @HamelHeather @bcgeu @BCRFA “People” know that. My comment wasn’t a reflection about strikes — it’s about the decimation of the BC restaurant industry, which is the province’s largest employer of young people and women. @BCRFA @iantostenson can explain. \\n@darilynnbutler : @moodyangela @BradDirks @jodyvance @bcgeu @BCRFA I am in no way demonizing union jobs. I am suggesting the restaurant industry has suffered exponentially more than many in last 2 years so maybe they could get a break. Some places pay living wages but without products to serve they suffer. \\n@stenberg_jane : @moodyangela @jodyvance @bcgeu @BCRFA Having known a couple of small restaurant owners who went bust during COVID, I think you might be sweeping the whole industry with a broad brush. Maybe the big chains are guilty of this but small restaurant owners are small business owners and don\\'t have a big margins. \\n@HamelHeather : @jodyvance @suz2772 @bcgeu @BCRFA @iantostenson I don\\'t share your confidence that people know this is about low recruitment and retention in many jobs essential in this province. Not just about liquor. But again very easy to blame workers for striking instead of the Employer for not coming to table with a reasonable offer. \\n@jodyvance : @HamelHeather @suz2772 @bcgeu @BCRFA @iantostenson You’ve missed my point, completely. That’s ok though. Have a great night. \\n@HamelHeather : @BradDirks @CanKellyJ @jodyvance @bcgeu @BCRFA So tell your MLA the negotiators should get back to the table.  They have the means to settle this. That\\'s where the best deals get done. \\n@jodyvance : @HamelHeather @BradDirks @CanKellyJ @bcgeu @BCRFA This is Twitter. I’m giving my opinion. You do you, I will do me. Great chat 👊🏻 \\n@shiploader1 : @moodyangela @jodyvance @bcgeu @BCRFA Thanks for this perspective 👍 As I rarely order a drink in a restaurant these days or frequent chain restaurants I prefer small restaurants and spend my alcohol money in the form of a tip \\n@HamelHeather : @BradDirks @CanKellyJ @jodyvance @bcgeu @BCRFA Your comments don\\'t exactly show respect for the Union workers you say you support. You think the solution is to get the workers to back off. Or not ask gor more in the first place. Sorry that it takes so much \"time\" to show any support. \\n@lcooke1916 : @moodyangela @jodyvance @bcgeu @BCRFA And your solution is? I’ve known servers that have made a mint in tips working part-time hours. \\n@bwilliams6009 : @shiploader1 @jodyvance @bcgeu @BCRFA You want to drag us all in the mud with you, so thank God 70% of us in dont need a crutch to survive in Canada. I dont need your crutches and your so-called wisdom. \\n@Frankmtank : @BradDirks @jodyvance @bcgeu @BCRFA Job action is not a privilege. It is a sacrifice for members as well. When you are striking you are lucky if you get a fraction of your wages. It also depletes the resources of the Union. If the restaurant industry is suffering they should lobby the gov for concessions for bcgeu \\n@Frankmtank : @stenberg_jane @jodyvance @bcgeu @BCRFA They look like bullies? Did you see what they were offered? And that\\'s not a one off but successive contracts. The bullies are gov. Those on strike only make a fraction of their regular wage. They are suffering for their own futures. Lobby gov to give fair and reasonable offer \\n@PDiespecker : @ziggerman007 @jodyvance @bcgeu @BCRFA Touché \\n@stenberg_jane : @Frankmtank @jodyvance @bcgeu @BCRFA Just saying how it appears to me.  The gov bullies the union, the union bullies small business so they will pressure government and gain the union leverage. Guerrilla politics. \\n@RBAdvisors : #US had a savings surge during 2020’s #COVID lockdown that led to pent-up spending.  Similarly China’s savings are now bulging during lockdown and pent-up demand likely lies ahead. (Chart: #EVRISI via The DailyShot) https://t.co/LS4ql31vd9 \\n@kevinfeldman : @RBAdvisors This is first positive take I\\'ve read on Chinese domestic economy in weeks. \\n@HonestLispeakin : @RBAdvisors Unfortunately, this is paper money. Banks are NOT allowing customers to withdraw.\\n\\nBulging cash in China with some graphs based on unverified sources? SMH \\n@HonestLispeakin : @kevinfeldman @RBAdvisors which isnt verified and not a view of reality. \\n@0PAsq : @HonestLispeakin @RBAdvisors Few banks had this issue, don\\'t generalize. \\n@HonestLispeakin : @0PAsq @RBAdvisors The amount of money unable to withdraw is in hundreds of billlion. What about money stuck in housing payments ?\\nFocus on Chinese purchase power as an individual not theoretical paper money. \\n@tommy_edwin1212 : Can I get an Amen? #Covid 😎 https://t.co/8c8Z4dhE63 \\n@Lorraine_Grant : @tommy_edwin1212 Clear? Yay! \\n@tommy_edwin1212 : @Lorraine_Grant Yeah, except for the post Covid asthma 🙄 \\n@kateycanuck : @tommy_edwin1212 Hurray. How many days was that in the end? \\n@tommy_edwin1212 : @kateycanuck 12 days but I’ve got a return of asthma I haven’t seen since California in the late 80’s \\n@kateycanuck : @tommy_edwin1212 Another 12 dayer, huh. It can\\'t be coincidental. Sorry to hear about the asthma, hopefully it disappears over the next few days/weeks. \\n@tommy_edwin1212 : @kateycanuck Yeah, it was like clockwork. I’m sure it’s just induced asthma and it will clear up. \\n@anothertwit3 : @tommy_edwin1212 You did have it I take it? Ooh. Sorry. Sounds like it was nasty. 😬 \\n@tommy_edwin1212 : @anothertwit3 Nah it wasn’t bad. One day of flu symptoms. Some asthma now after I’m negative \\n@anothertwit3 : @tommy_edwin1212 Glad to hear that, except for the asthma of course. \\n@tommy_edwin1212 : @anothertwit3 Yeah, I can deal with that based on previous experience. 😎 \\n@Napir9 : @tommy_edwin1212 Happy for you.\\n I\\'m still testing positive. It\\'s been two weeks. 🤨\\nOnly fatigue &amp; slight cough. But nothing else. I guess vaccines were a big help! \\n@Napir9 : @tommy_edwin1212 @Lorraine_Grant Same.  Buy I\\'ve got asthma anyway. 🤷\\u200d♀️ \\n@tommy_edwin1212 : @Napir9 @Lorraine_Grant I haven’t had an asthma like situation since about 1989. That’s what makes this interesting. 😳 \\n@Napir9 : @tommy_edwin1212 @Lorraine_Grant I\\'ve been on albuteral inhaler for years.  It seemed to help through this covid strain. I believe I had a mild version  but it\\'s lingering on. Exhausting!🙄\\nHope you\\'re feeling better. \\n@tommy_edwin1212 : @Napir9 @Lorraine_Grant Thanks. I’m doing okay 😎 \\n@Emma_Frost_xoxo : @tommy_edwin1212 not pregnant!! Oh wait wrong test...yay no covid!!!!!  That looks just like the $1 pregnancy tests 🤣 \\n@tommy_edwin1212 : @Emma_Frost_xoxo I just look pregnant 😂😂😂 \\n@Emma_Frost_xoxo : @tommy_edwin1212 Lol \\n@phylogenomics : First, I briefly gave an introduction to me :\\n\\n2/n https://t.co/JiF8wpwZNf \\n@phylogenomics : Following up on this I thought I would share the slides I used for my presentation to @Chancellor_May and his leadership group a few weeks ago with my thoughts on the @ucdavis current #COVID response. \\n\\nhttps://t.co/yKRYU1Gugd\\n\\n1/n https://t.co/vD0Cpb795f \\n@phylogenomics : Then I discussed how the initial 1-2 years of COVID actions from @ucdavis were considered really excellent by me and many of my colleagues \\n\\n3/n https://t.co/ZDpTDD5WKN \\n@phylogenomics : And then I showed my big list of areas / topics of concern:\\n\\n5/n https://t.co/CHTYMH2pyI \\n@phylogenomics : Then I discussed how I, and many many many people from @ucdavis that I had talked to, felt like @ucdavis had not been doing as well in COVID responses recently\\n\\n4/n https://t.co/5IcSZ2YQQK \\n@phylogenomics : I then highlighted 7 of these concerns and we spent a bunch of time talking about these \\n\\n6/n https://t.co/uEqAgXqygm \\n@phylogenomics : We spent less time talking about the other concerns but I did mention them \\n\\n7/n https://t.co/ZgUlb3t6CS \\n@phylogenomics : And then I ended with some suggestions as to actions that could be taken:\\n\\n8/n https://t.co/FRhbYd4IC5 \\n@phylogenomics : I also emphasized that I felt it was important to make decisions using the best scientific information and I felt that some of the communications I had seen recently from @ucdavis did not seem ideal in terms of the science being referenced 10/n \\n@phylogenomics : Overall, the discussion we had was pretty reasonable.  I accepted that I might not agree with them on all their decisions but emphasized many times that I thought we (i.e., @ucdavis) could do better in many areas 9/n \\n@phylogenomics : We discussed some of those issues too. Overall I felt that the people at the meeting were receptive to at least considering that things could be done differently - though (of course) no commitments were made 11/n \\n@phylogenomics : I note - I have EXTENSIVE notes on most of the topics I discussed and will be trying to share these at some point but for now at least wanted to get the big picture / topics out there 12 /n \\n@phylogenomics : And thanks to the many many people from @ucdavis who gave me feedback and suggested areas of concern to discuss \\n@emilross76 : @phylogenomics @Chancellor_May @ucdavis Did you talk about indoor air at all? \\n@phylogenomics : @emilross76 @Chancellor_May @ucdavis Yes - see “ventilation and filtering” on bigger list \\n@GrantAcosta5 : @phylogenomics @Chancellor_May @ucdavis Did you get the sense that UCD will never go back to implementing an indoor mask mandate again in times of high transmission?  That is the real puzzling part to me. \\n@phylogenomics : @GrantAcosta5 @Chancellor_May @ucdavis I think it is unlikely but I certainly got the sense that chancellor would be open to considering it \\n@ls_pun_dit : @phylogenomics @Chancellor_May @ucdavis You had a DSLR on you? \\n@phylogenomics : @ls_pun_dit @Chancellor_May @ucdavis Heh. Always. \\n@hill0karen : @phylogenomics @Chancellor_May @ucdavis I honestly don’t understand how we no longer have many of the mitigations that were in place last year (indoor mask requirement, mandatory testing etc.) which were so effective at keeping students and faculty in class on a regular basis 🤦\\u200d♀️🤦\\u200d♀️ \\n@LichenBowels : @hill0karen @phylogenomics @Chancellor_May @ucdavis Education is a business. \\n@GrantAcosta5 : @LichenBowels @hill0karen @phylogenomics @Chancellor_May @ucdavis Yes, and a thriving business wants/needs it\\'s employees to be working.  So, it\\'s in the interest of UCD to keep it\\'s employees and students healthy. \\n@LichenBowels : @GrantAcosta5 @hill0karen @phylogenomics @Chancellor_May @ucdavis Unfortunately, no. Tuition is not discounted if you and/or your instructor is out sick. This is a problem with education (and healthcare) being a business: people are wrong about their own best interest and therefore purchase inferior services. \\n@chrisdysonHT : Now I am no Dr of Medicine - but it seems obvious to me that SCHOOLS are the biggest spreader of #Covid. Holidays always see cases drop.\\nNow, Schools CAN\\'T close to stop this BUT with Winter coming, schools having the longest term - we need a PLAN A today.\\nhttps://t.co/ARXzkznUeB \\n@julie_trudgill : @chrisdysonHT Mmm but I never got it at school and I have just got it in Majorca! It is far from over \\n@chrisdysonHT : @julie_trudgill Hope you are ok Julie x \\n@julie_trudgill : @chrisdysonHT Thank you! Blinking cough and have been really sick, was glad to get home and take a test as was worried I had something bad! It got me when I was least expecting it! I really thought I was immune! \\n@lisabear1974 : @chrisdysonHT It’s been two years and the government have never had a plan when it came to schools! What’s going to change this winter?! 🤷\\u200d♀️🤷\\u200d♀️ \\n@chrisdysonHT : @julie_trudgill Well you rest well Julie X \\n@chrisdysonHT : @lisabear1974 You are correct - what was I thinking ... we will stick with the good old \\'fingers crossed\\' routine ... oh and opening the windows to let out the rather cheap heating we pay for \\n@lisabear1974 : @chrisdysonHT It’s just so scary, food banks will be a thing at our school and that shouldn’t be happening in 2022. \\n@mrsteachme : @chrisdysonHT It\\'s ok, keep the windows open &amp; just increase our energy costs further! 🤦\\u200d♀️ \\n@chrisdysonHT : @akelahall @mrsteachme And in July all that did was to let 40 degrees heat into the building \\n@Karen41433759 : @chrisdysonHT Schools can\\'t close this winter because they may be the only warm place that some children have 😕 \\n@chrisdysonHT : @Karen41433759 Not with the windows open \\n@RonKlopfanstein : Since I’m in that golden period when summer school ends and a week before college and middle school begins, I just had my #COVID 2nd booster and my 1st shingles vaccine. #SummerFun 😕🙄 \\n@michelemccarrol : @RonKlopfanstein I’ve had shingles a couple years ago, mild case , caught it right away . I’m afraid of that vaccine , let me know how you do. \\n@RonKlopfanstein : @michelemccarrol I’m afraid of the vaccine too TBH. But, every time I get overtired or overstressed I have a little shingles outbreak, so I figured I’d might as well take the plunge and do it. \\n@michelemccarrol : @RonKlopfanstein My Doc keeps offering it to me and so scared of getting sick , I had a small outbreak but I was sick with fever …well since your doing it …I think I’ll say yes in October my next ck up . \\n@RonKlopfanstein : @michelemccarrol I will let you know how it goes. Hopefully I will wake up tomorrow feeling fine. I keep seeing those commercials and I always think to myself I just need to do it. \\n@michelemccarrol : @RonKlopfanstein 👍🏼 \\n@miazga_s : @michelemccarrol @RonKlopfanstein I had Major issues with singles vaccine. Still unable to use arm…. Poorly trained pharmacist gave in wrong place ( to high up on arm) \\n@RonKlopfanstein : @miazga_s @michelemccarrol Jeez! Mine was done by the pharmacist. I am worried about stuff like that too. \\n@michelemccarrol : @miazga_s @RonKlopfanstein Oh that’s terrible …sorry that happened to you . \\n@Mama_Cougar : @michelemccarrol @RonKlopfanstein Get it. The series is not fun but I had recurring shingles in my mouth, throat and inner ear that were absolutely miserable. The Vax has dramatically reduced my recurrences. \\n@michelemccarrol : @Mama_Cougar @RonKlopfanstein I’m going to do it …thanks for this . \\n@curexcomplex : @RonKlopfanstein I had an awful  case of the shingles 5 years ago. Still on meds for the permanent nerve damage it caused. My left arm is weak now, I sometimes struggle to lift heavy things with it etc. Still raging that the UK didn\\'t offer the chicken pox vaccine I could have avoided this all. \\n@RonKlopfanstein : @curexcomplex Wow. I’m glad I got the vaccine. The UK doesn’t vaccinate for chicken pox? \\n@curexcomplex : @RonKlopfanstein Nope. Which is unreal because if you prevent kids getting the chicken pox you stop them getting shingles in later life. Shingles vaccine is available to over 70s. Chicken pox was considered not cost effective to be added to routine childhood vaccination. \\n@RonKlopfanstein : @curexcomplex Wow. I’m surprised about that. Chicken pox is awful. It’s too bad people have to get it unnecessarily. \\n@JoannRossi3 : @miazga_s @michelemccarrol @RonKlopfanstein I’m so sorry!❤️one of my friends when she got her first round of shingle shot she got very sick . High temp!\\U0001f972 \\n@RonKlopfanstein : @JoannRossi3 @miazga_s @michelemccarrol Wow. Maybe it’s better I didn’t know that in advance. \\n@JoannRossi3 : @RonKlopfanstein @miazga_s @michelemccarrol I still should get mine.🤦🏻\\u200d♀️🙏 \\n@RonKlopfanstein : @JoannRossi3 @miazga_s @michelemccarrol I’ll post about how/if it effects me. \\n@michelemccarrol : @RonKlopfanstein @JoannRossi3 @miazga_s For sure \\n@miazga_s : @michelemccarrol @RonKlopfanstein Thank you. They just went to high up on my arm. They call it SIRVA. They should not stand and give you injection if you are seated. It is more likely to be injected Into bursa and not muscle. \\n@michelemccarrol : @miazga_s @RonKlopfanstein That makes perfect sense … omg so you have a form of bursitis now ? \\n@miazga_s : @michelemccarrol @RonKlopfanstein Frozen shoulder. Lots of pain for a few months. Inability to dress/ put on coat without assistance. SLOWLY getting better. In the grand scheme of things… I can’t complain. I have not had shot 2 yet. \\n@michelemccarrol : @miazga_s @RonKlopfanstein That’s just terrible . But could happen with any injection ? Not just the shingles vaccine ? \\n@RonKlopfanstein : @michelemccarrol @miazga_s I am glad the pharmacist who injected me was sitting down. I never thought about that before. I never got vaccines the whole time I had CFS until I got the COVID vaccine. I don’t think I would get a flu shot though. It doesn’t seem worth the risk. \\n@michelemccarrol : @RonKlopfanstein @miazga_s Ive gotten the flu shot the last three years … no reaction at all . Shingles vaccine seems way more likely to cause you to be sick ! \\n@RonKlopfanstein : @michelemccarrol @miazga_s I wonder if we’ll need monkeypox vaccine soon? \\n@michelemccarrol : @RonKlopfanstein @miazga_s Omg say it isn’t so … how about polio boosters too ! \\n@RonKlopfanstein : @michelemccarrol @miazga_s Right. Jeez. All that stuff, even COVID, would probably be a thing of the past if not for anti-vaccine people. \\n@michelemccarrol : @RonKlopfanstein @miazga_s That’s the whole problem 😡 \\n@RonKlopfanstein : @michelemccarrol @miazga_s Yep. So true. It makes me so angry. \\n@michelemccarrol : @RonKlopfanstein @miazga_s These people that don’t understand “for the greater good” are selfish to the nth degree . \\n@miazga_s : @michelemccarrol @RonKlopfanstein Exactly!!!! One issue is the shingles vaccine is one of the few you can not get any compensation for post injection issues. The  parent company does not contribute to fund that handles SIRVA issues. Most other vaccine manufacturers set aside a small amount from each shot \\n@michelemccarrol : @miazga_s @RonKlopfanstein Wow how interesting ! \\n@RonKlopfanstein : @michelemccarrol @miazga_s I didn’t know that either. \\n@miazga_s : @RonKlopfanstein @michelemccarrol I did not know any of it until I had an issue. I have gotten many vaccines in my right arm since then in preparation for Guatemala trip. I get nervous every time. My shingles vaccination was in November 2021 in left arm \\n@michelemccarrol : @miazga_s @RonKlopfanstein Guatemala ! Holy cow , lots of pics please . Any special reason for this trip ? \\n@miazga_s : @michelemccarrol @RonKlopfanstein My daughter saw on TicTok a Volcano hike. You spend night up there. We were all going to go, but husband hurt knee. Daughter went. We (husband and I) plan to go in October . Side trip to Tikal to see Mayan Ruins https://t.co/dFUtcqL4k0 \\n@michelemccarrol : @miazga_s @RonKlopfanstein So beautiful ! You are very brave … I’m a Hilton room service kind of girl ! \\n@michelemccarrol : @miazga_s @RonKlopfanstein I’m going to Vegas in October , that’s almost the same … right ? 🤣 \\n@miazga_s : @michelemccarrol @RonKlopfanstein I’m a bit nervous. it is a hard hike. We will see🤪 \\n@michelemccarrol : @miazga_s @RonKlopfanstein I’ll be pulling for you 👍🏻 \\n@anmifis : @curexcomplex @RonKlopfanstein Not true. My youngest got chicken pox at 9 months which put him at higher risk of developing shingles before age 5, which I discovered when he developed shingles age 4 \\n@curexcomplex : @anmifis @RonKlopfanstein Thats literally what I just said, preventing kids getting the chickenpox prevents them getting shingles. The converse is true,  younger they get cpox the higher the shingles risk, this i mostly due to the fact their immune system is not fully developed until they\\'re about 2ish. \\n@anmifis : @curexcomplex @RonKlopfanstein Yes I realized I messed up but couldn’t figure out how to fix it \\n@curexcomplex : @anmifis @RonKlopfanstein The UKs choice not to vaccinate is insane, though theres not much of a push because people dont realise there is a vaccine. I had it at 4 months old, had singles twice. Really not worth the hundred quid or so the vaccine would have cost the system. Its a fallacy really. \\n@anmifis : @curexcomplex @RonKlopfanstein It’s surprising. Australia adopted it later than the US but it’s been on the schedule there for many years now \\n@canteach : So I’ve never been diagnosed with #Covid. No symptoms. Always tested negative. I’ve suddenly developed shortness of breath with exertion. Could it be Covid related? Is there a way after 2 vaccinations and 2 boosters to tell if I’ve had it? \\n@FuzzyWuzzyTO : @canteach Oh dear, I’m sorry. I hope it’s quick and mild. \\n@canteach : @FuzzyWuzzyTO It may just be that I’m fat!! 😂 \\n@FuzzyWuzzyTO : @canteach Bah! \\n@deb_morris12 : @canteach There is an antibody test you can get to tell if you’ve had Covid. You can get it at the drug store or you can get an at home antibody test \\n\\nhttps://t.co/5a4VK7j591 \\n@canteach : @deb_morris12 Thanks!! \\n@canteach : @deb_morris12 Ordered a couple. \\n@ChristyCeeCK : @whosthatguurrrl @canteach I think the most important thing right now is the symptom. Causes can be figured out and it might very well be relatively innocuous but I would make an appointment. \\n@canteach : @ChristyCeeCK @whosthatguurrrl Thanks, everyone. I\\'ll be making an appointment! \\n@dianemariereid : @canteach Sounds more like asthma. \\n@canteach : @dianemariereid Oooh. Never thought of that. \\n@myrabatchelder : Our government could save lives from #COVID and #LongCOVID.\\n\\nAllowing uncontrolled large community spread is a policy choice. \\n\\nOur government is choosing not to put in place more COVID prevention policies. This in effect prolongs the pandemic. \\n\\nMore people should be angry. \\n@DissentFu : @myrabatchelder Its literally democide. Covid impacts low income households the most. \\n\\nI do not understand how/why we are all just accepting this. Especially now that kids are back in school. \\n@WrennHill : @myrabatchelder Question: if you inject yourself with mrna, which programs your cells to make spike proteins, how much spike is produced? More than the avg covid infection? How long do your cells make spikes? \\n\\nSpike Proteins are toxic to humans &amp; are rumoured to cause long covid. \\n@WrennHill : @DissentFu @myrabatchelder Speaking of kids, these vaccines are still in trial phase to test for safety amongst other things. \\n\\nHere\\'s Pfizer:\\nhttps://t.co/dFNAxkJNFm\\n\\nHere\\'s Moderna;\\nhttps://t.co/P0xrIHeC0g https://t.co/IDtF8wrP8C \\n@Renmarkable1 : @myrabatchelder sadly Australian government is now working hard at assisting covid .. \\n@myrabatchelder : Living in apartment building it\\'s amazing to watch how many more people wear a mask when there\\'s a sign posted on door saying \"Masks Required.\" \\n\\nSuch a simple thing like a masks required sign can save lives from #COVID &amp; #LongCOVID. \\n\\nMore spaces should take action to save lives \\n@SalingerGita : @myrabatchelder @BruceVConway Honestly, more and more I think that people (not the freedumb convoy people, just people) need a mask mandate to give them the EXCUSE to wear a mask. When a certain place requires or even just expects it, it happens. People need to be able to low grade complain: 1/2 \\n@SalingerGita : @myrabatchelder @BruceVConway \"Oh gods we have to wear a mask here, right\" as they put it on. Like people grumble about going to work on Monday. They don\\'t mean it. People don\\'t want to be unemployed when they say that. People don\\'t want to be sick. But we are a SOCIETY.  We need gov\\'t guidance. \\n@BruceVConway : @SalingerGita @myrabatchelder I was thinking, it\\'s all an IQ test.  Smart people will survive, because they know that masks work.\\n\\nThe deliberate not-wearing of masks is just another way of saying \"I\\'m stupid.\" \\n@SalingerGita : @myrabatchelder @BruceVConway 3/4 increasingly I feel we\\'ve lost the plot. We have it backwards. Covid precautions are to AVOID a \"lockdown\". Also those rules make it possible for someone who is not interested in Covid to do the right thing. I don\\'t care about seatbelts. I do it because society requires it \\n@SalingerGita : @myrabatchelder @BruceVConway 4/4 the ENTIRE point of govt making rules is to make the place liveable. The average citizen should be released from Covid concern by a sensible govt policy. Not, every man for himself. What are we? Lord of the Flies??? We need sensible rules. So we can think about other things. \\n@BruceVConway : @SalingerGita @myrabatchelder Yes, seatbelts are a good analogy. In a sense, also, it has to become our \"way of doing things\" from here on; \"something we do here\", to help each other. \\n@SalingerGita : @BruceVConway @myrabatchelder But it\\'s wrong. Uninformed people should live happily, too. And we\\'d all be happier if we could move on and not get sick and argue. Each person shouldn\\'t have to make a huge decision every time they leave their house. We need a govt policy that acknowledges WHERE WE ARE. \\n@SalingerGita : @BruceVConway @myrabatchelder I feel strongly we need public policy precisely so the uninformed and disenfranchised aren\\'t so angry all the time. I remember yelling at my phone when @fordnation said he wanted no rules so \"we wouldn\\'t have a divided society\". He\\'s not the brightest, and has that worked?  No. \\n@scott_squires : @SalingerGita @myrabatchelder @BruceVConway 60-70% of people open to masking before @CDCDirector destroyed that concept. Just in a nudge of a sign or a few others masking would get a few more to do so \\n@WrennHill : @myrabatchelder N95 masks aren\\'t even recommended for working with asbestos. If you\\'re really concerned about infection control, you should be wearing this: https://t.co/dusRu1ZGWt \\n@WrennHill : @myrabatchelder Question: if you inject yourself with mrna, which programs your cells to make spike proteins - How much spike is produced? More than the avg covid infection? How long do your cells make spikes? \\n\\nSpike Proteins are toxic to humans &amp; are rumoured to cause long covid. \\n@BryanWi62261195 : @WrennHill @myrabatchelder I will ask my GP \\n@WrennHill : @BryanWi62261195 @myrabatchelder Your GP who is gagged by AHPRA? Your GP who was told that if they say anything negative about the vax they risk investigation &amp; possible de-registration? Great strategy. Good luck to you. \\n@Shoobydoowoo : @myrabatchelder @TogetherWeMask I really underestimated how many people need to be told what to do \\n@MsJulieSLam : @myrabatchelder @TogetherWeMask In my building, we lost a 39-year-old worker to #COVID, even then, the workers ignore the CDC\\'s recommendation of indoor masking. The second the mandate was lifted, the building became maskless. \\n@TogetherWeMask : @Shoobydoowoo @myrabatchelder Telling is not enough. The general public needs to be convinced. We need awareness. Science facts simplified and presented creatively to reach people of all ages. PSA on TV and social media over a long time. We need talented artists. Mandates alone won\\'t work! That\\'s the reality. \\n@leftyvegan : @Jerome34568655 @small4lyfe @GaryGoodson17 @tmprowell It\\'s not approved because it\\'s only been out a short while. Emergency use authorization is the first step in the approval process, &amp; is based on only the first 3 months of clinical trial data. Pfizer didn\\'t get full approval until 8 months after EUA, &amp; Moderna was almost 1 year. \\n@Jerome34568655 : @leftyvegan @small4lyfe @GaryGoodson17 @tmprowell I guess I’m questioning why the EUA: no one believes there is an “emergency” anymore. Even CDC doesn’t give updates anymore and they have totally relaxed restrictions. \\n@GaryGoodson17 : @Jerome34568655 @leftyvegan @small4lyfe @tmprowell I still think many people were fooled when Comirnaty was approved but made unavailable - at least in the US. The bait and switch. Now most have forgotten the distinction.\\nAnd most people still believe the media - that was given billions by Gates to print/state the party line. \\n@myrabatchelder : We are destroying ourselves by allowing #COVID to spread uncontrolled with no efforts to prevent transmission.\\n\\nPeople are just living in denial until they too get sick, and then they reach out to those of us already sick with #LongCOVID and ask for help. \\n@myrabatchelder : Every week it feels like someone else I know or am connected to reaches out about trying to find help for themselves or friend or loved one who now has serious health issues, hearing loss, brain problems, heart issues, had a stroke, got diabetes, +/or more after COVID. #LongCOVID \\n@sarnib05 : @myrabatchelder Hubby tested positive Saturday, forced to go to work or be fired. The rest of house became sick on Monday. It has been awful and kid is still pretty ill. Tests are still a strong positive. \\n\\nOne person in the house drops the ball, everyone goes down. 😷 are so important. \\n@myrabatchelder : @sarnib05 I\\'m so sorry. I hope you and your family all get better soon! \\n@sarnib05 : @myrabatchelder Thank you! \\n@myrabatchelder : And a note that a lot of people having health issues from #COVID and #LongCOVID are not sharing that info with most people in their lives! Just because no one you know has **has told you** they\\'re experiencing this, that does not mean that they aren\\'t. Stigma is horrible. \\n@MollieMthecat : @myrabatchelder I feel a lot of poor souls who will get long covid believe there is treatment plus a lot of people with long covid ask #pwme about treatment. Once you get chronic post viral , it\\'s usually down to on your own. \\n@bourbon8888 : @myrabatchelder Yes &amp; unfortunately they are seeking treatment that fixes them quickly. I don’t think most are ready for navigating &amp; tirelessly trying diff things that help including medical, lifestyle changes, diet, sleep.  That it’s a job- requires advocacy, tenacity, patience &amp; time. \\n@AndrewG76201347 : @MollieMthecat @myrabatchelder My friend with new lc (a few months in) still has this touching faith in proper doctors and medicine. Dismisses any of my supplement / non-gp treatments out of hand. Oh well, sadly she will probably learn. \\n@MollieMthecat : @AndrewG76201347 @myrabatchelder Someone here, and i can\\'t remember who summed it up well. People with ME and LC are shown a door in hospital and it takes you to a corridor leading to a steep drop. Modern medicine is not as sophisticated as it thinks. \\n@chrisms150 : @bourbon8888 @myrabatchelder People are impatient. They want results now. Can\\'t see two steps ahead.\\n\\nIt\\'s why we\\'re in so many messes as a species... \\n@Kat9593 : @myrabatchelder A friend of mine was recently “surprised”  that she and her husband got Covid after flying. UNMASKED. \\nI don’t even know what to say anymore. \\n@Lisahistoryhou1 : @Kat9593 @myrabatchelder Complete and utter wilful ignorance. \\n@vic_yarrington : @MollieMthecat @myrabatchelder The existence of long covid clinics makes people assume there is treatment/cure. After 6m wait colleagues &amp; I all hoped that once in I’d be given The Treatment. Everyone shocked to be told - nothing we can do. Just stop trying to work and rest. \\n@vic_yarrington : @MollieMthecat @myrabatchelder 1/2 I’d struggled on until then, working a few hours, getting worse &amp; worse, hoping to eke out sick pay until I got to clinic &amp; treatment. At start of clinic I was advised to stop work during treatment. Colleagues &amp; I assumed some rehab &amp; meds programme &amp; I’d be back in 6 weeks. \\n@Renmarkable1 : @vic_yarrington @MollieMthecat @myrabatchelder may I ask how are you going now? \\n@vic_yarrington : @MollieMthecat @myrabatchelder 2/2 no one knew what happened at the long covid clinics but we assumed cutting edge science. Met some colleagues after 6 weeks all asking ‘you better now, what was the treatment, new drug?’ (Note - we work in science) &amp; all very sobered to realise truth. There is nothing. \\n@vic_yarrington : @Renmarkable1 @MollieMthecat @myrabatchelder Thanks, some symptoms slightly better but some things continuing to get worse &amp; new symptoms appear. In last month I have lost my previously fluent second language and the ability to read/play music, completely gone 🤷\\u200d♀️  Quite common apparently \\n@Renmarkable1 : @vic_yarrington @MollieMthecat @myrabatchelder yes, I was reading someone else\\'s experience being similar.\\nmay I ask how many times do you think you had covid,?\\n( no judgement, merely curiosity) \\n@vic_yarrington : @Renmarkable1 @MollieMthecat @myrabatchelder Twice. First time early in pandemic, had some lingering symptoms after but was still able to do sports and work like crazy in later 2020/2021 and then second time in September 2021 and didn’t really recover that time \\n@bourbon8888 : @chrisms150 @myrabatchelder Yep- 1 longcovid friend of friend asked what I do as 4.5 yrs post viral - already eating clean but went further to primarily veg, no food after 4pm, then 7pm cuz poor digestion. chix/Turkey &amp; other meats some days =nausea+indigestion. He tried for a month- nothing chged so quit🤦🏻\\u200d♀️ \\n@MollieMthecat : @vic_yarrington @myrabatchelder I\\'m so sorry this happened to you. I\\'ve spent thirty years bouncing round doctor\\'s offices and there is no answers. However don\\'t ignore new symptoms or worsening symptoms and ask for more tests if that happens. Take care\\n X \\n@69L46 : @myrabatchelder If only we had a public agency to identify risks and mitigation strategies and another to coordinate rolling those out to everyone.\\n\\nImagine that these agencies weren\\'t run by political appointees like the @CDCDirector and @Surgeon_General who actually care about Puboic Health \\n@mskathleenquinn : @Kat9593 @purplediscomove @myrabatchelder I do understand what you’re saying but my guess is that they didn’t know up until then that vaccination didn’t protect them from infection and they had heard the pandemic is “over”.  A lot of people think government would surely require masks on planes if it was unsafe. \\n@mskathleenquinn : @Kat9593 @purplediscomove @myrabatchelder (or maybe they were recently infected and were surprised it was possible to get re-infected? There is so much information people have heard.) \\n@mskathleenquinn : @Kat9593 @purplediscomove @myrabatchelder typo *mis*information \\n@myrabatchelder : Another key reason masks are so important! Tons of you all are out there spreading #COVID to other people without even knowing you have it!\\n\\n\"Over half of people infected with the omicron variant didn\\'t know it, a study finds\"\\n\\n#WearAMask\\n\\nhttps://t.co/vgz8THvx12 \\n@myrabatchelder : Your initial COVID case may be mild, but the person you infect who is at higher risk may die. #HighRiskCOVID19 \\n\\nAnd **everyone** is at risk of #LongCOVID, even YOU. \\n\\nAnd your second or third or fourth COVID infection may be much much worse.\\n\\nWear. A. Mask. \\n@sarnib05 : @myrabatchelder It takes just one time forgetting or just not wearing a 😷 to harm a loved one.\\n\\nI\\'m here in my kids room where I\\'ll sleep on the floor till hubby gets home, then he will sleep on the floor, as kid is having a hard time coughing up the phelgm. \\n@tmprowell : When #COVID19 #vaccines first became avail, some decided to wait &amp; see on safety. More than 12.5 BILLION doses have been given globally, &amp; safety has been excellent. The virus has killed millions around the world, incl &gt;1M in US alone. Vaccine is safer than virus by a landslide. https://t.co/08GoScmSqo \\n@texashodl_em : @tmprowell My father in law who was quad vaxed just died last month 100% due to COVID pneumonia. Can we all just admit it isn’t some magic bullet for this disease? Maybe it’ll help you, maybe it won’t. That’s about as good as we can guarantee. \\n@Mr_NoTyrants : @fiddlestix007 @tmprowell @nickmmark It is August 2022 and we have talked about VAERS since January 2021 and you still do not understand the system… sigh \\n@fiddlestix007 : @Mr_NoTyrants @tmprowell @nickmmark Gotta block ya.\\nYou live in a cave or you’re a paid BioHarma troll.\\nMulti sources show massive injury and death. Never seen anything like it. \\n@small4lyfe : @fiddlestix007 @Mr_NoTyrants @tmprowell @nickmmark VAERS does not prove a link between vaccines and adverse effects, as their site\\'s disclaimer clearly explains \\n@small4lyfe : @texashodl_em @tmprowell No vaccine ever created is 100% effective for 100% of people\\nCovid vaccines have proven to be highly effective and have saved millions of lives\\nI am very sorry about your father-in-law \\n@UNICEFROSA : Happy days and happy to be #vaccinated! ✌️ \\n\\nThese young students in India couldn’t wait to get vaccinated.\\n\\nThey are thrilled to be back in school and now backed by the protection of their first COVID-19 vaccine – they\\'ve already marked their calendars for their second dose! https://t.co/4QMXER0ODJ \\n@GaryGoodson17 : @UNICEFROSA These affected soldiers would probably disagree:\\n\\nhttps://t.co/JBR3Ac0Baf \\n@chocolatemani12 : @ELHopkins @JohnnyA47334786 I can’t even get patients to keep a mask on, it’s depressing how people care so little for each other \\n@ELHopkins : @chocolatemani12 @JohnnyA47334786 It’s all been politicised sadly. It is really disappointing. \\n@eBayGuarneri : @ELHopkins Two days after a hospital appointment, I discoverer I have no sense of taste.\\nSick if you don\\'t go\\nSick if you do \\n@jo_woods11 : @ELHopkins My hospital @NNUH and surgery group @nandwics still have mask mandate but I fear they won\\'t for much longer. So my message to them is: PLEASE consider your vulnerable patients and keep 😷 mandatory in ALL areas now and throughout winter (Covid hangs around in corridors too!) \\n@DZephirine : @ELHopkins Bart\\'s, which is a Centre of Excellence for cancer and heart patients, has kept mandatory face masks and everyone is continuing to wear them in an atmosphere of safety and calm. \\nFor me as an immunosuppressed person, that\\'s what \\'excellence\\' means. \\n@kimisgubbed : @ELHopkins My thoughts entirely. It\\'s a shame @NHSGGC seem OK with so many maskless visitors and receptionists in Glasgow Royal Infirmary and Stobhill hospital. I\\'ve an appointment at the Queen Elizabeth on Monday and not expecting any better (you access outpatient dept through busy cafe)🙄 \\n@sarahsea : @kimisgubbed @ELHopkins @NHSGGC Agreed. I’m a regular inpatient in the QEUH; thankfully I haven’t needed to go in since they lifted the mask policy, but @NHSGGC should know that I’m living in fear of having to go back. I’m not even sure I could risk going into hospital right now, no matter how sick I was. \\n@LFCwisdoms : @ELHopkins I agree 100% that vulnerable patients should not be put at risk in a place that should be 100% safe!\\n\\nEverone is at risk in hospitals without masks not just the vulnerable. That\\'s the most important message. People need to protect themselves which in turn protects the vulnerable. \\n@ELHopkins : @LFCwisdoms Absolutely! \\n@ELHopkins : @kimisgubbed @NHSGGC Yes it’s not good at all. \\n@ELHopkins : @jo_woods11 @NNUH @nandwics 💯 It will help keep patient numbers down and catch up on the waiting lists. \\n@LittleGreyRab : @eBayGuarneri @ELHopkins Hi Both. Came across this research over the summer. We took Cetirizine plus a probiotic w/ Lactoferrin in it and all 4 of us were barely ill at all. Suggestion is the combination prevents replication.. Worth a try as anti-Hs &amp; LF available online or OTC https://t.co/TGBUGBy3zS \\n@AlexJTudor : @ELHopkins My wife had to attend local surgery for blood test last week. She’s a cancer patient. We’ve taken great care not to mix with many people and seen few family/friends since this all began. The nurse taking her blood wasn’t wearing a mask. Complaint submitted🙄 \\n@sarahsea : @kimisgubbed @ELHopkins @NHSGGC It’s discrimination, quite honestly. Surely this is a breach of the Equality Act? Immunocompromised people are having totally unreasonable burdens put on us (and us alone) when trying to access vital medical care. How is that fair, equitable or “protecting the vulnerable”? \\n@ELHopkins : @sarahsea @kimisgubbed @NHSGGC It’s not at all fair! \\n@ELHopkins : @LittleGreyRab @eBayGuarneri 👋 Hi 😊 Thank you for this, that’s great! \\n@Lunar2822 : @ELHopkins We are all wearing masks on the ward I work on. \\n@ELHopkins : @Lunar2822 That’s good to hear Michelle 😊 \\n@ELHopkins : @AlexJTudor So sorry Alex, it’s so unfair and stressful enough to be unwell without the added concern from covid. \\n@ELHopkins : @DZephirine That’s fantastic! Well done to them! \\n@ELHopkins : @eBayGuarneri So sorry to hear that! Hope you get well soon! \\n@LittleGreyRab : @ELHopkins @eBayGuarneri What I haven’t bottomed out is if you really are preventing replication + a higher viral load - are you also preventing/reducing the long-term damage to your immune system that #Immunology Twitter are worried about re Variants 4 &amp; 5? You’d have to hope.. \\n@mjkitten1 : @ELHopkins Agreed, but please can we add GP Practices and Dentists too please! \\n@ELHopkins : @mjkitten1 Yes please!! I think dentists are one of the most crucial places. \\n@mjkitten1 : @ELHopkins I would personally like to go back to everyone having to wear masks everywhere! \\n@ELHopkins : @mjkitten1 Me too! What’s the big deal? If they then installed #CleanAir we could get cases down so we wouldn’t have to wear them all the time with really low cases. \\n@ProfessorIgnima : @ELHopkins @LCWF_TBK Seems like an awfully long shot considering what is now mainstream 😡 https://t.co/BEHa1b5Inx \\n@mjkitten1 : @ELHopkins This country has gone mad, and out of control.  Any government won\\'t mandate masks again, as there would be too much resistance from the covidiots...  And as for #CleanAir , they have had the whole summer to install at least in schools, that\\'s going well isn\\'t it... \\n@ELHopkins : @mjkitten1 They don’t seem to care about upsetting the rest of us though. Yeah so well… \\n@princessGCJ : @ELHopkins My drs have asked everyone to wear masks 😷 again \\n@ELHopkins : @princessGCJ Good for them! 😊 \\n@T_A_Brown_59 : @ELHopkins I am lucky, my local NHS Trust requires facemasks to be worn when inside the buildings. \\n@ELHopkins : @T_A_Brown_59 That’s great! \\n@SueHussey3 : @ELHopkins I\\'m now in the CV category, what a time to have an autoimmune disease 😞 A rare condition affecting the brain or nerves (multiple sclerosis, motor neurone disease, Huntington’s disease or myasthenia gravis) the latter condition. \\n@ELHopkins : @SueHussey3 Sorry to hear that Sue. There is a lovely  support group @cv_cev also on fb. Wear a good mask ffp3. Take care x \\n@SueHussey3 : @ELHopkins @cv_cev Thank you and I\\'ll have to get one of those masks x \\n@GrumpyoldGould : @ELHopkins I have done &amp; complained to the Chief Exec, Infection Control &amp; PALS. They concede that masks will be worn in my small infusion room BUT won\\'t supply tympanic thermometers or guarantee open windows or hepa filters. \\n@ELHopkins : @GrumpyoldGould I just can\\'t understand why someone can\\'t open a window. Glad there will be masks at least in the small room. I think the more of us that keep writing, hopefully the better things will get. Good for you Julie! \\n@princessGCJ : @ELHopkins I know was really pleased went in thur and they’d written “ due to high covid levels please wear a mask “ \\n@ELHopkins : @princessGCJ That’s great! Very sensible 😊 \\n@princessGCJ : @ELHopkins Very \\n@ka_ashy : @LittleGreyRab @eBayGuarneri @ELHopkins Annoying comment at the end (paraphrased)“don’t try this as a treatment. The type of Lactoferrin was not what is usually available OTC” \\nWhy not research the type that IS available? \\n(Since it’s not a risky thing, I think I will be trying it if I get infected. Already have some!) \\n@VeniceLaura : @ELHopkins @BionicBirdAnna Know someone who recently died of hospital acquired COVID - went in with a broken bone. So much unnecessary suffering. \\n@BionicBirdAnna : @VeniceLaura @ELHopkins That\\'s miserable 😕 💔 \\n@BionicBirdAnna : @VeniceLaura @ELHopkins Royal Berkshire Hospital (local A&amp;E) don\\'t have a mask policy... the hospital where I\\'m treated for my RA, the Nuffield Orthopaedic Centre does. I don\\'t understand why it\\'s not mandated across the whole NHS! I\\'m CEV. Where do I go if I need urgent medical help?! \\n@LittleGreyRab : @ka_ashy @eBayGuarneri @ELHopkins I agree. We took a bovine colostrum product made up of immunoglobulin and lactoferrin - no idea which type - but we really felt what we were doing was helpful. We were just ourselves so weren’t testing all the time - if I had thought it would have been really good to have 1/2 \\n@LittleGreyRab : @ka_ashy @eBayGuarneri @ELHopkins 2/2 tested every day to see how dark/light the line was and how quickly it faded.. \\n@NBeddell : @ELHopkins @Oldboatie @ImperialNHS Some have, some haven\\'t. I work in 2 Trusts, one has a full mask mandate, the other the polar opposite. I still wear on regardless. \\n@politeconverse : @ELHopkins @WendyStringer17 @ImperialNHS Very unwise. Why on earth do staff put up with it? Masks and ventilation/filtration lower high hospital infection spread, plus vaccination booster, all essential faced with ever changing Covid19 as we collectively move to breathe each others out breaths indoors once more! \\n@ELHopkins : @NBeddell @Oldboatie @ImperialNHS It’s all crazy, stay safe! \\n@ELHopkins : @politeconverse @WendyStringer17 @ImperialNHS It’s not a healthy or safe work environment for them. \\n@1taiwantalk : I wondered if the #sars survivors had suffered the same since 2003. \\n@KayLKelley : @1taiwantalk I just read a few studies on it last night. Here is what I searched. https://t.co/gaJix1qiUI \\n@1taiwantalk : @KayLKelley wow, you’re such a good sport! how about that? it’s like infectious alzheimer… \\n@KayLKelley : @1taiwantalk I think this is why I think china is so 0 covid. They been there before. \\n@KayLKelley : @1taiwantalk Now one more thing all the people in my US government that got it...no wonder decisions are so... \\n@dansmith2022 : @natalieben We scrapped any testing or isolation months ago \\n@BlackLabrador10 : @natalieben Zahawi\\'s old school know HEPA filters etc essential to safeguard children &amp; staff https://t.co/SRDPpX6bvD Cleverly lying schools are safe...but how without mitigations? \\nAnother letter, doubtful it will be followed up.\\nWill @TheGreenParty\\nplease speak up for safe schools? T y. https://t.co/CX8xCdAGNe \\n@mla_sudhakar : Covid numbers in Karnataka:\\n▪️New cases in State: 1,713\\n▪️New cases in B\\'lore: 965\\n▪️Positivity rate: 5.33%\\n▪️Discharges: 1,034 (B\\'lore-549)\\n▪️Deaths: 4\\n▪️Active cases in State: 10,452\\n▪️Active cases in B\\'lore: 7,405\\n▪️Tests: 32,130\\n#COVID19 #COVID \\n@satyanand_y : @mla_sudhakar Please close Primary schools immediately from LKG,UKG , Class 1 to 6 \\n@satyanand_y : @mla_sudhakar From school children\\'s are getting infected and from there onwards adults at home with co-morbidity are getting infected. Will you please listen to public atleast to his time ??? \\n@pharmaryaa : @satyanand_y @mla_sudhakar Why? there\\'s no need to close schools and make education suffer elders have vaccines and they can wear mask and keep away from social functions. There are so many people who\\'re not Vaccinated or have not taken 2nd dose.  Complete that first and avoid functions it\\'ll protect them \\n@satyanand_y : @pharmaryaa @mla_sudhakar Let us not bring in vaccination issue. I am talking about kids not elders. Kids are not vaccinated. They are in high risk zone this time. Education should not suffer and not suffered atleast in Bangalore. Schools are fast enough in starting online classes. \\n@LoganEcchols : A woman in the restaurant just removed her n95 and placed it in her reusable ziploc bag. #Science #TheScience #Covid \\n@DrFlarmers : @LoganEcchols That\\'s gotta be moldy. \\n@LoganEcchols : @DrFlarmers Judging by her face I would say you\\'re spot on \\n@outfielding : @LoganEcchols mmm i hope she keeps it somewhere warm for extra mildew growth \\n@LoganEcchols : @outfielding You know she does! \\n@wencam6 : @LoganEcchols I\\'m sure she sealed it so it could fester before she puts it back on \\n@LoganEcchols : @wencam6 She did. \\n@LesliRichone : @LoganEcchols 🤣🤣🤣🤣🤣follow the science eh 🤣🤣🤣🤣🤣 \\n@LoganEcchols : @LesliRichone I wish you had been there with me. You could have joined me in an open mouthed stare followed by the world\\'s longest eye roll. \\n@NoMoMasksLAUSD : From 7/13 to 8/18 #LosAngeles County Hospital\\'s @BradSpellberg &amp; Dr. Paul Holtom have been correcting fake dr Barbara Ferrer @lapublichealth and soothing her #covid fear campaign\\n\\n#FireFerrer #endemic @CDCgov #vaccine\\n\\nDon\\'t sleep, retweet &amp; tag someone that NEEDS this✊ https://t.co/aMNNxogvtg \\n@cathyhobart : @NoMoMasksLAUSD @BradSpellberg @lapublichealth @CDCgov LOVE this!!! Thank you!!! Do you have a link so that I can share it on other platforms??? \\n@NoMoMasksLAUSD : @cathyhobart @BradSpellberg @lapublichealth @CDCgov What kind of link do you need ✊ \\n@cathyhobart : @NoMoMasksLAUSD @BradSpellberg @lapublichealth @CDCgov I just shared the tweet. Do you have a youtube link?? \\n@NoMoMasksLAUSD : @cathyhobart @BradSpellberg @lapublichealth @CDCgov Here you go ✊\\n\\nhttps://t.co/gJo5E1Lq4v \\n@NoMoMasksLAUSD : @Jen_G123 @BradSpellberg @lapublichealth @CDCgov @houmanhemmati @kerpen @Susan_Shelley @KevinForBOS @ianmSC @BillFOXLA @KATYSaccitizen @JasonMcGahan @abc7jovana @_ericting @jeffnguyen @DrJBhattacharya @KevinKileyCA @glenwalkerktla @MarlaTellez @traviscrice @Jen_G123 with the missing names 🙏 \\n@nomandates23 : @NoMoMasksLAUSD @JimSmit95248518 @LACountyParents @AGHamilton29 @cooloboros @nycexpatmom @HermionesFury @andreavhowe @AboutUtla @ALT_lacph @LAUSDSup @observations_b @RealTanMan1980 @FedUpCitizenLA @sarahbeth345 @paulanoukas @CARebelBase @michaeljburry @PLA_Blue_ @mominbayarea It still amazes me that CA would allow the most unhealthy looking human being on the planet to establish health and pandemic protocols. She’s a vision of severe malnutrition. \\n@FedUpCitizenLA : @nomandates23 @NoMoMasksLAUSD @JimSmit95248518 @LACountyParents @AGHamilton29 @cooloboros @nycexpatmom @HermionesFury @andreavhowe @AboutUtla @ALT_lacph @LAUSDSup @observations_b @RealTanMan1980 @sarahbeth345 @paulanoukas @CARebelBase @michaeljburry @PLA_Blue_ @mominbayarea Forget the looks, she’s a freaking liar, fraud, sociopath non-MD! https://t.co/DSX0wREo2B \\n@cathyhobart : @NoMoMasksLAUSD @BradSpellberg @lapublichealth @CDCgov Thank you!!! \\n@NoMoMasksLAUSD : @cathyhobart @BradSpellberg @lapublichealth @CDCgov #FireFerrer ✊ \\n@BobMurphy_007 : @NoMoMasksLAUSD @BradSpellberg @lapublichealth @CDCgov Burn the wicked witch at the stake for ruining the lives of millions of Angelinos with her lies and destroying so many childrens lives forever.  An entire generation! \\n@NoMoMasksLAUSD : @BardavidCarrie @BradSpellberg @lapublichealth @CDCgov @ScottAtLAUSD @LASchoolsNW @LAUSD_LDWest @Kelly4LASchools @LAUSDLDSouth @LAUSD_Achieve @LAUSDSup @lausd_ldc @lausdLDE @LAUSDArts @lausdbd7 @Jackie4LAUSD @lausdbd5 Savage follow up 🙏 \\n@NoMoMasksLAUSD : @BobMurphy_007 @BradSpellberg @lapublichealth @CDCgov A bit extreme, but we’ll spirited\\n\\nMost would be happy with a quiet removal from office\\n\\n#FireFerrer ✊ \\n@daugman : @NoMoMasksLAUSD @RoxanneHoge @BradSpellberg @lapublichealth @CDCgov the animal thing is absurd https://t.co/tJ0MwUrLw6 \\n@daugman : @NoMoMasksLAUSD @BradSpellberg @lapublichealth @CDCgov if you need to report a sick pet, they make it easy https://t.co/SzxbcuibS5 \\n@NoMoMasksLAUSD : @daugman @RoxanneHoge @BradSpellberg @lapublichealth @CDCgov @LACUSCMedCenter The veterinarian hospitals are overwhelmed \\n\\nIt’s a real strain on animal health care services\\n\\n10% of all animals are in the ICU\\n\\nAnd 6% are on a ventilator\\n\\nWishes for peace and healing to all furry friends during this horrific pandemic\\n\\n#FireFerrer \\n@RoxanneHoge : @SurlMudgeon @hamill_law @ScottC20012 @UprisingLa @NoMoMasksLAUSD @daugman @BradSpellberg @lapublichealth @CDCgov @LACUSCMedCenter Getting masks onto those feisty little buggers is a beast! https://t.co/Iq1OAnkXgc \\n@MrBayramPlays : UPDATE still have some pretty bad symptoms but now my mom and sister also have it so that\\'s annoying 😒 sucks that people have it and still decide to go out and spread it bunch of assclowns stay safe you beautiful lot ❤️ #covid #Covid_19 https://t.co/B9CfLoy9Li \\n@RokkShow : @MrBayramPlays Oh no! Hope you feel better real soon buddy. It\\'s not nice :( \\n@hoults86 : @RokkShow @MrBayramPlays Hope you recover fast \\n@makerofchaos12 : @MrBayramPlays I hope you and your family get well soon! \\n@CodexTremeTTV : @MrBayramPlays Get well soon pal.. hope the family are all ok too..\\nNot to rub it in but i still have somehow managed to dodge this thing\\U0001fae4 \\n@ChatStadia : @MrBayramPlays Get Well Soon \\n@MrBayramPlays : @hoults86 @RokkShow Thanks hoults 👍🏻 \\n@MrBayramPlays : @RokkShow It\\'s really not is it thought I was getting better but today and now tonight it\\'s got worse again. Non stop coughing \\n@MrBayramPlays : @ChatStadia Thank you man appreciate it \\n@MrBayramPlays : @CodexTremeTTV Actual footage of you dodging covid 😅 but thanks mate appreciate it. Hope you don\\'t get it as it sucks ❤️ https://t.co/Y58DPiKV9Z \\n@MrBayramPlays : @makerofchaos12 Thank you maker appreciate that 👍🏻 \\n@OldeNaturalist : @profvrr GPs in the UK still routinely prescribe steroids early on, in complete opposition to evidence and Daniel\\'s repeated advice.\\n\\nHas happened to two friends of mine, both of whom I referred to TWIV. Both refused the steroids as a result. \\n@JusDayDa : @profvrr #Reinfections continue to rise with variants. Hopefully Paxlovid and other treatments continue to remain effective with 20-30% of US remaining unvaccinated https://t.co/s6GMECz1zh \\n@BruceSt22513754 : @OldeNaturalist @profvrr And nobody gets #Evusheld because we\\'ve apparently decided there\\'s insufficient evidence for the length of protection against Omicron. \\n@simon_gordon_ : @JusDayDa @profvrr The numbers of reinfections are exaggerated and many people not infected yet at all. Ultimately if people choose to get immunity the dangerous way by infection not a lot we can do. \\n@simon_gordon_ : @OldeNaturalist @profvrr Even worse imho is not even allowing under 5s to vaccinate and not allowing kids the first booster. And of course their delaying child vaccines in the first place. \\n@simon_gordon_ : @BruceSt22513754 @OldeNaturalist @profvrr The problem with a tax funded health service is rules made to fit available budget ! Private has other problems of course \\n@BruceSt22513754 : @simon_gordon_ @OldeNaturalist @profvrr I don\\'t think #Evusheld is excessively expensive and only a limited number of people would get it (half a million or so, I think) and for those people it would change their lives. It feels like some weird miscalculation somewhere. \\n@simon_gordon_ : @BruceSt22513754 @OldeNaturalist @profvrr Oh I agree, Evusheld is perfect for people where vaccination isn’t likely to work well. Also remember for some things just by pausing your other medication during vaccination ensures the vaccine works better (follow Dr advice not me) and vaccine does work for many immune comp \\n@simon_gordon_ : @BruceSt22513754 @OldeNaturalist @profvrr But the uk not allowing boosters for all being slow on child vax not doing under 5s seems like short term cost saving and is bonkers as all those people cause more spread by not being vax \\n@Robthefrosty : @coralgableswang Happy Saturday Christine 🤗😘 some people will never understand it.\\U0001f972 \\n@coralgableswang : @Robthefrosty Hi Rob! Happy Saturday to you as well! Hope you are able to relax this weekend! https://t.co/kbwkU3y144 \\n@JuCaCh8 : @ScottBL68 I too got #novavax in Canada recently and am encouraged to hear you did not get Covid... I\\'ve been wanting to hear from people who share their experiences lost Novavax. For me I had mRNA for first three and recent booster was Novavax \\n@AENAJ5 : @JuCaCh8 @ScottBL68 What’s the benefit of Novavax, please? \\n@resist_breathe : @AENAJ5 @JuCaCh8 @ScottBL68 Novovax addresses omicron variants. \\n@AENAJ5 : @resist_breathe @JuCaCh8 @ScottBL68 What’s the benefit of that over the Moderna bivalent? The latter is what I think will be offered here, where I live, later on this year. \\n@resist_breathe : @AENAJ5 @JuCaCh8 @ScottBL68 That’s beyond my knowledge. I would guess it’s good to get any of the updated ones. The US is only offering novo as a primary series. \\n@geekygenie : @ScottBL68 @mctd_support Glad to hear that! I’ve been waiting for Novaxx for two years. Not yet approved for boosters in the USA. ☹️ \\n@mctd_support : @geekygenie @ScottBL68 My husband and I are thinking about lying to get a Novavax series because personal responsibility. \\n@JuCaCh8 : @AENAJ5 @resist_breathe @ScottBL68 Novavax uses different technology. It has shown to be effective against all variants. It is suggested in other things I\\'ve read its efficacy is strong more broadly. There are people who had bad reactions to the mRNA vaccines that had no adverse reactions to Novavax \\n@JuCaCh8 : @resist_breathe @AENAJ5 @ScottBL68 Oh I didn\\'t know that. I am in Canada and we were allowed to get it as a booster here. Wish it had been available when I got the original series \\n@ScottBL68 : @AENAJ5 @resist_breathe @JuCaCh8 Novavax will continue to be effective against all variants, while the Moderna bivalent is targeting a specific subvariant, which is already obsolete. #Novavax #NVAX $NVAX #COVID #Vaccine \\n@tracy22485777 : @ScottBL68 @mctd_support I\\'m glad for you. However, for me, I’ll stick to mRNA. Many Best in class Scientists have warned me about the vector vaccines. My husband is a transplant pt. He takes audio immune suppressant drugs. There’s a minute chance for a live particle to get into the body. \\n@ScottBL68 : @tracy22485777 @mctd_support Novavax is not a viral vector vaccine. \\n@ScottBL68 : @AENAJ5 @resist_breathe @JuCaCh8 The new Moderna vaccine was developed to attack the BA.1 subvariant and so is already essentially obsolete. The Novavax vaccine has been proven to effectively attack all variants due to its technology, which mimics the common spike anatomy. #Novavax #NVAX $NVAX #COVID #Vaccine \\n@tracy22485777 : @ScottBL68 @mctd_support I know it\\'s a protein subunit vaccine I\\'m sure it\\'s great for many ppl. Just not for me. \\n@tracy22485777 : @ScottBL68 @mctd_support Let me explain I have a peculiar immune system. In 2017 I welcomed a flu vax. Two days later I was in the Hosp with swine flu. I almost died. The pharmacist swore no live virus, However, I found out there\\'s always a possibility... \\n@J4yGrant : @tracy22485777 @ScottBL68 @mctd_support So, to clarify, you took the injected (inactivated) version, not the nasal (weakened) version? Then they diagnosed you with swine flu infection at the hospital? And they were able to draw a direct connection to a nearly fatal infection being caused by your inoculation? \\n@J4yGrant : @tracy22485777 @ScottBL68 @mctd_support I can see why you\\'d be wary of the J&amp;J, et al- even though the adenovirus used is modified to not replicate, not contagious- but Novavax is not an inactivated virus vaccine, and it doesn\\'t enter your cells to produce S. protein. Its less invasive than either mRNA or viral vector. \\n@tracy22485777 : @J4yGrant @ScottBL68 @mctd_support Yes that\\'s what I was told. \\n@tracy22485777 : @J4yGrant @ScottBL68 @mctd_support I\\'m just following my doc of twenty years advice and Scientists that know me. It\\'s probably fine but I\\'m that one in 100,000 atypical person. If something can go wrong it\\'s always me. \\n@J4yGrant : @tracy22485777 @ScottBL68 @mctd_support Interesting... So that would mean there was an instance where the virus grown in the chicken egg for that vaccine dose was somehow overlooked and not inactivated. I feel like that should allow you some legal recourse. (Although I don\\'t know if its worth fighting.) \\n@molokaicreeper : @ScottBL68 Need it for my 16 y/o unvaxxed son.  Please...we\\'re waiting 😭 \\n@ScottBL68 : @molokaicreeper Come to Canada! 😉 \\n@tracy22485777 : @mctd_support @ScottBL68 I understand. Thank you. \\n@3styl3r : @CyberLoveza im real sorry to hear that :(( hopefully she recovers soon \\n@ricebibimbap : @CyberLoveza i\\'m so sorry to hear this and i hope your mum is okay, best of luck with everything... 💚 \\n@CyberLoveza : @3styl3r Yeah ☹️ \\n@CyberLoveza : @3styl3r Thank you \\n@CyberLoveza : @ricebibimbap Thank you &lt;3 \\n@dansmith2022 : @LoriReneeFye2 You more than likely had covid without realising, most people have absolutely no symptoms whrn they have it \\n@azmomx10 : @LoriReneeFye2 I am a \"novid\" as well. I work retail, &amp; never wear a mask except on an airplane. My daughter just brought covid back from Florida 2 weeks ago. She quarantined in her room. I still did not get covid. I am 69yo, double vaccinated and double boosted. \\n\\nThey should study our blood. \\n@LoriReneeFye2 : @azmomx10 Just curious: Are you a smoker? (Of anything you\\'d inhale.)\\n\\nI can\\'t decide if my \"immunity\" is due to that, or if it\\'s connected to being radiated daily by a HUGE radar set for 15 months, and then being doused in PCB-laden oil at a later assignment.\\n\\nMaybe I glow in the dark? https://t.co/pm6i2Bipi3 \\n@LoriReneeFye2 : @azmomx10 Oooh ... but THEN, if we were found to have natural antibodies in our blood ...\\n\\nShades of *The Handmaid\\'s Tale* come to mind.\\n\\nMaybe I DO need to buy a gun.\\n\\n(Nah. If you have it, THEN you\\'ll need it. I\\'m too Zen for that. Why invite trouble?) \\n@azmomx10 : @LoriReneeFye2 No, non smoker of anything. Smoked cigs for 30 years, quit 20 yrs ago. Smoked weed in my teens and 20\\'s. No alcohol, no drugs. squeaky clean! \\n@azmomx10 : @LoriReneeFye2 I had something back in Oct of 2019 but tested negative for antibodies when the antibody test came out in April. I had \"it\" again in June of 2020 but still tested negative for antibodies 3 weeks later. \\n@dansmith2022 : @askboomer1949 Correct, no one here gives covid a seconds thought anymore, everyone is back enjoying themselves and living completely normally. Getting covid is no big deal anymore. \\n@askboomer1949 : @dansmith2022 You are wrong and either ignorant or arrogantly selfish. \\n@HOntarian : @RothwellMrs Thanks for telling me that you\\'re a teacher. Saw that in your bio. Stay proud... Unless you dictate where your family goes, where their friends go and control the environment. Your efforts won\\'t lead you anywhere. Do you enjoy the fear mongering narrative that you push? \\n@RothwellMrs : @HOntarian Later gator, as I’ve said, we done. \\n@HOntarian : @RothwellMrs Keep hiding behind covid and stop making it a production. It\\'s over. \\n@GaryGoodson17 : @MonkeyAnomalous Yep, use the results of their jab juice crisis to support the next crisis. A daisy chain of doom. \\n\\nThey can say it, but people aren\\'t buying it. \\n@NotASheepNope : @marquisedewhat Damn \\n@marquisedewhat : @NotASheepNope A srs drag, but maybe I have a lousy resistance but a plucky “burn it all out” fever response? Trying to anthropomorphize the situation into comedy to cheer myself up. Lol. \\n@dubioseducator : New Post: And The Word Is Stamina \\nhttps://t.co/XUlTmUoauS #covid19 #health #motivation #echat #kinderchat #g2great @Jonharper70bd @ShiftParadigm @RitaWirtz @ChouinardJahant @stephenkelley85 @MagicPantsJones @cherylabla @snordenWSUproud \\n@stephenkelley85 : @dubioseducator @Jonharper70bd @ShiftParadigm @RitaWirtz @ChouinardJahant @MagicPantsJones @cherylabla @snordenWSUproud That is a great post, Faige! It will take more stamina today than ever before, we have to deal with so many issues. My last 5 years of teaching we did not talk about teaching in PD but how to deal with an active shooter! How can we teach if we are thinking about being killed? 🙄 \\n@dubioseducator : @stephenkelley85 @Jonharper70bd @ShiftParadigm @RitaWirtz @ChouinardJahant @MagicPantsJones @cherylabla @snordenWSUproud Your point so well taken! This shooting drills overwhelm kids and teachers. Sad to see what our kids go through. \\n@cherylabla : @dubioseducator @Jonharper70bd @ShiftParadigm @RitaWirtz @ChouinardJahant @stephenkelley85 @MagicPantsJones @snordenWSUproud Faige, thank you for this great post! Stamina is something we all need today. Thank you for sharing your insight and great wisdom. I’m sorry to hear you have been dealing with Covid. I tested positive last night, and hope it passes quickly. 💗 \\n@dubioseducator : @cherylabla @Jonharper70bd @ShiftParadigm @RitaWirtz @ChouinardJahant @stephenkelley85 @MagicPantsJones @snordenWSUproud Thank you, Cheryl. Yes hope it passes quickly!! Feeling much better. Had all vaccines and boosters, but.. \\n@ELHopkins : Schools are not prepared for Winter. DfE has once again failed to protect children with #CleanAir. They are leaving many at risk of long covid and transmission to vulnerable family members. 201 children have died from #Covid. It’s a very uncaring attitude. \\n@convid_2020 : @ELHopkins @hephaistos_ai Can you show me the data that says 201 children died of Covid that DID NOT have underlying conditions. I\\'ll wait. \\n@SarahStev0 : @convid_2020 @ELHopkins @hephaistos_ai You know that underlying conditions are not always life threatening, yes? Things like diabetes which is easily managed? \\n@convid_2020 : @SarahStev0 @ELHopkins @hephaistos_ai I understand that but my statement was to show proof of 201 children who have died of Covid WITHOUT underlying conditions. If they have underlying conditions this would mean they died WITH Covid and not OF Covid. \\n@SarahStev0 : @convid_2020 @ELHopkins @hephaistos_ai No, it doesn’t. They died because of covid. Without it their underlying conditions wouldn’t have killed them, what with them not being terminal conditions. And even if you were correct, this means you’re perfectly ok with children dying younger than they need to. Shame on you. \\n@ProfessorIgnima : @ELHopkins how can not investing in air quality be justified?  it’s not political, it’s not toxic…I can’t fathom… \\n@ELHopkins : If you are fed up of constant #Covid cases in schools, please tweet at your MP or write to DfE asking for #CleanAir . We need this in place for the Winter. \\n@JR1991JR : @ELHopkins Yes I am. @IoWBobSeely it’s time this idea of ‘live with it’ ends! We need #CleanAir in schools, we need to properly protect children, staff and families. Do your job or get out! \\n@ELHopkins : @JR1991JR @IoWBobSeely Well said Jonathan! \\n@Kevbrown51 : @ELHopkins @drcarolinej is both my MP &amp; a paediatrician yet still votes against mitigations in schools &amp; society generally. She very obviously takes her duty of care towards her constituents &amp; society extremely seriously (sarcasm intended). \\n@ELHopkins : @Kevbrown51 @drcarolinej 201 children have died from covid, this should be enough for more people to sit up and see this isn’t working. Over 570 staff have also died from covid. All children are at risk from #longcovid and there is an accumulative risk from reinfections. \\n@Kevbrown51 : @ELHopkins @drcarolinej How any MP or Dr can support having no mitigations in schools just astounds me. There are a good number of medics within HoC govt benches yet none of them stand up to protect not only the kids but society generally.\\nTheir attitude is disgusting &amp; criminal IMO. \\n@ELHopkins : @Kevbrown51 @drcarolinej I think they have bought into the ‘mild’ propaganda in some MSM. \\n@berylhs : @ELHopkins I have, awaiting a response, also emailed head of education and chairman of local authority ed comm twice - no response. School have responded,but still not acquiring HEPA filters but do have C02 monitors. \\n@ProfessorIgnima : @Kevbrown51 @ELHopkins @drcarolinej How is it surprising considering this is mainstream?? https://t.co/cbwAhUr6xa \\n@Jill4life3 : @ELHopkins They shouldn\\'t have to but it would be interesting to know how many teachers, Principals, BoG and parent groups have purchased filters for their rooms?\\n B/c its Hunger Games at this point. \\n@Jill4life3 : @Kevbrown51 @ELHopkins @drcarolinej She should be brought before the @TheBMA for undermining public health messaging and crimes against Science. \\n@ELHopkins : @berylhs Best of luck with that! I feel it’s very bad of them to ignore concerns from parents. They should be opening lines of communication but it’s all one way traffic. \\n@traceymhodgson : @ELHopkins Problem is they don’t care, this is the third autumn without safety nets.. \\n@ELHopkins : @traceymhodgson That’s very clear, then they are 💯 responsible for the long term affects. \\n@ELHopkins : UsforThem campaigned against #covid preventions in schools. They said they were restrictive. What is restrictive about a Hepa air purifier sitting in the corner? Why are children and staff still suffering unnecessary infections. What will the long term consequences be? #CleanAir \\n@FionaGHarrison1 : @ELHopkins Totally agree Air Putifiers are a necessity, but please don’t put them in a corner, they don’t clean the air pushed in a corner. \\n@DrAnnRigbyJones : @FionaGHarrison1 @ELHopkins Agree, but often difficult in classrooms to have them in the ideal centralised position. Plugs usually around the perimeter, can’t have trailing cables etc 😣 \\n@ELHopkins : @DrAnnRigbyJones @FionaGHarrison1 They could put the cables into wall conduiting as they do in Music classrooms. \\n@rosavita : @ELHopkins We\\'ve turned into a country where children can\\'t even paddle in the sea without catching a disease 💩😢\\n\\nHaven\\'t heard UsforThem campaigning about that 😠 \\n@ELHopkins : @rosavita It’s heartbreaking 😞 \\n@Jill4life3 : @rosavita @ELHopkins All of the MP\"s tangled up in usforthemselves voted to discharge it. \\n@rosavita : @Jill4life3 @ELHopkins Yes, @halfon4harlowMP seems to think our children\\'s health is improved by catching nasty viruses at every opportunity, more bugsforthem than usforthem https://t.co/xSV4XIjQIP \\n@wearethevgps : @ELHopkins Because the purifier came out of of the general education budget \\n@cazhaz : @wearethevgps @ELHopkins Prob true but lots of parents did also volunteer to fund HEPA machines and were rejected \\n@daveprescott11 : @ELHopkins As with most Covid “mitigations”, air purifiers do a lot more harm than good in the long term. Children are not at risk from Covid, the efficacy of air purifiers is highly doubtful, but worst of all  they will increase CO2 emissions which is the biggest long term danger. \\n@ELHopkins : @cazhaz @wearethevgps Yes many parents are offering on here and being rejected. \\n@LFCwisdoms : @ELHopkins To be fair, when they say that these mitagations would be restrictive, what they mean is that they would restrict the virus spreading which is not what they want. They couldn\\'t give a shit about children\\'s health, that isn\\'t on their radar. \\n@cazhaz : @ELHopkins @wearethevgps I offered. They would’ve accepted it but I also think they would’ve stuck the machine in the corner\\n&amp; not used it or complained about the noise, hence I didn’t end up buying one for the school. Also Govt could offer funding for them - they’ve wasted money on so much other stuff! \\n@ELHopkins : @cazhaz @wearethevgps Definitely they could if they wanted to improve things. It just doesn’t suit their narrative. \\n@FollyGirlMaxine : @daveprescott11 @ELHopkins Yeah and we can always replace the teachers that we maim and kill in the meantime. People are queuing up to be teachers in unventilated classrooms with symptomatic students at close quarters \\n@daveprescott11 : @FollyGirlMaxine @ELHopkins I see you are a devout Covidian (someone who is convinced that Covid is the most deadly disease ever, despite there being no evidence to support that). Listen to yourself and give your head a wobble. What total nonsense! It’s a cold! It’s not going to harm teachers. \\n@FollyGirlMaxine : @daveprescott11 @ELHopkins I\\'ll let my colleagues who have had strokes, heart disease and kidney failure following Covid infection know. They\\'ll be so relieved. \\n@PatCrosbie1 : @daveprescott11 @ELHopkins It is nonsense to say that children are not affected by covid. 200 children in the UK have died from it and thousands are suffering long covid. \\n@daveprescott11 : @PatCrosbie1 @ELHopkins The latest information from the ONS for England &amp; Wales covers 2020, but that was the height of the “pandemic”. It paints a very different picture to what you say. They say CV19 was a factor in 13 child deaths. There are 11.4 million children aged 0-15 in England &amp; Wales. https://t.co/CCJI5cyToH \\n@daveprescott11 : @PatCrosbie1 @ELHopkins My data source: \\n\\nhttps://t.co/VMnIjNAN8P \\n@daveprescott11 : @FollyGirlMaxine @ELHopkins Were any of those people 💉 though? That could be it as well. Some doctors are beginning to think that the vaccines could cause ‘long Covid’ .\\n\\nhttps://t.co/sweJMlKHDW \\n@BlackLabrador10 : What a time to be a child...no escaping the impending doom of the #ClimateCrisis...beach holidays by seas awash with shit...returning to unsafe schools (state obvs, must keep the rich kids healthy)...a future dealing w #ClimateEmergency while beset by #Covid ill health...\\n#HEPAs! https://t.co/oCvNLkLydv \\n@helenessex2 : @BlackLabrador10 @CarolineLucas @NadiaWhittomeMP @labourlewis @jon_sparkes @HackneyAbbott @UNICEFuk_action @schooltruth @sweale @PippaCrerar @GNDRising Yep what a wonderful legacy the tories bequeath to us (not).  What a different world this generation of school leavers step into compared to even just 10 years ago. #ToryBritain #CovidIsNotOver #ClimateCrisis \\n@BlackLabrador10 : @helenessex2 @CarolineLucas @NadiaWhittomeMP @labourlewis @jon_sparkes @HackneyAbbott @UNICEFuk_action @schooltruth @sweale @PippaCrerar @GNDRising I simply cannot fathom why every non Tory MPs are not fighting harder, together, to oppose the mass infection of children - especially those who are most aware of the #ClimateCrisis, knowing it will be children who will have to deal w it. @LaylaMoran @jeremycorbyn @zarahsultana \\n@risktoolbox : Perhaps you should follow @risktoolbox\\n\\nOften, solving safety risk management problems is really very straightforward \\n\\nExample\\n\\nIn March 2020 it became abundantly obvious that #obesity was a significant threat factor associated with early death from #Covid\\n\\nI solved that problem https://t.co/iSK6GnHxB4 https://t.co/yURY15qlmz \\n@davidgcant : @risktoolbox Will it make me lose weight? \\n@risktoolbox : @davidgcant If you follow the tips and insights I can offer\\n\\nThat bit is up to you! \\n@cooks4luv : But hey, #Covid isn’t a problem. \\nCommon sense, people. \\n#MaskUp \\nIt doesn’t have to outright kill people to be disruptive. Sheesh! \\n#CovidIsNotOver \\nIt never will be until we choose to make it so. \\n#WearAMask https://t.co/AOpliGBBjA \\n@dansmith2022 : @cooks4luv These supply issues are due to counties complete overreaction to covid, not covid itself. Lockdowns destroyed the world economy, not some cold. \\n@DelthiaRicks : Australia is nearing the end of its worst flu season in 5 years &amp; it could be a sign of what’s to come in the U.S. this year. Throughout the #Covid era, influenza has simmered quietly in the background. But it could mirror Australia\\'s season this fall https://t.co/k1Ik6dYx9N \\n@roughtradeX : @DelthiaRicks Running to get my shot. https://t.co/xwkEKybn2o \\n@DelthiaRicks : @roughtradeX that\\'s fast! \\n@roughtradeX : @DelthiaRicks So is the flu. Gotta be faster. 🤣 \\n@catladyactivist : @ChrisSaysNo I so agree with this but I\\'ve learned to survive on the scraps left over after the selfish people who care only about themselves are done living their lives. They\\'re by FAR the vast majority. \\n@this1wierdgirl : @catladyactivist They need to not only be early morning. \\n@catladyactivist : @this1wierdgirl Agreed. Especially for neurodivergent vulnerable/cautious folks because there is the notorious struggle with sleep schedules and patterns. And some folks just aren\\'t morning people, plain and simple, or have reasons they can\\'t make those hours work. \\n@trailrunner402 : @catladyactivist YES!!!! \\n@FollyGirlMaxine : @this1wierdgirl @catladyactivist They have to be though. If you have them later the aerosols from infectious people will still be in the air. \\n@StephonRaquel22 : @NotoriousPook Damn Juannaaaa u got the vid ... Least u got the new phone homie .... OnePlus 4 Life \\n@YeahBuddyTV : @NotoriousPook Bruh that shit sucks I’m still feeling exhausted every now and then. \\n@NotoriousPook : @YeahBuddyTV Yeah sht fking sucks! \\n@NotoriousPook : @StephonRaquel22 Sht fking sucks bruh Ah yeah phones not bad. \\n@YeahBuddyTV : @NotoriousPook Yeah dude hope you get over it soon and take lots of naps lol \\n@StephonRaquel22 : @NotoriousPook U got the fast charger ? \\n@NotoriousPook : @StephonRaquel22 Yeah I got it \\n@NotoriousPook : @ImJuicyK I would get it now right gawd damn !!!! Can\\'t wait to be over this and be over there ! \\n@antifamommy : @NoDSANY Please screenshot!! \\n@NoDSANY : @antifamommy Screenshot : https://t.co/L0T65CRdZQ \\n@Gogi52636508 : @MissesKey Very nice \\n@MissesKey : @Gogi52636508 thx 😘 \\n@Gogi52636508 : @MissesKey 🌹🌹🌹 \\n@MissesKey : @AmarSin53741504 mmmmm \\n@feistyhatchling : I am traveling for work for the first time in 2 years,  after 1 week 5 of the 21 people here have #covid \\n@bossykashian : @feistyhatchling Masking? I\\'m headed to @TexasTribune fest next month where I assume I will be alone in masking indoors \\n@bossykashian : @feistyhatchling Also got my 4th shot yesterday which should help \\n@feistyhatchling : @bossykashian I had covid in July I am counting that as my 3rd booster \\n@haraNikkei : Breaking News: Japan weighs ending pre-arrival COVID test requirement 🇯🇵\\n\\n(For those who didn\\'t know, it might\\'ve been more of a surprise that #Japan still had that rule...) #COVID \\nhttps://t.co/AYrWh7DAp1 \\n@shikigamild : @haraNikkei Read the fine print.\\nThey are thinking about replacing it with vaccine passports. \\n@gp_bern : @haraNikkei @YukariSakamoto I imagine this is purely aimed at returning Japanese and filthy foreigner tourists will still be not allowed. \\n@gp_bern : @shikigamild @YukariSakamoto @haraNikkei All good, just allow independent tourists in. \\n@shikigamild : @gp_bern @YukariSakamoto @haraNikkei That\\'s not going to happen. At least not now. \\n@gp_bern : @shikigamild @YukariSakamoto @haraNikkei I know, a man can dream though. \\n@micgavjr : Ohio’s largest school district will have teachers on strike just as school is about to start😯\\n#politics #news #economics #republican #covid #government #finance #vote #liberal #democrats #investment #political #Trump #Biden https://t.co/DepKwoTNy2 \\n@BWLinton : @micgavjr @foolm1ns Teachers in all 50 states should be striking for better salaries and conditions. \\n@micgavjr : @BWLinton @foolm1ns Agree \\n@makomichael : Now that I’ve tested + for #Covid, I’m  more amazed by people who still think it’s no big deal. I’m vaxxed &amp; double boosted, healthy. Yet my body is under stress. Elevated heart rate, respiration, &amp; strained recovery similar to having run a marathon 1/x https://t.co/xE1fP5DYnh \\n@makomichael : In the run up to this, I’ve been actually feeling in great shape/fitness as I train for the #JFK50 &amp; #MCM50k. Running a lot of miles.  I’ve lost 35 pounds since March and despite all this I went form 0 to 60 in feeling like crap.  2/x https://t.co/NrK5tTljg0 \\n@makomichael : While this feels like a “bad flu,” I have no doubt it would’ve  been way worse without the vaccine. My health didn’t matter. Wearing masks in public for 3 years delayed this but didn’t prevent it. \\n\\nSo to everyone still doing the right things to #StaySafe, and I  #ThankYou 3/end https://t.co/jLfQLmtTY4 \\n@hmonkeyruns : @makomichael I’m sorry you are sick but I love the data. Is this from your ring thing? \\n@makomichael : @hmonkeyruns Both the Whoop and Oura Ring \\n@YodaResearch : The economical damage caused by #covid lockdowns is historic. Long lasting scars it will leave\\n\\nRevised numbers show that the ecn of the UK 🇬🇧 dwarfed 11% instead of 9%\\n\\n=&gt; Worst #recession in 3 centuries since the Great Frost (1709) 🥶🏛 https://t.co/lDFprUdgWd \\n@2sigmasA : @YodaResearch Seems like a good time to buy internet currency \\n@4everAStudent22 : @2sigmasA @YodaResearch Master Yoda, any thoughts on $kuji \\n@YodaResearch : @4everAStudent22 @2sigmasA haven’t done a deep dive yet \\n@4everAStudent22 : @YodaResearch @2sigmasA May the force be with you. \\n@The_Aura : @DrvanTilburg @jonathanstea @CaulfieldTim That is an experience to which I always expose my students (highschool). The directions are:\\n* Express your doubts about our current topic to your team\\n* If you feel competent tu solve some of your teammates doubts, explain!\\n* If you get stuck, write that part down. \\n@The_Aura : @DrvanTilburg @jonathanstea @CaulfieldTim * Now, go and review that part until you can easily explain it.\\n\\nIt works wonders. Make them spot what are they missing. Now I wonder if ir helps them to be more aware of this bias. \\n@jonathanstea : @The_Aura @DrvanTilburg Another fantastic way to improve critical thinking and science literacy is to teach how to differentiate science from pseudoscience. \\n\\nWe can even use unequivocal cases that virtually everyone knows to be a magic trick, such as spoon bending. 😊🥄\\n\\nhttps://t.co/kNaTW7x6hR \\n@CamRegier : @kerriYWG I\\'d expect booster uptake is likely sub 50%, probably more like 30-40%. Look at 3rd boosters even. Just under 50% of total population, 56% of eligible. Kids aren\\'t going to get this any time soon (&lt;5s just got 1st shots) so it\\'s probably more like flu shot numbers. \\n@worldissad12 : @CamRegier @kerriYWG Not sure much point until BA5 booster?🤷🏻\\u200d♀️ \\n@CamRegier : @worldissad12 @kerriYWG Yeah. It looks like HC will rule on the BA1 version and has asked for a submission on the BA5 ASAP. So it seems like they\\'re open to considering it. I think that pushes the timeline back another month, based on what the US is seeing. They might soon have comparison lab data. \\n@CamRegier : @worldissad12 @kerriYWG More below. \\nAlso, I wouldn\\'t be surprised there is a Pfizer purchase TBA. Many were uncomfortable switching types so they likely will secure some Pfizer bivalent as well for ppl with Pfizer all the way through.\\n\\nhttps://t.co/GqvTvQvvYg \\n@RichardAllanWi2 : @kerriYWG Already had my original dose and 3 boosters. Will take another if made available. \\n@kerriYWG : @RichardAllanWi2 I am looking forward to the added protection specific to Omicron. I am sure the original recipe helps but clearly not as much as it used to with the previous variants! \\n@kerriYWG : @CamRegier @worldissad12 Thank you!! \\n@kerriYWG : @worldissad12 @CamRegier I will take whatever I can get as long as it doesn’t delay ability to get future iterations of vaccines too much! \\n@CamRegier : @worldissad12 @kerriYWG then again, I don\\'t really know. 🥴\\nhttps://t.co/xFr9qZRDUB \\n@myrabatchelder : @POTUS Um, I don\\'t think it\\'s only Republicans who are pushing an agenda that serves the wealthiest corporations...\\n\\nYour response to #COVID and decision to end most COVID prevention efforts and just let people get infected repeatedly seems to serve wealthiest corporations, @POTUS. \\n@MsAllisonRipley : Two years. Two years I’ve successfully dodge you’re ass. But today it came up positive. #Covid \\n\\n102° fever—at least I’m vaxxed+ so this was my best chance at this unfortunate eventuality. Still sucks. Hard.\\n\\nSend love. 🥺 \\nI can only cuddle digitally for at least five days. 😭😭 \\n@cmac10302 : @MsAllisonRipley Damn that sucks. Hopefully it\\'s not too bad. \\n@MsAllisonRipley : @cmac10302 The fever and the fatigue is the worst so far. Just have no energy… 😮\\u200d💨 \\n@cmac10302 : @MsAllisonRipley Damn. Hoping for a speedy recovery. Sending hugs to you. \\n@MsAllisonRipley : @cmac10302 Thank you!🥺🥺❤️ \\n@OxyfromSg : @MsAllisonRipley Speedy recovery \\n@MsAllisonRipley : @OxyfromSg Thanks! \\n@kheslopwrites : @MsAllisonRipley Oh no! I hope you get better quickly. \\n@MsAllisonRipley : @kheslopwrites Thank you, I hope to too. 🥺❤️ \\n@MsAllisonRipley : @IanSnowWriter Thank you!❤️ \\n@dagmar_ella : @MsAllisonRipley Oh no... 🥺\\nI hope you get well soon! 🙏\\nRemember to rest and stay hydrated, water is your friend, but also eat even if not hungry. \\n*hugs* \\U0001fac2 https://t.co/QYWQ4K5w0c \\n@MsAllisonRipley : @dagmar_ella Thank you.🥺😭❤️ \\n@TorontoStar : Heading #backtoschool at Western University next month? FYI, you\\'ll need to  wear masks in classrooms and have at least one booster dose of a #COVID-19 vaccine.  #oned https://t.co/iC4eI2bCRU \\n@KorreyFamily : @TorontoStar This is not right . Masks have been gone for while indoors and at school. How can they make their own rules ? @fordnation @Sflecce please stop schools from pushing their own agenda . \\n@JoshDehaas : @TorontoStar This is an affront to bodily autonomy. Vast majority of youth already have infection-acquired immunity and 2 doses. Little evidence to suggest booster mandates do anything for transmission. Not insignificant risk of myocarditis esp in young males. Really hope students push back. \\n@KorreyFamily : @TorontoStar So kids have to be masked at school but then they will all go to parties and take off the masks . If masks worked nobody would have covid .#EndALLMandates @WesternU \\n@KorreyFamily : @TorontoStar How can they make this decision 2 weeks before school ? My kid would have taken a gap year to avoid all this . He already has a couple online class’s that should be in person.\\n@WesternU #EndALLMandates \\n@brvd721 : @TorontoStar Have your kids look into trade unions. They need apprentices and you make way more than sitting in an indoctrination hall \\n@brvd721 : @KorreyFamily @TorontoStar @WesternU The trades are way more lucrative and rewarding \\n@vanishdoom84 : @JoshDehaas @TorontoStar Mandates like these saved over 70,000 Canadian lives. \\n@Jeff14285213 : @vanishdoom84 @JoshDehaas @TorontoStar You pulled out of your backside. No way can anyone back that up. \\n@vanishdoom84 : @KorreyFamily @TorontoStar @WesternU This didn’t try. Masks reduce the risk of spreading not eliminate it! Mandates like this saved over 70,000 Canadian lives. \\n@vanishdoom84 : @brvd721 @TorontoStar If your a white male sure. There were 3 (!!) nooses hung at a local construction site with notes about lynching because a black person worked on site… \\n@silver_modern : @TorontoStar Mandate a vaccine that doesn’t not stop spreading or hospitalization?! University is where our modern problem lies. \\n@silver_modern : @KorreyFamily @TorontoStar @WesternU Because a vaccine need to be used to receive funding, and there are people getting rich through that, and they do not care about the health of kids at all. \\n@rosepoptosis : @JoshDehaas @TorontoStar No one is being forced. \\n@rosepoptosis : @Jeff14285213 @vanishdoom84 @JoshDehaas @TorontoStar 🤡 https://t.co/497ZN8NVLl \\n@Jeff14285213 : @rosepoptosis @vanishdoom84 @JoshDehaas @TorontoStar Oh right. They wouldn’t print it if it wasn’t true. So tell me how they can estimate this. Did they offset it with lives lost from adverse reactions?  Did they include people dying from lack of medical attention during lock downs? How about suicide? Please don’t be so gullible \\n@silver_modern : @rosepoptosis @TorontoStar A math model can give you any number with the good price. Search for vaccine injury, you will be surprised. \\n@rosepoptosis : @silver_modern @TorontoStar you’re a statistician too? Multitalented! Epidemiologist AND a statistician. I bet you’re an immunologist and a microbiologist too. Who needs actual scientists? \\n@rosepoptosis : @Jeff14285213 @vanishdoom84 @JoshDehaas @TorontoStar The suicide rate has not increased &amp; has actually gone down during the pandemic in some places. No one really knows yet the full impact of the pandemic on non-Covid-related deaths, but the modeling does give a good idea of how bad it could have been w/o vaccines. \\n@vanishdoom84 : @Jeff14285213 @JoshDehaas @TorontoStar No way anyone can back that up? What about peer reviewed scientific paper from Canada top medical journal? Mandates saved 70,000 Canadian lives.\\n\\nhttps://t.co/kVQZeIcPji \\n@vanishdoom84 : @Jeff14285213 @JoshDehaas @TorontoStar The link I sent is a good test to see if you have critical thinking skills or if you’re just a mindless sheep. Will peer reviewed scientific evidence change your mind, or will you keep believing something that isn’t true because you can’t change your mind with new evidence. \\n@silver_modern : @rosepoptosis @TorontoStar Science will test experimental vaccine on monkey before human, and if the side effect of a vaccine include death, that vaccine cannot be mandated. We don’t need corrupted and manipulated scientists. \\n@rosepoptosis : @silver_modern @TorontoStar That makes zero sense in the context of this conversation. \\n@Jeff14285213 : @vanishdoom84 @JoshDehaas @TorontoStar Use you common sense . How can they determine how many lives could be saved by a vaccine that doesn’t work?. Peer reviewed by the people who censored peer reviewed papers which show the the vaccine has failed.  The fact is yours is an estimate.  But even that can’t be proven. \\n@Jeff14285213 : @vanishdoom84 @JoshDehaas @TorontoStar Like I say no way can they back that up. It’s an estimate as if the vaccine actually works. \\n@Jeff14285213 : @JoshDehaas @TorontoStar How can prove that?  Show your scientific methodology \\n@Jeff14285213 : @rosepoptosis @vanishdoom84 @JoshDehaas @TorontoStar The modelling has been BS from day one. Remember the two weeks to flatten the cure. Remember the winter of death and sickness for the unvaccinated? Remember the.vaxed would not get Covid. 🤔 what they can do with the modelling.   Bottom line, more shots more chance  of hospital \\n@rosepoptosis : @Jeff14285213 @vanishdoom84 @JoshDehaas @TorontoStar 1. NOVEL coronavirus. Scientists learned about it in real time. The modeling hasn’t been BS because mitigation measures prevented the worst of it at first. Yes, it was hoped the vax would be a panacea, but the virus mutated. It’s still very effective for reducing HC impact. \\n@rosepoptosis : @Jeff14285213 @vanishdoom84 @JoshDehaas @TorontoStar That is also not the bottom line, it’s obvious you don’t have experience in data analysis. \\n@Jeff14285213 : @rosepoptosis @vanishdoom84 @JoshDehaas @TorontoStar But I do have common sense. https://t.co/X25yo1QqwS \\n@Jeff14285213 : @rosepoptosis @vanishdoom84 @JoshDehaas @TorontoStar By the way the scientist were warned  by other virologists, the virus was 1. Zoonotic and it would mutate 2. That the vaccine was leaky.  3. That the mRNA had never been used on people. Yes the same expert you talk of still censored the others because they didn’t agree. \\n@vanishdoom84 : @Jeff14285213 @rosepoptosis @JoshDehaas @TorontoStar None of that is related to the article I sent you. So you can’t update your knowledge with new data that contradicts your previous bias? That’s called brainwashing. \\n@vanishdoom84 : @Jeff14285213 @JoshDehaas @TorontoStar No it isn’t. And yes they can back it up and they did on this article. What are you talking about? You didn’t even read it did you? You’re so brainwashed that you can’t learn something that contradicts your biases. \\n@vanishdoom84 : @Jeff14285213 @rosepoptosis @JoshDehaas @TorontoStar That’s not true. \\n@michael_hoerger : First #strike in 47 years, cites the need for indoor air quality (#IAQ) to mitigate against #COVID https://t.co/4QNcuLgQQG \\n@Annalisa840917 : @michael_hoerger I’m SO HERE FOR IT!!! I would love to see other teachers’ groups do the exact same thing!! They have put up with unsafe pandemic working conditions for so long. \\n@Phaedo72 : When you\\'re a P O S \\n#COVID19 #DanAndrews @VictorianCHO #Auspol \\n@LuckyLadyFox9 https://t.co/FUm3auu8LK \\n@LuckyLadyFox9 : @Phaedo72 @VictorianCHO Little demon liar \\n@Studio26151 : @1n9r1d Oh come off it - pharmacists do NOT just ‘give people a medicine’\\n\\nIt happens in New Zealand and elsewhere\\nWhat are you going to do about Dr shortages?\\nhttps://t.co/pTktfbKYog #ABC730  #auspol \\n@Skippingdog : @Studio26151 @1n9r1d Not many Pharmacists in NZ are trained to prescribe, under 100  probably and only low strength low risk meds. \\n@Studio26151 : @Skippingdog @1n9r1d Every bit helps \\n@CVinjured : once was happy fit and smart , i\\'m dumb ,  unhealthy and disabled after my first dose of #phizer been suffering for 10 months and still going not recovered , no support or help been left on the side of the road bleeding while people walking by 💀❤️\\u200d\\U0001fa79#VaccineSideEffects \\n@catparkerphoto : @CVinjured I would stop &amp; help! We are here for you hun! You are not alone in this. I know what you are going through completely. &lt;3 sending hugs and prayers! \\n@CVinjured : @catparkerphoto thank you for your kind words ❤️\\u200d\\U0001fa79i\\'m trying blend in into social again with my disability i find it hard , praying one day to get there . \\n@ReneeCapo80 : @CVinjured Hang in there sweetheart! I’m just 2 months ahead of you but I’m only just now starting to slowly improve. I’m sending you all my prayers and love. We are not collateral damage as much as it feels like it. You matter! Stay strong &amp; please know you’re not alone 🙏🏻❤️\\u200d\\U0001fa79 \\n@rareisnotsecret : @CVinjured Its amazing how they love calling the adverse effects rare get when you suffer from ome its \"all in your head\" or \"its all anxiety\" but then when there\\'s proof you cant deny docs dont know what to do \\n@CVinjured : @ReneeCapo80 Your tweet brought so much joy to my heart in these darkest time of my life , thank you kindly . \\n@ELHopkins : Care home deaths from #Covid are still happening because the government has let covid rip. Where is the care or concern? https://t.co/ylrhGczqgT \\n@79twf : @ELHopkins where is the public inquiry? Very quiet indeed. \\n@ELHopkins : @79twf The public inquiry in which it would appear,  groups that supported taking away mitigations, are potentially being platformed. Hoping that will not happen. \\n@simon_ball46 : @ELHopkins there isn\\'t any\\ni had a #asthma review today wearing a #facemask whilst the #nurse wasn\\'t wearing one...and er giving me odd looks\\n#COVID19 #coronavirus #Covid \\n@simon_ball46 : @ELHopkins they\\'ve even got #Medical #professionals believing #CovidIsOver \\n@ELHopkins : @simon_ball46 Denial is deep \\n@Lisahistoryhou1 : @ELHopkins Spoke to someone yesterday who said his wife works in a care home. She\\'s had Covid five times. I didn\\'t know what to say..... \\n@ELHopkins : @Lisahistoryhou1 That’s awful 😞 \\n@x2IndSpeculator : This is ridiculous. Country after country exhibited an unusual &amp; for the summertime quite extreme number of deaths, larger than even previous two summers, yet it supposedly somehow can be explained by aging population but not #COVID. https://t.co/r8BqhfoVkz \\n@georgimarinov : @x2IndSpeculator Excess morality has generally tracked COVID waves.\\n\\nIt is expected that the baseline will shift up due to long-term damage in a way that does not correlate directly with peaks.\\n\\nBut we did also have a major COVID wave mid-summer.\\n\\nYet it is definitely not COVID that did it... \\n@x2IndSpeculator : @georgimarinov Infuriating. \\n@TheExtraFiles : So was it #Covid?\\nYes. I think everything is #LongCovid..Unless they prove it\\'s not, cuz we know so many are suffering that don\\'t have any idea that Covid does this and more.\\n\\nhttps://t.co/Q5S6Plybek \\n@D_Bone : @TheExtraFiles yeah, I remember them saying it was GB syndrome, and people were arguing against LC. Now they say ahh it wast GB, but just Mysterious...\\n\\nKinda like Ashton Kutcher? And Justin Bieber?\\n\\nWhat a farce. \\n@KernelTKurtz : @D_Bone @TheExtraFiles She\\'s a crazy right-winger so she won\\'t admit it was covid. What is GB? \\n@TheExtraFiles : @KernelTKurtz @D_Bone Guillain-Barré syndrome \\n@cdnpolipolls : Do you agree with Western University requiring their students and staff to have a booster shot? @WesternU #cdnpoli #COVID19 #Covid #VaccineMandate #EnoughlsEnough \\n@Kim98508155 : @cdnpolipolls @WesternU Where there is risk, there must be choice. \\n@AlbertaBound9 : @cdnpolipolls @itsTim_eh @WesternU Based on a balance of probabilities, death from #COVID19 or adverse outcomes from #mRNA shots: \\n\\n▪️Kids under 20 should NOT be #vaccinated\\n\\n▪️Healthy 20-60 don\\'t need it\\n\\n▪️For many 60+ it depends on health &amp; comorbidities\\n\\n▪️For vulnerable 70+ vaccination MAY be a better bet. https://t.co/sB3SxwFvSm \\n@S_A_M_CDN : @cdnpolipolls @WesternU If you voted NO you should check us out. If you voted YES we may change your mind #StudentsAgainstMandates \\n@CrumbsCracker : @cdnpolipolls @WesternU the University is likely subsidized by Pfizer \\n@Victoria59L : @cdnpolipolls @WesternU They are using 2020 science…of, and that’s AFTER they collected tuition. 🤦\\u200d♀️ \\n@cdnpolipolls : @CrumbsCracker @WesternU We’ve seen some post circulating today with screenshots showing that they have received funding from Pfizer. \\n@Willypants60 : @cdnpolipolls @Victoria59L @WesternU Where was the F$%* NO! option. \\n@DeadmanWalks53 : @Victoria59L @cdnpolipolls @WesternU Not so, Vic.  There are studies continually being done showing the efficacy of masks. The key is that the masks are good materials, worn properly. \\n@DeadmanWalks53 : @Victoria59L @cdnpolipolls @WesternU Here is just one. Masks work to slow the spread. It’s irrefutable.\\n\\nhttps://t.co/IqAlaDWEeD \\n@DeadmanWalks53 : @cdnpolipolls @WesternU Yes. Absolutely agree. \\n@DeadmanWalks53 : @CrumbsCracker @cdnpolipolls @WesternU Does pfizer make masks? Grow up. \\n@DeadmanWalks53 : @AlbertaBound9 @cdnpolipolls @itsTim_eh @WesternU Zero facts and sources offered.\\n\\nNow, you’ll likely share some obscure, previously debunked “study”. \\n@DeadmanWalks53 : @Kim98508155 @cdnpolipolls @WesternU Wear a mask, get vaccinated. The choice is to attend or not. \\n@DeadmanWalks53 : @Willypants60 @cdnpolipolls @Victoria59L @WesternU Great! \\n@DeadmanWalks53 : @S_A_M_CDN @cdnpolipolls @WesternU You have no sense of responsibility or accountability, then.\\n\\nWhen you grow up and realize you put other peoples’ lives in jeopardy, will you even care?\\n\\nPeople lose time at work, time at school, suffer potentially debilitating affects for weeks/months/years, a few still die. \\n@DeadmanWalks53 : @Victoria59L @cdnpolipolls @WesternU Sorry, posted about masks.\\n\\nBooster shots work as well. This too, is a well documented fact.\\n\\nIt is the current science and it still works. \\n@AlbertaBound9 : @DeadmanWalks53 @cdnpolipolls @itsTim_eh @WesternU Had you asked, would have provided links to multiple research studies, including RCTs (the gold standard). \\n\\nBut, gratuitous insolence has its own reward.\\n\\nYou\\'re muted.\\n\\nSo, get off my timelne \\n@IKirkaldie : @DeadmanWalks53 @cdnpolipolls @WesternU Be honest.. you were told to agree. You don’t think for yourself Douggie boy. You and the 5% of people to vote yes are a burden and are holding society back out of selfishness and wanted fear because you are lazy and like the covid free rides. Time to start thinking for yourself \\n@DeadmanWalks53 : @IKirkaldie @cdnpolipolls @WesternU This could be an interesting discussion of you were interested, rather than being an ass.\\n\\nI’ll start. You told me what I was told to say, then you told me that I did something I didn’t, and you finished telling me what to do.\\n\\nYou lied about the first two, then tried to bully me \\n@DeadmanWalks53 : @IKirkaldie @cdnpolipolls @WesternU I think you’re a petulant whiner who doesn’t care about anyone but yourself, while pretending that others are making it difficult for you to function like the jerk you probably are. \\n@BiotechObserver : @cdnpolipolls @pawcio2009 @WesternU Even BEFORE the virus evolved, boosters had no additional benefit over 2 shots in college-aged kids \\n@BiotechObserver : @AlbertaBound9 @cdnpolipolls @itsTim_eh @WesternU Moronic advice.\\nQuestion is about BOOSTERS, not vax.\\nHealthy 20-60 definitely did need v. Anyone over age 60, not even a question.\\nOver age 50, boosters added more protection. \\nUnder age 50, boosters didn\\'t add anything (immune systems with stronger response to 2 shots) \\n@AlbertaBound9 : @BiotechObserver @cdnpolipolls @itsTim_eh @WesternU You lost me at \"moronic\"\\n#instablock \\n@cdnpolipolls : @WesternU - do the right thing 👆 \\n@Milan_reports : I report - Researchers\\' viral claim on #Pfizer #Covid vaccine causing miscarriages has experts rushing to debunk. Did 44% pregnant women abort after taking #pfizer vaccine? #DrNaomiWolf https://t.co/LgAxtiR8hL \\n@prsharma93 : @Milan_reports So experts say more miscarriage in the control group.\\nWhere is the control group? Vaccine was give to all women.\\nhttps://t.co/CS8taf8DeL \\n@prsharma93 : @Milan_reports There is no control group... https://t.co/BBDJxhC8tT \\n@prsharma93 : @Milan_reports India today suggesting me funny link!! https://t.co/SwxWWGBjvJ \\n@VikiLovesFACS : @prsharma93 @Milan_reports Because the FOI data was to April 2021, participants had been unblinded and the control group offered the vaccine. But if you want to see the miscarriage stats *before* unblinding, those are available from Dec 2020, and show the same thing…\\n\\nhttps://t.co/0x4CG1WP8U \\n@VikiLovesFACS : @prsharma93 @Milan_reports (Obviously fewer total pregnancies in the December data because ppl became pregnant between December and April). \\n@prsharma93 : @VikiLovesFACS @Milan_reports Conclusion itself is contradictory in your study.\\nPfizer Documents confirm 82-97% of COVID Vaccinated Pregnant Women sadly lost their Baby during Trial\\nhttps://t.co/3Eq59S0s5f https://t.co/7WXLTzJISh \\n@PeoplesCDC : With 400+ deaths a day from COVID, child hospitalizations on the rise, and the CDC reporting 1 in 5 adults develop Long COVID, the pandemic isn\\'t over. \\n\\nCall and write the White House and Congress to demand Clear and Responsible #COVID Guidelines!\\n\\nhttps://t.co/VEV4blXRh4 https://t.co/cTCskGUB7X \\n@UniicMedia : The Biden administration will make its announcement on next steps for student debt relief tomorrow👏📚\\n#politics #news #economics #republican #covid #government #finance #vote #liberal #democrats #investment #political #Trump #Biden https://t.co/LHAI0cZR4m \\n@MACELANT : @UniicMedia bhnjk \\n@UniicMedia : @MACELANT ? \\n@AlphaGi88956176 : Retweet! \\nHi #TruthWarriors.We all know the #Globalist #Cabal push their #NWO #DepopulationAgenda via #Bioterrorism/#Fear #Propaganda. \\nHere\\'s how we win:\\nWE,THE PEOPLE #DoNotComply!\\n#WEF #WHO #CDC #NHS #Fauci #BillGates #MonkeyPox #Covid #NHS #Trudeau #FJB #auspol #StopTheShots https://t.co/r9HhonRDJq \\n@AlphaGi88956176 : @Christo84801994 Wow Christo, EXCELLENT meme! \\n@AlphaGi88956176 : @Christo84801994 Dude! Even better than the other meme I liked! \\n@nancytouchette7 : @AlphaGi88956176 @Christo84801994 A site with a lot of info on plandemic, covid, vax, election and more. Hope you enjoy! https://t.co/UZ0uOJCiuI \\n@AlphaGi88956176 : @nancytouchette7 @Christo84801994 Thank you, Nancy! \\n@nancytouchette7 : @AlphaGi88956176 @Christo84801994 I don’t know if you watch the Fall of the Cabal it’s excellent. https://t.co/7apv3JbTYg \\n@AlphaGi88956176 : @nancytouchette7 @Christo84801994 I DID! If everyone would watch that series they would understand what is now occuring as well as what has occured since Jan. 2020. It\\'s a masterpiece. \\n@nancytouchette7 : @AlphaGi88956176 @Christo84801994 People have to wake up. It’s crazy how they lie. These people are sick. \\n@AlphaGi88956176 : @Christo84801994 I know, this is GREAT! \\n@AlphaGi88956176 : @nancytouchette7 @Christo84801994 The sheer magnitude of deceit...it\\'s almost overwhelming sometimes and I\\'ve been doing battle w/ them now for 2yrs and 7months. No wonder the sheeple don\\'t want to look at reality. It scares them that its so evil. \\n@Christo84801994 : @AlphaGi88956176 @nancytouchette7 The whole idea is to scare people into submission. https://t.co/yRqp2wQJrQ \\n@AlphaGi88956176 : @Christo84801994 @nancytouchette7 Good Morning #TruthWarriors--Let\\'s all stay fearless! \\n@nancytouchette7 : @AlphaGi88956176 @Christo84801994 Good morning! A great day to everyone. #PatriotsUnite #PatriotsUnited https://t.co/kivGcEuYAe \\n@AlphaGi88956176 : @nancytouchette7 @Christo84801994 Beautiful graphics! \\n@nancytouchette7 : @Christo84801994 @AlphaGi88956176 WEF psychopath. https://t.co/EhksFZoir4 \\n@imjustbucky : We are sending another $3B to Ukraine?  Don’t we need this for genome sequencing of MonkeyPox Delta Variant?\\n\\n#COVID19 #Covid #Ukraine \\n@MiguelAlbion : @imjustbucky That\\'s different money. The U.S. has lots of money. Enough to help Ukraine and help Americans. Our leaders just don\\'t want to help Americans. \\n@imjustbucky : @MiguelAlbion Only when it comes to student debt, I guess. \\U0001fae4 \\n@Bibi58558618 : \"The US have, and continue to, sacrifice the lives of Ukrainian civilians to carry-out and cover-up their activity in their proxy of Ukraine. And countries worldwide are taking notice. The US are not this beacon of “democracy” they claim to be.\"❤\\n#Ukraine #NATO #Covid #Russia \\n@MiguelAlbion : @Bibi58558618 No, the US is not sacrificing the lives of Ukrainians. The Russians are killing them. Lay the blame where it belongs. \\n@SusanPai4 : My son says this week 3 students and 1 teacher are out because of COVID. He is the one of only a handful of students at his school who are masking. One of the kids who has #COVID had been bullying him for wearing a mask and is constantly trying to rip my son’s mask off. #KARMA \\n@cornelli00 : @SusanPai4 I don\\'t get it. It doesn\\'t affect anyone else at all. \\n@SusanPai4 : @cornelli00 We live in Florida in Ron DeSantis’ former district. 😑 I told my son if he didn’t want to wear a mask I understand. He wants to wear the mask. He has enough sense to know he does not want to get COVID. \\n@cornelli00 : @SusanPai4 He\\'s a smart kid. You\\'ve raised him well \\n@Bibi58558618 : How to Cure smallpox, monkeypox etc👇👇👇👇👇👇👇👇\\n\"True cures for diseases like smallpox, monkeypox, and countless other diseases, have been known to exist for centuries.\"👇👇👇👇👇👇\\nhttps://t.co/omOaOm1PsS\\n#Covid \\n@Charles04144986 : @Bibi58558618 Didn\\'t last long did it?   Who is \"Cloudfare?\" https://t.co/vTr5OJIF44 \\n@Bibi58558618 : @Charles04144986 ????? DM me what happened? Did they block the link for your substack? It is a GREAT Initiative! \\n@Bibi58558618 : @Charles04144986 Big Pharma Twitter boots algos blocking everything with word \"cure\"? In the name of hmmm \"disinformation\"? NARF just want to ensure their profits by making people sicker than they need to be. \\n@Charles04144986 : @Bibi58558618 I don’t understand the tech stuff, so I posted the screenshot.  I’m locked out for now.  I think it hit all of Substack though.  I think the email went out anyway.  It went through to mine. \\n@Charles04144986 : @Bibi58558618 And thank you.  I’d be glad to talk more once the link is restored.  Or I can post it elsewhere. \\n@Bibi58558618 : @Charles04144986 The substack link via email is fine. Just checked. \\n@catparkerphoto : So my friend below has stated that covid is worse by far than the vaccine injuries sustained. Here is a poll for him. Which was worse for you?\\n@noname2020202 \\n\\n#covid #VaccineSideEffects #vaccineinjuries #medical #vaccine @React19org @VaccineReaction @ChildrensHD @drbeen_medical \\n@phillipsj70 : @JillSaidIt @catparkerphoto @noname2020202 @React19org @VaccineReaction @ChildrensHD @drbeen_medical This is from the CDC website. It appears that heart disease and cancer should be taken more seriously. https://t.co/Hv25Cc0jwo \\n@4wding : @phillipsj70 @RockPrincess64 @noname2020202 @catparkerphoto @React19org @VaccineReaction @ChildrensHD @drbeen_medical No. Lies because all of the experts say so.\\n\\nAnd obviously YOU are the target of this abuse. You have been abused, that is why you believe the conspiracy and not the proven facts.\\n\\nMe reporting these people, is for you. \\n@phillipsj70 : @4wding @RockPrincess64 @noname2020202 @catparkerphoto @React19org @VaccineReaction @ChildrensHD @drbeen_medical Lol, you\\'re not doing it for me. I don\\'t care what people post.\\nDebate is much better than blocking and reporting. All that does is keep you in a bubble. \\n@jumpjettwit : @catparkerphoto @noname2020202 @React19org @VaccineReaction @ChildrensHD @drbeen_medical Unfortunately the millions who have died of covid before being vaccinated (including 5 I knew personally) cannot take part in your poll. \\n@FergusHancock : @BenCouc87132825 @catparkerphoto @noname2020202 @React19org @VaccineReaction @ChildrensHD @drbeen_medical No way. Vaccines have protected me and my family from tetanus, German measles, polio, diphtheria, yellow fever and Covid. All these are essential for public health. \\n@stephaniebynum : @catparkerphoto @noname2020202 @React19org @VaccineReaction @ChildrensHD @drbeen_medical I have a suggestion for a poll.\\nAsk if they know more people who have been seriously injured or died from\\n\\ncovid\\nor\\nthe shots\\n\\nMy answer is the shots. Ratio is 20:1 \\n@ian36613527 : @bigbadjohn365 @catparkerphoto @noname2020202 @React19org @VaccineReaction @ChildrensHD @drbeen_medical you need to actually read the science .... as with strains after and including Delta , there is NO SUCH THING AS HERD IMMUNITY , ie it\\'s a myth . \\n@veganikauthor : @catparkerphoto @noname2020202 @React19org @VaccineReaction @ChildrensHD @drbeen_medical COVID shut down my body and almost killed me. My wife was hospitalized due to COVID. The vaccine gave me a sore arm for a day or two. Which is worse? \\n@walks_sc : @bigbadjohn365 @catparkerphoto @noname2020202 @React19org @VaccineReaction @ChildrensHD @drbeen_medical \"99.99% chance of survival?\"\\n\\nUK death toll: 178k\\nRequired population for this to be 0.01% of the population: 1.78 billion.\\n\\nActual UK population: 67 million.\\n\\nEven if everyone had been infected, you\\'d still be wrong by a factor of 25 😂 \\n@AlexxSeas : @4wding @rareisnotsecret @catparkerphoto @noname2020202 @React19org @VaccineReaction @ChildrensHD @drbeen_medical At least i do not bully disabled people while displaying support for another country that has nothing to do with me 💀 \\n@MelsyJ : @walks_sc @bigbadjohn365 @catparkerphoto @noname2020202 @React19org @VaccineReaction @ChildrensHD @drbeen_medical Getting covid, to protect you from the risks of getting covid... \\n\\nWhat a numpty argument. \\n@walks_sc : @FreedomIsWon1 @4wding @bigbadjohn365 @catparkerphoto @noname2020202 @React19org @VaccineReaction @ChildrensHD @drbeen_medical OK, let\\'s unpack that.\\n\\n5G related - how?\\n\\nHow is PCR \"fake\" &amp; what is your experience with it. \\n\\nWhich component in the jab is \"poison\"?\\n\\nWhere is the evidence of G &amp; Al in the syringe?\\n\\nHere is the text of Agenda 21/30, which specific part concerns you? https://t.co/tzrMJsIBsa \\n@noname2020202 : @AlexxSeas @catparkerphoto @React19org @VaccineReaction @ChildrensHD @drbeen_medical Must be why deaths where lower in high vax states than low vax states. Totally a coincidence. Sound logic you got there \\n@catparkerphoto : @noname2020202 @React19org @VaccineReaction @ChildrensHD @drbeen_medical Your just mad that more people follow me than you.... It\\'s ok hun,  someone will follow you  somewhere. \\n@catparkerphoto : @JillSaidIt @dutch_franklin @Cosmic_Engineer @noname2020202 @React19org @VaccineReaction @ChildrensHD @drbeen_medical Well, I applied for the CICP program...  thank you and you also can kiss my ass on the meth comment. \\n@catparkerphoto : @veganikauthor @noname2020202 @React19org @VaccineReaction @ChildrensHD @drbeen_medical I think it depends on the person. But those that keep saying that it has no side effects &amp; is not bad at all, is the issue w/ those numbnuts on here. Sorry what it did to you. All of it is bad. \\n@noname2020202 : @stephaniebynum @catparkerphoto @React19org @VaccineReaction @ChildrensHD @drbeen_medical Show a reputable source for this statement.  If it was that high people would be falling over themselves to have a study proving they were right.  But they can\\'t because it is false. But you ignore basic logic. \\n@noname2020202 : @BenCouc87132825 @FergusHancock @catparkerphoto @React19org @VaccineReaction @ChildrensHD @drbeen_medical Sure that is why deaths went up un high vax places.  Why wait they went down. So your statement is clealry false. \\n@catparkerphoto : @CatholicSwag @noname2020202 @React19org @VaccineReaction @ChildrensHD @drbeen_medical I know it is not. But when you are talking to the asses, I mean masses, you have to say vax. It was NOTHING near the definition of a vaccine. \\n@BigBruce1972 : @catparkerphoto @noname2020202 @React19org @VaccineReaction @ChildrensHD @drbeen_medical 3 jabs not a single side effect, like the VAST majority of people in the real world. Eg not down a rabbit hole. \\n@AlexxSeas : @noname2020202 @catparkerphoto @React19org @VaccineReaction @ChildrensHD @drbeen_medical Same s1 spike protein inside you.\\n\\nSame long term sequelae effects as the virus itself, myocarditis, clots, etc.\\n\\nAvoiding both is the best option. \\n@catparkerphoto : @BigBruce1972 @noname2020202 @React19org @VaccineReaction @ChildrensHD @drbeen_medical Just bc you did not experience it, does not make it so. Like I tell others, go to my social media and follow my time before the jab &amp; after. That shows you right there was is happening to me. Tell that to all the vax injured people who are suffering... \\n@noname2020202 : @catparkerphoto @jumpjettwit @React19org @VaccineReaction @ChildrensHD @drbeen_medical But you are not really interested in a statistically acurate poll are you?  What are you doing to adjust for skew? What population are you trying to represent? \\n@veganikauthor : @catparkerphoto @noname2020202 @React19org @VaccineReaction @ChildrensHD @drbeen_medical Okay, so 224 million people are fully vaccinated. Out of 224 million, less than 2% have experienced anything other than minor side effects. And, of that 2%, less than .25% have experienced long-term serious side effects. \\n@noname2020202 : @RockPrincess64 @4wding @phillipsj70 @catparkerphoto @React19org @VaccineReaction @ChildrensHD @drbeen_medical Oh you mean the treatment that were the first to be used? Yet despite all that time were unable to produce a quality study that they were effective? You mean those treatments? \\n@noname2020202 : @phillipsj70 @JillSaidIt @catparkerphoto @React19org @VaccineReaction @ChildrensHD @drbeen_medical Oh so a government can only focus on a single task until that is resolved? You don\\'t think multiple people can work on multiple things at once? This is what happens when you just repeat what you hear with no critical thinking. You logic is faulty. \\n@catparkerphoto : @veganikauthor @noname2020202 @React19org @VaccineReaction @ChildrensHD @drbeen_medical Well considering out of the 224 million, 6.8 million are vax injured. That is 3.03571429%. But don\\'t take my word for it, go to VAERS &amp; the European system and look at the info reported on all of the adverse reactions. \\n@LummHandy : @catparkerphoto @JillSaidIt @dutch_franklin @Cosmic_Engineer @noname2020202 @React19org @VaccineReaction @ChildrensHD @drbeen_medical I do some of the tests on VITT.\\n\\nHere\\'s a nice flowchart for you to research, you will probably need to do a 4 year degree and then become a scientist that specialises in clotting (me).\\nThat\\'s the quickest way or be a Dr.\\n\\nWith that \"research\" you will also learn vaccines work. https://t.co/XeyAOfudtL \\n@bigbadjohn365 : @MelsyJ @walks_sc @catparkerphoto @noname2020202 @React19org @VaccineReaction @ChildrensHD @drbeen_medical Troll.. just keep taking all the bio weapon injections.. they’re good for you.. double up em. Who needs their bodies natural immunity anyway.. better yet. Go get on a ventilator at the hospital. That will keep you extra safe.. \\n@Cosmic_Engineer : @dutch_franklin @catparkerphoto @noname2020202 @React19org @VaccineReaction @ChildrensHD @drbeen_medical Many of us got the Rona in autumn 2019\\n\\nAnd had near immunity throughout the \"pandemic\"\\n\\nAnd no need to be coerced into an ongoing clinical trial to roll the dice on serious adverse effects from an unknown long term safety profile\\n\\nRona was only risky to a small demographic fyi \\n@catparkerphoto : @LummHandy @JillSaidIt @dutch_franklin @Cosmic_Engineer @noname2020202 @React19org @VaccineReaction @ChildrensHD @drbeen_medical Ok I appreciate the chart. Yes vaccines work, but this jab was not a vaccine. My brain fog can\\'t comprehend the chart right now. I will have to read it later. \\n@LummHandy : @noname2020202 @catparkerphoto @jumpjettwit @React19org @VaccineReaction @ChildrensHD @drbeen_medical There has been less than 50 that have been confirmed died in the UK from the vaccine.\\n\\nSo for her to know ten of those people is highly unlikely.\\n\\nhttps://t.co/r0u5RLHGTq \\n@LummHandy : @catparkerphoto @JillSaidIt @dutch_franklin @Cosmic_Engineer @noname2020202 @React19org @VaccineReaction @ChildrensHD @drbeen_medical You still won\\'t understand it.\\n\\nYou claim you know ten people, yet less than 50 have been confirmed vaccine deaths in the UK.\\n\\nYou are mistaken. \\n@bigbadjohn365 : @ian36613527 @catparkerphoto @noname2020202 @React19org @VaccineReaction @ChildrensHD @drbeen_medical Did you seriously say there is no such thing as herd immunity? Well discussion over. You’ve proven your ignorance completely. So there’s nothing else to say here. Go take more booster shots though. Or go get on a ventilator and take some remdesivir. \\n@MelsyJ : @bigbadjohn365 @walks_sc @catparkerphoto @noname2020202 @React19org @VaccineReaction @ChildrensHD @drbeen_medical Just because someone points out you said something dumb, doesn\\'t make us trolls. Perhaps take a look in the mirror though.\\n\\nYou seem to enjoy making stupid comments though, but alas, we don\\'t need any more convincing that you\\'re an idiot. Ta. \\n@ian36613527 : @bigbadjohn365 @catparkerphoto @noname2020202 @React19org @VaccineReaction @ChildrensHD @drbeen_medical i\\'ve read the science and learnt about immune evasion and immumity neutralisation .... fuck off idiot ,spread your antivaxxer misinformation elsewhere .... \\n@catparkerphoto : @LummHandy @JillSaidIt @dutch_franklin @Cosmic_Engineer @noname2020202 @React19org @VaccineReaction @ChildrensHD @drbeen_medical I am not discounting other deaths, I said I KNOW 10 PEOPLE PERSONALLY THAT DIED from covid. There is a hell of a lot more from the jab. And these are a daily conversations with people living it every day. \\n@LummHandy : @catparkerphoto @JillSaidIt @dutch_franklin @Cosmic_Engineer @noname2020202 @React19org @VaccineReaction @ChildrensHD @drbeen_medical No there is 100% not more who have died from the jab.\\n\\nI\\'m sorry for your own problems, but until it\\'s confirmed caused by the jab, I will not be supporting your cause. \\n@catparkerphoto : @LummHandy @JillSaidIt @dutch_franklin @Cosmic_Engineer @noname2020202 @React19org @VaccineReaction @ChildrensHD @drbeen_medical Well ok. I am sorry you are not. But I know and others who know me, know what I have been going through. What is happening to me. I don\\'t need your support. Those that matter support me. \\n@LummHandy : @catparkerphoto @JillSaidIt @dutch_franklin @Cosmic_Engineer @noname2020202 @React19org @VaccineReaction @ChildrensHD @drbeen_medical Nah\\nPeople like me who work in a hospital matter more than people who spread vaccine misinformation. \\n@walks_sc : @bigbadjohn365 @catparkerphoto @noname2020202 @React19org @VaccineReaction @ChildrensHD @drbeen_medical Having an underlying condition isn\\'t a death sentence. If you don\\'t understand that nasty viruses can exacerbate other issues then there is no hope for you.\\n\\nAnd your maths is still dodgy AF. \\n@bigbadjohn365 : @MelsyJ @walks_sc @catparkerphoto @noname2020202 @React19org @VaccineReaction @ChildrensHD @drbeen_medical I forget what mass formation Psychosis looks like. Here it is though. Do you know what a co-morbidity is? If so, Then ignoring the fact the most people who died from Covid had them. Makes you inept anyway. So just take your boosters and be happy. \\n@catparkerphoto : @LummHandy @JillSaidIt @dutch_franklin @Cosmic_Engineer @noname2020202 @React19org @VaccineReaction @ChildrensHD @drbeen_medical Oh ok. Then tell that to all the health professionals I work with every day in the support groups that are saying the opposite. You are blind to the truth.. and that is scary. \\n@walks_sc : @bigbadjohn365 @MelsyJ @catparkerphoto @noname2020202 @React19org @VaccineReaction @ChildrensHD @drbeen_medical A co-morbidity will mean that a SARS-CoV-2 infection also played a role in the death 🤦\\u200d♂️\\n\\nThanks for clarifying that you don\\'t understand how death certificates work. I\\'ll let you get back to pornhub now. \\n@MelsyJ : @bigbadjohn365 @walks_sc @catparkerphoto @noname2020202 @React19org @VaccineReaction @ChildrensHD @drbeen_medical Yawn.\\n\\nBut also - ignoring that a huge proportion of the population have comorbidities (you might have one yourself), yet saying \\'fuck them\\' is pretty disgusting. \\n@bigbadjohn365 : @MelsyJ @walks_sc @catparkerphoto @noname2020202 @React19org @VaccineReaction @ChildrensHD @drbeen_medical Your confirmation bias is pretty clear. You dont get it both ways. People didnt die of Covid alone. So you are lying to yourselves when you say 178k died in England of Covid. Thats just not true. Go look up the numbers on people who died that took a vent and remdesivr though. \\n@MelsyJ : @bigbadjohn365 @walks_sc @catparkerphoto @noname2020202 @React19org @VaccineReaction @ChildrensHD @drbeen_medical Sounds like you’re speaking as an expert on confirmation bias… in demonstrating it that is. Together with being scientifically illiterate. \\n@bigbadjohn365 : @MelsyJ @walks_sc @catparkerphoto @noname2020202 @React19org @VaccineReaction @ChildrensHD @drbeen_medical Ignore the reality if you want. You have been for over two years at least now anyway. If you dont listen to people who actually treat Patients like Dr Peter McCullough. or listen to Dr Robert Malone or reporters like Del bigtree. Then that’s on you. \\n@walks_sc : @bigbadjohn365 @MelsyJ @catparkerphoto @noname2020202 @React19org @VaccineReaction @ChildrensHD @drbeen_medical LOLZ 😂\\n\\nMcCullough, Malone and Bigtree..... and you have the gall to put those names in the same tweet as \"Ignore the reality if you want\" 🤣\\n\\nIrony level &gt; 9000\\n\\nAnyway, do tell us the \"vent and remdesivir\" numbers, as apparently you know them. \\n@MelsyJ : @bigbadjohn365 @walks_sc @catparkerphoto @noname2020202 @React19org @VaccineReaction @ChildrensHD @drbeen_medical Ah, I see - you really want to double down on your lack of credibility with two ludicrous name drops as \\'evidence\\'. Hilarious. \\n@bigbadjohn365 : @walks_sc @MelsyJ @catparkerphoto @noname2020202 @React19org @VaccineReaction @ChildrensHD @drbeen_medical So the most published dr on Covid 19 isn’t credible to you? There’s no reason to carry on with your level of cognitive dissonance. You believe Anthony fauci. 🤣 a man who has never treated anyone in over 40 years if ever in his career. A total bureaucrat.  Wow. \\n@Cosmic_Engineer : @LummHandy @catparkerphoto @JillSaidIt @dutch_franklin @noname2020202 @React19org @VaccineReaction @ChildrensHD @drbeen_medical Now do \"died with the jab\"  like the horseshit, never seen before metric used for the Rona\\n\\nMaybe chat with a Pathologist and see how their entire profession was ignored.  One that requires far more training and critical thinking than most \\n@walks_sc : @bigbadjohn365 @MelsyJ @catparkerphoto @noname2020202 @React19org @VaccineReaction @ChildrensHD @drbeen_medical \"Most published\" where exactly? Which peer reviewed journals? Just be advised that I have publications on SARS-CoV-2 in scientific journals, so I might be winning on that score! \\n@phillipsj70 : @noname2020202 @JillSaidIt @catparkerphoto @React19org @VaccineReaction @ChildrensHD @drbeen_medical Just pointing out the numbers. And I don\\'t think the government does anything well, besides waste out money. \\n@fucklongcovid : can we please discuss the fact you now need a dozen rapid tests and a PCR (or two) to even begin to determine if you have #COVID? we have millions of people convinced they all simultaneously have \"colds\".. in august!! \\n@SherylBR549 : @fucklongcovid Thank you! Everybody has allergies. 🙄 \\n@smaragdhi : @fucklongcovid The neverending pandemic also imposes an extra financial burden on most US families and households. One RAT test isn\\'t cheap. Free tests from the Fed gov aren\\'t enough for most households. Who\\'s going to buy extra rapid tests when they have to buy food and gas first? \\n@fucklongcovid : @smaragdhi 🎯🎯🎯🎯🎯🎯🎯🎯🎯🎯🎯🎯🎯🎯🎯🎯🎯🎯🎯🎯🎯🎯🎯🎯🎯🎯🎯🎯🎯🎯🎯🎯🎯🎯🎯🎯 \\n@smaragdhi : @fucklongcovid This is also true in most countries of the world, my country of birth included. \\n@fucklongcovid : @smaragdhi perhaps.. hear me out.. we could make a test that was fairly reliable? crazy, i know!! \\n@smaragdhi : @fucklongcovid I think most RAT tests are reliable in a sense that they can detect the variants they were designed to test at the time of manufacturing. But we have a new variant every month, and store available tests just can\\'t keep up with new Covid viruses for this reason. \\n@bilitated_dee : @fucklongcovid if I hear the word cold one more time, and it isn\\'t referring to the hopefully soon weather, I\\'m going to have a problem. \\n@fucklongcovid : @smaragdhi what about a test that\\'s not variant dependent? (i know nothing) i\\'ve also heard from some that it\\'s a delicate balance in determining just how sensitive to make the tests themselves. clearly this is all hypothetical because no one will be dedicating time or money to this. whee! \\n@fucklongcovid : @bilitated_dee everyone\\'s got the sniffles but don\\'t worry.. it\\'s not the brain damaging virus that\\'s already killed millions. can\\'t be! nope nope nope \\n@bilitated_dee : @fucklongcovid the amount of denial out there is astounding\\nIn addition to not wanting to get sick, the denial is another reason why I don\\'t want to be around people right now. It\\'s absolutely unpalatable to me. \\n@smaragdhi : @fucklongcovid I think some of them may be variant independent but I don\\'t know for sure. The government never says which ones are reliable though. I don\\'t think they would ever admit it. I have to ask my husband to explain how it works again. I\\'m quite bad at biology (but pretty good at math). \\n@fucklongcovid : @bilitated_dee multiple levels of denial all stacked atop one another.. i swear i need to design the #COVID Denial Pyramid™️ \\n@fucklongcovid : @smaragdhi antigen tests often fail to identify people who are actually infected, a shortcoming the FDA acknowledges. “Positive results from antigen tests are highly accurate,” the FDA writes, “but there is a higher chance of false negatives, so negative results do not rule out infection.” https://t.co/meZXek0A1N \\n@fucklongcovid : @smaragdhi source ⬇️\\nhttps://t.co/ACYpdI9Zdu \\n@trailrunner402 : @SherylBR549 @fucklongcovid Fortunately for me, that is indeed true. If I catch COVID with all the precautions I am taking, there is zero hope for anyone.  No kids at home, no friend or family visits, N95 and eye protection 100% indoors, no take out, no restaurants. https://t.co/1wVI2Vh4SJ \\n@fucklongcovid : @trailrunner402 @SherylBR549 pollen dot com!! i too suffer from allergies 🤧 some have suggested a connection between #LongCovid &amp; atopy.. i think the jury is still out on that though. good luck staying #COVID free!! your vigilance is commendable (and should be the norm) \\n@69L46 : @smaragdhi @fucklongcovid I hate it that they essentially use this as motivation to avoid any mitigations. \\n@sarahksojourner : @fucklongcovid Youngest started school last week and now has a cough.  So far, two negative RATs from days 1 and 2.  Had a fever day 1 but now fine.  Didn’t test yesterday but thinking about testing again. \\n@69L46 : @smaragdhi @fucklongcovid The tests were designed to detect the protein that makes up the shell of the virus.\\n\\nIn theory, this protein is subject to much less evolutionary pressure to mutate as compared to the spike protein where most of the mutations are occurring. \\n@69L46 : @smaragdhi @fucklongcovid With PCR, you can multiply the signal (almost like a photo multiplier tube). With RAT, I suspect that the location of the max viral load (nose vs throat) and difference in sampling technique is the leading cause of RATs missing positive cases. \\n@fucklongcovid : @69L46 @smaragdhi very interesting, thank you! stupid question - has anyone proposed or demonstrating any competing methodologies that could be applicable in a home test sort of application? \\n@69L46 : @fucklongcovid @smaragdhi I\\'ve seen home tests that are supposed to be something between a home RAT and a lab PCR. But these are mondo-expensive &gt;$40ea. I don\\'t recall how they work, though.\\n\\nI\\'ve seen SBIR solicitations for real-time detection of SARS2 in the air, but that would be a few years away. \\n@fucklongcovid : @sarahksojourner ugh. i\\'m so so sorry.. #COVID or not i don\\'t recall getting sick my first week back at school in all my years. i guess the real question is do you expect the rapid to give you a fair &amp; accurate reading? \\n@fucklongcovid : @69L46 @smaragdhi crazy!! thank you for all your insight! should we be taking wagers on when the government announces all those free rapids they sent us are bunk and we should throw them out? or would they prefer we just keep using them and testing (false) negative.. for safety theater\\'s sake? \\n@sarahksojourner : @fucklongcovid I know that RATs have been taking a long time to turn +.  Hoping it is allergies? https://t.co/sudrGWs2Nf \\n@fucklongcovid : @sarbarella nooooo!! i swear these variants each have their signature sound.. early on it was the deep, wet coughs and now it\\'s the aggressive sneezing. either your workplace got really dusty in the last few years or...... \\n@SherylBR549 : @fucklongcovid @trailrunner402 I just found out that the lovely green weeds in my yard is ragweed. 🤣 \\n@longcovidgf : @bilitated_dee @fucklongcovid the worst part about this for me is when i hear \"i just have a cold!!\" from someone i assume they already have tested. nope. not usually true. \\n@fucklongcovid : @sarahksojourner i hope so too!! the fever though 🤔 \\n@fucklongcovid : @longcovidgf @bilitated_dee \"i just [assume i] have a cold!!\" \\n@Toonces13451094 : @fucklongcovid 15 and all negative. The tests are worthless. \\n@fucklongcovid : @Toonces13451094 damn. that\\'s some dedication right there. i\\'d suggest to get a PCR but \"good\" news.. they too are semi-useless at this point! \\n@trailrunner402 : @SherylBR549 @fucklongcovid LOL!  Every time I start sneezing, I check the pollen count.  100% of the time, it’s above 8.5.  Bingo.  But I can’t tell you how many RATs I did just to be absolutely sure!  I also had the distinct side effect of…. \\n@trailrunner402 : @SherylBR549 @fucklongcovid ….sniffling and throat clearing and coughing and sneezing behind my N95 in the grocery due to this - and I learned that no one F-s with me in that circumstance.  Lightbulb moment 💡!  How NOT to get harassed for wearing my mask!!! 😜 \\n@fucklongcovid : @trailrunner402 @SherylBR549 but but but.. i thought it was just a mild flu??! 😵\\u200d💫 \\n@SherylBR549 : @trailrunner402 @fucklongcovid Keep wearing your mask! 🌻 \\n@SherylBR549 : @fucklongcovid @trailrunner402 You must be acquainted with my family. Unvaxed Niece and baby had Covid 2 weeks ago. Saw a photo of my mom with them unmasked. If hearing about my #LongCovid for 2 years isn’t a deterrent I don’t know what else to do. They want to come visit me- nope. \\n@fucklongcovid : @sarbarella ugh. reallllly hoping you managed to dodge reinfection! i think we all need these for such occasions henceforth https://t.co/THHYyKaoKK \\n@trailrunner402 : @SherylBR549 @fucklongcovid Totally understand!  Your family IS my family!  I am sure of it!  Father died of COVID, mother now has COVID.  All unvaccinated, FL DeSantis fans.  Can only imagine what comes next.  Haven’t seen them since Jan 2020. \\n@SherylBR549 : @fucklongcovid @trailrunner402 Poor us! I’ve tried everything but they don’t care. \\n@trailrunner402 : @SherylBR549 @fucklongcovid How does the saying go?  When the student is ready, the teacher appears. \\n@SherylBR549 : @trailrunner402 @fucklongcovid I’m so sorry about your dad, and your mom. I don’t understand it. \\n@SherylBR549 : @trailrunner402 @fucklongcovid They won’t be ready for a teacher until it’s too late \\n@trailrunner402 : @SherylBR549 @fucklongcovid We are seeing the worst of human nature.  When humans can’t deal with uncertainty, they make up absolutes to self soothe.  Unfortunately, the absolutes they are clinging to are abjectly false. \\n@trailrunner402 : @SherylBR549 @fucklongcovid Yep.  Too true. \\n@SherylBR549 : @trailrunner402 @fucklongcovid Aptly said. \\n@lbrownster : @fucklongcovid I’ve had COVID 3x (yup, I’m vaxed and boosted) and I no longer test positive on rapid antigen tests. Only PCR 🤷🏼\\u200d♀️ . First #COVID19 infection 11/23/20 and #LC since 4/3/2021 \\n@BaronMunc : @fucklongcovid Ahh yes… the traditional August cold… during a pandemic \\n@fucklongcovid : @BaronMunc makes perfect sense! \\n@bilitated_dee : @longcovidgf @fucklongcovid agreed! \\n@fucklongcovid : @SherylBR549 @trailrunner402 indeed!!! @trailrunner402 nailed it! \\n@fucklongcovid : @trailrunner402 @SherylBR549 so sorry about your father &amp; now your mother. i hope she makes a full and speedy recovery ❤️ i can\\'t imagine what it must feel like watching this play out in realtime. so much wtf \\n@fucklongcovid : @lbrownster damn. i\\'m so sorry ❤️ have you looked into the reasoning behind this? i have heard it mentioned.. something about \"seroconversion\" i do believe. freely admit i may have it confused with another concept. stupid #LongCovid brain damage \\n@fucklongcovid : @sarbarella never seen it. it looks.. interesting! \\n@fucklongcovid : @sarbarella i will have to check it out.. thank you! still haven\\'t seen six million dollar man either \\n@lbrownster : @fucklongcovid CT scan showed #LC caused swelling in my brain 🧠 in the Hippocampus which regulates emotions and memory—among other things.  I went to #SRAL for OT and SLP and did TMS with little success. As you know, every Dr. just says “it is going to take time” \\n@narstyfakker : @fucklongcovid I have a wicked flu with headache fever and chills sore throat ect.. tested negative with an at home Rapid test 🙄 \\n@sarahksojourner : @fucklongcovid Retested this morning - day 5 negative- youngest feels fine but still has intermittent cough \\n@fucklongcovid : @lbrownster damn. i\\'m so sorry ❤️ a lot of these acronyms are greek to me but i\\'ll research them when my brain is something other than a mostly useless inhabitant of my skull. sounds like you have better doctors than me! mine love to say things like \"oh, that\\'s perfectly normal\" 😔 \\n@fucklongcovid : @CharityFeb how much is the CDC paying you? 😛 \\n@fucklongcovid : @narstyfakker nooooooooo!!!! i\\'m so sorry. are you going to bother trying to get a PCR (which comes with its own risk of infection) or just isolate and ride it out? i really hope you feel better soon ❤️❤️❤️ \\n@fucklongcovid : @sarahksojourner feeling fine is great! cough not so much. so much uncertainty! hopefully they keep feeling better &amp; better https://t.co/9c3y4FFtce \\n@narstyfakker : @fucklongcovid I think the hospital is one of the only places to get an accurate PCR test, and the risk of sounding stupid… what do you mean the test has risks of infecting? \\n@fucklongcovid : @narstyfakker oh, i meant exactly what you\\'re describing.. going to hospital / urgent care / drugstore full of sick people. not work the additional risk imho but some people need to know if they\\'re positive so they can inform their employer, etc'"
            ],
            "application/vnd.google.colaboratory.intrinsic+json": {
              "type": "string"
            }
          },
          "metadata": {},
          "execution_count": 7
        }
      ]
    },
    {
      "cell_type": "code",
      "source": [
        "with open(\"CovidVaccine.txt\", \"w\") as text_file:\n",
        "    text_file.write(text)"
      ],
      "metadata": {
        "id": "M4zNZRlM8FUV"
      },
      "execution_count": null,
      "outputs": []
    },
    {
      "cell_type": "markdown",
      "source": [
        "##In one call"
      ],
      "metadata": {
        "id": "2p54wuCj2tfC"
      }
    },
    {
      "cell_type": "code",
      "source": [
        "list_time = ['2021-01-01T10:00:00Z',\n",
        " '2021-02-05T23:00:00Z',\n",
        " '2021-03-10T23:00:00Z',\n",
        "'2021-04-12T23:00:00Z',\n",
        " '2021-05-15T23:00:00Z',\n",
        " '2021-06-17T23:00:00Z',\n",
        " '2021-07-20T23:00:00Z',\n",
        "  '2021-08-22T23:00:00Z',\n",
        " '2021-09-25T23:00:00Z',\n",
        " '2021-10-27T23:59:59Z']"
      ],
      "metadata": {
        "id": "BCsfEnefP5eY"
      },
      "execution_count": null,
      "outputs": []
    },
    {
      "cell_type": "code",
      "source": [
        "list_time = [t.replace(\"-01-\", \"-02-\") for t in list_time]\n",
        "list_time"
      ],
      "metadata": {
        "id": "A0foENz8P5eZ"
      },
      "execution_count": null,
      "outputs": []
    },
    {
      "cell_type": "code",
      "source": [
        "list_time = [t.replace(\"07-07T\", \"08-20T\") for t in list_time]\n",
        "list_time"
      ],
      "metadata": {
        "colab": {
          "base_uri": "https://localhost:8080/"
        },
        "outputId": "aa0ab3c3-1e27-4635-9bd3-d7087f477ebf",
        "id": "90gLhZI-kOdZ"
      },
      "execution_count": null,
      "outputs": [
        {
          "output_type": "execute_result",
          "data": {
            "text/plain": [
              "['2022-08-20T00:00:00Z',\n",
              " '2022-08-20T03:00:00Z',\n",
              " '2022-08-20T06:00:00Z',\n",
              " '2022-08-20T11:00:00Z',\n",
              " '2022-08-20T13:00:00Z',\n",
              " '2022-08-20T16:00:00Z',\n",
              " '2022-08-20T19:00:00Z',\n",
              " '2022-08-20T21:00:00Z',\n",
              " '2022-08-20T23:00:00Z',\n",
              " '2022-08-20T23:59:59Z']"
            ]
          },
          "metadata": {},
          "execution_count": 491
        }
      ]
    },
    {
      "cell_type": "code",
      "source": [
        "query = \"(#covid OR #vaccines OR #antivaxx OR #antivaccination OR #SARSCoV OR phizer OR #Vaccinated) lang:en -is:retweet\"\n"
      ],
      "metadata": {
        "id": "RTaE1zSzP5ea"
      },
      "execution_count": null,
      "outputs": []
    },
    {
      "cell_type": "code",
      "source": [
        "import time"
      ],
      "metadata": {
        "id": "PFLLqbnGXPKE"
      },
      "execution_count": null,
      "outputs": []
    },
    {
      "cell_type": "code",
      "source": [
        "st = 0\n",
        "en = 1\n",
        "for i in range(len(list_time) - 1):\n",
        "  print('Start:', str(list_time[st]), \"End:\", str(list_time[en]))\n",
        "\n",
        "\n",
        "\n",
        "\n",
        "  start_time = str(list_time[st])\n",
        "  end_time = str(list_time[en])\n",
        "  # client.search_all_tweets  -  with time.sleep(1.5)\n",
        "  tweets = client.search_recent_tweets(query=query,\n",
        "                                     tweet_fields = [\"created_at\", \"text\", \"conversation_id\", \"public_metrics\", \"id\"], \n",
        "                                     user_fields = [\"name\", \"username\", \"description\"],\n",
        "                                     expansions='author_id', start_time=start_time,end_time=end_time,  \n",
        "                                     max_results = 100)\n",
        "  st+=1\n",
        "  en+=1\n",
        "  time.sleep(1.5)\n",
        "  \n",
        "  print(len(tweets.data), len(tweets.includes['users']))\n",
        "  list_ids_query = []\n",
        "  tweet_info_ls1 = []\n",
        "  users = {u[\"id\"]: u for u in tweets.includes['users']}\n",
        "\n",
        "  for tweet in tweets.data:\n",
        "    if users[tweet.author_id]:\n",
        "      user = users[tweet.author_id]\n",
        "      if int(tweet.public_metrics['reply_count']) > 4:    \n",
        "        tweet_info = {\n",
        "          'id':tweet.id, \n",
        "          'created_at': tweet.created_at,\n",
        "          'text': tweet.text,\n",
        "          'conversation_id': tweet.conversation_id, \n",
        "          'public_metrics': tweet.public_metrics, \n",
        "          'username': user.username}\n",
        "        tweet_info_ls1.append(tweet_info)\n",
        "        list_ids_query.append(tweet.id)\n",
        "\n",
        "  tweets_df = pd.DataFrame(tweet_info_ls1)\n",
        "  print('shape: ', tweets_df.shape)\n",
        "  print('len (list_ids_query): ', len(list_ids_query))\n",
        "\n",
        "  #list_ids_query[:5], len(list_ids_query)\n",
        "  #tweets_df['date'] = tweets_df['created_at'].dt.tz_localize(None)\n",
        "  tweets_df_all = pd.concat([tweets_df_all, tweets_df], axis = 0)\n",
        "  tweets_df_all = tweets_df_all.drop_duplicates(['text'])\n",
        "  #time.sleep(1.5)\n",
        "  for twid in list_ids_query:\n",
        "    tweets = client.search_recent_tweets(query='conversation_id:'+str(twid),\n",
        "                                     tweet_fields = [\"created_at\", \"text\", \"conversation_id\", \"public_metrics\", \"id\"], \n",
        "                                     user_fields = [\"username\"],\n",
        "                                     expansions='author_id', max_results = 100)\n",
        "    try:\n",
        "      print(len(tweets.data), len(tweets.includes['users']))\n",
        "\n",
        "      tweet_info_ls1 = []\n",
        "      users = {u[\"id\"]: u for u in tweets.includes['users']}\n",
        "\n",
        "      for tweet in tweets.data:\n",
        "        if users[tweet.author_id]:\n",
        "          user = users[tweet.author_id]\n",
        "          tweet_info = {\n",
        "          'id':tweet.id,             \n",
        "          'created_at': tweet.created_at,\n",
        "          'text': tweet.text,\n",
        "          'conversation_id': tweet.conversation_id, \n",
        "          'public_metrics': tweet.public_metrics, \n",
        "          'username': user.username}\n",
        "          tweet_info_ls1.append(tweet_info)\n",
        "\n",
        "      tweets_df = pd.DataFrame(tweet_info_ls1)\n",
        "      print('shape: ', tweets_df.shape)\n",
        " \n",
        "      #tweets_df['date'] = tweets_df['created_at'].dt.tz_localize(None)\n",
        "      tweets_df_all = pd.concat([tweets_df_all, tweets_df], axis = 0)\n",
        "      tweets_df_all = tweets_df_all.drop_duplicates(['text', 'conversation_id'])\n",
        "      print(tweets_df_all.shape)\n",
        "      print(\"********************************\\n\")\n",
        "      #time.sleep(1.5)\n",
        "\n",
        "    except:\n",
        "      print('none')\n",
        "      #time.sleep(1.5)\n",
        "      continue"
      ],
      "metadata": {
        "colab": {
          "base_uri": "https://localhost:8080/"
        },
        "outputId": "a6487916-a8b0-4ab2-b14d-98352430ee1b",
        "id": "THLnBketP5eb"
      },
      "execution_count": null,
      "outputs": [
        {
          "output_type": "stream",
          "name": "stdout",
          "text": [
            "Start: 2022-08-20T00:00:00Z End: 2022-08-20T03:00:00Z\n",
            "100 80\n",
            "shape:  (3, 6)\n",
            "len (list_ids_query):  3\n",
            "10 8\n",
            "shape:  (10, 6)\n",
            "(3515, 8)\n",
            "********************************\n",
            "\n",
            "7 7\n",
            "shape:  (7, 6)\n",
            "(3522, 8)\n",
            "********************************\n",
            "\n",
            "66 48\n",
            "shape:  (66, 6)\n",
            "(3588, 8)\n",
            "********************************\n",
            "\n",
            "Start: 2022-08-20T03:00:00Z End: 2022-08-20T06:00:00Z\n",
            "100 64\n",
            "shape:  (1, 6)\n",
            "len (list_ids_query):  1\n",
            "7 7\n",
            "shape:  (7, 6)\n",
            "(3595, 8)\n",
            "********************************\n",
            "\n",
            "Start: 2022-08-20T06:00:00Z End: 2022-08-20T11:00:00Z\n",
            "96 86\n",
            "shape:  (0, 0)\n",
            "len (list_ids_query):  0\n",
            "Start: 2022-08-20T11:00:00Z End: 2022-08-20T13:00:00Z\n",
            "100 77\n",
            "shape:  (0, 0)\n",
            "len (list_ids_query):  0\n",
            "Start: 2022-08-20T13:00:00Z End: 2022-08-20T16:00:00Z\n",
            "99 64\n",
            "shape:  (2, 6)\n",
            "len (list_ids_query):  2\n",
            "9 6\n",
            "shape:  (9, 6)\n",
            "(3606, 8)\n",
            "********************************\n",
            "\n",
            "none\n",
            "Start: 2022-08-20T16:00:00Z End: 2022-08-20T19:00:00Z\n",
            "100 89\n",
            "shape:  (2, 6)\n",
            "len (list_ids_query):  2\n",
            "11 8\n",
            "shape:  (11, 6)\n",
            "(3619, 8)\n",
            "********************************\n",
            "\n",
            "8 8\n",
            "shape:  (8, 6)\n",
            "(3626, 8)\n",
            "********************************\n",
            "\n",
            "Start: 2022-08-20T19:00:00Z End: 2022-08-20T21:00:00Z\n",
            "100 88\n",
            "shape:  (3, 6)\n",
            "len (list_ids_query):  3\n",
            "11 7\n",
            "shape:  (11, 6)\n",
            "(3640, 8)\n",
            "********************************\n",
            "\n",
            "7 7\n",
            "shape:  (7, 6)\n",
            "(3647, 8)\n",
            "********************************\n",
            "\n",
            "52 19\n",
            "shape:  (52, 6)\n",
            "(3699, 8)\n",
            "********************************\n",
            "\n",
            "Start: 2022-08-20T21:00:00Z End: 2022-08-20T23:00:00Z\n",
            "100 82\n",
            "shape:  (0, 0)\n",
            "len (list_ids_query):  0\n",
            "Start: 2022-08-20T23:00:00Z End: 2022-08-20T23:59:59Z\n",
            "62 56\n",
            "shape:  (0, 0)\n",
            "len (list_ids_query):  0\n"
          ]
        }
      ]
    },
    {
      "cell_type": "code",
      "source": [
        "tweets_df_all.drop_duplicates(['text', 'username']).shape, tweets_df_all.drop_duplicates(['text']).shape"
      ],
      "metadata": {
        "colab": {
          "base_uri": "https://localhost:8080/"
        },
        "id": "-7usmWyJXrjx",
        "outputId": "1fac8726-82d3-40d6-fcc6-40e3bd4e4848"
      },
      "execution_count": null,
      "outputs": [
        {
          "output_type": "execute_result",
          "data": {
            "text/plain": [
              "((3699, 8), (3699, 8))"
            ]
          },
          "metadata": {},
          "execution_count": 495
        }
      ]
    },
    {
      "cell_type": "code",
      "source": [
        "tweets_df_all.conversation_id.nunique()"
      ],
      "metadata": {
        "colab": {
          "base_uri": "https://localhost:8080/"
        },
        "id": "QjBSAhHXaqBO",
        "outputId": "b430f2c0-3cdb-444c-e362-f4eb9d31e9d1"
      },
      "execution_count": null,
      "outputs": [
        {
          "output_type": "execute_result",
          "data": {
            "text/plain": [
              "516"
            ]
          },
          "metadata": {},
          "execution_count": 494
        }
      ]
    },
    {
      "cell_type": "code",
      "source": [
        "tweets_df_all.tail(2)"
      ],
      "metadata": {
        "colab": {
          "base_uri": "https://localhost:8080/",
          "height": 278
        },
        "id": "hiV5oibNP4lu",
        "outputId": "de4028be-5f17-4280-a98e-4eb68c75f40a"
      },
      "execution_count": null,
      "outputs": [
        {
          "output_type": "execute_result",
          "data": {
            "text/plain": [
              "                                                                                                                                                                                                       text  \\\n",
              "22  @ThePromisedImam Covid est un Stratagème Robuste émanant d’Allah..\\nl-Imam Al-Mahdi Nasser Mohammed Al-Yamani\\n12 - Jomadah II - 1443e\\n15 - 01 - 2022\\n08:52 Matin\\nhttps://t.co/MaE48OZGqa\\n8\\n#مص...   \n",
              "23                                                                                                                                                                 @ThePromisedImam https://t.co/MUW0cEXrkC   \n",
              "\n",
              "    conversation_id  \\\n",
              "22     1.560766e+18   \n",
              "23     1.560766e+18   \n",
              "\n",
              "                                                               public_metrics  \\\n",
              "22  {'retweet_count': 4, 'reply_count': 0, 'like_count': 5, 'quote_count': 0}   \n",
              "23  {'retweet_count': 3, 'reply_count': 0, 'like_count': 5, 'quote_count': 0}   \n",
              "\n",
              "           username date text_R            id                created_at  \n",
              "22  alhmdll43318289  NaT    NaN  1.560777e+18 2022-08-19 23:51:57+00:00  \n",
              "23  yI5sqJlesbj8qIX  NaT    NaN  1.560769e+18 2022-08-19 23:20:05+00:00  "
            ],
            "text/html": [
              "\n",
              "  <div id=\"df-57a5c7e8-b39d-4a4f-ae9b-a42e90177f26\">\n",
              "    <div class=\"colab-df-container\">\n",
              "      <div>\n",
              "<style scoped>\n",
              "    .dataframe tbody tr th:only-of-type {\n",
              "        vertical-align: middle;\n",
              "    }\n",
              "\n",
              "    .dataframe tbody tr th {\n",
              "        vertical-align: top;\n",
              "    }\n",
              "\n",
              "    .dataframe thead th {\n",
              "        text-align: right;\n",
              "    }\n",
              "</style>\n",
              "<table border=\"1\" class=\"dataframe\">\n",
              "  <thead>\n",
              "    <tr style=\"text-align: right;\">\n",
              "      <th></th>\n",
              "      <th>text</th>\n",
              "      <th>conversation_id</th>\n",
              "      <th>public_metrics</th>\n",
              "      <th>username</th>\n",
              "      <th>date</th>\n",
              "      <th>text_R</th>\n",
              "      <th>id</th>\n",
              "      <th>created_at</th>\n",
              "    </tr>\n",
              "  </thead>\n",
              "  <tbody>\n",
              "    <tr>\n",
              "      <th>22</th>\n",
              "      <td>@ThePromisedImam Covid est un Stratagème Robuste émanant d’Allah..\\nl-Imam Al-Mahdi Nasser Mohammed Al-Yamani\\n12 - Jomadah II - 1443e\\n15 - 01 - 2022\\n08:52 Matin\\nhttps://t.co/MaE48OZGqa\\n8\\n#مص...</td>\n",
              "      <td>1.560766e+18</td>\n",
              "      <td>{'retweet_count': 4, 'reply_count': 0, 'like_count': 5, 'quote_count': 0}</td>\n",
              "      <td>alhmdll43318289</td>\n",
              "      <td>NaT</td>\n",
              "      <td>NaN</td>\n",
              "      <td>1.560777e+18</td>\n",
              "      <td>2022-08-19 23:51:57+00:00</td>\n",
              "    </tr>\n",
              "    <tr>\n",
              "      <th>23</th>\n",
              "      <td>@ThePromisedImam https://t.co/MUW0cEXrkC</td>\n",
              "      <td>1.560766e+18</td>\n",
              "      <td>{'retweet_count': 3, 'reply_count': 0, 'like_count': 5, 'quote_count': 0}</td>\n",
              "      <td>yI5sqJlesbj8qIX</td>\n",
              "      <td>NaT</td>\n",
              "      <td>NaN</td>\n",
              "      <td>1.560769e+18</td>\n",
              "      <td>2022-08-19 23:20:05+00:00</td>\n",
              "    </tr>\n",
              "  </tbody>\n",
              "</table>\n",
              "</div>\n",
              "      <button class=\"colab-df-convert\" onclick=\"convertToInteractive('df-57a5c7e8-b39d-4a4f-ae9b-a42e90177f26')\"\n",
              "              title=\"Convert this dataframe to an interactive table.\"\n",
              "              style=\"display:none;\">\n",
              "        \n",
              "  <svg xmlns=\"http://www.w3.org/2000/svg\" height=\"24px\"viewBox=\"0 0 24 24\"\n",
              "       width=\"24px\">\n",
              "    <path d=\"M0 0h24v24H0V0z\" fill=\"none\"/>\n",
              "    <path d=\"M18.56 5.44l.94 2.06.94-2.06 2.06-.94-2.06-.94-.94-2.06-.94 2.06-2.06.94zm-11 1L8.5 8.5l.94-2.06 2.06-.94-2.06-.94L8.5 2.5l-.94 2.06-2.06.94zm10 10l.94 2.06.94-2.06 2.06-.94-2.06-.94-.94-2.06-.94 2.06-2.06.94z\"/><path d=\"M17.41 7.96l-1.37-1.37c-.4-.4-.92-.59-1.43-.59-.52 0-1.04.2-1.43.59L10.3 9.45l-7.72 7.72c-.78.78-.78 2.05 0 2.83L4 21.41c.39.39.9.59 1.41.59.51 0 1.02-.2 1.41-.59l7.78-7.78 2.81-2.81c.8-.78.8-2.07 0-2.86zM5.41 20L4 18.59l7.72-7.72 1.47 1.35L5.41 20z\"/>\n",
              "  </svg>\n",
              "      </button>\n",
              "      \n",
              "  <style>\n",
              "    .colab-df-container {\n",
              "      display:flex;\n",
              "      flex-wrap:wrap;\n",
              "      gap: 12px;\n",
              "    }\n",
              "\n",
              "    .colab-df-convert {\n",
              "      background-color: #E8F0FE;\n",
              "      border: none;\n",
              "      border-radius: 50%;\n",
              "      cursor: pointer;\n",
              "      display: none;\n",
              "      fill: #1967D2;\n",
              "      height: 32px;\n",
              "      padding: 0 0 0 0;\n",
              "      width: 32px;\n",
              "    }\n",
              "\n",
              "    .colab-df-convert:hover {\n",
              "      background-color: #E2EBFA;\n",
              "      box-shadow: 0px 1px 2px rgba(60, 64, 67, 0.3), 0px 1px 3px 1px rgba(60, 64, 67, 0.15);\n",
              "      fill: #174EA6;\n",
              "    }\n",
              "\n",
              "    [theme=dark] .colab-df-convert {\n",
              "      background-color: #3B4455;\n",
              "      fill: #D2E3FC;\n",
              "    }\n",
              "\n",
              "    [theme=dark] .colab-df-convert:hover {\n",
              "      background-color: #434B5C;\n",
              "      box-shadow: 0px 1px 3px 1px rgba(0, 0, 0, 0.15);\n",
              "      filter: drop-shadow(0px 1px 2px rgba(0, 0, 0, 0.3));\n",
              "      fill: #FFFFFF;\n",
              "    }\n",
              "  </style>\n",
              "\n",
              "      <script>\n",
              "        const buttonEl =\n",
              "          document.querySelector('#df-57a5c7e8-b39d-4a4f-ae9b-a42e90177f26 button.colab-df-convert');\n",
              "        buttonEl.style.display =\n",
              "          google.colab.kernel.accessAllowed ? 'block' : 'none';\n",
              "\n",
              "        async function convertToInteractive(key) {\n",
              "          const element = document.querySelector('#df-57a5c7e8-b39d-4a4f-ae9b-a42e90177f26');\n",
              "          const dataTable =\n",
              "            await google.colab.kernel.invokeFunction('convertToInteractive',\n",
              "                                                     [key], {});\n",
              "          if (!dataTable) return;\n",
              "\n",
              "          const docLinkHtml = 'Like what you see? Visit the ' +\n",
              "            '<a target=\"_blank\" href=https://colab.research.google.com/notebooks/data_table.ipynb>data table notebook</a>'\n",
              "            + ' to learn more about interactive tables.';\n",
              "          element.innerHTML = '';\n",
              "          dataTable['output_type'] = 'display_data';\n",
              "          await google.colab.output.renderOutput(dataTable, element);\n",
              "          const docLink = document.createElement('div');\n",
              "          docLink.innerHTML = docLinkHtml;\n",
              "          element.appendChild(docLink);\n",
              "        }\n",
              "      </script>\n",
              "    </div>\n",
              "  </div>\n",
              "  "
            ]
          },
          "metadata": {},
          "execution_count": 457
        }
      ]
    },
    {
      "cell_type": "code",
      "source": [
        "tweets_df_all = tweets_df_all.reset_index(drop=True)"
      ],
      "metadata": {
        "id": "DXwMYToVlFhu"
      },
      "execution_count": null,
      "outputs": []
    },
    {
      "cell_type": "code",
      "source": [
        "ids = tweets_df_all[tweets_df_all.date.isna()].index \n",
        "tweets_df_all.loc[ids, 'date'] = tweets_df_all[tweets_df_all.date.isna()]['created_at'].dt.tz_localize(None)\n",
        "tweets_df_all.loc[ids]"
      ],
      "metadata": {
        "id": "C0_F-1qNlFhv"
      },
      "execution_count": null,
      "outputs": []
    },
    {
      "cell_type": "code",
      "source": [
        "tweets_df_all[tweets_df_all.date.isna()]"
      ],
      "metadata": {
        "colab": {
          "base_uri": "https://localhost:8080/",
          "height": 49
        },
        "outputId": "6d834739-e8f7-46f5-e84f-dd49f48faf67",
        "id": "pa2LP9SClFhw"
      },
      "execution_count": null,
      "outputs": [
        {
          "output_type": "execute_result",
          "data": {
            "text/plain": [
              "Empty DataFrame\n",
              "Columns: [text, conversation_id, public_metrics, username, date, text_R, id, created_at]\n",
              "Index: []"
            ],
            "text/html": [
              "\n",
              "  <div id=\"df-7afb5174-1ac0-4d2e-a1c3-6cb32177dff0\">\n",
              "    <div class=\"colab-df-container\">\n",
              "      <div>\n",
              "<style scoped>\n",
              "    .dataframe tbody tr th:only-of-type {\n",
              "        vertical-align: middle;\n",
              "    }\n",
              "\n",
              "    .dataframe tbody tr th {\n",
              "        vertical-align: top;\n",
              "    }\n",
              "\n",
              "    .dataframe thead th {\n",
              "        text-align: right;\n",
              "    }\n",
              "</style>\n",
              "<table border=\"1\" class=\"dataframe\">\n",
              "  <thead>\n",
              "    <tr style=\"text-align: right;\">\n",
              "      <th></th>\n",
              "      <th>text</th>\n",
              "      <th>conversation_id</th>\n",
              "      <th>public_metrics</th>\n",
              "      <th>username</th>\n",
              "      <th>date</th>\n",
              "      <th>text_R</th>\n",
              "      <th>id</th>\n",
              "      <th>created_at</th>\n",
              "    </tr>\n",
              "  </thead>\n",
              "  <tbody>\n",
              "  </tbody>\n",
              "</table>\n",
              "</div>\n",
              "      <button class=\"colab-df-convert\" onclick=\"convertToInteractive('df-7afb5174-1ac0-4d2e-a1c3-6cb32177dff0')\"\n",
              "              title=\"Convert this dataframe to an interactive table.\"\n",
              "              style=\"display:none;\">\n",
              "        \n",
              "  <svg xmlns=\"http://www.w3.org/2000/svg\" height=\"24px\"viewBox=\"0 0 24 24\"\n",
              "       width=\"24px\">\n",
              "    <path d=\"M0 0h24v24H0V0z\" fill=\"none\"/>\n",
              "    <path d=\"M18.56 5.44l.94 2.06.94-2.06 2.06-.94-2.06-.94-.94-2.06-.94 2.06-2.06.94zm-11 1L8.5 8.5l.94-2.06 2.06-.94-2.06-.94L8.5 2.5l-.94 2.06-2.06.94zm10 10l.94 2.06.94-2.06 2.06-.94-2.06-.94-.94-2.06-.94 2.06-2.06.94z\"/><path d=\"M17.41 7.96l-1.37-1.37c-.4-.4-.92-.59-1.43-.59-.52 0-1.04.2-1.43.59L10.3 9.45l-7.72 7.72c-.78.78-.78 2.05 0 2.83L4 21.41c.39.39.9.59 1.41.59.51 0 1.02-.2 1.41-.59l7.78-7.78 2.81-2.81c.8-.78.8-2.07 0-2.86zM5.41 20L4 18.59l7.72-7.72 1.47 1.35L5.41 20z\"/>\n",
              "  </svg>\n",
              "      </button>\n",
              "      \n",
              "  <style>\n",
              "    .colab-df-container {\n",
              "      display:flex;\n",
              "      flex-wrap:wrap;\n",
              "      gap: 12px;\n",
              "    }\n",
              "\n",
              "    .colab-df-convert {\n",
              "      background-color: #E8F0FE;\n",
              "      border: none;\n",
              "      border-radius: 50%;\n",
              "      cursor: pointer;\n",
              "      display: none;\n",
              "      fill: #1967D2;\n",
              "      height: 32px;\n",
              "      padding: 0 0 0 0;\n",
              "      width: 32px;\n",
              "    }\n",
              "\n",
              "    .colab-df-convert:hover {\n",
              "      background-color: #E2EBFA;\n",
              "      box-shadow: 0px 1px 2px rgba(60, 64, 67, 0.3), 0px 1px 3px 1px rgba(60, 64, 67, 0.15);\n",
              "      fill: #174EA6;\n",
              "    }\n",
              "\n",
              "    [theme=dark] .colab-df-convert {\n",
              "      background-color: #3B4455;\n",
              "      fill: #D2E3FC;\n",
              "    }\n",
              "\n",
              "    [theme=dark] .colab-df-convert:hover {\n",
              "      background-color: #434B5C;\n",
              "      box-shadow: 0px 1px 3px 1px rgba(0, 0, 0, 0.15);\n",
              "      filter: drop-shadow(0px 1px 2px rgba(0, 0, 0, 0.3));\n",
              "      fill: #FFFFFF;\n",
              "    }\n",
              "  </style>\n",
              "\n",
              "      <script>\n",
              "        const buttonEl =\n",
              "          document.querySelector('#df-7afb5174-1ac0-4d2e-a1c3-6cb32177dff0 button.colab-df-convert');\n",
              "        buttonEl.style.display =\n",
              "          google.colab.kernel.accessAllowed ? 'block' : 'none';\n",
              "\n",
              "        async function convertToInteractive(key) {\n",
              "          const element = document.querySelector('#df-7afb5174-1ac0-4d2e-a1c3-6cb32177dff0');\n",
              "          const dataTable =\n",
              "            await google.colab.kernel.invokeFunction('convertToInteractive',\n",
              "                                                     [key], {});\n",
              "          if (!dataTable) return;\n",
              "\n",
              "          const docLinkHtml = 'Like what you see? Visit the ' +\n",
              "            '<a target=\"_blank\" href=https://colab.research.google.com/notebooks/data_table.ipynb>data table notebook</a>'\n",
              "            + ' to learn more about interactive tables.';\n",
              "          element.innerHTML = '';\n",
              "          dataTable['output_type'] = 'display_data';\n",
              "          await google.colab.output.renderOutput(dataTable, element);\n",
              "          const docLink = document.createElement('div');\n",
              "          docLink.innerHTML = docLinkHtml;\n",
              "          element.appendChild(docLink);\n",
              "        }\n",
              "      </script>\n",
              "    </div>\n",
              "  </div>\n",
              "  "
            ]
          },
          "metadata": {},
          "execution_count": 498
        }
      ]
    },
    {
      "cell_type": "code",
      "source": [
        "tweets_df_all.shape"
      ],
      "metadata": {
        "colab": {
          "base_uri": "https://localhost:8080/"
        },
        "id": "joL2YjcSP4u-",
        "outputId": "c28628b2-c25e-4c05-d363-5ea6626c785c"
      },
      "execution_count": null,
      "outputs": [
        {
          "output_type": "execute_result",
          "data": {
            "text/plain": [
              "(3699, 8)"
            ]
          },
          "metadata": {},
          "execution_count": 499
        }
      ]
    },
    {
      "cell_type": "code",
      "source": [],
      "metadata": {
        "id": "Ls94hI0elMWL"
      },
      "execution_count": null,
      "outputs": []
    },
    {
      "cell_type": "markdown",
      "source": [
        "##Sequentially - second method"
      ],
      "metadata": {
        "id": "hwa7Hsc-2yuD"
      }
    },
    {
      "cell_type": "code",
      "source": [
        " \n",
        "start_time='2022-08-20T00:00:00Z'\n",
        "end_time='2022-08-21T10:00:00Z'\n"
      ],
      "metadata": {
        "id": "S_SMG-KEuGZZ"
      },
      "execution_count": null,
      "outputs": []
    },
    {
      "cell_type": "code",
      "source": [
        "query = \"(#covid OR #vaccines OR #antivaxx OR #antivaccination OR #SARSCoV OR phizer OR #Vaccinated) lang:en -is:retweet\"\n",
        "\n",
        "tweets = client.search_recent_tweets(query=query,\n",
        "                                     tweet_fields = [\"created_at\", \"text\", \"conversation_id\", \"public_metrics\", \"id\"], \n",
        "                                     user_fields = [\"name\", \"username\", \"description\"],\n",
        "                                     expansions='author_id', start_time=start_time,end_time=end_time,  \n",
        "                                     max_results = 100\n",
        "                                     )"
      ],
      "metadata": {
        "id": "MQomP-_9spLI"
      },
      "execution_count": null,
      "outputs": []
    },
    {
      "cell_type": "code",
      "source": [
        "\n",
        "print(len(tweets.data), len(tweets.includes['users']))\n",
        "\n",
        "tweet_info_ls1 = []\n",
        "users = {u[\"id\"]: u for u in tweets.includes['users']}\n",
        "\n",
        "for tweet in tweets.data:\n",
        "  if users[tweet.author_id]:\n",
        "    user = users[tweet.author_id]\n",
        "    if int(tweet.public_metrics['reply_count']) > 0:\n",
        "      tweet_info = {\n",
        "          'id':tweet.id, \n",
        "          'created_at': tweet.created_at,\n",
        "          'text': tweet.text,\n",
        "          'conversation_id': tweet.conversation_id, \n",
        "          'public_metrics': tweet.public_metrics, \n",
        "          'username': user.username}\n",
        "      tweet_info_ls1.append(tweet_info)\n",
        "\n",
        "tweets_df = pd.DataFrame(tweet_info_ls1)\n",
        "print(tweets_df.shape)\n",
        "\n",
        "list_ids_query = tweets_df.id.to_list()\n",
        "list_ids_query[:5]"
      ],
      "metadata": {
        "colab": {
          "base_uri": "https://localhost:8080/"
        },
        "id": "GyfbMk0-tedt",
        "outputId": "a91191fe-5913-4c92-f38b-62ac66366b83"
      },
      "execution_count": null,
      "outputs": [
        {
          "output_type": "stream",
          "name": "stdout",
          "text": [
            "100 88\n",
            "(18, 6)\n"
          ]
        },
        {
          "output_type": "execute_result",
          "data": {
            "text/plain": [
              "[1561291864157949952,\n",
              " 1561291578701905920,\n",
              " 1561285777878761473,\n",
              " 1561285557296431105,\n",
              " 1561285437762813954]"
            ]
          },
          "metadata": {},
          "execution_count": 147
        }
      ]
    },
    {
      "cell_type": "code",
      "source": [
        "tweets_df.head()"
      ],
      "metadata": {
        "colab": {
          "base_uri": "https://localhost:8080/",
          "height": 337
        },
        "id": "tBOzk4tgt8u2",
        "outputId": "a6494790-e12b-414b-f1d3-3e0626bd512e"
      },
      "execution_count": null,
      "outputs": [
        {
          "output_type": "execute_result",
          "data": {
            "text/plain": [
              "                    id                created_at  \\\n",
              "0  1561291864157949952 2022-08-21 09:59:22+00:00   \n",
              "1  1561291578701905920 2022-08-21 09:58:14+00:00   \n",
              "2  1561285777878761473 2022-08-21 09:35:11+00:00   \n",
              "3  1561285557296431105 2022-08-21 09:34:18+00:00   \n",
              "4  1561285437762813954 2022-08-21 09:33:50+00:00   \n",
              "\n",
              "                                                text      conversation_id  \\\n",
              "0  @Pfizer #vaccines have been #proven to directl...  1561291864157949952   \n",
              "1  Australia is nearing the end of its worst flu ...  1561291578701905920   \n",
              "2  Check out Recommended Gear on Amazon\\n\\nhttps:...  1561285777878761473   \n",
              "3  Physicians In India Reporting Rise In COVID-19...  1561285557296431105   \n",
              "4  #Melbourn #Austrália #protest: \"Doctors lie ki...  1561285437762813954   \n",
              "\n",
              "                                      public_metrics         username  \n",
              "0  {'retweet_count': 0, 'reply_count': 1, 'like_c...          Q_kao_Q  \n",
              "1  {'retweet_count': 22, 'reply_count': 2, 'like_...     DelthiaRicks  \n",
              "2  {'retweet_count': 1, 'reply_count': 1, 'like_c...      SparksThane  \n",
              "3  {'retweet_count': 3, 'reply_count': 1, 'like_c...  THAILANDMEDICA1  \n",
              "4  {'retweet_count': 0, 'reply_count': 1, 'like_c...  SocialCensorsh1  "
            ],
            "text/html": [
              "\n",
              "  <div id=\"df-68484f9d-0152-4947-a7c4-988779be81e3\">\n",
              "    <div class=\"colab-df-container\">\n",
              "      <div>\n",
              "<style scoped>\n",
              "    .dataframe tbody tr th:only-of-type {\n",
              "        vertical-align: middle;\n",
              "    }\n",
              "\n",
              "    .dataframe tbody tr th {\n",
              "        vertical-align: top;\n",
              "    }\n",
              "\n",
              "    .dataframe thead th {\n",
              "        text-align: right;\n",
              "    }\n",
              "</style>\n",
              "<table border=\"1\" class=\"dataframe\">\n",
              "  <thead>\n",
              "    <tr style=\"text-align: right;\">\n",
              "      <th></th>\n",
              "      <th>id</th>\n",
              "      <th>created_at</th>\n",
              "      <th>text</th>\n",
              "      <th>conversation_id</th>\n",
              "      <th>public_metrics</th>\n",
              "      <th>username</th>\n",
              "    </tr>\n",
              "  </thead>\n",
              "  <tbody>\n",
              "    <tr>\n",
              "      <th>0</th>\n",
              "      <td>1561291864157949952</td>\n",
              "      <td>2022-08-21 09:59:22+00:00</td>\n",
              "      <td>@Pfizer #vaccines have been #proven to directl...</td>\n",
              "      <td>1561291864157949952</td>\n",
              "      <td>{'retweet_count': 0, 'reply_count': 1, 'like_c...</td>\n",
              "      <td>Q_kao_Q</td>\n",
              "    </tr>\n",
              "    <tr>\n",
              "      <th>1</th>\n",
              "      <td>1561291578701905920</td>\n",
              "      <td>2022-08-21 09:58:14+00:00</td>\n",
              "      <td>Australia is nearing the end of its worst flu ...</td>\n",
              "      <td>1561291578701905920</td>\n",
              "      <td>{'retweet_count': 22, 'reply_count': 2, 'like_...</td>\n",
              "      <td>DelthiaRicks</td>\n",
              "    </tr>\n",
              "    <tr>\n",
              "      <th>2</th>\n",
              "      <td>1561285777878761473</td>\n",
              "      <td>2022-08-21 09:35:11+00:00</td>\n",
              "      <td>Check out Recommended Gear on Amazon\\n\\nhttps:...</td>\n",
              "      <td>1561285777878761473</td>\n",
              "      <td>{'retweet_count': 1, 'reply_count': 1, 'like_c...</td>\n",
              "      <td>SparksThane</td>\n",
              "    </tr>\n",
              "    <tr>\n",
              "      <th>3</th>\n",
              "      <td>1561285557296431105</td>\n",
              "      <td>2022-08-21 09:34:18+00:00</td>\n",
              "      <td>Physicians In India Reporting Rise In COVID-19...</td>\n",
              "      <td>1561285557296431105</td>\n",
              "      <td>{'retweet_count': 3, 'reply_count': 1, 'like_c...</td>\n",
              "      <td>THAILANDMEDICA1</td>\n",
              "    </tr>\n",
              "    <tr>\n",
              "      <th>4</th>\n",
              "      <td>1561285437762813954</td>\n",
              "      <td>2022-08-21 09:33:50+00:00</td>\n",
              "      <td>#Melbourn #Austrália #protest: \"Doctors lie ki...</td>\n",
              "      <td>1561285437762813954</td>\n",
              "      <td>{'retweet_count': 0, 'reply_count': 1, 'like_c...</td>\n",
              "      <td>SocialCensorsh1</td>\n",
              "    </tr>\n",
              "  </tbody>\n",
              "</table>\n",
              "</div>\n",
              "      <button class=\"colab-df-convert\" onclick=\"convertToInteractive('df-68484f9d-0152-4947-a7c4-988779be81e3')\"\n",
              "              title=\"Convert this dataframe to an interactive table.\"\n",
              "              style=\"display:none;\">\n",
              "        \n",
              "  <svg xmlns=\"http://www.w3.org/2000/svg\" height=\"24px\"viewBox=\"0 0 24 24\"\n",
              "       width=\"24px\">\n",
              "    <path d=\"M0 0h24v24H0V0z\" fill=\"none\"/>\n",
              "    <path d=\"M18.56 5.44l.94 2.06.94-2.06 2.06-.94-2.06-.94-.94-2.06-.94 2.06-2.06.94zm-11 1L8.5 8.5l.94-2.06 2.06-.94-2.06-.94L8.5 2.5l-.94 2.06-2.06.94zm10 10l.94 2.06.94-2.06 2.06-.94-2.06-.94-.94-2.06-.94 2.06-2.06.94z\"/><path d=\"M17.41 7.96l-1.37-1.37c-.4-.4-.92-.59-1.43-.59-.52 0-1.04.2-1.43.59L10.3 9.45l-7.72 7.72c-.78.78-.78 2.05 0 2.83L4 21.41c.39.39.9.59 1.41.59.51 0 1.02-.2 1.41-.59l7.78-7.78 2.81-2.81c.8-.78.8-2.07 0-2.86zM5.41 20L4 18.59l7.72-7.72 1.47 1.35L5.41 20z\"/>\n",
              "  </svg>\n",
              "      </button>\n",
              "      \n",
              "  <style>\n",
              "    .colab-df-container {\n",
              "      display:flex;\n",
              "      flex-wrap:wrap;\n",
              "      gap: 12px;\n",
              "    }\n",
              "\n",
              "    .colab-df-convert {\n",
              "      background-color: #E8F0FE;\n",
              "      border: none;\n",
              "      border-radius: 50%;\n",
              "      cursor: pointer;\n",
              "      display: none;\n",
              "      fill: #1967D2;\n",
              "      height: 32px;\n",
              "      padding: 0 0 0 0;\n",
              "      width: 32px;\n",
              "    }\n",
              "\n",
              "    .colab-df-convert:hover {\n",
              "      background-color: #E2EBFA;\n",
              "      box-shadow: 0px 1px 2px rgba(60, 64, 67, 0.3), 0px 1px 3px 1px rgba(60, 64, 67, 0.15);\n",
              "      fill: #174EA6;\n",
              "    }\n",
              "\n",
              "    [theme=dark] .colab-df-convert {\n",
              "      background-color: #3B4455;\n",
              "      fill: #D2E3FC;\n",
              "    }\n",
              "\n",
              "    [theme=dark] .colab-df-convert:hover {\n",
              "      background-color: #434B5C;\n",
              "      box-shadow: 0px 1px 3px 1px rgba(0, 0, 0, 0.15);\n",
              "      filter: drop-shadow(0px 1px 2px rgba(0, 0, 0, 0.3));\n",
              "      fill: #FFFFFF;\n",
              "    }\n",
              "  </style>\n",
              "\n",
              "      <script>\n",
              "        const buttonEl =\n",
              "          document.querySelector('#df-68484f9d-0152-4947-a7c4-988779be81e3 button.colab-df-convert');\n",
              "        buttonEl.style.display =\n",
              "          google.colab.kernel.accessAllowed ? 'block' : 'none';\n",
              "\n",
              "        async function convertToInteractive(key) {\n",
              "          const element = document.querySelector('#df-68484f9d-0152-4947-a7c4-988779be81e3');\n",
              "          const dataTable =\n",
              "            await google.colab.kernel.invokeFunction('convertToInteractive',\n",
              "                                                     [key], {});\n",
              "          if (!dataTable) return;\n",
              "\n",
              "          const docLinkHtml = 'Like what you see? Visit the ' +\n",
              "            '<a target=\"_blank\" href=https://colab.research.google.com/notebooks/data_table.ipynb>data table notebook</a>'\n",
              "            + ' to learn more about interactive tables.';\n",
              "          element.innerHTML = '';\n",
              "          dataTable['output_type'] = 'display_data';\n",
              "          await google.colab.output.renderOutput(dataTable, element);\n",
              "          const docLink = document.createElement('div');\n",
              "          docLink.innerHTML = docLinkHtml;\n",
              "          element.appendChild(docLink);\n",
              "        }\n",
              "      </script>\n",
              "    </div>\n",
              "  </div>\n",
              "  "
            ]
          },
          "metadata": {},
          "execution_count": 148
        }
      ]
    },
    {
      "cell_type": "code",
      "source": [
        "list_ids_query = tweets_df_all.conversation_id.unique()\n",
        "list_ids_query[:3]"
      ],
      "metadata": {
        "colab": {
          "base_uri": "https://localhost:8080/"
        },
        "id": "HuWuzPG_ZIuy",
        "outputId": "b36a4724-0c52-4cd0-f2ff-f345f074ec30"
      },
      "execution_count": null,
      "outputs": [
        {
          "output_type": "execute_result",
          "data": {
            "text/plain": [
              "array([1.34814447e+18, 1.34813576e+18, 1.34813499e+18])"
            ]
          },
          "metadata": {},
          "execution_count": 303
        }
      ]
    },
    {
      "cell_type": "code",
      "source": [
        "tweets_df_all.conversation_id.nunique()"
      ],
      "metadata": {
        "colab": {
          "base_uri": "https://localhost:8080/"
        },
        "id": "StlnhdVwZ43Y",
        "outputId": "35336d73-fe6a-4b8d-b588-0c2aaaefef6e"
      },
      "execution_count": null,
      "outputs": [
        {
          "output_type": "execute_result",
          "data": {
            "text/plain": [
              "178"
            ]
          },
          "metadata": {},
          "execution_count": 308
        }
      ]
    },
    {
      "cell_type": "code",
      "source": [
        "tweets_df['date'] = tweets_df['created_at'].dt.tz_localize(None)\n",
        "tweets_df_all = pd.concat([tweets_df_all, tweets_df.iloc[:, 1:]], axis = 0)\n",
        "tweets_df_all = tweets_df_all.drop_duplicates(['text', 'username'])\n",
        "\n",
        "tweets_df_all.shape"
      ],
      "metadata": {
        "colab": {
          "base_uri": "https://localhost:8080/"
        },
        "id": "ov_0Mk3KDcAQ",
        "outputId": "e54332e3-6985-4f5a-9950-0cbbb5e69b48"
      },
      "execution_count": null,
      "outputs": [
        {
          "output_type": "execute_result",
          "data": {
            "text/plain": [
              "(1703, 7)"
            ]
          },
          "metadata": {},
          "execution_count": 150
        }
      ]
    },
    {
      "cell_type": "code",
      "source": [],
      "metadata": {
        "id": "3iWV3hT_5n7C"
      },
      "execution_count": null,
      "outputs": []
    },
    {
      "cell_type": "code",
      "source": [
        "for twid in list_ids_query:\n",
        "  tweets = client.search_recent_tweets(query='conversation_id:'+str(twid),\n",
        "                                     tweet_fields = [\"created_at\", \"text\", \"conversation_id\", \"public_metrics\"], \n",
        "                                     user_fields = [\"username\"],\n",
        "                                     expansions='author_id', max_results = 100)\n",
        "  try:\n",
        "    print(len(tweets.data), len(tweets.includes['users']))\n",
        "\n",
        "    tweet_info_ls1 = []\n",
        "    users = {u[\"id\"]: u for u in tweets.includes['users']}\n",
        "\n",
        "    for tweet in tweets.data:\n",
        "      if users[tweet.author_id]:\n",
        "        user = users[tweet.author_id]\n",
        "        #new_ids.append(tweet.id)\n",
        "        tweet_info = {\n",
        "        'created_at': tweet.created_at,\n",
        "        'text': tweet.text,\n",
        "        'conversation_id': tweet.conversation_id, \n",
        "        'public_metrics': tweet.public_metrics, \n",
        "        'username': user.username}\n",
        "        tweet_info_ls1.append(tweet_info)\n",
        "  except:\n",
        "    print('none')\n",
        "    continue\n",
        "\n",
        "  tweets_df = pd.DataFrame(tweet_info_ls1)\n",
        "  print('shape: ', tweets_df.shape)\n",
        "\n",
        "  tweets_df['date'] = tweets_df['created_at'].dt.tz_localize(None)\n",
        "  tweets_df_all = pd.concat([tweets_df_all, tweets_df], axis = 0)\n",
        "  tweets_df_all = tweets_df_all.drop_duplicates(['text', 'conversation_id'])\n",
        "  print(tweets_df_all.shape)\n",
        "  print(\"********************************\\n\")\n",
        "\n",
        "#len(new_ids)"
      ],
      "metadata": {
        "id": "IDMVLIFHiDkI",
        "colab": {
          "base_uri": "https://localhost:8080/"
        },
        "outputId": "bd6a52d4-2610-4f15-c398-87c4d39e0dfd"
      },
      "execution_count": null,
      "outputs": [
        {
          "output_type": "stream",
          "name": "stdout",
          "text": [
            "none\n"
          ]
        }
      ]
    },
    {
      "cell_type": "code",
      "source": [
        "tweets_df_all.shape, tweets_df_all.drop_duplicates(['text', 'username']).shape"
      ],
      "metadata": {
        "colab": {
          "base_uri": "https://localhost:8080/"
        },
        "id": "sNTeIw6kmKQu",
        "outputId": "e7a6e085-f59e-4e78-e0c3-24c0f971b2c0"
      },
      "execution_count": null,
      "outputs": [
        {
          "output_type": "execute_result",
          "data": {
            "text/plain": [
              "((1771, 7), (1766, 7))"
            ]
          },
          "metadata": {},
          "execution_count": 153
        }
      ]
    },
    {
      "cell_type": "code",
      "source": [
        "tweets_df_all = tweets_df_all.drop_duplicates(['text'])\n",
        "tweets_df_all.shape"
      ],
      "metadata": {
        "colab": {
          "base_uri": "https://localhost:8080/"
        },
        "id": "0qfWojfM5ODc",
        "outputId": "e815b4e1-6722-4e45-fd3c-83e2f92edced"
      },
      "execution_count": null,
      "outputs": [
        {
          "output_type": "execute_result",
          "data": {
            "text/plain": [
              "(1766, 7)"
            ]
          },
          "metadata": {},
          "execution_count": 154
        }
      ]
    },
    {
      "cell_type": "markdown",
      "source": [
        "##save"
      ],
      "metadata": {
        "id": "mBChvR5z_WGx"
      }
    },
    {
      "cell_type": "code",
      "source": [
        "len(\" \".join(tweets_df_all.text.values).split(\" \")), len(\" \".join(tweets_df_all.clean_text.values).split(\" \"))"
      ],
      "metadata": {
        "colab": {
          "base_uri": "https://localhost:8080/"
        },
        "id": "CmIpRfh0p3xZ",
        "outputId": "4109599e-0616-4f14-fb3d-0ab2cc15157c"
      },
      "execution_count": null,
      "outputs": [
        {
          "output_type": "execute_result",
          "data": {
            "text/plain": [
              "(41582, 37363)"
            ]
          },
          "metadata": {},
          "execution_count": 678
        }
      ]
    },
    {
      "cell_type": "code",
      "source": [
        "tweets_df_all['text_R'] = '@' + tweets_df_all.username + ' : ' + tweets_df_all.text\n",
        "tweets_df_all['text_R']"
      ],
      "metadata": {
        "colab": {
          "base_uri": "https://localhost:8080/"
        },
        "id": "WU7P569vsMwL",
        "outputId": "a94335c3-930e-4def-c70a-5076002c9696"
      },
      "execution_count": null,
      "outputs": [
        {
          "output_type": "execute_result",
          "data": {
            "text/plain": [
              "0.0    @WhistonChris : @sanguine211 @catherine___c We...\n",
              "1.0    @drajm : Where we are at with #covid, where we...\n",
              "2.0    @RamnMaravilla : @geraldcelente @pfizer @POTUS...\n",
              "3.0    @Pantoc0w : @DrRanj We have just recovered fro...\n",
              "4.0    @goldenmacaw : @TomTSEC Get a few more jabs an...\n",
              "                             ...                        \n",
              "3.0    @convid_2020 : @SarahStev0 @ELHopkins @hephais...\n",
              "4.0    @SarahStev0 : @convid_2020 @ELHopkins @hephais...\n",
              "5.0    @Gileragirl : @ELHopkins Pardon my language bu...\n",
              "6.0    @Helenspicer15 : @ELHopkins #EnoughIsEnough #C...\n",
              "7.0    @convid_2020 : @ELHopkins @hephaistos_ai Can y...\n",
              "Name: text_R, Length: 1766, dtype: object"
            ]
          },
          "metadata": {},
          "execution_count": 157
        }
      ]
    },
    {
      "cell_type": "code",
      "source": [
        "tweets_df_all.shape"
      ],
      "metadata": {
        "colab": {
          "base_uri": "https://localhost:8080/"
        },
        "id": "MU8hA3yI9vSN",
        "outputId": "26e48bf9-6bc9-4b4b-d080-9b5c44806746"
      },
      "execution_count": null,
      "outputs": [
        {
          "output_type": "execute_result",
          "data": {
            "text/plain": [
              "(2881, 9)"
            ]
          },
          "metadata": {},
          "execution_count": 197
        }
      ]
    },
    {
      "cell_type": "code",
      "source": [
        "tweets_df_all.columns"
      ],
      "metadata": {
        "colab": {
          "base_uri": "https://localhost:8080/"
        },
        "id": "2koDDkcrMcFT",
        "outputId": "a6bbfb09-d988-4480-c4b2-a9d4ed37982b"
      },
      "execution_count": null,
      "outputs": [
        {
          "output_type": "execute_result",
          "data": {
            "text/plain": [
              "Index(['text', 'conversation_id', 'public_metrics', 'username', 'date',\n",
              "       'text_R', 'clean_text', 'id', 'created_at'],\n",
              "      dtype='object')"
            ]
          },
          "metadata": {},
          "execution_count": 267
        }
      ]
    },
    {
      "cell_type": "code",
      "source": [
        "tweets_df_all = tweets_df_all.reset_index(drop=True)\n",
        "tweets_df_all[['text', 'conversation_id', 'public_metrics', 'username', 'date', 'text_R', \"id\"]].to_excel('/content/drive/MyDrive/Colab Notebooks/reddit_IAA/tweets_CovidVaccine2021.xlsx')"
      ],
      "metadata": {
        "id": "62trnNWdpGL-"
      },
      "execution_count": null,
      "outputs": []
    },
    {
      "cell_type": "code",
      "source": [],
      "metadata": {
        "id": "2NDzHnzE8-FV"
      },
      "execution_count": null,
      "outputs": []
    },
    {
      "cell_type": "markdown",
      "source": [
        "#Climate change"
      ],
      "metadata": {
        "id": "CBcmhSGF9DtY"
      }
    },
    {
      "cell_type": "code",
      "source": [
        "list_time = ['2022-07-07T00:00:00Z',\n",
        " '2022-07-07T06:00:00Z',\n",
        " '2022-07-07T11:00:00Z',\n",
        " '2022-07-07T13:00:00Z',\n",
        " '2022-07-07T16:00:00Z',\n",
        " '2022-07-07T19:00:00Z',\n",
        " '2022-07-07T21:00:00Z',\n",
        " '2022-07-07T23:00:00Z',\n",
        " '2022-07-07T23:59:59Z']"
      ],
      "metadata": {
        "id": "YTI5ZNDx9KHy"
      },
      "execution_count": null,
      "outputs": []
    },
    {
      "cell_type": "code",
      "source": [
        "list_time = [t.replace(\"07-07T\", \"08-27T\") for t in list_time]\n",
        "list_time"
      ],
      "metadata": {
        "colab": {
          "base_uri": "https://localhost:8080/"
        },
        "id": "YHRsi3KH9Nyg",
        "outputId": "d79c5837-8d47-4f1f-8ccc-11eccf637889"
      },
      "execution_count": null,
      "outputs": [
        {
          "output_type": "execute_result",
          "data": {
            "text/plain": [
              "['2022-08-26T00:00:00Z',\n",
              " '2022-08-26T06:00:00Z',\n",
              " '2022-08-26T11:00:00Z',\n",
              " '2022-08-26T13:00:00Z',\n",
              " '2022-08-26T16:00:00Z',\n",
              " '2022-08-26T19:00:00Z',\n",
              " '2022-08-26T21:00:00Z',\n",
              " '2022-08-26T23:00:00Z',\n",
              " '2022-08-26T23:59:59Z']"
            ]
          },
          "metadata": {},
          "execution_count": 41
        }
      ]
    },
    {
      "cell_type": "code",
      "source": [
        "tweets_df_all = pd.DataFrame(columns = ['id', 'created_at', 'text', 'conversation_id', 'public_metrics', 'username'])\n",
        "tweets_df_all"
      ],
      "metadata": {
        "colab": {
          "base_uri": "https://localhost:8080/",
          "height": 49
        },
        "id": "xkAk28uii1Hb",
        "outputId": "4572b6c8-3e77-4b0b-de24-696abbf6950d"
      },
      "execution_count": null,
      "outputs": [
        {
          "output_type": "execute_result",
          "data": {
            "text/plain": [
              "Empty DataFrame\n",
              "Columns: [id, created_at, text, conversation_id, public_metrics, username]\n",
              "Index: []"
            ],
            "text/html": [
              "\n",
              "  <div id=\"df-da00f28c-9c42-42c3-83e2-5876858f54c9\">\n",
              "    <div class=\"colab-df-container\">\n",
              "      <div>\n",
              "<style scoped>\n",
              "    .dataframe tbody tr th:only-of-type {\n",
              "        vertical-align: middle;\n",
              "    }\n",
              "\n",
              "    .dataframe tbody tr th {\n",
              "        vertical-align: top;\n",
              "    }\n",
              "\n",
              "    .dataframe thead th {\n",
              "        text-align: right;\n",
              "    }\n",
              "</style>\n",
              "<table border=\"1\" class=\"dataframe\">\n",
              "  <thead>\n",
              "    <tr style=\"text-align: right;\">\n",
              "      <th></th>\n",
              "      <th>id</th>\n",
              "      <th>created_at</th>\n",
              "      <th>text</th>\n",
              "      <th>conversation_id</th>\n",
              "      <th>public_metrics</th>\n",
              "      <th>username</th>\n",
              "    </tr>\n",
              "  </thead>\n",
              "  <tbody>\n",
              "  </tbody>\n",
              "</table>\n",
              "</div>\n",
              "      <button class=\"colab-df-convert\" onclick=\"convertToInteractive('df-da00f28c-9c42-42c3-83e2-5876858f54c9')\"\n",
              "              title=\"Convert this dataframe to an interactive table.\"\n",
              "              style=\"display:none;\">\n",
              "        \n",
              "  <svg xmlns=\"http://www.w3.org/2000/svg\" height=\"24px\"viewBox=\"0 0 24 24\"\n",
              "       width=\"24px\">\n",
              "    <path d=\"M0 0h24v24H0V0z\" fill=\"none\"/>\n",
              "    <path d=\"M18.56 5.44l.94 2.06.94-2.06 2.06-.94-2.06-.94-.94-2.06-.94 2.06-2.06.94zm-11 1L8.5 8.5l.94-2.06 2.06-.94-2.06-.94L8.5 2.5l-.94 2.06-2.06.94zm10 10l.94 2.06.94-2.06 2.06-.94-2.06-.94-.94-2.06-.94 2.06-2.06.94z\"/><path d=\"M17.41 7.96l-1.37-1.37c-.4-.4-.92-.59-1.43-.59-.52 0-1.04.2-1.43.59L10.3 9.45l-7.72 7.72c-.78.78-.78 2.05 0 2.83L4 21.41c.39.39.9.59 1.41.59.51 0 1.02-.2 1.41-.59l7.78-7.78 2.81-2.81c.8-.78.8-2.07 0-2.86zM5.41 20L4 18.59l7.72-7.72 1.47 1.35L5.41 20z\"/>\n",
              "  </svg>\n",
              "      </button>\n",
              "      \n",
              "  <style>\n",
              "    .colab-df-container {\n",
              "      display:flex;\n",
              "      flex-wrap:wrap;\n",
              "      gap: 12px;\n",
              "    }\n",
              "\n",
              "    .colab-df-convert {\n",
              "      background-color: #E8F0FE;\n",
              "      border: none;\n",
              "      border-radius: 50%;\n",
              "      cursor: pointer;\n",
              "      display: none;\n",
              "      fill: #1967D2;\n",
              "      height: 32px;\n",
              "      padding: 0 0 0 0;\n",
              "      width: 32px;\n",
              "    }\n",
              "\n",
              "    .colab-df-convert:hover {\n",
              "      background-color: #E2EBFA;\n",
              "      box-shadow: 0px 1px 2px rgba(60, 64, 67, 0.3), 0px 1px 3px 1px rgba(60, 64, 67, 0.15);\n",
              "      fill: #174EA6;\n",
              "    }\n",
              "\n",
              "    [theme=dark] .colab-df-convert {\n",
              "      background-color: #3B4455;\n",
              "      fill: #D2E3FC;\n",
              "    }\n",
              "\n",
              "    [theme=dark] .colab-df-convert:hover {\n",
              "      background-color: #434B5C;\n",
              "      box-shadow: 0px 1px 3px 1px rgba(0, 0, 0, 0.15);\n",
              "      filter: drop-shadow(0px 1px 2px rgba(0, 0, 0, 0.3));\n",
              "      fill: #FFFFFF;\n",
              "    }\n",
              "  </style>\n",
              "\n",
              "      <script>\n",
              "        const buttonEl =\n",
              "          document.querySelector('#df-da00f28c-9c42-42c3-83e2-5876858f54c9 button.colab-df-convert');\n",
              "        buttonEl.style.display =\n",
              "          google.colab.kernel.accessAllowed ? 'block' : 'none';\n",
              "\n",
              "        async function convertToInteractive(key) {\n",
              "          const element = document.querySelector('#df-da00f28c-9c42-42c3-83e2-5876858f54c9');\n",
              "          const dataTable =\n",
              "            await google.colab.kernel.invokeFunction('convertToInteractive',\n",
              "                                                     [key], {});\n",
              "          if (!dataTable) return;\n",
              "\n",
              "          const docLinkHtml = 'Like what you see? Visit the ' +\n",
              "            '<a target=\"_blank\" href=https://colab.research.google.com/notebooks/data_table.ipynb>data table notebook</a>'\n",
              "            + ' to learn more about interactive tables.';\n",
              "          element.innerHTML = '';\n",
              "          dataTable['output_type'] = 'display_data';\n",
              "          await google.colab.output.renderOutput(dataTable, element);\n",
              "          const docLink = document.createElement('div');\n",
              "          docLink.innerHTML = docLinkHtml;\n",
              "          element.appendChild(docLink);\n",
              "        }\n",
              "      </script>\n",
              "    </div>\n",
              "  </div>\n",
              "  "
            ]
          },
          "metadata": {},
          "execution_count": 8
        }
      ]
    },
    {
      "cell_type": "code",
      "source": [
        "query = \"(#climatechange OR #globalwarming OR #climatechangehoax OR #globalwarmingfraud OR #climatecrisis) lang:en -is:retweet\""
      ],
      "metadata": {
        "id": "WkATkXLkMDgT"
      },
      "execution_count": null,
      "outputs": []
    },
    {
      "cell_type": "code",
      "source": [
        "st = 0\n",
        "en = 1\n",
        "for i in range(len(list_time) - 1):\n",
        "  print('Start:', str(list_time[st]), \"End:\", str(list_time[en]))\n",
        "\n",
        "\n",
        "\n",
        "\n",
        "  start_time = str(list_time[st])\n",
        "  end_time = str(list_time[en])\n",
        "  tweets = client.search_recent_tweets(query=query,\n",
        "                                     tweet_fields = [\"created_at\", \"text\", \"conversation_id\", \"public_metrics\", \"id\"], \n",
        "                                     user_fields = [\"name\", \"username\", \"description\"],\n",
        "                                     expansions='author_id', start_time=start_time,end_time=end_time,  \n",
        "                                     max_results = 100)\n",
        "  st+=1\n",
        "  en+=1\n",
        "  \n",
        "  print(len(tweets.data), len(tweets.includes['users']))\n",
        "  list_ids_query = []\n",
        "  tweet_info_ls1 = []\n",
        "  users = {u[\"id\"]: u for u in tweets.includes['users']}\n",
        "\n",
        "  for tweet in tweets.data:\n",
        "    if users[tweet.author_id]:\n",
        "      user = users[tweet.author_id]\n",
        "      if int(tweet.public_metrics['reply_count']) > 3:    \n",
        "        tweet_info = {\n",
        "          'id':tweet.id, \n",
        "          'created_at': tweet.created_at,\n",
        "          'text': tweet.text,\n",
        "          'conversation_id': tweet.conversation_id, \n",
        "          'public_metrics': tweet.public_metrics, \n",
        "          'username': user.username}\n",
        "        tweet_info_ls1.append(tweet_info)\n",
        "        list_ids_query.append(tweet.id)\n",
        "\n",
        "  tweets_df = pd.DataFrame(tweet_info_ls1)\n",
        "  print(tweets_df.shape)\n",
        "\n",
        "  #list_ids_query[:5], len(list_ids_query)\n",
        "  #tweets_df['date'] = tweets_df['created_at'].dt.tz_localize(None)\n",
        "  tweets_df_all = pd.concat([tweets_df_all, tweets_df], axis = 0)\n",
        "  tweets_df_all = tweets_df_all.drop_duplicates(['text'])\n",
        "\n",
        "  for twid in list_ids_query:\n",
        "    tweets = client.search_recent_tweets(query='conversation_id:'+str(twid),\n",
        "                                     tweet_fields = [\"created_at\", \"text\", \"conversation_id\", \"public_metrics\", \"id\"], \n",
        "                                     user_fields = [\"username\"],\n",
        "                                     expansions='author_id', max_results = 100)\n",
        "    try:\n",
        "      print(len(tweets.data), len(tweets.includes['users']))\n",
        "\n",
        "      tweet_info_ls1 = []\n",
        "      users = {u[\"id\"]: u for u in tweets.includes['users']}\n",
        "\n",
        "      for tweet in tweets.data:\n",
        "        if users[tweet.author_id]:\n",
        "          user = users[tweet.author_id]\n",
        "          tweet_info = {\n",
        "          'id':tweet.id,             \n",
        "          'created_at': tweet.created_at,\n",
        "          'text': tweet.text,\n",
        "          'conversation_id': tweet.conversation_id, \n",
        "          'public_metrics': tweet.public_metrics, \n",
        "          'username': user.username}\n",
        "          tweet_info_ls1.append(tweet_info)\n",
        "\n",
        "      tweets_df = pd.DataFrame(tweet_info_ls1)\n",
        "      print('shape: ', tweets_df.shape)\n",
        " \n",
        "      #tweets_df['date'] = tweets_df['created_at'].dt.tz_localize(None)\n",
        "      tweets_df_all = pd.concat([tweets_df_all, tweets_df], axis = 0)\n",
        "      tweets_df_all = tweets_df_all.drop_duplicates(['text', 'conversation_id'])\n",
        "      print(tweets_df_all.shape)\n",
        "      print(\"********************************\\n\")\n",
        "\n",
        "    except:\n",
        "      print('none')\n",
        "      continue"
      ],
      "metadata": {
        "colab": {
          "base_uri": "https://localhost:8080/"
        },
        "id": "9_g0jmyoB_qc",
        "outputId": "ddc30422-43c4-40cf-8de8-0f4960a884c8"
      },
      "execution_count": null,
      "outputs": [
        {
          "output_type": "stream",
          "name": "stdout",
          "text": [
            "Start: 2022-08-22T10:00:00Z End: 2022-08-23T12:00:00Z\n",
            "100 87\n",
            "(0, 0)\n",
            "Start: 2022-08-23T12:00:00Z End: 2022-08-24T12:00:00Z\n",
            "100 82\n",
            "(2, 6)\n",
            "19 14\n",
            "shape:  (19, 6)\n",
            "(1513, 8)\n",
            "********************************\n",
            "\n",
            "none\n",
            "Start: 2022-08-24T12:00:00Z End: 2022-08-26T12:00:00Z\n",
            "100 88\n",
            "(4, 6)\n",
            "4 4\n",
            "shape:  (4, 6)\n",
            "(1521, 8)\n",
            "********************************\n",
            "\n",
            "26 14\n",
            "shape:  (26, 6)\n",
            "(1547, 8)\n",
            "********************************\n",
            "\n",
            "41 23\n",
            "shape:  (41, 6)\n",
            "(1588, 8)\n",
            "********************************\n",
            "\n",
            "100 49\n",
            "shape:  (100, 6)\n",
            "(1688, 8)\n",
            "********************************\n",
            "\n",
            "Start: 2022-08-26T12:00:00Z End: 2022-08-27T08:20:00Z\n",
            "99 77\n",
            "(0, 0)\n",
            "Start: 2022-08-27T08:20:00Z End: 2022-08-27T18:20:00Z\n",
            "100 86\n",
            "(2, 6)\n",
            "4 4\n",
            "shape:  (4, 6)\n",
            "(1694, 8)\n",
            "********************************\n",
            "\n",
            "8 8\n",
            "shape:  (8, 6)\n",
            "(1702, 8)\n",
            "********************************\n",
            "\n"
          ]
        }
      ]
    },
    {
      "cell_type": "code",
      "source": [
        "tweets_df_all.shape"
      ],
      "metadata": {
        "colab": {
          "base_uri": "https://localhost:8080/"
        },
        "id": "7oeqnPv9jRNr",
        "outputId": "0d676026-350b-4582-95a6-4367beb30dc1"
      },
      "execution_count": null,
      "outputs": [
        {
          "output_type": "execute_result",
          "data": {
            "text/plain": [
              "(1702, 8)"
            ]
          },
          "metadata": {},
          "execution_count": 127
        }
      ]
    },
    {
      "cell_type": "code",
      "source": [
        "tweets_df_all['created_at'].dt.tz_localize(None).iloc[1650:]"
      ],
      "metadata": {
        "colab": {
          "base_uri": "https://localhost:8080/"
        },
        "id": "W7A0-XZMbbyP",
        "outputId": "8d880988-ff15-4128-872e-5c7a086e5887"
      },
      "execution_count": null,
      "outputs": [
        {
          "output_type": "execute_result",
          "data": {
            "text/plain": [
              "1652.0                   NaT\n",
              "1653.0                   NaT\n",
              "1654.0                   NaT\n",
              "1655.0                   NaT\n",
              "1656.0                   NaT\n",
              "                 ...        \n",
              "8.0      2022-08-23 23:14:04\n",
              "9.0      2022-08-23 23:07:38\n",
              "10.0     2022-08-23 23:07:30\n",
              "11.0     2022-08-23 23:04:26\n",
              "12.0     2022-08-23 23:01:59\n",
              "Name: created_at, Length: 91, dtype: datetime64[ns]"
            ]
          },
          "metadata": {},
          "execution_count": 338
        }
      ]
    },
    {
      "cell_type": "code",
      "source": [
        "tweets_df_all['date'] = tweets_df_all['created_at'].dt.tz_localize(None)"
      ],
      "metadata": {
        "id": "NyU0FfsckvcJ"
      },
      "execution_count": null,
      "outputs": []
    },
    {
      "cell_type": "code",
      "source": [
        "tweets_df_all.tail(3)"
      ],
      "metadata": {
        "id": "xOaQPEstL0Lp"
      },
      "execution_count": null,
      "outputs": []
    },
    {
      "cell_type": "code",
      "source": [
        "tweets_df_all = tweets_df_all.reset_index(drop=True)"
      ],
      "metadata": {
        "id": "8GOoViCRcdtg"
      },
      "execution_count": null,
      "outputs": []
    },
    {
      "cell_type": "code",
      "source": [
        "ids = tweets_df_all[tweets_df_all.date.isna()].index \n",
        "tweets_df_all.loc[ids, 'date'] = tweets_df_all[tweets_df_all.date.isna()]['created_at'].dt.tz_localize(None)\n",
        "tweets_df_all.loc[ids]"
      ],
      "metadata": {
        "id": "g74fYb_vctCb",
        "colab": {
          "base_uri": "https://localhost:8080/",
          "height": 641
        },
        "outputId": "caa88d1d-807b-4ca3-ba1c-c4d4747877d3"
      },
      "execution_count": null,
      "outputs": [
        {
          "output_type": "execute_result",
          "data": {
            "text/plain": [
              "                                                   text  conversation_id  \\\n",
              "1465  .@AlboMP While most Australians want to see th...     1.562568e+18   \n",
              "1466  As many as 1 in 6 U.S. tree species is threate...     1.562567e+18   \n",
              "1467   @ReclaimAnglesea @AlboMP https://t.co/o3Gx0C90wa     1.562568e+18   \n",
              "1468  @timcass28343283 @AlboMP I expect you are righ...     1.562568e+18   \n",
              "1469  @ReclaimAnglesea @AlboMP I can answer on their...     1.562568e+18   \n",
              "...                                                 ...              ...   \n",
              "1697               @JimBair62221006 It's called weather     1.563587e+18   \n",
              "1698  @6040split @JimBair62221006 Can’t think what y...     1.563587e+18   \n",
              "1699  @6040split @JimBair62221006 And just cut off i...     1.563587e+18   \n",
              "1700  @JimBair62221006 The people who think we will ...     1.563587e+18   \n",
              "1701  @JimBair62221006 Buying power is going to be i...     1.563587e+18   \n",
              "\n",
              "                                         public_metrics         username  \\\n",
              "1465  {'retweet_count': 60, 'reply_count': 9, 'like_...  ReclaimAnglesea   \n",
              "1466  {'retweet_count': 16, 'reply_count': 4, 'like_...     DelthiaRicks   \n",
              "1467  {'retweet_count': 0, 'reply_count': 0, 'like_c...           grs177   \n",
              "1468  {'retweet_count': 0, 'reply_count': 0, 'like_c...  ReclaimAnglesea   \n",
              "1469  {'retweet_count': 0, 'reply_count': 1, 'like_c...  timcass28343283   \n",
              "...                                                 ...              ...   \n",
              "1697  {'retweet_count': 0, 'reply_count': 0, 'like_c...  DavidPe61785198   \n",
              "1698  {'retweet_count': 0, 'reply_count': 0, 'like_c...  tomkins_deborah   \n",
              "1699  {'retweet_count': 0, 'reply_count': 0, 'like_c...            mbc22   \n",
              "1700  {'retweet_count': 0, 'reply_count': 0, 'like_c...      grouchapato   \n",
              "1701  {'retweet_count': 0, 'reply_count': 2, 'like_c...        6040split   \n",
              "\n",
              "                    date text_R            id                created_at  \n",
              "1465 2022-08-24 22:30:32    NaN  1.562568e+18 2022-08-24 22:30:32+00:00  \n",
              "1466 2022-08-24 22:26:37    NaN  1.562567e+18 2022-08-24 22:26:37+00:00  \n",
              "1467 2022-08-25 20:59:23    NaN  1.562908e+18 2022-08-25 20:59:23+00:00  \n",
              "1468 2022-08-25 07:35:46    NaN  1.562705e+18 2022-08-25 07:35:46+00:00  \n",
              "1469 2022-08-25 07:04:46    NaN  1.562697e+18 2022-08-25 07:04:46+00:00  \n",
              "...                  ...    ...           ...                       ...  \n",
              "1697 2022-08-27 22:52:08    NaN  1.563661e+18 2022-08-27 22:52:08+00:00  \n",
              "1698 2022-08-27 19:03:16    NaN  1.563603e+18 2022-08-27 19:03:16+00:00  \n",
              "1699 2022-08-27 18:34:49    NaN  1.563596e+18 2022-08-27 18:34:49+00:00  \n",
              "1700 2022-08-27 18:24:37    NaN  1.563593e+18 2022-08-27 18:24:37+00:00  \n",
              "1701 2022-08-27 18:02:13    NaN  1.563588e+18 2022-08-27 18:02:13+00:00  \n",
              "\n",
              "[237 rows x 8 columns]"
            ],
            "text/html": [
              "\n",
              "  <div id=\"df-82febc05-cf5c-47ca-bc8d-e757739678b6\">\n",
              "    <div class=\"colab-df-container\">\n",
              "      <div>\n",
              "<style scoped>\n",
              "    .dataframe tbody tr th:only-of-type {\n",
              "        vertical-align: middle;\n",
              "    }\n",
              "\n",
              "    .dataframe tbody tr th {\n",
              "        vertical-align: top;\n",
              "    }\n",
              "\n",
              "    .dataframe thead th {\n",
              "        text-align: right;\n",
              "    }\n",
              "</style>\n",
              "<table border=\"1\" class=\"dataframe\">\n",
              "  <thead>\n",
              "    <tr style=\"text-align: right;\">\n",
              "      <th></th>\n",
              "      <th>text</th>\n",
              "      <th>conversation_id</th>\n",
              "      <th>public_metrics</th>\n",
              "      <th>username</th>\n",
              "      <th>date</th>\n",
              "      <th>text_R</th>\n",
              "      <th>id</th>\n",
              "      <th>created_at</th>\n",
              "    </tr>\n",
              "  </thead>\n",
              "  <tbody>\n",
              "    <tr>\n",
              "      <th>1465</th>\n",
              "      <td>.@AlboMP While most Australians want to see th...</td>\n",
              "      <td>1.562568e+18</td>\n",
              "      <td>{'retweet_count': 60, 'reply_count': 9, 'like_...</td>\n",
              "      <td>ReclaimAnglesea</td>\n",
              "      <td>2022-08-24 22:30:32</td>\n",
              "      <td>NaN</td>\n",
              "      <td>1.562568e+18</td>\n",
              "      <td>2022-08-24 22:30:32+00:00</td>\n",
              "    </tr>\n",
              "    <tr>\n",
              "      <th>1466</th>\n",
              "      <td>As many as 1 in 6 U.S. tree species is threate...</td>\n",
              "      <td>1.562567e+18</td>\n",
              "      <td>{'retweet_count': 16, 'reply_count': 4, 'like_...</td>\n",
              "      <td>DelthiaRicks</td>\n",
              "      <td>2022-08-24 22:26:37</td>\n",
              "      <td>NaN</td>\n",
              "      <td>1.562567e+18</td>\n",
              "      <td>2022-08-24 22:26:37+00:00</td>\n",
              "    </tr>\n",
              "    <tr>\n",
              "      <th>1467</th>\n",
              "      <td>@ReclaimAnglesea @AlboMP https://t.co/o3Gx0C90wa</td>\n",
              "      <td>1.562568e+18</td>\n",
              "      <td>{'retweet_count': 0, 'reply_count': 0, 'like_c...</td>\n",
              "      <td>grs177</td>\n",
              "      <td>2022-08-25 20:59:23</td>\n",
              "      <td>NaN</td>\n",
              "      <td>1.562908e+18</td>\n",
              "      <td>2022-08-25 20:59:23+00:00</td>\n",
              "    </tr>\n",
              "    <tr>\n",
              "      <th>1468</th>\n",
              "      <td>@timcass28343283 @AlboMP I expect you are righ...</td>\n",
              "      <td>1.562568e+18</td>\n",
              "      <td>{'retweet_count': 0, 'reply_count': 0, 'like_c...</td>\n",
              "      <td>ReclaimAnglesea</td>\n",
              "      <td>2022-08-25 07:35:46</td>\n",
              "      <td>NaN</td>\n",
              "      <td>1.562705e+18</td>\n",
              "      <td>2022-08-25 07:35:46+00:00</td>\n",
              "    </tr>\n",
              "    <tr>\n",
              "      <th>1469</th>\n",
              "      <td>@ReclaimAnglesea @AlboMP I can answer on their...</td>\n",
              "      <td>1.562568e+18</td>\n",
              "      <td>{'retweet_count': 0, 'reply_count': 1, 'like_c...</td>\n",
              "      <td>timcass28343283</td>\n",
              "      <td>2022-08-25 07:04:46</td>\n",
              "      <td>NaN</td>\n",
              "      <td>1.562697e+18</td>\n",
              "      <td>2022-08-25 07:04:46+00:00</td>\n",
              "    </tr>\n",
              "    <tr>\n",
              "      <th>...</th>\n",
              "      <td>...</td>\n",
              "      <td>...</td>\n",
              "      <td>...</td>\n",
              "      <td>...</td>\n",
              "      <td>...</td>\n",
              "      <td>...</td>\n",
              "      <td>...</td>\n",
              "      <td>...</td>\n",
              "    </tr>\n",
              "    <tr>\n",
              "      <th>1697</th>\n",
              "      <td>@JimBair62221006 It's called weather</td>\n",
              "      <td>1.563587e+18</td>\n",
              "      <td>{'retweet_count': 0, 'reply_count': 0, 'like_c...</td>\n",
              "      <td>DavidPe61785198</td>\n",
              "      <td>2022-08-27 22:52:08</td>\n",
              "      <td>NaN</td>\n",
              "      <td>1.563661e+18</td>\n",
              "      <td>2022-08-27 22:52:08+00:00</td>\n",
              "    </tr>\n",
              "    <tr>\n",
              "      <th>1698</th>\n",
              "      <td>@6040split @JimBair62221006 Can’t think what y...</td>\n",
              "      <td>1.563587e+18</td>\n",
              "      <td>{'retweet_count': 0, 'reply_count': 0, 'like_c...</td>\n",
              "      <td>tomkins_deborah</td>\n",
              "      <td>2022-08-27 19:03:16</td>\n",
              "      <td>NaN</td>\n",
              "      <td>1.563603e+18</td>\n",
              "      <td>2022-08-27 19:03:16+00:00</td>\n",
              "    </tr>\n",
              "    <tr>\n",
              "      <th>1699</th>\n",
              "      <td>@6040split @JimBair62221006 And just cut off i...</td>\n",
              "      <td>1.563587e+18</td>\n",
              "      <td>{'retweet_count': 0, 'reply_count': 0, 'like_c...</td>\n",
              "      <td>mbc22</td>\n",
              "      <td>2022-08-27 18:34:49</td>\n",
              "      <td>NaN</td>\n",
              "      <td>1.563596e+18</td>\n",
              "      <td>2022-08-27 18:34:49+00:00</td>\n",
              "    </tr>\n",
              "    <tr>\n",
              "      <th>1700</th>\n",
              "      <td>@JimBair62221006 The people who think we will ...</td>\n",
              "      <td>1.563587e+18</td>\n",
              "      <td>{'retweet_count': 0, 'reply_count': 0, 'like_c...</td>\n",
              "      <td>grouchapato</td>\n",
              "      <td>2022-08-27 18:24:37</td>\n",
              "      <td>NaN</td>\n",
              "      <td>1.563593e+18</td>\n",
              "      <td>2022-08-27 18:24:37+00:00</td>\n",
              "    </tr>\n",
              "    <tr>\n",
              "      <th>1701</th>\n",
              "      <td>@JimBair62221006 Buying power is going to be i...</td>\n",
              "      <td>1.563587e+18</td>\n",
              "      <td>{'retweet_count': 0, 'reply_count': 2, 'like_c...</td>\n",
              "      <td>6040split</td>\n",
              "      <td>2022-08-27 18:02:13</td>\n",
              "      <td>NaN</td>\n",
              "      <td>1.563588e+18</td>\n",
              "      <td>2022-08-27 18:02:13+00:00</td>\n",
              "    </tr>\n",
              "  </tbody>\n",
              "</table>\n",
              "<p>237 rows × 8 columns</p>\n",
              "</div>\n",
              "      <button class=\"colab-df-convert\" onclick=\"convertToInteractive('df-82febc05-cf5c-47ca-bc8d-e757739678b6')\"\n",
              "              title=\"Convert this dataframe to an interactive table.\"\n",
              "              style=\"display:none;\">\n",
              "        \n",
              "  <svg xmlns=\"http://www.w3.org/2000/svg\" height=\"24px\"viewBox=\"0 0 24 24\"\n",
              "       width=\"24px\">\n",
              "    <path d=\"M0 0h24v24H0V0z\" fill=\"none\"/>\n",
              "    <path d=\"M18.56 5.44l.94 2.06.94-2.06 2.06-.94-2.06-.94-.94-2.06-.94 2.06-2.06.94zm-11 1L8.5 8.5l.94-2.06 2.06-.94-2.06-.94L8.5 2.5l-.94 2.06-2.06.94zm10 10l.94 2.06.94-2.06 2.06-.94-2.06-.94-.94-2.06-.94 2.06-2.06.94z\"/><path d=\"M17.41 7.96l-1.37-1.37c-.4-.4-.92-.59-1.43-.59-.52 0-1.04.2-1.43.59L10.3 9.45l-7.72 7.72c-.78.78-.78 2.05 0 2.83L4 21.41c.39.39.9.59 1.41.59.51 0 1.02-.2 1.41-.59l7.78-7.78 2.81-2.81c.8-.78.8-2.07 0-2.86zM5.41 20L4 18.59l7.72-7.72 1.47 1.35L5.41 20z\"/>\n",
              "  </svg>\n",
              "      </button>\n",
              "      \n",
              "  <style>\n",
              "    .colab-df-container {\n",
              "      display:flex;\n",
              "      flex-wrap:wrap;\n",
              "      gap: 12px;\n",
              "    }\n",
              "\n",
              "    .colab-df-convert {\n",
              "      background-color: #E8F0FE;\n",
              "      border: none;\n",
              "      border-radius: 50%;\n",
              "      cursor: pointer;\n",
              "      display: none;\n",
              "      fill: #1967D2;\n",
              "      height: 32px;\n",
              "      padding: 0 0 0 0;\n",
              "      width: 32px;\n",
              "    }\n",
              "\n",
              "    .colab-df-convert:hover {\n",
              "      background-color: #E2EBFA;\n",
              "      box-shadow: 0px 1px 2px rgba(60, 64, 67, 0.3), 0px 1px 3px 1px rgba(60, 64, 67, 0.15);\n",
              "      fill: #174EA6;\n",
              "    }\n",
              "\n",
              "    [theme=dark] .colab-df-convert {\n",
              "      background-color: #3B4455;\n",
              "      fill: #D2E3FC;\n",
              "    }\n",
              "\n",
              "    [theme=dark] .colab-df-convert:hover {\n",
              "      background-color: #434B5C;\n",
              "      box-shadow: 0px 1px 3px 1px rgba(0, 0, 0, 0.15);\n",
              "      filter: drop-shadow(0px 1px 2px rgba(0, 0, 0, 0.3));\n",
              "      fill: #FFFFFF;\n",
              "    }\n",
              "  </style>\n",
              "\n",
              "      <script>\n",
              "        const buttonEl =\n",
              "          document.querySelector('#df-82febc05-cf5c-47ca-bc8d-e757739678b6 button.colab-df-convert');\n",
              "        buttonEl.style.display =\n",
              "          google.colab.kernel.accessAllowed ? 'block' : 'none';\n",
              "\n",
              "        async function convertToInteractive(key) {\n",
              "          const element = document.querySelector('#df-82febc05-cf5c-47ca-bc8d-e757739678b6');\n",
              "          const dataTable =\n",
              "            await google.colab.kernel.invokeFunction('convertToInteractive',\n",
              "                                                     [key], {});\n",
              "          if (!dataTable) return;\n",
              "\n",
              "          const docLinkHtml = 'Like what you see? Visit the ' +\n",
              "            '<a target=\"_blank\" href=https://colab.research.google.com/notebooks/data_table.ipynb>data table notebook</a>'\n",
              "            + ' to learn more about interactive tables.';\n",
              "          element.innerHTML = '';\n",
              "          dataTable['output_type'] = 'display_data';\n",
              "          await google.colab.output.renderOutput(dataTable, element);\n",
              "          const docLink = document.createElement('div');\n",
              "          docLink.innerHTML = docLinkHtml;\n",
              "          element.appendChild(docLink);\n",
              "        }\n",
              "      </script>\n",
              "    </div>\n",
              "  </div>\n",
              "  "
            ]
          },
          "metadata": {},
          "execution_count": 131
        }
      ]
    },
    {
      "cell_type": "code",
      "source": [
        "tweets_df_all.shape"
      ],
      "metadata": {
        "colab": {
          "base_uri": "https://localhost:8080/"
        },
        "id": "qyORpME3MOeZ",
        "outputId": "3c754067-a4c9-4ae7-d355-69c5b23b27c8"
      },
      "execution_count": null,
      "outputs": [
        {
          "output_type": "execute_result",
          "data": {
            "text/plain": [
              "(1702, 8)"
            ]
          },
          "metadata": {},
          "execution_count": 132
        }
      ]
    },
    {
      "cell_type": "code",
      "source": [
        "tweets_df_all[tweets_df_all.date.isna()]"
      ],
      "metadata": {
        "colab": {
          "base_uri": "https://localhost:8080/",
          "height": 49
        },
        "id": "DtrqUEjGdKzh",
        "outputId": "c0015bdc-bebc-4ae7-cb46-4b4d7d9b704f"
      },
      "execution_count": null,
      "outputs": [
        {
          "output_type": "execute_result",
          "data": {
            "text/plain": [
              "Empty DataFrame\n",
              "Columns: [text, conversation_id, public_metrics, username, date, text_R, id, created_at]\n",
              "Index: []"
            ],
            "text/html": [
              "\n",
              "  <div id=\"df-1c83781a-4b37-4b3d-8c73-df517b827ea0\">\n",
              "    <div class=\"colab-df-container\">\n",
              "      <div>\n",
              "<style scoped>\n",
              "    .dataframe tbody tr th:only-of-type {\n",
              "        vertical-align: middle;\n",
              "    }\n",
              "\n",
              "    .dataframe tbody tr th {\n",
              "        vertical-align: top;\n",
              "    }\n",
              "\n",
              "    .dataframe thead th {\n",
              "        text-align: right;\n",
              "    }\n",
              "</style>\n",
              "<table border=\"1\" class=\"dataframe\">\n",
              "  <thead>\n",
              "    <tr style=\"text-align: right;\">\n",
              "      <th></th>\n",
              "      <th>text</th>\n",
              "      <th>conversation_id</th>\n",
              "      <th>public_metrics</th>\n",
              "      <th>username</th>\n",
              "      <th>date</th>\n",
              "      <th>text_R</th>\n",
              "      <th>id</th>\n",
              "      <th>created_at</th>\n",
              "    </tr>\n",
              "  </thead>\n",
              "  <tbody>\n",
              "  </tbody>\n",
              "</table>\n",
              "</div>\n",
              "      <button class=\"colab-df-convert\" onclick=\"convertToInteractive('df-1c83781a-4b37-4b3d-8c73-df517b827ea0')\"\n",
              "              title=\"Convert this dataframe to an interactive table.\"\n",
              "              style=\"display:none;\">\n",
              "        \n",
              "  <svg xmlns=\"http://www.w3.org/2000/svg\" height=\"24px\"viewBox=\"0 0 24 24\"\n",
              "       width=\"24px\">\n",
              "    <path d=\"M0 0h24v24H0V0z\" fill=\"none\"/>\n",
              "    <path d=\"M18.56 5.44l.94 2.06.94-2.06 2.06-.94-2.06-.94-.94-2.06-.94 2.06-2.06.94zm-11 1L8.5 8.5l.94-2.06 2.06-.94-2.06-.94L8.5 2.5l-.94 2.06-2.06.94zm10 10l.94 2.06.94-2.06 2.06-.94-2.06-.94-.94-2.06-.94 2.06-2.06.94z\"/><path d=\"M17.41 7.96l-1.37-1.37c-.4-.4-.92-.59-1.43-.59-.52 0-1.04.2-1.43.59L10.3 9.45l-7.72 7.72c-.78.78-.78 2.05 0 2.83L4 21.41c.39.39.9.59 1.41.59.51 0 1.02-.2 1.41-.59l7.78-7.78 2.81-2.81c.8-.78.8-2.07 0-2.86zM5.41 20L4 18.59l7.72-7.72 1.47 1.35L5.41 20z\"/>\n",
              "  </svg>\n",
              "      </button>\n",
              "      \n",
              "  <style>\n",
              "    .colab-df-container {\n",
              "      display:flex;\n",
              "      flex-wrap:wrap;\n",
              "      gap: 12px;\n",
              "    }\n",
              "\n",
              "    .colab-df-convert {\n",
              "      background-color: #E8F0FE;\n",
              "      border: none;\n",
              "      border-radius: 50%;\n",
              "      cursor: pointer;\n",
              "      display: none;\n",
              "      fill: #1967D2;\n",
              "      height: 32px;\n",
              "      padding: 0 0 0 0;\n",
              "      width: 32px;\n",
              "    }\n",
              "\n",
              "    .colab-df-convert:hover {\n",
              "      background-color: #E2EBFA;\n",
              "      box-shadow: 0px 1px 2px rgba(60, 64, 67, 0.3), 0px 1px 3px 1px rgba(60, 64, 67, 0.15);\n",
              "      fill: #174EA6;\n",
              "    }\n",
              "\n",
              "    [theme=dark] .colab-df-convert {\n",
              "      background-color: #3B4455;\n",
              "      fill: #D2E3FC;\n",
              "    }\n",
              "\n",
              "    [theme=dark] .colab-df-convert:hover {\n",
              "      background-color: #434B5C;\n",
              "      box-shadow: 0px 1px 3px 1px rgba(0, 0, 0, 0.15);\n",
              "      filter: drop-shadow(0px 1px 2px rgba(0, 0, 0, 0.3));\n",
              "      fill: #FFFFFF;\n",
              "    }\n",
              "  </style>\n",
              "\n",
              "      <script>\n",
              "        const buttonEl =\n",
              "          document.querySelector('#df-1c83781a-4b37-4b3d-8c73-df517b827ea0 button.colab-df-convert');\n",
              "        buttonEl.style.display =\n",
              "          google.colab.kernel.accessAllowed ? 'block' : 'none';\n",
              "\n",
              "        async function convertToInteractive(key) {\n",
              "          const element = document.querySelector('#df-1c83781a-4b37-4b3d-8c73-df517b827ea0');\n",
              "          const dataTable =\n",
              "            await google.colab.kernel.invokeFunction('convertToInteractive',\n",
              "                                                     [key], {});\n",
              "          if (!dataTable) return;\n",
              "\n",
              "          const docLinkHtml = 'Like what you see? Visit the ' +\n",
              "            '<a target=\"_blank\" href=https://colab.research.google.com/notebooks/data_table.ipynb>data table notebook</a>'\n",
              "            + ' to learn more about interactive tables.';\n",
              "          element.innerHTML = '';\n",
              "          dataTable['output_type'] = 'display_data';\n",
              "          await google.colab.output.renderOutput(dataTable, element);\n",
              "          const docLink = document.createElement('div');\n",
              "          docLink.innerHTML = docLinkHtml;\n",
              "          element.appendChild(docLink);\n",
              "        }\n",
              "      </script>\n",
              "    </div>\n",
              "  </div>\n",
              "  "
            ]
          },
          "metadata": {},
          "execution_count": 133
        }
      ]
    },
    {
      "cell_type": "markdown",
      "source": [
        "##Load previous data"
      ],
      "metadata": {
        "id": "Iw_6v0vc9Dtb"
      }
    },
    {
      "cell_type": "code",
      "source": [
        "tweets_df_all = pd.read_excel('/content/drive/MyDrive/Colab Notebooks/reddit_IAA/tweets_climate.xlsx', index_col = 0)\n",
        "tweets_df_all.shape"
      ],
      "metadata": {
        "colab": {
          "base_uri": "https://localhost:8080/"
        },
        "outputId": "9e331679-f175-468b-9214-99d770fc7969",
        "id": "XGkxXum69Dtc"
      },
      "execution_count": null,
      "outputs": [
        {
          "output_type": "execute_result",
          "data": {
            "text/plain": [
              "(1465, 7)"
            ]
          },
          "metadata": {},
          "execution_count": 118
        }
      ]
    },
    {
      "cell_type": "code",
      "source": [
        "tweets_df_all = tweets_df_all.sort_values(by = ['conversation_id', 'date', 'text'])\n",
        "tweets_df_all = tweets_df_all.reset_index(drop=True)\n",
        "tweets_df_all"
      ],
      "metadata": {
        "id": "EHJw3MY99Dtc",
        "colab": {
          "base_uri": "https://localhost:8080/",
          "height": 710
        },
        "outputId": "b514016e-9973-45f8-eff4-480c1eaaac64"
      },
      "execution_count": null,
      "outputs": [
        {
          "output_type": "execute_result",
          "data": {
            "text/plain": [
              "                                                   text  conversation_id  \\\n",
              "0     @agavecorn @network_gal @GlennVotesBlue @gregd...     1.109639e+18   \n",
              "1     @drubarth @SenTedCruz Wind &amp; solar aren't ...     1.352375e+18   \n",
              "2     @ALefty123 @sean217 @aSinister @njbtweet @Ecot...     1.390270e+18   \n",
              "3     @valoriexoxo2 @Veritatem2021 @Andrewemcameron ...     1.390270e+18   \n",
              "4     @aSinister @peblackstock @glinch72 @WesHamel @...     1.390270e+18   \n",
              "...                                                 ...              ...   \n",
              "1596  @broadshark @DenverChannel @ClimateCentral @am...     1.562212e+18   \n",
              "1597  @MikeNelson247 @DenverChannel @ClimateCentral ...     1.562212e+18   \n",
              "1598  @MikeNelson247 @DenverChannel @ClimateCentral ...     1.562212e+18   \n",
              "1599  @MikeNelson247 @DenverChannel @ClimateCentral ...     1.562212e+18   \n",
              "1600  @MikeNelson247 @DenverChannel @ClimateCentral ...     1.562212e+18   \n",
              "\n",
              "                                         public_metrics        username  \\\n",
              "0     {'retweet_count': 5, 'reply_count': 2, 'like_c...    RestlessNews   \n",
              "1     {'retweet_count': 0, 'reply_count': 1, 'like_c...     ncdave4life   \n",
              "2     {'retweet_count': 0, 'reply_count': 1, 'like_c...    insane_voice   \n",
              "3     {'retweet_count': 0, 'reply_count': 1, 'like_c...    insane_voice   \n",
              "4     {'retweet_count': 0, 'reply_count': 1, 'like_c...    insane_voice   \n",
              "...                                                 ...             ...   \n",
              "1596  {'retweet_count': 0, 'reply_count': 1, 'like_c...   MikeNelson247   \n",
              "1597  {'retweet_count': 0, 'reply_count': 0, 'like_c...      broadshark   \n",
              "1598  {'retweet_count': 0, 'reply_count': 1, 'like_c...        CwHash22   \n",
              "1599  {'retweet_count': 0, 'reply_count': 0, 'like_c...  BrettKarabensh   \n",
              "1600  {'retweet_count': 0, 'reply_count': 0, 'like_c...   danielr528063   \n",
              "\n",
              "                    date                                             text_R  \\\n",
              "0    2022-08-18 16:54:45  @RestlessNews : @agavecorn @network_gal @Glenn...   \n",
              "1    2022-08-18 20:33:14  @ncdave4life : @drubarth @SenTedCruz Wind &amp...   \n",
              "2    2022-08-18 12:17:31  @insane_voice : @ALefty123 @sean217 @aSinister...   \n",
              "3    2022-08-18 19:27:02  @insane_voice : @valoriexoxo2 @Veritatem2021 @...   \n",
              "4    2022-08-18 19:41:38  @insane_voice : @aSinister @peblackstock @glin...   \n",
              "...                  ...                                                ...   \n",
              "1596 2022-08-23 23:31:21  @MikeNelson247 : @broadshark @DenverChannel @C...   \n",
              "1597 2022-08-23 23:31:57  @broadshark : @MikeNelson247 @DenverChannel @C...   \n",
              "1598 2022-08-24 00:14:08  @CwHash22 : @MikeNelson247 @DenverChannel @Cli...   \n",
              "1599 2022-08-24 02:27:24  @BrettKarabensh : @MikeNelson247 @DenverChanne...   \n",
              "1600 2022-08-24 12:28:03  @danielr528063 : @MikeNelson247 @DenverChannel...   \n",
              "\n",
              "                id  \n",
              "0     1.560309e+18  \n",
              "1     1.560364e+18  \n",
              "2     1.560239e+18  \n",
              "3     1.560348e+18  \n",
              "4     1.560351e+18  \n",
              "...            ...  \n",
              "1596  1.562221e+18  \n",
              "1597  1.562221e+18  \n",
              "1598  1.562232e+18  \n",
              "1599  1.562265e+18  \n",
              "1600  1.562416e+18  \n",
              "\n",
              "[1601 rows x 7 columns]"
            ],
            "text/html": [
              "\n",
              "  <div id=\"df-13f5573c-6365-4699-ad64-158b368de965\">\n",
              "    <div class=\"colab-df-container\">\n",
              "      <div>\n",
              "<style scoped>\n",
              "    .dataframe tbody tr th:only-of-type {\n",
              "        vertical-align: middle;\n",
              "    }\n",
              "\n",
              "    .dataframe tbody tr th {\n",
              "        vertical-align: top;\n",
              "    }\n",
              "\n",
              "    .dataframe thead th {\n",
              "        text-align: right;\n",
              "    }\n",
              "</style>\n",
              "<table border=\"1\" class=\"dataframe\">\n",
              "  <thead>\n",
              "    <tr style=\"text-align: right;\">\n",
              "      <th></th>\n",
              "      <th>text</th>\n",
              "      <th>conversation_id</th>\n",
              "      <th>public_metrics</th>\n",
              "      <th>username</th>\n",
              "      <th>date</th>\n",
              "      <th>text_R</th>\n",
              "      <th>id</th>\n",
              "    </tr>\n",
              "  </thead>\n",
              "  <tbody>\n",
              "    <tr>\n",
              "      <th>0</th>\n",
              "      <td>@agavecorn @network_gal @GlennVotesBlue @gregd...</td>\n",
              "      <td>1.109639e+18</td>\n",
              "      <td>{'retweet_count': 5, 'reply_count': 2, 'like_c...</td>\n",
              "      <td>RestlessNews</td>\n",
              "      <td>2022-08-18 16:54:45</td>\n",
              "      <td>@RestlessNews : @agavecorn @network_gal @Glenn...</td>\n",
              "      <td>1.560309e+18</td>\n",
              "    </tr>\n",
              "    <tr>\n",
              "      <th>1</th>\n",
              "      <td>@drubarth @SenTedCruz Wind &amp;amp; solar aren't ...</td>\n",
              "      <td>1.352375e+18</td>\n",
              "      <td>{'retweet_count': 0, 'reply_count': 1, 'like_c...</td>\n",
              "      <td>ncdave4life</td>\n",
              "      <td>2022-08-18 20:33:14</td>\n",
              "      <td>@ncdave4life : @drubarth @SenTedCruz Wind &amp;amp...</td>\n",
              "      <td>1.560364e+18</td>\n",
              "    </tr>\n",
              "    <tr>\n",
              "      <th>2</th>\n",
              "      <td>@ALefty123 @sean217 @aSinister @njbtweet @Ecot...</td>\n",
              "      <td>1.390270e+18</td>\n",
              "      <td>{'retweet_count': 0, 'reply_count': 1, 'like_c...</td>\n",
              "      <td>insane_voice</td>\n",
              "      <td>2022-08-18 12:17:31</td>\n",
              "      <td>@insane_voice : @ALefty123 @sean217 @aSinister...</td>\n",
              "      <td>1.560239e+18</td>\n",
              "    </tr>\n",
              "    <tr>\n",
              "      <th>3</th>\n",
              "      <td>@valoriexoxo2 @Veritatem2021 @Andrewemcameron ...</td>\n",
              "      <td>1.390270e+18</td>\n",
              "      <td>{'retweet_count': 0, 'reply_count': 1, 'like_c...</td>\n",
              "      <td>insane_voice</td>\n",
              "      <td>2022-08-18 19:27:02</td>\n",
              "      <td>@insane_voice : @valoriexoxo2 @Veritatem2021 @...</td>\n",
              "      <td>1.560348e+18</td>\n",
              "    </tr>\n",
              "    <tr>\n",
              "      <th>4</th>\n",
              "      <td>@aSinister @peblackstock @glinch72 @WesHamel @...</td>\n",
              "      <td>1.390270e+18</td>\n",
              "      <td>{'retweet_count': 0, 'reply_count': 1, 'like_c...</td>\n",
              "      <td>insane_voice</td>\n",
              "      <td>2022-08-18 19:41:38</td>\n",
              "      <td>@insane_voice : @aSinister @peblackstock @glin...</td>\n",
              "      <td>1.560351e+18</td>\n",
              "    </tr>\n",
              "    <tr>\n",
              "      <th>...</th>\n",
              "      <td>...</td>\n",
              "      <td>...</td>\n",
              "      <td>...</td>\n",
              "      <td>...</td>\n",
              "      <td>...</td>\n",
              "      <td>...</td>\n",
              "      <td>...</td>\n",
              "    </tr>\n",
              "    <tr>\n",
              "      <th>1596</th>\n",
              "      <td>@broadshark @DenverChannel @ClimateCentral @am...</td>\n",
              "      <td>1.562212e+18</td>\n",
              "      <td>{'retweet_count': 0, 'reply_count': 1, 'like_c...</td>\n",
              "      <td>MikeNelson247</td>\n",
              "      <td>2022-08-23 23:31:21</td>\n",
              "      <td>@MikeNelson247 : @broadshark @DenverChannel @C...</td>\n",
              "      <td>1.562221e+18</td>\n",
              "    </tr>\n",
              "    <tr>\n",
              "      <th>1597</th>\n",
              "      <td>@MikeNelson247 @DenverChannel @ClimateCentral ...</td>\n",
              "      <td>1.562212e+18</td>\n",
              "      <td>{'retweet_count': 0, 'reply_count': 0, 'like_c...</td>\n",
              "      <td>broadshark</td>\n",
              "      <td>2022-08-23 23:31:57</td>\n",
              "      <td>@broadshark : @MikeNelson247 @DenverChannel @C...</td>\n",
              "      <td>1.562221e+18</td>\n",
              "    </tr>\n",
              "    <tr>\n",
              "      <th>1598</th>\n",
              "      <td>@MikeNelson247 @DenverChannel @ClimateCentral ...</td>\n",
              "      <td>1.562212e+18</td>\n",
              "      <td>{'retweet_count': 0, 'reply_count': 1, 'like_c...</td>\n",
              "      <td>CwHash22</td>\n",
              "      <td>2022-08-24 00:14:08</td>\n",
              "      <td>@CwHash22 : @MikeNelson247 @DenverChannel @Cli...</td>\n",
              "      <td>1.562232e+18</td>\n",
              "    </tr>\n",
              "    <tr>\n",
              "      <th>1599</th>\n",
              "      <td>@MikeNelson247 @DenverChannel @ClimateCentral ...</td>\n",
              "      <td>1.562212e+18</td>\n",
              "      <td>{'retweet_count': 0, 'reply_count': 0, 'like_c...</td>\n",
              "      <td>BrettKarabensh</td>\n",
              "      <td>2022-08-24 02:27:24</td>\n",
              "      <td>@BrettKarabensh : @MikeNelson247 @DenverChanne...</td>\n",
              "      <td>1.562265e+18</td>\n",
              "    </tr>\n",
              "    <tr>\n",
              "      <th>1600</th>\n",
              "      <td>@MikeNelson247 @DenverChannel @ClimateCentral ...</td>\n",
              "      <td>1.562212e+18</td>\n",
              "      <td>{'retweet_count': 0, 'reply_count': 0, 'like_c...</td>\n",
              "      <td>danielr528063</td>\n",
              "      <td>2022-08-24 12:28:03</td>\n",
              "      <td>@danielr528063 : @MikeNelson247 @DenverChannel...</td>\n",
              "      <td>1.562416e+18</td>\n",
              "    </tr>\n",
              "  </tbody>\n",
              "</table>\n",
              "<p>1601 rows × 7 columns</p>\n",
              "</div>\n",
              "      <button class=\"colab-df-convert\" onclick=\"convertToInteractive('df-13f5573c-6365-4699-ad64-158b368de965')\"\n",
              "              title=\"Convert this dataframe to an interactive table.\"\n",
              "              style=\"display:none;\">\n",
              "        \n",
              "  <svg xmlns=\"http://www.w3.org/2000/svg\" height=\"24px\"viewBox=\"0 0 24 24\"\n",
              "       width=\"24px\">\n",
              "    <path d=\"M0 0h24v24H0V0z\" fill=\"none\"/>\n",
              "    <path d=\"M18.56 5.44l.94 2.06.94-2.06 2.06-.94-2.06-.94-.94-2.06-.94 2.06-2.06.94zm-11 1L8.5 8.5l.94-2.06 2.06-.94-2.06-.94L8.5 2.5l-.94 2.06-2.06.94zm10 10l.94 2.06.94-2.06 2.06-.94-2.06-.94-.94-2.06-.94 2.06-2.06.94z\"/><path d=\"M17.41 7.96l-1.37-1.37c-.4-.4-.92-.59-1.43-.59-.52 0-1.04.2-1.43.59L10.3 9.45l-7.72 7.72c-.78.78-.78 2.05 0 2.83L4 21.41c.39.39.9.59 1.41.59.51 0 1.02-.2 1.41-.59l7.78-7.78 2.81-2.81c.8-.78.8-2.07 0-2.86zM5.41 20L4 18.59l7.72-7.72 1.47 1.35L5.41 20z\"/>\n",
              "  </svg>\n",
              "      </button>\n",
              "      \n",
              "  <style>\n",
              "    .colab-df-container {\n",
              "      display:flex;\n",
              "      flex-wrap:wrap;\n",
              "      gap: 12px;\n",
              "    }\n",
              "\n",
              "    .colab-df-convert {\n",
              "      background-color: #E8F0FE;\n",
              "      border: none;\n",
              "      border-radius: 50%;\n",
              "      cursor: pointer;\n",
              "      display: none;\n",
              "      fill: #1967D2;\n",
              "      height: 32px;\n",
              "      padding: 0 0 0 0;\n",
              "      width: 32px;\n",
              "    }\n",
              "\n",
              "    .colab-df-convert:hover {\n",
              "      background-color: #E2EBFA;\n",
              "      box-shadow: 0px 1px 2px rgba(60, 64, 67, 0.3), 0px 1px 3px 1px rgba(60, 64, 67, 0.15);\n",
              "      fill: #174EA6;\n",
              "    }\n",
              "\n",
              "    [theme=dark] .colab-df-convert {\n",
              "      background-color: #3B4455;\n",
              "      fill: #D2E3FC;\n",
              "    }\n",
              "\n",
              "    [theme=dark] .colab-df-convert:hover {\n",
              "      background-color: #434B5C;\n",
              "      box-shadow: 0px 1px 3px 1px rgba(0, 0, 0, 0.15);\n",
              "      filter: drop-shadow(0px 1px 2px rgba(0, 0, 0, 0.3));\n",
              "      fill: #FFFFFF;\n",
              "    }\n",
              "  </style>\n",
              "\n",
              "      <script>\n",
              "        const buttonEl =\n",
              "          document.querySelector('#df-13f5573c-6365-4699-ad64-158b368de965 button.colab-df-convert');\n",
              "        buttonEl.style.display =\n",
              "          google.colab.kernel.accessAllowed ? 'block' : 'none';\n",
              "\n",
              "        async function convertToInteractive(key) {\n",
              "          const element = document.querySelector('#df-13f5573c-6365-4699-ad64-158b368de965');\n",
              "          const dataTable =\n",
              "            await google.colab.kernel.invokeFunction('convertToInteractive',\n",
              "                                                     [key], {});\n",
              "          if (!dataTable) return;\n",
              "\n",
              "          const docLinkHtml = 'Like what you see? Visit the ' +\n",
              "            '<a target=\"_blank\" href=https://colab.research.google.com/notebooks/data_table.ipynb>data table notebook</a>'\n",
              "            + ' to learn more about interactive tables.';\n",
              "          element.innerHTML = '';\n",
              "          dataTable['output_type'] = 'display_data';\n",
              "          await google.colab.output.renderOutput(dataTable, element);\n",
              "          const docLink = document.createElement('div');\n",
              "          docLink.innerHTML = docLinkHtml;\n",
              "          element.appendChild(docLink);\n",
              "        }\n",
              "      </script>\n",
              "    </div>\n",
              "  </div>\n",
              "  "
            ]
          },
          "metadata": {},
          "execution_count": 11
        }
      ]
    },
    {
      "cell_type": "code",
      "source": [
        "tweets_df_all['text_R'] = '@' + tweets_df_all.username + ' : ' + tweets_df_all.text\n",
        "tweets_df_all['text_R']"
      ],
      "metadata": {
        "colab": {
          "base_uri": "https://localhost:8080/"
        },
        "outputId": "37f6f973-42b0-458b-d4ea-35b26dc36d13",
        "id": "4hg_11fl9Dtc"
      },
      "execution_count": null,
      "outputs": [
        {
          "output_type": "execute_result",
          "data": {
            "text/plain": [
              "0       @TapHopSeattle : The #Web3 #dotblockchain to record the #Antropocene #earth time period #ClimateCrisis #GlobalWarming #ClimateChange Antropocene.BLOCKCHAIN #drought #heatwave #glaciers #sealevel #...\n",
              "1       @ActionAid : #FossilFuel companies are funding #ClimateChange research. @FossFreeResearch call for universities to break ties with fossil fuel interests.\\n\\n@ilanabana writes for @thenation 👇\\nhtt...\n",
              "2       @pdjmoo : @animaljusticeAU @AJP_Victoria 🌳#Monoculture tree #plantations are \"green deserts\" — NOT #forests.\\nDespite the detrimental impacts of #MonoculturePlantations\\nto\\n#biodiversity\\n#ecosys...\n",
              "3                                                                   @garyhgoodridge : Climate Change is real 👊🏿👊🏿 Are you a believer ?  #GlobalWarming #ClimateEmergency #ClimateCrisis https://t.co/1P5uWK0JZI\n",
              "4                                                                                                                                                  @BurlyMonk : @garyhgoodridge We are in deep trouble #SadTime\n",
              "                                                                                                         ...                                                                                                   \n",
              "1596    @AirNG4blu : @Climeworks We also need to stop new #FossilFuel exploration &amp;eventually end use of Fossil fuels for renewable energy to be below 2C. We have dumped so much green house gases in t...\n",
              "1597    @danielr528063 : @MikeNelson247 @DenverChannel @ClimateCentral @ametsoc @airscottdenning Scientists aren't making bank.\\nIt's the millionaires telling us to make a smaller  carbon foot print while...\n",
              "1598            @Sdg13Un : @DutyToTheSun Yes, that seems little. But if there were more, we wouldn't exist.\\nFurther increases will certainly lead to a severe loss of prosperity in most regions of our world.\n",
              "1599    @Sdg13Un : @Bubba57359510 Yeah, that's just #physics.\\nThe effect is also non-negotiable.\\nThe laws of physics apply.\\n➡️If there were more CO2 in earths #atmosphere , \\nwe wouldn't exist.\\n➡️Furt...\n",
              "1600    @DutyToTheSun : @Sdg13Un 0.04% more than seems little, it IS  miniscule.  Pure Gold is 99.9% that's 0.1% not Gold.  The impure portion of pure Gold is 2.5 times larger than the amount of CO2 in th...\n",
              "Name: text_R, Length: 1601, dtype: object"
            ]
          },
          "metadata": {},
          "execution_count": 696
        }
      ]
    },
    {
      "cell_type": "code",
      "source": [
        "text = \" \\n\".join(tweets_df_all.text_R.values)\n",
        "text"
      ],
      "metadata": {
        "colab": {
          "base_uri": "https://localhost:8080/",
          "height": 140
        },
        "outputId": "aee1858c-a523-4cc6-ef5d-b3ae7f733f0b",
        "id": "oh7M5mia9Dtd"
      },
      "execution_count": null,
      "outputs": [
        {
          "output_type": "execute_result",
          "data": {
            "text/plain": [
              "'@RestlessNews : @agavecorn @network_gal @GlennVotesBlue @gregdemarco1964 @fab4screamie @ShercoSherrill @DonnaJo1002 @JonMesser7 @ritehsemom @Robyn_CherCrew @PattiKimble @rlongman1 @debbie_american @Valkyrry @nadiepetah @Meiguo_nan @TXhoneydew @judeaa @kasseykrammer @Swags_D17 @christraynor @Impeach66051636 @yazzyqz @Itridpm @neliswa_neli83s @CHawksRun @JenM5157 @ljosmyndari1 @wildwillow65 @grupp_arthur @PunishmentHurts @Dick_Pics_Time @co_rapunzel4 @kjoerwin @MtnMD @co_rapunzel4 @DonnaJo1002 @kjoerwin @nadiepetah @GlennVotesBlue @Kris_Sacrebleu @ReduxPanda @MtnMD #FBI #Veterans #Hispanic #Latino #Latinos #BanFoxFromBases\\n\\nTAKING A MOMENT TO ENJOY\\nTHE LATEST TIMELINE CLEANSER\\nPROACTIVE PUPPY BATTLING #ClimateChange\\nhttps://t.co/TxJR878NSm \\n@ncdave4life : @drubarth @SenTedCruz Wind &amp; solar aren\\'t \"clean energy,\" Darryl, and cannot replace dispatchable power. Beware the $1.5 trillion/year parasitic Climate Industry\\'s propaganda. To understand a politicized issue like #ClimateChange you need balanced info, not industry propaganda.\\nhttps://t.co/OFwigReQge \\n@insane_voice : @ALefty123 @sean217 @aSinister @njbtweet @Ecotainment_YT @kniggliator @goingglocal @peblackstock @Stephen90045069 @WesHamel @Wallisbadgerson @Lo_VVriter @WeRone777 @DocSnow1 @benmooreau @JJJungleJim @Spencerfletch0 @ozzorro1 @JackJsherebkin @Ceist8 @glinch72 @FriendsOScience @mac_an_ghoill @realJohnJHoward @USNA_73 @BernaB_2013 @markinkorea @talipes @Andrewemcameron @ZombiePiano @StuartRenshaw6 @cbeckj @Frankd06830 @LesterDent @toddynd @KathyGrants @OzzmanOsgood @AlexVickeryHowe @Alfred_StatesX @BarnhartDooie @RstrixxX @Veritatem2021 @berry_hardman @FLastrade @SageThinker99 @ronkonoma @choosefreedomf1 @verycentrist @IceAge2150 @ejwwest AGW CO2 #climatechange #ClimateCult says your are ignorant masses! https://t.co/7duk0wfMFJ \\n@insane_voice : @valoriexoxo2 @Veritatem2021 @Andrewemcameron @ozzorro1 @ALefty123 @JJJungleJim @glinch72 @aSinister @realJohnJHoward @FriendsOScience @WeRone777 @Spencerfletch0 @USNA_73 @DocSnow1 @benmooreau @peblackstock @JackJsherebkin @BernaB_2013 @markinkorea @talipes @mac_an_ghoill @ZombiePiano @StuartRenshaw6 @cbeckj @Wallisbadgerson @Frankd06830 @LesterDent @Lo_VVriter @toddynd @KathyGrants @OzzmanOsgood @AlexVickeryHowe @Alfred_StatesX @goingglocal @BarnhartDooie @RstrixxX @Ecotainment_YT @berry_hardman @FLastrade @njbtweet @Ceist8 @SageThinker99 @ronkonoma @Stephen90045069 @choosefreedomf1 @verycentrist @IceAge2150 @ejwwest @JimBlack48 @AndryGiles You don\\'t know? Wow... Really? On this thread every AGW CO2 #climatechange alarmist says \"it is part of the record\", but no one knew about it? \\n@insane_voice : @aSinister @peblackstock @glinch72 @WesHamel @ALefty123 @TullimonstrumC @kniggliator @Ecotainment_YT @Stephen90045069 @Wallisbadgerson @Lo_VVriter @WeRone777 @DocSnow1 @benmooreau @JJJungleJim @Spencerfletch0 @ozzorro1 @JackJsherebkin @Ceist8 @FriendsOScience @mac_an_ghoill @realJohnJHoward @USNA_73 @BernaB_2013 @markinkorea @talipes @Andrewemcameron @ZombiePiano @StuartRenshaw6 @cbeckj @Frankd06830 @LesterDent @toddynd @KathyGrants @OzzmanOsgood @AlexVickeryHowe @Alfred_StatesX @goingglocal @BarnhartDooie @RstrixxX @Veritatem2021 @berry_hardman @FLastrade @njbtweet @SageThinker99 @ronkonoma @choosefreedomf1 @verycentrist @IceAge2150 @ejwwest A NEW STUDY! 😂😂😂😂Why did AGW CO2 #climatechange SETTLED SCIENCE not see this? https://t.co/SuMZgkbuOl \\n@insane_voice : @DocSnow1 @0800_KSMY_ASS @peblackstock @ALefty123 @TullimonstrumC @aSinister @kniggliator @tezzig1961 @mckdeb4 @Stephen90045069 @njbtweet @Andrewemcameron @Ecotainment_YT @WesHamel @Wallisbadgerson @Lo_VVriter @WeRone777 @benmooreau @JJJungleJim @Spencerfletch0 @ozzorro1 @JackJsherebkin @Ceist8 @glinch72 @mac_an_ghoill @realJohnJHoward @USNA_73 @BernaB_2013 @markinkorea @talipes @ZombiePiano @StuartRenshaw6 @cbeckj @Frankd06830 @LesterDent @toddynd @KathyGrants @OzzmanOsgood @AlexVickeryHowe @Alfred_StatesX @goingglocal @BarnhartDooie @RstrixxX @Veritatem2021 @berry_hardman @FLastrade @SageThinker99 @ronkonoma @choosefreedomf1 @verycentrist So this is not relevant in AGW CO2 #climatechange narrative? https://t.co/7AAwFTbYVd \\n@insane_voice : @AGWisScience @aSinister @glinch72 @Lo_VVriter @kniggliator @njbtweet @sean217 @Ecotainment_YT @goingglocal @peblackstock @Stephen90045069 @WesHamel @ALefty123 @Wallisbadgerson @WeRone777 @DocSnow1 @benmooreau @JJJungleJim @Spencerfletch0 @ozzorro1 @JackJsherebkin @Ceist8 @mac_an_ghoill @realJohnJHoward @USNA_73 @BernaB_2013 @markinkorea @talipes @Andrewemcameron @ZombiePiano @StuartRenshaw6 @cbeckj @Frankd06830 @LesterDent @toddynd @KathyGrants @OzzmanOsgood @AlexVickeryHowe @Alfred_StatesX @BarnhartDooie @RstrixxX @Veritatem2021 @berry_hardman @FLastrade @SageThinker99 @ronkonoma @choosefreedomf1 @IceAge2150 AGW CO2 #climatechange #ClimateCult believes in the flat earth theory. It spreads solar irradiance over the entire earth at the same time. https://t.co/InROLNxGat \\n@mughalbha : Heavy rain in #Nagarparkar #Tharparkar #Sindh on dated 16.8.2022 Bannhn Beli @BaanhnBeli  Miskeen Jhahan Khan Khoso Dam overflowing.\\n\\n#Water #Rains #Rain #Desert #ClimateChange #Drought \\n\\ncc @afiasalam https://t.co/6VQeVGlacf \\n@mughalbha : 1 - Reservoirs built by Indus Earth Trust @IndusEarthTrust in #Kohistan #Thatta #Sindh filled to the brim! \\n\\n#Rains #Rain #HeatWave #ClimateChange #Poverty #Drought #AridZone #Pakistan \\n\\nCc @afiasalam https://t.co/WVRLzucCNw \\n@mughalbha : 2 - Reservoirs built by Indus Earth Trust @IndusEarthTrust in #Kohistan #Thatta #Sindh filled to the brim! \\n\\n#Rains #Rain #HeatWave #ClimateChange #Poverty #Drought #AridZone #Pakistan \\n\\nCc @afiasalam https://t.co/s4Jlw0h46I \\n@mughalbha : 1 - Let the #Rivers Flow ! (August 2019) Produced by Mr @TofiqPasha \\n\\n#ClimateChange #Encroachment #MalirRiver #LyariRiver #Karachi #Sindh #Rains #Rain #RiverBed #FloodPlains #FloodPlain #UrbanFlooding #FlashFlooding https://t.co/t2YCFtLaZJ \\n@mughalbha : 2 - Let the #Rivers Flow ! (August 2019) Produced by Mr @TofiqPasha \\n\\n#ClimateChange #Encroachment #MalirRiver #LyariRiver #Karachi #Sindh #Rains #Rain #RiverBed #FloodPlains #FloodPlain #UrbanFlooding #FlashFlooding https://t.co/anpn9ynvsJ \\n@richard35609781 : @MikeCroninWMUR @BrandonCNN #stayinformedcc All of Massachusetts now in drought amid alarming expansion of dry conditions in Northeast #ActOnClimate #climate #climatechange #ClimateCrisis #ClimateReport #ClimateAction #climateemergency #climatestrike #ClimateJustice https://t.co/uJP7yWUcGE https://t.co/dkb7aGy7FM \\n@arikring : @BeeAsMarine @GeraldKutney @KathyGrants @KAdnoub @Beijo11 @dunecat1 @pmagn @ECOWARRIORSS @climateguyw @DMDeDionisio @emocionycambio @jimmy6334 @DawnRoseTurner @EarthAccounting @ddelich @armanwalker The #Science is Very Clear:\\nWe Either Fight 2 Limit Every Bit of #GlobalWarming\\nOr Face Dire Consequences!\\n\\nLet\\'s Fight!\\n\\nKindly RT\\n\\n#ClimateAction #ClimateEmergency #CO2\\n#Sustainability #SDGs\\n#FridaysForFuture #DemVoice1\\n#Carbon #Renewables\\n@drsharwood\\n@MsRonnyB\\n@Klinkmi\\n@gvalan https://t.co/uEJ2qf16s2 \\n@patelsmie : Apologies for confusion of geography! Drought+heatwave conditions along the Yangtze have rightly hit the news. My Freudian transference relates to water security/river management issues aggravated by #climatechange. I fear grave headlines emerging along the Lancang/Mekong River👇🏼 \\n@midnight_vic : @Cop26P Can we expect to have all 195 countries in the #world sharing their concerns in #Egypt in November for #cop27? All countries are impacted by the consequences of #climatechange today, tomorrow, next year... What\\'s the plan on providing drinkable #water? \\n@Outside1791 : @lyric934103 @jonathanchait At 4:03, @DeputySecState, Wendy Sherman, STATES that climate change is PARAMOUNT \\n\\n#DEMOCRATS are shutting down energy production and are DELIBERATELY causing #INFLATION and #SHORTAGES to fight #CLIMATECHANGE \\n\\nEconomy Reset - #BUILDBACKBETTER\\n\\nhttps://t.co/YEhH2t6jJk \\n@_NewsView : @VicC73881099 @ScienceWDrDoug The #WHO would have us blame the increasing frequency of deadly disease outbreaks to #ClimateChange. https://t.co/vcf69TTfW0 \\n@_NewsView : @VicC73881099 @ScienceWDrDoug We can\\'t go another decade without irreversible #ClimateChange catastrophe, we were told in early 2020. Something has to be done STAT — but what can possibly bring down emissions fast enough? https://t.co/qRUi0bGRNW \\n@akim_eckert : @NashvilleDeeDee @WBBJ7News @MarshaBlackburn Sen Blackburn really, really hates President Biden\\'s #InflationReductionAct and the money in it for #ClimateChange (she says it\\'s a hoax) and electric vehicles.\\nBut she really, really loves the jobs Ford\\'s Blue Oval brings. https://t.co/ErZgiOz7bw \\n@JimmyGweba : @SAfmRadio @TafMabhaudhi @UCT_news @rosaluxglobal @StephenGrootes I have a problem with the recent #ClimateChange narrative the global main stream media (MSM) is now trying to force down our consciousness. #ProjectVeritas caught one of the #CNN employee on video talking about the next narrative they are planning to push after #COVID19 ...\\n\\n1/2 \\n@Sdg13Un : @TheZeerowCo @ClimaJoes @NewGreenHeart @clima_jo @Earthbasedsoul @H3Energy_ @SDG2030 @sellieyoung @OneLove1P @YourPlanetEart1 @WeDontHaveTime Sorry!\\nI ask to name cause and effect correctly. \\n\\nThe #globalwarming causes the #climate change.\\nThe cause is our burning of carbon by our energy production from fossil fuels and biomass.\\n(not the industrial boom per se).\\n1/2 \\n@PaulMBigland : @GregorMcIntosh3 @Greens4HS2 Err, we spent £9bn upgrading the West Coast line just 15 years ago. It\\'s full, being pounded to pieces and isn\\'t #climatechange resilient. Ignorance of the facts won\\'t stop #hs2. #stophs2isdead \\n@Petsadelic : @meddy52 @SjCattledog @Yellowonetsy @Brian13720 I\\'m just curious, when was the last time the land was lush? Meaning when the trees and land hand an abundance of growth? #GlobalWarming is just eating away at everything. But I\\'m not giving up on my rain dance. So...just know I\\'ll always try. 🐾❤️❤️❤️🤗💃✌️🤟 \\n@mubuuke : @Muzaphalk #Climatechange is real. \\n@pmagn : @UmarBzv And now we know that flying is utterly incompatible with a livable future.. even flying economy 😔 #ClimateCrisis \\n👉🏽#GlobalWarming abrupt #climate change \\n@HeadSpaceSpace1 : @CTVNews I reckon it will start cooling again in September and October. And then we might see some snowfall and sub-zero temperatures come November and December.\\n\\n#climatechange \\n@houstonloves : @voxdotcom This is unfortuantely not reversible. #climatechange \\n@pdjmoo : @animaljusticeAU @AJP_Victoria 🌳#Monoculture tree #plantations are \"green deserts\" — NOT #forests.\\nDespite the detrimental impacts of #MonoculturePlantations\\nto\\n#biodiversity\\n#ecosystems\\n#ClimateChange, government policies continue to promote establishment of industrial plantations.\\nhttps://t.co/BZGGbqucyK \\n@TapHopSeattle : The #Web3 #dotblockchain to record the #Antropocene #earth time period #ClimateCrisis #GlobalWarming #ClimateChange Antropocene.BLOCKCHAIN #drought #heatwave #glaciers #sealevel #JETSTREAM https://t.co/rqDwx5We7T \\n@neels_roy : @TapHopSeattle Truth is way more cruel. We all will not die. Those who live though would have records and anger, angst, resentment towards generations before and hell to live in. \\n@ActionAid : #FossilFuel companies are funding #ClimateChange research. @FossFreeResearch call for universities to break ties with fossil fuel interests.\\n\\n@ilanabana writes for @thenation 👇\\nhttps://t.co/jus70JxqmM \\n@ilanabana : @ActionAid @thenation Thanks for sharing! \\n@WeNaturalists : @ActionAid @FosFreeResearch @ilanabana @thenation Such a curious paradox in life it is.\\n\\nWe must make all efforts to severe ties with the fossil fuel companies. \\n\\nThey are causing a huge ruckus to our environment and we cannot withstand the same. \\n@garyhgoodridge : Climate Change is real 👊🏿👊🏿 Are you a believer ?  #GlobalWarming #ClimateEmergency #ClimateCrisis https://t.co/1P5uWK0JZI \\n@BurlyMonk : @garyhgoodridge We are in deep trouble #SadTime \\n@911psyche : @garyhgoodridge Yes \\n@Abdulhameedmus4 : @garyhgoodridge Same here in my dear nation. \\n@DavidWGibson1 : @garyhgoodridge Nope,  not buying it. \\n@flat3rth : @garyhgoodridge Good. California can use some rain. \\n@brian_shoots : @garyhgoodridge My question is… no water or too much water? \\n@tentionmisleads : @garyhgoodridge A few months ago we had the worst flood our area has had in over 100 years. I honestly think it was recorded as THE worst flood we\\'ve had. \\n@KrisOwrey : @garyhgoodridge I believe the science. The science says we are seeing exactly what is to be expected as we exit the ice age. Now pollution on the other hand is a a different matter and should not be lumped in wholly with climate change. If they didn\\'t sensationalize it, more people would agree. \\n@Ivan1206champ : @BurlyMonk @garyhgoodridge But we stall find a way \\n@Emmanuelseven7 : @garyhgoodridge I don’t know what kind of believe you have or kind of believer you are but I don’t believe this shit. How can climate change ? Humans have been burning things to the sky for ages and will continue to do so till eternity. D money spent on this scam can be used wisely. \\n@Michele14881933 : @BurlyMonk @garyhgoodridge Make your thoughts more productive &amp; Think with all your heart for what “you wish to experience.” Thoughts become things. - The Secret \\n@jay94187 : @garyhgoodridge Not to the extent that the media and democrats want you to believe.  Also we will be eliminating Co2 greatly when graphene becomes mass produced.  To me it\\'s just a control/manipulation tactic by the government and elites. \\n@musoniii : @garyhgoodridge Genesis 1:9 And God said, \" let the water under the sky be gathered to one place, and let dry ground appear\". And it was so.\\nMy point is climate change is as a result of man mismanagement of the work of GOD period. The whole earth will suffer climate change. \\n@FlameBoyLit : @garyhgoodridge Of course it’s real! \\n@_kallic : @BurlyMonk @garyhgoodridge Minimizing damage is also a way.\\n\\nWe may already late to stop or prevent climate change, crisis and chaos, but we still yet have a chance for remedying.\\nAnd hopefully, find a way we could not think possible or we thought useless during those stabilizing attempts and processes. ✊ \\n@Kimoseth : @garyhgoodridge At this time and age,I believe we are living in a fear policy world that will definitely come to enslave people, so even if it is real, it has been brought by people who have an agenda and later offer a solution that will see humanity being more enslaved. \\n@QomResearch : @garyhgoodridge We must learn to adapt to what’s coming to us, and we need a vision for a better future for all, not just bankers. \\n\\nI implore you to check out, and become a #Guardian of, @wearecultdao.  You could help guide resources 💸 to #decentralized projects focused on climate change. ❤️ \\n@QomResearch : @garyhgoodridge @wearecultdao I’d be happy to answer any questions about this opportunity after reading the manifesto.  \\n\\nhttps://t.co/fDKg9psIjj\\n\\nCharlie Chaplin - speech from The Great Dictator \\nhttps://t.co/MvKezmUd5q\\n\\n@MrOmodulus is our dev. \\n@Yari_sh_ : @garyhgoodridge Yes, climate change is in the apocalypse now. Untimely rains, storms, fires...\\nEverything is for people to wake up from slumber!!!! \\n@abdullalmubaraq : @garyhgoodridge All hands as to be on deck for the change we need to deal with this situation. \\n@AgrimAg85538878 : @garyhgoodridge Soil degradation is also happening at an alarming pace worldwide endangering food security of the world. Rejuvenating earth\\'s soil has the potential to reverse climate change. \\n\\nLet\\'s #SaveSoil also for a liveable future\\nPLEASE SUPPORT https://t.co/dUVwUN16pG https://t.co/TaIqDIrD2k \\n@R72337528R : @askboomer1949 This is normal for Oklahoma. \\n@askboomer1949 : @R72337528R The last time I was in Oklahoma was in 1979.\\nNot so bad then.\\nI could not handle the heat in Texas and Oklahoma now.\\nI lived in Houston. \\n@OddemocracyA : A simple myth busting explanation of the causes of #climatechange and why we need to take #ClimateActionNow\\n\\nhttps://t.co/cc40Ln82IX \\n@cathysample6 : @OddemocracyA i don\\'t understand why understanding the cause keeps precluding just taking action to FIX STUFF!? 😒 \\n@SenQuezada29 : #ICYMI, Re-upping this because this is the evolution of radical right wing politics and platform my #StateTreasurer opponent is running on to use #ThePeoplesMoney to radicalize &amp; weaponize this office against efforts to combat #ClimateChange. \\nhttps://t.co/8CVWcSbCST \\n@AllPeaks1 : So is it still #GlobalWarming again, or is it #climatechange? Or is it all just a #ClimateScam? \\n\\nStarted summer off pretty hot in Hotlanta, but mid 80\\'s since the beginning of August with upper 70\\'s coming is the coolest August I\\'ve seen in 7 years. \\n@Mark38909618 : @AllPeaks1 Global warming is the new military industrial complex.  Huge money with no stated goal or ability to measure success \\n@TheDogeBird : @AllPeaks1 It\\'s likely a pole shift getting ready to occur, maybe consequences from weather manipulation (cloud seeding programs), maybe disruption of the airstream (sadly not even talked about, strange..)\\n\\nPoliticians will take advantage and put a spin on anything to line their pockets. \\n@mikehop90349338 : @AllPeaks1 Scam \\n@ryanstrug : #ClimateChange is bull shit facts, day 118:\\n\\nhttps://t.co/qF3J6J8Pnw cherry-picked a very specific metric to try to scare you: northern hemisphere *spring* snow cover. As in April-June. Not even winter. Not even volume. https://t.co/LUlnXHTvjP https://t.co/FdzhgfDYFZ \\n@Ellico2020 : #mawx meteorologists trying to spin the forecast like they didn\\'t flip-flop 12 times on whether southeastern MA would get beneficial rain from this coastal storm. Even yesterday they forecast good rain. The models improved for decandes but are broken now because #ClimateChange. \\n@Ellico2020 : The weatherpeople know they can\\'t forecast reliably anymore, based on their behavior on-screen. \\n@Empoweredlatin1 : #DougMastriano A hosts asked Mastrianio if #gaymarriage should be legal. “Absolutely not block equality for #LGBTQcouples, he denies #globalwarming, no-exceptions #abortionban\\nHe argued that these young #dreamers are “illegal &amp; they shouldn’t be here.\\nhttps://t.co/oGK99YyZU4 \\n@Empoweredlatin1 : He’s trying to bring out hate in #Arizona. \\n@brad_studio : Best take today on #ClimateScam #ClimateChange https://t.co/VrAq8WsSLy \\n@erp2ride1 : @brad_studio Right as rain. Pun intended. \\n@Enlight42 : @brad_studio Wrong on so many levels\\n\\nPity \\n@brad_studio : @Enlight42 Oh here we go. 😒 How much money do you make hawking narratives? \\n@ConcordIndivis1 : THIS IS WHAT DEMOCRACY LOOKS LIKE! This Sunday, meet the candidates vying to be your state rep. With #VoterRegistration, #ReproductiveJustice &amp; #ClimateChange on the line, learn where the aspirants for Concord’s and neighboring towns’ state rep stand on such critical issues. https://t.co/MA2xoTT6Zf \\n@ConcordIndivis1 : During a @ConcordIndivis1- @IndActonMa- &amp; @MAIndivisible-sponsored online candidates forum from 7-8:30pm on 8/21, you\\'ll hear from Vivian Birchall, Simon Cataldo &amp; Patricia Wotjas, all running in the 9/6 Democratic primary to represent the newly redrawn 14th Middlesex District). \\n@dansoncj : #Heatwave2022  Current heatwave in China has crippled hydropower production in Sichuan province - a situation that could be more common with #climatechange \\nhttps://t.co/1n3ksittMA \\n@dansoncj : I spoke to David Fishman from the @LantauGroup  who said this \"raises flags for the potential vulnerabilities of hydropower to extended extreme weather” @pretentiouswhat \\n@Bet_on_Chet : CRUSHING IT! @POTUS lowered #GasPrices, beat #BigPharma to drop drug costs, dunked on special interests, tackled #ClimateChange, signed sensible #GunViolence legislation, killed the leader of Al-Qaeda, and helped U.S. veteran #BurnPit victims. #DarkBrandon #DarkBrandonRises #Win https://t.co/mXRWa9QCLL \\n@switchasia : What are some best practices for businesses that want to tackle #climatechange? On 24 August⌚️3PM (Brussels) join our friends at @normativeio to hear learnings, advice, and real-life examples from businesses on their #carbonreduction journeys. Register 👉https://t.co/4oR62e1R8E \\n@normativeio : @switchasia Thank you for sharing our webinar @switchasia! 😀 \\n@DelgadoLea3 : Drought relief starts with decreasing water use. #water #drought #ColoradoRiver\\n #LakeMead #protect #ClimateChange\\nhttps://t.co/d7zzWVqtBa \\n@MccarthyKelsy : @DelgadoLea3 Don\\'t think of protecting water resources and saving water only when there is a shortage of water on the earth. All we can do is to save water, starting from me, starting from the small things around me. \\n@EnglishLukas : @DelgadoLea3 The combination of heat and drought is really hot. \\n@DevinAguirre15 : @DelgadoLea3 That\\'s why the price of ketchup has gone up all the way. \\n@Tasha58159040 : @DelgadoLea3 \"In the past, we went to the Middle East under the guise of defending human rights, but in fact it was to plunder the oil there. In the future, we will wage wars to plunder water resources.\" \\n@Mr_Webcast : Did you vote Democrat in 2020? 🤔\\nIf you did - you may have helped to save life on Earth.\\nWell done. 🙂\\n#ClimateChange \\n@BeenFrankly : @Mr_Webcast ❤️ \\n@KnightswhosayN2 : @Mr_Webcast Maybe…\\nhttps://t.co/XdqlMU1oRU \\n@Mr_Webcast : @KnightswhosayN2 We\\'re trying to patch the Titanic, listing at 30 degrees.\\nBut we\\'ve got a better chance than we did yesterday. 🙂 \\n@jasonorton420 : @Mr_Webcast Oh, you\\'re definitely on the payroll. How is giving big oil carte blanche \"saving the planet\". \\nWhen do you start drilling in Yellowstone? \\n@Allison86435394 : @Mr_Webcast Really? Since Biden was elected \\n660,000 covid deaths. Today 800\\nmore. Worst President ever!\\n@TheDemocrats @POTUS \\n@ellymelly : These #ClimateChange lunatics in government and at the #WEF are going to make meat, cheese, milk, and chocolate \\'luxury\\', \\'heavily taxed\\' items to \\'save the planet\\'.\\n\\nJust like private jets, the rich will indulge in whatever they want while the poor are left with nothing. \\n@RommelChip : @ellymelly A sin tax, more or less. \\n@at_revenge : @ellymelly The Oz govt has committed to not changing the rate of GST or the zero rating on basic foods. The #wef is a think tank. It has no executive power to change anything. The way to help the poor is to lower consumption taxes &amp; raise taxes on wealth &amp; capital &amp; close loopholes. \\n@am_garland : @ellymelly The WEF and climate change fanatics should widely and heavily promote this.\\n\\nThe 1950\\'s advertising genius David Ogilvy wrote that the fastest way to kill a company was to heavily advertise a bad product. \\n@cheese10110 : @ellymelly Pretty sure that all these extra portfolios Scomo had sort of line up with WEF BS . \\n@Tomarakh : @ellymelly They’re regressing us back to the peasantry with the full approval of the Political parties &amp; Unions that purport to be for the masses. \\n@SumMatch : @ellymelly Increasing taxes help the rich get richer...🦘 \\n@spiritofprivac1 : @Tomarakh @ellymelly Hey Tomaraki, I\\'ve had to reincarnate myself, twatter nuked me \\n@spiritofprivac1 : @Tomarakh @ellymelly if you can help me reconnect to my aussie tribe that would be good \\n@BobZygmont : @ellymelly \"You will own nothing and be happy\" \\n@Lerepert0ire : @ellymelly Where are the  meat, cheese, milk, and luxury chocolates coming from if we don\\'t have a planet? \\n@lafenn1010 : @ellymelly Would like to be a fly on the wall whilst they conduct their asinine affairs. They probably laugh and laugh at how gullible and gutless the world is. \\n\\nAnd then our leaders obey mindlessly. \\n@honestyandhumor : @ellymelly @miketommo99 Yet Maccas and KFC are affordable to all 🙄 \\n@AlbynRoger : @ellymelly “The production of surrogate foods such as soy sausages or ‘nechezol’ – a coffee replacement – was increased. Chocolate, coffee, and fine cigars were considered luxury goods.”\\n\\nRomania under Nicolae Ceausescu\\'s communist regime\\nhttps://t.co/18ezf90DeP \\n@Yeti_etAL : @ellymelly They clearly hate a keto/Paleo/ancestral diet. Keeps people from using their hospitals &amp; pharmaceuticals \\n@JeffL78848810 : @Lerepert0ire @ellymelly You people are complete lunatics…. \\n@jasonrhand : @ellymelly So what are you going to do about it? SFA is my guess! \\n@ellymelly : @jasonrhand My job - informing people about what\\'s happening. \\n@jasonrhand : @ellymelly Pffft \\n@BoldmanSack : @ellymelly People are insane if they think this won’t lead to starvation \\n@Barbara41458172 : @ellymelly Spot on then the people will come for the greedy people. All hell will break out They did this \\n@thatreviewplace : @ellymelly Remind me how the French Revolution ended again, when the poor had nothing???? 🤔 \\n@NeilFaulkner14 : @thatreviewplace @ellymelly The conservatives and revolutionaries came together to take control \\n@armyhadhalfaday : @at_revenge @ellymelly No point telling the cookers that, they think the WEF secretly run the world\\n\\nYou and I know that is about as plausible as saying your local school’s P&amp;C runs Woolworths, but for the conspiracy addicts logic and facts are just a smokescreen \\n@Moonbat74 : @ellymelly Nah. Retailers and producers jacking up prices far beyond increased production costs - under the guise of supply chain issues, blah blah - will price the poor out far earlier. Good old gouging... \\n@bpevans_bruce : @ellymelly Just how much money did your parents waste on school fees for you ? \\n@ellymelly : @bpevans_bruce Straight to personal attacks. Don\\'t want to talk about pricing the poor out of fresh food? \\n@Descarts11 : @ellymelly @jasonrhand Your unlettered opinion doesn\\'t inform anymore than a Cafe owner. \\n@bpevans_bruce : @ellymelly Lets talk about education and  just talk about youre grasp of history, ie the NAZI\\'S shall we ? T \\n@matthewgeddes70 : @ellymelly Tomatoes and lettuce are still a luxury...is this the curtain raiser? \\n@at_revenge : @armyhadhalfaday @ellymelly It\\'s an interesting delusion, the @wef conspiracy. Both the far left who see it as an exclusive club for the rich &amp; the right who are terrified of just about every international organisation overestimate its power, which is minimal. I like to confront this delusion occasionally. \\n@ellymelly : @bpevans_bruce Sure - you can read my historical essays on that at any time - but right now we are talking about you evading the point about the plan to price the poor out of meat, dairy products, nuts, and seafood. \\n@bpevans_bruce : @ellymelly Food prices are out of control because of price gouging by the monopoly held by the two big stores, farmers are ripped off. That can be controlled by market regulation, but you would consider that Socialist, like you think the Nazis were \\n@carsyetisys : @ellymelly @jasonrhand You don’t have a clue about what’s happening. \\n@maureenchuck1 : @ellymelly @jasonrhand And you do it so poorly. \\n@Sidekick_Sid : @ellymelly You left out the most crucial part...\"and they\\'ll be happy\". What I wouldn\\'t give to meet that c*nt Schwab face to face! He would regret ever existing! \\n@katiebecker16 : @ellymelly @bpevans_bruce Just a dick head troll.  Not worth the trouble \\n@matthewgeddes70 : @ellymelly @bpevans_bruce Hang tough Alexandra.  You know already that personal attacks are the first refuge of those that cannot counter your argument.  Keep going.  You have heaps of supporters.  Proud to be one of them. \\n@JamesMcNeill59 : @ellymelly We are not the POOR! We are the majority. Tweet from a position of strength. \\n@oxbofkin : @ellymelly @Cherob14 So then, we the poor, will take everything off them, and I mean EVERYTHING... 🇦🇺 \\n@moppingup44 : @ellymelly Have you seen this? Putin calls out the Globalists  in latest speech \\n@RobertSacco18 : @ellymelly @taniaghunt Ill have a McBug burger in a large meal deal and a Cockroach milk thick shake for a drink please. \\n@ThirteenJun : @ellymelly Oh yes I wonder how long that will last ? \\n@Nathaniel2022x : @ellymelly Watch them exempt themselves I don\\'t know how they\\'ll do it maybe diplomatically with their containers but they never ever are talking about themselves they\\'re only applying these rules to us \\n@Chava_denkt : @ellymelly Same story ...as the covid restrictions weren t about health.\\nIt s about controll of the mass and about insane money earning optionfor for a few. In both cases roughly a third of the \"mass\" participates in form of income and/ or status. This 3rd actially execute the laws. \\n@DosVaper : @ellymelly Stop acting like you haven\\'t been barracking for elites with your Twitter crap. You couldn\\'t give a shit if only elites could afford to eat these things. You are working for them and the fossil fuel industry and are just confecting outrage for their benefit. Disgrace \\n@ihsetan : @BoldmanSack @ellymelly But in a world of controlled media and information starvation will be blamed on climate change, thereby making people even more agreeable to even more restrictions and control. Same playbook as covid. Create the crisis provide the solution that enables more control. \\n@S_Doogood : @ellymelly @CanariesBlue Welcome to the nth Hunger Games. \\n@HonestKeepem : @bpevans_bruce @ellymelly What\\'s that got to do with the price of fish? \\n@JessieG05894984 : @ellymelly @Jett_B2211 When will people wake up to this fact? \\n@Ticcer : @ellymelly @Cherob14 They\\'d better not start screwing with my chocolate🤬 \\n@IreneMayPearce1 : @ellymelly Then they will invite a violent revolution, just like the salt tax did \\n@doggies2013 : @ellymelly @Cherob14 I cannot believe how many stupid, dumber than a rock people there are that will just go along with this WEF rubbish. Climate change spicy flu blah blah blah.\\nAll just 💩💩💩💩💩\\nI am going to eat animals and I am actively working to increase my carbon emissions to counter this 💩 \\n@time4justice28 : @ellymelly and australians are stupid enuff to just cop it .. just like they rolled over with the vaxx and were willing to poison their own children to keep living there pathetic materialistic lifestyles .. a country fit for cowards !! \\n@fringe13A : @ellymelly But I\\'ll be happy right? \\n@tricia713 : @Tomarakh @ellymelly True. \\n@Wernick4Dallas : Check out the Democrats\\' obsession with spending our money on funding supposed \"#ClimateChange\" #EV initiatives in that #inflation increasing thing they are calling the #InflationReductionAct.\" https://t.co/SX9fWIspzq \\n@FChecker76 : @Wernick4Dallas Can you trust a news source that didn’t tell you the Inflation Reduction Act spends $369 billion (over $2,200/taxpayer) to reduce warming less than a 1 mile latitude change (probably much less), even by generous IPCC assumptions?\\n\\nhttps://t.co/qbWSPM8P4x \\n@Revelator_News : \"A single human footprint can last for decades there. So it\\'s really important that we get it right,\" says Claire Christian of @AntarcticaSouth #fishing #tourism #ClimateChange https://t.co/FvxIDZ71Dc \\n@JBumkojobLT9JeO : @Revelator_News @AntarcticaSouth 私もそう思います。近づかない、何も残さずに気をつけて帰るのは当たり前ですが、人に付いているウイルスや細菌がペンギンに影響を及ぼすこともあると考えるからです。 \\n@FVClimateAction : Investing in #LNG (refrigerated #Methane) and other infrastructure like #TMX (who were using tractors in a salmon spawning river this week) Locks us in to decades more of fossil fuel #GHG emissions which cause #climateChange \\n@FVClimateAction : Sept 4 is the deadline.\\nIt seems clear that one candidate takes #climateChange and environmental justice more seriously.  Read more and consider joining the NDP in order to vote for the leader we all need.\\nhttps://t.co/ZQWKZ3sHId \\n@ellymelly : Would you accept food manufacturers exchanging wheat flour 🍞 to cricket flour🦗 in order to \\'save the planet\\'?\\n\\n#ClimateChange #ClimateCrisis #WEF #EatZeBugs \\n@DaveToau : @ellymelly They’ll probably raise the crickets on a diet of wheat. \\n@brendankeena1 : @ellymelly I’d rather just go back to growing my own food and living of the land. Unfortunately that’s were we are heading \\n@browncoat5757 : @ellymelly No. \\n@RyanWil62993886 : @ellymelly The only caveat I have is Balmain Bugs, I will eat those \\n@Waterme59781068 : @ellymelly At that point it\\'s time to just go full carnivore \\n@ellymelly : @RyanWil62993886 Those are tasty - but they classify as \\'seafood\\' which is also \\'disallowed\\' under the new climate regime. \\n@Tomarakh : @ellymelly I don’t eat wheat. Won’t be eating cricket flour either. \\n@Rowen72600346 : @ellymelly Surely humans could design some sort of machine?\\nor a process of some sort? that could turn yukky bugs, into delicious and healthy meal type products.? Imagine there was a device that turned bugs into roast chicken type products? and have bi products of eggs and fertilizer?🐓🐓 \\n@RyanWil62993886 : @ellymelly They will be the only bugs on my menu \\n@ihsetan : @ellymelly Only if they are free range bugs. \\n@M_D_Bird : @ellymelly Perhaps we should eat people, clearly there are too many of them. \\n@micke_no : @ellymelly There are no nutrients in crickets that the human body can use. It\\'s just a padding. \\n@BijouBootBarry : @ellymelly So when do we get to see the elites in question eat bugs as proof of concept.\\n\\nAnd I don’t mean easily-faked cricket “flour”.\\n\\nI mean … here’s a cricket. Go for it. \\n@Awi91268Kabong : @OutsidersJohn @ellymelly I wouldn\\'t eat Klaus\\' relatives. \\n@OldKeto : @ellymelly To processed slop eaters, please boycott the tax- exempt cash provider to the 7th Day Adventist Church, Sanitarium. \\n\\nWant a \\'superfood\\' sardines, I don\\'t eat them (yuk) but if like them go for it, but don\\'t ruin the benefits by eating them with carbs.\\n\\nThis is more my thing. https://t.co/UvFNS2gTFJ \\n@OldKeto : @Rowen72600346 @ellymelly Nope.\\n\\nEven if Bill Gates https://t.co/VOq5iGu8Ls could make factory slop tasty they can\\'t make it nutritious.\\n\\nWe need fat, animal fat (don\\'t worry about protein, its comes with it) its evolution init.\\nhttps://t.co/i2biKBJYrv \\n@Rowen72600346 : @OldKeto @ellymelly Dude what I described already exists, it\\'s just a regular old chicken!! they turn bugs into eggs fertilizer and high protein lean meat. \\n@pure8100d : @ellymelly Little late many major brand have already made the jump without consumers knowledge or approval \\n@OldKeto : @Rowen72600346 @ellymelly : -) https://t.co/gqyakdBFHx \\n@Whitsome20 : @Rowen72600346 @ellymelly But why, there used to be far more ruminant animals on the planet and more topsoil which they produce they aren’t a problem and they are delicious and highly nutritious. We should be investigating in regenerative agriculture would solve many problems. \\n@JakeThePeggg : @ellymelly All those poor crickets. The humanity!!! \\n@divesphere : @ellymelly @FreedmFightr1 It\\'s not flour it is basically ground up chitin. It\\'s like soy milk isn\\'t milk...just more lies to fool the idiots. \\n@BillPounder : @ellymelly Only if they are plague locusts. \\n@OptimistLib : @ellymelly Crickets 🦗 are not harmful. I wouldn\\'t eat it personally. But, I\\'m sure it is more nutritions than wheat flour. If a person who can\\'t afford chicken 🐓 or steak 🥩 wants to eat it, who am I to judge? \\n@OneWiles : @ellymelly And they are full of toxins, so I’m dead either way… 🤷\\u200d♀️ \\n@Brent99032119 : @ellymelly Why would these be the only 2 alternatives? \\n@MattMcC1074 : @ellymelly I don’t have a problem with cricket flour on its own. What I have a problem with is the irrational push to transition to it and bugs etc at expense of meat etc \\n@SpecialGuestSt2 : @ellymelly I see alot of investors going broke on this one hah \\n@ask4_paul : @ellymelly Cheeeky buggers would feed us bugs whilst they eat the steaks. The planet needs saving from them \\n@AngstEpic : @ellymelly Hate to say I\\'m gluten intolerant, so I\\'d have to go with crickets. At least, they\\'re kosher. The other bugs, not so much. \\n@Slanecartoons : \"Taniwha flicked its tail again. Happens all the time\" #climatechange #adaptation #cartoon  @FarmersWeeklyNZ https://t.co/tccIeEZPYe \\n@LynneMMcDonald : @Slanecartoons @FarmersWeeklyNZ Gaia wept. \\n@bullshitjobs : Dear @VanessaCNN, @CNN, we are wasting most of our resources, energy and fossil fuels maintaining 3-4 billion non-contributing #bullshitjobs. Causing #climatechange, pandemics and \"inflation\". Please address root causes.\\nhttps://t.co/iSlTpeuuQH \\n@CorneliusLetsGo : @bullshitjobs @VanessaCNN @CNN I totally feel you my friend. You are just a few years too early, your message (which is TRUTH!) is SOOO far beyond current consciousness that people simply cant handle it. But glad you are pushing it :) \\n@bullshitjobs : @CorneliusLetsGo @VanessaCNN @CNN Well, if you want to change your culture you will have to be a few years beyond the current consciousness. And to repeat things a million times. Until certain thought patterns are established and no longer super controversial. ;-) \\n@CorneliusLetsGo : @bullshitjobs @VanessaCNN @CNN Hehe true - someone needs to start. Do you know @BNBundestag ? \\n@MrisEdu : Beginning a new journey for a better world today at #ManavRachna with #POP - #POPINDIATALKS. Lighting the lamp that illuminates young minds. @VpAmit @1popmovement @manav_rachna \\n#WeAreMRIS #MRIS #Environment #MRAmritmahotsav #Amritmahotsav #ClimateChange https://t.co/dVX0fYzJxl \\n@Achint82725018 : @MrisEdu @VpAmit @1popmovement @manav_rachna POP movement comes to India with Manav Rachna to empower people as active agents of sustainable and equitable development. #POPINDIATALKS #WeAreMRIS #MRIS #POP #Environment #ManavRachna #MRAmritmahotsav #Amritmahotsav #ClimateChange \\n@PoonamS46681545 : @MrisEdu @VpAmit @1popmovement @manav_rachna Another dimension of awareness among students for realizing responsibility as Human being \\n@parika_13 : @MrisEdu @VpAmit @1popmovement @manav_rachna Sensitize, incubate, Integrate, Formulate with Manav Rachna’s Youth Based Movement on Climate Change #POPINDIATALKS. #WeAreMRIS #MRIS #POP #Environment #ManavRachna #MRAmritmahotsav #Amritmahotsav #ClimateChange \\n@RGMris : @MrisEdu @VpAmit @1popmovement @manav_rachna The beginning of a new journey and a new beginning. \\n@Shivani20853108 : @MrisEdu @VpAmit @1popmovement @manav_rachna Remarkable.....!\\nOur Planet...Our Future!! \\n@SaklaniRimzhim : @MrisEdu @VpAmit @1popmovement @manav_rachna The Earth Is What We All Have In Common. #CommonGoal #ProtectOurPlanet #MRIS #MRISinitiative \\n@PriyaKh26055553 : @MrisEdu @VpAmit @1popmovement @manav_rachna Great initiative by MRIs.. \\n@Swatich72492535 : @MrisEdu @VpAmit @1popmovement @manav_rachna “The journey of a thousand miles begins with one little step.”\\n#POPINDIATALKS #WeAreMRIS #MRIS #POP #Environment #ManavRachna #MRAmritmahotsav #Amritmahotsav #ClimateChange \\n@IoM_protocol : 1/ It is an initiative by @iom_protocol \\n\\nTowards #sustainability, #cleanerearth &amp; #greenmobility! 🍃\\n\\nAnd also to tackle the woes of #climatechange 🗻⛈️🌪️🌬️\\n\\nBut why the name - WheelCoin?👇 \\n@click2catch : If we don\\'t want this disaster then we have to act ,act conciously so tht every life could survive on mother earth. Let\\'s make it happen #SaveSoil #cpsavesoil #Climatechange https://t.co/60XZeoBddH \\n@twelveseventy3 : Repeat after me: Climate Change Is A Hoax. Now Retweet. \\n\\n#climatechangehoax \\n#ClimateScam \\n#climatecult\\n#ClimateEmergency \\n#ClimateCrisis \\n#climate \\n#climatehoax \\n@the_lorean : @twelveseventy3 #ClimateChange is real, and it is here. \\n“ The extreme heat and drought that has been roasting a vast swath of southern China for at least 70 straight days has no parallel in modern record-keeping in China, or elsewhere around the world for that matter.”\\nhttps://t.co/WAGRCM37me \\n@PCarterClimate : HOW HOT WILL AMERICA GET?\\n 1.5C, by maximum daily temperature increase &amp; days over 35°C, is disastrously dangerous (IPCC AR6)\\nThe U.S. is highly vulnerable to global warming from now on (2022). For U.S. security, emissions must decline fast. \\n#climatechange #globalwarming #heat https://t.co/rukXD4EZjD \\n@now_ecology : @PCarterClimate And yet, we keep felling Old-growth forests that have protected us for centuries. Even a child knows the value of trees and how they keep us cool when the sun is hot. But we don\\'t want to acknowledge it, until there will be none. #ClimateSuicide \\n@Yodyood : @PCarterClimate Next El Nino will be the true beginning of hell.\\nPeople kinda forget that this is just a La Nina year. \\n@Mead4Prez : @PCarterClimate It\\'d be helpful of you&amp; @PaulHBeckwith described PHYSICS of ice latency heat coefficient&amp;effect of a BOE on the northern hemisphere&amp;why wattage melting ice will cause an abrupt temperature spike when that ice is gone. Quoting the IPCC is EXACTLY like quoting an oil company. https://t.co/wSsyc916RK \\n@DavidTi96281442 : @PCarterClimate We have an economic model of the future. Implementing it we need a managed market subsidizing green projects and taxing to reduce omissions. To put it on a war footing we need all governments prioritizing, acting to make the most of resources. The sooner the better for all of us \\n@ChipTaylor17 : @PCarterClimate I vote for Mandatory No Drive Monday - excepting essential workers. Shutting down oil use is the best solution. 2nd best: Free birth control and Free Abortion worldwide! \\n@BellatorTerra : @PCarterClimate You know a little off topic but I am just a little miffed that I never learned the metric system. Seriously I have to stop and figure out what exactly is a Celsius and what is 35’celsius compared to Fahrenheit. \\n@Sdg13Un : We cause the #globalwarming because we burn #fossil fuels and #biomass.\\nLook closely. That\\'s just one of the nasty consequences. \\n🌐🔥🌐\\n#Colorado #River #drought is so bad you can see it from space by @voxdotcom https://t.co/rpAprEVqOu \\n@BrendaChoi19 : @Sdg13Un @voxdotcom Save Colorado River from drought, fossil fuels and global warming \\n@danellandia : @Sdg13Un @voxdotcom The madness of self-destruction of some leading to the end of Life on Earth should be halted. \\nAnyone right in mind, heart and soul has been sensing that for ages, but the self-destructive minds are too mentally impaired by the stench of the Golden Calf.\\nhttps://t.co/3jV8KA1hLl https://t.co/UVTW8xxniH \\n@Sdg13Un : @danellandia @voxdotcom Don\\'t worry.\\nThe #globalwarming 🔥🌐🔥\\ncaused by us humans \\nwill certainly not lead to the end of life on earth. \\n#Climate change \\n➡️destroys some civilizations, \\n➡️devastates regions and \\n➡️the prosperity of many. \\n🍏But life goes on 🌐\\n🙋\\u200d♀️🐧🦋\\nhttps://t.co/LhEeNv2TRy \\n@WeMeanToClean : Volunteer with us for #CleanDelhi #SwachhBharat #MyCleanIndia\\n\\nVisit https://t.co/XK3ZReQKWN\\n\\n#WeMeanToClean #Volunteer #Volunteering #Shramdaan #Delhi #DelhiNCR #ClimateAction #GlobalWarming #ClimateChange #ClimateCrisis #ClimateEmergency #WeDontHaveTime https://t.co/RvEfL7nIHi \\n@WeNaturalists : @WeMeanToClean Hey came across your volunteer opportunity, thought to help you with that. You can share your requirements on @WeNaturalists platform. Here you can connect and work with nature enthusiasts and professionals. \\n@klausdodds : “Climate change is in most cases survivable; it is our border policies that will kill people. Human movement on a scale never before seen will dominate this century”. #borders #climatechange #migration  https://t.co/DQCyFRCKzf \\n@mic_grop : @klausdodds Oops\\n\\nHow about nuclear power borders? https://t.co/R4OJ19Kwxx \\n@klausdodds : @mic_grop It is a real concern. Ice melt, discharge, strategic water supplies. Fuzzy borders. Or borders made increasingly fuzzy. \\n@mic_grop : @klausdodds It is. A fuzzy border with so much riding on it.\\n\\nhttps://t.co/QzeSGedY31 \\n@ATSE_au : Recent weather events reaffirm that we’re already feeling the impacts of #climatechange, but there\\'s still myths and misinformation about what decarbonising our energy system means. \\n\\nSwipe through to check out @lblackhall\\'s six facts about energy #decarbonisation (more below!). https://t.co/Q8bo61fbEB \\n@ATSE_au : Want to know more? @lblackhall gets into more detail here👇📰\\nhttps://t.co/YGbvxViaRA\\n\\n@scienceANU @ANUEnergyChange @anucecs  @ANU_CPAS https://t.co/AvGyUMkSpT \\n@ChdKenya : When people all over the world unite with a common vision, commit to it and act decisively with hope and belief, we can be able to reduce the effects of #GlobalWarming.\\n\\nIn unity there is power for everyone has a role to play.\\n\\n@KiiruWinnie \\n#Climatechange #Womeninconservation https://t.co/OLB8j4mFaD \\n@AItoids : @ChdKenya @KiiruWinnie @united4wildlife @WWF_Kenya @ConservationKen @KWCAKenya @IUCN Indeed, absolutely right.\\nLet\\'s unite and as one humanity create a safe and sustainable world.\\nPlease, join the Creative Society project (https://t.co/gVThggRtiR)\\n#CreativeSociety\\n#WeWant2Live\\n#GlobalCrisis \\n@phdchamber : This partnership will enable us in fueling and driving the renewable energy ecosystem towards a greener and cleaner future.\\nRegister at https://t.co/2L5RcHwXPN\\n\\n#GreenPlanet #ClimateChange #SaveOurPlanet #NoPlanetTwo #India #Norway #Summit \\n@riikka_kevo : cooperation with the militaries of participating countries, enhance the level of strategic coordination and strengthen the ability to cope with various security threats.’\\n—\\n\\nLet’s hope everything stays cool and the 🌍 can have a good future. #ClimateChange needs 🌏 cooperation. \\n@ScientistAfro : Climate Change is a stark reality that Africa has to tackle. In this sobering conversation with multi-talented Scientist of the @FarmToTable11 Podcast, Ruth Wambui (MSc), we discuss how it has hit food production systems in Africa.\\n#ClimateChange \\nhttps://t.co/TsWys4PRiQ \\n@ScientistAfro : Our chat with @Mbui_M of @FarmToTable11 is also available in podcast format.\\n\\nApple - https://t.co/amHZGSEpwF\\n\\nSpotify - https://t.co/8c5I8Ta8zp\\n\\nListen | Share | Comment https://t.co/EqgCVu9KRh \\n@WeNaturalists : Forest fires are getting worse, 20 years of data confirm\\n\\nAccording to a new Global Forest Watch analysis that examined fires that burn all or most of a forest’s trees.\\n\\nRead more such stories here ⬇️\\nhttps://t.co/iwsgrVBruA \\n\\n#forest #wildfires #nature #GlobalWarming https://t.co/o32FBAnLUl \\n@WeNaturalists : Click here for the full story:\\n\\nhttps://t.co/j0S2sZ4Fnn\\n\\nJoin #conservationists, nature professionals, &amp; organizations on https://t.co/YkPvZJWykb from around the world in creating a larger impact on preserving our #planet.\\n\\n#WeNaturalists #forest #wildfires #ForestFires \\n@JillBelch : 1/2 UK has more than 1,000 livestock mega-farms. Intensive farming is driving #ClimateChange, water &amp; #AirPollution, #biodiversity loss &amp; negatively affecting local communities, including introducing potential health risks associated with ammonia pollution https://t.co/3z2g2QzihR \\n@JillBelch : 2/2 Animal welfare activists say animals in mega-farms denied the ability to express natural behaviours. Keeping them in “crowded, barren conditions” &amp; using fast-growing chicken breeds &amp; farrowing crates for pigs “calls into question claims to be a nation of animal lovers” \\n@Sdg13Un : ‼️We cause the #globalwarming by burning #fossil fuels and #biomass 🔥🌐🔥\\n‼️Look closely\\n‼️at one of the evil #Consequences \\nReally hot from North Africa through Central Europe, into Finland &amp; Norway right now. \\nRecord-breaking #heat for the second half of August for some. https://t.co/FT2ZdPqgAC \\n@sulnick1 : @Sdg13Un Fossil fuels ruled the world since the 19th Century. Biden\\'s IRA 40% GHG reductions first step in replacing them. It won\\'t be easy. Fossil fuel industry funding campaign to prevent renewables. #VoteBlue22 to ensure next steps to stop GHGs. \\n@sulnick1 : @Sdg13Un Treasurers in Red states attacking companies promoting renewable energy alternatives to fossil fuels WV barred Goldman Sachs JP-Morgan from government contracts for reducing coal investments TX from bond offerings AK pulled $ from environmental investment manager Not a R-B issue \\n@JuanDiego9551 : @Sdg13Un How can tropical countries have access to new #Dvap-type #airconditioning technologies applicable to industry and services that allow the use of #renewableenergy, @solarenergy or #heatrecovery? \\n@Sdg13Un : @JuanDiego9551 @Solarenergy Question: Why are dvap-types needed to use renewables?\\n\\nThe important thing is \\nthat the energy demand is covered 100% with renewable energy. \\n@JuanDiego9551 : @Sdg13Un @Solarenergy #Dvap technology allows us to use #solarenergy, but also #recover heat about 50% lost in chimneys, to produce the #cold and #airconditioning necessary in #industry, #services and #hotels \\n@market_forces : “3 major Singapore banks, @dbsbank, @OCBCbank and UOB, say they will no longer fund any new coal mines, power stations or coal mine expansions.”\\n\\n\"Reducing the use of coal has become urgent.\" 🧵 1/5\\n\\nAnalysis in @StraitsTimes by @FogartyClimate \\n\\n#ClimateChange #Climate #Energy https://t.co/xQeqYYD93h \\n@market_forces : \"Singaporean banks\\' policies fall far behind other international banks in many respects on aligning with global climate goals,\" says Ms Binbin Mariana, Energy Finance Campaigner, Market Forces. 2/5 \\n@market_forces : The banks must align lending with the global goal of limiting global warming to 1.5 deg C and reaching net-zero emissions by 2050. #ClimateEmergency 3/5 \\n@market_forces : \"French bank La Banque Postale has committed to a complete withdrawal from fossil fuels by 2030.\\n\\nSingaporean banks do not have reduction strategies around #oil and #gas finance and it is critical they step up to help meet global climate goals,\" Binbin Mariana says. #Climate 4/5 \\n@market_forces : “Time is now too short. Climate change has to be urgently addressed and failure to make deep cuts to all fossil fuel emissions, especially coal, will condemn many of the world\\'s poorest and vulnerable to a more dangerous and hotter future,” - @FogartyClimate. 5/5 \\n@UebertAngel : INTERNATIONAL PROPHECY FULFILLED \\n\\nDROUGHT declared across several regions in Britain, Europe &amp; America as prophesied.\\n\\n#drought #water #climatechange #uk #britain #england #europe #france #spain #america #usa #prophecy https://t.co/hWz56jcTqd \\n@percivalchaps : @UebertAngel My prophet more upto date than tomorrow\\'s newspaper \\n@Lueendal07 : @UebertAngel Hallelujah 🙌\\nJesus is the same yesterday, today and forever!! \\n@E_AbrahamA : @UebertAngel Emeritus \\n@EdoniaC : @UebertAngel Amen \\n@FNCDialogue : @globalforests @WorldResources #Climatechange is likely a major driver in increasing #fire activity.\\nWarmer temperatures dry out the landscape and help create the perfect environment for larger, more frequent forest fires. https://t.co/JGglouabLF \\n@carb0nfi : Global warming at the scale of the planet causes extreme conditions on the local level. Droughts, forest fires, extreme heat and cold, tornados, typhoons, all of these are more likely to occur with #globalwarming. 👇 \\n@carb0nfi : This article showcases the very clear and tangible economic cost of climate change. That’s why we dedicated ourselves to doing our part and more to slow down #climatechange thanks to #carbonoffset projects.\\n\\nhttps://t.co/0Jwvx22yw3 \\n@Kcic_Consulting : #Climatechange is one of the most complex issues facing us today and the #GreenInnovationChallenge seeks to recognize Kenyan youths that are at the frontline of coming up with adaptation and mitigation interventions.\\n\\nFind out what\\'s in for winners ⬇️\\n\\n@FarmKenya254 https://t.co/Hwi2TBB24j \\n@Kcic_Consulting : To apply visit: https://t.co/aYYetMgHWd\\n\\n@StandardKenya, @WWF_Kenya, @NETFUNDkenya, #JourneyToCOP27 \\n@BiophilicKE : @Kcic_Consulting @StandardKenya @WWF_Kenya @NETFUNDkenya @Kcic_Consulting the deadline has been extended until when? \\n@gabeeno : #Badin has been really affected by floods in the last 3 days. People displaced , on the roads… however Badin bypass is clear. #PakistanFlashFloods #ClimateChange https://t.co/Hg19e8960f \\n@JJFHypothesis : JJFH Event Update For 2022-08-16 https://t.co/baWKHax853 #JJFHypothesis #Extinction #Atmosphere #Environment #ClimateChange #Methane #H2S #Fires #Explosions #Coast #Death #Flooding #Arctic #Heatwave #DryOrDie https://t.co/v46iLjCIym \\n@AYCInitiative : There\\'s no better feeling than throwing purchases into a shopping bag, but remember to be mindful of the environment by using eco-friendly bags. Using plastic bags contributes negatively to\\xa0 #ClimateChange because of;\\n\\n#GreenTeamAfrica https://t.co/a60Afen0Sr \\n@AYCInitiative : 🌱Drain blockage\\xa0\\xa0\\n\\n🌱Toxic chemicals are released to the atmosphere during manufacturing\\n\\n🌱Plastic bags are non-biodegradable\\n\\nDo you think the ban on non-bio degradable plastic bags was a good move by the government? Why do you say so?\\xa0 #GreenTeamAfrica \\n@ArthanCareers : This #ThrowbackThrusday we bring to you the discussion we had in 2020 about improving cities to make them liveable for all.\\n\\n#EconomicGrowth #ClimateChange #ArthanBuildingCSOs https://t.co/IX2IAHsHiK \\n@ArthanCareers : Our panelists found factors harming the city (yes, climate change is a major factor) and came up with solutions that can improve the quality of our living. \\n \\nWatch - https://t.co/0TdsDQY7QD\\n \\n#EconomicGrowth #ClimateChange #ArthanBuildingCSOs\\n@TVSClimate @BORDA_Bremen @DFID_UK \\n@UrbanaMarkB : Looking at exemplars of progressive urban greening schemes, #Milan\\'s #Forestami project will see 3 million #trees planted in the Metropolitan area as a simple but effective way to reduce the impact of #ClimateChange, improving the #HealthAndWellbeing of citizens in the process 🌳 https://t.co/cuUhYKvKoI \\n@BagnaMI_Milano : @UrbanaMarkB La realtà di ForestaMI è ben diversa dalla narrazione che ne viene fatta  Guardi il video tratto dal dossier giornalistico realizzato da Milanotoday:  https://t.co/tp5DZ3Naif \\n@UrbanaMarkB : @BagnaMI_Milano That\\'s interesting to see, and encouraging that citizens are taking up the challenge to improve the health of trees around the city. It\\'s critical that any major infrastructure project has the correct planning to ensure its success. \\n@JacobsLadder_A : #ClimateChange education is more important now than ever. Understanding the causes and effects of climate change is the first step in shifting mindsets, establishing new ways of limiting its impact, and adapting to its unavoidable effects.  #GreenTeamAfrica https://t.co/KvSppG6oMm \\n@JacobsLadder_A : Would you look forward to advancing climate change around the world? Tell us why. #GreenTeamAfrica #climateaction #climateeducation \\n@esaclimate : The impacts of record-breaking heatwaves 🔥 across Europe are clearly visible from space 🛰️. \\n\\nESA\\'s @CAlbergel puts them into context #ClimateChange https://t.co/xiU7op85zm\\n#drought #fire #temperature #satellites #EarthObservation @ESA_EO \\n@slowjigger : @esaclimate @esa @CAlbergel @ESA_EO Record breaking? What year do you use as the starting point? Are the thermometers you use surrounded by black asphalt? \\n@edsonarioni : @esaclimate @CAlbergel @ESA_EO First thing that came to my mind when I glanced at this, was fried chicken... I\\'m such a fatass 😅 \\n@SullyMcguire : @esaclimate @esa @CAlbergel @ESA_EO Earth : Nobody wants to help me. And I’m dying.\\n\\nHumans : You’re not dying. \\n\\nEarth : I got the results of the test back. I definitely have Global Warming.\\n\\nHumans : Don’t worry, everything will be fine. Anyway, I want to quit Johnny, he’s boring. https://t.co/UXTS2qMmSy \\n@VoidSimonF : @esaclimate @CAlbergel @ESA_EO The earth is still green and blue from space! \\n@DataNativesCon : On the first day of DN (31 August) we will have the honour of hearing twice from Iliana Portugues, futurist at Siemens Energy. \\n\\nAt 10:55 she will give a talk on behalf of Siemens Energy, and at 11:20 she will participate in a panel on how data affects #energy and #climatechange https://t.co/BtqqQiFDTD \\n@DataNativesCon : Siemens Energy is one of the world\\'s leading energy #technology #companies. The company works with its customers and partners on energy systems for the future, thus supporting the transition to a more #sustainable world.\\n\\n#DN22 #data #innovation \\n@MyEarthMyAction : This is a neat project! In addition to restoring #mangroves, it also has a social component. It is helping young girls in a myriad of ways. All projects should have social components for those most affected by #ClimateChange.\\n\\n#TakeThePledge #ClimateCrisis @CJ4Africa #climate https://t.co/eKMFUcyoNI \\n@nzasap3 : @MyEarthMyAction @CJ4Africa Great work! Well done!\\n\\nMay we ask where you are planting the #Mangroves.. by the coast or is there somewhere inland? \\n@Env_Reform : I am excited to take on a new role at the executive #leadership of @careboutclimate as the interim Co-Executive Director of the International youth-led organisation. I look forward to engaging in this capacity alongside the Co-ED, and the entire amazing CAC family. #climatechange https://t.co/bFTuVQ9wQB \\n@yfopafrica : @Env_Reform @careboutclimate Congratulations🎊 Champion 🏆 \\n@nimishsany : (3/n)But #climatechange is accelerating this process and Kerala is particularly vulnerable. Here\\'s how: According to Ministry of Earth Sciences 46.4% of Kerala\\'s coast faces erosion (largest among the western coastal states). An IITM Pune study shows that there\\'s been an increase \\n@WildTypeWriter : #Reading this #ClimateChange report triggered Joni Mitchell in my head:\\n\\n“They took all the trees and put ‘em in a tree museum…”\\n\\nWithout #ClimateActionNow, that might be the only place some trees survive. https://t.co/ZsVFamyaA7 \\n@PnutButta3 : @WildTypeWriter Trees make oxygen. That continuing loss plus the incalculable damage in Brazilian rainforests will doom much of the human race. \\n@AndrewC66721154 : @WildTypeWriter @morgfair Maybe the human race won\\'t survive. \\n@WildTypeWriter : @AndrewC66721154 @morgfair Maybe we don\\'t deserve to. \\n@Sciguy77 : @WildTypeWriter \\'And they charged all the people a dollar-and-a-half just to see \\'em\\'\\nWhy\\'d you have to spread this earworm? What\\'d I do to you? I\\'ll be humming \\'Big Yellow Taxi\\' for days\\n\\nAt least it\\'ll take my mind off climate change for a few min, each time it hits -- \\n@ShobhaB39753936 : @WildTypeWriter Soil extinction is not just another ecological challenge. It is an existential threat. \\n#SaveSoil \\n#SaveSoilMovement \\n@WildTypeWriter : @Sciguy77 Just be glad I didn’t post a video, attempting to sing a cover. You could never un-hear that. 😜 \\n@tobylovesme1 : @WildTypeWriter And....they charged the people a dollar and a half, just to see em! \\n@WildTypeWriter : @tobylovesme1 With inflation, it’s $11.45!\\n\\n(Yes, I was nerdy enough to calculate. Joni’s $1.50 ticket in 1970, when she recorded “Big Yellow Taxi”, would cost $10 more today. Bad enough trees are relegated to a museum, but the average family probably couldn’t afford to visit!) \\n@tobylovesme1 : @WildTypeWriter OMG- love this. So freaking true! \\n@WildTypeWriter : @PaulSHowes1 I haven’t heard of that one. Book or movie? \\n@WildTypeWriter : @PaulSHowes1 “The trees, like torches, blazed with light…” \\n@wgeoorg : #NetZero is all about maintaining a balance between the emissions produced and the emissions removed from the atmosphere. It forms a crucial part of our fight against the ongoing climate crisis by reducing #GlobalWarming. https://t.co/lhY9oNBFig \\n@MusicSusnet : Congratulations to all newly qualified music therapists! If you have recently qualified as a MT, and care about climate change and the ways we can respond as health professionals, why not sign up to Music Therapy Susnet today - https://t.co/0YNPfa3kjJ #climatechange #musictherapy \\n@plucky_panda : American farmers are killing their crops and selling cows bc of extreme drought. 37% report plowing over crops. Up to 50% reduction in herd size. Orchards are removing trees. Hurting consumers. Address #ClimateChange more aggressively now!! Call your reps. https://t.co/dFsoJyWnHE \\n@MommaMaryBeeGr8 : @plucky_panda It’s been all over the local news \\n@nzasap3 : #ThoughtfulThursdays.\\n\\nThe harder questions on #ClimateChange.\\n\\n#Resettlement gets a #BadRap in #History - but needed for #ClimateAdaptation? #Billions wanting/needing to move to colder parts?\\n\\nA UN-enforced Global Resettlement Scheme in case of 5c land temp rises? \\n@xrsciencerebels : @nzasap3 Given how many people live in low lying coastal areas, some degree of resettlement seems inevitable. \\n@nzasap3 : @xrsciencerebels Within EU, folk can go from #Greece to #Sweden. \\n\\nAnd in the US, moving to #MountainStates. \\n\\nBut where do 3bn #IndianSubCont and #Africans go?  \\n\\nWhat options do they have? And there popn rises as does the heat \\n@c21st_org : Youth-led solutions to climate change, advocacy, taking initiative to address climate change, and many more salient points will be discussed in this dialogue! #ClimateAction #ClimateCrisis #ClimateRightsNow #ClimateJustice #ClimateChange #COP27 @awdf01 \\n\\nhttps://t.co/dFRLXPY8f5 \\n@NutriProduce : An interactive session at #AATC2022, where students get to learn more on principles of #agroecology and #biodiversity. #ClimateChange #FoodCrisis and sustainability in current #FoodSystems @cynthiaLesley3 \\n\\n @FutureForAll @ISFAAKE @uonagriculture, @Cjaneth74 @DendryHellen https://t.co/uOtploje3j \\n@ESIAfrica : \"System change is not #ClimateChange. How often do you buy clothes? All of that has a cost; all of that has to change. We need to change our consumption, how we travel. Only that way can we achieve the just transition we want.\" Dr Roland Ngam \\n@SchneiderNA : @alphastruxure\\'s Nicole Geneau highlights how this legislation will accelerate the energy transformation, providing a big boost for #microgrids, #manufacturing, buildings, #electricvehicles, and more. https://t.co/KD6jw2cYK7 \\n@SchneiderNA : U.S. President Joe Biden just signed the\\xa0Inflation Reduction Act into law, making tackling\\xa0#climatechange\\xa0and\\xa0#decarbonization\\xa0more attainable than ever. \\n@TylerMayoras : Smart adaptation to the heat from #climatechange! 1 million square feet of L.A. roads are being covered with solar-reflective paint. #ClimateAction https://t.co/CErA0CPGRk https://t.co/9ILTKir4tI \\n@johnkrichards : @TylerMayoras there is no man-made climate change\\n\\nanother woke hoax, was called global warming until we had the coldest, snowiest decade in 100 years \\n\\nremember ice age fears were being stoked in the 70s. that hoax is not forgotten \\n\\n https://t.co/joFAqQx9Ox \\n@NicolaBragazzi : And according to many STUPID people, #climatechange is a hoax. STUPID, STUPID, STUPID PEOPLE! https://t.co/LMSyA9ssGP \\n@StevenH92833778 : @NicolaBragazzi According to many many stupid stupid people. Humans controlling the weather IS possible. Ohhhh what gods our scientists have become. To have THAT kind of power must be wonderful. Although they\\'ve NEVER ONCE BEEN RIGHT IN 70 YEARS. NOT EVEN BY ACCIDENT. Stupid stupid stupid. \\n@preshwhyte : Some places in the world 🌎 are experiencing drought while others flood... Climate should never be underestimated by any country.. \\n\\n#MUNLIV #Cuppy | Light Dey =No| #Ogun #GlobalWarming #HopeAgain2023 #Haram \\n@koriblaq : @preshwhyte True talk brother man \\n@NicolaBragazzi : Is it possible to die in 2022 because of rainfall and extreme weather in a supposed developed country (Italy)? The reply is, unfortunately, yes #climatechange \\n@StevenH92833778 : @NicolaBragazzi Yes it always has been #thatslife. \\n@NicolaBragazzi : @StevenH92833778 these are preventable deaths \\n@ChrisgEngland : @NicolaBragazzi People have always drowned and died from the effects of the sun. Your tweet is baseless. \\n@StevenH92833778 : @NicolaBragazzi ARE THEY. Miracle in the year 2022. Mankind discovers the power to control weather. WE\\'RE ALL SAVED. if we pay enough money that is. BRAINWASHED. ask these experts what the weather will be in 5 weeks time. See how expert they are. No excuses now. They know about 2050 somehow. Lol \\n@NicolaBragazzi : @StevenH92833778 Human activities impact planetary health. For instance, food choice. Meat consumption is extremely non-environment-friendly. Shifting towards more sustainable lifestyles can counteract and mitigate against the burden imposed by climate change \\n@StevenH92833778 : @NicolaBragazzi As I said brainwashed. I bet bill Gates is loving his T BONE STEAK  while jetting around on his private jets. while you eat your bugs. Good luck. \\n@BartlettChrisJ : Human caused #climatechange is likely true, but is it true it\\'s so bad and urgent, we must endanger world peace and prosperity, inc food supply for billions of people, on the (entirely unproven) off-chance that a wrecked, authoritarian, aging, non-nuclear powered economy with\\n1/2 \\n@BartlettChrisJ : war and famine will address climate change (necessarily) faster than a healthy, free, nuclear powered and growing one moving full steam ahead?\\n2/2 \\n@McGinnessPDX : @RealBenisons June 28, 2021 (the 116-degree day #heatdome) had a low of 75- that occurred in the evening with that massive cooling push. As much attention as hot days get- the warming nights are important- cooling costs, et #ClimateChange #kgwweather \\n@dumpsterrubbish : @Kommunistkevin @JulesBywaterLee @sue_pfh @toadmeister The computer models work very good, considering. People just don\\'t go and read about it. #climatechange\\nhttps://t.co/iSOAkrRbZt https://t.co/H4Utid2bzA \\n@ScienceNotDogma : @TiceRichard What NEW, compelling EVIDENCE are these 1200 \\'experts\\' providing?🤨\\n\\nBecause EVERY scientific agency on earth supports the accumulated, peer-reviewed facts and evidence of manmade #climatechange.📚✅\\n\\nHere\\'s a partial list of these science organizations:\\n\\nhttps://t.co/joyV4Jb9aM \\n@_NewsView : @TiceRichard Regardless of the debate about natural vs. human-caused #ClimateChange, we must come to come to terms with illusions about how #GreenEnergy works. This matters because global #inflation and economic decline are very much tied to this so-called #transition! https://t.co/WMnWNMyFo3 \\n@davidstehle : @TRF_Stories Beer made from sewage water sounds disgusting now, but in the near future this may be the norm. #climatechange \\n@Harvard_Europe : \"@NATO must address the consequences of #climatechange for security in order to safeguard peace and security in the Euro-Atlantic area—NATO’s core mission,\" writes Fellow @LuciaGarciaRico in her latest report on climate security.\\n\\nREAD @BelferCenter: https://t.co/CWL8JBPttz https://t.co/f4msxGHMPU \\n@Sucheta_Bhadri : @nicolawriting Well-written, paints an aptly haunting picture. A grim reminder of the helplessness of the common man - “ Not to be frustrated and angry with those that have more power and agency to effect change quickly and emphatically – and do not” When will govts act to stop #GlobalWarming ? \\n@ClimateExplainr : New poll shows Americans losing connection to how #climatechange may personally impact them. \\n\\nThis is exactly the problem I call out in my TEDx and recent podcasts. We must stay human focused in our advocacy and build closer, personal connections. \\n\\nhttps://t.co/F1W40C0sVb https://t.co/SyzLiRusWR \\n@Sdg13Un : @ClimateExplainr @KathyGrants @Alex_Verbeek @dimateandhealth @TKobusiingye @elephantjournal @TakharK2 @C_Smart_Climate @philaroneanu @steve_gye Everything we do\\ndepends on energy!\\nAs long as #energy \\nis based on #FossilFuels \\nand is the engine of our #economy \\nand also the engine of all other #Nations \\nmost people find it difficult\\nto stand up for\\ntheir personal responsibility\\nfor #GlobalWarming \\n#ActNow #Renewable #SDG https://t.co/c9Vk9wrBKg \\n@amitangshu : This Sudha Bharadwaj interview is an excellent distillation of her thoughts on trade unionism, environmental movements &amp; #climatechange. I haven\\'t read such a lucid &amp; insightful discussion on these issues in #India the way she thinks them through. \\nhttps://t.co/q5yJerSKbM \\n@amitangshu : For anyone interested on acquiring a grounded understanding of how green &amp; red agendas intersect in India, this interview, replete with examples &amp; case studies, is a must read. I hope she writes a book on this. It is sorely needed. Thanks to Darshana Mitra for suggesting this. \\n@prashantbhujbal : @amitangshu Waiting for Hindi translation of “This changes everything @ \\n@joekrulder : And yet, farmers in Missouri, makers of soybeans and corn, they keep voting for extremists @GOPers who want to burn it all down rather than address #ClimateChange  https://t.co/8RRHao0ZAX \\n@pbrstreetgang78 : @joekrulder @Gopers Rewatching all the Mad Max movies as a sort of Continuing Education course. \\n@joekrulder : @pbrstreetgang78 @Gopers I don’t know whether to laugh or cry 😅😭 \\n@pbrstreetgang78 : @joekrulder @Gopers So much for giving up on the 🐪’s. \\n@LuciaGarciaRico : Excited to see my report on @NATO and #ClimateChange published!\\n#ClimateSecurity #ClimatizedPerspectiveonSecurity https://t.co/lyczUGAIsi \\n@anunezjimenez : @LuciaGarciaRico @NATO ¡Enhorabuena Lucía! \\n@PlasticsWar : A scary and horrific statistic from @BBC  - what are we doing to our world?\\n\\n#plasticswar #waronplastics #maketheworldabetterplace #climatechange #climatecrisis #singleuseplastic #recycle #reuse https://t.co/K6uzulgMIk \\n@can52309145 : @PlasticsWar @BanSingleUse @BBC Geez. What’s the source here? And which companies? \\n@MusingsEntropic : @PlasticsWar @RMO060727 @BBC Surreal😑There are companies starting to make clothes out of bamboo, recycled polyester and plastic. We must keep it going at all costs! There is a tremendous lack of education on this subject. Textiles dramatically effect energy consumption and pollution. \\n@FutuXinfo : The productivity of the crop decreases as the atmospheric temperature goes up beyond threshold level. \\n\\n#naturalrubber #climatechange #sustainability #agriculture #FutuX #agriculturalextension #biodiversity #rubberplantation #carbonemission #agriculturalsustainability \\n@Retractionmedia : @CNN Here’s comes #climatechange. As predicted, it’s arrived at your doorstep. @GOP, can you hear us now? \\n@SallySJW4you : Yesterday in a large team meeting, my boss was talking about how upper management likes to use our dept as an excuse for not meeting KPIs/goals. He said it\\'s not true. He said, \"It\\'s like Global Warming; it\\'s a myth.\" \\n😅😅😅 \\n\\n#science #climatechange #GlobalWarming \\n@SallySJW4you : My coworker messaged me, \"Did he just say global warming is a myth!?\" And then proceeded to send me examples of climate change for the rest of the meeting. 😂😂 \\n@ClaireKraatz : @gubbeen1 @wxrisk @FrediOtto Addressing conspiratorial thinking with an app is a great way to get young people thinking about #disinformation/#misinformation. #climatechange #climateeducation \\nhttps://t.co/8szeP5qMqz \\n@gridpointwx : What to know about adding a ‘green’ investment fund to your portfolio, now that Biden signed historic #CLIMATE bill https://t.co/65aHmXw1Y7  #GlobalWarming #climatechange \\n@MikeNelson247 : @gridpointwx I have some great ideas for GREEN INVESTMENTS!  DM me if you want to learn more... https://t.co/HlGsImESaN \\n@KeithAgoada : If we truly want #agriculture to be the greatest #solution to combat #climatechange through #carbon sequestration in #soil, #forests, and #biologicalcorridors, then we must: \\n@KeithAgoada : Link the desire of consumers to purchase #regenerative products with a marketing #value proposition and certification that can be trusted.\\n#StoryBird #ProducersTrust \\n@bio4climate : @keerthana2022 @cpsavesoil That\\'s a great graphic! \\n@ankole_destin : Pastoralists, times change,  rainy season is here,  let\\'s plant atleast 2 acres of pastures and  make hay or silage for our cattle and we survive next dry season!\\n#hay\\n#silage\\n#fodder\\n#climatechange\\n#livestock\\n#ankolecattle\\n#ankole https://t.co/6OiFYJFUVw \\n@OwakyanzaireH : @ankole_destin Great idea 🙂 \\n@FaekinPrincex : @keerthana2022 @cpsavesoil Hell fucking yeah it is! Can you Imagine if we were composting food waste on the scale we produce it! Products like the machine that turns it onto soil quickly and reliabiliy shows that we have the technology. \\n@keerthana2022 : Problem-#Greenhousegas emissions, #climatechange, #lossofbiodiversity #famine #drought #heatwave #climatechange #foodsecurity,#soildegradation, etc. the key solution is #soilregeneration.#SaveSoil #SaveSoilMovement #Rideforsoil #ConsciousPlanet @cpsavesoil https://t.co/TFoFxFTxS8 https://t.co/eV6wtHgMlg \\n@iacob42 : @keerthana2022 @cpsavesoil This is cool and all but why did you quote tweet me? \\n@keerthana2022 : @iacob42 @cpsavesoil Thanks for your support 🙏🏼😊.\\nPlease support #SaveSoil movement and spread message among your friends and family.\\nKindly visit https://t.co/8x2KpUJDdD site for more information. \\n@iacob42 : @keerthana2022 @cpsavesoil Blarg la flar geh breth fluh bloogle \\n@chriscartw83 : New world\\nNew #climate \\nNew planet \\nMassive shelf cloud in #France before the 200 kms/h winds\\n\\nWhat will happen at +3.5c ?\\n\\n #FranceDrowning , the dishonor of #Europe , discovers  #ClimateChange \\n #ClimateCrisis #climatemergency #extremeweather https://t.co/GBEMfcceFI \\n@MARKBEVIS3 : @chriscartw83 Got to love them awesome clouds. Armageddon will indeed be an artfest :) \\n@newday2020sc : @MARKBEVIS3 @chriscartw83 I have been taking photos just to show how insane it is. It is spectacular but quite ominous as well. \\n@MARKBEVIS3 : @newday2020sc @chriscartw83 We don\\'t get them here, just what I call the \\'methane blanket\\' where we have days and days of continuous grey cloud. But they always seem to coincide with CH4 readings on CAMS of 2.3ppm over the UK. \\n@newday2020sc : @MARKBEVIS3 @chriscartw83 I did get a pic of one that looks like a mountain in the background but nothing like this one.  I do see that \"blanket\" way too often though. Completely disgusting how often the skies are covered in that way. Lately, no rain either and when it does it is very localized. \\n@Larsohrstrom : Very happy to, with @NoaMystere @chalmersuniv, be part of this work from the Uppsala group of @TCheungsters @msmka_  @UU_University making MOFs to capture SF6. #porousmaterials #greenhousegases  #climatechange #MOF https://t.co/c7A1eZSdLw \\n@Larsohrstrom : SF6 has excellent dielectric properties, it is non-toxic, and thermally stable and therefore a popular choice  in high-voltage systems, circuit breakers, and the semiconductor manufacturing industries. But the global warming potential of SF6 is over 22,000 times that of CO2! \\n@HalleluYah1237 : #Bible students know that man made #climatechange is a cleverly designed #hoax that seeks to \"capitalize \" on the lawless ignorance of the unrepentant masses.\\nThis is true.\\nNo law, decree or act by #politicians will affect or make weather conditions more favorable. This is insane \\n@HalleluYah1237 : They will probably tell us otherwise, but it is only Yahweh that controls the #weather.\\nBut that will not stop them from trying, such as \"cloud seeding\", but to no avail to help conditions long term.\\nWeather #drought of floods, cold &amp; heat,we all our in the hands of our #Creator! \\n@nikeshbalami : Hello #climate activists, researchers, journalists, organizations &amp; more 👋\\n\\nWhat kind of climate-related datasets 🔢 &amp; resources 📚 do you need to boost your ongoing effort against #climatechange? Please do share ideas &amp; requirements.\\n\\nWe want to build something to help you. \\n@nikeshbalami : Easy access to quality/bulk #climate datasets is one of the major problems out of many that we always talk about.\\n\\nDatahub can be the way forward, but it\\'s very expensive to build, maintain &amp; sustain.\\n\\nWhat can be the alternative? The effective way to build a cost-effective hub? \\n@nikeshbalami : Also for us to develop something tech-driven or data-driven idea ~ to help tackle #climatechange 🌐 issues.\\n\\nDon\\'t you think we need something like a \"Playbook\"? Because climate has many domains + scientific definitions ~ which tech people find difficult to understand &amp; relate. \\n@nikeshbalami : The playbook in a sense - can have key definitions of climate-related termonologies, reading materials, easy-to-navigate resources related to various climate domains, a summary excerpts of key research discussions/findings etc etc. \\n@nikeshbalami : OKAY, I along with some of my @okfn_np team have decided to commit 10+ hours a week - to explore &amp; work on these topics.\\n\\nWe are unsure of what we want; but we will continue to learn and implement. Some skeleton of the idea, which we want to do 👇\\n\\n- https://t.co/0CW1adDAZm \\n@nikeshbalami : 1) Open up quality #climate datasets\\n2) Look into patterns &amp; impacts\\n3) Simplify climate resources\\n4) Map stakeholders\\n\\nThe target is to work on Nepal-related data in the first phase -&gt; then expand.\\n\\nMore details coming. Want to contribute &amp; help? \\n@Animals_GRN : About the Event &amp; the @GlobalResearchN Think Tank Animals &amp; Biodiversity Programme\\n\\nFull Programme: https://t.co/WZVoAy6BQU\\nRegister: https://t.co/kuTE3RiD0y\\n\\n#GRN2022AWDS #animals #wars #disasters #climatechange #animallaw #disastermanagement #warfarelaw #internationallaw https://t.co/of53e53VeC \\n@Animals_GRN : Event Schedule\\n\\nFull Programme: https://t.co/WZVoAxP0Zm\\nRegister: https://t.co/kuTE3RAep8\\n\\n#GRN2022AWDS  #animals #biodiversity #wars #disasters #climatechange #animallaw #disastermanagement #warfarelaw #internationallaw https://t.co/H1iUflq6FE \\n@Animals_GRN : Panel Schedule\\n\\nFull Programme: https://t.co/WZVoAxP0Zm\\nRegister: https://t.co/kuTE3RAep8\\n\\n#GRN2022AWDS  #animals #biodiversity #wars #disasters #climatechange #animallaw #disastermanagement #warfarelaw #internationallaw https://t.co/vD0WD8TR2t \\n@TimepDC : 🌍NEW EVENT: To mark the launch of TIMEP\\'s #climatechange project, join us for a discussion of the most pressing challenges facing the region w/ @sarinekk, @MalakLibya1, Zeina Moneer, &amp; Sammy Kayed, w/ remarks from @ChibaniAchref &amp; moderated by @GebeilyM: https://t.co/xsQxTlhhUh https://t.co/JkhSuhu0FI \\n@pacocapone20 : @TimepDC @sarinekk @MalakLibya1 @ChibaniAchref @GebeilyM Will this be recorded? Can I watch it after? Thank you \\n@TimepDC : @pacocapone20 @sarinekk @MalakLibya1 @ChibaniAchref @GebeilyM Yes! Thank you for asking, @pacocapone20. Each of TIMEP\\'s events are recorded and available on our website and Youtube channel in a playlist here: https://t.co/LngX0qtooz\\n\\nWe will also share the recording widely after the discussion on Twitter and other social media. \\n@BCGreens : Homeowners have spent 42% more on their home insurance premiums in the past decade as a direct result of climate change.\\n \\nAnd extreme weather raised global food prices by 28% last year. 3/ #bcpoli #ClimateChange \\n@BCGreens : The atmospheric river last year cost $675 million in insured damage.\\n \\nIt paralyzed the province and disrupted $550 million worth of daily cargo moving through Vancouver’s port. 2/ #bcpoli #ClimateChange \\n@BCGreens : With an escalating climate crisis, BC will experience increased frequency and strength of emergencies. Intense fires, flooding and landslides are endangering our food security, clean water sources, and the safety of our homes and businesses. 4/ #bcpoli #ClimateChange \\n@BCGreens : These are just a few of the ways we can protect ourselves, our economy &amp; our communities from #climatechange.\\n\\nThere are many more but this @bcndp gov’t is unwilling to adapt. Tell them it’s time to change. It’s time to protect our communities. 7/7 #bcpoli https://t.co/pGJlDhrGLo \\n@picardonhealth : How a warming climate is hurting sleep.😴Q+A w/ @keltonminor, author of a study suggesting people are losing 44 hours of sleep a year because of hot nights, by @menakarw on #TheDecibel podcast🎙️ \\nhttps://t.co/SYaDjIpQDb \\nhttps://t.co/qkDXHHUrf8 via @globeandmail #ClimateChange https://t.co/QCOVq96dLN \\n@peter102746 : @picardonhealth @menakarw @keltonminor @globeandmail That\\'s all of 7 minutes and 24 seconds a day. See how basic arithmetic outlines the triviality of scary headlines? \\n@peter102746 : @picardonhealth @menakarw @keltonminor @globeandmail *7 minutes and 14 seconds*.  Pardon the typo. \\n@Lynnie_Tunis : @peter102746 @picardonhealth @menakarw @keltonminor @globeandmail You think it\\'s divided equally over the year in a country with four seasons? \\n@DVox83 : UNREAL! #BlackChapelCollective WINS Best Eco Film @ #YourWayFilmFest!😱\\n\\nThx to all around the 🌍 supporting our project \\'Connect: A Creative Response To #ClimateChange\\'🙏🏽💚💫\\n https://t.co/6QRVTRAP0I \\n\\n@Blackchapel18 @rachelbrooksmus @HelenConnellyUK @earthpercentorg @remarqabl https://t.co/Qz8mhDvQpt \\n@Blackchapel18 : @DVox83 @rachelbrooksmus @HelenConnellyUK @earthpercentorg @remarqabl @theonlymartin @silviavoicebox @SophieShnapp @JuliesBicycle @musicdeclares @SheClimate @GreenerUK_ @ClimateReality @EcofriendlyAmy @brianeno Thanks @DVox83 and all the amazing artists who ate part of this project!!!🖤 \\n@DVox83 : @Blackchapel18 @rachelbrooksmus @HelenConnellyUK @earthpercentorg @remarqabl @theonlymartin @silviavoicebox @SophieShnapp @JuliesBicycle @musicdeclares @SheClimate @GreenerUK_ @ClimateReality @EcofriendlyAmy @brianeno Eeek! Thank YOU Steve! For, without you, there would be no project!🙏🏽🙏🏽🙏🏽 \\n@ChrisDennysUK : A #Commonwealth of High Commissioners met with Secretary General @PScotlandCSG including 🇳🇬 🇿🇦 🇹🇬 🇨🇲 🇬🇧 and of course 🇬🇦 in #libreville to discuss the opportunities in the #Commonwealth  #trade #climatechange #technology @UKinCameroon @commonwealthsec https://t.co/0XEWOVa8gh \\n@lengaud : @ChrisDennysUK @PScotlandCSG @UKinCameroon @commonwealthsec Does this exchange have anything to do with the upcoming Africa Climate Week in Libreville ? \\n@joblijob16 : @ChrisDennysUK @PScotlandCSG @UKinCameroon @commonwealthsec Hope you ask Mr Biya to #EndAnglophoneCrisis \\n@ToplessTopics : 11:30 Am, currently 78 degrees and the sky is ominously cloudy, pregnant with rain. Yet yesterday evening was bone dry and 98 degrees, and this evening is expected to be the same. In #portland #PNW. I hate #climatechange . https://t.co/C6Y8H1gj3S \\n@OlvedaMarlene : @ToplessTopics Seriously! I thought I\\'d woken up in New Orleans! Glad to see that some cooler air will come in overnight. \\n@r_Fishmom : @ToplessTopics It\\'s so muggy out rn. \\n@ToplessTopics : @r_Fishmom It is. Which kinda scares me, when it\\'s also really hot. Wet bulb phenomenon and all that. \\n@hatchflymag : Widely viewed as a conservative lot, the vast majority of hunters and anglers acknowledge that climate change is happening — and also see humans as bearing most or part of the blame.\\n\\nhttps://t.co/z4bc8UiaV1\\n\\n#fishing #hunting #flyfishing #climatechange #news \\n@MicheleLapini : #Climatecrisis and #capitalism\\n\\nWind gusts of up to 225 km/h hit northern #Corsica causing deaths, injuries and extensive damage.\\nNumerous #boats were overturned and smashed onto the rocks at #PuntaSpano\\n\\n#climatechange #clima #photojournalism #cambioclimatico #corse #mareggiata https://t.co/Hyjvp6zWT7 \\n@AlphaBiloute : @MicheleLapini Normal orage fini ils retournes faire bronzette aux bord de l\\'eau... 🙄🙃 \\n@bullshitjobs : Dear @waltonwater, @sciam, 3-4 billion non-contributing #bullshitjobs are wasting most of our resources, energy and fossil fuels. Causing #climatechange, pandemics and \"inflation\". Please address root causes.\\nhttps://t.co/2oj5WQ5LqK \\n@yuan_julian : Global Asia Initiative @DukeU invites Prof. McNeill of @Georgetown @GUHistory to talk about the #Anthropocene, #ClimateChange, the Industrial Revolution, ecological teleconnections, and world history \\n\\nhttps://t.co/txWlC9wrpu\\n\\n@jhfcduke \\n@fhi_duke \\n@DUCIGS https://t.co/8xaCLEk78x \\n@BlackBeardsflag : #Climatescam Climate has changed for three billion years in Earth. No proof mankind did it. #climatechange #ClimateCrisis \\n@GlennCarr6 : @BlackBeardsflag Mankind didn\\'t, not for the first 4.5 billion years. Mankind only started pumping out significant ghg emissions in the past 100 or so years. Didn\\'t you know? ☺️ \\n@KungfuAuntie : @BlackBeardsflag Last time climate changed this fast, it was an asteroid. Another time it was a supervolcano. Most life on earth died. Seen any mega volcanoes lately? No? Yes, it has been proven it\\'s us. By the way, how is that an argument to not try to stop it? Should we just give up and die? \\n@anne3477 : We call these water spouts and wtf are they doing off the coast of Cornwall? 🌪 #climatechange? https://t.co/Cjejm3B4Ic \\n@durhamiteA : @anne3477 Like most, looking for that hunky Poldark? \\n@anne3477 : @durhamiteA Bwahahaha\\n\\nProbably \\n@BreatheProject : Carbon Capture and Hydrogen is a false solution, an initiative of the gas industries to keep the gas flowing which will not measurably address #climatechange and will only prolong the pollution and waste billions in taxpayer dollars. @bobmayor https://t.co/KrLvXGvE8f \\n@wetheclimate : Listen to Thursday\\'s episode of #TheClimateDaily! It\\'s a quick roundup of #news stories featuring #people and #organizations taking action to #combat #climatechange and delivered to you in under eight minutes! \\nLink in bio 🔗 https://t.co/44vEXaSEaf \\n@JeroenEhlen : @wetheclimate @OneLove1P Let\\'s make a difference together 💪 we promise to continue donating all our music profits and lead by example that GREED should not come before our planet https://t.co/xFrlSJE4Fx▶️🔁 by pushing play repeat overnight we can help clean up our oceans https://t.co/zPssNqtYu8🌊\\U0001f9ad💙👊 \\n@Charlie85915085 : What planet do\\'the American people\\' live on?\\n🌏\\nChristo-fascists like Pompeo would end us all.\\n#ChristoFascism is as much a global problem as #globalwarming\\n#ClimateActionNow\\n🇺🇸✝️💀💀💀💀💀💀 https://t.co/QIIqmKWoIK \\n@shernotcher : @Charlie85915085 He want to be President. \\n@CarbonConvoCA : @calgarysun \"Wood Buffalo National Park... is slowly drying up through a combination of climate change &amp; upstream developments such as BC\\'s Site C dam.\"\\nGlad to see you\\'re finally mentioning #climatechange, but we\\'re actually in a desperate #ClimateCrisis . Say that. \\n@Globetrotter802 : @CarbonConvoCA @calgarysun How exactly is Site C drying up Wood Buffalo Park and the Peace Athabasca Delta when there is no reservoir, water is being passed through two large tunnels and there’s next to no consumptive water use? \\n@CarbonConvoCA : @Globetrotter802 @calgarysun I don\\'t know, I haven\\'t followed Site C since 2018.\\nI was highlighting the Calgary Sun\\'s mention of climate change, a subject they\\'ve mainly dismissed or made fun of for a couple of decades. \\n@EarthAgora : Facing extreme weather events, most Americans point to #ClimateChange https://t.co/IViETc4czc \\n@WilliamNB : @EarthAgora @575Keith But continue with their lifestyles that puts the USA in the top CO2 producers.\\nCaring about climate change isn\\'t enough. We need to act. \\n@Slartib49836743 : Rishi Sunak launches taskforce on Bank of England digital currency https://t.co/Oui9owycNu Start using cash again, #ClimateScam #ClimateHoax #ClimateGrifters #ClimateAction #WEFcrimesAgainstHumanity #WEF #dutchfarmers #globalwarming Support the world\\'s farmers. \\n@GeezaTony : @Slartib49836743 No Shocker when Sunak becomes PM then is there... \\n@SevernOffice : We are pleased to have received our 3 month climate impact badge from @Ecologi_hq \\nWe like to do our bit for the planet🌍 #somersethour #covhour #climatechange #enviornment https://t.co/9cGdprmchH \\n@somersethour : @SevernOffice @Ecologi_hq Cracking work guys! #somersethour \\n@SevernOffice : @somersethour @Ecologi_hq Thank you \\n@somersethour : @SevernOffice @Ecologi_hq You\\'re welcome! #somersethour \\n@NPTBizClub : @SevernOffice @Ecologi_hq That’s great keep up the good work \\n@GChamberlainAZ : @Brittanirussel8 @atRachelGilmore Researching #FreedomConvoy Can you confirm they have no #ClimateChange, #SDGs or #ecocide policies. But want to be considered well informed, moral, patriotic Canadians? @EcocideLaw  #Cdnpolitics \\n@songue_pr : New from @guardian: @VictoriaNamkung takes a look at #verticalfarms including @plenty\\'s in South San Francisco, and speaks with @DrNateStorey\\non how #agtech can help mitigate the effects of #climatechange. https://t.co/Pwsx8Xwgzr \\n@VictoriaNamkung : @songue_pr @guardian @plenty @DrNateStorey Thank you so much for having me! It was a pleasure! \\n@cindian1 : @richardzussman @pqpolitics Do ALL BC politicians that believe #climateChange #science but are ignoring it, diluting it &amp; molesting it for #FossilFuel &amp; #deforestation corps 😳🙄🤑🆘\\nFunding #ClimateCatastrophe then also clean up 😵\\u200d💫\\n#banfracking #LNG 🛢️#pipelines 🛑 #oldgrowth clear cutting #glyphosate \\n@Slartib49836743 : 2022 UK. #ClimateScam #ClimateHoax #ClimateGrifters #ClimateCrisis #ClimateEmergency #ClimateAction #WEFcrimesAgainstHumanity #WEF #dutchfarmers #globalwarming Support the world\\'s farmers. https://t.co/AqRtHsZYU0 \\n@Questiontheans1 : @Slartib49836743 world economic forum protests - anti government intrusion and restrictions. \\nAround the planet, people are\\xa0 standing up to government oppression.\\xa0 but you will not find this on msm they want you blissfully unaware that the revolution is not being televised.https://t.co/CRHfmIXybh \\n@AdamRogers2030 : #WTF? The @weatherchannel has a video linked to its front page called \"#Antarctica is Looking More Green \\'Thanks\\' to #ClimateChange.\"  Don\\'t they realize how serious this is? How about \"Because of...\"?\\n\\nWho can correct this title? https://t.co/76pHlmDynJ \\n@JoannaMMeyer : @AdamRogers2030 @weatherchannel @sebcopeland @JanineClimate @Sdg13Un @AmSamuelish @ClimateNewsIDN @ConnectAID_int @DylanRainesCO @UNDPClimate @HelenClarkNZ @Climate_Central Reach out to the people who run the station. C\\'est vite. \\n@AdamRogers2030 : @JoannaMMeyer @weatherchannel @sebcopeland @JanineClimate @Sdg13Un @AmSamuelish @ClimateNewsIDN @ConnectAID_int @DylanRainesCO @UNDPClimate @HelenClarkNZ @Climate_Central They are tagged in the tweet.  Hoping enough people RT to send a message to the channel. \\n@RainesCampaign : @AdamRogers2030 @weatherchannel @sebcopeland @JanineClimate @Sdg13Un @AmSamuelish @ClimateNewsIDN @ConnectAID_int @UNDPClimate @HelenClarkNZ @Climate_Central Do you have a link to the video/article? Curious how they described the #climatechange link in the actual story. \\n@JakeKarter1 : 👀☀️ #Savesolar #climatechange #Solar \\n@GavinNewsom @californiapuc @AReynoldsCPUC \\nSTOP🛑the #SolarTax\\n#PGEnot4Me #UtilityProfitGrab https://t.co/9hQywxXse4 \\n@powervoice4 : @JakeKarter1 @AllieM_Hilliard @GavinNewsom @californiapuc @AReynoldsCPUC The real question is how this came to be? \\n@BorlickRobert : @JakeKarter1 @GavinNewsom @californiapuc @AReynoldsCPUC How does one spell \"sophistic?\" \\n@dglife6 : @powervoice4 @JakeKarter1 @AllieM_Hilliard @GavinNewsom @californiapuc @AReynoldsCPUC Meaning they left the cpuc after handing in the draft. The other three commissioners and two new commissioners had nothing to do with it, \\n@paul__tully : #ClimateChange: \\'Staggering\\' rate of global tree losses from fires\\n\\n@MattMcGrathBBC #ClimateCrisis\\nhttps://t.co/YDnSsrMg7E \\n@KiraOnClimate : @paul__tully @MattMcGrathBBC It’s time for a #ClimateRevolution - it’s time for the people to rise up! We can save ourselves, but only if we turn out in vast enough numbers to overwhelm the system. We are the change we’ve been looking for!\\n\\n#ClimateEmergency https://t.co/96AWbn17yH \\n@WeiZhangAtmos : @paul__tully @KiraOnClimate @MattMcGrathBBC Well that’s a load of hogwash. Global wildfires have been decreasing steadily.  I guess we  shouldn’t let actual data get in the way of hype and sensationalism? You guys just make this stuff up https://t.co/dhNHf8D9qt \\n@RandolphDoGood1 : @WeiZhangAtmos @paul__tully @KiraOnClimate @MattMcGrathBBC When you\\'re a zealot, science loses its meaning.   https://t.co/RLJMebNzUi \\n@TravellingAgro : @paul__tully @MattMcGrathBBC Except nasa shows overall greening of planet due to increased foliage . Your position is false. Retract \\n@WeiZhangAtmos : @RandolphDoGood1 @paul__tully @KiraOnClimate @MattMcGrathBBC Yeah, that’s exactly what I’ve been trying to tell people. Just because NPR and the Guardian chase every storm and scream like chicken little doesn’t mean the climate has changed at all. Data matters. Science matters. Clickbait in journalist clothing is worthless https://t.co/FPishgrM7p \\n@kinokast : \"We really have very little hope of stopping the Sixth Great Extinction\\' | @GeorgeMonbiot on @BBCHardtalk | 16 August 2022 #ClimateCrisis #biodiversity #Ecosystems #ClimateEmergency #GlobalWarming https://t.co/QeLNDhVe4M \\n@kinokast : entire interview here: https://t.co/nZd0l4SRv1 \\n@KiraOnClimate : @kinokast @GeorgeMonbiot @BBCHARDtalk Our last chance is a revolution. A peaceful, non-violent, people’s REVOLUTION.\\n\\nIt’s time. If not now - when? If not us - who?\\n\\n#ClimateCrisis #ClimateRevolution https://t.co/Oqyh53PBH9 \\n@WeiZhangAtmos : @kinokast @KiraOnClimate @GeorgeMonbiot @BBCHARDtalk And normal people have very little chance of even noticing the minuscule changes in climate. \\n@bondyjohn4 : @kinokast @GeorgeMonbiot @BBCHARDtalk Wanker \\n@rpujolvives : #ClimateCatastrophe is a fact but we don’t want to see It  https://t.co/onudW5s7qG\\n#ClimateChange #ClimateCrisis #GlobalWarming \\nThe #Arctic has warmed nearly four times faster than the globe since 1979 https://t.co/UkAWTuY52o \\n@WeiZhangAtmos : @rpujolvives @KiraOnClimate Yes, the Arctic has warmed much faster than the rest of the earth. That’s because the rest of the earth has barely warmed it all… Completely unnoticeable. Bottom line… Really really cold places I’ve gotten a little bit warmer the rest of us have barely changed. BFD \\n@ATomalty : @WeiZhangAtmos @rpujolvives @KiraOnClimate The Arctic has not warmed in the summertime which is the only time the ice could melt. \\n@charlesriver : Compared to July 2021, water levels are extremely low, with the greatest contrast in Needham of 7.25 FT last year, and 0.29 FT this year. This shows the dual impacts of #ClimateChange, increased precipitation and extreme drought. \\n@chrisoldcorn : WEF: Save the planet, give up your car - #wef #worldeconomicforum #davos #davos2022 #KlausSchwab #greatreset #thegreatreset #news #government #cdnpoli #trudeau #economy #business #climatechange #climateaction #carbontax #environment #climatecrisis https://t.co/aRLtMptd1g \\n@pjm666 : @chrisoldcorn All hail the authoritarians! \\n@ChrisLeFleming : Well, well, well! The truth (that many of us already knew) has finally been allowed to surface.\\n\\nClimate Science must always prevail over Climate Politics.\\n\\nPlease retweet this far and wide!\\n\\n#Climate\\n#ClimateChange\\n#ClimateScam\\nNot #ClimateCrisis\\n\\nhttps://t.co/q8Mq4xtAuS \\n@ChrisLeFleming : @Enlight42 Ah, inevitably a Climate Politician speaks!\\n\\n(No doubt many more will pipe up too.) \\n\\nBest leave #ClimateScience to the proper Scientists. That\\'s those not funded to produce the results that support their sponsors\\' agendas..\\n\\nPlease! Climate change is not anthropogenic! \\n@SoloBSD : Somebody share this with #Greta #GlobalWarming https://t.co/7aWpveL3oK \\n@bycn82 : @SoloBSD but most of the public is just ... normal! \\n@easygeography : Amazing article that assesses the success of beach replenishment in Norfolk two years after it was completed - Has a colossal experiment worked? Visit - https://t.co/zmn0lYOt3A #geography #geographyteacher #coast #edutwitter #climatechange  https://t.co/BDnjU6AOZl \\n@salisbury_jer : @easygeography Yes, a great read for A Level and GCSE geography students to put into context hard and soft engineering coastal erosion solutions. #coastalprotection \\n@Empoweredlatin1 : @rebeccaslake @bmckenz44559503 @MSNBC We need #GenZ #millennials to care about the plight of #womenrights #votersrights #climatechange #blackAmericans #dreamers #abortionrights \\n#VoteBlueDownballetLocalStateNational being silent says you don’t care. \\n@LaBoomer68 : .\\n@RepLouieGohmert(R-TX) asks whether the @ForestService  or the #BLM can alter the orbit of the moon or the Earth in order to fight #ClimateChange during a House Natural Resources hearing. https://t.co/USLSTMSCWj \\n@mitkowebsage : #Beekeeping is a hyper-local endeavor as the microclimate honey bees operate within (~ 2 miles / 3 km) can be quite unique. Some rules are universal, of course — after all it’s the science &amp; art of keeping Apis mellifera. But the climate is changing #climatechange #ClimateCrisis \\n@dipbrat70 : \"Kevin Falcon, who was elected leader of the party in February, distanced himself from Rustad\\'s stance, tweeting, \"#ClimateChange is one of the most critical threats facing our future,\" and that Rustad \"does not speak on behalf of caucus on this issue.\"\"\\n\\nGood to know. #bcpoli https://t.co/w6b18ZSFwU \\n@dipbrat70 : So, if we take Kevin Falcon at his word, the BC Liberals aren\\'t quite the BC version of Alberta\\'s UCP or the federal CPC. #bcpoli \\n@ClubXplorers : The good thing about tagging #plasticfreejuly\\nIs I’m getting targeted ads for plastic free TP and House cleaners 🤷 #climateaction #GlobalWarming  #followbackclimate \\n@opalstreasures : @ClubXplorers Love to see it! \\n@IslandsInnovate : 🎙️ Yasmine will be speaking at our \"Building Bridges Between SIDS and the African Region for COP27\" session on day two (27th September) of #VIS2022.\\n\\n🚨 As the UN’s annual #climatechange summit (COP27) looms, there is a need for vulnerable communities to have their voices heard. \\n@valentineoudney : Through #climatechange, rich countries have caused enormous damage in the world’s poorest places. It’s time for them to pay up!\\n\\nSign @SCIAF\\'s petition now to tackle this injustice: https://t.co/3mI9j8F2tV \\n@sciaf : @valentineoudney Thank you for signing and sharing our petition! \\n@sharemylesson : .@NewsHourExtra lesson plan: How the Senate\\'s latest bill would boost clean energy &amp; combat #globalwarming. Ask #Ss: Which house of Congress still needs to pass the bill for it to become a law? How much could the bill reduce the country’s carbon emissions? https://t.co/gbe4uGYE4p https://t.co/syAc5ciXeG \\n@ORNL : As #climatechange leads to larger and more frequent #wildfires, ORNL researchers are using #sensors, #drones and #machinelearning to both prevent fires and reduce their damage to the electric #grid. @forestservice https://t.co/RZeCOlNL5P \\n@ScienceNotDogma : We are seeing #extremeweather being made worse by manmade #climatechange, and #science is now able to determine which events were influenced by such factors:\\n\\nhttps://t.co/VcahEG7yXR\\n\\nWe need global #ClimateAction ASAP to solve the #ClimateCrisis before extremes are too much.⚠️🤨 https://t.co/wgBpnjyxWz \\n@ittyruffle : @ScienceNotDogma Liked the article so much I posted it also. Thanks! 😊 \\n@Sdg13Un : ‼️We cause the #globalwarming by burning #fossil fuels and #biomass 🔥🌐🔥\\n‼️Look closely\\n‼️at one of the evil #Consequences \\n\\nDestructive winds are rocking parts of #Italy. \\nThis video is from Florence, #Tuscany ⚠️⚠️⚠️ https://t.co/SSywubtyaR \\n@MW____2 : @Sdg13Un @COP26 @antonioguterres \\n🤖 👹💀🕳🎢🎡 @womensmarch \\n@BrendaChoi19 : @Sdg13Un Stop evil consequences \\nReduce burning fossil fuels and biomass \\nLimit global warming to 1.5C \\nSave Italy \\n@Culture_Repair : @Sdg13Un Good|Bad, Only choice\\nTogether we change our Earth\\nIn what way? Our choice.\\n\\nNow, Conserve water.\\nRefuse wasteful purchases.\\nConnect with nature.\\n\\nDraw down consumption\\nLook to future impacts now\\nSee the full \"food chain\"\\n\\nMaking your choices,\\nEcological impacts\\nOurs to navigate. https://t.co/7SJXAtSjH4 \\n@SGR71879773 : @Sdg13Un free rides.. \\n@Slartib49836743 : Now called spoiler alerts due to accuracy. #ClimateScam #ClimateHoax #ClimateGrifters #ClimateCrisis #ClimateEmergency #ClimateAction #WEFcrimesAgainstHumanity #WEF #dutchfarmers #globalwarming Support the world\\'s farmers. #Resist https://t.co/lLShNm88Bl \\n@RubbleStarky : It turns out that #GreenHouseGases and #GlobalWarming are really old news - that the concept was written about well before the auto was invented\\n#ClimateChange was reported in 1882 in Nature and many times thru Mar 1912 when #PopularMechanics published the following article https://t.co/ZWduuQYAMb \\n@RubbleStarky : The first several paragraphs are fine. Frank Molena has all the basic science and the piece makes sense \\n\\nIt looks like the editor jumped in &amp; the science turns magical,  the prose turgid\\n\\nThis was written in the first decade of human flight and overall, it\\'s remarkably informed! \\n@DanveC : Thanks to @atlantico_fr for allowing me to share our research with their French readers! I enjoyed working with @VinPons on this piece. #PlantImmunity #ClimateChange #Agriculture @LaurierBiology @LaurierResearch\\n\\nPaper: https://t.co/51Zgp0kLRh\\nFeature: https://t.co/4dG4Xc4ofR \\n@VinPons : @DanveC @atlantico_fr @LaurierBiology @LaurierResearch Nice piece, but wrong @VinPons :) \\n@DanveC : @VinPons @atlantico_fr @LaurierBiology @LaurierResearch Thanks for pointing it out! Sorry about that. \\n@invictus_crypt0 : So much for climate crisis and global warming. 1200 scientist just debunked all of  that 💩 #GlobalWarming https://t.co/duLSbtN0n9 \\n@xElitexDonx : @invictus_crypt0 Just a cycle of earth \\n@Jaare300 : @invictus_crypt0 338\\nTATEGROW  PRESALE IS LIVE!!!🤑\\nWebsite: https://t.co/De3H8DG8zf\\nPLACE YOUR BETS ON $TATEG #presale: \\n- #Audit &amp; #KYC 🔐\\n- Top G Utility 🔥\\n- 10000x Potential 📈\\n- Product right after launch 🚀\\n\\nhttps://t.co/R6hU87NXzr\\n\\n#tate #cobratate \\n@BrianMcHugh2011 : Another major river running dry\\n\\n#ClimateCrisis\\n#ClimateChange\\nhttps://t.co/7hnvT8NMSL \\n@Olivergill4B : @BrianMcHugh2011 It\\'s complicated, messed up by upstream dams, again: Poyang Lake, Yangtze River Basin, China\\nPoyan 1 of 2 lakes in the mid Yangtze Basin that\\'s retained its free connection to the river. In addition, Poyang has a seasonal, reverse-flow system ... &amp; an abundant fishing community \\n@Dogs_ruleme : @BrianMcHugh2011 @GeraldKutney 😢 \\n@AnnaKirkwood19 : @BrianMcHugh2011 @GeraldKutney This is as scary as it gets -- how can anyone imagine climate change isn\\'t real? \\n@30abuzz : @AnnaKirkwood19 @BrianMcHugh2011 @GeraldKutney It is, people on the planet or not \\n@SDGS4GOOD : Today’s US #drought report. Look at the Southern California, Texas Gulf &amp; Upper East Coasts. Extreme and exceptional droughts waterside. #ClimateChange is affecting the #weather. Exponential #ClimateAction NOW . It’s past time. \\n\\n#SDGs #GlobalGoals \\nData: https://t.co/C25oEeUwBA https://t.co/kDwfEzDtUE \\n@cbr_heartdoc : Looking forward to catching up with friends and colleagues at @BakerResearchAu today talking #climatechange and #Cardiology \\n#Melbourne https://t.co/t7PISzGx7O \\n@TomkinsZerina : @cbr_heartdoc @BakerResearchAu Wish I knew you were in town Dr Arnagretta @cbr_heartdoc - would have loved to have met you in person and hear more about your work in #climate change and #cardiology. \\n@cbr_heartdoc : @TomkinsZerina @BakerResearchAu You came up when I met with @catherinecrock this morning!  Next time - or zoom or something - promise. \\n@TomkinsZerina : @cbr_heartdoc @BakerResearchAu @catherinecrock Sounds great! Really looking forward to it. \\n@ernest_fuhrmann : @BobChoate54 @HoustonTX But @BobChoate54, if we spent money on maintenance, our #climate mayor @SylvesterTurner couldn’t then blame regular weather events on #climatechange.  \\nDon’t forget, we do have several miles of bike lanes in #DistC that no one uses, that’s the same as nothing 🤷\\u200d♀️ \\n@freddyandfrieda : @CherylThaxton @Stephen57475438 @FBI Fighting rinsing sea levels in his newly renovated mansion with ocean side view on Martha’s Vineyard. #ClimateChange is so real these proponents are all buying ocean front properties. \\n@GndwkLawrence : Now: #climatechange, air quality, and our health with @GLFHC \\n\\n@LawrencePaLante climate session 3.\\n\\nLIVE: https://t.co/tT9Qug1BUr\\n\\nhttps://t.co/wjQJ3jotdz\\n#GroundworkLawrence https://t.co/gKmyq8gZen \\n@GndwkLawrence : Trees manage storm water\\nTrees counter #ClimateChange \\nTrees are the answer! \\n\\nGo Tennis! \\nLIVE: https://t.co/tT9Qug1BUr\\n\\nhttps://t.co/wjQJ3jotdz\\n\\n#GroundworkLawrence https://t.co/zmgEEwJHeS \\n@MarkDavis : Floods (too much water)= #climatechange. Droughts (not enough water)= climate change. Record heat?  Climate change.  Record cold?  Climate change. https://t.co/Vcka1OEB0I \\n@varifrank : @MarkDavis Chicken too dry? Climate Change. Beer to warm? Climate Change. Windshield Dirty? Climate Change. Kids up past midnight playing video games? Climate Change. 45 lb weight gain during covid, thats right - Climate Change. \\n@Live_KingMojo : @MarkDavis Childhood obedity? Climate change. \\n@DanMcClinton1 : @MarkDavis From the looks of the banks, it wasn’t that deep to begin with. \\n@1Truckster1 : @MarkDavis It\\'s a wealth redistribution scheme, it has taken more money out of the pockets of the lower and middle class families and given it to the government over many decades. It has financed many failed energy companies who donate heavily to Democrats for subsidies.\\nIt is a con, a scam \\n@JustAPerson2020 : @MarkDavis Yep.  Silly \\n@bozodeclown2 : @MarkDavis Yeah, you\\'re right. How can people not realize the climate is changing? You used the word \"record\" which means it\\'s the first time it has been that bad. I know China is responsible for a lot of emissions more than the U.S. is, but is it really that much a burden to try to help? \\n@BillFPhuckley : @MarkDavis Rising average global temperature= climate change \\n@ellymelly : My latest in the @SpectatorOz about the sheer horror of Digital ID and the establishment of a global Chinese-style Social Credit System orchestrated by the WEF.\\n\\nAll, of course, in the name of \\'saving the planet\\' from #ClimateChange.\\n\\nThis is not safety. This is insanity. https://t.co/81xHD7KH3j \\n@WestOzDaz : @ellymelly @SpectatorOz Sorry to change the subject but the CPS in USA get $80 billion a year to steal children,Clinton signed it into law in 97 \\n@SmthDavd : @ellymelly @SpectatorOz \\'the sheer horror\\'\\n\\nI see you\\'ve been welcomed into the faux outrage industry as a part of your ongoing grift. Your family must be proud \\n@thejjsparrow : @ellymelly @SpectatorOz But if we build an army of citizens under the former Citizens Military Forces from 1903-1980, this would be real.\\n\\nWhat do they do then if we start usurping local area\\'s?\\n\\nA Trojan Kangaroo if you will..................... \\n@Goffel73 : @ellymelly @SpectatorOz The \"sheer horror\" lol! Someone\\'s living in fear 😆 https://t.co/SQgaEAedVc \\n@lafenn1010 : @ellymelly @SpectatorOz Dictators use the resources of apathy, complacency, passivity &amp; indifference to do most of the heavy lifting of getting their plan across. They just wait until we blindly adopt or refuse to withstand what they\\'re selling and once trapped, we\\'re no longer needed nor relevant. \\n@TheSpaceCowbo20 : @ellymelly @LibDemAus @SpectatorOz The race is on to wake as many as possible to create critical mass opposition. \\n\\nIt only works through compliance. \\n\\nOnce people truly see they are leveraging inalienable hard fought rights against enslavement; game over. \\n\\nHungry, cold and angry people do not care for rules. \\n@BoldmanSack : @ellymelly @SpectatorOz Digital identity can be a net positive but it would have to be decentralised..never to be touched by governments, privacy persevering and cryptographically secure \\n@rwemerson52 : @Goffel73 @ellymelly @SpectatorOz Sorry - but being an idiot aren\\'t going to save you either. \\'None So Blind as Those Who Will Not See\\'. \\n@SpaceNewsBeacon : @ellymelly @SpectatorOz Is the Vaccination Credential Initiative (VCI), a global coalition of public and private stakeholders including Microsoft, Salesforce, Oracle, etc., the equivalent of the Weapons manufacturers of the Third Reich? \\n@TryToFathom : @ellymelly @SpectatorOz “Shear horror”\\n“Global Chinese style”\\n“Insanity”\\n“Not safe”\\nCan you think of any more fear-mongering terms? Why didn’t you use the words “hunger” and “death”?\\nFrom someone who berates others for fear mongering 🙄 \\n@UNHighRep : Warm congratulations to @Csaba_Korosi_, President-elect of #UNGA77.\\n\\n@UNOHRLLS will continue working closely with the General Assembly to ensure that the most vulnerable states do not lose an entire generation of progress due to #COVID19, #ClimateChange and other crises. https://t.co/r6NasRXX1U \\n@islam_pinu : @UNHighRep @eresh91233442 @Csaba_Korosi_ @UNOHRLLS @rababfh2016 Congratulations &amp; Best Wishes \\n@haverman : Happening in HCM city: representatives of local authority, associations, private sectors joined dialogue organized by MPI &amp; @UNDPVietNam to discuss on barriers, opportunities, solutions of Southern private businesses to further engage in #climatechange #adaptation activities. https://t.co/Mm6lJd6TVo \\n@KhvVb7PpxxfJ30p : @haverman @UNDPVietNam Congratulations Patrick!!! \\n@PCarterClimate : NORTHERN HEMISPHERE LAND HEATING UP LAST\\nRapid heating of Africa (&amp; Saudi Arabia) will have affected Europe. Warming of sea surface (moving north) will have affected the land less cooling effect. \\nhttps://t.co/cMicuiG8Zc (most useful resource)\\n#climatechange #global warming #heat https://t.co/8pILxJS5LV \\n@AgWxMan1 : @PCarterClimate Just wait until a tropical storm forms in the Mediterranean Sea. \\n@DavidMi86282357 : @PCarterClimate Question: can increases heat, heat and expand continental plates, triggering earthquakes? \\n@USA2_0 : Yea Elon! Lead us not into #climatecatastrophe, but deliver us from #GlobalWarming! https://t.co/ct0Ma8rPkE \\n@ClimateChangeC_ : @USA2_0 Because of all the new coal-fired plants, the CO2 and HEAT are not going away. The entire CO2 approach is rendered (de facto) useless.\\n\\nBut I believe I have a real, patented, workable solution to Global Warming.  \\n\\nhttps://t.co/Penq0P3i52\\n\\nPlease take a look.  Click for sound. https://t.co/V8d3tesmYb \\n@USA2_0 : @ClimateChangeC_ This makes no sense to me.  Your emitter panel seems like a simple furnace that emits heat.  The heat would warm the surrounding air although some would escape by radiation.  Why would a significant portion of heat get radiated away from earth?  That needs explaining. \\n@ClimateChangeC_ : @USA2_0 Thanks for responding.  If you look closely at the video and read:\\n\\nhttps://t.co/gTxyI9rdAt\\n\\nYou will see that the emitter “enclosure” is insulated for both conduction and convection heat losses to surroundings. \\n@USA2_0 : @ClimateChangeC_ Doesn\\'t explain WHAT it emits or how/if that emission somehow sneaks past the atmosphere instead of just creating hot air. Anyway, why not just USE the energy from the battery that u removed from the incoming radiation? How is this different from a mirror? \\n@ClimateChangeC_ : @USA2_0 Yes, the idea is that the “controller” would regulate the temp of the plate so the frequency is within the optimal range for longer during the night.\\n\\nThe mirror and other (more elaborate) daytime approaches have their own issues.\\n\\nMy nighttime approach is a different idea. \\n@USA2_0 : @ClimateChangeC_ Interesting, but obviously the effectiveness has to do with many details.  IF you can EFFICIENTLY radiate heat completely off the planet, it\\'s a very interesting concept. \\n You need to have a detailed writeup available to link to.   If/when u do, I\\'d love a link. \\n@ClimateChangeC_ : @USA2_0 Thanks for responding.\\n\\nDid you have a chance to read:\\n\\nhttps://t.co/Penq0P3i52\\n\\nAnd, of course, it is patented. \\n@USA2_0 : @ClimateChangeC_ Yes, but I don\\'t have any way to know how much of the radient heat given off by the panel will sneak out of the atmosphere and actually get to space and how much will get absorbed by the atmosphere along the way.  It sounds like you think it will all get out.  No evidence. \\n@ClimateChangeC_ : @USA2_0 I don’t think all will get out, but since the emitter can be controlled, I believe much will.  If the emitter wasn’t there, then the radiant transfer would be from the ground below it, which would cool. The controller will keep it hot for as long as possible. \\n@ClimateChangeC_ : @USA2_0 Early days. Time will reveal it. Thanks for response. \\n@USA2_0 : @ClimateChangeC_ No doubt SOME will get out.  I guess you think most will.  I doubt it, but you need to find out &amp; maximize what % to see if it\\'s cost effective.  Devil is in the details. \\n@smittyoftexas : We should ban all volcanoes #greenenergy #climatechange \\n@ChazLocke11 : @smittyoftexas What about the chocolate lava volcano @RainForest_Cafe \\n@smittyoftexas : @ChazLocke11 @RainForest_Cafe ALL SHOULD BE BANNED \\n@planetgini : What more do world leaders need to see before they take drastic action? We have no time to work on things gradually, we need to act now for our children and their children to have a world that supports them #ClimateEmergency #ClimateActionNow #GlobalWarming https://t.co/sKUs1WBo3K \\n@AgrimAg85538878 : @planetgini Soil degradation is also happening at an alarming pace worldwide endangering food security of the world. Rejuvenating earth\\'s soil is urgently needed &amp; has the potential to reverse climate change. \\n\\nLet\\'s #SaveSoil also for liveable future\\nPLEASE SUPPORT https://t.co/dUVwUN16pG https://t.co/EcbPFDL6p6 \\n@CEBRA_UoM : Find out how CEBRA\\'s Christine Li estimates damages of #ClimateChange and pest and disease impacts using economic models in our next CEBRAnar (online). Register at https://t.co/nBVVBZwRbX #EnvironmentalEconomics \\n@ZipPulse : Anyone else curious that @Ford @chevrolet and other American auto makers aren’t promoting President Biden’s new Inflation Reduction Act?\\n\\n#BidenDeliversAGAIN #GoGreen #EV #AmericaStrong #VoteBlue #ClimateChange #WallStreet #CEO #Lux #carlovers #roadtrip #travel #gasprices \\n@JoelPie86351068 : @ZipPulse @Ford @chevrolet Well if they aren\\'t it would be the only thing they are doing right. The inflation reduction act they just passed is anything but that. It will hurt America and help china. But that\\'s what the woke anti America dems do best \\n@IFC_EAP : 📺IFC in the news! \\nCatch @IFC_EAP Regional Director, Kim See Lim in her interview with @CNNIndonesia as she tells more on our work in the region. #ClimateChange is a top priority. More here: https://t.co/YqQ1qIbWP3 https://t.co/dQVPCAzql7 \\n@tdemott06 : Fighting #ClimateChange means protecting rainforests! #Indigenous peoples are the forests’ best protectors. \\n\\nI’m proud to support @RainforestUS to help secure indigenous land rights for the climate and for our future. https://t.co/SORhaqjI0E \\n@RainforestUS : @tdemott06 thank you! ✊✊✊🌳🌳🌳 \\n@tom_b_elliot : All chapters of my PhD re #urban impacts on #ecosystemservices are now available in 7 papers,\\ndrawing from system dynamics, LCA, GIS, operations research, socio-ecological systems, and urban metabolism. #climatechange #biodiversity @JavierBA85 @TiagoDo81995279  @MaesJoachim https://t.co/Qjeabj2RQS \\n@tom_b_elliot : 1. Review on the elements needed to incorporate #ecosystemservice assessments within an urban metabolism modelling framework https://t.co/DpXuuEaBW3 \\n@tom_b_elliot : 2. Spatial model of a city\\'s land cover to optimize #urban #ecosystemservices\\nhttps://t.co/aXY6N6dJWQ \\n@tom_b_elliot : 3. Urban energy metabolism linked to @globalwarming  with disaggregation of drivers and spatial analysis of #urban carbon sinks.\\nhttps://t.co/B2013M7Tex \\n@tom_b_elliot : 4. #Carbon flows of a city modelled using system dynamics  and LCA with applications for #urbanplanning.\\nhttps://t.co/yjkYG809NE \\n@tom_b_elliot : 5. Land cover change model of a city used to assess climate regulation compared to urban heat island https://t.co/y1FdlJjhF0 \\n@tom_b_elliot : 6. Forecasting method advancement with system dynamics integrating social and economic changes that drive #ecosystemservices supply and demand, incl. #biodiversity, #water, #climate, #culture  https://t.co/oADeMA8yNe \\n@tom_b_elliot : 7. Application of model to multiple cities demonstrating the importance of life cycle thinking in #urban #ecosystemservice assessments. Cities are resource consumers creating environmental deficits due to their burden on distal resource suppliers.\\nhttps://t.co/RMatHOwsPi \\n@MeshackMoranga : @tom_b_elliot @JavierBA85 @TiagoDo81995279 @MaesJoachim @istecnico @LIST_Luxembourg @DavideGeneletti @emohareb @SPincetl @IN3_Research @YESS_Network @ESPartnership @Nature4Cities @cmbranquinho Congratulations for this amazing papers \\n@tom_b_elliot : @MeshackMoranga @JavierBA85 @TiagoDo81995279 @MaesJoachim @istecnico @LIST_Luxembourg @DavideGeneletti @emohareb @SPincetl @IN3_Research @YESS_Network @ESPartnership @Nature4Cities @cmbranquinho Thank you @MeshackMoranga! Was very lucky to have amazing coauthors and colleagues, \\nesp @JavierBA85 🙏 \\n@MeshackMoranga : @tom_b_elliot @JavierBA85 @TiagoDo81995279 @MaesJoachim @istecnico @LIST_Luxembourg @DavideGeneletti @emohareb @SPincetl @IN3_Research @YESS_Network @ESPartnership @Nature4Cities @cmbranquinho This is only possible with amazing coauthors and most invaluable is your PI. \\n@cas_bar000 : @ErikSolheim As long as they’re making money #Adani don’t care whether they’re contributing to #ClimateChange or not. Still mining coal in Australia. Terrible environment record. \\n@AntEyeTheist : #GlobalWarming \\nThe white ice caps our melting.\\nWhite reflects heat.\\nWhat would happen if we started turning every man made surface under the sun white?  Think of all the  naturally white surfaces we cover with a dark surface.  What do you think? \\n@AntEyeTheist : We could turn all that plastic in the ocean into one giant white sheet. Repurpose that sheet!\\nJust doin a little brain storming here on a late night. \\n@ACXCHG : \"The U.S. climate bill signed into law this week restores the country\\'s credibility as a leading player in U.N. climate negotiations, international officials said.\"\\n\\nhttps://t.co/56xnrLjbgY\\n\\n#climate #climatechange #US #ghgemissions \\n@ryanstrug : #ClimateChange is bull shit facts, day 119:\\n\\nSome like to claim that it’s better to drastically change your behavior just in case climate alarmism is right even without a science experiment.\\n\\nThis is like when ancient cultures used to sacrifice people to try to appease the gods. https://t.co/Zy2blZOqGl \\n@TEOTWP : Climate people debate a lot about personal vs. collective responsibility, but the only one habit that will come down to personal responsibly with #climatechange is eating animals (and their body fluids). \\n\\nIf we don\\'t go (mostly) vegan, we don\\'t make it. Simple as that.\\n\\n#GoVegan https://t.co/BvPBsGPOGn \\n@TEOTWP : tagging #karma \\n@shovas : \"There is no climate emergency, say [over 1100 scientists and professionals in the World Climate Declaration], who are drawn from across the world and led by the Norwegian physics Nobel Prize laureate Professor Ivar Giaever.\"\\n\\nHighlights 🧵\\n\\n#cdnpoli #climatechange #climatecrisis https://t.co/pS6Wk5BlyV \\n@LordWobbly : @shovas Amongst retired teachers, small business owners, retired IT consultants, \"a lifetime experience in law\" and other distinguished luminaries, the list of signatories also includes, at No 127, John Warnock, Astro Economist... https://t.co/UvQ3JlBKmI \\n@Srikanth_MReddy : Now is the time to act, to make a difference, to give more than what we take only then there is hope for #future generations. #Blockchain for #ESG &amp; #carboncredits. @RubixChain  @GlobalNet4Zero   @UN #ClimateCrisis #GlobalWarming #nature #SaveSoil #Earth https://t.co/0ElyYhkRTU \\n@AItoids : @Srikanth_MReddy @RubixChain @GlobalNet4Zero @UN Yes, time. \\nLet\\'s act to create a safe future for us and future generations.\\nPlease, join the Creative Society project (https://t.co/gVThggRtiR)\\n#CreativeSociety\\n#WeWant2Live\\n#GlobalCrisis \\n@AssortedAfrica : From old denim jeans, scrap fabric waste and used bathroom curtains to recycled shopping bags. our young women at the Academy have plenty of ideas about recycling waste to sustainable products.\\n\\nOur curriculum put emphasis on #EnvironmentalJustice and #climatechange https://t.co/lmKMB8N76s \\n@AssortedAfrica : @PCIMedia1 @Plasticsimpact @WomenFirstFund @youthchaperonug @kigaBae2 @caesar_third @RealLuoBoy @KaramojaGo @GermanyInAfrica @WorldVisionUg We believe in sustainable creations for not only people\\'s livelihoods but also environmental continuity 🙏🙏🙏 \\n@EnviroPhysio : Exciting times for #GlobalPT #EnviroPT as @WorldPhysio1951 has released its draft policy statement on #climatechange and #health. \\n\\nNow it\\'s time to give your feedback, and let us know about it when you do! \\n\\n#EnviroPT 🌎🌍🌏🚑👇\\n\\nhttps://t.co/8bz1fIwCVN https://t.co/gV7FUGA4jM \\n@AndreaSturmPT : @EnviroPhysio @WorldPhysio1951 Congratulations on this milestone! And also great to have a say - I am happy to provide feedback on the draft! \\n@LarryNeufeldSK : This is an example of what we can expect more of in not only the US but elsewhere as well as people will need to leave their homes due to #ClimateChange.  #ClimateCrisis #resettling #ClimateDisplacement @GreenpeaceCA @envirodefence @Indigenous_ca  https://t.co/Qr29IJ7mZ4 \\n@nbeserious : @LarryNeufeldSK @GreenpeaceCA @envirodefence @Indigenous_ca According to Muhammad Qasim’s dreams, Prophet Muhammad ﷺ will participate invisible and secretly in Ghazwa e Hind and the knowledge of this will only be with leading commanders of Pakistan. Qasim’s dreams show us that this event is not far now. https://t.co/jd8pFQtkat \\n@Andy_Scollick : As climate change impacts and associated extreme weather events increase, the vital role of the world\\'s militaries in dealing with hazardous conditions will continue to grow. #climatechange #defence #militaryresponsetoclimate https://t.co/xDIENnWz8Y \\n@CabezadeShaka : @Andy_Scollick NZDF are a key asset to disaster response here going back many years. Proud to have their support across the country. \\n@GirlsAdvocacyUg : Addressing issues of #ClimateChange is important and urgent.\\nWe are working in partnership with schools to promote planting of fruit trees and we believe these will preserve the environment.\\n\\nOur Mother Earth needs our Attention more than ever before. #ClimateEmergency https://t.co/Q1jNzuIa5g \\n@DKamwine : @GirlsAdvocacyUg @CANIntl @ClimateReality @UNDPClimate @UNFCCC @EduCannotWait @edu_transformer @GEMReport @GPforEducation @EquityPeriod @TujifunzeAfrica The environment is for us all, let\\'s conserve it🙏🙏\\n#ClimateEmergency \\n@beehivecentral : The real truth is that the core reason we have #climatechange is down to the way in which our communities are set up by large scale organisations that govern production and the way in which we \\'decide\\' to do things. \\n@Pakistaninpics : Saif Ul Malook Lake in 4 different seasons\\n1. June, 2010\\n2. Sep, 2016\\n3. Aug, 2019\\n4. Aug, 2022\\nThere is a visible difference in color of lake in the Aug, 2022 click although its from a better camera..\\n#DiscoverPakistan #ClimateChange https://t.co/2ikJv7NDP7 \\n@INALJNaomi : @Pakistaninpics @PakistanNature @destinationpak @DesiMountaineer @fifiharoon @PakTravelGuide @kptourism @Jhagra @aminattock @fawadchaudhry @DanyalGilani I was there in August 2016 and it definitely looked like the earlier photographs. Do you know what might be causing the color difference beyond the different camera? \\n@Pakistaninpics : @INALJNaomi @PakistanNature @destinationpak @DesiMountaineer @fifiharoon @PakTravelGuide @kptourism @Jhagra @aminattock @fawadchaudhry @DanyalGilani Camera is not the issue. Last picture is from Aug 2022 from my recent visit and I was really disappointed to see the color of water since I\\'ve visited this place earlier in the months mentioned above. \\nAn expert can tell better about it.. \\n@INALJNaomi : @Pakistaninpics @PakistanNature @destinationpak @DesiMountaineer @fifiharoon @PakTravelGuide @kptourism @Jhagra @aminattock @fawadchaudhry @DanyalGilani I hope one of them does answer. It is a huge difference in color, for sure. \\n@Sydney_Science : 💬The impacts of #climatechange and extreme weather events “not only disrupt supply chains, but may also trigger zoonotic diseases, foodborne epidemics, and broad socio-demographic stresses,” say Dr @ArunimaMalik3 in new @sydney_uni study published in @NatureFoodJnl.\\n\\nRead more: \\n@T6Juor : @Sydney_Science @ArunimaMalik3 @Sydney_Uni @NatureFoodJnl 😯😯😯 \\n@Maria_Scheel_ : I feel so honored and excited to be in this session today! Join us from 10.30 for talks (MS29) with some time for posters right after.\\n#microbes #climatechange #permafrost #ISME18 https://t.co/jjdnvDQNrn \\n@einsteinagogo : @HighgateHoney There seems to be many of these around this year! #weather #climatechange Never seen them before this year I believe there is some research survey being conducted on this behaviour \\n@Wolvewin96 : @EarthlingEco Build better future with $ETLG 🌎#GlobalWarming #Crypto #cryptocurrency \\n@defis_eu : The major challenges facing the #Arctic stem from #ClimateChange\\n\\n#Copernicus🇪🇺🛰️provides tools dedicated to its monitoring &amp; preservation\\n\\nLearn more during the \"Copernicus Polar Workshop\" scheduled for 19 &amp; 20 September\\n\\nRegistrations are open https://t.co/3yd5AcVGCL\\n#EUArctic https://t.co/ZkGuYa3BES \\n@serrano33600 : @defis_eu @EUClimateAction @EU_ENV @EU_MARE @EUEnvironment @SfEP @EU_opendata @_Arctic_Circle @CopernicusECMWF @eumetsat @lavergnetho 🇪🇺🗣❌🇬🇧🇺🇸❌👎\\n🇪🇺🗣🇫🇷🇩🇪🇪🇸🇮🇹…🇪🇺👍\\nL’UE n’est pas anglo-saxonne.\\n\\nVous communiquez en langue anglaise.\\nSoyez cohérent placez l’Union Jack et le drapeau américain au centre du drapeau Européen🇪🇺 \\n@JonRootMusic : Are Electric Cars Really Green? https://t.co/vEgQnkQ1kn via @YouTube #fridaymorning #EV #ClimateChange #GreenNewDeal \\n@maduhumanist42 : @JonRootMusic @YouTube Haven\\'t seen one in real life so I can\\'t tell 🥵 \\n@z70photo : @CountUsInSOCIAL Some recent ones from Stafford, sadly becoming all too common #InternationalPhotographyDay #WorldPhotographyDay #ClimateChange #ClimateAction https://t.co/yZm1pxZnSD \\n@AthenaMediaLtd : We need to stop framing this as #climatechange and shift to #ClimateEmergency - stop passively watching it and actively engaging with our collective responsibility to make positive personal and global change?\\nhttps://t.co/3N18Qz3TDa \\n@PeteDurnell : #ClimateChange can be proven\\n\\n#ManMadeClimateChange can not.\\n\\n(Well unless we can find a way to \"rewind time\" a couple of hundred years...\\n\\n- remove every human from the planet\\n\\n- record \"what would have happened\"\\n\\n- compare with \"what actually has\"\\n\\nProbably fairly unlikely...) https://t.co/GO2HP2N4Es \\n@TheDisproof : @PeteDurnell We have directly measured the forcing from greenhouse gas increase. See AIRS data. \\n@Bazthebemused : @PeteDurnell You can disprove it by coming up with a theory that better fits the observations.\\nIf nobody can, then in the meantime, maybe the best course of action is to actually view it as an extreme risk and do something about it. \\n@tadaaa20 : @PeteDurnell your premise is scientific nonsense for a start \\n\\nscience isn\\'t about \"proof\" \\n\\nscience (and scientific theories)  is always conditional, whether that is the theory evolution, gravity, or AGW\\n\\nnothing is ever proven in science \\n@No_C02 : @PeteDurnell Climate negativism is collective suicide! \\n@SosquizO : @PeteDurnell That is incorrect. Greenhouse Gas concentrations are rising, and we know that humans are causing it because our signature is all over it when the gases are analysed...  https://t.co/os8uMFp4bc \\n@PeteDurnell : @tadaaa20 I was employing logic. Not science.\\n\\nLogic can be used \"to prove things\"\\n\\nScience can not\\n\\n100% agree with you\\n\\nMan made climate change fanatics claim they \"have proof\"\\n\\nI say they don\\'t. They have a theory\\n\\n\"The above\" is the only way it can be proven mankind is altering climate \\n@PeteDurnell : @Bazthebemused Would be true if \"what you do about it\"\\n\\n- had no negative consequences.\\n\\nUnfortunately abandoning fossil fuels in a very short space of time\\n\\n- has a lot of extremely negative consequences, for a lot of people.\\n\\nMeaning the risk of acting and not acting must be carefully weighed \\n@PeteDurnell : @SosquizO Someone has drawn some squiggles on a chart and labelled them.\\n\\nWhat more \"proof\" could anyone need?\\n\\nThanks.  I\\'m converted 🙂\\n\\nAll I need now is £50,000...\\n\\n- to replace my gas boiler and petrol vehicle \\n\\n- with a heat pump and an electric one. \\n@thinks_about_it : @PeteDurnell You seem to be unaware of this 👇 https://t.co/fhsGQUM2TD \\n@Bazthebemused : @PeteDurnell The best time to start mitigating the issues was 50 years ago. The next best time is now.\\nDoing nothing, and carrying on as usual will cause massive social upheaval, not to mention interruption to food supply and mass extinction of species. \\n@PeteDurnell : @thinks_about_it I\\'m aware it contains an enormous number of assumptions, which are impossible to verify. \\n@Bazthebemused : @PeteDurnell Doing nothing means more of this. How does anyone propose \"adapting\" to more and more similar events.\\nhttps://t.co/1l81zwzUz6 \\n@thinks_about_it : @PeteDurnell Point out any assumptions in the material provided. \\n@AusJolt : @PeteDurnell You sound like one of those zealots who believed the tobacco industry when they marched out paid \\'scientists\\' who claimed smoking didn\\'t cause cancer.\\n\\nBecause thats what those signatories are; paid for by the fossil fuel industry. \\n@tadaaa20 : @PeteDurnell thats just word salad \\n\\nwhat AGW deniers have to do its come up with an alternative theory that describes CO2 role in the earth climate \\n \\nto overturn AGW theory it has to explain the current warming - it also has to explain the paleoclimate too \\n\\naka the PETM and snow ball earth \\n@sueytonius : @PeteDurnell \"#ClimateChange can be proven\\n\\n#ManMadeClimateChange can not.\"\\n\\nThis is very obviously false. Step away from the keyboard, you\\'ll do yourself some more harm. \\n@PeteDurnell : @sueytonius It\\'s very obviously true.\\n\\nThanks for the \"advice\", and concern,\\n\\n- although I\\'ll be completely ignoring it, equally obviously 🙂\\n\\nEnjoy your day. \\n@SosquizO : @PeteDurnell Have you thought about a job in comedy? \\n@YvanDutil : @PeteDurnell @sueytonius No, this is simply a demonstration of your ignorance. \\n@DanCady : @PeteDurnell When someone posts this kinds of ignorance, the first thought I have is this: did they attend school? And if so, were they awake? Also, did they have special needs? No one can be this academically blind and function successfully in life. \\n@PeteDurnell : @DanCady FYI: I have an Hons degree in Computer Science.\\n\\nWhen someone avoids discussing the issue, choosing instead to launch into a childish personal attack,\\n\\n- first thought is \"clearly they have no sensible argument\"\\n\\n- second is \"to mute or block\"?\\n\\nProbably muting will suffice here. \\n@DanCady : @PeteDurnell Your academic experience clearly failed you. I suggest you return to high school, where the curriculum has included basic atmospheric physics for at least the past 70 years. I have no interest in repeating it here, as it\\'s already been shown to you by others. \\n@jpgcrowley : @PeteDurnell A good reminder of why \"proof\" is an inappropriate threshold in observational science. \\n@jpgcrowley : @PeteDurnell @sueytonius It isn\\'t true, for the reasons you give yourself.\\n\\nClimate change isn\\'t something that can be \"proved\". Nothing in observational science can. \\n@jpgcrowley : @PeteDurnell @tadaaa20 Serious people don\\'t refer to \"proof\". They refer to degrees of evidence. \\n@PeteDurnell : @jpgcrowley Clearly not entirely true.\\n\\nI\\'m extremely serious, I frequently refer to \"proof\".\\n\\nI\\'m not interested in nebulous \"degrees of evidence\".\\n\\nHave a nice day nevertheless. \\n@jpgcrowley : @PeteDurnell If you\\'re referring to \"proof\" in observational science, you\\'re making a category mistake. \\n\\nAnd there\\'s nothing \"nebulous\" about degrees of evidence.\\n\\nOn what basis do you think the discovery of the Higgs boson was announced? \\n@sueytonius : @PeteDurnell Attribution studies demonstrate - unequivocally - that anthropogenic activities are affecting the energy balance of this planet and therefore the climate.\\n\\nI get that you\\'re not equipped to understand the science. That\\'s fine. Have some humility and listen to those who do. \\n@sueytonius : @PeteDurnell I, for example, happily concede that I\\'m not involved in politics and will defer to those who are, like you.\\n\\nThat\\'s why I\\'d defer to your greater expertise in local political matters like coming last in a mayoral election with just 2.21% of votes. 😉 \\n@Syzrgy101 : @PeteDurnell a) CO2 is a proven greenhouse gas\\nb) Humans have increased its atmospheric concentration by 50% since the industrial revolution\\nc) Global average temperature has risen by 1.2C in the same period\\nNot rocket science \\n@realjohnsutton : @PeteDurnell Not sure if you\\'re aware of this, but humans can actually detect and understand what is happening in lots of different scenarios without having to physically go back in time and replay them. It\\'s a part of \"science\". \\n@realjohnsutton : @PeteDurnell @tadaaa20 So, do you judge anything labelled a \"theory\" to be equally valid? Is my theory that you\\'re pretty stupid more or less likely than the theory of gravity?\\n\\nScientific \"proof\" is extremely rare, but when something is overwhelmingly likely it\\'s hard to *disprove* it. \\n@tadaaa20 : @realjohnsutton @PeteDurnell Whoops replied in error to you John - misread the tweet \\n\\nDeleted but apologies if you see it \\n@LemarbreStephen : @PeteDurnell \"As early as 1977 Exxon scientists warned top executives that the buildup of carbon dioxide from burning fossil fuels was warming the planet, posing catastrophic risks to people around the world and threatening the company’s core business.\"\\nhttps://t.co/IHR42qqi4K \\n@USamsara : @PeteDurnell Given that the internet works because science actually works - electromagnetics, solid state physics, etc., the internet is a highly ironic place for anyone to argue that \"science works the way I think it works and not how it actually works.\" \\n@PeteDurnell : @realjohnsutton I have a very well grounded theory that people who rapidly resort to personal abuse are not worth my time.\\n\\nHence you are about to be muted... \\n@tony_rawding : @PeteDurnell You shared a post without reading it, didn’t you? \\n@PeteDurnell : @tony_rawding No \\n@tony_rawding : @PeteDurnell So you read it, saw that there were hardly any climate experts on the list, and shared it anyway. You know that is not better, right? \\n@PaulSan56345114 : @PeteDurnell You don’t understand physical sciences do you, where there is never a “proof” , just a best theory that matches the data.  \\n\\nMaybe someone who is so ignorant of the basics should STFU about things they clearly don’t understand \\n@PeteDurnell : @PaulSan56345114 Maybe you should learn to be more polite to people you don\\'t know.\\n\\nFully understand there is never proof.\\n\\nExactly my point.\\n\\nAnd why I am entitled to remain sceptical as to the degree human activities are responsible for temperature rises.\\n\\nHave a nice day.\\n\\nPs You\\'re now muted \\n@PaulSan56345114 : @PeteDurnell You may as well then say the theory of gravity has never been proven. Vacuously true, but useless. And still insane to step off a tall building because of that skepticism. \\nClimate “skeptics” are arguing to harm millions, and deserve no politeness. \\n@PaulSan56345114 : @PeteDurnell @tadaaa20 Our whole development of the modern world is based on the good theories we have about how it behaves. \\nYou are clearly talking utter nonsense to say we ignore something because it is “only” a theory. \\n@icpac_igad : 🌍 In the face of changing climate conditions, African countries are increasingly taking ownership and inclusivity of their NDCs, according to @UNDP. Currently, 91% of the continent’s nations are enhancing their targets to adapt to #climatechange through mitigation measures. 1/3 https://t.co/tFdCm22ZLv \\n@icpac_igad : 💨 Even with its vast surface area and natural resources, #Africa is responsible for only 7.2% of global #greenhousegas emissions, with #SouthAfrica and #Nigeria being the region’s two highest emitters.  2/3 https://t.co/3ZPLvAfNPQ \\n@icpac_igad : 💵 However, with #COP27 just two months away, the continent requires the right financial tools to expand its energy capacity. Around $250 billion is needed every year to help African countries adapt to the effects of #climatechange. \\n\\nRead more ⬇️  2/3 ⬇️https://t.co/WtJSLOc3Ga \\n@Wakorock : @icpac_igad @UNDP The problems with Africa,don\\'t have own Soultions based on their  continents needed solutions and accept streetjacketing to fit our African context and reality. We need climate policy that fits our situation on  resilience building prevalent to african context. \\n@ICRWAsia : Call for Applications!\\n\\nApply to @USAID_MOMENTUM Country and Global Leadership: India-Yash Fellowship Program to work on issues of #SRH, #climatechange, prenatal sex selection, contraception, #maleengagement, #mentalhealth: https://t.co/McNWxbEeQT\\n\\nDeadline: 28 August 2022 https://t.co/O5TN77Xfon \\n@climateconomics : The total cost of #ClimateChange damages to the UK could increase from 1.1% to 7.4% of GDP by 2100! What could be a “no regrets” policy that can prevent this?\\n\\nFind out in this @ClimateAdam video ⤵️ https://t.co/3IbHRbjV5J https://t.co/Z5HPx2Nnpm \\n@juk5252 : @climateconomics @ClimateAdam \\'Could\\'. \\n@opendna : @climateconomics @ClimateAdam Mighty optimistic range, but sure. \\n@BertrandDuflos : 1/2 #ClimateChange\\nIt\\'s more than time to require your government to:\\n. Impose substantial taxes on all greenhouse gases emitting activities\\n. In particular on businesses \\n. In particular on imported goods/services coming from countries having no such requirements\\n#PolluterPayer https://t.co/R3FBXEG0kw \\n@BertrandDuflos : 2/2 While further\\n. Granting subsidies to low-income people to make sure basic needs, in particular heating, transportation, can still be satisfied.\\n. Granting subsidies to greenhouse gases capturing activities/ecosystems. \\n@ChristopherWr11 : More on why business researchers don\\'t get #climatechange and how to change that! \"Challenging Disciplinary Norms: A Response\" | Academy of Management Perspectives https://t.co/PL37OBi5Lt https://t.co/WLzmsexNHs \\n@atstyan : @ChristopherWr11 Straight to my PhD thesis! Thanks! \\n@johnsalmond : @ChristopherWr11 Without war-time central government coordination and conscription, our societies will never get their act together on #ClimateChange \\n@cbm_ireland : It\\'s #WorldHumanitarianDay! CBM Global &amp; @GreengrantsFund are pleased to share a case study on #ClimateChange, its humanitarian consequences &amp; its impact on #PeopleWithDisabilities in Southern #Madagascar: \\n\\nhttps://t.co/UwVWSUa78u\\n\\n#InclusiveClimateAction #ItTakesAVillage https://t.co/pMqnXyIhYN \\n@cbm_ireland : Read this case study &amp; learn our recommendations to Government, UN agencies &amp; other Humanitarian actors including organisations working on disability, environmental &amp; climate issues &amp; funders.\\n\\nGet your copy: https://t.co/UwVWSUa78u\\n\\n#InclusiveClimateAction #WorldHumanitarianDay \\n@beach_token : $BEACH\\nEffect of Plastic On the Ocean\\n\\nOnce ingested, plastic can wreak havoc on sea turtles and birds, blocking necessary nutrients and causing premature death\\n\\nhttps://t.co/QTUtQX7cUq\\n#CleanOceans #BeachCollective #Sustainability #ClimateChange #SaveOurOceans #CircularEconomy https://t.co/KY1EaotICx \\n@Theisefecahiac1 : @beach_token Whys nonee talkin about this??? https://t.co/ie2zHEqdJm .. .. \\n@Denibetotuhifo1 : @Theisefecahiac1 @beach_token never mind just try and make some eth \\n@BecketKeys : Congratulations to Callum! He gained three As in his A levels: Mathematics, Geography and Economics. Like many others in the 2022 cohort, having been inspired by our Geography staff, he is off to save the environment in his studies at university. #Earthshot #ClimateChange https://t.co/dp6KKVLZCp \\n@Andrewwickstea1 : @BecketKeys Fabulous \\n@WriterAnkitRoy : This was published 110 Years ago today! If we’d have listened! #solarroof #climatechange #climatecrisis #climatecrisis #climatechangeisreal #globalwarming #solarinstallation https://t.co/Z6TY4RHbbX \\n@KTyyska : @WriterAnkitRoy So who\\'s (prob.? ) Source of that/ mag writer.\\n...Svante Arhus, ? \\n@WriterAnkitRoy : @KTyyska I think it was a quote from Adam Smith’s Wealth of Nations Chapter 11. \\n@KTyyska : @WriterAnkitRoy Oh Yes...thanx for informat. \\n(... Any idea from what source Smith drew that from? ) \\n@WriterAnkitRoy : @KTyyska Probably the amount of coal the British used up in a year… I’m not sure though! \\n@KTyyska : @WriterAnkitRoy OK. ; Would be kind of interesting know\\' bout.  Thanx anyway! \\n@cbm_ireland : It\\'s #WorldHumanitarianDay! @CBM_Global &amp; @GreengrantsFund are pleased to share a case study on #ClimateChange, its humanitarian consequences &amp; impact on #PeopleWithDisabilities in Southern #Madagascar\\n\\nRead here: https://t.co/55TEz5maYM\\n\\n#InclusiveClimateAction #ItTakesAVillage https://t.co/7i1qb9BjMj \\n@AbdishakurDaaha : Interesting representation of the difference between Climate #mitigation and #adaptation \\n\\n#climatechange #sustainability #climateadaptation #climatemitigation #environment #climateaction https://t.co/6jjro3mhbc \\n@FarhanF88265603 : @AbdishakurDaaha @IftinSudi Keep go \\n@CapeWindy : France\\'s dried up Loire river: A disaster for the regional ecosystem | DW News #France #climatechange #drought\\nSacrebleu!! Almost too much to bear. https://t.co/dKbfUuSQGO \\n@WhitStillman : @CapeWindy Well it has started raining a lot here near the headwaters so perhaps the Loire will catch up soon. \"August showers...\" \\n@CapeWindy : @WhitStillman That\\'s encouraging. Thanks, Whit. \\n@Scottiegregs : As \\'There is No Climate Emergency is trending\\', it\\'s worth drawing attention to the signatories of the most recent paper which claims #climatechange is a myth.\\n\\nNot a single climate scientist on this list.... https://t.co/5H47VGu8uN \\n@Scottiegregs : Erl Happ (self proclaimed \\'science expert\\') wrote a blog way back in 2013 in which he claimed \"The very good news is that it appears that natural organic processes can account for all the change that has been observed over the period where good data is available..... \\n@Scottiegregs : ....The not so good news is that a globe that is on balance uncomfortably cool, is about to get cooler.)\\n\\nWell i\\'m sorry Erl for not taking you at your word, but it seems NASA themselves also disagree. https://t.co/uOSltJl5uv \\n@Scottiegregs : Gordon Batt, Director of GCB investments PTY ltd fails to note that he is the director of several fossil fuel organisations and has been in the oil industry for 40+ years. \\nhttps://t.co/vunN7UIYgo \\n@Scottiegregs : \"The newest franchise agreements now specify that we must not charge for any credit or debit cards whatsoever, requiring me to bear annual MSF costs of $80,000pa! How can this dictum be fair &amp; reasonable?\"\\n\\nHow indeed, Gordon? \\n@khaylock : @Scottiegregs Shout out to Dr Pavel Kalenda, \\'Coal Expert\\'...  I feel that his insights into the global climate emergency [or his alleged conviction that there isn\\'t one] are going to be _really_ well informed &amp; valuable. \\n@Scottiegregs : Drieu Godefridi, \\'Author of several books\\' quotes a 15th century magistrate in his 2019 offering \"The green Reich\" (Really?!?!) \"Dividing humanity by a factor of ten, is the environmentalist ideal.\" \\n\\nI don\\'t think you quite understand what we\\'re trying to tell you Drieu... \\n@Scottiegregs : @khaylock Funnily enough, he leaves out here that he is a seismologist, Like \"better not tell them I work study earthquakes or they might not take me seriously\"\\n\\nIt\\'s just so rudimentary to them. \\n@Scottiegregs : The report says \"More CO2 is favourable for nature, greening our planet. Additional CO2 in the air has promoted growth in global plant biomass.\" Well that might *just* be reasonable if we hadn\\'t upscaled our deforestation efforts over the last 2 decades. https://t.co/i9wpCqSiJf \\n@Scottiegregs : As this thread has gotten a bit of attention comparative to my rather low following, it\\'s worth mentioning a few *actual* Climate scientists you can follow if you don\\'t already, in order to get some accurate info. @ClimateBen @ClimateHuman @James_BG @ed_hawkins @jonburkeUK \\n@Scottiegregs : And of course me! although I\\'m not nearly as well informed as the above I do occasionally post pictures of dogs so you can\\'t really lose... \\n@Scottiegregs : Oh and also @CarbonBrief put out a free daily newsletter which is well worth your attention if you want to read more. \\n@Brad_Jones95 : @Scottiegregs Go mental scottie \\n@EcofriendlyBeer : @Scottiegregs Just a bunch of greedy bastards and crack pots. \\n@wqueens7 : “Brain-Eating Amoeba Most Likely Caused \\n[A] Nebraska Child’s Death, Officials Say \\n[With Perils’ New Range Our Greed Might Be Paused\\nBut For Pick-Up Trucks We Bodies Display]”\\n#headlinepoem \\n#headlinesonnet \\n#globalwarming\\n\\u2066@GretaThunberg\\u2069  https://t.co/R7sQEmvFEO \\n@wqueens7 : “Drought conditions and heat in Nebraska\\n Made it easier for organism \\nTo thrive in the river [(&amp; I ask ya\\nDoes killing the EPA show wisdom?)]”\\n#headlinepoem \\n#headlinesonnet \\n#globalwarming\\n@GretaThunberg \\n@GOP \\nhttps://t.co/ZKGPthTpUO \\n@wqueens7 : “The American Standard of Living”\\nThe Bushes said was “non-negotiable”\\nWill give the planet a jailhouse shiving\\nOn the yard dies our planet livable\\n#headlinepoem \\n#headlinesonnet \\n#globalwarming\\n@GretaThunberg \\nhttps://t.co/ZKGPthTpUO \\n@wqueens7 : So grab yourself water wrapped in plastic\\nFor convenience consequences drastic\\n#avarice\\n#headlinesonnet \\n#globalwarming\\n#bottledwater\\n#bottledtapwater\\n@GretaThunberg \\nhttps://t.co/ZKGPthTpUO \\n@orchlon_e : World - please meet URECA! Join us in our journey to decarbonize the future and play your part in helping fight climatechange at https://t.co/oZVzxkaHVT #climatechange #carboncredits https://t.co/660mGqzeKA \\n@Makichyan1to10 : @orchlon_e Wow 👏. Interested! \\n@purplehayss : The #Texas cattle industry shaped the image of the state. Not taking care of the planet is destroying the ability to make #money and this should be one of many #redflags of #ClimateChange https://t.co/08vnGqw7Pk \\n@FromRandall : @purplehayss Many many many red flags. \\n@PeterMassini : @ThirlwallAssoc @landsmith_sarah @elainecresswll @Ben__Brace @jhrdub @DrPhoebeCarter ...and when determining the condition of these future habitats the assessor has to judge whether they will achieve what\\'s intended. But how is #climatechange factored in? \\n@PlanComPakistan : Highlighting industrial wastewater issues, Planning Minister stated that industry is polluting drainage &amp; same water is further being provided to farmlands contaminating food crops. It is a challenge how we re-treat our drainage water in all major cities.\\n\\n#ClimateChange #Climate https://t.co/9AzLAGZa5X \\n@ifdc_kenya : #ClimateChange is currently the biggest threat to #food &amp; #NutritionSecurity, especially in #Africa. As we aim to increase #agricultural productivity through our #PCBProject funded by @IrlEmbKenya, we are also promoting climate-smart #agriculture to build #farmers resilience. \\n@allen_depaul : @ifdc_kenya @IrlEmbKenya Currently the industry that\\'s promoting renewable energy is doing great harm to the planet with their enormous Leach fields from the manufacturing,factories that make lithium batteries are out in the open when birds land on it they die immediately think what happens to humans \\n@CO90s : New @CO90s research project approved: #Climatechange #sustainablediets and #religion Dan Major-Smith @BristolUni https://t.co/Hkvb2uswmj \\n@MrshortieUK : @CO90s @BristolUni Nice. Can\\'t wait till see what happens with this. \\n@OECDdev : Did you know? #Aid4Trade commitments with a focus on #ClimateChange mainly go to least developed countries &amp; other low-income countries.\\n\\nLearn more in the OECD-@wto report 👉 https://t.co/9nUwCOILic @OECD_ENV https://t.co/T0z7hMxmvY \\n@StaceyP28850658 : @OECDdev @wto @OECD_ENV 🐶 Chihuahua token has been tweeted by Binance and many huge Kols around the world.The project is super potential and gonna reach millions of MCAP soon.\\n🦴CA:0x2fd6c9B869Dea106730269E13113361b684f843a\\nTG: https://t.co/crBwwa6tz3\\nTwitter: @Chihuahua_bsc\\n#Chihuahua\\n#2022MEMECOIN \\n@S_MERSHED : This might be the tree of wishes 🌲✨🌟\\n\\n #TreeOfWishes #nature #beauty #Earth #GoGreen #climatechange #naturelovers #savetheplanet #Biodiversity #trees #tree\\nCredit to the respective owners. https://t.co/B9yNJRwRac \\n@kind_shedevil : @S_MERSHED Stunning. I am so fascinated by the shapes and constructs of trees. This one is exceptional \\n@S_MERSHED : @kind_shedevil Totally!!\\nIt might be the tree of wishes, so make a wish ✨🌟 \\n@kind_shedevil : @S_MERSHED My only wish is Metta. \\U0001f90d\\U0001f90d \\n@S_MERSHED : @kind_shedevil What a wonderful wish!!✨🌟 \\n@jodieturner_ns : BC Liberal leader Kevin Falcon removed longtime MLA John Rustad from the party caucus after Rustad boosted a social media post casting doubt on #climatechange science + urging people to \"celebrate CO2.\" @DawnRoseTurner | CBC News https://t.co/kisqsewjwA \\n@DawnRoseTurner : @jodieturner_ns 🙄 Some just don\\'t have a clue when to stop talking...😏\\n#Deniosaurs in 21C \\n@LloydPMacKay1 : @jodieturner_ns @DawnRoseTurner There has to be a better way to handle inside problems!\\nSurely others  can see this as a poor way of handling this problem but bad for party as well! \\n@S_MERSHED : Good time #naturelovers! ✨🌟\\n\\n#nature #beauty #Earth #GoGreen #climatechange #naturelovers #savetheplanet #Biodiversity #trees #Beach\\nCredit to the respective owners. https://t.co/BVyIqI0Oqh \\n@Afraa_nftart : @S_MERSHED Hey soulaiman please join my giveaway tweet and share a joke and spread the word ☺️\\U0001faf6 \\n@S_MERSHED : @Afraa_nftart Hi dear Afraa, by all means ✨🌟\\U0001f90d \\n@Afraa_nftart : @S_MERSHED 👍👍👍 \\n@9reenpalms : Wow what a tweet! #nature #beauty #power #HappyFriday #PositiveVibes #savesoil #savethebees #teamseas #ConsciousPlanet #savetheplanet #climatechange #climate https://t.co/G4GTj2Nl8V \\n@TekaDiscover : @9reenpalms Have a look at @GulfCoin_! This is the future of #Crypto. $GULF #GulfCoin @GulfCoinArmy #Gulf_Coin #BTC #Crypto #GULF 🔥🔥🚀 \\n@CharliechurchS : The Loire is drying up.\\n#climatechange\\nhttps://t.co/HMhZkoltny \\n@Vanessa26747879 : @CharliechurchS This horrendous and very frightening. When are people, particularly politicians, going to wake to climate change disaster? Drastic action is needed now. 😢 \\n@Gillgall23 : @CharliechurchS Bet it\\'s not full of shit though. \\n@CharliechurchS : @Vanessa26747879 The directors of oil, gas, and coal companies need to be jailed. \\n@AaravSeth_ : This is #ClimateChange.\\n\\nThe worst #HeatWave in #China in 60 years is ongoing leading to electricity shortage &amp; #Drought.\\n\\nThe most populated nation is one of the hottest places on the #planet.\\n\\n@GretaThunberg @vanessa_vash\\n@ExtinctionR @Greenpeace @UNFCCC\\nhttps://t.co/kGKmHEY8iU \\n@WoWSuffolk : We absolutely LOVE this!\\n\\nWhat an amazing thing to do to highlight the impact of climate change and to draw attention to cycling!\\n\\n#Amazing #Cycling #ClimateChange #Bike https://t.co/Qsaql7J2rX \\n@nellieh64 : @WoWSuffolk Fab isn\\'t it 😁 \\n@ScottLucas_EA : EA on BBC: #LizCheney, #DonaldTrump, &amp; A Divided GOP; A Historic #Climate/#Healthcare Bill (@ScottLucas_EA &amp; @DelPercioS w @ColinMurray on @BBC5Live) \\n\\nhttps://t.co/nFZxKEDHlS\\n\\n#RepublicanParty #BuildBackBetter #ClimateChange #InflationReductionAct https://t.co/kL0uUfjAS8 \\n@andythegreenie : Good to see some serious reporting on ever-growing concerns about just how #Eastbourne &amp; #Pevensey can get any real #flood protection from the ever stronger impacts of #ClimateChange. Local sea defences are woefully inadequate for the perfect storms coming &amp; time is running out. https://t.co/Qvll5ucw0A \\n@PeterD23265906 : @andythegreenie And all it needs, Andy, is for the Sovereign Harbour lock gates to have issues and however high the sea defences were, it would make no difference. \\n@andythegreenie : @PeterD23265906 Good point. Here\\'s further confirmation of how vulnerable Sovereign Harbour is: https://t.co/gigT5jJpHG \\n@PeterD23265906 : @andythegreenie So once again, Saltmarsh Lane in Hailsham lives up to its name. https://t.co/dPyJBh0zzC \\n@andythegreenie : @PeterD23265906 Meanwhile, oblivious to the existential risk of #ClimateBreakdown for their town, #Eastbourne\\'s council &amp; much of its business community is currently putting on #Airbourne to celebrate Those Magnificent Men in their Flying Machines (of Global Warming). Enjoy while you still can! \\n@TopTenAward : Bronze , Silver and Golden digital badges\\n\\nMore information could be obtained from:\\n\\nhttps://t.co/YQhWtqZ19m\\n\\nhttps://t.co/EQRPSZzPEP\\n\\nhttps://t.co/LW9tWp1JME\\n\\n #digital #climatechange #educación #teachers #schools #coquitlam #canada \\n@TopTenAward : Best christmas gift for your children, friends and families \\n@ORB_Series : \\U0001f9ca Arctic sea ice fell to a record low in July 2019, and by 2050 as much as 45% of existing Arctic infrastructure will be at high risk due to permafrost thaw \\n👇\\n\\n#climatechange #economy #environment #ocean #pollution #conservation #nature #science #sustainability #green https://t.co/ODW5UQDlrJ \\n@ORB_Series : - which is also releasing carbon and methane that accelerate global warming through “climatic feedback.” \\n👇 \\n@ORB_Series : The changing climate has unlocked economic opportunities tied to oil, gas, mineral resources, and increasingly accessible shipping routes - placing added stress on the region’s biodiversity and people. \\n👇 \\n@ORB_Series : This briefing is based on the views of a wide range of experts from the World Economic Forum’s Expert Network and on views collected from other local and global leaders, ranging from politicians to indigenous representatives.\\n\\n🌐 https://t.co/8pUnsmjifA \\n@FriendsOScience : @jhchadwick @GeorgeMonbiot @ClintelOrg UNPRI has about 1,000 signatories, pension funds, sitting on ~$100 TRILLION in assets under management. Al Gore is their financial guru. They are activist investors skewing markets worldwide. https://t.co/GT2YYIyIUD #ESG is their Bible; #ClimateChange the faith. #Money the object https://t.co/GcR2j4OqTo \\n@RyGuy2927 : @nspc Conservative politicians don\\'t believe in climate change. #ClimateChange #NeverVoteConservative #NeverVoteppc #ActOnClimate https://t.co/E0SblxcUVC \\n@keith_t64 : @bcbluecon I don’t know many people that\\n“wants action on #ClimateChange” that are not politicians or green wackos. \\n@CarolynDeere : .@TESSForum is hiring a Dialogues Manager in Geneva!\\n\\nA fantastic role:\\n🔹 managing policy dialogues &amp; events on #trade &amp; #sustainability \\n🔹 covering #climatechange #plasticpollution #biodiversity #circular economy + more\\n\\nDeadline 26 Aug. ⬇️\\nhttps://t.co/vqO9pIjTrV \\n@godson_nath : @CarolynDeere @TESSForum Applied. Hoping Nigeria is inclusive \\n@MyZeroCarbon : .\\nArab Youth Council for #ClimateChange issues sustainability manual\\nvia @WAMNEWS_ENG\\n\\nhttps://t.co/0tpJvau5ag\\n\\n\\xa0#GlobalWarming #climate #ClimateAction #ClimateCrisis #ClimateEmergency\\n#FridaysForFuture \\n@DealerDone : @MyZeroCarbon @WAMNEWS_ENG .\\nArab Youth Council for #ClimateChange issues sustainability manual\\nvia @WAMNEWS_ENG\\n\\n\\xa0#GlobalWarming #climate #ClimateAction #ClimateCrisis #ClimateEmergency\\n#FridaysForFuture https://t.co/SQqML4UMzA \\n@Marcobear_eth : TIME FRACTURE day #0213\\n\\nThe current rate of #greenhouse gas pollution is so high that Earth has about 11 years to rein in emissions if countries want to avoid the worst damage from #climatechange in the future, a new study concludes. https://t.co/BtyggXu16f \\n@Marcobear_eth : Despite dipping in 2020 because of the global pandemic, greenhouse gas emissions are on track to return to pre-pandemic levels, according to the annual Global #Carbon Budget report. \\n@Marcobear_eth : The findings, currently under review before publication, underscore that the urgency of cutting emissions is even greater than previously thought if the world is to avoid a rise in average global #temperatures that is greater than 1.5 degrees Celsius (2.7 degrees Fahrenheit) \\n@Marcobear_eth : above preindustrial levels. That was the goal set by the 2015 Paris climate agreement and pursued by countries currently gathered for a major #UnitedNations climate summit in Glasgow, Scotland.\\n📚: https://t.co/o5Sv3thtqe \\n@thecyrusjanssen : The only major risk is the next American President could pull 🇺🇸 out of our climate commitments much like Trump did with the Paris accords. Let\\'s hope the 🇺🇸 stays on track and I also hope we can resume talks with #China on #climatechange the world needs 🇺🇸🇨🇳 to work together https://t.co/7YER0cfwS7 \\n@Hong_Kong97 : @thecyrusjanssen Well trump is gojng for it \\n@MayMayln : @thecyrusjanssen I can\\'t stand dork @USAmbChina, his\"blame China for everything\" cheap tactics make me puke. he spreads lies about China on daily basis to worsen the bilateral relations, how is that help to resume \"dialogue\"? why would anyone want to cooperate with liars?\\nhttps://t.co/4sNdak4ETe \\n@WalterKooy : @thecyrusjanssen Right Cyrus, why should any country talk about anything with a untrustworthy country? The world doesn’t take the US serious anymore. \\n@easonhu93639091 : @thecyrusjanssen We need  🇺🇸🇨🇳 work together! \\n@newsvandal : TODAY: Our Demon-Haunted Politics #Guns #Religion #Evangelicals #GreatReset #IRS #FBI #MerrickGarland #GOP #DeSantis #Trump #MAGA #SatanicPanic #Woke #History #Qanon #Abortion #Noem #SmartCities #Evolution #ClimateChange #Gaia #Racism #Crime #KidsForCash\\nhttps://t.co/nnhOptEjww \\n@RDubzzz : @newsvandal I always love your rundown cover art selections ❤️ \\n@RDubzzz : @newsvandal so wait… this son of the Moonies guy that is running the gun club church… are the Moonies the same religion that the guy killed Prime Minister Shinzo Abe over?? \\n@newsvandal : @RDubzzz Yup. The Japanese offshoot of the Moonies, who founded the Washington Times, reputed to be involved in the KCIA, drug trafficking &amp; totally in bed w/ Falwell/Poppy Bush. Google Falwell / Bush + Rev Moon. The GOP in Congress once hosted a coronation of Moon as king of the universe \\n@RDubzzz : @newsvandal omg! is this the mom the AR King refers to as “the Harlot of Babylon”? lolz! The Rolling Stones article is awesome (but also very wtf?! these people are insane! and I def spotted that the pictured pews are labeled such that church seating is reserved by the type of gun you bring) \\n@RDubzzz : @newsvandal also, the Moonie God established the Washington Times newspaper??? who knew! bonkers! \\n@RDubzzz : @newsvandal whoaaaa… Moonie God dumped a bunch of money into Liberty University?? wtf…all of these intertwining stories are blowing my mind! please note, I’ve only read 2 stories on the rundown and I started at least an hour ago haha… tragically, this is my “normal” pace… I’m a ponderer \\n@uvic : Investing in ocean intelligence infrastructure provides coastal communities, researchers, policymakers &amp; governments solutions to fight #climatechange.\\n\\n#UVic’s @Ocean_Networks received $114.8 M from @InnovationCA’s Major Science Initiatives fund.\\n\\nhttps://t.co/65XdGnk0jZ \\n@uvic : #UVic is investing in machine learning, artificial intelligence &amp; Indigenous governance to protect our oceans &amp; position Canada as a global leader in #oceanscience with new @Ocean_Networks funding from @InnovationCA’s Major Science Initiatives fund. \\n@Unitvectori : Nations around the globe have pledged to increase their forest cover by planting millions of trees. But much of this growth would be in monoculture plantations, that \\ndo little to tackle #climatechange or preserve #biodiversity.\\nhttps://t.co/TWpS3NWD38 via @YaleE360 \\n@ProfGorm : @Unitvectori @YaleE360 Trees are not wild places. \\n@Unitvectori : @ProfGorm @YaleE360 Yeah, unfortunately you have to read the \"fine print.\"  Tree planting does not always equal #reforestation . It can be greenwashing many times. 😒 \\n@gideonthediver : @Unitvectori @YaleE360 How many are being planted for the new climatic patterns. Some local species may not adapt quickly enough for the changes in weather. E.g. much warmer and drier periods. We are already seeing tree stress this year in U.K. \\n@Unitvectori : @gideonthediver @YaleE360 Another point to consider, once all native vegetation is displaced by invasive or adaptive (drought or flood resistant) vegetation, the entire ecosystem has been modified. But true, a comprehensive reforestation effort could fail under climate change effects. Scary stuff. \\n@ProfGorm : @Unitvectori @YaleE360 Too true. What historic ecosystem is being restored? Can it be restored? \\n@Unitvectori : @ProfGorm @YaleE360 Easter Island is a good example. Deforestation caused so much nutrient loss in the soils, eucalyptus is the only thing that has been able to successfully grow there. But this has caused a monoculture, which will not improve soil quality or bring back native species. \\n@Unitvectori : @ProfGorm @YaleE360 Restoration can be accomplished but it is expensive and requires lots of planning. Also, once the soil hits the point of no return, you end up in Easter Island like dilemma. \\nhttps://t.co/i3VNXYMFLX \\n@BrandBillboard : A call to action 🌳 https://t.co/YcrsxTbSXz\\ndomain for sale #ChangeClimate \\n#Climate #ClimateChange #Environment #GlobalWarming #FossilFuels #Recycling #Ocean #Earth #DeFi #startup #VC #DAO #NFTs #Web3 #Green #metaverse #Greenmetaverse #games #Gaming #P2E #XR #domain #XYZdomains \\n@NeorayZion : @BrandBillboard very good one \\n@BrandBillboard : @NeorayZion Thank you, Neo! \\n@BrandBillboard : @NeorayZion #Neo #Dubai 😏 https://t.co/R6NmqYoOMy \\n@PhileaOrg : 🌳 | Join the community on Discord. Link in bio.\\n\\n#Philea #Blockchain #ClimateChange #Bitcoin #Ethereum #CarbonMarket #Charity #Token #Crypto #GlobalWarming #Social #Development #Avax #Environment #Pollution #NFT #DAO #Cryptocurrency #Future #Philanthropy #PoS #PoW #Web3 #SDGs https://t.co/4Fw0Gmv108 \\n@CarbnCollective : \"Often, and unbeknownst to a lot of us, your #401k is being invested in the very industries that all but ensure the destruction of the planet.\" https://t.co/7WaMNEoIzQ #sustainableinvesting  #climatechange #investing \\n@CarbnCollective : @danielbrennanb Thanks for writing! \\n@ZahidAliLaqani : Almost every village in Chitral including my own village has been flooded today. Not just properties have been destroyed, a number of precious lives were also lost. The whole district is in turmoil.\\n#GlobalWarming is truely destroying our home💔 https://t.co/FwlpsCvcnC \\n@Safi_Jah : @ZahidAliLaqani What\\'s the most common reason of floods evey year? \\n@ZahidAliLaqani : @Safi_Jah Glacier outburst due to rising temperature. Heavy rains also contribute in some cases. \\n@bpirenne : Concerning study of the frequency of marine heatwaves and low-O2 events on the ocean under #climatechange: “[…] the number of MHW-OAX days per year, increas[e] from 12 to 265 days per year at 2\\u2009°C global warming relative to […] pre-industrial baseline” https://t.co/q6MsUHgPr1 \\n@bpirenne : At the current rate, we might be there by 2050. We all need to be working on solutions right now! @solid_carbon @Ocean_Networks \\n@EResconi : @bpirenne Very hard to see this. \\n@Jennife89797672 : @Victims_ofFraud @politico @g20org We are early!!  LFG #Cashverse 💎🔥❤️ #cashverse #memecoin #DeFi #PancakeSwap\\n@cashversellc \\n@CryptoSR7 : @Y_Shayne_Art @algoranter - project here to make @algorand supreme, promotes #Sustainability, #circulareconomy &amp; fights #climatechange through a special reward system which we\\'re launching this year. \\n\\nVisit https://t.co/PT7Qk8VjyR to know more. Also, join our discord - https://t.co/74mW2Y0uiQ \\n@Democracy_Spot : 🌴  #MyrtleBeach SC is having a week! Tornadoes, flooding, TWO shark attacks and a Megaladon tooth was found on the beach!\\n\\n#TheGrandStrand  🤷🏼\\u200d♂️\\n\\n\"I\\'ll take #ClimateChange for a thousand, Alex!\"  🙄 https://t.co/fAL0f8JFVp \\n@CarolLei4 : @Democracy_Spot 👀👀👀👀👀👀 \\n@mumsintheattic2 : @Democracy_Spot I want to find a megalodon tooth! \\n@Democracy_Spot : @mumsintheattic2 Shit scares me, with all the #DrEvil\\'s salivating to un-extinct animals from DNA! \\n@mumsintheattic2 : @Democracy_Spot Just stop watching the Jurassic Park movies! Personally, I worry more about the melting ice caps releasing ancient bacteria/viruses. But there\\'s not a whole lot either of us can do about it.🤦🏻\\u200d♀️🤷🏻\\u200d♀️ \\n@Democracy_Spot : @mumsintheattic2 Two things worry me most:\\n\\n• The Yellowstone Caldera (30 x 45 miles).\\n\\n• The massive stores of 🔥methane in the oceans and some lakes. \\n@mumsintheattic2 : @Democracy_Spot Again, not much we can do about it. But along those lines of worry, I\\'ll take the Cascadia Subduction. \\n@paleoTsimoes : We tackle here: the origin of turtles; rates of evolution and selection mode in early amniotes+reptiles; the long-term effects of #climatechange on the evolution of reptiles; and as asked by the @EonsShow,“Why Triassic Animals Were Just the Weirdest?”(2/n)(art H. Sharpe) https://t.co/CDTq0Srxmg \\n@jamesvgingerich : Marine heatwaves? (World Economic Forum) #ClimateChange #Environment https://t.co/YoBu74J9Yk \\n@AEQEA : @jamesvgingerich 💉💉💉 \\n@ROYA__Ro : @jamesvgingerich Big SCAM \\n@PCarterClimate : BURNING FOREST CARBON SINKS\\n17 Aug 2022, Forest Watch finds forest loss from fires doubled in the past 20 years. \\nOne reason the Amazon switched from carbon sink to source. The northern Boreal forest is a large carbon sink https://t.co/d9pABcZceP\\n#climatechange #fire #forests https://t.co/R9erXzPEew \\n@intelligenceFac : @PCarterClimate Well...well...well...data and satellite images say the opposite, and since when CO2 is bad for plants and trees? When it is a factor for the observe growth o forest last 100 yrs. \\nAnother thing is CO2 being a warming accelerator. https://t.co/rBv0GQK4e9 \\n@JulieGreenHeart : @intelligenceFac @PCarterClimate Well, well, haven\\'t you just got half the picture. The other half: all that extra greening (which not a single climate scientist has ever said is bad for plants) is being destroyed by heatwaves, floods, droughts &amp; wildfires. Cuz extra CO2 destabilizes the climate. Bummer, eh? \\n@JeremyLoveday : Victoria looks to be a national leader in the circular economy\\nCity incorporating the low-waste lens into its economic strategy for climate, waste, business goals \\n#CircularEconomy #ClimateChange #YYJBIZ \\nhttps://t.co/tW3rj4MNSr \\n@DallasGislason : @JeremyLoveday Thanks for your focused work on this Jeremy! This is especially important for ocean cities as you know - need to divert inputs and outputs away from landfills and water! \\n@_GlobalCrisis_ : ❓ What are true causes of #climatechange and the increase in natural #disasters? Would they be happening if there were no one on the #planet?\\nLearn today at #TikTalk Show with:\\n@pyro2sick actor &amp; rapper\\n@WinsnLSVT #veteran &amp; entrepreneur\\n#CreativeSociety https://t.co/9DPeLlBlox \\n@SergeySilvanov : @_GlobalCrisis_ @pyro2sick @WinsnLSVT Interesting #TikTalk meeting again, useful insights and spreading the truth! Climate Change #CreativeSociety \\n@F13538097Sharon : @_GlobalCrisis_ @pyro2sick @WinsnLSVT I wonder what cataclysms would happen even if no one was on the planet? \\n@Oksana10946834 : @_GlobalCrisis_ @pyro2sick @WinsnLSVT Great 👌 \\n@AlexTerry333 : @_GlobalCrisis_ @pyro2sick @WinsnLSVT Thanks guys, relevant and informative \\n#CreativeSociety \\n@Little8Robert : @_GlobalCrisis_ @pyro2sick @WinsnLSVT Up-to-date information. \\n INTERNATIONAL ONLINE FORUM\\nGLOBAL CRISIS. WE ARE PEOPLE.\\nWE WANT TO LIVE \\n@Jennife52609910 : @_GlobalCrisis_ @pyro2sick @WinsnLSVT Thank you very much 🌠🌠🌠\\n#CreativeSociety #GlobalCrisis #WeWant2Live #ClimateCrisis #LiveStream #Friday #life \\n@Culer01 : @_GlobalCrisis_ @pyro2sick @WinsnLSVT Interesting #question - would there be #cataclysms if there were no #humans on the #planet?\\nLet\\'s explore it #together.\\n#disasters\\n#TikTalk\\n@pyro2sick\\n@WinsnLSVT\\n#veteran\\n#GlobalCrisis\\n#time4truth\\n#ClimateCrisis\\n#CreativeSociety\\n#WeWant2Live\\n#LastWarofHumanity\\n#TogetherWeCan \\n@LianaLife2 : @_GlobalCrisis_ @pyro2sick @WinsnLSVT Climate change every day ( tornadoes, fire\\'s and other. \\n@lilia_mamedova : @_GlobalCrisis_ @pyro2sick @WinsnLSVT I am supporting the creative society and believe we began to act. \\n@HelenHill333 : @_GlobalCrisis_ @pyro2sick @WinsnLSVT Such a great show 🤩Thank you, guys \\n#ClimateAction \\n#climatechange\\n#CO2 \\n#CreativeSociety \\n#GretaThunberg \\n@Oltimati04 : @_GlobalCrisis_ @pyro2sick @WinsnLSVT Great! Thank you, guys, that voiced the truth! We need it to understand that consumer society lead us to destroy the planet! But together we can change it by building #CreativeSociety \\n@Ad6tzyjN92kN4ev : @_GlobalCrisis_ @pyro2sick @WinsnLSVT Politicians only tell us how our lives will improve, but in reality they are only interested in the power we delegate to them.\\nLet\\'s build a creative society together, where human life is of the highest value!\\n👇\\nhttps://t.co/rebuZSMimI\\n #ClimateCrisis #ClimateAction #Climate https://t.co/zws6Rt5oak \\n@Q7hGZDQNKiearBd : @_GlobalCrisis_ @pyro2sick @WinsnLSVT Thank you 🙏\\nCreative Society 🌍❤️\\n#GlobalCrisis @WinsnLSVT  @pyro2sick \\n@Cermmakova : @_GlobalCrisis_ @pyro2sick @WinsnLSVT #climatechange #disasters #planet\\n #TikTalk \\n@pyro2sick\\n@WinsnLSVT\\n #veteran &amp; entrepreneur\\n#CreativeSociety ❤️ \\n@MarinaNud : @_GlobalCrisis_ @pyro2sick @WinsnLSVT It\\'s time to wake up and take action! We need a Creative Society! #CreativeSociety #people #world \\n@AllaA23993228 : @_GlobalCrisis_ @pyro2sick @WinsnLSVT Thank you for voicing the Truth! Humanity needs a new format of society - a creative society! #CreativeSociety#Wewant2live \\n@DULaguna84 : @_GlobalCrisis_ @pyro2sick @WinsnLSVT So many times the climate has changed, it\\'s probably not because of human error. So why don\\'t people believe now that the climate is just changing because of cyclicality. we are just lucky enough to live in this particular period. #GlobalCrisis #LastWarofHumanity \\n@VeronikaAppl : @_GlobalCrisis_ @pyro2sick @WinsnLSVT Honest scientists say that climate change is a cyclical process occurring on the planets of the solar system every 12,000, 24,000 years. It would have happened anyway. I wonder why those in power remain silent about this, even though everyone knows? #climatchange #CreativeSociety \\n@LeschenkoViktor : @_GlobalCrisis_ @pyro2sick @WinsnLSVT Huge thanks 🙏 guys. All the information is up to date and informative!\\n#CreativeSociety. \\n@LesenkoG : @_GlobalCrisis_ @pyro2sick @WinsnLSVT The information is very relevant. \\n@SparkCognition : 1/ The passage of historic new federal legislation last week gives some of the most concentrated support ever to the renewable energy sector.\\n\\n#investment #energy #climatechange #greenenergy #renewables #tax #AI #artificialintelligence \\n@SparkCognition : 2/\\n✳️ $260B in clean-energy tax credits that will require more renewable energy production\\n✳️ $80B in new rebates for electric vehicles, green energy at home, and more\\n✳️ $27B ‘green bank’ to attract private investors for renewable energy and climate change purposes \\n@SparkCognition : 3/ This spending package represents the country’s most significant investment in renewables and initiatives to combat climate change by a wide margin.\\n\\n#investment #energy #climatechange #greenenergy #renewables #tax #AI #artificialintelligence \\n@SparkCognition : 4/ With so much attention on climate change and the transition to renewable energy, there are many entry points for AI technology to make an impact. \\n👉 https://t.co/1SLS5swjCA\\n#investment #energy #climatechange #greenenergy #renewables #tax #AI #artificialintelligence \\n@jamesvgingerich : By 2030 there could be global shortages of fresh water.  Here are 5 ways to harvest water in dry areas.  (World Economic Forum) #ClimateChange #Environment https://t.co/fnyaKTohu7 \\n@DenisRno : @jamesvgingerich @LisaForteUK Conservation measures, leak remediation/network upgrades would go a long way in some countries. For everyone: climate change action AND new solutions to restore water sources are required \\n@WdyAlmghrby7730 : @jamesvgingerich Gulf Queen\\'s coin goes up and rises like no otherGulf Queen\\n$GULF\\n@GulfCoin_\\n#GulfCoin \\n@hkekoo : Today we just released the first animal spirit to help us save the world 🐲\\nWould you join us? \\nSignup: https://t.co/5ZoNVAKFcC\\n\\n#Refi #NFTs #Regen #NFTart #climate #climatechange https://t.co/jhwqeYJcE8 \\n@DrSCoffin : I\\'m tired of hearing this false &amp; destructive narrative:\\n\"plastic pollution distracts from climate change.\"\\n\\nImpacts &amp; causes of #PlasticPollution and #climateChange are closely linked, and we should focus on combatting BOTH.\\n#yesAND #StrongerTogether\\n\\nhttps://t.co/R7gkT2Lwwi https://t.co/BncZlq5Qlo \\n@PadleOutPlastic : @DrSCoffin @Imogennapper @JambeckResearch That graphic needs to be converted to a more reader friendly orientation, since most people will see it on their phones, or not see it because the print is too small stretched horizontally. \\n@tonyrwalker1 : @DrSCoffin @Imogennapper @JambeckResearch Totally agree. This is the narrative that makes me more grumpy than usual.\\n\\nHave helped on a few rebuttals to these false narratives. \\n@rebecca_altman : @tonyrwalker1 @DrSCoffin @Imogennapper @JambeckResearch After I wrote about the ties between climate and plastics for the Atlantic back in January, I got quite a bit of pushback on exactly this point anyway. 😮\\u200d💨 \\n@rebecca_altman : @tonyrwalker1 @DrSCoffin @Imogennapper @JambeckResearch ✨✨✨ \\n@tonyrwalker1 : @rebecca_altman @DrSCoffin @Imogennapper @JambeckResearch All the Plastics Tweeps and more should set the record straight on this. Others already have such as @AliceXiaZhu, but mainstream narratives, even from reputable scientists, are undermining the connection between #plasticpollution and #climatechange \\n@Scouts4Science : @DrSCoffin @Imogennapper @JambeckResearch It seems many of us cannot handle more than one issue at a time 🤨 \\n@AliceXiaZhu : @tonyrwalker1 @rebecca_altman @DrSCoffin @Imogennapper @JambeckResearch Yes we can shift the mainstream narrative! \\n@tangobastogne : @DrSCoffin @Imogennapper @JambeckResearch Everything distracts from climate change except supporting a carbon tax.\\n\\nI\\'d like mine to be steeply graduated.\\n\\nThe climate side doesn\\'t have the votes.  It can\\'t squander its limited power failing (inevitably!) to pick the winners from the losers. \\n@VKomyakova13 : @DrSCoffin @Imogennapper @JambeckResearch Totally agree. It is a ridiculous agenda. It is same as saying \"Looking for cure from COVID (or any other illness) distracts from looking for cure from cancer\". We need solutions to both. Both are huge issues and yes closely linked. \\n@SeabirdSentinel : @DrSCoffin @Imogennapper @JambeckResearch Hey folks, just checking you’ve seen this paper “Far from a distraction: Plastic pollution and the planetary emergency”. Has a dedicated section on climate-plastic linkages https://t.co/1zRKJgbN5Z \\n@kevkunhe : @DrSCoffin @Imogennapper @JambeckResearch Thank you for emphasizing this! Solving both truly on systemic shifts within our economic systems, and the types of structural issues we need to tackle (lack of data, poorly allocated subsidies) are truly linked. \\n@DoctorVive : @rebecca_altman @DrSCoffin @Imogennapper @JambeckResearch wonderful paper—thanks for pinging me, Rebecca! \\n@alexiskeech : @DrSCoffin @Imogennapper @JambeckResearch It is the start of most people’s journey into being greener. Sadly for some they don’t get past recycling to stopping using \\n@LaurenO06159038 : @DrSCoffin @Imogennapper @JambeckResearch Hey @DrSCoffin, I just send you a DM, Kindly Take a look \\n@Ferraodesigns : Who dreams of bus routes!\\n#NitinGadkari #BJP #RSS #highwaystar #corruption #environment #deforestation #climatechange #MumbaiCoastalRoad \\n@rahulartist07 : @Ferraodesigns Will there be a Bus from Nottingham to Margão? \\n@tinytrash_can : Last month, the @IUCN put #monarchbutterflies on the #endangeredspecies list. The organization estimates that the North American monarch population has declined between 22% and 72% over the past 10 years due to #habitatdestruction and #climatechange 😞\\n\\nhttps://t.co/clETdC6f2F \\n@Slartib49836743 : #ClimateScam #ClimateHoax #ClimateGrifters #ClimateCrisis #ClimateEmergency #ClimateAction #WEFcrimesAgainstHumanity #WEF #dutchfarmers #globalwarming Support the world\\'s farmers. #Resist https://t.co/EL57N8W67j \\n@Doc_Valerie : @Slartib49836743 @Eco1stArt Definitely true for the evil scientists taking oil and gas money!\\nYes, #FossilFuels directly paid for bad science they could publicize -and have shills like you push as disinfo.\\nYou probably don\\'t even know what science is nor could you back up any of your statements.\\nSmh. \\n@Slartib49836743 : @Doc_Valerie @Eco1stArt There\\'s big money in the Green Grift. Big oil use their lobbyists so do the Greens. Scientists are paid to find the correct answer if not they\\'re fired. Politicians are raking in the money either way but specialists like Obama, Gore, Kerry have it down to a fine art, \\n@Slartib49836743 : @Doc_Valerie @Eco1stArt Tree hugging hippy activists from the 60s and 70s are running the show. I\\'ve lived through several Climate apocalypses. I was sorry to see the Arctic ice disappear totally in 2014 and was upset at the demise of the Great Barrier Reef. I was pleased the 1970s Ice age never came. \\n@jamesvgingerich : One third of tree species are now at risk.  (World Economic Forum) #ClimateChange #Urbanization #Environment @wef https://t.co/3b688hWJOy \\n@SumthinWhittee : @jamesvgingerich @wef This is WEF BS. Remember, the only way for them to coax a global herd into doing their bidding is to use propaganda and programming to instill fear in all people. Fear drives herds (animals &amp; people) Intrinsically we know the road to hell is paved with other peoples intentions. \\n@TimPughArtist : Pebble pigment and pencil drawing. South Beach, Whitehaven, West Cumbria. #icecream #melting #drawing #globalwarming #icecaps #ClimateCrisis https://t.co/n9zvO37tCA \\n@TibsJude7460 : @TimPughArtist What is pebble pigment? Ground up pebbles?? Very effective. 👍 \\n@TimPughArtist : @TibsJude7460 Hi,Just pebbles rubbed directly onto the boulder surface 👍 \\n@CliffordTheHutt : JOB ALERT!!! Fisheries Management Specialist position with @NOAAHabitat in @NOAAFisheries headquarters in Silver Spring, MD. Individual will work on ecosystem based fisheries management #EBFM and #climatechange issues. Application period closes August 29 https://t.co/6G1HzcsCM5 \\n@CliffordTheHutt : And another opening for a Marine Habitat Resource Specialist with the @NOAAHabitat in Gloucester, MA. Application period closes Sept 5. https://t.co/3jtjE1DAOA \\n@NikoPasian : @CliffordTheHutt @NOAAHabitat @NOAAFisheries Are they open to foreigners? \\n@CliffordTheHutt : @NikoPasian @NOAAHabitat @NOAAFisheries These are federal government positions so applicants must be either U.S. Citizens or Nationals to qualifym \\n@DianaOlick : The latest in my series on the rising risks from #climatechange Delta, the NFL, and the U.S. Air Force are turning to this app to prepare for extreme #weather \\n#climate #weatherforecast @tomorrowio_  @CityofHoboken \\nhttps://t.co/kG17SlD58x \\n@crkuhns1 : @DianaOlick @tomorrowio_ @CityofHoboken Unfortunately, it\\'s a passive response. Preferably take steps to abate harsh realities of climate change: e bikes solution for employees as option for coordinated response works. Let\\'s avoid being victims! \\n@essenceglobal : Vote in the SXSW Panel Picker today! Help Essence and GroupM make a difference with our Scaling Decarbonization: Making Media Net-Zero presentation. \\n\\nIf we don’t act now, climate change will worsen.\\n\\nhttps://t.co/Xyd8HdKfec\\n\\n#ClimateCrisis #climatechange #climate \\n@essenceglobal : Voting closes Sunday! \\n@ForwardIM : @essenceglobal We just voted! Thank you for inspiring us to join this movement! \\n@ThisIsHoos : Welcome to the world, kid… such as it is. #climatechange #covid19 #pandemic https://t.co/XZYQGB910A \\n@benebentil2 : @ThisIsHoos Prefect 👍👍 \\n@benebentil2 : @ThisIsHoos Hey can you follow me back just as I did \\n@louaitken : 20th of August. Turoa Midfield. Anyone out there doubting #ClimateChange? Gutted for Ohakune and our 🎿 season. https://t.co/Kf8LzagF3j \\n@andrew_r_4 : @louaitken I recall skiing on the mountain in January in the late 80’s (perhaps it was early 90’s). That is shocking at this time of year. \\n@louaitken : @andrew_r_4 Wow! January?! Amazing. And all of those photos from the \\'60\\'s of young people in togs up on the crater! So sad what we have done to this beautiful planet. 😢 \\n@NicolaPatrickNZ : @louaitken Woah.... \\n@CanadaDev : Minister Sajjan concluded a visit to #Lebanon focused on #GenderEquality, #FoodSecurity, #ClimateChange and recovery from crises. He also announced support for a @unwomenlebanon project.\\n\\nRead more 👉 https://t.co/hq0p0fZAsI https://t.co/farXbV0PPd \\n@ramandhiman2951 : @CanadaDev @unwomenlebanon @CanadaLebanon @UNDP_Lebanon @UNFPALebanon @WFP_Canada @Refugees @FAOLebanon @mercycorps @SaveChildrenLEB @WorldBank @EduCannotWait 2019 to 2022 HCCP HSW #Caregiverspilotprogram\\napplicants still waiting @CitImmCanada final decision\\n-Career on Hold for Outsiders\\n-No Family Reunion for Insiders\\n-Stop ignoring of 25000 files\\nMr.@SeanFraserMP start our processing\\n@jasrajshallan\\n@JennyKwanBC @CanadianPM @CTVNews \\n@jaswind28827272 : @CanadaDev @unwomenlebanon @CanadaLebanon @UNDP_Lebanon @UNFPALebanon @WFP_Canada @Refugees @FAOLebanon @mercycorps @SaveChildrenLEB @WorldBank @EduCannotWait #caregiverspilotprogram\\nHCCP &amp; HSW backlog 25K+ in July2022\\nNo Work Permit since 2019\\nNo Family Reunion since 2018\\nWhy @SeanFraserMP isn\\'t taking serious his ministry @CitImmCanFR @CitImmCanada\\nIRCC Backlog\\nJULY2021- 1.4million\\nJULY2022- 2.6million\\n@jasrajshallan @JennyKwanBC \\n@SebUrbanBotany : Come take this great FREE course which we’ve designed! Super excited to meet all the students (albeit virtually) who’ve already enrolled! #greeninfrastructure #streetbotany #botany #climatechange #Sustainability #sustainablecities #urbannature https://t.co/ne0ufFPK01 \\n@lzbthcx_ : @SebUrbanBotany 👏👏👏👏👏👏 \\n@samuelebolton : @SebUrbanBotany Looks ace. \\n@streetbotany : @SebUrbanBotany Brilliant! \\n@SebUrbanBotany : @streetbotany Street botany aplenty!!!! \\n@streetbotany : @SebUrbanBotany Love it :)  Have a great Sunday Seb! \\n@jacobotweetsnow : FT opinion article: “Europe must use all its financial firepower to fund the green transition”. Whatever. Thread #markets #equities #bonds #greentransition #ECB #climatechange https://t.co/UiCJf7biLf \\n@jacobotweetsnow : 1/Basically the author says that the European Recovery and Resilience Fund which demands that 37% of the money be used for climate change objectives (never mind that it was meant to be a “recovery” tool from Covid, which at last count was not climate related) is not enough. \\n@jacobotweetsnow : 2/It is hot across Europe (it being high summer) so something has to be done, and the ECB should contribute to the solution by having the TLTRO instrument (subsidised loans) be deviated to help the green transition by subsidising green investments. \\n@jacobotweetsnow : 3/IMHO this is a wonderful example of not letting a good crisis go to waste. It is hot in summer. So, we should subsidise energy sources that are good when the Sun shines and the wind blows, but not otherwise. \\n@jacobotweetsnow : 4/What we need (IMHO) is investment in developing an efficient/cheap means of storing energy for when the wind don’t blow and the Sun don’t shine. But there seems to be zero emphasis on financing that. So, buy blankets for winter, and good luck in summer. \\n@climatecoaliton : @MichaelPelizza1 is spearheading a new campaign aimed at asking #politicalcandidates to complete our Candidate Questionnaire, aimed at identifying which candidates running recognize the threat posed by #climatechange and support #nuclearpower as a solution.https://t.co/Ks9CHii2Ej \\n@climatecoaliton : Voters care about emissions reductions and also having energy security.  Thus, they should know which candidates understand nuclear\\'s critical role in helping us reduce #CO2emissions but increase #energysupply and reliability. \\n@climatecoaliton : When you get solicited by any candidate for a donation or your vote, please request that they complete our questionnaire. Then come to our site to see which candidates are smart enough to recognize that nuclear is a key solution here and support those! https://t.co/8VYoQaA2YB \\n@proRepublic1 : @KensingtonRoyal Will you stop taking choppers everywhere and give up on your 3 houses and just live in one then? #PrinceofPegging #DuchessofTights #AbolishTheMonarchy #abolishthemonarchy #Equality #CostOfLivingCrisis #EnvironmentalJustice #GlobalWarming #ClimateCrisis @ClarenceHouse \\n@Climeworks : With Orca we brought CO₂ removal capacity to the market, optimizing large-scale direct air capture technology.\\n\\nBut to fight #ClimateChange, the industry will need to develop over the next years &amp; remove billions of tons of CO₂ by 2050.\\n\\nHelp us scale: https://t.co/yBvLD9hAC7 https://t.co/rqWD2tGmKr \\n@ScarletSedition : @Climeworks Natural CCS at intensity and scale.\\nGenerate electricity from REFUSE inside greenhouses.\\nBig but clean. 100m tall, TREE farms.\\nPreventing the CO2 and heat escaping.\\nIncreasing annual growth by 40 times UK?\\n1gw/50 kmsq. Likely smaller.\\n24h/365days RELIABLY.\\nhttps://t.co/S7wNUqPCHB \\n@TCskywatch : @Climeworks @geoengineering1 LOL .Plant Trees \\n@Adrian3204248L : @Climeworks Could you please send it to me? My greenhouse needs some extra. \\n@ShootesStraight : @Climeworks Did you know that CO2 is essential to life on this planet! \\n@Antoine_Bonnet_ : @Climeworks Your link doesn’t work \\n@AirNG4blu : @Climeworks We also need to stop new #FossilFuel exploration &amp;eventually end use of Fossil fuels for renewable energy to be below 2C. We have dumped so much green house gases in the atmosphere that we need to do all we can to stabilize global climate.Also restore #Ecosystems w/ biodiversity. \\n@archieizahazz : tell me again there\\'s no such thing as #ClimateChange \"BUT\" there is flash flooding in #LASVEGAS... a place known in the U.S. for \"HOT-WEATHER\" and being built on and surrounded by DESERTS... \\U0001fae4🤨 \\n@Square1Wellness : @IvannaCoffee Got censored for reposting something from the toxic center that was proven to be correct in terms of ill health for kids. The tentacles go wide &amp; deep. Meat will probably, if not already, be the next one on the chopping block following #climatechange \\n@BrianMcHugh2011 : So @InsulateLove were right.\\n\\n#ClimateChange\\n\\nhttps://t.co/vrj8wOcPJM \\n@nigel_fuzz : @BrianMcHugh2011 @InsulateLove If someone could tell me which \"climate\" the UK is \"changing\" towards, and how fast, then we might be able to adapt accordingly.\\nIs it Mediterranean or Siberian? Tropical? Dry? Mid-latitude, High latitude?   Highland? \\n@Freshair8835 : @BrianMcHugh2011 @InsulateLove No grants available for Heat Pump installation in Northern Ireland \\n@bookplatypus : @Freshair8835 @BrianMcHugh2011 @InsulateLove And VAT still chargeable in NI on insulation unlike the rest of the UK \\n@Dunkishrock : In this Song \\'Mmadu\\' I try to highlight a major environmental issue plaguing #PortHarcourt City &amp; surrounding areas. Please share as many times as possible. Lets bring awareness &amp; rekindle the #Stopthesoot movement. #Globalwarming #Outsiders #Climatechange https://t.co/YHN9NJff45 \\n@mhdsheriff : @Dunkishrock Deserves an Oscar \\n@TheBlackOla : @Dunkishrock No dull scene 🥺\\n\\nAlmost a 100% perfect video 👌🏻 \\n@cocodeedon : @mhdsheriff @Dunkishrock Aswear \\n@SBM_CCH : Want to learn more about our SIG? Interested in collaborating with other climate-minded behavioral medicine researchers? Join our listserv! We look forward to connecting and working together to address climate change. (3/4) #ClimateChange #Health #BehavioralMedicine \\n@anoop_sasidhara : Why isn\\'t environmental science as important as math and physics? \\n\\n#climatechange #environment #climateaction \\n@anoop_sasidhara : Yes, we need to exploit nature to live here. But no one teaches us what nature is. Schools taught us to ruin nature along with math and physics. Isn\\'t saving the Earth more important than going to Mars? \\n@anoop_sasidhara : I feel that those who rule the world now may disappear from this earth in the next ten to twenty years. If we want this earth to be beautiful and peaceful after them, we need to treat the earth very efficiently. She has so many injuries! \\n@Yolibeans : Of course if our great President #JoeBiden \\nDoesn\\'t run... \\nOur new President will be #GavinNewsom.😀\\nCheers!\\n\\n#KamalaHarris \\n#Congress #Senate \\nNewsom\\n#ClimateChange #RoeVsWade #Healthcare \\n#Education #Innovation #Peace\\n#Republicans #GOP #MAGA\\n#CNN #FoxNews #MSNBC https://t.co/qgXhdOagUx \\n@HubertM35936975 : @Yolibeans lol \\n@brunosan : Stoked to attend #FOSS4G next week. Keen to chat especially about #climatechange &amp; #biodiversity science2operations. How can we help companies and govs recognize dependencies w nature? Deploy and depend on tools to measure, model and manage these? Who should I speak with on that? \\n@developmentseed : @brunosan You should definitely connect with @aimandel \\n@GaiaGirl : Remember how the naysayers said addressing the human inputs that contribute to climate change would be too costly?\\nI wonder how much this is going to dig into France\\'s economy.\\n#climatechange #extremeheat #rivers #itishappeningnow https://t.co/tgwiuYXx5r \\n@DhirubhaiTweets : @GaiaGirl Nature also has a capacity of its own... \\n@UnitExpEmerServ : #ClimateChange is a huge #force that affects not only every inhabitant of the #planet &amp; the atmosphere, but the geosphere too. The real reason of climate change is astronomical cyclicity.\\n❓Is our #society ready for such a scenario?\\n#UnitingEmergServices https://t.co/g4JsrmBBpK \\n@muzikanaty : @UnitExpEmerServ @KamilMroczk 😨 \\n@RingoSt96374813 : @UnitExpEmerServ Don\\'t get fooled. This is a misanthropic, science denying #EvilCult trying to recruit people for power and money.\\n#CreativeSocietyExposed\\nhttps://t.co/MUn6co3cOt \\n@MaryStep18 : @UnitExpEmerServ No. Our society is not ready for #climateCatastrophe  And only the  #unification of all mankind will save us from death. We need a #Creativesociety \\n@xandthe : @IntlPaperCo @AnchorPaper @Huggies @StaplesCanada @officedepot @HP @swantex_ltd @KCCorp @ProcterGamble \\nThe Global Game Changer to save lives and the environment: stop tree destruction use quickly renewable \\nKudzu vines grow multiple feet overnight\\n#climatechange #Globalwarming \\n@xandthe : Vines not trees is a new channel of long term revenue, cheaper to produce + process, less labor intensive, massively more profitable, converted + created cheaply, pollutes less, allows newly planted trees to reach the actual maturity needed for the environment to stabilize. https://t.co/jY0Ld2Pf6M \\n@jain_rajii : I w̗ill write articles in 24hours on #nfts, #crypto, #blockchain #metaverse, #defi, #web3, dao 🖐\\n#newmusic #fnaf #sfm #climatechange #nowplaying #edm #techno #trance \\n\\n👉👉https://t.co/lY6jO3V05b https://t.co/nToeTdxsn3 \\n@Nonetotosatosa1 : @jain_rajii How come everyone is silent on this? https://t.co/o7s7gHeNjd . ... \\n@tanocamunduq : @Nonetotosatosa1 @jain_rajii yeah man you can try this \\n@LilyGrace8790 : @jain_rajii 3LOUC NFT, graphics on steroids This is not your typical NFT🙅. Each of the 315 pieces is based in mathematics and physics and uses GPUs to construct the images. The amazing Science-y NFT awaits you😵\\u200d💫! Follow us on 👉 @3louc \\n@Slartib49836743 : He\\'s touted so many months to save the NHS as often as Al Gore predicts the Arctic ice melt. #ClimateScam #ClimateHoax #ClimateGrifters #ClimateCrisis #ClimateEmergency #ClimateAction #WEFcrimesAgainstHumanity #WEF #dutchfarmers #globalwarming Support the world\\'s farmers. #Resist https://t.co/9MmDK6Y3Vp \\n@PCarterClimate : FOSSIL FUEL HEAT TORCHES EUROPE\\nEurope big 2022 record wild fires,\\n56% more than 2017 record  \\nLand area burned across Europe is double the 2006-2021 average while the cumulative number of fires is four times average \\nhttps://t.co/QuaUxLBIX2 #globalwarming #fires #climatechange https://t.co/PE6lVtxHAI \\n@Slartib49836743 : Hear hear. #ClimateScam #ClimateHoax #ClimateGrifters #ClimateCrisis #ClimateEmergency #ClimateAction #WEFcrimesAgainstHumanity #WEF #dutchfarmers #globalwarming Support the world\\'s farmers. #Resist #ScrapNetZero https://t.co/REuo0eZ0W5 \\n@anchboy71 : @Slartib49836743 Morons. Net zero at today\\'s numbers means 15 ppm less of Co2. Are ppl really that stupid to think 15 ppm less of Co2 is going to change the climate of the earth\\nTotal Co2 - 419 ppm. Man-made 3.6% = 15 ppm \\n@adinfuchs : 👋 @SenSchumer @SpeakerPelosi thank you for your work on #climatechange! The world needs you to protect forests and support tree planting NOT fossil fuel subsidies for super polluters. Will you support a reconciliation package that puts an end to fossil fuel subsidies?🌎🌎🌎 \\n@VoteRaoulDuke : #ClimateChange has come &amp; Big Changes Are Happening All Over Our Planet so We Must Be Ready to Rise To The Challenge &amp; Use It To Our Benefit. You can Argue Whether It’s Man Made or Not,(It Is), but the Fact is, It’s Here Now &amp; if we Don’t Do More To Prepare, We Will Perish! 3/ \\n@Outside1791 : @pattonoswalt The #BIDEN administration is shutting down energy production and is DELIBERATELY causing #INFLATION and #SHORATGES to fight #CLIMATECHANGE \\nBiden\\'s constituents favor the #WARINUKRAINE because of it\\'s effects on the #OIL industry\\n@rogerwaters @elonmusk \\nhttps://t.co/vnqp7xoGfm \\n@Outside1791 : @pattonoswalt #DEMOCRATS are shutting down energy production and are DELIBERATELY causing #INFLATION and #SHORTAGES to fight #CLIMATECHANGE - #BIDEN constituents favor the #WARINUKRAINE because of its effect on the oil industry. \\n\\nEconomy Reset - #BuildBackBetter \\nhttps://t.co/wCob0jk8pi \\n@Outside1791 : @pattonoswalt From Jerome Powell, Chairman of the Federal Reserve: Not #RUSSIA , not #COVID19 - But #POLICY is RESPONSIBLE for #INFLATION and #SHORTAGES - #DEMOCRATS are shutting down energy production to fight #CLIMATECHANGE\\n\\n https://t.co/AHOqlv1sGM \\n@Outside1791 : @pattonoswalt #DEMOCRATS are shutting down energy production and are DELIBERATELY causing #INFLATION and #SHORTAGES to fight #CLIMATECHANGE. If you are suffering because of inflation, KNOW that the #DEMOCRATICPARTY is responsible.\\n\\nEconomy Reset - #BUILDBACKBETTER\\n\\nhttps://t.co/Lr8oVGGo7Y \\n@Outside1791 : @SueGibb80340378 @pattonoswalt Knowledge of Biden\\'s corruption might have influenced the election, had social media not burried it. #DEMOCRATS are shutting down #ENERGY production and are DELIBERATELY causing #INFLATION and #SHORTAGES to fight #CLIMATECHANGE\\n\\nhttps://t.co/0G2ympHnXJ \\n@Outside1791 : @hamlet_3_1 @pattonoswalt #COVID19 #WORLDECONOMICFORUM \\n\\nEconomy Reset - #BUILDBACKBETTER\\n\\n@BrianMastFL SHAMES @USRepKeating\\nover #DEMOCRATS shutting down energy production and deliberately causing #INFLATION and #SHORTAGES to fight #CLIMATECHANGE \\n\\nhttps://t.co/X2MCgmKp2f \\n@GND4BHM : What could sustainable development look like for the city of Birmingham? Join us as The Green New Deal for Birmingham discusses how we can band together for a new, green, Magic City. Use the link in our bio to register now! #climatechange #environmentaljustice #gnd4bhm \\n#bham https://t.co/B2Adaq9snp \\n@FriedelHenry : #climate #climatechange #climatehoax #co2\\nWorld\\'s top climate scientists told to \\'cover up\\' the fact that the Earth\\'s temperature hasn\\'t risen for the last 15 years\\nhttps://t.co/AWLYCKOYzU \\n@TinTincognito : @FriedelHenry Aug 18 EWE:  “We shouldn’t be worried—we should be terrified,” says Camilo Mora, an associate professor in the department of geography and environment at the University of Hawai‘i at Mānoa.  1/2 \\n@TinTincognito : @FriedelHenry “What we are dealing with here is between something bad and something terrible,” depending on what actions are taken to curb climate change.  2/2 https://t.co/KeEwNRHOLp \\n@kenoconnor18 : @FriedelHenry Who would have thought.\\nAnd the hoax scientists state CO2 at 0.03%, the giver of plant life and CH4 at 0.0002%, our beloved cows, are the cause of climate change. #Wakeupworld because #Milankovitch has another celestial idea and solar scientists &amp; geologists understand the truth. \\n@bioluisinho : 12 dead, &gt;75 wounded across #Europe by a cat.3- like freak storm known as “derecho”. 👇🏼\\n\\nLikely fuelled by the unusually high temps in the #Mediterranean sea surface.\\n\\n#extremeEvents #climatechange\\nhttps://t.co/oVJSgJIBSq https://t.co/Z4lYJUf7Eu \\n@stocksandnews : New #Weekinreview #Ukraine #Russia #Zaporizhzhia #Fed #WallStreet #Eurozone #China #Taiwan #Afghanistan #LizCheney #trump #ClimateChange and more....https://t.co/EztyWb6Qua https://t.co/KbRfzRmWEn \\n@SwerianBot : Hey @stocksandnews #Theiving @realDonaldTrump is a blatant scoundrel. #Trump #MAGA #RacistInChief #RapistInChief #cult45 #AmericsFirst \\n@steveat31545038 : @BrianAlex665 @Noisynanawarat1 Barbarian QAnon, Neocon, Neoliberal tribes aren\\'t just at Australia\\'s gates, they\\'re already inside \\n\\n#FossilFuels #Murdoch #LNP #auspol #GlobalWarming \\n@Rich_Applegate : So @Tesco when are you going to stop selling these? #wedidntstartthefire #wildfires #britainisburning #tesco #fire #climatechange https://t.co/v1nwAF1Unc \\n@NothingNewUnde1 : @Rich_Applegate @Tesco Don\\'t be so wet. \\n@Lashanti_Siren : Join us this Sunday as we discuss #Disasterology with PhD student, Trevor Johnson!\\n\\nLearn about #DisasterManagement and #ClimateChange \\nSEA you there, at 4pm, LIVE on Facebook and Youtube\\n\\n#Bahamas #SirenSundays #LashantiTheSiren https://t.co/NjJMGHpvRz \\n@TwittaPuss : Follow the science 😂 #InflationReductionAct \\n#climatechange #ClimateCrisis #ClimateScam https://t.co/Lx8tqDqTCZ \\n@den_bib : @TwittaPuss @climate_fact You know using @brianstelter actually weakens your argument. Seeing that this guy is on your side. Makes you look dumber \\n@TwittaPuss : @den_bib @climate_fact @brianstelter Kind sir, given that you call yourself a “data scientist”, while failing to accurately analyze and interpret such a minuscule data set, is an almost tangible indication that you are significantly dumber than you perceive yourself to be. #IAmTwittaPuss \\n@den_bib : @TwittaPuss @climate_fact @brianstelter I do not refer to my self as a data scientist. It is the job title my employer gave me per my contract with them. \\n@CMBrooksPowers : Earlier this week the @NYCCouncil #TransportationAndInfrastructure committee convened a hearing to discuss they City’s management of our infrastructure in light of #climatechange. Today, I toured Radcliff Ave w/@cmmvelaz, @NYCWater, @NYC_DOT, &amp; @MTA meeting local residents. https://t.co/wUjXkzYooo \\n@EricEisenberg20 : @CMBrooksPowers @NYCCouncil @cmmvelaz @NYCWater @NYC_DOT @MTA We do have actual climate-change reducing bills out there you haven’t cosponsored yet, like https://t.co/2P9lXGEejd of @alexaforcouncil to reduce idling emissions and https://t.co/qyHmmxopL6 of @CMRestler to increase space for walking/biking/busing/\\U0001f9bd . Please help the 🌍 \\n@Ridgefood : @CMBrooksPowers @NYCCouncil @cmmvelaz @NYCWater @NYC_DOT @MTA Still waiting on that protected bike lane on Cypress Ave that you &amp; @BobHoldenNYC suggested. We\\'ve had zero infrastructure improvements in Ridgewood since then aside from a few stop signs, and last week a hit-and-run driver killed our neighbor. Ridgewood deserves safe streets. \\n@RidgewoodRides : @CMBrooksPowers @Ridgefood @NYCCouncil @cmmvelaz @NYCWater @NYC_DOT @MTA @BobHoldenNYC Thank you. We are waiting on CitiBike expansion too  (supposed to be done here already, but hasn\\'t even begun).\\nhttps://t.co/qWiQYryoKl \\n@TheChouffe : @CMBrooksPowers @NYCCouncil @cmmvelaz @NYCWater @NYC_DOT @MTA One of the biggest contributors to climate change in the city is cars. Please include pedestrian and bike friendly infrastructure in your climate planning. Bike and pedestrian lanes calm traffic and can be surrounded by native plants to decrease flash flooding in our basements. \\n@RAN : Why can\\'t he get it through his thick skull? The burning of fossil fuels contributes to #climatechange. Not to mention frontline communities are poisoned by oil &amp; gas extraction every day. The story here is clear: @Chase is the ultimate climate villain. https://t.co/7XpWy22bsF \\n@ElizabethSuazo : @RAN @Chase @Chase and any other financial institution that provides financing for oil and gas activities. \\n\\nChase- indeed leads the pack, but this is a systemic issue supported by private equity investors and financial institutions.\\n\\nThe all need to make a quick buck in the short term. \\n@chngin_the_wrld : Turns out we\\'ve known for over a century that use of #FossilFuels could adversely affect the #environment. Look at this headline from 1912!\\n\\n  #climatechange #climateaction #coal #globalwarming https://t.co/cwdlEZAU8i \\n@MikeNelson247 : @chngin_the_wrld We know that the science dates back even further! https://t.co/bHQy2rrdMV \\n@DecisionLab : I’ve had the privilege of working with @LaurenLutzke for the last 5+ years. She’s a terrific scientists, a great colleague, and — best of all — a true friend. She’ll be on the academic postdoc and job market soon. My advice: Don’t let her get away. #decisionmaking #climatechange https://t.co/3GY3jfMBrc \\n@kamyakhavan : @DecisionLab @LaurenLutzke Lauren is the best! \\n@MikeNelson247 : The science of understanding climate change is not new!  We have known the effect of CO2 for a very long time! @denverchannel @nwsboulder #cowx @climatecentral #GlobalWarming #climatechange @weathergeeks @ametsoc @airscottdenning https://t.co/Evtqv28MpT \\n@NHuskinds : @MikeNelson247 @DenverChannel @NWSBoulder @ClimateCentral @WeatherGeeks @ametsoc @airscottdenning What\\'s amazing is that there are so many people who now believe you can alter the composition of the atmosphere without consequence. \\n@airscottdenning : @MikeNelson247 @DenverChannel @NWSBoulder @ClimateCentral @WeatherGeeks @ametsoc Climate warms when CO2 increases for the same reason day is warmer than night, summer is warmer than winter, and Phoenix is warmer than Fargo: adding heat to things increases their temperature! 💡💡 \\n@tinacornely : #ClimateChange #WakeUpCall: Does anyone realize how catastrophic this is? https://t.co/k7yO89WJlD \\n@lovemoz1 : @tinacornely #Rivers #Europe #NuclearPowerPlant #Tourism #Drought #FreshWater \\n@DavidMarkoMiami : @tinacornely We have allowed insanity to replace simple prudence, science, rationality. \\n@RealRadixZee : @tinacornely @SoilEcon The news has been fairly quiet about the loss of glaciers in South America. This glaciers provide much of the fresh water for many countries \\n@HarnessEnergy1 : @tinacornely @ECOWARRIORSS With no ice melt from glaciers feeding rivers get ready for regular droughts. \\n@GDadais : @tinacornely Not the shareholders, lobbyists, financial markets specialists, bankers, etc.\\nThey either have a plan B or they\\'re so delusional that they think the market will find a magical solution.\\nUnless they\\'re taken down and speculation is (at minimum) heavily taxed, no changes will come. \\n@axelify : @tinacornely It\\'s just mind blowing how many  Americans posting under the Reuters\\' tweet, are saying,  that it\\'s all *just a hoax* or *who cares*. \\n@ShaderCache : @tinacornely Germany make/export most of the luxury and high-performance cars on the planet... so\\n\\n... perhaps this is nature saying it\\'s best to not be doing that.\\n\\n#ClimateChange #WakeUpCall \\n@Lorilea92497823 : @tinacornely @SCROTUSinChief does this mean europeans are not immune from extinction? oh my. \\n@Theranello : @tinacornely @NeilSalter4 These estimates are usually overly optimistic. \\n@jeffbrockga : @tinacornely This is a disaster in n the making. \\n@WeiZhangAtmos : @tinacornely @climatemessages New York City was under a mile of ice 18,000 years ago. Ice has been generally melting around the earth ever since then in fits and starts. Amazingly, humans have thrived \\n@rdqBlueRidge : @axelify @tinacornely Because we’ve been hearing this drama for decades…… \\n@Galileo62303273 : @tinacornely People ignorant of history, recent history will say such stupid things. \\n@GregoryMakles : @tinacornely In the 80s similar articles announced disappearance of German Forest due to acid rains within a few years. Since then they strived and expanded.\\nI panicked back then. Now I advise caution. News gonna news. \\n@strange_au : @tinacornely Do you think anything we do can stop it? #ClimateCanutes \\n@AHoulu2 : @WeiZhangAtmos @tinacornely @climatemessages Glaciers melt revealing ancient forest or evidence of human activity in many parts of the 🌍\\n\\nTell me again how this can be a sign of CC 🙄 \\n@JackiePaper12 : @GregoryMakles @tinacornely Yeah but they actually took measures to stop acid rain by instituting SO2 and NOx emission controls. Just like the ozone hole was closed by banning CFCs. \\n@GregoryMakles : @JackiePaper12 @tinacornely Except at the time, the articles weren\\'t saying (at all) that this could be solved simply. Like for climate, both were presented as impending doom that would be very hard to advert, not the non event fixed /wo the gen pop even noticing anything they were. \\n@GregoryMakles : @JackiePaper12 @tinacornely Environmental agencies constantly improve standard and guidelines for the industry. This really could have stayed at that level. If you start making up excuse \"but there was a fix needed\" without really looking at what actually happened politically, you\\'re asking for more. \\n@GregoryMakles : @JackiePaper12 @tinacornely Maybe the disappearing glacier are real, and maybe they\\'re a clickbait in a field that has a long history of harvesting peoples propension for scary news to make money. Not to saying it\\'s that here, but don\\'t make my mistake - don\\'t take anything on face value. \\n@GregoryMakles : @JackiePaper12 @tinacornely Some digging - fascinating story btw https://t.co/GUG4iQ0gX9 \\n@ATomalty : @tinacornely Those glaciers have been receding for 100\\'s of years. \\n@oceancape : @tinacornely Image what they were saying in 1800, all of the ice in Glacier Bay Alaska will be gone by 1900, do you know how catastrophic this is! \\n12,000 cubic kilometres of ice melted in the 1800\\'s https://t.co/xcsBa27Rod \\n@helloluis : CRYPTODAY 093: Preparing for the Ethereum Merge\\n\\n🔸When is the #EthereumMerge happening?\\n🔸Will the #Merge save us from #climatechange?\\n🔸What\\'s that new forked $ETHW token?\\n\\nhttps://t.co/6Sz6uDbesO 👈\\n\\n#cryptoph \\n@ayadotifitun : @helloluis Will this be the history in the makingg?????? https://t.co/o2N4arefvG ... . \\n@Tonoteatetutom1 : @ayadotifitun @helloluis LFG!! \\n@PCarterClimate : RAPID INCREASE IN OCEAN ACIDIFICATION\\nOcean acidification (pH inverse) is accelerating a direct result of CO2 emissions. Increases on all scenarios. \\nAt 1.5°C increase is substantial, comparatively more at 2°C. Adds to ocean heat &amp; deox, coral damage \\n#climatechange  #oceanlife https://t.co/IrKaJwu4Vf \\n@stebbinglh : @PCarterClimate ACID RAIN  2.0  .... Remake from 1974 \\n@CaCO3planetary : @PCarterClimate 1.3°C NOW. \\n@MasterblasterMs : @PCarterClimate Yet we dither &amp; protagonise, even while some solutions are ready to go\\n\\nI would like the shipping companies to step up: MSAR has already shown to produce &gt;20% less CO2 &amp; reduced NOx.\\n\\nBut the industry stalwarts refuse to adopt it, &amp; global policy too frail to enforce 🙈 \\n@TheCaz64 : @PCarterClimate As the oceans warm, water dissolves less gas.  So the oceans will hold LESS CO2 and be less acidic as the temperature warms.  I forget which chemical law this is, but it is a law.  (Henry’s law?) \\n@brandall9481 : @PCarterClimate Existential threats: ocean acidification; air pollution; climate change; record heat waves; purchasing fossil fuels from cartels and despots and associated wars, deaths, famines, and wasted resources and opportunities\\nNOT existential threat: spent nuclear fuel \\n@fernox628 : @PCarterClimate But the ocean is still ALKALINE! \\n@fernox628 : @PCarterClimate Ocean water is not overly\\nacidic.\\nA pH of 7 is considered\\nneutral. A pH below 7 is acidic.\\nA pH above 7 is alkaline.\\nThe pH of the oceans averages\\n8.1, and it ranges from 7.8 to\\n8.5. By comparison, rainwater\\nis “acidic,” averaging 5.6. \\n@fernox628 : @PCarterClimate Since 1850, the pH of surface\\nocean waters has fallen by\\nmerely 0.1 pH units. \\n@fernox628 : @PCarterClimate The health of ocean life is\\nimproved, not harmed, by\\nmore carbon dioxide (CO2).\\nCO2 is food for phytoplankton\\nthat form the foundation of\\nthe marine food chain. Marine\\nlife thrives and improves\\ngrowth rates in elevated CO2\\nconditions. \\n@PaulMayerstaken : @TheCaz64 @PCarterClimate You might be correct about Henry\\'s law, but as the co2 increases in the atmosphere the rate of absorption by the ocean also increases and that has resulted in the oceans becoming more acidic. \\n@GregShephard1 : @PCarterClimate You are a liar or an idiot. That missive is scientifically illiterate nonsense. Complete bollocks. \\n@GregShephard1 : @PaulMayerstaken @TheCaz64 @PCarterClimate They are NOT acidic you incorrigible moron. \\n@TheCaz64 : @PaulMayerstaken @PCarterClimate I do lot think it is possible for the oceans to become acidic.  They are double buffered with carbonate and phosphate.  And extra dissolved CO2 becomes bicarbonate and then CaCO3.   So long as we have limestone and coral reefs, the buffer will keep pH 7.8 -8.2. \\n@TheCaz64 : @PaulMayerstaken @PCarterClimate I do *not \\n@PaulMayerstaken : @TheCaz64 @PCarterClimate OK, but you have given yourself a lot of room. \\n\\nA pH of 7.8! \\n@TheCaz64 : @PaulMayerstaken @PCarterClimate pH 7.8 to 8.2 is normal range. I doubt you will find seawater outside this range except for industrial runoff areas. \\n@PaulMayerstaken : @TheCaz64 @PCarterClimate I assumed we were talking about global average. \\n@EthonRaptor : @stebbinglh @PCarterClimate We solved that problem in spite of denial \\n@carbonfarmer : @PCarterClimate 1/2 Yes. 30 - 50% of all emissions are being absorbed by the seas. \\n\\nThese emissions come from deep ground carbon fossil fuels. \\n\\nThe chemicals they make degrade soil carbon levels in soil impacting soil health and water cycles. \\n\\n#sdgs #climate @POTUS #carbon #ClimateCrisis \\n@carbonfarmer : @PCarterClimate @POTUS 2/2 so ground carbon is being depleted by fossil fuels and the sea and atmosphere is where it ends up.\\n\\nAnswer - replace fossil fuels with crop fuels. Great for the agroenergy sector, and rebuild the organic soils and put the carbon back into the ground. \\n\\n#SDGs #climate \\n@carbonfarmer : @PCarterClimate @POTUS 3 - It is the ONLY CARBON SOLUTION THAT WILL WORK.\\n\\nLow tech, the capacity is already in place and the technology is proven. \\n\\nStop wasting time - transition NOW. \\n\\n#sdgs #climate @POTUS #LizTruss \\n@BerndRae : @PCarterClimate #tippingpoint #Kipppunkte #nowayreturn\\n\\n@BMWK @Umweltbundesamt @Ricarda_Lang @clausvonwagner @CKemfert @beyond_ideology @georgrestle @ZDFfrontal @janboehm @Luisamneubauer @parents4future @rahmstorf @c_lindner @RaykAnders @TiloJung @spdbt @cducsubt @TerliWetter @sciforfuture https://t.co/XyZTIZxocO \\n@Peter08946 : @PCarterClimate If you’re worried about this immediately give up your vehicle and walk, bike or use public transit \\n@Soothsa12801949 : @PCarterClimate There are crucial, eye-opening facts about CO2 and global warming and authoritative supporting citations people need to know and understand at:\\n\\nhttps://hseneker.blogspot. com\\n\\nSome citation links are very educational.\\n\\nIf you agree, please retweet.\\nS \\n@PCarterClimate : DROUGHT HURTING AMERICAN FARMERS\\nNew survey by the American Farm Bureau Federation\\nhttps://t.co/Wfaz28KtoO\\nUSDA Rapidly intensifying drought gripped central, southern Plains, mid-South, stressing rangeland, pastures, and various summer crops.\\n#climatechange #drought #food https://t.co/pObitg9Z7w \\n@Bobby_Don_Welch : @PCarterClimate 💔💔💔 \\n@ForeverForLabor : @PCarterClimate California is becoming completely unsuitable for Ag.  I\\'m buying land in west michigan before the prices start going through the roof \\n@MseanIname : @PCarterClimate And this is year one globally \\n@DDNewslive : Wildfires, heatwave, floods - European countries are struggling with severe effects of #ClimateChange\\n\\n@ShreyaOpines explains what\\'s happening where: https://t.co/mrvC7rQSya \\n@SwetaSi02367902 : @DDNewslive @ShreyaOpines #climatechange \\n@Sanjay89741853 : @DDNewslive @ShreyaOpines It is a worldwide explosive phenomenon witnessed in many countries.\\nClimate change and its effects are like a wailing siren to the material world.\\nChange in lifestyle and mindset is of utmost importance.\\n#ClimateAction \\n@NoSh2g : @DDNewslive @ShreyaOpines The efforts made at individual level matters more than the efforts made by governmental and corporate level. We are the facilitator of this menace. \\n@PCarterClimate : CURRENT WORLD DROUGHT\\nNOAA   SPEI  1 month \\n(Standardized Precipitation Evapotranspiration Index)\\nhttps://t.co/RzCm3UlHMn\\n#climatechange  #drought https://t.co/yXpCEmiyn7 \\n@Kenarf : @PCarterClimate . S\\'funny, I thought Madagascar was under the cosh... \\n@KevinDa11665170 : @PCarterClimate Looks like 1976, but not so red \\n@changeisnow123 : @PCarterClimate @rhosking252 Stop weather modification, and this map will transform DRAMATICALLY! \\n@NeelkamalTOI : #ClimateChange #ExtremeWeatherEvents a span of railway bridge caves in after flash flood near Pathankot on Punjab-J&amp;K border https://t.co/SpRcDP8oId \\n@Office_of_SR : @NeelkamalTOI It\\'s Pujab - HP border. Correct yourself. \\n@AnimeGyaan : @NeelkamalTOI @LicypriyaK Its not punjab j&amp;k border \\n@arjunkumar009 : @NeelkamalTOI @LicypriyaK 90years old bridge era bridge \\n@AndrejVesmir : @NeelkamalTOI @LicypriyaK Hope everyone is safe! \\n@veryzenny : @arjunkumar009 @NeelkamalTOI @LicypriyaK Still important. How old is the Bklyn Bridge? \\n@janisward : @NeelkamalTOI @GhoshAmitav This was the route many used to take from Delhi - Pathankot - to Dharamsala. \\n@NikhilGalhotra1 : @NeelkamalTOI @LicypriyaK 🙏🏻🙏🏻 waheguru \\n@hope122333 : @NeelkamalTOI 😱 \\n@ssoni0120 : @NeelkamalTOI Engineering failure or something else? \\nshould not be happen. When it was constructed? \\n@AntiImp02431637 : @NeelkamalTOI Made in |ndia \\n@SinghNagi2 : @arjunkumar009 @NeelkamalTOI @LicypriyaK Desh ki azadi see pehle ka hai agar Kisi indian govt me bnaya HOTA toh yeh 2 Saal bhi nhi chalta \\n@ViralPressTeam : @NeelkamalTOI Hello! I am a researcher from Viralpress, an international new agency based in Thailand. We are covering the news of Flood and wanted to include your video. Is it possible to use it on our network with due credit to you? Detailed are attached below. Thank you https://t.co/rgkijWa86d \\n@janrobinjackson : @NeelkamalTOI @BeeAsMarine #ProtectOurPlanet🌍🌎🌏\\n#ClimateActionNow \\n@ReluctantlyE : @MaajidNawaz @thecoastguy #GlobalWarming might be a misnomer\\nand #ClimateChange has been happening for billions of years\\n\\nBut even IF we\\'re NOT having the impact suggested -\\n\\n- should we continue to; mine, drill, suck, burn, consume &amp; pollute ...\\n\\n... at the *rate* we have this past century? \\n@WHOAFRO : Make sure you tune in for the 72nd @WHO Regional Committee for #Africa 🌍 kicking off on Monday 22 August! Leaders in health will be addressing key issues in #Africa, including #NCDs, #ClimateChange, #Malaria &amp; more. \\n🔗 https://t.co/bUvlkGbA3r\\n\\n#RC72AFRO https://t.co/xpwgK4duAv \\n@samia3baid : @WHOAFRO @WHO How can we join as a sponser plz? \\n@Kerry18484529 : @WHOAFRO @WHO Climate change is another method of taxing people for nothing. The solar system is changing and going to its cycle too!! Had NITHJNG to do with the human race. \\n@Kerry18484529 : @WHOAFRO @WHO Today\\'s global warming is a mere 0.1°C warmer than the 1979-2000 average global temperature.\\n\\nThat\\'s not even measurable.\\n\\nIt\\'s all a hoax. https://t.co/wBg0bYeurk \\n@EarthKeeper22 : We can\\'t go back &amp; change the #beginning, but we can start where we are &amp; change the ending... C.S. Lewis\\n\\n#climate #GlobalWarming #fossilfuel #deforestation #plastic #pollution #ecosystem #biodiversity #Health #life #extinction #nature #SaveTheWilds #EarthKeepersUnite https://t.co/TyzBPwQcNK \\n@EarthKeeper22 : @BankOwen @GeraldKutney @KaraJarina @LeoDiCaprio @MarkRuffalo Hi Bank ...Do you own a copy of the White Paper?\\n\\nIf so, I suggest posting informative &amp; educational excerpts from it on #EarthKeepersUnite. The pinned Tweet on my profile page explains what the # is😉🌎🌍🌏... 🦋LJC \\n@punky_zoolander : @EarthKeeper22 @GeraldKutney @KaraJarina @LeoDiCaprio @MarkRuffalo In my estimation, it is too late and most of us do not know how to change our ways especially those in power. https://t.co/PDreQMR4hV \\n@EarthKeeper22 : @punky_zoolander @GeraldKutney @KaraJarina @LeoDiCaprio @MarkRuffalo Hi Punky ...\"In my estimation, it is too late\"\\n\\nChange is most certainly looming on the horizon. The degree of said change rests upon the actions taken through till the if/when collapse occurs... 🦋LJC \\n@zikwe_m : @EarthKeeper22 @GeraldKutney @KaraJarina @LeoDiCaprio @MarkRuffalo Sublime Brilliance Linda...you have such far-out surrealistic artistic vision! -🧐 \\n@BrendaChoi19 : @EarthKeeper22 @GeraldKutney @KaraJarina @LeoDiCaprio @MarkRuffalo Earth needs to change the future \\n@Hildyby : Last year too much rain, now drought #climatechange is real https://t.co/Rg4O9UnqMS \\n@Marie38316686 : @Hildyby 😱😱😱😳 \\n@calabapcy : @Hildyby 😭😭😭😭😭😭 \\n@FathiBashe : As evidenced by the inspiring youth movement around #ClimateChange, as well as civil society mobilisation around the #SDGs &amp; #Agenda2063 in the #HornOfAfrica, people are ready for change. They expect ambitious actions from the @_AfricanUnion &amp; its member states. #LeaveNoOneBehind https://t.co/KITx44Oxju \\n@meganranney : Remember when people accused #climatechange scientists of being “alarmist”? https://t.co/HJma47x7dD \\n@geneseedreams : @meganranney We are right and truly f***ed. \\n@crossjacktar : @meganranney That pic is shocking, but the Loire has not evaporated. That is a channel one side of an island, the main river is the other side. Still bad. \\n@BillJonez1 : @meganranney What is missed by the general public is how guarded /conservative scientists are in coming to conclusions.\\nClimate change is accelerating much faster than the conservative scenario spoken about the last few years. \\n@JeromeAdamsMD : @meganranney I remember a lot of things. About climate change, covid, and number of other situations when people were called alarmists. Unfortunately there’s never a mea culpa (and it doesn’t matter in hind sight anyway)… \\n@WeRBeingPlayed : @JeromeAdamsMD @meganranney Sounds like the world needs a Great Reset \\nDon\\'t you think? \\n@JonathanFoulds : @meganranney This is Swatara Creek in Central PA. Lowest I have ever seen it. I wonder how many rivers are drying up across the world? https://t.co/smFANDJR1i \\n@The_Jerf : @JeromeAdamsMD @meganranney This is also the Loire. Taken about 6 weeks ago. Maybe you should clarify a “portion of the Loire” https://t.co/S4Z0gxqLum \\n@quorlia : @crossjacktar @meganranney There were places where the Dreisam in Freiburg appeared to be dry but I think it was running under the rocks. The channels in the city were pretty much all empty. \\n@crossjacktar : @quorlia @meganranney Rivers are very low across Europe, reducing navigation in important rivers like the Danube, but the Loire is still there, just much lower. Several rivers in the UK are now shorter than they were as their sources move down stream. \\n@davidsteele9000 : @meganranney Yeah, either it was today or yesterday. \\n@facts1st2020 : @meganranney The climate has changed throughout the history of planet Earth. \\n@vendro2000 : @meganranney I remember when climate alarmists didn’t, and still don’t, have any hard evidence that humans have much effect on the climate. \\n@vendro2000 : @meganranney I also remember when half of North America was covered by ice.  Somehow it all melted with any human intervention.  How can climate possibly get warmer without humans being responsible? \\n@vendro2000 : @meganranney Under the heading of “I bet you didn’t know”. You can check my math. \\n\\nCO2 accounts for .037% of our atmosphere.  Of the .037%, humans account for at most 5%.  One major volcanic eruption would dwarf anything humans produce.  Of that 5%, the U.S, contributes around 11%.   So….. \\n@vendro2000 : @meganranney …for the sake of attempting to reduce 0.0002% of the world’s CO2, some in our govt are willing to spend 100’s of billions of dollars of our money, lose our energy independence and increase our out of control inflation. \\n@HansaBhargavaMD : @meganranney @BenjamminGold Sigh. So sad. \\n@HHicksma : @meganranney Way to post a picture of a fork of a river that OFTEN goes dry!  🤣 \\n@weszxc : @meganranney I wish leaders would wake up and start making changes. \\n@sarahloukelly68 : @meganranney It\\'s summer. \\n@LongLiv04611701 : @meganranney Lies 😆😂😆😂😆🤡🤣🤡🤣🤡 \\n@StevenMWinkler : @meganranney China, France, Germany, USA(Colorado) and it’s going to get worse. This is why MSM is so stuck on politics, because they can’t show the disaster happening in real time or panic would set in. \\n@jimmyjammy1818 : @meganranney Soooo.....it happened 2000 years ago...yet, its \"climate change\". Got it. \\n@MrBargill2019 : @meganranney Shows that  Mad Max is not too far fetched eh? \\n@Jiggypeters1 : @StevenMWinkler @meganranney Ummm. That’s all they do is cause panic. They don’t show it because it’s not the right time politically. They’ve done nothing but run cover for their preferred politicians. They will turn the volume up around election time. \\n@Jiggypeters1 : @BillJonez1 @meganranney They are guarded because dissenting opinions get shit on and defunded. They have been since Obama’s 97% lie. \\n@BillJonez1 : @Jiggypeters1 @meganranney Sorry don\\'t buy that argument. Do you have several examples?\\nIn fact industry spends huge sums to greenwash and structure research. \\nSee Clair Patterson\\'s story or look at Koch donations to MIT.\\nhttps://t.co/ZWtTGX01h5\\nhttps://t.co/qTgIj931Dx \\n@stockmanjr : @meganranney Sadly folks can\\'t be inconvenienced to fight pressing issues. Thank you for what you do! \\n@MikeHudema : Not all farms are small and cozy....\\n\\nThis is the true scale of how farm animals are raised in parts of the United States. Let’s restore our respect for all living beings.\\n\\n#ActOnClimate #climatechange #ClimateEmergency #nature #GreenNewDeal\\n\\n https://t.co/GbAGWNgGYW \\n@ausliebeamleben : @MikeHudema Horrible! And even if the cows are out in the fresh air, it is still animal cruelty! \\n@Awerm974 : @BookofBogan @MikeHudema eat less meat = less carbon &amp; more healthy.\\nThis is barbaric it should never have existed, shame on everyone suporting this \\n@RoryMcEwan3 : @on_tesla @MikeHudema @enn_nafnlaus Dairy or not. Certainly doesn’t look like they get to walk on fresh green pastures \\n@enn_nafnlaus : @RoryMcEwan3 @on_tesla @MikeHudema As a vegetarian (not a vegan), I want a world where animals are treated well their whole lives and not prematurely terminated when they stop being productive. And I\\'m absolutely willing to pay more to have such a world. \\n@HowanCheng : @MikeHudema Is that why free range or cage free is more important than grass fed? \\n@morningsymes : @MikeHudema That is one of the most depressing things I\\'ve seen in my life. With whats going on currently that takes some beating. \\n@CryptoB37280669 : @MikeHudema god \\n@Chaviva9 : @MikeHudema I wonder the animals themselves know this is wrong. \\n@abarroown : @MikeHudema yeah that\\'s not on... \\n@WomanEngland : @MikeHudema Awful. Just awful. \\n@Lolahxoxo74 : @MikeHudema We\\'re all connected, even if we don\\'t like it.  We\\'re part of the same tapestry.  Came from the same primordial lake.  When we do harm to another, we do harm to ourselves.  That\\'s the prevailing message I hear in my head over &amp; over again.  When we harm others, we harm ourselves. \\n@citizencaitlin : @MikeHudema I learnt this years ago through a film called ‘ Food Incorporated’ it’s shocking. Please please if you do eat meat. Eat less!! And cows who are milked; the cruelty involved in this is unbelievable. At least with meat the animal is dead. But 4 years of torture ?! Horrific \\n@jugheadisme : @MikeHudema This is bad.. \\n@perburstrom : @MikeHudema Disgusting! :( \\n@billdill1691 : @MikeHudema Sick!😷 And yet if I go vegan,what am I getting.\\nIs it real,or👀 genetic,good or☠️ poison. \\n@KimMenounos : @jeenee05361820 @PoppaWheelieOG @MikeHudema Sadly most people just don’t give a crap about the welfare of these animals, nor the climate impacts of raising this many of them to feed insatiable yet luxurious appetites \\n@TomHurtado : @Wokeistan @on_tesla @MikeHudema @enn_nafnlaus 🤣🤣🤣 wow. Someone did their research. \\n@TopClimateTweet : @MikeHudema Congratulations! This was the #ClimateChange tweet with the most retweets on August 19, 2022.                \\nBTW, I\\'m a bot that acknowledges good work in the movement, thank you @MikeHudema! \\n@HeathBum : @MikeHudema @MichaelBurea That isn’t a farm. That a torturous feed lot that should be CRIMINAL 😭😤 \\n@cloppyhorse : @WellsSimon80 @MikeHudema I grew up on a small farm. Nice open pasture for the cattle and a big open yard for the chickens. And they were treated kindly until the day they died. Almost as pets. Which made us a little sadder when it was their time, but made for a better life for them. \\n@Suesea123 : @on_tesla @MikeHudema @enn_nafnlaus If you think that somehow redeems this.. check your cold, deluded heart for signs of life. Thx. \\n@JvanRingen : @MikeHudema Het kan altijd erger... \\n@504_dr : @MikeHudema @gemandmoll So gross, so unethical and so cruel.\\nIn a better world, it would be criminal.\\n💔 \\n@UGo94747983 : @MikeHudema Nobody says they are. \\n@TomHurtado : @cloppyhorse @MikeHudema 🤣🤣🤣🤣🤣 \\n@WellsSimon80 : @cloppyhorse @MikeHudema I do understand there is a vast difference between bad and very bad but if I was only able to live a quarter of my life before being killed chopped up and eaten it’s not much solace regardless of how well I was treated before my life was prematurely ended… but im vegan 🤷🏽\\u200d♂️ \\n@PavelVanchugov : @MikeHudema Vegetarian here. I do not support it with my wallet or body. So can you if you choose to. Just like that \\n@skynetazul : @MikeHudema poor animals 👎🏻what kind of life is that 😢 \\n@cloppyhorse : @WellsSimon80 @MikeHudema I\\'m guessing they were less aware of their impending death than say a child in a cancer ward. Quality life and a quick death are the only decent way \\n@ClaraLAldana : @MikeHudema Thanks for sharing and for making this known. It is horrible and unnecessary. \\n@WellsSimon80 : @cloppyhorse @MikeHudema Well as a vegan I suggest the whole practice is unnecessary.  I am perfectly healthy and have not contributed to any loss of life or any animal farming practices in over 5yrs now. \\n@nerysofchi : @MikeHudema This is disgusting and not what I consider farming. \\n@RicardoCastroN5 : @Lejanaysola @MikeHudema Well, this statement is very generic and does not reflect the great preservation of the Amazon rainforest. \\n@RicardoCastroN5 : @Lejanaysola @MikeHudema Recently, in May and June, I traveled through the region.  More than 20,000 km were covered in off-road vehicles, ferries and canoes.  I observed a forest in an excellent state of preservation and with the inhabitants of the region very involved with the environmental issue. \\n@RicardoCastroN5 : @Lejanaysola @MikeHudema In Brazil it is possible to fly over the Amazon rainforest over a greater distance than the distance between Lisbon and Moscow. \\n@RicardoCastroN5 : @Lejanaysola @MikeHudema Recently, new isolated peoples who had never had contact with the “said” civilization were identified.  Where in the world is this possible? \\n@RicardoCastroN5 : @Lejanaysola @MikeHudema The Amazon is in a country that, despite having technology and uranium reserves, signed the nuclear non-proliferation treaty.  It refrained from manufacturing and having the greatest threat - nuclear weapons - that the planetary environment can have. \\n@RicardoCastroN5 : @Lejanaysola @MikeHudema However, it cannot be denied that there are pressures on the Amazonian borders, not in the heart of the forest but in the contact of the Amazon biome with other Brazilian biomes. \\n@RicardoCastroN5 : @Lejanaysola @MikeHudema It is necessary to reinforce some controls, but it is necessary to understand that controlling the irregular entry and use of the forest by a few is extremely difficult. \\n@RicardoCastroN5 : @Lejanaysola @MikeHudema Just think about the American difficulties in controlling the border with Mexico, the difficulties they had in Vietnam and having a pale comparison with the total control of the Amazon. \\n@Elallinir : @MikeHudema ....this is what awaits us if we don\\'t do something now!😓 https://t.co/tc0oK4xezp \\n@RicardoCastroN5 : @Lejanaysola @MikeHudema It also serves as a comparison of the European difficulties in the prevention, control and mitigation of recent forest fires.  This is in a tiny region compared to the Amazon and full of roads that would facilitate government actions. \\n@RicardoCastroN5 : @Lejanaysola @MikeHudema But the best explanation that can be given about the Amazon is by encouraging people to come to know it.  Visit Manaus, Santarém or Belém.  Discover Anavilhanas and navigate the large rivers and igapós. \\n@zwitterio : @MikeHudema Where is this farm? \\n@BookofBogan : @Awerm974 @MikeHudema I agree it\\'s barbaric, but it has nothing to do with the issue of climate change. \\n@Awerm974 : @BookofBogan @MikeHudema cow fart, their fart is a big pollution \\n@Awerm974 : @BookofBogan @MikeHudema they also use a lot of water (to grow what they eat &amp; drink) in france &amp; europe we have very big drought. So reduce meat comsuption mean more land to grow vegetables for us, more water, use less space, less polution, better health(w/ replacing meat with more vegetable). \\n@JfitbestBest : @MikeHudema immoral \\n@1WorldChristine : @MikeHudema @sorenande If this is progress… I think we should all be ashamed at just how little regard we have for life … this is #inhumane this is not #Farming  #husbandry we have a responsibility to say no - this is not the future we want 😢 \\n@rahamdan : @MikeHudema I’ve visited many dairies, this is not the norm at all. Cows need comfort to produce milk. \\n@BLorraineSmith : @MikeHudema @lmmkelley People need to take time to understand context, options, e.g. @judithdschwartz detailed, journalistic books, among others.\\n\\nI am as concerned about life-destroying industrial broccoli as beef (+ reactionary media, too).\\n\\nInvest in/ingest life supporting food. \\n\\nNot sure? Inquire. \\n@sehrler460 : @MikeHudema @aggyanubis You said it perfectly. \\n@SteveDegro : @MikeHudema I try to put myself in their place. What if I was locked up in small pen like that. \\n@SophiaMackay10 : @MikeHudema And now you can already cook a piece of meat without killing a single animal. The taste and vitamins, everything will be at the highest level. Such technologies already exist‼️ Read more #CreativeSociety \\n@ArtLightstone : @MikeHudema Ridiculous. \\n@RobertBoni6 : @Casey_Bretti @MikeHudema Everywhere in the world\\nhttps://t.co/OFbOJR9dWe \\n@sheilaf02615748 : @MikeHudema And it is totally unnecessary to \"feed the world\"  The world wastes about half of the food it produces.  Never eaten.  Maybe even more than that. \\n@baobei2000 : @KimMenounos @jeenee05361820 @PoppaWheelieOG @MikeHudema Most people on the planet don\\'t own a home or any land to grow their own food and raise chickens, sheep etc. Most people don\\'t have the financial flexibility to choose organic and free range consistently.  Our political and business leaders are responsible for this,not consumers \\n@baobei2000 : @jeenee05361820 @PoppaWheelieOG @MikeHudema Well said!\\nAlthough paying more often means double in Australia. And a tight family budget can\\'t always resist the cheaper meat products compared to organic and free range. \\n@Michael03401860 : @MikeHudema Not all hand-wringing bunny huggers are worth listening to. \\n@DefenceSky : @on_tesla @Wokeistan @MikeHudema @enn_nafnlaus Fact check before posting. These are dairy cattle not feeders. Cattle raised for meat don’t use pens of this type. \\n@pitlanepenny : @MikeHudema @wendy_troost Industrial farming of this type, along with damage to soil is why we’re ultimately doomed! \\n@HenaHongNam : @CayLibrary @Casey_Bretti @MikeHudema Dairy farm with out milking machines?\\nI think those are beef on your plate. \\n@jille3832 : @MikeHudema Animal agriculture is destroyed the planet. \\n@RealScience2020 : @ElBarbas420 @MikeHudema Oh yeah, nothing could go wrong there.  How many people won’t take vaccines? Do you think they’re going to trust a lab to “grow meat”? \\n@delomba666 : @MikeHudema Ceci devrait être visible depuis satellite sur Google Earth. Les coordonnées svp? \\n@Wokeistan : @DefenceSky @on_tesla @MikeHudema @enn_nafnlaus Yup beef is typically using feedlots now for mass production https://t.co/ldbK2yAV0X \\n@ElenaLimonta3 : @MikeHudema Yeap....this is the problem. When you think animals are just something you can exploit for money and don\\'t realize you are fed from them and you are a part of that animal. \\n@FunSizedBryce : @on_tesla @MikeHudema @enn_nafnlaus They are trapped there for life because they\\'ll be killed in a few days, that\\'s where they keep the male baby cows for a short time. They kill them as babies and sell them as \"veal\" \\n@Barbara90904486 : @MikeHudema So who supposedly let’s all these cows out and who supposedly puts them all back in these cages.  Drink Soy Milk! \\n@krisoks : @MikeHudema Horrible indeed! \\n@Suesea123 : @on_tesla @RoryMcEwan3 @MikeHudema @enn_nafnlaus That makes no difference.. why would you think it does?? \\n@Nature4Justice : @MikeHudema Same across the globe. \\n@PiazzaKatherine : @MikeHudema What kind of degenerates would mistreat animals in this manner. Greed is all consuming. This company should be prosecuted for cruelty to animals. \\n@cinoandco : @WellsSimon80 @RicardoCastroN5 @MikeHudema The arrogance, mate. He\\'s from there... He knows what it\\'s like. You sure as hell don\\'t know more about his country than he does and we shouldn\\'t just believe whatever the media throws at us. \\n@LeftyGlenn : @MikeHudema These animals ARE respected. \\n@LeftyGlenn : @jeenee05361820 @PoppaWheelieOG @MikeHudema Or, @JeeneeBunchaNumbers with 37 followers, I’ll do what I want. \\n@DoreenM82423557 : @MikeHudema @genebaur How can these farms ever be shut down ???? They are slaughtering so many animals. We have to save the caves and the piggles and the chickens when they are little!! \\n@HermanNagel : @MikeHudema @aggyanubis Barbarians. \\n@chnqin8 : @MikeHudema Some people say eating meat is cruel，Do plants have no life? \\n@FREDYORLANDOBO1 : @MikeHudema 😭😭😭😭😭😭😭 \\n@andy_christophi : @MikeHudema Mike, just curious, are you #Vegan ? \\n@AnnODon11106917 : @MikeHudema @Maria29090495 Miserable. \\n@NatellaVod : @MikeHudema 😡😡😡😡 \\n@tdeb007 : @worldbehind22 @MikeHudema Looks more like a feedlot than a dairy farm \\n@tdeb007 : @VonAlawon @mackay9pinky @MikeHudema Especially when grown in climates that are unsuitable. \\n@tdeb007 : @baobei2000 @jeenee05361820 @PoppaWheelieOG @MikeHudema It has become more difficult in the last few yrs in Australia. I try and avoid grain fed products, and buy my meat from Aldi whenever I can. Their free range chicken, and grass fed beef is cheaper than elsewhere, and they pay producers a decent price. \\n@MarciaR18022957 : @MikeHudema Omg \\n@MarciaR18022957 : @on_tesla @MikeHudema @enn_nafnlaus Where does it show that? \\n@tdeb007 : @monyekgohlo @Casey_Bretti @MikeHudema Have you checked that image recently? Disturbing transport practises. https://t.co/WEDsZe2gZY \\n@tdeb007 : @FDuchastel888 @MikeHudema Same as Australia \\n@jeenee05361820 : @tdeb007 @baobei2000 @PoppaWheelieOG @MikeHudema that\\'s a good tip thanks Tania \\n@jeenee05361820 : @LeftyGlenn @PoppaWheelieOG @MikeHudema cool cool, giggle \\n@OrganicLiveFood : One million species face #extinction due to #climatechange and humans will suffer as a result: https://t.co/14RXI6N8Fm #ClimateChangeIsReal #ClimateAction #ClimateCrisis #GlobalWarming #climatedisaster #polarbears https://t.co/F6dlTouB8b \\n@Walt535176621 : @OrganicLiveFood Not true, fake news! \\n@SommbuddyONE : @OrganicLiveFood They’ve been saying that for over 100 years and the ice caps expanded these last few years. This is a fake news troll account spreading nonsense. \\n@JanW82489029 : @OrganicLiveFood Live a to nature. You  can\\'t do anything that nature can\\'t fix. \\n@s_pangolin : @OrganicLiveFood Talk to big tech… \\U0001faac🎈🔭📧📧 \\n@NewsNancy9 : While a Blue city BLINDLY considers banning gas-powered leaf blowers 🍂🍂🍂 to save the planet —🙄\\nhttps://t.co/LffI7D5d8M\\n\\n🆘— NASA has admits #ClimateChange has ZERO to do with SUVs, or ANY fossil fuels.\\nhttps://t.co/SlPaGt6wWN\\n⚡️NO\\n⚡️FAULT\\n⚡️OF\\n⚡️OUR\\n⚡️OWN\\nas human beings. \\n@rangerider97 : @NewsNancy9 @dpl_3 You cannot control what GOD is in charge of…ALL OF CREATION \\n@rider_stealth : @NewsNancy9 @PerspicaciousXY Morons \\n@atMelsDiner : @NewsNancy9 @BigBluexlt I will say those blowers are noise pollution. \\n@JasnicSlobodan : @NewsNancy9 @tx_blessed Rejecting Rockfellrs Germ theory onse for all fraud science and tagget proppaganda.\\nCO2 sagan story is bluff. \\n@ghhshirley : @NewsNancy9 @Houlasrule2 NASA admitted no such thing. \\nhttps://t.co/oN5EIELqYi \\n@cleansniper45 : @NewsNancy9 Cant fix stupid \\n@NewsNancy9 : @ghhshirley @Houlasrule2 The key word here is ‘ONLY’.\\n\\nPlease don’t quote me from so-called ‘fact checkers’ from R.euters who is virtually possessed by PfiSer.\\n\\nWe’ve heard enough from them. Their credibility account has been permanently suspended. Replies will no longer be monitored. \\n@NewsNancy9 : @ghhshirley @Houlasrule2 Recorded climate change has happened since the dawn of time with few people and zero industry. https://t.co/mvfKSJqlgS \\n@NewsNancy9 : @ghhshirley @Houlasrule2 If you want to side up with the W*E*F that’s your choice. It is unconscionable to force me to make the same choice as you. https://t.co/tEZsgBKIXa \\n@mini_bubbly : I have to comment on this because this Climate Denier - PP - does not get it, he would destroy Canada, will never be PM, and he is out of his mind.  There is no such thing as Clean Natural Gas.  #ClimateChange \\n\\nArticle: https://t.co/j4jcy1iwLL https://t.co/kZjBmVYenm \\n@mr_ted60 : @mini_bubbly Why is every tweet, when I\\'m PM? He\\'s not running for PM, just leader of his party. Drives me crazy. Although most of what he spouts drives me crazy. \\n@mini_bubbly : @mr_ted60 Same \\n@Storm_Mtn : @mini_bubbly Harper did well in his mentorship of Kenney and Skippy. They fit so well with their base of Freedumbers. They can gaslight and spread disinformation without a second thought. Kenney’s become so irrelevant. PP’s well on his way. \\n@nana_carver : @mini_bubbly @eatonyale1974 PP is mentally challenged and it has been proven from his own dumbass comments and idea\\'s 🤬🤬🤬🤬🙄🤯🤯 \\n@kelv429 : @mini_bubbly @gmarie55 Exact same language as the orange shitstain and the GQP. Remember clean coal beautiful clean coal. \\n@seeteegee : @mini_bubbly For many Canadians, it is unimaginable to accomplish certain things without fossil fuel gas, such as home heating. We should take control of the narrative by showing that there are reliable, green, and inexpensive ways to do these things that can also employ Canadians. \\n@PlanetTrios : What is Carbon Footprints? According to @euronewsgreen cycling can help. @1GarethWynJones @GeraldKutney  @Fwiz @AdeAdepitan @ClimateDad77 @ClimateHumans  #carbonfootprint #climate #Climatechange #climate https://t.co/EK65ACgRv5 \\n@ZaphodB23940620 : @PlanetTrios @GeraldKutney @euronewsgreen @1GarethWynJones @Fwiz @AdeAdepitan @ClimateDad77 @ClimateHumans What good will “Help” do us? We need a measured response to the climate change crisis that effectively deals with the crisis and depoliticizes AGW. No half measures will suffice. \\n@ZaphodB23940620 : @PlanetTrios @GeraldKutney @euronewsgreen @1GarethWynJones @Fwiz @AdeAdepitan @ClimateDad77 @ClimateHumans To apply a full measure, simply create a law that relates the carbon tax to the removal cost. I’m launching a run for Premier of Ontario. My platform will be to create that law. https://t.co/0yV6LKIyMd @steveghan1 @ClimateHuman \\n@IncredibleCarbo : @PlanetTrios @euronewsgreen @1GarethWynJones @GeraldKutney @Fwiz @AdeAdepitan @ClimateDad77 @ClimateHumans Hello @PlanetTrios \\nMy name is Seun from https://t.co/BQUgRI4sLo,a sustainability advocacy website. We would like to send you a personal message about carbon footprint reduction.\\n\\nThanks \\n@Jerusalem_Post : Reptiles went through rapid phases of evolution just as climate change hit the Earth, showing that they adapted better than most species to the planet\\'s rapidly changing temperatures.\\n\\n#climatechange #reptiles #lizards https://t.co/j8EyCkJIZV \\n@MrPhil2 : @Jerusalem_Post No evolution; it\\'s the way God designed them . . . \\n@alonesunrise : @Jerusalem_Post Reptilians... \\n@PinesNative777 : @Jerusalem_Post No, it\\'s called Divine creation 😇 \\n@DavisGoodwin : @Jerusalem_Post Climate changes have happened for millions of years. Good to know. \\n@ScoullarCraig : @Jerusalem_Post Wot delusional babbling lunacy...wokemess danger zone flauci and any scientific thesis Is like evolution its all theory and no truth. https://t.co/SGUh1LR05Y \\n@citizensclimate : As it turns out, fighting #ClimateChange is one of the ways that the #InflationReductionAct is actually fighting inflation.\\n\\n@hopeking \\nhttps://t.co/rnXxaiH4Yn \\n@JbradfordIII : @citizensclimate @hopeking ❤️❤️ \\n@Medusaworld_co : @citizensclimate @hopeking Global warming has too many bad impact🚨 that\\'s why we will fight it together🤺♻️ \\n@lbox327 : ✈️✈️✈️ #SkyBastards ✈️✈️✈️\\n\\nTrying to figure out why I am hurting bad today  ...\\n\\n... Then the clouds broke &amp; I knew why \\n\\n#Skyheaters\\n#ClimateEngineering \\n#ClimateChangeHoax https://t.co/doofAPk9qb \\n@Tearsofrain777 : @lbox327 Why ?? I’m literally dyin \\n@BudE32104685 : @lbox327 Thank God you have nature\\'s answer! Healing vibes to you and yours.🙏🕯️ \\n@rrhea066 : @lbox327 @Er1k_Drav3n First comfortable Summer their biological warfare has been here 60s in August Hahaha \\n@Er1k_Drav3n : @rrhea066 @lbox327 Winter comes early my prediction. \\n@lbox327 : @rrhea066 @Er1k_Drav3n 🙏❤✌❤❤❤❤❤❤✈️✈️✈️👍👍👍 \\n@Er1k_Drav3n : @lbox327 @rrhea066 Indeed brother,will be a cold one down here like up there i feel and see. \\n@Er1k_Drav3n : @lbox327 @rrhea066 Animals too,many already collecting winter stores. \\n@HBSBEI : Ep. 8 of Climate Stories features HBS alumna Diana Rivera, director of development for Lightsource bp. As a leader in the development of cost-effective, clean energy projects, Diana is stimulated &amp; frustrated by the challenges of slowing #climatechange: https://t.co/u5dhRiHhCG \\n@FriendsOScience : More #climatechange impacts.... https://t.co/a1Gwgq38DR \\n@Drunkym1nd : @FriendsOScience I\\'m screwed, I sit all day. \\n@CoffeeBreathCo1 : @FriendsOScience I can\\'t stand, can\\'t sit, can\\'t walk, can\\'t talk, can\\'t lay down, can\\'t be fat, can\\'t be fit, can\\'t live in area too hot or too cold, can\\'t eat too much, can\\'t eat too little... all of these common activities seem to be associated with sudden death!  🙄 \\n@JWaltersFemale : @FriendsOScience 😂😂😂😂 \\n@Devonian1342 : @FriendsOScience 😂😂😂 \\n@SandyXiaotong : PETROL CARS: By making them more expensive and petrol more expensive just hurts the poor and middle class. It doesn\\'t help the environment. #auspol #Climatechange #electricmobility \\n@ClownWorldDan : @SandyXiaotong Correct. I\\'ll be offsetting the climate BS by burning a truck load of plastic bags every year lol \\n@Charlie45185395 : @SandyXiaotong You do wonder what they think...We go back to living semi isolated? 🤔 \\n@BobReal16 : @SandyXiaotong It’s to force people into electric vehicles. They won’t be able to afford to own EVs, they’ll rent them from companies which are effectively an extension of the government. \\n@BobReal16 : @Charlie45185395 @SandyXiaotong That’s the plan. \\n@Twitjay123 : @SandyXiaotong The most annoying thing about trying to get everyone driving unaffordable ( for most) EV\\'s in Australia, is that it won\\'t change the temperature at all! No difference what so ever! So what\\'s the point. \\n@Culturedbogan : @SandyXiaotong Perhaps that’s the whole point? \\n@jimmyj07154394 : @SandyXiaotong Elitists don’t give a F about poor , these bureaucrats are so out of touch it’s not funny \\n@sampson305rw : @SandyXiaotong New World Order.\\nThere will be no middle class.\\nOnly them and us!\\nHmmm!\\nTime coming to shove back hard!\\nOnly idiots would follow Schwab. \\nThere are plenty of those! https://t.co/57sKZ22GTp \\n@JDugggan : @SandyXiaotong Still trying to understand why so many new service stations are being built everywhere. I thought they were stopping fossil fuel car sales by 2030. Doesn’t add up!! \\n@WangInstitute1 : @SandyXiaotong you refer to a mere transient phenomenon - \\n@malph2 : @SandyXiaotong Just like power, and meat, and vegetables and transport and everything else that will have to go up in cost enormously to achieve 43% reduction in 7 years’ time \\n@Rt2beheardagain : @SandyXiaotong No, it doesn\\'t help the environment, but it makes the electric  cars look cheaper. \\n@JFreddy44 : @SandyXiaotong It also increases the price of all transported goods thereby increasing inflation \\n@DavidPastro : @SandyXiaotong There will be no middle class just poor \\n@scepticsinc : @SandyXiaotong That’s the pwan!! \\n@labrooy61 : @SandyXiaotong Who are you accusing of making them more expensive? \\n@PCarterClimate : Climate change is driving unprecedented forest fire loss,\\nparticularly the great subarctic Boreal forest. https://t.co/gvbmFoWCGx\\nThis has become a feedback source of more carbon missions. \\nThe North American Boreal this year is burning worse than ever. #climatechange #fires https://t.co/Qv42w4DmJt \\n@ClonalAntibody : @PCarterClimate Also factor in the fact that these boreal forest soils are a huge carbon sink, and in the forest fire, the soil releases methane that prevents the fire from being extinguished.\\n@cboisvenue https://t.co/gT9eudlHJI \\n@GregShephard1 : @PCarterClimate Drivel \\n@TomWhatsoeverB : @PCarterClimate Tell your fellow climate change zealots/activists who have intentionally lit fires to support the \"narrative\" to stop doing so! https://t.co/7zXkHlG3tH \\n@gd44fla : @PCarterClimate Climate change has nothing to do with all the fires, mismanagement of the forest does, if you do nothing to clean &amp; maintain as needed these wild fires will continue, plus I think you cc nuts are probably setting the fires to try to help your side of the story. My opinion . \\n@BrendaChoi19 : @PCarterClimate @Sdg13Un Stop driving forest fire loss and save boreal forest \\n@InsightGL : -It is always easy to push &amp; shove a civilized person or nation\\n-Could you do the same with the world’s biggest polluter that is going through severe power crunch &amp; going to increase coal production\\n-If you can\\'t guess the country’s name DM me\\n\\n#environment #GlobalWarming #China https://t.co/uZI8mLwgSX \\n@DaFlanker12 : @InsightGL CHINA \\n@ScooterLibby218 : @DaFlanker12 @InsightGL Look at the power consumption, renewals generation from@China vs India . 221 GWH per day is the grid input from just one project in the Gobi desert. India is doing well in PR \\n@DaFlanker12 : @ScooterLibby218 @InsightGL Per day?😂👍\\nIt\\'s annually atleast use common sense and India is doing good in Renewable energy, some of the largest solar parks are in India and 151.4 GW is produced by renewable sources out of 403.759 GW total installed capacity. \\n@ScooterLibby218 : @DaFlanker12 @InsightGL Have you been to the desert? My error - 21.2 GWH not 212 !! \\n@GRiver2021 : @InsightGL Well, on per capita basis, the West is still by far the largest polluter than the rest of the world. Germany has stared the coal fired power stations too. https://t.co/VidfG6tjxq \\n@public2024 : @GRiver2021 @InsightGL #ClimateScam \\n@tyagibirjesh30 : @InsightGL @lrn2twtmutos Greta Why not u dare to do work as a child .\\nKath ki handi ek baar hi chalti hai.\\nChina is indiciplined, habitual offender of intl law/ convention/ obligations. UN is heading as league of nations. \\n@SandyXiaotong : HOW LONG does it take to charge a Tesla? It takes me 2 minutes to fill my tank with petrol. #auspol #electiccars #climatechange #ClimateEmergency #insiders \\n@StrayDog67 : @SandyXiaotong 5 seconds to plug it in, and you don\\'t actually care how long it takes to charge because you\\'ll be asleep... \\n@Twitjay123 : @StrayDog67 @SandyXiaotong Great! But what about the thousands of houses with no parking and have no choice but to park on the road,do you just run extension cords out,which not safe or workable ...not to mention the ratbag that would unplug you for fun,leaving u with flat battery in morning \\n@JStabbington : @StrayDog67 @SandyXiaotong BUT\\nis there really anything happening if you\\'re not holding it in your hand?\\nSome folk need to see and feel to believe, like Doubting Thomas. \\n@jimmyj07154394 : @SandyXiaotong Well the way that idiot Bowen hangs onto the handle to “fill” an electric vehicle my guess is hrs ! \\n@RavizzaDenise2 : @SandyXiaotong There is one only charging station in Maryborough Queensland a EV is parked there from 7 am to 6 pm Hervey Bay is 1 hour away and it’s to far for an EV to go no charging station to recharge a drained battery and that’s not even being held up in heavy traffic \\n@Kanga7577 : @StrayDog67 @SandyXiaotong Doesn\\'t sound like a quick fill up if you\\'re only halfway to your dedtination. \\n@pdesney : @SandyXiaotong Not as long as it takes to fill your brain with sense. \\n@WangInstitute1 : @SandyXiaotong To be frank, francis, francine or even francois  - who cares?? \\n@GrocottGrocot1 : @SandyXiaotong Charge times for an EV vary a lot. The EV must have the fast charge option fitted ($$) o/wise normal charge only. Usual time for a low end EV? 45 min. A fast charge may take it down to 12-15 min. Times depend on battery level. If U repeatedly fast charge, battery life is 3-4 yrs \\n@Ozzytourer : @SandyXiaotong 2 mins..... 🤣😂😅 That\\'s what I call a fast fill up!\\nDo you ride a 50cc scooter?\\nYour question has so many possibilities &amp; why are you obsessed with thinking the only EV is a Tesla? Here is one list.. https://t.co/9EDIUQFSbh \\n@MacDSmith3 : @SandyXiaotong I could imagine your attitude when the automobile was invented. \"How long does it take to fill this car up with petrol? It takes no time to get on my horse.\" \\n@tatduckum : @SandyXiaotong Yes average people have to work 4 hours to pay for petrol. \\n@alexJayRyan : @SandyXiaotong 20 mins, or you can plug it in over night, or if your workplace is like mine you could charge while you’re working. \\n@CondorLives : @SandyXiaotong 30 - 60 minutes.  Can\\'t wait for the road rage that will inevitably come at the limited charging stations people will need to use on road trips.  Imagine being 5th in line, with a possible 3 - 5 hour wait just to plug in! \\n@CondorLives : @StrayDog67 @SandyXiaotong Unless you\\'re on a road trip.  Not all cars are used to get to/from work each day. \\n@Robert21558934 : @RavizzaDenise2 @SandyXiaotong 1 hour is too far? You can do 400km in an hour in your EV, wow that’s much better than those old fashioned petrol ones \\n@Quagslime : @SandyXiaotong If you don’t want a Tesla don’t buy one. \\n@Quagslime : @Twitjay123 @StrayDog67 @SandyXiaotong If only we had more time to transition and develop infrastructure! Wait, we do. \\n@TopendBungeye : @SandyXiaotong Depends if the blackouts have started yey \\n@Smithy96051713 : @SandyXiaotong It takes a bit longer for EVs. Coal is rather lumpy, and moves lumpily into the tank. It’s a bit like the thought processes of the very nice people who flounce around in EVs. \\n@RavizzaDenise2 : @Robert21558934 @SandyXiaotong EV have a problem with catching fire no thanks \\n@Tashtweets1 : @RavizzaDenise2 @SandyXiaotong One hour? Rubbish - they can go waaaaaay longer than that - who told you this rubbish? \\n@RavizzaDenise2 : @Tashtweets1 @SandyXiaotong Seen them run out of power on the side of the road \\n@Tashtweets1 : @RavizzaDenise2 @SandyXiaotong Not after an hour you haven’t. Whoever is feeding you this drivel needs to be either corrected or ignored. \\n@CGrandma55 : @SandyXiaotong Yeah you. fo. Blocked. Sick of ya crap and just noticed you yesterday \\n@GGandjmobile : @SandyXiaotong Buying an electric car is like buying a brick mobile phone and having to carry a battery pack around over your shoulder.\\nWait 5 years at least \\n@TheOBriens : @GGandjmobile @SandyXiaotong Haha exactly. I thought the same. It is like buying a Betamax when if you wait you can buy a dvd \\n@BezBezbundy : @StrayDog67 @SandyXiaotong Well it\\'s obviously not solar panels charging it then. \\n@stu6162 : @CondorLives @SandyXiaotong And all these RWNJs who are waiting for fuel rations when war with China starts.\\n\\nIf only we had solar panels on our roof and an EV. \\n@JC47053522 : @SandyXiaotong I see you\\'ve given up on being a journalist then ! \\n@JC47053522 : @SandyXiaotong So your not a journalist who doesn\\'t like Tesla\\'s\\nOk https://t.co/T0tc90fzSB \\n@SandyXiaotong : @JC47053522 I’m not a journalist \\n@siriusbach : @SandyXiaotong EV’s use braking as regenerative power back to battery, so if you are in city braking a lot it’s great, if in country driving it’s very poor distance achievement \\n@jeff_laycock : @StrayDog67 @SandyXiaotong Thank you coal \\n@jeff_laycock : @alexJayRyan @SandyXiaotong Np problem with EV been around along time. Just don\\'t call them green and especially sustainable \\n@CondorLives : @stu6162 @SandyXiaotong Good luck getting solar panels if we\\'re at war with China! \\n@stu6162 : @CondorLives @SandyXiaotong I already have them. And that why we need to transition to renwables now!\\n\\nDependence on liquid fossil fuels make us vulnerable. \\n@GeoffPAus : @SandyXiaotong 30-40 minutes and that is only to 80% \\n@GeoffPAus : @MacDSmith3 @SandyXiaotong Hmm slightly different analogy but hey you do you \\n@GeoffPAus : @WangInstitute1 @SandyXiaotong Pretty much everyone 🙄 \\n@GeoffPAus : @StrayDog67 @SandyXiaotong Ah actually you will as the average EV charged at home will only add on avaerage 7km/hr charge. So let’s say 70km range for o/night charge and you live 40km from the office (average) you will@soon run out of battery \\n@GeoffPAus : @tatduckum @SandyXiaotong Is that per week, fortnight 🤔 \\n@GeoffPAus : @GGandjmobile @SandyXiaotong By that time hydrogen power will be better than any EV \\n@GeoffPAus : @siriusbach @SandyXiaotong Actually it isn’t because by definition you wouldn’t have any speed up hence the regeneration is extremely Low. \\n@StephanHolmes61 : @RavizzaDenise2 @SandyXiaotong And of course they won\\'t provide any additional charging stations as EV usage multiplies.\\nWake up. \\n@DClay49 : @GrocottGrocot1 @SandyXiaotong So battery life reduces to 3-4 years, then it will cost you $20,000 to $50,000 to replace the battery. Not a sound investment. Most diesels and petrol vehicles run for 300,000 to 500,000 kms or 15-30 years without major engine problems. \\n@DClay49 : @alexJayRyan @SandyXiaotong Fringe benefits tax or pay per kw? \\n@Timothy46454956 : @SandyXiaotong Honestly the reality of EVs in not even close to the political rhetoric.1.57% of cars on our rounds are EVs, about 9000..and they want 3 million plus by 2030..nonsense. We’d have to make them here and start tomorrow!! \\n@RavizzaDenise2 : @StephanHolmes61 @SandyXiaotong It’s a regional area you really think this gov care what happens out here \\n@StephanHolmes61 : @RavizzaDenise2 @SandyXiaotong Of course they do.\\nIf for no other reason charging stations will be made available for tourists.\\nJust like they once had water troughs for horses, and petrol stations for internal combustion motor vehicles.\\nPressure the govt to supply some. \\n@william15898879 : @SandyXiaotong It takes me 15 seconds to plug my car in at night when I get home. \\n@SandyXiaotong : @william15898879 And it charges instantly \\n@william15898879 : @SandyXiaotong It has a range of 330 miles.  It costs about $20 to \"fill it up\" so as long as I\\'m driving less than 6 hours a day, I never have to worry about how long it takes to charge.\\nOn road trips, it takes 15 minutes to charge for 5 hours of driving and costs @ $15 to go from 20 to 80%. \\n@Stephen85521174 : @SandyXiaotong Zero minutes-it\\'s fully charged when I get out of bed every morning. Never have to stand out in the rain or sun, never get my shoes covered in crap standing in a pool of diesel. Never arrive with my hands smelling of petrol. Never arrive late because I had to stop for petrol. \\n@SandyXiaotong : @Stephen85521174 You’re not one of those people that think you can drive around in an electric vehicle with an extension lead plugged into a power point are you? \\n@IanMcMi38908747 : @JStabbington @StrayDog67 @SandyXiaotong Have to ask Bowen on that one. \\n@IanMcMi38908747 : @GeoffPAus @GGandjmobile @SandyXiaotong Commercial hydrogen is at least 10 years away. We need a reliable power grid to produce it. \\n@Stephen85521174 : @SandyXiaotong And never have to drive around looking for the cheapest price because I charge it overnight off-peak, at fraction of the cost of petrol \\n@grappysb : @SandyXiaotong @vickiecheryl1 A Tesla takes longer.....much ....much ...longer \\n@JC47053522 : @DClay49 @GrocottGrocot1 @SandyXiaotong I don\\'t have a Tesla , but it sounds like BS.\\nRead reviews by owners on various sites and this was typical https://t.co/GJXHA7RFNm \\n@JC47053522 : @GeoffPAus @StrayDog67 @SandyXiaotong Where are you getting your info from ? Seems way out of date .15 km per hr -150 km over night .\\nVery rare for me to do 150 km a day ! https://t.co/ldAtVp8zx0 \\n@Sdg13Un : The outlook for #forest #fires in the decades ahead is grim. There is an expected increase of 50% in  fires by the end of this century.\\n\\n#globalwarming #climate  \\nis a key factor in the increase as it leads to higher #temperatures and drier conditions.\\n\\nhttps://t.co/TTWrk9LdXj \\n@BrendaChoi19 : @Sdg13Un Stop increasing forest fires and higher temperatures \\n@peterob14924093 : @Sdg13Un invest in bottled oxygen \\nto get rich as earth dies \\n@Sdg13Un : @peterob14924093 Don\\'t worry, the earth won\\'t die so quickly.\\nAt worst, our civilization will perish and our descendants will have to live in hardship, poverty and misery. https://t.co/HtvfaDNgWY \\n@Angela_Porisky : Oh look, they’re giving  children crickets 🦗 to eat at a school in Manitoba Canada. \\n\\n#WEF #Agenda2030 #propaganda #GlobalWarming https://t.co/OcCwG3UbZz \\n@Allen40322520 : @Angela_Porisky Brutal, wonder what the parents had to say when they found out \\n@Ulfurok : @Angela_Porisky Very Sickening! \\n@Angela_Porisky : @Ulfurok Is it ever! \\n@Angela_Porisky : @Allen40322520 That’s a good question \\n@DennisOLeary50 : @Angela_Porisky Do they eat them through their masked mouths? \\n@Vincent11281991 : @Angela_Porisky what about the potential parasites in crickets? How will/could that affect people?  Guess we shall soon see... \\n@Angela_Porisky : @Vincent11281991 Oh goodness that’s a scary thought \\n@Angela_Porisky : @DennisOLeary50 Hmm 🤔 \\n@Vincent11281991 : @Angela_Porisky yes, for those who care... \\n@Goandms : @Angela_Porisky Sure, going to the impressionable children first.  And is that yellow thong a “prize” they are getting? \\n@TheRealName11 : @Angela_Porisky When was this? Schools haven\\'t started here yet. \\n@Angela_Porisky : @TheRealName11 I’m not sure. Maybe contact the company, they should be able to tell you. 🙂 \\n@ellymelly : Klaus Schwab is like: Hmm... How can we simultaneously terrify peasants into believing there\\'s an apocalypse so they give us infinite global power AND make corporations cashing in on fear look #woke and virtuous? Come on, PR boys.\\n\\nUnited Nations: #ClimateChange worked for us. 🤷\\u200d♂️ \\n@daverock87 : @ellymelly What a scumbag 😡 \\n@Andre1ph : @ellymelly Watch Albo. Even that bandana guy would admit it was a hospital pass … \\n@43Goose : @ellymelly Klaus Swab is an international terrorist \\n@OutsidersJohn : @ellymelly The left love him because he wants what they want, a Communist dictatorship \\n@Lynd0nHarris0n : @ellymelly You vill own nussing unt you vill be Hippy! Clause is just the front man for more of the same shit! Keep calm and carry on! \\n@CRoy76726369 : @ellymelly Sure. Climate change is a hoax for money. But international oil companies profiting off of you every day wouldn\\'t lie and spend millions to trick dumb people into believing their the good guys... \\n@JL_ideaman : @ellymelly @andrewblades777 Veee half vayssss... \\n@ellymelly : @CRoy76726369 I mean - you know I\\'m for nuclear, right? And you *know* that those oil companies build windmills and solar panels, right? And you **know** that the medical industry the largest user of fossil fuels, right? \\n@rockyvuitton : @43Goose @ellymelly 💯💯💯💯💯💯💯 \\n@Ronald48224951 : @ellymelly Klaus and the WHO and WEF shall all be charged with treason and crimes against humanity the pandemic was never about the virus but all about the vaxination that has maimed injured and killed innocent people the lies are exposed and the game is up phifzer executes too \\n@nexuseditor1 : @ellymelly Oh don\\'t worry Alexandra, right now, those elite pedophiles are steering the whole \\'UFO disclosure\\' narrative to infer that they are \\'real\\', and that they represent a threat to the military interests of the USA. A fake \\'ET\\' threat would outdo covid fear. \\n@JBR___1977 : @ellymelly 😂*  a  nothing-burger! \\n@Advjalila : People of Balochistan are extremely poor, and Balochistan is a direct victim of #ClimateChange, to which it has made no contribution. Rich countries should recognise their responsibility and compensate regions including Balochsitan affected by the#ClimateCrisis.\\n#ClimateEmergency \\n@MurtazaMgLPTI : @Advjalila بہترین پوائنٹ۔۔۔لیکن حکومت ان چیزوں سے ناواقف ہے \\n@Adele22925251 : @Advjalila For other countries to support, first we must give our bit to Baluchistan \\n@mohamad21309786 : @Advjalila Madam please be careful I heard Karkhasa Dam is full \\n@Advjalila : @mohamad21309786 Yes the dam is broken. \\n@mohamad21309786 : @Advjalila Gracious God , please be safe zero hope from this drug addict Sarkar \\n@JGS952 : This is dangerous misinfo that WILL convince far too many people. There is a concerted, well-funded effort to deny and delay action on #ClimateChange. @andrejpwalker is either a paid tool or just a fool; either way the @BBC shouldn\\'t platform this and should correct live on air. https://t.co/UrScDRf79O \\n@JGS952 : New renewable energy generation is CHEAPER than new OR continuing fossil fuel capacity.\\n\\nThe \\'green levy\\' is in red and makes up 8% of current bills.  The wholesale price of gas (not cost since that hasn\\'t changed) is the cause of this #CostOfLivingCrisis https://t.co/6WyFYebgoH \\n@daveyruss : @JGS952 @andrejpwalker @BBC Who is getting this cheaper green energy at a cheaper rate? \\n@andrejpwalker : @daveyruss @JGS952 @BBC Nobody at all. \\n@JGS952 : @daveyruss @andrejpwalker @BBC Sadly nobody is.  It was a choice to structure the UK energy industry such that the wholesale price is tied to the \"last marginal source to come online\".  As demand increases, suppliers increase supply by bringing online more generation, starting with the cheapest first. \\n@JGS952 : @daveyruss @andrejpwalker @BBC The last source to come online in this supply increase sets the wholesale price of elec.  This is just a choice, it can be unmade.  Gas is almost always the last source to come online because it\\'s the most expensive (esp. in 2021 to 2022) and so v. cheap onshore wind costs a lot \\n@TonyBar16486136 : @JGS952 @andrejpwalker @BBC How much are the tax payers subsidising the Green Energy companies for? \\n@JGS952 : @TonyBar16486136 @andrejpwalker @BBC Latest CfD (2021+)from UK gov is £265M pa worth of subsidies for renewable energy projects.\\n\\nIn the 5 years to 2021, the UK government subsidised oil and gas exploration and production (in tax reliefs) to the tune of ~£2B pa.\\n\\nhttps://t.co/emTGmARmRJ\\n\\nhttps://t.co/aLPSsO1uzl \\n@enochrugby : @JGS952 @andrejpwalker @BBC Green Claptrap from a guy with a mask \\n@JGS952 : @enochrugby @andrejpwalker @BBC Thanks for the comment :)  I\\'d be curious to learn what you think is \"green claptrap\"? \\n@TonyBar16486136 : @JGS952 @andrejpwalker @BBC Tax payer should not be subsidising private business, and if green energy need tax payers money it is not viable \\n@daveyruss : @andrejpwalker @JGS952 @BBC My point exactly Andre, but the soundbite puppets with no education on matters they quote hush up quickly \\n@enochrugby : @JGS952 @andrejpwalker @BBC We are being sold a Pup if you think Climate Change is man made!\\nThe rich will only get richer the poor will be poorer!\\nThe Climate has always changed and always will but don’t put your faith in the elite that run the world! \\n@JGS952 : @TonyBar16486136 @andrejpwalker @BBC Did you not get my tweet?  Oil and gas producers have benefitted from ~8x as much tax payer subsidies each year. Are they not viable in your eyes either?\\nRemember, governments have ALWAYS funded innovation and research development for CENTURIES.  The £265M is to accel deployment. \\n@JGS952 : @enochrugby @andrejpwalker @BBC Smh.  Please please have a read and try and listen only to reputable sources from climate scientists such as @ed_hawkins.\\n\\nhttps://t.co/Kmqa7xO1Y3. \\n@TonyBar16486136 : @JGS952 @andrejpwalker @BBC Did you miss the bit where I said tax payers should not be subsidising private companies? \\n@enochrugby : @JGS952 @andrejpwalker @BBC @ed_hawkins The UN do me a favour! \\n@JGS952 : @TonyBar16486136 @andrejpwalker @BBC Do you disapprove of UK tax payers subsidising oil and gas companies? \\n@enochrugby : @JGS952 @andrejpwalker @BBC @ed_hawkins To add the UN has one of the biggest carbon footprints if you are interested in that!\\nSince their formation they have achieved nothing just like the WHO \\n@JGS952 : @enochrugby @andrejpwalker @BBC @ed_hawkins The United Nations as an organisation produced 2 million tonnes of CO2 equivalent in 2020 (45% was staff air travel). All human activity produces ~50 billion tonnes of CO2 equivalent a year. https://t.co/zKQQ8Rof8c. \\n@enochrugby : @JGS952 @andrejpwalker @BBC @ed_hawkins So maybe we should end all human life ? \\n@TonyBar16486136 : @JGS952 @andrejpwalker @BBC Absolutely they are private companies making billions in profit, they don\\'t need our taxes \\n@JGS952 : @TonyBar16486136 @andrejpwalker @BBC At least we agree on that for sure! \\n@conserv_tribune : Some things just have to be learned the hard way.\\n \\n #climatechange #Congress #Democrats #Inflation #JoeManchin #RashidaTlaib https://t.co/afquRuupil \\n@M4Defense : @conserv_tribune Should have stuck with his conscience \\n@mdcox1022 : @conserv_tribune The democrats screw everyone just to get their way. They tell lies like it’s nothing. @Sen_JoeManchin I guess you found out the hard way. You can’t make a deal with the devil and come out on top. #FJB \\n@popeavery : @conserv_tribune There\\'s a sucker born every minute \\n@2CynicAl65 : That\\'s why they had to change the name to #ClimateChange. They couldn\\'t prove global warming. https://t.co/gXgE46hlFg \\n@PonsSublicius : @2CynicAl65 I\\'m (barely) old enough to remember when we switched from global cooling to global warming. Interestingly the offered solution was exactly the same: hand over all our liberties to a cabal of wannabe dictators who would run everything without addressing the problem. \\n@LoneWolf2965 : @2CynicAl65 Something I\\'ve always wondered...\\nIn order to \"prove\" man-caused climate change, which they claim they have, wouldn\\'t one need to know, with complete accuracy, how much the climate is changing naturally, which is doubtful since they can\\'t reliably predict the weather 1 week out? \\n@2CynicAl65 : @PonsSublicius Any and every crisis that ends in \"...so, give us all the money and power and we\\'ll protect you\" should be met with 100% pushback.\\nAnd yes, could you even imagine another Blizzard of 78?!?! \\n@bduerden75 : @2CynicAl65 We went from “the sun is burning out” to “we’re getting too much sun”. My anxiety is getting whiplash… \\n@AKoach : @LoneWolf2965 @2CynicAl65 They denied natural immunity \\n@tmitch4040 : @2CynicAl65 Avg global temp since 10000BC is cooler that that of the prior 10000 years. But if we go all long-term on the Left ghouls they ball up and cry. \\n@2CynicAl65 : @tmitch4040 If you present any simple logic to the left, they ball up and cry. They\\'re all a bit loony. \\n@BBoroimhe : @LoneWolf2965 @2CynicAl65 That\\'s too scientific.\\n\\nFollow The Science™. \\n@tmitch4040 : @2CynicAl65 Cross, meet vampire. Apt analogy on several fronts. \\n@2CynicAl65 : @BBoroimhe @LoneWolf2965 All Hail The Science!!!!!! https://t.co/pVEcTR8zKl \\n@Pookiedr : @2CynicAl65 That is true. Also, the phrase “climate change” is all encompassing, so anything can be attributed to it. \\nToo much rain = climate change. \\nToo little, climate change. \\nAbove average storms, climate change. \\nBelow average, you guessed it, climate change. \\n@grandpa717 : @LoneWolf2965 @BBoroimhe @2CynicAl65 @ScottAdamsSays Pretty much sums up Twitter science. \\n@N_Bogota : @LoneWolf2965 @zambizzi @2CynicAl65 @BBoroimhe That good sir, gets a follow! \\n@ConeflowerTarot : @Yujinesque @2CynicAl65 I bet throwing this old drunk in the volcano would do more good. \\n@PeterF0x : @LoneWolf2965 @2CynicAl65 Yes. Anything they do to inject man-made changes always fails to realize.\\nThat is why the weather channel forecast every breeze as the storm of the century and has yet to come close to an accurate prediction. While media that relies on observable science consistent nails forecast \\n@MikeHudema : Dear Humanity, #ClimateChange threatens our existence. \\nIf we don\\'t act soon there\\'ll be catastrophic biodiversity loss &amp; untold amounts of human misery. \\nTime\\'s running out \\nYours, \\n15,000+ concerned scientists\\n\\nAct, before action is no longer possible. #ActOnClimate #climate https://t.co/RAtkzyercj \\n@Deez60732794 : @MikeHudema These comments are proof it’s already too late. I think people are under the serious misconception that humans can survive without a functioning biosphere. As if everything isn’t intricately interconnected. \\n@LyndzBeck : @MikeHudema Your first error is believing that’s an actual photo of the world. Go back and learn the basics and then tell me about your climate change concerns. \\n@TomBirch91 : @MikeHudema Mars ? \\n@fynbo777 : @nom_nabi @MikeHudema Give more money to the government. \\n@FendlerWolfram : @MikeHudema We should accept, that our gouvernment really is doing, what they can. It\\'s not enough by far. So we will have to do the changes that have to be done be our own force of the civil society, the people themselves. We must stop burning fossil fuel by whatever it takes. \\n@FiledSlippy : @MikeHudema Climate hoaxer \\n@IndahlKrogh : @MikeHudema Let there be loss of ecosystems. There are too many of them already. More dragracing instead. \\n@Truther287 : @MikeHudema Making Dems more powerful and getting them more of your hard-earned money never saved anything but it sure has destroyed a whole lotta shit. https://t.co/EGYVe5Wcli \\n@snugje : @MikeHudema how much subsidy are you raking in with this climate religion thing? there is no climate crisis, no reason to scream so hysterically cult-like. \\n@SpryDavid : @MikeHudema I have an idea that could change everything, but nobody will listen… \\n@emublood : @LoyalTeddy1872 @MikeHudema Idiot. Climate change is visible. Also get vaccinated, people die from Covid. \\n@LoyalTeddy1872 : @emublood @MikeHudema 🤣🤣🤭🙄 yer an it\\'s mostly the vaccinated.. pure blood an proud ✊😘👌 \\n@KlausHesse1 : @MikeHudema Hier ein Link:https://t.co/XlmIZNd7GM \\n@torpet002 : @MikeHudema Then stop destroying the world with those windfarms \\n@brandall9481 : @MikeHudema Too bad humans were unable to invent a clean and abundant thermal energy technology with the same or better capabilities as fossil fuels: Ammonia. H2. Industrial process heat. Desalination. District heat. Electricity. Oh wait, that\\'s nuclear power! \\n@AndrewBlash : @MikeHudema No you take the great journey here \\n@BerneStober : @MikeHudema Michael Crichton: https://t.co/U8wLgHx6ND \\n@SniemN : @ChrystCaforSoil @MikeHudema Silly sod \\n@HamlynLinda : @MikeHudema Unless climate change and vegans fight in unity, the battle for this planet is going be very long and we do not have the luxury of time on our side, as time waits for no man. Now is the time to act and act as one. \\n@VeganLilyPons : @HamlynLinda @MikeHudema The Shocking Vegan Hulk | This strongest guy in germany is VEGAN. How? #PatrikBaboumian.\\n\\nWatch Video :- https://t.co/l5OIP8wZgw\\n\\n👉 https://t.co/8nmvSLVsVx https://t.co/lIWVNYeqqP \\n@xerb1966 : @MikeHudema Yes, Chicken Little. \\n@emublood : @LoyalTeddy1872 @MikeHudema I\\'d like to see that source. Do you have no vaccines? Were you not vaccinated as a child? No wait, maybe you are a child because you have no idea what the real world is like. Death is not a funny thing. It is not a laughing matter. You, on the contrary, are a laughing matter. \\n@emublood : @LoyalTeddy1872 @MikeHudema Also most people in the world are vaccinated. \\n@LoyalTeddy1872 : @emublood @MikeHudema good luck to you an your breed.. can\\'t teach stupid.. \\n@Mncedis82593631 : @MikeHudema Bullshit \\n@Mncedis82593631 : @cdbrzezinski @MikeHudema @JustStop_Oil Fuck off. Shut up. This is bullshit. \\n@Dragon_Fire234 : @MikeHudema They have been saying this for decades. Date that \"the earth will melt from the heat of the sun\" have come and gone a dozen times. https://t.co/zjaA4vachX \\n@leigh_baker : @MikeHudema Want to explore the wealth of actions that you can take today?\\n\\nhttps://t.co/o7HvgnMFJa \\nhttps://t.co/qdDVQTPYU0\\nhttps://t.co/KtkE9OpOEy \\n@PatrickOddie10 : @MikeHudema Dear Brain Cell Dreamer.\\n\\nCo2 feeds plants and trees.\\n\\nWhich supply that thing called o2.\\n\\nIt allows dreamers like you to breathe.\\n\\nNow shut up 🤫.\\n\\nPlease. \\n@madface512 : @MikeHudema When you say \"act soon\" you don\\'t mean, make energy expensive and the poor poorer, all in the hope that China/India reduce emissions and the Earth cools because it\\'s a simple CO2 controlled thermostat. You don\\'t mean that do you? \\n@MatthewWielicki : @MikeHudema This time they mean it. 🤭 https://t.co/ib8dwfTMrS \\n@emublood : @LoyalTeddy1872 @MikeHudema Which is another reason you should get vaccinated, but I\\'m afraid you\\'ve already got it. \\n@emublood : @LoyalTeddy1872 @MikeHudema Took the words right out of my mouth! \\n@WeLnever : @MikeHudema #climate #ClimateEmergency #ClimateScam @Net0 https://t.co/9y2wJ6d8zw \\n@GlennCarr6 : @WeLnever @MikeHudema @net0 Another deceptive graph doing the rounds which uses a large scale to conceal the actual rise. It also ignores the fact that the US is NOT a proxy for GLOBAL temperatures. Now lets look at an appropriately scaled version! 😉 https://t.co/PfBAoINgZ3 \\n@georges_wyatt : @MikeHudema It\\'s not \"there\\'ll be...\", It\\'s \"there\\'s alreedy..\" catastrophic biodiversity loss, and dramatic changes...😥 \\n@micki5pints : @MikeHudema No it doesn’t \\n@LoyalTeddy1872 : @emublood @MikeHudema I\\'m in disbelief that with all the amount of information on the internet you\\'re still of the opinion that the Vax actually works.. I pray for you and your family 😞🙏 \\n@emublood : @LoyalTeddy1872 @MikeHudema Those are lies. People believe lies because they are more convenient but the truth hurts. Who would you rather believe: a jobless idiot on the internet creating chaos or the literal WORLD HEALTH ORGANIZATION? This is information: https://t.co/qRp88tMorI \\n@LoyalTeddy1872 : @emublood @MikeHudema OMG.. picks a page from WHO.. FFS 🤣🤭🙄 do you actually know what\\'s going on in the world right now.. what MSM channel do you watch.. brainwashed an slightly brain-dead.. \\n@emublood : @LoyalTeddy1872 @MikeHudema There are hundreds of thousands, maybe even millions of pages supporting my claim. I\\'d like to see your reference. \\n@LoyalTeddy1872 : @emublood @MikeHudema I\\'m jus finding them.. 👌 \\n@emublood : @LoyalTeddy1872 @MikeHudema Did you know another name for Fox News is Faux News? https://t.co/pA3G0AJIkj \\n@LoyalTeddy1872 : @emublood @MikeHudema doesn\\'t matter.. they\\'re all owned by the same people.. \\n@emublood : @LoyalTeddy1872 @MikeHudema I have some questions. Are you a Trump supporter? Johnson supporter? Morrison supporter? \\n@emublood : @LoyalTeddy1872 @MikeHudema Doesn\\'t matter 😂 of course you\\'re dismissing the truth. \\n@emublood : @LoyalTeddy1872 @MikeHudema Flat Earth believer as well? I\\'m so sorry... praying for you and your family 🙏 you are right, you have been mind controlled by false news because people do not want to change their comfortable lifestyles to save the Earth. \\n@emublood : @LoyalTeddy1872 @MikeHudema Yes and there are idiotic presidents and PMs too. His colleagues believe in the vaccine. He\\'s one of the few who don\\'t. \\n@LoyalTeddy1872 : @emublood @MikeHudema no not until it\\'s proven 🤣🤣 \\n@LoyalTeddy1872 : @emublood @MikeHudema that\\'s the thing.. I don\\'t watch the news.. I have an abundance of information at MY fingertips.. I done my homework.. I suggest you do the same before it\\'s too late for you an yours 🙏 \\n@LoyalTeddy1872 : @emublood @MikeHudema NWO.. THE GREAT RESET.. YOU WILL OWN NOTHING AND BE HAPPY.. \\n@LoyalTeddy1872 : @emublood @MikeHudema President\\'s.. politicians.. MSM.. they\\'re all singing from the same hymn sheet.. do you honestly believe that they run the country.. jeez.. 😅 good luck out there 🙏 remember to take your monthly booster an mask up 😷 \\n@JayneBeeTee : @MikeHudema Have you actually checked how much of the atmospheric CO2 humans are responsible for? \\n@USAHorizon : @MikeHudema I can\\'t wait! It\\'ll be Great!! \\n@emublood : @LoyalTeddy1872 @MikeHudema At least you don\\'t believe in a flat Earth 👍 \\n@emublood : @LoyalTeddy1872 @MikeHudema The news is my main source of information so where do you get yours? Uneducated liars? I bet the only news source you use is Fox because it gives you convenient lies that make you feel safe and happy and reassure you. But we need the truth. \\n@emublood : @LoyalTeddy1872 @MikeHudema Mhm ok \\n@emublood : @LoyalTeddy1872 @MikeHudema Yes. They are literally elected to run the country. What planet do you live on? Unfortunately you live on one that is being ruined by people like you. \\n@emublood : @LoyalTeddy1872 @MikeHudema I agree with the first part about stealing the wealth of the public \\n@emublood : @LoyalTeddy1872 @MikeHudema Is the vaccine safe? Yes, of course. My daughter died from COVID. Did she get a vaccine? No. Et voila, your answer. \\n@emublood : @LoyalTeddy1872 @MikeHudema The same goes for any virus. Vaccines protect you. \\n@emublood : @LoyalTeddy1872 @MikeHudema You have small Twitter accounts supporting your claim. I have large international organisations with millions of people, news reports and clear evidence supporting my claim. https://t.co/FuFfMN8Sib \\n@emublood : @LoyalTeddy1872 @MikeHudema I also agree with that. People need jobs \\n@emublood : @LoyalTeddy1872 @MikeHudema Yes but there are tens of thousands of scientists who say otherwise \\n@LoyalTeddy1872 : @emublood @MikeHudema All I can suggest is you go through some of my TL.. it might open your eyes.. As you\"re already \"programmed\" by the MSM it might have little to no effect.. but what you\\'ve been let to believe is wrong and slowly bit by bit it\\'s all coming out.. \\n@emublood : @LoyalTeddy1872 @MikeHudema The rich get richer, the poor get the picture.\\nA line from the song Power and the Passion.\\nVery relatable. \\n@emublood : @LoyalTeddy1872 @MikeHudema I know you\\'re trying to be controversial but it just looks stupid. Those people are controlling you. \\n@emublood : @LoyalTeddy1872 @MikeHudema I kinda agree with this because the rich are too powerful. \\n@emublood : @LoyalTeddy1872 @MikeHudema I could say the same thing to you. Look, let\\'s stop arguing because it\\'s clear nobody\\'s opinion will be swayed. Agree to disagree and let\\'s leave it at that. Have a nice day. \\n@LoyalTeddy1872 : @emublood @MikeHudema take care out there.. ✌️🏴\\U000e0067\\U000e0062\\U000e0073\\U000e0063\\U000e0074\\U000e007f \\n@DavidMi86282357 : @MikeHudema We don’t need to struggle, we don’t need to be disappointed that our country seems to be trying harder than another and the overall change isn’t happening fast enough. All we need is public backing to seed the atmosphere with reflective sulphur, it works quickly, and it’s safe \\n@braidedriver2 : @MikeHudema Did you stop to think that maybe \\'climate change\\' may be beneficial to some species. During Earth\\'s history, climate change is nothing new. \\n@braidedriver2 : @MikeHudema 15k scientists obediant to the narrative. \\n@braidedriver2 : @CpmGray @MikeHudema @fitbitsmash Take off your mask, muppet! \\n@braidedriver2 : @suki121singh @MikeHudema Don\\'t worry, they\\'re working on the human cull, and you\\'re helping them! \\n@FakemonSohga : @BkennedyBarbara @MikeHudema However my man, too much CO2 in plants causes their leaves to thicken via the stroma and cell membrane becoming to rigid for the cell wall to contain, as unlike animals, which have a cell membrane, the cell wall cannot expand so easily, thus causing suffocation. \\n@percy_bloom : #ClimateChange is happening, rose tinted sunglasses won\\'t save us. Planet A meets Planet B. \\nPlanet A asks: \"How are you?\" \\n\"Not so well\" Planet B answered.\\n \"Under the weather, I\\'ve got the Homo Sapiens\".\\n\"Don\\'t worry\" the other replied,\\n \"Had the same. That won\\'t last long.\" https://t.co/TnZciqesR1 \\n@ssirajd : @percy_bloom @KaraJarina Planet B must be feeling better, the chances of its survival are looking brighter. \\n@denid52 : @percy_bloom @Grimnien 🤣🤣🖤🖤 \\n@AmaraSolomon7 : @percy_bloom 😁🤣🤪👇 \\n@The_Vegan_Daily : @percy_bloom Be vegan and save our planet🌍🌱 \\n@carllah_james : @percy_bloom We need an action to protect our future \\n@BrendaChoi19 : @percy_bloom Save our planet and future from climate change and evil humans \\n@RefugeesCrisis : ⁉️What would you say when you watch #GlobalCrisis #WeWant2Live forum?\\n\\n‼️Topics raised at the #forum:\\n- #ClimateChange\\n- #Refugee \\n- #violence \\n- #humantrafficking\\n- #hungry and #water on the #planet.\\n\\n#RefugeesGlobalCrisis https://t.co/ZhelcAVCnO \\n@KorrThei : @RefugeesCrisis I remember myself while I was watching the forum: it was the state when I was about to burst into tears but at the same moment I had a strong belief that we still have the opportunity to change the situation and build #CreativeSociety \\nThe choice is on #us #humanity \\n@Kate67575550 : @KorrThei @RefugeesCrisis Oh, me too! You described the same feeling. It was hard to understand, how we could build such a crazy world but at the same time I was happy, because now we have a real chance to change everything, together, in unity!)\\n#SurvivalinUnity \\n@alexromyonaing : @RefugeesCrisis It\\'s very suitable. \\n@TheDailyEdge : Even as he fails on #climatechange, Ron DeSantis has already made Florida inhospitable to #teachers, #students—and #workers in the hotel and tourism industry who can no longer afford to live in a state that relies so much on tourism https://t.co/uYOiQqJGgN #SadStateOfFlorida \\n@LindaLush4 : @TheDailyEdge Yeah he’s a freaking genius all right! Florida we must all vote better including me this time. \\n@possum_oh : @TheDailyEdge He’s not “failing” on climate change. He’s working to foil anything that would help. \\n@p_staatz : @TheDailyEdge @lavenderblue27 Deport desantis \\n@TheDailyEdge : #RemoveRon before it\\'s too late... https://t.co/kesea1vcIU \\n@AlxHamiltn : @TheDailyEdge \"Fidel DeSantis\" at his best, yes? \\n@totalake : @TheDailyEdge Silly.  It\\'s obvious he means vets &amp; spouses WITH degrees.  And many have them.   Wake up \\n@Fievel131 : @totalake @TheDailyEdge We\\'re in FL being \"Woke\" is not allowed. \\n@pamirtimes : Flashflood in Immit village of Ishkoman Valley, Ghizer district. \\n\\n#ClimateEmergency #ClimateAction #ClimateChange #Pakistan #Ghizer https://t.co/uLqsc5KycR \\n@pamirtimes : The above flooding took place at Ishkoman Kot (Center) Valley. \\n\\nOur original caption erroneously mentioned the place as Immit. We regret the mistake. \\n@blue_obaid : @pamirtimes Astagfirullah \\n@umar102 : @pamirtimes Where is this place located? Can you share its coordinates? \\n@nickhedley : Some 2,000 islanders in Guna Yala will become one of the first indigenous communities in Latin America to relocate because of #climatechange.\\n\\nBBC News https://t.co/ZsNfFrCt88 \\n@MothomothoBatho : @nickhedley Relocating indigenous people from their land is horrible. \\nSome are evicted to make way for mining, for minerals needed for energy transition. \\n@JennMForster : @nickhedley How very sad 💔 \\n@nickhedley : @MothomothoBatho Indeed, but far more are having to move because their areas are becoming uninhabitable \\n@sleepinghawk : @JennMForster @nickhedley For me, the worst part is that hardly any people (including those in power and with the power) will care. \\n\\nActually, the worst part is that we did this to ourselves as a species ... the only species stupid enough to decimate our own house while we live in it 💔 \\n@MothomothoBatho : @nickhedley I haven\\'t seen the numbers, can\\'t comment. \\nAlso, I suspect under reporting of people moved to make way for mines. Coded nicely in  mining companies reports \\n@UNBiodiversity : \"Business-as-usual\" is leading to #ClimateChange, #biodiversity loss and the degradation of #nature.\\n\\nTo reverse this trend, we need to build a global #CircularEconomy. 🌎🌱\\n\\n\"We must work with and within the cycles of the living world.\" — @KateRaworth\\n\\nhttps://t.co/EbqFQ2FSaK \\n@WeNaturalists : @UNBiodiversity @KateRaworth A comprehensive circular economy approach could reduce the volume of plastics entering the ocean by over 80 per cent by 2040, reduce virgin plastic production by 55 per cent, reduce greenhouse gas emissions by 25 per cent in the sector and create 700,000 net additional jobs. \\n@robinlemare : @UNBiodiversity @KateRaworth All..ALL economics courses MUST include a first year of compulsory ecology &amp; ecosystems \\nFail ecology = fail economics.\\n’Home management’ (economics) is impossible without ‘Home knowledge’ (ecology). Home = Earth. \\n@WardawatiI : @UNBiodiversity @KateRaworth Impressive.. \\n@Article13 : @UNBiodiversity @KateRaworth Fantastic clarity thank you Kate \\n@RosemaryDeckerT : @UNBiodiversity @KateRaworth Excellent: clear, helpful and thought provoking.  Should be shown in all schools! \\n@TheVoiceForSoil : @UNBiodiversity @KateRaworth One day instead of food eat mud, one meal.\\nIf soil is not kept alive that is what we will be eating.\\nSoil desertification has reached a place where world\\'s 50% of the top soil is gone. All other issues matter but we need to be alive to handle all other issues.\\n#SaveSoilMovement https://t.co/McUDa7Me1w \\n@FoxTwinHollow : @robinlemare @UNBiodiversity @KateRaworth Gary Snyder writes about this \\n@robinlemare : @FoxTwinHollow @UNBiodiversity @KateRaworth Thank you - any good refs much appreciated. \\n@FoxTwinHollow : @robinlemare @UNBiodiversity @KateRaworth Specifically his book Earth House Hold (the etymological root of word Economy) \\n@DrRebeccaO : @UNBiodiversity @KateRaworth 20th Century Industry: \\nHow much financial value can we extract? \\n- degenerative by design &amp; cutting against the cycles of the living world\\n\\n21st Century Industry: \\nHow many benefits can we generate. \\n- a circular, regenerative economy\\n\\n#auspol #innovation\\nhttps://t.co/GA2OQURrxt \\n@RORYMELDRUM : @UNBiodiversity @KateRaworth I agree with you! I utilised the WIND and the SUN,having halted the MERSEY TIDAL BARRAGE,after CHERNOBYL NUCLEAR POWER STATION exploded in April 1986,instigating WIND POWER WORLDWIDE in my dissertation TIDAL BARRAGES @LivUni and establishing the GLOBAL GREEN DEAL @OpenUniversity! https://t.co/xxp17oaGA9 \\n@MobilityCooper : @UNBiodiversity @KateRaworth Spot on @KateRaworth and as a technologist we need to have a proper debate, backed up by training &amp; investment in data capture &amp; analysis. So we can tell stories based on evidence that will change the desired outcome.  Makes a great case for #digitaltwins too #CircularEconomy \\n@WilParry : @UNBiodiversity @KateRaworth Ia plis.\\nYes please. \\n@TomWoolno : @UNBiodiversity @KateRaworth Definitely! We need cities, businesses, homes- entities of all sizes to 1) operate within safe limits for biodiversity 2) move towards #regenerative models to recoup our losses \\n@JaneBluePatch : @UNBiodiversity @KateRaworth At @BluePatchTeam we baked circularity into our business model, 100% of https://t.co/cXHplDSQ0p\\'s surplus income funds community-owned renewable energy projects. We based our model on observing  pollination @kewgardens ! #wakehurst #biomimicry #circulareconomy #socialenterprise \\n@objective_polls : Go figure.  \\n\\nhttps://t.co/VMLUtZ7I3s\\n⭐️\\n#news #climate #GlobalWarming #twitter\\n#politics #BidenDeliversAGAIN #Bidenflation \\n@EricMagusson : @objective_polls Global warming is a cycle not a trend. Maybe a con artist scam \\n@CathyLa10001258 : @objective_polls HOW DARE YOU STAND UP AND LIE ABOUT CLIMATE CHANGE YOU ARE A LIAR \\n@objective_polls : @CathyLa10001258 You’ve stollen my dreams! https://t.co/sDcN0HxB9W \\n@EricMagusson : @objective_polls This one is an embarrassment to all Scandinavians, except the bona fides drunkards that get free vodka \\n@PlasticsBeyond : Why so darn slow?⌛️There\\'s not a single good reason to wait TEN years to phase #climatechange speeding, water, land, air &amp; human body-polluting #singleuseplastic out of our @NatlParkService Let\\'s ditch the #toxicplastic NOW! https://t.co/y6P4yEOkQn @enckj @PEERorg @GreenLatinos \\n@ItsJustADayTrip : @PlasticsBeyond @NatlParkService @enckj @PEERorg @GreenLatinos I was ready to heave this lovely left over ziplick baggy of some brand or another into my DIY @Arbys @ArbysCares @ArbysFoundation Trash Can Bag. And was reminded by my better self. \\'Don\\'t put that in there. Save it. Then figure out wtf to do with it.\\'\\n#SingleUsePlasticsSuck☣️ https://t.co/ZculjUbEHB \\n@ItsJustADayTrip : @PlasticsBeyond @NatlParkService @enckj @PEERorg @GreenLatinos #SingleUsePlasticsSuck☣️ the Life out of Life. \\n@MikeKlassen : 20 years ago this fall @CityofVancouver built 3 green lanes as part of a pilot. The Country Lane—one of which I am a steward—is cooler &amp; more pleasant than asphalt. Cities tackling #climatechange should be looking at wider adoption of them. \\n\\n@sandyjamesplan @pricetags01 https://t.co/4ZN1Jdbger \\n@PeterMeiszner : @MikeKlassen @CityofVancouver @sandyjamesplan @pricetags01 Would love to see more of these around town. The laneway behind the Mole Hill coop is another great example. \\n@sandyjamesplan : @PeterMeiszner @MikeKlassen @CityofVancouver @pricetags01 I wanted to do more in the West End and actually worked with the residents on some potential locations. Sadly the head engineer of the city of Vancouver was not agreeable. \\n@thx1979 : @sandyjamesplan @PeterMeiszner @MikeKlassen @CityofVancouver @pricetags01 The virtue signalling is strong 💪 here - but I do agree. They would just require more maintenance that the city doesn’t seem keen on. \\n@brandever : @MikeKlassen @CityofVancouver @sandyjamesplan @pricetags01 What I like the most about your green lane initiative, Mike, is the sense of neighbourhood pride that it encourages. It’s a big win on so many fronts. Vancouver should lead the way with these! \\n@sandyjamesplan : @thx1979 @PeterMeiszner @MikeKlassen @CityofVancouver @pricetags01 With all due respect-The country lane treatment actually slows vehicles down, creates a public space, is a carbon sink and works to prevent flooding on adjacent properties. It was never costed correctly for the ecological advantages it provides. It won international design awards \\n@thx1979 : @sandyjamesplan @PeterMeiszner @MikeKlassen @CityofVancouver @pricetags01 …In specific places and circumstances. \\n@MikeKlassen : @sandyjamesplan @thx1979 @PeterMeiszner @CityofVancouver @pricetags01 Agreed. The beauty of the Country Lane is also that in 20 years the lane has had zero city maintenance..nada. To keep them clean and beautiful neighbours must pitch it like with ours. https://t.co/wzF2FLcLcY \\n@thx1979 : @MikeKlassen @sandyjamesplan @PeterMeiszner @CityofVancouver @pricetags01 Exactly. Well done. \\n@thx1979 : @brandever @MikeKlassen @CityofVancouver @sandyjamesplan @pricetags01 I believe #westvan should embrace more of these in Ambleside/Dundarave while making hard decisions on zoning as well. \\n\\nA trade off? \\n\\nCountry lane roads and quadplexes in the BP’s? \\n\\n#northvan \\n@sandyjamesplan : @MikeKlassen @thx1979 @PeterMeiszner @CityofVancouver @pricetags01 Mike do you have more of these photos of this back lane visit?I was leading an international group of planners and mayors . That’s a photo of Kathleen Kern in the back. She was killed in a plane crash with other city staff while working for the Maui Planning department in Hawaii. \\n@MikeKlassen : @sandyjamesplan Very sad to hear that. Yes, I have lots of images from that visit and other Country Lane gatherings. I’ll email a link. \\n@ILiveInEastVan : @MikeKlassen @CityofVancouver @sandyjamesplan @pricetags01 Love this concept. As a steward, I\\'m curious have you noticed if it slows down the speed of car traffic? \\n@MikeKlassen : @ILiveInEastVan @CityofVancouver @sandyjamesplan @pricetags01 Absolutely. No one speeds along the Country Lane (or if they do it’s exceedingly rare). There are so many benefits and that is one of them! \\n@angelahaer : @MikeKlassen @CityofVancouver @sandyjamesplan @pricetags01 This is beautiful and timeless.  We need more of these country lanes in the city. #foodforthesoul \\n@Sdg13Un : Every bit of #globalwarming worsens #climate #impacts 🌐 https://t.co/jUaz2gyo4d \\n@mphariprasad1 : @Sdg13Un The reason 4 global warming&amp;floods is by climate furry which happens by stoppage of natural winds resulted by over heat of earth\\'s atmosphere at nights &amp; removal of hills ,mountains&amp;forests. Let natural forces&lt;  \\nclimate furry. E.T.P.s 4 major exhausts suggested  to&lt;air pollution \\n@GreenHGlobal : @Sdg13Un We need to get on a path to halving emissions by 2030 now. #COP27...True true, it is that much dire serious, we have less than 15 years to reverse a catastrophe, all like-minded, concerned let us join hands in this mission. \\n@Sdg13Un : @mphariprasad1 Oh no.\\nThe #GlobalWarming #Climate is caused by us humans. \\nBy burning #FossilFuels and #biomass \\nwe blow #greenhouse gases into our #atmosphere 🌐\\n#ActNow Use 100% #renewables https://t.co/q27Wc31Uc3 \\n@Bubba57359510 : @Sdg13Un Earth being earth. https://t.co/Hsm7S34scx \\n@Sdg13Un : @DutyToTheSun Yes, that seems little. But if there were more, we wouldn\\'t exist.\\nFurther increases will certainly lead to a severe loss of prosperity in most regions of our world. \\n@Sdg13Un : @Bubba57359510 Yeah, that\\'s just #physics.\\nThe effect is also non-negotiable.\\nThe laws of physics apply.\\n➡️If there were more CO2 in earths #atmosphere , \\nwe wouldn\\'t exist.\\n➡️Further increases will certainly lead to a severe loss of prosperity in most regions of our world. https://t.co/c8PA5jvrVW \\n@DutyToTheSun : @Sdg13Un 0.04% more than seems little, it IS  miniscule.  Pure Gold is 99.9% that\\'s 0.1% not Gold.  The impure portion of pure Gold is 2.5 times larger than the amount of CO2 in the atmosphere.  CO2 in a greenhouse makes plants grow exuberantly, they in turn release even MORE Oxygen. \\n@T_Marie_Wms : My first day as a #college #professor! I am teaching a #climatechange course and it\\'s my dream! But as you can see I\\'m excited and nervous! It is all up to me now (yes, it will be #plant heavy). 😊 #NewPI #AcademicTwitter #BlackBotanistsWeek #BlackinSTEM #WomenInSTEM @BucknellU https://t.co/zuzOGK718l \\n@nino_kadic : @T_Marie_Wms @BucknellU @MartineBotany @BucknellCAS Congratulations and good luck!! \\n@StumpedGrad : @T_Marie_Wms @BucknellU @MartineBotany @BucknellCAS So proud of you!!! \\n@Lagomarsino_L : @T_Marie_Wms @BucknellU @MartineBotany @BucknellCAS Yay, congrats! Your students are so lucky! \\n@LizzWaring : @T_Marie_Wms @BucknellU @MartineBotany @BucknellCAS Congratulations!!!!! If you made it through day 1, you\\'ll make it through the rest! https://t.co/MJw8pXah0J \\n@KandisGilmore : @T_Marie_Wms @BucknellU @MartineBotany @BucknellCAS Congratulations,  enjoy your first day!! \\n@Ajwakbot : @T_Marie_Wms @BucknellU @MartineBotany @BucknellCAS Very big congratulations Prof, and  I wish you the best 🎉 \\n@EMSLscience : @T_Marie_Wms @BucknellU @MartineBotany @BucknellCAS Congratulations on making your dreams come true! Have a great first day. \\n@JorgeRH2O : @T_Marie_Wms @BucknellU @MartineBotany @BucknellCAS Super mega felicidades!!! \\n@lifedispersing : @T_Marie_Wms @BucknellU @MartineBotany @BucknellCAS Congratulations!!! You’re going to be great!!! \\n@Chukwum87110724 : @T_Marie_Wms @BucknellU @MartineBotany @BucknellCAS Great! \\n@JAjowele : @T_Marie_Wms @BucknellU @MartineBotany @BucknellCAS Congratulations 🎊 \\n@ThreatSolu2 : @T_Marie_Wms @BucknellU @MartineBotany @BucknellCAS I hope you teach the Carbon Cycle &amp; CO2\\'s role in photosynthesis first. Maybe you could also add some Paleoclimatology? We both know you can\\'t judge any real, long term, \"climate change\" on 2 or 300yrs. of data. \\n@AquilaPrincess : @T_Marie_Wms @BucknellU @MartineBotany @BucknellCAS So excited for you!! You\\'ll be awesome!! \\n@UNKBiol106 : @T_Marie_Wms @BucknellU @MartineBotany @BucknellCAS Congrats! \\n@dudney_joan : @T_Marie_Wms @sara_lil_plants @BucknellU @MartineBotany @BucknellCAS Congratulations! Your students are so lucky to have you! \\n@VivieVAdorned : @T_Marie_Wms @BucknellU @MartineBotany @BucknellCAS Congratulations!!!! Good luck on your first day. \\U0001fab4🌷 \\n@RehmFieldBioLab : @T_Marie_Wms @BucknellU @MartineBotany @BucknellCAS So happy to see you in this position. I\\'ve been using your work on climate warming and Pelargonium in my ecology class for years. Can\\'t wait to see what\\'s next! \\n@SarahKnutie : @T_Marie_Wms @BucknellU @MartineBotany @BucknellCAS Wohoo you\\'re going to do amazing! \\n@0_minyaaa : @T_Marie_Wms @BucknellU @MartineBotany @BucknellCAS I already knew you will be a great prof!!!!! &lt;3 &lt;3 &lt;3 \\n@may_gun : @T_Marie_Wms Congratulations! \\n@GardenEdSandra : @T_Marie_Wms @BucknellU @MartineBotany @BucknellCAS Happy first day!  You\\'ve got this!! \\n@evornithology : @T_Marie_Wms @BucknellU @MartineBotany @BucknellCAS Yo you\\'re gonna do great! \\n@arosejohnson : @T_Marie_Wms @BucknellU @MartineBotany @BucknellCAS How exciting &amp; wonderful! You got this! And these kiddos need your wealth of knowledge to incorporate proper change. So grateful for you! 🙌🏼🌱🌎 \\n@science_irl : @T_Marie_Wms @BucknellU @MartineBotany @BucknellCAS Yaaay happy happy first day!!! Wish I could be a Bucknell student and take your class 🥰 \\n@KristenNolting : @T_Marie_Wms @BucknellU @MartineBotany @BucknellCAS Woohoo!!!! I love this, Prof. Williams!!! Super excited for you and your students! \\n@tomkimmerer : @T_Marie_Wms @Sullylubbts13 @BucknellU @MartineBotany @BucknellCAS Hooray! You’ll do great things. \\n@ProfRomi : @T_Marie_Wms @BucknellU @MartineBotany @BucknellCAS Bucknell is lucky. Say hi to Matt McTammany for me \\n@ebsessa : @T_Marie_Wms @BucknellU @MartineBotany @BucknellCAS Congratulations!! You will be an amazing PI! 🌿💚🌿💚 \\n@T_Marie_Wms : @BessKoffman @BucknellU @MartineBotany @BucknellCAS @DeltaDeuterium I have not, but will be sure to reach out! \\n@RachelJabaily : @T_Marie_Wms @BucknellU @MartineBotany @BucknellCAS Congratulations! Your students are so lucky to have you! Your talk at Botany was phenomenal :D \\n@DrCABerry : @T_Marie_Wms @BucknellU @MartineBotany @BucknellCAS Congrats doc! You got this. \\n@AcademicLifeNBN : @T_Marie_Wms @BucknellU @MartineBotany @BucknellCAS 🎉🎉 \\n@MikeNelson247 : Climate Scientists are not \"making bank\" with their research!  They dedicated people that understand what the increase in CO2 is doing to warm the planet!  We should heed their warnings! @denverchannel @ClimateCentral @ametsoc #climatechange #globalwarming #cowx @airscottdenning https://t.co/xDtlGtqsHc \\n@OuttaEdibles : @MikeNelson247 @DenverChannel @ClimateCentral @ametsoc @airscottdenning The sky is falling, gimme all your money.... \\n@MinnesotaALPS : @MikeNelson247 @DenverChannel @ClimateCentral @ametsoc @airscottdenning No we shouldn\\'t, it\\'s a money grab by the government. \\n@MinnesotaALPS : @MikeNelson247 @DenverChannel @ClimateCentral @ametsoc @airscottdenning Peddle your falsehoods elsewhere, climate has been changing forever. \\n@MikeNelson247 : @broadshark @DenverChannel @ClimateCentral @ametsoc @airscottdenning Here is a link for a free download of “The World’s Littlest Book on Climate”\\n\\nhttps://t.co/4dRdjOf4vf\\n\\nBest wishes,\\n\\nMike Nelson\\nChief Meteorologist Denver7\\nFellow of the American Meteorological Society https://t.co/qtmKap6DS6 \\n@broadshark : @MikeNelson247 @DenverChannel @ClimateCentral @ametsoc @airscottdenning Thank you, Mike! \\n@CwHash22 : @MikeNelson247 @DenverChannel @ClimateCentral @ametsoc @airscottdenning Climate scientists are so rich, competing with social workers for the top used Hyaundis on the market \\n@BrettKarabensh : @MikeNelson247 @DenverChannel @ClimateCentral @ametsoc @airscottdenning They are making bank! By passing BS bills to line their pockets, in the name of climate crisis, which fools believe. You do understand that humans exhale CO2, right? You do understand that basically everything we touch has Carbon, right? 🤡 \\n@danielr528063 : @MikeNelson247 @DenverChannel @ClimateCentral @ametsoc @airscottdenning Scientists aren\\'t making bank.\\nIt\\'s the millionaires telling us to make a smaller  carbon foot print while the fly to a meeting about climate change.\\nIf the rich can but I can\\'t.\\nScrew climate change.'"
            ],
            "application/vnd.google.colaboratory.intrinsic+json": {
              "type": "string"
            }
          },
          "metadata": {},
          "execution_count": 12
        }
      ]
    },
    {
      "cell_type": "code",
      "source": [
        "with open(\"Climate.txt\", \"w\") as text_file:\n",
        "    text_file.write(text)"
      ],
      "metadata": {
        "id": "uy5uDUnN9Dtd"
      },
      "execution_count": null,
      "outputs": []
    },
    {
      "cell_type": "markdown",
      "source": [
        "##save"
      ],
      "metadata": {
        "id": "Lq7D4C5I9Dti"
      }
    },
    {
      "cell_type": "code",
      "source": [
        "tweets_df_all = clean_text(tweets_df_all, 'text')\n",
        "tweets_df_all.drop_duplicates('clean_text').shape"
      ],
      "metadata": {
        "colab": {
          "base_uri": "https://localhost:8080/"
        },
        "id": "NXDayYzPN1oh",
        "outputId": "859c83d7-3662-46f6-86ef-90ff9c29e1e3"
      },
      "execution_count": null,
      "outputs": [
        {
          "output_type": "execute_result",
          "data": {
            "text/plain": [
              "(1673, 9)"
            ]
          },
          "metadata": {},
          "execution_count": 134
        }
      ]
    },
    {
      "cell_type": "code",
      "source": [
        "tweets_df_all = tweets_df_all.drop_duplicates('clean_text')"
      ],
      "metadata": {
        "id": "DgUV1YMZN8kk"
      },
      "execution_count": null,
      "outputs": []
    },
    {
      "cell_type": "code",
      "source": [
        "len(\" \".join(tweets_df_all.clean_text.values).split(\" \"))"
      ],
      "metadata": {
        "colab": {
          "base_uri": "https://localhost:8080/"
        },
        "outputId": "bb8dc362-e9ec-472e-cadf-59eedd02566d",
        "id": "6tYZRjDZ9Dti"
      },
      "execution_count": null,
      "outputs": [
        {
          "output_type": "execute_result",
          "data": {
            "text/plain": [
              "34260"
            ]
          },
          "metadata": {},
          "execution_count": 136
        }
      ]
    },
    {
      "cell_type": "code",
      "source": [
        "tweets_df_all['text_R'] = '@' + tweets_df_all.username + ' : ' + tweets_df_all.text\n",
        "tweets_df_all['text_R']"
      ],
      "metadata": {
        "colab": {
          "base_uri": "https://localhost:8080/"
        },
        "outputId": "1c4cce45-fe8e-49dd-cd8d-b3b190fb7573",
        "id": "4evavmY09Dti"
      },
      "execution_count": null,
      "outputs": [
        {
          "output_type": "execute_result",
          "data": {
            "text/plain": [
              "0       @garyhgoodridge : Climate Change is real 👊🏿👊🏿 ...\n",
              "1       @BurlyMonk : @garyhgoodridge We are in deep tr...\n",
              "2                        @911psyche : @garyhgoodridge Yes\n",
              "3       @Abdulhameedmus4 : @garyhgoodridge Same here i...\n",
              "4       @DavidWGibson1 : @garyhgoodridge Nope,  not bu...\n",
              "                              ...                        \n",
              "1697    @DavidPe61785198 : @JimBair62221006 It's calle...\n",
              "1698    @tomkins_deborah : @6040split @JimBair62221006...\n",
              "1699    @mbc22 : @6040split @JimBair62221006 And just ...\n",
              "1700    @grouchapato : @JimBair62221006 The people who...\n",
              "1701    @6040split : @JimBair62221006 Buying power is ...\n",
              "Name: text_R, Length: 1673, dtype: object"
            ]
          },
          "metadata": {},
          "execution_count": 137
        }
      ]
    },
    {
      "cell_type": "code",
      "source": [
        "tweets_df_all = tweets_df_all[ ~(tweets_df_all.text.str.startswith(\"RT\")) ]\n",
        "tweets_df_all.shape"
      ],
      "metadata": {
        "colab": {
          "base_uri": "https://localhost:8080/"
        },
        "id": "GaxyUXQpPXCZ",
        "outputId": "1306e744-06ff-4c51-f787-15ab4692dd2f"
      },
      "execution_count": null,
      "outputs": [
        {
          "output_type": "execute_result",
          "data": {
            "text/plain": [
              "(1673, 9)"
            ]
          },
          "metadata": {},
          "execution_count": 139
        }
      ]
    },
    {
      "cell_type": "code",
      "source": [
        "tweets_df_all.head()"
      ],
      "metadata": {
        "colab": {
          "base_uri": "https://localhost:8080/",
          "height": 441
        },
        "id": "oKeCqPdAjBQA",
        "outputId": "9c970361-5e9c-4b81-8d6a-b52e6d9760df"
      },
      "execution_count": null,
      "outputs": [
        {
          "output_type": "execute_result",
          "data": {
            "text/plain": [
              "                                                text  conversation_id  \\\n",
              "0  Climate Change is real 👊🏿👊🏿 Are you a believer...     1.560081e+18   \n",
              "1    @garyhgoodridge We are in deep trouble #SadTime     1.560081e+18   \n",
              "2                                @garyhgoodridge Yes     1.560081e+18   \n",
              "3       @garyhgoodridge Same here in my dear nation.     1.560081e+18   \n",
              "4              @garyhgoodridge Nope,  not buying it.     1.560081e+18   \n",
              "\n",
              "                                      public_metrics         username  \\\n",
              "0  {'retweet_count': 35, 'reply_count': 19, 'like...   garyhgoodridge   \n",
              "1  {'retweet_count': 7, 'reply_count': 4, 'like_c...        BurlyMonk   \n",
              "2  {'retweet_count': 1, 'reply_count': 0, 'like_c...        911psyche   \n",
              "3  {'retweet_count': 0, 'reply_count': 0, 'like_c...  Abdulhameedmus4   \n",
              "4  {'retweet_count': 0, 'reply_count': 0, 'like_c...    DavidWGibson1   \n",
              "\n",
              "                 date                                             text_R  \\\n",
              "0 2022-08-18 01:47:03  @garyhgoodridge : Climate Change is real 👊🏿👊🏿 ...   \n",
              "1 2022-08-18 01:48:06  @BurlyMonk : @garyhgoodridge We are in deep tr...   \n",
              "2 2022-08-18 01:48:24                   @911psyche : @garyhgoodridge Yes   \n",
              "3 2022-08-18 01:48:54  @Abdulhameedmus4 : @garyhgoodridge Same here i...   \n",
              "4 2022-08-18 01:50:04  @DavidWGibson1 : @garyhgoodridge Nope,  not bu...   \n",
              "\n",
              "             id created_at                                        clean_text  \n",
              "0  1.560081e+18        NaT  climate change is real 👊🏿👊🏿 are you a believer ?  \n",
              "1  1.560081e+18        NaT                            we are in deep trouble  \n",
              "2  1.560081e+18        NaT                                               yes  \n",
              "3  1.560081e+18        NaT                      same here in my dear nation.  \n",
              "4  1.560082e+18        NaT                              nope, not buying it.  "
            ],
            "text/html": [
              "\n",
              "  <div id=\"df-b92913ad-beff-4a79-84e1-26c70abe8786\">\n",
              "    <div class=\"colab-df-container\">\n",
              "      <div>\n",
              "<style scoped>\n",
              "    .dataframe tbody tr th:only-of-type {\n",
              "        vertical-align: middle;\n",
              "    }\n",
              "\n",
              "    .dataframe tbody tr th {\n",
              "        vertical-align: top;\n",
              "    }\n",
              "\n",
              "    .dataframe thead th {\n",
              "        text-align: right;\n",
              "    }\n",
              "</style>\n",
              "<table border=\"1\" class=\"dataframe\">\n",
              "  <thead>\n",
              "    <tr style=\"text-align: right;\">\n",
              "      <th></th>\n",
              "      <th>text</th>\n",
              "      <th>conversation_id</th>\n",
              "      <th>public_metrics</th>\n",
              "      <th>username</th>\n",
              "      <th>date</th>\n",
              "      <th>text_R</th>\n",
              "      <th>id</th>\n",
              "      <th>created_at</th>\n",
              "      <th>clean_text</th>\n",
              "    </tr>\n",
              "  </thead>\n",
              "  <tbody>\n",
              "    <tr>\n",
              "      <th>0</th>\n",
              "      <td>Climate Change is real 👊🏿👊🏿 Are you a believer...</td>\n",
              "      <td>1.560081e+18</td>\n",
              "      <td>{'retweet_count': 35, 'reply_count': 19, 'like...</td>\n",
              "      <td>garyhgoodridge</td>\n",
              "      <td>2022-08-18 01:47:03</td>\n",
              "      <td>@garyhgoodridge : Climate Change is real 👊🏿👊🏿 ...</td>\n",
              "      <td>1.560081e+18</td>\n",
              "      <td>NaT</td>\n",
              "      <td>climate change is real 👊🏿👊🏿 are you a believer ?</td>\n",
              "    </tr>\n",
              "    <tr>\n",
              "      <th>1</th>\n",
              "      <td>@garyhgoodridge We are in deep trouble #SadTime</td>\n",
              "      <td>1.560081e+18</td>\n",
              "      <td>{'retweet_count': 7, 'reply_count': 4, 'like_c...</td>\n",
              "      <td>BurlyMonk</td>\n",
              "      <td>2022-08-18 01:48:06</td>\n",
              "      <td>@BurlyMonk : @garyhgoodridge We are in deep tr...</td>\n",
              "      <td>1.560081e+18</td>\n",
              "      <td>NaT</td>\n",
              "      <td>we are in deep trouble</td>\n",
              "    </tr>\n",
              "    <tr>\n",
              "      <th>2</th>\n",
              "      <td>@garyhgoodridge Yes</td>\n",
              "      <td>1.560081e+18</td>\n",
              "      <td>{'retweet_count': 1, 'reply_count': 0, 'like_c...</td>\n",
              "      <td>911psyche</td>\n",
              "      <td>2022-08-18 01:48:24</td>\n",
              "      <td>@911psyche : @garyhgoodridge Yes</td>\n",
              "      <td>1.560081e+18</td>\n",
              "      <td>NaT</td>\n",
              "      <td>yes</td>\n",
              "    </tr>\n",
              "    <tr>\n",
              "      <th>3</th>\n",
              "      <td>@garyhgoodridge Same here in my dear nation.</td>\n",
              "      <td>1.560081e+18</td>\n",
              "      <td>{'retweet_count': 0, 'reply_count': 0, 'like_c...</td>\n",
              "      <td>Abdulhameedmus4</td>\n",
              "      <td>2022-08-18 01:48:54</td>\n",
              "      <td>@Abdulhameedmus4 : @garyhgoodridge Same here i...</td>\n",
              "      <td>1.560081e+18</td>\n",
              "      <td>NaT</td>\n",
              "      <td>same here in my dear nation.</td>\n",
              "    </tr>\n",
              "    <tr>\n",
              "      <th>4</th>\n",
              "      <td>@garyhgoodridge Nope,  not buying it.</td>\n",
              "      <td>1.560081e+18</td>\n",
              "      <td>{'retweet_count': 0, 'reply_count': 0, 'like_c...</td>\n",
              "      <td>DavidWGibson1</td>\n",
              "      <td>2022-08-18 01:50:04</td>\n",
              "      <td>@DavidWGibson1 : @garyhgoodridge Nope,  not bu...</td>\n",
              "      <td>1.560082e+18</td>\n",
              "      <td>NaT</td>\n",
              "      <td>nope, not buying it.</td>\n",
              "    </tr>\n",
              "  </tbody>\n",
              "</table>\n",
              "</div>\n",
              "      <button class=\"colab-df-convert\" onclick=\"convertToInteractive('df-b92913ad-beff-4a79-84e1-26c70abe8786')\"\n",
              "              title=\"Convert this dataframe to an interactive table.\"\n",
              "              style=\"display:none;\">\n",
              "        \n",
              "  <svg xmlns=\"http://www.w3.org/2000/svg\" height=\"24px\"viewBox=\"0 0 24 24\"\n",
              "       width=\"24px\">\n",
              "    <path d=\"M0 0h24v24H0V0z\" fill=\"none\"/>\n",
              "    <path d=\"M18.56 5.44l.94 2.06.94-2.06 2.06-.94-2.06-.94-.94-2.06-.94 2.06-2.06.94zm-11 1L8.5 8.5l.94-2.06 2.06-.94-2.06-.94L8.5 2.5l-.94 2.06-2.06.94zm10 10l.94 2.06.94-2.06 2.06-.94-2.06-.94-.94-2.06-.94 2.06-2.06.94z\"/><path d=\"M17.41 7.96l-1.37-1.37c-.4-.4-.92-.59-1.43-.59-.52 0-1.04.2-1.43.59L10.3 9.45l-7.72 7.72c-.78.78-.78 2.05 0 2.83L4 21.41c.39.39.9.59 1.41.59.51 0 1.02-.2 1.41-.59l7.78-7.78 2.81-2.81c.8-.78.8-2.07 0-2.86zM5.41 20L4 18.59l7.72-7.72 1.47 1.35L5.41 20z\"/>\n",
              "  </svg>\n",
              "      </button>\n",
              "      \n",
              "  <style>\n",
              "    .colab-df-container {\n",
              "      display:flex;\n",
              "      flex-wrap:wrap;\n",
              "      gap: 12px;\n",
              "    }\n",
              "\n",
              "    .colab-df-convert {\n",
              "      background-color: #E8F0FE;\n",
              "      border: none;\n",
              "      border-radius: 50%;\n",
              "      cursor: pointer;\n",
              "      display: none;\n",
              "      fill: #1967D2;\n",
              "      height: 32px;\n",
              "      padding: 0 0 0 0;\n",
              "      width: 32px;\n",
              "    }\n",
              "\n",
              "    .colab-df-convert:hover {\n",
              "      background-color: #E2EBFA;\n",
              "      box-shadow: 0px 1px 2px rgba(60, 64, 67, 0.3), 0px 1px 3px 1px rgba(60, 64, 67, 0.15);\n",
              "      fill: #174EA6;\n",
              "    }\n",
              "\n",
              "    [theme=dark] .colab-df-convert {\n",
              "      background-color: #3B4455;\n",
              "      fill: #D2E3FC;\n",
              "    }\n",
              "\n",
              "    [theme=dark] .colab-df-convert:hover {\n",
              "      background-color: #434B5C;\n",
              "      box-shadow: 0px 1px 3px 1px rgba(0, 0, 0, 0.15);\n",
              "      filter: drop-shadow(0px 1px 2px rgba(0, 0, 0, 0.3));\n",
              "      fill: #FFFFFF;\n",
              "    }\n",
              "  </style>\n",
              "\n",
              "      <script>\n",
              "        const buttonEl =\n",
              "          document.querySelector('#df-b92913ad-beff-4a79-84e1-26c70abe8786 button.colab-df-convert');\n",
              "        buttonEl.style.display =\n",
              "          google.colab.kernel.accessAllowed ? 'block' : 'none';\n",
              "\n",
              "        async function convertToInteractive(key) {\n",
              "          const element = document.querySelector('#df-b92913ad-beff-4a79-84e1-26c70abe8786');\n",
              "          const dataTable =\n",
              "            await google.colab.kernel.invokeFunction('convertToInteractive',\n",
              "                                                     [key], {});\n",
              "          if (!dataTable) return;\n",
              "\n",
              "          const docLinkHtml = 'Like what you see? Visit the ' +\n",
              "            '<a target=\"_blank\" href=https://colab.research.google.com/notebooks/data_table.ipynb>data table notebook</a>'\n",
              "            + ' to learn more about interactive tables.';\n",
              "          element.innerHTML = '';\n",
              "          dataTable['output_type'] = 'display_data';\n",
              "          await google.colab.output.renderOutput(dataTable, element);\n",
              "          const docLink = document.createElement('div');\n",
              "          docLink.innerHTML = docLinkHtml;\n",
              "          element.appendChild(docLink);\n",
              "        }\n",
              "      </script>\n",
              "    </div>\n",
              "  </div>\n",
              "  "
            ]
          },
          "metadata": {},
          "execution_count": 138
        }
      ]
    },
    {
      "cell_type": "code",
      "source": [
        "tweets_df_all.columns"
      ],
      "metadata": {
        "colab": {
          "base_uri": "https://localhost:8080/"
        },
        "id": "N2cRLpguOH_w",
        "outputId": "b374c2d8-35b0-47b1-ae2d-efaddc0cc0e5"
      },
      "execution_count": null,
      "outputs": [
        {
          "output_type": "execute_result",
          "data": {
            "text/plain": [
              "Index(['text', 'conversation_id', 'public_metrics', 'username', 'date',\n",
              "       'text_R', 'id', 'created_at', 'clean_text'],\n",
              "      dtype='object')"
            ]
          },
          "metadata": {},
          "execution_count": 140
        }
      ]
    },
    {
      "cell_type": "code",
      "source": [
        "tweets_df_all = tweets_df_all.sort_values(by = ['conversation_id', 'date', 'text'])\n",
        "tweets_df_all = tweets_df_all.reset_index(drop=True)\n",
        "tweets_df_all[['text', 'conversation_id', 'public_metrics', 'username', 'date', 'text_R', 'id']].to_excel('/content/drive/MyDrive/Colab Notebooks/reddit_IAA/tweets_climate.xlsx')"
      ],
      "metadata": {
        "id": "tBrsicpL9Dti"
      },
      "execution_count": null,
      "outputs": []
    },
    {
      "cell_type": "code",
      "source": [],
      "metadata": {
        "id": "rZzvUc9q9Dtj"
      },
      "execution_count": null,
      "outputs": []
    },
    {
      "cell_type": "markdown",
      "source": [
        "#Reddit"
      ],
      "metadata": {
        "id": "ft2VYdZVkGd5"
      }
    },
    {
      "cell_type": "code",
      "source": [
        "!pip install praw"
      ],
      "metadata": {
        "id": "wPKZPHujkHYf"
      },
      "execution_count": null,
      "outputs": []
    },
    {
      "cell_type": "code",
      "source": [
        "import praw\n",
        "import datetime"
      ],
      "metadata": {
        "id": "Neb3d4p2kMZo"
      },
      "execution_count": null,
      "outputs": []
    },
    {
      "cell_type": "code",
      "source": [
        "client = ''\n",
        "secter = ''"
      ],
      "metadata": {
        "id": "FuiGp9XYkO0n"
      },
      "execution_count": null,
      "outputs": []
    },
    {
      "cell_type": "code",
      "source": [
        "reddit = praw.Reddit(client_id=client, client_secret=secter, user_agent='', check_for_async=False)\n"
      ],
      "metadata": {
        "id": "wtdUnwYSd7gu"
      },
      "execution_count": null,
      "outputs": []
    },
    {
      "cell_type": "code",
      "source": [
        "comment_list = []\n",
        "counter = 0\n",
        "# climateskeptics climatechange \n",
        "for submission in reddit.subreddit(\"climateskeptics\").top(\"month\"):\n",
        "    print(submission, submission.title)\n",
        "    counter = counter + 1\n",
        "    if counter > 50:\n",
        "      break\n",
        "    else:\n",
        "      print('counter: ', counter)\n",
        "    comment_object = (submission.title + submission.selftext, submission.author, submission.permalink,'', '', datetime.datetime.fromtimestamp(submission.created_utc).strftime(\"%m/%d/%Y, %H:%M:%S\"))\n",
        "    comment_list.append(comment_object)\n",
        "\n",
        "    submission.comments.replace_more(limit=None)\n",
        "    print('len submission: ', len(submission.comments.list()))\n",
        "    print(\"\\n\")\n",
        "    for comment in submission.comments.list():\n",
        "      text = comment.body\n",
        "      author = comment.author\n",
        "      commurl = comment.permalink\n",
        "      parent = comment.parent()\n",
        "      comtime = datetime.datetime.fromtimestamp(comment.created_utc).strftime(\"%m/%d/%Y, %H:%M:%S\")\n",
        "      comment_id = comment.id\n",
        "      comment_object = ''\n",
        "      comment_object = (text, author, commurl,comment_id, parent, comtime)\n",
        "      comment_list.append(comment_object)\n",
        "    \n",
        "df = pd.DataFrame(comment_list, columns=['text', 'author', 'comment_url', 'comment_id','parent_id', 'timestamp'])\n"
      ],
      "metadata": {
        "colab": {
          "base_uri": "https://localhost:8080/",
          "height": 1000
        },
        "id": "CKUHngzYl7CA",
        "outputId": "5bb4513e-7934-4188-9bdf-d98909b83961"
      },
      "execution_count": null,
      "outputs": [
        {
          "output_type": "stream",
          "name": "stderr",
          "text": [
            "/usr/local/lib/python3.7/dist-packages/ipykernel_launcher.py:4: DeprecationWarning: Positional arguments for 'BaseListingMixin.top' will no longer be supported in PRAW 8.\n",
            "Call this function with 'time_filter' as a keyword argument.\n",
            "  after removing the cwd from sys.path.\n"
          ]
        },
        {
          "output_type": "stream",
          "name": "stdout",
          "text": [
            "wtyxrr the Green mentality\n",
            "counter:  1\n",
            "len submission:  57\n",
            "\n",
            "\n",
            "wd1c66 Never take hypocrites seriously\n",
            "counter:  2\n",
            "len submission:  35\n",
            "\n",
            "\n",
            "wb10aw This revelation relates to the 2013 UNIPCC climate report and should have put an end to the AGW hoax. Instead, the lies, dishonesty and scare mongering simply escalated. If you're not asking questions about this, and aside from anything else, you're part of the problem.\n",
            "counter:  3\n",
            "len submission:  115\n",
            "\n",
            "\n",
            "wh083y I feel it’s time for the world to acknowledge the fact that severely mentally ill individuals have found their way into science and academia.\n",
            "counter:  4\n",
            "len submission:  58\n",
            "\n",
            "\n",
            "wsbsjt Here’s an aerial shot of a lithium field in northern Chile. The fields are so neuro-toxic that a bird landing on them will die within minutes. I wonder, is this what our puppet politicians and eco-fascists refer to when they say “clean, green energy”?\n",
            "counter:  5\n",
            "len submission:  66\n",
            "\n",
            "\n",
            "wr1cuj A tree wow\n",
            "counter:  6\n",
            "len submission:  65\n",
            "\n",
            "\n",
            "wxbwcf There, taht was easy.\n",
            "counter:  7\n",
            "len submission:  14\n",
            "\n",
            "\n",
            "wf7hil The BBC: The Arctic is warming 150 times faster than anywhere else on the planet! The Guardian: Hold my beer!\n",
            "counter:  8\n",
            "len submission:  34\n",
            "\n",
            "\n",
            "wwqbrp The Revolution Eats its Own Children\n",
            "counter:  9\n",
            "len submission:  26\n",
            "\n",
            "\n",
            "wllagb Did you know the ice on greenland is growing?\n",
            "counter:  10\n",
            "len submission:  127\n",
            "\n",
            "\n",
            "woyze5 Climate change is making your kids less active. No, not Tik Tok, Iphones, Netflix, or covid lockdown induced social anxiety.\n",
            "counter:  11\n",
            "len submission:  10\n",
            "\n",
            "\n",
            "wtdody Study Finds 0% Of Leftists Who Are Warning About Overpopulation Have Volunteered To Die First\n",
            "counter:  12\n",
            "len submission:  21\n",
            "\n",
            "\n",
            "wsv4qb Global warming is the greatest scientific fraud in history\n",
            "counter:  13\n",
            "len submission:  56\n",
            "\n",
            "\n",
            "wcae2v Garbage In, Garbage Out: 96% of NOAA Temperature Stations Fail ‘Uncorrupted Placement’ Standards\n",
            "counter:  14\n",
            "len submission:  42\n",
            "\n",
            "\n",
            "w98ax6 “Climate change is an existential threat. We only have ten years left to save the planet. Our children's future is at stake.” Be assured that every politician pushing such messages is an agent for tyranny.\n",
            "counter:  15\n",
            "len submission:  21\n",
            "\n",
            "\n",
            "wkec0x It’s too late, folks. Global warming is now unstoppable and the polar ice caps are gone.\n",
            "counter:  16\n",
            "len submission:  222\n",
            "\n",
            "\n",
            "we58sq Anti-Globalist President of Brazil Vs WEF Hollywood Hypocrite.\n",
            "counter:  17\n",
            "len submission:  13\n",
            "\n",
            "\n",
            "wik70q The Big Land Grab\n",
            "counter:  18\n",
            "len submission:  13\n",
            "\n",
            "\n",
            "wkld8h Netherlands to SHUT DOWN 11,200 farms to meet climate goals\n",
            "counter:  19\n",
            "len submission:  52\n",
            "\n",
            "\n",
            "wq29c7 Poll: Public Concern about Climate Change Warnings is Plummeting\n",
            "counter:  20\n",
            "len submission:  23\n",
            "\n",
            "\n",
            "wvmb72 I wish I could tell you this is satire. I mean, it is The Guardian after all.\n",
            "counter:  21\n",
            "len submission:  25\n",
            "\n",
            "\n",
            "waeedg Next Level Alarmism\n",
            "counter:  22\n",
            "len submission:  45\n",
            "\n",
            "\n",
            "wi12uv Reuters, If you turn every single news story into climate change eco-alarmism, you stop being a news source and you become just another propaganda outlet.\n",
            "counter:  23\n",
            "len submission:  13\n",
            "\n",
            "\n",
            "wp5iel .....and the saga continues even today.\n",
            "counter:  24\n",
            "len submission:  130\n",
            "\n",
            "\n",
            "wockpw Unmasked 'climate warrior' Justin Trudeau, family take private jet to vacation in Costa Rica\n",
            "counter:  25\n",
            "len submission:  7\n",
            "\n",
            "\n",
            "wx6nxg Men cuase 40% more Climate Change than Women\n",
            "counter:  26\n",
            "len submission:  45\n",
            "\n",
            "\n",
            "whu0q3 “What did You do in the Climate War, Daddy?”\n",
            "counter:  27\n",
            "len submission:  56\n",
            "\n",
            "\n",
            "wqp143 The Bad News: Seven times faster than global average. The Good News: Seven x Zero = Zero.\n",
            "counter:  28\n",
            "len submission:  26\n",
            "\n",
            "\n",
            "wqp3uu England must reduce meat intake to avoid climate breakdown, says food tsar. And who is this so-called \"food tsar\"?\n",
            "counter:  29\n",
            "len submission:  39\n",
            "\n",
            "\n",
            "wrlbx6 Get ready for your Climate Change Vaccine\n",
            "counter:  30\n",
            "len submission:  5\n",
            "\n",
            "\n",
            "wl4ryw For decades we've known that government pushed solutions often have terrible consequences (see the laughable MTBE travesty in CA)\n",
            "counter:  31\n",
            "len submission:  2\n",
            "\n",
            "\n",
            "wg77y7 Data Disproves BBC's Claim of ‘Sea Level Rise Speeding Up'\n",
            "counter:  32\n",
            "len submission:  57\n",
            "\n",
            "\n",
            "wusima 2.5 trillion cubic feet of gas discovered off Cyprus. Green activists and eco-fascists: Don’t you dare touch it! We need more windmills and solar panels!\n",
            "counter:  33\n",
            "len submission:  29\n",
            "\n",
            "\n",
            "w9lxty Corrupted Weather Stations Report: – It’s ‘worse than we thought’\n",
            "counter:  34\n",
            "len submission:  20\n",
            "\n",
            "\n",
            "wfgunf Why is being a climate skeptic the most radical opinion of the day?\n",
            "counter:  35\n",
            "len submission:  294\n",
            "\n",
            "\n",
            "wk6ip6 2021 paper in Nature busts alarmist Euro drought claims in multiple ways\n",
            "counter:  36\n",
            "len submission:  56\n",
            "\n",
            "\n",
            "wlm63i It wasn't CO2 after all: Climate researchers find the root causes of climate change are capitalism, white supremacy, and colonialism\n",
            "counter:  37\n",
            "len submission:  19\n",
            "\n",
            "\n",
            "whct7e Greenland was warmer 1,000 years ago than today\n",
            "counter:  38\n",
            "len submission:  45\n",
            "\n",
            "\n",
            "ws8htq World Climate Declaration - Start of a Pushback?\n",
            "counter:  39\n",
            "len submission:  51\n",
            "\n",
            "\n",
            "wrkq41 A fantastic monologue from Neil Oliver, GB News: “The ripe stink of (government) corruption is everywhere.” Link under comments.\n",
            "counter:  40\n",
            "len submission:  3\n",
            "\n",
            "\n",
            "wng45s Oh the unspeakable horrors of summer heat!\n",
            "counter:  41\n",
            "len submission:  6\n",
            "\n",
            "\n",
            "wl9u2q Climate Alarm Marine Ecologist Committed Misconduct, University Says\n",
            "counter:  42\n",
            "len submission:  20\n",
            "\n",
            "\n",
            "wilwe6 Sorry Alarmists, Great Barrier Reef Is Setting Records, Your Fearmongering Won’t Work\n",
            "counter:  43\n",
            "len submission:  60\n",
            "\n",
            "\n",
            "wgshkf Realists: 4,174. Alarmists: Nil.\n",
            "counter:  44\n",
            "len submission:  14\n",
            "\n",
            "\n",
            "weqiu2 Climate Activists Are Dancing For Joy: No Global Warming For 7 Years 11 Months Now\n",
            "counter:  45\n",
            "len submission:  53\n",
            "\n",
            "\n",
            "wdn5er July In Antarctica Was Another Colder-Than-Average Month; Record Chills In Madagascar & Heavy Snow Closes New Zealand Roads\n",
            "counter:  46\n",
            "len submission:  27\n",
            "\n",
            "\n",
            "w9c9nn In the name of climate change, Trudeau moves ahead with WEF’s plan to abolish farms by 2030\n",
            "counter:  47\n",
            "len submission:  50\n",
            "\n",
            "\n",
            "wfotw6 Energy Crisis: German State Prime Minister Declares Green Energy Transition has ‘Failed’\n",
            "counter:  48\n",
            "len submission:  13\n",
            "\n",
            "\n",
            "wchw5s ‘Greenhouse Gas Effect Does Not Exist,’ a Swiss Physicist Challenges Global Warming Climate Orthodoxy\n",
            "counter:  49\n",
            "len submission:  58\n",
            "\n",
            "\n",
            "wqpggg “You vill own nussing and you vill be happy. Energiewende vill set you free.”\n",
            "counter:  50\n",
            "len submission:  3\n",
            "\n",
            "\n",
            "wly14z We need an Attribution Study, quick!\n",
            "counter:  51\n",
            "len submission:  53\n",
            "\n",
            "\n",
            "wc2w5b War is Peace, Cooling is Warming\n",
            "counter:  52\n",
            "len submission:  14\n",
            "\n",
            "\n",
            "wg5h5s The fundamental problem of humans is trusting institutions of power to act selflessly.\n",
            "counter:  53\n",
            "len submission:  37\n",
            "\n",
            "\n",
            "wu9odw A meme from the future\n",
            "counter:  54\n",
            "len submission:  2\n",
            "\n",
            "\n",
            "wv0937 New Study: A Post-2000 Increase In Absorbed Solar Energy ‘By Far The Largest Contribution’ To Warming\n",
            "counter:  55\n",
            "len submission:  459\n",
            "\n",
            "\n",
            "wobw2f Cities Hiring Unnecessary “Heat Officers” to Warn People It’s Hot, Reports the Daily Caller\n",
            "counter:  56\n",
            "len submission:  8\n",
            "\n",
            "\n",
            "wu3ovw NASA \"Climate Prophet\" James Hansen Proclaimed The Arctic Would Be \"Free of Summer Ice\" by 2018\n",
            "counter:  57\n",
            "len submission:  8\n",
            "\n",
            "\n",
            "wcsl2i Tesla Motorists Frustrated To The Limit, Have To Endure Hours-Long Charging Delays In Extreme Heat\n",
            "counter:  58\n",
            "len submission:  13\n",
            "\n",
            "\n",
            "ws418g The more I look into the other side of the debate the more I realise there are more scientists than I thought that don't hold to the mainstream narrative\n",
            "counter:  59\n",
            "len submission:  44\n",
            "\n",
            "\n",
            "wg7vem No Change in Weather Extremes, just a Moving of the Goalposts\n",
            "counter:  60\n",
            "len submission:  5\n",
            "\n",
            "\n",
            "wq5ww3 Nay!\n",
            "counter:  61\n",
            "len submission:  15\n",
            "\n",
            "\n",
            "wbk2qq The Horror: NYC Residents are ENJOYING their Global Warming Heatwave\n",
            "counter:  62\n",
            "len submission:  3\n",
            "\n",
            "\n",
            "wtf5wx Whatever we are doing, let's keep it up, as it seems to be preventing hurricanes.\n",
            "counter:  63\n",
            "len submission:  21\n",
            "\n",
            "\n",
            "wjevn2 Average American Lives in a Warmer Climate by Moving There\n",
            "counter:  64\n"
          ]
        },
        {
          "output_type": "error",
          "ename": "KeyboardInterrupt",
          "evalue": "ignored",
          "traceback": [
            "\u001b[0;31m---------------------------------------------------------------------------\u001b[0m",
            "\u001b[0;31mKeyboardInterrupt\u001b[0m                         Traceback (most recent call last)",
            "\u001b[0;32m<ipython-input-15-e7479e42413f>\u001b[0m in \u001b[0;36m<module>\u001b[0;34m\u001b[0m\n\u001b[1;32m     12\u001b[0m     \u001b[0mcomment_list\u001b[0m\u001b[0;34m.\u001b[0m\u001b[0mappend\u001b[0m\u001b[0;34m(\u001b[0m\u001b[0mcomment_object\u001b[0m\u001b[0;34m)\u001b[0m\u001b[0;34m\u001b[0m\u001b[0;34m\u001b[0m\u001b[0m\n\u001b[1;32m     13\u001b[0m \u001b[0;34m\u001b[0m\u001b[0m\n\u001b[0;32m---> 14\u001b[0;31m     \u001b[0msubmission\u001b[0m\u001b[0;34m.\u001b[0m\u001b[0mcomments\u001b[0m\u001b[0;34m.\u001b[0m\u001b[0mreplace_more\u001b[0m\u001b[0;34m(\u001b[0m\u001b[0mlimit\u001b[0m\u001b[0;34m=\u001b[0m\u001b[0;32mNone\u001b[0m\u001b[0;34m)\u001b[0m\u001b[0;34m\u001b[0m\u001b[0;34m\u001b[0m\u001b[0m\n\u001b[0m\u001b[1;32m     15\u001b[0m     \u001b[0mprint\u001b[0m\u001b[0;34m(\u001b[0m\u001b[0;34m'len submission: '\u001b[0m\u001b[0;34m,\u001b[0m \u001b[0mlen\u001b[0m\u001b[0;34m(\u001b[0m\u001b[0msubmission\u001b[0m\u001b[0;34m.\u001b[0m\u001b[0mcomments\u001b[0m\u001b[0;34m.\u001b[0m\u001b[0mlist\u001b[0m\u001b[0;34m(\u001b[0m\u001b[0;34m)\u001b[0m\u001b[0;34m)\u001b[0m\u001b[0;34m)\u001b[0m\u001b[0;34m\u001b[0m\u001b[0;34m\u001b[0m\u001b[0m\n\u001b[1;32m     16\u001b[0m     \u001b[0mprint\u001b[0m\u001b[0;34m(\u001b[0m\u001b[0;34m\"\\n\"\u001b[0m\u001b[0;34m)\u001b[0m\u001b[0;34m\u001b[0m\u001b[0;34m\u001b[0m\u001b[0m\n",
            "\u001b[0;32m/usr/local/lib/python3.7/dist-packages/praw/models/reddit/base.py\u001b[0m in \u001b[0;36m__getattr__\u001b[0;34m(self, attribute)\u001b[0m\n\u001b[1;32m     32\u001b[0m         \u001b[0;34m\"\"\"Return the value of ``attribute``.\"\"\"\u001b[0m\u001b[0;34m\u001b[0m\u001b[0;34m\u001b[0m\u001b[0m\n\u001b[1;32m     33\u001b[0m         \u001b[0;32mif\u001b[0m \u001b[0;32mnot\u001b[0m \u001b[0mattribute\u001b[0m\u001b[0;34m.\u001b[0m\u001b[0mstartswith\u001b[0m\u001b[0;34m(\u001b[0m\u001b[0;34m\"_\"\u001b[0m\u001b[0;34m)\u001b[0m \u001b[0;32mand\u001b[0m \u001b[0;32mnot\u001b[0m \u001b[0mself\u001b[0m\u001b[0;34m.\u001b[0m\u001b[0m_fetched\u001b[0m\u001b[0;34m:\u001b[0m\u001b[0;34m\u001b[0m\u001b[0;34m\u001b[0m\u001b[0m\n\u001b[0;32m---> 34\u001b[0;31m             \u001b[0mself\u001b[0m\u001b[0;34m.\u001b[0m\u001b[0m_fetch\u001b[0m\u001b[0;34m(\u001b[0m\u001b[0;34m)\u001b[0m\u001b[0;34m\u001b[0m\u001b[0;34m\u001b[0m\u001b[0m\n\u001b[0m\u001b[1;32m     35\u001b[0m             \u001b[0;32mreturn\u001b[0m \u001b[0mgetattr\u001b[0m\u001b[0;34m(\u001b[0m\u001b[0mself\u001b[0m\u001b[0;34m,\u001b[0m \u001b[0mattribute\u001b[0m\u001b[0;34m)\u001b[0m\u001b[0;34m\u001b[0m\u001b[0;34m\u001b[0m\u001b[0m\n\u001b[1;32m     36\u001b[0m         raise AttributeError(\n",
            "\u001b[0;32m/usr/local/lib/python3.7/dist-packages/praw/models/reddit/submission.py\u001b[0m in \u001b[0;36m_fetch\u001b[0;34m(self)\u001b[0m\n\u001b[1;32m    630\u001b[0m \u001b[0;34m\u001b[0m\u001b[0m\n\u001b[1;32m    631\u001b[0m     \u001b[0;32mdef\u001b[0m \u001b[0m_fetch\u001b[0m\u001b[0;34m(\u001b[0m\u001b[0mself\u001b[0m\u001b[0;34m)\u001b[0m\u001b[0;34m:\u001b[0m\u001b[0;34m\u001b[0m\u001b[0;34m\u001b[0m\u001b[0m\n\u001b[0;32m--> 632\u001b[0;31m         \u001b[0mdata\u001b[0m \u001b[0;34m=\u001b[0m \u001b[0mself\u001b[0m\u001b[0;34m.\u001b[0m\u001b[0m_fetch_data\u001b[0m\u001b[0;34m(\u001b[0m\u001b[0;34m)\u001b[0m\u001b[0;34m\u001b[0m\u001b[0;34m\u001b[0m\u001b[0m\n\u001b[0m\u001b[1;32m    633\u001b[0m         \u001b[0msubmission_listing\u001b[0m\u001b[0;34m,\u001b[0m \u001b[0mcomment_listing\u001b[0m \u001b[0;34m=\u001b[0m \u001b[0mdata\u001b[0m\u001b[0;34m\u001b[0m\u001b[0;34m\u001b[0m\u001b[0m\n\u001b[1;32m    634\u001b[0m         \u001b[0mcomment_listing\u001b[0m \u001b[0;34m=\u001b[0m \u001b[0mListing\u001b[0m\u001b[0;34m(\u001b[0m\u001b[0mself\u001b[0m\u001b[0;34m.\u001b[0m\u001b[0m_reddit\u001b[0m\u001b[0;34m,\u001b[0m \u001b[0m_data\u001b[0m\u001b[0;34m=\u001b[0m\u001b[0mcomment_listing\u001b[0m\u001b[0;34m[\u001b[0m\u001b[0;34m\"data\"\u001b[0m\u001b[0;34m]\u001b[0m\u001b[0;34m)\u001b[0m\u001b[0;34m\u001b[0m\u001b[0;34m\u001b[0m\u001b[0m\n",
            "\u001b[0;32m/usr/local/lib/python3.7/dist-packages/praw/models/reddit/submission.py\u001b[0m in \u001b[0;36m_fetch_data\u001b[0;34m(self)\u001b[0m\n\u001b[1;32m    627\u001b[0m         \u001b[0mname\u001b[0m\u001b[0;34m,\u001b[0m \u001b[0mfields\u001b[0m\u001b[0;34m,\u001b[0m \u001b[0mparams\u001b[0m \u001b[0;34m=\u001b[0m \u001b[0mself\u001b[0m\u001b[0;34m.\u001b[0m\u001b[0m_fetch_info\u001b[0m\u001b[0;34m(\u001b[0m\u001b[0;34m)\u001b[0m\u001b[0;34m\u001b[0m\u001b[0;34m\u001b[0m\u001b[0m\n\u001b[1;32m    628\u001b[0m         \u001b[0mpath\u001b[0m \u001b[0;34m=\u001b[0m \u001b[0mAPI_PATH\u001b[0m\u001b[0;34m[\u001b[0m\u001b[0mname\u001b[0m\u001b[0;34m]\u001b[0m\u001b[0;34m.\u001b[0m\u001b[0mformat\u001b[0m\u001b[0;34m(\u001b[0m\u001b[0;34m**\u001b[0m\u001b[0mfields\u001b[0m\u001b[0;34m)\u001b[0m\u001b[0;34m\u001b[0m\u001b[0;34m\u001b[0m\u001b[0m\n\u001b[0;32m--> 629\u001b[0;31m         \u001b[0;32mreturn\u001b[0m \u001b[0mself\u001b[0m\u001b[0;34m.\u001b[0m\u001b[0m_reddit\u001b[0m\u001b[0;34m.\u001b[0m\u001b[0mrequest\u001b[0m\u001b[0;34m(\u001b[0m\u001b[0mmethod\u001b[0m\u001b[0;34m=\u001b[0m\u001b[0;34m\"GET\"\u001b[0m\u001b[0;34m,\u001b[0m \u001b[0mparams\u001b[0m\u001b[0;34m=\u001b[0m\u001b[0mparams\u001b[0m\u001b[0;34m,\u001b[0m \u001b[0mpath\u001b[0m\u001b[0;34m=\u001b[0m\u001b[0mpath\u001b[0m\u001b[0;34m)\u001b[0m\u001b[0;34m\u001b[0m\u001b[0;34m\u001b[0m\u001b[0m\n\u001b[0m\u001b[1;32m    630\u001b[0m \u001b[0;34m\u001b[0m\u001b[0m\n\u001b[1;32m    631\u001b[0m     \u001b[0;32mdef\u001b[0m \u001b[0m_fetch\u001b[0m\u001b[0;34m(\u001b[0m\u001b[0mself\u001b[0m\u001b[0;34m)\u001b[0m\u001b[0;34m:\u001b[0m\u001b[0;34m\u001b[0m\u001b[0;34m\u001b[0m\u001b[0m\n",
            "\u001b[0;32m/usr/local/lib/python3.7/dist-packages/praw/util/deprecate_args.py\u001b[0m in \u001b[0;36mwrapped\u001b[0;34m(*args, **kwargs)\u001b[0m\n\u001b[1;32m     41\u001b[0m                     \u001b[0mstacklevel\u001b[0m\u001b[0;34m=\u001b[0m\u001b[0;36m2\u001b[0m\u001b[0;34m,\u001b[0m\u001b[0;34m\u001b[0m\u001b[0;34m\u001b[0m\u001b[0m\n\u001b[1;32m     42\u001b[0m                 )\n\u001b[0;32m---> 43\u001b[0;31m             \u001b[0;32mreturn\u001b[0m \u001b[0mfunc\u001b[0m\u001b[0;34m(\u001b[0m\u001b[0;34m**\u001b[0m\u001b[0mdict\u001b[0m\u001b[0;34m(\u001b[0m\u001b[0mzip\u001b[0m\u001b[0;34m(\u001b[0m\u001b[0m_old_args\u001b[0m\u001b[0;34m,\u001b[0m \u001b[0margs\u001b[0m\u001b[0;34m)\u001b[0m\u001b[0;34m)\u001b[0m\u001b[0;34m,\u001b[0m \u001b[0;34m**\u001b[0m\u001b[0mkwargs\u001b[0m\u001b[0;34m)\u001b[0m\u001b[0;34m\u001b[0m\u001b[0;34m\u001b[0m\u001b[0m\n\u001b[0m\u001b[1;32m     44\u001b[0m \u001b[0;34m\u001b[0m\u001b[0m\n\u001b[1;32m     45\u001b[0m         \u001b[0;32mreturn\u001b[0m \u001b[0mwrapped\u001b[0m\u001b[0;34m\u001b[0m\u001b[0;34m\u001b[0m\u001b[0m\n",
            "\u001b[0;32m/usr/local/lib/python3.7/dist-packages/praw/reddit.py\u001b[0m in \u001b[0;36mrequest\u001b[0;34m(self, data, files, json, method, params, path)\u001b[0m\n\u001b[1;32m    945\u001b[0m                 \u001b[0mmethod\u001b[0m\u001b[0;34m=\u001b[0m\u001b[0mmethod\u001b[0m\u001b[0;34m,\u001b[0m\u001b[0;34m\u001b[0m\u001b[0;34m\u001b[0m\u001b[0m\n\u001b[1;32m    946\u001b[0m                 \u001b[0mparams\u001b[0m\u001b[0;34m=\u001b[0m\u001b[0mparams\u001b[0m\u001b[0;34m,\u001b[0m\u001b[0;34m\u001b[0m\u001b[0;34m\u001b[0m\u001b[0m\n\u001b[0;32m--> 947\u001b[0;31m                 \u001b[0mpath\u001b[0m\u001b[0;34m=\u001b[0m\u001b[0mpath\u001b[0m\u001b[0;34m,\u001b[0m\u001b[0;34m\u001b[0m\u001b[0;34m\u001b[0m\u001b[0m\n\u001b[0m\u001b[1;32m    948\u001b[0m             )\n\u001b[1;32m    949\u001b[0m         \u001b[0;32mexcept\u001b[0m \u001b[0mBadRequest\u001b[0m \u001b[0;32mas\u001b[0m \u001b[0mexception\u001b[0m\u001b[0;34m:\u001b[0m\u001b[0;34m\u001b[0m\u001b[0;34m\u001b[0m\u001b[0m\n",
            "\u001b[0;32m/usr/local/lib/python3.7/dist-packages/prawcore/sessions.py\u001b[0m in \u001b[0;36mrequest\u001b[0;34m(self, method, path, data, files, json, params, timeout)\u001b[0m\n\u001b[1;32m    335\u001b[0m             \u001b[0mparams\u001b[0m\u001b[0;34m=\u001b[0m\u001b[0mparams\u001b[0m\u001b[0;34m,\u001b[0m\u001b[0;34m\u001b[0m\u001b[0;34m\u001b[0m\u001b[0m\n\u001b[1;32m    336\u001b[0m             \u001b[0mtimeout\u001b[0m\u001b[0;34m=\u001b[0m\u001b[0mtimeout\u001b[0m\u001b[0;34m,\u001b[0m\u001b[0;34m\u001b[0m\u001b[0;34m\u001b[0m\u001b[0m\n\u001b[0;32m--> 337\u001b[0;31m             \u001b[0murl\u001b[0m\u001b[0;34m=\u001b[0m\u001b[0murl\u001b[0m\u001b[0;34m,\u001b[0m\u001b[0;34m\u001b[0m\u001b[0;34m\u001b[0m\u001b[0m\n\u001b[0m\u001b[1;32m    338\u001b[0m         )\n\u001b[1;32m    339\u001b[0m \u001b[0;34m\u001b[0m\u001b[0m\n",
            "\u001b[0;32m/usr/local/lib/python3.7/dist-packages/prawcore/sessions.py\u001b[0m in \u001b[0;36m_request_with_retries\u001b[0;34m(self, data, files, json, method, params, timeout, url, retry_strategy_state)\u001b[0m\n\u001b[1;32m    234\u001b[0m             \u001b[0mretry_strategy_state\u001b[0m\u001b[0;34m,\u001b[0m\u001b[0;34m\u001b[0m\u001b[0;34m\u001b[0m\u001b[0m\n\u001b[1;32m    235\u001b[0m             \u001b[0mtimeout\u001b[0m\u001b[0;34m,\u001b[0m\u001b[0;34m\u001b[0m\u001b[0;34m\u001b[0m\u001b[0m\n\u001b[0;32m--> 236\u001b[0;31m             \u001b[0murl\u001b[0m\u001b[0;34m,\u001b[0m\u001b[0;34m\u001b[0m\u001b[0;34m\u001b[0m\u001b[0m\n\u001b[0m\u001b[1;32m    237\u001b[0m         )\n\u001b[1;32m    238\u001b[0m \u001b[0;34m\u001b[0m\u001b[0m\n",
            "\u001b[0;32m/usr/local/lib/python3.7/dist-packages/prawcore/sessions.py\u001b[0m in \u001b[0;36m_make_request\u001b[0;34m(self, data, files, json, method, params, retry_strategy_state, timeout, url)\u001b[0m\n\u001b[1;32m    193\u001b[0m                 \u001b[0mjson\u001b[0m\u001b[0;34m=\u001b[0m\u001b[0mjson\u001b[0m\u001b[0;34m,\u001b[0m\u001b[0;34m\u001b[0m\u001b[0;34m\u001b[0m\u001b[0m\n\u001b[1;32m    194\u001b[0m                 \u001b[0mparams\u001b[0m\u001b[0;34m=\u001b[0m\u001b[0mparams\u001b[0m\u001b[0;34m,\u001b[0m\u001b[0;34m\u001b[0m\u001b[0;34m\u001b[0m\u001b[0m\n\u001b[0;32m--> 195\u001b[0;31m                 \u001b[0mtimeout\u001b[0m\u001b[0;34m=\u001b[0m\u001b[0mtimeout\u001b[0m\u001b[0;34m,\u001b[0m\u001b[0;34m\u001b[0m\u001b[0;34m\u001b[0m\u001b[0m\n\u001b[0m\u001b[1;32m    196\u001b[0m             )\n\u001b[1;32m    197\u001b[0m             log.debug(\n",
            "\u001b[0;32m/usr/local/lib/python3.7/dist-packages/prawcore/rate_limit.py\u001b[0m in \u001b[0;36mcall\u001b[0;34m(self, request_function, set_header_callback, *args, **kwargs)\u001b[0m\n\u001b[1;32m     30\u001b[0m \u001b[0;34m\u001b[0m\u001b[0m\n\u001b[1;32m     31\u001b[0m         \"\"\"\n\u001b[0;32m---> 32\u001b[0;31m         \u001b[0mself\u001b[0m\u001b[0;34m.\u001b[0m\u001b[0mdelay\u001b[0m\u001b[0;34m(\u001b[0m\u001b[0;34m)\u001b[0m\u001b[0;34m\u001b[0m\u001b[0;34m\u001b[0m\u001b[0m\n\u001b[0m\u001b[1;32m     33\u001b[0m         \u001b[0mkwargs\u001b[0m\u001b[0;34m[\u001b[0m\u001b[0;34m\"headers\"\u001b[0m\u001b[0;34m]\u001b[0m \u001b[0;34m=\u001b[0m \u001b[0mset_header_callback\u001b[0m\u001b[0;34m(\u001b[0m\u001b[0;34m)\u001b[0m\u001b[0;34m\u001b[0m\u001b[0;34m\u001b[0m\u001b[0m\n\u001b[1;32m     34\u001b[0m         \u001b[0mresponse\u001b[0m \u001b[0;34m=\u001b[0m \u001b[0mrequest_function\u001b[0m\u001b[0;34m(\u001b[0m\u001b[0;34m*\u001b[0m\u001b[0margs\u001b[0m\u001b[0;34m,\u001b[0m \u001b[0;34m**\u001b[0m\u001b[0mkwargs\u001b[0m\u001b[0;34m)\u001b[0m\u001b[0;34m\u001b[0m\u001b[0;34m\u001b[0m\u001b[0m\n",
            "\u001b[0;32m/usr/local/lib/python3.7/dist-packages/prawcore/rate_limit.py\u001b[0m in \u001b[0;36mdelay\u001b[0;34m(self)\u001b[0m\n\u001b[1;32m     45\u001b[0m         \u001b[0mmessage\u001b[0m \u001b[0;34m=\u001b[0m \u001b[0;34mf\"Sleeping: {sleep_seconds:0.2f} seconds prior to call\"\u001b[0m\u001b[0;34m\u001b[0m\u001b[0;34m\u001b[0m\u001b[0m\n\u001b[1;32m     46\u001b[0m         \u001b[0mlog\u001b[0m\u001b[0;34m.\u001b[0m\u001b[0mdebug\u001b[0m\u001b[0;34m(\u001b[0m\u001b[0mmessage\u001b[0m\u001b[0;34m)\u001b[0m\u001b[0;34m\u001b[0m\u001b[0;34m\u001b[0m\u001b[0m\n\u001b[0;32m---> 47\u001b[0;31m         \u001b[0mtime\u001b[0m\u001b[0;34m.\u001b[0m\u001b[0msleep\u001b[0m\u001b[0;34m(\u001b[0m\u001b[0msleep_seconds\u001b[0m\u001b[0;34m)\u001b[0m\u001b[0;34m\u001b[0m\u001b[0;34m\u001b[0m\u001b[0m\n\u001b[0m\u001b[1;32m     48\u001b[0m \u001b[0;34m\u001b[0m\u001b[0m\n\u001b[1;32m     49\u001b[0m     \u001b[0;32mdef\u001b[0m \u001b[0mupdate\u001b[0m\u001b[0;34m(\u001b[0m\u001b[0mself\u001b[0m\u001b[0;34m,\u001b[0m \u001b[0mresponse_headers\u001b[0m\u001b[0;34m)\u001b[0m\u001b[0;34m:\u001b[0m\u001b[0;34m\u001b[0m\u001b[0;34m\u001b[0m\u001b[0m\n",
            "\u001b[0;31mKeyboardInterrupt\u001b[0m: "
          ]
        }
      ]
    },
    {
      "cell_type": "code",
      "source": [
        "#df_all = df.copy()\n",
        "\n",
        "df_all = pd.concat([df_all, df], axis = 0)\n",
        "df_all.shape"
      ],
      "metadata": {
        "colab": {
          "base_uri": "https://localhost:8080/"
        },
        "id": "C8n1osh5mjUe",
        "outputId": "7bfe0f32-b687-4bff-a3f6-26617b526146"
      },
      "execution_count": null,
      "outputs": [
        {
          "output_type": "execute_result",
          "data": {
            "text/plain": [
              "(6543, 6)"
            ]
          },
          "metadata": {},
          "execution_count": 18
        }
      ]
    },
    {
      "cell_type": "code",
      "source": [
        "df_all.tail(3)"
      ],
      "metadata": {
        "colab": {
          "base_uri": "https://localhost:8080/",
          "height": 239
        },
        "id": "ABEABwoZm0gl",
        "outputId": "c81545ae-ae08-46c5-f41c-d215573783e5"
      },
      "execution_count": null,
      "outputs": [
        {
          "output_type": "execute_result",
          "data": {
            "text/plain": [
              "                                                   text             author  \\\n",
              "3084       Thanks. Spelling has always been my enema. 😳         johnnyg883   \n",
              "3085                      The \"intellectual elite\". lol  LackmustestTester   \n",
              "3086  Average American Lives in a Warmer Climate by ...  LackmustestTester   \n",
              "\n",
              "                                            comment_url comment_id parent_id  \\\n",
              "3084  /r/climateskeptics/comments/wtf5wx/whatever_we...    il4ahbj   il4a957   \n",
              "3085  /r/climateskeptics/comments/wtf5wx/whatever_we...    il48vpf   il47qoh   \n",
              "3086  /r/climateskeptics/comments/wjevn2/average_ame...                        \n",
              "\n",
              "                 timestamp  \n",
              "3084  08/20/2022, 21:59:47  \n",
              "3085  08/20/2022, 21:47:52  \n",
              "3086  08/08/2022, 17:34:05  "
            ],
            "text/html": [
              "\n",
              "  <div id=\"df-d6646d92-5c9f-42dc-bddb-d337b8717a65\">\n",
              "    <div class=\"colab-df-container\">\n",
              "      <div>\n",
              "<style scoped>\n",
              "    .dataframe tbody tr th:only-of-type {\n",
              "        vertical-align: middle;\n",
              "    }\n",
              "\n",
              "    .dataframe tbody tr th {\n",
              "        vertical-align: top;\n",
              "    }\n",
              "\n",
              "    .dataframe thead th {\n",
              "        text-align: right;\n",
              "    }\n",
              "</style>\n",
              "<table border=\"1\" class=\"dataframe\">\n",
              "  <thead>\n",
              "    <tr style=\"text-align: right;\">\n",
              "      <th></th>\n",
              "      <th>text</th>\n",
              "      <th>author</th>\n",
              "      <th>comment_url</th>\n",
              "      <th>comment_id</th>\n",
              "      <th>parent_id</th>\n",
              "      <th>timestamp</th>\n",
              "    </tr>\n",
              "  </thead>\n",
              "  <tbody>\n",
              "    <tr>\n",
              "      <th>3084</th>\n",
              "      <td>Thanks. Spelling has always been my enema. 😳</td>\n",
              "      <td>johnnyg883</td>\n",
              "      <td>/r/climateskeptics/comments/wtf5wx/whatever_we...</td>\n",
              "      <td>il4ahbj</td>\n",
              "      <td>il4a957</td>\n",
              "      <td>08/20/2022, 21:59:47</td>\n",
              "    </tr>\n",
              "    <tr>\n",
              "      <th>3085</th>\n",
              "      <td>The \"intellectual elite\". lol</td>\n",
              "      <td>LackmustestTester</td>\n",
              "      <td>/r/climateskeptics/comments/wtf5wx/whatever_we...</td>\n",
              "      <td>il48vpf</td>\n",
              "      <td>il47qoh</td>\n",
              "      <td>08/20/2022, 21:47:52</td>\n",
              "    </tr>\n",
              "    <tr>\n",
              "      <th>3086</th>\n",
              "      <td>Average American Lives in a Warmer Climate by ...</td>\n",
              "      <td>LackmustestTester</td>\n",
              "      <td>/r/climateskeptics/comments/wjevn2/average_ame...</td>\n",
              "      <td></td>\n",
              "      <td></td>\n",
              "      <td>08/08/2022, 17:34:05</td>\n",
              "    </tr>\n",
              "  </tbody>\n",
              "</table>\n",
              "</div>\n",
              "      <button class=\"colab-df-convert\" onclick=\"convertToInteractive('df-d6646d92-5c9f-42dc-bddb-d337b8717a65')\"\n",
              "              title=\"Convert this dataframe to an interactive table.\"\n",
              "              style=\"display:none;\">\n",
              "        \n",
              "  <svg xmlns=\"http://www.w3.org/2000/svg\" height=\"24px\"viewBox=\"0 0 24 24\"\n",
              "       width=\"24px\">\n",
              "    <path d=\"M0 0h24v24H0V0z\" fill=\"none\"/>\n",
              "    <path d=\"M18.56 5.44l.94 2.06.94-2.06 2.06-.94-2.06-.94-.94-2.06-.94 2.06-2.06.94zm-11 1L8.5 8.5l.94-2.06 2.06-.94-2.06-.94L8.5 2.5l-.94 2.06-2.06.94zm10 10l.94 2.06.94-2.06 2.06-.94-2.06-.94-.94-2.06-.94 2.06-2.06.94z\"/><path d=\"M17.41 7.96l-1.37-1.37c-.4-.4-.92-.59-1.43-.59-.52 0-1.04.2-1.43.59L10.3 9.45l-7.72 7.72c-.78.78-.78 2.05 0 2.83L4 21.41c.39.39.9.59 1.41.59.51 0 1.02-.2 1.41-.59l7.78-7.78 2.81-2.81c.8-.78.8-2.07 0-2.86zM5.41 20L4 18.59l7.72-7.72 1.47 1.35L5.41 20z\"/>\n",
              "  </svg>\n",
              "      </button>\n",
              "      \n",
              "  <style>\n",
              "    .colab-df-container {\n",
              "      display:flex;\n",
              "      flex-wrap:wrap;\n",
              "      gap: 12px;\n",
              "    }\n",
              "\n",
              "    .colab-df-convert {\n",
              "      background-color: #E8F0FE;\n",
              "      border: none;\n",
              "      border-radius: 50%;\n",
              "      cursor: pointer;\n",
              "      display: none;\n",
              "      fill: #1967D2;\n",
              "      height: 32px;\n",
              "      padding: 0 0 0 0;\n",
              "      width: 32px;\n",
              "    }\n",
              "\n",
              "    .colab-df-convert:hover {\n",
              "      background-color: #E2EBFA;\n",
              "      box-shadow: 0px 1px 2px rgba(60, 64, 67, 0.3), 0px 1px 3px 1px rgba(60, 64, 67, 0.15);\n",
              "      fill: #174EA6;\n",
              "    }\n",
              "\n",
              "    [theme=dark] .colab-df-convert {\n",
              "      background-color: #3B4455;\n",
              "      fill: #D2E3FC;\n",
              "    }\n",
              "\n",
              "    [theme=dark] .colab-df-convert:hover {\n",
              "      background-color: #434B5C;\n",
              "      box-shadow: 0px 1px 3px 1px rgba(0, 0, 0, 0.15);\n",
              "      filter: drop-shadow(0px 1px 2px rgba(0, 0, 0, 0.3));\n",
              "      fill: #FFFFFF;\n",
              "    }\n",
              "  </style>\n",
              "\n",
              "      <script>\n",
              "        const buttonEl =\n",
              "          document.querySelector('#df-d6646d92-5c9f-42dc-bddb-d337b8717a65 button.colab-df-convert');\n",
              "        buttonEl.style.display =\n",
              "          google.colab.kernel.accessAllowed ? 'block' : 'none';\n",
              "\n",
              "        async function convertToInteractive(key) {\n",
              "          const element = document.querySelector('#df-d6646d92-5c9f-42dc-bddb-d337b8717a65');\n",
              "          const dataTable =\n",
              "            await google.colab.kernel.invokeFunction('convertToInteractive',\n",
              "                                                     [key], {});\n",
              "          if (!dataTable) return;\n",
              "\n",
              "          const docLinkHtml = 'Like what you see? Visit the ' +\n",
              "            '<a target=\"_blank\" href=https://colab.research.google.com/notebooks/data_table.ipynb>data table notebook</a>'\n",
              "            + ' to learn more about interactive tables.';\n",
              "          element.innerHTML = '';\n",
              "          dataTable['output_type'] = 'display_data';\n",
              "          await google.colab.output.renderOutput(dataTable, element);\n",
              "          const docLink = document.createElement('div');\n",
              "          docLink.innerHTML = docLinkHtml;\n",
              "          element.appendChild(docLink);\n",
              "        }\n",
              "      </script>\n",
              "    </div>\n",
              "  </div>\n",
              "  "
            ]
          },
          "metadata": {},
          "execution_count": 19
        }
      ]
    },
    {
      "cell_type": "code",
      "source": [
        "df_all = df_all.reset_index(drop=True)"
      ],
      "metadata": {
        "id": "Fc7KCRHmoetI"
      },
      "execution_count": null,
      "outputs": []
    },
    {
      "cell_type": "code",
      "source": [
        "df_all.shape"
      ],
      "metadata": {
        "colab": {
          "base_uri": "https://localhost:8080/"
        },
        "id": "PMlVnBnvrgxY",
        "outputId": "053f401f-bbf8-46ff-d8b0-d75214ac35f2"
      },
      "execution_count": null,
      "outputs": [
        {
          "output_type": "execute_result",
          "data": {
            "text/plain": [
              "(6537, 6)"
            ]
          },
          "metadata": {},
          "execution_count": 52
        }
      ]
    },
    {
      "cell_type": "code",
      "source": [
        "df_all.loc[50:53]"
      ],
      "metadata": {
        "colab": {
          "base_uri": "https://localhost:8080/",
          "height": 288
        },
        "id": "tM_0vzXVoph2",
        "outputId": "caa01c1c-e54b-40df-b464-d70314e6fc26"
      },
      "execution_count": null,
      "outputs": [
        {
          "output_type": "execute_result",
          "data": {
            "text/plain": [
              "                                                 text             author  \\\n",
              "50  The link is ridiculous.\\n\\nIt was a garden var...       UnfairAd7220   \n",
              "51  Evidence for massive methane hydrate destabili...       kytopressler   \n",
              "52  The world is a rollercoaster of future happeni...  Grouchy_Wish_9843   \n",
              "53  Well, I suppose that this is what your brain o...      BurnerAcc2020   \n",
              "\n",
              "                                          comment_url comment_id parent_id  \\\n",
              "50  /r/climatechange/comments/wxszfd/climate_chang...    ilto0yo    wxszfd   \n",
              "51  /r/climatechange/comments/wxngt8/evidence_for_...                        \n",
              "52  /r/climatechange/comments/wxl60j/the_world_is_...                        \n",
              "53  /r/climatechange/comments/wxl60j/the_world_is_...    ilrya9m    wxl60j   \n",
              "\n",
              "               timestamp  \n",
              "50  08/26/2022, 03:13:26  \n",
              "51  08/25/2022, 19:42:06  \n",
              "52  08/25/2022, 18:08:41  \n",
              "53  08/25/2022, 19:46:52  "
            ],
            "text/html": [
              "\n",
              "  <div id=\"df-bcc7f356-0b1c-40a3-9319-1a72620b08f8\">\n",
              "    <div class=\"colab-df-container\">\n",
              "      <div>\n",
              "<style scoped>\n",
              "    .dataframe tbody tr th:only-of-type {\n",
              "        vertical-align: middle;\n",
              "    }\n",
              "\n",
              "    .dataframe tbody tr th {\n",
              "        vertical-align: top;\n",
              "    }\n",
              "\n",
              "    .dataframe thead th {\n",
              "        text-align: right;\n",
              "    }\n",
              "</style>\n",
              "<table border=\"1\" class=\"dataframe\">\n",
              "  <thead>\n",
              "    <tr style=\"text-align: right;\">\n",
              "      <th></th>\n",
              "      <th>text</th>\n",
              "      <th>author</th>\n",
              "      <th>comment_url</th>\n",
              "      <th>comment_id</th>\n",
              "      <th>parent_id</th>\n",
              "      <th>timestamp</th>\n",
              "    </tr>\n",
              "  </thead>\n",
              "  <tbody>\n",
              "    <tr>\n",
              "      <th>50</th>\n",
              "      <td>The link is ridiculous.\\n\\nIt was a garden var...</td>\n",
              "      <td>UnfairAd7220</td>\n",
              "      <td>/r/climatechange/comments/wxszfd/climate_chang...</td>\n",
              "      <td>ilto0yo</td>\n",
              "      <td>wxszfd</td>\n",
              "      <td>08/26/2022, 03:13:26</td>\n",
              "    </tr>\n",
              "    <tr>\n",
              "      <th>51</th>\n",
              "      <td>Evidence for massive methane hydrate destabili...</td>\n",
              "      <td>kytopressler</td>\n",
              "      <td>/r/climatechange/comments/wxngt8/evidence_for_...</td>\n",
              "      <td></td>\n",
              "      <td></td>\n",
              "      <td>08/25/2022, 19:42:06</td>\n",
              "    </tr>\n",
              "    <tr>\n",
              "      <th>52</th>\n",
              "      <td>The world is a rollercoaster of future happeni...</td>\n",
              "      <td>Grouchy_Wish_9843</td>\n",
              "      <td>/r/climatechange/comments/wxl60j/the_world_is_...</td>\n",
              "      <td></td>\n",
              "      <td></td>\n",
              "      <td>08/25/2022, 18:08:41</td>\n",
              "    </tr>\n",
              "    <tr>\n",
              "      <th>53</th>\n",
              "      <td>Well, I suppose that this is what your brain o...</td>\n",
              "      <td>BurnerAcc2020</td>\n",
              "      <td>/r/climatechange/comments/wxl60j/the_world_is_...</td>\n",
              "      <td>ilrya9m</td>\n",
              "      <td>wxl60j</td>\n",
              "      <td>08/25/2022, 19:46:52</td>\n",
              "    </tr>\n",
              "  </tbody>\n",
              "</table>\n",
              "</div>\n",
              "      <button class=\"colab-df-convert\" onclick=\"convertToInteractive('df-bcc7f356-0b1c-40a3-9319-1a72620b08f8')\"\n",
              "              title=\"Convert this dataframe to an interactive table.\"\n",
              "              style=\"display:none;\">\n",
              "        \n",
              "  <svg xmlns=\"http://www.w3.org/2000/svg\" height=\"24px\"viewBox=\"0 0 24 24\"\n",
              "       width=\"24px\">\n",
              "    <path d=\"M0 0h24v24H0V0z\" fill=\"none\"/>\n",
              "    <path d=\"M18.56 5.44l.94 2.06.94-2.06 2.06-.94-2.06-.94-.94-2.06-.94 2.06-2.06.94zm-11 1L8.5 8.5l.94-2.06 2.06-.94-2.06-.94L8.5 2.5l-.94 2.06-2.06.94zm10 10l.94 2.06.94-2.06 2.06-.94-2.06-.94-.94-2.06-.94 2.06-2.06.94z\"/><path d=\"M17.41 7.96l-1.37-1.37c-.4-.4-.92-.59-1.43-.59-.52 0-1.04.2-1.43.59L10.3 9.45l-7.72 7.72c-.78.78-.78 2.05 0 2.83L4 21.41c.39.39.9.59 1.41.59.51 0 1.02-.2 1.41-.59l7.78-7.78 2.81-2.81c.8-.78.8-2.07 0-2.86zM5.41 20L4 18.59l7.72-7.72 1.47 1.35L5.41 20z\"/>\n",
              "  </svg>\n",
              "      </button>\n",
              "      \n",
              "  <style>\n",
              "    .colab-df-container {\n",
              "      display:flex;\n",
              "      flex-wrap:wrap;\n",
              "      gap: 12px;\n",
              "    }\n",
              "\n",
              "    .colab-df-convert {\n",
              "      background-color: #E8F0FE;\n",
              "      border: none;\n",
              "      border-radius: 50%;\n",
              "      cursor: pointer;\n",
              "      display: none;\n",
              "      fill: #1967D2;\n",
              "      height: 32px;\n",
              "      padding: 0 0 0 0;\n",
              "      width: 32px;\n",
              "    }\n",
              "\n",
              "    .colab-df-convert:hover {\n",
              "      background-color: #E2EBFA;\n",
              "      box-shadow: 0px 1px 2px rgba(60, 64, 67, 0.3), 0px 1px 3px 1px rgba(60, 64, 67, 0.15);\n",
              "      fill: #174EA6;\n",
              "    }\n",
              "\n",
              "    [theme=dark] .colab-df-convert {\n",
              "      background-color: #3B4455;\n",
              "      fill: #D2E3FC;\n",
              "    }\n",
              "\n",
              "    [theme=dark] .colab-df-convert:hover {\n",
              "      background-color: #434B5C;\n",
              "      box-shadow: 0px 1px 3px 1px rgba(0, 0, 0, 0.15);\n",
              "      filter: drop-shadow(0px 1px 2px rgba(0, 0, 0, 0.3));\n",
              "      fill: #FFFFFF;\n",
              "    }\n",
              "  </style>\n",
              "\n",
              "      <script>\n",
              "        const buttonEl =\n",
              "          document.querySelector('#df-bcc7f356-0b1c-40a3-9319-1a72620b08f8 button.colab-df-convert');\n",
              "        buttonEl.style.display =\n",
              "          google.colab.kernel.accessAllowed ? 'block' : 'none';\n",
              "\n",
              "        async function convertToInteractive(key) {\n",
              "          const element = document.querySelector('#df-bcc7f356-0b1c-40a3-9319-1a72620b08f8');\n",
              "          const dataTable =\n",
              "            await google.colab.kernel.invokeFunction('convertToInteractive',\n",
              "                                                     [key], {});\n",
              "          if (!dataTable) return;\n",
              "\n",
              "          const docLinkHtml = 'Like what you see? Visit the ' +\n",
              "            '<a target=\"_blank\" href=https://colab.research.google.com/notebooks/data_table.ipynb>data table notebook</a>'\n",
              "            + ' to learn more about interactive tables.';\n",
              "          element.innerHTML = '';\n",
              "          dataTable['output_type'] = 'display_data';\n",
              "          await google.colab.output.renderOutput(dataTable, element);\n",
              "          const docLink = document.createElement('div');\n",
              "          docLink.innerHTML = docLinkHtml;\n",
              "          element.appendChild(docLink);\n",
              "        }\n",
              "      </script>\n",
              "    </div>\n",
              "  </div>\n",
              "  "
            ]
          },
          "metadata": {},
          "execution_count": 42
        }
      ]
    },
    {
      "cell_type": "code",
      "source": [
        "df_all[df_all.comment_id == '']"
      ],
      "metadata": {
        "colab": {
          "base_uri": "https://localhost:8080/",
          "height": 641
        },
        "id": "0eH_GkFLov-3",
        "outputId": "ab85b901-856f-4e89-b4cc-8e1b6c7f22ed"
      },
      "execution_count": null,
      "outputs": [
        {
          "output_type": "execute_result",
          "data": {
            "text/plain": [
              "                                                   text               author  \\\n",
              "0     California to cover canal with solar panels in...           dunkin1980   \n",
              "15    What can a few invividuals do about climate ch...              JuhpPug   \n",
              "49    Climate Change May Have Doubled the Number of ...  technologyisnatural   \n",
              "51    Evidence for massive methane hydrate destabili...         kytopressler   \n",
              "52    The world is a rollercoaster of future happeni...    Grouchy_Wish_9843   \n",
              "...                                                 ...                  ...   \n",
              "6449  The more I look into the other side of the deb...             blueyx22   \n",
              "6494  No Change in Weather Extremes, just a Moving o...    LackmustestTester   \n",
              "6500                                               Nay!    LackmustestTester   \n",
              "6516  The Horror: NYC Residents are ENJOYING their G...   logicalprogressive   \n",
              "6520  Whatever we are doing, let's keep it up, as it...             SftwEngr   \n",
              "\n",
              "                                            comment_url comment_id parent_id  \\\n",
              "0     /r/climatechange/comments/wxmvx9/california_to...                        \n",
              "15    /r/climatechange/comments/wxb6t8/what_can_a_fe...                        \n",
              "49    /r/climatechange/comments/wxszfd/climate_chang...                        \n",
              "51    /r/climatechange/comments/wxngt8/evidence_for_...                        \n",
              "52    /r/climatechange/comments/wxl60j/the_world_is_...                        \n",
              "...                                                 ...        ...       ...   \n",
              "6449  /r/climateskeptics/comments/ws418g/the_more_i_...                        \n",
              "6494  /r/climateskeptics/comments/wg7vem/no_change_i...                        \n",
              "6500            /r/climateskeptics/comments/wq5ww3/nay/                        \n",
              "6516  /r/climateskeptics/comments/wbk2qq/the_horror_...                        \n",
              "6520  /r/climateskeptics/comments/wtf5wx/whatever_we...                        \n",
              "\n",
              "                 timestamp  \n",
              "0     08/25/2022, 19:17:59  \n",
              "15    08/25/2022, 11:02:55  \n",
              "49    08/25/2022, 23:29:35  \n",
              "51    08/25/2022, 19:42:06  \n",
              "52    08/25/2022, 18:08:41  \n",
              "...                    ...  \n",
              "6449  08/19/2022, 04:04:30  \n",
              "6494  08/04/2022, 18:02:49  \n",
              "6500  08/16/2022, 21:17:31  \n",
              "6516  07/30/2022, 00:27:41  \n",
              "6520  08/20/2022, 19:20:38  \n",
              "\n",
              "[157 rows x 6 columns]"
            ],
            "text/html": [
              "\n",
              "  <div id=\"df-8785b88e-dca2-4bee-97c9-b8930b57fcca\">\n",
              "    <div class=\"colab-df-container\">\n",
              "      <div>\n",
              "<style scoped>\n",
              "    .dataframe tbody tr th:only-of-type {\n",
              "        vertical-align: middle;\n",
              "    }\n",
              "\n",
              "    .dataframe tbody tr th {\n",
              "        vertical-align: top;\n",
              "    }\n",
              "\n",
              "    .dataframe thead th {\n",
              "        text-align: right;\n",
              "    }\n",
              "</style>\n",
              "<table border=\"1\" class=\"dataframe\">\n",
              "  <thead>\n",
              "    <tr style=\"text-align: right;\">\n",
              "      <th></th>\n",
              "      <th>text</th>\n",
              "      <th>author</th>\n",
              "      <th>comment_url</th>\n",
              "      <th>comment_id</th>\n",
              "      <th>parent_id</th>\n",
              "      <th>timestamp</th>\n",
              "    </tr>\n",
              "  </thead>\n",
              "  <tbody>\n",
              "    <tr>\n",
              "      <th>0</th>\n",
              "      <td>California to cover canal with solar panels in...</td>\n",
              "      <td>dunkin1980</td>\n",
              "      <td>/r/climatechange/comments/wxmvx9/california_to...</td>\n",
              "      <td></td>\n",
              "      <td></td>\n",
              "      <td>08/25/2022, 19:17:59</td>\n",
              "    </tr>\n",
              "    <tr>\n",
              "      <th>15</th>\n",
              "      <td>What can a few invividuals do about climate ch...</td>\n",
              "      <td>JuhpPug</td>\n",
              "      <td>/r/climatechange/comments/wxb6t8/what_can_a_fe...</td>\n",
              "      <td></td>\n",
              "      <td></td>\n",
              "      <td>08/25/2022, 11:02:55</td>\n",
              "    </tr>\n",
              "    <tr>\n",
              "      <th>49</th>\n",
              "      <td>Climate Change May Have Doubled the Number of ...</td>\n",
              "      <td>technologyisnatural</td>\n",
              "      <td>/r/climatechange/comments/wxszfd/climate_chang...</td>\n",
              "      <td></td>\n",
              "      <td></td>\n",
              "      <td>08/25/2022, 23:29:35</td>\n",
              "    </tr>\n",
              "    <tr>\n",
              "      <th>51</th>\n",
              "      <td>Evidence for massive methane hydrate destabili...</td>\n",
              "      <td>kytopressler</td>\n",
              "      <td>/r/climatechange/comments/wxngt8/evidence_for_...</td>\n",
              "      <td></td>\n",
              "      <td></td>\n",
              "      <td>08/25/2022, 19:42:06</td>\n",
              "    </tr>\n",
              "    <tr>\n",
              "      <th>52</th>\n",
              "      <td>The world is a rollercoaster of future happeni...</td>\n",
              "      <td>Grouchy_Wish_9843</td>\n",
              "      <td>/r/climatechange/comments/wxl60j/the_world_is_...</td>\n",
              "      <td></td>\n",
              "      <td></td>\n",
              "      <td>08/25/2022, 18:08:41</td>\n",
              "    </tr>\n",
              "    <tr>\n",
              "      <th>...</th>\n",
              "      <td>...</td>\n",
              "      <td>...</td>\n",
              "      <td>...</td>\n",
              "      <td>...</td>\n",
              "      <td>...</td>\n",
              "      <td>...</td>\n",
              "    </tr>\n",
              "    <tr>\n",
              "      <th>6449</th>\n",
              "      <td>The more I look into the other side of the deb...</td>\n",
              "      <td>blueyx22</td>\n",
              "      <td>/r/climateskeptics/comments/ws418g/the_more_i_...</td>\n",
              "      <td></td>\n",
              "      <td></td>\n",
              "      <td>08/19/2022, 04:04:30</td>\n",
              "    </tr>\n",
              "    <tr>\n",
              "      <th>6494</th>\n",
              "      <td>No Change in Weather Extremes, just a Moving o...</td>\n",
              "      <td>LackmustestTester</td>\n",
              "      <td>/r/climateskeptics/comments/wg7vem/no_change_i...</td>\n",
              "      <td></td>\n",
              "      <td></td>\n",
              "      <td>08/04/2022, 18:02:49</td>\n",
              "    </tr>\n",
              "    <tr>\n",
              "      <th>6500</th>\n",
              "      <td>Nay!</td>\n",
              "      <td>LackmustestTester</td>\n",
              "      <td>/r/climateskeptics/comments/wq5ww3/nay/</td>\n",
              "      <td></td>\n",
              "      <td></td>\n",
              "      <td>08/16/2022, 21:17:31</td>\n",
              "    </tr>\n",
              "    <tr>\n",
              "      <th>6516</th>\n",
              "      <td>The Horror: NYC Residents are ENJOYING their G...</td>\n",
              "      <td>logicalprogressive</td>\n",
              "      <td>/r/climateskeptics/comments/wbk2qq/the_horror_...</td>\n",
              "      <td></td>\n",
              "      <td></td>\n",
              "      <td>07/30/2022, 00:27:41</td>\n",
              "    </tr>\n",
              "    <tr>\n",
              "      <th>6520</th>\n",
              "      <td>Whatever we are doing, let's keep it up, as it...</td>\n",
              "      <td>SftwEngr</td>\n",
              "      <td>/r/climateskeptics/comments/wtf5wx/whatever_we...</td>\n",
              "      <td></td>\n",
              "      <td></td>\n",
              "      <td>08/20/2022, 19:20:38</td>\n",
              "    </tr>\n",
              "  </tbody>\n",
              "</table>\n",
              "<p>157 rows × 6 columns</p>\n",
              "</div>\n",
              "      <button class=\"colab-df-convert\" onclick=\"convertToInteractive('df-8785b88e-dca2-4bee-97c9-b8930b57fcca')\"\n",
              "              title=\"Convert this dataframe to an interactive table.\"\n",
              "              style=\"display:none;\">\n",
              "        \n",
              "  <svg xmlns=\"http://www.w3.org/2000/svg\" height=\"24px\"viewBox=\"0 0 24 24\"\n",
              "       width=\"24px\">\n",
              "    <path d=\"M0 0h24v24H0V0z\" fill=\"none\"/>\n",
              "    <path d=\"M18.56 5.44l.94 2.06.94-2.06 2.06-.94-2.06-.94-.94-2.06-.94 2.06-2.06.94zm-11 1L8.5 8.5l.94-2.06 2.06-.94-2.06-.94L8.5 2.5l-.94 2.06-2.06.94zm10 10l.94 2.06.94-2.06 2.06-.94-2.06-.94-.94-2.06-.94 2.06-2.06.94z\"/><path d=\"M17.41 7.96l-1.37-1.37c-.4-.4-.92-.59-1.43-.59-.52 0-1.04.2-1.43.59L10.3 9.45l-7.72 7.72c-.78.78-.78 2.05 0 2.83L4 21.41c.39.39.9.59 1.41.59.51 0 1.02-.2 1.41-.59l7.78-7.78 2.81-2.81c.8-.78.8-2.07 0-2.86zM5.41 20L4 18.59l7.72-7.72 1.47 1.35L5.41 20z\"/>\n",
              "  </svg>\n",
              "      </button>\n",
              "      \n",
              "  <style>\n",
              "    .colab-df-container {\n",
              "      display:flex;\n",
              "      flex-wrap:wrap;\n",
              "      gap: 12px;\n",
              "    }\n",
              "\n",
              "    .colab-df-convert {\n",
              "      background-color: #E8F0FE;\n",
              "      border: none;\n",
              "      border-radius: 50%;\n",
              "      cursor: pointer;\n",
              "      display: none;\n",
              "      fill: #1967D2;\n",
              "      height: 32px;\n",
              "      padding: 0 0 0 0;\n",
              "      width: 32px;\n",
              "    }\n",
              "\n",
              "    .colab-df-convert:hover {\n",
              "      background-color: #E2EBFA;\n",
              "      box-shadow: 0px 1px 2px rgba(60, 64, 67, 0.3), 0px 1px 3px 1px rgba(60, 64, 67, 0.15);\n",
              "      fill: #174EA6;\n",
              "    }\n",
              "\n",
              "    [theme=dark] .colab-df-convert {\n",
              "      background-color: #3B4455;\n",
              "      fill: #D2E3FC;\n",
              "    }\n",
              "\n",
              "    [theme=dark] .colab-df-convert:hover {\n",
              "      background-color: #434B5C;\n",
              "      box-shadow: 0px 1px 3px 1px rgba(0, 0, 0, 0.15);\n",
              "      filter: drop-shadow(0px 1px 2px rgba(0, 0, 0, 0.3));\n",
              "      fill: #FFFFFF;\n",
              "    }\n",
              "  </style>\n",
              "\n",
              "      <script>\n",
              "        const buttonEl =\n",
              "          document.querySelector('#df-8785b88e-dca2-4bee-97c9-b8930b57fcca button.colab-df-convert');\n",
              "        buttonEl.style.display =\n",
              "          google.colab.kernel.accessAllowed ? 'block' : 'none';\n",
              "\n",
              "        async function convertToInteractive(key) {\n",
              "          const element = document.querySelector('#df-8785b88e-dca2-4bee-97c9-b8930b57fcca');\n",
              "          const dataTable =\n",
              "            await google.colab.kernel.invokeFunction('convertToInteractive',\n",
              "                                                     [key], {});\n",
              "          if (!dataTable) return;\n",
              "\n",
              "          const docLinkHtml = 'Like what you see? Visit the ' +\n",
              "            '<a target=\"_blank\" href=https://colab.research.google.com/notebooks/data_table.ipynb>data table notebook</a>'\n",
              "            + ' to learn more about interactive tables.';\n",
              "          element.innerHTML = '';\n",
              "          dataTable['output_type'] = 'display_data';\n",
              "          await google.colab.output.renderOutput(dataTable, element);\n",
              "          const docLink = document.createElement('div');\n",
              "          docLink.innerHTML = docLinkHtml;\n",
              "          element.appendChild(docLink);\n",
              "        }\n",
              "      </script>\n",
              "    </div>\n",
              "  </div>\n",
              "  "
            ]
          },
          "metadata": {},
          "execution_count": 27
        }
      ]
    },
    {
      "cell_type": "code",
      "source": [
        "df_all2 = clean_text(df_all, 'text')\n",
        "df_all2.drop_duplicates('clean_text').shape"
      ],
      "metadata": {
        "colab": {
          "base_uri": "https://localhost:8080/"
        },
        "id": "NE95tr4-rv8J",
        "outputId": "605e52f2-a01a-4479-fc70-442569f9999c"
      },
      "execution_count": null,
      "outputs": [
        {
          "output_type": "execute_result",
          "data": {
            "text/plain": [
              "(6304, 7)"
            ]
          },
          "metadata": {},
          "execution_count": 54
        }
      ]
    },
    {
      "cell_type": "code",
      "source": [
        "df_all2 = df_all2.drop_duplicates('clean_text')\n",
        "df_all2.head()"
      ],
      "metadata": {
        "colab": {
          "base_uri": "https://localhost:8080/",
          "height": 337
        },
        "id": "iEMeiRlYsG3f",
        "outputId": "b11b2c8e-158c-4b9d-81ef-206e49e1bc8e"
      },
      "execution_count": null,
      "outputs": [
        {
          "output_type": "execute_result",
          "data": {
            "text/plain": [
              "                                                text      author  \\\n",
              "0  California to cover canal with solar panels in...  dunkin1980   \n",
              "1                       Excellent location for solar  snoovision   \n",
              "2  India has proven this out for many years.\\n\\nC...      shanem   \n",
              "3  good idea, next step ban the almonds, they are...    Carniboy   \n",
              "4                                             Based.   Diafotisi   \n",
              "\n",
              "                                         comment_url comment_id parent_id  \\\n",
              "0  /r/climatechange/comments/wxmvx9/california_to...                        \n",
              "1  /r/climatechange/comments/wxmvx9/california_to...    ilrxe43    wxmvx9   \n",
              "2  /r/climatechange/comments/wxmvx9/california_to...    ilrziau    wxmvx9   \n",
              "3  /r/climatechange/comments/wxmvx9/california_to...    ils717g    wxmvx9   \n",
              "4  /r/climatechange/comments/wxmvx9/california_to...    ilt4eyi    wxmvx9   \n",
              "\n",
              "              timestamp                                         clean_text  \n",
              "0  08/25/2022, 19:17:59  california to cover canal with solar panels in...  \n",
              "1  08/25/2022, 19:41:05                       excellent location for solar  \n",
              "2  08/25/2022, 19:54:44  india has proven this out for many years. cred...  \n",
              "3  08/25/2022, 20:43:25  good idea, next step ban the almonds, they are...  \n",
              "4  08/26/2022, 00:41:10                                             based.  "
            ],
            "text/html": [
              "\n",
              "  <div id=\"df-0b98853a-d6ff-41da-a173-76641110aba2\">\n",
              "    <div class=\"colab-df-container\">\n",
              "      <div>\n",
              "<style scoped>\n",
              "    .dataframe tbody tr th:only-of-type {\n",
              "        vertical-align: middle;\n",
              "    }\n",
              "\n",
              "    .dataframe tbody tr th {\n",
              "        vertical-align: top;\n",
              "    }\n",
              "\n",
              "    .dataframe thead th {\n",
              "        text-align: right;\n",
              "    }\n",
              "</style>\n",
              "<table border=\"1\" class=\"dataframe\">\n",
              "  <thead>\n",
              "    <tr style=\"text-align: right;\">\n",
              "      <th></th>\n",
              "      <th>text</th>\n",
              "      <th>author</th>\n",
              "      <th>comment_url</th>\n",
              "      <th>comment_id</th>\n",
              "      <th>parent_id</th>\n",
              "      <th>timestamp</th>\n",
              "      <th>clean_text</th>\n",
              "    </tr>\n",
              "  </thead>\n",
              "  <tbody>\n",
              "    <tr>\n",
              "      <th>0</th>\n",
              "      <td>California to cover canal with solar panels in...</td>\n",
              "      <td>dunkin1980</td>\n",
              "      <td>/r/climatechange/comments/wxmvx9/california_to...</td>\n",
              "      <td></td>\n",
              "      <td></td>\n",
              "      <td>08/25/2022, 19:17:59</td>\n",
              "      <td>california to cover canal with solar panels in...</td>\n",
              "    </tr>\n",
              "    <tr>\n",
              "      <th>1</th>\n",
              "      <td>Excellent location for solar</td>\n",
              "      <td>snoovision</td>\n",
              "      <td>/r/climatechange/comments/wxmvx9/california_to...</td>\n",
              "      <td>ilrxe43</td>\n",
              "      <td>wxmvx9</td>\n",
              "      <td>08/25/2022, 19:41:05</td>\n",
              "      <td>excellent location for solar</td>\n",
              "    </tr>\n",
              "    <tr>\n",
              "      <th>2</th>\n",
              "      <td>India has proven this out for many years.\\n\\nC...</td>\n",
              "      <td>shanem</td>\n",
              "      <td>/r/climatechange/comments/wxmvx9/california_to...</td>\n",
              "      <td>ilrziau</td>\n",
              "      <td>wxmvx9</td>\n",
              "      <td>08/25/2022, 19:54:44</td>\n",
              "      <td>india has proven this out for many years. cred...</td>\n",
              "    </tr>\n",
              "    <tr>\n",
              "      <th>3</th>\n",
              "      <td>good idea, next step ban the almonds, they are...</td>\n",
              "      <td>Carniboy</td>\n",
              "      <td>/r/climatechange/comments/wxmvx9/california_to...</td>\n",
              "      <td>ils717g</td>\n",
              "      <td>wxmvx9</td>\n",
              "      <td>08/25/2022, 20:43:25</td>\n",
              "      <td>good idea, next step ban the almonds, they are...</td>\n",
              "    </tr>\n",
              "    <tr>\n",
              "      <th>4</th>\n",
              "      <td>Based.</td>\n",
              "      <td>Diafotisi</td>\n",
              "      <td>/r/climatechange/comments/wxmvx9/california_to...</td>\n",
              "      <td>ilt4eyi</td>\n",
              "      <td>wxmvx9</td>\n",
              "      <td>08/26/2022, 00:41:10</td>\n",
              "      <td>based.</td>\n",
              "    </tr>\n",
              "  </tbody>\n",
              "</table>\n",
              "</div>\n",
              "      <button class=\"colab-df-convert\" onclick=\"convertToInteractive('df-0b98853a-d6ff-41da-a173-76641110aba2')\"\n",
              "              title=\"Convert this dataframe to an interactive table.\"\n",
              "              style=\"display:none;\">\n",
              "        \n",
              "  <svg xmlns=\"http://www.w3.org/2000/svg\" height=\"24px\"viewBox=\"0 0 24 24\"\n",
              "       width=\"24px\">\n",
              "    <path d=\"M0 0h24v24H0V0z\" fill=\"none\"/>\n",
              "    <path d=\"M18.56 5.44l.94 2.06.94-2.06 2.06-.94-2.06-.94-.94-2.06-.94 2.06-2.06.94zm-11 1L8.5 8.5l.94-2.06 2.06-.94-2.06-.94L8.5 2.5l-.94 2.06-2.06.94zm10 10l.94 2.06.94-2.06 2.06-.94-2.06-.94-.94-2.06-.94 2.06-2.06.94z\"/><path d=\"M17.41 7.96l-1.37-1.37c-.4-.4-.92-.59-1.43-.59-.52 0-1.04.2-1.43.59L10.3 9.45l-7.72 7.72c-.78.78-.78 2.05 0 2.83L4 21.41c.39.39.9.59 1.41.59.51 0 1.02-.2 1.41-.59l7.78-7.78 2.81-2.81c.8-.78.8-2.07 0-2.86zM5.41 20L4 18.59l7.72-7.72 1.47 1.35L5.41 20z\"/>\n",
              "  </svg>\n",
              "      </button>\n",
              "      \n",
              "  <style>\n",
              "    .colab-df-container {\n",
              "      display:flex;\n",
              "      flex-wrap:wrap;\n",
              "      gap: 12px;\n",
              "    }\n",
              "\n",
              "    .colab-df-convert {\n",
              "      background-color: #E8F0FE;\n",
              "      border: none;\n",
              "      border-radius: 50%;\n",
              "      cursor: pointer;\n",
              "      display: none;\n",
              "      fill: #1967D2;\n",
              "      height: 32px;\n",
              "      padding: 0 0 0 0;\n",
              "      width: 32px;\n",
              "    }\n",
              "\n",
              "    .colab-df-convert:hover {\n",
              "      background-color: #E2EBFA;\n",
              "      box-shadow: 0px 1px 2px rgba(60, 64, 67, 0.3), 0px 1px 3px 1px rgba(60, 64, 67, 0.15);\n",
              "      fill: #174EA6;\n",
              "    }\n",
              "\n",
              "    [theme=dark] .colab-df-convert {\n",
              "      background-color: #3B4455;\n",
              "      fill: #D2E3FC;\n",
              "    }\n",
              "\n",
              "    [theme=dark] .colab-df-convert:hover {\n",
              "      background-color: #434B5C;\n",
              "      box-shadow: 0px 1px 3px 1px rgba(0, 0, 0, 0.15);\n",
              "      filter: drop-shadow(0px 1px 2px rgba(0, 0, 0, 0.3));\n",
              "      fill: #FFFFFF;\n",
              "    }\n",
              "  </style>\n",
              "\n",
              "      <script>\n",
              "        const buttonEl =\n",
              "          document.querySelector('#df-0b98853a-d6ff-41da-a173-76641110aba2 button.colab-df-convert');\n",
              "        buttonEl.style.display =\n",
              "          google.colab.kernel.accessAllowed ? 'block' : 'none';\n",
              "\n",
              "        async function convertToInteractive(key) {\n",
              "          const element = document.querySelector('#df-0b98853a-d6ff-41da-a173-76641110aba2');\n",
              "          const dataTable =\n",
              "            await google.colab.kernel.invokeFunction('convertToInteractive',\n",
              "                                                     [key], {});\n",
              "          if (!dataTable) return;\n",
              "\n",
              "          const docLinkHtml = 'Like what you see? Visit the ' +\n",
              "            '<a target=\"_blank\" href=https://colab.research.google.com/notebooks/data_table.ipynb>data table notebook</a>'\n",
              "            + ' to learn more about interactive tables.';\n",
              "          element.innerHTML = '';\n",
              "          dataTable['output_type'] = 'display_data';\n",
              "          await google.colab.output.renderOutput(dataTable, element);\n",
              "          const docLink = document.createElement('div');\n",
              "          docLink.innerHTML = docLinkHtml;\n",
              "          element.appendChild(docLink);\n",
              "        }\n",
              "      </script>\n",
              "    </div>\n",
              "  </div>\n",
              "  "
            ]
          },
          "metadata": {},
          "execution_count": 55
        }
      ]
    },
    {
      "cell_type": "code",
      "source": [
        "len(\" \".join(df_all5.text.values).split(\" \")), len(\" \".join(df_all5.clean_text.values).split(\" \"))"
      ],
      "metadata": {
        "colab": {
          "base_uri": "https://localhost:8080/"
        },
        "id": "grzSEhAtCXvI",
        "outputId": "77434754-888b-4820-8484-550c4f312d09"
      },
      "execution_count": null,
      "outputs": [
        {
          "output_type": "execute_result",
          "data": {
            "text/plain": [
              "(36361, 31567)"
            ]
          },
          "metadata": {},
          "execution_count": 255
        }
      ]
    },
    {
      "cell_type": "code",
      "source": [
        "df_all5.to_csv('/content/drive/MyDrive/Colab Notebooks/reddit_IAA/reddit_climate.csv')"
      ],
      "metadata": {
        "id": "qmBrlxsP2SSo"
      },
      "execution_count": null,
      "outputs": []
    }
  ]
}
