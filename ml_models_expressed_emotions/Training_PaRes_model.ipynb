{
  "nbformat": 4,
  "nbformat_minor": 0,
  "metadata": {
    "colab": {
      "name": "Training PaRes model.ipynb",
      "provenance": [],
      "collapsed_sections": []
    },
    "kernelspec": {
      "name": "python3",
      "display_name": "Python 3"
    },
    "language_info": {
      "name": "python"
    }
  },
  "cells": [
    {
      "cell_type": "code",
      "metadata": {
        "id": "nKftOu9fyC8R"
      },
      "source": [
        "!pip install --quiet sentencepiece\n",
        "!pip install --quiet datasets\n",
        "!pip install --quiet transformers"
      ],
      "execution_count": null,
      "outputs": []
    },
    {
      "cell_type": "code",
      "source": [
        "import pandas as pd\n",
        "import numpy as np\n",
        "import collections\n",
        "from sklearn.model_selection import train_test_split\n",
        "from sklearn import metrics\n",
        "\n",
        "import matplotlib.pyplot as plt\n",
        "import seaborn as sns\n",
        "sns.set_theme(style=\"whitegrid\")\n",
        "plt.style.use(\"seaborn-talk\")\n",
        "\n",
        "import torch\n",
        "\n",
        "!pip install -q scikit-plot\n",
        "import scikitplot as skplt\n",
        "\n",
        "from transformers import AutoTokenizer, AutoModelForSequenceClassification, Trainer, TrainingArguments"
      ],
      "metadata": {
        "id": "bpOXIup-GWy_"
      },
      "execution_count": null,
      "outputs": []
    },
    {
      "cell_type": "code",
      "source": [
        "def clean_text(dataframe, text_column):\n",
        "  import re\n",
        "  import string\n",
        "  \n",
        "  df = dataframe.copy()\n",
        "  all_texts = []\n",
        "\n",
        "  for text in df[text_column]:\n",
        "    text = re.sub(r\"(http|https):\\/\\/([\\w\\s\\d\\.]+)(\\/?)(.*)\", \" \", str(text).lower()) #  urls\n",
        "    text = re.sub(r\"(www).([\\w\\s\\d\\.]+)(\\/?)(.*)\", \" \", text) #  urls\n",
        "    text = re.sub('@[\\w\\d]+',' ', text)  # mentions\n",
        "    text = text.replace(\"\\n\", \" \") # new lines\n",
        "    text = re.sub(r'\\B#\\w*[a-zA-Z0-9]+\\w*',' ', text) # hashtags\n",
        "    text = text.strip()\n",
        "    all_texts.append(text)\n",
        "  df[\"clean_\" + text_column] = all_texts\n",
        "  \n",
        "  return df"
      ],
      "metadata": {
        "id": "92vubm-IYMgi"
      },
      "execution_count": null,
      "outputs": []
    },
    {
      "cell_type": "code",
      "source": [
        "df = pd.read_excel(\"Twitter_valid_annotation_June_PL.xlsx\", \n",
        "                   index_col = 0)\n",
        "df.fillna(0, inplace=True)\n",
        "print(df.shape)"
      ],
      "metadata": {
        "id": "A8iiBZKCYQzb"
      },
      "execution_count": null,
      "outputs": []
    },
    {
      "cell_type": "code",
      "source": [
        "df = clean_text(df, text_column = \"Tekst\")\n",
        "\n",
        "hum_labels_sentiment = df[['negatywny', 'neutralny', 'pozytywny']].values\n",
        "hum_labels_sentiment = np.argmax(hum_labels_sentiment, axis=1)\n",
        "\n",
        "df[\"sentiment_label_human\"] = hum_labels_sentiment"
      ],
      "metadata": {
        "id": "TUBxaZZBYeGx"
      },
      "execution_count": null,
      "outputs": []
    },
    {
      "cell_type": "code",
      "source": [
        "x = df.clean_Tekst.apply(str).values\n",
        "y = df[\"sentiment_label_human\"].values\n",
        "\n",
        "x_train, x_test, y_train, y_test = train_test_split(x, y, test_size = 0.15, \n",
        "                                                    random_state = 3)\n",
        "x_train.shape,  x_test.shape"
      ],
      "metadata": {
        "colab": {
          "base_uri": "https://localhost:8080/"
        },
        "id": "YxSPrtQkfW-9",
        "outputId": "fdfc9740-5b61-4d94-d477-f486584b387c"
      },
      "execution_count": null,
      "outputs": [
        {
          "output_type": "execute_result",
          "data": {
            "text/plain": [
              "((850,), (150,))"
            ]
          },
          "metadata": {},
          "execution_count": 10
        }
      ]
    },
    {
      "cell_type": "code",
      "source": [
        "df.clean_Tekst.apply(str).apply(lambda x: len(x.split(\" \"))).max()"
      ],
      "metadata": {
        "id": "6h8FKvE-eefC",
        "colab": {
          "base_uri": "https://localhost:8080/"
        },
        "outputId": "161c8d56-09ad-40a8-aa14-d17887adc74f"
      },
      "execution_count": null,
      "outputs": [
        {
          "output_type": "execute_result",
          "data": {
            "text/plain": [
              "96"
            ]
          },
          "metadata": {},
          "execution_count": 17
        }
      ]
    },
    {
      "cell_type": "code",
      "source": [
        "epoch = 3\n",
        "batch = 3\n",
        "RoBerta_model = \"cardiffnlp/twitter-xlm-roberta-base-sentiment\" "
      ],
      "metadata": {
        "id": "rLFZ2ypIYyk9"
      },
      "execution_count": null,
      "outputs": []
    },
    {
      "cell_type": "code",
      "source": [
        "tokenizer = AutoTokenizer.from_pretrained(RoBerta_model, use_fast=True)"
      ],
      "metadata": {
        "id": "I1XfyGVIZIXz"
      },
      "execution_count": null,
      "outputs": []
    },
    {
      "cell_type": "code",
      "source": [
        "model = AutoModelForSequenceClassification.from_pretrained(RoBerta_model, \n",
        "                                                           num_labels = 3)"
      ],
      "metadata": {
        "id": "6nPouJAuZ6Dg"
      },
      "execution_count": null,
      "outputs": []
    },
    {
      "cell_type": "code",
      "source": [
        "dataset = {}\n",
        "\n",
        "for i in ['train', 'test']:\n",
        "  dataset[i] = {}\n",
        "  for j in ['text','labels']:\n",
        "    dataset[i][j] = list()\n",
        "\n",
        "\n",
        "dataset[\"train\"][\"text\"] = list(x_train)\n",
        "dataset[\"test\"][\"text\"]  = list(x_test)\n",
        "\n",
        "dataset[\"train\"][\"labels\"] = list(y_train)\n",
        "dataset[\"test\"][\"labels\"] = list(y_test)"
      ],
      "metadata": {
        "id": "xfZymWC7Y-rt"
      },
      "execution_count": null,
      "outputs": []
    },
    {
      "cell_type": "code",
      "source": [
        "train_encode = tokenizer(dataset['train']['text'], truncation=True, padding=True, max_length=100)\n",
        "test_encode = tokenizer(dataset['test']['text'], truncation=True, padding=True, max_length=100)"
      ],
      "metadata": {
        "id": "EnVO3OB-ZAcf"
      },
      "execution_count": null,
      "outputs": []
    },
    {
      "cell_type": "code",
      "metadata": {
        "id": "1MzkHFG5yC8f"
      },
      "source": [
        "class PrepareData(torch.utils.data.Dataset):\n",
        "    def __init__(self, encodings, labels):\n",
        "        self.encodings = encodings\n",
        "        self.labels = labels\n",
        "\n",
        "    def __getitem__(self, idx):\n",
        "        item = {key: torch.tensor(val[idx]) for key, val in self.encodings.items()}\n",
        "        item['labels'] = torch.tensor(self.labels[idx])\n",
        "        return item\n",
        "\n",
        "    def __len__(self):\n",
        "        return len(self.labels)"
      ],
      "execution_count": null,
      "outputs": []
    },
    {
      "cell_type": "code",
      "source": [
        "train_data = PrepareData(train_encode, dataset['train']['labels'])\n",
        "test_data = PrepareData(test_encode, dataset['test']['labels'])"
      ],
      "metadata": {
        "id": "FzLo-4k82fhG"
      },
      "execution_count": null,
      "outputs": []
    },
    {
      "cell_type": "code",
      "source": [
        "train_arguments = TrainingArguments(\n",
        "    num_train_epoch = epoch, \n",
        "    per_device_train_batch_size = batch,\n",
        "    per_device_eval_batch_size = batch,\n",
        "    warmup_steps = 100,\n",
        "    weight_decay = 1e-2,\n",
        "    logging_steps = 20,\n",
        "    load_best_model_at_end = False,\n",
        "    output_dir = './result')"
      ],
      "metadata": {
        "id": "bKkKgz30Zd9-"
      },
      "execution_count": null,
      "outputs": []
    },
    {
      "cell_type": "code",
      "metadata": {
        "id": "J7bArzixEAH-",
        "colab": {
          "base_uri": "https://localhost:8080/",
          "height": 1000
        },
        "outputId": "42cd730f-d6d7-47e6-82c1-0e72419b59a3"
      },
      "source": [
        "trainer = Trainer(model = model, args = train_arguments, train_dataset = train_data)\n",
        "\n",
        "trainer.train()"
      ],
      "execution_count": null,
      "outputs": [
        {
          "output_type": "stream",
          "name": "stderr",
          "text": [
            "/usr/local/lib/python3.7/dist-packages/transformers/optimization.py:309: FutureWarning: This implementation of AdamW is deprecated and will be removed in a future version. Use the PyTorch implementation torch.optim.AdamW instead, or set `no_deprecation_warning=True` to disable this warning\n",
            "  FutureWarning,\n",
            "***** Running training *****\n",
            "  Num examples = 850\n",
            "  Num Epochs = 3\n",
            "  Instantaneous batch size per device = 3\n",
            "  Total train batch size (w. parallel, distributed & accumulation) = 3\n",
            "  Gradient Accumulation steps = 1\n",
            "  Total optimization steps = 852\n"
          ]
        },
        {
          "output_type": "display_data",
          "data": {
            "text/plain": [
              "<IPython.core.display.HTML object>"
            ],
            "text/html": [
              "\n",
              "    <div>\n",
              "      \n",
              "      <progress value='852' max='852' style='width:300px; height:20px; vertical-align: middle;'></progress>\n",
              "      [852/852 04:59, Epoch 3/3]\n",
              "    </div>\n",
              "    <table border=\"1\" class=\"dataframe\">\n",
              "  <thead>\n",
              " <tr style=\"text-align: left;\">\n",
              "      <th>Step</th>\n",
              "      <th>Training Loss</th>\n",
              "    </tr>\n",
              "  </thead>\n",
              "  <tbody>\n",
              "    <tr>\n",
              "      <td>20</td>\n",
              "      <td>0.228900</td>\n",
              "    </tr>\n",
              "    <tr>\n",
              "      <td>40</td>\n",
              "      <td>0.228500</td>\n",
              "    </tr>\n",
              "    <tr>\n",
              "      <td>60</td>\n",
              "      <td>0.261400</td>\n",
              "    </tr>\n",
              "    <tr>\n",
              "      <td>80</td>\n",
              "      <td>0.475100</td>\n",
              "    </tr>\n",
              "    <tr>\n",
              "      <td>100</td>\n",
              "      <td>0.593500</td>\n",
              "    </tr>\n",
              "    <tr>\n",
              "      <td>120</td>\n",
              "      <td>0.219000</td>\n",
              "    </tr>\n",
              "    <tr>\n",
              "      <td>140</td>\n",
              "      <td>0.857700</td>\n",
              "    </tr>\n",
              "    <tr>\n",
              "      <td>160</td>\n",
              "      <td>0.149900</td>\n",
              "    </tr>\n",
              "    <tr>\n",
              "      <td>180</td>\n",
              "      <td>0.965500</td>\n",
              "    </tr>\n",
              "    <tr>\n",
              "      <td>200</td>\n",
              "      <td>0.970100</td>\n",
              "    </tr>\n",
              "    <tr>\n",
              "      <td>220</td>\n",
              "      <td>1.103500</td>\n",
              "    </tr>\n",
              "    <tr>\n",
              "      <td>240</td>\n",
              "      <td>0.863100</td>\n",
              "    </tr>\n",
              "    <tr>\n",
              "      <td>260</td>\n",
              "      <td>1.098300</td>\n",
              "    </tr>\n",
              "    <tr>\n",
              "      <td>280</td>\n",
              "      <td>0.688900</td>\n",
              "    </tr>\n",
              "    <tr>\n",
              "      <td>300</td>\n",
              "      <td>0.123100</td>\n",
              "    </tr>\n",
              "    <tr>\n",
              "      <td>320</td>\n",
              "      <td>0.191000</td>\n",
              "    </tr>\n",
              "    <tr>\n",
              "      <td>340</td>\n",
              "      <td>0.401200</td>\n",
              "    </tr>\n",
              "    <tr>\n",
              "      <td>360</td>\n",
              "      <td>0.538400</td>\n",
              "    </tr>\n",
              "    <tr>\n",
              "      <td>380</td>\n",
              "      <td>0.436700</td>\n",
              "    </tr>\n",
              "    <tr>\n",
              "      <td>400</td>\n",
              "      <td>0.343000</td>\n",
              "    </tr>\n",
              "    <tr>\n",
              "      <td>420</td>\n",
              "      <td>0.269200</td>\n",
              "    </tr>\n",
              "    <tr>\n",
              "      <td>440</td>\n",
              "      <td>0.532100</td>\n",
              "    </tr>\n",
              "    <tr>\n",
              "      <td>460</td>\n",
              "      <td>0.519900</td>\n",
              "    </tr>\n",
              "    <tr>\n",
              "      <td>480</td>\n",
              "      <td>0.402200</td>\n",
              "    </tr>\n",
              "    <tr>\n",
              "      <td>500</td>\n",
              "      <td>0.311200</td>\n",
              "    </tr>\n",
              "    <tr>\n",
              "      <td>520</td>\n",
              "      <td>0.424300</td>\n",
              "    </tr>\n",
              "    <tr>\n",
              "      <td>540</td>\n",
              "      <td>0.190100</td>\n",
              "    </tr>\n",
              "    <tr>\n",
              "      <td>560</td>\n",
              "      <td>0.851200</td>\n",
              "    </tr>\n",
              "    <tr>\n",
              "      <td>580</td>\n",
              "      <td>0.026200</td>\n",
              "    </tr>\n",
              "    <tr>\n",
              "      <td>600</td>\n",
              "      <td>0.310600</td>\n",
              "    </tr>\n",
              "    <tr>\n",
              "      <td>620</td>\n",
              "      <td>0.097400</td>\n",
              "    </tr>\n",
              "    <tr>\n",
              "      <td>640</td>\n",
              "      <td>0.308200</td>\n",
              "    </tr>\n",
              "    <tr>\n",
              "      <td>660</td>\n",
              "      <td>0.164900</td>\n",
              "    </tr>\n",
              "    <tr>\n",
              "      <td>680</td>\n",
              "      <td>0.078200</td>\n",
              "    </tr>\n",
              "    <tr>\n",
              "      <td>700</td>\n",
              "      <td>0.001400</td>\n",
              "    </tr>\n",
              "    <tr>\n",
              "      <td>720</td>\n",
              "      <td>0.174400</td>\n",
              "    </tr>\n",
              "    <tr>\n",
              "      <td>740</td>\n",
              "      <td>0.244000</td>\n",
              "    </tr>\n",
              "    <tr>\n",
              "      <td>760</td>\n",
              "      <td>0.001500</td>\n",
              "    </tr>\n",
              "    <tr>\n",
              "      <td>780</td>\n",
              "      <td>0.257400</td>\n",
              "    </tr>\n",
              "    <tr>\n",
              "      <td>800</td>\n",
              "      <td>0.445500</td>\n",
              "    </tr>\n",
              "    <tr>\n",
              "      <td>820</td>\n",
              "      <td>0.123900</td>\n",
              "    </tr>\n",
              "    <tr>\n",
              "      <td>840</td>\n",
              "      <td>0.106600</td>\n",
              "    </tr>\n",
              "  </tbody>\n",
              "</table><p>"
            ]
          },
          "metadata": {}
        },
        {
          "output_type": "stream",
          "name": "stderr",
          "text": [
            "Saving model checkpoint to ./results/checkpoint-500\n",
            "Configuration saved in ./results/checkpoint-500/config.json\n",
            "Model weights saved in ./results/checkpoint-500/pytorch_model.bin\n",
            "\n",
            "\n",
            "Training completed. Do not forget to share your model on huggingface.co/models =)\n",
            "\n",
            "\n"
          ]
        },
        {
          "output_type": "execute_result",
          "data": {
            "text/plain": [
              "TrainOutput(global_step=852, training_loss=0.38933208858498103, metrics={'train_runtime': 299.6827, 'train_samples_per_second': 8.509, 'train_steps_per_second': 2.843, 'total_flos': 131042815470000.0, 'train_loss': 0.38933208858498103, 'epoch': 3.0})"
            ]
          },
          "metadata": {},
          "execution_count": 30
        }
      ]
    },
    {
      "cell_type": "code",
      "metadata": {
        "id": "Db-zlWQLXEVf",
        "colab": {
          "base_uri": "https://localhost:8080/"
        },
        "outputId": "3d749292-031f-4fbe-ebc3-1852aba6a804"
      },
      "source": [
        "trainer.save_model(\"/content/drive/MyDrive/Colab Notebooks/sentiment_pl_tuned_model\")"
      ],
      "execution_count": null,
      "outputs": [
        {
          "output_type": "stream",
          "name": "stderr",
          "text": [
            "Saving model checkpoint to /content/drive/MyDrive/Colab Notebooks/sentiment_pl_tuned_model\n",
            "Configuration saved in /content/drive/MyDrive/Colab Notebooks/sentiment_pl_tuned_model/config.json\n",
            "Model weights saved in /content/drive/MyDrive/Colab Notebooks/sentiment_pl_tuned_model/pytorch_model.bin\n"
          ]
        }
      ]
    },
    {
      "cell_type": "code",
      "source": [
        "predictions, test_labels, _ = trainer.predict(test_data)\n",
        "predicted_labels = np.argmax(predictions, axis=-1)\n",
        "print(metrics.classification_report(test_labels, predicted_labels, digits=3)) "
      ],
      "metadata": {
        "colab": {
          "base_uri": "https://localhost:8080/",
          "height": 262
        },
        "id": "hYOdRmu8yH_r",
        "outputId": "cabd92f0-1687-4377-cf14-6fdc61eddb68"
      },
      "execution_count": null,
      "outputs": [
        {
          "output_type": "stream",
          "name": "stderr",
          "text": [
            "***** Running Prediction *****\n",
            "  Num examples = 150\n",
            "  Batch size = 3\n"
          ]
        },
        {
          "output_type": "display_data",
          "data": {
            "text/plain": [
              "<IPython.core.display.HTML object>"
            ],
            "text/html": [
              "\n",
              "    <div>\n",
              "      \n",
              "      <progress value='50' max='50' style='width:300px; height:20px; vertical-align: middle;'></progress>\n",
              "      [50/50 00:03]\n",
              "    </div>\n",
              "    "
            ]
          },
          "metadata": {}
        },
        {
          "output_type": "stream",
          "name": "stdout",
          "text": [
            "              precision    recall  f1-score   support\n",
            "\n",
            "           0      0.741     0.833     0.784        72\n",
            "           1      0.759     0.524     0.620        42\n",
            "           2      0.650     0.722     0.684        36\n",
            "\n",
            "    accuracy                          0.720       150\n",
            "   macro avg      0.716     0.693     0.696       150\n",
            "weighted avg      0.724     0.720     0.714       150\n",
            "\n"
          ]
        }
      ]
    },
    {
      "cell_type": "code",
      "source": [
        "skplt.metrics.plot_confusion_matrix(test_labels, predicted_labels, \n",
        "                                    cmap = 'Reds', normalize=True, \n",
        "                                    text_fontsize='large', figsize=(7, 6))\n",
        "\n",
        "plt.ylabel(\"True\")\n",
        "plt.xlabel(\"Predicted\")\n",
        "plt.show() "
      ],
      "metadata": {
        "colab": {
          "base_uri": "https://localhost:8080/",
          "height": 407
        },
        "id": "htNtYFLMyJKy",
        "outputId": "83722ab8-dbea-47e7-a657-f294ca7313a5"
      },
      "execution_count": null,
      "outputs": [
        {
          "output_type": "display_data",
          "data": {
            "text/plain": [
              "<Figure size 504x432 with 2 Axes>"
            ],
            "image/png": "[encoded data removed]"
          },
          "metadata": {}
        }
      ]
    }
  ]
}