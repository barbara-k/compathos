{
 "cells": [
  {
   "cell_type": "markdown",
   "metadata": {
    "id": "xySgSosu0FOO"
   },
   "source": [
    "# Imports"
   ]
  },
  {
   "cell_type": "code",
   "execution_count": null,
   "metadata": {
    "id": "qn6muqeh0Vb-",
    "outputId": "44294185-62a6-4546-aa13-6aa708c585f6"
   },
   "outputs": [
    {
     "data": {
      "text/plain": [
       "False"
      ]
     },
     "execution_count": 1,
     "metadata": {},
     "output_type": "execute_result"
    }
   ],
   "source": [
    "import torch\n",
    "torch.cuda.is_available()"
   ]
  },
  {
   "cell_type": "code",
   "execution_count": 1,
   "metadata": {
    "id": "vjzS3f7F0VcA"
   },
   "outputs": [],
   "source": [
    "fig_num = 0"
   ]
  },
  {
   "cell_type": "code",
   "execution_count": 2,
   "metadata": {
    "id": "zk5M6g4B0G0R"
   },
   "outputs": [],
   "source": [
    "import pandas as pd\n",
    "pd.set_option(\"max_colwidth\", 160)\n",
    "pd.set_option(\"display.max_columns\", None)\n",
    "\n",
    "import numpy as np\n",
    "\n",
    "import warnings\n",
    "warnings.filterwarnings('ignore')\n",
    "\n",
    "import matplotlib.pyplot as plt\n",
    "import seaborn as sns\n",
    "sns.set_theme(style=\"whitegrid\")\n",
    "plt.style.use(\"seaborn-talk\")\n",
    "\n",
    "\n",
    "\n",
    "def load_data(file_path, indx = True, indx_col = 0):\n",
    "  '''Parameters:\n",
    "  file_path: path to your excel or csv file with data,\n",
    "\n",
    "  indx: boolean - whether there is index column in your file (usually it is the first column) --> *by default it is set to True\n",
    "  \n",
    "  indx_col: int - if your file has an index column, specify column number here --> *by default it is equal to 0 (first column)\n",
    "  '''\n",
    "  if indx == True and file_path.endswith(\".xlsx\"):\n",
    "    data = pd.read_excel(file_path, index_col = indx_col)\n",
    "  elif indx == False and file_path.endswith(\".xlsx\"):\n",
    "    data = pd.read_excel(file_path)\n",
    "\n",
    "  elif indx == True and file_path.endswith(\".csv\"):\n",
    "    data = pd.read_csv(file_path, index_col = indx_col)\n",
    "  elif indx == False and file_path.endswith(\".csv\"):\n",
    "    data = pd.read_csv(file_path)\n",
    "  return data\n"
   ]
  },
  {
   "cell_type": "code",
   "execution_count": null,
   "metadata": {
    "id": "W2Nf4FBJ1uX7"
   },
   "outputs": [],
   "source": [
    "def lemmatization(dataframe, text_column):\n",
    "  '''Parameters:\n",
    "  dataframe: dataframe with your data,\n",
    "  \n",
    "  text_column: column of a dataframe where text is located\n",
    "  '''\n",
    "  df = dataframe.copy()\n",
    "  lemmas = []\n",
    "  for doc in nlp.pipe(df[text_column].apply(str)):\n",
    "    lemmas.append(\" \".join([token.lemma_ for token in doc if (not token.is_punct and not token.is_stop and not token.like_num and len(token) > 1) ]))\n",
    "  df[text_column+\"_lemmatized\"] = lemmas\n",
    "  return df\n",
    "\n",
    "\n",
    "\n",
    "# this function by analogy to ENG debates for polarity / valence measures\n",
    "def get_valence_scores(data, content_lemmatized_column, affective_database, db_words = \"Word\"):\n",
    "  '''Parameters: \n",
    "  dataframe: dataframe with your data,\n",
    "\n",
    "  content_lemmatized_column: str - name of a column in dataframe where word-lemmas are listed, \n",
    "  \n",
    "  affective_database_path: str - path to a file with affective database, \n",
    "  \n",
    "  db_words: str - name of a column in affective database where words are listed, \n",
    "  '''  \n",
    "  dataframe = data.copy()\n",
    "  #affective_database = load_data(affective_database_path)\n",
    "\n",
    "  emotion_values = [\"Valence_standardized\"]\n",
    "  used_cols = [db_words] + emotion_values\n",
    "\n",
    "  affective_database_valence = affective_database[used_cols]\n",
    "  affective_database_valence.set_index(db_words, inplace=True)\n",
    "  affective_database_valence_words = affective_database[db_words].tolist()\n",
    "\n",
    "  neg_valence_scores = []\n",
    "  pos_valence_scores = []\n",
    "\n",
    "  overall_scores_pos = []\n",
    "  overall_scores_neg = []\n",
    "  overall_scores = []\n",
    "\n",
    "  for row in dataframe[content_lemmatized_column]:\n",
    "    words_emo = row.split()\n",
    "    if len(row) > 0:\n",
    "      scores = affective_database_valence.loc[words_emo]\n",
    "\n",
    "      neg_score = scores.where(scores[\"Valence_standardized\"].round(1) < -0.5).count()[0]\n",
    "      neg_valence_scores.append(neg_score)\n",
    "\n",
    "      pos_score = scores.where(scores[\"Valence_standardized\"].round(1) > 1).count()[0]\n",
    "      pos_valence_scores.append(pos_score)\n",
    "\n",
    "      neg_score2 = abs(scores.where(scores[\"Valence_standardized\"] < -0.5).mean()[0])\n",
    "      if not (neg_score2 >= 0 and neg_score2 <= 4):\n",
    "        neg_score2 = 0\n",
    "\n",
    "      pos_score2 = scores.where(scores[\"Valence_standardized\"] > 1).mean()[0]\n",
    "      if not (pos_score2 >= 0 and pos_score2 <= 4):\n",
    "        pos_score2 = 0\n",
    "\n",
    "      overall_scores_pos.append(pos_score2)\n",
    "      overall_scores_neg.append(neg_score2)\n",
    "      if pos_score2 > neg_score2:\n",
    "        overall_scores.append(pos_score2)\n",
    "      elif pos_score2 < neg_score2:\n",
    "        overall_scores.append(neg_score2 * -1)\n",
    "      elif pos_score2 == neg_score2:\n",
    "        overall_scores.append(0)\n",
    "\n",
    "    else:\n",
    "      neg_score=pos_score=polarity_score=score_overall = np.NaN\n",
    "      overall_scores.append(score_overall)\n",
    "      overall_scores_pos.append(score_overall)\n",
    "      overall_scores_neg.append(score_overall)\n",
    "      neg_valence_scores.append(neg_score)\n",
    "      pos_valence_scores.append(pos_score)\n",
    "\n",
    "  dataframe[\"content_valence_score\"] = overall_scores\n",
    "  dataframe[\"content_valence_score_pos\"] = overall_scores_pos\n",
    "  dataframe[\"content_valence_score_neg\"] = overall_scores_neg\n",
    "  dataframe[\"content_valence_negative\"] = neg_valence_scores\n",
    "  dataframe[\"content_valence_positive\"] = pos_valence_scores\n",
    "  return dataframe  \n"
   ]
  },
  {
   "cell_type": "code",
   "execution_count": null,
   "metadata": {
    "id": "aeyA541d0VcJ",
    "outputId": "d922dcb5-1cd8-4955-9a7d-f3f5e0a49b0e"
   },
   "outputs": [
    {
     "name": "stdout",
     "output_type": "stream",
     "text": [
      "[+] Download and installation successful\n",
      "You can now load the package via spacy.load('pl_core_news_md')\n"
     ]
    },
    {
     "name": "stderr",
     "output_type": "stream",
     "text": [
      "\n",
      "[notice] A new release of pip available: 22.2.2 -> 22.3.1\n",
      "[notice] To update, run: python.exe -m pip install --upgrade pip\n"
     ]
    }
   ],
   "source": [
    "!python -m spacy download pl_core_news_md --quiet\n"
   ]
  },
  {
   "cell_type": "code",
   "execution_count": null,
   "metadata": {
    "id": "Ui0pNlQz1n_f"
   },
   "outputs": [],
   "source": [
    "\n",
    "import spacy\n",
    "\n",
    "# load SPACY model\n",
    "nlp = spacy.load('pl_core_news_md')"
   ]
  },
  {
   "cell_type": "code",
   "execution_count": null,
   "metadata": {
    "id": "Poi4Sk_s5bAK"
   },
   "outputs": [],
   "source": [
    "def clean_text(df, text_column):\n",
    "  import re\n",
    "  new_texts = []\n",
    "  for text in df[text_column]:\n",
    "    text_list = str(text).lower().split(\" \")\n",
    "    new_string_list = []\n",
    "    for word in text_list:\n",
    "      if 'http' in word:\n",
    "        word = \"url\"\n",
    "      elif ('@' in word) and (len(word) > 1):\n",
    "        word = \"user\"\n",
    "      if (len(word) > 1) and not (word.isnumeric()):\n",
    "        new_string_list.append(word)\n",
    "    new_string = \" \".join(new_string_list)\n",
    "    new_string = re.sub(\"\\d+\", \" \", new_string)\n",
    "    new_string = new_string.replace('\\n', ' ')\n",
    "    new_string = new_string.replace('\\r', ' ')\n",
    "    new_string = new_string.strip()\n",
    "    new_texts.append(new_string)\n",
    "  df[text_column] = new_texts\n",
    "  return df"
   ]
  },
  {
   "cell_type": "markdown",
   "metadata": {
    "id": "pUr40Blb0JjL"
   },
   "source": [
    "# Merge single datasets"
   ]
  },
  {
   "cell_type": "code",
   "execution_count": 88,
   "metadata": {
    "id": "ysrIJKk40VcO",
    "outputId": "79e21355-0f6e-4ec0-87aa-7ceb21cbb9c1"
   },
   "outputs": [
    {
     "data": {
      "text/plain": [
       "(205701, 21)"
      ]
     },
     "execution_count": 88,
     "metadata": {},
     "output_type": "execute_result"
    }
   ],
   "source": [
    "df1 = pd.read_csv(r\"C:\\Users\\user1\\Downloads\\gazeta2_cln.csv\", index_col=0)\n",
    "df1.shape"
   ]
  },
  {
   "cell_type": "code",
   "execution_count": 89,
   "metadata": {},
   "outputs": [
    {
     "data": {
      "text/plain": [
       "(205701, 22)"
      ]
     },
     "execution_count": 89,
     "metadata": {},
     "output_type": "execute_result"
    }
   ],
   "source": [
    "sent1 = pd.read_csv(r\"C:\\Users\\user1\\Downloads\\gazeta2_cln_sentimentBERT.csv\")\n",
    "\n",
    "df1 = pd.concat( [df1, sent1], axis=1 )\n",
    "df1.shape"
   ]
  },
  {
   "cell_type": "code",
   "execution_count": 100,
   "metadata": {
    "id": "vWVT3G250VcQ",
    "outputId": "cb8a5772-adf5-47e1-b0fc-ba0eb5d3b1d6"
   },
   "outputs": [
    {
     "data": {
      "text/plain": [
       "(647289, 22)"
      ]
     },
     "execution_count": 100,
     "metadata": {},
     "output_type": "execute_result"
    }
   ],
   "source": [
    "df2 = pd.read_csv(r\"C:\\Users\\user1\\Downloads\\interia2_cln.csv\", index_col=0)\n",
    "df2.shape"
   ]
  },
  {
   "cell_type": "code",
   "execution_count": 101,
   "metadata": {},
   "outputs": [
    {
     "data": {
      "text/plain": [
       "(647289, 1)"
      ]
     },
     "execution_count": 101,
     "metadata": {},
     "output_type": "execute_result"
    }
   ],
   "source": [
    "sent2 = pd.read_csv(r\"C:\\Users\\user1\\Downloads\\interia2_cln_sentimentBERT.csv\")\n",
    "sent2.shape"
   ]
  },
  {
   "cell_type": "code",
   "execution_count": 102,
   "metadata": {
    "id": "3nYQI9-Y0VcT",
    "outputId": "4d3c3a9d-51e9-4484-adcb-35d7a71dd69b"
   },
   "outputs": [
    {
     "data": {
      "text/plain": [
       "(647289, 23)"
      ]
     },
     "execution_count": 102,
     "metadata": {},
     "output_type": "execute_result"
    }
   ],
   "source": [
    "df2 = pd.concat( [df2, sent2], axis=1 )\n",
    "df2.shape"
   ]
  },
  {
   "cell_type": "code",
   "execution_count": 90,
   "metadata": {
    "id": "20a5ANPf0VcT",
    "outputId": "84573bce-7c5b-45e6-9e4a-208b6b008cd1"
   },
   "outputs": [
    {
     "data": {
      "text/plain": [
       "(1599878, 22)"
      ]
     },
     "execution_count": 90,
     "metadata": {},
     "output_type": "execute_result"
    }
   ],
   "source": [
    "df3 = pd.read_csv(r\"C:\\Users\\user1\\Downloads\\interia1_cln.csv\", index_col=0)\n",
    "df3.shape"
   ]
  },
  {
   "cell_type": "code",
   "execution_count": 93,
   "metadata": {},
   "outputs": [
    {
     "data": {
      "text/plain": [
       "2452868"
      ]
     },
     "execution_count": 93,
     "metadata": {},
     "output_type": "execute_result"
    }
   ],
   "source": [
    "205701+647289+1599878"
   ]
  },
  {
   "cell_type": "code",
   "execution_count": 121,
   "metadata": {},
   "outputs": [
    {
     "data": {
      "text/plain": [
       "1599878"
      ]
     },
     "execution_count": 121,
     "metadata": {},
     "output_type": "execute_result"
    }
   ],
   "source": [
    "sent1 = pd.read_csv(r\"C:\\Users\\user1\\Downloads\\interia1_cln_sentimentBERT_750k.csv\")\n",
    "sent2 = pd.read_csv(r\"C:\\Users\\user1\\Downloads\\interia1_cln_sentimentBERT_750k-1mln.csv\", header=  None)\n",
    "sent3 = pd.read_csv(r\"C:\\Users\\user1\\Downloads\\interia1_cln_sentimentBERT_1mln.csv\", header=  None)\n",
    "\n",
    "sent1.shape[0] + sent2.shape[0] + sent3.shape[0]"
   ]
  },
  {
   "cell_type": "code",
   "execution_count": null,
   "metadata": {},
   "outputs": [],
   "source": [
    "sent2.columns = sent1.columns\n",
    "sent3.columns = sent1.columns\n",
    "sent = pd.concat( [sent1, sent2, sent3], axis=0, ignore_index=True )\n",
    "\n",
    "sent.to_csv(r\"C:\\Users\\user1\\Downloads\\interia1_cln_sentimentBERT.csv\", index=False)"
   ]
  },
  {
   "cell_type": "code",
   "execution_count": 91,
   "metadata": {},
   "outputs": [
    {
     "data": {
      "text/html": [
       "<div>\n",
       "<style scoped>\n",
       "    .dataframe tbody tr th:only-of-type {\n",
       "        vertical-align: middle;\n",
       "    }\n",
       "\n",
       "    .dataframe tbody tr th {\n",
       "        vertical-align: top;\n",
       "    }\n",
       "\n",
       "    .dataframe thead th {\n",
       "        text-align: right;\n",
       "    }\n",
       "</style>\n",
       "<table border=\"1\" class=\"dataframe\">\n",
       "  <thead>\n",
       "    <tr style=\"text-align: right;\">\n",
       "      <th></th>\n",
       "      <th>id</th>\n",
       "      <th>voteup</th>\n",
       "      <th>content</th>\n",
       "      <th>month</th>\n",
       "      <th>content_lemmatized</th>\n",
       "      <th>valence_words</th>\n",
       "      <th>neg_valence_words</th>\n",
       "      <th>pos_valence_words</th>\n",
       "      <th>content_valence_negative</th>\n",
       "      <th>content_valence_positive</th>\n",
       "      <th>content_valence_score_neg</th>\n",
       "      <th>content_valence_score_pos</th>\n",
       "      <th>content_valence_score</th>\n",
       "      <th>neg_percent</th>\n",
       "      <th>pos_percent</th>\n",
       "      <th>month_resp_dob</th>\n",
       "      <th>month_resp_zla</th>\n",
       "      <th>month_resp</th>\n",
       "      <th>valence_pos</th>\n",
       "      <th>valence_neg</th>\n",
       "      <th>prop_neg</th>\n",
       "      <th>prop_pos</th>\n",
       "      <th>sentimentBERT</th>\n",
       "    </tr>\n",
       "  </thead>\n",
       "  <tbody>\n",
       "    <tr>\n",
       "      <th>0</th>\n",
       "      <td>213257700</td>\n",
       "      <td>440</td>\n",
       "      <td>polska pod rządami pisu kojarzy mi się filmem \"miś\" oraz anegdotami wąchocku</td>\n",
       "      <td>5</td>\n",
       "      <td>Polska rząd pis kojarzyć film miś anegdota wąchock</td>\n",
       "      <td>rząd film miś</td>\n",
       "      <td>rząd</td>\n",
       "      <td>miś film</td>\n",
       "      <td>1.0</td>\n",
       "      <td>2.0</td>\n",
       "      <td>7.415875</td>\n",
       "      <td>12.519472</td>\n",
       "      <td>12.519472</td>\n",
       "      <td>12.5</td>\n",
       "      <td>25.0</td>\n",
       "      <td>22</td>\n",
       "      <td>42.0</td>\n",
       "      <td>-20.0</td>\n",
       "      <td>1</td>\n",
       "      <td>0</td>\n",
       "      <td>NaN</td>\n",
       "      <td>30.309931</td>\n",
       "      <td>Negative</td>\n",
       "    </tr>\n",
       "  </tbody>\n",
       "</table>\n",
       "</div>"
      ],
      "text/plain": [
       "          id  voteup  \\\n",
       "0  213257700     440   \n",
       "\n",
       "                                                                        content  \\\n",
       "0  polska pod rządami pisu kojarzy mi się filmem \"miś\" oraz anegdotami wąchocku   \n",
       "\n",
       "   month                                  content_lemmatized  valence_words  \\\n",
       "0      5  Polska rząd pis kojarzyć film miś anegdota wąchock  rząd film miś   \n",
       "\n",
       "  neg_valence_words pos_valence_words  content_valence_negative  \\\n",
       "0              rząd          miś film                       1.0   \n",
       "\n",
       "   content_valence_positive  content_valence_score_neg  \\\n",
       "0                       2.0                   7.415875   \n",
       "\n",
       "   content_valence_score_pos  content_valence_score  neg_percent  pos_percent  \\\n",
       "0                  12.519472              12.519472         12.5         25.0   \n",
       "\n",
       "   month_resp_dob  month_resp_zla  month_resp  valence_pos  valence_neg  \\\n",
       "0              22            42.0       -20.0            1            0   \n",
       "\n",
       "   prop_neg   prop_pos sentimentBERT  \n",
       "0       NaN  30.309931      Negative  "
      ]
     },
     "execution_count": 91,
     "metadata": {},
     "output_type": "execute_result"
    }
   ],
   "source": [
    "df3 = pd.concat( [df3, sent], axis=1 )\n",
    "df3.head(1) # 1599878"
   ]
  },
  {
   "cell_type": "code",
   "execution_count": 95,
   "metadata": {
    "id": "nPfAgkWA0VcU",
    "outputId": "62fc9a8a-f71b-4b86-f8c2-ff12c3ae0c4a"
   },
   "outputs": [
    {
     "data": {
      "text/plain": [
       "(1599878, 23)"
      ]
     },
     "execution_count": 95,
     "metadata": {},
     "output_type": "execute_result"
    }
   ],
   "source": [
    "df3.shape"
   ]
  },
  {
   "cell_type": "code",
   "execution_count": 104,
   "metadata": {
    "id": "_Shec0m20VcZ",
    "outputId": "4290503c-4d3f-4437-b2d6-1780b2dc5c57"
   },
   "outputs": [
    {
     "data": {
      "text/html": [
       "<div>\n",
       "<style scoped>\n",
       "    .dataframe tbody tr th:only-of-type {\n",
       "        vertical-align: middle;\n",
       "    }\n",
       "\n",
       "    .dataframe tbody tr th {\n",
       "        vertical-align: top;\n",
       "    }\n",
       "\n",
       "    .dataframe thead th {\n",
       "        text-align: right;\n",
       "    }\n",
       "</style>\n",
       "<table border=\"1\" class=\"dataframe\">\n",
       "  <thead>\n",
       "    <tr style=\"text-align: right;\">\n",
       "      <th></th>\n",
       "      <th>id</th>\n",
       "      <th>parentId</th>\n",
       "      <th>content</th>\n",
       "      <th>timestamp</th>\n",
       "      <th>month</th>\n",
       "      <th>content_lemmatized</th>\n",
       "      <th>valence_words</th>\n",
       "      <th>content_valence_score</th>\n",
       "      <th>content_valence_score_pos</th>\n",
       "      <th>content_valence_score_neg</th>\n",
       "      <th>content_valence_negative</th>\n",
       "      <th>content_valence_positive</th>\n",
       "      <th>neg_percent</th>\n",
       "      <th>pos_percent</th>\n",
       "      <th>month_resp_dob</th>\n",
       "      <th>month_resp_zla</th>\n",
       "      <th>month_resp</th>\n",
       "      <th>valence_pos</th>\n",
       "      <th>valence_neg</th>\n",
       "      <th>prop_neg</th>\n",
       "      <th>prop_pos</th>\n",
       "      <th>sentimentBERT</th>\n",
       "      <th>voteup</th>\n",
       "      <th>content_valence_score_norm</th>\n",
       "      <th>month_resp_norm</th>\n",
       "      <th>neg_valence_words</th>\n",
       "      <th>pos_valence_words</th>\n",
       "    </tr>\n",
       "  </thead>\n",
       "  <tbody>\n",
       "    <tr>\n",
       "      <th>0</th>\n",
       "      <td>59304307</td>\n",
       "      <td>59304103.0</td>\n",
       "      <td>user ze względu na pandemię strach było jechać do włoch lub grecji gdyby był wybór, to na pewno nie byłby bałtyk. lipcu było zimno.</td>\n",
       "      <td>2020-11-17 18:27:57</td>\n",
       "      <td>11</td>\n",
       "      <td>user wzgląd pandemia strach jechać włochy grecja wybór pewno być by Bałtyk lipiec zimno</td>\n",
       "      <td>strach włochy zimno</td>\n",
       "      <td>-12.566158</td>\n",
       "      <td>11.211297</td>\n",
       "      <td>12.566158</td>\n",
       "      <td>2.0</td>\n",
       "      <td>1.0</td>\n",
       "      <td>14.285714</td>\n",
       "      <td>7.142857</td>\n",
       "      <td>14</td>\n",
       "      <td>45.0</td>\n",
       "      <td>-31.0</td>\n",
       "      <td>0</td>\n",
       "      <td>1</td>\n",
       "      <td>33.517117</td>\n",
       "      <td>NaN</td>\n",
       "      <td>Negative</td>\n",
       "      <td>NaN</td>\n",
       "      <td>NaN</td>\n",
       "      <td>NaN</td>\n",
       "      <td>NaN</td>\n",
       "      <td>NaN</td>\n",
       "    </tr>\n",
       "    <tr>\n",
       "      <th>1</th>\n",
       "      <td>59304524</td>\n",
       "      <td>59304103.0</td>\n",
       "      <td>user samo mówią, że nie jadają maku, między gorzowem, szczecinem latem nie ma jak zatankować.</td>\n",
       "      <td>2020-11-17 18:42:55</td>\n",
       "      <td>11</td>\n",
       "      <td>user samo mówić jadać mak gorzowo szczecinem lato zatankować</td>\n",
       "      <td>lato</td>\n",
       "      <td>19.440892</td>\n",
       "      <td>19.440892</td>\n",
       "      <td>0.000000</td>\n",
       "      <td>0.0</td>\n",
       "      <td>1.0</td>\n",
       "      <td>0.000000</td>\n",
       "      <td>11.111111</td>\n",
       "      <td>14</td>\n",
       "      <td>45.0</td>\n",
       "      <td>-31.0</td>\n",
       "      <td>1</td>\n",
       "      <td>0</td>\n",
       "      <td>NaN</td>\n",
       "      <td>29.715291</td>\n",
       "      <td>Negative</td>\n",
       "      <td>NaN</td>\n",
       "      <td>NaN</td>\n",
       "      <td>NaN</td>\n",
       "      <td>NaN</td>\n",
       "      <td>NaN</td>\n",
       "    </tr>\n",
       "  </tbody>\n",
       "</table>\n",
       "</div>"
      ],
      "text/plain": [
       "         id    parentId  \\\n",
       "0  59304307  59304103.0   \n",
       "1  59304524  59304103.0   \n",
       "\n",
       "                                                                                                                               content  \\\n",
       "0  user ze względu na pandemię strach było jechać do włoch lub grecji gdyby był wybór, to na pewno nie byłby bałtyk. lipcu było zimno.   \n",
       "1                                        user samo mówią, że nie jadają maku, między gorzowem, szczecinem latem nie ma jak zatankować.   \n",
       "\n",
       "             timestamp  month  \\\n",
       "0  2020-11-17 18:27:57     11   \n",
       "1  2020-11-17 18:42:55     11   \n",
       "\n",
       "                                                                        content_lemmatized  \\\n",
       "0  user wzgląd pandemia strach jechać włochy grecja wybór pewno być by Bałtyk lipiec zimno   \n",
       "1                             user samo mówić jadać mak gorzowo szczecinem lato zatankować   \n",
       "\n",
       "         valence_words  content_valence_score  content_valence_score_pos  \\\n",
       "0  strach włochy zimno             -12.566158                  11.211297   \n",
       "1                 lato              19.440892                  19.440892   \n",
       "\n",
       "   content_valence_score_neg  content_valence_negative  \\\n",
       "0                  12.566158                       2.0   \n",
       "1                   0.000000                       0.0   \n",
       "\n",
       "   content_valence_positive  neg_percent  pos_percent  month_resp_dob  \\\n",
       "0                       1.0    14.285714     7.142857              14   \n",
       "1                       1.0     0.000000    11.111111              14   \n",
       "\n",
       "   month_resp_zla  month_resp  valence_pos  valence_neg   prop_neg   prop_pos  \\\n",
       "0            45.0       -31.0            0            1  33.517117        NaN   \n",
       "1            45.0       -31.0            1            0        NaN  29.715291   \n",
       "\n",
       "  sentimentBERT  voteup  content_valence_score_norm  month_resp_norm  \\\n",
       "0      Negative     NaN                         NaN              NaN   \n",
       "1      Negative     NaN                         NaN              NaN   \n",
       "\n",
       "  neg_valence_words pos_valence_words  \n",
       "0               NaN               NaN  \n",
       "1               NaN               NaN  "
      ]
     },
     "execution_count": 104,
     "metadata": {},
     "output_type": "execute_result"
    }
   ],
   "source": [
    "df_all = pd.concat( [df1, df2, df3], axis=0, ignore_index=True )\n",
    "df_all.head(2)"
   ]
  },
  {
   "cell_type": "code",
   "execution_count": 105,
   "metadata": {},
   "outputs": [
    {
     "name": "stdout",
     "output_type": "stream",
     "text": [
      "<class 'pandas.core.frame.DataFrame'>\n",
      "RangeIndex: 2452868 entries, 0 to 2452867\n",
      "Data columns (total 27 columns):\n",
      " #   Column                      Non-Null Count    Dtype  \n",
      "---  ------                      --------------    -----  \n",
      " 0   id                          2452868 non-null  int64  \n",
      " 1   parentId                    205701 non-null   float64\n",
      " 2   content                     2452868 non-null  object \n",
      " 3   timestamp                   205701 non-null   object \n",
      " 4   month                       2452868 non-null  int64  \n",
      " 5   content_lemmatized          2452868 non-null  object \n",
      " 6   valence_words               1835419 non-null  object \n",
      " 7   content_valence_score       1835419 non-null  float64\n",
      " 8   content_valence_score_pos   1835419 non-null  float64\n",
      " 9   content_valence_score_neg   1835419 non-null  float64\n",
      " 10  content_valence_negative    1835419 non-null  float64\n",
      " 11  content_valence_positive    1835419 non-null  float64\n",
      " 12  neg_percent                 1835419 non-null  float64\n",
      " 13  pos_percent                 1835419 non-null  float64\n",
      " 14  month_resp_dob              2452868 non-null  int64  \n",
      " 15  month_resp_zla              2452868 non-null  float64\n",
      " 16  month_resp                  2452868 non-null  float64\n",
      " 17  valence_pos                 2452868 non-null  int64  \n",
      " 18  valence_neg                 2452868 non-null  int64  \n",
      " 19  prop_neg                    810149 non-null   float64\n",
      " 20  prop_pos                    731261 non-null   float64\n",
      " 21  sentimentBERT               2452868 non-null  object \n",
      " 22  voteup                      2247167 non-null  float64\n",
      " 23  content_valence_score_norm  498610 non-null   float64\n",
      " 24  month_resp_norm             647289 non-null   float64\n",
      " 25  neg_valence_words           835481 non-null   object \n",
      " 26  pos_valence_words           828125 non-null   object \n",
      "dtypes: float64(15), int64(5), object(7)\n",
      "memory usage: 505.3+ MB\n"
     ]
    }
   ],
   "source": [
    "df_all.info(True, show_counts=True)"
   ]
  },
  {
   "cell_type": "code",
   "execution_count": 107,
   "metadata": {
    "id": "2th6Mv6y0Vca",
    "outputId": "28abf085-0fb0-4620-8882-35688e9410c6"
   },
   "outputs": [
    {
     "data": {
      "text/plain": [
       "(2452868, 27)"
      ]
     },
     "execution_count": 107,
     "metadata": {},
     "output_type": "execute_result"
    }
   ],
   "source": [
    "df_all.to_csv(r\"C:\\Users\\user1\\Downloads\\wnpid_all_sentiBERT.csv\")\n",
    "df_all.shape # 2452868"
   ]
  },
  {
   "cell_type": "code",
   "execution_count": 108,
   "metadata": {
    "id": "o2nHzPt_0Vcb",
    "outputId": "95a0f211-889b-42bf-f3c6-a9218b62571e"
   },
   "outputs": [
    {
     "data": {
      "text/plain": [
       "3     628300\n",
       "6     396646\n",
       "7     386781\n",
       "5     319533\n",
       "10    223087\n",
       "8     218733\n",
       "9     209304\n",
       "11     67698\n",
       "1       1500\n",
       "2       1286\n",
       "Name: month, dtype: int64"
      ]
     },
     "execution_count": 108,
     "metadata": {},
     "output_type": "execute_result"
    }
   ],
   "source": [
    "df_all['month'].value_counts()"
   ]
  },
  {
   "cell_type": "markdown",
   "metadata": {
    "id": "WCYAcUwB0_cp"
   },
   "source": [
    "# Data single processing"
   ]
  },
  {
   "cell_type": "code",
   "execution_count": null,
   "metadata": {
    "colab": {
     "base_uri": "https://localhost:8080/"
    },
    "id": "4GXtaDGgz3Tb",
    "outputId": "4ca1024b-f626-4d2c-d7b4-f7f57e10217a"
   },
   "outputs": [
    {
     "data": {
      "text/plain": [
       "(3041841, 8)"
      ]
     },
     "execution_count": 6,
     "metadata": {},
     "output_type": "execute_result"
    }
   ],
   "source": [
    "df = pd.read_csv(r\"C:\\Users\\user1\\Downloads\\interia1.csv\", index_col=0)\n",
    "df.shape"
   ]
  },
  {
   "cell_type": "code",
   "execution_count": null,
   "metadata": {
    "colab": {
     "base_uri": "https://localhost:8080/",
     "height": 239
    },
    "id": "EGGkUvdy6ceT",
    "outputId": "9231eb34-e07d-4992-9441-11cc89b64103"
   },
   "outputs": [
    {
     "data": {
      "text/html": [
       "<div>\n",
       "<style scoped>\n",
       "    .dataframe tbody tr th:only-of-type {\n",
       "        vertical-align: middle;\n",
       "    }\n",
       "\n",
       "    .dataframe tbody tr th {\n",
       "        vertical-align: top;\n",
       "    }\n",
       "\n",
       "    .dataframe thead th {\n",
       "        text-align: right;\n",
       "    }\n",
       "</style>\n",
       "<table border=\"1\" class=\"dataframe\">\n",
       "  <thead>\n",
       "    <tr style=\"text-align: right;\">\n",
       "      <th></th>\n",
       "      <th>datetime</th>\n",
       "      <th>replyCount</th>\n",
       "      <th>votedown</th>\n",
       "      <th>author</th>\n",
       "      <th>parentCommentId</th>\n",
       "      <th>id</th>\n",
       "      <th>voteup</th>\n",
       "      <th>content</th>\n",
       "    </tr>\n",
       "  </thead>\n",
       "  <tbody>\n",
       "    <tr>\n",
       "      <th>0</th>\n",
       "      <td>2020-05-14 16:06:09</td>\n",
       "      <td>14</td>\n",
       "      <td>113</td>\n",
       "      <td>18latek</td>\n",
       "      <td>NaN</td>\n",
       "      <td>213257700</td>\n",
       "      <td>440</td>\n",
       "      <td>Polska pod rządami pisu  kojarzy mi  się z filmem \"Miś\" oraz z anegdotami o Wąchocku</td>\n",
       "    </tr>\n",
       "    <tr>\n",
       "      <th>1</th>\n",
       "      <td>2020-05-14 15:50:58</td>\n",
       "      <td>3</td>\n",
       "      <td>47</td>\n",
       "      <td>ityle</td>\n",
       "      <td>NaN</td>\n",
       "      <td>213256643</td>\n",
       "      <td>332</td>\n",
       "      <td>........o kaczor mu nie dał wytycznych i bidaczysko nie wie co ma podpisać.</td>\n",
       "    </tr>\n",
       "    <tr>\n",
       "      <th>2</th>\n",
       "      <td>2020-05-14 15:49:54</td>\n",
       "      <td>0</td>\n",
       "      <td>17</td>\n",
       "      <td>Ckd</td>\n",
       "      <td>NaN</td>\n",
       "      <td>213256576</td>\n",
       "      <td>267</td>\n",
       "      <td>Jak zwykle tytułZdupy.</td>\n",
       "    </tr>\n",
       "  </tbody>\n",
       "</table>\n",
       "</div>"
      ],
      "text/plain": [
       "              datetime  replyCount  votedown   author  parentCommentId  \\\n",
       "0  2020-05-14 16:06:09          14       113  18latek              NaN   \n",
       "1  2020-05-14 15:50:58           3        47    ityle              NaN   \n",
       "2  2020-05-14 15:49:54           0        17      Ckd              NaN   \n",
       "\n",
       "          id  voteup  \\\n",
       "0  213257700     440   \n",
       "1  213256643     332   \n",
       "2  213256576     267   \n",
       "\n",
       "                                                                                content  \n",
       "0  Polska pod rządami pisu  kojarzy mi  się z filmem \"Miś\" oraz z anegdotami o Wąchocku  \n",
       "1           ........o kaczor mu nie dał wytycznych i bidaczysko nie wie co ma podpisać.  \n",
       "2                                                                Jak zwykle tytułZdupy.  "
      ]
     },
     "execution_count": 7,
     "metadata": {},
     "output_type": "execute_result"
    }
   ],
   "source": [
    "df.head(3)"
   ]
  },
  {
   "cell_type": "code",
   "execution_count": null,
   "metadata": {
    "id": "EGdYa5bc0Vcd",
    "outputId": "0ba68d47-ff2b-4f9e-f377-8dd3c27ef0b4"
   },
   "outputs": [
    {
     "data": {
      "text/plain": [
       "(2452007, 8)"
      ]
     },
     "execution_count": 8,
     "metadata": {},
     "output_type": "execute_result"
    }
   ],
   "source": [
    "df = df.drop_duplicates(['content'])\n",
    "df.shape"
   ]
  },
  {
   "cell_type": "code",
   "execution_count": null,
   "metadata": {
    "colab": {
     "base_uri": "https://localhost:8080/"
    },
    "id": "xtV7o-6vDE8B",
    "outputId": "90d0081e-3bf9-4dd2-d3a3-93fbcfc3b571"
   },
   "outputs": [
    {
     "data": {
      "text/plain": [
       "3     733426\n",
       "6     455743\n",
       "5     364219\n",
       "7     286624\n",
       "8       6210\n",
       "9       4854\n",
       "10      1601\n",
       "Name: month, dtype: int64"
      ]
     },
     "execution_count": 9,
     "metadata": {},
     "output_type": "execute_result"
    }
   ],
   "source": [
    "df['month'] = pd.to_datetime(df.datetime).dt.month\n",
    "df = df[df.month.isin([1, 2, 3, 5, 6, 7, 8, 9, 10, 11])]\n",
    "#df['month'] = np.where(df['month'].isin([5, 6]), 6, df['month'])\n",
    "df['month'].value_counts()"
   ]
  },
  {
   "cell_type": "code",
   "execution_count": null,
   "metadata": {
    "id": "mxGnTzoZ0Vce",
    "outputId": "e5e915da-2481-4845-a49b-270fb9a950cf"
   },
   "outputs": [
    {
     "data": {
      "text/plain": [
       "(1852677, 9)"
      ]
     },
     "execution_count": 10,
     "metadata": {},
     "output_type": "execute_result"
    }
   ],
   "source": [
    "df.shape"
   ]
  },
  {
   "cell_type": "code",
   "execution_count": null,
   "metadata": {
    "id": "phGWrOlB0Vce",
    "outputId": "062af11a-bd62-4315-ea7f-28f93c3b7922"
   },
   "outputs": [
    {
     "data": {
      "text/plain": [
       "(1769872, 9)"
      ]
     },
     "execution_count": 11,
     "metadata": {},
     "output_type": "execute_result"
    }
   ],
   "source": [
    "df['content'] = df['content'].apply(str)\n",
    "df = df[df.content.str.split().map(len) > 2]\n",
    "df.shape"
   ]
  },
  {
   "cell_type": "code",
   "execution_count": null,
   "metadata": {
    "id": "_jnTcqCM0Vce",
    "outputId": "4e0e5b4a-7948-480c-a39b-1aa2116b2e27"
   },
   "outputs": [
    {
     "data": {
      "text/plain": [
       "(1752708, 9)"
      ]
     },
     "execution_count": 12,
     "metadata": {},
     "output_type": "execute_result"
    }
   ],
   "source": [
    "df = clean_text(df, 'content')\n",
    "df = df[df.content.str.split().map(len) > 2]\n",
    "df.shape"
   ]
  },
  {
   "cell_type": "code",
   "execution_count": null,
   "metadata": {
    "id": "bEs5nFpa0Vcf",
    "outputId": "41e64024-8773-46b3-cfed-e8ff460f5c4c"
   },
   "outputs": [
    {
     "data": {
      "text/plain": [
       "(1733609, 9)"
      ]
     },
     "execution_count": 13,
     "metadata": {},
     "output_type": "execute_result"
    }
   ],
   "source": [
    "df = df.drop_duplicates(['content'])\n",
    "df.shape"
   ]
  },
  {
   "cell_type": "code",
   "execution_count": null,
   "metadata": {
    "id": "_-PpSEU30Vcf",
    "outputId": "72096f0a-415d-4fb1-c786-ebe2122893c9"
   },
   "outputs": [
    {
     "data": {
      "text/html": [
       "<div>\n",
       "<style scoped>\n",
       "    .dataframe tbody tr th:only-of-type {\n",
       "        vertical-align: middle;\n",
       "    }\n",
       "\n",
       "    .dataframe tbody tr th {\n",
       "        vertical-align: top;\n",
       "    }\n",
       "\n",
       "    .dataframe thead th {\n",
       "        text-align: right;\n",
       "    }\n",
       "</style>\n",
       "<table border=\"1\" class=\"dataframe\">\n",
       "  <thead>\n",
       "    <tr style=\"text-align: right;\">\n",
       "      <th></th>\n",
       "      <th>datetime</th>\n",
       "      <th>replyCount</th>\n",
       "      <th>votedown</th>\n",
       "      <th>author</th>\n",
       "      <th>parentCommentId</th>\n",
       "      <th>id</th>\n",
       "      <th>voteup</th>\n",
       "      <th>content</th>\n",
       "      <th>month</th>\n",
       "    </tr>\n",
       "  </thead>\n",
       "  <tbody>\n",
       "    <tr>\n",
       "      <th>802</th>\n",
       "      <td>2020-05-15 10:54:22</td>\n",
       "      <td>0</td>\n",
       "      <td>2</td>\n",
       "      <td>Chroń/Polskę</td>\n",
       "      <td>NaN</td>\n",
       "      <td>213310845</td>\n",
       "      <td>28</td>\n",
       "      <td>matko córko. jeden uważa, że niepotrzebna nam stolica skoro jest berlin, drugi chce \"dożynać\" ludzi. czy peło nie ma już normalnych ludzi ????. to może jach...</td>\n",
       "      <td>5</td>\n",
       "    </tr>\n",
       "    <tr>\n",
       "      <th>803</th>\n",
       "      <td>2020-05-15 10:31:42</td>\n",
       "      <td>0</td>\n",
       "      <td>1</td>\n",
       "      <td>Leron</td>\n",
       "      <td>NaN</td>\n",
       "      <td>213308947</td>\n",
       "      <td>27</td>\n",
       "      <td>wyborów nie można przeprowadzić trosce zdrowie polaków, ale spacer opuszczoną maseczką to już nie problem, bo to inteligencja studiowała usa, wirusa nie roz...</td>\n",
       "      <td>5</td>\n",
       "    </tr>\n",
       "    <tr>\n",
       "      <th>804</th>\n",
       "      <td>2020-05-15 11:48:07</td>\n",
       "      <td>0</td>\n",
       "      <td>2</td>\n",
       "      <td>ola</td>\n",
       "      <td>NaN</td>\n",
       "      <td>213314968</td>\n",
       "      <td>28</td>\n",
       "      <td>co jeden to lepszy.</td>\n",
       "      <td>5</td>\n",
       "    </tr>\n",
       "  </tbody>\n",
       "</table>\n",
       "</div>"
      ],
      "text/plain": [
       "                datetime  replyCount  votedown        author  parentCommentId  \\\n",
       "802  2020-05-15 10:54:22           0         2  Chroń/Polskę              NaN   \n",
       "803  2020-05-15 10:31:42           0         1         Leron              NaN   \n",
       "804  2020-05-15 11:48:07           0         2           ola              NaN   \n",
       "\n",
       "            id  voteup  \\\n",
       "802  213310845      28   \n",
       "803  213308947      27   \n",
       "804  213314968      28   \n",
       "\n",
       "                                                                                                                                                             content  \\\n",
       "802  matko córko. jeden uważa, że niepotrzebna nam stolica skoro jest berlin, drugi chce \"dożynać\" ludzi. czy peło nie ma już normalnych ludzi ????. to może jach...   \n",
       "803  wyborów nie można przeprowadzić trosce zdrowie polaków, ale spacer opuszczoną maseczką to już nie problem, bo to inteligencja studiowała usa, wirusa nie roz...   \n",
       "804                                                                                                                                              co jeden to lepszy.   \n",
       "\n",
       "     month  \n",
       "802      5  \n",
       "803      5  \n",
       "804      5  "
      ]
     },
     "execution_count": 19,
     "metadata": {},
     "output_type": "execute_result"
    }
   ],
   "source": [
    "df.iloc[765:768]"
   ]
  },
  {
   "cell_type": "code",
   "execution_count": null,
   "metadata": {
    "id": "0DUhpV1C0Vcf"
   },
   "outputs": [],
   "source": [
    "##\n",
    "\n",
    "df.iloc[:, 5:].to_csv(r\"C:\\Users\\user1\\Downloads\\interia1_cln.csv\")"
   ]
  },
  {
   "cell_type": "code",
   "execution_count": null,
   "metadata": {
    "colab": {
     "base_uri": "https://localhost:8080/",
     "height": 580
    },
    "id": "u1cbxHoe6rNb",
    "outputId": "077e7e7c-06ca-4949-d02a-cc5a1c6e4d22"
   },
   "outputs": [
    {
     "data": {
      "text/html": [
       "<div>\n",
       "<style scoped>\n",
       "    .dataframe tbody tr th:only-of-type {\n",
       "        vertical-align: middle;\n",
       "    }\n",
       "\n",
       "    .dataframe tbody tr th {\n",
       "        vertical-align: top;\n",
       "    }\n",
       "\n",
       "    .dataframe thead th {\n",
       "        text-align: right;\n",
       "    }\n",
       "</style>\n",
       "<table border=\"1\" class=\"dataframe\">\n",
       "  <thead>\n",
       "    <tr style=\"text-align: right;\">\n",
       "      <th></th>\n",
       "      <th>id</th>\n",
       "      <th>voteup</th>\n",
       "      <th>content</th>\n",
       "      <th>month</th>\n",
       "      <th>content_lemmatized</th>\n",
       "    </tr>\n",
       "  </thead>\n",
       "  <tbody>\n",
       "    <tr>\n",
       "      <th>66</th>\n",
       "      <td>213272819</td>\n",
       "      <td>30</td>\n",
       "      <td>to koniec kasy .....albo demokratyczny albo krwawy ,,, suweren już nie odpuści !!!!!</td>\n",
       "      <td>5</td>\n",
       "      <td>koniec kasa demokratyczny krwawy suweren odpuścić</td>\n",
       "    </tr>\n",
       "    <tr>\n",
       "      <th>67</th>\n",
       "      <td>213277976</td>\n",
       "      <td>30</td>\n",
       "      <td>co ma władza wykonawcza ma do rządzenia władzy sądowniczej?</td>\n",
       "      <td>5</td>\n",
       "      <td>władza wykonawczy rządzić władza sądowniczy</td>\n",
       "    </tr>\n",
       "    <tr>\n",
       "      <th>68</th>\n",
       "      <td>213278052</td>\n",
       "      <td>30</td>\n",
       "      <td>duduś naważył piwa duduś powinien je wypić, nie chować głowę piasek.</td>\n",
       "      <td>5</td>\n",
       "      <td>duduś naważyć piwo duduś wypić chować głowa piasek</td>\n",
       "    </tr>\n",
       "    <tr>\n",
       "      <th>69</th>\n",
       "      <td>213268429</td>\n",
       "      <td>28</td>\n",
       "      <td>\"prezydent andrzej duda nie ma zamiaru na nowo angażować się spór władzę sądzie najwyższym. zaangażowal się już  , jak zawetował ustawę. niech się sami wybi...</td>\n",
       "      <td>5</td>\n",
       "      <td>prezydent Andrzej duda zamiar nowo angażować spór władza sąd najwyższy zaangażowal zawetować ustawa sam wybierać</td>\n",
       "    </tr>\n",
       "    <tr>\n",
       "      <th>70</th>\n",
       "      <td>213266418</td>\n",
       "      <td>35</td>\n",
       "      <td>kto wsadził do sn tego zagrzybionego piżamowca</td>\n",
       "      <td>5</td>\n",
       "      <td>wsadzić sn zagrzybionego piżamowca</td>\n",
       "    </tr>\n",
       "  </tbody>\n",
       "</table>\n",
       "</div>"
      ],
      "text/plain": [
       "           id  voteup  \\\n",
       "66  213272819      30   \n",
       "67  213277976      30   \n",
       "68  213278052      30   \n",
       "69  213268429      28   \n",
       "70  213266418      35   \n",
       "\n",
       "                                                                                                                                                            content  \\\n",
       "66                                                                             to koniec kasy .....albo demokratyczny albo krwawy ,,, suweren już nie odpuści !!!!!   \n",
       "67                                                                                                      co ma władza wykonawcza ma do rządzenia władzy sądowniczej?   \n",
       "68                                                                                             duduś naważył piwa duduś powinien je wypić, nie chować głowę piasek.   \n",
       "69  \"prezydent andrzej duda nie ma zamiaru na nowo angażować się spór władzę sądzie najwyższym. zaangażowal się już  , jak zawetował ustawę. niech się sami wybi...   \n",
       "70                                                                                                                   kto wsadził do sn tego zagrzybionego piżamowca   \n",
       "\n",
       "    month  \\\n",
       "66      5   \n",
       "67      5   \n",
       "68      5   \n",
       "69      5   \n",
       "70      5   \n",
       "\n",
       "                                                                                                  content_lemmatized  \n",
       "66                                                                 koniec kasa demokratyczny krwawy suweren odpuścić  \n",
       "67                                                                       władza wykonawczy rządzić władza sądowniczy  \n",
       "68                                                                duduś naważyć piwo duduś wypić chować głowa piasek  \n",
       "69  prezydent Andrzej duda zamiar nowo angażować spór władza sąd najwyższy zaangażowal zawetować ustawa sam wybierać  \n",
       "70                                                                                wsadzić sn zagrzybionego piżamowca  "
      ]
     },
     "execution_count": 20,
     "metadata": {},
     "output_type": "execute_result"
    }
   ],
   "source": [
    "df = lemmatization(df, 'content')\n",
    "df.iloc[65:70, 5:]"
   ]
  },
  {
   "cell_type": "code",
   "execution_count": null,
   "metadata": {
    "id": "eanqzx7U0Vcg"
   },
   "outputs": [],
   "source": [
    "##\n",
    "\n",
    "df.iloc[:, 5:].to_csv(r\"C:\\Users\\user1\\Downloads\\interia1_cln.csv\")"
   ]
  },
  {
   "cell_type": "code",
   "execution_count": null,
   "metadata": {
    "id": "NH-CN9fu0Vcg",
    "outputId": "f9d126bf-abdf-469c-a94d-424d315bab85"
   },
   "outputs": [
    {
     "name": "stdout",
     "output_type": "stream",
     "text": [
      "(10806, 4)\n"
     ]
    },
    {
     "data": {
      "text/html": [
       "<div>\n",
       "<style scoped>\n",
       "    .dataframe tbody tr th:only-of-type {\n",
       "        vertical-align: middle;\n",
       "    }\n",
       "\n",
       "    .dataframe tbody tr th {\n",
       "        vertical-align: top;\n",
       "    }\n",
       "\n",
       "    .dataframe thead th {\n",
       "        text-align: right;\n",
       "    }\n",
       "</style>\n",
       "<table border=\"1\" class=\"dataframe\">\n",
       "  <thead>\n",
       "    <tr style=\"text-align: right;\">\n",
       "      <th></th>\n",
       "      <th>Word</th>\n",
       "      <th>Database</th>\n",
       "      <th>Valence</th>\n",
       "      <th>Valence_standardized</th>\n",
       "    </tr>\n",
       "  </thead>\n",
       "  <tbody>\n",
       "    <tr>\n",
       "      <th>0</th>\n",
       "      <td>Maczkowy</td>\n",
       "      <td>Sentimenti</td>\n",
       "      <td>0.566481</td>\n",
       "      <td>0.419659</td>\n",
       "    </tr>\n",
       "    <tr>\n",
       "      <th>1</th>\n",
       "      <td>abderyta</td>\n",
       "      <td>Sentimenti</td>\n",
       "      <td>0.402546</td>\n",
       "      <td>-0.553951</td>\n",
       "    </tr>\n",
       "  </tbody>\n",
       "</table>\n",
       "</div>"
      ],
      "text/plain": [
       "       Word    Database   Valence  Valence_standardized\n",
       "0  Maczkowy  Sentimenti  0.566481              0.419659\n",
       "1  abderyta  Sentimenti  0.402546             -0.553951"
      ]
     },
     "execution_count": 151,
     "metadata": {},
     "output_type": "execute_result"
    }
   ],
   "source": [
    "affdb = load_data(r\"C:\\Users\\user1\\Downloads\\valence_db.xlsx\")\n",
    "print(affdb.shape)\n",
    "affdb.head(2)"
   ]
  },
  {
   "cell_type": "code",
   "execution_count": null,
   "metadata": {
    "id": "yXQ_xVqs0Vcg",
    "outputId": "297f0a07-7776-47a6-80f7-a3bc2164a3d1"
   },
   "outputs": [
    {
     "data": {
      "text/plain": [
       "(4960, 4)"
      ]
     },
     "execution_count": 152,
     "metadata": {},
     "output_type": "execute_result"
    }
   ],
   "source": [
    "affdb2 = affdb[ (affdb.Valence_standardized < -0.5) | (affdb.Valence_standardized > 1) ]\n",
    "affdb2.shape"
   ]
  },
  {
   "cell_type": "code",
   "execution_count": null,
   "metadata": {
    "id": "l8bMNtGt0Vch",
    "outputId": "8b82b99f-c573-451f-c8ec-cd250301949b"
   },
   "outputs": [
    {
     "data": {
      "text/plain": [
       "array(['abderyta', 'aberracyjny', 'absmak', 'absurd', 'absurdalny'],\n",
       "      dtype=object)"
      ]
     },
     "execution_count": 153,
     "metadata": {},
     "output_type": "execute_result"
    }
   ],
   "source": [
    "affdb2['Word'] = affdb2['Word'].str.lower()\n",
    "aff_words = affdb2['Word'].values\n",
    "aff_words[:5]"
   ]
  },
  {
   "cell_type": "code",
   "execution_count": null,
   "metadata": {
    "id": "_hPLPeQ30Vch",
    "outputId": "74ec9953-e398-439f-e282-06c2fedca55f"
   },
   "outputs": [
    {
     "data": {
      "text/plain": [
       "523    nieszczęśliwy miłość gej\n",
       "524                         gej\n",
       "525               pobić partner\n",
       "Name: valence_words, dtype: object"
      ]
     },
     "execution_count": 27,
     "metadata": {},
     "output_type": "execute_result"
    }
   ],
   "source": [
    "#emotive_words = [word for word in lemmas_list if word in affective_database_valence_words]\n",
    "\n",
    "df['valence_words'] = df['content_lemmatized'].apply(lambda x: \" \".join( [w for w in str(x).split() if w in aff_words] ))\n",
    "df['valence_words'].iloc[500:503]"
   ]
  },
  {
   "cell_type": "code",
   "execution_count": null,
   "metadata": {
    "id": "9T27AL3q0Vch",
    "outputId": "4ade8d6c-8859-46d2-cd80-fac1fcee1f0a"
   },
   "outputs": [
    {
     "data": {
      "text/plain": [
       "(1599878, 11)"
      ]
     },
     "execution_count": 28,
     "metadata": {},
     "output_type": "execute_result"
    }
   ],
   "source": [
    "df = df[df.content_lemmatized.str.split().map(len) > 2]\n",
    "df.shape"
   ]
  },
  {
   "cell_type": "code",
   "execution_count": null,
   "metadata": {
    "id": "RmNoPeNs0Vci",
    "outputId": "0e4f0d4f-80ef-44b5-d894-89c4a7c76f1b"
   },
   "outputs": [
    {
     "data": {
      "text/html": [
       "<div>\n",
       "<style scoped>\n",
       "    .dataframe tbody tr th:only-of-type {\n",
       "        vertical-align: middle;\n",
       "    }\n",
       "\n",
       "    .dataframe tbody tr th {\n",
       "        vertical-align: top;\n",
       "    }\n",
       "\n",
       "    .dataframe thead th {\n",
       "        text-align: right;\n",
       "    }\n",
       "</style>\n",
       "<table border=\"1\" class=\"dataframe\">\n",
       "  <thead>\n",
       "    <tr style=\"text-align: right;\">\n",
       "      <th></th>\n",
       "      <th>id</th>\n",
       "      <th>voteup</th>\n",
       "      <th>content</th>\n",
       "      <th>month</th>\n",
       "      <th>content_lemmatized</th>\n",
       "      <th>valence_words</th>\n",
       "    </tr>\n",
       "  </thead>\n",
       "  <tbody>\n",
       "    <tr>\n",
       "      <th>86</th>\n",
       "      <td>213264848</td>\n",
       "      <td>27</td>\n",
       "      <td>nie będzie się angażował, czy to kogokolwiek zadziwi panie pałacyk jeszcze tylko kilka miesięcy baj, baj nikt polaków nie będzie robił sobie jaj.</td>\n",
       "      <td>5</td>\n",
       "      <td>angażować ktokolwiek zadziwić pani pałacyk miesiąc baj baj nikt polak robić jajo</td>\n",
       "      <td>nikt</td>\n",
       "    </tr>\n",
       "    <tr>\n",
       "      <th>87</th>\n",
       "      <td>213260340</td>\n",
       "      <td>38</td>\n",
       "      <td>prezesa sn powinien wybierać naród powszechnych wyborach.</td>\n",
       "      <td>5</td>\n",
       "      <td>prezes sn wybierać naród powszechny wybory</td>\n",
       "      <td>NaN</td>\n",
       "    </tr>\n",
       "    <tr>\n",
       "      <th>88</th>\n",
       "      <td>213262471</td>\n",
       "      <td>23</td>\n",
       "      <td>jednym zdaniem, pan prezydent zrobi wszystko, by nie zrobić niczego.</td>\n",
       "      <td>5</td>\n",
       "      <td>zdanie prezydent zrobić zrobić nic</td>\n",
       "      <td>NaN</td>\n",
       "    </tr>\n",
       "  </tbody>\n",
       "</table>\n",
       "</div>"
      ],
      "text/plain": [
       "           id  voteup  \\\n",
       "86  213264848      27   \n",
       "87  213260340      38   \n",
       "88  213262471      23   \n",
       "\n",
       "                                                                                                                                              content  \\\n",
       "86  nie będzie się angażował, czy to kogokolwiek zadziwi panie pałacyk jeszcze tylko kilka miesięcy baj, baj nikt polaków nie będzie robił sobie jaj.   \n",
       "87                                                                                          prezesa sn powinien wybierać naród powszechnych wyborach.   \n",
       "88                                                                               jednym zdaniem, pan prezydent zrobi wszystko, by nie zrobić niczego.   \n",
       "\n",
       "    month  \\\n",
       "86      5   \n",
       "87      5   \n",
       "88      5   \n",
       "\n",
       "                                                                  content_lemmatized  \\\n",
       "86  angażować ktokolwiek zadziwić pani pałacyk miesiąc baj baj nikt polak robić jajo   \n",
       "87                                        prezes sn wybierać naród powszechny wybory   \n",
       "88                                                zdanie prezydent zrobić zrobić nic   \n",
       "\n",
       "   valence_words  \n",
       "86          nikt  \n",
       "87           NaN  \n",
       "88           NaN  "
      ]
     },
     "execution_count": 10,
     "metadata": {},
     "output_type": "execute_result"
    }
   ],
   "source": [
    "df.iloc[80:83, 5:]"
   ]
  },
  {
   "cell_type": "code",
   "execution_count": null,
   "metadata": {
    "id": "xehSDfy30Vci"
   },
   "outputs": [],
   "source": [
    "##\n",
    "\n",
    "df.iloc[:, 5:].to_csv(r\"C:\\Users\\user1\\Downloads\\interia1_cln.csv\")"
   ]
  },
  {
   "cell_type": "code",
   "execution_count": null,
   "metadata": {
    "id": "hwkjvvvC0Vci",
    "outputId": "7b628541-e07f-4623-9a00-b228517860d5"
   },
   "outputs": [
    {
     "data": {
      "text/html": [
       "<div>\n",
       "<style scoped>\n",
       "    .dataframe tbody tr th:only-of-type {\n",
       "        vertical-align: middle;\n",
       "    }\n",
       "\n",
       "    .dataframe tbody tr th {\n",
       "        vertical-align: top;\n",
       "    }\n",
       "\n",
       "    .dataframe thead th {\n",
       "        text-align: right;\n",
       "    }\n",
       "</style>\n",
       "<table border=\"1\" class=\"dataframe\">\n",
       "  <thead>\n",
       "    <tr style=\"text-align: right;\">\n",
       "      <th></th>\n",
       "      <th>Database</th>\n",
       "      <th>Valence</th>\n",
       "      <th>Valence_standardized</th>\n",
       "    </tr>\n",
       "    <tr>\n",
       "      <th>Word</th>\n",
       "      <th></th>\n",
       "      <th></th>\n",
       "      <th></th>\n",
       "    </tr>\n",
       "  </thead>\n",
       "  <tbody>\n",
       "    <tr>\n",
       "      <th>adopcja</th>\n",
       "      <td>Sentimenti</td>\n",
       "      <td>0.829397</td>\n",
       "      <td>1.98111</td>\n",
       "    </tr>\n",
       "    <tr>\n",
       "      <th>akademicki</th>\n",
       "      <td>Sentimenti</td>\n",
       "      <td>0.666014</td>\n",
       "      <td>1.01078</td>\n",
       "    </tr>\n",
       "  </tbody>\n",
       "</table>\n",
       "</div>"
      ],
      "text/plain": [
       "              Database   Valence  Valence_standardized\n",
       "Word                                                  \n",
       "adopcja     Sentimenti  0.829397               1.98111\n",
       "akademicki  Sentimenti  0.666014               1.01078"
      ]
     },
     "execution_count": 154,
     "metadata": {},
     "output_type": "execute_result"
    }
   ],
   "source": [
    "neg_words = set(affdb[ (affdb.Valence_standardized < -0.5) ]['Word'].values)\n",
    "pos_words = set(affdb[ (affdb.Valence_standardized > 1) ]['Word'].values)\n",
    "\n",
    "neg_affdb = affdb[ (affdb.Valence_standardized < -0.5)].set_index('Word')\n",
    "pos_affdb = affdb[ (affdb.Valence_standardized > 1) ].set_index('Word')\n",
    "pos_affdb.head(2)"
   ]
  },
  {
   "cell_type": "code",
   "execution_count": null,
   "metadata": {
    "id": "HOuawpLY0Vci",
    "outputId": "432085d1-5a19-4260-a877-24c2ae456133"
   },
   "outputs": [
    {
     "data": {
      "text/plain": [
       "((196854, 24), (2256014, 24))"
      ]
     },
     "execution_count": 252,
     "metadata": {},
     "output_type": "execute_result"
    }
   ],
   "source": [
    "#df_null_val = df[df['valence_words'].isna()]\n",
    "#df_full_val = df[ ~(df['valence_words'].isna())]\n",
    "\n",
    "df_null_val = df_all[df_all['valence_words'] == 'nan']\n",
    "df_full_val = df_all[df_all['valence_words'] != 'nan']\n",
    "\n",
    "df_null_val.shape, df_full_val.shape"
   ]
  },
  {
   "cell_type": "code",
   "execution_count": null,
   "metadata": {
    "id": "5pUpien00Vci",
    "outputId": "46ebd785-8a50-4955-9fd4-d2067715652f"
   },
   "outputs": [
    {
     "data": {
      "text/plain": [
       "(2452868, 24)"
      ]
     },
     "execution_count": 253,
     "metadata": {},
     "output_type": "execute_result"
    }
   ],
   "source": [
    "df_all.shape"
   ]
  },
  {
   "cell_type": "code",
   "execution_count": null,
   "metadata": {
    "id": "-NZNhthw9XaP"
   },
   "outputs": [],
   "source": [
    "# 1st method --  faster to compute\n",
    "\n",
    "\n",
    "df_full_val['valence_words'] = df_full_val['valence_words'].apply(str)\n",
    "df_null_val['valence_words'] = df_null_val['valence_words'].apply(str)\n",
    "\n",
    "#df_full_val['neg_valence_words'] = df_full_val['valence_words'].apply(lambda x: \" \".join( set(str(x).split()).intersection(neg_words) ))\n",
    "#df_full_val['pos_valence_words'] = df_full_val['valence_words'].apply(lambda x: \" \".join( set(str(x).split()).intersection(pos_words) ))\n",
    "df_full_val['neg_valence_words'] = df_full_val['valence_words'].apply(lambda x: \" \".join( [w for w in str(x).split() if w in neg_words]) )\n",
    "df_full_val['pos_valence_words'] = df_full_val['valence_words'].apply(lambda x: \" \".join( [w for w in str(x).split() if w in pos_words]) )\n",
    "\n",
    "\n",
    "df_full_val['content_valence_negative'] = df_full_val['neg_valence_words'].str.split().map(len)\n",
    "df_full_val['content_valence_positive'] = df_full_val['pos_valence_words'].str.split().map(len)\n",
    "df_full_val['content_valence_negative'] = np.where(df_full_val.valence_words.str.split().map(len) > 0, df_full_val['content_valence_negative'], np.nan)\n",
    "df_full_val['content_valence_positive'] = np.where(df_full_val.valence_words.str.split().map(len) > 0, df_full_val['content_valence_positive'], np.nan)\n",
    "\n",
    "\n",
    "df_full_val['content_valence_score_neg'] = df_full_val.neg_valence_words.apply(lambda x: np.abs(neg_affdb.loc[ str(x).split() ]['Valence_standardized'].mean()))\n",
    "df_full_val['content_valence_score_pos'] = df_full_val.pos_valence_words.apply(lambda x: np.abs(pos_affdb.loc[ str(x).split() ]['Valence_standardized'].mean()))\n",
    "df_full_val['content_valence_score_neg'] = df_full_val['content_valence_score_neg'].fillna(0)\n",
    "df_full_val['content_valence_score_pos'] = df_full_val['content_valence_score_pos'].fillna(0)\n",
    "\n",
    "df_full_val['content_valence_score'] = np.where(df_full_val['content_valence_score_neg'] > df_full_val['content_valence_score_pos'], df_full_val['content_valence_score_neg']*-1, 0)\n",
    "df_full_val['content_valence_score'] = np.where(df_full_val['content_valence_score_neg'] < df_full_val['content_valence_score_pos'], df_full_val['content_valence_score_pos'], df_full_val['content_valence_score'])\n"
   ]
  },
  {
   "cell_type": "code",
   "execution_count": null,
   "metadata": {
    "colab": {
     "base_uri": "https://localhost:8080/"
    },
    "id": "NDgJXOoO1ALQ",
    "outputId": "99ad2848-1e5e-46bf-fc6d-21199debc385"
   },
   "outputs": [
    {
     "name": "stdout",
     "output_type": "stream",
     "text": [
      "valence_words\n"
     ]
    },
    {
     "data": {
      "text/html": [
       "<div>\n",
       "<style scoped>\n",
       "    .dataframe tbody tr th:only-of-type {\n",
       "        vertical-align: middle;\n",
       "    }\n",
       "\n",
       "    .dataframe tbody tr th {\n",
       "        vertical-align: top;\n",
       "    }\n",
       "\n",
       "    .dataframe thead th {\n",
       "        text-align: right;\n",
       "    }\n",
       "</style>\n",
       "<table border=\"1\" class=\"dataframe\">\n",
       "  <thead>\n",
       "    <tr style=\"text-align: right;\">\n",
       "      <th></th>\n",
       "      <th>nestedReplies</th>\n",
       "      <th>votesRank</th>\n",
       "      <th>votesCount</th>\n",
       "      <th>replies</th>\n",
       "      <th>author</th>\n",
       "      <th>id</th>\n",
       "      <th>parentId</th>\n",
       "      <th>content</th>\n",
       "      <th>timestamp</th>\n",
       "      <th>month</th>\n",
       "      <th>content_lemmatized</th>\n",
       "      <th>valence_words</th>\n",
       "      <th>content_valence_score</th>\n",
       "      <th>content_valence_score_pos</th>\n",
       "      <th>content_valence_score_neg</th>\n",
       "      <th>content_valence_negative</th>\n",
       "      <th>content_valence_positive</th>\n",
       "    </tr>\n",
       "  </thead>\n",
       "  <tbody>\n",
       "    <tr>\n",
       "      <th>1370</th>\n",
       "      <td>0</td>\n",
       "      <td>4</td>\n",
       "      <td>4</td>\n",
       "      <td>0</td>\n",
       "      <td>mawik_net</td>\n",
       "      <td>59304307</td>\n",
       "      <td>59304103</td>\n",
       "      <td>user ze względu na pandemię strach było jechać do włoch lub grecji gdyby był wybór, to na pewno nie byłby bałtyk. lipcu było zimno.</td>\n",
       "      <td>2020-11-17 18:27:57</td>\n",
       "      <td>11</td>\n",
       "      <td>user wzgląd pandemia strach jechać włochy grecja wybór pewno być by Bałtyk lipiec zimno</td>\n",
       "      <td>strach włochy zimno</td>\n",
       "      <td>-1.256616</td>\n",
       "      <td>1.121130</td>\n",
       "      <td>1.256616</td>\n",
       "      <td>2</td>\n",
       "      <td>1</td>\n",
       "    </tr>\n",
       "    <tr>\n",
       "      <th>1371</th>\n",
       "      <td>0</td>\n",
       "      <td>3</td>\n",
       "      <td>3</td>\n",
       "      <td>0</td>\n",
       "      <td>eselk</td>\n",
       "      <td>59304524</td>\n",
       "      <td>59304103</td>\n",
       "      <td>user samo mówią, że nie jadają maku, między gorzowem, szczecinem latem nie ma jak zatankować.</td>\n",
       "      <td>2020-11-17 18:42:55</td>\n",
       "      <td>11</td>\n",
       "      <td>user samo mówić jadać mak gorzowo szczecinem lato zatankować</td>\n",
       "      <td>lato</td>\n",
       "      <td>1.944089</td>\n",
       "      <td>1.944089</td>\n",
       "      <td>0.000000</td>\n",
       "      <td>0</td>\n",
       "      <td>1</td>\n",
       "    </tr>\n",
       "    <tr>\n",
       "      <th>1372</th>\n",
       "      <td>0</td>\n",
       "      <td>3</td>\n",
       "      <td>3</td>\n",
       "      <td>0</td>\n",
       "      <td>ladychapel</td>\n",
       "      <td>59304157</td>\n",
       "      <td>0</td>\n",
       "      <td>jezeli baltyk to tylko neringa, gdzie kilometr na prawo kilometr na lewo nikogo innego</td>\n",
       "      <td>2020-11-17 18:13:22</td>\n",
       "      <td>11</td>\n",
       "      <td>baltyk neringa kilometr prawo kilometra lewo nikt inny</td>\n",
       "      <td>lewo nikt</td>\n",
       "      <td>-1.636472</td>\n",
       "      <td>0.000000</td>\n",
       "      <td>1.636472</td>\n",
       "      <td>2</td>\n",
       "      <td>0</td>\n",
       "    </tr>\n",
       "  </tbody>\n",
       "</table>\n",
       "</div>"
      ],
      "text/plain": [
       "      nestedReplies  votesRank  votesCount  replies      author        id  \\\n",
       "1370              0          4           4        0   mawik_net  59304307   \n",
       "1371              0          3           3        0       eselk  59304524   \n",
       "1372              0          3           3        0  ladychapel  59304157   \n",
       "\n",
       "      parentId  \\\n",
       "1370  59304103   \n",
       "1371  59304103   \n",
       "1372         0   \n",
       "\n",
       "                                                                                                                                  content  \\\n",
       "1370  user ze względu na pandemię strach było jechać do włoch lub grecji gdyby był wybór, to na pewno nie byłby bałtyk. lipcu było zimno.   \n",
       "1371                                        user samo mówią, że nie jadają maku, między gorzowem, szczecinem latem nie ma jak zatankować.   \n",
       "1372                                               jezeli baltyk to tylko neringa, gdzie kilometr na prawo kilometr na lewo nikogo innego   \n",
       "\n",
       "                timestamp  month  \\\n",
       "1370  2020-11-17 18:27:57     11   \n",
       "1371  2020-11-17 18:42:55     11   \n",
       "1372  2020-11-17 18:13:22     11   \n",
       "\n",
       "                                                                           content_lemmatized  \\\n",
       "1370  user wzgląd pandemia strach jechać włochy grecja wybór pewno być by Bałtyk lipiec zimno   \n",
       "1371                             user samo mówić jadać mak gorzowo szczecinem lato zatankować   \n",
       "1372                                   baltyk neringa kilometr prawo kilometra lewo nikt inny   \n",
       "\n",
       "            valence_words  content_valence_score  content_valence_score_pos  \\\n",
       "1370  strach włochy zimno              -1.256616                   1.121130   \n",
       "1371                 lato               1.944089                   1.944089   \n",
       "1372            lewo nikt              -1.636472                   0.000000   \n",
       "\n",
       "      content_valence_score_neg  content_valence_negative  \\\n",
       "1370                   1.256616                         2   \n",
       "1371                   0.000000                         0   \n",
       "1372                   1.636472                         2   \n",
       "\n",
       "      content_valence_positive  \n",
       "1370                         1  \n",
       "1371                         1  \n",
       "1372                         0  "
      ]
     },
     "execution_count": 31,
     "metadata": {},
     "output_type": "execute_result"
    }
   ],
   "source": [
    "# 2nd method: with a dedicated function -- slower bc of the \"for loop\"\n",
    "\n",
    "\n",
    "df_null_val = df[df.valence_words.str.split().map(len) < 1]\n",
    "df_full_val = df[df.valence_words.str.split().map(len) > 0]\n",
    "\n",
    "cols_literal2 = {'valence_words'} \n",
    "\n",
    "for col in cols_literal2:\n",
    "  print(col)\n",
    "  df_full_val = get_valence_scores(df_full_val, content_lemmatized_column = col, \n",
    "                        affective_database = affdb2)\n",
    "\n",
    "df_full_val.head(3)"
   ]
  },
  {
   "cell_type": "code",
   "execution_count": null,
   "metadata": {
    "id": "NrtieT5k0Vcj",
    "outputId": "99535598-8b72-4dd7-9f4a-ceed29624b82"
   },
   "outputs": [
    {
     "data": {
      "text/plain": [
       "(2452868, 24)"
      ]
     },
     "execution_count": 259,
     "metadata": {},
     "output_type": "execute_result"
    }
   ],
   "source": [
    "df = pd.concat( [df_full_val, df_null_val], axis=0 )\n",
    "df.shape"
   ]
  },
  {
   "cell_type": "code",
   "execution_count": null,
   "metadata": {
    "id": "dLWwA9I_0Vck",
    "outputId": "12e4a575-4f4b-4221-c76d-f2fb556a7f2d"
   },
   "outputs": [
    {
     "data": {
      "text/html": [
       "<div>\n",
       "<style scoped>\n",
       "    .dataframe tbody tr th:only-of-type {\n",
       "        vertical-align: middle;\n",
       "    }\n",
       "\n",
       "    .dataframe tbody tr th {\n",
       "        vertical-align: top;\n",
       "    }\n",
       "\n",
       "    .dataframe thead th {\n",
       "        text-align: right;\n",
       "    }\n",
       "</style>\n",
       "<table border=\"1\" class=\"dataframe\">\n",
       "  <thead>\n",
       "    <tr style=\"text-align: right;\">\n",
       "      <th></th>\n",
       "      <th>id</th>\n",
       "      <th>parentId</th>\n",
       "      <th>content</th>\n",
       "      <th>timestamp</th>\n",
       "      <th>month</th>\n",
       "      <th>content_lemmatized</th>\n",
       "      <th>valence_words</th>\n",
       "      <th>content_valence_score</th>\n",
       "      <th>content_valence_score_pos</th>\n",
       "      <th>content_valence_score_neg</th>\n",
       "      <th>content_valence_negative</th>\n",
       "      <th>content_valence_positive</th>\n",
       "      <th>neg_percent</th>\n",
       "      <th>pos_percent</th>\n",
       "      <th>month_resp_dob</th>\n",
       "      <th>month_resp_zla</th>\n",
       "      <th>month_resp</th>\n",
       "      <th>valence_pos</th>\n",
       "      <th>valence_neg</th>\n",
       "      <th>prop_neg</th>\n",
       "      <th>prop_pos</th>\n",
       "      <th>voteup</th>\n",
       "      <th>neg_valence_words</th>\n",
       "      <th>pos_valence_words</th>\n",
       "    </tr>\n",
       "  </thead>\n",
       "  <tbody>\n",
       "    <tr>\n",
       "      <th>0</th>\n",
       "      <td>59304307</td>\n",
       "      <td>59304103.0</td>\n",
       "      <td>user ze względu na pandemię strach było jechać do włoch lub grecji gdyby był wybór, to na pewno nie byłby bałtyk. lipcu było zimno.</td>\n",
       "      <td>2020-11-17 18:27:57</td>\n",
       "      <td>11</td>\n",
       "      <td>user wzgląd pandemia strach jechać włochy grecja wybór pewno być by Bałtyk lipiec zimno</td>\n",
       "      <td>strach włochy zimno</td>\n",
       "      <td>-1.256616</td>\n",
       "      <td>0.000000</td>\n",
       "      <td>1.256616</td>\n",
       "      <td>2.0</td>\n",
       "      <td>0.0</td>\n",
       "      <td>14.285714</td>\n",
       "      <td>7.142857</td>\n",
       "      <td>14</td>\n",
       "      <td>45.0</td>\n",
       "      <td>-31.0</td>\n",
       "      <td>0</td>\n",
       "      <td>1</td>\n",
       "      <td>34.065999</td>\n",
       "      <td>NaN</td>\n",
       "      <td>NaN</td>\n",
       "      <td>strach zimno</td>\n",
       "      <td></td>\n",
       "    </tr>\n",
       "    <tr>\n",
       "      <th>1</th>\n",
       "      <td>59304524</td>\n",
       "      <td>59304103.0</td>\n",
       "      <td>user samo mówią, że nie jadają maku, między gorzowem, szczecinem latem nie ma jak zatankować.</td>\n",
       "      <td>2020-11-17 18:42:55</td>\n",
       "      <td>11</td>\n",
       "      <td>user samo mówić jadać mak gorzowo szczecinem lato zatankować</td>\n",
       "      <td>lato</td>\n",
       "      <td>1.944089</td>\n",
       "      <td>1.944089</td>\n",
       "      <td>0.000000</td>\n",
       "      <td>0.0</td>\n",
       "      <td>1.0</td>\n",
       "      <td>0.000000</td>\n",
       "      <td>11.111111</td>\n",
       "      <td>14</td>\n",
       "      <td>45.0</td>\n",
       "      <td>-31.0</td>\n",
       "      <td>1</td>\n",
       "      <td>0</td>\n",
       "      <td>NaN</td>\n",
       "      <td>29.497179</td>\n",
       "      <td>NaN</td>\n",
       "      <td></td>\n",
       "      <td>lato</td>\n",
       "    </tr>\n",
       "    <tr>\n",
       "      <th>2</th>\n",
       "      <td>59304157</td>\n",
       "      <td>0.0</td>\n",
       "      <td>jezeli baltyk to tylko neringa, gdzie kilometr na prawo kilometr na lewo nikogo innego</td>\n",
       "      <td>2020-11-17 18:13:22</td>\n",
       "      <td>11</td>\n",
       "      <td>baltyk neringa kilometr prawo kilometra lewo nikt inny</td>\n",
       "      <td>lewo nikt</td>\n",
       "      <td>-1.636472</td>\n",
       "      <td>0.000000</td>\n",
       "      <td>1.636472</td>\n",
       "      <td>2.0</td>\n",
       "      <td>0.0</td>\n",
       "      <td>25.000000</td>\n",
       "      <td>0.000000</td>\n",
       "      <td>14</td>\n",
       "      <td>45.0</td>\n",
       "      <td>-31.0</td>\n",
       "      <td>0</td>\n",
       "      <td>1</td>\n",
       "      <td>34.065999</td>\n",
       "      <td>NaN</td>\n",
       "      <td>NaN</td>\n",
       "      <td>lewo nikt</td>\n",
       "      <td></td>\n",
       "    </tr>\n",
       "    <tr>\n",
       "      <th>3</th>\n",
       "      <td>59304655</td>\n",
       "      <td>59304214.0</td>\n",
       "      <td>user jest uzasadnienie: \"kilometr na prawo kilometr na lewo nikogo innego\". umiesz czytać rozumieć?</td>\n",
       "      <td>2020-11-17 18:51:19</td>\n",
       "      <td>11</td>\n",
       "      <td>user uzasadnienie kilometr prawo kilometra lewo nikt inny umieć czytać rozumieć</td>\n",
       "      <td>lewo nikt czytać rozumieć</td>\n",
       "      <td>-1.636472</td>\n",
       "      <td>1.173201</td>\n",
       "      <td>1.636472</td>\n",
       "      <td>2.0</td>\n",
       "      <td>2.0</td>\n",
       "      <td>18.181818</td>\n",
       "      <td>18.181818</td>\n",
       "      <td>14</td>\n",
       "      <td>45.0</td>\n",
       "      <td>-31.0</td>\n",
       "      <td>0</td>\n",
       "      <td>0</td>\n",
       "      <td>NaN</td>\n",
       "      <td>NaN</td>\n",
       "      <td>NaN</td>\n",
       "      <td>lewo nikt</td>\n",
       "      <td>czytać rozumieć</td>\n",
       "    </tr>\n",
       "    <tr>\n",
       "      <th>4</th>\n",
       "      <td>59304304</td>\n",
       "      <td>0.0</td>\n",
       "      <td>przypominając sobie początek tej pandemii, wszystko rozpoczęło się medialnie austrii. już wtedy chodziło tylko kontakty międzyludzkie. to że ludzie zjechali...</td>\n",
       "      <td>2020-11-17 18:27:38</td>\n",
       "      <td>11</td>\n",
       "      <td>przypominać początek pandemia rozpocząć medialnie austria chodzić kontakt międzyludzki człowiek zjechać miejsce spowodować przekazać wirus urlopowikać morze...</td>\n",
       "      <td>początek przekazać wirus morze góra przekazać wirus problem</td>\n",
       "      <td>-1.882922</td>\n",
       "      <td>1.255949</td>\n",
       "      <td>1.882922</td>\n",
       "      <td>3.0</td>\n",
       "      <td>5.0</td>\n",
       "      <td>9.375000</td>\n",
       "      <td>12.500000</td>\n",
       "      <td>14</td>\n",
       "      <td>45.0</td>\n",
       "      <td>-31.0</td>\n",
       "      <td>1</td>\n",
       "      <td>0</td>\n",
       "      <td>NaN</td>\n",
       "      <td>29.497179</td>\n",
       "      <td>NaN</td>\n",
       "      <td>wirus wirus problem</td>\n",
       "      <td>początek przekazać morze góra przekazać</td>\n",
       "    </tr>\n",
       "  </tbody>\n",
       "</table>\n",
       "</div>"
      ],
      "text/plain": [
       "         id    parentId  \\\n",
       "0  59304307  59304103.0   \n",
       "1  59304524  59304103.0   \n",
       "2  59304157         0.0   \n",
       "3  59304655  59304214.0   \n",
       "4  59304304         0.0   \n",
       "\n",
       "                                                                                                                                                           content  \\\n",
       "0                              user ze względu na pandemię strach było jechać do włoch lub grecji gdyby był wybór, to na pewno nie byłby bałtyk. lipcu było zimno.   \n",
       "1                                                                    user samo mówią, że nie jadają maku, między gorzowem, szczecinem latem nie ma jak zatankować.   \n",
       "2                                                                           jezeli baltyk to tylko neringa, gdzie kilometr na prawo kilometr na lewo nikogo innego   \n",
       "3                                                              user jest uzasadnienie: \"kilometr na prawo kilometr na lewo nikogo innego\". umiesz czytać rozumieć?   \n",
       "4  przypominając sobie początek tej pandemii, wszystko rozpoczęło się medialnie austrii. już wtedy chodziło tylko kontakty międzyludzkie. to że ludzie zjechali...   \n",
       "\n",
       "             timestamp  month  \\\n",
       "0  2020-11-17 18:27:57     11   \n",
       "1  2020-11-17 18:42:55     11   \n",
       "2  2020-11-17 18:13:22     11   \n",
       "3  2020-11-17 18:51:19     11   \n",
       "4  2020-11-17 18:27:38     11   \n",
       "\n",
       "                                                                                                                                                content_lemmatized  \\\n",
       "0                                                                          user wzgląd pandemia strach jechać włochy grecja wybór pewno być by Bałtyk lipiec zimno   \n",
       "1                                                                                                     user samo mówić jadać mak gorzowo szczecinem lato zatankować   \n",
       "2                                                                                                           baltyk neringa kilometr prawo kilometra lewo nikt inny   \n",
       "3                                                                                  user uzasadnienie kilometr prawo kilometra lewo nikt inny umieć czytać rozumieć   \n",
       "4  przypominać początek pandemia rozpocząć medialnie austria chodzić kontakt międzyludzki człowiek zjechać miejsce spowodować przekazać wirus urlopowikać morze...   \n",
       "\n",
       "                                                 valence_words  \\\n",
       "0                                          strach włochy zimno   \n",
       "1                                                         lato   \n",
       "2                                                    lewo nikt   \n",
       "3                                    lewo nikt czytać rozumieć   \n",
       "4  początek przekazać wirus morze góra przekazać wirus problem   \n",
       "\n",
       "   content_valence_score  content_valence_score_pos  \\\n",
       "0              -1.256616                   0.000000   \n",
       "1               1.944089                   1.944089   \n",
       "2              -1.636472                   0.000000   \n",
       "3              -1.636472                   1.173201   \n",
       "4              -1.882922                   1.255949   \n",
       "\n",
       "   content_valence_score_neg  content_valence_negative  \\\n",
       "0                   1.256616                       2.0   \n",
       "1                   0.000000                       0.0   \n",
       "2                   1.636472                       2.0   \n",
       "3                   1.636472                       2.0   \n",
       "4                   1.882922                       3.0   \n",
       "\n",
       "   content_valence_positive  neg_percent  pos_percent  month_resp_dob  \\\n",
       "0                       0.0    14.285714     7.142857              14   \n",
       "1                       1.0     0.000000    11.111111              14   \n",
       "2                       0.0    25.000000     0.000000              14   \n",
       "3                       2.0    18.181818    18.181818              14   \n",
       "4                       5.0     9.375000    12.500000              14   \n",
       "\n",
       "   month_resp_zla  month_resp  valence_pos  valence_neg   prop_neg   prop_pos  \\\n",
       "0            45.0       -31.0            0            1  34.065999        NaN   \n",
       "1            45.0       -31.0            1            0        NaN  29.497179   \n",
       "2            45.0       -31.0            0            1  34.065999        NaN   \n",
       "3            45.0       -31.0            0            0        NaN        NaN   \n",
       "4            45.0       -31.0            1            0        NaN  29.497179   \n",
       "\n",
       "   voteup    neg_valence_words                        pos_valence_words  \n",
       "0     NaN         strach zimno                                           \n",
       "1     NaN                                                          lato  \n",
       "2     NaN            lewo nikt                                           \n",
       "3     NaN            lewo nikt                          czytać rozumieć  \n",
       "4     NaN  wirus wirus problem  początek przekazać morze góra przekazać  "
      ]
     },
     "execution_count": 261,
     "metadata": {},
     "output_type": "execute_result"
    }
   ],
   "source": [
    "df.head()"
   ]
  },
  {
   "cell_type": "code",
   "execution_count": null,
   "metadata": {
    "id": "hWPs44-R0Vck"
   },
   "outputs": [],
   "source": [
    "df.to_csv(r\"C:\\Users\\user1\\Downloads\\wnpid_all2.csv\") # valence words allow duplicates"
   ]
  },
  {
   "cell_type": "code",
   "execution_count": null,
   "metadata": {
    "colab": {
     "base_uri": "https://localhost:8080/"
    },
    "id": "z00ZtWnv-s_3",
    "outputId": "35ee4135-822c-434e-fe66-575cb4721dcf"
   },
   "outputs": [
    {
     "data": {
      "text/plain": [
       "(2452868, 24)"
      ]
     },
     "execution_count": 313,
     "metadata": {},
     "output_type": "execute_result"
    }
   ],
   "source": [
    "df = df.reset_index(drop=True)\n",
    "df.shape"
   ]
  },
  {
   "cell_type": "code",
   "execution_count": null,
   "metadata": {
    "colab": {
     "base_uri": "https://localhost:8080/",
     "height": 206
    },
    "id": "DBo9IyXgQsg3",
    "outputId": "d08b0ee0-1787-42b7-b415-960513b04a1d"
   },
   "outputs": [
    {
     "data": {
      "text/html": [
       "<div>\n",
       "<style scoped>\n",
       "    .dataframe tbody tr th:only-of-type {\n",
       "        vertical-align: middle;\n",
       "    }\n",
       "\n",
       "    .dataframe tbody tr th {\n",
       "        vertical-align: top;\n",
       "    }\n",
       "\n",
       "    .dataframe thead th {\n",
       "        text-align: right;\n",
       "    }\n",
       "</style>\n",
       "<table border=\"1\" class=\"dataframe\">\n",
       "  <thead>\n",
       "    <tr style=\"text-align: right;\">\n",
       "      <th></th>\n",
       "      <th>month</th>\n",
       "      <th>size</th>\n",
       "    </tr>\n",
       "  </thead>\n",
       "  <tbody>\n",
       "    <tr>\n",
       "      <th>0</th>\n",
       "      <td>1</td>\n",
       "      <td>1500</td>\n",
       "    </tr>\n",
       "    <tr>\n",
       "      <th>1</th>\n",
       "      <td>2</td>\n",
       "      <td>1286</td>\n",
       "    </tr>\n",
       "    <tr>\n",
       "      <th>2</th>\n",
       "      <td>3</td>\n",
       "      <td>628300</td>\n",
       "    </tr>\n",
       "    <tr>\n",
       "      <th>3</th>\n",
       "      <td>5</td>\n",
       "      <td>319533</td>\n",
       "    </tr>\n",
       "    <tr>\n",
       "      <th>4</th>\n",
       "      <td>6</td>\n",
       "      <td>396646</td>\n",
       "    </tr>\n",
       "    <tr>\n",
       "      <th>5</th>\n",
       "      <td>7</td>\n",
       "      <td>386781</td>\n",
       "    </tr>\n",
       "    <tr>\n",
       "      <th>6</th>\n",
       "      <td>8</td>\n",
       "      <td>218733</td>\n",
       "    </tr>\n",
       "    <tr>\n",
       "      <th>7</th>\n",
       "      <td>9</td>\n",
       "      <td>209304</td>\n",
       "    </tr>\n",
       "    <tr>\n",
       "      <th>8</th>\n",
       "      <td>10</td>\n",
       "      <td>223087</td>\n",
       "    </tr>\n",
       "    <tr>\n",
       "      <th>9</th>\n",
       "      <td>11</td>\n",
       "      <td>67698</td>\n",
       "    </tr>\n",
       "  </tbody>\n",
       "</table>\n",
       "</div>"
      ],
      "text/plain": [
       "   month    size\n",
       "0      1    1500\n",
       "1      2    1286\n",
       "2      3  628300\n",
       "3      5  319533\n",
       "4      6  396646\n",
       "5      7  386781\n",
       "6      8  218733\n",
       "7      9  209304\n",
       "8     10  223087\n",
       "9     11   67698"
      ]
     },
     "execution_count": 314,
     "metadata": {},
     "output_type": "execute_result"
    }
   ],
   "source": [
    "df.groupby('month', as_index=False).size()"
   ]
  },
  {
   "cell_type": "code",
   "execution_count": null,
   "metadata": {
    "id": "irmLMi7qEgUZ"
   },
   "outputs": [],
   "source": [
    "df['neg_percent'] = (df.content_valence_negative / df.content_lemmatized.str.split().map(len)) * 100\n",
    "df['pos_percent'] = (df.content_valence_positive / df.content_lemmatized.str.split().map(len)) * 100"
   ]
  },
  {
   "cell_type": "code",
   "execution_count": null,
   "metadata": {
    "colab": {
     "base_uri": "https://localhost:8080/",
     "height": 300
    },
    "id": "Mb6NXsKFHfg8",
    "outputId": "55d49482-96f9-4014-f25a-8b440f6259bf"
   },
   "outputs": [
    {
     "data": {
      "text/html": [
       "<div>\n",
       "<style scoped>\n",
       "    .dataframe tbody tr th:only-of-type {\n",
       "        vertical-align: middle;\n",
       "    }\n",
       "\n",
       "    .dataframe tbody tr th {\n",
       "        vertical-align: top;\n",
       "    }\n",
       "\n",
       "    .dataframe thead th {\n",
       "        text-align: right;\n",
       "    }\n",
       "</style>\n",
       "<table border=\"1\" class=\"dataframe\">\n",
       "  <thead>\n",
       "    <tr style=\"text-align: right;\">\n",
       "      <th></th>\n",
       "      <th>neg_percent</th>\n",
       "      <th>pos_percent</th>\n",
       "    </tr>\n",
       "  </thead>\n",
       "  <tbody>\n",
       "    <tr>\n",
       "      <th>count</th>\n",
       "      <td>1835419.000</td>\n",
       "      <td>1835419.000</td>\n",
       "    </tr>\n",
       "    <tr>\n",
       "      <th>mean</th>\n",
       "      <td>11.103</td>\n",
       "      <td>10.569</td>\n",
       "    </tr>\n",
       "    <tr>\n",
       "      <th>std</th>\n",
       "      <td>11.037</td>\n",
       "      <td>10.868</td>\n",
       "    </tr>\n",
       "    <tr>\n",
       "      <th>min</th>\n",
       "      <td>0.000</td>\n",
       "      <td>0.000</td>\n",
       "    </tr>\n",
       "    <tr>\n",
       "      <th>25%</th>\n",
       "      <td>0.000</td>\n",
       "      <td>0.000</td>\n",
       "    </tr>\n",
       "    <tr>\n",
       "      <th>50%</th>\n",
       "      <td>9.091</td>\n",
       "      <td>8.333</td>\n",
       "    </tr>\n",
       "    <tr>\n",
       "      <th>75%</th>\n",
       "      <td>16.667</td>\n",
       "      <td>16.667</td>\n",
       "    </tr>\n",
       "    <tr>\n",
       "      <th>max</th>\n",
       "      <td>100.000</td>\n",
       "      <td>100.000</td>\n",
       "    </tr>\n",
       "  </tbody>\n",
       "</table>\n",
       "</div>"
      ],
      "text/plain": [
       "       neg_percent  pos_percent\n",
       "count  1835419.000  1835419.000\n",
       "mean        11.103       10.569\n",
       "std         11.037       10.868\n",
       "min          0.000        0.000\n",
       "25%          0.000        0.000\n",
       "50%          9.091        8.333\n",
       "75%         16.667       16.667\n",
       "max        100.000      100.000"
      ]
     },
     "execution_count": 316,
     "metadata": {},
     "output_type": "execute_result"
    }
   ],
   "source": [
    "df.loc[:, ['neg_percent', 'pos_percent']].describe().round(3)"
   ]
  },
  {
   "cell_type": "code",
   "execution_count": null,
   "metadata": {
    "colab": {
     "base_uri": "https://localhost:8080/",
     "height": 237
    },
    "id": "JZz5St-oEWlr",
    "outputId": "f008e0c9-a359-4410-e68f-8f0359ee8e98"
   },
   "outputs": [
    {
     "data": {
      "text/html": [
       "<div>\n",
       "<style scoped>\n",
       "    .dataframe tbody tr th:only-of-type {\n",
       "        vertical-align: middle;\n",
       "    }\n",
       "\n",
       "    .dataframe tbody tr th {\n",
       "        vertical-align: top;\n",
       "    }\n",
       "\n",
       "    .dataframe thead th {\n",
       "        text-align: right;\n",
       "    }\n",
       "</style>\n",
       "<table border=\"1\" class=\"dataframe\">\n",
       "  <thead>\n",
       "    <tr style=\"text-align: right;\">\n",
       "      <th></th>\n",
       "      <th>pos_percent</th>\n",
       "      <th>neg_percent</th>\n",
       "      <th>content_valence_score_pos</th>\n",
       "      <th>content_valence_score_neg</th>\n",
       "    </tr>\n",
       "    <tr>\n",
       "      <th>month</th>\n",
       "      <th></th>\n",
       "      <th></th>\n",
       "      <th></th>\n",
       "      <th></th>\n",
       "    </tr>\n",
       "  </thead>\n",
       "  <tbody>\n",
       "    <tr>\n",
       "      <th>1</th>\n",
       "      <td>9.359413</td>\n",
       "      <td>12.080457</td>\n",
       "      <td>1.000722</td>\n",
       "      <td>1.142976</td>\n",
       "    </tr>\n",
       "    <tr>\n",
       "      <th>2</th>\n",
       "      <td>9.858131</td>\n",
       "      <td>13.159801</td>\n",
       "      <td>1.013896</td>\n",
       "      <td>1.169615</td>\n",
       "    </tr>\n",
       "    <tr>\n",
       "      <th>3</th>\n",
       "      <td>8.430677</td>\n",
       "      <td>9.313789</td>\n",
       "      <td>0.736084</td>\n",
       "      <td>0.779956</td>\n",
       "    </tr>\n",
       "    <tr>\n",
       "      <th>5</th>\n",
       "      <td>8.198359</td>\n",
       "      <td>8.477688</td>\n",
       "      <td>0.752868</td>\n",
       "      <td>0.736647</td>\n",
       "    </tr>\n",
       "    <tr>\n",
       "      <th>6</th>\n",
       "      <td>8.157385</td>\n",
       "      <td>7.788242</td>\n",
       "      <td>0.746694</td>\n",
       "      <td>0.667642</td>\n",
       "    </tr>\n",
       "    <tr>\n",
       "      <th>7</th>\n",
       "      <td>8.882049</td>\n",
       "      <td>8.551185</td>\n",
       "      <td>0.824045</td>\n",
       "      <td>0.754341</td>\n",
       "    </tr>\n",
       "    <tr>\n",
       "      <th>8</th>\n",
       "      <td>10.598550</td>\n",
       "      <td>11.628228</td>\n",
       "      <td>1.002443</td>\n",
       "      <td>1.024599</td>\n",
       "    </tr>\n",
       "    <tr>\n",
       "      <th>9</th>\n",
       "      <td>10.447130</td>\n",
       "      <td>11.956535</td>\n",
       "      <td>0.996122</td>\n",
       "      <td>1.041797</td>\n",
       "    </tr>\n",
       "    <tr>\n",
       "      <th>10</th>\n",
       "      <td>10.379787</td>\n",
       "      <td>11.988601</td>\n",
       "      <td>0.999556</td>\n",
       "      <td>1.055360</td>\n",
       "    </tr>\n",
       "    <tr>\n",
       "      <th>11</th>\n",
       "      <td>9.914497</td>\n",
       "      <td>10.756622</td>\n",
       "      <td>1.017434</td>\n",
       "      <td>0.990604</td>\n",
       "    </tr>\n",
       "  </tbody>\n",
       "</table>\n",
       "</div>"
      ],
      "text/plain": [
       "       pos_percent  neg_percent  content_valence_score_pos  \\\n",
       "month                                                        \n",
       "1         9.359413    12.080457                   1.000722   \n",
       "2         9.858131    13.159801                   1.013896   \n",
       "3         8.430677     9.313789                   0.736084   \n",
       "5         8.198359     8.477688                   0.752868   \n",
       "6         8.157385     7.788242                   0.746694   \n",
       "7         8.882049     8.551185                   0.824045   \n",
       "8        10.598550    11.628228                   1.002443   \n",
       "9        10.447130    11.956535                   0.996122   \n",
       "10       10.379787    11.988601                   0.999556   \n",
       "11        9.914497    10.756622                   1.017434   \n",
       "\n",
       "       content_valence_score_neg  \n",
       "month                             \n",
       "1                       1.142976  \n",
       "2                       1.169615  \n",
       "3                       0.779956  \n",
       "5                       0.736647  \n",
       "6                       0.667642  \n",
       "7                       0.754341  \n",
       "8                       1.024599  \n",
       "9                       1.041797  \n",
       "10                      1.055360  \n",
       "11                      0.990604  "
      ]
     },
     "execution_count": 268,
     "metadata": {},
     "output_type": "execute_result"
    }
   ],
   "source": [
    "df.groupby(['month'])[['pos_percent', 'neg_percent', 'content_valence_score_pos',  'content_valence_score_neg']].mean()"
   ]
  },
  {
   "cell_type": "code",
   "execution_count": null,
   "metadata": {
    "id": "TOHFDdWxJwMj"
   },
   "outputs": [],
   "source": [
    "df['content_valence_score_neg'] = df['content_valence_score_neg']*10\n",
    "df['content_valence_score_pos'] = df['content_valence_score_pos']*10"
   ]
  },
  {
   "cell_type": "code",
   "execution_count": 15,
   "metadata": {
    "id": "vkwxcVh8CKQ8"
   },
   "outputs": [],
   "source": [
    "sond_dob = {\n",
    "    1:24, 2:25, \n",
    "    3:30, 5:22, 6:24,\n",
    "    7:27, 8:26, 9:22, 10:25, 11:14}\n",
    "sond_zla = {\n",
    "    1:35, 2:39,\n",
    "    3:30, 5:42, 6:42.5,    \n",
    "    7:40, 8:36, 9:41, 10:39, 11:45}"
   ]
  },
  {
   "cell_type": "code",
   "execution_count": null,
   "metadata": {
    "id": "BTk17yrmFCrx"
   },
   "outputs": [],
   "source": [
    "df['month_resp_dob'] = df['month'].map(sond_dob)\n",
    "\n",
    "df['month_resp_zla'] = df['month'].map(sond_zla)"
   ]
  },
  {
   "cell_type": "code",
   "execution_count": null,
   "metadata": {
    "id": "f7DSwsVp0Vcr"
   },
   "outputs": [],
   "source": [
    "df['month_resp'] = df['month_resp_dob'] - df['month_resp_zla']"
   ]
  },
  {
   "cell_type": "code",
   "execution_count": null,
   "metadata": {
    "colab": {
     "base_uri": "https://localhost:8080/",
     "height": 300
    },
    "id": "y96TPxH4FdSc",
    "outputId": "7074d848-cdd7-4d55-c2fc-55b49a30d008"
   },
   "outputs": [
    {
     "data": {
      "text/html": [
       "<div>\n",
       "<style scoped>\n",
       "    .dataframe tbody tr th:only-of-type {\n",
       "        vertical-align: middle;\n",
       "    }\n",
       "\n",
       "    .dataframe tbody tr th {\n",
       "        vertical-align: top;\n",
       "    }\n",
       "\n",
       "    .dataframe thead th {\n",
       "        text-align: right;\n",
       "    }\n",
       "</style>\n",
       "<table border=\"1\" class=\"dataframe\">\n",
       "  <thead>\n",
       "    <tr style=\"text-align: right;\">\n",
       "      <th></th>\n",
       "      <th>month_resp_dob</th>\n",
       "      <th>month_resp_zla</th>\n",
       "      <th>month_resp</th>\n",
       "    </tr>\n",
       "    <tr>\n",
       "      <th>month</th>\n",
       "      <th></th>\n",
       "      <th></th>\n",
       "      <th></th>\n",
       "    </tr>\n",
       "  </thead>\n",
       "  <tbody>\n",
       "    <tr>\n",
       "      <th>3</th>\n",
       "      <td>30.0</td>\n",
       "      <td>30.0</td>\n",
       "      <td>0.0</td>\n",
       "    </tr>\n",
       "    <tr>\n",
       "      <th>5</th>\n",
       "      <td>22.0</td>\n",
       "      <td>42.0</td>\n",
       "      <td>-20.0</td>\n",
       "    </tr>\n",
       "    <tr>\n",
       "      <th>6</th>\n",
       "      <td>24.0</td>\n",
       "      <td>42.5</td>\n",
       "      <td>-18.5</td>\n",
       "    </tr>\n",
       "    <tr>\n",
       "      <th>7</th>\n",
       "      <td>27.0</td>\n",
       "      <td>40.0</td>\n",
       "      <td>-13.0</td>\n",
       "    </tr>\n",
       "    <tr>\n",
       "      <th>8</th>\n",
       "      <td>26.0</td>\n",
       "      <td>36.0</td>\n",
       "      <td>-10.0</td>\n",
       "    </tr>\n",
       "    <tr>\n",
       "      <th>9</th>\n",
       "      <td>22.0</td>\n",
       "      <td>41.0</td>\n",
       "      <td>-19.0</td>\n",
       "    </tr>\n",
       "    <tr>\n",
       "      <th>10</th>\n",
       "      <td>25.0</td>\n",
       "      <td>39.0</td>\n",
       "      <td>-14.0</td>\n",
       "    </tr>\n",
       "  </tbody>\n",
       "</table>\n",
       "</div>"
      ],
      "text/plain": [
       "       month_resp_dob  month_resp_zla  month_resp\n",
       "month                                            \n",
       "3                30.0            30.0         0.0\n",
       "5                22.0            42.0       -20.0\n",
       "6                24.0            42.5       -18.5\n",
       "7                27.0            40.0       -13.0\n",
       "8                26.0            36.0       -10.0\n",
       "9                22.0            41.0       -19.0\n",
       "10               25.0            39.0       -14.0"
      ]
     },
     "execution_count": 60,
     "metadata": {},
     "output_type": "execute_result"
    }
   ],
   "source": [
    "df.groupby(['month'])[['month_resp_dob', 'month_resp_zla', 'month_resp']].mean()"
   ]
  },
  {
   "cell_type": "code",
   "execution_count": null,
   "metadata": {
    "id": "Xz7RVhu50Vcs",
    "outputId": "41be8577-ee8f-494f-e45a-c23e1a6029c3"
   },
   "outputs": [
    {
     "data": {
      "text/html": [
       "<div>\n",
       "<style scoped>\n",
       "    .dataframe tbody tr th:only-of-type {\n",
       "        vertical-align: middle;\n",
       "    }\n",
       "\n",
       "    .dataframe tbody tr th {\n",
       "        vertical-align: top;\n",
       "    }\n",
       "\n",
       "    .dataframe thead th {\n",
       "        text-align: right;\n",
       "    }\n",
       "</style>\n",
       "<table border=\"1\" class=\"dataframe\">\n",
       "  <thead>\n",
       "    <tr style=\"text-align: right;\">\n",
       "      <th></th>\n",
       "      <th>month_resp_dob</th>\n",
       "      <th>month_resp_zla</th>\n",
       "      <th>month_resp</th>\n",
       "    </tr>\n",
       "    <tr>\n",
       "      <th>month</th>\n",
       "      <th></th>\n",
       "      <th></th>\n",
       "      <th></th>\n",
       "    </tr>\n",
       "  </thead>\n",
       "  <tbody>\n",
       "    <tr>\n",
       "      <th>3</th>\n",
       "      <td>30.0</td>\n",
       "      <td>30.0</td>\n",
       "      <td>-1.0</td>\n",
       "    </tr>\n",
       "    <tr>\n",
       "      <th>5</th>\n",
       "      <td>22.0</td>\n",
       "      <td>42.0</td>\n",
       "      <td>-20.0</td>\n",
       "    </tr>\n",
       "    <tr>\n",
       "      <th>6</th>\n",
       "      <td>24.0</td>\n",
       "      <td>42.5</td>\n",
       "      <td>-18.5</td>\n",
       "    </tr>\n",
       "    <tr>\n",
       "      <th>7</th>\n",
       "      <td>27.0</td>\n",
       "      <td>40.0</td>\n",
       "      <td>-13.0</td>\n",
       "    </tr>\n",
       "    <tr>\n",
       "      <th>8</th>\n",
       "      <td>26.0</td>\n",
       "      <td>36.0</td>\n",
       "      <td>-10.0</td>\n",
       "    </tr>\n",
       "    <tr>\n",
       "      <th>9</th>\n",
       "      <td>22.0</td>\n",
       "      <td>41.0</td>\n",
       "      <td>-19.0</td>\n",
       "    </tr>\n",
       "    <tr>\n",
       "      <th>10</th>\n",
       "      <td>25.0</td>\n",
       "      <td>39.0</td>\n",
       "      <td>-14.0</td>\n",
       "    </tr>\n",
       "  </tbody>\n",
       "</table>\n",
       "</div>"
      ],
      "text/plain": [
       "       month_resp_dob  month_resp_zla  month_resp\n",
       "month                                            \n",
       "3                30.0            30.0        -1.0\n",
       "5                22.0            42.0       -20.0\n",
       "6                24.0            42.5       -18.5\n",
       "7                27.0            40.0       -13.0\n",
       "8                26.0            36.0       -10.0\n",
       "9                22.0            41.0       -19.0\n",
       "10               25.0            39.0       -14.0"
      ]
     },
     "execution_count": 61,
     "metadata": {},
     "output_type": "execute_result"
    }
   ],
   "source": [
    "df['month_resp'] = np.where(df.month == 3, -1, df['month_resp'])\n",
    "df.groupby(['month'])[['month_resp_dob', 'month_resp_zla', 'month_resp']].mean()"
   ]
  },
  {
   "cell_type": "code",
   "execution_count": null,
   "metadata": {
    "id": "iQ1RTuxs0Vcs"
   },
   "outputs": [],
   "source": [
    "df['content_valence_score'] = df['content_valence_score']*10"
   ]
  },
  {
   "cell_type": "code",
   "execution_count": null,
   "metadata": {
    "id": "liWS1Vju0Vcs",
    "outputId": "d0116732-a053-44b1-ccdc-b182d33cc07f"
   },
   "outputs": [
    {
     "data": {
      "text/html": [
       "<div>\n",
       "<style scoped>\n",
       "    .dataframe tbody tr th:only-of-type {\n",
       "        vertical-align: middle;\n",
       "    }\n",
       "\n",
       "    .dataframe tbody tr th {\n",
       "        vertical-align: top;\n",
       "    }\n",
       "\n",
       "    .dataframe thead th {\n",
       "        text-align: right;\n",
       "    }\n",
       "</style>\n",
       "<table border=\"1\" class=\"dataframe\">\n",
       "  <thead>\n",
       "    <tr style=\"text-align: right;\">\n",
       "      <th></th>\n",
       "      <th>month</th>\n",
       "      <th>month_resp</th>\n",
       "      <th>content_valence_score</th>\n",
       "    </tr>\n",
       "  </thead>\n",
       "  <tbody>\n",
       "    <tr>\n",
       "      <th>0</th>\n",
       "      <td>1</td>\n",
       "      <td>-11.0</td>\n",
       "      <td>-2.029454</td>\n",
       "    </tr>\n",
       "    <tr>\n",
       "      <th>1</th>\n",
       "      <td>2</td>\n",
       "      <td>-14.0</td>\n",
       "      <td>-2.491996</td>\n",
       "    </tr>\n",
       "    <tr>\n",
       "      <th>2</th>\n",
       "      <td>3</td>\n",
       "      <td>-1.0</td>\n",
       "      <td>-0.794682</td>\n",
       "    </tr>\n",
       "    <tr>\n",
       "      <th>3</th>\n",
       "      <td>5</td>\n",
       "      <td>-20.0</td>\n",
       "      <td>0.060919</td>\n",
       "    </tr>\n",
       "    <tr>\n",
       "      <th>4</th>\n",
       "      <td>6</td>\n",
       "      <td>-18.5</td>\n",
       "      <td>1.066267</td>\n",
       "    </tr>\n",
       "    <tr>\n",
       "      <th>5</th>\n",
       "      <td>7</td>\n",
       "      <td>-13.0</td>\n",
       "      <td>0.870777</td>\n",
       "    </tr>\n",
       "    <tr>\n",
       "      <th>6</th>\n",
       "      <td>8</td>\n",
       "      <td>-10.0</td>\n",
       "      <td>-0.481356</td>\n",
       "    </tr>\n",
       "    <tr>\n",
       "      <th>7</th>\n",
       "      <td>9</td>\n",
       "      <td>-19.0</td>\n",
       "      <td>-0.866147</td>\n",
       "    </tr>\n",
       "    <tr>\n",
       "      <th>8</th>\n",
       "      <td>10</td>\n",
       "      <td>-14.0</td>\n",
       "      <td>-0.924634</td>\n",
       "    </tr>\n",
       "    <tr>\n",
       "      <th>9</th>\n",
       "      <td>11</td>\n",
       "      <td>-31.0</td>\n",
       "      <td>0.446932</td>\n",
       "    </tr>\n",
       "  </tbody>\n",
       "</table>\n",
       "</div>"
      ],
      "text/plain": [
       "   month  month_resp  content_valence_score\n",
       "0      1       -11.0              -2.029454\n",
       "1      2       -14.0              -2.491996\n",
       "2      3        -1.0              -0.794682\n",
       "3      5       -20.0               0.060919\n",
       "4      6       -18.5               1.066267\n",
       "5      7       -13.0               0.870777\n",
       "6      8       -10.0              -0.481356\n",
       "7      9       -19.0              -0.866147\n",
       "8     10       -14.0              -0.924634\n",
       "9     11       -31.0               0.446932"
      ]
     },
     "execution_count": 273,
     "metadata": {},
     "output_type": "execute_result"
    }
   ],
   "source": [
    "df.groupby(['month'], as_index=False)[['month_resp', 'content_valence_score']].mean()"
   ]
  },
  {
   "cell_type": "code",
   "execution_count": null,
   "metadata": {
    "id": "6RRQKKQz0Vcs",
    "outputId": "7fbc3d4b-18be-4e55-8e20-e4e8b75c72e1"
   },
   "outputs": [
    {
     "data": {
      "text/plain": [
       "(2452868, 24)"
      ]
     },
     "execution_count": 274,
     "metadata": {},
     "output_type": "execute_result"
    }
   ],
   "source": [
    "df.shape"
   ]
  },
  {
   "cell_type": "markdown",
   "metadata": {
    "id": "_KKkZQFzY7k3"
   },
   "source": [
    "## Prop valence 2"
   ]
  },
  {
   "cell_type": "code",
   "execution_count": null,
   "metadata": {
    "id": "MeTSyNmY0Vcu"
   },
   "outputs": [],
   "source": [
    "df['valence_pos'] = np.where(df.content_valence_negative < df.content_valence_positive, 1, 0)\n",
    "df['valence_neg'] = np.where(df.content_valence_positive < df.content_valence_negative, 1, 0)"
   ]
  },
  {
   "cell_type": "code",
   "execution_count": null,
   "metadata": {
    "id": "a90HZujv0Vcu"
   },
   "outputs": [],
   "source": [
    "df_org = df.copy()"
   ]
  },
  {
   "cell_type": "code",
   "execution_count": null,
   "metadata": {
    "id": "7bntw8GG0Vcv",
    "outputId": "09cad8f1-5f6c-4633-ca20-65f5a03ab249"
   },
   "outputs": [
    {
     "data": {
      "text/html": [
       "<div>\n",
       "<style scoped>\n",
       "    .dataframe tbody tr th:only-of-type {\n",
       "        vertical-align: middle;\n",
       "    }\n",
       "\n",
       "    .dataframe tbody tr th {\n",
       "        vertical-align: top;\n",
       "    }\n",
       "\n",
       "    .dataframe thead th {\n",
       "        text-align: right;\n",
       "    }\n",
       "</style>\n",
       "<table border=\"1\" class=\"dataframe\">\n",
       "  <thead>\n",
       "    <tr style=\"text-align: right;\">\n",
       "      <th></th>\n",
       "      <th>month</th>\n",
       "      <th>size</th>\n",
       "    </tr>\n",
       "  </thead>\n",
       "  <tbody>\n",
       "    <tr>\n",
       "      <th>0</th>\n",
       "      <td>1</td>\n",
       "      <td>1500</td>\n",
       "    </tr>\n",
       "    <tr>\n",
       "      <th>1</th>\n",
       "      <td>2</td>\n",
       "      <td>1286</td>\n",
       "    </tr>\n",
       "    <tr>\n",
       "      <th>2</th>\n",
       "      <td>3</td>\n",
       "      <td>628300</td>\n",
       "    </tr>\n",
       "    <tr>\n",
       "      <th>3</th>\n",
       "      <td>5</td>\n",
       "      <td>319533</td>\n",
       "    </tr>\n",
       "    <tr>\n",
       "      <th>4</th>\n",
       "      <td>6</td>\n",
       "      <td>396646</td>\n",
       "    </tr>\n",
       "    <tr>\n",
       "      <th>5</th>\n",
       "      <td>7</td>\n",
       "      <td>386781</td>\n",
       "    </tr>\n",
       "    <tr>\n",
       "      <th>6</th>\n",
       "      <td>8</td>\n",
       "      <td>218733</td>\n",
       "    </tr>\n",
       "    <tr>\n",
       "      <th>7</th>\n",
       "      <td>9</td>\n",
       "      <td>209304</td>\n",
       "    </tr>\n",
       "    <tr>\n",
       "      <th>8</th>\n",
       "      <td>10</td>\n",
       "      <td>223087</td>\n",
       "    </tr>\n",
       "    <tr>\n",
       "      <th>9</th>\n",
       "      <td>11</td>\n",
       "      <td>67698</td>\n",
       "    </tr>\n",
       "  </tbody>\n",
       "</table>\n",
       "</div>"
      ],
      "text/plain": [
       "   month    size\n",
       "0      1    1500\n",
       "1      2    1286\n",
       "2      3  628300\n",
       "3      5  319533\n",
       "4      6  396646\n",
       "5      7  386781\n",
       "6      8  218733\n",
       "7      9  209304\n",
       "8     10  223087\n",
       "9     11   67698"
      ]
     },
     "execution_count": 276,
     "metadata": {},
     "output_type": "execute_result"
    }
   ],
   "source": [
    "df.groupby(['month'], as_index=False).size()"
   ]
  },
  {
   "cell_type": "code",
   "execution_count": null,
   "metadata": {
    "colab": {
     "base_uri": "https://localhost:8080/",
     "height": 206
    },
    "id": "Re4_jPZxXt2W",
    "outputId": "29552a61-4cb3-4584-bdd6-e814820982b4"
   },
   "outputs": [
    {
     "data": {
      "text/html": [
       "<div>\n",
       "<style scoped>\n",
       "    .dataframe tbody tr th:only-of-type {\n",
       "        vertical-align: middle;\n",
       "    }\n",
       "\n",
       "    .dataframe tbody tr th {\n",
       "        vertical-align: top;\n",
       "    }\n",
       "\n",
       "    .dataframe thead th {\n",
       "        text-align: right;\n",
       "    }\n",
       "</style>\n",
       "<table border=\"1\" class=\"dataframe\">\n",
       "  <thead>\n",
       "    <tr style=\"text-align: right;\">\n",
       "      <th></th>\n",
       "      <th>month</th>\n",
       "      <th>valence_neg</th>\n",
       "      <th>valence_pos</th>\n",
       "    </tr>\n",
       "  </thead>\n",
       "  <tbody>\n",
       "    <tr>\n",
       "      <th>0</th>\n",
       "      <td>1</td>\n",
       "      <td>0.434667</td>\n",
       "      <td>0.280667</td>\n",
       "    </tr>\n",
       "    <tr>\n",
       "      <th>1</th>\n",
       "      <td>2</td>\n",
       "      <td>0.443235</td>\n",
       "      <td>0.271384</td>\n",
       "    </tr>\n",
       "    <tr>\n",
       "      <th>2</th>\n",
       "      <td>3</td>\n",
       "      <td>0.338396</td>\n",
       "      <td>0.290672</td>\n",
       "    </tr>\n",
       "    <tr>\n",
       "      <th>3</th>\n",
       "      <td>5</td>\n",
       "      <td>0.322849</td>\n",
       "      <td>0.303005</td>\n",
       "    </tr>\n",
       "    <tr>\n",
       "      <th>4</th>\n",
       "      <td>6</td>\n",
       "      <td>0.295999</td>\n",
       "      <td>0.314542</td>\n",
       "    </tr>\n",
       "    <tr>\n",
       "      <th>5</th>\n",
       "      <td>7</td>\n",
       "      <td>0.298399</td>\n",
       "      <td>0.315243</td>\n",
       "    </tr>\n",
       "    <tr>\n",
       "      <th>6</th>\n",
       "      <td>8</td>\n",
       "      <td>0.344004</td>\n",
       "      <td>0.303557</td>\n",
       "    </tr>\n",
       "    <tr>\n",
       "      <th>7</th>\n",
       "      <td>9</td>\n",
       "      <td>0.356448</td>\n",
       "      <td>0.292541</td>\n",
       "    </tr>\n",
       "    <tr>\n",
       "      <th>8</th>\n",
       "      <td>10</td>\n",
       "      <td>0.361016</td>\n",
       "      <td>0.291070</td>\n",
       "    </tr>\n",
       "    <tr>\n",
       "      <th>9</th>\n",
       "      <td>11</td>\n",
       "      <td>0.337248</td>\n",
       "      <td>0.301368</td>\n",
       "    </tr>\n",
       "  </tbody>\n",
       "</table>\n",
       "</div>"
      ],
      "text/plain": [
       "   month  valence_neg  valence_pos\n",
       "0      1     0.434667     0.280667\n",
       "1      2     0.443235     0.271384\n",
       "2      3     0.338396     0.290672\n",
       "3      5     0.322849     0.303005\n",
       "4      6     0.295999     0.314542\n",
       "5      7     0.298399     0.315243\n",
       "6      8     0.344004     0.303557\n",
       "7      9     0.356448     0.292541\n",
       "8     10     0.361016     0.291070\n",
       "9     11     0.337248     0.301368"
      ]
     },
     "execution_count": 320,
     "metadata": {},
     "output_type": "execute_result"
    }
   ],
   "source": [
    "df.groupby('month', as_index=False)[['valence_neg', 'valence_pos']].mean()"
   ]
  },
  {
   "cell_type": "code",
   "execution_count": null,
   "metadata": {
    "colab": {
     "base_uri": "https://localhost:8080/"
    },
    "id": "rQj6csXVXt2X",
    "outputId": "f354597d-dece-4b35-9ee2-82963f1ae646"
   },
   "outputs": [
    {
     "data": {
      "text/plain": [
       "array([0.43466667, 0.28066667, 0.44323484, 0.27138414, 0.33839567,\n",
       "       0.29067165, 0.32284928, 0.3030047 , 0.29599946, 0.31454244,\n",
       "       0.29839884, 0.31524299, 0.34400388, 0.30355731, 0.35644804,\n",
       "       0.29254099, 0.36101611, 0.2910703 , 0.33724778, 0.30136784])"
      ]
     },
     "execution_count": 321,
     "metadata": {},
     "output_type": "execute_result"
    }
   ],
   "source": [
    "df.groupby('month', as_index=False)[['valence_neg', 'valence_pos']].mean().iloc[:, 1:].values.flatten()"
   ]
  },
  {
   "cell_type": "code",
   "execution_count": null,
   "metadata": {
    "id": "E_V3x9QQ0Vcw",
    "outputId": "22ac1431-5bda-4cd2-dc6d-ebd4dfedb833"
   },
   "outputs": [
    {
     "data": {
      "text/plain": [
       "[1, 2, 3, 5, 6, 7, 8, 9, 10, 11]"
      ]
     },
     "execution_count": 279,
     "metadata": {},
     "output_type": "execute_result"
    }
   ],
   "source": [
    "list(sond_dob.keys())"
   ]
  },
  {
   "cell_type": "code",
   "execution_count": null,
   "metadata": {
    "id": "aGFRRmLQXt2X"
   },
   "outputs": [],
   "source": [
    "df[['prop_neg', 'prop_pos']] = np.nan\n",
    "\n",
    "props = df.groupby('month', as_index=False)[['valence_neg', 'valence_pos']].mean().iloc[:, 1:].values.flatten()\n",
    "i = 0    \n",
    "for m in list(sond_dob.keys()):\n",
    "  for v in ['valence_neg', 'valence_pos']:\n",
    "    ids = df[ (df['month'] == m) & (df[v] == 1) ].index\n",
    "    df.loc[ids, \"prop\"+str(v)[-4:]] = props[i] * 100\n",
    "    i += 1"
   ]
  },
  {
   "cell_type": "code",
   "execution_count": null,
   "metadata": {
    "colab": {
     "base_uri": "https://localhost:8080/",
     "height": 176
    },
    "id": "cWOYSP0PYOj6",
    "outputId": "84b26190-6f36-402f-8276-3004b74d02ee"
   },
   "outputs": [
    {
     "data": {
      "text/html": [
       "<div>\n",
       "<style scoped>\n",
       "    .dataframe tbody tr th:only-of-type {\n",
       "        vertical-align: middle;\n",
       "    }\n",
       "\n",
       "    .dataframe tbody tr th {\n",
       "        vertical-align: top;\n",
       "    }\n",
       "\n",
       "    .dataframe thead th {\n",
       "        text-align: right;\n",
       "    }\n",
       "</style>\n",
       "<table border=\"1\" class=\"dataframe\">\n",
       "  <thead>\n",
       "    <tr style=\"text-align: right;\">\n",
       "      <th></th>\n",
       "      <th>id</th>\n",
       "      <th>parentId</th>\n",
       "      <th>content</th>\n",
       "      <th>timestamp</th>\n",
       "      <th>month</th>\n",
       "      <th>content_lemmatized</th>\n",
       "      <th>valence_words</th>\n",
       "      <th>content_valence_score</th>\n",
       "      <th>content_valence_score_pos</th>\n",
       "      <th>content_valence_score_neg</th>\n",
       "      <th>content_valence_negative</th>\n",
       "      <th>content_valence_positive</th>\n",
       "      <th>neg_percent</th>\n",
       "      <th>pos_percent</th>\n",
       "      <th>month_resp_dob</th>\n",
       "      <th>month_resp_zla</th>\n",
       "      <th>month_resp</th>\n",
       "      <th>valence_pos</th>\n",
       "      <th>valence_neg</th>\n",
       "      <th>prop_neg</th>\n",
       "      <th>prop_pos</th>\n",
       "      <th>voteup</th>\n",
       "      <th>neg_valence_words</th>\n",
       "      <th>pos_valence_words</th>\n",
       "    </tr>\n",
       "  </thead>\n",
       "  <tbody>\n",
       "    <tr>\n",
       "      <th>500</th>\n",
       "      <td>59445691</td>\n",
       "      <td>0.0</td>\n",
       "      <td>idioci, typu farange zgotowali im ten los. polsce będzie  x gorzej, bo rządzą jeszcze gorsi. to wszysko skończy sie jak zwykle. wojną.</td>\n",
       "      <td>2020-11-28 14:27:55</td>\n",
       "      <td>11</td>\n",
       "      <td>idiocy typ farange zgotować los Polska źle rządzić gorsy wszysko skończyć zwykle wojna</td>\n",
       "      <td>los źle wojna</td>\n",
       "      <td>-18.958359</td>\n",
       "      <td>15.319117</td>\n",
       "      <td>18.958359</td>\n",
       "      <td>2.0</td>\n",
       "      <td>1.0</td>\n",
       "      <td>15.384615</td>\n",
       "      <td>7.692308</td>\n",
       "      <td>14</td>\n",
       "      <td>45.0</td>\n",
       "      <td>-31.0</td>\n",
       "      <td>0</td>\n",
       "      <td>1</td>\n",
       "      <td>33.724778</td>\n",
       "      <td>NaN</td>\n",
       "      <td>NaN</td>\n",
       "      <td>źle wojna</td>\n",
       "      <td>los</td>\n",
       "    </tr>\n",
       "    <tr>\n",
       "      <th>501</th>\n",
       "      <td>59445638</td>\n",
       "      <td>0.0</td>\n",
       "      <td>bardzo dobrze, jak są idiotami to niech mają. może jak dostaną mocno po dupie nasi idioci pis nie będą już mówili wyjściu unii</td>\n",
       "      <td>2020-11-28 14:22:41</td>\n",
       "      <td>11</td>\n",
       "      <td>idiot dostać mocno dupa idiocy pis mówić wyjść unia</td>\n",
       "      <td>dostać</td>\n",
       "      <td>11.683118</td>\n",
       "      <td>11.683118</td>\n",
       "      <td>0.000000</td>\n",
       "      <td>0.0</td>\n",
       "      <td>1.0</td>\n",
       "      <td>0.000000</td>\n",
       "      <td>11.111111</td>\n",
       "      <td>14</td>\n",
       "      <td>45.0</td>\n",
       "      <td>-31.0</td>\n",
       "      <td>1</td>\n",
       "      <td>0</td>\n",
       "      <td>NaN</td>\n",
       "      <td>30.136784</td>\n",
       "      <td>NaN</td>\n",
       "      <td>NaN</td>\n",
       "      <td>dostać</td>\n",
       "    </tr>\n",
       "    <tr>\n",
       "      <th>502</th>\n",
       "      <td>59445657</td>\n",
       "      <td>0.0</td>\n",
       "      <td>dawaj boris mur przed tobą</td>\n",
       "      <td>2020-11-28 14:24:04</td>\n",
       "      <td>11</td>\n",
       "      <td>dawaj boris mur</td>\n",
       "      <td>mur</td>\n",
       "      <td>-6.504071</td>\n",
       "      <td>0.000000</td>\n",
       "      <td>6.504071</td>\n",
       "      <td>1.0</td>\n",
       "      <td>0.0</td>\n",
       "      <td>33.333333</td>\n",
       "      <td>0.000000</td>\n",
       "      <td>14</td>\n",
       "      <td>45.0</td>\n",
       "      <td>-31.0</td>\n",
       "      <td>0</td>\n",
       "      <td>1</td>\n",
       "      <td>33.724778</td>\n",
       "      <td>NaN</td>\n",
       "      <td>NaN</td>\n",
       "      <td>mur</td>\n",
       "      <td>NaN</td>\n",
       "    </tr>\n",
       "  </tbody>\n",
       "</table>\n",
       "</div>"
      ],
      "text/plain": [
       "           id  parentId  \\\n",
       "500  59445691       0.0   \n",
       "501  59445638       0.0   \n",
       "502  59445657       0.0   \n",
       "\n",
       "                                                                                                                                    content  \\\n",
       "500  idioci, typu farange zgotowali im ten los. polsce będzie  x gorzej, bo rządzą jeszcze gorsi. to wszysko skończy sie jak zwykle. wojną.   \n",
       "501          bardzo dobrze, jak są idiotami to niech mają. może jak dostaną mocno po dupie nasi idioci pis nie będą już mówili wyjściu unii   \n",
       "502                                                                                                              dawaj boris mur przed tobą   \n",
       "\n",
       "               timestamp  month  \\\n",
       "500  2020-11-28 14:27:55     11   \n",
       "501  2020-11-28 14:22:41     11   \n",
       "502  2020-11-28 14:24:04     11   \n",
       "\n",
       "                                                                         content_lemmatized  \\\n",
       "500  idiocy typ farange zgotować los Polska źle rządzić gorsy wszysko skończyć zwykle wojna   \n",
       "501                                     idiot dostać mocno dupa idiocy pis mówić wyjść unia   \n",
       "502                                                                         dawaj boris mur   \n",
       "\n",
       "     valence_words  content_valence_score  content_valence_score_pos  \\\n",
       "500  los źle wojna             -18.958359                  15.319117   \n",
       "501         dostać              11.683118                  11.683118   \n",
       "502            mur              -6.504071                   0.000000   \n",
       "\n",
       "     content_valence_score_neg  content_valence_negative  \\\n",
       "500                  18.958359                       2.0   \n",
       "501                   0.000000                       0.0   \n",
       "502                   6.504071                       1.0   \n",
       "\n",
       "     content_valence_positive  neg_percent  pos_percent  month_resp_dob  \\\n",
       "500                       1.0    15.384615     7.692308              14   \n",
       "501                       1.0     0.000000    11.111111              14   \n",
       "502                       0.0    33.333333     0.000000              14   \n",
       "\n",
       "     month_resp_zla  month_resp  valence_pos  valence_neg   prop_neg  \\\n",
       "500            45.0       -31.0            0            1  33.724778   \n",
       "501            45.0       -31.0            1            0        NaN   \n",
       "502            45.0       -31.0            0            1  33.724778   \n",
       "\n",
       "      prop_pos  voteup neg_valence_words pos_valence_words  \n",
       "500        NaN     NaN         źle wojna               los  \n",
       "501  30.136784     NaN               NaN            dostać  \n",
       "502        NaN     NaN               mur               NaN  "
      ]
     },
     "execution_count": 323,
     "metadata": {},
     "output_type": "execute_result"
    }
   ],
   "source": [
    "df.iloc[500:503]"
   ]
  },
  {
   "cell_type": "code",
   "execution_count": null,
   "metadata": {
    "id": "GXhcJUSz0Vcx"
   },
   "outputs": [],
   "source": [
    "#df.to_csv(r\"C:\\Users\\user1\\Downloads\\wnpid_all2.csv\") # valence words allow duplicates\n",
    "df.to_csv(r\"C:\\Users\\user1\\Downloads\\wnpid_all.csv\") # valence words uniq\n"
   ]
  },
  {
   "cell_type": "code",
   "execution_count": null,
   "metadata": {
    "colab": {
     "base_uri": "https://localhost:8080/",
     "height": 206
    },
    "id": "IP3HUGx-Yl1w",
    "outputId": "72c1311c-6e25-4f7f-89b4-0313b1fc89c4"
   },
   "outputs": [
    {
     "data": {
      "text/html": [
       "<div>\n",
       "<style scoped>\n",
       "    .dataframe tbody tr th:only-of-type {\n",
       "        vertical-align: middle;\n",
       "    }\n",
       "\n",
       "    .dataframe tbody tr th {\n",
       "        vertical-align: top;\n",
       "    }\n",
       "\n",
       "    .dataframe thead th {\n",
       "        text-align: right;\n",
       "    }\n",
       "</style>\n",
       "<table border=\"1\" class=\"dataframe\">\n",
       "  <thead>\n",
       "    <tr style=\"text-align: right;\">\n",
       "      <th></th>\n",
       "      <th>month</th>\n",
       "      <th>month_resp_dob</th>\n",
       "      <th>prop_pos</th>\n",
       "    </tr>\n",
       "  </thead>\n",
       "  <tbody>\n",
       "    <tr>\n",
       "      <th>0</th>\n",
       "      <td>1</td>\n",
       "      <td>24.0</td>\n",
       "      <td>28.066667</td>\n",
       "    </tr>\n",
       "    <tr>\n",
       "      <th>1</th>\n",
       "      <td>2</td>\n",
       "      <td>25.0</td>\n",
       "      <td>27.138414</td>\n",
       "    </tr>\n",
       "    <tr>\n",
       "      <th>2</th>\n",
       "      <td>3</td>\n",
       "      <td>30.0</td>\n",
       "      <td>29.067165</td>\n",
       "    </tr>\n",
       "    <tr>\n",
       "      <th>3</th>\n",
       "      <td>5</td>\n",
       "      <td>22.0</td>\n",
       "      <td>30.300470</td>\n",
       "    </tr>\n",
       "    <tr>\n",
       "      <th>4</th>\n",
       "      <td>6</td>\n",
       "      <td>24.0</td>\n",
       "      <td>31.454244</td>\n",
       "    </tr>\n",
       "    <tr>\n",
       "      <th>5</th>\n",
       "      <td>7</td>\n",
       "      <td>27.0</td>\n",
       "      <td>31.524299</td>\n",
       "    </tr>\n",
       "    <tr>\n",
       "      <th>6</th>\n",
       "      <td>8</td>\n",
       "      <td>26.0</td>\n",
       "      <td>30.355731</td>\n",
       "    </tr>\n",
       "    <tr>\n",
       "      <th>7</th>\n",
       "      <td>9</td>\n",
       "      <td>22.0</td>\n",
       "      <td>29.254099</td>\n",
       "    </tr>\n",
       "    <tr>\n",
       "      <th>8</th>\n",
       "      <td>10</td>\n",
       "      <td>25.0</td>\n",
       "      <td>29.107030</td>\n",
       "    </tr>\n",
       "    <tr>\n",
       "      <th>9</th>\n",
       "      <td>11</td>\n",
       "      <td>14.0</td>\n",
       "      <td>30.136784</td>\n",
       "    </tr>\n",
       "  </tbody>\n",
       "</table>\n",
       "</div>"
      ],
      "text/plain": [
       "   month  month_resp_dob   prop_pos\n",
       "0      1            24.0  28.066667\n",
       "1      2            25.0  27.138414\n",
       "2      3            30.0  29.067165\n",
       "3      5            22.0  30.300470\n",
       "4      6            24.0  31.454244\n",
       "5      7            27.0  31.524299\n",
       "6      8            26.0  30.355731\n",
       "7      9            22.0  29.254099\n",
       "8     10            25.0  29.107030\n",
       "9     11            14.0  30.136784"
      ]
     },
     "execution_count": 325,
     "metadata": {},
     "output_type": "execute_result"
    }
   ],
   "source": [
    "df.groupby(['month'], as_index=False)[['month_resp_dob', 'prop_pos']].mean()"
   ]
  },
  {
   "cell_type": "code",
   "execution_count": null,
   "metadata": {
    "id": "dKTJ7Onp0Vcy",
    "outputId": "68573805-3efe-4abf-a7f6-691e2144438f"
   },
   "outputs": [
    {
     "data": {
      "image/png": "[encoded data removed]",
      "text/plain": [
       "<Figure size 720x432 with 1 Axes>"
      ]
     },
     "metadata": {},
     "output_type": "display_data"
    }
   ],
   "source": [
    "# full\n",
    "\n",
    "mon = df.groupby(['month'], as_index=False)[['month_resp_dob', 'prop_pos']].mean().iloc[:, 0].values\n",
    "one = df.groupby(['month'], as_index=False)[['month_resp_dob', 'prop_pos']].mean().iloc[:, 1].values\n",
    "two = df.groupby(['month'], as_index=False)[['month_resp_dob', 'prop_pos']].mean().iloc[:, 2].values\n",
    "\n",
    "sns.set_theme(style=\"whitegrid\")\n",
    "plt.style.use(\"seaborn-talk\")\n",
    "sns.set(font_scale=1.6, style='whitegrid')\n",
    "\n",
    "plt.figure(figsize = (10,6))\n",
    "ax = sns.lineplot(x = mon, y = two, color='black', linewidth = 3, label='valence')\n",
    "ax.bar(mon, one, color='g', label = 'survey')\n",
    "plt.xlabel('month')\n",
    "plt.ylabel('percent (%)')\n",
    "plt.xticks(np.arange(1, 12, 1))\n",
    "#plt.legend(loc= 4)\n",
    "ax.legend(loc='upper center', bbox_to_anchor=(0.5, 1.15), ncol=3, fancybox=True, shadow=True)\n",
    "\n",
    "#plt.savefig(f\"fig{fig_num}.png\")\n",
    "plt.show()\n",
    "fig_num += 1\n",
    "\n",
    "plt.show()"
   ]
  },
  {
   "cell_type": "code",
   "execution_count": null,
   "metadata": {
    "colab": {
     "base_uri": "https://localhost:8080/",
     "height": 206
    },
    "id": "hHnl1uJCYnEt",
    "outputId": "d04a6c46-dc8f-4dcd-8b29-8abbfab45eaf"
   },
   "outputs": [
    {
     "data": {
      "text/html": [
       "<div>\n",
       "<style scoped>\n",
       "    .dataframe tbody tr th:only-of-type {\n",
       "        vertical-align: middle;\n",
       "    }\n",
       "\n",
       "    .dataframe tbody tr th {\n",
       "        vertical-align: top;\n",
       "    }\n",
       "\n",
       "    .dataframe thead th {\n",
       "        text-align: right;\n",
       "    }\n",
       "</style>\n",
       "<table border=\"1\" class=\"dataframe\">\n",
       "  <thead>\n",
       "    <tr style=\"text-align: right;\">\n",
       "      <th></th>\n",
       "      <th>month</th>\n",
       "      <th>month_resp_zla</th>\n",
       "      <th>prop_neg</th>\n",
       "    </tr>\n",
       "  </thead>\n",
       "  <tbody>\n",
       "    <tr>\n",
       "      <th>0</th>\n",
       "      <td>1</td>\n",
       "      <td>35.0</td>\n",
       "      <td>43.466667</td>\n",
       "    </tr>\n",
       "    <tr>\n",
       "      <th>1</th>\n",
       "      <td>2</td>\n",
       "      <td>39.0</td>\n",
       "      <td>44.323484</td>\n",
       "    </tr>\n",
       "    <tr>\n",
       "      <th>2</th>\n",
       "      <td>3</td>\n",
       "      <td>30.0</td>\n",
       "      <td>33.839567</td>\n",
       "    </tr>\n",
       "    <tr>\n",
       "      <th>3</th>\n",
       "      <td>5</td>\n",
       "      <td>42.0</td>\n",
       "      <td>32.284928</td>\n",
       "    </tr>\n",
       "    <tr>\n",
       "      <th>4</th>\n",
       "      <td>6</td>\n",
       "      <td>42.5</td>\n",
       "      <td>29.599946</td>\n",
       "    </tr>\n",
       "    <tr>\n",
       "      <th>5</th>\n",
       "      <td>7</td>\n",
       "      <td>40.0</td>\n",
       "      <td>29.839884</td>\n",
       "    </tr>\n",
       "    <tr>\n",
       "      <th>6</th>\n",
       "      <td>8</td>\n",
       "      <td>36.0</td>\n",
       "      <td>34.400388</td>\n",
       "    </tr>\n",
       "    <tr>\n",
       "      <th>7</th>\n",
       "      <td>9</td>\n",
       "      <td>41.0</td>\n",
       "      <td>35.644804</td>\n",
       "    </tr>\n",
       "    <tr>\n",
       "      <th>8</th>\n",
       "      <td>10</td>\n",
       "      <td>39.0</td>\n",
       "      <td>36.101611</td>\n",
       "    </tr>\n",
       "    <tr>\n",
       "      <th>9</th>\n",
       "      <td>11</td>\n",
       "      <td>45.0</td>\n",
       "      <td>33.724778</td>\n",
       "    </tr>\n",
       "  </tbody>\n",
       "</table>\n",
       "</div>"
      ],
      "text/plain": [
       "   month  month_resp_zla   prop_neg\n",
       "0      1            35.0  43.466667\n",
       "1      2            39.0  44.323484\n",
       "2      3            30.0  33.839567\n",
       "3      5            42.0  32.284928\n",
       "4      6            42.5  29.599946\n",
       "5      7            40.0  29.839884\n",
       "6      8            36.0  34.400388\n",
       "7      9            41.0  35.644804\n",
       "8     10            39.0  36.101611\n",
       "9     11            45.0  33.724778"
      ]
     },
     "execution_count": 328,
     "metadata": {},
     "output_type": "execute_result"
    }
   ],
   "source": [
    "df.groupby(['month'], as_index=False)[['month_resp_zla', 'prop_neg']].mean()"
   ]
  },
  {
   "cell_type": "code",
   "execution_count": null,
   "metadata": {
    "id": "TmDMIKzC0Vcz",
    "outputId": "18742e4f-fa3e-4d67-b3d9-1e754a5d1b1a"
   },
   "outputs": [
    {
     "data": {
      "image/png": "[encoded data removed]",
      "text/plain": [
       "<Figure size 720x432 with 1 Axes>"
      ]
     },
     "metadata": {},
     "output_type": "display_data"
    }
   ],
   "source": [
    "# full\n",
    "\n",
    "mon = df.groupby(['month'], as_index=False)[['month_resp_zla', 'prop_neg']].mean().iloc[:, 0].values\n",
    "one = df.groupby(['month'], as_index=False)[['month_resp_zla', 'prop_neg']].mean().iloc[:, 1].values\n",
    "two = df.groupby(['month'], as_index=False)[['month_resp_zla', 'prop_neg']].mean().iloc[:, 2].values\n",
    "\n",
    "sns.set_theme(style=\"whitegrid\")\n",
    "plt.style.use(\"seaborn-talk\")\n",
    "sns.set(font_scale=1.6, style='whitegrid')\n",
    "\n",
    "plt.figure(figsize = (10,6))\n",
    "ax = sns.lineplot(x = mon, y = two, color='black', linewidth = 3, label='valence')\n",
    "ax.bar(mon, one, color='red', label = 'survey')\n",
    "plt.xlabel('month')\n",
    "plt.xticks(np.arange(1, 12, 1))\n",
    "plt.ylabel('percent (%)')\n",
    "#plt.legend(loc= 4)\n",
    "ax.legend(loc='upper center', bbox_to_anchor=(0.5, 1.15), ncol=3, fancybox=True, shadow=True)\n",
    "\n",
    "#plt.savefig(f\"fig{fig_num}.png\")\n",
    "plt.show()\n",
    "fig_num += 1\n",
    "\n",
    "plt.show()"
   ]
  },
  {
   "cell_type": "markdown",
   "metadata": {
    "id": "8Beh1y-60Vcz"
   },
   "source": [
    "# Other stats"
   ]
  },
  {
   "cell_type": "code",
   "execution_count": 16,
   "metadata": {
    "id": "m3hEMhIf0Vcz"
   },
   "outputs": [],
   "source": [
    "from scipy.stats import pearsonr\n",
    "from sklearn import metrics"
   ]
  },
  {
   "cell_type": "code",
   "execution_count": null,
   "metadata": {
    "id": "l4-lHpV50Vc0",
    "outputId": "cf7bd2ea-52b8-44d2-94c9-a60f41da3321"
   },
   "outputs": [
    {
     "name": "stdout",
     "output_type": "stream",
     "text": [
      "(803039, 24)\n"
     ]
    }
   ],
   "source": [
    "df_n = df.dropna(subset=['prop_neg'], axis=0)\n",
    "print(df_n.shape)"
   ]
  },
  {
   "cell_type": "code",
   "execution_count": null,
   "metadata": {
    "id": "f1lBiqti0Vc0",
    "outputId": "02ff3e67-d379-413c-c53b-76e2a9873851"
   },
   "outputs": [
    {
     "data": {
      "text/plain": [
       "6.88"
      ]
     },
     "execution_count": 331,
     "metadata": {},
     "output_type": "execute_result"
    }
   ],
   "source": [
    "metrics.mean_absolute_error(df_n.month_resp_zla.values, df_n.prop_neg.values).round(3) # full data\n",
    "# dupl 6.684\n",
    "# uniq 6.88"
   ]
  },
  {
   "cell_type": "code",
   "execution_count": null,
   "metadata": {
    "id": "Dux_MO840Vc0",
    "outputId": "6d45b032-f896-43ad-f343-a0b43737921f"
   },
   "outputs": [
    {
     "data": {
      "text/plain": [
       "3.276"
      ]
     },
     "execution_count": 231,
     "metadata": {},
     "output_type": "execute_result"
    }
   ],
   "source": [
    "metrics.mean_absolute_error(df_n.month_resp_zla.values, df_n.prop_neg.values).round(3) # interia 2 uniq"
   ]
  },
  {
   "cell_type": "code",
   "execution_count": null,
   "metadata": {
    "id": "1Wh2w-dP0Vc1",
    "outputId": "b5bc4e66-c231-46a9-b05b-a25ed73f0faf"
   },
   "outputs": [
    {
     "data": {
      "text/plain": [
       "4.127"
      ]
     },
     "execution_count": 301,
     "metadata": {},
     "output_type": "execute_result"
    }
   ],
   "source": [
    "metrics.mean_absolute_error(df_n.month_resp_zla.values, df_n.prop_neg.values).round(3) # interia 2 duplicates"
   ]
  },
  {
   "cell_type": "code",
   "execution_count": null,
   "metadata": {
    "id": "uxsUH_A20Vc4",
    "outputId": "e56d8261-9039-4d71-f73b-a98285454f24"
   },
   "outputs": [
    {
     "data": {
      "text/html": [
       "<div>\n",
       "<style scoped>\n",
       "    .dataframe tbody tr th:only-of-type {\n",
       "        vertical-align: middle;\n",
       "    }\n",
       "\n",
       "    .dataframe tbody tr th {\n",
       "        vertical-align: top;\n",
       "    }\n",
       "\n",
       "    .dataframe thead th {\n",
       "        text-align: right;\n",
       "    }\n",
       "</style>\n",
       "<table border=\"1\" class=\"dataframe\">\n",
       "  <thead>\n",
       "    <tr style=\"text-align: right;\">\n",
       "      <th></th>\n",
       "      <th>month</th>\n",
       "      <th>month_resp_zla</th>\n",
       "      <th>prop_neg</th>\n",
       "      <th>mae</th>\n",
       "    </tr>\n",
       "  </thead>\n",
       "  <tbody>\n",
       "    <tr>\n",
       "      <th>0</th>\n",
       "      <td>1</td>\n",
       "      <td>35.0</td>\n",
       "      <td>43.466667</td>\n",
       "      <td>8.466667</td>\n",
       "    </tr>\n",
       "    <tr>\n",
       "      <th>1</th>\n",
       "      <td>2</td>\n",
       "      <td>39.0</td>\n",
       "      <td>44.323484</td>\n",
       "      <td>5.323484</td>\n",
       "    </tr>\n",
       "    <tr>\n",
       "      <th>2</th>\n",
       "      <td>3</td>\n",
       "      <td>30.0</td>\n",
       "      <td>33.839567</td>\n",
       "      <td>3.839567</td>\n",
       "    </tr>\n",
       "    <tr>\n",
       "      <th>3</th>\n",
       "      <td>5</td>\n",
       "      <td>42.0</td>\n",
       "      <td>32.284928</td>\n",
       "      <td>9.715072</td>\n",
       "    </tr>\n",
       "    <tr>\n",
       "      <th>4</th>\n",
       "      <td>6</td>\n",
       "      <td>42.5</td>\n",
       "      <td>29.599946</td>\n",
       "      <td>12.900054</td>\n",
       "    </tr>\n",
       "    <tr>\n",
       "      <th>5</th>\n",
       "      <td>7</td>\n",
       "      <td>40.0</td>\n",
       "      <td>29.839884</td>\n",
       "      <td>10.160116</td>\n",
       "    </tr>\n",
       "    <tr>\n",
       "      <th>6</th>\n",
       "      <td>8</td>\n",
       "      <td>36.0</td>\n",
       "      <td>34.400388</td>\n",
       "      <td>1.599612</td>\n",
       "    </tr>\n",
       "    <tr>\n",
       "      <th>7</th>\n",
       "      <td>9</td>\n",
       "      <td>41.0</td>\n",
       "      <td>35.644804</td>\n",
       "      <td>5.355196</td>\n",
       "    </tr>\n",
       "    <tr>\n",
       "      <th>8</th>\n",
       "      <td>10</td>\n",
       "      <td>39.0</td>\n",
       "      <td>36.101611</td>\n",
       "      <td>2.898389</td>\n",
       "    </tr>\n",
       "    <tr>\n",
       "      <th>9</th>\n",
       "      <td>11</td>\n",
       "      <td>45.0</td>\n",
       "      <td>33.724778</td>\n",
       "      <td>11.275222</td>\n",
       "    </tr>\n",
       "  </tbody>\n",
       "</table>\n",
       "</div>"
      ],
      "text/plain": [
       "   month  month_resp_zla   prop_neg        mae\n",
       "0      1            35.0  43.466667   8.466667\n",
       "1      2            39.0  44.323484   5.323484\n",
       "2      3            30.0  33.839567   3.839567\n",
       "3      5            42.0  32.284928   9.715072\n",
       "4      6            42.5  29.599946  12.900054\n",
       "5      7            40.0  29.839884  10.160116\n",
       "6      8            36.0  34.400388   1.599612\n",
       "7      9            41.0  35.644804   5.355196\n",
       "8     10            39.0  36.101611   2.898389\n",
       "9     11            45.0  33.724778  11.275222"
      ]
     },
     "execution_count": 332,
     "metadata": {},
     "output_type": "execute_result"
    }
   ],
   "source": [
    "df_n['mae'] = np.abs(df_n['month_resp_zla'] - df_n['prop_neg'])\n",
    "df_n.groupby(['month'], as_index=False)[['month_resp_zla', 'prop_neg', 'mae']].mean()"
   ]
  },
  {
   "cell_type": "code",
   "execution_count": null,
   "metadata": {
    "id": "HCz-JIvX0Vc6",
    "outputId": "e1592cfb-94ea-46da-bc9f-3650dd2461a0"
   },
   "outputs": [
    {
     "data": {
      "image/png": "[encoded data removed]",
      "text/plain": [
       "<Figure size 720x432 with 1 Axes>"
      ]
     },
     "metadata": {},
     "output_type": "display_data"
    }
   ],
   "source": [
    "# full\n",
    "\n",
    "mon = df_n.groupby(['month'], as_index=False)[['month_resp_zla', 'prop_neg', 'mae']].mean().iloc[:, 0].values\n",
    "one = df_n.groupby(['month'], as_index=False)[['month_resp_zla', 'prop_neg', 'mae']].mean().iloc[:, 1].values\n",
    "two = df_n.groupby(['month'], as_index=False)[['month_resp_zla', 'prop_neg', 'mae']].mean().iloc[:, 2].values\n",
    "mae_n = df_n.groupby(['month'], as_index=False)[['month_resp_zla', 'prop_neg', 'mae']].mean().iloc[:, 3].values\n",
    "\n",
    "sns.set_theme(style=\"whitegrid\")\n",
    "plt.style.use(\"seaborn-talk\")\n",
    "sns.set(font_scale=1.6, style='whitegrid')\n",
    "\n",
    "plt.figure(figsize = (10,6))\n",
    "ax = sns.lineplot(x = mon, y = two, color='black', linewidth = 3, label='valence')\n",
    "ax.bar(mon, one, color='red', label = 'survey')\n",
    "ax.plot(mon, mae_n, color='blue', label = 'MAE', linestyle = '--', linewidth = 3)\n",
    "\n",
    "plt.xlabel('month')\n",
    "plt.xticks(np.arange(1, 12, 1))\n",
    "plt.ylabel('percent (%)')\n",
    "plt.title('\\n')\n",
    "#plt.legend(loc= 4)\n",
    "ax.legend(loc='upper center', bbox_to_anchor=(0.5, 1.15), ncol=3, fancybox=True, shadow=True)\n",
    "\n",
    "plt.savefig(f\"fig{fig_num}.png\")\n",
    "plt.show()\n",
    "fig_num += 1\n",
    "\n",
    "plt.show()"
   ]
  },
  {
   "cell_type": "code",
   "execution_count": null,
   "metadata": {
    "id": "o2RUH8Uw0Vc-",
    "outputId": "777cacff-7a12-4049-fdd8-3642fd48ca82"
   },
   "outputs": [
    {
     "name": "stdout",
     "output_type": "stream",
     "text": [
      "(739875, 24)\n"
     ]
    }
   ],
   "source": [
    "df_p = df.dropna(subset=['prop_pos'], axis=0)\n",
    "print(df_p.shape)"
   ]
  },
  {
   "cell_type": "code",
   "execution_count": null,
   "metadata": {
    "id": "7kt7xDrT0Vc_",
    "outputId": "de3c8888-3844-4934-f6ed-13fac01440ef"
   },
   "outputs": [
    {
     "data": {
      "text/plain": [
       "5.119"
      ]
     },
     "execution_count": 335,
     "metadata": {},
     "output_type": "execute_result"
    }
   ],
   "source": [
    "metrics.mean_absolute_error(df_p.month_resp_dob.values, df_p.prop_pos.values).round(3) # full data\n",
    "# dupl 5.285\n",
    "# uniq 5.119"
   ]
  },
  {
   "cell_type": "code",
   "execution_count": null,
   "metadata": {
    "id": "8D_Zywxj0Vc_",
    "outputId": "f3d392a0-5395-4d2c-b04b-0e9ef0277213"
   },
   "outputs": [
    {
     "data": {
      "text/plain": [
       "4.063"
      ]
     },
     "execution_count": 235,
     "metadata": {},
     "output_type": "execute_result"
    }
   ],
   "source": [
    "metrics.mean_absolute_error(df_p.month_resp_dob.values, df_p.prop_pos.values).round(3) # interia 2 uniq"
   ]
  },
  {
   "cell_type": "code",
   "execution_count": null,
   "metadata": {
    "id": "ACCzVqhm0Vc_",
    "outputId": "af9b767b-0855-4619-fde8-26091190ddc9"
   },
   "outputs": [
    {
     "data": {
      "text/plain": [
       "5.43"
      ]
     },
     "execution_count": 305,
     "metadata": {},
     "output_type": "execute_result"
    }
   ],
   "source": [
    "metrics.mean_absolute_error(df_p.month_resp_dob.values, df_p.prop_pos.values).round(3) # interia 2 duplicates"
   ]
  },
  {
   "cell_type": "code",
   "execution_count": null,
   "metadata": {
    "id": "XFDH3r5i0VdA",
    "outputId": "76dd1833-3c9b-4784-aa16-23a26783d7d5"
   },
   "outputs": [
    {
     "data": {
      "text/html": [
       "<div>\n",
       "<style scoped>\n",
       "    .dataframe tbody tr th:only-of-type {\n",
       "        vertical-align: middle;\n",
       "    }\n",
       "\n",
       "    .dataframe tbody tr th {\n",
       "        vertical-align: top;\n",
       "    }\n",
       "\n",
       "    .dataframe thead th {\n",
       "        text-align: right;\n",
       "    }\n",
       "</style>\n",
       "<table border=\"1\" class=\"dataframe\">\n",
       "  <thead>\n",
       "    <tr style=\"text-align: right;\">\n",
       "      <th></th>\n",
       "      <th>month</th>\n",
       "      <th>month_resp_dob</th>\n",
       "      <th>prop_pos</th>\n",
       "      <th>mae</th>\n",
       "    </tr>\n",
       "  </thead>\n",
       "  <tbody>\n",
       "    <tr>\n",
       "      <th>0</th>\n",
       "      <td>1</td>\n",
       "      <td>24.0</td>\n",
       "      <td>28.066667</td>\n",
       "      <td>4.066667</td>\n",
       "    </tr>\n",
       "    <tr>\n",
       "      <th>1</th>\n",
       "      <td>2</td>\n",
       "      <td>25.0</td>\n",
       "      <td>27.138414</td>\n",
       "      <td>2.138414</td>\n",
       "    </tr>\n",
       "    <tr>\n",
       "      <th>2</th>\n",
       "      <td>3</td>\n",
       "      <td>30.0</td>\n",
       "      <td>29.067165</td>\n",
       "      <td>0.932835</td>\n",
       "    </tr>\n",
       "    <tr>\n",
       "      <th>3</th>\n",
       "      <td>5</td>\n",
       "      <td>22.0</td>\n",
       "      <td>30.300470</td>\n",
       "      <td>8.300470</td>\n",
       "    </tr>\n",
       "    <tr>\n",
       "      <th>4</th>\n",
       "      <td>6</td>\n",
       "      <td>24.0</td>\n",
       "      <td>31.454244</td>\n",
       "      <td>7.454244</td>\n",
       "    </tr>\n",
       "    <tr>\n",
       "      <th>5</th>\n",
       "      <td>7</td>\n",
       "      <td>27.0</td>\n",
       "      <td>31.524299</td>\n",
       "      <td>4.524299</td>\n",
       "    </tr>\n",
       "    <tr>\n",
       "      <th>6</th>\n",
       "      <td>8</td>\n",
       "      <td>26.0</td>\n",
       "      <td>30.355731</td>\n",
       "      <td>4.355731</td>\n",
       "    </tr>\n",
       "    <tr>\n",
       "      <th>7</th>\n",
       "      <td>9</td>\n",
       "      <td>22.0</td>\n",
       "      <td>29.254099</td>\n",
       "      <td>7.254099</td>\n",
       "    </tr>\n",
       "    <tr>\n",
       "      <th>8</th>\n",
       "      <td>10</td>\n",
       "      <td>25.0</td>\n",
       "      <td>29.107030</td>\n",
       "      <td>4.107030</td>\n",
       "    </tr>\n",
       "    <tr>\n",
       "      <th>9</th>\n",
       "      <td>11</td>\n",
       "      <td>14.0</td>\n",
       "      <td>30.136784</td>\n",
       "      <td>16.136784</td>\n",
       "    </tr>\n",
       "  </tbody>\n",
       "</table>\n",
       "</div>"
      ],
      "text/plain": [
       "   month  month_resp_dob   prop_pos        mae\n",
       "0      1            24.0  28.066667   4.066667\n",
       "1      2            25.0  27.138414   2.138414\n",
       "2      3            30.0  29.067165   0.932835\n",
       "3      5            22.0  30.300470   8.300470\n",
       "4      6            24.0  31.454244   7.454244\n",
       "5      7            27.0  31.524299   4.524299\n",
       "6      8            26.0  30.355731   4.355731\n",
       "7      9            22.0  29.254099   7.254099\n",
       "8     10            25.0  29.107030   4.107030\n",
       "9     11            14.0  30.136784  16.136784"
      ]
     },
     "execution_count": 336,
     "metadata": {},
     "output_type": "execute_result"
    }
   ],
   "source": [
    "df_p['mae'] = np.abs(df_p['month_resp_dob'] - df_p['prop_pos'])\n",
    "df_p.groupby(['month'], as_index=False)[['month_resp_dob', 'prop_pos', 'mae']].mean()"
   ]
  },
  {
   "cell_type": "code",
   "execution_count": null,
   "metadata": {
    "id": "y7IaSAOU0VdA",
    "outputId": "c6b56d2a-68e9-4014-dbfd-f268e8a671de"
   },
   "outputs": [
    {
     "data": {
      "image/png": "[encoded data removed]",
      "text/plain": [
       "<Figure size 720x432 with 1 Axes>"
      ]
     },
     "metadata": {},
     "output_type": "display_data"
    }
   ],
   "source": [
    "# full\n",
    "\n",
    "mon = df_p.groupby(['month'], as_index=False)[['month_resp_dob', 'prop_pos', 'mae']].mean().iloc[:, 0].values\n",
    "one = df_p.groupby(['month'], as_index=False)[['month_resp_dob', 'prop_pos', 'mae']].mean().iloc[:, 1].values\n",
    "two = df_p.groupby(['month'], as_index=False)[['month_resp_dob', 'prop_pos', 'mae']].mean().iloc[:, 2].values\n",
    "mae_n = df_p.groupby(['month'], as_index=False)[['month_resp_dob', 'prop_pos', 'mae']].mean().iloc[:, 3].values\n",
    "\n",
    "sns.set_theme(style=\"whitegrid\")\n",
    "plt.style.use(\"seaborn-talk\")\n",
    "sns.set(font_scale=1.6, style='whitegrid')\n",
    "plt.figure(figsize = (10,6))\n",
    "\n",
    "ax = sns.lineplot(x = mon, y = two, color='black', linewidth = 3, label='valence')\n",
    "ax.bar(mon, one, color='g', label = 'survey')\n",
    "ax.plot(mon, mae_n, color='blue', label = 'MAE', linestyle = '--', linewidth = 3)\n",
    "\n",
    "plt.xlabel('month')\n",
    "plt.xticks(np.arange(1, 12, 1))\n",
    "plt.ylabel('percent (%)')\n",
    "plt.title('\\n')\n",
    "#plt.legend(loc= 4)\n",
    "ax.legend(loc='upper center', bbox_to_anchor=(0.5, 1.15), ncol=3, fancybox=True, shadow=True)\n",
    "\n",
    "plt.savefig(f\"fig{fig_num}.png\")\n",
    "plt.show()\n",
    "fig_num += 1\n",
    "\n",
    "plt.show()"
   ]
  },
  {
   "cell_type": "markdown",
   "metadata": {
    "id": "CSg8mjXO0VdB"
   },
   "source": [
    "# Sentiment BERT-model"
   ]
  },
  {
   "cell_type": "code",
   "execution_count": null,
   "metadata": {
    "id": "jMkFqi5Z0VdB"
   },
   "outputs": [],
   "source": [
    "from transformers import pipeline"
   ]
  },
  {
   "cell_type": "code",
   "execution_count": null,
   "metadata": {
    "id": "KBjZWyJU0VdC"
   },
   "outputs": [],
   "source": [
    "model_path = \"eevvgg/PaReS-sentimenTw-political-PL\"\n",
    "#model_path = \"cardiffnlp/xlm-twitter-politics-sentiment\" \n",
    "\n",
    "sentiment_task = pipeline(task = \"sentiment-analysis\", model = model_path, tokenizer = model_path)"
   ]
  },
  {
   "cell_type": "code",
   "execution_count": 3,
   "metadata": {
    "id": "x_3AoCaM0VdC",
    "outputId": "d9d61b6f-84dc-4e73-e26f-e60b04c255c2"
   },
   "outputs": [
    {
     "data": {
      "text/plain": [
       "(647289, 23)"
      ]
     },
     "execution_count": 3,
     "metadata": {},
     "output_type": "execute_result"
    }
   ],
   "source": [
    "df = pd.read_csv(r\"C:\\Users\\User\\Downloads\\interia2_cln.csv\", index_col=0)\n",
    "df.shape"
   ]
  },
  {
   "cell_type": "code",
   "execution_count": null,
   "metadata": {
    "id": "CFA7Be9h0VdC"
   },
   "outputs": [],
   "source": [
    "sequence = df.content.to_list()"
   ]
  },
  {
   "cell_type": "code",
   "execution_count": null,
   "metadata": {
    "id": "NaSqLxSK0VdD"
   },
   "outputs": [],
   "source": [
    "sequence = [str(s) if len(str(s)) < 400 else str(s)[:400] for s in sequence]"
   ]
  },
  {
   "cell_type": "code",
   "execution_count": null,
   "metadata": {
    "id": "uq_2E7GS0VdD",
    "outputId": "b22950d7-1f78-4eaa-ce66-3dcd4286fe02"
   },
   "outputs": [
    {
     "data": {
      "text/plain": [
       "['bzdura, ile jest osób nie ogarnietych statystyką np. tych co robią prywatnie, ile jest osób, które mają wynik, mieszkają rodziną to znaczy, że rodzina też ma, ile jest osób, które po kilkukodzinnym staniu kolejce odjeżdżają bo punkt zamknięty, ile jest takich co przechodzą chorobę nie ida na badania sam znam takich wielu już. oni sami sobie nakładaja kwarantannę siedzą domach. ten wynik to trzeba przez pomnożyć przynajmniej tego wynika, że mamy dobre ponad tys. zakażonych dziennie.',\n",
       " 'tempe piśory zrzucają na nas polaków winę za zarażenia natomiast sami robią nam ogromne kuku, puszczając ludzi kwarantanny bez testu, jak żadnym kraju na świcie. teraz przykładowo połowa ludzi kończących danego dnia kwarantannę jest zarażonych ale nie miała objawów więc nic nikomu nie mówi że ma jakieś objawy, po kwarantannie wychodzi na ulicę sieje spustoszenie zarażając na mega skalę, oto głupota piśorowska działanie na szkodę polaków, dlaczego tak robią, bo pieniądze naszych podatków wydają n',\n",
       " 'taaaa, pewnie. skoro ue dopłaca za każdego zarażonego to szybciutko zmieniamy sposób rozpoznania że ktoś ma covid . wystarczy tylko jeden wielu objawów. straszymy ludzi że mamy rekordy. zrozumcie że wasza pazerność na kasę da odwrotny skutek. przestaną chodzić do lekarzy na własną rękę będą się leczyć.',\n",
       " 'ludzie obudźcie się! robią nami co chcą, wy to wszystko wierzycie... więcej oglądajcie tej manipulującej tvp. przez wakacje nic nie zrobili. ludzie, którzy prowadzą działalność nie maja za co żyć, spłacać kredytów tak się nie da co mają siedzieć na spokojnie domu. przyjdzie taki moment, że każdemu psycha siądzie. ty polaczku siedź, dostaniesz ochłapy, ja się nie martwię bo państwo płaci mi co miesiąc.... obudźcie się nie wiedzą jak zaradzić protestom to manipulują liczbami, te testy są h..a wart',\n",
       " 'do cynicznego pana europosła krasnodębskiego pis. odmładza nam się społeczeństwo polsce, nieprawdaż? czy takie odmładzanie panu wystarcza czy też jest jeszcze za małe? większego cynika niż pan nigdy nie widziałem. ale krma wróci. do pana również.',\n",
       " 'czy tego grzywe nikt nie zamknie?',\n",
       " '.  kilka dni ciężkich przypadków oznacza jakieś  . - .  wszystkich. takim tempie to do stycznia polska będzie już cała koronie, do lata podwójnej.']"
      ]
     },
     "execution_count": 16,
     "metadata": {},
     "output_type": "execute_result"
    }
   ],
   "source": [
    "sequence[3102:3109]"
   ]
  },
  {
   "cell_type": "code",
   "execution_count": 5,
   "metadata": {
    "id": "ouJlzggy0VdE",
    "outputId": "55ae5496-513a-42ba-b565-f187ec36398c"
   },
   "outputs": [
    {
     "data": {
      "text/plain": [
       "647289"
      ]
     },
     "execution_count": 5,
     "metadata": {},
     "output_type": "execute_result"
    }
   ],
   "source": [
    "result = sentiment_task(sequence)\n",
    "len(result)"
   ]
  },
  {
   "cell_type": "code",
   "execution_count": 7,
   "metadata": {
    "id": "FwC08yu40VdE",
    "outputId": "30a9dd77-d05b-4e30-b114-a2745b4580d8",
    "scrolled": true
   },
   "outputs": [
    {
     "data": {
      "text/plain": [
       "['Negative', 'Negative', 'Negative', 'Positive', 'Negative']"
      ]
     },
     "execution_count": 7,
     "metadata": {},
     "output_type": "execute_result"
    }
   ],
   "source": [
    "labels = [i['label'] for i in result]\n",
    "labels[:5]"
   ]
  },
  {
   "cell_type": "code",
   "execution_count": null,
   "metadata": {
    "id": "-Qr_QLZ80VdF"
   },
   "outputs": [],
   "source": [
    "df['sentimentBERT'] = labels"
   ]
  },
  {
   "cell_type": "markdown",
   "metadata": {},
   "source": [
    "## BERT analysis"
   ]
  },
  {
   "cell_type": "code",
   "execution_count": 109,
   "metadata": {},
   "outputs": [
    {
     "data": {
      "text/plain": [
       "(2452868, 27)"
      ]
     },
     "execution_count": 109,
     "metadata": {},
     "output_type": "execute_result"
    }
   ],
   "source": [
    "df = df_all.copy()\n",
    "df.shape"
   ]
  },
  {
   "cell_type": "code",
   "execution_count": 110,
   "metadata": {
    "id": "Ng97K8Hv0VdG",
    "outputId": "d622029d-8904-48da-96aa-d13f72ce8bab"
   },
   "outputs": [
    {
     "data": {
      "text/plain": [
       "Negative    82.617002\n",
       "Neutral     12.733176\n",
       "Positive     4.649822\n",
       "Name: sentimentBERT, dtype: float64"
      ]
     },
     "execution_count": 110,
     "metadata": {},
     "output_type": "execute_result"
    }
   ],
   "source": [
    "df.sentimentBERT.value_counts(normalize=True)*100"
   ]
  },
  {
   "cell_type": "code",
   "execution_count": 111,
   "metadata": {
    "id": "yZJNJr230VdK",
    "outputId": "ccf0a198-5687-4d55-b5ff-d8c2895a0a12"
   },
   "outputs": [
    {
     "data": {
      "text/html": [
       "<div>\n",
       "<style scoped>\n",
       "    .dataframe tbody tr th:only-of-type {\n",
       "        vertical-align: middle;\n",
       "    }\n",
       "\n",
       "    .dataframe tbody tr th {\n",
       "        vertical-align: top;\n",
       "    }\n",
       "\n",
       "    .dataframe thead th {\n",
       "        text-align: right;\n",
       "    }\n",
       "</style>\n",
       "<table border=\"1\" class=\"dataframe\">\n",
       "  <thead>\n",
       "    <tr style=\"text-align: right;\">\n",
       "      <th></th>\n",
       "      <th>content</th>\n",
       "      <th>content_valence_score</th>\n",
       "      <th>sentimentBERT</th>\n",
       "    </tr>\n",
       "  </thead>\n",
       "  <tbody>\n",
       "    <tr>\n",
       "      <th>18000</th>\n",
       "      <td>medycyna biologia to nie matematyka teoretyczna. od większości zasad mogą znaleźć się wyjątki. żadna szczepionka nie chroni  % przed chorobą to samo można p...</td>\n",
       "      <td>-14.927608</td>\n",
       "      <td>Negative</td>\n",
       "    </tr>\n",
       "    <tr>\n",
       "      <th>18001</th>\n",
       "      <td>kolejna młoda osoba. gdyby nie ten cholerny covid (po raz kolejny) to żyłaby jak nic lat.</td>\n",
       "      <td>19.688359</td>\n",
       "      <td>Negative</td>\n",
       "    </tr>\n",
       "    <tr>\n",
       "      <th>18002</th>\n",
       "      <td>niewątpliwie ciekawa informacja dotycząca  letniej, chorej na raka. pewnością już jutro komuś uda się wysmażyć tego alarmujący artykuł tym, jak to wszyscy u...</td>\n",
       "      <td>-18.120266</td>\n",
       "      <td>Negative</td>\n",
       "    </tr>\n",
       "    <tr>\n",
       "      <th>18003</th>\n",
       "      <td>mogła jeszcze żyć ze lat...</td>\n",
       "      <td>14.484281</td>\n",
       "      <td>Negative</td>\n",
       "    </tr>\n",
       "    <tr>\n",
       "      <th>18004</th>\n",
       "      <td>user pozostaniesz, naziolski oszuście.&lt;br&gt; masz informację, że odporność grupowa (herd immunity) to fikcja bo wirus ostro mutuje, ale lepiej się ponabijać.&lt;...</td>\n",
       "      <td>-17.694443</td>\n",
       "      <td>Negative</td>\n",
       "    </tr>\n",
       "    <tr>\n",
       "      <th>18005</th>\n",
       "      <td>user ty masz nowotwór mózgu?</td>\n",
       "      <td>-21.258715</td>\n",
       "      <td>Negative</td>\n",
       "    </tr>\n",
       "  </tbody>\n",
       "</table>\n",
       "</div>"
      ],
      "text/plain": [
       "                                                                                                                                                               content  \\\n",
       "18000  medycyna biologia to nie matematyka teoretyczna. od większości zasad mogą znaleźć się wyjątki. żadna szczepionka nie chroni  % przed chorobą to samo można p...   \n",
       "18001                                                                        kolejna młoda osoba. gdyby nie ten cholerny covid (po raz kolejny) to żyłaby jak nic lat.   \n",
       "18002  niewątpliwie ciekawa informacja dotycząca  letniej, chorej na raka. pewnością już jutro komuś uda się wysmażyć tego alarmujący artykuł tym, jak to wszyscy u...   \n",
       "18003                                                                                                                                      mogła jeszcze żyć ze lat...   \n",
       "18004  user pozostaniesz, naziolski oszuście.<br> masz informację, że odporność grupowa (herd immunity) to fikcja bo wirus ostro mutuje, ale lepiej się ponabijać.<...   \n",
       "18005                                                                                                                                     user ty masz nowotwór mózgu?   \n",
       "\n",
       "       content_valence_score sentimentBERT  \n",
       "18000             -14.927608      Negative  \n",
       "18001              19.688359      Negative  \n",
       "18002             -18.120266      Negative  \n",
       "18003              14.484281      Negative  \n",
       "18004             -17.694443      Negative  \n",
       "18005             -21.258715      Negative  "
      ]
     },
     "execution_count": 111,
     "metadata": {},
     "output_type": "execute_result"
    }
   ],
   "source": [
    "df[['content', 'content_valence_score', 'sentimentBERT']].iloc[18000:18006]"
   ]
  },
  {
   "cell_type": "code",
   "execution_count": 112,
   "metadata": {
    "id": "46hflyR70VdL",
    "outputId": "23cff526-3409-4b16-d010-763894faa51c"
   },
   "outputs": [
    {
     "data": {
      "text/html": [
       "<div>\n",
       "<style scoped>\n",
       "    .dataframe tbody tr th:only-of-type {\n",
       "        vertical-align: middle;\n",
       "    }\n",
       "\n",
       "    .dataframe tbody tr th {\n",
       "        vertical-align: top;\n",
       "    }\n",
       "\n",
       "    .dataframe thead th {\n",
       "        text-align: right;\n",
       "    }\n",
       "</style>\n",
       "<table border=\"1\" class=\"dataframe\">\n",
       "  <thead>\n",
       "    <tr style=\"text-align: right;\">\n",
       "      <th></th>\n",
       "      <th>month</th>\n",
       "      <th>sentimentBERT</th>\n",
       "      <th>percentage</th>\n",
       "    </tr>\n",
       "  </thead>\n",
       "  <tbody>\n",
       "    <tr>\n",
       "      <th>0</th>\n",
       "      <td>1</td>\n",
       "      <td>Negative</td>\n",
       "      <td>85.733333</td>\n",
       "    </tr>\n",
       "    <tr>\n",
       "      <th>1</th>\n",
       "      <td>1</td>\n",
       "      <td>Neutral</td>\n",
       "      <td>11.666667</td>\n",
       "    </tr>\n",
       "    <tr>\n",
       "      <th>2</th>\n",
       "      <td>1</td>\n",
       "      <td>Positive</td>\n",
       "      <td>2.600000</td>\n",
       "    </tr>\n",
       "    <tr>\n",
       "      <th>3</th>\n",
       "      <td>2</td>\n",
       "      <td>Negative</td>\n",
       "      <td>87.169518</td>\n",
       "    </tr>\n",
       "    <tr>\n",
       "      <th>4</th>\n",
       "      <td>2</td>\n",
       "      <td>Neutral</td>\n",
       "      <td>10.419907</td>\n",
       "    </tr>\n",
       "    <tr>\n",
       "      <th>5</th>\n",
       "      <td>2</td>\n",
       "      <td>Positive</td>\n",
       "      <td>2.410575</td>\n",
       "    </tr>\n",
       "    <tr>\n",
       "      <th>6</th>\n",
       "      <td>3</td>\n",
       "      <td>Negative</td>\n",
       "      <td>82.642209</td>\n",
       "    </tr>\n",
       "    <tr>\n",
       "      <th>7</th>\n",
       "      <td>3</td>\n",
       "      <td>Neutral</td>\n",
       "      <td>13.044406</td>\n",
       "    </tr>\n",
       "    <tr>\n",
       "      <th>8</th>\n",
       "      <td>3</td>\n",
       "      <td>Positive</td>\n",
       "      <td>4.313385</td>\n",
       "    </tr>\n",
       "    <tr>\n",
       "      <th>9</th>\n",
       "      <td>5</td>\n",
       "      <td>Negative</td>\n",
       "      <td>82.607117</td>\n",
       "    </tr>\n",
       "    <tr>\n",
       "      <th>10</th>\n",
       "      <td>5</td>\n",
       "      <td>Neutral</td>\n",
       "      <td>12.742972</td>\n",
       "    </tr>\n",
       "    <tr>\n",
       "      <th>11</th>\n",
       "      <td>5</td>\n",
       "      <td>Positive</td>\n",
       "      <td>4.649911</td>\n",
       "    </tr>\n",
       "    <tr>\n",
       "      <th>12</th>\n",
       "      <td>6</td>\n",
       "      <td>Negative</td>\n",
       "      <td>81.356676</td>\n",
       "    </tr>\n",
       "    <tr>\n",
       "      <th>13</th>\n",
       "      <td>6</td>\n",
       "      <td>Neutral</td>\n",
       "      <td>12.828568</td>\n",
       "    </tr>\n",
       "    <tr>\n",
       "      <th>14</th>\n",
       "      <td>6</td>\n",
       "      <td>Positive</td>\n",
       "      <td>5.814757</td>\n",
       "    </tr>\n",
       "    <tr>\n",
       "      <th>15</th>\n",
       "      <td>7</td>\n",
       "      <td>Negative</td>\n",
       "      <td>81.866224</td>\n",
       "    </tr>\n",
       "    <tr>\n",
       "      <th>16</th>\n",
       "      <td>7</td>\n",
       "      <td>Neutral</td>\n",
       "      <td>12.635833</td>\n",
       "    </tr>\n",
       "    <tr>\n",
       "      <th>17</th>\n",
       "      <td>7</td>\n",
       "      <td>Positive</td>\n",
       "      <td>5.497943</td>\n",
       "    </tr>\n",
       "    <tr>\n",
       "      <th>18</th>\n",
       "      <td>8</td>\n",
       "      <td>Negative</td>\n",
       "      <td>83.707534</td>\n",
       "    </tr>\n",
       "    <tr>\n",
       "      <th>19</th>\n",
       "      <td>8</td>\n",
       "      <td>Neutral</td>\n",
       "      <td>12.442110</td>\n",
       "    </tr>\n",
       "    <tr>\n",
       "      <th>20</th>\n",
       "      <td>8</td>\n",
       "      <td>Positive</td>\n",
       "      <td>3.850356</td>\n",
       "    </tr>\n",
       "    <tr>\n",
       "      <th>21</th>\n",
       "      <td>9</td>\n",
       "      <td>Negative</td>\n",
       "      <td>83.966862</td>\n",
       "    </tr>\n",
       "    <tr>\n",
       "      <th>22</th>\n",
       "      <td>9</td>\n",
       "      <td>Neutral</td>\n",
       "      <td>12.303157</td>\n",
       "    </tr>\n",
       "    <tr>\n",
       "      <th>23</th>\n",
       "      <td>9</td>\n",
       "      <td>Positive</td>\n",
       "      <td>3.729981</td>\n",
       "    </tr>\n",
       "    <tr>\n",
       "      <th>24</th>\n",
       "      <td>10</td>\n",
       "      <td>Negative</td>\n",
       "      <td>83.705908</td>\n",
       "    </tr>\n",
       "    <tr>\n",
       "      <th>25</th>\n",
       "      <td>10</td>\n",
       "      <td>Neutral</td>\n",
       "      <td>12.343167</td>\n",
       "    </tr>\n",
       "    <tr>\n",
       "      <th>26</th>\n",
       "      <td>10</td>\n",
       "      <td>Positive</td>\n",
       "      <td>3.950925</td>\n",
       "    </tr>\n",
       "    <tr>\n",
       "      <th>27</th>\n",
       "      <td>11</td>\n",
       "      <td>Negative</td>\n",
       "      <td>82.662708</td>\n",
       "    </tr>\n",
       "    <tr>\n",
       "      <th>28</th>\n",
       "      <td>11</td>\n",
       "      <td>Neutral</td>\n",
       "      <td>13.418417</td>\n",
       "    </tr>\n",
       "    <tr>\n",
       "      <th>29</th>\n",
       "      <td>11</td>\n",
       "      <td>Positive</td>\n",
       "      <td>3.918875</td>\n",
       "    </tr>\n",
       "  </tbody>\n",
       "</table>\n",
       "</div>"
      ],
      "text/plain": [
       "    month sentimentBERT  percentage\n",
       "0       1      Negative   85.733333\n",
       "1       1       Neutral   11.666667\n",
       "2       1      Positive    2.600000\n",
       "3       2      Negative   87.169518\n",
       "4       2       Neutral   10.419907\n",
       "5       2      Positive    2.410575\n",
       "6       3      Negative   82.642209\n",
       "7       3       Neutral   13.044406\n",
       "8       3      Positive    4.313385\n",
       "9       5      Negative   82.607117\n",
       "10      5       Neutral   12.742972\n",
       "11      5      Positive    4.649911\n",
       "12      6      Negative   81.356676\n",
       "13      6       Neutral   12.828568\n",
       "14      6      Positive    5.814757\n",
       "15      7      Negative   81.866224\n",
       "16      7       Neutral   12.635833\n",
       "17      7      Positive    5.497943\n",
       "18      8      Negative   83.707534\n",
       "19      8       Neutral   12.442110\n",
       "20      8      Positive    3.850356\n",
       "21      9      Negative   83.966862\n",
       "22      9       Neutral   12.303157\n",
       "23      9      Positive    3.729981\n",
       "24     10      Negative   83.705908\n",
       "25     10       Neutral   12.343167\n",
       "26     10      Positive    3.950925\n",
       "27     11      Negative   82.662708\n",
       "28     11       Neutral   13.418417\n",
       "29     11      Positive    3.918875"
      ]
     },
     "execution_count": 112,
     "metadata": {},
     "output_type": "execute_result"
    }
   ],
   "source": [
    "df_sent = pd.DataFrame(df.groupby(['month'])['sentimentBERT'].value_counts(normalize=True))*100\n",
    "df_sent.columns = ['percentage']\n",
    "df_sent = df_sent.reset_index()\n",
    "df_sent"
   ]
  },
  {
   "cell_type": "code",
   "execution_count": 113,
   "metadata": {
    "id": "8Ih3mvcA0VdL"
   },
   "outputs": [],
   "source": [
    "df['senti_neg'] = np.where(df.sentimentBERT == 'Negative', 1, 0)\n",
    "df['senti_pos'] = np.where(df.sentimentBERT == 'Positive', 1, 0)"
   ]
  },
  {
   "cell_type": "code",
   "execution_count": 114,
   "metadata": {
    "id": "ovNQwECO0VdM",
    "outputId": "04c33281-523e-4f9f-f468-af78ecde510a"
   },
   "outputs": [
    {
     "data": {
      "text/html": [
       "<div>\n",
       "<style scoped>\n",
       "    .dataframe tbody tr th:only-of-type {\n",
       "        vertical-align: middle;\n",
       "    }\n",
       "\n",
       "    .dataframe tbody tr th {\n",
       "        vertical-align: top;\n",
       "    }\n",
       "\n",
       "    .dataframe thead th {\n",
       "        text-align: right;\n",
       "    }\n",
       "</style>\n",
       "<table border=\"1\" class=\"dataframe\">\n",
       "  <thead>\n",
       "    <tr style=\"text-align: right;\">\n",
       "      <th></th>\n",
       "      <th>month</th>\n",
       "      <th>senti_neg</th>\n",
       "      <th>senti_pos</th>\n",
       "    </tr>\n",
       "  </thead>\n",
       "  <tbody>\n",
       "    <tr>\n",
       "      <th>0</th>\n",
       "      <td>1</td>\n",
       "      <td>0.857333</td>\n",
       "      <td>0.026000</td>\n",
       "    </tr>\n",
       "    <tr>\n",
       "      <th>1</th>\n",
       "      <td>2</td>\n",
       "      <td>0.871695</td>\n",
       "      <td>0.024106</td>\n",
       "    </tr>\n",
       "    <tr>\n",
       "      <th>2</th>\n",
       "      <td>3</td>\n",
       "      <td>0.826422</td>\n",
       "      <td>0.043134</td>\n",
       "    </tr>\n",
       "    <tr>\n",
       "      <th>3</th>\n",
       "      <td>5</td>\n",
       "      <td>0.826071</td>\n",
       "      <td>0.046499</td>\n",
       "    </tr>\n",
       "    <tr>\n",
       "      <th>4</th>\n",
       "      <td>6</td>\n",
       "      <td>0.813567</td>\n",
       "      <td>0.058148</td>\n",
       "    </tr>\n",
       "    <tr>\n",
       "      <th>5</th>\n",
       "      <td>7</td>\n",
       "      <td>0.818662</td>\n",
       "      <td>0.054979</td>\n",
       "    </tr>\n",
       "    <tr>\n",
       "      <th>6</th>\n",
       "      <td>8</td>\n",
       "      <td>0.837075</td>\n",
       "      <td>0.038504</td>\n",
       "    </tr>\n",
       "    <tr>\n",
       "      <th>7</th>\n",
       "      <td>9</td>\n",
       "      <td>0.839669</td>\n",
       "      <td>0.037300</td>\n",
       "    </tr>\n",
       "    <tr>\n",
       "      <th>8</th>\n",
       "      <td>10</td>\n",
       "      <td>0.837059</td>\n",
       "      <td>0.039509</td>\n",
       "    </tr>\n",
       "    <tr>\n",
       "      <th>9</th>\n",
       "      <td>11</td>\n",
       "      <td>0.826627</td>\n",
       "      <td>0.039189</td>\n",
       "    </tr>\n",
       "  </tbody>\n",
       "</table>\n",
       "</div>"
      ],
      "text/plain": [
       "   month  senti_neg  senti_pos\n",
       "0      1   0.857333   0.026000\n",
       "1      2   0.871695   0.024106\n",
       "2      3   0.826422   0.043134\n",
       "3      5   0.826071   0.046499\n",
       "4      6   0.813567   0.058148\n",
       "5      7   0.818662   0.054979\n",
       "6      8   0.837075   0.038504\n",
       "7      9   0.839669   0.037300\n",
       "8     10   0.837059   0.039509\n",
       "9     11   0.826627   0.039189"
      ]
     },
     "execution_count": 114,
     "metadata": {},
     "output_type": "execute_result"
    }
   ],
   "source": [
    "df.groupby(['month'], as_index=False)[['senti_neg', 'senti_pos']].mean()"
   ]
  },
  {
   "cell_type": "code",
   "execution_count": 115,
   "metadata": {
    "id": "a1o2fJrP0VdO"
   },
   "outputs": [
    {
     "name": "stdout",
     "output_type": "stream",
     "text": [
      "(2452868, 29)\n"
     ]
    }
   ],
   "source": [
    "from scipy.stats import pearsonr\n",
    "from sklearn import metrics\n",
    "\n",
    "df_n = df.dropna(subset=['month_resp_zla'], axis=0)\n",
    "print(df_n.shape)\n",
    "df_n['senti_neg'] = df_n['senti_neg'] * 100"
   ]
  },
  {
   "cell_type": "code",
   "execution_count": 116,
   "metadata": {},
   "outputs": [
    {
     "data": {
      "text/html": [
       "<div>\n",
       "<style scoped>\n",
       "    .dataframe tbody tr th:only-of-type {\n",
       "        vertical-align: middle;\n",
       "    }\n",
       "\n",
       "    .dataframe tbody tr th {\n",
       "        vertical-align: top;\n",
       "    }\n",
       "\n",
       "    .dataframe thead th {\n",
       "        text-align: right;\n",
       "    }\n",
       "</style>\n",
       "<table border=\"1\" class=\"dataframe\">\n",
       "  <thead>\n",
       "    <tr style=\"text-align: right;\">\n",
       "      <th></th>\n",
       "      <th>month</th>\n",
       "      <th>month_resp_zla</th>\n",
       "      <th>senti_neg</th>\n",
       "      <th>mae</th>\n",
       "    </tr>\n",
       "  </thead>\n",
       "  <tbody>\n",
       "    <tr>\n",
       "      <th>0</th>\n",
       "      <td>1</td>\n",
       "      <td>35.0</td>\n",
       "      <td>85.733333</td>\n",
       "      <td>50.733333</td>\n",
       "    </tr>\n",
       "    <tr>\n",
       "      <th>1</th>\n",
       "      <td>2</td>\n",
       "      <td>39.0</td>\n",
       "      <td>87.169518</td>\n",
       "      <td>48.169518</td>\n",
       "    </tr>\n",
       "    <tr>\n",
       "      <th>2</th>\n",
       "      <td>3</td>\n",
       "      <td>30.0</td>\n",
       "      <td>82.642209</td>\n",
       "      <td>52.642209</td>\n",
       "    </tr>\n",
       "    <tr>\n",
       "      <th>3</th>\n",
       "      <td>5</td>\n",
       "      <td>42.0</td>\n",
       "      <td>82.607117</td>\n",
       "      <td>40.607117</td>\n",
       "    </tr>\n",
       "    <tr>\n",
       "      <th>4</th>\n",
       "      <td>6</td>\n",
       "      <td>42.5</td>\n",
       "      <td>81.356676</td>\n",
       "      <td>38.856676</td>\n",
       "    </tr>\n",
       "    <tr>\n",
       "      <th>5</th>\n",
       "      <td>7</td>\n",
       "      <td>40.0</td>\n",
       "      <td>81.866224</td>\n",
       "      <td>41.866224</td>\n",
       "    </tr>\n",
       "    <tr>\n",
       "      <th>6</th>\n",
       "      <td>8</td>\n",
       "      <td>36.0</td>\n",
       "      <td>83.707534</td>\n",
       "      <td>47.707534</td>\n",
       "    </tr>\n",
       "    <tr>\n",
       "      <th>7</th>\n",
       "      <td>9</td>\n",
       "      <td>41.0</td>\n",
       "      <td>83.966862</td>\n",
       "      <td>42.966862</td>\n",
       "    </tr>\n",
       "    <tr>\n",
       "      <th>8</th>\n",
       "      <td>10</td>\n",
       "      <td>39.0</td>\n",
       "      <td>83.705908</td>\n",
       "      <td>44.705908</td>\n",
       "    </tr>\n",
       "    <tr>\n",
       "      <th>9</th>\n",
       "      <td>11</td>\n",
       "      <td>45.0</td>\n",
       "      <td>82.662708</td>\n",
       "      <td>37.662708</td>\n",
       "    </tr>\n",
       "  </tbody>\n",
       "</table>\n",
       "</div>"
      ],
      "text/plain": [
       "   month  month_resp_zla  senti_neg        mae\n",
       "0      1            35.0  85.733333  50.733333\n",
       "1      2            39.0  87.169518  48.169518\n",
       "2      3            30.0  82.642209  52.642209\n",
       "3      5            42.0  82.607117  40.607117\n",
       "4      6            42.5  81.356676  38.856676\n",
       "5      7            40.0  81.866224  41.866224\n",
       "6      8            36.0  83.707534  47.707534\n",
       "7      9            41.0  83.966862  42.966862\n",
       "8     10            39.0  83.705908  44.705908\n",
       "9     11            45.0  82.662708  37.662708"
      ]
     },
     "execution_count": 116,
     "metadata": {},
     "output_type": "execute_result"
    }
   ],
   "source": [
    "df_mae = df_n.groupby(['month'], as_index=False)[['month_resp_zla', 'senti_neg']].mean()\n",
    "df_mae['mae'] = np.abs(df_mae['month_resp_zla'] - df_mae['senti_neg'])\n",
    "df_mae"
   ]
  },
  {
   "cell_type": "code",
   "execution_count": 117,
   "metadata": {},
   "outputs": [
    {
     "data": {
      "image/png": "[encoded data removed]",
      "text/plain": [
       "<Figure size 720x432 with 1 Axes>"
      ]
     },
     "metadata": {},
     "output_type": "display_data"
    }
   ],
   "source": [
    "mon = df_mae.iloc[:, 0].values\n",
    "one = df_mae.iloc[:, 1].values\n",
    "two = df_mae.iloc[:, 2].values\n",
    "mae_n = df_mae.iloc[:, 3].values\n",
    "\n",
    "sns.set_theme(style=\"whitegrid\")\n",
    "plt.style.use(\"seaborn-talk\")\n",
    "sns.set(font_scale=1.6, style='whitegrid')\n",
    "\n",
    "plt.figure(figsize = (10,6))\n",
    "ax = sns.lineplot(x = mon, y = two, color='black', linewidth = 3, label='sentiment BERT')\n",
    "ax.bar(mon, one, color='red', label = 'survey')\n",
    "ax.plot(mon, mae_n, color='blue', label = 'MAE', linestyle = '--', linewidth = 3)\n",
    "\n",
    "plt.xlabel('month')\n",
    "plt.xticks(np.arange(1, 12, 1))\n",
    "plt.ylabel('percent (%)')\n",
    "plt.title('\\n')\n",
    "#plt.legend(loc= 4)\n",
    "ax.legend(loc='upper center', bbox_to_anchor=(0.5, 1.15), ncol=3, fancybox=True, shadow=True)\n",
    "\n",
    "plt.savefig(f\"fig{fig_num}.png\")\n",
    "plt.show()\n",
    "fig_num += 1\n",
    "\n",
    "plt.show()"
   ]
  },
  {
   "cell_type": "code",
   "execution_count": 118,
   "metadata": {},
   "outputs": [
    {
     "name": "stdout",
     "output_type": "stream",
     "text": [
      "(2452868, 29)\n"
     ]
    }
   ],
   "source": [
    "df_p = df.dropna(subset=['month_resp_dob'], axis=0)\n",
    "print(df_p.shape)\n",
    "df_p['senti_pos'] = df_p['senti_pos'] * 100"
   ]
  },
  {
   "cell_type": "code",
   "execution_count": 119,
   "metadata": {},
   "outputs": [
    {
     "data": {
      "text/html": [
       "<div>\n",
       "<style scoped>\n",
       "    .dataframe tbody tr th:only-of-type {\n",
       "        vertical-align: middle;\n",
       "    }\n",
       "\n",
       "    .dataframe tbody tr th {\n",
       "        vertical-align: top;\n",
       "    }\n",
       "\n",
       "    .dataframe thead th {\n",
       "        text-align: right;\n",
       "    }\n",
       "</style>\n",
       "<table border=\"1\" class=\"dataframe\">\n",
       "  <thead>\n",
       "    <tr style=\"text-align: right;\">\n",
       "      <th></th>\n",
       "      <th>month</th>\n",
       "      <th>month_resp_dob</th>\n",
       "      <th>senti_pos</th>\n",
       "      <th>mae</th>\n",
       "    </tr>\n",
       "  </thead>\n",
       "  <tbody>\n",
       "    <tr>\n",
       "      <th>0</th>\n",
       "      <td>1</td>\n",
       "      <td>24.0</td>\n",
       "      <td>2.600000</td>\n",
       "      <td>21.400000</td>\n",
       "    </tr>\n",
       "    <tr>\n",
       "      <th>1</th>\n",
       "      <td>2</td>\n",
       "      <td>25.0</td>\n",
       "      <td>2.410575</td>\n",
       "      <td>22.589425</td>\n",
       "    </tr>\n",
       "    <tr>\n",
       "      <th>2</th>\n",
       "      <td>3</td>\n",
       "      <td>30.0</td>\n",
       "      <td>4.313385</td>\n",
       "      <td>25.686615</td>\n",
       "    </tr>\n",
       "    <tr>\n",
       "      <th>3</th>\n",
       "      <td>5</td>\n",
       "      <td>22.0</td>\n",
       "      <td>4.649911</td>\n",
       "      <td>17.350089</td>\n",
       "    </tr>\n",
       "    <tr>\n",
       "      <th>4</th>\n",
       "      <td>6</td>\n",
       "      <td>24.0</td>\n",
       "      <td>5.814757</td>\n",
       "      <td>18.185243</td>\n",
       "    </tr>\n",
       "    <tr>\n",
       "      <th>5</th>\n",
       "      <td>7</td>\n",
       "      <td>27.0</td>\n",
       "      <td>5.497943</td>\n",
       "      <td>21.502057</td>\n",
       "    </tr>\n",
       "    <tr>\n",
       "      <th>6</th>\n",
       "      <td>8</td>\n",
       "      <td>26.0</td>\n",
       "      <td>3.850356</td>\n",
       "      <td>22.149644</td>\n",
       "    </tr>\n",
       "    <tr>\n",
       "      <th>7</th>\n",
       "      <td>9</td>\n",
       "      <td>22.0</td>\n",
       "      <td>3.729981</td>\n",
       "      <td>18.270019</td>\n",
       "    </tr>\n",
       "    <tr>\n",
       "      <th>8</th>\n",
       "      <td>10</td>\n",
       "      <td>25.0</td>\n",
       "      <td>3.950925</td>\n",
       "      <td>21.049075</td>\n",
       "    </tr>\n",
       "    <tr>\n",
       "      <th>9</th>\n",
       "      <td>11</td>\n",
       "      <td>14.0</td>\n",
       "      <td>3.918875</td>\n",
       "      <td>10.081125</td>\n",
       "    </tr>\n",
       "  </tbody>\n",
       "</table>\n",
       "</div>"
      ],
      "text/plain": [
       "   month  month_resp_dob  senti_pos        mae\n",
       "0      1            24.0   2.600000  21.400000\n",
       "1      2            25.0   2.410575  22.589425\n",
       "2      3            30.0   4.313385  25.686615\n",
       "3      5            22.0   4.649911  17.350089\n",
       "4      6            24.0   5.814757  18.185243\n",
       "5      7            27.0   5.497943  21.502057\n",
       "6      8            26.0   3.850356  22.149644\n",
       "7      9            22.0   3.729981  18.270019\n",
       "8     10            25.0   3.950925  21.049075\n",
       "9     11            14.0   3.918875  10.081125"
      ]
     },
     "execution_count": 119,
     "metadata": {},
     "output_type": "execute_result"
    }
   ],
   "source": [
    "df_mae = df_p.groupby(['month'], as_index=False)[['month_resp_dob', 'senti_pos']].mean()\n",
    "df_mae['mae'] = np.abs(df_mae['month_resp_dob'] - df_mae['senti_pos'])\n",
    "df_mae"
   ]
  },
  {
   "cell_type": "code",
   "execution_count": 120,
   "metadata": {
    "id": "22h7CJRH0VdF"
   },
   "outputs": [
    {
     "data": {
      "image/png": "[encoded data removed]",
      "text/plain": [
       "<Figure size 720x432 with 1 Axes>"
      ]
     },
     "metadata": {},
     "output_type": "display_data"
    }
   ],
   "source": [
    "# full\n",
    "\n",
    "mon = df_mae.iloc[:, 0].values\n",
    "one = df_mae.iloc[:, 1].values\n",
    "two = df_mae.iloc[:, 2].values\n",
    "mae_n = df_mae.iloc[:, 3].values\n",
    "\n",
    "sns.set_theme(style=\"whitegrid\")\n",
    "plt.style.use(\"seaborn-talk\")\n",
    "sns.set(font_scale=1.6, style='whitegrid')\n",
    "plt.figure(figsize = (10,6))\n",
    "\n",
    "ax = sns.lineplot(x = mon, y = two, color='black', linewidth = 3, label='sentiment BERT')\n",
    "ax.bar(mon, one, color='g', label = 'survey')\n",
    "ax.plot(mon, mae_n, color='blue', label = 'MAE', linestyle = '--', linewidth = 3)\n",
    "\n",
    "plt.xlabel('month')\n",
    "plt.xticks(np.arange(1, 12, 1))\n",
    "plt.ylabel('percent (%)')\n",
    "plt.title('\\n')\n",
    "#plt.legend(loc= 4)\n",
    "ax.legend(loc='upper center', bbox_to_anchor=(0.5, 1.15), ncol=3, fancybox=True, shadow=True)\n",
    "\n",
    "plt.savefig(f\"fig{fig_num}.png\")\n",
    "plt.show()\n",
    "fig_num += 1\n",
    "\n",
    "plt.show()"
   ]
  }
 ],
 "metadata": {
  "colab": {
   "collapsed_sections": [
    "WCYAcUwB0_cp",
    "_KKkZQFzY7k3"
   ],
   "provenance": [],
   "toc_visible": true
  },
  "kernelspec": {
   "display_name": "Python 3 (ipykernel)",
   "language": "python",
   "name": "python3"
  },
  "language_info": {
   "codemirror_mode": {
    "name": "ipython",
    "version": 3
   },
   "file_extension": ".py",
   "mimetype": "text/x-python",
   "name": "python",
   "nbconvert_exporter": "python",
   "pygments_lexer": "ipython3",
   "version": "3.10.5"
  }
 },
 "nbformat": 4,
 "nbformat_minor": 1
}
